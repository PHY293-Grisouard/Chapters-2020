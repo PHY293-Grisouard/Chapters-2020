{
 "cells": [
  {
   "cell_type": "raw",
   "metadata": {
    "raw_mimetype": "text/latex",
    "scrolled": true,
    "slideshow": {
     "slide_type": "skip"
    }
   },
   "source": [
    "\\newcommand{\\rads}{~rad.s$^{-1}$}\n",
    "\\newcommand{\\bnabla}{\\boldsymbol{\\nabla}}\n",
    "\\newcommand{\\eexp}[1]{\\textrm{e}^{#1}}\n",
    "\\newcommand{\\glm}[1]{\\overline{#1}^L}\n",
    "\\newcommand{\\di}[0]{\\textrm{d}}\n",
    "\\newcommand{\\bs}[1]{\\boldsymbol{#1}}\n",
    "\\newcommand{\\ode}[2]{\\frac{\\di {#1}}{\\di {#2}}}\n",
    "\\newcommand{\\oden}[3]{\\frac{\\di^{#1} {#2}}{\\di {#3}^{#1}}}\n",
    "\\newcommand{\\odel}[2]{\\di {#1}/\\di {#2}}\n",
    "\\newcommand{\\odeln}[3]{\\di^{#1} {#2}/\\di {#3}^{#1}}\n",
    "\\newcommand{\\pde}[2]{\\frac{\\partial {#1}}{\\partial {#2}}}\n",
    "\\newcommand{\\pden}[3]{\\frac{\\partial^{#1} {#2}}{\\partial {#3}^{#1}}}\n",
    "\\newcommand{\\pdel}[2]{\\partial_{#2} {#1}}\n",
    "\\newcommand{\\pdenl}[3]{\\partial^{#1}_{#3} {#2}}\n",
    "\\newcommand{\\divr}[1]{\\vec\\nabla \\cdot {#1}}\n",
    "\\newcommand{\\divrb}[1]{\\boldsymbol{\\nabla} \\cdot {#1}}\n",
    "\\newcommand{\\grad}[1]{\\vec \\nabla {#1}}\n",
    "\\newcommand{\\gradb}[1]{\\boldsymbol\\nabla {#1}}\n",
    "\\newcommand{\\curl}[1]{\\vec\\nabla \\times {#1}}\n",
    "\\newcommand{\\curlb}[1]{\\boldsymbol{\\nabla}\\times\\boldsymbol{#1}}\n",
    "\\newcommand{\\lapl}[0]{\\vec\\nabla^2}\n",
    "\\newcommand{\\laplb}[0]{\\boldsymbol{\\nabla}^2}\n",
    "\\newcommand{\\cplxi}[0]{\\mathrm i}\n",
    "\\newcommand{\\unit}[1]{\\mathbf{\\hat{#1}}}\n",
    "\\newcommand{\\thrfor}[0]{\\quad\\Rightarrow\\quad}\n",
    "\\newcommand{\\and}[0]{\\quad\\textrm{and}\\quad}\n",
    "\\newcommand{\\for}[0]{\\quad\\textrm{for}\\quad}\n",
    "\\newcommand{\\oreq}[0]{\\quad\\textrm{or}\\quad}\n",
    "\\newcommand{\\with}[0]{\\quad\\textrm{with}\\quad}\n",
    "\\newcommand{\\red}[1]{\\textcolor{red}{#1}}\n",
    "\\newcommand{\\blue}[1]{\\textcolor{blue}{#1}}\n",
    "\\newcommand{\\mage}[1]{\\textcolor{magenta}{#1}}\n",
    "\\newcommand{\\stirling}[2]{\\genfrac{[}{]}{0pt}{}{#1}{#2}}"
   ]
  },
  {
   "cell_type": "raw",
   "metadata": {
    "raw_mimetype": "text/latex",
    "slideshow": {
     "slide_type": "skip"
    }
   },
   "source": [
    "\\DefineVerbatimEnvironment{Verbatim}{Verbatim}{fontsize=\\scriptsize}"
   ]
  },
  {
   "cell_type": "markdown",
   "metadata": {
    "slideshow": {
     "slide_type": "skip"
    }
   },
   "source": [
    "$\\newcommand{\\rads}{~rad.s$^{-1}$}$\n",
    "$\\newcommand{\\bnabla}{\\boldsymbol{\\nabla}}$\n",
    "$\\newcommand{\\eexp}[1]{\\textrm{e}^{#1}}$\n",
    "$\\newcommand{\\glm}[1]{\\overline{#1}^L}$\n",
    "$\\newcommand{\\di}[0]{\\textrm{d}}$\n",
    "$\\newcommand{\\bs}[1]{\\boldsymbol{#1}}$\n",
    "$\\newcommand{\\ode}[2]{\\frac{\\di {#1}}{\\di {#2}}}$\n",
    "$\\newcommand{\\oden}[3]{\\frac{\\di^{#1} {#2}}{\\di {#3}^{#1}}}$\n",
    "$\\newcommand{\\odel}[2]{\\di {#1}/\\di {#2}}$\n",
    "$\\newcommand{\\odeln}[3]{\\di^{#1} {#2}/\\di {#3}^{#1}}$\n",
    "$\\newcommand{\\pde}[2]{\\frac{\\partial {#1}}{\\partial {#2}}}$\n",
    "$\\newcommand{\\pden}[3]{\\frac{\\partial^{#1} {#2}}{\\partial {#3}^{#1}}}$\n",
    "$\\newcommand{\\pdel}[2]{\\partial_{#2} {#1}}$\n",
    "$\\newcommand{\\pdenl}[3]{\\partial^{#1}_{#3} {#2}}$\n",
    "$\\newcommand{\\mde}[1]{\\frac{\\textrm{D} {#1}}{\\textrm{D} t}}$\n",
    "$\\newcommand{\\mdel}[1]{\\textrm{D}_t {#1}}$\n",
    "$\\newcommand{\\divr}[1]{\\vec\\nabla \\cdot {#1}}$\n",
    "$\\newcommand{\\divrb}[1]{\\boldsymbol{\\nabla} \\cdot {#1}}$\n",
    "$\\newcommand{\\grad}[1]{\\vec \\nabla {#1}}$\n",
    "$\\newcommand{\\gradb}[1]{\\boldsymbol\\nabla {#1}}$\n",
    "$\\newcommand{\\curl}[1]{\\vec\\nabla \\times {#1}}$\n",
    "$\\newcommand{\\curlb}[1]{\\boldsymbol{\\nabla}\\times\\boldsymbol{#1}}$\n",
    "$\\newcommand{\\lapl}[0]{\\vec\\nabla^2}$\n",
    "$\\newcommand{\\laplb}[0]{\\boldsymbol{\\nabla}^2}$\n",
    "$\\newcommand{\\cplxi}[0]{\\mathrm i}$\n",
    "$\\newcommand{\\unit}[1]{\\mathbf{\\hat{#1}}}$\n",
    "$\\newcommand{\\thrfor}[0]{\\quad\\Rightarrow\\quad}$\n",
    "$\\newcommand{\\and}[0]{\\quad\\textrm{and}\\quad}$\n",
    "$\\newcommand{\\for}[0]{\\quad\\textrm{for}\\quad}$\n",
    "$\\newcommand{\\oreq}[0]{\\quad\\textrm{or}\\quad}$\n",
    "$\\newcommand{\\with}[0]{\\quad\\textrm{with}\\quad}$\n",
    "$\\newcommand{\\red}[1]{\\textcolor{red}{#1}}$\n",
    "$\\newcommand{\\blue}[1]{\\textcolor{blue}{#1}}$\n",
    "$\\newcommand{\\mage}[1]{\\textcolor{magenta}{#1}}$\n",
    "$\\newcommand{\\stirling}[2]{\\genfrac{[}{]}{0pt}{}{#1}{#2}}$"
   ]
  },
  {
   "cell_type": "markdown",
   "metadata": {
    "slideshow": {
     "slide_type": "skip"
    }
   },
   "source": [
    "*[King §8]*"
   ]
  },
  {
   "cell_type": "markdown",
   "metadata": {
    "slideshow": {
     "slide_type": "skip"
    }
   },
   "source": [
    "# Introduction"
   ]
  },
  {
   "cell_type": "markdown",
   "metadata": {
    "slideshow": {
     "slide_type": "skip"
    }
   },
   "source": [
    "In the previous two chapters on standing and travelling waves, we only considered cases, for which the phase speed $v$ does not depend on angular frequency $\\omega$ or wavenumber $k$, because the ratio $\\omega/k$ was always constant.\n",
    "In general however, the phase speed depends on the frequency.\n",
    "This has several implications, in particular when several wave modes are superposed."
   ]
  },
  {
   "cell_type": "markdown",
   "metadata": {
    "slideshow": {
     "slide_type": "skip"
    }
   },
   "source": [
    "Take the propagating bumps we used in the last chapter.\n",
    "They were bouncing around on the string, and if the string had been infinitely long, they would have propagated for ever without changing shape.\n",
    "Somehow, the interference pattern between all the wave modes that resulted in the bumps remained stable, all modes being able to \"keep up\" with the propagation of the bumps."
   ]
  },
  {
   "cell_type": "markdown",
   "metadata": {
    "slideshow": {
     "slide_type": "skip"
    }
   },
   "source": [
    "Now, if the string had been infinitely long, but all modes had a different phase speed, then after a while, the bumps would change shape.\n",
    "They would break down, the fastest propagating modes leading the charge, and the slowest propagating modes trailing behind, increasingly so as time would go on."
   ]
  },
  {
   "cell_type": "markdown",
   "metadata": {
    "slideshow": {
     "slide_type": "skip"
    }
   },
   "source": [
    "This phenomenon is called **dispersion**.\n",
    "The proper way to refer to it is to refer to *waves propagating in a dispersive medium*, although I may refer to *dispersive waves* to keep things short.\n",
    "Some waves are virtually immune to it.\n",
    "Examples are acoustic waves propagating in air (but propagation in other media can induce significant dispersion), surface water waves whose wavelengths are much longer than the ocean is deep, such as swell or tsunami, the waves on a taut string, and EM waves propagating in perfect vacuum.\n",
    "These are merely results of approximations however, and the examples below are results for which the approximations hold very well.\n",
    "In general, waves are subject to dispersion."
   ]
  },
  {
   "cell_type": "markdown",
   "metadata": {
    "slideshow": {
     "slide_type": "skip"
    }
   },
   "source": [
    "In particular, one of the most fundamental properties of waves in dispersive media is that energy and phase do not propagate at the same speed anymore.\n",
    "In some cases, this leads to the definition of a so-called **group speed**, distinct from the phase speed, and which corresponds to the speed of propagation of the energy."
   ]
  },
  {
   "cell_type": "markdown",
   "metadata": {
    "slideshow": {
     "slide_type": "skip"
    }
   },
   "source": [
    "Finally, there are ways to bunch dispersive waves together into what is called a wave packet: a coherent wave structure, stable enough that it can keep its shape for long distances.\n",
    "We will study this phenomenon last, for it will be useful in the rest of PHY293-4."
   ]
  },
  {
   "cell_type": "markdown",
   "metadata": {
    "slideshow": {
     "slide_type": "skip"
    }
   },
   "source": [
    "Before diving into it, I need to remind you of a term of vocabulary: the **monochromatic, homogeneous wave** (MHW).\n",
    "In the 1D context, which we focus on in this lecture series, an MHW is simply a sinusoidal propagating wave.\n",
    "$$\\boxed{\\textrm{MHW:}\\qquad y(x, t) = A\\sin(\\omega t \\pm kx)}.$$\n",
    "It is monochromatic because there is only one frequency, and it is homogeneous (in space) because the amplitude $A$ does not depend on position.\n",
    "MHW will be important because they are \"building blocks\" of any solution in an infinitely long medium.\n",
    "They are like modes on a bounded string, but without boundary conditions (infinite medium), the possible $k$'s and $\\omega$'s exist on a continuum, rather than on a discrete set."
   ]
  },
  {
   "cell_type": "markdown",
   "metadata": {
    "slideshow": {
     "slide_type": "skip"
    }
   },
   "source": [
    "# Expectations"
   ]
  },
  {
   "cell_type": "markdown",
   "metadata": {
    "slideshow": {
     "slide_type": "skip"
    }
   },
   "source": [
    "## Remember\n",
    "\n",
    "* The meaning and definition of the phase speed when multiple wave superpose.\n",
    "* The meaning and definition of the group speed.\n",
    "* That phase and group speeds are the same in a non-dispersive medium.\n",
    "* The interpretation that when it can be defined, the group speed is the speed of propagation of the energy.\n",
    "* The conditions, under which we may talk about a wave packet ($\\Delta k \\ll k_0$).\n",
    "* A \"smooth\" distribution of amplitudes as a function of wavenumbers leads to wave packets whose envelopes are \"smooth\" as well, i.e., well-isolated wave packets.\n",
    "* The Bandwidth Theorem."
   ]
  },
  {
   "cell_type": "markdown",
   "metadata": {
    "slideshow": {
     "slide_type": "skip"
    }
   },
   "source": [
    "## Understand\n",
    "\n",
    "* How adding multiple waves such that $\\Delta k \\ll k_0$ leads to the formation of a wave packet.\n",
    "* The Bandwidth Theorem. Yes, you have to remember it, *and* understand it.\n"
   ]
  },
  {
   "cell_type": "markdown",
   "metadata": {
    "slideshow": {
     "slide_type": "skip"
    }
   },
   "source": [
    "## Apply\n",
    "\n",
    "* Use dispersion relations to deduce physical characteristics of waves.\n",
    "\n",
    "... and make sure you can do worked examples, tutorials and problem sets."
   ]
  },
  {
   "cell_type": "markdown",
   "metadata": {
    "slideshow": {
     "slide_type": "slide"
    }
   },
   "source": [
    "# Back to Beating in Non-Dispersive Media"
   ]
  },
  {
   "cell_type": "markdown",
   "metadata": {
    "slideshow": {
     "slide_type": "skip"
    }
   },
   "source": [
    "In chapter 4, we mentioned beating for two modes, oscillating in time only, which I briefly recall here.\n",
    "True beating happens when the amplitudes of the modes are equal to one another.\n",
    "In this case, the position of mass $A$ is\n",
    "$$x_A = \\frac12(q_1(t) + q_2(t)) = \\frac12 C \\left(\\cos(\\omega_1 t) + \\cos(\\omega_2 t)\\right) = C\\cos(\\omega_0 t)\\cos[(\\Delta\\omega) t],$$\n",
    "with $\\Delta\\omega = (\\omega_2 - \\omega_1)/2$ and $\\omega_0 = (\\omega_1 + \\omega_2)/2$.\n",
    "Beating is most spectacular when $\\Delta\\omega \\ll \\omega_1$, in which case\n",
    "$$x_A \\approx C\\cos(\\omega_1 t)\\cos(\\Delta\\omega t).$$\n",
    "(See figs. 1 & 2; for those of you who use the Jupyter notebook, I also refer you back to the interactive tool I sat up in the \"Beating Phenomenon\" section of Chapter 4, where you could change the frequency separation of the modes to explore transitions from simple superposition to beating)."
   ]
  },
  {
   "cell_type": "markdown",
   "metadata": {
    "slideshow": {
     "slide_type": "subslide"
    }
   },
   "source": [
    "![Fig. 1](BeatingIndividual.png)\n",
    "![Fig. 2](Beating.png)"
   ]
  },
  {
   "cell_type": "markdown",
   "metadata": {
    "slideshow": {
     "slide_type": "skip"
    }
   },
   "source": [
    "If now waves oscillate in time *and* space, beating happens again, but as a time-dependent process.\n",
    "Let our two propagating waves of equal amplitudes be\n",
    "$$\\psi_1 = A \\cos(k_1 x - \\omega_1 t)\\and \\psi_2 = A \\cos(k_2 x - \\omega_2 t).$$\n",
    "For now, we restrict our analysis to a non-dispersive medium, i.e., $\\omega_1/k_1 = \\omega_2/k_2 = v$ (the phase speed does not depend on frequency)."
   ]
  },
  {
   "cell_type": "markdown",
   "metadata": {
    "slideshow": {
     "slide_type": "skip"
    }
   },
   "source": [
    "The superposition of the two waves yields\n",
    "\\begin{align*}\n",
    "    \\psi = \\psi_1 + \\psi_2 & = A\\left\\{\\cos(k_1 x - \\omega_1 t) + \\cos(k_2 x - \\omega_2 t)\\right\\} \\\\\n",
    "                           & = 2A\\left\\{\\cos[(\\Delta k) x - (\\Delta\\omega) t] \\cos\\left[k_0 x - \\omega_0 t \\right]\\right\\}, \\\\\n",
    "\\end{align*}\n",
    "with $\\Delta k = (k_2 - k_1)/2$ and $\\Delta \\omega = (\\omega_2 - \\omega_1)/2$ the half-separations between wavenumbers and frequencies, respectively, and\n",
    "$$\\omega_0 = \\omega_1 + \\Delta \\omega = \\frac{\\omega_1 + \\omega_2}2 \\and k_0 = k_1 + \\Delta k = \\frac{k_1 + k_2}2,$$\n",
    "the average values of $\\omega$ and $k$."
   ]
  },
  {
   "cell_type": "markdown",
   "metadata": {
    "slideshow": {
     "slide_type": "skip"
    }
   },
   "source": [
    "Again, beating is most spectacular when $\\omega_1 \\approx \\omega_2$, or $\\Delta\\omega \\ll \\omega_1$, in which case the time intervals during which the two waves beat in phase to produce a strong signal are long.\n",
    "See display below for the wave along $x$, animated over time (saved under `BeatingNonDisp.mp4`)."
   ]
  },
  {
   "cell_type": "code",
   "execution_count": null,
   "metadata": {
    "slideshow": {
     "slide_type": "skip"
    }
   },
   "outputs": [],
   "source": [
    "import numpy as np\n",
    "import matplotlib.pyplot as plt"
   ]
  },
  {
   "cell_type": "code",
   "execution_count": null,
   "metadata": {
    "slideshow": {
     "slide_type": "skip"
    }
   },
   "outputs": [],
   "source": [
    "# the following two packages allow me to display the animation\n",
    "from matplotlib import animation\n",
    "from IPython.display import HTML\n",
    "# More about animations: \n",
    "# https://stackoverflow.com/questions/43445103/inline-animations-in-jupyter\n",
    "# http://louistiao.me/posts/notebooks/embedding-matplotlib-animations-in-jupyter-notebooks/"
   ]
  },
  {
   "cell_type": "code",
   "execution_count": null,
   "metadata": {
    "slideshow": {
     "slide_type": "skip"
    }
   },
   "outputs": [],
   "source": [
    "# basic quantities\n",
    "omega1 = 2*np.pi*265  # 265 Hz is the frequency of our turning fork\n",
    "omega2 = 2*np.pi*285  # 265 Hz is the frequency of our turning fork\n",
    "v = 340.  # 340 m/s is the approximate speed of sound in air\n",
    "ftsz = 13  # font size on plots\n",
    "A = 1.  # Why not?\n",
    "nBeats = 4.  # duration, long enough to hear nBeat beats \n",
    "nBeats_x = 1.5  # distance, long enough to see nBeat_x beats\n",
    "\n",
    "# derived quantities\n",
    "k1 = omega1/v\n",
    "k2 = omega2/v\n",
    "\n",
    "Domega = 0.5*(omega2 - omega1)\n",
    "Dk = 0.5*(k2 - k1)\n",
    "\n",
    "t_end = nBeats*np.pi/Domega\n",
    "x_end = nBeats_x*np.pi/Dk\n",
    "\n",
    "time = np.linspace(0., t_end, 2**10)\n",
    "# x = np.linspace(0., x_end, 512)"
   ]
  },
  {
   "cell_type": "code",
   "execution_count": null,
   "metadata": {
    "scrolled": false,
    "slideshow": {
     "slide_type": "skip"
    }
   },
   "outputs": [],
   "source": [
    "x = np.linspace(0., x_end, 512)\n",
    "plotcols = [\"blue\", \"green\", \"blue\", \"green\", \"red\", \"red\", \"red\"]\n",
    "\n",
    "fig = plt.figure(figsize=(7, 6))\n",
    "ax = plt.axes(xlim=(0., x_end), ylim=(-2.2, 9.7))\n",
    "ax.set_xlabel('$x$ [m]')\n",
    "ax.set_yticks([0., 3.5, 6., 8.5])\n",
    "ax.set_yticklabels([r'$\\psi_1 + \\psi_2$',\n",
    "                    r'$\\psi_1$, $\\psi_2$',\n",
    "                    r'$\\psi_2(x, t)$', r'$\\psi_1(x,t)$'],\n",
    "                   fontsize=ftsz)\n",
    "ax.grid()\n",
    "\n",
    "list_of_lines = []\n",
    "for index, _ in enumerate(plotcols):\n",
    "    if index < 5:\n",
    "        lobj = ax.plot([], [], lw=1, color=plotcols[index])[0]\n",
    "    else:\n",
    "        lobj = ax.plot([], [], lw=1, color=plotcols[index], linestyle=':')[0]\n",
    "    list_of_lines.append(lobj)\n",
    "\n",
    "def init():\n",
    "    for line in list_of_lines:\n",
    "        line.set_data([], [])\n",
    "    return list_of_lines\n",
    "\n",
    "def animate(i):\n",
    "    psi1 = A*np.cos(k1*x - omega1*time[i])\n",
    "    psi2 = A*np.cos(k2*x - omega2*time[i])\n",
    "    psi = psi1 + psi2\n",
    "    envelope = 2*A*np.cos(Dk*x - Domega*time[i])\n",
    "    list_of_lines[0].set_data(x, psi1+8.5)\n",
    "    list_of_lines[1].set_data(x, psi2+6.)\n",
    "    list_of_lines[2].set_data(x, psi1+3.5)\n",
    "    list_of_lines[3].set_data(x, psi2+3.5)\n",
    "    list_of_lines[4].set_data(x, psi)\n",
    "    list_of_lines[5].set_data(x, envelope)\n",
    "    list_of_lines[6].set_data(x, -envelope)\n",
    "    return list_of_lines\n",
    "\n",
    "ani = animation.FuncAnimation(fig, animate, init_func=init,\n",
    "                              frames=len(time), interval=80, blit=True)\n",
    "plt.tight_layout()\n",
    "plt.close()"
   ]
  },
  {
   "cell_type": "code",
   "execution_count": null,
   "metadata": {
    "slideshow": {
     "slide_type": "subslide"
    }
   },
   "outputs": [],
   "source": [
    "# Show the animation\n",
    "HTML(ani.to_html5_video())"
   ]
  },
  {
   "cell_type": "code",
   "execution_count": null,
   "metadata": {
    "slideshow": {
     "slide_type": "skip"
    }
   },
   "outputs": [],
   "source": [
    "# Save the animation\n",
    "ani.save('BeatingNonDisp.mp4', dpi=100)"
   ]
  },
  {
   "cell_type": "markdown",
   "metadata": {
    "slideshow": {
     "slide_type": "skip"
    }
   },
   "source": [
    "For example, when two tuning forks that are a tiny bit out of tune are struck together, they will produce beats, as heard during the lecture demo.\n",
    "This is also used to transmit AM radio signals, as I alluded to a while ago, and as is explained in the textbook (§8.1.2)."
   ]
  },
  {
   "cell_type": "markdown",
   "metadata": {
    "slideshow": {
     "slide_type": "slide"
    }
   },
   "source": [
    "# Dispersion of Waves"
   ]
  },
  {
   "cell_type": "markdown",
   "metadata": {
    "slideshow": {
     "slide_type": "skip"
    }
   },
   "source": [
    "## Phase Speed, Group Speed"
   ]
  },
  {
   "cell_type": "markdown",
   "metadata": {
    "slideshow": {
     "slide_type": "skip"
    }
   },
   "source": [
    "What if now the phase speed $v$ depended on the frequency or wavenumber of the wave?\n",
    "A medium in which such a phenomenon happens is called **dispersive**, and it is in fact the most general case.\n",
    "In this case, $$\\frac{\\omega}k = v(\\omega)\\oreq v(k),$$\n",
    "and the general relation between $\\omega$ and $k$,\n",
    "$$\\omega = v(k)k,$$\n",
    "is called a **dispersion relation**, and it is a property of the physical characteristics of the medium."
   ]
  },
  {
   "cell_type": "markdown",
   "metadata": {
    "slideshow": {
     "slide_type": "skip"
    }
   },
   "source": [
    "In this section, I do not have to assume that $\\Delta \\omega \\ll \\omega_1$. Let me reboot the previous derivation about beating, this time with\n",
    "$$\\psi_1 = A \\cos(k_1 x - \\omega_1 t)\\and \\psi_2 = A \\cos(k_2 x - \\omega_2 t).$$\n",
    "I will drop the assumption that $v$ is constant later on.\n",
    "We had found that\n",
    "$$\\psi = \\psi_1 + \\psi_2 = 2A\\cos[(\\Delta k) x - (\\Delta\\omega) t] \\cos\\left[k_0 x - \\omega_0 t \\right].$$"
   ]
  },
  {
   "cell_type": "markdown",
   "metadata": {
    "slideshow": {
     "slide_type": "skip"
    }
   },
   "source": [
    "Therefore,\n",
    "$$\\psi = E(x, t)\\cos\\left[k_0 x - \\omega_0 t \\right], \\quad\\textrm{with}\\quad E(x, t) = 2A \\cos[(\\Delta k) x - (\\Delta\\omega) t].$$\n",
    "\n",
    "Written as above, the expression is that of a wave of phase speed\n",
    "$$\\boxed{v = \\frac{\\omega_0}{k_0}},$$\n",
    "modulated in time and space by the envelope $E(x, t)$.\n",
    "Notice that I framed the expression, as if it were a new one. \n",
    "It does look like one we saw before, but this is evaluated at the mean angular frequency and mean wavenumber, which didn't make sense when there was just one angular frequency.\n",
    "\n",
    "Of course, just like beating, this representation works best if the modulation happens slowly in time, i.e., $\\Delta \\omega \\ll \\omega_0$.\n",
    "That's just because if the modulation is slow, it feels more comfortable to think of it as a wave that propagates and evolves slowly.\n",
    "But it can be written as the equation above in any case."
   ]
  },
  {
   "cell_type": "code",
   "execution_count": null,
   "metadata": {
    "slideshow": {
     "slide_type": "skip"
    }
   },
   "outputs": [],
   "source": [
    "# basic quantities\n",
    "omega1 = 2*np.pi*265  # 265 Hz is the frequency of our turning fork\n",
    "omega2 = 2*np.pi*285  # 265 Hz is the frequency of our turning fork\n",
    "v = 340.  # 340 m/s is the approximate speed of sound in air\n",
    "v1 = 360.  # speed of sound in air for omega1\n",
    "v2 = 320.  # speed of sound in air for omega2\n",
    "# note: sound waves in air are virtually non-dispersive!\n",
    "# These values are unrealistic for sound waves, but good for an example.\n",
    "ftsz = 13  # font size on plots\n",
    "A = 1.  # Why not?\n",
    "nBeats = 2.  # duration, long enough to hear nBeat beats \n",
    "nBeats_x = 2.5  # distance, long enough to see nBeat_x beats\n",
    "\n",
    "# derived quantities\n",
    "k1 = omega1/v1\n",
    "k2 = omega2/v2\n",
    "\n",
    "k0 = 0.5*(k1 + k2)\n",
    "omega0 = 0.5*(omega1 + omega2)\n",
    "\n",
    "Domega = 0.5*(omega2 - omega1)\n",
    "Dk = 0.5*(k2 - k1)\n",
    "\n",
    "t_end = nBeats*np.pi/Domega\n",
    "x_end = nBeats_x*np.pi/Dk\n",
    "\n",
    "time = np.linspace(0., t_end, 2**10)\n",
    "# x = np.linspace(0., x_end, 512)"
   ]
  },
  {
   "cell_type": "code",
   "execution_count": null,
   "metadata": {
    "scrolled": false,
    "slideshow": {
     "slide_type": "skip"
    }
   },
   "outputs": [],
   "source": [
    "x = np.linspace(0., x_end, 256)\n",
    "plotcols = [\"blue\", \"green\", \"blue\", \"green\", \"red\", \"red\", \"red\"]\n",
    "\n",
    "fig = plt.figure(figsize=(7, 6))\n",
    "ax = plt.axes(xlim=(0., x_end), ylim=(-2.2, 9.7))\n",
    "ax.set_yticks([0., 3.5, 6., 8.5])\n",
    "ax.set_yticklabels([r'$\\psi_1 + \\psi_2 $',\n",
    "                    r'$\\psi_1$, $\\psi_2$',\n",
    "                    r'$\\psi_2(x, t)$', r'$\\psi_1(x, t)$'],\n",
    "                   fontsize=ftsz)\n",
    "ax.set_xlabel('$x$ [m]', fontsize=ftsz)\n",
    "ax.grid()\n",
    "\n",
    "plt.tight_layout()\n",
    "\n",
    "list_of_lines = []\n",
    "for index, _ in enumerate(plotcols):\n",
    "    if index < 5:\n",
    "        lobj = ax.plot([], [], lw=1, color=plotcols[index])[0]\n",
    "    else:\n",
    "        lobj = ax.plot([], [], lw=1, color=plotcols[index], linestyle=':')[0]\n",
    "    list_of_lines.append(lobj)\n",
    "\n",
    "def init():\n",
    "    for line in list_of_lines:\n",
    "        line.set_data([], [])\n",
    "    return list_of_lines\n",
    "\n",
    "def animate(i):\n",
    "    psi1 = A*np.cos(k1*x - omega1*time[i])\n",
    "    psi2 = A*np.cos(k2*x - omega2*time[i])\n",
    "    psi = psi1 + psi2\n",
    "    envelope = 2*A*np.cos(Dk*x - Domega*time[i])\n",
    "    list_of_lines[0].set_data(x, psi1+8.5)\n",
    "    list_of_lines[1].set_data(x, psi2+6.)\n",
    "    list_of_lines[2].set_data(x, psi1+3.5)\n",
    "    list_of_lines[3].set_data(x, psi2+3.5)\n",
    "    list_of_lines[4].set_data(x, psi)\n",
    "    list_of_lines[5].set_data(x, envelope)\n",
    "    list_of_lines[6].set_data(x, -envelope)\n",
    "    return list_of_lines\n",
    "\n",
    "ani = animation.FuncAnimation(fig, animate, init_func=init,\n",
    "                              frames=len(time), interval=80, blit=True)\n",
    "plt.close()"
   ]
  },
  {
   "cell_type": "code",
   "execution_count": null,
   "metadata": {
    "slideshow": {
     "slide_type": "subslide"
    }
   },
   "outputs": [],
   "source": [
    "# Show the animation\n",
    "HTML(ani.to_html5_video())"
   ]
  },
  {
   "cell_type": "code",
   "execution_count": null,
   "metadata": {
    "slideshow": {
     "slide_type": "skip"
    }
   },
   "outputs": [],
   "source": [
    "# Save the animation\n",
    "ani.save('BeatingDisp.mp4', dpi=100)"
   ]
  },
  {
   "cell_type": "markdown",
   "metadata": {
    "slideshow": {
     "slide_type": "skip"
    }
   },
   "source": [
    "As you can see in the animation above (saved under `BeatingDisp.mp4`), or in King's fig. 8.3 (reproduced here), when the two waves travel at different velocities, the pattern at each instant is still that of beating.\n",
    "But the difference is that is the waves travel at different speeds, they \"slide by each other\", and the pattern of beating moves, i.e., the envelope, propagates at a different speed than the wave inside it."
   ]
  },
  {
   "cell_type": "markdown",
   "metadata": {
    "slideshow": {
     "slide_type": "skip"
    }
   },
   "source": [
    "![Fig. 1: King 8.3](PhaseGroup.png)"
   ]
  },
  {
   "cell_type": "markdown",
   "metadata": {
    "slideshow": {
     "slide_type": "skip"
    }
   },
   "source": [
    "*Note: This is a delicate point, which falls under the category of \"Understanding came quickly, but only after a lengthy explanation\". I encourage you stare at the two beating animations I provided to convince yourself, but it may not be suitable for everyone. Therefore, I also encourage you to seek alternative references: other textbooks, movies on the web, or else.*"
   ]
  },
  {
   "cell_type": "markdown",
   "metadata": {
    "slideshow": {
     "slide_type": "skip"
    }
   },
   "source": [
    "How fast does the envelope travel?\n",
    "If the envelope was a wave, I could write it\n",
    "$$E(x, t) = 2A\\cos[(\\Delta k)x - (\\Delta \\omega)t] = 2A\\cos\\left[\\Delta k\\left(x - \\frac{\\Delta \\omega}{\\Delta k}t\\right)\\right].$$\n",
    "This would be the expression of a wave, propagating with a phase speed $\\Delta\\omega/\\Delta k$ (see chapter 6).\n",
    "It is not a wave, but this expression still tells us that the envelope travels with velocity $\\Delta \\omega/\\Delta k$.\n",
    "\n",
    "The velocity of the envelope is called the **group velocity**.\n",
    "In this case, it is defined as\n",
    "$$v_g = \\frac{\\Delta \\omega}{\\Delta k} = \\frac{\\omega_2 - \\omega_1}{k_2 - k_1}.$$"
   ]
  },
  {
   "cell_type": "markdown",
   "metadata": {
    "slideshow": {
     "slide_type": "skip"
    }
   },
   "source": [
    "In this particular case, there are only two frequencies.\n",
    "But in practice, the notion of group speed is only used when there are a bunch of different waves of different frequencies and different wavelengths that are all close together.\n",
    "In this example with only two frequencies, let us compute the approximate value of $v_g$ when assuming that it is the case, i.e., that $\\Delta \\omega \\ll \\omega_0$ or $\\Delta k \\ll k_0$.\n",
    "The Taylor series expansion of $\\omega_0(k_0 \\pm \\Delta k)$ is\n",
    "$$\\omega(k_0\\pm \\Delta k) = \\omega(k_0) \\pm \\Delta k\\left.\\ode{\\omega}{k}\\right|_{k=k_0} + O(\\Delta k^2).$$"
   ]
  },
  {
   "cell_type": "markdown",
   "metadata": {
    "slideshow": {
     "slide_type": "skip"
    }
   },
   "source": [
    "Therefore,\n",
    "$$\\omega_2 - \\omega_1 \\approx 2\\Delta k\\left.\\ode{\\omega}{k}\\right|_{k=k_0} = (k_2 - k_1)\\left.\\ode{\\omega}{k}\\right|_{k=k_0},$$\n",
    "or,\n",
    "$$\\frac{\\omega_2 - \\omega_1}{k_2 - k_1} = \\boxed{v_g(k_0) = \\left.\\ode{\\omega}{k}\\right|_{k=k_0}}.$$\n",
    "when $\\Delta k\\to 0$.\n",
    "**The group velocity is the $\\bs k$-derivative of $\\bs{\\omega(k)}$ evaluated at the *mean* wavenumber.**"
   ]
  },
  {
   "cell_type": "markdown",
   "metadata": {
    "slideshow": {
     "slide_type": "skip"
    }
   },
   "source": [
    "One important remark about the result above.\n",
    "While $v_g = \\odel{\\omega}k$ is the actual definition of the group speed, the calculation above was not a derivation.\n",
    "It was merely an illustration of a continuous process with discrete waves, and in the context of that particular case, is only truly true when $\\Delta k \\to 0$.\n",
    "Natural superpositions of waves are usually made of a continuous superposition of waves of slightly different $k$'s.\n",
    "Because the $k$'s exist on a continuum, $\\Delta k \\to 0$ actually becomes a valid limit.\n",
    "I will not cover this case, because the mathematical tools necessary to properly treat it are related to Fourier transforms, which you haven't seen yet.\n",
    "\n",
    "**So, remember this: the calculation above is an illustration, not a derivation. Nonetheless, the true definition of the group speed is** $\\bs{v_g = \\odel{\\omega}k}$."
   ]
  },
  {
   "cell_type": "markdown",
   "metadata": {
    "slideshow": {
     "slide_type": "skip"
    }
   },
   "source": [
    "We now have two wave speeds: the phase speed and the group speed.\n",
    "In our 1D case, to go from one to the other is relatively easy, because\n",
    "$$v_g = \\ode{\\omega}k = \\ode{(kv)}k = v + k\\ode{v}k,$$\n",
    "where everything is evaluated at $k=k_0$.\n",
    "In a non-dispersive medium where $v$ is constant no matter $\\omega$ or $k$, therefore, $\\odel{v}k = 0$ and\n",
    "$$\\boxed{v_g = v\\ \\textrm{in a non-dispersive medium}}.$$"
   ]
  },
  {
   "cell_type": "markdown",
   "metadata": {
    "slideshow": {
     "slide_type": "skip"
    }
   },
   "source": [
    "It might be easier at this early stage to think in terms of wavelength $\\lambda$, rather than wavenumber $k$.\n",
    "The change of variable $k = 2\\pi/\\lambda$ yields\n",
    "$$\\ode{v}k = \\ode{\\lambda}k\\ode{v}\\lambda = -\\frac{2\\pi}{k^2}\\ode{v}\\lambda = -\\frac{\\lambda^2}{2\\pi}\\ode{v}\\lambda,\\and \\boxed{v_g = v - \\lambda\\ode{v}\\lambda},$$\n",
    "where again everything is evaluated at $\\lambda = \\lambda_0$."
   ]
  },
  {
   "cell_type": "markdown",
   "metadata": {
    "slideshow": {
     "slide_type": "skip"
    }
   },
   "source": [
    "# Dispersion  Relation"
   ]
  },
  {
   "cell_type": "markdown",
   "metadata": {
    "slideshow": {
     "slide_type": "skip"
    }
   },
   "source": [
    "## Definition\n",
    "\n",
    "As it turns out, and for reasons that we will talk about later in this chapter, in most natural situations and non-dispersive media, $\\odel{v}\\lambda > 0$ and therefore, $v_g < v$ (just like in the last animation, ```BeatingDisp.mp4```).\n",
    "This is called *normal dispersion*.\n",
    "The $\\odel{v}\\lambda < 0$, $v_g > v$ is not impossible, but it is less frequently encountered.\n",
    "We talk about *anomalous dispersion*.\n",
    "It may sound harsh and stigmatizing for the poor $v_g > v$ case, but again, we will see later in this chapter why there are physical reasons to think so.\n",
    "See King's fig. 8.4, reproduced here."
   ]
  },
  {
   "cell_type": "markdown",
   "metadata": {
    "slideshow": {
     "slide_type": "skip"
    }
   },
   "source": [
    "The relation linking $\\omega$ with $k$ is called the **dispersion relation** of a type of waves in a given medium.\n",
    "Alternatively, and equivalently, expressions for e.g. $\\omega^2(k)$, $v(k)$, $v^2(k)$ can also be called dispersion relations, because $\\omega = kv$ and there is no loss of information in going from one to the other."
   ]
  },
  {
   "cell_type": "markdown",
   "metadata": {
    "slideshow": {
     "slide_type": "slide"
    }
   },
   "source": [
    "![Fig. 2: King 8.4](DispRel.png)"
   ]
  },
  {
   "cell_type": "markdown",
   "metadata": {
    "slideshow": {
     "slide_type": "skip"
    }
   },
   "source": [
    "## Examples\n",
    "\n",
    "*Treat this section as practice of how to compute wave and group speeds, and of how to interpret them. There is no material that you need to remember here.*\n",
    "\n",
    "### EM Waves in a dielectric medium"
   ]
  },
  {
   "cell_type": "markdown",
   "metadata": {
    "slideshow": {
     "slide_type": "skip"
    }
   },
   "source": [
    "In vacuum, EM waves have a phase speed\n",
    "$$v = c = \\frac1{\\sqrt{\\varepsilon_0\\mu_0}},$$\n",
    "where $\\varepsilon_0$ and $\\mu_0$ are the permittivity and permeability of free space, respectively.\n",
    "These two quantities are constants and therefore, in vacuum, EM waves (light, radio, etc.) are non-dispersive: $v = v_g$."
   ]
  },
  {
   "cell_type": "markdown",
   "metadata": {
    "slideshow": {
     "slide_type": "skip"
    }
   },
   "source": [
    "In a *dielectric material*[^2] however,\n",
    "$$v(k) = \\frac1{\\sqrt{\\varepsilon(k)\\mu(k)}} = \\frac{c}{\\sqrt{\\varepsilon_r(k)\\mu_r(k)}}, \\with \\varepsilon_r(k) = \\frac{\\varepsilon(k)}{\\varepsilon_0} \\and \\mu_r(k) = \\frac{\\mu(k)}{\\mu_0}.$$\n",
    "The refractive index $n$ is defined as\n",
    "$$n = \\frac{c}{v} = \\sqrt{\\varepsilon_r\\mu_r}.$$\n",
    "For example, if the EM waves are in the visible band, and the dielectric material is glass, then $n$ is actually the refractive index that causes light to change direction when transmitting into glass.\n",
    "Furthermore, that $n$ depends on wavelength, or wave number, or frequency, is what causes a prism to turn a beam of white light into a rainbow, because each color changes directions slightly differently.\n",
    "\n",
    "[^2]: a dielectric material is a type of electric insulator. When an electric field is applied, electrons don't flow, they just move away from their \"rest position\" a little bit in reaction to the electric force. This shifting of charges creates an electric field, which feedbacks onto the total electric field by reducing its magnitude. EM waves consist in part of a propagating electric field, and therefore, dielectric materials react to it in this way."
   ]
  },
  {
   "cell_type": "markdown",
   "metadata": {
    "slideshow": {
     "slide_type": "subslide"
    }
   },
   "source": [
    "![Fig. 3: By Lucas V. Barbosa - Own work, Public Domain, https://commons.wikimedia.org/w/index.php?curid=3270145](Light_dispersion_conceptual_waves.gif)"
   ]
  },
  {
   "cell_type": "markdown",
   "metadata": {
    "slideshow": {
     "slide_type": "skip"
    }
   },
   "source": [
    "For most materials, $\\mu_r \\approx 1$ no matter what the frequency is, but $\\varepsilon_r$ can vary quite a bit with frequency.\n",
    "Therefore, we will use $v\\approx c/\\sqrt{\\varepsilon_r}$."
   ]
  },
  {
   "cell_type": "markdown",
   "metadata": {
    "slideshow": {
     "slide_type": "skip"
    }
   },
   "source": [
    "If the phase speed depends on the frequency, the group speed is different than the phase speed.\n",
    "To compute the group speed of waves, $v_g = \\odel{\\omega}k$ is not the most useful expression with the info we have.\n",
    "Furthermore, more tabulated values are functions of $\\lambda$, not $k$.\n",
    "Instead, $v_g = v -\\lambda\\odel{v}{\\lambda}$ is within shorter reach here.\n",
    "Indeed,\n",
    "$$\\ode{v}{\\lambda} = \\ode{\\varepsilon_r}{\\lambda} \\ode{v}{\\varepsilon_r}   = -\\frac{c}{2\\varepsilon_r^{3/2}}\\ode{\\varepsilon_r}{\\lambda} = -\\frac{v}{2\\varepsilon_r}\\ode{\\varepsilon_r}{\\lambda}.$$"
   ]
  },
  {
   "cell_type": "markdown",
   "metadata": {
    "slideshow": {
     "slide_type": "skip"
    }
   },
   "source": [
    "It may feel like \"one step forward, one step back\", because now we have to know $\\varepsilon_r(\\lambda)$.\n",
    "But this quantity is actually usually known, either theoretically predicted from the molecular structure of the material or tabulated.\n",
    "The group velocity is then\n",
    "$$v_g = v - \\lambda\\ode{v}{\\lambda} = v\\left(1 + \\frac{\\lambda}{2\\varepsilon_r}\\ode{\\varepsilon_r}{\\lambda}\\right).$$\n",
    "**This is the dispersion relationship for EM waves in a dielectric material.**"
   ]
  },
  {
   "cell_type": "markdown",
   "metadata": {
    "slideshow": {
     "slide_type": "skip"
    }
   },
   "source": [
    "***\n",
    "\n",
    "*End of 11 October lecture, beginning of 15 October lecture.*\n",
    "\n",
    "***"
   ]
  },
  {
   "cell_type": "markdown",
   "metadata": {
    "slideshow": {
     "slide_type": "skip"
    }
   },
   "source": [
    "### EM Waves in an Ionized Gas"
   ]
  },
  {
   "cell_type": "markdown",
   "metadata": {
    "slideshow": {
     "slide_type": "skip"
    }
   },
   "source": [
    "The ionosphere is the layer of the atmosphere of a planet where the gas is very rarefied, and UV rays of the sun partially ionize the molecules.\n",
    "On Earth, it is found from 60-100 km high, up to 800 km (*Note: the ISS orbits at about 400 km altitude*).\n",
    "This ionized gas again interacts with EM waves, and in particular with radio waves.\n",
    "The dispersion relation for radio waves in the ionosphere becomes\n",
    "$$\\omega^2(k) = \\omega_p^2 + c^2 k^2\\for \\omega>\\omega_p,$$\n",
    "where $c$ is the phase speed of EM waves in vacuum (the \"speed of light\") and $\\omega_p$ is called the plasma oscillation frequency.\n",
    "The latter is the natural frequency of oscillation of a cloud of negative oscillating around a cloud of positive charges, which is what an ionized gas consists of.\n",
    "The frequency value is typically $\\omega_p/(2\\pi) = \\nu_p \\approx 40$ MHz.\n",
    "Waves whose frequency is lower than $\\omega_p^2$ simply cannot propagate into the ionosphere.\n",
    "\n",
    "There is an analogy with Chapter 6, and the waves on the string reflecting off of a piece of string that is either too heavy or too light: if radio waves are emitted from the ground with a frequency $\\nu<\\nu_p$, they will reflect off of the base of the ionosphere, back to the surface."
   ]
  },
  {
   "cell_type": "markdown",
   "metadata": {
    "slideshow": {
     "slide_type": "skip"
    }
   },
   "source": [
    "This is why long-distance radio transmission works: by bouncing off the ionosphere, radio waves stick to the ground and can duct along it over long distances.\n",
    "This includes high-frequency ($1.6$ MHz$< \\nu < 30$ MHz) radio waves used by radio amateurs, and AM waves ($575 - 1705$ kHz).\n",
    "\n",
    "On the other hand, FM waves have a minimum frequency that is about $88$ MHz, which is higher than the plasma frequency.\n",
    "Therefore, they don't travel farther than the visible horizon, and escape to the ionosphere and then to space after that.\n",
    "This is why FM signals don't travel much farther than about 60 km, and why transmitters have to be placed high up on towers or hills."
   ]
  },
  {
   "cell_type": "markdown",
   "metadata": {
    "slideshow": {
     "slide_type": "skip"
    }
   },
   "source": [
    "The phase speed of radio waves, propagating into the atmosphere, is\n",
    "$$v = \\frac{\\omega}k = \\sqrt{\\frac{\\omega_p^2}{k^2} + c^2} = c\\sqrt{\\frac{c^2k^2 + \\omega_p^2}{c^2 k^2}} = \\frac{c}{\\sqrt\\frac{c^2k^2 + \\omega_p^2 - \\omega_p^2}{\\omega^2_p + c^2k^2}} = \\frac{c}{\\sqrt{1 - \\omega_p^2/\\omega^2}}.$$"
   ]
  },
  {
   "cell_type": "markdown",
   "metadata": {
    "slideshow": {
     "slide_type": "skip"
    }
   },
   "source": [
    "Looking at $v$, you may notice that if this expression is only relevant for $\\omega > \\omega_p$, then $v>c$!!!\n",
    "However, the famous statement that nothing can travel faster than the speed of light only applies to what I am going to call \"stuff\", i.e., matter, energy, information...\n",
    "A phase is not \"stuff\" in itself, just a pattern that moves.\n",
    "When light hits Earth from the far reaches of space, it has traveled in the form of pulses, i.e., light waves that have traveled, bundled within envelopes.\n",
    "Evelopes travel at the *group velocity*, not the phase velocity, and according to the equation I am about to derive, $v_g = c^2/v < c$."
   ]
  },
  {
   "cell_type": "markdown",
   "metadata": {
    "slideshow": {
     "slide_type": "skip"
    }
   },
   "source": [
    "Indeed, we could compute the group speed easily by taking the $k$-derivative of the dispersion relation $\\omega^2 = \\omega_p^2 + c^2 k^2$.\n",
    "A shrewder way to do the same thing is to take the differential form of that equation, i.e.,\n",
    "$$2\\omega\\di \\omega = 2c^2 k \\di k\\thrfor v_g = \\ode{\\omega}k = \\frac{c^2 k}{\\omega} = c\\sqrt{1 - \\omega_p^2/\\omega^2}.$$"
   ]
  },
  {
   "cell_type": "markdown",
   "metadata": {
    "slideshow": {
     "slide_type": "skip"
    }
   },
   "source": [
    "Which brings me to my next point: the fundamentally important interpretation of the group speed is that **the group speed is the speed of propagation of the energy**.\n",
    "Think of those light pulses: they are the ones that carry the energy that will impact light detectors, and if the group speed is their velocity, then so is the velocity of propagation of energy."
   ]
  },
  {
   "cell_type": "markdown",
   "metadata": {
    "slideshow": {
     "slide_type": "skip"
    }
   },
   "source": [
    "### Deep Water Capillary-Gravity Waves\n",
    "\n",
    "*Note: this was inspired by King, worked example p. 194. Make sure you can do it if it was proposed as a question.*"
   ]
  },
  {
   "cell_type": "markdown",
   "metadata": {
    "slideshow": {
     "slide_type": "skip"
    }
   },
   "source": [
    "Water waves are \"deep\" if they propagate in deep water.\n",
    "\"Deep water\" refers to the wavelength of the waves being much smaller than the depth of the water.\n",
    "As King puts it in his worked example on p. 194, \n",
    "> When a wave is present on the surface of water, there are two types of restoring force that tend to flatten the surface;\n",
    "these forces are gravity and surface tension.\n",
    "The relative strengths of these forces depend upon the wavelength of the waves.\n",
    "For waves on deep water, where the wavelength is small compared with the depth of the water, the angular frequency $\\omega$ and wavenumber $k$ are related by the dispersion relation\n",
    "$$\\omega^2 = gk + \\frac{\\sigma k^3}\\rho,$$\n",
    "where $g$ is the acceleration due to gravity, $\\sigma$ is the surface tension of the air/water interface, and $\\rho$ is the mass density of water, respectively.\n",
    "[*Note by NG: typo in King, he has it in reverse.*]"
   ]
  },
  {
   "cell_type": "markdown",
   "metadata": {
    "slideshow": {
     "slide_type": "skip"
    }
   },
   "source": [
    "The phase speed is\n",
    "$$v = \\frac{\\omega}k = \\sqrt{\\frac{g}{k} + \\frac{\\sigma k}{\\rho}}.$$\n",
    "Because the dispersion relation is already written as $\\omega^2(k)$, the easiest way to get to the group speed is to differentiate it, i.e.,\n",
    "$$2\\omega \\di \\omega  = \\left(g + \\frac{3\\sigma k^2}{\\rho}\\right)\\di k$$\n",
    "$$\\thrfor v_g = \\ode{\\omega}k = \\frac{1}{2\\omega}\\left(g + \\frac{3\\sigma k^2}{\\rho}\\right) = \\frac{1}{2 v}\\left(\\frac{g}k + \\frac{3\\sigma k}{\\rho}\\right).$$"
   ]
  },
  {
   "cell_type": "markdown",
   "metadata": {
    "slideshow": {
     "slide_type": "skip"
    }
   },
   "source": [
    "We can distinguish two limits: the \"long wave\" limit, in which $\\lambda$ is large and $k$ is small, and the \"short wave\" limit, in which the opposite is true.\n",
    "In physics, when one states that something is large or small, we always need to add to what said something is compared.\n",
    "\n",
    "The expressions for wave and group speed can be easily approximated if $g/k \\ll \\sigma k/\\rho$ or $g/k \\gg \\sigma k/\\rho$.\n",
    "In-between, we have $g/k = \\sigma k/\\rho$, i.e., $k = \\sqrt{\\rho g/\\sigma}$, or $\\lambda = 2\\pi\\sqrt{\\sigma/\\rho g}$.\n",
    "\n",
    "The length $\\sqrt{\\sigma/\\rho g}$ is called the capillary length.\n",
    "For waves, much smaller than this, surface tension is the dominant restoring force.\n",
    "For water with $\\rho  =10^3$ kg.m$^{-3}$ and $\\sigma = 7.2\\times10^{-2}$ N.m$^{-1}$ for the air-water interface, $\\sqrt{\\sigma/\\rho g} \\approx 2.7$ mm, and the corresponding wavelength is approximately 1.7 cm."
   ]
  },
  {
   "cell_type": "markdown",
   "metadata": {
    "slideshow": {
     "slide_type": "skip"
    }
   },
   "source": [
    "Therefore, the **long wave limit** is the one for which $\\lambda \\gg 2\\pi\\sqrt{\\sigma/\\rho g}$, or equivalently $k \\ll \\sqrt{\\rho g/\\sigma}$.\n",
    "In this case,\n",
    "$$v \\approx \\sqrt{\\frac{g}{k}} \\and v_g \\approx \\frac{1}{2v}\\frac{g}{k} = \\frac12 v.$$\n",
    "\n",
    "The phase and group speeds are such that longer waves (smaller $k$) travel faster than shorter waves.\n",
    "Gravity is the main restoring force, and it acts to flatten the surface preferably on longer waves, bigger pieces of water.\n",
    "Such waves are called surface gravity waves. (*Not to be confused with the gravitational waves of general relativity!*)\n",
    "You'll observe it by throwing a big rock (much larger than the capillary length) in a deep body of water (see fig. 4).\n",
    "\n",
    "Their dispersion is *normal*: $v_g < v$."
   ]
  },
  {
   "cell_type": "markdown",
   "metadata": {
    "slideshow": {
     "slide_type": "slide"
    }
   },
   "source": [
    "![Fig. 4: When throwing a big rock in a deep pond, gravity waves are generated. You can see here that long waves travel faster than short waves. [Source unknown]](img_08531.jpg)"
   ]
  },
  {
   "cell_type": "markdown",
   "metadata": {
    "slideshow": {
     "slide_type": "subslide"
    }
   },
   "source": [
    "![math.ubc.ca. The chevron-shaped wakes are called Kelvin wakes, and the chevoron opening abgle is 39º for all ships.](jfkkub.jpg)\n",
    "![By Daderot [Public domain], from Wikimedia Commons. Another example of 39º Kelvin wakes.](800px-Bodensee_at_Lindau_-_DSC06962.JPG)"
   ]
  },
  {
   "cell_type": "markdown",
   "metadata": {
    "slideshow": {
     "slide_type": "skip"
    }
   },
   "source": [
    "Conversely, the **short wave limit** is the one for which $\\lambda \\ll 2\\pi\\sqrt{\\sigma/\\rho g}$, or equivalently $k \\gg \\sqrt{\\rho g/\\sigma}$.\n",
    "In this case,\n",
    "$$v \\approx \\sqrt{\\frac{\\sigma k}{\\rho}}\\and v_g \\approx \\frac{1}{2v}\\frac{3\\sigma k}{\\rho} = \\frac32 v.$$\n",
    "\n",
    "The phase and group speeds are such that shorter waves (larger $k$) travel faster that longer waves.\n",
    "Surface tension is the main restoring force, and it acts to flatten the surface preferably on tinier waves, higher curvatures.\n",
    "Such waves are called capillary waves.\n",
    "You'll observe it by looking at raindrops hit puddles of water, or small ripples in a kitchen sink (see fig. 5).\n",
    "\n",
    "Their dispersion is anomalous: $v_g > v$.\n",
    "Nothing wrong with it, it's just that EM people are less used to it I guess."
   ]
  },
  {
   "cell_type": "markdown",
   "metadata": {
    "slideshow": {
     "slide_type": "subslide"
    }
   },
   "source": [
    "![Fig. 5: When a rain drop falls in a deep(-ish) puddle of water, capillary waves are generated. You can see here that short waves travel faster than long waves. [Source unknown]](splash1728.jpg)"
   ]
  },
  {
   "cell_type": "markdown",
   "metadata": {
    "slideshow": {
     "slide_type": "subslide"
    }
   },
   "source": [
    "![Fig. 6: Tiny ripples on a beach. They look like capillary waves (you can see the grains of sand), therefore, you now know why the waves propagate from left to right on the picture. [Source: http://scotimages.com/2012/07/18/surface-wave-propogation/]](wave-dispersion-close-up.jpg)"
   ]
  },
  {
   "cell_type": "markdown",
   "metadata": {
    "slideshow": {
     "slide_type": "slide"
    }
   },
   "source": [
    "# Wave packets"
   ]
  },
  {
   "cell_type": "markdown",
   "metadata": {
    "slideshow": {
     "slide_type": "skip"
    }
   },
   "source": [
    "## Formation of a Wave Packet"
   ]
  },
  {
   "cell_type": "markdown",
   "metadata": {
    "slideshow": {
     "slide_type": "skip"
    }
   },
   "source": [
    "### Discrete superposition\n",
    "\n",
    "With two waves, we had a beating pattern.\n",
    "What if now we have more than two waves?\n",
    "What if we even had an infinite number of waves?\n",
    "I will treat the discrete case first, i.e.,\n",
    "$$\\psi = \\sum_{n} \\psi_n, \\with \\psi_n = a_n\\cos(k_n x - \\omega_n t) \\and \\omega_n(k_n) = k_nv(k_n).$$"
   ]
  },
  {
   "cell_type": "markdown",
   "metadata": {
    "slideshow": {
     "slide_type": "skip"
    }
   },
   "source": [
    "Throughout this section, I will use a central approximation, which I will call the \"wave packet approximation\".\n",
    "That is, I will suppose that all waves that are being added all have very close wavenumbers.\n",
    "Let $k_0$ be their average, and $\\Delta k$ the typical spread of wavenumbers.\n",
    "The \"wave packet approximation\" (my own expression I think, use carefully) states that $\\Delta k \\ll k_0$.\n",
    "For the sake of simplicity, we will assume that the wavenumbers are all evenly spaced, i.e.,\n",
    "$$k_n = k_0 + n\\delta k.$$\n",
    "Note that not only does this assumption make calculations simpler, it is also the most natural way to transition to continuous wavenumber distributions later. In this sense, it is as general as a distribution of unevenly spaced wavenumbers.\n",
    "\n",
    "The main consequence of the wave packet approximation $\\Delta k \\ll k_0$ is that it ensures that for all wavenumbers $k_n$, $n\\delta k \\ll k_0$, and therefore we can use a Taylor expansion to approximate the expression for $\\omega_n$:\n",
    "$$\\forall n,\\quad \\omega_n - \\omega_0 \\approx (n\\delta k)\\left.\\ode{\\omega}{k}\\right|_{k=k_0} = n\\delta \\omega,$$\n",
    "with $\\delta\\omega = v_g(k_0) \\delta k$."
   ]
  },
  {
   "cell_type": "markdown",
   "metadata": {
    "slideshow": {
     "slide_type": "skip"
    }
   },
   "source": [
    "For now, let me just plot (fig. 7) what such a superposition looks like at a given time, say, $t=0$, and for waves that all have the same amplitude.\n",
    "It allows me to defer any discussion about the dispersion relation until later."
   ]
  },
  {
   "cell_type": "code",
   "execution_count": null,
   "metadata": {
    "slideshow": {
     "slide_type": "subslide"
    }
   },
   "outputs": [],
   "source": [
    "# Basic quantities; let's use capillary waves\n",
    "lambda0 = 1e-3  # 1 mm for a capillary wavelength; 0.1 m for gravity\n",
    "# a wavelength, much smaller than 17 mm will create capillary waves, for\n",
    "# which vg = 3v/2\n",
    "# a wavelength, much larger than 17 mm will create gravity waves, for\n",
    "# which vg = v/2\n",
    "k0 = 2*np.pi/lambda0\n",
    "\n",
    "dk = k0/50  # wavenumber separation of successive wavenumbers\n",
    "N = 9  # number of waves\n",
    "nBeats_x = 1.2  # distance, long enough to see nBeat_x beats\n",
    "\n",
    "# derived quantities\n",
    "k_array = np.arange(k0-0.5*dk*(N-1), k0+0.5*dk*N, dk)\n",
    "A_array = A*np.ones(k_array.shape)  # all waves have same amplitude\n",
    "x_end = nBeats_x*np.pi/dk\n",
    "x = np.linspace(-x_end, x_end, 1024)\n",
    "\n",
    "psi_n = {}  # each individual wave is an item in a dictionnary\n",
    "psi = 0*x + 0*1j\n",
    "for ii, kk in enumerate(k_array):\n",
    "    psi_n[ii] = A_array[ii]*np.exp(1j*kk*x)  # I will take the real part\n",
    "    psi += psi_n[ii]"
   ]
  },
  {
   "cell_type": "code",
   "execution_count": null,
   "metadata": {
    "slideshow": {
     "slide_type": "subslide"
    }
   },
   "outputs": [],
   "source": [
    "if len(k_array) > 4:  # we need to skip waves \n",
    "    sk_n = 2\n",
    "else:\n",
    "    sk_n = 1\n",
    "\n",
    "yMin, yMax = -N-1., N + 1. + 2.2*N/sk_n\n",
    "\n",
    "# locations of y ticks\n",
    "ytick_list = [0.]\n",
    "[ytick_list.append(N + 1 + 2.2*ii/sk_n) for ii in range(0, N, sk_n)]\n",
    "\n",
    "# labels on y axis\n",
    "yticklabels_list = [r'$\\psi(x, t)$']\n",
    "[yticklabels_list.append('$\\psi_{' + '{0:d}'.format(ii-N//2) + '}(x, t)$')\n",
    " for ii in range(0, N, sk_n)];"
   ]
  },
  {
   "cell_type": "code",
   "execution_count": null,
   "metadata": {
    "slideshow": {
     "slide_type": "subslide"
    }
   },
   "outputs": [],
   "source": [
    "# code for the static picture\n",
    "fig = plt.figure(dpi=100)\n",
    "ax = plt.axes(xlim=(-x_end, x_end))\n",
    "ax.set_xlabel('$x$ [m]', fontsize=ftsz)\n",
    "ax.grid()\n",
    "\n",
    "ax.plot(x, np.real(psi))  # the sum of all psi_n\n",
    "for ii in range(0, N, sk_n):  # each individual psi_n\n",
    "    ax.plot(x, np.real(psi_n[ii]) + N + 1 + 2.2*ii/sk_n, linewidth=1)\n",
    "\n",
    "ax.set_yticks(ytick_list)\n",
    "ax.set_yticklabels(yticklabels_list, fontsize=ftsz)\n",
    "ax.set_ylim((yMin, yMax));\n",
    "plt.tight_layout()\n",
    "plt.savefig(\"Wavepacket1.png\", dpi=100)\n",
    "plt.close()"
   ]
  },
  {
   "cell_type": "markdown",
   "metadata": {
    "scrolled": false,
    "slideshow": {
     "slide_type": "subslide"
    }
   },
   "source": [
    "![Fig. 7](Wavepacket1.png)"
   ]
  },
  {
   "cell_type": "markdown",
   "metadata": {
    "slideshow": {
     "slide_type": "skip"
    }
   },
   "source": [
    "In figure 7, I show the superposition of 9 waves, centered around $k_0 = 2\\pi/(1\\textrm{ mm})$, i.e.,\n",
    "$$\\psi = \\sum_{n=-4}^4 a_n\\cos((k_0+n\\delta k) x),$$\n",
    "with $\\delta k = k_0/50$ and $a_n = A = 1$ m (unrealistic I know) for all $n$.\n",
    "These dimensions are meant to represent a wave packet of capillary water waves.\n",
    "I do not show odd $n$ numbers so as to not add too much info, but $\\psi_{-1}$, $\\psi_{1}$, etc., are included in the sum creating $\\psi$."
   ]
  },
  {
   "cell_type": "markdown",
   "metadata": {
    "slideshow": {
     "slide_type": "skip"
    }
   },
   "source": [
    "As you can see, it is like a beating pattern, but there are so many waves now that locations where all waves oscillate in phase are more rare (only at $x=0$ on that figure).\n",
    "There are more locations where the signal is destroyed, and some local maxima where some waves happen to be in phase, but not the other waves.\n",
    "Mostly, the signal is contained in a big bulge in the middle, called a **wave packet**."
   ]
  },
  {
   "cell_type": "markdown",
   "metadata": {
    "slideshow": {
     "slide_type": "skip"
    }
   },
   "source": [
    "***\n",
    "\n",
    "*End of 15 October lecture, beginning of 18 October lecture.*\n",
    "\n",
    "***"
   ]
  },
  {
   "cell_type": "markdown",
   "metadata": {
    "slideshow": {
     "slide_type": "skip"
    }
   },
   "source": [
    "*As an aside, Donna Strickland (University of Waterloo) won the Nobel Prize 2018 with Gérard Mourou for generating ultra-short, ultra-intense light pulses with a method to add a lot of these wave modes. Below (figs. 8 and 9) are two slides taken from her Nobel lecture. Her full presentation is available at:*\n",
    "*https://www.nobelprize.org/prizes/physics/2018/strickland/lecture/*"
   ]
  },
  {
   "cell_type": "markdown",
   "metadata": {
    "slideshow": {
     "slide_type": "subslide"
    }
   },
   "source": [
    "![Fig. 8: illustration by Donna Strickland (U. Waterloo) (https://www.nobelprize.org/prizes/physics/2018/strickland/lecture)](strickland-lotofcolor.png)"
   ]
  },
  {
   "cell_type": "markdown",
   "metadata": {
    "slideshow": {
     "slide_type": "subslide"
    }
   },
   "source": [
    "![Fig. 9: illustration by Donna Strickland (U. Waterloo) of pulse compression, one the the elements of Chirped Pulse Amplification (https://www.nobelprize.org/prizes/physics/2018/strickland/lecture)](strickland-pulsecompression.png)"
   ]
  },
  {
   "cell_type": "markdown",
   "metadata": {
    "slideshow": {
     "slide_type": "skip"
    }
   },
   "source": [
    "*End of the aside.*\n",
    "\n",
    "I now animate the wave packet of fig. 7.\n",
    "In order to do so, I need to decide on a dispersion relation.\n",
    "I choose the dispersion relation for deep water waves we saw, i.e.,\n",
    "$$\\omega^2 = gk + \\frac{\\sigma k^3}{\\rho}.$$\n",
    "This relation has the advantage of having the two kinds of dispersions: normal dispersion ($v_g < v$) for capillary (short) waves, and anomalous dispersion ($v_g>v$) for gravity (long) waves.\n",
    "I only animate it for short waves, but those of you who want to try the code with longer waves can."
   ]
  },
  {
   "cell_type": "markdown",
   "metadata": {
    "slideshow": {
     "slide_type": "skip"
    }
   },
   "source": [
    "Animation is saved under ```WavePacket_with_09_capillary_waves.mp4```.\n",
    "I also uploaded animations with less waves, to see the transition from two waves, i.e., a regular beating pattern, to the wave packet above.\n",
    "Finally, I also uploaded animations with gravity waves ($2\\pi/k_0 = 10$ cm), to see the difference between anomalous and normal dispersion.\n",
    "Note that I do not use the \"wave number approximation\" in the code below.\n",
    "This approximation is useful when doing analytical calculations, but completely useless when a code can compute things exactly."
   ]
  },
  {
   "cell_type": "code",
   "execution_count": null,
   "metadata": {
    "scrolled": false,
    "slideshow": {
     "slide_type": "subslide"
    }
   },
   "outputs": [],
   "source": [
    "# code for the animation\n",
    "def omega(k_):  # dispersion relation\n",
    "    return np.sqrt(g*k_ + sigma*k_**3/rho)  # deep-water waves\n",
    "\n",
    "sigma = 7.2e-2  # surface tension of air/water interface [N/m^2]\n",
    "g = 9.81  # gravitational acceleration [m/s^2] \n",
    "rho = 1000.  # mass density of water [kg/m^3]\n",
    "\n",
    "nBeats = 2.\n",
    "t_end = nBeats*np.pi/(omega(k0+dk) - omega(k0))\n",
    "time = np.linspace(0., t_end, 256)\n",
    "\n",
    "fig = plt.figure(dpi=100)\n",
    "ax = plt.axes(xlim=(-x_end, x_end), ylim=(yMin, yMax))\n",
    "ax.set_yticks(ytick_list)\n",
    "ax.set_yticklabels(yticklabels_list, fontsize=ftsz)\n",
    "ax.set_xlabel('$x$ [m]', fontsize=ftsz)\n",
    "\n",
    "ax.grid()\n",
    "\n",
    "plt.tight_layout()\n",
    "\n",
    "list_of_lines = []\n",
    "for index in range(0, N+sk_n, sk_n):\n",
    "    lobj = ax.plot([], [], lw=1)[0]\n",
    "    list_of_lines.append(lobj)\n",
    "\n",
    "def init():\n",
    "    for line in list_of_lines:\n",
    "        line.set_data([], [])\n",
    "    return list_of_lines\n",
    "\n",
    "def animate(i):\n",
    "    psi = 0*x + 0*1j\n",
    "    for ii in range(0, N):  # each individual psi_n\n",
    "        phase_t = omega(k_array[ii])*time[i]\n",
    "        psi += psi_n[ii]*np.exp(-1j*phase_t)\n",
    "    if N > 10:\n",
    "        list_of_lines[0].set_data(x, np.real(psi)/np.sqrt(N))\n",
    "        # otherwise we can't see\n",
    "    else:\n",
    "        list_of_lines[0].set_data(x, np.real(psi))\n",
    "\n",
    "    for jj, ii in enumerate(range(0, N, sk_n)):\n",
    "        phase_t = omega(k_array[ii])*time[i]\n",
    "        list_of_lines[jj+1].set_data(\n",
    "            x, np.real(psi_n[ii]*np.exp(-1j*phase_t)\n",
    "                       + N + 1 + 2.2*ii/sk_n))\n",
    "\n",
    "    return list_of_lines\n",
    "\n",
    "ani = animation.FuncAnimation(fig, animate, init_func=init,\n",
    "                              frames=len(time), interval=80, blit=True)\n",
    "\n",
    "plt.close()"
   ]
  },
  {
   "cell_type": "code",
   "execution_count": null,
   "metadata": {
    "scrolled": false,
    "slideshow": {
     "slide_type": "subslide"
    }
   },
   "outputs": [],
   "source": [
    "# Show the animation\n",
    "HTML(ani.to_html5_video())"
   ]
  },
  {
   "cell_type": "code",
   "execution_count": null,
   "metadata": {
    "scrolled": true,
    "slideshow": {
     "slide_type": "skip"
    }
   },
   "outputs": [],
   "source": [
    "# Save the animation\n",
    "if lambda0 > np.sqrt(sigma*g/rho):\n",
    "    ani.save('WavePacket_with_{0:02d}_gravity_waves.mp4'.format(N),\n",
    "             dpi=100)\n",
    "else:\n",
    "    ani.save('WavePacket_with_{0:02d}_capillary_waves.mp4'.format(N),\n",
    "             dpi=100)"
   ]
  },
  {
   "cell_type": "markdown",
   "metadata": {
    "slideshow": {
     "slide_type": "skip"
    }
   },
   "source": [
    "You can now see the wave packet as it actually is: a phase that propagates inside an envelope.\n",
    "In this case, where capillary waves are anomalously dispersed, the envelope propagates faster than the phase ($v_g > v$).\n",
    "In the other case, where gravity waves are normally dispersed, the envelope propagates slower than the phase ($v_g < v$)."
   ]
  },
  {
   "cell_type": "markdown",
   "metadata": {
    "slideshow": {
     "slide_type": "skip"
    }
   },
   "source": [
    "We can re-write\n",
    "$$\\psi(x, t) = \\sum_{n=-N}^{N} A \\cos(k_n x - \\omega_n t)$$\n",
    "as \n",
    "$$\\psi(x, t) = B(x, t)\\cos(k_0 x - \\omega_0 t),\\hspace{4cm} (1a)$$\n",
    "with\n",
    "$$B(x, t) = A\\frac{\\sin\\left[\\left(N + 1/2\\right)(x\\delta k - t\\delta \\omega)\\right]}{\\sin\\left[\\left(x\\delta k - t\\delta \\omega\\right)/2\\right]}.\\hspace{3cm} (1b)$$"
   ]
  },
  {
   "cell_type": "markdown",
   "metadata": {
    "slideshow": {
     "slide_type": "skip"
    }
   },
   "source": [
    "***\n",
    "\n",
    "*King simply writes the result above without further justification.*\n",
    "*I myself struggled a bit to recover it, and here is the outcome of my research.*\n",
    "*Obviously, I cannot ask you to be able to recover it by yourself.*\n",
    "\n",
    "The first step is to notice that $k_n = k_0 + n\\delta k$, which is always true with how we set up our waves.\n",
    "Then, because the dispersion relation has to be satisfied for each wave to be a solution of the wave equation, $\\omega_n = \\omega(k_0 + n\\delta k)$.\n",
    "The next step is to use the wave packet approximation, i.e.,  that we can define a constant $\\delta \\omega = v_g \\delta k$ such that $\\omega_n - \\omega_0 \\approx n v_g\\delta k$."
   ]
  },
  {
   "cell_type": "markdown",
   "metadata": {
    "slideshow": {
     "slide_type": "skip"
    }
   },
   "source": [
    "What about this $|n\\delta k| \\ll k_0$ approximation?\n",
    "*A priori*, we can have $n\\to \\infty$, and so, the approximation could break down at some point (though if all amplitudes really were the same, energy would be infinite!).\n",
    "Here it doesn't because $a_n \\neq 0$ for $|n|\\leq N$, and $a_n = 0$ for $|n| > N$.\n",
    "Again, it does not really make sense to talk about wave packets when the frequencies are too different, and so in practice, it is not a problem."
   ]
  },
  {
   "cell_type": "markdown",
   "metadata": {
    "slideshow": {
     "slide_type": "skip"
    }
   },
   "source": [
    "The next step is to use trigonometric identities, starting with\n",
    "\\begin{align*}\n",
    "    \\cos[(k_0 + n\\delta k)x - (\\omega_0 + n\\delta\\omega)t] & = \\cos[\\varphi_0(x, t) + n\\delta\\varphi(x, t)] \\\\\n",
    "    & = \\cos\\varphi_0(x, t)\\cos[n\\delta\\varphi(x, t)] - \\sin\\varphi_0(x, t)\\sin[n\\delta\\varphi(x, t)], \\\\\n",
    "\\end{align*}\n",
    "with $\\varphi_0(x, t) = k_0 x - \\omega_0 t$ and $\\delta\\varphi(x, t) = x\\delta k - t\\delta \\omega$.\n",
    "\n",
    "The last step involves the two Lagrange's trigonometric identities[^3]\n",
    "\\begin{align*}\n",
    "\\sum_{n=1}^N \\sin (n\\theta) & = \\frac{1}{2}\\cot\\frac{\\theta}{2}-\\frac{\\cos\\left(\\left(N+1/2\\right)\\theta\\right)}{2\\sin\\left(\\theta/2\\right)}\\and\\\\\n",
    "\\sum_{n=1}^N \\cos (n\\theta) & = -\\frac{1}{2}+\\frac{\\sin\\left(\\left(N+1/2\\right)\\theta\\right)}{2\\sin\\left(\\theta/2\\right)},\n",
    "\\end{align*}\n",
    "which of course you don't need to remember.\n",
    "King uses it in his book (eqns. 8.36-37), and at first I struggled to remember where it came from.\n",
    "So, I guess I can't ask you to even know them.\n",
    "\n",
    "[^3]: https://en.wikipedia.org/wiki/List_of_trigonometric_identities#Lagrange.27s_trigonometric_identities"
   ]
  },
  {
   "cell_type": "markdown",
   "metadata": {
    "slideshow": {
     "slide_type": "skip"
    }
   },
   "source": [
    "Careful that we are summing $n$ from $-N$ to $N$, not $1$ to $N$!\n",
    "Using that $\\sin$ is an odd function and $\\cos$ is an even function, we recover eqns. (1a) and (1b).\n",
    "\n",
    "***"
   ]
  },
  {
   "cell_type": "code",
   "execution_count": null,
   "metadata": {
    "slideshow": {
     "slide_type": "skip"
    }
   },
   "outputs": [],
   "source": [
    "# code for the static picture\n",
    "fig = plt.figure()\n",
    "ax = plt.axes(xlim=(-x_end, x_end))\n",
    "ax.set_xlabel('$x$ [m]', fontsize=ftsz)\n",
    "ax.set_title('Superposition of {0:d} capillary waves'.format(2*N+1), fontsize=ftsz)\n",
    "ax.set_ylabel('Wave height', fontsize=ftsz)\n",
    "ax.grid()\n",
    "\n",
    "psi = 0*x + 0*1j  # I have to recompute psi at t=0\n",
    "for ii, kk in enumerate(k_array):\n",
    "    psi += np.real(A_array[ii]*np.exp(1j*kk*x))\n",
    "\n",
    "envelope = A*np.sin(0.5*N*(x*dk))/np.sin(0.5*(x*dk))\n",
    "\n",
    "ax.plot(x, np.real(psi), linewidth=0.5, label='$\\psi(x, t)$')\n",
    "ax.plot(x, envelope, label='eqn. $(1b)$')\n",
    "ax.plot(x, -envelope, label='$-$eqn. $(1b)$')\n",
    "ax.legend();\n",
    "\n",
    "#ax.set_yticks(ytick_list)\n",
    "#ax.set_yticklabels(yticklabels_list, fontsize=ftsz)\n",
    "#ax.set_ylim((yMin, yMax));\n",
    "\n",
    "plt.tight_layout()\n",
    "plt.savefig('Wavepacket2.png', dpi=100)\n",
    "plt.close()"
   ]
  },
  {
   "cell_type": "markdown",
   "metadata": {
    "scrolled": true,
    "slideshow": {
     "slide_type": "subslide"
    }
   },
   "source": [
    "![Fig. 10](Wavepacket2.png)"
   ]
  },
  {
   "cell_type": "markdown",
   "metadata": {
    "slideshow": {
     "slide_type": "skip"
    }
   },
   "source": [
    "## Gaussian wave packets\n",
    "\n",
    "Usually, wave packets are not a superposition of waves that all have the same amplitude.\n",
    "They are rather comprised of a dominant wave with wavenumber $k_0$, superposed with waves, whose amplitude decays as $|k-k_0|$ increases.\n",
    "For example, I plot on fig. 11 an example with\n",
    "$$a_n = \\exp\\left(-\\left(\\frac{k_n-k_0}{\\Delta k}\\right)^2\\right),$$\n",
    "with $\\Delta k$ controlling the width of the function $a(k)$.\n",
    "As you can see, having a \"smoother\" wavenumber distribution \"smoothes\" the wave packet as well.\n",
    "Wave packets are now well-localized in space and time.\n",
    "The energy is concentrated in them, another illustration that **the group speed is the speed of propagation of the energy**."
   ]
  },
  {
   "cell_type": "code",
   "execution_count": null,
   "metadata": {
    "slideshow": {
     "slide_type": "subslide"
    }
   },
   "outputs": [],
   "source": [
    "# Basic quantities; let's use capillary waves\n",
    "lambda0 = 1e-3  # 1 mm for a wavelength\n",
    "# a wavelength, much smaller than 17 mm will create capillary waves, for\n",
    "# which vg = 3v/2\n",
    "# a wavelength, much larger than 17 mm will create gravity waves, for\n",
    "# which vg = v/2\n",
    "k0 = 2*np.pi/lambda0\n",
    "\n",
    "dk = k0/50  # wavenumber separation of successive wavenumbers\n",
    "N = 19  # number of waves\n",
    "nBeats_x = 1.2  # distance, long enough to see nBeat_x beats\n",
    "\n",
    "# derived quantities\n",
    "k_array = np.arange(k0-0.5*dk*(N-1), k0+0.5*dk*N, dk)\n",
    "A_array = A*np.exp(-(k_array-k0)**2/(3*dk)**2)  # all waves have same amplitude\n",
    "x_end = nBeats_x*np.pi/dk\n",
    "x = np.linspace(-x_end, x_end, 1024)\n",
    "\n",
    "psi_n = {}  # each individual wave is an item in a dictionnary\n",
    "psi = 0*x + 0*1j\n",
    "for ii, kk in enumerate(k_array):\n",
    "    psi_n[ii] = A_array[ii]*np.exp(1j*kk*x)  # I will take the real part\n",
    "    psi += psi_n[ii]\n",
    "\n",
    "yMin, yMax = -N-1., N+1."
   ]
  },
  {
   "cell_type": "code",
   "execution_count": null,
   "metadata": {
    "slideshow": {
     "slide_type": "subslide"
    }
   },
   "outputs": [],
   "source": [
    "# code for the spectrum\n",
    "plt.figure()\n",
    "for ii in range(N):\n",
    "    plt.plot([k_array[ii]]*2, [0., A_array[ii]], 'o-', linewidth=5)\n",
    "plt.grid()\n",
    "plt.ylabel('Plane wave amplitude [m]', fontsize=ftsz)\n",
    "plt.xlabel('$k$', fontsize=ftsz);\n",
    "\n",
    "plt.tight_layout()\n",
    "plt.savefig('Wavepacket_Gauss_Spect.png', dpi=100)\n",
    "plt.close()"
   ]
  },
  {
   "cell_type": "markdown",
   "metadata": {
    "slideshow": {
     "slide_type": "subslide"
    }
   },
   "source": [
    "![Fig. 11: spectrum of a Gaussian wavepacket.](Wavepacket_Gauss_Spect.png)"
   ]
  },
  {
   "cell_type": "code",
   "execution_count": null,
   "metadata": {
    "scrolled": false,
    "slideshow": {
     "slide_type": "subslide"
    }
   },
   "outputs": [],
   "source": [
    "# code for the animation\n",
    "def omega(k_):  # dispersion relation\n",
    "    return np.sqrt(g*k_ + sigma*k_**3/rho)  # deep-water waves\n",
    "\n",
    "sigma = 7.2e-2  # surface tension of air/water interface [N/m^2]\n",
    "g = 9.81  # gravitational acceleration [m/s^2]\n",
    "rho = 1000.  # mass density of water [kg/m^3]\n",
    " \n",
    "nBeats = 2.\n",
    "t_end = nBeats*np.pi/(omega(k0+dk) - omega(k0))\n",
    "time = np.linspace(0., t_end, 256)\n",
    "\n",
    "fig = plt.figure() \n",
    "ax = plt.axes(xlim=(-x_end, x_end), ylim=(-10., 10.))\n",
    "ax.set_xlabel('$x$ [m]', fontsize=ftsz)\n",
    "\n",
    "ax.grid()\n",
    "\n",
    "list_of_lines = [ax.plot([], [], lw=1)[0]]\n",
    "\n",
    "def init():\n",
    "    for line in list_of_lines:\n",
    "        line.set_data([], [])\n",
    "    return list_of_lines\n",
    "\n",
    "def animate(i):\n",
    "    psi = 0*x + 0*1j\n",
    "    for ii in range(0, N):  # each individual psi_n\n",
    "        phase_t = omega(k_array[ii])*time[i]\n",
    "        psi += psi_n[ii]*np.exp(-1j*phase_t)\n",
    "    list_of_lines[0].set_data(x, np.real(psi))\n",
    "\n",
    "    return list_of_lines\n",
    "\n",
    "ani = animation.FuncAnimation(fig, animate, init_func=init,\n",
    "                              frames=len(time), interval=40, blit=True)\n",
    "\n",
    "plt.close()"
   ]
  },
  {
   "cell_type": "code",
   "execution_count": null,
   "metadata": {
    "scrolled": false,
    "slideshow": {
     "slide_type": "subslide"
    }
   },
   "outputs": [],
   "source": [
    "# Show the animation\n",
    "HTML(ani.to_html5_video())"
   ]
  },
  {
   "cell_type": "code",
   "execution_count": null,
   "metadata": {
    "slideshow": {
     "slide_type": "skip"
    }
   },
   "outputs": [],
   "source": [
    "# Save the animation\n",
    "ani.save('GaussianWavePacket.mp4'.format(N), dpi=100)"
   ]
  },
  {
   "cell_type": "markdown",
   "metadata": {
    "slideshow": {
     "slide_type": "skip"
    }
   },
   "source": [
    "Animation saved under ```GaussianWavePacket.mp4```.\n",
    "\n",
    "*Note: I realize that the content of this lecture is becoming more and more esoteric, with the number of parameters to keep track of becoming larger and larger. The bravest of you may get a better grip on it by using the code and changing the parameters. You may change $\\delta k$, $\\Delta k$ (via $\\eta$), $k_0$, etc. You can also make the duration of the propagation longer to see the wave packet change shape over longer durations (e.g., multiply `t_end` by 10; in that case, you may want to add more frames, as in* `np.linspace(0, t_end, 128*10)` *on the appropriate line, to keep the animation easy to analyse).*"
   ]
  },
  {
   "cell_type": "markdown",
   "metadata": {
    "slideshow": {
     "slide_type": "skip"
    }
   },
   "source": [
    "## Continuous superposition\n",
    "\n",
    "Here I show what a natural wave packet looks like: the continuous superposition of plane waves whose wavenumbers are infinitely close, i.e.,\n",
    "$$\\psi(x, t) = \\int_{-\\infty}^\\infty a(k)\\cos(kx - \\omega(k)t)\\di k, \\with \\omega(k) = kv(k).\\hspace{1cm}(2)$$\n",
    "The mathematical theory underlying it is that of Fourier transforms, which you haven't seen yet.\n",
    "I'll keep it simple."
   ]
  },
  {
   "cell_type": "markdown",
   "metadata": {
    "slideshow": {
     "slide_type": "skip"
    }
   },
   "source": [
    "For this to represent a well-identified wave packet, $a(k)$ has to be centered around some $k_0$, and decay fast enough as $|k-k_0|$ increases.\n",
    "For example, we can choose\n",
    "$$a(k) = a \\for |k-k_0|<\\Delta k/2,\\and a(k) = 0\\quad\\textrm{otherwise,}$$\n",
    "and making sure that $|\\Delta k| \\ll k_0$.\n",
    "This is a top-hat function, see King fig. 8.7, reproduced here in fig. 12."
   ]
  },
  {
   "cell_type": "markdown",
   "metadata": {
    "collapsed": true,
    "slideshow": {
     "slide_type": "skip"
    }
   },
   "source": [
    "Again, using the \"wave packet approximation\", we may write $\\omega(k) \\approx \\omega_0 + (k - k_0)v_g$, with $v_g = \\odel{\\omega}k|_{k=k0}$.\n",
    "The phase in eqn. (2) is now\n",
    "$$kx - \\omega t = k X(x, t) - \\beta t,$$\n",
    "with $X(x, t) = x - v_g t$ and $\\beta = \\omega_0 - k_0 v_g$."
   ]
  },
  {
   "cell_type": "markdown",
   "metadata": {
    "slideshow": {
     "slide_type": "skip"
    }
   },
   "source": [
    "Introducing the change of variables\n",
    "$$\\xi = kX - \\beta t\\and \\di \\xi = X \\di k,$$\n",
    "eqn. (2) becomes\n",
    "$$\\psi(x, t) = \\frac{a}{X}\\int_{\\xi_1}^{\\xi_2} \\cos\\xi\\di\\xi = \\frac{a}X (\\sin\\xi_2 - \\sin\\xi_1),$$\n",
    "with $\\xi_1 = (k_0 - \\Delta k/2)X - \\beta t$ and $\\xi_2 = (k_0 + \\Delta k/2)X - \\beta t$."
   ]
  },
  {
   "cell_type": "markdown",
   "metadata": {
    "slideshow": {
     "slide_type": "skip"
    }
   },
   "source": [
    "Using the trigonometric identity\n",
    "$$\\sin\\xi_2 - \\sin\\xi_1 = 2\\sin\\frac{\\xi_2 - \\xi_1}2\\cos\\frac{\\xi_2 + \\xi_1}2 = B(x, t)\\cos(k_0 x - \\omega_0 t),$$\n",
    "with\n",
    "$$B(x, t) = a\\frac{\\sin(X\\Delta k/2)}{X/2} = a\\Delta k \\textrm{sinc}\\left(\\frac{X\\Delta k}{2}\\right),$$\n",
    "with $\\textrm{sinc}(\\theta) = (\\sin\\theta)/\\theta$ the cardinal sine function."
   ]
  },
  {
   "cell_type": "markdown",
   "metadata": {
    "slideshow": {
     "slide_type": "skip"
    }
   },
   "source": [
    "$B(x, t)$ is a univariate function of $X = x - v_g t$: again, the wave packet propagates with a velocity $v_g$.\n",
    "The energy of the signal is again concentrated in the central wave packet, another illustration of the fact that **the group speed is the speed of propagation of the energy**."
   ]
  },
  {
   "cell_type": "markdown",
   "metadata": {
    "slideshow": {
     "slide_type": "subslide"
    }
   },
   "source": [
    "![Fig. 12: King 8.7](King87.png)"
   ]
  },
  {
   "cell_type": "markdown",
   "metadata": {
    "slideshow": {
     "slide_type": "skip"
    }
   },
   "source": [
    "See King fig. 8.7 (reproduced here, fig. 12)."
   ]
  },
  {
   "cell_type": "markdown",
   "metadata": {
    "slideshow": {
     "slide_type": "skip"
    }
   },
   "source": [
    "# Bandwidth Theorem"
   ]
  },
  {
   "cell_type": "markdown",
   "metadata": {
    "slideshow": {
     "slide_type": "skip"
    }
   },
   "source": [
    "The cardinal sine function is maximum when/where $X\\Delta k/2 = n\\pi$, $n\\in \\mathbb Z^*$.\n",
    "At any given time, the distance between the two zeros surrounding this maximum is $4\\pi/\\Delta k$.\n",
    "It is common to define the width of a wave packet $\\Delta x$ as half of that value, i.e., $\\Delta x = 2\\pi/\\Delta k$.\n",
    "Therefore, we have\n",
    "$$\\boxed{\\Delta x \\Delta k \\approx 2\\pi}.$$\n",
    "I write it with an approximate symbol, because while $\\Delta k$ is well defined here (though it doesn't always have to be), the definition of $\\Delta x$ was sort of arbitrary."
   ]
  },
  {
   "cell_type": "markdown",
   "metadata": {
    "slideshow": {
     "slide_type": "skip"
    }
   },
   "source": [
    "Equivalently, at a given position $x$, the duration between the zeros immediately before and after when the moment when the maximum of the wave packet passes by is $4\\pi/\\Delta \\omega$, with $\\Delta \\omega = v_g \\Delta k$.\n",
    "Again, we can define the temporal width of a wave packet $\\Delta t$ such that\n",
    "$$\\boxed{\\Delta t \\Delta \\omega \\approx 2\\pi}.$$\n",
    "While the two results are equivalent, it is the result above that is usually referred to as the **bandwidth theorem**."
   ]
  },
  {
   "cell_type": "markdown",
   "metadata": {
    "slideshow": {
     "slide_type": "skip"
    }
   },
   "source": [
    "Either way, this result is very important in quantum mechanics, Fourier transform theory, signal processing, etc. While it is grounded in mathematics, its expression is qualitative, and says that the more closely grouped together, frequencies are in a given signal, the wider the wave packet is.\n",
    "One extreme case is that of a single, sine or cosine function, say, $A\\sin(kx-\\omega t)$: the bandwidth is infinitely narrow (it consists of one wavenumber $k$, one angular frequency $\\omega$), and the wavepacket is infinitely wide (it consists of one infinitely periodic sine function).\n",
    "Here, \"frequency\" can also refer to \"wave number\", and \"wide\" can also mean that it takes a long time for the wave packet to pass by."
   ]
  },
  {
   "cell_type": "markdown",
   "metadata": {
    "slideshow": {
     "slide_type": "skip"
    }
   },
   "source": [
    "In QM, this is related to the *Heisenberg uncertainty principle*, which you will see in the second half of PHY293.\n",
    "In acoustics, it is why it is so hard to deal with drums in a recording studio or amplification: drums are hit, which is very brief in time.\n",
    "As a result, they send all sorts of frequencies, and it is hard to keep in check all the reverberation and propagation of each one of these frequencies.\n",
    "\n",
    "An analogy I like is that of radio hosts: at first, they all sound the same.\n",
    "After you listen to them for a while (long $\\Delta t$), you can tell their voices apart (frequency resolution $\\Delta \\omega$ becomes smaller and smaller).\n",
    "It is just an analogy: how one recognize a voice is incomparably more complicated!"
   ]
  },
  {
   "cell_type": "markdown",
   "metadata": {
    "slideshow": {
     "slide_type": "subslide"
    }
   },
   "source": [
    "![Fig. 13](King85.png)"
   ]
  },
  {
   "cell_type": "markdown",
   "metadata": {},
   "source": [
    "# Epilogue"
   ]
  },
  {
   "cell_type": "markdown",
   "metadata": {
    "slideshow": {
     "slide_type": "skip"
    }
   },
   "source": [
    "And here is a cool movie about thew experiment, following swell packets across the Pacific. Walter Munk, featured in the movie, turned 101 last year, but unfortunately passed away since.\n",
    "As I witnessed myself, he was showing up to work until the end, bouncing new ideas off of his colleagues, giving talks with the help of his walker; he also had re-married in 2011.\n",
    "Even though Walter Munk invented wave forecasting for the US navy landings during WWII, the dispersion relation had never been experimentally verified before.\n",
    "https://youtu.be/MX5cKoOm6Pk\n",
    "\n",
    "This movie has it all: pressure sensors using resonating standing wave modes, resonance frequencies of ships, wave packets, group speeds..."
   ]
  },
  {
   "cell_type": "code",
   "execution_count": null,
   "metadata": {
    "scrolled": true,
    "slideshow": {
     "slide_type": "slide"
    }
   },
   "outputs": [],
   "source": [
    "HTML('<iframe width=\"560\" height=\"315\" src=\"https://www.youtube.com/embed/MX5cKoOm6Pk\" frameborder=\"0\" allowfullscreen></iframe>')"
   ]
  }
 ],
 "metadata": {
  "anaconda-cloud": {},
  "celltoolbar": "Slideshow",
  "kernelspec": {
   "display_name": "Python [default]",
   "language": "python",
   "name": "python3"
  },
  "language_info": {
   "codemirror_mode": {
    "name": "ipython",
    "version": 3
   },
   "file_extension": ".py",
   "mimetype": "text/x-python",
   "name": "python",
   "nbconvert_exporter": "python",
   "pygments_lexer": "ipython3",
   "version": "3.5.6"
  }
 },
 "nbformat": 4,
 "nbformat_minor": 1
}
