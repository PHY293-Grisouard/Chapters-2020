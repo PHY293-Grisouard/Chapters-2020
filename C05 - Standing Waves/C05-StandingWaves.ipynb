{
 "cells": [
  {
   "cell_type": "raw",
   "metadata": {
    "raw_mimetype": "text/latex",
    "scrolled": true,
    "slideshow": {
     "slide_type": "skip"
    }
   },
   "source": [
    "\\newcommand{\\rads}{~rad.s$^{-1}$}\n",
    "\\newcommand{\\bnabla}{\\boldsymbol{\\nabla}}\n",
    "\\newcommand{\\eexp}[1]{\\textrm{e}^{#1}}\n",
    "\\newcommand{\\glm}[1]{\\overline{#1}^L}\n",
    "\\newcommand{\\di}[0]{\\textrm{d}}\n",
    "\\newcommand{\\bs}[1]{\\boldsymbol{#1}}\n",
    "\\newcommand{\\ode}[2]{\\frac{\\di {#1}}{\\di {#2}}}\n",
    "\\newcommand{\\oden}[3]{\\frac{\\di^{#1} {#2}}{\\di {#3}^{#1}}}\n",
    "\\newcommand{\\odel}[2]{\\di {#1}/\\di {#2}}\n",
    "\\newcommand{\\odeln}[3]{\\di^{#1} {#2}/\\di {#3}^{#1}}\n",
    "\\newcommand{\\pde}[2]{\\frac{\\partial {#1}}{\\partial {#2}}}\n",
    "\\newcommand{\\pden}[3]{\\frac{\\partial^{#1} {#2}}{\\partial {#3}^{#1}}}\n",
    "\\newcommand{\\pdel}[2]{\\partial_{#2} {#1}}\n",
    "\\newcommand{\\pdenl}[3]{\\partial^{#1}_{#3} {#2}}\n",
    "\\newcommand{\\divr}[1]{\\vec\\nabla \\cdot {#1}}\n",
    "\\newcommand{\\divrb}[1]{\\boldsymbol{\\nabla} \\cdot {#1}}\n",
    "\\newcommand{\\grad}[1]{\\vec \\nabla {#1}}\n",
    "\\newcommand{\\gradb}[1]{\\boldsymbol\\nabla {#1}}\n",
    "\\newcommand{\\curl}[1]{\\vec\\nabla \\times {#1}}\n",
    "\\newcommand{\\curlb}[1]{\\boldsymbol{\\nabla}\\times\\boldsymbol{#1}}\n",
    "\\newcommand{\\lapl}[0]{\\vec\\nabla^2}\n",
    "\\newcommand{\\laplb}[0]{\\boldsymbol{\\nabla}^2}\n",
    "\\newcommand{\\cplxi}[0]{\\mathrm i}\n",
    "\\newcommand{\\unit}[1]{\\mathbf{\\hat{#1}}}\n",
    "\\newcommand{\\thrfor}[0]{\\quad\\Rightarrow\\quad}\n",
    "\\newcommand{\\andeq}[0]{\\quad\\textrm{and}\\quad}\n",
    "\\newcommand{\\oreq}[0]{\\quad\\textrm{or}\\quad}\n",
    "\\newcommand{\\red}[1]{\\textcolor{red}{#1}}\n",
    "\\newcommand{\\blue}[1]{\\textcolor{blue}{#1}}\n",
    "\\newcommand{\\mage}[1]{\\textcolor{magenta}{#1}}\n",
    "\\newcommand{\\stirling}[2]{\\genfrac{[}{]}{0pt}{}{#1}{#2}}"
   ]
  },
  {
   "cell_type": "raw",
   "metadata": {
    "raw_mimetype": "text/latex",
    "slideshow": {
     "slide_type": "skip"
    }
   },
   "source": [
    "\\DefineVerbatimEnvironment{Verbatim}{Verbatim}{fontsize=\\scriptsize}"
   ]
  },
  {
   "cell_type": "markdown",
   "metadata": {
    "slideshow": {
     "slide_type": "skip"
    }
   },
   "source": [
    "$\\newcommand{\\rads}{~rad.s$^{-1}$}$\n",
    "$\\newcommand{\\bnabla}{\\boldsymbol{\\nabla}}$\n",
    "$\\newcommand{\\eexp}[1]{\\textrm{e}^{#1}}$\n",
    "$\\newcommand{\\glm}[1]{\\overline{#1}^L}$\n",
    "$\\newcommand{\\di}[0]{\\textrm{d}}$\n",
    "$\\newcommand{\\bs}[1]{\\boldsymbol{#1}}$\n",
    "$\\newcommand{\\ode}[2]{\\frac{\\di {#1}}{\\di {#2}}}$\n",
    "$\\newcommand{\\oden}[3]{\\frac{\\di^{#1} {#2}}{\\di {#3}^{#1}}}$\n",
    "$\\newcommand{\\odel}[2]{\\di {#1}/\\di {#2}}$\n",
    "$\\newcommand{\\odeln}[3]{\\di^{#1} {#2}/\\di {#3}^{#1}}$\n",
    "$\\newcommand{\\pde}[2]{\\frac{\\partial {#1}}{\\partial {#2}}}$\n",
    "$\\newcommand{\\pden}[3]{\\frac{\\partial^{#1} {#2}}{\\partial {#3}^{#1}}}$\n",
    "$\\newcommand{\\pdel}[2]{\\partial_{#2} {#1}}$\n",
    "$\\newcommand{\\pdenl}[3]{\\partial^{#1}_{#3} {#2}}$\n",
    "$\\newcommand{\\mde}[1]{\\frac{\\textrm{D} {#1}}{\\textrm{D} t}}$\n",
    "$\\newcommand{\\mdel}[1]{\\textrm{D}_t {#1}}$\n",
    "$\\newcommand{\\divr}[1]{\\vec\\nabla \\cdot {#1}}$\n",
    "$\\newcommand{\\divrb}[1]{\\boldsymbol{\\nabla} \\cdot {#1}}$\n",
    "$\\newcommand{\\grad}[1]{\\vec \\nabla {#1}}$\n",
    "$\\newcommand{\\gradb}[1]{\\boldsymbol\\nabla {#1}}$\n",
    "$\\newcommand{\\curl}[1]{\\vec\\nabla \\times {#1}}$\n",
    "$\\newcommand{\\curlb}[1]{\\boldsymbol{\\nabla}\\times\\boldsymbol{#1}}$\n",
    "$\\newcommand{\\lapl}[0]{\\vec\\nabla^2}$\n",
    "$\\newcommand{\\laplb}[0]{\\boldsymbol{\\nabla}^2}$\n",
    "$\\newcommand{\\cplxi}[0]{\\mathrm i}$\n",
    "$\\newcommand{\\unit}[1]{\\mathbf{\\hat{#1}}}$\n",
    "$\\newcommand{\\thrfor}[0]{\\quad\\Rightarrow\\quad}$\n",
    "$\\newcommand{\\andeq}[0]{\\quad\\textrm{and}\\quad}$\n",
    "$\\newcommand{\\oreq}[0]{\\quad\\textrm{or}\\quad}$\n",
    "$\\newcommand{\\red}[1]{\\textcolor{red}{#1}}$\n",
    "$\\newcommand{\\blue}[1]{\\textcolor{blue}{#1}}$\n",
    "$\\newcommand{\\mage}[1]{\\textcolor{magenta}{#1}}$\n",
    "$\\newcommand{\\stirling}[2]{\\genfrac{[}{]}{0pt}{}{#1}{#2}}$"
   ]
  },
  {
   "cell_type": "markdown",
   "metadata": {
    "slideshow": {
     "slide_type": "skip"
    }
   },
   "source": [
    "[*Book: varies from section to section.*]"
   ]
  },
  {
   "cell_type": "markdown",
   "metadata": {
    "slideshow": {
     "slide_type": "skip"
    }
   },
   "source": [
    "# Introduction"
   ]
  },
  {
   "cell_type": "markdown",
   "metadata": {
    "slideshow": {
     "slide_type": "skip"
    }
   },
   "source": [
    "It is difficult to define what a wave is, but it is easy to recognise one.\n",
    "Perhaps the most general definition of a linear wave is that it is a travelling disturbance, although one by which no mass travels on average (though it can transport other quantities such as energy or momentum), and which obeys a linear dispersion law (to be defined in this chapter).\n",
    "\n",
    "For example, sound waves are pressure fluctuations that travel, though the medium itself does not on average, and in the air or water, their dispersion relation is $\\lambda = cT$, with \n",
    "* $\\lambda$ is the wavelength of the waves, e.g., the distance between two high- or low-pressure regions,\n",
    "* $T$ the period of the waves, i.e., the duration between two instants when the pressure is maximum or mimimum,\n",
    "* $c = \\sqrt{\\partial_{\\rho}P|_S}$, read \"square root of the partial derivative of thermodynamic pressure $P$ with respect to mass density $\\rho$ at constant entropy $S$\". \n",
    "    This is the speed of the wave. \n",
    "\n",
    "At the microscopic level, molecules of a fluid \"bump\" into each other, but return to their original position on average.\n",
    "The restoring force is simply provided by return of momentum to sender at shock, and damping can happen if the shocks are not completely elastic.\n",
    "The position of a molecule can therefore be very crudely modelled as a SHO or DHO.\n",
    "In a solid, it is the displacement of the atoms around their preferred rest position when the wave travels that in turn displaces neighbouring atoms, etc.\n",
    "On average however, the atoms themselves do not travel.\n",
    "I could multiply the examples: swell, waves in a pond, seismic waves, electromagnetic waves, gravitational waves, my very own oceanic internal inertia-gravity waves, stadium waves, and of course the quantum waves that Profs. Sinervo and Netterfield will talk about in the rest of PHY293 and 294.\n",
    "    \n",
    "The expression $\\lambda = cT$ was not specific to acoustic waves, and was actually generic to any kind of linear wave.\n",
    "Physics only entered the problem when I defined what $c$ was.\n",
    "In this chapter, as in all others in my 1/2 of the course, we will not worry too much about the physics, but rather, we will look at standard mathematical techniques to solve generic wave problems."
   ]
  },
  {
   "cell_type": "markdown",
   "metadata": {
    "slideshow": {
     "slide_type": "skip"
    }
   },
   "source": [
    "Waves travel in a continuum.\n",
    "Sometimes the continuum is an approximation of a discrete medium, like a gas of molecules or a crystal being approximated as a smooth, \"grainless\" medium, or like a super long chain of masses attached by springs.\n",
    "And sometimes, the medium is actually a continuum.\n",
    "For example, the ultimate continuum is vacuum, which can support the propagation of EM waves."
   ]
  },
  {
   "cell_type": "markdown",
   "metadata": {
    "slideshow": {
     "slide_type": "skip"
    }
   },
   "source": [
    "A continuum can therefore be modeled as an infinite number of oscillators, coupled together.\n",
    "Based on the results of the previous chapters, an infinite number of modes of oscillations can arise.\n",
    "As in the previous chapter, a given mode will be characterized by a certain number of nodes and antinodes.\n",
    "If the boundaries are constrained enough that they force the creation of nodes (like our coupled masses attached to walls or strings on a guitar) or antinodes (like when one blows in a flute, or water waves against a vertical wall), the waves are called \"standing waves\".\n",
    "Their formalism is very close to the types of eigenvalue problems we encountered in the previous chapter, which we describe, right after a series of introductory videos."
   ]
  },
  {
   "cell_type": "markdown",
   "metadata": {},
   "source": [
    "First off, let me remind you of how I ended last lecture: if you add a lot of coupled oscillators, the motion looks continuous from afar (see below on Jupyter; also at https://youtu.be/Ki70ShYFtmA  and https://play.library.utoronto.ca/c4febe4cb2b4b0e8ee5641ffa524b24f)."
   ]
  },
  {
   "cell_type": "code",
   "execution_count": 29,
   "metadata": {},
   "outputs": [
    {
     "data": {
      "image/jpeg": "[encoded data removed]",
      "text/html": [
       "\n",
       "        <iframe\n",
       "            width=\"560\"\n",
       "            height=\"315\"\n",
       "            src=\"https://www.youtube.com/embed/Ki70ShYFtmA\"\n",
       "            frameborder=\"0\"\n",
       "            allowfullscreen\n",
       "        ></iframe>\n",
       "        "
      ],
      "text/plain": [
       "<IPython.lib.display.YouTubeVideo at 0x7fe7a74d3d60>"
      ]
     },
     "execution_count": 29,
     "metadata": {},
     "output_type": "execute_result"
    }
   ],
   "source": [
    "from IPython.display import HTML, YouTubeVideo\n",
    "YouTubeVideo('Ki70ShYFtmA', width=560, height=315)"
   ]
  },
  {
   "cell_type": "markdown",
   "metadata": {},
   "source": [
    "Second, we will transition from a formalism that involves linear algebra and eigenmodes to one that involves continuous functions.\n",
    "You may find the wave formalism easier than the linear algebra one, but that is an illusion: the linear algrebra one is arguably simpler, *everything else being equal*. \n",
    "Because it was so simple, I was able to talk about complicated situations (oscillators with different masses, etc.). \n",
    "Here, with waves, I will stick to the most basic case, i.e., a string with a uniform mass density. \n",
    "If I were to study a string that was heavier on some parts (like a whip that gets thinner away from the handle, or a knotted string), then I would need to pull out a mathematical arsenal that would make eigenvalue problems sound like a joke: things like Wentzel-Kramers-Brillouin or Sturm-Liouville theories, asymptotic expansions, and so on.\n",
    "We would be looking for \"eigenfunctions\" (instead of eigenvectors) of \"linear operators\" (instead of linear tranformations), based on orthogonality properties defined by \"inner products\" (instead of dot products). \n",
    "If (and only if) you want more info about the connection between linear algebra and the mode calculations I am about to do, see the nice video below (Jupyter; also at https://youtu.be/TgKwz5Ikpc8, in particular, you will notice that I paraphrased the author at around 11:00)."
   ]
  },
  {
   "cell_type": "code",
   "execution_count": 30,
   "metadata": {
    "scrolled": true
   },
   "outputs": [
    {
     "data": {
      "image/jpeg": "[encoded data removed]",
      "text/html": [
       "\n",
       "        <iframe\n",
       "            width=\"560\"\n",
       "            height=\"315\"\n",
       "            src=\"https://www.youtube.com/embed/TgKwz5Ikpc8\"\n",
       "            frameborder=\"0\"\n",
       "            allowfullscreen\n",
       "        ></iframe>\n",
       "        "
      ],
      "text/plain": [
       "<IPython.lib.display.YouTubeVideo at 0x7fe7a47365e0>"
      ]
     },
     "execution_count": 30,
     "metadata": {},
     "output_type": "execute_result"
    }
   ],
   "source": [
    "YouTubeVideo('TgKwz5Ikpc8', width=560, height=315)"
   ]
  },
  {
   "cell_type": "markdown",
   "metadata": {},
   "source": [
    "In the previous chapter, I resorted to linear algebra because I wanted to tackle complicated cases (and also frankly because I am mandated by your EngSci lords and masters to do so).\n",
    "Here, I will stick to a uniform string, meaning that I will be able to bring the heat (comparatively) down to a simmer when it comes to mathematical derivations.\n",
    "In particular, I will use a method called \"separation of variables\".\n",
    "This method is as elementary to wave theory as the variable change $q_{1, 2} = x_1 \\pm x_2$ was to linear algebra.\n",
    "That being said, our focus of study is increasing in complexity, and you will want to brush up on properties of the sine and cosine functions, which I recall here:\n",
    "* https://play.library.utoronto.ca/b21e1232316da46813dcdd934a7d2e9e\n",
    "* https://play.library.utoronto.ca/72a731352751b768a77fbcc61e0bc26c\n",
    "* https://play.library.utoronto.ca/9c234e8a3716da640f253807a8973a28\n"
   ]
  },
  {
   "cell_type": "markdown",
   "metadata": {},
   "source": [
    "And finally, here is our go-to set-up: the wave on a string. I recorded three demos, shown below and also at\n",
    "* https://youtu.be/bcIeaNoB880 and https://play.library.utoronto.ca/1b369519194f7f25a371f977467e023d\n",
    "* https://youtu.be/DL47_MbRPmc and https://play.library.utoronto.ca/0813eb54d3f1db4a9c7ce2274c9ed8cd\n",
    "* https://youtu.be/_am6ogAuSjc and https://play.library.utoronto.ca/9553f6a2c1dea0c96f41ed9347fa1fbe"
   ]
  },
  {
   "cell_type": "code",
   "execution_count": 31,
   "metadata": {
    "scrolled": true
   },
   "outputs": [
    {
     "data": {
      "image/jpeg": "[encoded data removed]",
      "text/html": [
       "\n",
       "        <iframe\n",
       "            width=\"560\"\n",
       "            height=\"315\"\n",
       "            src=\"https://www.youtube.com/embed/bcIeaNoB880\"\n",
       "            frameborder=\"0\"\n",
       "            allowfullscreen\n",
       "        ></iframe>\n",
       "        "
      ],
      "text/plain": [
       "<IPython.lib.display.YouTubeVideo at 0x7fe7a63aaa00>"
      ]
     },
     "execution_count": 31,
     "metadata": {},
     "output_type": "execute_result"
    }
   ],
   "source": [
    "YouTubeVideo('bcIeaNoB880', width=560, height=315)"
   ]
  },
  {
   "cell_type": "code",
   "execution_count": 32,
   "metadata": {},
   "outputs": [
    {
     "data": {
      "image/jpeg": "[encoded data removed]",
      "text/html": [
       "\n",
       "        <iframe\n",
       "            width=\"560\"\n",
       "            height=\"315\"\n",
       "            src=\"https://www.youtube.com/embed/DL47_MbRPmc\"\n",
       "            frameborder=\"0\"\n",
       "            allowfullscreen\n",
       "        ></iframe>\n",
       "        "
      ],
      "text/plain": [
       "<IPython.lib.display.YouTubeVideo at 0x7fe7a6e096d0>"
      ]
     },
     "execution_count": 32,
     "metadata": {},
     "output_type": "execute_result"
    }
   ],
   "source": [
    "YouTubeVideo('DL47_MbRPmc', width=560, height=315)"
   ]
  },
  {
   "cell_type": "code",
   "execution_count": 33,
   "metadata": {},
   "outputs": [
    {
     "data": {
      "image/jpeg": "[encoded data removed]",
      "text/html": [
       "\n",
       "        <iframe\n",
       "            width=\"560\"\n",
       "            height=\"315\"\n",
       "            src=\"https://www.youtube.com/embed/_am6ogAuSjc\"\n",
       "            frameborder=\"0\"\n",
       "            allowfullscreen\n",
       "        ></iframe>\n",
       "        "
      ],
      "text/plain": [
       "<IPython.lib.display.YouTubeVideo at 0x7fe7a6e09580>"
      ]
     },
     "execution_count": 33,
     "metadata": {},
     "output_type": "execute_result"
    }
   ],
   "source": [
    "YouTubeVideo('_am6ogAuSjc', width=560, height=315)"
   ]
  },
  {
   "cell_type": "markdown",
   "metadata": {
    "slideshow": {
     "slide_type": "skip"
    }
   },
   "source": [
    "# Expectations"
   ]
  },
  {
   "cell_type": "markdown",
   "metadata": {
    "slideshow": {
     "slide_type": "slide"
    }
   },
   "source": [
    "## Remember\n",
    "\n",
    "* **The wave equation!!!**\n",
    "* What the phase speed is.\n",
    "* What the method of separation of variables is.\n",
    "* The expression of the phase speed for a taut string (useful during tests).\n",
    "* The meaning and definitions of the wavenumbers $k_n$, angular frequencies $\\omega_n$ and wavelengths $\\lambda_n$.\n",
    "* The orthogonality relations for sines and cosines.\n",
    "* The energy of any solution is the sum of the energies of each single mode."
   ]
  },
  {
   "cell_type": "markdown",
   "metadata": {
    "slideshow": {
     "slide_type": "-"
    }
   },
   "source": [
    "## Understand\n",
    "\n",
    "* Why standing wave modes are orthogonal normal modes of the vibrating taut string.\n",
    "* How and why standing wave modes behave like simple harmonic oscillators.\n",
    "* How boundary conditions make the set of possible $k_n$ discrete (countably infinite)."
   ]
  },
  {
   "cell_type": "markdown",
   "metadata": {
    "slideshow": {
     "slide_type": "-"
    }
   },
   "source": [
    "## Apply\n",
    "\n",
    "* Apply boundary conditions to standing wave modes.\n",
    "* Anything that appears in the worked examples, tutorials and problem sets."
   ]
  },
  {
   "cell_type": "markdown",
   "metadata": {
    "slideshow": {
     "slide_type": "skip"
    }
   },
   "source": [
    "# The Taut String"
   ]
  },
  {
   "cell_type": "markdown",
   "metadata": {
    "slideshow": {
     "slide_type": "skip"
    }
   },
   "source": [
    "Following the spirit of this lecture series, we are only interested in the equations themselves, not the physical coefficients. \n",
    "This is because the linear equations are generic, while the coefficients will better be derived in specialized courses.\n",
    "Therefore, we choose a propagation medium, that is as simple as we can: the taut string[^1].\n",
    "Because it is taut, shaking does not induce large displacements of the string, nor does it induce large slopes of the string.\n",
    "That is, $\\tan\\theta = \\odel{y}x \\ll 1$, where $x$ is the along-string direction and $y$ is the across-string direction (cf. fig. 5.8 of King, reproduced here; we assume that the string vibrations only happen in a plane, which means that we do not need a third dimension to describe it; adding a third dimension would be meaningful if we were interested in the Physics, while we only care about the general behaviour of the equation).\n",
    "\n",
    "[^1]: I had to look it up, other non-native English speakers might want to know that according to dictionary.com, it means tightly drawn; tense; not slack."
   ]
  },
  {
   "cell_type": "markdown",
   "metadata": {
    "slideshow": {
     "slide_type": "skip"
    }
   },
   "source": [
    "The smallness of the parameter means that the oscillations of a piece of string are linear.\n",
    "A restoring force brings the string back to the main axis, and each piece of string can be described as a simple or damped harmonic oscillator, coupled to its neighbours to the left and right.\n",
    "Because the piece of spring can be arbitrarily small, the number of coupled oscillators is infinite.\n",
    "Therefore, we have all the ingredients to study the wave equation."
   ]
  },
  {
   "cell_type": "markdown",
   "metadata": {
    "slideshow": {
     "slide_type": "slide"
    }
   },
   "source": [
    "![Fig. 1: King 5.8](String.png)"
   ]
  },
  {
   "cell_type": "markdown",
   "metadata": {
    "slideshow": {
     "slide_type": "slide"
    }
   },
   "source": [
    "# The Wave Equation"
   ]
  },
  {
   "cell_type": "markdown",
   "metadata": {
    "slideshow": {
     "slide_type": "skip"
    }
   },
   "source": [
    "[*Book: §§ 5.1, 5.3*]"
   ]
  },
  {
   "cell_type": "markdown",
   "metadata": {
    "slideshow": {
     "slide_type": "skip"
    }
   },
   "source": [
    "Let's break down the string into infinitesimally small slices, and let's consider in particular a piece of string that is located between $x_0$ and $x_0 + \\delta x$ (see fig. 1).\n",
    "The transverse displacements are along the $y$-axis, and we identify them as $y(x, t)$.\n",
    "The string has pass per unit length $\\mu$ (in kg/m), and is submitted to a tension $T$ (in N), which we treat as constant along the string.\n",
    "At the ends of the tiny slice, the string makes an angle $\\theta$ with the $x$-axis at $x_0$, and $\\theta + \\delta \\theta$ at $x_0+\\delta x$ (again, see fig. 1).\n",
    "\n",
    "Let's do the Newton, $m\\vec a = \\sum \\vec F$, on that piece of string ($m = \\mu \\delta x$).\n",
    "Actually, we are only interested in the transverse phenomena, i.e., $m\\ddot y = \\sum F_y$.\n",
    "\n",
    "Therefore, let's consider the $y$-component of the tension, because it is the one that restores the position of the string to its resting, along-$x$ situation.\n",
    "At $x=x_0$, the $y$-component of the tension is \n",
    "$$\\left.F_y\\right|_{x_0} = -T\\sin\\theta \\approx -T\\theta \\approx -T\\tan\\theta = -T\\left.\\pde{y}x\\right|_{x_0}.$$\n",
    "The minus sign is because if $\\theta > 0$, the force pulls in the negative direction (see fig. 1).\n",
    "The successive approximations I made above work well in the small-displacements regime.\n",
    "The regime corresponds to the **linear regime** of this physical system, which is the only one we study in this course.\n",
    "\n",
    "Similarly, at $x=x_0 + \\delta x$,\n",
    "$$\\left.F_y\\right|_{x_0+\\delta x} \\approx T\\left.\\pde{y}x\\right|_{x_0+\\delta x}.$$\n",
    "Note the positive sign this time, because the situation is opposite as before.\n",
    "\n",
    "The slice is infinitesimally small, and we have no reason to believe that a discontinuity exists between $x_0$ and $x_0 + \\delta x$ (if there is one, then we just pick a smaller $\\delta x$).\n",
    "For these reasons, we can Taylor-expand $\\left.F_y\\right|_{x_0+\\delta x}$ into\n",
    "$$ \\left.F_y\\right|_{x_0+\\delta x} \\approx T \\left(\\left. \\pde{y}x \\right|_{x_0} + \\delta x \\left. \\pde{}x\\pde{y}x \\right|_{x_0} \\right) = -\\left.F_y\\right|_{x_0} + \\delta x \\, T \\left. \\pden2{y}x \\right|_{x_0}.$$\n",
    "\n",
    "Neglecting all other forces like gravity, Newton then tells you that\n",
    "$$ \\mu \\delta x \\pden2yt = \\left.F_y\\right|_{x_0} + \\left.F_y\\right|_{x_0 + \\delta} \\approx \\delta x \\, T \\left. \\pden2{y}x \\right|_{x_0}.$$"
   ]
  },
  {
   "cell_type": "markdown",
   "metadata": {
    "slideshow": {
     "slide_type": "-"
    }
   },
   "source": [
    "Dividing by the mass and introducing $v^2 = T/\\mu$, we find\n",
    "$$ \\boxed{\\pden2yt = v^2\\pden2yx}.\\hspace{5cm} (1)$$"
   ]
  },
  {
   "cell_type": "markdown",
   "metadata": {
    "slideshow": {
     "slide_type": "skip"
    }
   },
   "source": [
    "Again, $y(x,t)$ is the distance from axis at location $x$ and time $t$, and $v$ is the so-called *phase speed* of the waves.\n",
    "It is the speed at which the disturbance propagates along the string, and we treat it as a constant.\n",
    "This is a vague definition at this point, because we don't have all the tools necessary to understand the subtleties of propagation speed.\n",
    "But basically, imagine launching a wave pulse on a long rope (cf. King fig. 5.1, reproduced here), and imagine that somehow, the motion of your hand described a so-called \"Gaussian function\" $y(t) = A\\exp[-(t-t_0)^2/\\sigma_t^2]$.\n",
    "This function means that your hand motion went from 0 at $t \\ll t_0$ to $A$ at $t=t_0$ and back to 0 for $t \\to \\infty$, and that the motion typically lasted a duration of $2\\sigma_t$.\n",
    "This function look like a bell curve and is one of the most frequently encountered functions in physics."
   ]
  },
  {
   "cell_type": "markdown",
   "metadata": {
    "slideshow": {
     "slide_type": "subslide"
    }
   },
   "source": [
    "![King 5.1](RopePulse.png)"
   ]
  },
  {
   "cell_type": "markdown",
   "metadata": {
    "slideshow": {
     "slide_type": "skip"
    }
   },
   "source": [
    "Assuming that the waves on the rope are not too dispersive, i.e., the pulse retains it shape (we will see later what this means more precisely), then the shape of the pulse on the rope will be\n",
    "$$ y(x, t) = A \\exp\\left[-\\left(\\frac{x - vt}{\\sigma_x}\\right)^2\\right] = A \\exp\\left[-\\left(\\frac{t - x/v}{\\sigma_t}\\right)^2\\right],$$\n",
    "i.e, it will look like a Gaussian function in space, propagating with a speed $v$, with a typical spatial width of $2\\sigma_x = 2v\\sigma_t$, but also in time, with a typical temporal width $2\\sigma_t$."
   ]
  },
  {
   "cell_type": "code",
   "execution_count": 34,
   "metadata": {
    "slideshow": {
     "slide_type": "skip"
    }
   },
   "outputs": [],
   "source": [
    "# We can plot this\n",
    "import numpy as np\n",
    "import matplotlib.pyplot as plt\n",
    "\n",
    "x = np.linspace(-1., 5.0, 1024)  # a 4-m long rope\n",
    "sigma_x = 0.5  # typical width of pulse\n",
    "A = 1.  # amplitude of diplacement 1 m (just for illustration purposes)\n",
    "v = 1.  # propagation velocity 1 m/s (for illustration purposes)\n",
    "t0 = 0.  # time of first snapshot\n",
    "t1 = 2.  # time of second snapshot\n",
    "ftsz = 13  # the font size\n",
    "\n",
    "y_t0 = A*np.exp(-((x - v*t0)/sigma_x)**2)\n",
    "y_t1 = A*np.exp(-((x - v*t1)/sigma_x)**2)\n",
    "\n",
    "plt.figure()\n",
    "ax = plt.gca()\n",
    "ax.plot(x, y_t0, 'b', label='pulse at $t=t_0$')\n",
    "ax.plot(x, y_t1, 'r--', label='pulse at $t=t_0+\\Delta t$')\n",
    "ax.set_xlabel('$x$ [m]', fontsize=ftsz)\n",
    "ax.set_ylabel('$y/A$', fontsize=ftsz)\n",
    "ax.grid()\n",
    "\n",
    "# annotation to highlight the spatial width of pulse\n",
    "ax.plot(2*[-sigma_x], [0.5/np.exp(1), 1.3/np.exp(1)], 'k')\n",
    "ax.plot(2*[sigma_x], [0.5/np.exp(1), 1.3/np.exp(1)], 'k')\n",
    "ax.annotate(s='', xy=(-sigma_x, .3), xytext=(sigma_x, 0.3),\n",
    "            arrowprops=dict(arrowstyle='<|-|>'))  # the double arrow\n",
    "ax.text(0., 0.3, r'$2\\sigma_x$',\n",
    "        verticalalignment='center', horizontalalignment='center',\n",
    "        backgroundcolor='w', fontsize=ftsz)\n",
    "\n",
    "# annotation to highlight the distance travelled during Delta t\n",
    "ax.axvline(0., color='k', linestyle='--')\n",
    "ax.axvline(v*(t1-t0), color='k', linestyle='--')\n",
    "ax.annotate(s='', xy=(0., .8), xytext=(v*(t1-t0), 0.8),\n",
    "            arrowprops=dict(arrowstyle='<|-'))  # the double arrow\n",
    "ax.text(0.5*v*(t1-t0), 0.8, r'$v\\Delta t$',\n",
    "        verticalalignment='center', horizontalalignment='center',\n",
    "        backgroundcolor='w', fontsize=ftsz)\n",
    "\n",
    "plt.legend(loc='center right')\n",
    "plt.autoscale(enable=True, axis='x', tight=True)\n",
    "plt.savefig('TranslatingPulse.png', dpi=100)\n",
    "plt.close()"
   ]
  },
  {
   "cell_type": "markdown",
   "metadata": {
    "slideshow": {
     "slide_type": "subslide"
    }
   },
   "source": [
    "![Fig. 2: translating pulse](TranslatingPulse.png)"
   ]
  },
  {
   "cell_type": "markdown",
   "metadata": {
    "slideshow": {
     "slide_type": "subslide"
    }
   },
   "source": [
    "While the wave equation has the same form in many contexts, the definition of $v$ varies from field to field.\n",
    "\n",
    "* EM waves in a vacuum: $v = c \\approx 3\\times 10^8$ m.s$^{-1}$;\n",
    "* water waves whose wavelength is much longer than the depth, like ocean swell or tsunamis, $v = \\sqrt{gh}$, with $g$ the gravitational acceleration [in m.s$^{-2}$] and $h$ the water depth [in m]. Onto the deep sea, where $h \\approx 5$ km, $v\\approx 220$ m.s$^{-1} \\approx$ 800 km.h$^{-1}$. This is faster than the speed of sound, but again, remember that waves don't carry water around. It is not that crazy. It means that a Tsunami originating in Japan will take 10 hours to arrive on Canada's West coast;\n",
    "* sound waves: $v = 340$ m.s$^{-1}$ in air; in water $\\sim 1,500$ m.s$^{-1}$;\n",
    "* seismic primary (or pressure) waves ($\\approx$ sound waves) in the Earth's Crust: $v\\approx 6-8$ km.s$^{-1}$,\n",
    "* seismic secondary (or shear) waves in the Earth's crust: $v\\approx 3-4$ km.s$^{-1}$,\n",
    "* ... and for our taut string, $v = \\sqrt{T/\\mu}$, with $T$ the along-axis tension force [in N] and $\\mu$ the mass per unit length of the string [in kg.m$^{-1}$]. For a violin E string (the skinniest I think), $T \\approx 68$ N, $\\mu \\approx 0.126$ g for $33$ cm long, or $3.8\\times 10^{-4}$ kg.m$^{-1}$, and $v \\approx 420$ m.s$^{-1}$."
   ]
  },
  {
   "cell_type": "markdown",
   "metadata": {
    "slideshow": {
     "slide_type": "subslide"
    }
   },
   "source": [
    "# Standing Waves\n",
    "\n",
    "[*Book: § 6.1*]"
   ]
  },
  {
   "cell_type": "markdown",
   "metadata": {
    "slideshow": {
     "slide_type": "skip"
    }
   },
   "source": [
    "## General expression"
   ]
  },
  {
   "cell_type": "markdown",
   "metadata": {
    "slideshow": {
     "slide_type": "skip"
    }
   },
   "source": [
    "We will talk about traveling waves in the next chapter.\n",
    "Right now, we focus on *standing waves*, traveling waves' evil twins.\n",
    "Both descriptions are interchangeable: standing waves can be described and the sum of two traveling waves, and traveling waves can be decomposed on a basis of standing waves, which are the equivalent of the normal modes of the previous chapter.\n",
    "More on this later, but for now, let's dive in."
   ]
  },
  {
   "cell_type": "markdown",
   "metadata": {
    "slideshow": {
     "slide_type": "skip"
    }
   },
   "source": [
    "The key step is to **assume a form of the solutions to the wave equation (1) in which the variables are separable**:\n",
    "$$ \\boxed{y(x, t) = f(x) h(t)}.$$"
   ]
  },
  {
   "cell_type": "markdown",
   "metadata": {
    "slideshow": {
     "slide_type": "skip"
    }
   },
   "source": [
    "*Note: another try, another mathematical trick. How could you come up with it? You don't have to. As a researcher, I can tell that it is one of the easiest and therefore first things to do when one doesn't know anything about the solution. For you, just remember that it works. But remember it well, because it is important!*"
   ]
  },
  {
   "cell_type": "markdown",
   "metadata": {
    "slideshow": {
     "slide_type": "skip"
    }
   },
   "source": [
    "Therefore,\n",
    "$$ \\pden2yt = f(x)\\oden2{h(t)}t = f(x)\\ddot h(t) \\andeq \\pden2yx = h(t)\\oden2{f(x)}x = h(t)f''(x), $$\n",
    "and the wave equation becomes\n",
    "$$  f(x)\\oden2{h(t)}t = v^2 h(t)\\oden2{f(x)}x. $$"
   ]
  },
  {
   "cell_type": "markdown",
   "metadata": {
    "slideshow": {
     "slide_type": "skip"
    }
   },
   "source": [
    "The usefulness of this form is not apparent until after division by $f(x)h(t)$, i.e.\n",
    "$$ \\frac{1}{h(t)}\\oden2{h(t)}t = v^2 \\frac{1}{f(x)}\\oden2{f(x)}x. $$"
   ]
  },
  {
   "cell_type": "markdown",
   "metadata": {
    "slideshow": {
     "slide_type": "skip"
    }
   },
   "source": [
    "Looking at the equation closely, one notices that the LHS only depends on $t$, while the RHS only depends on $x$ (recall that $v$ is constant).\n",
    "The only way for two functions that depend on two different variables to be equal to each other is for both of them to be equal to a constant, i.e.,\n",
    "$$ \\frac{1}{h(t)}\\oden2{h(t)}t = v^2 \\frac{1}{f(x)}\\oden2{f(x)}x = -\\omega^2. $$"
   ]
  },
  {
   "cell_type": "markdown",
   "metadata": {
    "slideshow": {
     "slide_type": "fragment"
    }
   },
   "source": [
    "Why $-\\omega^2$? Because, for example,\n",
    "$$ \\frac{1}{h(t)}\\oden2{h(t)}t = -\\omega^2 \\thrfor \\boxed{\\ddot h(t) + \\omega^2 h(t) = 0}. $$\n",
    "This is the **same equation as an SHO**, and the solution is still\n",
    "$$ h(t) = H\\cos(\\omega t + \\phi). $$"
   ]
  },
  {
   "cell_type": "markdown",
   "metadata": {
    "slideshow": {
     "slide_type": "subslide"
    }
   },
   "source": [
    "Likewise,\n",
    "$$ f(x) = F\\cos(kx + \\phi_f), \\quad \\textrm{with} \\quad k = \\omega/v. $$"
   ]
  },
  {
   "cell_type": "markdown",
   "metadata": {
    "slideshow": {
     "slide_type": "skip"
    }
   },
   "source": [
    "In this chapter however, it will be easier for us to write the expression above as\n",
    "$$ f(x) = A \\cos(kx) + B \\sin(kx). $$"
   ]
  },
  {
   "cell_type": "markdown",
   "metadata": {
    "slideshow": {
     "slide_type": "skip"
    }
   },
   "source": [
    "Can we write \n",
    "$$ y(x, t) = H \\cos(\\omega t + \\phi)\\left[ A \\cos(kx) + B \\sin(kx) \\right] $$\n",
    "yet?\n",
    "Not quite, because $\\omega$ and $k$ can take many values.\n",
    "As we are about to see, for a given set of boundary conditions, there is a discrete but infinite number of possible solutions for $f$ and $h$."
   ]
  },
  {
   "cell_type": "markdown",
   "metadata": {
    "slideshow": {
     "slide_type": "skip"
    }
   },
   "source": [
    "## Boundary conditions"
   ]
  },
  {
   "cell_type": "markdown",
   "metadata": {
    "slideshow": {
     "slide_type": "skip"
    }
   },
   "source": [
    "In this chapter, we will solely focus on a string that is attached at both ends.\n",
    "Let $x=L$ and $x=0$ be the locations of the walls.\n",
    "Mathematically, the statement translates into:\n",
    "$$ y(t, 0) = y(t, L) = 0 \\thrfor f(0) = f(L) = 0.$$"
   ]
  },
  {
   "cell_type": "markdown",
   "metadata": {
    "slideshow": {
     "slide_type": "skip"
    }
   },
   "source": [
    "$$ f(0) = A\\cos0 + B\\sin0 = A = 0. $$\n",
    "$$ \\thrfor f(L) = B\\sin(kL) = 0 \\thrfor kL = n\\pi, \\ n\\in \\mathbb N^*. $$\n",
    "$\\mathbb N^*$ means that zero is excluded.\n",
    "Indeed, because $k = \\omega/v$, $k=0\\Rightarrow\\omega = 0$, i.e., it is a trivial, non-oscillating solution.\n",
    "\n",
    "Strictly mathematically, I should actually write $n\\in \\mathbb Z^*$ instead.\n",
    "But $k<0$ means that $\\sin(kx) < 0$, and the result is the same if $B<0$ (which is weird) or $\\phi_h$ is augmented by $\\pi$ (which describes the same physical reality).\n",
    "Therefore, I will use $n \\in \\mathbb N^*$."
   ]
  },
  {
   "cell_type": "markdown",
   "metadata": {
    "slideshow": {
     "slide_type": "subslide"
    }
   },
   "source": [
    "Consequently, an infinite number of $k$'s can satisfy the wave equation when both ends are attached:\n",
    "$$ \\boxed{k_n = \\frac{n\\pi}L, \\quad n\\in \\mathbb N^*}. $$"
   ]
  },
  {
   "cell_type": "markdown",
   "metadata": {},
   "source": [
    "Recall that $k = \\omega/v$, therefore, the set of frequencies is also a countably infinite set:\n",
    "$$ \\boxed{\\omega_n = \\frac{n\\pi v}L, \\quad n\\in \\mathbb N^*}. $$"
   ]
  },
  {
   "cell_type": "markdown",
   "metadata": {
    "slideshow": {
     "slide_type": "skip"
    }
   },
   "source": [
    "***\n",
    "\n",
    "*End of 6 October lecture, beginning of 7 October lecture.*\n",
    "\n",
    "***"
   ]
  },
  {
   "cell_type": "markdown",
   "metadata": {
    "slideshow": {
     "slide_type": "skip"
    }
   },
   "source": [
    "The corresponding solution for a given $n$ is therefore\n",
    "$$ y_n(t, x) = C_n \\cos(\\omega_n t + \\phi_n)\\sin(k_n x). $$\n",
    "Such a partial solution is a **mode of vibration** of the string.\n",
    "It is of course the equivalent of the normal modes of the coupled systems of oscillators we saw in the last chapter.\n",
    "There is now an infinite number of them, because the string is a continuous system that can be viewed as an infinite number of coupled oscillators."
   ]
  },
  {
   "cell_type": "markdown",
   "metadata": {
    "slideshow": {
     "slide_type": "subslide"
    }
   },
   "source": [
    "Like in the previous chapter, any solution can be written as a linear combination of a countably infinite set of **modes**, i.e.,\n",
    "$$ \\boxed{y(t, x) = \\sum_{n = 1}^{\\infty} C_n \\cos(\\omega_n t + \\phi_n)\\sin(k_n x)}. \\hspace{5cm} (2)$$"
   ]
  },
  {
   "cell_type": "code",
   "execution_count": 35,
   "metadata": {
    "slideshow": {
     "slide_type": "skip"
    }
   },
   "outputs": [],
   "source": [
    "# the following two packages allow me to display the animation\n",
    "from matplotlib import animation\n",
    "# More about animations: \n",
    "# https://stackoverflow.com/questions/43445103/inline-animations-in-jupyter\n",
    "# http://louistiao.me/posts/notebooks/embedding-matplotlib-animations-in-jupyter-notebooks/"
   ]
  },
  {
   "cell_type": "code",
   "execution_count": 36,
   "metadata": {
    "slideshow": {
     "slide_type": "skip"
    }
   },
   "outputs": [],
   "source": [
    "N = 4  # number of modes I want to display\n",
    "L = .33  # length of string: 33 cm\n",
    "T = 68  # tension in the string: 68 N\n",
    "mu = 0.125/L  # mass per unit lenght of the string\n",
    "\n",
    "x = np.linspace(0., L, 128)  # the x array\n",
    "v = np.sqrt(T/mu)  # phase speed\n",
    "k0 = np.pi/L  # the fundamental k; k_n = n*k0 and omega_n = n*v*k0\n",
    "\n",
    "k = [n*k0 for n in range(1, N+1)]  # the list of k's\n",
    "omega = [n*k0*v for n in range(1, N+1)]  # the list of k's\n",
    "C = [0.2+0.3/n for n in range(1, N+1)]  # I let the amplitude decrease with mode number, aribrarily\n",
    "f_modes = {}  # we will store the modes into a python structure called dictionary\n",
    "# f_modes only stores the spatial information\n",
    "for n in range(N):\n",
    "    f_modes[n] = np.sin(k[n]*x)"
   ]
  },
  {
   "cell_type": "code",
   "execution_count": 37,
   "metadata": {
    "slideshow": {
     "slide_type": "skip"
    }
   },
   "outputs": [],
   "source": [
    "# Various quantities\n",
    "t_end = 2.*np.pi/(omega[0]) # time array spans one fundamental frequency\n",
    "n_frames = 50  # number of frames for animation\n",
    "time = np.linspace(0., t_end, n_frames)  # time array\n",
    "\n",
    "imagelist = []  # list of frames to eventually animate\n",
    "\n",
    "# Animation\n",
    "fig = plt.figure()\n",
    "ax = plt.gca()\n",
    "ax.set_xlim([0., 1.])\n",
    "ax.set_ylim([0.5, N+0.5])\n",
    "ax.set_xlabel('$x/L$', fontsize=ftsz)\n",
    "ax.set_yticks(range(1, N+1))\n",
    "ax.set_ylabel('$y_n(t, x) + \\mathrm{ mode\\ number\\ } n$', fontsize=ftsz)\n",
    "ax.grid()\n",
    "\n",
    "x_positions = np.tile(x, (N, 1))/L  # replicate the x array N times\n",
    "y_modes = np.zeros((N, len(x)))  # nx positions for N modes\n",
    "first_iteration = True  # I will want to save the first picture for the pdf notes\n",
    "for t in time: # We loop over time to animate the modes\n",
    "    for n in range(N):\n",
    "        y_modes[n, :] = 1 + n + C[n]*f_modes[n]*np.cos(omega[n]*t)\n",
    "    im = plt.scatter(x_positions, y_modes, c=y_modes, cmap='copper')\n",
    "    imagelist.append([im])\n",
    "\n",
    "# Creation of the animation\n",
    "ani = animation.ArtistAnimation(fig, imagelist, interval=40, blit=True, repeat_delay=1000)\n",
    "plt.close()"
   ]
  },
  {
   "cell_type": "code",
   "execution_count": 47,
   "metadata": {
    "scrolled": true,
    "slideshow": {
     "slide_type": "subslide"
    }
   },
   "outputs": [
    {
     "data": {
      "text/html": [
       "<video width=\"432\" height=\"288\" controls autoplay loop>\n",
       "  <source type=\"video/mp4\" src=\"data:video/mp4;base64,AAAAIGZ0eXBNNFYgAAACAE00ViBpc29taXNvMmF2YzEAAAAIZnJlZQABGcptZGF0AAACrwYF//+r\n",
       "3EXpvebZSLeWLNgg2SPu73gyNjQgLSBjb3JlIDE2MCByMzAxMU0gY2RlOWE5MyAtIEguMjY0L01Q\n",
       "RUctNCBBVkMgY29kZWMgLSBDb3B5bGVmdCAyMDAzLTIwMjAgLSBodHRwOi8vd3d3LnZpZGVvbGFu\n",
       "Lm9yZy94MjY0Lmh0bWwgLSBvcHRpb25zOiBjYWJhYz0xIHJlZj0zIGRlYmxvY2s9MTowOjAgYW5h\n",
       "bHlzZT0weDM6MHgxMTMgbWU9aGV4IHN1Ym1lPTcgcHN5PTEgcHN5X3JkPTEuMDA6MC4wMCBtaXhl\n",
       "ZF9yZWY9MSBtZV9yYW5nZT0xNiBjaHJvbWFfbWU9MSB0cmVsbGlzPTEgOHg4ZGN0PTEgY3FtPTAg\n",
       "ZGVhZHpvbmU9MjEsMTEgZmFzdF9wc2tpcD0xIGNocm9tYV9xcF9vZmZzZXQ9LTIgdGhyZWFkcz05\n",
       "IGxvb2thaGVhZF90aHJlYWRzPTEgc2xpY2VkX3RocmVhZHM9MCBucj0wIGRlY2ltYXRlPTEgaW50\n",
       "ZXJsYWNlZD0wIGJsdXJheV9jb21wYXQ9MCBjb25zdHJhaW5lZF9pbnRyYT0wIGJmcmFtZXM9MyBi\n",
       "X3B5cmFtaWQ9MiBiX2FkYXB0PTEgYl9iaWFzPTAgZGlyZWN0PTEgd2VpZ2h0Yj0xIG9wZW5fZ29w\n",
       "PTAgd2VpZ2h0cD0yIGtleWludD0yNTAga2V5aW50X21pbj0yNSBzY2VuZWN1dD00MCBpbnRyYV9y\n",
       "ZWZyZXNoPTAgcmNfbG9va2FoZWFkPTQwIHJjPWNyZiBtYnRyZWU9MSBjcmY9MjMuMCBxY29tcD0w\n",
       "LjYwIHFwbWluPTAgcXBtYXg9NjkgcXBzdGVwPTQgaXBfcmF0aW89MS40MCBhcT0xOjEuMDAAgAAA\n",
       "GuZliIQAN//+9vD+BTY7mNCXEc3onTMfvxW4ujQ3vc4AAAMAADfc5kT+ypMG5sAAAujx+kffv+YB\n",
       "nT1Jy3yMyBTBrFnhRI4VF2sorB17Jk55i+LS1boazt1HWIh/kHxFVKqg0LBJmhx2lQjuvrPXmaPx\n",
       "F4zuyxnMfT7rMZ2PFREDUIOLPRbgq5V42tVSsyQPrBI9QOSLGmw6WJn/XKzvKBkOxZhAxliNj22y\n",
       "+unO9lCNDw1zQ1yF+huiBZT0qgWQS+K5MWVEvulOFJf72RIIlaVlYqh62f3vaP092jn2AWn/2OHO\n",
       "PPejyZQ+LT5fxJd31OoRpQYMnrR40XFpKvcI4TpqyfMUsRRSXHptAtQ60XXrQumEJsJ1yQASwibB\n",
       "xXMAhI8StJGMDiq4QNqLZlaxbATH1Dy9dEEaoHQjQLOEgPfP2RdptYbKEhHjfsMj6PowhMOC1Els\n",
       "jcO7TXwYLZRhM2U9if0xfQSlGdnofK9wmENvmaHdD5g+Tiov6Prap51thrO78G1W/hWZy7KFU7ec\n",
       "TYEIkJP2JMAGYuDkC1qn7L1YQqx6XVQt7whzaN4ZTj7KQk3UrPH8SmZzeRxvDuRVAVq89t5Q0NQj\n",
       "c0+XuVeRhBWc6U2XZG+bh0cNeQdd5uI7jWiWxfTF6t7rtUGMYXJmqlI/ZrZzOnYBRdwhqxuFwW49\n",
       "mnI28DVTyCpZIs2TjxfeM5w9MioXmL1+tA+/y0nDrC8K2nsAawz3mTJn+I24qbN/7NaHraonXmAw\n",
       "gQY0C1WEJxGLq2z+sU2Rc3qKseE1OqMqBIWv1ORyI38yPEKdPfq9s7qFMKYpeVhXshcqYnDJsXxf\n",
       "+12sADbYgEsTCxq7SZLXWNpJMybHa+EgOHCH7qwBw4ml6HJrsoD5+QZjbCoV6Y3vHxEIiY7XbltZ\n",
       "I4gc5m1KHgWFX8MI0hl0tlIn4rmOZ/YNwFTqUA1yS8i9dnoC7Gf8KIczUugCVjU7+JiSmNFRXf2T\n",
       "+07dUcgvZMKV4leO5CBxC/WS5AclqfqJOrikUXnlN7lJ27octH1spBJaDB1oMK7tWoz8sSjKiP5N\n",
       "yAnsxDAGrHm9cxtK6B29osuPiGgW0xgoMxDLcxTy22FrAJi9YuyLbT2U9/1aJioT1Trla3Vz0x8J\n",
       "BCyqeeUYWmqRvyszqpGnAcb6FxSiHNEdgEqhS0AyuW5qNOm+54AZw+W1Yv8O756+FjcasU+UjDEH\n",
       "UKVabTsY5EfDLUH4u+v+SQE58YpwJZ/EFoRrw+zy7QhY8UU/mscyLCU11XjQ+H/ApQo6onmqRd9g\n",
       "IZPCYhlXwwLoYeUqDoaqy0CYZmIzGQp/j+jSKh+gxXmky21IzrRQZa0dVhjFJq/gz1EiQYTdjg4C\n",
       "jaltEU/uC+tgEbAV/KRNM2g5r/hZT3biQttU99BwovEyk11NXEhSEDyAUB64apBKDA/pUKXtDyAn\n",
       "BwuaLtGF0QI0ELnqLdCvT2UWfKYKyz8Uo0+OgXhfsOv8RW+8uB7St0PYK1r5y7qovVcUFJsyOOIC\n",
       "r0h+/9t0BwWJpfu/Q/3DviYXnispHKqreSK5qY8yHalFW69RU0G8xrubUYXIUq0K2lslFn1+0gGu\n",
       "i4hQQYLR1PgtT+MmjCCizGW1UHeWSvw6fY4UVS0yqxCD/hwgB4xe1eed9DHlXY7P4HeP5hJ/WaYT\n",
       "vHdkauX79MsGIeyqL5cmri7LAOhQU19jQzBT2VprIElpRDtUEILhPrOSGmOtV1tm/3dXhPcFpgBH\n",
       "P6n1WvKlvbwHYIwQQLY/BY/7U7Ac00pCe8oUySNxkKwHzD7d6xhJmgBl28WmJ/VTVKXvS9m+fGng\n",
       "L0TtJmmTWdUupDD3V1zK9rWyr3q9gzm97mGrpYEaFfvHJKhlVOfRpHAhCz1Nnvy8Q/d0W0lziaoi\n",
       "ZU+rUHzNiinSDnA7VlZ2Rx6OUx/Geq3FMASuuXKSEoS147V5xZoey41MyIijw+4c6qmFRaQz7X//\n",
       "3E4mrxnFede3v4O1xZTnGYI/3+Mhk1FKrLA09GnDQU706pF9LjD/T/K4Occ3g/c1qAZLxA9+V4Ru\n",
       "k+kxmqDi4pmBYhW2JcHR+50PoxnGsu+Oaj6Oj2MOFxUBt61x4cUs80IY46uJywJeCSnpCFabkUAM\n",
       "reKnrFZjO9nGeF95xIso8wdt5CBKyIdQG5nzNcaYpy+NUaW5Jnt9SL8mR5h7XS+igFlX5zNNFAYj\n",
       "xfxe7P1ZitBGN7kDs3rQM3zhu3Nak+K51ioE3Ih8LdJ1FaEhWOoyHF9Ss1QDfHhgEYhbQSfwDuYT\n",
       "It3+StkG6TWTSIzt5caV/dM68J2qE1ODl0TUlgx9Sorp/bP8qHwFwZ0aCdTGdO0klwc8LXLOv7/9\n",
       "gHi60G2Wf2RL0TnpQmbMMsmGxdgMjO65odCxPOarJJDpLcZgFONceC3rpvY/fW8b52e4N3jlEbBd\n",
       "ffUVmJEKL/e3tRtvnPamNwJORWYRd58zPFgJQomIOhOh3Qi03f7fkFpPYS178cufI3I8ecP9sBAL\n",
       "Fx7Rs0Fzd7UP5lVYjXvOmDB1W3viH76sORDdRXoRPZ+oxWACKDgnaQMniD4BWJIgA33nbaqy+E+b\n",
       "5UeblEI/uReG9eVJ3KeCJ+KK2Btwp6rUVbdiY2xjWZR02dSLbfB/uSNRisLyMQFf/ciQ/FMxf9YU\n",
       "5L/3fJMFL1+xp9Hlx0BOglf6MKfXIxzwJ/v303kOoUYRHTUHNAZHj26bFGel/Nh8TDgEKNBB6rYC\n",
       "YGXaJkYHtgP7EAo8rbhMTE3I4N5mCIc23IB/rTxl2QkCVz2sKs2GxiQ8YX4MUGVun//AkBuJ08d0\n",
       "+YHmsloXjX+3ZT1JsSMNlCsWF2E2J0sWXnZK0Am64rjoWG4Qgc7CbQ6oqUCXafWIIdKCUCQn43Wc\n",
       "5FUOR1+ze8XYoP6Rdmje+imnGy7Qx2uLmXnek0kkO+pS2dIam7VqHNdLk3tx+bN+i861/GydjaAb\n",
       "NUSbCfbNjkJF/P6/axfhk6/0u8d0i87zYtPIxFOmiVQ/vpKyHQ9RtLKcLW+rfSIA2TXnDJMdDk97\n",
       "ZTJzZGBOcqxYz/obv9/ErfhLYnoThrFjFV7ZVbN3dEUiC7U42IH4jFWH+d1DUHv8IYAHd66fZ/k7\n",
       "4obYIYKIpE9dVeNnDdzxv7UYHWKwquiGPZFy980+gs2nKGdoy/YRI6YJ0Rnsvxw2j/7YcQLPQHre\n",
       "rNVufgd1VuV7rgbwskSYtblQuXHLtVUGLppXnZ2qG9l7onMcnZhhVxQi0Cg+PfekmP+CKbaEblk9\n",
       "e4noa5iRi7limWQ/kf0oXu9nu2hvzd7h04f4pzo1KSKHUh4oOqNAfzqoLrUEdhVPZ7522VVjHkY8\n",
       "iuMW17tdSvfy6gCkg1hxxKjzOmtbh0TlnicXf/wN5LHGQaO4ceUF8e0LHm7kzR3cAxzOgo1sD+2G\n",
       "EVQxMzOIB/1BkzxaaDpBMjNmv6yyvg3ZxsmPobbr2+i1K/HG+bzkjglWbEVMQW5xRQTwu1RHUDM0\n",
       "q0rmpOvD3TJY1b3JPSnfAglqJDHbxHaUn96K+bswUp1yc9oLaX7QheeODVhDkoyJgdZ34Iwf6Xma\n",
       "Z9H4H7qrWQk6nEkCR0KTREp/FM65/TkdBvZvPF2gpQ4pUHGtaTIkdbWbwkq5QoU6C1uA2MtNGfq/\n",
       "lVLnoj/U5bocNj/RuCztvaq9N1es9qVC/8Miv0e5vb1em4s7eeNveD/XCRR86sqrtyvb/rYBzjdg\n",
       "kV0j+SmgfiezUU1qsL1Smg4GgTO4i9XSFEKwgZBWjL9HZKFp3JD1jK3GmppTxdJ+qaiMr+hVWCmy\n",
       "JU4WYGsUX/qfJSRxKvruNB3/cWBDcG5zYNVRuOiFOQv3YkXh/QXm+wW0KXl2t5GWm7fLxcgEJuG8\n",
       "l9mg+cyFZ+C4k66RqDBITRtT4WKgdppph9eyD80xd0EwBHWQnOXiQR7t/wDBottMz2yPGXzmMIte\n",
       "POynNQsxttKp1fn6fmnsbT1XV4M7J2JZL65cE8bgCH/tySmxFvQxt/MxOP0deFOFsEiW6RToHgmR\n",
       "impkwJdmw1VmthACLRVGX56jaoG0WhALl7NP+UNQk85b+7u8tESqs/YCkvjkqiLmNtMIkGXsXaoP\n",
       "tKgbn0ZbWOGFBdkMFL9VLQlgweKfCD7FTk5BTRcMNnw2lS42WoyLeVQesSp5h2F/dyHwhaa2skeK\n",
       "BTaLjkB+6cmkh/W/dqjT5xOmHOM159y78SZEumcmJ/UfewEOh3vYNsgF53bvOO9fkdA+wlOQ/Y95\n",
       "obUYe11gypzmyaFsKkt3vKslVk15o9wbXU8IN5mtPs8UFJ8dGH41UGB1/a9A0XF40d/as6phYq+w\n",
       "20nxfjgDjgz+I30cte7sajNSsUbODq35W9oXsdL3w+vu8kjF3atcTjxwlsOEpZN5AXdeVXey+zeC\n",
       "9qLa7oImjRBlh5qOKVhl0cBHqrKUXlKcFjGosokyintE+mLD9s9quMSjJ/5JINfRxRnYQfOgbtXX\n",
       "keVjCbe+0VuoutdEUfQNkiGzGfGVM6AE071C/w0B0LtkYHY6GyvzJ5vvS1ZEDfEDO4IpvRT9nQSQ\n",
       "APxQ5Y/8QEI21tS96MHudebJAstNOzt6Ws7cfwPaqOEsGjHz6/v4pv2zXK0gWAU/rCDGKXZx+Y4b\n",
       "/bM/mfb9ZFxrd55MXowzTllITTQ/oPPwtLddWZ+AaXfpGdzmHVgTwCeHoRf8Cuw9vqV36lpkwf0S\n",
       "/dDyJA/l0eQkApR5h5Ry1OUrvFYlvvBpPAdOij6HJBqE+fbenWufokQORCgh5wYL8GO1sB7oDQ5h\n",
       "hIUsQB37DHSnboQ8rHmqAgAZI3u0gkbryOASrvXWynlgHcOWb5Vqr9UXaQr1VTb0d2vNw8nOAbdP\n",
       "fjFhTXAfi4j1hYpYQ5vGHe3Y0S1yzUQqMs/cLBurtah0yKcjxm/H2D2jdtqlOz0faoDbNnVWzCEX\n",
       "oi/L5KhRF9XzQvZjtybU+YtV85L597CIQL2m3JqutTDL6uKQFj3SofbVAh39aIXRkHSEC03/Dt1l\n",
       "DrdJy/qGNYdug/Uvgk4bY/W1JaX7y02JFZkWU71aGggUxXNbQGlofXyVWLaLGKunFhzizGtFVFag\n",
       "JVJ7O7cncTPoW4dZXYpFgBv+JI7lU3+6uixUS1aNbRaKeS+6DH/krAH651Hm4ZT+s170K6z91lYZ\n",
       "hqBDrBm2bg+9VxdBgx4mNlu9vEd2o7xUu81S7MNhaD6iwFM3BCBiTJiRxV6LSeij6x07KHW1PSHw\n",
       "rjzIFn0Mecsdr20/3/re9hGzWmfUwDnEdMfY13hP2GGawZYijrC2k1gdmcYzrFuRp9230t3bctuT\n",
       "n+KiKOi1/LECEQ4cuwNF3rf5P83hTx796mUHU37TdNrP6LX8/eHijJuui8jCNnkdwu4K9IeyiVfK\n",
       "esHQtFq/OEkuUfKcbmtNeynOQqBroxQI3ERDR9zSqmYRXrfgjNF3CEb0ir/FC4nyr6PygvwROe9L\n",
       "mM6fx467UgwyDudKWf9lyOS+v/ynkLeoRo4OEij7t491iMXK158VBQOAK3dw+Z09Tt7ZmYPgGAvq\n",
       "RrcEJ/2nJ9UxJNFrWazK1cSrE/M/eyQ6ymNwzp27tCSH+1pq8JdSTx2PNs+HJu93y0pUZ5zOih6X\n",
       "TGOk59/BqOrj1bskiBtN+ZMqNn5pixAZoWl5Q79qKOupWjOjG+Bn9OzS5WVbpkD/5sz+887N+m3P\n",
       "eDh0MkJfQKPDU8JNVRdXtyAkVYPeRB79CH8n8pWEqpGd/skgvI7RfN2caWbhRznQ+QsCOmOkHHp8\n",
       "zx7DeSBJCJfqZwm4xA8mbLUx7etoV+yMPMrGIwhhE+voFbGJexAxVjWa+1DkMQHewlPUsL7B+Ipf\n",
       "6i6wlz5x8mIf5X+1ev82Wvo7NEKbUKZo7VeK8MxEyk4Kw1/WXEPgcMvHNOLPRN8+HhRLL22UCoxj\n",
       "+PoLr7bPPTlZ8JoOqwBijLpi/XtIJ5KzBA74Q423sJd8c/8XoYYBQCpxH/IopkACW6RUyB7Nu/bf\n",
       "15LaHTr/0EFhTPKYWoOmLJ1eIZTV2u6LPaQ7AsNo6qVHA/Th0qsN+KKqERkSd6VJrsN4PHM6Dl1M\n",
       "SLyTaZTNGkn4TMpb5LumBHeu7FDlhd5+bHwSh1kIZiafbejWRngEXpuwKpCh68K35LraHfsIKHe4\n",
       "8K8Ouj0JDktonLh/WMJ9KfSTgmxkjhOf8bohWkHvG/GypQ8tQvdaCLiR/eylOAQRyURoqC6FS7WH\n",
       "xfz/2ksmQ+ix8DGRR2882zBFENUE8zp3xDZrcEzsFSpwYp1tGhKO9P/pFOIl9k0LOpvQ3qwtA3Om\n",
       "9+S8nJN4Ai5rl05kNl50GDERU6J3vS2s/Nf31RE6ubl3Kn8v4dhAOGzaP21VnJGCC9SH/NXFwu0H\n",
       "DfcT2fceEI/zY2RYFcSvWrsScQW/x5Szf1KctPgM5/T3//jjyqoleHBLBZSebPHhYxHLSfqqdq7X\n",
       "N6vdszJ0kDYGKlZYZyvlNHXhEnNfLllYCy5XFjIALu4IVJ3UQZlPNiTWVTfIKb2hY9wM53thgT+D\n",
       "flw7+HxIUr2kQWJZkCvq9D/FFx+CYve+RPN+AvwI3sTtJw042bIUtCivlxf5/PlGtHmfNzUzMQ77\n",
       "WabXRXRUIfj3AJnZUX93q2HkWXZXxfmRoALqo6V28v2AsLNC7mlLBQLO+2bkN3JE/r6Sihcc7dTS\n",
       "AGiWnGM2mmSEKAjNAZ6PczHFLfWPYxd7wFtqK5MtoS8CDLP9VIf3bsFnX4oqmAlXk2Usn8MWUOL5\n",
       "k8+ElF65TbL+BJbAW0yv+bD2DnCDPqtnN68B0JHBLMkaJ22GAM78NZBhNt5hejfPnjmTBzz9JxiT\n",
       "8pw1HO5FJEHb4ZcdjqnJ9hI9ePk/9qN9rB1zgZyEdXd7k7V1bEYQBHyLhYnU84kdz35z9ThA0m3b\n",
       "HAJSKEuZAlGlrFcK4jJtYV8/u+7kBCPPwrQT1TIZmPU0puExC4Z1JAnBnQPc0Uy8h4xUpwvyIkeI\n",
       "H0kIh9fLX1biwho85RdYLlg561Us8e7IkeCFygmjX8UQPegx81ywBTHJXI1UaE78an74gjZHqtLo\n",
       "8TDqenRIeYk9sDz1f//w0U3szaMsTsYZ03rYjsJluuxKzMzeSFyMN0qcyjl2R3WuHvg3WtABwj3/\n",
       "tovwrf/rHqEla2AUj8r+iYdPjVwX9LBjtNgoxgnUe3QayVYM6yTPFSvLYC4Uz6HcaJM7jGRvFDKT\n",
       "pxy7M/0REjc6DM7Bda/k70sEzCdZhjvz6YR1eGdzc9mB2So2a5UoT3Wks2/AU3JPgQC09SSlfZVc\n",
       "ks15/W51ELU3X4Xi2qjIzIvmeGejyp3tnSm1y4UVuNFm3u1Lug6/S+HHssi5jA7aRFwd+BbeKRzW\n",
       "JD1TyEe/aNAUpnjZdvopquQPdAYyNmPnTni+fBvjrKcEu9fgD4h3EZjuBMzQrgAktWIjzB2XVXeF\n",
       "ORFRMVa3gtcEMq6qyyxmrydAxtTPqHJFHHp3S0+32qeNCj+npBBJDoytY1Y+o+18LS7zo+abRNM6\n",
       "YafEMurXwzfTU2vZ0pFQAxIMm6rl5MdoYKZ8781bWXdHB+/RKn1eYoPRHmr/x6imtjhRQ18nCcCv\n",
       "0Mtyp9M+ltKQdCJYgcWM13PXPhK6UiqY/01shnFWKtdy5dzFRysFtdv9Qv2L+ED6tFWVb2M+RX5Q\n",
       "6S6La5Xlr9FWC49RcpHcmQRE5bkf7l2XGXoaxTykCJBmNgglFLypGzKnipyKEvpBfu83G/oXhalS\n",
       "J+Xlsjb8HSGSpmE+XTm8ihSrBN2UU+1lGXgy3aJx9mT5Drq9V321Q6vp+RPQetz9g+gMFF6cnlkg\n",
       "W2TmAnpx5jZ4Mpt0Dd4ThYIRdVPcH+o1p2Mcz7TiZeAfJVs/jGxDtXBVOVViYcH9qNt1P4YsGD+I\n",
       "eBUKAaqafnDQ8/5XMLGWt3C4PkFjfgc8DwInXQyxW9BEtBfHCaVrF3EyYpE3ycYCLeTPNIDcyL7K\n",
       "zI1KaayPfw3w0cByPHqV1Cud0fIYC3HgLGHD2WgGlNx8lMaYSvTNX1hsP34/ZsR4MKWbJuZqwDLK\n",
       "lE5ax2lGSl5Pzj+r1vFEksKUJfW66z0w6vrWuzmKae7JrSJr48L/Myp+h/znp0PBiRie3c/4gwjr\n",
       "ZZgY7wZ7MnpXC6rLRjnNF7QiR8np3xAmyo6vshTqz2/9YxEaX/2+OyLOKhCEH4hbATTWAGzvVCjN\n",
       "2ecWX8uo9Oca5YHh3GJ36KrZJIooIRJo6TcC8+3Ov3UsnpKj5mrlT9lQeSPjLRqGG8ZouqRrg5gi\n",
       "+lVBAtOuQG4qKM0TEflN30Hhp9ZouOjnO9MfnDc2wiwSIC2iBXPvhn5/ZswiTfqCduavmyIMRiHR\n",
       "rSnslpCq/Y4CpzQ7oTZyy6RrrrpKDheDGK3QUelpQS+hvpGLCdgoI/LIymvX0ft6/N7EWORPGYET\n",
       "0Z1juxBMVhPbgbhHl3L7n6dK29bPhRWKQ6qo+2JEpjUN8pkIIfF6/JF9CC5lEUI3dvSAGRd0Gc3L\n",
       "J6jbWC5yf8chilwAIGse6EsGaAnI2Zn9p0lt0oBqcbrOf1YWUSQA4EiUAUcspahHPZ72H43Ehi5M\n",
       "AbZp/JjBKvEZWpmENvhUz7lSaJ+pfJTYt0DMgQWHAzxEfO8600ikG+oOmFi8PeHHnUh+2xrtXjPY\n",
       "+o4zbM8u159uLRPeOdAW4eG1nYP8mrp751bAye7DxP9rg7x4t3JvX976S1u5PYsT1TjIxyUvGWNi\n",
       "cziYgic/h1mwp8j5g5xD7gzCHuB4ehogzPjeV0rquvCGEm2nTZ1xqUECWwIN0MVzfMuTavNbeEQ8\n",
       "TR8UxYOq7Ycxv/xfqzdKFn/DY9lyljuzCVOfb0WRRN7E7pulrxowiiLpguEnLpfwVu6t3GtrFYIM\n",
       "mOKCIpVdND7QMhwy8X3PgDYgruCIB4UnpCpEi17sgjMHB39nSnJGcv+asEOGcdMpl5d6Xp1Gfqg0\n",
       "loq+eCmsDOJ9T54L60c7JT2YAAAEEAOk46jrydn9xViGum76si1nk1jIDsccbvab8zUn55VtHd18\n",
       "ftjq/OL6G1IKbETo5cXMmtUqo1BLeKJo7AuY0qlnKNxCrVjBPETxEN6tXJsLi1EXYPaoCEP7ye+T\n",
       "t/mSd74j4uH0k+xxlQST2ynLg4qHjlu/9VZawyjZBXt6eSczJEc214d0Tc4OwBzxAAAI5UGaJGxD\n",
       "f/6nhAHx7U/xXrHmu6hhF/xVysAALDwTO3C/CnPrO7qNk1qbkix8NeCDYuo407mzYz9cc+AfDzH1\n",
       "Ya5T4jKYOyBxIZIPyDneQqDgZUWfj23yCgb4u8NV+jmFtCN34z5U3uMZXQRYissF6UWk+58Tw481\n",
       "XweJF0hb2x+YZQ4raBDitzmJOiKNGEO0n2LhCEA9r4fDRjJe+imB7afPUoJwKY2acywYGgOeSWHb\n",
       "rnrswalGeoDN8fu3PXk7opGDLkVzb65x5mVgAVhvQyGgyKSKxU74BMAzSixQ5EPvZ8YOmylWzdi+\n",
       "TGQMsdN84EATXQY4hbDw/k+PQSW9gzkOJ6gzVJvB3Fi28HB+tbKPcEuLm3/R/ONkSxCAF6dtbcT9\n",
       "b5RUQuQfv2aHG80mciH9xFrN/oWeAL6WFJUacpIK/742jwpgNlNf+PwQ5dIz4j4qT8Zo07/mweZt\n",
       "gEo0quJQY/NVYYWfwCeAC0jOqdK+OWie2sfYSQh/PgB1y2swuAcV9rBe7qpUE1XiiZJSqw2Ph/K7\n",
       "nf13BryaSJozKEMi5MwT3qu/XAJ1og2UuFPuRswcCiSdb3dBzfQk89z+QgJwrnh0UxNZoXuv5RA5\n",
       "U7rQpti3R35y9fgbKFGAC8cwhyNT2MfLxp6fTBq3Iw5IgOcHE9V1YuIVBMf9MT3WSeDSaqIkcWV8\n",
       "+0lUTUr2WQD+YdywDZRvmy3f7vl1Mtv+NVALK82MGJ4O7mzCOo+YX8nnW994MOd/icctHtHLcFW9\n",
       "mUGRoSRjmFyK6K5NNe73WPshYRsaxr6s1GNOGkLSh4wK0ooiHEw1khVLRNoOCKDjmHtDNFWK78Yo\n",
       "yaeo9oql47PvxuGN5v26Za1fgcLVyoPP35CtErPepEx7lmjvRXaAGh13eFNM3Hnay3cH2d83wB6N\n",
       "UGAy1FtqgSFaQ/YNjZR3wzVuYrpHPreEDOyUeo3wu1UtD5QwV0wJyQ9NMEPkHDADgOiiBVGMtKDH\n",
       "SuuwTFPKq/tfWhk3ciu6Bot5xPwQ9T3E+ex/j5c4mClNUON/8y5LdXZvMAmSBWlmIsOZITSliUYn\n",
       "JgGZvQsoDhi6LkIQBPa+FHw+xhSJm98VQMzhlueosPp2SGj04EDe9pXRp96O5+SdWI8xyiJm7hZL\n",
       "k/qX9NYj6LKcRD3YQTPw414qo8KuKWOIP8NvC+bezyEZVqom1ci+1HZPHE1Bct91cQEUNBmX9aaW\n",
       "TsJfsdIiuNq+jxW9gBLdsw5tpBzP6n9FlGZvmfddZXQDMVJIvCEP7AOJV1zHKWb2TWShhmXjk75m\n",
       "7waFuR6zNFu8BGGGVv/KuM9gdJ4fvoN9uZN0340ikOP/AHOIoB6Es21W3UQxC/9cngTSEFK8wlWM\n",
       "8unWnEZemg0i15IxtOohot7exHnOa1RK+gZGItkcasOoNPU90ihTWvGjJj2kyz9sYERnscB83eiH\n",
       "UEgjGLvqOas/5OTuYN+e9a+d0C+71EfBVYTUvynEzAJVChhtFUboB5QCS/+gUE7Bck/RUW0KZTfc\n",
       "iElwZqoUkLYjK8aSEsrDHm+rCp0v8g/micXceOINlhgKfD8ANEh/2M+NirC+0dhSMP+tJSSWWAXE\n",
       "KL9BMUvniVWBTEfKvmm76kiGZwOH0vZO1RHy4p3er/2TY1tztHJQ3H7XvIsw5ISmqPAZgyO6TlU1\n",
       "NXb8jwxeQwlo0v3i/7jvGcB1u7xkQHZt/3jb0LIEnUSwuurUqiXYkNH3xX03PWYYZblD/+sOy2in\n",
       "5pTAWfLI01r6K8bve1LB35Ac6YIiZB5G0CNy6Tx9WY+vsiCTWp8H1Gnq2RhY1ZnQCRbu8VYLCCmP\n",
       "JpcwevhIQGMK0rYrmtTnoxmxJeZxLLHbSExTuL/Cjalqpq+j2B224dp/x4JQfxaNsqKSasp69i+R\n",
       "KE/qeoLZd29i3uhRieKQimoKpLoEktQiF70wYK3gdXtgHF3GoWSjTM9FaiSNMx4mlAcjdXTGgU7E\n",
       "y4+HsrcGxhcDfZebPNOunlcJPHR1DYQl4IB0CAHq/7lKQ/KkSzlB/RTVB3p+ku1/7m6zeN/NLAae\n",
       "sL2/WLMQ51Xzissgra67PMKxm4Y3TVh5N0QBz/Byw2UOVlySjfw2Zqb8oseeig1PJjvgTmYeH/Wk\n",
       "2f1ecfHsHPs0hxPuVkRnBHdnNzxFdQKSl/MFj7iVT/XMvjc4wKHh939opLLJi0p86kizyJnkbT/4\n",
       "PJEKlbB0/c4Fr3ZHZ9Kv5tSsR5/9TyR7ACaWoYSEvTeHfJdxydIS/vXPbb3PCUQLE6Ph5vzIPgK+\n",
       "bLqiT25okeRmv1/U1sEHF7KcEkiTrVL1LY5N8YiQqCLvftimKtzJWczUyMre/o1qYLI4SDERG/nu\n",
       "CCgN39OcqwWUrRn4eDiyi/+zFz/GF+ao9h9kJNRYe6jdV5sGkx7D8sXL0IDDsN8poCsOrEK6aunu\n",
       "NNhfqEvJ5ZfT2rf2Mg+sQna1+CXeGFKaUAFkLHffkm0Tjud/keZ5UdoJGhdQFN/QMNESIXm5ADXt\n",
       "tK6/fkS4f2Y6QVoNfuLzLESFL9n2U+VbNYkI9tJxNB6ksR0alrNBza7uHfLJO32/vKO1/Ja2znCB\n",
       "0YYbhcicTPsCu82TQzNgbb+6Qa9YSEL3SQtGbP0QVuATGFy0DMaR5BBVLpFM2gUu5M2fVoYJb3YN\n",
       "kG/BWsxRnBmBJwSU8a6SAcFoYJho96eFFF6u514mUv10T63s/Kfms9s82AndMNhnIuA+06/SKlrO\n",
       "gQgU3M4s+YWBh1ikudQvOmWh30PvGSNKgCHuEN2zGCJnwiLzHCQ7D1rhUkl40arCSQ3sr/bd6X/k\n",
       "K9efo6BMO6sCUnurpPOKIH/X13OA5y0yYIrjGnK5PK6OqK+fbZwWDoKhsKtETiXpCsunXXdLfbk4\n",
       "lQMySiKPUbQkqpoHx8juAvrjLx/d64UUY79qi5PfW/zQDuuzZajXljOLvGwkwsPYG3tLa1EipNDT\n",
       "i2WOmGNUDb7FhJ3tZX/SR9reBkoxS8M8c1P1AS8wUuA+4oc2HoEoCFoRDHUkheY0QAAABLNBnkJ4\n",
       "hf8A/pzNex9L15aUv5S4AWh4s5umxZ5IKnn0ALRuZdnG3sz3bWzXLEygIV3mHyJk+wisvNpZeyTu\n",
       "minqaV7XTavHy4d7sKY7yGoO7msYwMiZw6YK0Jg649O4bRSxWgvRoNr6UjZAzs1GSJO1RS7tYvPZ\n",
       "5M1uNk/Iyif96Ch0eNGn+6Vcs5El9mPV7ym+osWhB9YdYx2BMZG+8EQ2+AYgadcw5lEJvmbwK99q\n",
       "IXKyhHYo0Uca39A8a0nC6dzoaS9uDN/lt7TFI7HpKW3T1RhMXesOQQGJRwJ4QNe5hqdeljnxl+Bq\n",
       "PPwwcyQvQS8ocBdfFOLbti9gXJI4YDzn1etZ5aUa1BQ0r7ORK9r/XFczMDIRHq5GkwJeolmIAHsX\n",
       "cJNOKT11gJnQh8L/BW4FiuFv2NoGIjrNTZfupb/nKg3F2SmQ+iL1nm5ruLQOzHdqpMC7A6HwKqR6\n",
       "Sv0I05xpAfu8YmUrvZWZnVUBO2gz60YTKtaNyeN/j2u4wB2xV03VCrn+/93GFOL7+TQ9PzCCwda6\n",
       "4rlnJNNkQZyUqjObxOrCmHzbRuCClew8twLQkKKx3HlGv2JHSmIpj6bg1zeajWZUeE58OnLtvTRS\n",
       "/xWpohFVULvBC3IkmRGbpuRoI0fd+x0nrhZEEBnfr4W6BKtXpUJB7Bv2gaZeARMshBSvrQNft5XH\n",
       "TqlTx+cQ/IZB464lgvyGcMkV8GzA+zZ2OXbk5lomyhqK9ICZjPlekCNTcY60rVngdy9yIvumMDGb\n",
       "vivZfhJgv3QSbrH0QHAs/6J//kptBvdQYc/TMnZYTOZZ2heNFw6z+Os3EqUhkRQ7NUVFDsziL0vh\n",
       "xTjn/DpJHr2w8JT2Z28Gi1kJXEQe2vLarPaB9iW4LVYN4kYgpdPzac8Nvh7rrD2X2CYDXtxdTHbd\n",
       "VIxHs3muIOHeqmo7eJcRwyT0DjTkSb5n4d2bpysmOwqdcf7S5UKCIrFmDrXauK9jr9p6yeSt27Tr\n",
       "GGlh7P0+Vj7++GrLuy/I34mKr6uTD4WB7cHzqhH6Q+kc3sTJFQQW0crzJQtWqtBFb8lWmOAFw0vv\n",
       "5LqG1IGDNrP5UW9Z+3kok/XhRaSOqnKRk8xlwtmOADEgGgF20usXzCCHgwq7ZgiQLUfqul+BEq+h\n",
       "1fDpjOB3K1myVZgZ90JGF36vdI+gx7R8YzzdV1NZWjVbvBXmAOrWsmjY3zVQyHCRBvtdBaPKOO5i\n",
       "uMk0Xx/jlPOXGWZ1zWkUFYRWhiapf5pzRWDIXd5PQnFkXSAtIE6y//rOVI/SQfq4jQ5TWJdviS1M\n",
       "f7E6DWhwmxLGij4uPIPwBmRIZeFqrV7YR8/ygsDZ3pjfiwHmF/repAvl9QCYCpM1ee2gHeR92vDW\n",
       "+t/+Dv6z/kelIh9aAgJaaJA/sQAM9rWw7djwXLFWUbe5Cz7yEVNtFmXpMVeewz/2tzUUjwUrM7e9\n",
       "+PLRW9CXLSLTsxWww0CT1eK5PQZMIBFcE+nrUkNcQJwOXGFhbr7EaepvTVcafvCZYZelVZRK9RPi\n",
       "Xsh5HJebud8IhonqUQome7HUPrFXDKLoZYNKrtjphxAsJR3ZCPfE37A57g6mAGf8ob8LQ/WkQeLA\n",
       "P6EAAAG/AZ5hdEK/AVn2OeYH9fiV+cA5diNsrnRknXAec3UowkYjSSU10ZraVZz2D/uB2DzQA21d\n",
       "vKtZ2hV0IkNvZAYRqxqlsgl/RFQqr9Rki8jahlNBBFdvQyA0wq6HAjda5rDI1nc9Z/7NBrG32msu\n",
       "PIdbrIqOxU5mvkDnGIaMYljQU/Zd3y1F5UYh6N7h2fipBBKxdqrrRK5CFmxWpBqSuXEfqSCHm2sr\n",
       "xjN7o6yAePoec4ZkD4QI7QewyGjbw5rAe9EVD0/Wuv5GtI4FDSO9zgVqslmttURyY452KusByQ07\n",
       "hhBL36sxDcHUU9L4XsJ8dDw5x0eX6vzmGas5FACy5BjISbrrQhlddtMyZ/FDsTVhybnYLYK5tBHr\n",
       "qKzUeL/5NPt/caw1I1ri5R4nfRYKtIr8+7ZqLVShwUth2hHEbchxDYDppANvEEeDMoqD5+5mEzGc\n",
       "j4Pw3DQUIjpnMOR09+wkgBo/6rwZd2iC/e/hWBgKCx4QNveGeidcr+LDxbRVqd7wQOuAQqChnAGK\n",
       "kDTwRBTDURFXPuiZVS/AFeODZONj8UQ5DJiCANoKo9J6QEVcAnyIagth1TnWaJlHsITV6CQgAAAD\n",
       "twGeY2pCvwD4MvxKN/Jjq/cD9DwANFFtDpuaaPUn3jAxq2UT7NMY+cFwhHjiUgJAYTEDl6a3NHOK\n",
       "2URBkdg090218m/vivwhLdRQWzrrUAW2vcFzQBlZ1amsgeR4qdcZC0mKzMcNkb7sFiU2+IMa2PUJ\n",
       "ZmPbb/xF4aNeMu84loodeu64BtUjHOhkb7L7v/nSE+tPhN4HSvKNVcO1/X5Ddc5/T75l5UPp6o/u\n",
       "zy2o46WM9bH328sr/C+aN7sLxHXWltkdN7yBnQ3T+vHaj2WPwAK5eDq4iPehZrbWSKnzTwW0Vqs6\n",
       "ucW3bPBsxTcto9zvBalRnemkaZElwMTyCtVbLIieFwUXy+Vkt3YeAj9GpibtKSBMqSUYQSL+R2TM\n",
       "2rnV1wEebVB9BBOEcyyb8CacBvnEdNCPl4a5RsZVlqyC0poKyol1Tc6FP/0lzap3bM48TNCE+f8x\n",
       "yaZQcQzzm6zMqcZCTVKZJ4JOc7QD0rVpGwzaI8ez1ksfgM/Q12Jl/IjH5LKeYqAByJLtiTwAyc5i\n",
       "c5dMO4DBFV8sTHn/kn5gKlnCmki35xlgo1+Cp+XpyAbinahcbPLdxlaiFal+mV0Jwm68Sgr3roT9\n",
       "Cda8We1Nn0ed5y7CXPl3bofzC4HVYPG3W6jl/5Jn4RxPvNWa1Mp2dNvgl1KHj75/7M7FzEiEgdAb\n",
       "e+OgOoK4htW65gjMjNKW4VZiBOm7Wu+2TtgZ3UYgeO19nhGe06nT3QmO2A+mMDWoaT5Tay/SMAHS\n",
       "gUfYtwm+8AE507ZsjZydiOcD3wdR63NIpbO5KdQv2D5uaBNnMe+cj1DpqsMydpJwqL/lBUSU75ou\n",
       "MBErtLmzd25290fwsPQYlBpaoY47KsxzKZeO1WHaeJOsJm4WCSp8ReiuQTTgnl3Go2B/DurOIaNG\n",
       "XcjCiRrgSuKfFPHwBQudEyPxDELLMHQe8EBp38yvKLHolsUX8mw5ufy1Bzb4Pc3R8TD6tx+crnaP\n",
       "wZxCe7zbAE7lZYrhaWR8XIv6IMHMdh8Pb8dTWBisnoB30/bqQCwLo5zUU2yhvSQdfyG05ovvanlM\n",
       "IcpNAnaNi6EoiMNJQSsdJrUGyd9oEB7e7Ekf6zuf7cGkH+qK38vkHHQ7ltpUUoyIWRi6bc13iEWp\n",
       "3kgQ2LaIfyurQ7RhqUKvIaxeOPC9PU64zKfxeCMketo2tMLyNzQPMNuv4XAnYhgFLZmOqMZg0MQF\n",
       "rfrWiOdomAHNEh6nE8i70JCgDmdNRXXyHfvfu36hnx8cB3+QBgwoHQAACJhBmmZJqEFomUwU8N/+\n",
       "p4QBjec3ACavbcaMDP/wd/7QiNBkXnw+P2rRCSkz/TmB54f2oHkYaVW1yBFqTCWRyWiSTaT3EuDT\n",
       "KBja1J3PbZxhmhtNIzvfjWSUgmrLy93io1BD1qxcDqOQUwejzdEV//Dx40GAXnD8x5TbPW0UiFYJ\n",
       "l+DcjnKxhs9xhnC6NUnvfgGC6ql/WQxkz4VeoTS7yXjhcWGaa1CVTtkuq6Bg03skTp8Q5i0Gqg4j\n",
       "PvKQFq1EG5OwiRbKRlBis5x9lZCREtDBQf4QtvsdbQGFC4PZ8pjWDtk30ukIzw6DQl86ZZM9bgQY\n",
       "xn1Ywk2WHI56NhI9zVE//fajwy6eAqO766TR2MxcrhR7TLK+tDWpzzalwnM5u4Nl/OjB7Dk3rKP/\n",
       "FP57i+BDb4OGIDGM1iZhuoSaKyCLblppLr5VY3v6PccImaAYAV/JEyw2pL8JOofcKoX1M572aqc7\n",
       "I+rXTpMtmDslcJIk1+A4SFGxyyAuPU8IPh+iEG0lInxGFCPHQYVDsIgTa+48cBz3l8LWjglzO3AA\n",
       "J0Hx7wBn937TgBOuotLsPSUFXP2YNeEI0E4esggdjezIswK6uEVobBSu6PRMWZVQJwGSDf75PU0r\n",
       "lhBysckcYGAL1RC2t/0I9361WFfvMmtSLu1Xsf3PFqoVJNyE15YDxnZYFLSu1XAipuo7IQQMbKKd\n",
       "F5qOA6wAXPzrizs7REPfe1ynDj/4C/wbc1snUfite3yYWxvkoG2AjTqRZM67f3tieJeraf58r6Wm\n",
       "Ms4OE1t6wPP028x7IZdvSsGhm+4/qeLR6caMuTYkCCSLKWHMqhKw/0WLMN7Vedwgg5o1w8KqGVHf\n",
       "j14HaJjiVFfJYYSHInhkgKr4HXuMEPm5OWNER3niY5MuCwYReY5GMdtb3cuicpkd5dHXPJdzbKWQ\n",
       "PRvxjUWTtzbdW0pIiXSKfEZwXvvZp7vPr9h+XHciaA7MBv8lSkMPsndF1yc/tdfv8Csaw0UT/7Ie\n",
       "VtFsYaP/1XFgj+zZiSRU7vAos0LZmrtq92bqsGOWUPmkI8/3KRZ+K5RLL3M7UJVmONLpSczcEfqM\n",
       "y9xCsfHwmGmtJbmgYOhLpRQg6ACGJczYwhweQ1f5LRfGLLLTXn6+gCtjACk0asBn66bpnOopvki/\n",
       "nR8KlAivPy5oOoiQRbickth/rXp0beQYZfxRxg7v59t7GoD6Dnsg/qKWBzg4Pnwk5HzsMQVNKx23\n",
       "hBNONQxShFxiO5sM56Ok3gNx+P4cNH6p7sNEel+swqebw8ye147XSa1QckmxOkYQwrMoh0byUfTR\n",
       "ydKI3hefSngt+9KUGlgdkqOHoDDwpgdqvrE3PQvZf27bvspG1dQNvGs4i37QvphTE6z2TYodCv39\n",
       "mUdxIZiwmi+hvu5o1uWU58qRwUrI+cnezgV8M9E249qo+FZXU8Q/79X685/BDPx4jKBLjJDOD8qg\n",
       "NtMHPbuUlZXZHT2UhGZoYAAG9XGqOsKIOxw68yTu5C6W11+1Ja3uPLyVcQ3QqMfwYj2GsO38CvOa\n",
       "nHK3VyIPeAf3z1kwgZHQugOpMpNfdz1CTF6BrjreUAV5i7dhR5YwtQI2B1zg21BfjZ6ivwMwVO9N\n",
       "h1qwCPHbNaCJptTy66/kz26dS8rkQ2wGwIdJKfh0Hp+LnNGj6FUUlX+KmGVn0pSCwIlNgFxFU7hp\n",
       "GpfWOFddYtEiS8EulGYXHu6qolOxmhN/01cvWZMCd46Cw0RQCanlKNNdW7VnoVJ/3kvqSaM+Z6MD\n",
       "w+EepqMhNHdy+vUppCns83n5bFa1adUCSYHLruK0giG5juTPRZonQIiZdu5WRwjU1DsqHVdzWCfV\n",
       "RLz19LFObZZpFlMazlq3R7j2Ozq+85JXA/5QpWC2EAjr8TTHqdXIboz67bapDFIfgmGx6fbnHhNf\n",
       "AKymns6Z+uovw50dUNfFuaQAYE31MmEJnM0BVHj56sONlGWyo3Bhi+68DiGR1IYlqOD5A9NeD+Uw\n",
       "W+7fIijmXxJjzI4yNt1bLZUk2h/BJokj4mpHBVNqsoXtUD+7qCJmNR/kx00tP9OwRNv3WBWnOt37\n",
       "XYoEmVv1ypRyFoNjer8FP3odiQvwG29r39v7UY59dKvP5SWvURdicyhdWjuspzF8W0OJHVrj4uh1\n",
       "3kdJAvYqo8PpXXzRpHnCYGI/1Sn2sWlFLlmgV9cuT+tprspCehVQat2rC+FYimZbSji7Dvic9hqb\n",
       "uNe2qVIV7CXomnDu09GKsWzBuE4GboiHXd2lPWYSYXGCTmv7+FR3mOliBTo9ioFxeLNC9C796IZO\n",
       "PYCv+Sq806ebG5gqFUCSXudvlmWhp41pqNki03bG4+mD4VWWNZeZKWwRxmEZ0YZVeLzi0hePXrsE\n",
       "N/yY9xvU1DjpTlVOaZgoGlUdfiFloKASVMVk9CFsUnFUmigkPdyojqt8F8OMtAY4SkhwkOWS8D4A\n",
       "n4EAhITuiPXwusHM2EWh4OLKPN9IUMw3FNB12+zxtWNWHqQTcs9xn1EF4/J2TEY0R7jAahTKB87r\n",
       "41W1jLpvQuRkBqfgUOqyzGjNxRUFfX0ZyFf/uD0iEINbcoqwLyvtuO2jVNNabJT2VJi87lSkDpge\n",
       "TvK0qmgRKTmvrtGCBJu3bMUbBfLF8HZj6xqrKo+7xgbRAGIZ1PGclqjeZPob+AtnrnVxvuqjewPA\n",
       "j5cYQGa8UqSpnACbpf5DpRWpnXA3/OJQx1Lo+I1oSaj5laz4eWgJAkLS/AmdgnPJQNIwdyYB4+T9\n",
       "v5tcmk558Z1kUPAYQoAPD85y2SVMppjoTFwP0tRR+obK0nm8NnvzPSe9SSymtz3DbCJ+n8KVcCF1\n",
       "3PnXM8Vemy0ajHsR1rY0a8HlhJdrtunGYjfEALbZy2QOjTJibimhdPL0DNw0QLuGJKTvAQKACz1o\n",
       "3ANKrNtNEhfgN2V/YGPQzIungDLXAAADjAGehWpCvwE3DJWhBdoATVi7O2gB6Uk71gD3mwookqBK\n",
       "uSKOWZ4fOOc2GVF6FycEEIxUT/B1nj4o7k5tfzDtGhImCr9IBRmalVOLyH7iIshI3qyACWPtSY5l\n",
       "QIvXL0KU/EXeAVUNSlCGthGVpr2y+y+jrrShbUVoZ/Ee5U4gn+seR3SayMjTzx462fRavPHT0QZN\n",
       "mgn3Q3k1A7yHQRLP6l9kF3KsmoFbsKkXAEPvJhl9wC0CNiYMXN/Dcg36MOizBgS+76pPCZ+Wb37r\n",
       "t0vysZVwO1yDdGboVcxh0UgeTbHU6sbxOf1O3zlq+NtAzzyPu+y5jkEAmHa4kEpVBMz3SCAk6BXd\n",
       "bw1Gipf0DmiesxrI6rLjVUB2gB0coXRVHaTMRi7xix5W050iSgps5N29vSEv65xqvsj3AiVr0mlk\n",
       "47M8SjYBwE9Ai68UDX2R4/ljF6eJ3BATdQpsBSSxcVIs6GRieUeMBNOuGCIoPJtZ9h2aSN1Hw7sv\n",
       "T2+gLOYBsBMubCs4/DiCiwYMk2wx3iPcn/kLP3D0SAK+xX77nQpAtYAeEL43NliUCfOgu6PmVNDY\n",
       "iOWdhICtl82k0IpSBuE7bV/25qXBYul874G2vpUa+hrmOVqTZFOtpy3LObSxUKM3Q37Sb8JnO0z5\n",
       "yWEfCTu0wYnAiSiwXGsw6bpqd/Jzpd/aRXSKDBH06nj9K9wKCoWEQMlZ2hiq0heFrshZ/j/NmL3j\n",
       "bBZSjsa0pmxnc1EZV1OOfhz1Aut74/ECU6bAFOEMuxqNJBj0QXAsfF+jYazmDtzT4s4GxFc+5fLO\n",
       "utD9a/csPdY/UZVIKzFZE0vogxm3pTiFVjuF3c5GP9eRcDsm6v0du18OQNKuhRIo0//CzALZLrAL\n",
       "d9N8pY/MN0P3ZlYGTiKAQ0zgpVXGiyj4qAxrzXB3aVHzDBXSa0W9Ok7PHwOu0PE0LyGN6Vm2js62\n",
       "wDdr221ksPDeYM8U9+8PSM9HlbnW/56AaGlcWnUG4v3j2VnFPWSqQhMPJWrUhHNXN0BpzNmB7mUM\n",
       "iONq9+AUhg2xuRrGCI7bzZtCXgRxMFaKXRy89eHUHP6WDXuJH7B+mIWEI37GSDPkHIMEMeab5Slw\n",
       "o1PKFXEUi7eIMIf1sFo6CofzdKwE5xr9hPUoo4Cg64nlRWjruBShYjknpBoevofCgFUuM1qnB1Wg\n",
       "mLP0ysMp35+5fK5tXiPHN8F9LauDAAAFiEGah0nhClJlMCG//qeEAY4otfiujUDKRzaAveCUSxjp\n",
       "9ePEpsNHvSSTHAALQ726q8puSFtL+djBc0WEUqUbFUV3SyU1T5o03+j3lyYVfrh7qDD6wXM4uckh\n",
       "3ObV7nkRXTqggTRbh+iVUjM1W2qzXlQHEPeO6CWmd7OcleayUkIClDHQCfdkF0mOYf+d0n7UYDZ1\n",
       "TZaDb+BBttH7W+JaiE6498OMEPz8ft/VSJb1znaSuKpPlRJlNqJ5Sgv12GcAvvY93tNpdb8kGcW4\n",
       "lD/K0aFKJqBibZTYBX93aC0fvx/dHaiHD4igYmDF/zA/fAgZSzDZOl5xMIN78xCD8PtNs8LODvGg\n",
       "fRCVktvfRSFquSSqX43ggJsMQu2gWuU4Mfzq4/oQhcs6/b4FCrzEJI6ulYETdh54toSBuaMyH4q2\n",
       "pgdMYQPsAwkwuYYygpye13CBSCvZxmh5EuHKHEJiZtez5Bwmbhl2cbcT6dU0FAgyzgyzUhwE0rEe\n",
       "96XmpKFFtjXkcky3keZlOX8Wiww8igvCSAB9rk+mMJSK2+zPSbs17Z/y0h9JXIxupvCOEQj4z0NH\n",
       "qTpFhHt3xA7Qd5To5J28EB1TLaZnJ1yawI16fodLQ+xlJgj9EnT8FUD2eYxUTjOtShrVYx+XB+wt\n",
       "oiLRz0/LaT1eP1BQVBhlyM9ujwoEYXYOKutMtKOjQBgK0SLEAYldXX2FtfiMSf+Wck9FPFTuH79W\n",
       "VwPIjQbEAlKN8/Ek6Zcoyjq798zOH7liCoxDXBjlB7XZD/1d7YnIZblR55X8S+NOZ4xEdREw+T/1\n",
       "9PHcHr+DASIg7iid+pXlc58K30Y7vW8o/la2/GQ8UtLnMDI4RuZpA1fz+3aYq77P6h68WI3PhGRf\n",
       "5BjLx7mlQXwF0XL0aQfBMmkW/XUJTKAy0aQPIF1lCmbu68TySxbkBBCiE5spAyi3X4v3or7FlfQS\n",
       "+BXBn06X9F8ayIIQh+9Iu0VFcr6UbcLo10114REdtBE6eFgcAp52H6Rb0ORbhDQzVCIL2wBfb78R\n",
       "mDcPNL6XHp4jpIohPZVaQFVKymlFziUzf5pzc3BgcI+Pv6rn9F3ZorNUglFPwmWd/9PYPJcoTYQP\n",
       "fsUyGROx8//1jZHW8pewJALKcVUhZgXzGdWnXcXzk1OnCGHxOiXAvfZoWvflcm2Jc6jB+z707r0n\n",
       "6Bgh7ODah/SCqUX+Lw6Fd0t2FWuxjQiPAHk1AggcuKJ4Jbc/7vSLwX8Jbc3dKLlW8IABUJ1PPn/R\n",
       "CXUbOMAvieBqG0x6ZsdcIBhBqBvGWrSWjbprIAFAXGr2qIBDO/8H6CEFu+pSSJH/jL398fRcw1Zq\n",
       "XODwVMnxYALJ1F58LnA8mlby9ROfbY/YHFD4lj0rzoq5oc4KmfNmeHgQeyRjTplYWoJw/u43g0dh\n",
       "CDo0iDuBS/lXbXjAl71lcg/y8D4+q9HGQEo9neBIMZ3Z/jDEeMH/fSorpsAjz5rNv9LWhJ/uZo/u\n",
       "YEyVtjC5n0KOxxfAVADvX6lPudnVcGS2Hjil9ZEwFgUlu1rVcnsele7FFCvM4eEyfu5ioo0M8oYO\n",
       "xzPCW9NRxLXjtUXJ0WMiktEc0mFFFevVtIo3Zqmf18fYg5M5vvR77+EfAKJOPcKI0NI7VLmuh5l/\n",
       "3Zo+5RlZzFsP72bvXhWT/N7F2Tz7XSuQgXG0NjJqfAZMoUP5WBeP+iQ2pSdzjZSpgv0HwtYXk4Tb\n",
       "1QPdUi1Od08o6hmYInbP6uq7oC1A4pTpd6IdC1k/gInBUNsZSVf6wiQulO97oWxHYnCDdjxPbokq\n",
       "ZkQHaci1eZe8BVmjyjNjn+gm8yBGoRl9eT7+8Jc9LmIoL6oopthbaRdDh1F0vkBGIivOvDc/aaD/\n",
       "VAcYveLyNYHS5ujgZJwi4QAAChpBmqtJ4Q6JlMCG//6nhAHbmn/go1IAIgz8pBLBlxqIwuy3CS5o\n",
       "Xxi75E2/KBBa86Cp8ktr73+vWEUy3SFLZq/jAloBjLQ8WEQ+f3+OX1vtbih3Enp/xHh7VwSspHnO\n",
       "cwuVI3QTxZrcA2WNwEmgLUqEimbhdQQBUHmN02rTdZ4MdiZX0jacGtqMEwNWbH5ZWptztG5hh3Pk\n",
       "9WcpCS/e5oS+lEciXk5MVYbNAH+m4hoXUVqoqmOjnS9SU+QWoUXeWy1cQPBc4+d2cGb/NphUqyq6\n",
       "b49Wnvil7L4LdDIMQJCyKdvbRhqZPOnOr6Y1QuUGwyGZJwE+zHB29mdr8QvDMfzEBPMJnXCS2JHf\n",
       "7/r/amNToAHwlQCp77sgBnZHC4+P7iuH4G92UZbHohqdprMEfaWDmq8GvBq/Gh6o4VmEiTwmRwro\n",
       "iMt44ezlgxsFjbTaq9Vh4rb98z0dTVoSHLlL/NTof0h2pYlgjU1viXxl1k8YocwCtBEZdZSDp31T\n",
       "pd6MJCEkrQdasaLcRVRNzIRwL5OqN/B3JL0KyZu0u8iM8Qpk1LAWsWOzfZPQKp53yA0cllMZ6jG/\n",
       "fObe4fMi1dY78ehDCc71HIz1G5Jod+91bpefDdFs4ipX729HMvVXAcGn6MLHu53+KCwqXl69P3bG\n",
       "eWOR+4MGyG0pCyLE3D+pCEpSSShw67so8MOo0kuS5qzVWZCkYHHuYDKOG0rLKHYbTyX3wTDZNtSv\n",
       "9vfaBtXT8vM5Rd6nffyViEBOrTHd3xQ+GEIEPb1OS5WxqAM6J/ihCrrnm8YuGchkSI6hzodn64dU\n",
       "qp3EjsqqJdbDMoo9e82prrLNZuZQyU102qZ3F3t0YOTioBSxEte9vY0EkWKfNCi/JbCU80gr0cud\n",
       "UeFuGnf18rRvETq3DWNjSt9uIC0F0UN1iM0rbYmzMO4oy55/BWGFXUEgHo2BfI+EDMwhtVlx8F/X\n",
       "Rx8Gy2BbaICax6aU9tVmS83hnuyt38Q5Eib0aieCfu85h0+Jg3IGG2jj3o4lQrcnnD3HYOeIavRp\n",
       "STd/E0z+rB2TdAge4QeoPwV3MIs0hYKuo5xc4buI2/pj0whSS/c47kXYyO0kfdfnzbCoKEd12eK1\n",
       "UorqDi1w/r26v9ROmgwhO90UsFJLMPhpN6oV/blYGRONtn3oVmfgG6eA9Rm6nUkvX1jowuall3dz\n",
       "w0kwxDJ2VbJc8lAcv+FQxoWHde7wmmFkXTaMwaTYWO/QihFQ+HFv1NCae/nvf0P8lWo0jnGMjZDK\n",
       "hwx+okvOE4Xd67tAmfOkuMdBXKzo1aQsPd7Z6Z0PBpGwJMTK2bCxpEWIknZDYWWma+HhiZ0ijN26\n",
       "MzLGRgppuIa10qhcSCl+DOTfo85nU9j2mRs2wA6HU/hyrLjO+hHZfKyAYSTON1xIpFrSx1xEzj6I\n",
       "ugsF1lYfEYywGb4AQU9PwSSCuq9ocKbOhuwATdM1J9ygvUy8lBU97NsPKSf7X00axGcZEd5euEAO\n",
       "oFHvLYrk7+4P46ap0WRu53YS3TIxQ/DEmm881//au9WjjIHq5YvMnwkrdRzSlzRhLE/jjOMHC7du\n",
       "uyOu/zPhIHezdOoT3jWTno+cicNwCfjwH9RwaaDBvveLT1SaQI0GnxbWWme509IkxW3xGGPOC7eW\n",
       "PzOh7AfwMxr9TpB8IHKdcRXq/orAiTwTzLcLeFTlXbn8exVXPC7rQzQvv9TSgzwPnvrNtGFJJSSy\n",
       "cGrgVjyoNpJLdj4tjBgIwl5jC7d2UxewwXL3zfY2GmC1N4/zxPBHjKgw9qkUENtoDdik0h4VZexy\n",
       "Xb/aMLekqV5iVgVT8jdXQV1ESh5KT37ZwWbs3Pdyb8Az1XAWDWOadiHe42/5Bt2kYIJymfPY8lGc\n",
       "+HNDyM5yN++9i+MgCjcrS1yrYPloMndLMfHYBeS9y2lV1irIDwfLNZu1M0xO6f+QgkFC4l2HM62U\n",
       "kySLPh8sYRUrnNTLCMwBCrrzAm+DtIdsOaVYqBIp2rFlYx9BbA6iIdl0TNL99D04o2J0GyKaiPkl\n",
       "jkfvE0rwDi1paI1OzqL/XIWzZtEejU0ocw4lTGkjYdZyLIluUQZk5guaKJ/obroaPqCZE9YZ7lqY\n",
       "GOqrQwu0lHgEcZuf3c/lRM7Esm/B5o4RA7kJA8bgQ6WP3fnx3+qGoqH6EgonF3LNGf7jOEh0PnBV\n",
       "KB29+1+epPWd9x8TXQ4PbFPvUd4mUV+4AdqhEhrmcy7xHxat2MBgx2PVjsb/uLcOx1ZTXFVp9f2C\n",
       "7noP+OE6lwykhkI48EMsr9Vv1drJcE1W9m237mdDBej/ZkqG9DmGIlgNdhWk0wTRti2poJf3M2l7\n",
       "/j9986MhN4fuAymg1+yej2TzMIRd/vgRvn3jTvr5c3FZuevWC9qjT/tVtcKGtZMPnNVaDPXG0E6Q\n",
       "QX600fjQ4CuDKgnoD2C73+zM7A0wn88YO9xft40waNbOl8k1lr63+gNO99ZVdrDh9k+78OdP5Jqj\n",
       "SLfGBAvRAJZFnPYDRD84c011sdGrBjT2LlPAILOnTJaH9UniOhFS09JacWqF8rqADQ82WDYMOt8T\n",
       "hKDBIqZWdKnRko3RZRktWUwlcXldPCXnCH+hkUmJt6oLmCfEi/7XY2F2DlGWZBIUD9fK2Qz7Q0Yp\n",
       "JPQHoQFuNxAf7l8MGmm4deDV0FqzJ68c3mzADbStE85V/5BRP0QL2sitiIGbIPxgvAnlWaNK+ebK\n",
       "L6Omxx8LMuyUKUWa+gB+KFdozm873iIJhk5aNliSo2+u8XSbisD6GfqETXzdVMrCoYZEC0UrIFOT\n",
       "gmZrr/yL6RodMh8g5E6FMedmXePxY+npX/zMylwW2gJKuVcpxrHlZVIFxIyfYltRcBgVWjhuDc3V\n",
       "cAKOlYksG8uBZPyuvgJqyc53vGUwl2sqbxOI3wc+zYw2jCbaFQ6Sr2jmgnZ385rYSWi4u4Hjv23A\n",
       "s9f1q89RlgaLx+U5hf8CKRcMF89fSnQWvwxSvg7qHA/EuosrIjpEOFvm25Sz7crlV3WZ4qe8OeDe\n",
       "hVh1Kcgryg+4WhX96LTvaJuWm5ou7FTJoVuuy4vddqlIZfe0u8XU2NxyMi5XhV6X2NL9g5G1JJfb\n",
       "S6Jg6Wpp+iTy+ZuhG1Tc1O8dVycAwxilFd7WG+Kd8iLl3FyD8cu/x7W9CRJgu6EriONi1XezBwQI\n",
       "Tw1d16lmVnWSYJnIF4ik3gortOcm7J8lFyCABghGD84PYBMOPpDKqGbPqbbJj91+S7Qnn3gksvm4\n",
       "vM08r1We1dzeqjbkNBI/0jRPWSbvUX4tiGa6/AeP/SPMzIJRFn4kQjLHZsNSOeZAQt8DCeAYTUYA\n",
       "h6PrPnzYf7EqG80X53/E9KP6UcpcyhdKvgVcJb+fZ27f24BfaqwW1C26H1tKKXIxrtpdInP8wdI+\n",
       "i4UltoYmsJnbp1OXwaknMueyX62flpd6JLgx830Tx1gckVS4jRDjLMgAAAUGQZ7JRRE8L/8A+CXx\n",
       "GIX8KkurDvMWCgNWtcxBpAB5Ab+IXuatg9lzLuFfPBLf0FF58k5Paip+z/5JZEEFsupb8fLMuiDg\n",
       "Augdh+CTi9/LYOofhxfqap7ZChmhESnoKgL/pcwrDRMXlXedwFFSySAKttdPp8HP0ymKSgAwNfEc\n",
       "3WXChHDaZuHlQTup0NCOI6a20S3WF3zrm6VodML0BErUVrnC7QB8LuL8E75XbVVP4bPocwqRtKGY\n",
       "XLAohwnu0yZgwgd2H5otvF3IJr6Ys8PKSlDLehERr8hBnrkz5CZJUCwYgjU2Pj6AyXbTJ/yfiNcO\n",
       "crPkcs90h1gJoJWj2ZWU0O9uyPImXQhEGJ9XnHFEc5YJ39eHHEM+D3zGt91MAaZaPQSjRCuq08c0\n",
       "L5ud47pKxeykjSBORm1lNu4sUXb6QXDnsPyeNe+BSK5DaVI0ODvHsmJSEopH3kCVaQtuRx6JUgf0\n",
       "AbWLbZ2jGjA5bQAyauQ4lEZ2OgAUzdlbmraBtq2qv27p/jEbKogsBvorX3IMRO92TKJlB/RQMZt6\n",
       "66ClecHmRYKe/a1y/xGzsoHONJh7VVnd1gyFPMjn/BrkqyWiYChRTZjuMVMKlJyes5Lg0THSFDoQ\n",
       "VcOfrme4mEe4bUqLXPPzKA4lraMyO2eIC6c3IhK0p/Z3RtCO42K1HbwEWAp2HeoVx8ioRGhuCNhH\n",
       "i4pWjM1J5Rj1/gRLrLHrbR/Jw1dEi08CSseIXZRF0DdHVhyz1zGhtQ81RpolFORKgtsLz4vuzdd1\n",
       "88NwkbFEZkNEU8Poh/n9OU+wSRj0LzHTr0/c196owbLfm+HixhpOi4j7u4Hw/GAawg6sLTDSc3cG\n",
       "iz3XcU1dTUD2eb91WxLeMcCnFZi69F4gtjooHwP2W4685ZB1WswjvcuD+bvKM6AMR09tHznvOjkI\n",
       "YvfPz6t4jxMB52Kt2nnnc+799crN+ZS4073R/Lfb0U+mWrO0QGwmSBS2abQe/afOGmjERKly6LB8\n",
       "YOK+vnDodpxquDhB8CebeABLOEiZZCI/tQWm3jCnCVR1QMaP9Cv4OazehcGtExo70oA/7A/d022i\n",
       "/kthNA8lkcOf9VEE0uId92d350xzY1EeCIqKmQHg357s4Ts2yP8EC3sdrMn08cwm6JEmbSAGTl9+\n",
       "mV4UwK7iYoQU0/3+92H2xtIpbrCxw9ituD+hcKHy7583NRxOCeZ6TJCT5sEja5FWI2P/Y/+ClkOq\n",
       "XMyYmIlVxzxuHJGv0P6WuCleBxteuoDyT7ommX2p8GSDbuj9U/uri3Gxyawp1oUrhlVDnak8R1IN\n",
       "dkRELD+C9WxScJN5lw4Lhi9egUEdj67wY3xaFgiC9n27V9b1s++d0O1C3rgtNtPtEsI8ShIMYmpJ\n",
       "9xbN8D0CSsyv1qKi+wPaZp06nNec3zkQP7SQVsjtWzkI/jlvnYQdVKqEniLFaDMb0uqfDXlkpK2u\n",
       "CGEgp32oytevYwPT4re2vAQh2GyA/zqi7KNLMl4iyFb/N8N7Xudx73tgLWtUWVInbPCwgNHMdwBE\n",
       "UMJHDD5N2IX3mOjTYvYu4uAt8UsJ/k1u1pXXXemSrfUu+p7Fzm4+PiuCCQY+mlySG6ymI+kSDMJZ\n",
       "5HZeBAs+ZQSfteW+OVKoyPzCcui+V1BVn41cRLcopkRXhvDLFflM3DJmOxa2GHi/xvTINGj4+OxP\n",
       "1gZe+Govc2zOwbIa7blS/OKaAQgAAAM0AZ7odEK/AS5zYoUZaXCcOdbaqAG/Mghq2Dcc4Oxjyz19\n",
       "tjdb5ynVJN2/imMHUHBnh1Jv1Hsie8Z1NkHqVmIhsfuq7tBJxC6+8vBWP8PEvKr3DeFKigCHm2DX\n",
       "H05S8NszAiXtRtcD7cZ7Lmx/QaBtDLSJjWikEn8o5lNx9aXaRNQfoHlg6k7sWX69ux1McmSeWntq\n",
       "xtp5NT7aOD6F/giKo3E4yVEwX9ZFq+fZVhzhF9S2Q/dp/s520pC+ltGxuEeNIQYA81rkLhhIniOV\n",
       "oht3wyLmvDkaApcbstCt4GqnYj4oDVeZM8Cm+KvHg2tPNQG0dLimcAx1jJ+rv0YoCyGEuoxAHX0S\n",
       "QB4o1xzB90j/JtLsNZIsTDgA5Ht1EKdasXdsnYtMO6XORacltNEPTQQWmng+mqGQdRxIXZyeok1i\n",
       "iC+C0UJL7EmK/jPtfcJTCz0QgiFZVOA7+l3yclTbHSqrTQw4QwKudgSLhgDsXnLjz7gUjLgxx4Yd\n",
       "ru+8T5NdvkxDKX8E9J0oMnOGeiSBDza0FzNtjMQm2bQQQcaIqiXk8krO7JNzspylpBDjxS6Ip/xo\n",
       "CMh+GZ9fyos0K7Kaf7tr03G4rtfrywAFkX+CdtfXDl9bEwtNFCXYVuWbKofQzx1cP0nahK29w89d\n",
       "Lnj5tiZ8PHQtM5ezG0tJJYOCKCPnBAGjv5MSSTeA9C/T7F6Dh9z4WZF3uydEBl3SD46w4GHQjBPQ\n",
       "7q0yvbYs8tWm9Gh4o3il2O+RKUnpWPrVu/tntWeniRtSYXvWMZJm6iR+G3uAClneyeZQ+n9Fb9Yn\n",
       "pci+RVxrvJ0osOaDhGXcqwftXPg/VA7BFQPWBcdvf73WhvY9jpoJJfncMG7+qvp7py1H30EO7+Y1\n",
       "laFzhE0kAMMpqnnYy89h68X8UdpOzM4ZMcoUKAwJc/wZKnY8mvRnhXrphDtPVfxeFdd+B6aa2ouF\n",
       "HAsGr883+et0/prAHUJ7g3zJrb6q9h4HRFfnf55trR2APsywt1SgUowpeeeYABp9C4e4JEAvl/d6\n",
       "7RorXurmy9kxmN5e0WdU38j1hPZoUrvpe2sRE1owhIW2BAMUXuZ26EcbwwSq4wAAAzwBnupqQr8B\n",
       "Wq9zM50MF7QwsK6L9A0U88MwojZYwAKpNf6Lr8wFaPTwFBICf1IyJEvQnzBwS7DAvarN/jlUQGlw\n",
       "Ypp/LdOftVuxV0/lr3RTSbAyS1lOeZ9EwDXId0Hj+BlhMOzvOds/QZEVWwVMhHnXxwPaaXdsTP7e\n",
       "fPss4s0BdfBWwVU7mz4xjFjd4EuBM4S70Cc+I/13BIQNLnWgBRUWSu5ARo+sFUc5LYE8ORKpjzTm\n",
       "U2rpNQUEBXbXheakVHXtMwRShgckeUSgeAHdJBivMHgIsPaY4otd/8Ws7D2IVveipWf3x0MhepvK\n",
       "j9+6la7kJdF6zlCXITlvANzljVdkyCXPWvoWMAZM8f7WIhM7vch9LYl1edCUJMLp9mKx79b2Rm2B\n",
       "QvNl2j51rRMiaz2/IGfsACoDbyj437wI1LfA4Uvy+5yZOwRwtGTaz/5da8EmsLKdWhrE323lBkiU\n",
       "cguZQwNOvRTp1Qc7XW6u03GhuGE2ei9RxUT3przFXP/MuOh8Ie81G8D2SobbGsmAVAU2p6Hym2T8\n",
       "BdDCVAT8UBBjlTbrJnW6Mn2Qy69HIu1nQ5aBCozRdvLPJGvb5ypJTS3OsbWBbVdqBIUyrMO6Qd1D\n",
       "53t6M2qFcUS9L23Mj2m/rLV+EuyHAhOE+kCm0h5prf5iru9xwLC3qJNL8AYr5n3Vll/wfgi81Q+O\n",
       "Ba7meRUEjo75F6ua5dwwAYu2Q+0l766bF2mR+He17QUpSBtWuLu1FvhFg6Myo+7gU6kBFn8sVper\n",
       "Qqu/50ywpKePDnkpNL3lV2XVgqHg5IYs4G8+wyc9NuwOhXVKCCpnp3eLTmv8yewLZo9SM9084eZj\n",
       "zmuvoB6X3AX9x6mmU+o9wak+WOaJtXO9ux7YJT0j61PZ/WycI9k/3FJhb7X52P9+sxusu6Fg1SrK\n",
       "c16+oL2VIulEAcYfgPVfpmc55g7ZYvIutXoWk4QB7ACyGFBJdNpELJaJ/bzbGDK/DKCIBBzgZZc5\n",
       "4HXSRcRbzDEom2PynV4+LE90lpxHvsDWnH0yv7unaeSf6EN8Spy9bpVPuv/ij5x0xNvkBOeyoc3Q\n",
       "D/ypDcQcs6v/bJqfRmvxAVK/pzXu19gAAAX9QZrtSahBaJlMFPDf/qeEAeswbgwPIGGowvAkvzTC\n",
       "n5vIKamlVqtHcrheqSgzhbpl4n6KziRFKPugAQaR1KjcL4OD7GKXImUgc4IyhhUaz45xFSTrWTez\n",
       "b/TZ9CGEcv8mbg9rs+6mNb2OnWvwsp4wWAPsO4Z3UuP7GGkKInemXSf6WH+PbnjA4UKxP+lvkTBr\n",
       "k5MEjNL1YCtlXEWsQReBnu1Im6b41//6HtACM440L91Q/v4h4mvmzOCGuSLBeh7W+I+dpQ6QVKgu\n",
       "L0MmF72joh2FLmvTURQfuB9ZdNMVJYkEStiyaHUFS1uO9ES6jyK4yRCf53aQnSJg4CiuJe0lIhcI\n",
       "63uiDsYD/g/8ytyGZ70ijtcR2ZP7EqshR+7BOb236i9nMfbbJYQOj7EHbZ4uZefSVMuIbeIZTHji\n",
       "b4kFdd3G2min6kl3QQ/FQdKH46A18qAr5VtYj1OfJU60JF55M4iT4bTIG9JRuXzE+7JfoMuakFsW\n",
       "0VZciqhH5j1p5RnIsKqph0AICjD6khmV5FQPqi3o0sZPTcUPMNH4xmcypDGo7P5JsJ0l4wyx9XtH\n",
       "sT7PSkEsP9u+JtvQ2PZ8PvtdMEe9KdXBQuIhr8T+k3CSl+lUFCsgNJ1CxSPkkG9RU2Vx8T86SaXA\n",
       "6zEfe0UeIaWi3T0LrE6M2lW0xwREYHDlCKVFuS136VxLda25bRnJaqZzuHSH5LrH0slOWKK8qWGz\n",
       "ekeZ1cFduNgllF9XeG9llMP5NDIpNiOnhAhPbjcJ+dQNt3P/rfTAyYl+1InA5zwJjGAtn7XS7x4u\n",
       "KoTKd3/aZbXILlDLZZb8AOetabiGeD++8x+bCrVEEd/beARAqKmQLyyrP/qzaM+zFuRWSHHinWve\n",
       "77cYejxcYkJy4wUBA7an2ZwybvsI+/g24G6KleUcCq+nioXHFm1Nfv/K7ranYHvxrlwWz51L3mK3\n",
       "UXvDgfr/7b0gpwTHYOlZShehVTZJtOv8qLaoy8oJq2i4cga16qGgB8Npq9cV2MwFyT5FTjce4Bkq\n",
       "bpuB3kwj5KDDPWVqjmDfzHXoVwD5Lt4hgcWAqlhTqULBEWYehj0OMJGJypYvvSO3rigyhnGeW4Q2\n",
       "iV8D4Lyk+CbC4CbgKbBeaXYFoSsXq9wikrfMPgs41/rmbMx8X/foHcFk52uLNh6Vw5fahvS+p3Jm\n",
       "F0H/Yla+BfSyhhQvKBtSpHesR+h+qfIQy/iQYnpmAFSzH/MtWT4glhwlXANu0Q2LV1MjM/NiM+20\n",
       "yiclR5meKxzJoJtu0DvX6L2V6xCtrvi/wkff6+dQeIXHhq5ofALjotKQ2/hPw6HWLCicu4BVsFoy\n",
       "2KJhJyXHFrnGdzIhjoNhF3WGwF7oAucAC09iuYmfSY3DYyDKMBM+16BzTs17v/3IXvSMlV+vnr3K\n",
       "Tcs3H0cofcH+6v6+S0GKraBLQwYg/M/MWBJTeTFYeqLirVK6/oaykritQqa6vyme616VkLZIi6mh\n",
       "u6g/nusXEznxCxpPNSkqU6jVU+OsjCFR+ZZr5ONJCeVnMI9jypE3R55vR1mj+Li2WrHGpUAFkfOc\n",
       "Mnlh/G8Of8IJtY5EgQVjppRiBkis02vz3gwqNCEbZrk8W3I0+qQs83PUl3s9bNmw7u3NX+QjvHWI\n",
       "3cyphaSSAzrUM0Wk9uCTRY2kQR41oSUWTKy9L/YRBLxPFwUpRQ6xNRYf0e+DAIKhpvJb7IuZqEYA\n",
       "/uK1w5Qgnbd8qH32eQImymzzSEx13LN17aOkGTnLLRi5nVLtc/CFp9auYDOD/JGVGiQI0xG9khNt\n",
       "jN9Q40Lohe4h2S+AwzWhT8NUHpo8CNTlNdszVe5XHtNJuvCMumNTj1pe+kNIJiwFFO3QSz4NSJlz\n",
       "FC60wlaZPvyxkmtZsgCUre+N9Fgi5zgYMfTYIcnmqhOi4o/+Sd1qRMu+IImt8APl5axp9zDAjgkt\n",
       "cwXmIh8DDdHFt0XRC07FUmgPH5NoaLszfNuteNIZPAqrbPbhi7CvFsv7149IXxN6KAWo0AFjqg3V\n",
       "k5Z/73JoI8tOSTAYXkALfeuJ/oqIAAACwQGfDGpCvwMpI/ixiLuqFxyNd7ht7VLhocP4QAILCx4Y\n",
       "QxHt0JM+bN/N8QAsNW+rcvz2CP6IPBQpaIR7WCaGV/hc1ivL8WduyAwtRFPvjVxYdIJ/6WkH2hi7\n",
       "pTsrSddWj7/zXUmkXfpz8Guv4o/fxCGbKyAwv+5rWBCh5AAXHU7rFNE5V0EOA9kjfcrX3o/fFAC5\n",
       "l0nCtFoWWRinD7NEofk0mfpAzgjPhDzgMi7NUu4BFmHJPIBUPTOyAhQ/6Fi7osdQWz/NiC1xRHAu\n",
       "1JvUKHKuXvnFQpnzBO9aqKKzCaKqOJYRk3B4ymQ+5z/2muai9Nxz9AH/Vy9W0iGjizaOCgHQtPRi\n",
       "DDU+BjvY0FzVIt7gNM93XzbILWAyz1/X91MuVCZgBMrkdxjLnIH3mImIHfcL/zEak1I93dmZl74J\n",
       "xkRiLzy73HZFFF8tnaj0ZpjjK5tdPbMU0uSWSkz+0DRR5xRZ9OfZb0+dCQGMrXF0OsPWiyyDwb5L\n",
       "YIV/bgQ5eUWcg+v+eoytF2Nu5eMuaftHkpNoWE2QU1syEZ3ROPvtDIsZGpU/ap2gUjsqcAF8lIsR\n",
       "srWKzDaZVY+WNQ65m/YPUUODl8woTn/3gmkw8HLsRNwqkB+d1heaq1YWM32oKFANFACg5oYlSAdx\n",
       "2uVard/sLlK+A+0zYiPQDP5K3qSsDIxJ2HPDmHK0R6ui1akShnHd8DVCMS7T370KkZcXvuegE7F2\n",
       "kwsR0ZunKeJAwA2EhbgChUezCo1Bg8JX8cWlYap/bT38cMrcABUHvu/5Fv/m1sBZgo4FRxCCOKK2\n",
       "gfTjVf17mqfrbWWg+TBPolhEgj2JdZ00Rs1UsbaT13CA44tkyntyyoI6aSWsYE5FhBSgtrQbTyBU\n",
       "Da4hgzmPYUmDnl1Y+Hvj7nEOuIIzEFmBSdqK+tfVCQX4jPOtj/63jXY/RsNOowAACJ1Bmw9J4QpS\n",
       "ZTBSw3/+p4QZ2yoUJoV8a7txJsDplMLagIMFCVotMyGWQBEgvtx1DvuYQDRCjMXR/K75H0lsbGDs\n",
       "ojnB6WvaeZOTdYY0ja3xQIr/oDINPdXBeL/ywi0ZpaYvbtf6darippAtyMmXsXKf1TWLYi1M2uXM\n",
       "zRdLvEJ/L+MI38op4xUN/gXKvUtFp3Hsx1cQkp8Y06wAFhcGJ/wyjVHq5wkkjpcxSQhp4wXkcW72\n",
       "tR4RynqnkIEs64N9k7eoJRrIasyuZqg6iYBck7XvUsqMO4QcvggWz5/RgVk91BFaApt3hBLr8s+g\n",
       "sDzSNp60B+PMk7vQgq/1nB5Uer14czd9es55aPa3LPcfFRRyBdCJ5lM6r+Pm+k4n2ttXWr1zgPIb\n",
       "UX5FQKmc3WErMiQIHW9F1zwJoP2eIOi7LtkXcCBzMRQbTmTVThem2B9K+whxefSCkGd3IRet3q0K\n",
       "0iuvVhWp+IBU8TT+3ET8S708L3KC/0uSxDl1gtyjbPjiGNYkFpSVRdwWPhzDelFYS3YYeFxToNb0\n",
       "YYODXcfzxZ8Wd0Qcqla+iIG/mrge8zsxvmfDHrxL/dk5a2MkidzRcS+9JtzoWw7HTIxJfkggdH+y\n",
       "P4W8os6VjIx7kIaneHCXp9OR0KjmHBOwnYCd1qIWLz2DPEx5T4a+ZxIbMUU0hVk0D75icQ94es5W\n",
       "2A3Qdf60EB6JORxKiCL3lEr3Cmia5fUcLAA4sY+X3+/ldk1MrHryuCIWXx/axMRs2oD6nneXVNNU\n",
       "cmHkqNOna4NViMqqPAfJSs4vwd1Im8X41HPTGOBK9qpg4YD+ChJ4Zq1ohfzulnzLWccBXA7Ul/I7\n",
       "3+Po+v1Bj9FxC7t2ppILWx9OeEHEMQzv9n9BUnI/Gi52Sy5HnWumvaTlJuue46ACnC/NJuLFXHow\n",
       "g499BENjmrXUYh9V1NosvVLziclcxrX4RE7vQDnLDZA6bYtHhFKjQiQVHbnN3hPCxhtFpP+Dkj+p\n",
       "uEu5pKMMhADH/xJf7CzuG9c54OfG/X9nRXndUwxKBtDUobl7YS6dwUfF5dS88UsYvaFI+lS8GJrl\n",
       "T1BJ3rvi/MZowF5JZPL489p0xbOztVECSuoNbbxdqVheMglXAUTDucx3nWS7QCK1M7WNCDKEjzt6\n",
       "rCkLG1+FLPs78VA9rrQLLyEIHu6DDmPgEVqaBb9Ru34ahUH6A+U5R2P8wM4CmwmZBqkeh/ROVxNC\n",
       "ZzrFR7ovKRhCISAnpbaRryFl4Kfho+i2hOa4zGQP/kAA2a7QxAxJ2KS4skgacnYDk4Iq0cQMF1NJ\n",
       "w5HYkTfUMJ7jjKQM4GrzXQy3zYYRrMFrkfZTJXNSqq8wqT/egIjsoSh9loLGVc/Q7jnU6EepQ54N\n",
       "Fw5nRC55/nr5iTOMEalfvhSFxnHRwoCSXuvhIcFuHa5KBx92bwackUP58Hto8PiZk6kWfPB/+mxB\n",
       "VeU68HfDK5yQpyeU98df9qbj+jeiR0q+w9SvTi1i/9Oep5uv63S/X2hDIYcaRs3X9kdSGtdP174L\n",
       "5IW8Ejqw+TrePBS9fSU5mPDOVvHKgDlPgogrDvHALd/2RoRiPmc79K4me6Riha/O2QZa7i3W8HJv\n",
       "pVj2L8QpACUMOeY41ziGZ9gZU/f8hSze2f1Q/04wnxI7+7bEspOvwVUThWR1aSfqY6e070lBlf70\n",
       "7B/gRBRCkQNYWxW3LeFie2V4tJ1J9b31egJDsZxskFk2pMAKA88ActERYts5VQoGf4NwnLZJcurE\n",
       "ezFBPyZts/F/RRV6xUJBvSAPV9qmtIi2Z7Ef2nsgE5wKbBdPeG97Tek6akB/AGA2Xh9BMPlL1YEL\n",
       "LCK4YgVnRYRZq9nF3VOsZUyKlU0i6CrX/bFoxKqTFe5G9EEJ2F0tmacpaJ++Th0QCs31LpwisRON\n",
       "+QnYSU3G4pAdLywOt0VAZrHKSj2YeZB3iQskXxe+euFHoOeF+haYchI6saEWWpnTs/5SJ1/Dwckt\n",
       "DyysLsrnxbvRMfgJX7JSiNgvw9o4OUbUGc4vquCstMfmJOgXl+0gDvO0Ou6ffNyRQW0df9ZX/PBx\n",
       "rVNsrMCA/4Rf1GvOAyr1gBZtkAPY+Unr+Pn5/ftf4SiG+5KrubncR76485bBHyLLp03c56/0Ie1M\n",
       "UZd6Q42YzBOgnlSIErLLf7pPraw9SOgBcxpvZIBk+ld5NAMXVDGSyRbyLbE6gAiSBHgBwN5ULkRK\n",
       "bu6T8rTYXHoRji4nf0ri3tPcCoDdA1Ql+AHlAxaiS9qAGsDAQ1ld+RMOTk8rSG1ZRZAy1ESXyMKi\n",
       "3v2x2mgrskHTWlE1OWo4YbRUX4dZrAzyyqFAeg0M0QStIoXmVdVflwlXXKWALMsPLM+94BJMvAZU\n",
       "cb/Iq9MOydLW34ixJF1/686r/DNTWLFKedfvvsHjhivpQPUr4JHhNkGNSgXMpzVX36PoHQy/xrom\n",
       "VPdRXotmG17d6R2h8uAmJNwiJZJhaMode8LBXZeOgnFuXMRiqyOilPtE5+D/RvDHmj0SkZ57+lhZ\n",
       "AE/RKj62doQ0fPVGInQsxuZsS9RBVCMj/NEHs/NX+oCVhb8v2B+PtssSfJ6M3qHm+p9qnaVV4Y8o\n",
       "xNpuBun30Lms3fuCPzf5/2RK/uuQx6mce3cmdOCeJQcIajCijDFyPDHCcoYVy2LxPeajP75gJbxE\n",
       "9mrJIp2d7LLur518mGJtzPMK5GjRb0xF3i+wL9dFD0Lq1TJNqYG0xdOftmtNnCOhgubvqe9EgMoP\n",
       "uE92r8ZeJos6q1E4dU5svmAu/9H8Vpv90P4ujj1BiU7uH6eOf/+5AD5NO0jpduxxUN1G9G22MEKR\n",
       "6jB1k1m6supYnfXjoA2AswvPjcepljJ/U35AF43js/qBJ5waCjbc01xihKKii6yVG+Tz2jCuFfPp\n",
       "7usJXV08aj4nVRGwTOfW4xGOvFcL0HLJB6d4tlIeYHkAAAMjAZ8uakK/Az3dFf0jjdxB5os1yE1v\n",
       "j8GQ44AHGzq13DqSMfpi6uc53aoC/7ZCReXvTCIZYczygaFN3tDd/Bk0saBV7iY+W0o3juxopL8M\n",
       "H3/99UTguEzW6I5AK+8tqEs1d3UzxHZj/8Zqm3f2k7MgdtMNdJ9iC87gmhBIROcGZ/ZRVR0BNQi6\n",
       "kWs7yfx08lsWSRlrG5zxlirSIAD1E0NErKBp1EczzkqhD28ERVVuk34qEttpMsHQiRDCyLZA4qNm\n",
       "ARFNCYrv0JjLnUklv3VnaIyguAfIvmU8e5apgXBaQwXxBREnz/iTLSzpAO+qdeYOOos6MA9/JB37\n",
       "757FJmxAxxqogv67oSNbbuPFiWcLZHfS7dsckLyYJm17iVLoZIlwi+7PhXfrt/8WHEEN/mW4kgJ+\n",
       "Othsnz6lAuyEkg/8lhgsMhg2a/l/OVXxCT6eAhfR3vYIwvKVO7apss6GXDVCEiWHyIlhrhnLjQ2s\n",
       "6QNsalROGp/H2JxfC1UpSDdaMAQsPZPv1OH424TwVvVpPclX08q1zTfc/IDgd8EFrJhboLx2nmcM\n",
       "FoaL7wmHVUBdtGSojrd/6nx5WhEOEP1FYpibkXYn2LqBIoZXoBAO7qg7uWkH3yYnWgI0M2tmuWcb\n",
       "3zatSh7nPfjC/x11Fk2ket0VaiKh6TquPZCMPWerF2r23BCcx8gM04Q/j1K/m99oNVr9JyD1Sk9v\n",
       "Ys+TaI9kvlaPvwtch1ewgXCoqZHgVIXlhLXFQh8FlCQQYZINkCo5X2xrZd2ZgHYaBXjxf6GmHOms\n",
       "hvlrUtUUAAADAwtWVJKk96R2urZIzn5y0FfEoU9yLgG+l8xofNyxjSz+2Gi90LK5kQPVeknrzVqN\n",
       "15fvNeDaLqk+trku4OrJmaqMG5a3+YUYrxq31Tkxx0rZ60VMtEKiqBSX6SdsxX+Iqr6cxq8zwoDs\n",
       "9xg4+3yNUgMQsV9FDI366hk3HCFGFb6zpOUcdhvs/sEhWuEvmRqY1QLoTpFf8cLD6ZEZuMYe4tIA\n",
       "ecn+jUor8800Vr4TkZUnYVwlG06WuouwagFQyXvydMNYQokHmKkpo+MAAAiMQZsySeEOiZTAhn/+\n",
       "nhAF0tv/sIlSAAJ1mlbjcSQKdJqMObNIfRuS79PCk9/UBmZEsjqwzFYDE/vuBoWs5Me/4Itqdx/d\n",
       "pVAexy+Q8xF0xBDBj0IIH26V8ZeI/VxOg9KVB2+NltGrCMR7cUVtOhwbcS3pEFKBKCTrmWmIKTkO\n",
       "xMBr7TAIvcUO7TAkJjW6XRVBq+BoBWwip6vaffBOqUXsmeXuLDsRyIYb84IQ5wUDlTqxNr8ydGqo\n",
       "ywgGxuj+qL/GBz/uDap1LlZWqjZmSJq3CblV63aLPkopn6pvTQfA47S1M2OL/Bed64Qy5Dej8qq2\n",
       "plKSWYtczXWvkOV+5xGVT1Qe6NMS372K/pMuFaDCRnLtgAdOdI0BOb4lpLfhssZDyFI8trrQtp5T\n",
       "WsZqHt5JSYUNzyAN4KqfOaHXZFHf+AMaNBtFLWuqwHse6rjrB0NJ5WfAATPgzPRmtoqMPYh6ZFuP\n",
       "AlQr/VklOlTLH8iLUzgTEXPC5/88QP4miCdfRoO6CjVjgvJODsRuNLD+PIUd1I9vMr06fD+jtr4n\n",
       "JE7WRi/XpSF6Qdw3/cJkB9Q2RS6C9qGMSQSYF9gbnX12m3yASdYQ0WoKwyAEvg4xVrmYbbee4nYi\n",
       "rPCh1wXyazc5N30Vc2L4cOCRl8WjukoorcgQeb2K6h/ZOc69q6NwztatNg1gqssw40qSoOKVanaG\n",
       "Kpcf6jYxyN2PRDC7+IJ4R9CzSoU5FmQegYWQ2P95Ys0VTYgkNB2AyNSfZCHaor3cTa+ikVsHB3Y9\n",
       "AFV5OVIj9U+pAWjDEoRZBmSw7aLvMmdMQX2ejqDybFj45YGS9ueBIndvHo992YKt/ID8ybGewiH+\n",
       "BRAd4NHtMgTBKgBGPIcRCsqxTD3kEP/kQRvH1r5fvKh8f4KR+AXVawIFWgiLo5I5IyQRac1Fafsj\n",
       "RxHLHZuYlRB9cgFhjXDPF7Y6AFenesnDc7XtiJddqyI2zA+5VVOemGNYPzMh2X8WLiHMcZaeBLfR\n",
       "5Ab9zxVV1K8jznwS6OX58nBk8jLJ628GdMkkKYcYpB8rBIu1NRZyd4bfIOOD09b7He6ZyGFVhDEY\n",
       "k7G6u2at4y+6i4W4FL5j6xTzJUVg9ENOqaVsVQet/jWNf6xC7THzY7qS1IEYxfx+cebLzT5jCFhA\n",
       "a4HA/mxPrODOCNK5Eh5Tv3aCvxh0mUnF9282KASrJeK8S2Wuoj+bO7Dr9KH68K5UbH9Tg7sJUgD1\n",
       "ALtYomyzXlBY6RllKotyMPa03yIm+FJ/st/uuIxbkD3WIv5z62W0HhcOSulKVWaQT0TncwMCLUMV\n",
       "d48tqVvlPeWtaqy2zVrbZ86CuTDdVAVwI+XV3eC4Qbdo8W3CCC3+ipxfnnw+iZR8L5NOPI4HAmg9\n",
       "hbp2uRpqbtvLLoeFs6peChusznGakpnMHg6+dPcXB0qlsQ5VqvZ/E+tP1NjlW+XdpFzkepDAHdLC\n",
       "zTxBOuN34JOgZnJHU+75AGWUClYPWrCzte89SMRb6h5cf2HjY5PcJBjcCFo/1YvR88Av+WxTWpCl\n",
       "/fgYlQ+veeKIhxlMPhQVMN41dI4glzSBX34sXguys6SbFjOmd/F9CXzqB+tfQ/w5JCgjqhzKsBZz\n",
       "jmnV0QtVdMTQC47CN1Q4VYErccnicL/u6xHSK1CHuAC3cOBEPmYO6Gfew+nsp5fdAuzbI8xfRDxk\n",
       "sN+hwqr9NQoDfAMTqZf7K+azNIxvPgOGJDnbbXNbuctjQRMqDJ+OHBZY65vg0VLxVW2tqpb3ppqI\n",
       "02WkgaBB8kIqP2NFJmwkYwBmXm/8ewSv8ojC1Dr9CiLj0J4kSABeJDiSBZl2xe7S2mk1phOHrQTW\n",
       "8STebOuU4dUeZB7XbvsDF+IPmWQli4lK2cnlUddgygwEx3m1gvfcp2sxy+aPds94ud3wUGRrlWqC\n",
       "65wvakqVVyw5TdsNy8Qd5JT/CJzkRKfaFS+XCeqXNNBqzh3bq9PeZTb+MZDHGNvhi9SGEAR8qTxQ\n",
       "AsMbtYCZs3FJT7bGT7rd01e3jr1dtwtcjgqCoA1h4iHcl0iWrgsthh9ls7liWD8U49xYhhPH7L7T\n",
       "c8KeLxTjUZ68nfsxicQk/OH/UXhJ8gr0ho8bHiSyKX9o74ginqSDVPUTNkyZTAznuYLjo8QHGnFE\n",
       "TSszcitll+eZRn7CcnXjK1QpJfjKHoMYX9s0ZiN8gSnpkbhTPU4uFT7PqN71rZ4OYegfcj1kPz/0\n",
       "pWskizNRYA4DCfxEkn5BrPNuwLeRk8ZVv9e+vfb0WNPAqNvhpJuQVjN/Vn0UkfgBM6+G/9oAG82l\n",
       "3y3cMj6KXouz3jtE3J+4zPg85cnMFkO2Y2Q1FGgyEGSTgJK3vFDcKbu/+kTgEFwxloFb9uQkaOMK\n",
       "46MHTpQKBft4ooe8Rp6xKNCu7vLPEUsMSwWxaQUUlgC/XYE7zjUsRpxkkbaCzEZlPKO7lPB64tJ0\n",
       "Jv9Olorh7RTJGN5DFUSMgsAEHpKCtdrOwE7einpB7TpZM0qqZdvGP71wM8MFXegdTfpig1m5BZ1x\n",
       "itY0g7VomM/j0RdWWtD8ZlPhY3smnEWlFpny8sblDmSA9UWrayKblm9CdFgxse4FcNjUCOsdWXIp\n",
       "IdbgrvWo61K6aj1Tj8kNPAOOy1wmjwXi9KD/DqjuJYIibCStwCZkuXW0xxz9AAtHk/5CWZUcKLf/\n",
       "e9QIbiCmKDlYShOGAv3KhZFH1cRgyT7n0OLbheU4nH3ilugMpmiqSuzWg8SHKZWkVD6WmYwu9UzX\n",
       "7MuMj9PQjMweGcQ/7kCJLXGIHbhQF1sI74LtP5HUdcsUaFWupndQkAJZEhl4/wiYFix3bIg0kstL\n",
       "Mov9PU6omravlLbnAOUjt6CphuU9f5Cp2oTwUJi4dx8CoCnmyDjv2eox2GpK9ZXiRlyXw4rO1/Go\n",
       "MBVs6aELaJIc8AAABExBn1BFFTwr/wEu13Kd4aixCmEUYor1E92gBuKProMfLm1odF3CSlXyHR7q\n",
       "T78KCP4Kx+xBmJP24FQZqg7U+02a3CqlKQwubiNkW0U/U7dH0OSoRN7eSZ4lZBvBUy67aDrWYjKq\n",
       "jAzmC+UsWkCAn4hV/OlqBMl46rsuR74eotF6tT0tTqp0DdhimJMyN/u01YKelDzmeWZUBcxSaMCy\n",
       "/aRjQxD4/wyXPlN1x+DhDcgIAjMPRwwuLV0vIcrxCMZAbKWwFtn6UUW9rCkVXvI8vpiK8MB87KfZ\n",
       "Lw5nwCFnsUK+7uzln344WqpmkECjP2kIutGM+igpetZqkMGI8BgVOv8YgUOsrF3rZbbwSYOPhLF1\n",
       "eLst8Yo5VtJVlkvJ5p1h7DeP5Cb2MOA57XICNPnXcPkvaOTDxyRkihNWf07Mzkum3gExiadhbno4\n",
       "R5XbaUC9hWhyoSuiffJbO/NGUFx9gG6OLMk6qRG0u4/JY3qN4bPRdwQyTJPVYIWNEqvSv4Grd1Nv\n",
       "lbK000Tz5S+Sk7/PtaBFAbd2gVdRY98MQpQOSfwDx6Mm8ODgI0gQYHwBzGxYq601NwI3DIVYV6cb\n",
       "hMnR/Eu3HT6+Otv/WpUeQeCCBVM31eKh3Fh1EaunlRO2ZeELy+5hg2p9glN5n903QS/3oJirMBhF\n",
       "VcrK2LwxXhr4CSyq6kMcFE3ePnORQ7l1XYGXMp78V6H+1D1YusERNBY7r6fr9P0h5seNe5wAzbmD\n",
       "99ROshepFYk47PqquI5iEhw8EZ0m6vQqcmIa3s6lGMPE/Q505H1lGKV4teONlv+T5WvAi/quDBHd\n",
       "bCWJWz6Xh4m+LiRJsC6bu1d08aOFkU69tUShdop+0W0YLknvS4wcccaWQ7fxGYyBCmkns8uZQANC\n",
       "Fovg+YAUE6auEhgSiVaDL2kdPMe7dCPMmwgDV7r9btlxIo8qNZ4EPtM2qrVgY6kpT92xmjN1IWtb\n",
       "lH6GJpJCMQYDuyPcXasHjJ+gX/kI+prNoPrZEvbqndgcy6ZxB/sztDgrE0B9ndL2jbGOkwxICXBE\n",
       "vFzWsvHLu2vAtetcOCP6E3stHVZJAmGQ29CnHhxNQU1VNIEmOnnGFTGllgDzL4pQ717CeQZpVyKb\n",
       "PV0tYM8A+dfbcvLHPDU0+1fo7bul+3yCDalt1DbdE0UD/I7IC7sxPx/UrowM3vo4GF9N4YScTSU+\n",
       "/Gp+bChnfT9nVPn8TuUwcmkzm8uzfGn0fgJ58h04dLRg9q9MAc0Jfv3AU6dfOdkuyLi1Msyo5huz\n",
       "cH2t5NJjF+agyiB3Q3AAehPU/ohX2dS5ZACwDdtX3rm+nRDd3XvV1R+cxvkfS/txPJaRI77+NP34\n",
       "6FN/BIHe46Wn7grLF3iGhiQwh39D4bIQ0TNGJDPYsAryuS5xgVZaSg6w0/UGxP5QnDDL7sHSdfxc\n",
       "L57SVJaaKhgyLctOZRbh0X7dfxdbXrvIADB4WPyGZAAAAvsBn3FqQr8BLhhSg9Ce38RGnEAJq2mJ\n",
       "ZE8cI9B59z/DejdhfgH4XD6fat3l5EHVYBJ6IOrN0hFe2p9qu3GYVAIoZp17p5Lb3k16IZhkFGnF\n",
       "tNEidNi2YATCanXZr0/ofus7O7VCnLu6jL3m5ajmj8vomtijUPApGQ0GCwAWr+oqRm6z2ill2tzO\n",
       "7bQhV/OWIaUJpk7IZx7vAkr9pEx9UDZt5KVgd5ICwHgS6XTfybzQN9Bzxk1L9YXL6Z67jwq0pmxP\n",
       "mbP1pfCu2qiGv1dAoBwD0RE5e92Hx6Iy59oyWO8VKcTccf4SXcoaQKIu5ZCJdXSJPfFfs0iW2bXE\n",
       "P6tD/mZPEAkBSFHOoA4Wq5naaHWAMtq85X15f15Tde5M+jxGs3NMo2pVRuiF5tgy/3UTwBkUAF/s\n",
       "yZIZcERPLX2tQ3ITDlzT6tQi5lwDBvwCfKWfNb+eNfzBOhJmaXvIEGLYf4RWi08bpY1oadxkTwkj\n",
       "3DRhiWduPvHMnK0b9NrFlgyH1EQ3/VI5jVKwZ/hc/4uyu2osP2+sS56zH37LEv+tQqyZufqDnS0c\n",
       "ITMOOEnOGEaZdM4MGO/lzTd8rXmSBmKW7yq/clCBD1hrh8A9f3/hcnIkvV74C/+RzGFNSikgMETE\n",
       "Xw5qXJciasAs3z3LABFsA2+mo6+++8mbk7RBXxvWzVV5W2kiCasPbw4rka1dHTgIM2xLSP+ie+YQ\n",
       "MRi+MIWB4/2uBXJ3M4OkOX3OB3imu4SsMs6l6XcleoZxVYQToauTA2is1xkWH++aVaceu9fPLuDM\n",
       "Uc+N+tqs6eZ1WhVfLeVKqYLRwe8L56MmV7OHmKh2rk9F+vAwfdMvC817DoOoURcMq6Dzvw19qxDu\n",
       "X+GJy3YiD2Z/Ut5tgOYJnRAGY3oNDlfobt+UugW8k9IbzCYE4JODh3Rsys6vc6e2JrUSnUODExKJ\n",
       "J8Vt3IB/ISlKo5x9WGi66NI7jL7+its/S3ibcqtIFTri0RhjF2aKomIeQmF/aFnOPLccDpPUkAJr\n",
       "AAAFJEGbc0moQWiZTAhn//6eEAXF7ey1QZDBJVDAs/SL/YEtIAHL7DsbdVWRFTZnmoxQQExMdnEf\n",
       "AqWbTbjM1FwrzAN/mrR4A6qi6aAd2bBmwk3QmG4TVeJVw5DSqQ/gKoIo8WwWmADBc0RTmXsx6hUa\n",
       "OYU5e2xErkfgd3lCkKwGx4wBMdQeaSVieDsqtOOLxZYpnlAbNbyVrSKEq8UWczTXM4VMk3cukNxT\n",
       "jgKZ/kx3lHp1Xu355/ZhxA0pe5SgVj+i3eC8+KOopE4LjhfCNE6mAOk9J8HT1sqZLsSYxfe/xda4\n",
       "ZxW3m5Ekw6ccau2Izy/byEZ+f2LVpypStfzBv/YYRPqbdFjP9dfEPku20qGkNOeLGxmk705xYwJz\n",
       "gDu0OwtbytcSREBIoIpMvfkDFmq5/uhs555lwdIl3EjbxzmRuX42NkIWILJ2HQSH893fWxwesJrr\n",
       "OBPSdAcXUqzrupurNxWl3FsseY72/xPsMyAyBeLXa0qSa/kT5mjtAUe6+KFvKjoDL9nLBVRumlma\n",
       "5AO1AJ4TbAdVGbUSm+UcJ6zYqqOmlzJnLFVUGV1iy4BO4nkhxlutRSd1ve08aT58UT5LgSHenJpe\n",
       "GkgVoMNclwDLHgTKEPwDO5zOS7qyW3B2gC0u+7uOGegmp3orCc0e50HqV6jwVk0GJ2g+d1jnZNnx\n",
       "+2SsI/UzQwOhwDrC0l2Wx/ArvovnzOg1h/wYfYcnKuI2tr5U0fXtsB1cFfMG5GZV3Q3gXL4+IR77\n",
       "nRDxWy6QE20sciJYfmP9ikDQuPSylEZv9+IBx2Kdnqw+/Gs23xoVK3msWSZwlleSQuvhtdl3szZt\n",
       "vWBczDQ12fKOaltDD5F71wtA7zwYaV35YQa93ev7QQ9sPrNsO19/SRMSY0fBHpBioBrQpUFF0ALl\n",
       "4ogpzFr2WtL1hGeq5bYl6vPAVyyxTCsEhnfuEcUGlgqyL5QyMmwF4Y77/PQZwtEd9DpxNA0sIICP\n",
       "x/IYXoWwyBRNVYsk83g7BW48n7PA4vvNRe+EbE0SR2G1JVQMHBjVhoUUqtJZ6qqUiS9vyADM7DXy\n",
       "tjAllMOOJj3sn2pRv45gGASq6Xt3GTb2iX4M7Y4K1tHNEkfvTtTXpinK8NhAWbepCChU4KS+4+pL\n",
       "3IvNcfRrhhOIZlU/lKliWW0uDkQji3q8kk+V/I5YFSRvteHh8izhBU8t5kvrTnMGFpgccDL6TUuz\n",
       "iz21VXRMxx7Ofx3m1Am2mdAYiZ8prXBOyWRLOoV++wxHPJH5/sG0NIwZVDPos4hhjgL/8671h9rk\n",
       "uynZbXjnAjdI2KN9uwdokMKunH4Zyt8Us+6yxm3nJ4K30bUIo0gXre8WPvwwPhgoQAaME6mg3omf\n",
       "v/V7U69SqNvrXn3Ceu7QU6xYnkl8IfZmduXGQJ1GaGtgj09FXJQf8lJ/lvmWXAHJaJQWHAqxWnmz\n",
       "Dlylh8QgB/hCcTvZk9CHA//6+vqENpCVm0W4wqfg3SajRLwLe5EWT8Ch47VZu1snz6u9+EXWnyvM\n",
       "nwO9Xv77bKSla2pUBlpiJIZnHxcCguC5uqmvZvs/UP36i9nja1+LEnYHmmE5qWGeOk2b+U0z9pd0\n",
       "yXOgYmCbpQ4U23eeW+8c2L/AoqULHMaMDtTrmL4e4MNzd1TlhFa2yu8Jka0aK2/q1P57aC8VAPBX\n",
       "RN+aRBG3b5/rOeVFUNOv3VArWHb35cmpTfGwx39bg9FiC6BwRu2LwCr9jUkutB6ENSGydTfZ4mT1\n",
       "+Xg4pfE8/49sAAAGgkGblEnhClJlMCGf/p4QBcc1eMK7ylSRy7Ex/8E3Sor/9ycAfABdAewScXKI\n",
       "dauqmEi6rl0lnVL/KZNv6RZuUIyl3ms4Tcd8v1DBFtzNAKLwCVR2bScqjHt8vKbiE54Gn4Af7P6k\n",
       "n/SxXJNV8C74Tj9TMd67nWNYaMExV1ltEKU5WsswIph5EjVhWk+Bjm5+6ovSL57ak3XOLXW7dPD9\n",
       "wY+SlC36omjBq1rwqsM2ZbU8jhJFn81/dGKREEfJdOuB9nFdG06nKG6ECAhtkrUTs0jkpoVnA7hJ\n",
       "CSop+6yoH+9rMdj6qtVM0uUGyb8yf9x0haw1D65q1VZgFZRDuD13c9B2wA1vJox1icGd4kVRetmt\n",
       "ajC0DTQIq/nuf0rfW/s5dUILuncPZECpfFRatPdpAj+z4sdoYLSjXZHO8mgT4Qc+Hffp7HDmtV72\n",
       "AcUsqHwJe+Q8QHUR9UPon/5nN46yCIvrwwtZtAqjgon45YiZtZDCRwSVRDX1lixs7Lum9RTkVU9N\n",
       "WDUgY8UPh5TUdl4e5E44RXEESLWbnd1Uw3CZ3ilIVh+vDEnT3fgZDUsNDkVkXfa0v6qcZPAvlEqF\n",
       "VaKYRokCkbyKAPNG8egCGAkAQAlrYohWd6IwnTE4AANufqemLcAIbPqjJR97M3GXgFjvE7STnpmG\n",
       "sncLheu7xM8a0claJGOcCZqhbO+S5HyhYLe2qRh1vQba/BvSmkoE4NXENj2IBocwTszQtcFFyDbI\n",
       "61TVO6mXjqqvnlvyBVQ2tImne4qh9RadPJC6YEpEA2KGUy8P9EztBfpOyKElnqq3CqWS6PlZZXDM\n",
       "c5GbrKEEf+NHO63/budW7BvxQboM+x9fxBCjOnsOtG3bPdob6W6z5E9J/whCF4QEzi1H1tiyUfBd\n",
       "onsrAprJJ+KtdJh+ymPyoZS4b1IqLakMpohmmgHj7YTzQK1h8YA+HDBvWo3fqc9EDICBvs1xmUXI\n",
       "EcAfY7q56ZDLh0Lv3SSmUJxldapTqRjqitB73tEkMPjkt3ujNqpNtRQ9li8bMNmdOI5LXZFcQp4m\n",
       "NoqGdHweot7DMB7cqYrkqnJb+wpG+TfbY6uIOBYYPrTjEXkbRwNW0ZgMjJARJZvQb8iv/6pyqLyV\n",
       "zmSpOjrC8kzm2Jg2+ZL7OL9EXr1p2TnIhD7M5kDZPK+DvDGHBWXhFg4c/w/SbH+Tg+l3rzR6qgna\n",
       "fAjZzlD+nyh0wC/rWrpIBoak1j/X3v3K98f07g7DmzMwE1+ls9hHJ3QhpwQI7yQz0Jc9PaMDP9Wj\n",
       "S6KnSjDcHL1/O6bQ1XM5LPrxm+Ao9hOvpYfcDlgyIYnUCrVIN//VS/keZTsIfOajYXM1/PWHH3km\n",
       "lF22GV7jDNR4gEkgNIsTC2LxGgrQSkkdnluZaB+KnoJuZBSveK/wRyBpnMu07+mfjA7EQl1oEwIR\n",
       "flKj3vkhbBrvl1QaQb3nF1k8aY/yIeDcqmRrCDQtncjyFIn6YOWaLxG1Z4WSnPbvw1UjmxY1X89m\n",
       "ZtrFnaDHfYZGBNIj+YYUYFrMXZ81CQlsc81mXQYbpU6qsrxx+albdw4VUio6TLtVsOtUqYPeVmLA\n",
       "1VOsCWJXBhyEbgWzpKXncms32VQFO5ais8FPu9YQivR6iYiZMZTF470x8eVR271KB7D7x03SKWsi\n",
       "Bt2vJUSe5BCL5CzpsO1lFeaRnRGU3/UFX+9LIT0Or0Fn6oRPAsHcya/HXvLqaIHIINmGD7/BSkvE\n",
       "6PeEUyefKjKPho9AeTvTdoHJpHDSBBUsoIkT+nOS8LKOyO16jV0V4C05a8U94QBIqtQHmr0Dgido\n",
       "nMqA9U5uXCOHWHDfBdkw1eLlKCjef4r5j1zocymm6AJGXU4nZzO64W9FdA9264i7GS/u/VLYGOa1\n",
       "TJ2imIkUu7ahZpfWRtr3IYf3ruSA0hVLL4yJCByH3BIHCicZxg9JDZPBrHeabRRIiQ5EpxgG4POZ\n",
       "oD7KkO56lMcxTLGdrTNByFCL98tfUYBrHlG8D3YeZCU/lZhor1tBIy4LRt6DVxQm8AX2C/NnyPtS\n",
       "/37Jjq8q7KeX8jvtvZ+eqYFFjYKF/bCyN5Jq1H7XV7XK83iKwWP3fVSIi9cWOh5aeWnxrbH+Wemy\n",
       "HaY7urKyqrv19ozG0rmDR6fehJOI6NTtZSPyYo9b1owYWdBf19YE8HRLclcjjIvEnVe6ZytUCm40\n",
       "32exgSO2K2VxWEzbIKPbZJxZivpwsulSZsAAAAdIQZu1SeEOiZTAhv/+p4QA28VGkAKyy65jGsSF\n",
       "qtNggmKt7zSg954k+M3s+og8eW+4jQImQT80mvmqvez0nZ/MyS+ot124X6EWct4MwBwIVqnmlXU8\n",
       "9K8n0qOCeaZevEu37Qv9kfIg7gh2fXCq9hSAkPXQ+q3lkCcmoDZTVEojNSoNA4cxvWsZex3AqJsy\n",
       "+Ya48trxlcbISssKRZfycZPWLkEeibyGK7pxh8EOPKVQKhYssIliqdvYnb2J9cLm66YyH4ZMEVtn\n",
       "C6FKL4txmU2LK1vXORBn82L/ySRiU+/MyQ4m9XkQfxmwzuc4R1T5fYrpwYaHoGo3kyflCMfR0SFc\n",
       "Wk8T9HLmwiQghKKnNB/gZemf6q5bqErcHcRSBFb7GLtY3/JXui8s/n+fGKvF+KXYDI/amPfvlrAJ\n",
       "c66P3He/JhDBy8VTj2xB++9eNFx5M9YhD+1NnnhVRaIbnBNtmoLF9pwHCq/qvx5MQORdNihe9/OY\n",
       "xsuW2xOzmInKF51XoCEf2GA1hvJNCgX4D2LTU/0BxylpXznHYal7pIEsPCb/YaZsUSqPfgswV95q\n",
       "2RXxdNlexWirW8VovRp0I3lEUfKtLIp8wz8fUEvrSCJ055+qoniflDksw5ySs35AVYrlKB+NVj6K\n",
       "pE+jI2JmMhjeT3CxmU0+LDpFfGBZEVcr3yMTZXeTYvCdVMVi3ziQJG54GdRW2C863gVRIqVzmsdy\n",
       "0teCkQZloQKOxrxJyFaQy8uRBsn0O0OagsCnOyVCOrD7foYEVooXO4/jzz/whvH4np1+cdVEdwkB\n",
       "xzPtRYC2esdEvqFdZq6q4JR8IJYS7GGWcgWpybfyHZ91dyvaTAFRK+q5BhQoZO7Fw9nQSbLFW1um\n",
       "f/Abt/ppKbNo31LXIiZ8DU1Ca0Bb9qbUVtH9q29aA5rWFmVxqfXEF9oQucntq4clXwaBtl8GQOhz\n",
       "1sECX6Pu6OcZ/rCC4Wiqn/fYNoQqAxPUNbc+n8dvnLu0jPgnwS2iNSQ1DB2kkl3sJDy6oT/7M/zD\n",
       "m64yBsgFdAB+Z+1z/0IEMywNXBEFG2X7FtYv8ngae4N+bK+T5RLIabfA+uKw97u2cnuU5wb94OLG\n",
       "VrlCVq4Xg3kmX9EXyyHpP4+SWeCfmYsOqdG1f31bBL0ZkQX+kLUn4m3Cnp5AvfxSaVgSy+gk77t1\n",
       "NXzOCEc/ttdAApvEePGQ59uq9NgTfBrq3wuSv9sjwn1Ye3B38C9eqqHbvajJGvkxSTppm4IGooUs\n",
       "8nhm6JoFmDMIqvA/H3Lu7ksfodV5y2jUxgKphph4GR3kLLNN0YKQxgL+AYADdUb4BPvNFr87hYpw\n",
       "fZ9qldnzR75Su5GXzOk3dgvVbnR9HJCGU9fk6rgz2ny2t3UDZrFVrXOWXJnyBJ1lzTP2KCVg+LXy\n",
       "oJ7Lrl6UytY8Grfa9rCEmu2VoH/vXUoGi/5fcAQXzazMWqROuWA4CsoObYeVHwDeCOMFzyfNw1E7\n",
       "oItO6KZrKzWqrPJYGM6p5W1n7IJq6woOekwKKb+BAIL6OPI2Kq/vz0Og5Fp2ZU+22iV8tZSknXd2\n",
       "yQvBId/Hr78an76sXTpWqXXw9Id/PuJoVPYwx3TFgMAQD5IGO8E8Z3rL72FrWEQUcYTMm5eUmrSe\n",
       "G6egeRYqIrZpkDtfSI6Pb35TfR9SihHyyvHkbipWoAW1EHBxW2PuZWFlPnDMHxENf5WrRXwSSFbA\n",
       "0EXm+GVrfVrXZYJwWWkpah7tqS8/0hVvF5y4xY5pxpdFA/sHNVnr8LsDNYqpZbs+wz8rozBbxCAq\n",
       "dPUUVr/DT7QDNCB7pRHHXDUV0tRDdHfLIt0+7/4lb1+B+XoWAE4dZLD0EnZXmzT2VBJBV4IynAd7\n",
       "csjuZnJ/3rEgTEOO+mlcu68DO5cXBfL/t7Xv1/UD/2V1eAAZbhR3qoHAt+3zVVu3dsKXW5FaDkmw\n",
       "8xZqcAxL+ThsP052a1K9RfyzRb+PKDs2RR6Q3iayFslmkFi4QHc+IZrb/uWjGvJ+VgXYh/15nJ8Y\n",
       "en58nKatdNg06z1ti+Wtgq7ZM5Y2rEZaM8t7AgQYqMENxqy+sqCTWYk9GNtJheDQF0xBbDm1sVS5\n",
       "Hd3aYufDAp/QswfZjqxnp8DzHAXBRzzGzEoYTV/o3Hg/UQzgaJE0zyJoULeHIYmSWyn1wYbqpdTH\n",
       "7l6BlFO/8DHyzjRHrQcCfbKv7Tp88IqNpbioGZyHoQvvLHKgaBQyAgA8dCUYoeQqL8fkt+BWmu5n\n",
       "UHeXivb6mfM0mlv8zXkfTD+93+EFr/4EdTNbxIcr/ijjffTi4z5oLUB+vJcuwONZHcF1I6TcwjSr\n",
       "aXAoyMOw7Am6Qw7eh0JdSG9T5ig4d80XnzHkmWAsNw9FXDXmmx4ZeOKhErdIyEqTEcrDJ+ZKH86i\n",
       "v7f5/HUFJXU663b+B1kVYD+ztI4s7z0r+U/JSby1l1FW4MA9TvRlwVrmlFO6qQGjuG7EKEGdm9K0\n",
       "V0Tdv08/CP7fMwG7QQAAB1NBm9ZJ4Q8mUwIb//6nhADbxS1ACW5saJ/YcR+y7CUx0x4rny84McpN\n",
       "9+i6KI28YUUoX2mIRvgjsY6i5dPTHZFI5w/5RMAI9voj+HQYEIVw5A5gULmsHDbJ0/y1XDPXjZW7\n",
       "hA8knhKavlkaSsaN9TZQa3ehq6m2Zfl79PbiLHoWcOCDwW1eiiFJQ2eTvyMeBvUafkU5uj35RyVa\n",
       "xyCxTOsPD9jHmpAuzZzTHGv5+neAoIjTt4LehlWjqj8mtM1RPIIrSxAM1GcTRVUnjG1s0KPfSxO3\n",
       "V8wbGuLRXCuJgnN2GVvAc78mGSDtYBR5NoSsDd2wOk1K9Mlm5S/XcjnvIFFpeUGsCe1HiLnOFy5k\n",
       "b9tbdU2cm8V8c5nrTv/pPY6fI8mThMpWb+XnKUHf7Fmzo1zxEFuz0ux0yZDIg6KuxFJhGYtSexGL\n",
       "5u9PgNbWutsu073mkWDmuppcbTvsHAw9XAQHQZMyWc3X5sZhEXclgMaIzEa3DU5wvpT64dpkVt5J\n",
       "jkbQOexqjWEEWR+ylZ020qsTTRygDJZFTL8bL/oxlUPt4eob2OAXa4Wx7TsffzjJZhbHpXsK1jZk\n",
       "QpOZJtxutv4AalyB0UTW8fOJeJndN8qoId886er09f3uST4el42rdGDt0AtwFEbzSM/Km3TE9XVb\n",
       "CND8AAR2kqQp3Q1cEljGh4Wqzr91rizVntwhI7zNvO3IGlc3c7glh+Dscx9hUpFdeocip8G2jhzl\n",
       "MN+m2/SevYR4H5g/YEZ40LWUk9UdVyB7bpdO+s4klJRXHxQk2O8asSzCLsEMpVxwsh47GAF1EZ94\n",
       "M8F50J+QKXCIKcXxgeT2+t+04iLS020C08KMYrtdw4me7wyg+CeVfNoO6I8pCVlluNmFTTHOrUNk\n",
       "URMUhx2dpuSrHXqYmeA6lFBHK8s/LS8bG4yKqEyTqJkYGRsfMebbpITfn0OCBCnB/FcGF3z4VvcZ\n",
       "ilVz8z7LTDDn8oKO/Bv+SSF4qiaY68mKgXfyoK0QgIvhXhK/azJYx2mTeS/A4wP/pNGYUh+LFtUC\n",
       "6tMLEr4E/w7OtYSb6VjVGWNAwena/p4x5aY2pEW0T5F72WGEuJU+QhSC9n0ZOHHRPghd4KhXz1w6\n",
       "cCAW90gwrGCzg3CqYASCfNTBAXQ3s9hUg2oJG2gSsqbR1tWWLK1++V3pU0JQcByjJFNjY5gBeamq\n",
       "ASw3EEro7ig3IOcjHTgh/uXP2iqPYlHKZf5r2DqSKz+5HGYaQJjHkJftPDkiQlb3mYGQMO9i6FmF\n",
       "SnZcqr689niV70lAqm2pBU65OBE4ppQfGyeSnHbt1Tuk+2tffdFST1/KiGBFOtXa0xphZS0MNewV\n",
       "nrtKCp/utb7PrHCYoByvoAcQzt9F2m0X/xGPi56DAkApapuQMNsHqBuz2WRy0nRd0iZzYH0e4tUc\n",
       "2HH0bx7dd8SQhkhyTGffHIJ1/WdeojyJ36stpSVz6wLd4Pg9dRqzs71gGpV7kaAJ7ILrLjFj2Rmd\n",
       "/STPeZyFE6Go7ylSNI2r7shonWggO8i24jDIDSjbnB8oOmdmznDYFhmb0E6PIey6GxeHL1PTwomX\n",
       "c79L+XnAjmE7CJ8lCk1R9rl8vUi5yNEIfMX5yf92Vd7/+NU2SvjZ4TCFWLxpCNjxLsJ+vHNgPVbm\n",
       "89s7QV5lLy1lRkxE5m5dQ3yNCheqarOmGIYd8EjhbpbXvsa3dju7TGB1xaGlqBlEPhlku3n+4cgG\n",
       "EZFAkHgCpdr1Z5RBn5eJ2o58iJaRa9hEaow14XSUEggrdK5EApcYROLr/rFVNsHJb3IhWLuFoim/\n",
       "RA0SmrMe+c4EhsLJysBR2jJIN5VAoJTweeFrhzIsSeZKOpdNZJnnkdt8OIninzjpC6RbEPIkDlZW\n",
       "IOGexp7kScTG0f3sT6fvVNP8Db0KAZTRdF5Yw1ka73tyifKtXfleSPoQr4jp/A4A+3wNUC4FKd34\n",
       "nukJausRLbJlLkMDZCTkSfa10hzweuNxA8/AhkWeSBbH57zPAly58kVMaf2TZPQ5VSmf5fVga2QG\n",
       "7PIDbECuVlv4WaaevYWLnp5gxDAx1j9++8cwtKibQAWCyod9LvNaGiv8eTI+t1Vjp7x+Fc8PyBki\n",
       "lWYOSEBTyQFUSDvq+0sG3b3y9coPhqjDrSBq4K/r/ikp8nc6z4wG2yEj9A/6bf7FdVvz0HnGGoG+\n",
       "1klM+N/pkE3EQ1p9F8NwQfB7u0oLgS7KJuRqYZX1uyMsRrLrVuJsimZlpQsuixEYfmwSXmgmYYT7\n",
       "hJvSTm2Bcqqh/yckB00LBiAKB3zsVWLke+JUOIittzw1yCZJR1cE82zSe6F45ch8GTUk2/fBe/nk\n",
       "8hpoRywAWmgiHVVOdSa4TrZSrxYrP/PeNSAqZnEzBIM3x03XGfw+reahv0ZJEhtbPU+qrRVz2OVl\n",
       "zWjuQMq3erjedInjC+Cj4bDaMiaUUWITxfqQeQJWmdztcNUR+JjK1PHfKnWKEEOUqW7GoJK8J/ai\n",
       "NlbQy1dk6PqtVT4AAAl7QZv4SeEPJlMFETw7//6plgD5CUUAEQfFWpnj9zyuf9tCUZyzfnDRDPyl\n",
       "+5iCJOEDxnUeg36+k3qHpwQ6qvOmmHJltuqHf3LEoHflFsw7QIHWlZ1p+a2PRdcpz8B3loOziiK+\n",
       "mft9Af8v/Y7NjkVpo0E8K0Im/R7zBwO3+NJuAr08ZcKBzghjx+IaKtpVYX3C7NGm/7RJAEU0w4Nd\n",
       "Z2DuvmJGgvWXbpTDNXigNX6mTmv6VdUdxhyYYbxsZ69JIX7ifIyJtR2kyXdbqUP1LB96kuv0RxX1\n",
       "r6TklPn+86srQNpEROgxaO3/X19FkdLQb0RiIKrTYh0tanWUdAXY0r4GLeMbYhY0ZLso9Mps3BNP\n",
       "YFJ7QhyemgkJkctZydMk2doFd7kVLF0vwI9u/KVO6kQCHkXxfvD8zGvZlxqeRhgjuNsI8Pl5ZnMW\n",
       "qDekg1W9GVC/qXLcTJRhkUOu9vqQl0HD83be3R8BugnnQjAPoyE9iEJvYJdQRv1U9szDFSzz1Xm+\n",
       "o/AY9yp5L61WP70nJ/cMMwanv3kR5RrdXVJGRf30pJZIF8ZOW1u92eF78Cu2ZyK8c62JZxZxbH8z\n",
       "g4lk8yRl3RA2k8lu/siadUbUcRFs6l5fHo08LmjfDogS+mNMbZLlRrPGrwfS7W4B0CIsecgvX7Kw\n",
       "GUM8c+f4SpAojBL4JvVxSNRQnSPFsSPOFCMibZ9isFWK/XGUtR55jGe1lM0Yu50TfwA2FGVK6i3c\n",
       "qg98R7XWjplNqaEtZJy6UvTrweC31orUxTuB3iXFvdRTKu6/VAvNAIzBVMH1Gck7Vyrv4sTGMm1/\n",
       "9QfdXwCU7TcTRf84WdS4azG/1SnflxLvmgG33GpeIXsbT8GWwBLl07LTiPBJJqLzgupEbuPTkO/w\n",
       "ChfNmD9qPP7kne1Bfux0XRrJzd374DPS712YzD+Dv27uPr/JDgX+6fJ7YBWiEP4CnE2tFoR6w1yf\n",
       "Tz8uuLQ1HuFUduq3mnOEqty5/rihD2OE1OtgNw+u6ZxXbH2ly0jU8OXBjqnAHDYRUXXU5t+ptDXa\n",
       "kRKYxU3Jse3cj8XE5LiqT45DArPNhGMa+bnv+UstRlTSiCWg+/8mHdIzXc9DNvXE8c+ckASL+xMH\n",
       "+yLAZkALz+SbEL1uYqSdsmt+gErs4A73tzXlUuuDetEgBlTE0IfS7e4QngunO75nDwaFNNtBv4Px\n",
       "Ugj0HrnjIsAduDehONFEn0X7DgNoTdOcRhAcWRU7vK6ReTAS6PDvxDBXY9x7/61Iqya1fA3lzOiG\n",
       "1IKD74tMHOiOb4zD8gOh76t9ZLzpSAaFxqjWsT9hU2CA5P0hCxQ8/z7csJX0CNoHgBHElyTpevOD\n",
       "RRQ/is2b2csa4fufYoBpF7wCyvFg+iNbC4pBR2/k+C5mt0+WXVFFT5X1nsLYwgAu43kye2KiLlg3\n",
       "MUwJuy9D958yOPXx+EdCIozKzC+1ka+BOl32mEogx1OFvxfMulGIoEfNRCxqI5IPLsd7CyvUueIY\n",
       "4ttzjJEum82rAryUo86rJ01PYT4etN16GW6pj/ZSY8yzehE1YKYD0Trtq3l8VCClshrR5n7E2IOA\n",
       "KcvFsa/kUCTqdCLH6jAqhNfUIYAnircRpIQC5QmOTpnyhELwtlnRNo6zB+7NCDbBrT4xhl03wjwt\n",
       "yATUPAtV7/8/xVRHud9mO2YnQumHhz1yYQKnSN33i+cMSmVZL2HR3GEesBKg/d+UjiTZIq4WmLkG\n",
       "fn8Ss2skx7so8wRWEb+OUw/sIBM9YAHznvlkwR5zhOBPUm9q9Y+M0WBrHoaEY05lR8gQBJ/hvwz+\n",
       "CP/zyZ4lsx1/zYoaWs8paFXvP6y733G3lEzzQd/PkCM92mlfJUQHb6yBCNd0QRmjHRRjqXE/Ryqj\n",
       "5Yf2QCuU+HO0ymYobEM+l8bVG6IMtrMabbB0KSBsF36MkI+rQJ+NSqGq8TGhtIzjB+pEUcjuCz7r\n",
       "DdYOA5ALfp8fCOefsfkNT11eQumEPrlZD6MBGSZt1er7jnogBxfxWYpoOINLorvPc5SWnlheryoN\n",
       "ORnGsZL/oPM5Dcdeey1lplkN/dFJG5irPqIWbpp8Kmztv/ZPBadD7NabHGkRU5qYRK+XmAxqnovZ\n",
       "fbV+IMKjyg41vMKnoqLrC5gTEW2CbMDq4C7XQTeNukluaBYQZpeMWlBHU6UI9lq9ZZsl7+yaDAC8\n",
       "JXRg3xYl3aFaWtoU5GvvQ4jS8mePDho9d9/YypBt2OjmD9kWJ435cbb+PRCdzoMsIVLF5NSPwtrS\n",
       "SPysg35pSAfvQ0FIUgm/5EjN/rboO9iqgKgfs0jNk93VmjIBMd64cILG4sEfevSrC2a+t6lgmDph\n",
       "9Lfxnj39WFaa4Imi3FkPFm1uvvipbzEHqZbUTO9bgBiN2Zwzq/2H7VU0QVgqy2IeyqHjGDBnRQL+\n",
       "LLUW/VrzAplc84/ZXmhGbO+5qDJbRLj2JANW1dDJGm48Ed2mTbFPEoF5oY1Ezogcv48cQzKDm9Fj\n",
       "hAxsGeHYCVtROJx0hEJASuouqPr++zwqE1+3mwrbv9lhhFT+d1qPg/FXrKOsQaTUhT+acMtP3LwQ\n",
       "T2ImSPfUub4fAG+nSf0lA3hu1dVBuv2NlzgVOrcwmR6F10lZHmA8HxA6DhfT3/jbfSqIkJqpG6Vn\n",
       "issmm+wUfd97HxV6LpiIny8u7efnlbL8CqyDgY6SLYPqdoxGESsgeBSAhglhpkkh9Z8E1sXLhHx5\n",
       "WiPLXTAAxP5U7wvDTa7jkiJuDyHvuSoSMHUn6FjuKwsm1fy040shMdT+IJMFvnEH5G6lnwA3Ps8v\n",
       "deYKUwGxVZO0g1+txkgf3XPm3xzCLtlMa9fuUkqMXt0U5pmD2j9ZNAWO8BreOPP8tzBPainA7eH2\n",
       "0zrGOLm/1Jn2wFpr/CoyvNoXe8mecep8icMfY/sU5q3QSC/PxzpyCqzkHHuLDhMMS25gznToQfVm\n",
       "sABH63hhrxGu6QF1MHobqXLK2LULlsUNUnDGjh/+gKc5+G/3gDxpT7eADqz7qPDih5d6cJellE/Q\n",
       "/T0I6x85mUVUhOFhLZ6ItrYsQnjrEy5AUJa1je8CVTgZKCQxjb7sxA32m2Of2+XZKhjS/DaZDMDj\n",
       "4shkxb/iGMPlApD63gsKycxjgvaI//uZN2BEgZtEeNxUY9Gu0VD63j21Qs5L9JEke8mJgOaqfxRr\n",
       "CfU+cJi9Wk8+nZOr4avsjojMxfC14sPf+TU+D/g2oIutIcrMem4Q5riCot8uHwThAAACMwGeF2pC\n",
       "vwMBRzpsCmR2lbw3ksyJUmxr6Uce60UAOJZ+7MGj/Yttaov0gL9NMo8QCdCUxZJnrCw+6P15hR0s\n",
       "MDR23oKCAZ4A++BkoLAMzyS9eSDOikOk4XQR5taYlxOt2Qh1H4qKGAbRihrH0jtQ/CBO6kbqwc+0\n",
       "fiJxgjQa4TVWf6Hls+AxF3TZ9fJrQFL5C4EkDcBfpcZgoEWpgxwzXNa9GAws2TiZskcJiBK1aMBp\n",
       "hQ0Uh7qv7Es/8GtFlm5khROIFAQ2I7WaZG7XS89b+Smci3DHl9vpuSmDr11tzMCX/+i+V9nq1qxH\n",
       "40Dy1zjsmYjwsFAwZh+JCl1qHowgg9j9TlbpDlutC9YD93YwVfLB4wk2wF3gJJWQCo2V3FovJWAD\n",
       "48YYoQwsgEHdzEus2BjLTEoN7Kwu1BlGci72VxAFYzAq/EnTQRbhdxmZvhHnIfjuB9L+sL5tZ6QY\n",
       "30SVQDa8d+oiJ/Hc+gwoCLijwAYIKFyQIu5Z1X6uFenkKa+R9/H6AxlSfCXowHZCvt57HVJnT7p/\n",
       "kPwuVsvbsFzjbiPMCtQr7+eB3ymFqo9itVzuwzkVnVRezbGqdCKjgkC9ftwvI8smS429lTpoQTnL\n",
       "OG5neQGJWkp/n5QL4iJ1/dmjZkznibU8NTCYFZr60Rl5QSMjqEiXVoQWw+E1v4SdSmq1/QKHG1QJ\n",
       "Zks4qVYv3I0TJRlsse5zQj9AtNrlA/rDxV8lRmSV0gvsOOAppeZLrbKerM5RAAABTkGaHEnhDyZT\n",
       "Ahv//qeEFZyNc5VBrzTQPKaTMVCGr0ALZ1cwsE28LEl2x+ay9cxagLs4/LmTlCaOZfCcJAnToS8Q\n",
       "uUw8lpo2//mUBN5W0lLKHU+83TUKu9RDcT0L2Rs3vUUUNu6JFapgAMvIEBpRn45Jnf8Z7GVbSyEE\n",
       "GFpVOqZQT5WQgsQeUJQBEwHAJOfrMjN0ZL3ZvzC8NC5+SK1a8mAEyqlRfgupoDoBp+X90/gnGa39\n",
       "6tkehtXD+j9MrJZ1jx6WB7YvBGjghwzi8rHJ3wDQkfKGBHA3kvNzPYI8rDEEVbSEzbSY3ft78WGg\n",
       "HxnBI0Iup6yi4823aJ81uoFXUU6wAcF9PnZ/Z0b7CL6sx2lGktMrSupEtz8IJsjHdi/krYQsqzr6\n",
       "Asip2vMFuDiy8Zr3IoSiN8C7gcr+l0OyzdgH7GMjyH9zrCtv0LfoCw0AAAKUQZ46RRE8L/8CVicA\n",
       "+WC4uBoJKyNOCrq3kgBM3W6AeQbGeLPnglFda3LxnWPO3sVp+k6eVlyh++ZU7CFcZg04pLDOE6U9\n",
       "BMS3qTC1RKs2LPk5PjNMSaXrAo8oo+4O2EscAW8pI8FW1Bb2cmgR+Ssw2Po0tuzOalYvwribbolQ\n",
       "Go+u2iyRaOvVF4rBTQmtIb3eBb0tqnecgzo0zwbVI+zGMkKFaLEud09E46UhLI0TYCUfioGjAujr\n",
       "2N/IHr7Ist7CkNvP+TRSLQSWsbTwSSrc1DiN3jtq0OOqSPoB1dc3X9ZDGYKWwVy1L//FNtZYCxFp\n",
       "19oOmsO5kinvqcZGliFx0tmO7kDFOVzWkyqOnYhtqqCB2YEs0UdeVQti5cpHwJHmtFEovJ38XdzN\n",
       "kgO97mvhy3/THVI6xKFBM/wpXg9rY9/yQ5ZnrolSZiXLh6nhswVy2je2IBsdZjfXgX8yJrjYN8uY\n",
       "SwYULzbiF8L/P85IAHkwHm0kq4P2aBPZ87Vs5v+oDg+CkfS7KwO+ATqbxvIaUCYX1gBMS53jyT1G\n",
       "hipJl8v8TCRMrbuTA5A1VPxzlBE7fDPCfNQbynRnjM64pc7K+Lcd1LRoabgfoUeOKAj4A4EhrvU/\n",
       "oRYX4bS7tQfsdTVjnCcghDrRC9H03NT3dCJN1pydp4KQprDjmFnHsDpln6uAb5run/gEnPavNp/h\n",
       "ZguhseyD/y5N76N2z/vUzyIhZ3T/zv9yKkhHcOofU9SXpGm0z6I94mHh3ai5Nn6xSRG5gbx3+tHu\n",
       "QC+DaggqBEgp9/PA4/ofxdX1olWFgT2MK33O8nffTJeEKCgF4WIuyb0BYyCG+uVI6x8K/oOleWcN\n",
       "2C1Hr0fS7gN69y4k3DVj5ObFL8kpAAAAfgGeWXRCvwMTgNqVExvMLFMFuMJCNjcvt7kyJBZE75I1\n",
       "HivgAzM2useDF1oJGuDHifCr5HxYAyw9ZW1tPGDSJfDKAU6v6goMdvSGvpPb6uDkB6R5iOBf0Kme\n",
       "su1ElGPXqj9QI8NE70TQDVBWmA2BABqXM5wrWJiZUW9BSExlwAAAA4YBnltqQr8AtOtfrABOFcOw\n",
       "TLZKttwx5Zt9kOv7H4l6Trp0HgyYgBp9rmFGDn79h52lvHaBF9U54tAqDZCoOuqGT8kgpVtT5RkL\n",
       "f+adykm7Uyb2rjD5xFX8aD8EMyA6U0e+w9wvvA8UQEGEqPnq6lIGGmmP45ijUj5/Xi6veGZldqg2\n",
       "JT7LWuk7d6yYZRuLxI5KcbcfhV0jll3WxKtqA/RCdMM+FbADxqh9REJDesC0SPpQ4sR6ZxmOLtzG\n",
       "sg26Ui53vwbwBsy2k60uHFJiOckPxeOadugJ76qZDvhYUv9tFv/zixEFKbIx8Qbf/XaSArM2Qqa5\n",
       "P9F7F/HkW+FaBvCMkeGpu6piDayYrYuM40g9fvse3o/IOGsr2n0pfX2cZhmGzJxY1KgZ4KG8UciK\n",
       "c6iOmGKmT/B5XsP9VwIJnHInyBavmYxMApkToIXf/Q7LCh2Bl3UjrIb8cNueMCUp9TDXn4qjnd82\n",
       "h81Hv0lp0H30BywonhGMcXlM/x/+vUNujrgt6NvvXtu+SoOBVEwu0dEbPzPZkMqhxdVtg+kErfvG\n",
       "kzARtyjuUrPZ4K0DoVqid4UM66Gj6dmYHYUiMFlq2fEAAv8NfCsXkXTXp9rsz+FBQEXENc0s45RQ\n",
       "aW6+vIAF4k+plL5wdsbpnnh+SPvM8BgN1c8oE5Me6M2IJ+HJgoDWzmW5Ru9tdpRwfbKFpaSY4Eh4\n",
       "Iu1Ayk8Wam8VrB/yT7ttQQf7jAfOT25ItmFJ0Uktvz0IKZJWrbEo9uyHuOAGARwEyqgwV+vWdK4+\n",
       "PiWGd3gDDcT1JfmtlKf8EgtfAujgNRVdUgBlFdDLzhj8YRUrsrkrRMGImBaKjFz40qkDA90xdTK/\n",
       "U/Id2ImUp2pZ0sWZKH4R2m01c1oJ3c6pBRFyRMC8zTU8ydKAIacSMlr1w518G9gJMQByBo6Zm6rB\n",
       "g1HJZX/OYIqT3gHwkw/eYdmbpdMVHDq2/zeKMupPTDJUxlmJowkNr4DR09F+y/bZbZkd7kJE1Cm1\n",
       "xM/I5P25eFQkknVmUhrvfZ6JgQkoykZYpbQGOHPlFgRsAy15FluAXKAaIBfY1296zBsfef1ECuPv\n",
       "tlp3u3y8z5jKAYgRFHup1WdbaII5nrpE27oRZRSogS4065WfQtQ7rCaT2sne6EJR+0+AwKzVlIUW\n",
       "rP1jI/EU84UtVO0FaSEmtJEfJ7Z68iPnL44ckhLaHwAACodBml9JqEFomUwIb//+p4QBgrnf7iHh\n",
       "vAAVHR20fNMcEGsEQkoa/qhe374zjwn+Eh6CMEBqo3gqfeo8cuDC90H9X6rLAvq1qVTmJGtiPT3T\n",
       "vuQbzlzopbdL6GGdXajG7GOFTG8By1qzY7AmV2TgD1D6HRTGQzMT/8vYMh6YTT951UilQh0LSf4K\n",
       "A9OBPmx2V1jZdr3WLT9OWh8aqqHOefrDwAWEYpzASZ+zoovaauTOnbOg71ey12hPedk1rCBmo7wt\n",
       "DyA6JmmjKmSjGr2PeoAUzhCMYqwZEx7i6UcdkoqmPywtneGtK7dEYv34crkfaUmUo6Ef/kkS2qHa\n",
       "iYDURbEzqnHN4WWaPmACcNT6ZsnXl9cSk/CLk6OijiWXBOyjwGp69y2bGhwVgFmXXWnwgdJ2u3Vo\n",
       "kJ+Tq+MzrFy18SO8yaXJcuVPIYG03pllk5YnVSSHkij7/dZ8JPcT2wP2MljVTqgtAZQUMkAJuKN9\n",
       "gz1G69P2EJY+E0swSYZP8U1oJmXg6QUiGP2ShAiDEZiRiwCk6IAKvQRrCcj4i6TIFijM5nMr8J7a\n",
       "H4Zdjj7j4IES8qq3wXHcJVPcGfsfF56dTX4b+nIafrtV8biozl7aTjQJuvuuoWr9beuIRooKtQqR\n",
       "cwCR5aNNQbtCn0jYKETq7nQsGgYRKrNSvSq3BVRkiuSkAK9txQ5h8irHEucMkiQnXcKxQ2W7+/RX\n",
       "6dHkXlFUsW7MN2FmI8FcTDFfzAb5WOHdFh4rZ7doEn1L8O50yZiAblpVQtTZxRYbMVVVS2EwDgMW\n",
       "I1vEl0N6Wg+UDH+KKVrj9eWHjgFY/01VmasS4sBB9rwQNc35iYXTc2fThyr2X+T48KMrKS3MHpgy\n",
       "Qdv1qAKo0rNH1dkJsxSt8C0x14TQqr01/p+/e0pkPMNTzEABiYX0exRy/aqxWCaRYgGVWgVI2VZq\n",
       "YxygXPS9cssJJoUNYQAbKho+5WeNwrVgC/pdnQMg4Nmm7ey1Ph41+qAm/sxSZODe6QCJ78QPpzRu\n",
       "zq1vS5yzNl/GJS3BT32jBxl4+/J6/bBiLF0vsy/oNglft25qeaLHMAdK4Tk5zRm8jsg2x4WBP9TU\n",
       "30byuQs62aqEtXCXRlorFcYpTpOyt7gX0xU3fGLDzBPp3Auxa8tHdDg0GMfAGNAuvHwIcjUqUsaL\n",
       "xyQBLzmavMBYhSqmtIjfjZJkJJ5XIotq5xOsOYi4ournE26LEtb8WdODVdBuwMMFBjPnbBnKuNv7\n",
       "W95IMZ/fWuHb/pLvmdjIcQShwTe3mCqElAK0ugPEKqnhG/B3HwQlyizF0AL8BlvNOK4AHPIjHwB/\n",
       "U5ORacTaxdn+2GvDwYzYERYDevYKKk3JD5CVqHuFt13fA8O083FunRu6VDndZJE9ZhG0wix/ukKf\n",
       "IzDHUtxyHCD1SWZy9OfuwxK4VgPQ5OukonSy+pQrLcJaz/QCwCkEBpSaNTzU5AJQJgn1NTMopMNK\n",
       "zJ1IBifJOBdPsYdDWk7fT/DRw2lf+T2vnUc6TjT9enDknG3YPWvpZaz+mJFMVAyDh4sLy5oIYics\n",
       "CSihdAnkfxWNgUbzw8NW7PoVGU1BkM6+3DsxthjyUMRTiQ4i4Glsm5tA+DhjeRV8fIvb7AhBjnRk\n",
       "dh6rckzBMS+dYVWUTrHtu9tNooX1p7x/Uvr+RkPYfGMv8Q7+m4AKtdajNZLe46SwSleU67AgjJJ+\n",
       "Nzewl0014DvCaRuX7KVULkbVetnm+xtbCrOoc/9AZxkczqEQfnt738vulPag0fZgTUSoioUtiZ/2\n",
       "zAYXjeK6WBTlrAiq3Bx4rb7E/i93g4oXKPhMcXB3lEbu3ZH6KNUDq/Ed/f0BRYNW59sZmFzcmWFP\n",
       "DnaQynjCo/gLq0HOndHlQYB11u5tzCHXGBXfJ5BtppXi0qr9tsgDl3m8VilPrfRzUEjMmydOeE1v\n",
       "lealn0Tql7onvirlFquNXGOIGiGCHoA64MvxHKQ+wCJFASi2CB1f9FfryA+/xbyKJdxigF0D6nPW\n",
       "iHb2cjZqEs4oesr/7GfxKEwlhW++nRinI2YhQ8rWDnUxry7Ht7kS3NOFPsszLiGSN/1uZFSca8Eg\n",
       "/cAFF/dlMEYD0mxowM719iXl7ixtvWt476ScVKvoMsi4TP0lB65BB36r9YBS5elqt6dC6cU/Ce0C\n",
       "S40LIhMcUuCx/oaQBOSIw4GlSKNtvf0rJ5pOFaQ+f24R4zSt3+4ioB9xFHRWdp5HHCi3iJ5NscNd\n",
       "lMz3+wsYY+jp5B+MiAXwJqUDK1Q8xm2ObjEkCYbxyyHpvkdtt2XgiIVUeEK0hoK3AmOd39bPsX6J\n",
       "fsoBpBSLKFqg1bRzD8PWm5chMhXmfoKn/AmKCvKR3c+jT195gN0CGMuarwlrwbsXBugKOf8A2PvW\n",
       "UA36+DvM8kTOLkKcIvvPGBj3u7+X0fygFdKKpana/IUvpOb3L6O7+SpVtJjbNvCKZzKogsjHfBgj\n",
       "U3qfcL2NKUN33kAeRPpTsf+0InhnJhLY6v/XZIYd7CzerrzNeOKO183PacgADXtqIvp30D69cCdY\n",
       "kqkMAf/WxmTNetZlN1MrN7DkqX2hnVZuQ7RM/N65xTMcoEtOBy6QB6hA82QFMvT6/y71Pf45IOZN\n",
       "90os4p+zvyLyjb1ngo7Mqs09fchBkitr94V5oIcmLom6m1rCUKt3VZAHESIl51T7jLhYba+QgG28\n",
       "+W2ZjDFNh/4I4ESdJfLLHi0YRahfztS5nfg+rUBiQnFGZkgpOrDEq3F93AWFnTbBqH1Z6PeA3v+X\n",
       "pCy0xswoVBQjt8uRf+L8qsafhvQBpWIwBl32YQsEodeyYzXwrVC48qP01iTuqerdMRATmLNBUFQJ\n",
       "AwUasChUPxAg4+Vj1ycHc7pvffaiwuri2eEmmy3A/1mykDxYnNFpUgTvcCGnA1GvZBi/ZotXakft\n",
       "XwhShe6ZGTX88qFMaiTsUI+E00xIqqn+O0d5cvsarKNuQBmLOAwYBKIHYEF7x++AEcnercPA4MVO\n",
       "ykI4fuO8M7O4GmwXb3+HJAxtpALWBCNSrLpR1Kypki9vEkGGE27NqrILSIWEEmGnKs4ZOZhpD6Wa\n",
       "nfP6/oCBcbgNdy86jEmCVgCBRJDOrwfPhVhixS6lf+tjo+aCBvaChQhNFj5FW2IKGnrCq1K+rfbl\n",
       "Jd5w8Ez3ldtn1/bqDuk1CKlFICSu3dzEDC7hS35muy2BSHqBgR4jx5i+Enaulw7Recr3ePRFva2H\n",
       "S0w1Z6qYDWn1mFXd2dcbBm27ad8ZQ5CJ2sRs4Z2/jK/O767KrXQ9X9Vx+O+41TBtrGGmPjHx3lXy\n",
       "GuPRrUWaZZzfnIbFro+/1g+wTIlYPEoGUJVOIAxK5WOwCD8H5xLDNtJjB8gx3TY/O+DJJKeUiwjp\n",
       "xj7aYL2HuuhpJ92H/p9I9svVyHncYJ8TEvi4dpINrbDkmqLgjg2Mz+vKQhpNPKMWxApVT8OXtanw\n",
       "GaxQPNFUVGqtNbWjB9Qz5y7HnCIReg82pmZb+UqfddzHMgdz10k5zU7gy9/zDD3tFfmgdoIPn2xa\n",
       "Qpj/Dmv8yEiWFySq1Kn3ObtkJvS0z+zoph1HymsJsiorahpAz0Qhra1Jlgle670GWdovAAAEKEGe\n",
       "fUURLCv/AS7XcqPgxQh1+Pmw5wIQAz487rOy7SELLZ5HpX1rJ1jnZq1XlP0Xywezbf8Htju9EQFL\n",
       "z3RBPlxJV9/G+1Bkvuro0v8tPmUPpJcYmoiUODxWU7mZ+2h7XfA4/Urh9X3wbthGKqzNlRornujq\n",
       "/7IRmKpFSLVUHZykIb68iCQKgj4/jVwviAC4uV81Lf7oBSRx79MLy8JwSAJlXplzKPtwKxb/TKiW\n",
       "+0MrYpXB23V6EJ+KgF/CiiySy1qZ5xX+ihdvXISf3qNvRB4oHotfkSYUlIKpofwnda7+NOek4dKS\n",
       "IotWWXsqiq+yfXD3N1W6tlyNsYunUebrs5c4b4xYFziNd1a4n+2M9LLQesJncTFSbMSeRr/Vs/lS\n",
       "6ySjlGE4SdaiOLiCsKW7UpzoxJhKiK2bLvlL+q5y9CoDJyJ4ymTQ6lyiW7hJZNWMPFvJ6jSLiz24\n",
       "NlznWIO3ig5LNc1NErWoVfJhY9T6dH7JtMAQpCuJ+cZE8Rokj3aH8C2azO+j8hiCzYcxqpMcY7ON\n",
       "ZacvhFqmzOnw2kug/TBuWdbHVKwYKG4tw+jKDiR2RZSjs8XlVVm9Ct6+6ju9DiugVQ5p0YkvUEgF\n",
       "zjc/v4HI6lM3/ymLtaV7j/jy+8Ylu1QxCFWPTOBOmpvOBbmpgISaabNTcK0c9omEUyj091Y9JqpF\n",
       "/GTcr21otTQCtKv+4flwUZDrjZJghGxs4E160pf4SLlBHGVU5A83B0Qhp+mRNRbwwv0+r3gzIIJD\n",
       "yy4wNu6A7yYJ9WaZtQ6wxzIVYq5ae7hZZn0GkBw6pUAvcEeEBLyjnD8hhLivWGconAANf2CWx/dF\n",
       "TSakzB9ayNceh6rXDP5uq0h2BMIluMPxlARfjcRXuRmnY6G6/zRUxO7UL7uDVCZpmDdmoKq7UEsE\n",
       "MsqQ8YCTvRpq/0SPHgU4Pw+OwQBkeTZib4ZzWx6FNet1AdE0FU3GGrY3Q7M7OezBdoZLD80bhBo7\n",
       "6WpW25MXaQWuax6OuO+LfM5CnYt6uQuKZ2pD0bhYfki5ciYcSPhemRmS1gol0GeBqf7ByxuKo6/E\n",
       "92SYrM7S6RfV9YHiO3maQEaAwgGbmXAMWngQp4NuJAYglBQKnxW1aeDWlpXMb8RNlhW4zhxhDCQG\n",
       "b2CnBwivGXr2az+/ogbqbHMFNjRH/JrS4RjV/rVpLZ/6YyrkEeL6b6XzsCzN+AAEvc+W8YG99l4h\n",
       "IVR455FspZpiSBsYct6qe7+xl5/ljPEfpb2mwPKSFlIH5C+opUYNgant2AO7KeUwhLiM2VF3sVMw\n",
       "vFyBPk1PW/CPBtmM6NCcldl2uP7HlG3+FbGgxxk4yTFbT8eHyaFmKhhQieEA9e45KZ8ZvG+2+1rz\n",
       "aVB5zlVJPCEzsyYO1KFVfVLR3P6CPTWtmN+18vvtSwx5rcUQAAADXgGenmpCvwEthsWyiOVyA1Xs\n",
       "EnepBIMe9mApMwUR9VK4atL9+8GrSEuIoASW3FSi9i5uaORUTbO0fawBZ0X9io0HaAkTHQaw6n1V\n",
       "7jPf+oU+GbFF7FOcWVDvdaSMshexvUbxneEnyRS66BXUsPsIQS62Pgu06QVS2zQu7sLGSRVp6YVe\n",
       "jphPcK10UTcp7+bZp0CU0RKMOYbKq5uESKokOYYFwLWbzQKcSe2xFPcz/e0esMuLwiMTsp5NE8Dt\n",
       "GQkaiG0KIHsmlAH6nmcQNWc/ROZmb4cwECcsv7p9gXp+/kXjAVe6foya+3Zai0TAX8pM2vEPQmxQ\n",
       "4RQb7EttbwFcGtzTYc7C3WjFRQd4P5HoCsigoVyLDsHSFkMUneLBka6VAzgnqx2Djh3fL9A/wuXC\n",
       "4L0ibr9XvPSXxGlDXNJ002C24LWqcsCs+pgWWLWMidSGW/T30NqlnyCHdEY58Bg9FE8rMDriS3Qh\n",
       "fGXiECTLtrEZJ5dgio+NxoD9myn6TVjb9kz7h9NiU+jFuZRFgLNkzZCJZqU78wJ8FSWRMTwJv5Wf\n",
       "d4IXeSSgACszmkJeMaw5PsfM3tbKxAjwGxl5jpTeub0ZmCVWpaNcf46PofgvONFk2k0CJwDHbFXX\n",
       "djsmLF4HqyXK+kMvSBo1Y8NNQ+Cv2fBwpKLJdjtxHm66JoLbROxpaA3tb7UC129pcmWJzfP3QU9i\n",
       "0l4Ip7aERK6tNMgRq+Jq5EsIwyJ89Rqo6xcTLFUdSCYS0PPxYH4lC6Ghmcegu4MDgKIfDbUwYE3w\n",
       "UXiMnmbIikeb/zEmOhHYr5evOuRcFbZ8PG8Nab5XY5N0Bhxm/0k6bzYP7GwcWu0GsiSMo4+zD9Km\n",
       "rsqU45tXKSuoxs+MsIPtZ9VuyMNsfhLN7e5JOSPpBfujpkdkSN3DZFB1VaZeYd1eQluTHYo73PHG\n",
       "j1SZsWy63Ar6VIn6CpfkmyLCu6/4K2FGFY++JGtGlrsYAOoTVBBJChgybCHzUZvAapM68f+QeUHn\n",
       "Aj06c+P2rLAOjiO9cCvKTZ8R83DmNlcyUsYh8T8k+Dq2D2x882NeDMAZMKwoC3QERGHHKgIgn4SY\n",
       "qaDpMlaJuuPYxaEQv5v1zy6X7IrrtZ9zxf22UdXK619I0aBTyvZiXcTibv48MIAAAAmLQZqDSahB\n",
       "bJlMCG///qeEAX+2b0xh9DJQzACW8yyHgBb1wRnJqkVO2LDcn1q3eOVAhFq8xRBvoZU81/XBHV0+\n",
       "zSeYtZszjO85xSTshN9GmZNHc2IKKHZ1NR5mZTI5sAI1WBmeZf4NBE9lr86Rg10L5ijAo649oKsu\n",
       "Ky63FpwJyDmDY1kvB3MZJ8qRd+ydowJPfrxTPvy+eJrbsrParSsO+qpewsp99SbWCPOG+f5TqtAd\n",
       "vkydAQ5m6r2z8/y7ursmCSa/Tpw3bDRyg7g2ppw4800pt23QTRv90YTXRnB2nKzWt0JGoAD3Diog\n",
       "K/7snSaRFu3rEMRLWmalGW+t2VYRrYFSnsbaqPnKQxTZnbvSoZgycQdLR4aPyou2n7jfeRVKxn9E\n",
       "pUnc7graxdqDajg8CmOpr8dhRzEBgKpwVHyJ4tux6OLbwDXVJ68P3DuhUJrTpdH4avKGA/GoPU6i\n",
       "ZcO9iMY0oXYwMwM47Stkpqk//pbqDEw6Kg+SC9R0wHHY4KZyq2K/L3m7GK0zgkC21n7Cm/tWhYpO\n",
       "wKVHx3404STwaAdhSlOETr2C/3fr2PmJSu6iWoBU2HvtG8wFjhvizpy59tpzEo/+nEG1P+jeDrll\n",
       "FD1QsReN8tZGCkak23dqoNhUdZ7N4Yfy863FFI7taXP+bqcRJdDdhRHGcVZxiqgW9PEICyE2sY9m\n",
       "DQJ8ngPID8ACAHjlxauURcMEdj2ClW/FSe/A0LgQKl5XX/eMG5Jivz9o+JL+dubqDvcFbqLCI/fm\n",
       "HEQsgD0w/L6KhgC6Kcknkw827o7Z2cTIOwiiDV9Cyv0xjmNyvjDPF1qP3mLfY4AR0CUKwBFxUxPa\n",
       "LictAZc64P1qYK9vKg3VwRBjEIHAc8H7VzGTe8TjoStW84QSOyB8vNAcxAn+Tq5Yyjwd7ixsfpeR\n",
       "VisOTMKUkLyXsx2QOPayBNXZDiWMfkm7fx7t+8ub6jXkJK+qIxWRhqbNJgvMwqYcokWSmVgSDba4\n",
       "BqEKDkv1IYTdLTx1/1Z43hX2RppKZlhbFlN9kd4qRAPIXRJaaO0tSDVK1QI47J9wQDTQAKy26c0W\n",
       "EUDkPJ14AzlE+SN6au/pH86JYnJN4XLbU3N0eeh54cxsY8sYjo4x5H1ZtpJOixtsIwj7XkR3FiNZ\n",
       "gEza52e9CfhkvSSQ4wPcUPk3Nz8RCWpfm0rk7oJ9u1Im9QZavU46ln8T5QAziHCEuDXOR65ep/l7\n",
       "KRVkeJq3eoXgdmGmQ0GSBMr7Q9yB2b7+2Raps1XjG/8V52REqHYCdFnfX+LuKH2RUUHiE1y0J39I\n",
       "PI07n9YXNJUnlttvcAvikcFrpdboSmCYJpwYfCw7W+LxXq6VGQkKxcbXYijlI+P7GFDRW7Znc+Eu\n",
       "vDt3QkVZUWBLMfwqmapBx1aRnwNEZbcZ82Vv85Ij2upyv9kU7yMhdd8AIbvByShsjDHWM/GhNHbl\n",
       "LRbS+oyS1NgG/+lDsFyRLYZbWOuq7r8jgNCcbfDHqFRQofeqb7mfrSDtNdu+TtVB/i/wPjEfEshG\n",
       "Cpi5pyNp46QeDlQyRsJwb/rp949uWhBVQc0iD/lNvSFe3rliXnCM5V1pX0chYaHjLO2qrezUjNTw\n",
       "BKhd9kDhIqEp39o8MmHttXY2zqfgI/8z5Ekm3cPXjqVsUBEsau+/mYYM2PaGhWuP9Y7oOfWr9dNF\n",
       "B8unAxfDUm73XgtByV+/+oI7e9/IraDdGY7KxK12hFYDQXLP0PafE+rOgHd8NR72KOmDDUKnmvTu\n",
       "GvjyjlFgu5RFz1HvguJFcGcl403Anqf8dJzluoRvpd754OCPOq5MA+pFmHpTqmSLnZDdCgvf/fbY\n",
       "qSitmV8P1locmHI/8MrrCRHyZHtkSBjoC4WUD005U/P84dTTMWwnf86G2xXWaEQCVdIbVt+5p5Oq\n",
       "HGjd6NrsTKLinmdrViY79tgPGi9ardJ2cpz8/O+lobAR+5SHuCvKDYA3P8qE3CZwStfBjxknEbXC\n",
       "ys4Wx7Ln93KD5hn6RAjky0pygKzwpAJ40bsseE+/LgFidR25muvklyGCkdQ6nVGr7MTreKkBp/+s\n",
       "nDHiR+bywZbvVYH8FF6Zp5jeACwpJfEHNQIcNntFnpILPgn5zyCkijH8MaAKxwA5W4gjYa441zpi\n",
       "vPmf2LRFN5UpHFOv5kLNafEiRNWer8OShGI3x5hRLf72OKcGDwZdE+rX7O1GTDmlu2p8FAIzsFZR\n",
       "ClAxxOeUoQwcoe8+vrSTEiySMvhMQYumcPxaCqkv2bXg8FUY9YORF/6/334/G2tqV2yHTdIcWxnB\n",
       "PZwBGBlhaaOA5TBpOF64XEcXSzS1nSd6MjwNPjMuJC1LNoY0tDF3WK8T7R27dB4Wv45KHTlvjarV\n",
       "MuIRwzDsiFaoUJilwXFfNeus3+Xyu6mIFcoEmdzEgTdEuV/lr0pYkaMaPWp71UUCDdVrRmcDPYNM\n",
       "MN6ySs0KKUVBDb12frhn7L10lhtLAbGoQlJrs5zGlfo+K6/bZsp98ME648xrtX6qB5VZhK8P2pBl\n",
       "qdKduFjj8bHX1BSbrOQlKgo5FunvOoeC7bVgGQSg5AEoZl5k6hCHvohSYoFB5p83bSXucsQwffBv\n",
       "Sk1MQk4ZsAxYzU//hIGI/9twciB608S9vDFzrF2CKoTQoY+fR4lekyTOnS/STK/zyZYYjaQ2mr9q\n",
       "cX9JutZVBRfXVHjFUPb0fp2PdfeMoqLjYeyyYT0PyErbMLxwr3iQKbz6IF0TskWXdo8kGQEu/yKs\n",
       "/ivAIznfIP59Fdai19aRla/kOEnl1RLdqbqZ6yGW2OvO3ixyuNto2QKDMhUXqm6bnmph9TZyK1jh\n",
       "va+rJkWvdGWrlm2KkXaq7ytngFV7FSdFyw7q4ccBSXRVfimcWbvOPOn61bUqqLGrlwBYbHs2GZ6x\n",
       "1mm795wnee7j6ACMAjSXndSN7bwCSimBbqPPfp7+hRW/lXISpFLzRCWNNMA7ng66PLhiSJ2quuZh\n",
       "gBBcNEc7nsUEaIYcvXkqVaNu0UFGtffV3EbVzmQKePAlD2ACG2XsXGMrUr6Y6AJw8Z7WsDEUzTug\n",
       "wqpv+99dmwwOxZWWQ618uf4Xtaqbwhm9BSmqe6AmuAi26WELhZphG/84O/WEJHWF3f/6EMOVmSus\n",
       "DesID9RcOcCtjHNXbdpQdyHUgd4vs87uoaU1gV8p0AvfoR4O9efSAyM1FRKTcjeZ+gsA11JZBd2y\n",
       "jWqa6zYzztzqsQFS7d9mDu+jPSRcEHNX+nBrGxiMU16xBwW//DTpOErfiQAABUBBnqFFFSwv/wDc\n",
       "hf6+Kgk4mVYUR3YyiojvnzoAbiywxnjFSjU2zV0XCo6CVGOR3sMHEzs3IIS1H5vgBYAKd1Ryyxst\n",
       "CqeggFIAf/+ONqt7P76FL7B73ZwMAR8NsUGy6JSW0gbTJ9MlFsyTuiys1/EEXTtdPh2OeZwsAQDq\n",
       "D9tf2j6FLWyQyVxf83Ea2OJwoqfocFLQenjvi8jrJUTxF678rRgUg8wn1cFRlzDFJGQVNNq1q3md\n",
       "RyZEpY3FVgHybeyfphhv4A24u51C84kwoAy39S4aeFNCG87jXwlPtyfx8MsKKyE43r+fuRqx90EC\n",
       "Tk2I6yGtcYBMYEPSsIaQ7r8lmyQ8rFdCCV6suojfbdtOybOV8xDdWo12hZUI9zbfDhfMAhoRn4dS\n",
       "B4jNbzSqOxErlTI9XRSuiUuHt4UPlkoaEByBDLZyDRH9w61sw5RuvceyhNhcXmhgkI/tVrTeKIUs\n",
       "kHI6eeq8Kdv4QcnEEdKw7LTPgmsSrCI7Gfb+WUFmN+WIIldLvPwwQe+SSeYvAdxgOVoPlkTSCwau\n",
       "NrKgpRYiIG28aGGKBvJK4RJFZuwvLWGryjgp0nVq8ujv7bbPNrT/2AP3FSRSkZiALCDJiY5mt6Ul\n",
       "wBFUadhsJ8fXBKeYSJE1C/rZBC84nQc3aEn4BPfcvCbOflCJt4SfTrtgZRhl7D/2HfSG7AGJzbTz\n",
       "pWQbSRKJ2rpy512FcKwQUIJTMphXfmQnF33Le5Vz6y8oeKJt1vcwnjqd0SWj61vTUKMqS/cixyU4\n",
       "FCPz7LkkGZMVPF9MlbCITemRrcUeQYsI6xCFwFyuYcqLNpDRR6l/YYtUko3AvRh5IVUnFt4Q34FI\n",
       "3GpzV+n/7N9F0phPSZGnDpNru4kRuEybgb4VwFhq7nrrmKvWTiQTkYCFjKWXn07bPFWkB+9OfIBc\n",
       "bvJNJtWal2Gl6/6llIEpPP/44EASD0iIhpxtnfNs8GbUlH/jKNRFtWGVrmz4PsfU68A7H3D2qWpH\n",
       "adGPs+TGQdfcKMvmglADiChuhdOG7zM6YS4nqcgKZ4fRXQg+xThmnkhbkx9sN6hN+7eyVfmWVabs\n",
       "NP1hkQTsemo02Ky6f7TqJpO0os9eMxYSTKb//BUdng82zGgE/P1koKKyGSdqx3reCAB1T7Ew5o+o\n",
       "wIsZgMn3UOI+e7k6zI21MbeTOhwHxVBjGItcK4D77lcR7LcHH1pArNbSO1VbXkho6y/IQ8JqzQIS\n",
       "rQzXanU+IVwCki2Y0D0oO7MV/kAgjuohcxGc+9uZ7KfDkneSUsoqF3CtgDY6BxiPKDHMHkBcQyLy\n",
       "EaEeWN/FM7R+tCQuOqqZZweTyHPHrGXBI5BtYn7VKauSxpLIf6G94tgpqbNmm/Obb6g/sQ6j4y4K\n",
       "zUtm9yxZ5zZoNQFdxcop+WA1SyrHdWqSiSItkGl3QmRDoHvWqn65a3Nxdthlek6/QKHDovxm+we+\n",
       "I5N3hMZbur/B/o7vSqjvCUGrdxPTbrBYQD+2ii3GYsXEBFt42z5GTZCOfZzc8eJEev8CwEDg6HZ9\n",
       "npNxWzMCxpsjVN3LHFchLyxJTkfdwoLJlcvdB9MYI4N38KM6HZT1MHbK9nUu8RMbZvgnV8ZWSyN9\n",
       "WMUeZVeDVEw2j8O/YCGBz9TTC9EyNK1ECUSTGlqWWbbyajhKvIEYp04w6q6ud0sUKJWnzGfHaiyq\n",
       "V69RLxp+KB1iwmmWQUCy9Y9Qm0um0xufr73PsZ7l2SJTZpjkQjOakKx8Y168XIYgHX558ucaUQ2/\n",
       "9ibj7LIXY/7bR5nh7eMP0iBNKcXKHVAAAAM4AZ7AdEK/AS54QIATSYvMW21ErTMlFd10qJCZs1LH\n",
       "f/v/BXuNYyb0JTuKg99ydBRNpggJNReckCCsBC/QbpxAs/2VXSynGRKF4euwPkfqm7WwFyzznAJ8\n",
       "/f2dW8bLxXNG4z6O/hWzwK+nZVnT4n17Y9cM7n6rJbN6xsbgdG/8qMZNICHQIy1hsJxf8LHlP5RY\n",
       "hdyLGIUemfuOrv2DQLYI7BXc+IlTGSoi32RgYrulsl9ocl9Vi2eZbcwzzMXZNbqewHCQWhb26pkp\n",
       "vkfhfYXwkvHZB9QR6ti2xgjRR0WNVOzmjLtMVBiRfHX65u6mflpEOSsc6yMX5Bt2vD7V3ielv7tz\n",
       "iSSYqslHsIIk4LmsBH3GMPmS5VyQV+TSK55vAC6ippifQo+AXBYGL6O77NOFuqVWdNbYgnrL7IZK\n",
       "cVpwc7o3cRekI1bk1Ph7qAXBLrQtBtCItsJw+qJXPyDvXwDvpsEsWJgtRc0jq5gkATnqyPJR1ffz\n",
       "TRcd44mgvKQLUIVGvjhkrjXqzrKzTaWCv+lIPUNCM52q6wsIzs5eJ//xwGepzYVsPsegue2J7nMD\n",
       "DzcTyaJhRmRLoQvhhgZnxF1UiuFgSowaGMQBAOBbGJn9veChsniSVkD87Y3UUPKP2F9SJKKmhpEu\n",
       "3/ctQ8WaiPhKNDOkAKUAWgg+UC12QVEwQH2zFhUIsaJ8Wtj3UOO1HUOjWZ05wwZv3ph5LGm5MkCv\n",
       "EJYhedfCsFzDVIwnRMhAvD3jIGlWBSk2xI62NFukl3q8eeRHx+gq5U2mmJCPcqwLh9KOmBW4jgFs\n",
       "Mfbc2zsPR9NJK2DUwSabzLroJ88LSRdKN9RXRWA2CIaUORDPA0k/7y9ZRW8BM2muCOuOvvYkGHY8\n",
       "qBnm+JdS+j/TEpJ9hSd1e5q/iI4Q52e66yDcycvNXoewZQ7725clwOCh7XgCswRazfmDVBNJKIh+\n",
       "xdShVOV8Zx48hAWC/Z6cPLK6WweUWmWbZi0vusFQwpOz59VIrr7t32QQ93d6mu8KCjFucZzE8N5O\n",
       "bcbP7mT0aZacA2o48ClfomPyZPn6n5OqFP7mQZfNABq0UeKvkr0hceIhSq5ui+24nSAiz9EAAAOK\n",
       "AZ7CakK/ALEIq0P5GOg0AKx5VR2Ho5ffOm2Sfy/scGS7eDi53NsQCyJozAqaByfJcFNZUuZhClWI\n",
       "oESVxWXSatdXrdqVzjg1HtkME8II39TtmWWtOFAj8u8DSz597YUi5xkWlvFZMaPdRs3Hcm879LY1\n",
       "6rnTAtAkxXHSkGjuEUBIwJ8Huz8bTnSrRlZ4VkfHJvtMkp+IArgJJoXeXWVkiHHZ/xJo56KQHmU6\n",
       "XKKK/2xrrTcCHFQcylntFsMZ4s7SuC4H529wRf1B9bj7K8EyYk3/AJtpjEH+G/nwTxSrxuCIWrNH\n",
       "41EsBgk4gowCkoKxfM3kNMiwafCHdnr+0OVrqn5cJZdjpHo8WAt6pCofSz4Eib/kMroBCobM7AVK\n",
       "qH1rZX+hM/2ewOGT4fMib/GjkzQE8UuWlQx1GkCE06I7wxWwbc5JtAghP9KCci7iFFLA8Cch8lwY\n",
       "CKy0QrFNArCAZoBJXlgmdjRhA7xstZywzI+Oe+H3P3eZ47NvOSeulNNAfQ+1oa5VjME2lkLwq/As\n",
       "ozJ877zcK02dt03VjFicGbQPXLsA57XogOWwBAL9Uov2Mlt7am36cWgOpHpwktxmjuCDieSawsTj\n",
       "E2h1AaQgPk9Jt8wgyi1n3ATDYn3DLgZ9h3jEDHIFoJxBd4w03osiGEs4uu14PTn4D5qbLCIW1yiT\n",
       "zNAml5ka7nELm3Ea8KAphtSAcjcATQc5HSPwFzs58XemWTDKjbQkZA5kG2ZlRXof+2jWHiXYYFOq\n",
       "kD5wJimmAdK0tUVsJmXQu/Y6LaboNfTBp/17LGtJqR4vO2x7z5+EaXTrjWdYtUUiM6ck5m+N7PWX\n",
       "F5YBMk7Vw1w8Q5i9kty+thURVVjgU+Uw70eSOgO/+W9QmRhjx2MpUdx/0lJTqUm32+gTyeJWniFu\n",
       "zioSpXs3PgmGdzXCLmlswFv4Ylax02CqoYtZA3iGJ2JQha/Cyga5ngtWyVDri6oUE0MabZ+wxDna\n",
       "TUeRG5xQqpzPMYVgI7aqgVm5sk4W/vPMWCIPhLZyfg9D/wvTijlbIa+7XK+7EExQlopDLDzXv4uM\n",
       "bzk1WXwyCtcHisfM4vwxgeYHVJQZgzoCt/7emfvNqO25W27602suTPXQSImdr3F4hRZQyOFaxdhu\n",
       "dv71vtZatQ+Z/5luDTyZ4w/12hb6u0k9XF797nnkHJ+98QXILolj3RodqonSUMdZ9cF4AAAGM0Ga\n",
       "xUmoQWyZTBRMN//+p4QB6/PKAAb7bG9Qv21iDLqBEGVeTqtD9DNjLR0zTQu3YrTlJVkpFE+bMu0M\n",
       "F43YTdyDiBBOA54Svf4ukLProOeX2okz4JEsRCVFWKFIk1pnCJhUpd/ewUX3XviiEripRA/TZGh9\n",
       "tZ+wAA2b8OfSMAw9zjR4WuprFuXMzbuby/37J1sqSkmeUDHaH/A5d2sKSoqRyDg5hjZn3WfkFHXw\n",
       "42YpOcLPn9083XjU+TuHu7VkeAGRt/gTyZDLvvmw7c964Avd/qBElaztSVNw8jOT9uD4S6zP7/25\n",
       "jRMISa8DQADtKQw9ZgE2GfvU3ANfgJcXK7GmWbZA28/G4OlV1WQ7LnyIw6JtsB9lmoK8/a//qYQq\n",
       "VbyIPSMWhuE9r0ievloac1JHwkTVLRqGJ3vN9YJCmTjkAOYmcnZkSpbToCcOcgNQoyyhnHUPQGY+\n",
       "Jfi1v2fmY02QGrtHHjjHdxnfwdBABIRVM//j7zsxD/MXQ1syJf9tNeKwbMpmj66BW/lqn0oJR7nY\n",
       "EQ9qjdofmbDodLoXarUQrrQkM4TBIYv2MJwTI7Vs6xrb6dwesYxQXWZ6zqQMi8QqlNhKDiRvoCzu\n",
       "g4BtHdk4n/Oa6oqEqKJ6bp7zTEZmn9u3PlpOBh8iLoODG8sqm12026U1CprljPc6MlJyquYq5m89\n",
       "+UZ8YmYIqJplgq0hZ0w+JNh4RFl5Cs4lh3k0ksgl6ahmkZrYb7xdD8n2zmBv7GyQS7+SNYGxCg93\n",
       "w9Ty2h8AoeL05D3cg3aSUWi9gx1gQ94qMx9L4l961P1F7E5sBcTDQdOXXWcOFrlTY0U/hIMR56Ho\n",
       "dZD37mP7Bn7me8Jv8K4RDP54Jg7fOo4RV5ukXlpv38FPDNP6id5iIq2/g/OhnlcyggTjJfTup69u\n",
       "cE65DzukzacJuxBDqohIPq7KS4H7IunlEqB7aRbvstbO/5ABpgwBCn7wIWR+ektjU2zLZw6isY4A\n",
       "vjwOJlGlI7QnJgix+TgLl7MiQ1m28sSt8F9ouK37I11jTyPPqaRJ9QL48o5yDdZwXcnJpmduexj/\n",
       "TQbXmX/qpEBXSewgIgMEoMBNf/yEZVfVUcDrKKPc5O3L5s0o3EAAiniojBshEu13fDxHnElmY0QM\n",
       "Lff+y4MORULkCPimUDfYXw5C0dNB2ucC3xMIXKEHw+waS4H6nlLkLaxSav+7Y5xulmCHJLhP75DH\n",
       "YryelkGa7wJT+QbOJMdruhT2cLblOqkWcLtGIvN/BFtS6kr5UDJJM6fCtCwiKBe9Fdw/xoacbIzJ\n",
       "QZ3SHGfmvuUIssdfywiwRlBlb5x113FKjR6EaPwOra7CkDeR3hILtHtUdu0L9a5uY0U96rlmLBHP\n",
       "lzd2YyFOTwcrpCCsUjhBlKXzGMSgeN3MwaCsLW+7k5azPxiCCPlpUzHZjCVSoQgWjqvzkDeSYz77\n",
       "koue7TSQvuf1w3hCKFb7wbtcBgTPytM1ik1tu88IHF0xBceOAIhSWW6Py9nbH99raWDbtUAENca5\n",
       "blbp6FJHbrXd4vRqLYXz6s8KPZKIiMgDvCf5uVUw77beZYQoVwBi8ZLYSmSHopP4i8X2WZfBulc1\n",
       "/bf3l26TlUdZSvzFThNXTOyrL1dW+pT1W0gI/r6b0RW6VTG8U0Ewd0ZV1yPAQRQ77Y82Tj5h50Ep\n",
       "6UOSDUdTdDDdzWAwgsj0BuNbZGMW2Ir3qomePVVOouqIj7J49fQMfsVHwIT9FP2bdTsn4WL1xqOc\n",
       "RQ063dNmDes9QwLdMdROvJZG0IryMFqzTyAvmwzOEIBTdPQDR6iiI+GlSZRpCYsTvDqfkflEeSy7\n",
       "WeyjFyx4SV5FkH0PcsqEy67DF+8L+Rg2yFNq/WYe+asFLumfg+sWFSQdrWrw+lmy7lT8GOyqbvFy\n",
       "X32gzlE9AkGNaPAzPxxUUVQxcmNR1ELPWNoA1svVCdgh8I/pfDC7jPMshwHI2FCe3bfaNHAYoNYu\n",
       "2Pok9CRmu/KCIWLRQrzcOl1yXtJ97D3YVp4qCn8pBfOC9m1HzeXl3UEso0bAdV5mrHfg/sGz8oeH\n",
       "tzD2w1iK01dvG3eW+XIWBMeKh54WcRyw3lp07uH6bICu4DCi8N2J/uW5c2lISQAAAzkBnuRqQr8B\n",
       "WXFAA9cqaiN+G9WHX6ajR4ImkfniMB36AFjvyirBtXeHuEhdZTa9fC1F5APCVqtczWpjmCT0qemh\n",
       "v+Pr+cdDwieea8COWkT6PYqLsQu5e2zxyCMpLtNFyUojsDmsxAURgXwLtbmOKHVyhWKetaPZ/J4A\n",
       "boOPrDiwBdP0hssJyT4CFVKRfdBtopMRsswChyL+sP08qdOR2uGNKMefgpWJJ4mTtmtho+/JyiY5\n",
       "pNOGdsDnRlobRrH+T8iNqTOrCwqOfUKfQNcFL/04yiqCCbaUnWD6braTs312wL7ZvZLtdLQzO/ao\n",
       "fvG7QJPhzBWjU+kKr3R69K3j/AthZVUw03+qjDYBh/0ZyXLDOcGPQHzbgRf+ZX1UBXsmURLAcJMQ\n",
       "RLlPKtbomhbjGixFqpHzSR/E8O7iUKwgi/DUAVsOYC7s3mH8nqwlo+EOuyoru2GPzJn8bgFl0vc2\n",
       "xaIQJfo7G53tBOnB5PZEK417MIsWSwYjM2gAAAiCEkxXU0Qx3UIDbYuj7nHV1gag4KKcDhFB8RZT\n",
       "T00Ezzy1LbRgz6NbELqC8yUjdrIrdT3Qv41TcF9nh1KnTMBP7taIoTokW842kEwqaRYsQ++FDf90\n",
       "bRpm4Oogn6/mNCCKVtVGsma0Ce6wOsgY9/yYa4D71CRItFHvhYIlOzY2y1+yyPPgztEpzG/4V6Py\n",
       "FzWy2oAzbAkTo90paf8s0GspkrX6qlvYbsg5o42fFOfMtCTPp0zBv50mLwyrnyRpUk2ynOsFMeQe\n",
       "/l21u1ehkpmaifV3566t+0YHHMEBWfBOPxOJEiqmejXQ58uD97SpE0f9yeh45TSm+HGyipudmvoR\n",
       "7Hk/z+bNrKJLzPjIH0vdF/9rhhI60ISfoDMdYbhBa+ZxCBTKEOWEbtHxW8MgFlI/h6Au4OIH6bTH\n",
       "zzDvR5RcypPMMY9Ptj3FFElITIleYJFjAXuwGz0n62JhPiubXUuLLs3JFACf20T+syFOfGfisxUA\n",
       "0B3h0SpS2PfHPocG0vmM0nJkfdPcKbHxXqBOx/ORbKF5tn2q22NOaxNPmyvDrD9qiEUxWQ40nzum\n",
       "C2eyANgASYHm5G/Wqzyxrl+ubYEAAAWQQZrmSeEKUmUwIb/+p4QB7GV88IUZBNgek74AWvep7K47\n",
       "9GIIOeUB0KeMThSJfsQ5DAw5jwCr++grKkQAoCbV1XdycL1oqnk0qCXfjNe/lmN2aNAmjq+mtU9a\n",
       "pHjXUyOJXFouwoRzhBighsbrL/75UI9Hk6kx8aeIA1fpLKNBP5uf15UAAsjzQfFkZWuMdQ/28WHh\n",
       "dg/NfSHvRev6O5mENHbZJAwAAHMF9/mxa+gKJMfWmYsNd6XVJB2JFsMy2MLmyeN2ZOCSX7+2SaxT\n",
       "DWDB9AmdmF8sHpBKiiWqFHAVCZ2Gq/iOlamHVGo3EMrnPvOuUfY5Fyk450HlMpM1yd24aiZ3/4Xh\n",
       "h7iejOqAovbQHChNjpZn0hRmzGaRzp3bUHpWsDDJOCJ3hhrx5kRPXhnJZSmXG6Ip8XFWTx1h0KKH\n",
       "9iYj1C06RDzUS4s0xbPoDom3cl4jDjhccPs7rY8Q2fAKibydJEzJD/AY9Nm1rklGRJHMaQAdvJ2e\n",
       "Pvzte72yhZUyYkhOu1Dx3w6vUdTaelTGgrkVbU1kE5oRUlsaDQkgrOHC0d5mdA/hm4z5BggFHc7+\n",
       "MH1OoovL41qb2jw4PEUVwun4wvbHsyjUntw7CduU5FJ321eFcvBICZ0HiGX6E2blxkK400/fPrxj\n",
       "ksThCiZsRv9ta+pWyZdHPEO/QAVJcDrpZVvagDp/OmJnywBNalqqFBnNIxOqDBl7nx0QBR8T7Ops\n",
       "s0m3xxmsr8gTydm1nNawkx8ra975pKiZFuDMDs6i/adh+6L1G86ed70hnH39hKe/uijE0d0HxtSZ\n",
       "6Hlg6V1bHe5DuZ4GU2kfZhmgcIT62qe5ipfUB3wf0KsEGg38+81fh0vGkomxgtoxY212mZtPQzHQ\n",
       "CBLhI13IXsh4vbjWXgKb5YNcLhtV4oM3D0+xrAAfGCDwWCVFRX0zFBuaiCS6WPC/gbBfKxAVJRj4\n",
       "c9EhNZ0fUR30Ymsp3YCjB3vmu9hxYhc5bfTTRHBjV3sOWQYAjoiZwfi2Q/ZQwndQ5fcyVZntTGog\n",
       "xryBNm7/IRrizs+klIhRQzkx0a4t54RBxIG23Nb5ygQMqaB9R5i0W/ctFZvVV3VcY46jZDFs652h\n",
       "hUhEm3CKMS6uMD1s80I6uT1JSx/JnEAG58d/rfu/Om7dQi+WVYeGgqOhlrcFs0Sa2nwA6zKX77N7\n",
       "vf5CeeYZyz3ZrubQx+ja3GQUWW/IfHGaSef+6jvMMm3SmGy/b5lG7cM9QP3g8kYlELueedjx8Rtz\n",
       "qytJNy8/tW38iN00cethxDbQ5xyElKPvtTLnlhq8RpifjHVDnWEYxY8Yxd25QeO2oOkoEmPWe47y\n",
       "jltV8fRYhuXkJzV0jXKwueBlROgxFtX1ut3yCOmEDHtxvbFAadAi8BHdXDFrIzV2FETQ7TzryQJc\n",
       "1SviFY7ehhF8XdTJrQFZqXBaD1OjYZ3i1J39eTOtWC79NOFVx7HdPEd3eSCX4WQyr4GXZKLZHkE/\n",
       "Xis2+arfRIAH0g4Dh1tcDEMFH+knqemhEWPc0yQ5Veg7FeKn4ZR53CEU1aoWOnMoKjRHe38f9w+g\n",
       "AjT8KSh+1GhqF4Kjph2iKZgHd3ihPTZKydYNhF4PWWtblEFT3WTDrXQkkp1pFbHkOO0oPfb8KrXw\n",
       "Po0jlQbtoajbELIITyo3NYYzCQlkxfRG8fjrnVNNs5gGiByXqfjbHTjkkLhCnJ6CPci5ojt5q6Fx\n",
       "5bEebfbN6l8TdGKnaNPU3smISmDI6aJKxluHMC1TSV2mXCUcW1/yY+UMP2NqTtQPtLzlgr/iwDHL\n",
       "On7ltvsEZn92jH7OdlFDGXrZsIiDHKlCwmi0EYLC9a5mNrK5tWnhPZrndSts0khZ7H9NANlDVnZm\n",
       "cBNeNE+08o8fpYFpQvSVb0WjAdFbYt8AAAr3QZsKSeEOiZTAhn/+nhAHBrACeP23/2B3YwAfusU6\n",
       "Ingm54d622st0EtSLbSy3EDeTRKYnheHzlZDJULJDX5M8iPT+8Ci4wVvPNAc7t9MzF2sRMk+Uk1/\n",
       "pX0ygE5SPtcG3LrEcYsqgAQPKKkno4GUXTrfX11txpkAkVDbOQeU34jV950+JfhSlZqUzwME46zD\n",
       "tzIbvbQK++egDm+98aQnFbZ+RvJZgsTjT8uBpyjl8OCmUtYL/2+m8zSwwArum7sISI3JA68fact7\n",
       "GuB8K7eW/lewpTQ4BaAYpUdWIdb5ezJs89bNrkMDTPaJuIl8S8NmdXLGQqgbFx8x7Lv5f2HAv8qA\n",
       "54yMrXDqqqgdZD2wYqnpCgYue1Rt72Y1i2JyR/mxJEHgy8ALd/I+Me10dkjIZNQ+61dzx1aCzNH6\n",
       "TGwts40SlAtdxy/c5AZx9TVO/yVtXa6/m3twN1yALuc5s6zuQqCnB3dtWpcHvMnd0NHJmQ2l8a/Y\n",
       "fm/evJFJRnbzJ3G7aeUUnNRu16wwMKbIzEp1pkwTx6rEQySatREXqRQOuSIIPGw1lPhLBxu16G7d\n",
       "LziyfLmHA+fqzrIkjkR7kuj9vde0GhLz8FODZaip8Mu++SOhUGlWhyoAtdePEqF3EdnNquBjYovc\n",
       "iWSryhKfsX04Z/G4zHwMAbON+Ep4SQunX9OoeEkctdw0MKgX/yMYf///RatnX1MFOe+Jg+WwIVwA\n",
       "as5A/cMiVvB3/1eayLpz0IkR/D017LeM9tbgEn1xRao9srie2tBRB61a+oNPaUwHY3M5/DMmkCMy\n",
       "ksmllc7KaPrrviS38qLDIHOnaDF/QfTdzsSvIUBzsUymHzUhANZaX3QIjlzyEt3NICKngkvamhCO\n",
       "rVfQdf92Pe69j+b0MygAGuymUdVACAdzK0szHJEW3ZrEksWiq7gVE7JuLYfmMYzrsT8LhLk3CDQd\n",
       "7SFd3aZq8gQ+dt8UKnNPoAI4nd/e8M00zn2uGsRf3JqYpyi8pfa4myZfoq2lt/cRxonmObKtw/nP\n",
       "f8Tsizp2Pr/2zrL5WcVVyMAEMB9tFPmtNetBW/ILmAZ00MpnrSci2MuO/eE3H74ycrbTjAG2O2eA\n",
       "fVROOEdc/+lit5aSPQcWaCj1Sn4anvaPOeCaeOuOEwj4jBn67tvS4tDWcFn99sULmhQz99mGxsQw\n",
       "NvVW8DFJad/ObETZelo2/7RC6t7NGOsmjQkXfWa+F4By0RTGd6qemLNBI0RWAx+w2ttDi+L/DqGj\n",
       "KWFtu7ngj6b/nibngj8big/OhNtyPk4IobDjjHaN7E7vkcJOpl05mK42boV2rHPCPIBp24r2jMEu\n",
       "3oP+0u8ZS6gDX30Er8DtCCawB5rHdpdIDCg6SoDdiMCp9cJJL2Rdy1Sb8OtG7WTnaNaCtb4AtLm6\n",
       "eMXhErH4Qk6KLkIR2HiVWMCrYIgoEwvL3GiEWRj5PNyTrTr7wqpkfa5eyukCI95uQtOBYjGWzgsT\n",
       "Kk4nYkcy+s7TYb3k+Vgnt85k9U5Z3Oa/T0Tr+2WuYhNCxoLkiMYlaXIUOthKyNldTOBacrWDX31g\n",
       "WBQEpzs+KuIZe8lZHL/S+/bgUdgrYklGaSmWsn4lwca1fkBqt56m/KqECxFUfkhcgyI9BpYR3ldW\n",
       "yuTtClTEfu4HZlrBXgM+zjfUCXYEj3q4OI3cO2EiFRCAMQWbr0Hj+W/EVgZ9nGS8Qbd3mU1OAMTf\n",
       "qQq7jBYZorB/W9P9K5VIUQX6Kw3C8zNO+CZe8j/ceicRQZkByRh73rP7JNdwlczPWWu+lUb1tgOf\n",
       "JHxMHOzmLTnCyEYojfG8My2FzGukwpovtHS8xhxIoyyLeq/oxuVXOuzwjaN7ywsL3blBUpPKc0rh\n",
       "7lNMpPCG/WtmXSzI1pyElpETu3msH9igPvgsfHbexopXQiK4M1UZ0UwaNrwYX8QzqNRdNk0yQ+lm\n",
       "9Rg+TqLiKQ8mxcFlOdcFtZqYFKKgBdxRKceoTtCRY3jwSNPVCC24avHcFZ7eVg4ZU2vcL5TQG3pL\n",
       "8xuxwZj3Hi5FnPBbnnJ6em+hgpElC/6AZm6HMxJyC5QfmTZBnmvIN7sWyn+VXYHd51Kpo7MHuqac\n",
       "T0f42skH7SyIbayhmYfwl2mPuKFQU/+Isq9Yn/Ibz/FA0C5nECeeFQktb6ghQP0r2TvCQS/gfCUx\n",
       "GWP8vUmbh2ZGW9nUa6SnlSWT7BX1F6R6Og386uzR67NOodGZGhMDQK1FZ/aSBiLMiTa4FnK2QTmB\n",
       "WLyf8BJ9p075vz+BmU7FaRLrZjCT+pxyS7TZHn90gyOdmMARAZ36CXCdJDUtwoFBeXnuIZ7Bi6WP\n",
       "dxVWjFXAX63lvspvE58j56hiMjUYJm//BncupRLTpwTL55bn8rbu+fV6NvsXQLXqA4rrZ9WduHfU\n",
       "fBNlSDpM7jqAD0ZlXb03+usP9lBYngwNCypBxC0FTKWHX71a24phx/kI77n1wf4+RaXBE1RBdd7V\n",
       "sAIHiUpIYcyRYseo01fhLhD0Gu32kQzuZv8Q791gMgbZTAb3PZkdZH9iKFN4h9XYEfAUHcsMUW/h\n",
       "8jNRX4AxU8vVr9rPPyE0dVbFJ8WFIvDXQ23nfvn+mF8T/kMZrsK32kB1x2ZEI53kDaM8f0DebxAc\n",
       "jAE8LQF+0I+OCRprnKu+M5JZs4stBrAXEsTu530JkQk3tQ0z53RX8OX0pj3cxv6zLHGnZRKEJulr\n",
       "f+dI+NZwuGZr2/xWquhwO/e2CDWqYgiTw7LAD+VYJ1L/zlpoP4MTDB3QkXX65u8lj2xaUf6qNqk2\n",
       "N5YFec8/s04sBa56CKZwF9hf7ybreDQdw8Jp9pegjyEp+GxCgWAJN95gWu8WZ1hL9H0N0CoSQhIl\n",
       "/9hEDZCPviCXtalwxXWatnUlt98S8NBtuivJpJRps/shsCmm9CWoiJkXG6jNItBnl19N7ISkhFTK\n",
       "zKOkeoEi8Xk2t7eGa52nGUzKJj02tb/ZqsvS6GFR1s83VE3JcQf9LYotGE9KyoH3T1IPYm8I7Zzl\n",
       "sdIHxOJ7k4bDOR2brRpfK+wt8qI3u9Xt71ndkaZhzU0S5XMrtWIE9hsJILyOHzuRn0GNNgNZfS5j\n",
       "1aWpgPeDcphU1D6XvWV3P2YuCBtsEUWzBj5uKjJsIK5c5ydP6qxDXtwZj+4fTOz8JLJRiEW2uc68\n",
       "bZQ0zuGwmwlwTIR7ItvXe2Pi7wtKSLZ4g/PeqlbGQY7I4942+/tI2F31nZgsd034yze9GoC/Dr6j\n",
       "yXVBOjI/B+/ncRLXvkcuwRrVvgvNcyGSEJUdNxHNI7UC4bp1/mcSMemcdvyqntnWMTj4uF/HsRWa\n",
       "uvUZLvhGAGDr/I5vn0S3s6kjEAEeK437I4gjf7h1m6ewcO+SJGvN9jKu3glqXZ8oQY7l04YSa0eh\n",
       "Eb8C9IezBNe9Xf6+gcuqHiZ79m1FknzVhroIZa4xBFYY7bR8YmdId16ahGo9AZC0HRqvZBTsYZGF\n",
       "DIwRZ3Z83E82KdNpFuNJCSQfAo8paVML/WwUDMm2e0fd14Dr38pMdB0k7W+NJ2vPKz1OtDZn0aiX\n",
       "Pr11GUxdyKchW2yiAwRcv4dE5PMkNL0woPa+3KJ7MR29GR5mDkLkJ3kzdr35W/1pYDdsD+PPCMhP\n",
       "6ehJpAa+e3Kk/vF9p4alXFJPRKtHHvq3U+Bpi5v2sjHPuVQF4yo8HlA7gboGdByR1wew6FAIzZza\n",
       "hdGkVLw1+QBhUmZk0rNHrnBYDn1MNDt1e1PT7FDvmdtg2TdX0KyYqzkAAATeQZ8oRRE8L/8A9/vY\n",
       "LYdZQSzcVzxYlH0GVheIAhipFdcKAnxtY70pwsc+JNo2pmWOHiRbcNmD+bc1SDoBF9N970QnBwuk\n",
       "zc75tyeD0N9Y2cJzZUPkCT3eF0zsbrloGo1i3O1KTypcI15aVYxtc0wSjtvW3tIWEwubf7xi5Kr4\n",
       "5dIImYQKvOk0tm/3ENgwvV5khdt4XApUq+84Kn8pfBihjAkRCyCvI8e/fuJAmixFHDQCHV1PE1Lw\n",
       "Lcyf9bH177CvPtr3lOyhS9YoGtGvrBMCiOI4Gy3ycc7vjbUhp8jPOpyp7NCRqEyVJ3Dux4X11MPk\n",
       "OOd61TxBgkQfd6kWLWiRclpcjsRB8BN6XmsZrRezm7k5DCFbGTFcEvDUzavyihnwkC5u8XBCNp9o\n",
       "FnSQ5N+OYH1j7Gm/3wR5xx81TelXRT2Vov3Xdpy3begpHY4LDZ4ADhEJFN9VXG75jD0wtgN5G4hp\n",
       "EqvOYe+sX5uJ6Kp6DLU6acWiVUd+um4sjJMjPzOaZyNgKEKWZdJzNDrvsxvdPPPzLpeZePM6s6Ut\n",
       "EAyEOiM6F3rSJpI8n8JsFAVg/n4EVbozKIZ2/YzejKulBmXNqbMSYjcE5NG44GAbOyBeA3Lkv/fa\n",
       "q0hdasZkcbUguBCrtFBWoT9YVyEBEZeu2nM3mTt/Z4zulExJCMEYnUU30VLxdHvebKweUe4mQC9Q\n",
       "syVJfY80UGvdtSw4RDo6fhvdxpx9tcZyC6gSUONKGKsAOpIJDiu6X4wRlwZD1Rp+Ww65FYTCGEor\n",
       "yFV22R5tfE1iw8RoxdBotsQ92aUt1IG2ipqRFoXfL3mLVRISJbeW3HwvUSlcqdj6Jan08VHwjXAz\n",
       "1iI7/CCQHA9PgSHS4r6ui2K4E2Lip0dn00XxnQROhkMVSsjjGoOfDOPBIs62nKh6WiWEMbMnzK1/\n",
       "+NRiJTUctansR9aC/Ff1pQbovp47FKc3K5gpOh0LTZsD9yNmnJf8PHyy4fEFzUiUhApHmAALXjT7\n",
       "ETWNiTxPv91NiXh18Lj/WKYKMrou6OV5ILhzsaArQZXunyN5mc0uOaEA2ipA1i3zutFlcjEZHe6s\n",
       "FZ5fQAiohGGNSMrfemFEOfLtFEYcBD0SfV2S/Cyl5ZVGsWCk0UCyC/Ek9s8sF4CxSg7kQBCEV9L5\n",
       "rDkwjzX6dHazigm2yeAded/0W0nGkkrt4dOLLpnSzEbaSfKLn8/yvXvXjZUT1y8F4NsSLObtdvqs\n",
       "djOdZWxVRhZp46ocyp0scTd6twUWtagYYT6G8b03iI+BhJGD20F8QQIChSrcjgHeG8J2jUCEaL2p\n",
       "jvb5VI5Do/mJMuFu2in4mUASU2wWzTgYfSl+vDHWfBNkElnMm5jmQzR+MXvC8oyfXgbELlAC1n4Q\n",
       "G6Anzh65mJxDAuC2l1ybi9Pwy4zbQuahMFdSUTbCGGCgjQMaB+BsvG0y+MJFw70Fi0VcviSQCSx+\n",
       "pxpIfhCPRtB6LEF/YA1/QSYyCahG/jQxvx+BYEabC+rjB8K5QuPOALzMqsMDufpPh7hSfxf/VSTD\n",
       "n9oqZKm2iof0PYFGm4nkXdaJOpWVkX0Z3/uo8iuZi6Sku+NAGHZDeOssbRyGZKl8sPQrU2aVgory\n",
       "82BGqRUfAq8ew7igYgsCbSIT46sggYDCLCKsDEjXq+nB1actQAAAA1sBn0d0Qr8BWktjvfixYCW4\n",
       "CrJr22qwAcTXoGvNHtnbsB2KRgLFUvg//0RIVLxnnZqcPkc2VBphN2P08PN9ie2DztVkZAWXrZMA\n",
       "IA6ItOlVtR5IwboQ7fY4hUu/++6cTRtRzpAQEfqC3WDJ286mfR9oltflM+zb+QCnbdta/mEqXz40\n",
       "A4hgpLjCKkU4tOA7Xn3GVA/GPYin/K9GOpGcf/Ah1YP5UMTyJRVHGvq7M95Ov0GRwp3XGGOAb3qP\n",
       "xqYcDvycblcaV36f6BkXG6tcSlbhmjIV/1sygLezAl2Tl5weJJsLJDyRFaYdO+1MMlfaf/xamDHR\n",
       "wJJpf0uaWcAstczvl26RFW3DHTDZPbxtBnRC3uBIGEHiSzk1KP9zk5/HwYYmTApHVp2/A2ZNJIKH\n",
       "yeouHa5giWpl+BoxQmC2sc9cxPNB1ZCzTkaorbp6vmES8a7F/SXT/9pwxaf3UTAWwvfYCwsgAGwE\n",
       "05RO5L2shQqmmke4oojCnZL3DX9mTwvvZ7Lc+c0ZZf5hyuHvLwpgMprNSb8BoRq1LQ9mGHTDHbM+\n",
       "PUQ0uVXo7VgbNNzjcWHCx53EWDMsVFo1b7s+g6eeSnQc7YTGiE4TcdLhUSV0NzuKEcaYi+4NqCyL\n",
       "UcnI66jfzqWeMAHPZ3M3VesBPgSkNbhajXM8i07EXJ4TT6uE+GdsHqqD1vKwWPgVrC1GLiAdWB/0\n",
       "QSgUzRouq7labmb1pOrO9h/kRFLiE438087a5Cr1Y55FcxMU5FC429n/iqNf310NQXAU6TZWsPbU\n",
       "GiZb74XMtkbMLC/NEFvtMgUPpdPSmOnIj0uVs5NNDXrCR+HVOaIytKlsWTSGdBOv9iI4C9h8n1V2\n",
       "uF0pBdAR+yZHjjq95ItSapmwOuVb6BKPLQ8pWVEkSZu9Wj4cPjnb0/fj3mGVZc0NmHXX8rtQglwk\n",
       "gNzzOkaaehPHg1ERP5use5cJO+CGpOA6IgVENpjJJsi5nA96aLR85DArXHQNThtMH/dO5qxqKM0E\n",
       "9Aag5zANa+5YNA11Ep8tsm4lTnRcgaIaAILcy4sJxQTXH2CjG/iPau9Fc3VG2w+KWl37rzzwMr7r\n",
       "c0r+7acIiijr85MLJQj433Y8zHEzq/Vl5yaByMUP4YuAtUlWy0McO2Mwy9FQAAADRQGfSWpCvwEu\n",
       "13Kj4MUIdItKNIdyAIWy+gI54hGp/8gpeiJ7+ENLU6X5HI6dTSj2ShJkqrTjK86cjYmeqpCetLy1\n",
       "0sEGJtaRlCBc61ZonyiwBQLlqyCutCgzZX6Mkc5d2ot9x9osu2c/JpFDzDOu2nG9aAqJqjB9y88w\n",
       "S5M1QdiS3i/12poEgG065OixLC28O4/raAK2Y/s/4Isne0CQNpotIzmXz7jS3BpabrNQaguZ5umH\n",
       "9HNNW6pSG9/Bc4R8My4GYW7G4C5vwV2dyfKzBH5iuxwtIVoYjFs2SS849ua/CT26ROK+lbtcq6Zf\n",
       "tNbFkzqCduG1aaMOttV+XMLbsQU4zvJTl/n4h4Sz2nAcexfGiNqmP5CGNG1MrEiA1E4TuDjE/2Vq\n",
       "Hb/5NZU9uvpfcclPFEPo8XfCt2g+1aUpCA3Iu/I14vA42iQk7eNv49IHLb+UARFKjhCL2haIUCaq\n",
       "7EvqAS2qTlwlGQ2SUxiLuxIfTnqd8gbTd9OVKJNGfTZKQOmHaIbIEMjzmtpe7AFTUdDG5GmkqHLd\n",
       "HtcVRqrHOx5FdTa9+xu/1+igIf5cZ84rypBeUya8eZqkt1TV5DLAgjD+mcp48N6PGpTX9RUTlJFg\n",
       "ytABKr5yun1xF0vOeux/xbjIP5mQtUGd/vCb/4vDjywFFo0hlkCOmXasp3vSXj3zp5qWxD41/q7N\n",
       "G0SlQkM0oe7OGohzqEkczv0NeS3NOxVFBmPMQkj6SDEqYWgIoHqYdEKTQj2cnOFRXI9Bzp7oTApN\n",
       "QfzX6Q9/NjGFCxYODPD7SVv/3wCwsUj/vgZcEYoJHqAE4V2NT30C+NV86xE4SSWouPzvq6WYc+Q4\n",
       "SUqhRZPAN9UmDTWBghPUhYYE+YTqs+zWV2JPpKlTnzCCe0CggCuv3+zjaZndIgrM5hbRevLxcqIj\n",
       "KV8K19Vr5sqAP2mqsgUs637cgkXxA23fAySxWHMXPb721puR1UQI2liU6XwDriJFXUdK8BYDixwa\n",
       "L0y15JPr4PG4lzXR2VLQcr5+IpKdCt1y1nSLosiAkN9DPdiS0dC4NCeL4MiFASgQLXpT1nTZNbwR\n",
       "UEAzgnfvROiJN+Ye9sDpBsibKKwQ43rzT95deTrr+QAABIJBm0tJqEFomUwIZ//+nhAGCGqstCaF\n",
       "D1FdPdtbKs1kywaQ3C8LQmiAECHTd4gYetzZZDlsTKo8FC4v4VOPXbzN5Mq1RwXuUsGF4b6eRTU6\n",
       "2O/dr9/lLFZZGXJauid0oDRCPyGrzmmNTjQDe/XliqZIwgv0koHf958tyBvrN9t7IcCXh0JG9KDg\n",
       "awme83+RS+cSOepRivcLkoqy1w+p8ow4o0NDqvhh3KJ/dvOT7ohKhObYa3Tohjgatz8lR/qbgzc9\n",
       "tCzREbX9EcPL93mZUBGlnIy2v1kb+N453+/fr999DMV/UX+psea2fjRZ2A1uuFinxfTwoZo6C3Fx\n",
       "BXGQdycE+5uH1FSggGJRfEqQzNuEfqASR5MDyjVJozpql0VR4PVgWMDz4eHRQaAEpCqPR3gAK8ww\n",
       "KjGRXsmKqG/EOGf1X/VuraJ2AETiFiTJK/bUnLP0orSvgV5vfhzVdTUFDiub1UcRQ55z/aExMQ8j\n",
       "f1gNDuHM7qgO6qttURxACCkG3K/RB3Yd1492KGMN1RD8r/0yQ+VgiEUpki0ku45eTY5W78+ktNaC\n",
       "i5jXvOgTeV6qLab9b4m2RgtPP9NHbU11CH37AjMP/ehuKo4EsyAMq5fzL8q+PxHaRBszPwWODWrE\n",
       "U4qIs9zkXfgxQ83LMuVMLIyy5i/70nEZ4Uh+HA52eEt8esaToxi/rvBrxiOjr+77xk8y1+QYsM3R\n",
       "j/8s2psg9HaIyjB7JWdUCFZ0ZSLor1L0B/2WVrDYTH07bFEVB1NpOxoKeBDWGxOkKdYgprUp9OBC\n",
       "aeJX6Lo6Ndq0FATAkeJuZUsUZ0VVF/Pgh2JlhTe4hFyQLnLMXaMnbZZUZ3nAMrYqzJhYumYy1G9B\n",
       "pu+vT5sXeOZ9fZcjn5RDT72V9jQpPsAsVIbl1oz74Y+YgjOGN8UuAs5d5fT3nPV6Jr7qkBKYAuLj\n",
       "AzdAhs6JuYzHqqh1TYRRVFY5DNA/Jxct7hicd1FxYmBzbgBfn+MAR53W2E6HLeWBBendZqyl1EBg\n",
       "QbCX2gtl6AhsKt2IlpbxSjpOMYoZ3G84bEL7YthYeH/wQ8A1gFGm9NcWU5somqaGrWxW777/HPEa\n",
       "f/v3RhacBbrZsGaV99DvXo+Qcffp4qHzbnFM916cc4Fl/3Jgnb7MvrEYsG32CoM9hRHHlk2ZdZ7A\n",
       "Cya6X11/FgCRTwTXMQFT9hL7FIjZb+WIdvGjiw3O5oGcThD46YzZKO2Wk//wo8O12Bf+3ZEUgldi\n",
       "U8OFdQnuO7S3TRJ5XPeCqkSXjtAeI5Zotb3K0T+/Mfu1JMsYCNt9GS8GAyVVNinSKuYKF2ILbk4t\n",
       "1qv5XVAYyN1CGbqG9t3/YxD8XURPYQ7IjqidivuE1jBSsQcztMHQvy4kTlIHHM56s+zaRgDzcRFI\n",
       "0YrEmqpaTnCPxG/LGTENwdueJQI4KdgWgL/WxBQBuORyiq6fftqZZi6Hz21q7ZxFKCrEad7pcnFz\n",
       "Q5CJBlGsbbe48MXNYf4Z+n3ZieYF64dz9PIFPLzvJfq0v28TO6KUoAGNp2fkH+tvoAAABuVBm21J\n",
       "4QpSZTBREsM//p4QBf4+2iyeAyp3TUcwow/WwALhsbamgT/IHFcSm3ZfnbBswGEX0MNlFebzFS9n\n",
       "06mq8HTPEsnHP81nTUlao0pGD29m2YfSfGYMNL1hNVyjeEQayLPcmhF+cAvbfQyCjBPBpxXJ4R0D\n",
       "dkU2hNYfeuF4QDIj70o7U8prr5z28po41wj0L3i/DNvufpb3qjvQotOyg8GAnzfu+AB/Z2y1sie5\n",
       "NysaqutbN6EjOqGO7MhiZhUPVV5qNFcac5f2KKgnhipTsletNjMMENnhd1WWPX4tDg0Nf4a/uCvE\n",
       "xlt3OrAR9Lrt069xsbMWyOD+b0Dcb0/LrZ5/9VxmQKgYJnDHI8n6DeKb/N8mumW7YgBr3XpHH1Ut\n",
       "Jk8RjDJHB2A92EoqcMfaMXuTydTX22C1Ot2SDQCFNeAbS/B11djdRtiAGLe3QZkovbzdbJdakGEH\n",
       "CYnZVJczFlz4BKxJvFptHJfaWGiGplifzWJpjSoAryBaYi2He+Ot1kLfz4QoHjc9/34YyLPqKdqb\n",
       "YF359Agl7ESLmYFve6NId2Yg3v+pRsamKDIUrRrrAZY3RCMrKpkZ9urJ7T8kzxDdFmZIG//gL0hA\n",
       "atSK8A0S0BwebBvu1uY5cvUuNsJJRClHa06ix1OUo3TIJ8u1zsvngMiVlYzmQIKuaWBJ6cCPfjGk\n",
       "DIBFWIWX+jmT8eaWyLHCrnR+kId1YDdUrn2WY0eTJvrS9saVng3hVkobpjeox3EGmErHw/IOgzUP\n",
       "FseFSuj8ZFpyg/47JDG/b4kU9iVUvQbR+f9lyM/X1hcrIqG1orM107nvaXT5KnZf6G7kIZqxABfu\n",
       "WTYPzgsu3t2PIAR5Id5GqNomnD1O3zyMym74/n66IiAin2oAX0kVddrvrV1dX4e8uVNcGBeQcjTb\n",
       "axonducddE0BsIua1y+YdZDhIX/1faeiwHQIcdDjNYBDgXeCNX/1NPCuTTEHuHyR44bzq9Fs8Jzg\n",
       "po95c2HiJOs+bGbTIeN1r112uo5S92UVJFRESTY2puJraNh8VIOhEJaP21DIBWGpM9Vi+hBQqtH8\n",
       "WMxOLBY4J5PMbU3cOf/Mu/BGZ3i/thJWzN1/dNTHDK01oxAbGXgBjS/TNxALRSuovoEKqZxcWktQ\n",
       "KOs4MTcH5kYEtA7opMEfupBg1yt0Q3Zo6pGef0csigIrFfEIo7WNNc3EVPWNSQKeSyGCz1ZA6StQ\n",
       "+XCY4oH1HCctqcKoNCeltC2H/0tGl+wjKP5HGJxpMiad7tDcHrblbp+fGftVc7L0wLxQkLby9n2A\n",
       "62xHZ4Z3v7IKaAWoCg3DbJw4Tt5inWTYz9NIq8hKdEF5y8L56ICXyLbXoxCfQSf9eIt6JWCrwRs+\n",
       "MGDNRlBOhF9UX2iYkx9cWslpdCYMLA1ns412mZ7yzzD8My0p37skhXjWLOe7S6Amp80cRsZMFYS2\n",
       "wz1Kh0zQ0pIINXiSRbnYe4Msjl9z+I+4xV/ji3o1rrzm387hXIfpgv7pi5DTt980Au2NxncNz1Bp\n",
       "PiccJMN8+wewBrx5boAP4jT92HUUaMB732GFktxQuLZGiF+e4IeglGwTKNAReuGejsRy2flYEntn\n",
       "hvjrWdrKeJ7hKITK+b8h+AdFvBfzgT2QE22QZnkRcteRPCL/DQVeBiz6q3vafSHOK4s/q/NiSqpN\n",
       "uh9cUnUx03FNTkQW4UWeshM9i2UDMYL0wKpmTPDhlvagz8wnLLaVsrv5DACX2wEYo9rR0aD1tGi6\n",
       "USNuxGjXyuiuYz0iiuiQX7FTWcRgWSJAxPHF043MDrftYeXEN6mYrFmUZR8TIInJu+7WRRIuGN+f\n",
       "HgiZW0hVNbiOSKXRniE6CYOCT916t2ykPHw/O8uhbntXKcol7jNRuv/C11fsiuwaQxXsH2/Dzwud\n",
       "EMmEPTwad3vi/DQIH5FhOysdJnB0+bELnzqX9xJuS2GSruzMPYRLX/WqstwuEYNrUUc81zxi+AzO\n",
       "9fSHti7gTVU23nuXVEe2CtgfJxA2S7brifJ4Soa0xmQtLWuGNG0XazLr1tt/s1CgYoHsimhcIqAJ\n",
       "v+ZVTl4dCcC37+mPGp9b4/XVd2zTra5ITjfgF2c9+mevWtKd9Cdj7STYRiaHDgnaskJSp20U8hpy\n",
       "SdkZr40RoC7QWGaCPJiqegdUXTlfbMysDyumP/7bwDAh0ZWwfA/G+woDkEG4YevCj58B9k/jFEUQ\n",
       "RYrqnGsJl7vpAc6RFAX3c2OdMT3zs5Im5NE/WumNrQvH4D50bPylzUpmJqWGe+sSo2BsUTQVjCsP\n",
       "nN3BEbgpYqv5J2VmKOAI9YqRYNF2TajSMX+eSBz2oUz9t+yO856WNq+gSmN+5F0gDSifAAADLQGf\n",
       "jGpCvwE2kC5R8/du4lolwB5/hxD6QlKwZp2OD8YMCm54wpfox69gsOLAAFx08fYOW0MvN0Y/csLP\n",
       "CsBBvjy5PAvrxMQlEST3zncGtqaB6CobE70WXf1HsbjtXbHKHXKIRKvQpD1ZBN5TMJDph4onoTbW\n",
       "z5CKq0745Q0lw8KEFsmDjsyrg0rUzk2nR71GAB8E8lGbwcsZ1yX+Nn7VV5V4gKAteXUjlVafTHJp\n",
       "sv9VUatMVrZ3GZAn/ZmfIqSV5DfQ8Br/QV2jNIikBPfxnyaTsicggm/cgFJWgmHFT4YkKh4dKF/q\n",
       "j1t3mbqPlPrblloBETiqFcA2oZlHfuoB50heKpHo6p5YAaH7/+2LtfgORhIaeXVnKmhFP8Dwfjdc\n",
       "xLiPwqDmnKs/1CG2AmD5hMOgkfiqKIDUZ4qvxjZgxalx9UvQbhFlSL1VoaFtWXAgOOc731SzmrHO\n",
       "QS//RwathW5prH49OHWA6tFZ2NkjoRhWGtFTOTekhmfsga0KNnYcLPtXwKxSEX4Y8R/MrMWrq/Hp\n",
       "4tDTtcb8p2rwPdFqyp9ZpSJFiiDQ8DrO5kUFQY6XAbT4w9GCLiW+6bDWXb1OiASlgqnzLfO5YzqZ\n",
       "tk3DVRTASM890lvLNDf9r/10iVq8HXLWXdecIs8+z3RIwOjsPeTvTB32Bg9mquBeVSBCwlrcFSzo\n",
       "4p6KhVej1awUzu3UHRWR0u8s0NcvgndMZpxbQNQTF92z+gezpdq42QkAikpxoNGMV2+sEToiyKrq\n",
       "1nPgX63Sr+nmzGjR4ik2HldTgrNS6jsbEBDjM36Y1S68zwpY35IhN2SSkOYT/uqse/njC77+U09N\n",
       "+agJfbn4GWdP9W4pUHrK+oXy2E41vQObLHAOmqDdKDS7KBuv9yevgoBA8JR5a4/TpoJHi1KyrgHu\n",
       "uYfntXU3pHqIAoyAcinJvUzq81e0d4uGDPwwfqw5goZM5VRCcgD3NkHahZzgKDqJ0Mhe3I6RPEwm\n",
       "lu1RLcJwLRKv1NMQ0WSzXYI1tZFa0IVWXAYI7oCNWSOe/KcZFnns5SzB8Nky5guciEuDUec8NidB\n",
       "SzVT2GQrGdLLY37faQAABg9Bm45J4Q6JlMCGf/6eEANa7tKAD2fhHIy7dPCYdeqbMsBGahqUyNEA\n",
       "GNVqAl14GwY9Hg+KQ3Cq7tuCelOQYqfsA+Yf+fE0Q8rlvVwr+f/w+ZxcK4Zq/50iUkfeP2Rnexuw\n",
       "aG9aVCF9dSPs2esMbQ/datDZBQLv8hLAHRKImOVelddutQ55IDDoB2NgsYOtN4JKDnAihKseeC01\n",
       "1vGGCh7q3TdVV+xLyPKqKrlWKdSulKJG0HpMeXPYhwpn90I/suU/u0fGq/nqM91XHxTNPglEGh8L\n",
       "cX6aD+ZFIfp6JxMOXJKm5TIGwiw6QgH60G6gyRMe336S7dNKuDlvhDrU0sRq1yvIDJotxF9PKI7b\n",
       "bKVoQhGLQsBY5ir2xOfeC+Qhck3Yjr2q8uphkWap3fJmJK0xea/MF/bybZiohsxR5yxNwmO4v30A\n",
       "O4viBNU8/yilbb7AJpRcq3TtEQ9chOQfeQsk4MF+EL6dRWiy/XbJfyYl+MLQQPxzI776sNf+Zq6p\n",
       "iATyJTAXE90Lt7hCTGzOhR7cCqGYx964iyLOXVgWRFNtMTPz3BIpoI/htRDJWlf8Cv3zOrbydMt0\n",
       "QO6vLjnMK6tdkV+RhFl7GcB/JhjUYwNakWTG8u2uVvQRoQfCwi62vsM4SXT3saRU+lVzn6x0DfBI\n",
       "BaURbmuDMjYqve+p2LiDKg11tFVUbWHwIl3NBlw+en24kPDgDSinoCc1CdFbMuFwkfR+3iXLetNF\n",
       "bYosj/0BbomjMrE4R3Fya1Qd66OH8wicoFhCgHHEr/IVeShGEXRERKuUaZOlKXpYIbu9r/NRJq2n\n",
       "eYj+Imf/Lf39jGMC0yvoQimLu3NCiBS1Zhdg1LJ9BZIDPF0MwekJ9WCcjX1mh6AJh8xUEYgVtykJ\n",
       "8XGfS1iXjT825e9A/YIZ+QyRMdLzr+zsAoL4eioJ6GLu9EyvNG3daXly5MuDFkfpJw2KZSOz+x3p\n",
       "RutBXPod4dc/V9IvQrVRdGSYjMVtUdCi1ZREXKRuFZum+WTVfut1a9sBAt9bhz/G9ERPxm5+wycj\n",
       "PqtWVjT2LfsBsi89HGwkeW5OCFN/GQPVIMCaLMLXnPYKkiLYXa/1J+kp8PgObX/Q8Sh58PHLuqfq\n",
       "8tw6rqcmuyw6+bn6EcGNzqPJmGhDyGvlFO6X0iaPjlf9Ob72ghoEABSQ7/3arx13f6BGpDJFjEto\n",
       "4mh4t5qpNJ6nxeSIBx1Rwq6mcOAntiwnawHpcHl/vaMpOYclm6KwAPd9CKguWWlmMaVvYmcy/aR+\n",
       "RM97UBtqCLKy5+myRLGmZ5EqE8fufWHT5y66wVQKd3fSlxtjNXfRWXbZeJq8AUJaYOCfYI/2mUL1\n",
       "26saNhttxyDEX0khtnXzFxuzhj+lxXZ4/6Kvpx6W+7k+/VvqZMshXqtjAF6+CH/KMZt5J3AhucbC\n",
       "DnWOX1KM7CRwakVixEslp7newWQGvxfTXpbhB/NxZR+YrlkLkLgEvafxNq4/Koegoy+kcw6Kw8sR\n",
       "FuuggJAVOIzugg0hZRV5qQvMjPehWtGETEVIe44ArS2jYcmxqpj1HJYdAtr0LNPtJnPrtpT8fG4K\n",
       "oadiAWKiOiP5actk77gQhYl+/96d5qjLe99xn29qTTwy5M6EqfWeZXnl8FfpArl7/Mdwop2u477+\n",
       "iBiaXVg0AFitmETaLSjXZIHxfUA48IGkug0EcrsoqbKUwCxwtkiqfz/3ytRlKuaLw7L1Thsj0MM0\n",
       "AAdMQjEmMm/Nx7Kz4hwaWfLV5Cnj5MEqYykGbttsk3qZgKr5cDYR+3trv3bQaVD9pU4d7ioyxmxM\n",
       "jY6jhoWTBTL80ginpz2Xkx4H6XCnpFxKAXaBT/JQ1twtosH/qT6oM/qhm0LNWsnNQ3PWZvcDRwH0\n",
       "7qmWFgJoLRxh/q54qUdKGG+SE5aGHVt9f5k2l0izlC6Rr01VkWqhEPUr5To9fy0TfbT/a/HFXkdy\n",
       "ZQa70/BilqTHBX/UAcF1HFzcRJWcrEzqKTx5MtyfmR4mkT4TDvlT/kJYjB3uutQCvjS6NTG3dB2O\n",
       "51+SCZ8cddbgzSi3ZgOan5Pndzz8hk3dRGe9CYEAAAZSQZuvSeEPJlMCGf/+nhADXCRBm38QAl3y\n",
       "VAbvbGRDpuFBHgOFWuiWllzwAmlD5glBQ2/VZtEGzq2VchMacSLKDluqa/FstGkq5jI+Mhf7jluw\n",
       "cvsXofS/R1NnjOP4IrQDGtIZ9/+lg21DayPGlGQAoGKlamjtMcov0krV2UETkMzQ+ltUU5UjYsv+\n",
       "egyRI+J/rSwf7Vs08GrA5HLnqnG5KHKIGM4sBFb77k3QC2xus3maj9FB09CJ9G9zlyG60XIV9JKn\n",
       "7vylggmvSibo0kadfEfmZFjalbGa2Go0DMpK/OxXAAYPksb4aqjl7jEcpXHe0doO8nNReH1Z/F6x\n",
       "W6VfB9wf/8DPft84cVCSzU0IS+tka/owS76Gj6PCKon+jfDq6LjBKWReDmJX0CBd2pvol3/yluGs\n",
       "vnqtrIt2e15m0X+n5p19SAcpjNlGgPhLIWGudx/NlzK8CyScbHusP9wViUA1UjwGc7EZ3Wt8utvE\n",
       "C1CUxKywN0PHWCT6FzA/F1I2XuwT/RqKZByTkEiqHq0kbw1QcfbHZBIc+Etv6pq7S3kWg0Ka2E9k\n",
       "/AgMsuNJdk0B5N/m+qslpqu1GxeGd5uVBd4Q/cXpqJxEYxtZfYxKIKOfO0fiDNdxEWJ0/Wktb1vX\n",
       "51X5DIRTCcKQ4cT3Gpnr6S1SgG96E7SfVJTOXTYSy0qOBFWe28jTo4Y4DUguqYa2Pc9EmpRZDJBf\n",
       "3TI3BuBYbhGp7NP0rS95pLf3TkFd2GHEJ+RmQLwpZOACOFbhfEcbSNw9XkUxCuwZD4A0EIA0N/8a\n",
       "Mo5VVeYcOOdT0VF96SqtPKB09sP73XsdX9s38kkLX3/+hJRK3fkMcxg3Lj/4m6aHq8rR6e/Iu/tY\n",
       "nAtfIYKaJaDJ4UALn4DgaqVtByX3ibAaMS7hXTuhn8O0bcyJROm0PpuHRkg0/IStgwcd3f333Nwd\n",
       "29/b58MhstOuFfzdJkavSBzyiM2ytArfjmF//NQwrV3uO7Ervej0RYXp43TM9dawOf4uAXcC3NnE\n",
       "n9OxI8LyqsLS41SowheklKICVvKF4IRfbcmKWGjpwAoJGdnK8pDwhJWOdK8hHq/ti2avjTac6mrw\n",
       "WXHMv8K+2LB9xJNS2C5s2+njYRvHlD+fdHtKYwruRPLw9gCCRvkw7GdPkV8vQhTgqXNRoR9FhA52\n",
       "wdG4ClKljPWr3erG7TtZMlhrHV/fXrsTnLR+0Mnm3FdTroTUdp7m4eyTrIe/ZpwUbHd83O5V6Z3F\n",
       "/mLQl0LKbuN+NZ5FuNJPTWibXaPK1EWpyKdm3z2lyi3ySXHLbF7OUgzWTxT7uXLuu6FimhB2LHbJ\n",
       "3hOAUtKutS3p32GXzrgofwKjS5i5FAQMOOFJPwctUPmVG/Y0PB5+MY2UNX0z2CQHivrV0MIHZdxo\n",
       "Sd5R1ByMuqu4W5boQyY4qGi+UYxzyY5We8bAri7UtIQOacc2JR0W0fiWs2tOLPunzH3EVWNxdb5K\n",
       "r8xfdakktgJXVOD6IHgM4hJSKR9087QNPZu5m+fPb6vsS+eJgCDdXKUmHMFdRLjPWDVM984wTCwr\n",
       "s7u2e7d5mtr720gvUhuOWc14Txq3X55/lXJJVG2mMy2lh3qSGdkKhBdrVc1KFGKbwXibLiQKFVH1\n",
       "kDZdZd0OKMoMW4ITEo1amvMXnIXmxaE5DJkzpHIORqStN64fHcVeep30wNR6EHK1BhkdYfkgFgI0\n",
       "V5gbZOtyyC7ovT9xeImS/R15ZAgnxMEq39bivvDGRHkLnx7d7J0VZP8x7ghNNoXD5kf8Nzhf/SOP\n",
       "RVm07O+G2Qy8LmgHnLGVtisuujXt+6pBqr3sFfYhZUzFs0UyMBbfi7CrKd5RPMoAEqkeIeNJhVwA\n",
       "H935jbHOQVt0AFHpedZ40+5tS1TKmxY96B7zvnVISUP5qfiIv6dgoyFl7G+dmBnlrAZnhAsoyLHq\n",
       "MnkEY8+xjMpcBMr30gNcTTl4iRTI9r7AGuIDmH0rrbjsTaFv6CxNPe0lyokYYnLupnxJtc6uIXpY\n",
       "BCJpPqq5uNKyO9aEQg8EORPvQ46DFzSAdRwe6j5I/n4Ad25+GKeRu7wmU60Op4N7634mVSzY+8aT\n",
       "7opdCeIzBStka2i+cHfmshk2EOk6j2Ycr6HigOGcCoulgDurCAHDxtBsHcvJoawMNKL6DL0/3QAA\n",
       "BSVBm9FJ4Q8mUwURPCv//jhAHA6PaADvYNqTqac1hv/gKeP8OJICp+EouGCwjRU92/gXnrxMptkF\n",
       "TGlEe5PYX97mSt0VNMUHKm8NF8IgELhxtchvV10x3IKyrUMZPkWBCLmgXsMLqXTWhSdUk6CCBfNq\n",
       "ng2eVCxLCi8pq0PuGRY/naytpkbk0jHDgASxSTwrn26lvvBmXBxrJH/nxpLk97NTWrECIHI6A1TS\n",
       "NQexnL0vlPdbDUq8/fMTo4SzfOcTAcfksRDdecs9USY/88zCt9qpr9sSX8j+sX02RaxFkarIdPYJ\n",
       "Zt74QaN6g/lTjGUmBoAEEKLvPy80EmM6uJzumFVzmgOFbmRmNU9fUENqdnYYJc2jARxsi+2jznOI\n",
       "5TzDC+u4Ya5fjB4USF/AXXOb9nOpkDySfLQZvpy8swloDBeg22NYbcV3FchPV8HfmXgzwB+fhv6d\n",
       "JvKGMbVcPseMM2kgaxR+uL30q56asskshBxJ3zrZygWyIfyL7YmQ/1wbeatExCSq4Iv9+YxrO67o\n",
       "41mbchttQMGBU80vd7AYb8vac15okzLeHfMW/rDe1qE97TOfHn2asNdSg2xojLcZhUP3MDWG2WK4\n",
       "+gSuOEitZr0wPO1A9KnEWKcnY2aY02u/yOJhlNbZ2u/hKqVBVrin+7bMz43U+anjuimFFyp/1oPB\n",
       "wBxa6g5TFLkDRPSAsVdqumuqI/4/nFc75ePEtVCAWI7mbEKNkpIfcElcqS+dGuuB+KwZjCr8lHU2\n",
       "oLl0NwT7Ak2gCzFu5+7qsFKBPUX6t2Mb951a0KTcZf+355CI9NsOMY0bYiEdR9D9WizI6hQu9cIB\n",
       "alJTKqvByA1DuHP1nsUa98rj4+orlh8r2GsPuEcyM5tCK1ni78iuxqgXC4pRaKbwmHZKKW1Z4DR8\n",
       "1S9f6+UttZWa0Q8BDEGQvyE9JmAige7jWvS10XkzNWH+oi2MYG9g4cU0+fRCjFe3x3x7mjA1WK2O\n",
       "yen4uyL7N9aKVI5WeuEIzJmogEAqEux4NyMsyjyBNDJd2z+pEMCrpCyo5avVJI3fwl/lhQ0ZBxhL\n",
       "VWZlwMPn4/oghBjGcKKSrpnIwAuZV9lUJo+Nun24VkGGJqnIaJgUPg2xvfwZaTAR9EoIZ+/IfY9o\n",
       "0n6/6qcNHSHdEnHqhnI2xTeKpYB7ksgqADgSFXCw/4R3wGKfNDQX4qhYqDda6SLCiqfoo/ZfHZua\n",
       "JXolZolaXvndZan9fn7JB0Hfh6x5gq/pizWKjAtKfFY6E/qrQfKIEIfu1hE/sfvDfHDAPHD1jyCR\n",
       "dKL4f7A5bnkN3JaV1a8DzVS+ySfhevO9TTgkYGPLlYAqhXgiCD2aUY4Dwo1nW8DcDmNWO1yjFuMg\n",
       "duRgCtUzzdQjIuZKqMIb+ynAdJTpZiRwsqSTY306vxcaCR+05BTgTF93T311pzxR2M9w4euVHxGR\n",
       "xHtdiyK4dFUJxXUs8iBBU/RVq0LT0t+N2JR8sn3UHSq3h/R7r0tQH+ymizdgh/rwCUg8ljOEf+S7\n",
       "rkK0bQPGkbUzN2ozBULPIa97exiB5/hW5WtzlANJqtf8xiwIFEmgDYU3RxrVcJWtgHH/vRjzQC8y\n",
       "QLpodTR2bXkZ4zn2FCZX8/io63+sHQG8nByyp/Nqylcj+WSlzjB48NpXjBr4eA98tSVRXm8YPzwR\n",
       "XPBQnDWS/B5eiMplCvTY+X7RuE+ZsY0/F8vpXG0uiLG6WnGfbCLidZw1ph61yM39v+KuWsaCS/9c\n",
       "yXqM3LkEInAAAAHMAZ/wakK/AVmrZ+LMKgAJjGIS8IWI3QvQeCUhQ4ePUy0vJY9igcoy61qtOyKW\n",
       "HMwFT7NmCuLRXaArL65qCrTxFc4+VToaZxDuu7sCb0MSCSb/uRNwD8HFquUks999ExZBqSGCwsjY\n",
       "dbMHFLXFV317hM4mK3UWHLThUMFSSzOd15CF+74yPQcFyFvJA/BRQCLc1C2D+2RTFA8iAngbLXp1\n",
       "+X9bzdrqv/5tqcbYAbvjqkuuv6zsRALE2+a55NtHCcQ9oRlqWysic0Ycmz/0oN9RvURkX8vDGmWj\n",
       "ouEFZJeO7rxMKRMkCLw2rWrIg1Ysj8RrRFy6YwkL1ADSPLdPmqJ/vzuUlJV4cW4/5mYiP+mkzqL3\n",
       "i6nCiWLk58BXa7mDvd9WakqjUyb0k1fO2g0pgUE530ynyYSJPaXAET+hx4U8shvePJdGt+Z5sOVy\n",
       "1iAEKUTdq6cJ3Ty0PHEyGnSUdqNIWL/UmNJRNnnXccfuhhgalieXMfrnYwbNMB53sxpMz62RGIWy\n",
       "V70KNVKtubtQ2SNiuqYtELwlHCAOuyIR9dEbL539O3tkshejPE+CmipF47UIItlgfDZQhJT/mPEy\n",
       "IeFeVTMWicJFZoG1mJKQkAAABVptb292AAAAbG12aGQAAAAAAAAAAAAAAAAAAAPoAAAH0AABAAAB\n",
       "AAAAAAAAAAAAAAAAAQAAAAAAAAAAAAAAAAAAAAEAAAAAAAAAAAAAAAAAAEAAAAAAAAAAAAAAAAAA\n",
       "AAAAAAAAAAAAAAAAAAAAAAACAAAEhHRyYWsAAABcdGtoZAAAAAMAAAAAAAAAAAAAAAEAAAAAAAAH\n",
       "0AAAAAAAAAAAAAAAAAAAAAAAAQAAAAAAAAAAAAAAAAAAAAEAAAAAAAAAAAAAAAAAAEAAAAABsAAA\n",
       "ASAAAAAAACRlZHRzAAAAHGVsc3QAAAAAAAAAAQAAB9AAAAQAAAEAAAAAA/xtZGlhAAAAIG1kaGQA\n",
       "AAAAAAAAAAAAAAAAADIAAABkAFXEAAAAAAAtaGRscgAAAAAAAAAAdmlkZQAAAAAAAAAAAAAAAFZp\n",
       "ZGVvSGFuZGxlcgAAAAOnbWluZgAAABR2bWhkAAAAAQAAAAAAAAAAAAAAJGRpbmYAAAAcZHJlZgAA\n",
       "AAAAAAABAAAADHVybCAAAAABAAADZ3N0YmwAAAC3c3RzZAAAAAAAAAABAAAAp2F2YzEAAAAAAAAA\n",
       "AQAAAAAAAAAAAAAAAAAAAAABsAEgAEgAAABIAAAAAAAAAAEAAAAAAAAAAAAAAAAAAAAAAAAAAAAA\n",
       "AAAAAAAAAAAAAAAY//8AAAA1YXZjQwFkABX/4QAYZ2QAFazZQbCWhAAAAwAEAAADAMg8WLZYAQAG\n",
       "aOvjyyLA/fj4AAAAABx1dWlka2hA8l8kT8W6OaUbzwMj8wAAAAAAAAAYc3R0cwAAAAAAAAABAAAA\n",
       "MgAAAgAAAAAUc3RzcwAAAAAAAAABAAAAAQAAAXBjdHRzAAAAAAAAACwAAAABAAAEAAAAAAEAAAoA\n",
       "AAAAAQAABAAAAAABAAAAAAAAAAEAAAIAAAAAAQAABgAAAAABAAACAAAAAAEAAAQAAAAAAQAACgAA\n",
       "AAABAAAEAAAAAAEAAAAAAAAAAQAAAgAAAAABAAAGAAAAAAEAAAIAAAAAAQAABgAAAAABAAACAAAA\n",
       "AAEAAAgAAAAAAgAAAgAAAAAEAAAEAAAAAAEAAAYAAAAAAQAAAgAAAAABAAAKAAAAAAEAAAQAAAAA\n",
       "AQAAAAAAAAABAAACAAAAAAEAAAgAAAAAAgAAAgAAAAABAAAKAAAAAAEAAAQAAAAAAQAAAAAAAAAB\n",
       "AAACAAAAAAEAAAYAAAAAAQAAAgAAAAABAAAEAAAAAAEAAAoAAAAAAQAABAAAAAABAAAAAAAAAAEA\n",
       "AAIAAAAAAQAABAAAAAABAAAGAAAAAAEAAAIAAAAAAgAABAAAAAABAAAGAAAAAAEAAAIAAAAAHHN0\n",
       "c2MAAAAAAAAAAQAAAAEAAAAyAAAAAQAAANxzdHN6AAAAAAAAAAAAAAAyAAAdnQAACOkAAAS3AAAB\n",
       "wwAAA7sAAAicAAADkAAABYwAAAoeAAAFCgAAAzgAAANAAAAGAQAAAsUAAAihAAADJwAACJAAAARQ\n",
       "AAAC/wAABSgAAAaGAAAHTAAAB1cAAAl/AAACNwAAAVIAAAKYAAAAggAAA4oAAAqLAAAELAAAA2IA\n",
       "AAmPAAAFRAAAAzwAAAOOAAAGNwAAAz0AAAWUAAAK+wAABOIAAANfAAADSQAABIYAAAbpAAADMQAA\n",
       "BhMAAAZWAAAFKQAAAdAAAAAUc3RjbwAAAAAAAAABAAAAMAAAAGJ1ZHRhAAAAWm1ldGEAAAAAAAAA\n",
       "IWhkbHIAAAAAAAAAAG1kaXJhcHBsAAAAAAAAAAAAAAAALWlsc3QAAAAlqXRvbwAAAB1kYXRhAAAA\n",
       "AQAAAABMYXZmNTguNDUuMTAw\n",
       "\">\n",
       "  Your browser does not support the video tag.\n",
       "</video>"
      ],
      "text/plain": [
       "<IPython.core.display.HTML object>"
      ]
     },
     "execution_count": 47,
     "metadata": {},
     "output_type": "execute_result"
    }
   ],
   "source": [
    "# Show the animation\n",
    "HTML(ani.to_html5_video())"
   ]
  },
  {
   "cell_type": "code",
   "execution_count": 39,
   "metadata": {
    "scrolled": false,
    "slideshow": {
     "slide_type": "skip"
    }
   },
   "outputs": [],
   "source": [
    "# Save the animation\n",
    "ani.save('VibrationModes.mp4')"
   ]
  },
  {
   "cell_type": "markdown",
   "metadata": {
    "slideshow": {
     "slide_type": "skip"
    }
   },
   "source": [
    "The animation coded above is saved under `VibrationModes.mp4` and uploaded onto Quercus.\n",
    "Compare it with the video called `masses_for_04_modes.mp4` of the previous chapter!\n",
    "See also fig. 3 (King fig. 6.2) for a picture of the first four modes and fig. 4 (King fig. 6.1) for a representation of the time evolution of mode number 2."
   ]
  },
  {
   "cell_type": "markdown",
   "metadata": {
    "slideshow": {
     "slide_type": "skip"
    }
   },
   "source": [
    "![Fig. 3: King 6.2](King62.png)"
   ]
  },
  {
   "cell_type": "markdown",
   "metadata": {
    "slideshow": {
     "slide_type": "skip"
    }
   },
   "source": [
    "![Fig. 4: King 6.1](King61.png)"
   ]
  },
  {
   "cell_type": "markdown",
   "metadata": {
    "slideshow": {
     "slide_type": "skip"
    }
   },
   "source": [
    "Here are a few important remarks that you will also find on the captions of King's figures.\n",
    "\n",
    "* Those points where the string doesn't move are called **nodes**.\n",
    "* Those points in-between where the string moves with the largest amplitude are called **antinodes**. I might call them bellies. It is *not* standard practice to do so.\n",
    "* The mode with no nodes ($n = 1$ here) is called the **fundamental** (mode), or **first harmonic** (but really, \"fundamental\" is more standard). It is originally a musical term, I guess, as in, it corresponds to the gravest sound an instrument of piece of instrument can produce. The one with one node ($n = 2$) is called the **second harmonic**, and so on.\n",
    "* The $n^{th}$ harmonic has $n-1$ nodes, and $n$ antinodes.\n",
    "* $k_n$ is called the **wavenumber** of the $n^{th}$ mode, $$\\boxed{\\lambda_n = \\frac{2\\pi}{k_n}} = \\frac{2L}n $$ is its **wavelength**. The units of $k_n$ are rad.m$^{-1}$ and those of $\\lambda_n$ are m (metres)."
   ]
  },
  {
   "cell_type": "markdown",
   "metadata": {
    "slideshow": {
     "slide_type": "skip"
    }
   },
   "source": [
    "***\n",
    "\n",
    "**Worked example: King p. 143. Also recommended: worked example p. 144.**\n",
    "\n",
    "***"
   ]
  },
  {
   "cell_type": "markdown",
   "metadata": {
    "slideshow": {
     "slide_type": "skip"
    }
   },
   "source": [
    "# Standing Waves as Normal Modes of a Vibrating String\n",
    "\n",
    "[*Book: § 6.4*]"
   ]
  },
  {
   "cell_type": "markdown",
   "metadata": {
    "slideshow": {
     "slide_type": "skip"
    }
   },
   "source": [
    "## Results from Fourier Series"
   ]
  },
  {
   "cell_type": "markdown",
   "metadata": {
    "slideshow": {
     "slide_type": "skip"
    }
   },
   "source": [
    "We just saw that if $y_n$ and $y_m$ were modes of vibrations of the string, then a linear combination of those two was a solution. But is the reverse true? Namely, if $y$ is a solution, can it be written as $\\sum_{n=1}^{\\infty} A_n y_n$? After all, maybe we have only covered the set of solutions which were separable, and we are missing plenty of elementary solutions that cannot be written as $y_n(t, x) = f_n(x)h_n(t)$."
   ]
  },
  {
   "cell_type": "markdown",
   "metadata": {
    "slideshow": {
     "slide_type": "skip"
    }
   },
   "source": [
    "The answer is yes, the decomposition exists and is unique, but I will not prove it because you saw it in Calculus II with Fourier series. If (and only if) you would like a refresher, the video below might help (also at https://youtu.be/spUNpyF58BY; I did not watch this particular video, but everything else I have seen on this channel was pretty good)."
   ]
  },
  {
   "cell_type": "code",
   "execution_count": 40,
   "metadata": {
    "slideshow": {
     "slide_type": "skip"
    }
   },
   "outputs": [
    {
     "data": {
      "image/jpeg": "[encoded data removed]",
      "text/html": [
       "\n",
       "        <iframe\n",
       "            width=\"560\"\n",
       "            height=\"315\"\n",
       "            src=\"https://www.youtube.com/embed/spUNpyF58BY\"\n",
       "            frameborder=\"0\"\n",
       "            allowfullscreen\n",
       "        ></iframe>\n",
       "        "
      ],
      "text/plain": [
       "<IPython.lib.display.YouTubeVideo at 0x7fe7a6e228b0>"
      ]
     },
     "execution_count": 40,
     "metadata": {},
     "output_type": "execute_result"
    }
   ],
   "source": [
    "YouTubeVideo('spUNpyF58BY', width=560, height=315)"
   ]
  },
  {
   "cell_type": "markdown",
   "metadata": {
    "slideshow": {
     "slide_type": "skip"
    }
   },
   "source": [
    "Just as the existence and unicity of the decomposition into eigenmodes for a coupled system of oscillations was a gift from a linear algebra class, the existence and unicity of the decomposition of any solution into standing wave modes is a gift from Fourier analysis."
   ]
  },
  {
   "cell_type": "markdown",
   "metadata": {
    "slideshow": {
     "slide_type": "subslide"
    }
   },
   "source": [
    "Namely, the main result to remember from a lecture on Fourier series is that if a function $s(x)$ of the real variable $x$ is continuous and periodic, with period $L$, then $\\exists \\{A_n, B_n\\}_{n\\in \\mathbb N^*}$ such that \n",
    "$$ s(x) = \\frac{A_0}2 + \\sum_{n=1}^\\infty A_n \\cos(k_n x) + B_n \\sin(k_n x). $$"
   ]
  },
  {
   "cell_type": "markdown",
   "metadata": {
    "slideshow": {
     "slide_type": "-"
    }
   },
   "source": [
    "And if the function is odd, i.e., $s(x) = -s(-x)$, then it is even simpler:\n",
    "$$ s(x) = \\sum_{n=1}^\\infty B_n \\sin(k_n x). $$"
   ]
  },
  {
   "cell_type": "markdown",
   "metadata": {
    "slideshow": {
     "slide_type": "skip"
    }
   },
   "source": [
    "You may object that Fourier series apply to periodic functions, i.e., functions that exist on $\\mathbb R$, not $[0, L]$.\n",
    "The connection is that we can imagine our solution on $[0, L]$ as a \"cropped\" sub-set of a function that would be periodic.\n",
    "In this case, the actual solution and the corresponding infinitely long and periodic function share the same Fourier coefficients."
   ]
  },
  {
   "cell_type": "markdown",
   "metadata": {
    "slideshow": {
     "slide_type": "skip"
    }
   },
   "source": [
    "Let me plot a sketch of what I mean by \"actual solution\" (fig. 5) and \"infinitely long and periodic function\" (fig. 6)."
   ]
  },
  {
   "cell_type": "code",
   "execution_count": 41,
   "metadata": {
    "slideshow": {
     "slide_type": "skip"
    }
   },
   "outputs": [],
   "source": [
    "# Definition of the function\n",
    "# Let's draw a triangular shape, with the top at a point where the string is plucked\n",
    "pluck_point = 0.25*L  # in [m]\n",
    "a = 0.01  # how high the string is plucked [m]\n",
    "s = a * x / pluck_point  # the first part of the string\n",
    "s[x > pluck_point] = a * (L - x[x > pluck_point]) / (L-pluck_point)  # the 2nd part\n",
    "\n",
    "plt.figure(figsize=(6, 3))\n",
    "plt.plot(x/L, s/a, 'r')\n",
    "plt.grid()\n",
    "plt.xlabel('$x/L$', fontsize=ftsz)\n",
    "plt.ylabel('$s/a$', fontsize=ftsz)\n",
    "plt.axvline(pluck_point/L, color='k', linestyle='--')\n",
    "plt.title('The plucked string on $[0, L]$', fontsize=ftsz)\n",
    "plt.ylim([0., 1.2])\n",
    "plt.autoscale(enable=True, axis='x', tight=True)\n",
    "plt.savefig('PluckedString.png', dpi=100)\n",
    "plt.close()"
   ]
  },
  {
   "cell_type": "markdown",
   "metadata": {
    "slideshow": {
     "slide_type": "subslide"
    }
   },
   "source": [
    "![Fig.5: Plucked string](PluckedString.png)"
   ]
  },
  {
   "cell_type": "code",
   "execution_count": 42,
   "metadata": {
    "slideshow": {
     "slide_type": "skip"
    }
   },
   "outputs": [],
   "source": [
    "x_extend = np.linspace(-1.5*L, 2.5*L, 512)  # x extended beyoind [0, L]\n",
    "s_extend = a * x_extend / pluck_point  # the first part of the string\n",
    "s_extend[x_extend > pluck_point] = (L - x_extend[x_extend > pluck_point]\n",
    "                                   ) * a / (L-pluck_point)\n",
    "s_extend[x_extend > 2*L-pluck_point] = (x_extend[x_extend > 2*L-pluck_point]/pluck_point\n",
    "                                        - 2*L/pluck_point) * a\n",
    "s_extend[x_extend > 2*L+pluck_point] = (L - x_extend[x_extend > 2*L+pluck_point]\n",
    "                                       )  * a / (L-pluck_point) + 2*a*L/(L-pluck_point)\n",
    "s_extend[x_extend < -pluck_point] = a * (L - x_extend[x_extend < -pluck_point]\n",
    "                                        ) / (L-pluck_point) - 2*a*L/(L-pluck_point)\n",
    "\n",
    "plt.figure(figsize=(12, 3))\n",
    "plt.plot(x_extend/L, s_extend/a, 'b--', label='$s(x)$ extended')\n",
    "plt.plot(x/L, s/a, 'r', label='$s(x)$')\n",
    "plt.grid()\n",
    "plt.xlabel('$x/L$', fontsize=ftsz)\n",
    "plt.ylabel('$s/a$', fontsize=ftsz)\n",
    "plt.ylim([-1.2, 1.2])\n",
    "plt.axhline(0., color='k')\n",
    "plt.axvline(pluck_point/L, color='k', linestyle='--')\n",
    "plt.axvline(0., color='k')\n",
    "plt.axvline(1., color='k')\n",
    "plt.title('Equivalent plucked string on an extended interval', fontsize=ftsz)\n",
    "plt.legend()\n",
    "plt.autoscale(enable=True, axis='x', tight=True)\n",
    "plt.savefig('PeriodicPlucked.png', dpi=100)\n",
    "plt.close()"
   ]
  },
  {
   "cell_type": "markdown",
   "metadata": {
    "slideshow": {
     "slide_type": "subslide"
    }
   },
   "source": [
    "![Fig. 6: The plucked string, if it was part of an infinitely long and periodic function.](PeriodicPlucked.png)"
   ]
  },
  {
   "cell_type": "markdown",
   "metadata": {
    "slideshow": {
     "slide_type": "skip"
    }
   },
   "source": [
    "While the plucked string (red, solid line on fig. 6) is not periodic, the blue, dashed line is, with period $2L$.\n",
    "Morevoer, it is odd, and can be decomposed as a Fourier series.\n",
    "In the interval $[0, L]$, the two are indistinguishable, and the plucked string shares the extended string's expression."
   ]
  },
  {
   "cell_type": "markdown",
   "metadata": {
    "slideshow": {
     "slide_type": "skip"
    }
   },
   "source": [
    "Mathematically speaking, the rest of this section is basically an application of the Fourier series theory to string vibrations."
   ]
  },
  {
   "cell_type": "markdown",
   "metadata": {
    "slideshow": {
     "slide_type": "skip"
    }
   },
   "source": [
    "## Orthogonality of Standing Wave Modes"
   ]
  },
  {
   "cell_type": "markdown",
   "metadata": {
    "slideshow": {
     "slide_type": "skip"
    }
   },
   "source": [
    "Recall that I talked about some of this in an earlier video (https://play.library.utoronto.ca/9c234e8a3716da640f253807a8973a28). Watching it remains optional.\n",
    "\n",
    "In the last chapter, the linked masses resulted in a symmetric matrix to diagonalize, in which case the eigenvectors were orthogonal to each other.\n",
    "Something similar is happening here: the string is homogeneous ($\\mu$ is a constant), and the normal modes are orthogonal to each other.\n",
    "The \"dot product\" however needs to be redefined, because the vector space has changed.\n",
    "In the chapter on coupled oscillators, the inner product of the vector space was the good ol' dot product.\n",
    "Now, the inner product for two stress-free functions [^3] $f$ and $g$ is:\n",
    "$$f\\odot g = \\frac2L \\int_0^L f(x)g(x)\\di x.\\hspace{5cm}(3)$$\n",
    "\n",
    "[^3]: the physicist's definition of a \"stress-free function\" is a function that won't cause any problem when deriving, integrating or else. The kind of chill function we like to not worry about. Obviously, this chapter is not NIST approved."
   ]
  },
  {
   "cell_type": "markdown",
   "metadata": {
    "slideshow": {
     "slide_type": "skip"
    }
   },
   "source": [
    "The $2/L$ pre-factor is optional and is used to ensure that the functions are orthonormal with respect to the inner product. Indeed, here is a claim:\n",
    "$$ \\boxed{\\sin(k_n x) \\odot \\sin(k_m x) = \\delta_{mn}}.$$\n",
    "Recall that the Kronecker delta is $\\delta_{mn} = 1$ if $m=n$, and zero otherwise.\n",
    "That is, **modes are orthogonal to each other**."
   ]
  },
  {
   "cell_type": "markdown",
   "metadata": {
    "slideshow": {
     "slide_type": "skip"
    }
   },
   "source": [
    "*Note: Similarly,* $\\cos(k_n x) \\odot \\cos(k_m x) = \\delta_{mn}$ and $\\cos(k_n x) \\odot \\sin(k_m x) = \\delta_{mn}$. *Yes, the last one is always zero, even if* $m = n$ *, but the inner product has to be redefined as*\n",
    "$$f\\odot g = \\frac1L \\int_{-L}^L f(x)g(x)\\di x,$$\n",
    "*and the string position has to be artificially extended into the negative positions range. This inner product actually gives the same result for the former inner product, but the first definition uses parity properties of $\\sin$ and $\\cos$ and is simple enough for our purposes. As far as I can tell though, we won't be using these other two relationships with the boundary conditions of strings attached to walls. We would if the origin of the $x$-axis was in the middle of the two walls, or if we had other boundary conditions. Therefore, it is not completely usueless to know that these relationships exist.*"
   ]
  },
  {
   "cell_type": "markdown",
   "metadata": {
    "slideshow": {
     "slide_type": "skip"
    }
   },
   "source": [
    "***\n",
    "\n",
    "*While not difficult, and even though it resembles a result we have seen earlier, I skipped the proof in class. Here it is, FYI. I am also providing a graphic example below, where you should see that the areas of $\\sin(k_n x)\\sin(k_m x)$ above the zero line compensate exactly those under the zero line, yielding a zero value (unless $n=m$ of course). Don't worry about remembering or even understanding the mathematical derivation.*\n",
    "\n",
    "Recall that \n",
    "$$\\cos(a\\pm b) = \\cos a \\cos b \\mp \\sin a \\sin b.$$\n",
    "\n",
    "Sum those two and you get:\n",
    "$$ 2\\cos a\\cos b = \\cos(a-b) + \\cos(a+b). $$\n",
    "Subtract them and you obtain\n",
    "$$ 2\\sin a\\sin b = \\cos(a-b) - \\cos(a+b). $$\n",
    "\n",
    "* $m\\neq n$: for $a = n\\pi x/L$ and $b = m\\pi x/L$\n",
    "\n",
    "\\begin{align*}\n",
    "    \\sin a \\odot \\sin b & = \\frac{1}{L} \\int_0^L \\left(\\cos\\left(\\frac{(n-m) \\pi x}{L}\\right) +  \\cos\\left(\\frac{(n+m)\\pi x}{L}\\right) \\right) \\di x \\\\\n",
    "                        & = \\frac{1}{L} \\left[\\frac{L}{\\pi(n-m)}\\sin\\left(\\frac{(n-m) \\pi x}{L}\\right) + \\frac{L}{\\pi(n+m)} \\sin\\left(\\frac{(n+m)\\pi x}{L}\\right) \\right]_0^L \\\\\n",
    "                        & = 0 + 0 = 0 \\quad\\textrm{if}\\quad m \\neq n.\n",
    "\\end{align*}\n",
    "\n",
    "* $m=n$ on the other hand, we need to go back to $2\\sin a\\sin b = \\cos(a-b) - \\cos(a+b)$, which, if $a = b$, becomes $2\\sin^2(2a) = 1 - \\cos(2a)$. \n",
    "Of the two integrals that are to be computed, $\\int_0^L \\cos(2n\\pi x/L) \\di x = 0$ but $\\int_0^L \\di x = L$, and therefore,\n",
    "$$\\sin\\left(\\frac{n\\pi x}L\\right) \\odot \\sin\\left(\\frac{n\\pi x}L\\right) = \\frac{2}{L}\\frac{L}2 = 1. $$\n",
    "\n",
    "Very similar derivations exist for $\\cos(k_n x) \\odot \\cos(k_m x) = \\delta_{mn}$ and $\\cos(k_n x) \\odot \\sin(k_m x) = 0$.\n",
    "\n",
    "***"
   ]
  },
  {
   "cell_type": "code",
   "execution_count": 43,
   "metadata": {
    "slideshow": {
     "slide_type": "skip"
    }
   },
   "outputs": [],
   "source": [
    "def multsincos(n, m, first, second):\n",
    "    \"\"\" a graphic illustration of what happens when two sines and/or cosines\n",
    "    are multiplied \n",
    "    IN: n, m are strictly positive integer modes\n",
    "    first, second are both 'sin' or 'cos' \"\"\"\n",
    "    def fct(nm, xloc, choice):\n",
    "        if choice == 'sin':\n",
    "            return np.sin(nm*np.pi*xloc)\n",
    "        elif choice == 'cos':\n",
    "            return np.cos(nm*np.pi*xloc)\n",
    "    \n",
    "    if first != second:\n",
    "        xmin = -1.\n",
    "    else:\n",
    "        xmin = 0.\n",
    "    \n",
    "    x = np.linspace(xmin, 1, 256)  # use L=1 m for simplicity\n",
    "        \n",
    "    fg, ax = plt.subplots(2, 1, dpi=100, sharex=True)\n",
    "    ftsz = 13  # font size\n",
    "    \n",
    "    ax[0].plot(x, fct(n, x, first), label='{0}$({1} \\pi x/L)$'.format(first, n))\n",
    "    ax[0].plot(x, fct(m, x, second), '--', label='{0}$({1}\\pi x/L)$'.format(second, m))\n",
    "    ax[0].axhline(0., color='k')\n",
    "    ax[0].axvline(0., color='k')\n",
    "    ax[0].set_xlim(xmin, 1)\n",
    "    ax[0].set_ylabel('$y$', fontsize=ftsz)\n",
    "    ax[0].legend()\n",
    "    ax[0].grid()\n",
    "    \n",
    "    ax[1].plot(x, fct(n, x, first)*fct(m, x, second),\n",
    "               label='{0}$(1\\pi x/L)${2}$({3} \\pi x/L)$'.format(first, n, second, m))\n",
    "    plt.fill_between(x , fct(n, x, first)*fct(m, x, second))\n",
    "    ax[1].axvline(0., color='k')\n",
    "    ax[1].axhline(0., color='k')\n",
    "    ax[1].set_xlabel('$x/L$', fontsize=ftsz)\n",
    "    ax[1].set_ylabel('$y$', fontsize=ftsz)\n",
    "    ax[1].legend()\n",
    "    ax[1].grid()\n",
    "    \n",
    "    fg.tight_layout()"
   ]
  },
  {
   "cell_type": "code",
   "execution_count": 44,
   "metadata": {
    "slideshow": {
     "slide_type": "skip"
    }
   },
   "outputs": [
    {
     "data": {
      "image/png": "[encoded data removed]",
      "text/plain": [
       "<Figure size 600x400 with 2 Axes>"
      ]
     },
     "metadata": {
      "needs_background": "light"
     },
     "output_type": "display_data"
    }
   ],
   "source": [
    "multsincos(1, 3, 'sin', 'sin')  # for pdf export"
   ]
  },
  {
   "cell_type": "code",
   "execution_count": 45,
   "metadata": {
    "slideshow": {
     "slide_type": "skip"
    }
   },
   "outputs": [],
   "source": [
    "from ipywidgets import interact, IntSlider"
   ]
  },
  {
   "cell_type": "code",
   "execution_count": 46,
   "metadata": {
    "slideshow": {
     "slide_type": "skip"
    }
   },
   "outputs": [
    {
     "data": {
      "application/vnd.jupyter.widget-view+json": {
       "model_id": "09e70452121c4e5597fa433012631144",
       "version_major": 2,
       "version_minor": 0
      },
      "text/plain": [
       "interactive(children=(IntSlider(value=1, description='n', max=5, min=1), IntSlider(value=2, description='m', m…"
      ]
     },
     "metadata": {},
     "output_type": "display_data"
    },
    {
     "data": {
      "text/plain": [
       "<function __main__.multsincos(n, m, first, second)>"
      ]
     },
     "execution_count": 46,
     "metadata": {},
     "output_type": "execute_result"
    }
   ],
   "source": [
    "interact(multsincos, n=IntSlider(min=1, max=5, value=1), m=IntSlider(min=1, max=5, value=2), first=['sin', 'cos'], second=['sin', 'cos'])"
   ]
  },
  {
   "cell_type": "markdown",
   "metadata": {
    "slideshow": {
     "slide_type": "skip"
    }
   },
   "source": [
    "Note that similarly to the last chapter, these results can be extended to strings that are non-homogeneous (i.e. $v$ depends on $x$, like a whip getting thinner away from the handle). A new inner product would need to be defined. \n",
    "This would be the equivalent of a matrix that is not symmetric in the previous chapter.\n",
    "These considerations are outside of what you need to know for this class."
   ]
  },
  {
   "cell_type": "markdown",
   "metadata": {
    "slideshow": {
     "slide_type": "skip"
    }
   },
   "source": [
    "## Initial Value Problems"
   ]
  },
  {
   "cell_type": "markdown",
   "metadata": {
    "slideshow": {
     "slide_type": "skip"
    }
   },
   "source": [
    "Like in previous chapters, while we know that the general form of the solution is in the form of eqn. $(2)$, finding the amplitudes $C_n$ and phases $\\phi_n$ remains to be computed for an IVP."
   ]
  },
  {
   "cell_type": "markdown",
   "metadata": {
    "slideshow": {
     "slide_type": "skip"
    }
   },
   "source": [
    "And like at the end of the previous chapter, the orthogonality condition will help us to solve this problem relatively easily."
   ]
  },
  {
   "cell_type": "markdown",
   "metadata": {
    "slideshow": {
     "slide_type": "skip"
    }
   },
   "source": [
    "First of all though, allow me to rewrite eqn. $(2)$ as\n",
    "$$\\boxed{y(t, x) = \\sum_{n = 1}^{\\infty} \\left[\\alpha_n \\cos(\\omega_n t) + \\beta_n \\sin(\\omega_n t)\\right]\\sin(k_n x)},\\hspace{4cm}(4)$$\n",
    "which is more convenient for IVPs."
   ]
  },
  {
   "cell_type": "markdown",
   "metadata": {
    "slideshow": {
     "slide_type": "skip"
    }
   },
   "source": [
    "Consider now an initial value problem\n",
    "$$ y(0, x) = P(x)\\andeq \\dot y(0, x) = V(x). $$"
   ]
  },
  {
   "cell_type": "markdown",
   "metadata": {
    "slideshow": {
     "slide_type": "skip"
    }
   },
   "source": [
    "We now have two equations,\n",
    "$$\\sum_{n = 1}^{\\infty} \\alpha_n\\sin(k_n x) = P(x) \\andeq \\sum_{n = 1}^{\\infty} \\omega_n\\beta_n\\sin(k_n x) = V(x).$$"
   ]
  },
  {
   "cell_type": "markdown",
   "metadata": {
    "slideshow": {
     "slide_type": "skip"
    }
   },
   "source": [
    "These could be seen as two equations with an infinite number of unknown each ($2\\times \\infty$ unknown total). But because these unknown multiply eigenfunctions that are all orthogonal to each other, we can use projections to turn it into a system with as many equations as there are unknown.\n",
    "For example,\n",
    "$$\\left[\\sum_{n = 1}^{\\infty} \\alpha_n\\sin(k_n x)\\right] \\odot \\sin(k_m x) = \\sum_{n = 1}^{\\infty} \\alpha_n\\left[\\sin(k_n x) \\odot \\sin(k_m x)\\right] = \\alpha_m.$$\n",
    "*Note: in the result above, I used that the $\\sin(k_n x)$ functions are orthonormal with respect to the inner product that I defined. Had I not added a $2/L$ pre-factor in my definition of the inner product (eqn. 3), I would have needed to multiply the right-most-hand-side of the equation above with $L/2$. This is what King sort of does in his book.*"
   ]
  },
  {
   "cell_type": "markdown",
   "metadata": {
    "slideshow": {
     "slide_type": "skip"
    }
   },
   "source": [
    "Therefore, \n",
    "$$ \\forall m\\in \\mathbb N^*, \\quad \\alpha_m = P(x) \\odot \\sin(k_m x) \\andeq \\beta_m = \\frac{1}{\\omega_m}V(x) \\odot \\sin(k_m x). $$"
   ]
  },
  {
   "cell_type": "markdown",
   "metadata": {
    "slideshow": {
     "slide_type": "skip"
    }
   },
   "source": [
    "We solved one problem but created a new one, which is to compute all the $P(x)\\odot \\sin(k_m x)$ and $V(x)\\odot \\sin(k_m x)$.\n",
    "But at least, there is a road map, which is to compute integrals.\n",
    "If the initial condition is simple enough, the integrals can be computed analytically (which we will do for a couple of examples), and if not, a computer can do it."
   ]
  },
  {
   "cell_type": "markdown",
   "metadata": {
    "slideshow": {
     "slide_type": "skip"
    }
   },
   "source": [
    "## Example: Initializing a Single Mode"
   ]
  },
  {
   "cell_type": "markdown",
   "metadata": {
    "slideshow": {
     "slide_type": "skip"
    }
   },
   "source": [
    "### Analytical Resolution\n",
    "\n",
    "Suppose we start with\n",
    "$$y(0, x) = P(x) = 4a\\sin\\left(\\frac{3\\pi x}{L}\\right) \\andeq \\dot y(0, x) = V(x) = 0,$$\n",
    "with $4a$ the initial amplitude of displacement (in m).\n",
    "Of course, the first things to notice is that $3\\pi/L = k_3$."
   ]
  },
  {
   "cell_type": "markdown",
   "metadata": {
    "slideshow": {
     "slide_type": "skip"
    }
   },
   "source": [
    "That $V(x) = 0$ means that $\\forall n\\in \\mathbb N^*$, $\\beta_n = 0$."
   ]
  },
  {
   "cell_type": "markdown",
   "metadata": {
    "slideshow": {
     "slide_type": "skip"
    }
   },
   "source": [
    "As for the $\\alpha_n$'s,\n",
    "\\begin{align*}\n",
    "    \\alpha_n & = P(x) \\odot \\sin(k_n x) \\\\\n",
    "             & = \\frac2L \\int_0^L P(x)\\sin(k_n x)\\di x \\\\\n",
    "             & = \\frac{8a}{L} \\int_0^L \\sin(k_3 x) \\sin(k_n x) \\di x \\\\\n",
    "             & = 4a \\delta_{3n}.\n",
    "\\end{align*}"
   ]
  },
  {
   "cell_type": "markdown",
   "metadata": {
    "slideshow": {
     "slide_type": "skip"
    }
   },
   "source": [
    "Therefore, the only frequency of oscillation is $\\omega_3 = \\frac{3\\pi }L\\sqrt{\\frac{T}{\\mu}}$ and the solution is \n",
    "$$y(t, x) = 4a\\cos\\left(\\frac{3\\pi t}{L}\\sqrt{\\frac{T}{\\mu}}\\right)\\sin\\left(\\frac{3\\pi x}{L}\\right) \n",
    "          = 4a\\cos\\left(\\omega_3 t\\right)\\sin\\left(k_3 x\\right),$$\n",
    "which is the only term that is left from eqn. (4)."
   ]
  },
  {
   "cell_type": "markdown",
   "metadata": {
    "slideshow": {
     "slide_type": "skip"
    }
   },
   "source": [
    "Note that the frequency was not explicitly present in the initial conditions, just the wave number.\n",
    "It is just like with the coupled pendulums: one mode, one frequency was selected by just initializing the masses positions with the right pattern (or *polarization*)."
   ]
  },
  {
   "cell_type": "markdown",
   "metadata": {
    "slideshow": {
     "slide_type": "skip"
    }
   },
   "source": [
    "A quick sanity check on the units: $T$ is in N, or kg.m.s$^{-2}$, and $\\mu$ is in kg.m$^{-1}$, therefore $\\sqrt{T/\\mu}$ is in m.s$^{-1}$ (which is good, because it is the phase speed), $\\sqrt{T/\\mu}/L$ is in s$^{-1}$ in SI base units, $3\\pi$ times the same is in rad.s$^{-1}$ (*not SI base units, but it is* $\\omega_3$ in rad.s$^{-1}$), and $\\omega_3 t$ is indeed dimensionless."
   ]
  },
  {
   "cell_type": "markdown",
   "metadata": {
    "slideshow": {
     "slide_type": "skip"
    }
   },
   "source": [
    "### Graphic Representation: Spectrum\n",
    "\n",
    "Then, there is the problem of the graphic representation of this solution.\n",
    "I could display an animation, as I did before, but while pedagogically useful, it is not the representation that compresses the information the most.\n",
    "After all, if the motion is harmonic, we don't need to display a moving string to know the time information, which is completely encapsulated in the number $\\omega_3$.\n",
    "The only other piece of information I need to know is the amplitude of the third harmonic, $4d$."
   ]
  },
  {
   "cell_type": "markdown",
   "metadata": {
    "slideshow": {
     "slide_type": "skip"
    }
   },
   "source": [
    "A solution is therefore to plot the amplitude as a function of frequency, and the plot is called a **spectrum** (see fig. 7)."
   ]
  },
  {
   "cell_type": "code",
   "execution_count": 52,
   "metadata": {
    "scrolled": false,
    "slideshow": {
     "slide_type": "skip"
    }
   },
   "outputs": [],
   "source": [
    "# Let's plot\n",
    "plt.figure()\n",
    "plt.plot([3]*2, [0, 4], 'o-', linewidth=5)\n",
    "plt.axis([0, 5.1, 0, 4.4])\n",
    "plt.xticks(range(1, 6), \n",
    "          ['$\\omega_{0:1d}$'.format(n) for n in range(1, 6)],\n",
    "          fontsize=ftsz)\n",
    "plt.xlabel('Vibration frequency ($\\omega_n = n\\pi v/L$)', fontsize=ftsz)\n",
    "plt.ylabel(r'Modal amplitude $\\alpha_n/a$', fontsize=ftsz)\n",
    "plt.grid()\n",
    "plt.savefig('Spectrum1mode.png', dpi=100)\n",
    "plt.close()"
   ]
  },
  {
   "cell_type": "markdown",
   "metadata": {
    "slideshow": {
     "slide_type": "subslide"
    }
   },
   "source": [
    "![Fig. 7: Spectrum when only one mode of amplitude $4a$ is present.](Spectrum1mode.png)"
   ]
  },
  {
   "cell_type": "markdown",
   "metadata": {
    "slideshow": {
     "slide_type": "skip"
    }
   },
   "source": [
    "Two remarks on spectra.\n",
    "\n",
    "* We did plot very similar graphs on the lecture on resonance, when we were plotting the amplitude (or dissipated power) as a function of frequency. And indeed, we do not have dissipation, meaning that we don't need to invoke forcing to describe sustained oscillations. If we introduced damping and forcing, we could plot spectra of the string vibrations under a certain periodic forcing as a function of frequency indeed, and it would look very similar.\n",
    "* You might remember from your linear algebra class that \"spectrum\" is also the name of the set of eigenvalues of a matrix. While a set is not a plot, there is a connection, because the plot will have all the frequencies on the $x$-axis, and because there is a connection between these frequencies, the eigenfrequencies of the previous chapter, and linear algebra."
   ]
  },
  {
   "cell_type": "markdown",
   "metadata": {
    "slideshow": {
     "slide_type": "skip"
    }
   },
   "source": [
    "***\n",
    "\n",
    "*End of 7 October lecture, beginning of 9 October lecture.*\n",
    "\n",
    "***"
   ]
  },
  {
   "cell_type": "markdown",
   "metadata": {
    "slideshow": {
     "slide_type": "slide"
    }
   },
   "source": [
    "## Example: Plucked String.\n",
    "\n",
    "*Note: this is King, worked example p. 155.*\n",
    "\n",
    "I recorded a demo about this (also at https://youtu.be/KjjZx5MP36s and https://play.library.utoronto.ca/75d36f7d33c34eb9206ce68f642f0891)."
   ]
  },
  {
   "cell_type": "code",
   "execution_count": 24,
   "metadata": {},
   "outputs": [
    {
     "data": {
      "image/jpeg": "[encoded data removed]",
      "text/html": [
       "\n",
       "        <iframe\n",
       "            width=\"560\"\n",
       "            height=\"315\"\n",
       "            src=\"https://www.youtube.com/embed/KjjZx5MP36s\"\n",
       "            frameborder=\"0\"\n",
       "            allowfullscreen\n",
       "        ></iframe>\n",
       "        "
      ],
      "text/plain": [
       "<IPython.lib.display.YouTubeVideo at 0x7fe8bd15fb20>"
      ]
     },
     "execution_count": 24,
     "metadata": {},
     "output_type": "execute_result"
    }
   ],
   "source": [
    "YouTubeVideo('KjjZx5MP36s', width=560, height=315)"
   ]
  },
  {
   "cell_type": "markdown",
   "metadata": {
    "slideshow": {
     "slide_type": "skip"
    }
   },
   "source": [
    "### Analytical resolution\n",
    "\n",
    "Analytically speaking, it is relatively easy to compute the Fourier decomposition of a string, plucked in the middle:\n",
    "$$ y(0, x) = P(x) = \\frac{2a x}{L} \\quad \\textrm{for} \\quad 0\\leq x < L/2, $$\n",
    "$$ y(0, x) = P(x) = 2a\\left(1 - \\frac{x}{L}\\right) \\quad \\textrm{for} \\quad L/2 \\leq x \\leq L. $$"
   ]
  },
  {
   "cell_type": "markdown",
   "metadata": {
    "slideshow": {
     "slide_type": "skip"
    }
   },
   "source": [
    "As before, we will consider the case $\\dot y(0, x) = V(x) = 0$, which again means that $\\forall n\\in \\mathbb N^*$, $\\beta_n = 0$."
   ]
  },
  {
   "cell_type": "markdown",
   "metadata": {
    "slideshow": {
     "slide_type": "skip"
    }
   },
   "source": [
    "\\begin{align*}\n",
    "    \\alpha_n & = P(x) \\odot \\sin(k_n x) \\\\\n",
    "             & = \\frac{4a}L \\left[\\int_0^{L/2}\\frac{x}{L} \\sin(k_n x)\\di x + \\int_{L/2}^L \\left(1 - \\frac{x}{L}\\right) \\sin(k_n x)\\di x\\right].\n",
    "\\end{align*}"
   ]
  },
  {
   "cell_type": "markdown",
   "metadata": {
    "slideshow": {
     "slide_type": "skip"
    }
   },
   "source": [
    "A useful formula to compute these integrals is\n",
    "$$ \\int x' \\sin(bx') \\di x' = \\frac{\\sin(bx)}{b^2} - \\frac{x\\cos(bx)}{b},$$\n",
    "which is the result of an integration by parts, followed by a simple integration.\n",
    "Ask Wolfram Alpha if you are curious.\n",
    "Do not try to remember it."
   ]
  },
  {
   "cell_type": "raw",
   "metadata": {
    "raw_mimetype": "text/markdown",
    "slideshow": {
     "slide_type": "skip"
    }
   },
   "source": [
    "# for verification, I ask Python's symbolic math package to do it\n",
    "from sympy import *  # symbolic math operations\n",
    "init_printing(use_unicode=True)  # to print pretty\n",
    "\n",
    "n = Symbol('n', integer=True, positive=True)\n",
    "x, L = symbols('n, L', real=True, positive=True)"
   ]
  },
  {
   "cell_type": "raw",
   "metadata": {
    "raw_mimetype": "text/markdown",
    "slideshow": {
     "slide_type": "skip"
    }
   },
   "source": [
    "factor(integrate(x/L*sin(n*pi*x/L), (x, 0, L/2)))  # for verification"
   ]
  },
  {
   "cell_type": "markdown",
   "metadata": {
    "slideshow": {
     "slide_type": "skip"
    }
   },
   "source": [
    "The first integral is\n",
    "\\begin{align*}\n",
    "    \\int_0^{L/2}\\frac{x}{L} \\sin(k_n x)\\di x \n",
    "        & = \\frac{1}{k_n L} \\left[ \\frac{\\sin(k_n x)}{k_n} - x\\cos(k_n x) \\right]_0^{L/2} \\\\\n",
    "        & = \\frac{L}{n\\pi}\\left[\\frac{1}{n\\pi}\\sin\\left(\\frac{n\\pi}{2}\\right) - \\frac12\\cos\\left(\\frac{n\\pi}{2}\\right) \\right].\n",
    "\\end{align*}"
   ]
  },
  {
   "cell_type": "raw",
   "metadata": {
    "raw_mimetype": "text/markdown",
    "slideshow": {
     "slide_type": "skip"
    }
   },
   "source": [
    "factor(integrate((1-x/L)*sin(n*pi*x/L), (x, L/2, L)))  # for verification"
   ]
  },
  {
   "cell_type": "markdown",
   "metadata": {
    "slideshow": {
     "slide_type": "skip"
    }
   },
   "source": [
    "For the other integral, and following a similar calculation, we get\n",
    "$$\\int_{L/2}^L\\left(1 - \\frac{x}{L}\\right) \\sin(k_n x)\\di x = \\frac{L}{n\\pi}\\left[\\frac{1}{n\\pi}\\sin\\left(\\frac{n\\pi}{2}\\right) + \\frac12\\cos\\left(\\frac{n\\pi}{2}\\right) \\right]. $$"
   ]
  },
  {
   "cell_type": "markdown",
   "metadata": {
    "slideshow": {
     "slide_type": "skip"
    }
   },
   "source": [
    "Adding the two, we get\n",
    "$$ \\int_0^{L/2}\\frac{x}{L} \\sin(k_n x)\\di x + \\int_{L/2}^L \\left(1 - \\frac{x}{L}\\right) \\sin(k_n x)\\di x = \\frac{2L}{(n\\pi)^2}\\sin\\left(\\frac{n\\pi}{2}\\right) $$"
   ]
  },
  {
   "cell_type": "markdown",
   "metadata": {
    "slideshow": {
     "slide_type": "skip"
    }
   },
   "source": [
    "The final form of $\\alpha_n$ is therefore\n",
    "$$ \\alpha_n = \\frac{8 a}{(n\\pi)^2}\\sin\\left(\\frac{n\\pi}{2}\\right) = 0 \\quad\\textrm{if } n\\textrm{ is even,  and } \\quad \\frac{8 a}{(n\\pi)^2}(-1)^{(n-1)/2}\\quad\\textrm{if } n\\textrm{ odd}. $$"
   ]
  },
  {
   "cell_type": "markdown",
   "metadata": {
    "slideshow": {
     "slide_type": "skip"
    }
   },
   "source": [
    "Let us only consider the $n$ odd case then, and let $n=2m+1$, $m\\in\\mathbb N$.\n",
    "From eqn. (4), the solution to the string, plucked in the middle is therefore:\n",
    "$$ \\boxed{y(t, x) = \\frac{8a}{\\pi^2}\\sum_{m=0}^{\\infty}\\frac{(-1)^{m}}{(2m+1)^2}\\cos\\left(\\frac{(2m+1)\\pi v}{L}t\\right)\\sin\\left(\\frac{(2m+1)\\pi}{L}x\\right)}. $$"
   ]
  },
  {
   "cell_type": "markdown",
   "metadata": {
    "slideshow": {
     "slide_type": "skip"
    }
   },
   "source": [
    "### Spectrum"
   ]
  },
  {
   "cell_type": "markdown",
   "metadata": {
    "slideshow": {
     "slide_type": "skip"
    }
   },
   "source": [
    "Although complicated, we can plot the formula above relatively easily as a spectrum. Let me compute a few values, with $d = 1 cm$, $L = 1 m$\n",
    "\n",
    "* $y_1(t, x) = \\frac{8a}{\\pi^2}\\cos\\frac{\\pi v t}L\\sin\\frac{\\pi x}L$,\n",
    "* $y_2(t, x) = 0$,\n",
    "* $y_3(t, x) = -\\frac{8a}{9\\pi^2}\\cos\\frac{3\\pi v t}L\\sin\\frac{3\\pi x}L$,\n",
    "* $y_4(t, x) = 0$,\n",
    "* $y_5(t, x) = \\frac{8a}{25\\pi^2}\\cos\\frac{5\\pi v t}L\\sin\\frac{5\\pi x}L$,\n",
    "* $y_6(t, x) = 0$,\n",
    "* ...\n",
    "\n",
    "We can easily plot the spectrum for the first few modes."
   ]
  },
  {
   "cell_type": "code",
   "execution_count": 53,
   "metadata": {
    "slideshow": {
     "slide_type": "skip"
    }
   },
   "outputs": [],
   "source": [
    "# Let's plot\n",
    "N = 8  # maximum number of modes we plot\n",
    "plt.figure()\n",
    "for n in range(N):\n",
    "    plt.plot([n+1]*2, [0, np.sin(0.5*(n+1)*np.pi)/(n+1)**2], 'o-', linewidth=5)\n",
    "plt.axis([0, N+0.5, -0.15, 1.1])\n",
    "plt.axhline(0., color='k')\n",
    "plt.xticks(range(1, N+1), \n",
    "          ['$\\omega_{0:1d}$'.format(n) for n in range(1, N+1)],\n",
    "          fontsize=ftsz)\n",
    "plt.xlabel('Vibration frequency ($\\omega_n = n\\pi v/L$)', fontsize=ftsz)\n",
    "plt.ylabel(r'Modal amplitude $\\alpha_n\\pi^2/(8a)$', fontsize=ftsz)\n",
    "plt.grid()\n",
    "plt.savefig('SpectrumPlucked.png', dpi=100)\n",
    "plt.close()"
   ]
  },
  {
   "cell_type": "markdown",
   "metadata": {
    "slideshow": {
     "slide_type": "subslide"
    }
   },
   "source": [
    "![Fig. 8: Spectrum for a plucked string](SpectrumPlucked.png)"
   ]
  },
  {
   "cell_type": "markdown",
   "metadata": {
    "slideshow": {
     "slide_type": "skip"
    }
   },
   "source": [
    "The amplitude of each mode decays fast with the mode number.\n",
    "This is because by plucking the string in the middle, we created a \"large-scale pattern\" whose Fourier series converges very fast.\n",
    "We can plot this to visualise better."
   ]
  },
  {
   "cell_type": "markdown",
   "metadata": {
    "slideshow": {
     "slide_type": "skip"
    }
   },
   "source": [
    "*Note: usually, a \"spectrum\" plots $|\\alpha_n|$, not $\\alpha_n$ as I did, as if the sign was included in the phase of $\\cos(\\omega_n t)$.*"
   ]
  },
  {
   "cell_type": "code",
   "execution_count": 54,
   "metadata": {
    "scrolled": false,
    "slideshow": {
     "slide_type": "skip"
    }
   },
   "outputs": [],
   "source": [
    "# I have to redefine the two quantities below because I used them as symbols in-between\n",
    "L = .33  # length of string: 33 cm\n",
    "x = np.linspace(0., L, 128)  # the x array\n",
    "\n",
    "mode = {}  # all modes stored in a dictionary\n",
    "y_approx = 0*x  # this will be the sum of thre first N modes\n",
    "y_init = 2*x/L  # the first part of the string; I will divide all y's by d\n",
    "y_init[x > 0.5*L] = 2. * (1 - x[x > 0.5*L]/L)  # the 2nd part\n",
    "\n",
    "fig = plt.figure()\n",
    "\n",
    "ff = 1  # frame number, or subplot number\n",
    "for m in range(N//2):\n",
    "    n = 2*m + 1\n",
    "    \n",
    "    mMax = 8/(n*np.pi)**2\n",
    "    mode[n] = mMax * np.sin(0.5*n*np.pi) * np.sin(n*np.pi*x/L)\n",
    "    y_approx += mode[n]\n",
    "    \n",
    "    axl = fig.add_subplot(len(range(N//2)), 2, ff)\n",
    "    axl.plot(x/L, mode[n])\n",
    "    axl.axis([0, 1., -mMax*1.1, mMax*1.1])\n",
    "    axl.ticklabel_format(axis='y', style='sci', scilimits=(-1, 1))\n",
    "    axl.set_ylabel(r'$N = {0:1d}$'.format(n))\n",
    "    axl.set_yticks([-mMax, 0., mMax])\n",
    "    axl.grid()\n",
    "    \n",
    "    axr = fig.add_subplot(len(range(N//2)), 2, ff+1)\n",
    "    axr.plot(x/L, y_approx, x/L, y_init, 'r--')\n",
    "    axr.axis([0, 1., 0., y_init.max()])\n",
    "    axr.set_yticks([0., 0.5, 1.])\n",
    "    axr.grid()\n",
    "    \n",
    "    if n == 1:\n",
    "        axl.set_title(r'$\\alpha_N\\sin(k_N x)$')\n",
    "        axr.set_title(r'$\\sum_{n=1}^N\\alpha_n\\sin(k_n x)$')\n",
    "    \n",
    "    if m == N//2-1:\n",
    "        axl.set_xlabel('$x/L$')\n",
    "        axr.set_xlabel('$x/L$')\n",
    "    else:\n",
    "        axl.set_xticklabels([])\n",
    "        axr.set_xticklabels([])\n",
    "    \n",
    "    ff += 2\n",
    "\n",
    "plt.tight_layout()\n",
    "plt.autoscale(enable=True, axis='x', tight=True)\n",
    "plt.savefig(\"Modes1to4.png\", dpi=150)\n",
    "plt.close()"
   ]
  },
  {
   "cell_type": "markdown",
   "metadata": {
    "scrolled": false,
    "slideshow": {
     "slide_type": "subslide"
    }
   },
   "source": [
    "![Fig. 8:](Modes1to4.png)"
   ]
  },
  {
   "cell_type": "markdown",
   "metadata": {
    "slideshow": {
     "slide_type": "skip"
    }
   },
   "source": [
    "In the figure above, the left column shows each individual initial mode, and the right column shows their sum, up to the mode on the left.\n",
    "Notice how after three modes ($N = 5$), most of the pattern is captured, and adding the fourth mode ($n=7$) does not improve the solution that much.\n",
    "This is why this approach is feasible: because we usually don't need an infinite number of modes to obtain a satisfying approximation to the solution."
   ]
  },
  {
   "cell_type": "markdown",
   "metadata": {
    "slideshow": {
     "slide_type": "skip"
    }
   },
   "source": [
    "Solving for the initial conditions means that we solved the problem at all times, as the animation below (saved under `PluckMiddle.mp4`) shows."
   ]
  },
  {
   "cell_type": "code",
   "execution_count": 55,
   "metadata": {
    "slideshow": {
     "slide_type": "skip"
    }
   },
   "outputs": [],
   "source": [
    "# Various quantities\n",
    "t_end = 2.*np.pi/(omega[0]) # time array spans one fundamental frequency\n",
    "n_frames = 100  # number of frames for animation\n",
    "time = np.linspace(0., t_end, n_frames)  # time array\n",
    "\n",
    "imagelist = []  # list of frames to eventually animate\n",
    "\n",
    "# Animation\n",
    "fig = plt.figure()\n",
    "ax = plt.gca()\n",
    "ax.set_xlim([0., 1.])\n",
    "ax.set_ylim([-1., N//2+0.5])\n",
    "ax.set_xlabel('$x/L$', fontsize=ftsz)\n",
    "ax.set_yticks(range(0, N//2+1))\n",
    "ax.set_yticklabels(['$tot$', '1', '3', '5', '7'])\n",
    "ax.set_ylabel('$y_n(t, x)/a + \\mathrm{ mode\\ number}\\ n$', fontsize=ftsz)\n",
    "ax.grid()\n",
    "\n",
    "k = [n*k0 for n in range(1, N+1)]  # the list of k's\n",
    "omega = [n*k0*v for n in range(1, N+1)]  # the list of k's\n",
    "\n",
    "x_positions = np.tile(x, (N//2+1, 1))/L  # replicate the x array N/2+1 times\n",
    "for t in time: # We loop over time to animate the modes\n",
    "    y_modes = 0*x_positions  # nx positions for N modes\n",
    "    for m in range(N//2):\n",
    "        n = 2*m + 1\n",
    "        y_modes[m, :] = 1 + m + mode[n]*np.cos(omega[n]*t)\n",
    "        y_modes[N//2, :] += y_modes[m, :] - 1 - m\n",
    "\n",
    "    im = plt.scatter(x_positions, y_modes, c=y_modes, cmap='copper')\n",
    "    imagelist.append([im])\n",
    "\n",
    "# Creation of the animation\n",
    "ani = animation.ArtistAnimation(fig, imagelist, interval=40, blit=True, repeat_delay=80)\n",
    "plt.close()"
   ]
  },
  {
   "cell_type": "code",
   "execution_count": 56,
   "metadata": {
    "scrolled": false,
    "slideshow": {
     "slide_type": "subslide"
    }
   },
   "outputs": [
    {
     "data": {
      "text/html": [
       "<video width=\"432\" height=\"288\" controls autoplay loop>\n",
       "  <source type=\"video/mp4\" src=\"data:video/mp4;base64,AAAAHGZ0eXBNNFYgAAACAGlzb21pc28yYXZjMQAAAAhmcmVlAAFkCm1kYXQAAAKuBgX//6rcRem9\n",
       "5tlIt5Ys2CDZI+7veDI2NCAtIGNvcmUgMTUyIHIyODU0IGU5YTU5MDMgLSBILjI2NC9NUEVHLTQg\n",
       "QVZDIGNvZGVjIC0gQ29weWxlZnQgMjAwMy0yMDE3IC0gaHR0cDovL3d3dy52aWRlb2xhbi5vcmcv\n",
       "eDI2NC5odG1sIC0gb3B0aW9uczogY2FiYWM9MSByZWY9MyBkZWJsb2NrPTE6MDowIGFuYWx5c2U9\n",
       "MHgzOjB4MTEzIG1lPWhleCBzdWJtZT03IHBzeT0xIHBzeV9yZD0xLjAwOjAuMDAgbWl4ZWRfcmVm\n",
       "PTEgbWVfcmFuZ2U9MTYgY2hyb21hX21lPTEgdHJlbGxpcz0xIDh4OGRjdD0xIGNxbT0wIGRlYWR6\n",
       "b25lPTIxLDExIGZhc3RfcHNraXA9MSBjaHJvbWFfcXBfb2Zmc2V0PS0yIHRocmVhZHM9OSBsb29r\n",
       "YWhlYWRfdGhyZWFkcz0xIHNsaWNlZF90aHJlYWRzPTAgbnI9MCBkZWNpbWF0ZT0xIGludGVybGFj\n",
       "ZWQ9MCBibHVyYXlfY29tcGF0PTAgY29uc3RyYWluZWRfaW50cmE9MCBiZnJhbWVzPTMgYl9weXJh\n",
       "bWlkPTIgYl9hZGFwdD0xIGJfYmlhcz0wIGRpcmVjdD0xIHdlaWdodGI9MSBvcGVuX2dvcD0wIHdl\n",
       "aWdodHA9MiBrZXlpbnQ9MjUwIGtleWludF9taW49MjUgc2NlbmVjdXQ9NDAgaW50cmFfcmVmcmVz\n",
       "aD0wIHJjX2xvb2thaGVhZD00MCByYz1jcmYgbWJ0cmVlPTEgY3JmPTIzLjAgcWNvbXA9MC42MCBx\n",
       "cG1pbj0wIHFwbWF4PTY5IHFwc3RlcD00IGlwX3JhdGlvPTEuNDAgYXE9MToxLjAwAIAAABtjZYiE\n",
       "ADf//vbw/gU2O5jQlxHN6J0zH78VuLo0N73OAAADAAA33OZE/sqTBubAAALo8fpH37/mAZ09Sct8\n",
       "jMgUwaxZ4USOFRdrKKwddCbeWxkMAquZvcegsIDC6fNJgkqPis2FjjBigho7+rBGCC0TLk3Mo6ql\n",
       "dnWWt6N5rx2Hi4XEv++AqZPAJ2rtZKFsxoZu5fTdn0+TKLXtaKk6EJ93ChVG/dlsZMuaOLptoMZm\n",
       "i9ktSIq950XkSANWrhmAn4rbZtiL2wRIg+FLwMZQX+1rxD2Xn5v1rciUyhr49REM1k5iSpNVSfhp\n",
       "UZPLZxkGmnNgkaArt3TCCcAUZeHCOXF/kHGCYeKztVXBmbwTm7YXR6PMiQQuj9nwX2CYr/RLFM5L\n",
       "Rfl5+gt1ruWkbevgVJPEtsMBbOWNcpDcHjRqF6dnvfcIyvBx5/lkmgqPRbeuo30TzLYQufrwFZr3\n",
       "31c8IUnZSNqZn+mFUY5IZ6qU8vsHKgvt6AHxjpPcwzUW81V4Nog0+BlGuSD/zev0Up9vgbLsp0vD\n",
       "Tmc+RmYjMoaMHElaAT3jXeOzl5ScYjZWi4nbu+SdejBtpfAJcH/6tfunlp8PSzy0lPfB85N0Cx9L\n",
       "BZKI6V1alZ+lhFjfoCZuGGn40NFBSDZFJMt411SHr3p/5zWIxVevKkGp3bEl1wCU4WmOHpheVJ8X\n",
       "wf59wIlRwZ9ZK0p9V+z25yBWabEol7m3BhcYDtoA0ASxa4LMvKAIjt7Zb0Cmt4yby8EoPyOSczfZ\n",
       "6ar9kooShCM1fJbmREtr5ezNCduGisTpuHTZPfUmBMKnWHrt5qGcZPtLFQqRZfUWosDwx4mt5WM1\n",
       "aSw/sd8RbBdK0QqJXtwTDF+imGtqMs8inhSawtt+DwCGuA7edKBdzEXH6EyNlZNv2AjKNGfjn718\n",
       "Mpj53Yt0n4g4WYSVc2sEzj5c83hxxHfo4+RqcjwSwo3pF7u9qi4hawqhki5FECfRT/dnYY4JQnzJ\n",
       "FvehnmGhNXpM1h2BIeYAbio8TqUjzztLm6Z9dxUxpxWc8iYbpSO+Uf3NoRqOq9d4QaLH5s4Pgl4f\n",
       "OXc9X27d4DCkYmpd69WCjY1IhHBnkJWs7GyhzFnuRFfES0C586AUQZk7IXZ7tW4RL3qQS11P+7TT\n",
       "hUYGa/PzDsR5qaWe09dC4FlGmMMYDIxtp6z9i5dCex5iUbUCoPLRW9ho12ccyoHYkGLGefyrESXm\n",
       "tCVrMQNod2GnsLHkKv+O4nwUNumPzkPbIDyhMGw0s8YgI/RYYGQ7lzM6GPeo/EuCkwRwoJa/Sl13\n",
       "2e3I1MmgsKealxTji4ZMYN2W6Q+ucdzMH8g7KByG9r8PjqixAySSw6baSGxaRzuwcri5ZmgsavJE\n",
       "TEgXAOp4Vi/ORcGXuDYj64XcpvraOq0mLv8ipTEjlnBtS0v3I+BqiYwb5M7epR4CtCvP3zouIHzP\n",
       "7i00H4HGGnJE8K/J1gbPcaXv+N3iuvzNDK4UU4UqNsJUGMnAlo8Ho/H6i9pC9k3vKu//c0H+S9NV\n",
       "WZAX/zVnHPZGPfTTbkc/gHrsmPCrQrsfauqoo3PQZvRPnMfjeFSju+KT0aw2G4/CS/wyKGMOR5g3\n",
       "+7+j1w33jDhnPcr7O7y+Z7evnMYCdIHOb+I1xpRhj51z60UgLiU75Vj/QLRvAsU0nCdyzEIottyT\n",
       "qR6HIFoT8tHpPPsjR317+EFPryRkeRyzWT7qK5149/7rLoyYipGHl2Wk0JTrIHaqHfoJVs+VbbCw\n",
       "xn7eX+0E2XAAQz8qC5w+BarP/kvorsWIkDyUN9OPaYwcatnkzQ2gkIHLcLNNW+G7+iyArXb9dQQP\n",
       "JbTmt8P6IbaaQLffq0oLK4jqSxCcjTCrUgz3a257WKRQvQCKUaJlKpdpASTcis7bUPHhgT/+0BrC\n",
       "39Ly74sqDPINj3HLBPaZNEbLWrwLaS45m1Qgno633BpNewJ5+0TWbJkNGTzOKfOHHViF+FbMVjvv\n",
       "eQ4wRyPj9gelcDG6J8GYorfqdY9P3GozVO/KpDTvXwemV62VB9zDrDDr/AFKdgG/RCtdH3QElvCB\n",
       "GtmweuR/kid8hyznpn6Nrdv8XMd3Xh79C1Tr+zocbXnlGSgMzf8GvpB86WBPkDMlhq7/3/UwhD+L\n",
       "thF2vCV6MMSRe3C51ni0GRBegLyGsfPoXDrhE0e0NdcGOOjx6wo0DuVEqFYpoftLt0HqbcouXjvA\n",
       "P+dlPzfO2T6jS2L4UXMQn4if2mA1Cr2y0H/jdFAkHI4Skmb7Q5DA2oIJ9y5bQ4IsOWjJY2Bc4Mo7\n",
       "UCForZ8bbwzhIUWxG9OVM5yhlPQZSZtjbs/LddL5wis8Yc0E6TqTM5706I0jkPTO9uLqOqrgmmJK\n",
       "4CufO7IcF50Lk1P2Gal6TWh4rFDlVWNkAnUHuzDW1pm8yhBUQaD/QRwxTXzhU8cL8Xql6+aaXXSJ\n",
       "tXeqk4y2eWn+Y37IYYJNyAc2x0gS2Bc/QQBP7ng3NbqhQDt/3t6+FU4BrixJ1F2Sc7HGnGvAZSiy\n",
       "ixMC41jQvjehwjNVlKVqp/x4sAlB39q8a4WuwJi4DGDguo67+ln46AxJz8FglLZ6veeZThBVZlSN\n",
       "aL0iSFH0ZHM8YzABW/4rU33rUMffHGwIO3f8FfP7iIxqC7peVQ/d79+/xL/hsxBOcwJCtI2UJuWq\n",
       "hiIWPhmYUL8n3Pv/fWIi82GyrFqKKAVNincQPytBUAIPNZHGbqh87N8fRcewOMXkWPTAZtvgkFFq\n",
       "7ErmiWLJi1ij986RZA7ue5HP+6+XylQEJkBSdaEgRb7wPxw0myyp/6f5ipLVO8oIclGMgUfinyiv\n",
       "k/spl3nksFkzXPiTJFqwA9WYCfk+YHcBcwnwRAyuFpKL1rVsOKcQXZZ9LLxHeSe96dmujsG9Swdn\n",
       "bhasyZjxjyUqfmqpvvMyav8n5lSBTPtoe2GcMZamihl4BSV63TV1ktB7z5aaxZGb6MyBiI7ACkYx\n",
       "VP/9ThpME1M6q/uxiRbKtQVNh5uhLkDkVUPqObJhRVOYSX1BJ0nQcz6KcNyfXWAoqSdMpfjzMOII\n",
       "A6Rryv2zlt979vRUphW+1ccwe50zD3SUF2qZfE4A5hjkVf66mdK5jMZEHKwBvB1BaOwXjiQa1YjM\n",
       "LgkXe5GXogHRloXh8v5fQNXh2roB/5/5jJvcSY/dscXJid7OKmiNigb2ntUhmvbQCPjExiYNrFOH\n",
       "bCpInaf21SoIFlMYG2/VP1/9nKKgsocvAe0emO63OmdGAN+KRCKcRAiJU3lUVVSr5RQfihjyJHfg\n",
       "x5O4RHlK54rD4FOR1ETak6Ajwh/KkLCEIOSpGDqr28ajnmCXhlW1FuDa7IKksdiIZURu01Z+MH/r\n",
       "kMLguHXMimMKonvk7lo0H4fV4K0pcgqikLvjSGnDB+Wy2drrTgDkI/iyMA+gdhrmXOrWNPLkVafK\n",
       "NWu8tYY/REtE/1Ec7Hh06WvgXf1EIHg8StpArUbcekV7kOXIvo+nXwzDHmsQ8P7R/dsY9c0oEl2G\n",
       "NahJ5kCkNtnLfrDswQeeUaou87v9uYkGs13OYpB+3hMzAHV3hwpGS/Ch4KvdESy11BlYidPBdeAb\n",
       "Ud6e43tUewLOE7Xw+3xP/n9I5oGI8E4iA1WLm+EHX3hSsMmk5nPERRhd6EJjoUTZA+5JWBZhd5t6\n",
       "g7QcH+6C41OmZY19LpV2aPW/rId/1EIdXhcvwOGDY+9X0edTl9uJh9iBEId9IZwtsjYsppfcqZcD\n",
       "VN2d2hbO3nUeIoDm31TR+OUv+TErl8QIsEv/wuSRSqWKP2l0n3pkYwTll/os0aJEomHywewJSW5/\n",
       "I5cNhm9yXZomYlC6/PsPEq5wzeCdBYO1O4QpxU/dSa4fM9LJZ996QcRbUTrt0K6CUjSrOB0zYhb2\n",
       "ucNFtJ4PvEyh17HRxou302+CTlc7+Klt7EcpDwzgHrMSISoZ+F0cWsoGA++BCyoV6A0jtvE1FW6L\n",
       "BT6/4i2ldzIiSElRIKNycucr3HpFdBS2T4EKh9LWHFBT+6bKUcD6unHIgHPZVPefRu1snp/zXVcw\n",
       "eKgibYhW+NiDEz/f/XnpbymJ7ZD3LNRP4XqGMO9gGcgaNxIxN1NOv6MdFe+E/KQQRDQJZIoyGx+B\n",
       "c3aJRlWexQBJcPpVjPvCJ/sqOPl8LQpYRj0o7IBKynSiOlqIDH5KMDZrxiAU0eCIxELQrvmYa5sA\n",
       "0ebtsWBkcE15d9TiVV9ueF2O+QXMprX81bOX5A67VI6de7krEPrkJQSVA2zIryawXDpEkpifm4M0\n",
       "3gvXoPuOQc85HOZ8HGcm2wAlFaAgltCag43rmGH/O+8sdUsDbeDVnp1sdMGwzdp/ShzFu60lNXCG\n",
       "vRnU2uU8fp10eTiQJcG/0j3rRiLgaSmtqUPLnG94fPqwAJNI8EEtGR/Q3EQUVuhtK9sCkdLPEoq2\n",
       "8efT41Ky52PMAwpr/EWW09NDG67SQFzu3Qc7rWD7VlthFjHsmFYcsYg0dIsbmm8soPQBVYfVzQf4\n",
       "pP/tEp49YMYnY1TBepQ7Jf5gw5x3Kmd5bYKVjElzaexRwmNXe+TSNf/bbRNjYwclq3RoCZbr0wef\n",
       "vyNuA3YRSXbVH/qpbHdguJpvo2LSvh9lvj823fqbbOGtNfeKZOazdcE1mYQEg0MzB0iWb4+clnel\n",
       "lCiXOMwXGTumsxWh9r2FyR1f/sASmFSGcpjJ/c+QDN8IJ2eazhaSnYUzwhXN8JLetQ9wzDUX8nAq\n",
       "8wcFJSMyeKtEMOX7DIswObdIW/w1t6/ejh7/VT2P962tlUDJH67xyhKnO9wqDIgnOACb4u8FIhAB\n",
       "5UQrhWdG868Qdg+jpdChAtIeruEpJGzxSBPYmwYHnu15T+ehW2CqVOAPI+b23USN7a9l1L+OQeEo\n",
       "pNCByZAHIbwvY3Ak/fyxFaFgnkSpN+kDOvDMunmuGXj6coSg+ZEnrtN4GjkuQNGWrFFuEyiwvRxU\n",
       "9Nb4pl/whJBJlB+bJYfxaRDapUfeAFoyxCg5+6PFmMy5gEpmKlrrgZ1mTl4MMw2DLp4t3DshGVF6\n",
       "Lia+m5gUIM4A7/yhTDY7QE8/7d0F3bTFJm1U2/pLQTN1vDCT3Y6Z5geiMakRmcGowQR5KPUSyW2+\n",
       "BlqjFh2BiFLlZ1FWW3yuxgM3wW/Fjao1Mh6zVQliGbbxZM/dgCbONN0jvOn/t4hPUcyk31X60iJ1\n",
       "EOlpjO+ibgpivHSj9mM2GO1+/b0tnREYPuY0cNPvyL6F5GLudR/WxWTNYSmJ6bCcwzgr6p6WLFPF\n",
       "I/1rUyYLajruuCxRnY1KcT1t6yI2E7cEakT4BfeBL4jBChhKBlj8s7VPQLouAm3R7JRkycdHUttA\n",
       "Q4VKA0BVMT1BYnsmvv7tnFZRr68GyTVnN7X83+sTIwUCzaVjOp+5IFuzNyEbmZQGUyyafiHtQ2FX\n",
       "rm02sL/FClCzdSU5pMCzlfKTQvY5d6vZCB0t/P2Ol4w1xbavlp/wjdWT0iUPMtih7WdDtA2p08tf\n",
       "UBDyOyVj2C3dEwTLQaK4ZE8RuRB46gxMIE7SExq1ckanEB858nrZlbmbxhF32CzZymkJtxDOLEp4\n",
       "qj5599Mkt7y/dnqtikVqlMKLIzIVG0yLKUZz5sxbWEz0ER+aobjb8PaoV5MmphUcnNWLN1W0VEb7\n",
       "CqBLOcAWF9+4qrUQwr+AyCZGBRDYHUEck1wwJF1NB1xRv+O0MFE4gYqFkzBJIRHQWHVY8hTK7OqG\n",
       "KhTJg7yOVpDSWlUMdkE+xfOs0DYaYAmDPhdkp2pvrXZehKAcZa4K3wcqoZmJ6M2T//LjeO0HIKcE\n",
       "tvpuFQsrg7Z76x9HltZIbcF8SkeIILBIp6vnVi91qL5FOA9Ts21cCdOAyDvqA6RCpEvBAufUZqF7\n",
       "Lo+snDsfRDJLNMu8RDv25FVWjHinHOXdsVsgO4+WlravvfP0qoWLl24Bo+tj66H/zsHWZM+ifAt5\n",
       "F8VblF7ruGnJ+tKwv/3RtRRPz93dU4jzAGkQWHcxORbU/raT6wU+J5QAUG3HEHBDgWeU6zWij4JP\n",
       "7tgh6izB3/y1ZnCWFxg31jysq4liyNjhsOcWMHvL4Ywwr+HftwX/8+b1lM7xGhWsNbm8RBok9UR9\n",
       "HpAE8+++Gxv8imZJtJ24vxPlGw+zaN0DM0eydtPNnV+IVJSnaCiSspEdlwBmaNpjg4bw64bqAYZG\n",
       "g2ecoN+OM9XH82h2kOUceKZxyCsIRRsEo9XZHJYRgumTjp6gj7ZEw+nNm0LP/nKDY4fAd9em5sTc\n",
       "6PD/+jOUe65FGBzvX5zIXMMg/1jVTzPpiQKPn/3PKZ34F05p3EixkGi0D5pbH0qyJyVjGgNft8Yx\n",
       "cNFgt9KCKIVRQFZeggHeizL4rsgLAONnAiF0tafUU2SVaaEPqgY5N5kTMDnf+vEgyFS9Itd9LWRA\n",
       "9iuBUNeWISJXdyPgn77RN+Zv3TiyBEonjxpnTqbTuDV3GBicJhWrFhDdI6UuchdCFLl2x0IsbDZ4\n",
       "ZVatwqJIpPULqGlpP8kb7VgHhJH/L6E+0Ibbu/xrpVZwhJrAdlc1i1u/3T5s09eOumR+tqi1u4Jw\n",
       "skj6yMc7EiZ6dVRaptnnDrKaXtBeHyPTIDGxbJPpmuvlwuYLXqZpaZh0N3rVn+uP3YJ5YS4s4Lnj\n",
       "ql2HQA9IhMBQHiH+Dy76zKTohK5gy0lqcSWXlRd4jhItCaS36W3P0w3ISt7R63ga5bT8bG3OAbzK\n",
       "hyoljVrrAbpj2yQNWdAH/wteJQ+rcMwzhFOsUbL3WvLQrDLuitSD9vb3uTEyYW+AaZ/zlBXPMOAP\n",
       "67aK2mhK1taeQPq21152HWYPXuO+Wgn8og/BsJt6RmL/+AUKyr+5EpNz2Wd9RsxRrsUThbCy3MI/\n",
       "DCWDfgzGwvUHJc3e3Ghcp5XdlSLjSBTz1xCzk4c6g0w6/OvjFmXKAcxiP6iKxwJpbWLZuAmIU2UZ\n",
       "WvsLpqtHAe3Is7wKdPle48at2x/AVOXb4LnH+TNjiODHlGl+0i/zf2vV6Kfvr2eoX4GYp5J6pjkr\n",
       "/kOAcdypRQLn5vSSMWjWvnXrSKOTJvN/TSKfgw9mJyr8tprppiPqkEEPkqW/MHZzYmBKiQ+LT+FJ\n",
       "EqkVs7dXPsMRaRotqagDt/xRxaIKRGh22uRS6cYSESB/V5FCdKmQZ1pJYBxv4r2AEVQvjso3jWCx\n",
       "egKUgL1yt8dBL5GuUHj6Qi/hqf5iamJG1rxMaQ0et7ba5qx3sfStYRej41oEUGeYaVO0mPQg1eWg\n",
       "8j+S9K79YzxPkoVVXPDbBpIsttQWvcOcSj9yqzAxHE/5ShzyXiUPO0PaREY1RwFdis0fWckFAw4K\n",
       "v0J+SvKgM+rHcaJz0mURUpqplCLq1rOAdr4/E1wIbYQXQwV/y5ZNjou/BUPC53dM7ymhiuqzPJSe\n",
       "9iVQOHPd0dipqPjIVVl8wr2XOPFCLxlTb9paF6HQfCAfheGhM3NsgOOeYFCdPesQe0ZeI8Wfl4Pu\n",
       "bSWVjQDyUrw7ca4y/O+GdPfSb1UtnIOPHTOMFA7+k7pVPa/rBmAVhdobuukEhC+ZDjXNUb65K4AG\n",
       "020AdSNAun3byNobKqbjxZlSWvIUx+B9UcC73gS+8swDSdQCaP0+AInEGTU/xQkgGCmivi+DUrD1\n",
       "6R+qfVOPe2/qtJVDHuXlzUE9j2Fv8Et2WUuVuZYHtHr/6kUqvFI04bEj10vLCJV9y2hJ5CY68hYZ\n",
       "oJz9EOE89WtJbykkLbf7D6E60ra43uxWcfrxMt5Wb7SEx4/76x2l1oP9ojIvpHtGQZK3kjbU9Y6h\n",
       "r2YDH3A/RRjMI5BHJvMdWsV+EGeG9zi7H3xuaUmTkw/f1Ka511u1lxBChCz+0tpUcAwEN5rSIU7c\n",
       "i3zX+o+NlMjeYZ+Yl3ISVLMb+Fws7DcBARm1c+WxYW18xLsiMFwSLlXgeKw09n4qdBhGVWAkqh/7\n",
       "8XZtb74kJpao72LjW+jMBP4umYYtMUAItKrZt2a3c6HBepSKgImBH2DOexDbLoMwazJH83ulqb17\n",
       "w5WKeTE+yZqje7QZ6MSZAohphsoAXwJ0dPrjhPA0mGHrVOY3h2Rl9Xzl5hmizTUL/t2NpTAHuRo/\n",
       "Yi3+wLoDmqcpxAOJX918v4dlCDAwEzCS8oTyWPyJU6hTumT4Z/z241E4sM1yDBAbbHyvach5qER6\n",
       "XXkj91DtseyHOfGmFIKJUUwYYj7ZP8tV++qUBY0CfF4EQQUsTrvgr1IEk2tZNSi7Bt2QLu+zDxud\n",
       "RyRAyOMnpZRIHIUqciAEXdI91JB2eByZy8ZPkUhKAyNk3mCrl4ytUidbZP30CIMzEFksJbftk+Ho\n",
       "WDZ2FppNDez6LYWta9TogI+RvPkMqPqjHvJL/ppki+oBEj5Xx5hI6itTvRRtTzfY35ZQRFTyLBQp\n",
       "O4HYwsIpjYNUdBmiogRpkugdLbNd+H3fN7GZ2VIX9skWQkw0ZMiioZb6gvkVWUJZZjpqTyaObzeS\n",
       "J9nSbZ0sxAOxf1yytR4GLE40zAi5F+WHP9juKeCc9dxJhwV4vDt4uZ+ZgtCyqkz2wW+rlR2ih1QW\n",
       "oRJNIOiW6HfUUXuEuoVoSASUpkRtsBd51nBwfPr+vHO+a8Abo3C5xeGQ9dE3+SeM45DQ8ThosphH\n",
       "XM6Ak7r0eI6zzaPAOmGcr8G1EjzW5N/RQTvmxWcRyV0Y4WzeWCak0yTDkoacZFSdI+PVHbrhwXKm\n",
       "0Y20e+9sbMZLrCICjU37X2FcnYeygEnkE9Tr0vVyRzxjM9lRmExP9Oy0WLvoP/PQLZ38vPW0ehgW\n",
       "JsEi+CKj4vFUzSHKdo+b2wDSluuJvW+oviXTkx9E6IffkPUzDOtsQiKCTkpMbPZ/qWcC1AW/fs4c\n",
       "94qMuu2thGJpr9Y1ESmaWZ+pbYeAWuMXNuSu3+j6v3TpmjE6Rxiz/QufqHWV1S2Ltnw0F7gaQBrs\n",
       "cgSWtZMUpsK/eWmBawPH43+/mIkFL4vuZbOlRDw9sJ30+m2gj9VV7uma/L7rgswGN07WQaVtawcX\n",
       "Wt7nBRG4A1tyRneJY9AZnRAFZvgTjHZsam+uJgycRCOGdgplexj4sxblFfnhzaoGrt7/JXS/graa\n",
       "pkiU9qgPEsIUERSq6aCJrut+8Ivue/6p+c2zXfOQfoo2gfaY1Bvhl4VigT4uix1qqk8JW40FCQOc\n",
       "hS9Ooz9VVbpBaHHOawJ2cDT9HvJUmppHJyTGXZgAJPVeP0p3eWaAqZODoYRazyaxkB2OINh6jawS\n",
       "GZ8iWUSI2E8x1fnF9Daj/JQDNc8LmTWqVRSSz3xpBmAmbpi38Ogk4xYhqZS2iIubMDk2FxaiLp/V\n",
       "UIYoo0r9IznWyHwv3O4fST7HFYqVE3IKfH+9Ppf9GDDQ4MI1YyQ0Wvy+wHIT3FE9hL1AABPxAAAC\n",
       "p0GaIWxDv/6plgC8KG4AhHDbtaDWsDt0UHpC/gIp4l+/9/l79itCneIh7XVnI+dOK3fUjwohro+Y\n",
       "+TvcQfcKL4wRcR9u2VQyTwY4SuY8SkOfNc/oo9uqyEE9wEWzAa/+MzFhRt/sSKreQA5dJSiItawp\n",
       "L2po0Cd4Egwy9wq3Ounbfw7wDrajNCpCaCLerR+jHJqqn6P/fT+9KWYBGyr5ZrJro8zZLaUuzlH9\n",
       "FHuC5zJRnwb8qBWJirdPqO4VHMw5ECMzGBpcV7/xL1T4oyx6yEcOCDmjOIkDNlYgYubCHJwyMcSd\n",
       "FhKS33nKtggkFEwwfb2hBLdBvRCDMT8xd0isrLBkNDcpKSa+tWM/EgZ8dKtrGpDmdH9UDcV4BCxX\n",
       "5JbUnviShhsj+sjN97RWxeQU1vhs3get6QbDATRImbwDQ1999Yw/rxpXWqEgQ4wxThXD7Qm5aeLn\n",
       "TZr04MgsDBOLd0T+s+2SBv/y48/UcLpLVVPF95YemMb3qDeYnHB7MkICBwyeXB/RpYH7OdmpDvbQ\n",
       "zXNfc/rEMSouwNMPdoLctYQpcbi5CR4MQ7VMB6/cnghaoDpXlox8006pgxpEbXiMFepB8a+D1anu\n",
       "GQiu0DwzfXWz9u8faDUJfMKms0lvA+jGH73jUdul7eCRp3NkmQkSZpyn0wMVP2LI9Hi+tg/5qSfq\n",
       "G1a8p4DDkm7UjNSAAY2BfHfdNDhvgXheELksirKyWWT7f/+THNS+GIwutBI8IN7/pqtVvfN3ejq6\n",
       "BWIqevwemT3DhhwkP3o/ELMlhX+ikW77He2TaQR10Sf2MYG7+JGRti9Lcq7P57iyOqHtaWR52jyF\n",
       "wN6Nm08+4lygCcOokzvQ79+dGDV7PHRM/mRyqelgHIJhNN3L2n01wAqSPVdMJ1knxcTwK/gAAAaO\n",
       "QZpFPCGTKYQ3//6nhAFS+AtrV+7NeWGcUfh2CYVANrxM/9/J/vEjE0Sa+Q2cXercd5TjqNwjwZi8\n",
       "zahYSfoQFk4vxcsAthZeE5nDxsJnNMD5gNieFWoMdQR62RjPVVM4fYA3TntcmsuBR+PLNOxI2X6q\n",
       "STVjoeZxqlKba0SC7uYeWNjZ/SF593FCwV8i7QkQwAlgXyDp2OcTRBXFfQ79/1lu18GXwN5PiUzQ\n",
       "9EzjbcO2npbmfmDcjj1gX9eaTOnIbRpN7svV745VIKizlZidIAHbZBhjArNWUbgIOC7qzba/5+7p\n",
       "GEqlH8kxHG6Kp9u8sNxCkXLq9m89u6+USInOCz7k7xqpUNmiahac9S0TbCyuKsafNJIeBrjPfUf0\n",
       "qW3i9aSWPvgDpBTc3WlVetfWZJJelOBaJ7UxqtvlK/7f+hyhnolHePjLkRn4E3pGNWgI42GIRo6r\n",
       "G3sLH2QLrpKAZ3vovxBcz3Dq4Jo5sIw+OM4FvVdVK+ms34TQkVoqT938KS7tszYj4Lz0KqzV+eYQ\n",
       "KHe+9R7yFjim5tLkQ+9TP7ozzYozDpn+Mq5ci/IE5cDJ8ldPzRj7qCou8cdjAkdrnUUB9YOfOp1y\n",
       "RbxZC5n4Pap+o3lihsje2XhwLSITG+HAdwo05wMvn2IWpChc34lJJjSf/N9a9VI3BNJ3JEfXjxjS\n",
       "PBHQEsRQAbSv8eJ6vLOHUusyPNeB8JA8vZAQJjiznSWlLxRP5XCSM/dMIoJ9FaHGX/MuiLsvaXw0\n",
       "G2oK5YsubVZD+s9jK/r9ybSX9vmxghK8bPy6/+pcG4dVslvW6NRC8OWcs1oXVBzZIfPF2e97JJ2c\n",
       "qcbD3+GL1TJn4Ed60pjUQi3+QTsijVgRWVdDNrsMcYkODxabiJYIizq2TOhRQ/walS2WUYPNDo3e\n",
       "UIwERQC3zS+8bqyjyjCBH9Ljt6HxN2sYE3bnNFBb+bfs7Fj3gjOaKYU1q6JtMQbl8AD2TLJYSoVA\n",
       "+HyukIaYW6S0aofQWX8ckH/TYez//2W9jfUtQpJzryWe5pPWJuF6LSgYeoGWOYwVdKqFnflGYnDD\n",
       "lTX8RFZeyK/UxYVpF6h5LBxOLZvT8OSNiP1vFIa+1rdRJ2oYWlF3S8PvkRupRY3Gz3WAZkkjw3ZG\n",
       "wO0eHX3J6bZxhbcfHkALlfRmSzf2fbcR7q5F4V32w+XDvFkoOnc3bdo2TQp/c/r476BowGPWDP6C\n",
       "MihQF4x4cNzR0Ob2nwJXtV+7YZW7CjlVzOGMEvzyp2GQPDYhyYKtEJuOLVVn9XBo0duiIziEMEr3\n",
       "4baQg3RoPjYYMkkp0ZZmfeqIP7AxkMS0Dz3ILQ8/AKYjmmQMtlZscDjjUkdSLRK8RlptfJhquCeb\n",
       "jXYQbE8sklDBNHxFnTgxiCxgHJzvmCkHIH6YcKv3Ix3FjrylEct11cKhtpnVTI681aHzHax5xSr9\n",
       "soCAKlOUWBXnNa4GrjKKlbZlsZVF8zvMBLEcWytMIuVaUJQcokJOSifQGqMOStoJxO9whgCOvYCX\n",
       "p7s5jpbhqqdiBbM3WD0Au5bKY4x13Lnlv40y/rgVl/KH7VjpCGgi7fqlkMteu3IkvVrgGzsJSd0+\n",
       "cxs6qDC40Xw1BpZXE450EUgEiHakJnfh6ret14oSNeAzE1KtZ9jkEbH5JNwZaTY82X923jv+cID2\n",
       "P7wVDlzTQIkeI8kW8FFTlwRwa++8aHo3GAZwVHDCTbur3GfkTtiVpT+RMq+UkUeuah/AvwlIE9pC\n",
       "nflC1bEgrmtf3QvaOJs8Wry+1E0/E8d1d28pKkJy308BLODOLmVdt9D6qmgzr6NUAF+lo7Q+vx89\n",
       "bAify7NE9xwiqAMh/GXBJks6pWdZgpHQJt03ewAoPPs8RZJpuLMFWUUsGs3bT7VrR4er4gvTDsUo\n",
       "mF6Jx7+uxNf73DU4/VGMoZnwWOWGb3jxOfPSijjZIP6BuINogs7jlpvUu+jdOivkP21vudrTCY6q\n",
       "esKHk5gdSQPnQwYp0shirLLor84832+6F40wVXrZdy2QynzlPPx5WT61yGVpOMWLL+KjK2ziWCWz\n",
       "kDO0HXGmaaTylZBpwA/BBeHA1ISKyJf7oop//1mcarsxU5BcxaiJDKOt7yT/QoC04zDUKnmddfcX\n",
       "p0CTvJmV2j/gSjHIanRkKk8tbQYjTvsTYpsVLlt1CsDSme4JMkwSseEW2+eiN8F6YvAagnyU2h2c\n",
       "4zSheY+bc0cwjbXOqmGI4Ip2ImZfzhX4YQAAAwhBnmNqU8L/AbJIn8PyKKa7/kXGdkIAJEqKrxTY\n",
       "s8kFTz6AFotsAaj6xyPYQl0M2KviBLLaOZaaGbs+g6mEjGVJr3A+ZwThAqq8ur9BvLxcHspIXbOf\n",
       "Ih/YZfG9/geWwmrpJ1np26qL3LS4zqFOTkEsg8GsgZQ3F1IKIiS8IUHq5+goC8nft74UBk+4Q1H7\n",
       "wuQTlGlvMyg2HbdnLTMrH4PlrJEq81B5CaFydjK14DOxLxe35H6IpPrcojQN78lxL67K7qqP4viW\n",
       "n62pPIas0bBytw6wUD/kE+6XK0YOpZiu8C6MMXOyfVPjie/kPiJ3CUQlHFPjd6dLg2wCGWPtBQjI\n",
       "GBbT1KTaQCz20oFBruc2RQI/MdEs2ZhHARZqJDhLj2sQC2tBdaBnlHC8+TiXMhkMbcW9wnIgzSSa\n",
       "IAXoJzOBkAc9O029ANZ3F624o0H7HXTb61W2HCIYahI2pwswNR+chUlQFPkhoDTYFpcGYIOnHZxw\n",
       "raEiRSBhggN6HxG8mx6w7+ayC5jld8OgVZdF1NJgi5KMxdix3xriACaBNaZD89DbRbAv4yL3ppxa\n",
       "9R9+Np26b4t96d2AbluK6dKraaWZVuLlRtcsc8nt7Rje8WvMt4V+Vfd55yyWBuMPG4jZWolA3z4j\n",
       "kReVW53vsc9Y6Ijb0QXcHZiVrrE0GkafBut/V4spcsLN7G/YZBO1lVq5GKDNPaC/uE9Ftxa5zHwO\n",
       "pHfYsb/eynyjbrs/Pa7bmkxfWSp48XlOdSua5Rll9d65QPZ9Ej6iM7+/W/8RQnLT3sN993vUG995\n",
       "mLzADhhFhOrZ1haiS3umAKB1KM6bUleE4PsKPBYEQ0JhYmM/+PoYZSL2/ex4jbYTPVegiYAgz9uL\n",
       "XtjWl3OxuShPd4EL3BFu3FCJeGSgbBPGptU3nu9sFJK0neY7wALbIl/tzXxS8mEQ8qRTbM2aJgHD\n",
       "m6hEAWzZcBa2qJ9TVpJjr0Yd/PbUohfKwE+XscsRXgHmpFgf5U8oEMYRIFn4JMy0rZClbcleZfEr\n",
       "tsfscOzEjAAAAXkBnoJ0Qr8A/rP4//ETPn+ElLzx4Ny9TQj/1snjtQs0Z+Otxr+9Pfvm2wuLR7e/\n",
       "Uqw+PBnkaTcitWvgbkAAIewEFVE20sKHBoQGVspNV5BOM6Num2y+q9peYgCjPiGoXyBpMxyQ7r3X\n",
       "D6mcs0NVR6BMnthNRLjVYx9SMvFx8OadPIKZSmFhVcYmCjU8LAAx8G7GykXkbsaWOMxP0sio1Vrb\n",
       "7Qiw/kojzoQtYYDaFjktVk42LpnVLn0rrG61eXaTnGf6IwjWZCay5p2c7y8MTOjhAysQKSY0tn9U\n",
       "yNOUbRRWQg5qHIEN1CkH8odGHFPuquS4O2qwn3eX0OolP5uwu2OIVO5L5SzcZjgNWW0fMUAL0jCz\n",
       "iOSLDjF2R2U3OurrSVIrdAfAhjIlyTLhuOl6MtUgawOvhlEmOcEvmBpkv8LODz/5lb/fqRPJE+Y8\n",
       "9PkzrAztaLP5cpsAfPDj/6bOSLBXK9Drhj8hjdK4y0WdifHllsmels4qidvhgwAAAcoBnoRqQr8A\n",
       "57JKiAZO84K2YLOqEflpX9OwIh8yyWihLy9WnGWmVfFubBGCFdAILh0WUW8ku4ZZt7eZ9+A4rnXD\n",
       "HZzGoAEGHIguomW21YF3pG3/DB1ZFDGVNiqZGjyQ+NP+mF1+Md/Y17m3B7m5KnA4hhMJ8TPgVpVo\n",
       "9HeYD5Ugt0ExGN5ZxckMe4VY+/8KFx6VqKo4poA1eTc+B/SzpliLrzA/Ax7NCviHItu6Y5MH/8Uc\n",
       "QMl7PbHAOfT8frcnA0hbz/9MMA2ST4Y33O9zRAmOpzNYqMhXDGjrpkH6WTYS4sKwbch+M0fstmfS\n",
       "kOryg5MAOiPLf0K696sOIQNTtNKfGg64LSobegsSc9/2NOQ6yrrTBM/bAUqSW3gwJNM1/xTnsCwy\n",
       "9NBV+iPGV7/lv2W78RcscmUp+yGmMm8UNAqmVrk3hd4Wzkas3nt39UMJIIAjlJO+QetJwZx8oyF2\n",
       "83p4ZbsX3OY0HNSAFYSnzRFMNEj4n/ZGngIMTyW3XN01v/pWb0OyG0LY1Iq+kVx8//CJ7SyiLVLj\n",
       "ltrmbBbOKAC+kWsUwMqw9WLP+j+YSx9b5f9cyHMHGWvV4HJd54DLgzu1z1A13qlFS0fI2QAABYFB\n",
       "modJqEFomUwU8N/+p4QBUAfb0AAHWEAMGxPvLAvzoVqp6d9obUOXlh2ZnyvrBXJ1tLMYV8aQnpQP\n",
       "nx2g5NWggDPcl3T3NP+ghKfJ2cHUxe6nFZ9F+wQ1/mPiFLYvhG7/QcuZp1Q7R/6I2gih+XgeyrIY\n",
       "PRXmwxT93goYQnrFzWvsRnvoJZvtUkimkS6mk0H0VgGi3PNSZ9LLzCjayVrzyaj/4mzZpELBpr9S\n",
       "UqsO3E/h3eptSoTqdJHthwznPnpDW70N87JA8d6yyM6gkfG6p7+fjuJS8X27rsMvwXPHQ88ML+6r\n",
       "5XS0H9u+kMX8f4EnbZrOwalTZzTGzK2L40UeGOcbARNTwWz8YYMavwliPeGiYzxSML6uNlurSv5T\n",
       "e40RKo3RlAcLMZthIpnIL7d7UkmdJZz191B6K8d+fJIzSQoe7vBOBvVSK5OCwFR/PX0ZsK8dPKWe\n",
       "FY4EYaxpc6whzm+Al29xQAO/pww5pDdCq+1p3Rmdln8zj877qmgYikt0PWx4BH6NhMecM5mYMluv\n",
       "fLi6OgSKh/PB8m1CdbZIhTfvOKdgK7ZZv3vf+swLBnN8GrkcFBs5wKRYXjxvwilKTNvkZ0mbttrY\n",
       "He/vh3qtJcc2lJYrlosVaOWc3BsLQoG0YDsly6YvSrgHAUq6Wd0f+gT6RaMwCRHlqGTg+hMNrBKw\n",
       "cWm4JsAPhl8lAe/0Cv55Yegf1lBWRhbEmFHGF+cOeqUCxr2LDwX8/7w0/V6eXggfYrA4NKdRzBDo\n",
       "TrxFFRd34GRCmPAwUtbP0CulbPRdGrVtfLuRlc2UacxHh2k5scppBtA1PW5gJotxbD4n0nrPdGKH\n",
       "eSXnhPY6tZI22LAhB3pDTc483w95Xh5vxZn1sM8jbenvO8ZQVMCqpYPbNL9qs9aJ1q5qH4jQCDJk\n",
       "pg1l6XIhy68No+6mlK51U9vdWF1X1xukvHCG+5lXuZqSO8ruHpXghvz9aHS1ee5hzg17beVFGqZ7\n",
       "487C4VOHwI18gzcmSk6j09RmGkvhqIx/mbDZdbZ9gTAwNTSR6c0V7+1h4wfedjOVqMoCOGTMlXrW\n",
       "DZYHr2bMsbbLXrIKAdriC/g826fza2RkIVDMLEBJm8iUxiHN5AS14hJY+j5HiOC7Ic6p1+WLTPfb\n",
       "0QIug+lCU9xOy63/PA4G/n2Zb0C0OVBJV0nEcIQvpcme2WDNg7ADip4OUcoUzn71n+zFszkMJ125\n",
       "FDMGa5ehKIjlP0JAFFfP0T7GL6azfId3CaAdxMkdxTpmwgqujVXOY85+lXtJQKcHl36/s3TbdqrY\n",
       "bFPHYiFyTrNCTedEiHPYkpBZHrIzDTNe2S1a6J5g2Pl/v/AV8n09GeNASRpj+r6SrM0QzB5r/C01\n",
       "RspdeznGauWA7bkeS8SfKuvGJ42nHZKORoI/mtdLToeUWkgVOGIeFsX8tNr8BzGBxB0F+QBreV19\n",
       "sOJc63XQ4X5QMLbncvfqincQDS8HvunyzwS5Q13+e8e0WEY79It1/5x7dKWw5sPeoz15G8lukVrT\n",
       "gcG/Ko0H+7xXo8jXR57QztejQXxogHdyB46ZMffh3gYrm6OeGlc1s5yqHPO8PnTV3p4ekGg4zZ8I\n",
       "rQT7fncMCexdktHJAnkaBRmM3UkrOUyYI+V2g0cROkgL7CMsbOV9L+/GOxYHEOQXT2GldigllZhK\n",
       "O9eAajfgda0aIyFNucOyruD0G/T62kUofpKwffMD+ymKDTjqZRK1pw2KyswvqAbuLd2QzG+lft2k\n",
       "EcficdnfiE7GOFHbiSZ1WL20D43OU8VfzbfCkHm1BC8LIdo8/jZs/HoDgil2wUpJd7uaadcuu/Fp\n",
       "NY+b+lsax9x7yaIMRtJ026hJS+BzIyo93qrNWxXRvwBPV181qAB3QQAAAe4BnqZqQr8CSV4s1WTw\n",
       "zh/lPY2bwqCOEVqn1uu1DODUwkilVrd+1mNwBUzzsBcCZCWQQWdprEO2Is7UDnQ7oTknlVenlM3n\n",
       "HRYy22siAK6y8v9KFcagRQDdzSV5IKU3YxJQmcYTSChjWO90OTjyFski9Ag3P8AjjKOfZDxKBXF0\n",
       "C7ImoWbgmKhJ4ZX2NTwxrB6BdycQc4dJdfnUqGgPvrtRSnWmsNRtDN/qGfMt6+X0JcsHwDUie1O2\n",
       "2gOpSQxLmNaMp4eVA/RvyTWiMFV3T634+rBtgdSEbkk3bRNVyK/OegNNAxqy2rNuXSntaT8UKGw+\n",
       "5jt1GltbYHGaeiLLMHysNyNGEvC2tz2Sk8WZKhMPh9Jl6yR3ybf7pKU9YkKEj7M/m/vClX93dr1U\n",
       "cCeIc7xyWxWumNoTX9gQGBVYPQN4DoVENBBxIUAmlxYdMzH6GhboLgZ7HCR2ROUyL5PK/RiKvMDt\n",
       "G3nrk7aYX/zmw7l5olbN3Xhlf3Co/q3rTKb96zq3KB1mSRCFQ2ZBR7RIl+aaT3g1efcM9TvZgpCS\n",
       "1gPfQNBiGyWtBpHSlHhT0wGz1xCxf4ZTRAu+cGKGafLuzcE3mFIfymDLTasImIJNeDjSyfLLkAM6\n",
       "yMhb8gS9DRu7iC25hnB0rD5A74N07gCfgQAABllBmqtJ4QpSZTAhv/6nhAFbB/Fz8fUp7gEwBjdB\n",
       "PqKSRqUm2sadWmcZHWxNxi00avYJdC0uF9fnrzKsR0++ovGKpTVzbb7YOHe+xWzZXPlVQcVDzcgC\n",
       "xAFhEpMAZD3+EL9pBw0BMaHoSKbWfw+pV9x8/n+f4H0PutHVVeg/hiBnqOwdVwT69NIViyRTcI7n\n",
       "0/xV2YFXNrFLkh2Jl9SnNaGVUphc9gXMXeQKPoez5/51wlVH8dQjWqaFwqc+0QOoLJGn1OEmwBjo\n",
       "SQoArmwumwXMu/tESVko8vx76Fzw/7Sx5OXFSBqiiH6FnF/cvJWRHXd2rJ3t/urSGeUNCmyqsEIv\n",
       "vvdpsZ9hzBxKxEG8FBlwOJGOxJ7HhlBGdutIq1CXCzdS+99huOGzjX3mg5BP5Xo8aJrKt5yS8INa\n",
       "1HxqnrQH8f0GYRrqOkZpXkDi0wZoYqBCBIPxkraKaOYQ5tbBlNEXiOyyIX0OlcdczUOASvYO3sbm\n",
       "Qjx6MzqlTXS8aw6bBwz0Mp7EVDpgPGXj6pEadJP3vcT6fc+h7xGCszMmx/uJXv+/T/s/ZL+7fT/+\n",
       "oC9+irMZZ314IRMs7tTiahAFLbZpqksig+dN+d7S0ICC4QW+wzO+J9/7zFvh85SpEDDqRM/icEyP\n",
       "Gmy2x/Ms2YLNgXvG6V9eR8CRt3H/zUXwGzhD4BdSH5/yVyIVDvijPJT2MRHfReAzBps7YSeUCrcL\n",
       "UAGVoRQBIfYj7Eacw+Gg4ejwkdclKBeD62DjjcCwYOb46nWyio17vJTg8/jVPL+QoATR04MIeMWv\n",
       "YAV82vu2i9NdSw0qUQ50xYmwm0EktckSyW+HGkijzjwQ0WQr38JIMjtx6R1HRNSpDK56ndsJhVUG\n",
       "1yhyGIhCphWCxtRDZC43x1HlzQCkQeyP7Tu751tdQtvfGjd7soMBK4Gun8gHzMrhWiEzQE9mOdCN\n",
       "KOAqHJwbny6/XqkZ0EguT+kXaUEIQI4EzdrABG4edhNwT85mb0SR7pElBfkgM3C/Ep3GIzUVtUlS\n",
       "oa/zdLWzCNHx34f/8q7Ai8zWMc9mL+WPAJ0ukhZ2C8pmUkSht1T3aSm/pM/HpXfEtDIF6v/8e3Hi\n",
       "+PHaoUlk4wfvGtvuil6F/7LAfbWS5vipQS6ez7+L0Vv81D5vzmIkZIBjG5sBiDdC1w3DoD8IhfzV\n",
       "A74CsvttnB6O4T8A+Ye4aJ2dQl6l2AnfTiBiM7ZcdE8pHrYOhZ7NSXB30jgPr8EtFI0jxg06FE/c\n",
       "3oGZAIZ2KZOe/ywaAroP5icqw/ElvbHFN7MbUgtR3epRh49z5kGH9GtoiadpWVYN1NuzyCCtniI6\n",
       "hXlKsVp8wWptkSz4JmMJtGk/+7toiH3wW73Y+8aocxWNSdvBUcyNu5y7DDvMfhAbHzLu5JrQ9NqY\n",
       "t6uwK05rdGvOyD9Cl7Wiz4aq5Dv0VZnvrd+uboSmciETYsy1nBdQimUKbQlvyVX510cyqnBbH5uh\n",
       "gGHh52szH7qzGBKXemtXx8gYQkN7ed5fcA92dHIIiObnCzqRK3Gth/meyvYY/6o2rrPXUB0x7co0\n",
       "AOILX+pmqT43C8Wyrzw8ApiS5J8lXG0b+RSp6R7VsAgPDkUROFSgfgZO1sY9//lNw4sPwZY9YXZH\n",
       "wH1jxwOTSSllDQaNDWMLIvIw+fVpf2IgXOe1GBJZHDe2SzL7ujsSyiAYqNhEVO+2KpHZJL+Oj8B3\n",
       "pg/PFwFSZARsXq6zvNIVczeflQmBvkkxaIs1q2tMAg5uHKE+C04ucnEClqdHRTS18VVY4LhVJ1ED\n",
       "tEFP/rdvAtCPERCfmSmjH8TihFEckCW4OEoeK6Rta9iLDj3Rsxl0AhFLgjnxD+YlJUVjcrWZO++b\n",
       "b6rPNBhq7gv17Aw9r17Nn9fAfxgCTBVhTZjcXMUwq8zjPdG2+Tsmv6iztwtKuY+jy+BlAgJJzZFQ\n",
       "2PHep52rfGmlrhJgnlUS8OJlhJs4+PstKVxYRTueCpuZVeRnvn5KfBXiN2cax26VYzb/CEgzIpZ5\n",
       "rPK95cCNNuMu8y5StfhlRDneHH0ASagC0yn3o4fy8N/1i58ngHXMlcJ4y5AGtmJ/S1aHW4w4tC+/\n",
       "LRSS1tW3Ha/mfGtWC+Z1srPPqoyBuPi2AfDfxlRDeU/ywO4lSBCVtHpRhbVfd1mq2fIx8wzZgXgZ\n",
       "OQAAA0NBnslFNEwv/wGyurpjtb9zVV2ue7fEKpcKkWi/Zz2HQTjWeLECgRvp6Lst8/2BMwdZbLK5\n",
       "vZ+BrLM+c1XFHie5DFVjokoqgnysEOZl4AWHLgko7O1wczMxiyN5s2tAqbAKbI2bLviLJVce0igD\n",
       "Blft7fLvg9hMKMVWkdVggsLW4LzQtt+96LfT5Le3/BKM3JYj+qNoBEAnbPsGlT3GCZfmbNsdFmgx\n",
       "sJkwKcj6XrAlDT4Czl1Ng2fB8SXvvbg22gEsciZh/NduhKSbuJ1Ok9k4yRsW6ppdptSaAv7pv2F5\n",
       "aNVKKgcVS8DHYpaSwhPWkNY1uxdvj8IdzUxZejTuAAX1dz/b5UVohgmGiuej4MdykNg31vX+wNtC\n",
       "KiErH+EMJDPNlCS7CvXGMa2eX2Yw2dMutLzjM2+4CTrZG3vmuSq5+Y+4jWzAQmbZUWQYQY1aLeVC\n",
       "fJE4beP0qfX0Z6h+oVnH+nJuRvthC1DfPKTOgsYuft8AnikLWR0y35rhErw0WQhNnS7rfwt1iSh6\n",
       "PmU1Z1/OecRLxMtWvbXfFaGKXbbDmSc1IZdsumXL/zuyA4KdyDiZrDFUYXoGhFRlPjk4WwVkN8Hv\n",
       "GnSwr5qHY4qQAQkTVuK34tNitOFK7aNmS06A62cRO/hZBYJ5+zR3rvoeY6pfOIv8IDaYd3XNybuh\n",
       "qmE0XMNfJrEfBFS2NHJXQXrpQOTha+LkgK0x6QzVF+GvmWLu7htL7eqjQdxplS89W2VCPVj/vosr\n",
       "BDfVow/edTsHBEmphy03jTOpEZlzWz24PhcGAYlCnudp0lA7SKPe8ArC7AUZdKqm5DhXRdkRtPeN\n",
       "/rZghtrkidDoCRmPO575zWlFOi1zIq2cF1p3pxK/Jtse/a/JuohF7gp8IdYezGgOdIcIJ2y95A+r\n",
       "6dAaelBPW7sc0CoZPqSi7ZgStFegohODBauRGlRMdfnQB6Qfpt6JLpx+Sd5HMv3I9P04WCFCEIO4\n",
       "rnYqmwEPSe9EyvNYrCy1dNV27sDSB1LJd8b0PebcmlqvMN70cYGvnevDLjjPrUIlqfPbX3PZMk1Z\n",
       "IsdYr3uI7z4ehej/IwCFX5DVb/uOpPMSbecSAIo+pkQbgQqGDegZ1FXAAAAB3AGe6HRCvwCj5KB+\n",
       "dBOzPDxWok5O0InE4hREhAGYmBhtrx1FBPu99lLiLEyava3wT8CIouUCNlblGO0oowAiA3S5xnTF\n",
       "mycFvO8vA5yWA6VIb+fPx4eIaVG2s/rEHQ2E8pgto+eNUXHBgrMv8BSiAlOkqmb3Tt+4vhfqZZXQ\n",
       "23Xbqrl21QyWELM8NsL76IDwECbEAC7NATI9vIZc/u5GUbg1XAOYmX0I2bVxb7JUbifXF4e1Oekr\n",
       "V8EjvUWLi0gaNydrYfCZ6Q/mFvB2q2jy+edza+N0WOaSIE8xr8rZWEboyBfBA0DZ6idqWkk8aIaF\n",
       "HBA5FWG8jVNupT28m6HhXZY/BoE81hFHtZ/eNpDng07/sgkrcvGDL5/aPKyvCls6wSTKufhZYtv5\n",
       "eKXqOOUckjGGzuvTJenO9M31FL2SvewAGQYizeASv9Y6kGdgxXzOhLlyLqMTh48qFmq/KWVb04rr\n",
       "rm2GPpbsSiCue9BNJrFf8gmWpPS5lCQVv9Kp9Z+P1UNqO0gYq5Lw+j0OWNrBzucsTtootLP4WO7q\n",
       "cAqBECwEa/4nc8iMqD5uGsPwXLlJqAFlJeZkRVBFizTXU97qWiE0h+iACu/LU/sCViHBWSzP5mho\n",
       "VbUp1E9bwlcpAAAB5AGe6mpCvwCSyUVRTwMLNrPRoYg7xZrDyWTGaKTWdFYXnnJrJ+eoOQ8jhACR\n",
       "CFOS5pKLz8hJv6/8WwzwBF01MPOa4Q2Be3lPDZqTk5jBS0PpdLq+r1LoehvuOurVvP2fdXfZ10oh\n",
       "+gHI0W80zeW2UCEOjjTgMYwwi4lsUB1KyyP1M4PrpCJa2qg7qeRswriWm86TsCOAr7SxNyhscUqB\n",
       "Gq1gaOmTApnkLIQFNg9SWgzJQ9y5wlz+1xrWm6hcn8ZlQQoO1xaeKPT4o9PZgNP4oYNx6qD3hHrr\n",
       "sJelHKZ48jNScyvVye67SBu6IdoM8BzBbRjW4Mleh7kji3O2bzRc7qPuxwIzuYW23HqGs8SD8svn\n",
       "AcCYjPSoi5/D3nS6YMTm4Zs86ZV0/7d6kHsrBZlnoclUsYjniu6zTdTrC/IccoYzjSsc9Nlc01yY\n",
       "yVjpQDP6OJ7PHYMc0Qi21brf6N/nzNl7Bq3f2TXxrW356wkuQCrBdWCbeLvHtm/9JRxOiUA29Fww\n",
       "6ucpvBep0hNXwYaWEIpYB2UBCOa65JFJaQdvHaJlJwZgOfeXIZJ1Rtaq25iIu1TiDfgliMui43bz\n",
       "sMKs3uajhEOOvDQZy/AD9og9BBExkQWtOKX8yl6JjuasedcCILNybTgAAAQRQZrsSahBaJlMCG//\n",
       "/qeEAWYHhT77iSEqguAI0uuAxNcuB7iQ4xVKwRKRHYrqUDytEjXG/iiASQnQXgCHqhCwqWcR3ydH\n",
       "4mKbAm5UtXIE4OXvpoEt49XEBYpMHJgojQNjAzztUh0AxrEBtV0549cI9tqygesBXpYr56QDxmLJ\n",
       "T8Sn0qNEGPS5RVvEFdMbnfUcx7yjYqcAsJhz3dSLMz2iDwonH8KBFpK1CaZFjJrSGJyQqY3qywro\n",
       "o44o+S78lwVrnM68twmXYXhq5eR/nv+3rXArP96umkbCkqDg83AuT42SSz7CAHSbKxuylnnPYZU1\n",
       "wNwDgJz6Ls6Wkfo4diIUnAUNwA67Rd1+n4S8wJD0Cy6lI4Xg3Jvt7i13dNSUh+U768CmgXr5Is8r\n",
       "fedUgQZz8HasGmeDEEDUQsdOMQh81sdJvHlVQktaSR9dgSTWr6prwEwBFaj65+oL4nyFysuKADqD\n",
       "SQPeAAtuo/9w7ugGv7XDsbB4xZtH28GsPO5VTWBUf97SVzhA0kb9EHHc/RqVy3kK7worzjF2fTRk\n",
       "FyeVEV4VDkkOcPpIGOTcO+h9Z3xO+JfHXls96JmOnL1zWJHQSWIN1oXSholXNUA4X6RG+7KswDlY\n",
       "soDwIWxgI7aoTeb2YvC5p4tTGekX0QKijMkcsCNQEdw6HN/T3VrHxfJFbERVTpEQbzQq+1+gPZ6e\n",
       "TpOLaD9fL8gBwcFwIPcr9WNd/YWRts4Eks4aVQw1RhZgapeqqe/dGGejctIp/gVJ6aH10ZhDrgD9\n",
       "m6fyMMbVQtFGfsKgnfv0N1Oc3uiwSavcV0XzP39aryxk6hJ7ZOebuBK+gL+5L0Cr151GJTqxLFob\n",
       "4gnBhQtGpiukUzWh/x7EtchwP3fB3uLUQ7RPipisrw82CEIWRVAHX3GwpvFtpKqHk7F7eGuQVbaA\n",
       "z8Q4AKS6KgSRDHzbC8bcryj5tAcHQ0DnlCCmPqwlYflSc5UNSZui+KX0LjvqUDg2/UW1g2ZrGtWT\n",
       "Tps7hM5brGw/zN1OEjuHZsT7l/ubpkzgbkKhbGx1RZ3ACa5cz41h3bSj2k0kKBGvHUhlGpM2kXfk\n",
       "PYbJkbgxTeKbgMsEVXb5Vh1rI7+UwWGqb0P0rXAFExXpEa5jrjyaTdnjWx6CmsRJxALs8PZAqZ5z\n",
       "U71C2rLf1pBgt7y2hi0D1G1iIJ54ROq6aC04liXkGJvYAhdCstCoo/2q1K5oQLUMbzRoT1LcD57/\n",
       "cogoPY2If65bbVpX0l+Tc5H4nauWaBpmuUpl2SahGjNjetRv1ZrANR3u8t+sFFVw5iIL78lUk6rI\n",
       "Q33OgB3b70ICkZq/jBKc/XQ1ZsFwmULxY0ibQXBn/EA6Btlu8Qw6tVpkaYibc0JQ7UXgNEgUzmwr\n",
       "ZiNCAAAGt0GbD0nhClJlMCG//qeEANbgaDN+9agAEVepMzF8XasbIUDqpPaYpaZobq+UpHIpaWgO\n",
       "a/ncXSsZv71PIHyI0XHSoq311RbnCnNg4Pll4WsToAzIb6S985257FkIL+2C8FR4HDSGNAn8lf1P\n",
       "yhQ8MIyJ5VK/r2ddeJ7gKI1VP6fO4KlSd0xNAXunLZ2laNEjztNe33h8fWiU3xKUVDBxYcNmS0As\n",
       "SWsJdPR1hDDIG9opW3td0R6i3WvFVeF8PZD+K9CYGeLb7UIsycHfjpBNyWxrg/yL5sXMs4ybFeDf\n",
       "JxrWKmWzgChgm+5g4pb5Krg8S+Z7ZJTCAVad5ImzChgOLWtzZTrXwhpmUdyQZb58UPbMTLt04Qpp\n",
       "8X8MytnVyMD5BEsfuZJE+fEwkhmjGbAJto9qE6qCFXOzLEw7gXAsEOUYqjwOo2Hc8TiQLyquBe8h\n",
       "GcHZtIXoElHO6+FEO4Ob/ZnbWh9nRNT3vUJAqqaKMVTV8ZXvR5YDcgtqImF38YuRkrOCCPNwL47M\n",
       "pbrpOaQnmGhdO9TFqG18fRo9WHYgIwgCBW7kKGg/KUZYDyVLcJQNMKn9PRztlCjFrXt/qfGDOkA0\n",
       "mm9OHRBfSc2hW6Z6hrUUsrZX+0+aH8Nqhu7w97tusc3KDyx2D6BPYQGFKQ4g0B1D1Vcq0hYe7sHM\n",
       "VScxMg47OH1x3JwL+ZjvojgM7ZD8KGVNN7JNh78PnRg+saw0GhSI3oL28GnrKWaeTIMUo8Ozxcfl\n",
       "5RDERMsb+tqKJdJ5/zBvnj3rGnE0ilCkX+2kwtXLK7fNXceWTQ2BeSBM0wBY+fjMdpmg40plTXvv\n",
       "/PEJ5viyRx3oUDNghENWc2ZBaH6Fv0foyxTwjqbmu4vtezh9rA28r8tiHKYZNz2ms2sPsmRbuuvA\n",
       "Ch8OlzXOa0nOk4Csq7506ZfKor+yScME6c3SYrsCmClVZNS3qaojaHoXqSkAXTB9KiwdYw9V8tDl\n",
       "AP3fYjsLJ2W5C1fa1pad9PxtJfUIuZqQWGBb+3/olvWWFhWpgMiVL5CL5hygOAGdpiUwF9MXJH4p\n",
       "OqFS+TP2mWmjShXs2XeZ2nJT5AdlxzVawiuG+sZwErLHug13hCiL29lr77GjxBcvLInG9PzQhlUW\n",
       "LzNiuBPMxnD62khdGBzU8f6qj+kcTO0ia/UDvExW+2TFWdRO3LBanfjDIU8+/819QSJZCU1A2+S4\n",
       "pil+EMCUhMI0HtARvZWWltzWAJrMcXOKX3oz7XQIYgazf3Tx5QuQN1iOdDVM58AQBLGoKHfXknOw\n",
       "rYAQSwiEvFkbckMjK6MevEU/IRA78FFXBJj9baPkmdBVIZcOV4doSlLcMPazX5osQiXbccFlJ80g\n",
       "g+axtDZRCCnQGCPd+hFn+M5H9JIN2rtw68Tlcq5tgSkZqayiLzwjzloJErdlU++qx8XQl2MOO4PN\n",
       "MNNjhTnj0E7CTMt5pLx1GnL/yBp3ofFsdnuxDAoBW64X+jX4XwT0wQ1I/fCBEDAAxf3o8tfwkOVt\n",
       "cmYe2Q1DujpE9vnTpSmbNjqAQO5EXzej16YuKcuv/y5dWNay5qcYXmPusGvWs1KAoD9rnX8NOY/Z\n",
       "l4W2JCZjBW2y4w/N7xse6AfXmncKl6+4qq+GSAEJYB9O4W3qFHmMNIKO2bVlpM3WtJbEmycld2Ln\n",
       "lYbITeMdmicq6ws8etuPonLJ+eIftOHEupiWs/T+CN4w7IDmjo1Jp66gjapH2/jpQP8vUZ3P+yEK\n",
       "IcLT4w/OweHVyw1dHBRyAzL7n2jj4yL7Hb8cBARrq7sAFuFecvqlD/hP4N1kRsJMzgr+lUJ0AtkX\n",
       "c9DYoDCvuBKSE1DjC2LGP66i8dMo66Ytz7tTdJsy1F0wlVV1mxRDzoeEenEGoakg1Ts1o5Xed2Ah\n",
       "zc9IqIHFvh3JfFqHbJdyK63TtfU26DlVwGuklJXzpEwbQkB0njV5uQH+yCLF0JugpfRn9xMHp8No\n",
       "vLIghBOTHiVZ66UqAJBrqVPMBSuZBbO1CPMgcOc2iD3MK5vYOseVtk2W+ffKEgaoi5YNRzHw6UHy\n",
       "xuwDpjg8SiTP+tzE2lGsZai/wuxJecnz1LPO9d313OfTNEeEMgDMCYqlrP9llXMxx/3Goj8G5D8k\n",
       "JNF9Q8zB8dvH32RI9CybAvjSrxx0BCo+MGQVunwFOVqDaytz+QMs/lS+ie1zkpA3iyoD0EYE6BJD\n",
       "14JmNVwe9tjMV3b0OY1l4olBFioEq7oeovJlDs7zIXX76kXdrnBwDKJte/YUrcdc8vlHLgABzaSv\n",
       "MB2N6rit4+ONY11w7udflQAAAspBny1FNEwr/wJJG2Sx9parHvFQlZIhVuvdw2XcQVBpWaMlb54y\n",
       "pqbqgpBtEla/b2FMASGo3E8FqKEixOoA8u61QyYgWCjxvPl7taxrccRvtzzDpWlgB3KDai+nVUpu\n",
       "5JLPUW90PbeZR/UzTOxCeI08l+xKdpQQm1oc1OI31iH7vGOEWjmHnRhL2jAVUW6lq2PyJOXCPC6k\n",
       "eJX3VAOkSNC81Iu9REnEyB75XcwFOSPQVvpFl9q8FJlkz6RZ5rs68luYEowxhjjTULWeftq2LtfO\n",
       "rltE1hjJFQCesj4TpUTlqQq2cSQferDdBauD+0cvG6bAHfUp7kv/+LfjX42gJ/l6n3wUrZLD2Wag\n",
       "XmJKN1mE2EfEwJdFueicnObAmWaJ1VkPX6seF87CtzGiGViJe3nrkc/X5EC85aw6q16PFD4lFcmp\n",
       "m8rdodc+opzto9l9XqdufGj167F3GO/E4NaKMGu/DrwPxKk28WwqFxP38Hn52OVLPkDuoj+wonSa\n",
       "7QYnFhynXA2bxKucaAcx9giBxBbEIfWzM+W7pCGpuPvHCvkpayVwzc/BBLCu/RkfGMy4DJaMpyRI\n",
       "x1x0UI1mqyyxq5i+Va9mMTo4g+3DmbU8B7CCHB11CFcrP2ukviziNG1EXNyI5fz2ZKXGb+Cmwafz\n",
       "KYkAo6ei0LJSHlQZGB5nRm3tW8Pnn++lSx5qOEm61IAW3rAkqkpaJwMsFmuufvo6Nz0u4qN6Nn3z\n",
       "ivCZFWObPbNyO1S3p6Hzg2PRkf4eS3vSJVQGV2jSF6BjhTP3+1cFqzoVn70pa59OcTZLxlHTZF+0\n",
       "kmdWtGnMKlxIRvSWXjdMiPHbl3ZpbJFnbybOKqZeuDzi/rE06TKBM6kUNklnU3Y+LoNL6CekDVTU\n",
       "fS8xUQAt250p6erzYRbszwksSnovFtJ3kWo2a6BUqOXkcp0BsZ9ojzq3ocBoTIFJN4EAAAH2AZ9O\n",
       "akK/AKPYTvc/SgTLuvgaV3bnwVdouQGwNT+EqNeksvxi8CbyTCVg5jwPLQArs/YVgU2TKSAoLpxh\n",
       "Q6mIWI6x5lqx1FpNikmnlEIYNF9kHy/GBLP/yeB2O2kNxMuvyORc6aB3R9a1xJ1Emt0WhCJTepVr\n",
       "7dsDFcUOWkELzIR9g5W8RPY+CfQukPgAo8E5FE9DWhVlc/YZExY0i7x1I8Ig5dBVWSnUETKgFixa\n",
       "xF9LoxBshgyT25IDd3qgTyG89l1otKvPYXJusyUQ5dnyv3DdaiF7nRn77oQ0V0+DEw4L3ft1IN2I\n",
       "/IcMOagdwM/alxRWcsjDElHypKhTJApZj9T3fzbVzQwN99zRMpBLd0Of26c/mt4BSW/yIco2FtJB\n",
       "9m/i6Fi7Gbt5jU/Se8u5zB5DWhlAgsHwgu1s7QSQGXx/reTJdlm8gYPky37CEvkrpXcCkJqfefsC\n",
       "bfcE3tYCKCBHJB9nlnUZ4trhTQzGIiFVGbXKJW9Ct4Y8YBIh8SizO9PG1VJo/d6mIu47LwmdOEBv\n",
       "U5+l665Jl1DWCKCIYoNb01UJKq76803KDDl49S3T9Jj8D2sECKLA4C56IRc8pnCXlIFWxCv76l/5\n",
       "HNrZmAD4zCbEaw9AGmetmIGOJQHOv6M0iWYLlVOQ8ZDR+Cb4Gckxja5CTwAABMZBm1BJqEFomUwI\n",
       "b//+p4QA0bq4KtvGQBDvXfjb/wfUJ34FmL2aFsHyF5h++cRxup98xOtsjC5gzbiLindV8iWelmqD\n",
       "8TrnH/7TOQ6xcU1z9//8KpEDKgYhYTOkjLad4fOeAAT8qZMzG7jAywRC8I148LN5dUSYnndjPdDO\n",
       "fC7Vm2+kjddEfakYrdEl/FG6+2eQDxdYGxsQDH5DQg9AZfFOkSsMwDkuDDdt09xhawv9k/RKpfoT\n",
       "ukbFWHQf1wG2VDvPT8rrYtV8gzfRzXpGylxRkPje1q0Vt3ZwoaA6wJMJqkfBHeELy/NGeZ2z4B0P\n",
       "x+NUeB83GBz5khS6UqEHpmsZU7H5M2kHjfHMh5BxiC/AFThv6cnA8mO7eDQAHxb0m4SjoBmdNiwN\n",
       "NtlUzQvNwsdWvdeqAJ7QgDupp/x61nRpusAbSOGfZW6QQO1N2oE4N2KjaJc+HUQg+d1JLA3JhTTd\n",
       "fc6jnbrvuKLwBKZFIq8CTsi+vuO7FVcFZ73ItG4OkkCtjIVlald/zP3KMWKr1JgFDY0+uow6UyKr\n",
       "STuMhpAm6kf7MtwuIiM4R/RPzzLBqZdqle2/RTGL/Ea93P/QbxYe/cC0nZikAyblXTfSqfBnUoiu\n",
       "+fLRHXwM3pyQqdWdC3E2p/1ntoUSAyt100HNK6VTGlFFPQ0SX6KyyctyO3giRSCed9jvIlD08ppO\n",
       "yrWKkooh2p6s4a1Ix0gj4S7SngcD+zzzOdz5qUvRZc+eXrBEWWMtRIwQjjjoVDizEPRRDX25DU9p\n",
       "UdthgkLI5H4vLTNepTb54V0MS/k7dPhk2ONwzoSAswkR7n1Wyx1RO4tKnpJyo98zFM0pFR4kvihX\n",
       "TQCyhLpe+LMpdVOT6D+zDCuEFeWGMVapj8VcnrmtPPrdEAW7LXV5L5Xi+fhjHmJmSj8Aj9cURvyI\n",
       "Ofh7ufzLRa4HJ8n9V8EvRzP6ltvBQ3Y8m9WuZdlqLOhBXi3oyPl899/OiZzEQRzTy3R/G+EMoBOR\n",
       "hlzQqbjC1b1IyK76r6bpLYvxpxX5h5GdlhVQbGdCEp/5mSPwzCKueTuRhl4fnCo4SkljcVxoSeYQ\n",
       "Spnj60hE67o3KU78OtVXFNU8urtuTZR8s3YqEFfV6DOy+XPeGSRzm+lqJrcfTnFd7Bxsnhs0A/9u\n",
       "nAAQJHZ9CimlxVEp6tws2PfIxltVqGhaTARiFAFfkCLOdBz56UtIGnr+rosifCWbZNVSViTrmllS\n",
       "OaVIOF6dtPaqf51VUA+v4Ft4I/fxEC/hV8geUexiJFlz/HP/vVNKPSjOVQaFufmatwvH/elOOQT4\n",
       "EXFHy8+2VI/mFPellD7vENoIacC1I7fY7ceu9MVvpBP8XAWrnYDBAMUsKon9wLFdt/SJwDLiqzFz\n",
       "jbx/8lnNnyexaAIxBI3UkcxWq+fP1SpmTP8U+6kqn2XY/mG208r0kZBj3j5ZLrWvRw7zE8oUIBZC\n",
       "0INI01Dt8uDnrBz9S2rypEVHxolfFjz8dM6bBnQ3whQf1Nf4g/ptZYUnatO5y0WD1BkAKZ0dMI2s\n",
       "u3NSfX1O0HvEDOba0m8qASgF0agRf/2Nrm+IaNRjfADFldCkisGtltWcbGTCom7NFAEmXzWn42hl\n",
       "Iu7XVdigG0sMBOprZ6JcAAAG9kGbc0nhClJlMCGf/p4QA1w06EANMDp+sYdx17gQmbMw0eNEMk7e\n",
       "mbfkLo+fotX9id5YhOuUAQZiQ3X/eKBsz+MPgppnec/XctpjH+Iy2JFxk9ANk9mxPsh2EMlYYD0j\n",
       "yJX4WIHIqrEFELXsDJy3Ri/3rF2pXmVaVzhLcOY61PxD0E9daBK8n4Ero3sTWtHWXwi5lKnGDll/\n",
       "S1ValVN66pi/vZ1MtNYeyQIi3MGr99kgLQ3+yrTKPkv+1C/5CyRixytVxdm71R0uDU3jlRIJXZVk\n",
       "b5u0EDzANbXmWBhgEChXxfDLCaPrbcvi76/LaiNkKhYiJfTHnVoPQMGskvrYEanCoARw/fFaIj8i\n",
       "/2BZ8nIZpV7pOuhS8tFVRN/pTG3sq4L+79xnY6225dGm49c5QFxMbzS1UXUcYT4lL/U/RG+jctlR\n",
       "IluPWk+zaN63NbTrsJIx8VQsjdMpHwVuvsL8WBjSy6TSyQD34p1JInMuYL7JQFgJwsyRBaqMYETK\n",
       "XzfLvoVJlqnMHVH8GMAFKjLSoAZEMas2KhHykq4UsLeZpagZBTKbSKUby4jltkryfm9x5Q4jHarv\n",
       "/+x6JcSPxN4fYfM4ybkpyfn/fXexTYvi92alyAAdhRatVNG0Fih6mpSPoJYQoN/kwEwvnFABYr4e\n",
       "fPGvm21yvs83SAMZIO6Uh7BLNVyGaEFmF/jALFVaoZZhmH9lAwHAoMQezkczTFH/gyn+L9HA4BRt\n",
       "vv7tCuoFqkl+OVyrNChGqm9cBsRnyfln35H/4AREcTgtxhqQ5cFJeyjZCm3aAfwVVs+RykONLGoH\n",
       "9IW/yn0NQfqheALlV+XAqvS/vxF54d+whhtydDdq+QCic+bVo9LzN2wJKwRKJZfEFT91LfS+ARxM\n",
       "EDQ5Tmz8EDoEttL9hJBI8q6pcvYGw44K2lDBAOOvnSVcxTZSQdcLScIAkp+r20plJvUeRsnyPN5A\n",
       "3mCOPVWEd1GyXQSRTlap5Ew3pPHEsIVF2uqQzYyeNxD+brJHHrkTyyx6azScDhwO/Gv/gteELx3S\n",
       "KfkEL48QP4+JxZbWtrAozjpFdCCfLq1pE/hIRDtqv+BpmjpCHpCprJWyMFoLCqqpI7tJsVc9xDtX\n",
       "fk7q/1t6wZFIT1D0hrNzGzU4DaaKoCgusjdE9K145/SPvo2O7bcfAb3rj89dZLNf8LsQh5YYsBkB\n",
       "LgZe4uC0twQCmnhAmAWS2v3R1c6LFD+yPjJ+LWM1cU4cTSFGeYk6K57AL8nDYPfJXmP8yv1ZiEiq\n",
       "RQIACSJlb32iUex1FEcZNtJj/sE+oaL2ZoPJT4gjvHzZ9dBO0AOBjeZ6v5EMynW2MGG2NLMa/80L\n",
       "jCFuJxP639AvoAhYvpaVUOhaREtaHoJijPys1JG1bvhk87PcWdby0fuA/OFznAU5wDQY5JfK+4s0\n",
       "lW7TBMIlNlXA44M88FLxqhKeujILZz0dFlydJ3O3ievtAQNkVHvkmcUWzAKaXxOJEm3aV/7LmAdH\n",
       "J+i4v8DCyvtQPuRG6JzrrPuyRYeB1OEOFPouOOefXzOBRxjeD4pSrOamDkH8Js6oy7T5Axi7RFoj\n",
       "yjK+sWXyOuhsyVg2Ws0TpYZTT/ExCRSoKlIsC4sIW9aLA5cXjfbLWD3/MeGssSxSitex8jY/Aboi\n",
       "SeaC+frY/YnfwHlTSYdDlfsbGrQGQK/cU/psRwFQUD17VG3RQ6GiXxQVAcDg8jm4Neu3lIUvifZo\n",
       "QkC3s7QktWxjtonQ4B+qOcGJS/4wWSdw3+m3k6f8vwWb9LvNUkCICxFKFxt0MsxqoZaVoObxV737\n",
       "pxxA2xC7QRZ4TpKaOzIZ3eNwNeJmQjZRdJKwPn+NPpeYZLntK6vptaeCG+cT+6Oh+voHzA8pvjL8\n",
       "ESrfMSYmhe7eQUIz8JkcPlHYBPSOpE+A7cjvIhWGPZDs7fx3kPoOAhCEv259ItWtBZ5iWgobCMPd\n",
       "HvmRI1ZgQOZkaL02huGqca3hFaF0JqTeTqech/OH8oEULAPkegdRlo+UafkmJxNUqnPkhawz8Duf\n",
       "TuLzz8C6fV0gyKXt7tPUT1LZr/SrBbW/hl9mRjGvn2TR4DbuhfZA7yxvZBME2rFUXcLnzEeR4/FZ\n",
       "yYJtHslhFJfKY7aBckOi4IYspUU9JaHBNeyaxQp85EoQuS2u28pYdBwZ9SuqXbuVoAjzTYuFFrBu\n",
       "ClbiPzU+q/OUJtYpnDVLSsGgAbbgQXOJvbFu/TWyoXKQhRQeL3IfbG3xGXaRzR9C2IpOE05luPaZ\n",
       "ZtJf5Suv0S7TLUJUC0ztGh5LXhfMCG3AukrcK7pY4/4OnAD0GkKHfs4yDJpjdFGVuYVJPgZOVgVS\n",
       "iueh0siJwTCxJ8jyQFckNjatphVozBX97tXC3r/jsPhDAgAAAfdBn5FFNEwr/wJJG2Sx9parHu3W\n",
       "ALy5nfB2dxo5tlIZ68QUxan+oAR8ARw+zmL/MgY6WAFxo1gq06IP3pORsFy4Y72UXzyqQHOPuk94\n",
       "5DZ2dAFlV3QyhCl1cY2pWdIaDQqnVp2QJbEeZQ5e1zMq+plaNMccDX+lkioC/NdZxUdAbVBgAZDY\n",
       "3Y4EnU67anZdaEyZBY4+AvSCEl85fdqN3wE5+8wa3f0zVA6w+eK25bAxiKl2EOw6tEkazoKG79JP\n",
       "rKawmKy5g0N/CszmXmDCYMBMwQvNx1E3nQb08Da0agZumiceETK0iHyTqtu3RnMmhTqXPHV7k71z\n",
       "0VLWLk24OXCQqoN1sFm1tm0eI93CoHzFdaihkt6zWgUDtsuy+2xMOHOf/qUbhDwdlzhp0src7gbG\n",
       "VppUFm3nI4SIcBL55A0pos0nkvey3o1PqYiAma9ZCnbaYC/DMpR3iND9CSC8C4ZC4PwG/m5h7lWl\n",
       "kK+r6ZlPA24mYTBLzmzeM+0NPpBYV7RXaGNMzp1XNqr36R1/66/g38kN3FexKJH5WjnEPC2bo4Mg\n",
       "zAL+OAXCHT3DYVAMQMPSrZ9MNYk8S7H7b9VjNJAfJWUW68oTlKYgMpEIp25AmfXJ+BT5t8XuK2+C\n",
       "Gy3yK0m2GHTMDT2ShnhgtSVe7NK+1vVxQqkYaQAAAb0Bn7JqQr8ArLVd4SB785F1CcemlbnBPJMo\n",
       "ASZtupHbLRdcAONiZKxfhWYvTRFmIKFLjVe6e/eAZFA+qzit+HowFQgaXb/xMoyrVeJ7/Z5LMgrU\n",
       "vC/fa5kcWrtAt4YDle9ZpzK+/APHjeTebMKOXb29SDaoZGyM9iFkQnXTzI67q8SKQ398opTS17Pp\n",
       "XLs4FGITS+8UIwISdtMVchrM29SSWH5s7qnzTkHoR9X1PgSt1lEDrX+rKdeOO34DCjK00QACO16p\n",
       "sHfqzSnN8+q7ay2qtLQg9BQbhLTPS8wGFFdrsCKvG9uaf+0b89VQKtQuDW6rlbIT/3Hh0zLPuG/9\n",
       "6CG7caZnSimx91E/vyWxiKJjKRsBkkmzVTP5AiD/DcgKvLfXmQZHgdaAo7bMWA55l0un1ypxTtFJ\n",
       "2Z4LzHs8LLgrEI6KVB3BUYOFMsRDpzWqV3F3rWDzrPbM6/0Bi+cJTGobZoiXTPnLqjXa+5pTorXx\n",
       "+V8ZuzB+5kEdjPNXGNkKnNU9BDjV3VWCsgAiGWCf9bvVVn7RpGWhH5IEGM0vz2vFNPDoe+HVr6/M\n",
       "olagMRENvOz9Iw/VzXr20VBOm1NOAAAEAEGbtEmoQWiZTAhv//6nhACenomPbi1WLMfYMwZiKYX7\n",
       "ItUACkjXve7IpvJo1Xr7nOd0gwGZ3odhptJN7ZYawH1/MswsplfO2oaNeiMzs/bp7Qqb3CazoXkD\n",
       "tS1yyYFi8Qito4M9Y11Nzdhak6Um7nJHXNvRuFJbfM2dcPro9L4UnOPtat2WNESBZROlB975yVqm\n",
       "Y8Plz9qySYecjYWFH0X5m+rqAZ2RhRTNQ/o03tXjeGWu2BMfEdjxVTBWxcH/5FHzXgp0k7bfUgU5\n",
       "vf2hTRqSTUZw5TEu1MZJvSwPBIFulL3Z14fhuVw+zuwr75FCY5LybSsiakKXgkTggm167T6IKgzs\n",
       "NWXrq5Om9qkSULy+YN+0Y/e3P1XkFGV1A2/LCV1Qh9PoB6mhTMvfbTByFoKyhCFhtcRwaXOBns1C\n",
       "lEc8Hfqmt4sD4uCgSsyss8+grPZzQzQQLpieP7jvxEERv2pc8qXWE32sqQCUUz48t9yMXcKE0Lm1\n",
       "gjICd4ruKOM8NqFRh2VyBm/WQxvFNWFaY0/dfc1iK7Dujn9IpN6JPr5geMIie8vCMzO9QXMzWS7e\n",
       "nqx9aIkaG5+kYizdg3eFQSJ1K/PcqhvOHClkATjKu6UaZk5FZUu3AM+PaudEBFP0buJmip8t0k4c\n",
       "eMyWnTrdpEEw/ifP2QCMe0hNi9etICJXpzjvK7Gsmzvq1r776fO/JD5CNrsZGLG7U1l3FdbiWZf9\n",
       "d2pLiMgnwpRfw4SUwOKNierYnXPHmyAtsvwPS3HAvVKNpKIg1q6jIQ3C4MdQZwZQ4PDcb6PLwL9u\n",
       "Qq67owoaXoEfYganh7BjquiS7KsmX9UXwltIkDarFRkgi5UzfF0oAfrRKfGnDkshJ4t7gASr09y6\n",
       "2HTAUZPv9ulv3jp49wbxPv7mwaZfhjdatVDxvb7afqbJ/thEqxPp5AcEdEV20XlON/6erRvprVI5\n",
       "V+LcfqWDgOjCFfrlxZxAgHN/7ILjv33XteD2vTDwnraEFnOGizgHmH0SCgNhZLGE8ljauCK0TnyE\n",
       "skXcaA3Jv72RotNbWU9fPbOMYajXohL6wYVBWYQnqV4S4uHzmwIST2uEA+dt/Y3O5A7H549JDsya\n",
       "YsPRRNcnt/zeTf6GDfXz7q91QOrNOUpQkK4xhcbCL6k/vJ4a1p5ghG731MDmkmL1q0+mF41BrHWV\n",
       "nJZAThW629H70cP5LkNUs9Ch2GFz/1EqhHhLQ6S18DJlp9RITXz4J5n+Qm2ZIWXSe5/5uS8QKNWb\n",
       "9qC5ik1yeJrHiWL1JNdJKIZONc3hnYIMSLk5ixp9K0UCNR5C2S2JdirLdGjdoKz4ug8i2qPfJz8S\n",
       "3daSvnEpG4mIIEyPnt7m2Dl+9wDy6FwAAASkQZvVSeEKUmUwIb/+p4QA2+BaIKzI6j3piiY2j5Ac\n",
       "diAALqAA9ZYLaxesMNMJJ3u4SZZhzHYK5z/+JtTa4d3bUj3C9lYB3pTsspnicEKBlf1RyEqJSfta\n",
       "yvi8sfqYLpZcCAIZJyP7diwHJ6MZzzmRuwwertGkqQG2NVd6yrKDfO2/+clAWFhLMJlh206n3GlY\n",
       "yYemftPiH+JnE6qdYl/3o8XMGSiLN0gCFf8djU0qAm367k+N2GE1LyztAFzYxuPqStvTFMwISekb\n",
       "a6X54KuzX69d5INfNMKraHPHrv7SUu+zD4Np6LMokGYDUziykQGUqKDbHMWv1DJwrEXwHqgffwRR\n",
       "gHPlPAZwo+PPYZB5rUq6fC+QYPIP+PeFtEaWEzzcYWowD6BnTY5nWDMVqfYUlkmFlQCR28ibmAol\n",
       "kvpUUc5OTuleubNJVXPqW32L5HjTpriwg935jQbp1NS6byf4BxloKV6jnb2lTmC8dDmFEUegtiY7\n",
       "FTevj1RZpc58Ly3XansmDrSEnPe1GLsMeTf/HzwcZRRuEWtAdGjYcV8sLLVI+HOcWt+il6yARX/3\n",
       "NnFtH4GHQS85PMIvl1CHiAOjt9LnN05Sw5djuNknQdzMkXQ7XGKBxkXa9XuOhWXzbnC5md44uXUx\n",
       "q5xzCL2HGtAifFQC+tpxb9yqJrqrI7/1fn7/kqQiD07tNJK/HMSCxM/xX2Ykp3V5ieiL6QFGuowU\n",
       "1xPAZstAjK8YDdUU9kBqyKoLIagVi2LwSkBtSbBjU4xBF2EHzxXAXaAKT9X3BQeHInfYpaLfw3ZH\n",
       "pZEs/uytNLhuPtfcHSiMi1HLIWFBOwfXyLRn9Cjo9HjjD3IoVl0LNACt+ZFJCyCvpPh0eEc+Lq9j\n",
       "mkEBxjSpM09OeNiKB51ZeHd0mIVd2uVVNeSShc985iYPxfoSl6HwTu/yejlqY0tYNGqiNlc8Vb0R\n",
       "DooinNI70vNp8dqy/IiA1zjRaGlZDTqbS1Mq5EY45Pahxny9WRqnFgYO1Tpktg8V0zjOGNW80ysA\n",
       "q6jDdPSa4X/pTx8Y+RRBI5A38XHamGKzAP0v6ImAtF6gqtKH1Cc19i4lRm/pKxSVSGwCNm11dVar\n",
       "rq+W1msdzD2uYIY2JCZktszKByIfk+DjAr11CZOtePOk/WCHofJYSUaBnKg069gKJgyCsHt4KhHS\n",
       "rDQjjiksv8tIu6Fq86eaVy5gadrJTayw4RWL5J1BI6bqvzJWI/KBsUYv7zvovGm1nm1njdIa4b0X\n",
       "6GQiJM/GNQ4BdgskFaMgqSZRUhfLnsfxkerIcNfgo2jH08YyICnyHpBjdoFKeIEPVlU6BfyVFKMO\n",
       "Lfx/jzdAJHijMC/9z8HR2lYmDnaysUOafG+4KTYjAVLLlD08rrU6mbaCTWhGZzGQq+gati/dzwM+\n",
       "n9EV6lek5Ty/GhXhErJgFMnHe4/XP2CmiqFqgv4drRn2gIvs63i60hcHA4RrHmT6q5HIcVVVkV3T\n",
       "i0DqFgMMpwJWzw7mdorwYNi5NBCOM+8xtmHmQ1CGiCrIVk5VkfsTA/pCj4mmMhSOoV0vPK9R6eGf\n",
       "eKeSpWsbhLqUszmy4fgpbNMxAAAFREGb90nhDomUwU0TDf/+p4QA28i+gEDTjXOco7+zrAu8Uro7\n",
       "QsJEhpJAXtX3L/NiXqsDgHvzBFEKhu+Oz1T73KXobLpmkoefA2mOfllmILzNn70K1HJ2W2WFLHna\n",
       "LVIKDX9AJ+VHgwSpBhz2mEyKTFysaRrWVkuNZbsVGoQ37b6JPWiHF7EYq8Mrj0D/BiZi79TBmf+8\n",
       "QlpwsjI1Laf+byPgATqMA4AkRQbhmFqoxp7mK+/UtZjXLGiDyS/3Yyc7QDO7Up7KlqigbwI7ArNq\n",
       "TjgI+jdTXYlUOQDJWtESV9BAFSXZKjcvg2sV5T7J/Ap4BR6BNqi+W6oYD1NoGJ20X4u85djMxr70\n",
       "wj6f6AKiEx9Uz5Tm3C6KYTNut/mbK5AwTIyw6onsvovFAQ+Lz+eiNjVNdRndwe6I3TkkQ3AkH73i\n",
       "Dyj+lJa7X+a7YOQpJ4uq9VnZB2YYf78cukT1Tiyb+k0YjpdtiUZWHWeAiTZTVqStG1lwnvpc0S0i\n",
       "qMTApHbYTc0CqY6GTfxuPMS/NodhNzj3qiLAknBv5XygC09JvIpV46Yfm9QaLvqWPrMMM/Geve1Q\n",
       "j6ESwQ6y9ESC6jyuIIY8TRocKSkG2y2Mg7fmyu/celGvt9TG/LlGgLxQnqc/4DuzhUMI1kpGmUPg\n",
       "eFky4F2AunUVg6+Zb6wzINWOuUaDdhq0JyFTw+pc3spuJXYt9MU13rtd5/P/+wAYcOjW7Hafi2g3\n",
       "QXitkLoV5JCraQnxF+lKEXHYBUe9FZx+ZDpOoNM8IKg9SG9DQo83vaN3eh+S/NAt0t7whTPGVsU8\n",
       "FTXfscSut+VRy88964TYTZ6atYESOeh4VJqcbbxwD+sIMfHuo/f82sUXVBa6D8JHbWQA0YD6qXGG\n",
       "Lld9nEHWu9HKBE93L+zKWQZlhz1RCOFgNnh3bizMD0xsjbwXoqAt4aC1AvcSH5/sVdR9yJ4HrSr+\n",
       "N8K6pxvL6u5T0nKRrv8xgv8XMuP9lZaqTfiH2KdM2wwJgrgMUNyXBse/6J0w59bePPq8w5gh63gf\n",
       "pIwlC+Ql6QB54aLYO9WmVNTEteddiHIMo49b5D64z9PEbuaNOEjU+Ph2ifHuZS8yXehG8dUPhN4V\n",
       "KrTkQsuEFrOcf0eQK9P14srmcfWTZyDcXGqLX5YAUWoD+W6Q0+Iqnn/Q6s86u32SmTDAN5QjgT/O\n",
       "AZo8rFEbRukDdnjxYr6BFe+FlSOps0k2IUOVTfe91nqnP+7tP54/d2y+FAxEsnZ6eUIIwC+bm3He\n",
       "u23UE90R6HN2zVGGwnZbi6TL219qktsjy65FR+T//EJ7OIsKFdRQawr4Gydv4GAbV3hweM2PiQsE\n",
       "zH0woMBMeSQFmWZtdl4GoHxh2/AoMvYQeLe5NNsSLbPCNKs8R4pR1O4GQjWw53jVzzMCiBDvOD58\n",
       "eqBZBOiL86QArRI9gkKJ4cEwOgjD09+GrGZva5EWxDLw2qw6ywTD4aj1IDvnSbKES9MuTfRcbDV3\n",
       "0hmg3X5LYTCY0mhKTZXEWhS6tKA/umYjTLpto2XfW4MstRYiTPSIGDery0aIX++cDCi3rM/x0Xi9\n",
       "LJ1T8iusfKkVY+SSnvnzuIxinBEZpTYxFX+r4NCf2AcEa+XZkbLTgdwSPYEUWQ39Nya8tqKNdNvv\n",
       "51u82Elw5QtKASic+J90T4dKT18BQs2VhzBNccC/GXdoAzTZIgpR1Zs+gJFMjzjWiTTDmtrldqzP\n",
       "whPttkXxiva6bJNcFkF6F6NUXUjUsJuVY7jkcGRETCQQkezrDUPfdaMYIbUAfsyfM/d3V2ZBJZdA\n",
       "MKAAAAF0AZ4WakK/Ah6I8hxBVk6z3M/0De9nXXo8YECt1cnqiXLkrTbrCKgfE76Y5KAGjUHXMtli\n",
       "xmNKnYfPqMkXWhg6+nGotjhoqeXje+y2n7OY3TI+4T05FsNrVPfkly2uhbDeekzG6h+KhFxnA1Du\n",
       "d39Xj3bb/4Rjh8i0BLONAxCc9tM0hFmemrKGhd2sU33tlF2LX/0EvhxA44xi9/F0uh699LtxKR2w\n",
       "pndQCoephqDdFibwSDCdTNOQeYBr3PrvFAVDn47Ht9VvITvI7eLRAMBT3RjZ6C23mE774SzEjYwB\n",
       "XUB4o4jsqYpbjrA5+Yf/hx4dzBqRBogRFxlyi2qmOLWAi+d+ueFLGNFM872/Tv1e+8If+OQgZTL1\n",
       "6QEbwQI/IhejdMIr7NKE1MdsWzas0PRw8bJc3CckPouOPxIzPPqGZsXW8YqShCqOziFQL28Tfpwe\n",
       "frkq+EiTT1Y9DAavOWvoi0qtecP4/al7L6mDBPpHPy3YOcqBAAADCkGaGEnhDyZTAhv//qeEANvF\n",
       "6wAJyoUgkazB2gOtbviqgbbfagEWzzDdrgcFmUMCKG/rD6lK34aKH+ApKgyz63jOPcqqN4paKdGZ\n",
       "sBBScNYDBYK3sU2SuX7ttF9twP9D0mXDW5H6VzQ30LYv1BUHCgSQW7cVUkRcCkbLT8YhAonJtRWN\n",
       "Mekw+HR1EspbAEVaYMTCveLl/zwZZ9DlIn+DWwuEm5gwvpaX04NZ9OeQnOevr5YJDmVShfwQiFH/\n",
       "WtafoNCanJWnVzAzmZI2tyKWK+hXd5CxeRVn427b+2qpa+6DEjRFvjqm7nZhIaGlYhXUzmrsbxHx\n",
       "k9rF43fbDRdex8E9HJQ0/oMQay6B/REWdqDkvvpYU2zyx+5am3W2NhJ+o1LFz5cW5MQwcn2fLnV9\n",
       "JRZYjfBggvJthpSq3iuNunvfM+BFYhpxgzkAIL9QuAxMIlaaDDWwxmNbRvcRieNO3JV3tMIhYZBp\n",
       "j5dKANAG6cH663ReD8mrbJ+QGUBFicgOvfIw9XeSSVmXLs+ER0Zp6/f87lXVIg143PNgRj6aXUY+\n",
       "UAiz/5W0HL7Uzs1UoTQ2J9IUoLrC2QhZHbOv+5Z1k1uICe8SWchXWJIRFV28Ql5QgVQtgMRzqyBS\n",
       "A9klJQosambZ1QAhg901aBWyVsfSADUDLQiKJgLQDM/ugFBdLSHUUxO0nFxyUo8kv2eB20RjzEgj\n",
       "yS5l5p3fRyPtYJVPa4x5SQ1b+IPGgx8g5HVNCvxn/7ZfQ8sB24QqnR7pl9o6VzBB+RJxJAA9nQCF\n",
       "f+Qza0CNCgfKW1f+wjOCt63kClwXdeyEMR0m/4qoAl67SiTeg6pG4e0HE51Lz7pXysLuXfrbOqfB\n",
       "5HgBg4Iw+/2krTNaRHM/LL0GipOGTsq6wIup+67/KM2kRhbBQJy3nm6L6/eIDapzHwhAo9T/pmAv\n",
       "NPmLvCsMf0t8mHbWf2/w9dyx9+aAxw65SpXIjjIQ+CT4/z1JgEbrS2xBmsHHq9aFH1dqEnknWfMZ\n",
       "aboPPl3A4q+rt5237V3f9SosgQ0AAAEwQZo6SeEPJlMFETw7//6plgAlCpzjFeqQgBMzcHMfdfn8\n",
       "qweWEdh+TEYn5bCs4H50KsDyxZ2ndBQcTHxzWco20nI+0e7dc7Y5kpwHizxOUWoWlZxoIM8hu1LP\n",
       "IslkzKS7ewX9SEKn5mIrNRRR/S+72/INz4Ehm5eS8PJdLrCmOr7PsLNYnNTRbYM6YEtgzmXXM4u0\n",
       "zSifuy6Wqr85xIWz4kwktIb/2Vixq8J9efS5GcS1I85/J7yjeXhxCnTFIFgrlxFQjrBORhNAAuSd\n",
       "pGqeEQFGeKfke/q/30H6mR6syPGZ5EVb/miZaYuU2HCg9Vyna1jmzfnAApCamRnQXFiS9jSByu2X\n",
       "TRckKftZ17glgK3+RSYYRCk9GuBKpCHIj/76LHNc6oggCiacdncM+YR0wAAAALYBnllqQr8CHojy\n",
       "HEDOh8ImeX2OB46zerzWRe2/AH7q0Q0GEgCDQPH8RU/lFPGvXrTH3mEuAEwT2Wnyukf1cDU7kDR7\n",
       "Wb033c2rpcpP+THudV5whrOyBhqqqai+5tm5ZTAqyYB/FypX6pe6d/0bATMf6m7szFjQgjKljKkq\n",
       "d49N3G+F5Vc/uFbiB5rswMLRByS1u/S/Pg/uovKwpowVebNvryEinrueOB2VCDAZblkmLQWNjeXF\n",
       "lQAABd1Bml5J4Q8mUwId//6plgBvpoZx8ABpFdlAOSdSteIvAm1CreZXJBCnKBh0ibmbRvVzSsr6\n",
       "WAdgAL2o3VYe/r8gYhutS05eW19I0GRt9hAH615YcKrpVXfP8Xemcu32/V9uIRmCnuukVpUrpS7v\n",
       "k1C/iHg7Tq2Gn9NpJ2gl6KGlt4XD4kH3CdDYvMicd2iS4xC72/whG6n1VAdj1bJytMUpC1CGbRcX\n",
       "/ZRrxwgCe5aHuQUGyaY37JpSomQxk4uolU2uAKzF//NwQ3FL5JPSLRsh7MLM7lD+B4Qm3UL7OYWe\n",
       "nTf/FYOsBD9i+yb2zcRYLWwokxvOHegJ2n1GXCBWYuKZ6MzWzjJNKPgg/IfZ1JhRA81NHbf91G9O\n",
       "/G/tw3JXdmYM9yx0Hf+E1p28/SwrezQcq0y1thzDfYqw5uIa+TQFpf25YJFAy1Pt8Kuon4p4qhTx\n",
       "+l08SGdN0KRAX/BUv+awTEEyAqwVCFqH6jZISwnoAABf0cgNXb5OccNRzsQOYZjA5r26PY6HxGlC\n",
       "Q35sR7KuHQ0Z8UdXtrzvAf+2uqpA+PAPwgfWgBezpq1eiU02XaRZPPrdII2/AkORaTboqoTbtKaH\n",
       "8b0u5muu1S+NMywuIcGWwo03BVTA721p4pm2CjxPs+9nrsyLcyB81ZKO5GMXQXJcajbJ45x8d8oN\n",
       "li/zAGUEmqGQLiZRwMvSa8pHqjfjD3HZ3tuIY5dfqe76kMkWc70RC6rXM4rAtWpXVHZUruB5WdFH\n",
       "HseQP1a5j40zt8nQz7WQ6DOn6j9VDzxgp8QewYU4putmwB236cQPp63MVPxugjt2n6pV+bPIUmLm\n",
       "rWYsyskLihGeN2h9QC/0ycgIRZEUEKpQddXRuA8RpS2BcKv6g6FoHJDVLx55FJksosb3G9j87Ppw\n",
       "G9692rMxw2yZQgWpDdySbVTrXPJc1Orn4XTKEH9MX/ml/gJ57urURBaUA4AzOIowLiXt587S5GKl\n",
       "CzfrAWrTtrWOu3AfAdcstmzdIl1H1c7hw0PtLjPdfJ66oE9gj+++z/U3zD3RO0pRHWxAMvDWr5fR\n",
       "OjJrAZEoRMhWjEL2z3gkjIJ/cvjGUlePsfrlJLq+t5Go0SqCv5tnpwKczLjfj7nw1LdcJ1jUOL+0\n",
       "cd6qbsBRX/TynjMEBshcHomEGkMPkxvhL70YjtAKs5vCWTBj49eNMlzjspdpXFY9nkTnDtsxMyr9\n",
       "D0m5sGttGbvubtpHrzDBKOLtz0oY0yx+FY9OEcdCfkBtE+yfhlYPrg57og2gHuqZWxB9TDIv5dFf\n",
       "zuAO1WoXc4NYqHNu1MRA6czKT9hFG9c2HfV09hIF2oORC2cRGv9IrhiZByVX1rPHSIIbZgD6E4zw\n",
       "+kh7m454UgSa7GtTTpRopXUsJe1uAAFbqcEgSYLORJsCKbcjzDtrOZlxhDsGC+Kz8Uzm25tPcJT9\n",
       "xE5yL4nE0Ar6VG2fhRQvl/3NQJSb2Cz/2yur453lpbDsSyVWYeCDAzVBJnlBr5bOQl1F/pf+UMWf\n",
       "4xuPTovH61RPbcqJA/SOGZE+hf+QScB8uhZ6CZ3AsJ0UJoypkdeE5jwRvpKsXSvaPJHdBOr0h3w8\n",
       "iKfxinauf6QGwPc+LLytFzoZwa8WytpSZpJR8U7lPoJ8t/epN93b36czYJyK2/X8F38RZwessYZ0\n",
       "vclJIYskawJ2SKvBMt0NyeUd+xQXty9gckvz0m4CjP0+ZJ2Cn/vUeMTJ63m2ogZhRqU01DsQKxJs\n",
       "PA9FBHRY9fs04eZCyJICMl2+1j7VBx+7T1Fw7JgFr11btiM4Ft6UsvrYIPhwrVONdRSMdPSgtECt\n",
       "zCEirWu8MSTbOD2dz0CD9HdYhF+d+55BK2KPtrOHj/oeYbXjUA2jJdLgOPL2lcmCS7hn7wuOP1tm\n",
       "HilxP6z21lPylAxi5NHLHRhiujWCOobxu7TILRYUVWH6nGr/9PvP1EYtAyde3aPUYPuE6FEcuofD\n",
       "hnCmZ4ju1eGsPmQSTI+z7Y8Pim4LhXuAAAACZ0GefEURPC//AZVkF60AtYZRe3dL/qwd4YdRZaJ6\n",
       "AGx/5L+SY0OnEs8szO89v8arP8Kq9hDMGh3G7Jx5qSi5OJmPpfjrErh19LYzQlyDTYuYJWQaT0Jx\n",
       "BHsRt0TnAJrTWbbFuzbLjrtj7Q8zLy43Hs+v99NgUMbGy69G2/jWXjhiTDi8qWJUHc0Mpgjkpegy\n",
       "dblvTJlunIkNat8T1nR8U5PHIZFyP8CMaXjNXwu3l3iRW7vjNS23WL/h6jq5JRZCKCK53xWF7s35\n",
       "eLIYPAdIM0oHc4kJ86rTaIfpSvUWVMmvBTofIf5+5cQAPK9nntueQUs7olJuqZ5AvcoV27AtjwHE\n",
       "7aSSiTemhPB06Lmm2iQFaw0GfFpMacpvcdDRNKW7LmLDi1PTZ/dGR7bSIbkO4zg4vE7g38XAGDUi\n",
       "YKDsZvyMYDFe/pPPK+/EKhIydqv/RZ8/YfoL9eF/yuTy5YKg2W1IdWBVX580xOiXiJuyArwClY1j\n",
       "QZbs/gQRO3CXiV09um+C32Wfqr5BSCrc+mK9f2PpSgSju/utZVE8fXZjEXWF1Hj3EOCSjeAN8Z3p\n",
       "2bDsGdrxbFGx3mEWEmX0Jvz082Ig7M4FHxSKWnb+kMCWkjgN4AYQPiP3x/slugU4A1Y+iQ6yPEAM\n",
       "iB2Jwd1ZapuVh6JTqTPx+h95Knqwws/6m8SO3D1X//wLHdtjJrXlaR1hLgA1C5rTb0mMkabypwui\n",
       "QRJCcObCYiCg109HSFLh7Kq+x4yKJTexeKpHVBMxaa97Am7pIbsHYmFA3ZKLnxrV2y/Fd8WfO4gZ\n",
       "16IkvFbWIEefLwbLMc22tQAAATsBnpt0Qr8AsVnb38Ao3DTSgwSUWVz6wO2L7eJY6sCtmjs5XcbN\n",
       "zeBU26rvon2pp4BAFDk/6OSZs+0VvmJCjtrXpFLE1QhoLMZwetOQIwus7HH2pBi7kaK71YbwmUcA\n",
       "aL7aYQSrWysyBTFlwqaJYy14AP87cztiOKzZRV8MmOUNAjUtH8176AiQIo5oM7eWkPtQB5q4Nhal\n",
       "5eGg+81beq9fchSWnooSLVZeSj45A1XQacfOs4QAYD6jL14PokNQyQnEV0PkWi9dSABtnys/IOUG\n",
       "tC4/tBbJK4BrbaIo50lcXWT16LDGQWPbz+JeAQCsVTZXkn7bYgBh3m3i5M2t6VIF/3yoJoID5N8+\n",
       "LqSFjJpOYFPdwwPHdNBhxy3XG9HYGGidqjl7RSAgelbhylvqbm3u4aqLfua+nfDQZWEAAAGLAZ6d\n",
       "akK/ACsxBWbkKg0j005OF3uQIpfucGLoS+efw0juiAbj1o78/6myyBjnLarGP3Yd1RvQBAB98vuz\n",
       "NoWt8mYI3hfvtGnPrgS1ecQ/K0aqoWwbt8OiHW+e5UxYTa80/8LlzrsoD+O00rQyY/+RRiV9rJCM\n",
       "8Vegu8GZ62OtVJAJM8T315FJ0NqjLGwQ5a73l9kXf+06Thgs21+VRQhmPL9Y1cLyttVJw87SDZUt\n",
       "5gk4/iAFtJpyIxFvc9cR4XgALX3vVVs1awKgpt4u4kqeRiz+FQgP19dREL6ihV+SuiFIPH9a7uMe\n",
       "TmlsBdAT6/3Nk/EsXmTUbDsfOg5NUm/qMnP1NvzlKZRnqczaJc9XSSK3TaRcnV8wxWIY0ypyo09x\n",
       "IqQb5P165yrKMCaeRkIwsfWcuZILo034ld4jsBEoW0dmUEdgn8kl2GjQ45LAFM6/f4TzMp3m3aic\n",
       "MfuEeWWpcSVWujvyoUZ3oRqUJcKK0E4grfdJMLbr9AAWbtM/J1FeQVlVqr/VkIsQqCAAAAZnQZqC\n",
       "SahBaJlMCG///qeEANvgVv5LQGKy/Ywzd8hqcvUAhAYdx1DXuTz+qON1cjhaDhwfvqAAKIHb59JJ\n",
       "rMaOrMGz961+IQyl9SE7yqDfyBjY3YVe7jKmrTejh2R9tn0i3gdA22rfVXeLnWBRUyZPJvRqzuD7\n",
       "uZ6eTG9n+kIRongSGktHDu2dsOvQHt5FbzIW3zV1MyVVQZ93nysKZSu+DI9slx9UxgtxqEoHhjtW\n",
       "60FTLy49XJIAM9EGQ0BzBo1Gf1Smu2yDI6NvbLDUeLgsU9S9uGfOWYoxuX6FEffud/P9bUSwXYPn\n",
       "wMSkjBs071rXlkJ+mTqH3sAYmoJNrOEfIWMa4QWufnmh0vGqra1luArngfTMqiil3PAbGhYpDJrM\n",
       "6MfOwzot8A3LjcTawHfP797t/hFKIvZe70+z/mck5+4SnCFflXGhiT13RWRpZc+Jr7wcS6JkzDt4\n",
       "fKjhuj5ou/lL4h/g79+S8tInXDjwc+XhKsNFJZetn/MDhN+h3f4D78TyAbm/cMzvEr+LWQBJXInQ\n",
       "myvbUFrS63KP2FtYAJlEHLTukqHfIP/f7pHiHd3IMO2UR1Pm2Hasa30+4aABKPz8zFgK0MYD/Hsh\n",
       "Ery6Z1cJErLenVNvpwN52ERUKR6EsbCkt7eCMhcabMou5b2MNff1DsteFCKIAKU5LkLBXl5rgfQS\n",
       "6xTHbBOUJa75Q66Ocgq8b358vtp8xQRRtTRh5FvTbwwUR+iaqCloLnKQbeIUDCOdUhPbk94UENKX\n",
       "B4mZKblDBzw9OgFrFDq/FNEF2ri8oov1bNFhppYYoKxoUUn5ntRUY038wmm+UfcEs7nFITQlduYK\n",
       "xSIEEUN/AeDcXDk/9k4jdipJKkzGfh6Ms/uKco32KmS/7C5be7ZlwBVYLU8aDvjYZJfgqr+r0K7i\n",
       "KmQ1rPPdPktKc8wqXGBj8TcKYFvh889Wsmrcf/2M/g1mUQnGPcXmWVK9qztffCqy2eTecBMM31rb\n",
       "MKoZuclqcf0qM8kO8aTYnRkzGKPPytp6XT/RVrP1XAeGqe6c6Ig4rqw+o7/Kfe5aVEPEPMHqv1Je\n",
       "h/uTomn72cfITBmNncWO7g1Qqp/rIF2h6ScSXhN+keaPyiOcrUHWhWLrakKYx1jLFA+SClUsFVwx\n",
       "HQXU4lz9kWAgBds0OlLp3XlhrG7X+XL7GHGnPIM9duLe88IT4WBWSp9BwLJxpqXlA7/H/2RtyYpt\n",
       "qpwRDFmoMO/gSUFi2hdefNDOlcaQi/2ciXpUdPcvxpS+lffJIfIJOKl6x8Y8iedCyfKlHljScgGv\n",
       "ecO2msmlUjj88dhPvIHqChL9FpZfekT3WLyKr2nMSrzEPkKhg+sTzxj2BtpnaZdciDht6RFUrtJ5\n",
       "JbudzDeEJzhvewIfRq5rk/nDW0+bgXvYU0+unU/ogAeUvzfcoAT5dNnnr2DPhnQpbWoQR7123P1j\n",
       "k13nYYQfyTMU1feMtBQPYiyyoAHjMYaORdFO+DBos1I8//zYVlY/BZyj2ZVsUG3qCkNhN2ZREw9o\n",
       "zwO/QthzhWBPXM7Nt9QVRZwEJ5TentSmF0r7AVDCas1VO5FwUuDuG0alsPIglbfbeHuy3ydXAf6D\n",
       "1189uc+FAvdSrRHwLLG7m9NRuPYloFtTgvVUwnih827PFwGdUO8f9VcNKXyWqRAsZ4sfQYeYoMkq\n",
       "fGhRJqBZmmMMsvO45xmiyvYbMPP2lQhg9+YNGCdOmBPt93Fc772MmC14a8O0cAOEIj62uzWJAal3\n",
       "PtQmUwNl3b6cNklEEBxxlnzsB3z0Gec4Do/z+bTFp/lVfMPaJaIX4A94/snMR074jYbYBfdzbA2K\n",
       "5Dn6TdZPvzX8HeAV9UDsfhOusXHp3vIrtysGuLhQVFJuIY3jbXB3FsQYDu3SNR2xcW39Iz67LUHQ\n",
       "Ogj42HFylpdZem5+LgLWSpoeK70pppxGAivC+xb105oez+McKZDcrtScB2mVRXebMTUld8FUqNY0\n",
       "JAtd9NeN1CY3hzT7LbuHtwMeKLGqFUJTzdzjq6P+MolAl5YuThR4y6o4u3IpoJC+ZHXQ/10d1zmx\n",
       "PjLgLt4qS4l3FPdBTX7M81ZFAZXf3UXiTOkkQ6cbFxkBvSfvl2i39mBgMU3jikxdAYQR0J+fKerw\n",
       "T70b4EsJ0U7KbV3slQV0WrYi4nIWThnsByDxiXBCbpifFwtPRilqpgAAAqpBnqBFESwv/wGV506y\n",
       "dFqhkG5s2+jnlUw0PQnS3gZtih2VzepZfLiGDwBd6gA9LRRGZNzaOKEGOaIOV1V17FIP5e9TF+n1\n",
       "DFyegiq4nRy6Fild8aNKc9/P3mWxUjfF5BYPVyir1PEzyayYbFci2ykPOoc1BORCzOJtSBn6ikN6\n",
       "6LY1PUNg3nI6N3++6P2Oolli+wfpg+K1qgEsJWZljmEQXDcnaZoFcwALEuOzREHca/1i3rkU6qp9\n",
       "DINXp66u6KMa5GhVmXLRzQ2Zp3sxJf2O3m7nwDL9z22xgUtN228B8WPQ1n5YHlcqzBLXX2XmqcAQ\n",
       "4zoJd2RMSRSGA28e6xIpPrzTSdo6E0xs3ZAK4zpUuGFsLZ4NzxUKpz84HbVigtp4dOIjafpFvTRN\n",
       "xnkjD6d+WlrOShRkHL6aJ0m2Emml2EUwAdMKtM52RcebfjxDFdH3icesbq4c9GaKHBshqXOFZmhy\n",
       "mbVKsIdXyNDSF5zeMZWTorlOlvzDQf+a4r3s0qomrJPXAF/E1NzgonLuv9ptl/CA7qB8j8IuBZWB\n",
       "/mjlLJTfrB9jwYlheL14JeFDQ6DZhGswL/A6awwTBrdHbs59TO8XFnc75fwKhWtgeylJ3UNbt/u0\n",
       "d9t0NLoj8rCxx+WBOm91INYgWdOMLZoNXLsxlxeqjicET0l2yFhRhtaalvOCPBAzE7tFGn3f4EVZ\n",
       "wHVPQhhF2GH+FGze5+Sw0iH2YTMYk+0M+10E2IrJXVQ3/RgXl7SjElIdm4qb65CSQOVB+gnGRIzk\n",
       "p70rREi3Y5LcGmsk2hppA05JEjXlkjfvYXxnbpdpb1GB6hy2eq8GWh+g36fj3kDtpV5QaI8+yh+t\n",
       "n2O06OBab+MTfRCFa/X2uBzvDPCmzADOMre9DW0faGYsERJip9iXcr4hAAAB3QGe33RCvwB8WjRq\n",
       "10poO+86AU6TB8syULFudReNkuFJQzIf8suZxCADwL5bsIghOvUtELZE345t2jmaHZm5Fcg6gddm\n",
       "4gx/o1waUxBIWUgiVVcv3JJFhRmSKv4Q55pvW/GZ6K3GU49tB8jmgtWjhyKbqj5dupWZ+Ch4ZV67\n",
       "JMwcTrNLy9cOzh2rQqD0H+f6buxPjZU04DF6r1kWiM1XAe9hJ5hpqKD3JKE/jb830HjddTmI2COL\n",
       "VnD1OfIWg30NEDmotWshhKpDiow3+9qMOA7YJcZ+6hqdO5CfEJtCUGq1dqnX2JUoh2A7AaUFzQTU\n",
       "kDGotb9lr33tFRUXASNfj7VjA3t1yZxvwku0cgydXtGBibxpedfQoWgnYL1z7TiWQt4gsn/eORpG\n",
       "IxHrexcaMHaOI+Ed7bC06IGqYPeRex4F82ZeMBteR/hC3qOODoWLTFyEkDHtXOW+Bfqjxjg/IIZg\n",
       "HClC98aPD8w1jmjxmEwHHCKvpypuS9rZAXXQtx2wAyggd2E71+N5nwmQfEqpXGLaZv3ymHBDtq1C\n",
       "pIa9fe8GFzyPIEqVTYONmI82QWXX/+tqkGTkdRkgmHbe4ca/1A7hFvXoDk6bdz1XjcbMxU9butT+\n",
       "SNWWkBDY+EVWwAAAAhsBnsFqQr8AJrZFKIAWdr5v5tS7qLgapWpLyujp8QpZGyaq2bk5AbZ/4PCf\n",
       "pqJs3ltzSEMcyC9onIphtzvzAltAh4W/eNpCC78ahGTHqB0AO4OSqaj5ojXzvpBBUnJQwA8XCdHj\n",
       "ghlEO63yLbFpVftAXo9AfIx5WqmL3CyJYK/J4DJjGrWfRyIXgQh6OZsWW1qK1HdHQFa1IBp68dCu\n",
       "QKnt+HWyArWLClmp+KTfZ7GcYXq7PUORkYjw8i8/4aH4p6dTMhpxiq2B88p0lwyc+4wACMiVoGQx\n",
       "0DjS/5dFxEDSNxurrxnp3a9xSKbSWU8F6Q+4GKMSzPtKZpgWwYy9PGuuAiqMHWRMDE/qpKgSPiC1\n",
       "FxKORzdR195z1Oi53jB54YJf2mtNkJ4MmxNo2PMQF+Q9eVBvkyfxPbAxDIRC49Wl6mWYX7Ga8pec\n",
       "nfnvCUzkszGjTXswGMzPnZBHy9OX25vtyhecpFa2Hs0Lh7bN+ARNQcUZ74PgWNrSKWr6H0KNZmZB\n",
       "E/+Ned9wpT8ff6mrW8oXgptC1Q6H16cBQToKbN6QCVJ6lFvG8L44XhCrD2WZqPSpFGNg3Y6fnNA1\n",
       "rB8mTCnHA2IoN0cMpsNiwZ1bEUdV9/Y/EaSt4/rNg0dJJwsP5m4hYjQ6fwMzisQvrj79TBRCRGJf\n",
       "ML5Mkf+ok8JS6aCk08bITxF61JOipWirmjflpVN0+2EqwQ/F3UJeMQAABapBmsVJqEFsmUwIb//+\n",
       "p4QA1rpx0TEAJkRkZnk7YNttjSVz17wrOUUl9Ma9u41u6fR2xIt2Wgn5vIyL8n1awXLohVn6d+RC\n",
       "FR2g11oX0t71+AyrMVDkyjTMaxX0UDNc0LhvqvQfdHp+mP+lxrn8yo/X2BRsSTBCXaUlZqqa2GRZ\n",
       "FiG6LckxxcU2mBivtfhz6BBFTp6IGNR7wCUH8L52NpOp7UU10RoI8w68UsXDtCo8tCHfDqROgE59\n",
       "jKC/IpudOaSpgGzwYday0SMxtd7Rj9z8TALlIW3GQrMsG1H/53Q+n1aFGhYFNiVO+KlHZCBD0a2m\n",
       "wjIImZ7dD5WUCmuZ6OcAtMrE+EXMa9k+Cu+rIottQLw/s6Qq+3PIaYjXEGnCoIbXnXGdr3H2EvRs\n",
       "ion4vC7EKszqhjA8db0j0HFZCwYPmSJOt3vT1NZbHq3u9qZo00rCPK4U1fwrPOtRS8ffloMihJuO\n",
       "SMwrOo/rU0MzpSZNQft6O+HZ0i+WxkoUWSGR8PqVG1wqiORZ4SnPKPAh1rdaDC2ZD2tiBQAZMLrw\n",
       "DSZ59SDBERBgbx9kWdmcwmUFhqgancFChDZI14H/2ZPbI1xcsPRPmhw8FGqVwTvbkkx+uO4SDKmt\n",
       "GBawSewQJ0Hyyef1TCzAj4HmQprnbjjvW8Sfekx9pBsBDC208u/vSG3HSsyQ9DVv09B+1oIvOOZM\n",
       "uIj8xbLekNo4KD/vmoB72f2cdH2hiCCILGCAeOOh+E+0wdglE+6fPg40Tynr18C9mZtpEcWqUHEH\n",
       "5K0BB2TaG/K/P080D4tCE/ZnR6CvbeolXHrlkZUvcZL8yuMl7WTTRZ/qQAPdLJRWls0VfMz32vEg\n",
       "EYp5dbgspfl/9bWn3Et6RJFyJ55g55KXG1xwND/C+eYWj2eQUTO6tqLnTcg37qcn9sosnAJHJ3ui\n",
       "lbCoijFvaNhntXIMf2FbccDch3eiT69T0NCbXBVvj+QMHGl1+mUkT1Gan5Yub5w39EVnlPXQayVO\n",
       "zviIrEbypD89EQWw3PU2z0pjs3zGPEoKy2TlhJrmEFY50osxG9oxhCcwa6AwtVPGpyBd/TMm3iN/\n",
       "jhquiuGislGWUEa0AzRF61k7ZKmC7QGnPDiEH1cEJXwaupRnbFT0dWsX3+eEvCUbylwh1tx3nl5R\n",
       "KNTjkATjn9hUVZSNS+IXHNt6j1ZLGd5zDDD46YwgkCGVUY4MBQH+oY3JyAVJjThEYXMtWoe57UFg\n",
       "MvJV2pngSDC9tZFGXlG03KHNwY5N27FA56agGR/qE5smr0q7YO9bF9ZvziGEyFseghsNVoXRnreP\n",
       "hoWe0wuV6XaWfyI+9JIAQYx8swrCqw1XKwVA7FeWecgjlJvxecShiyzW/R159pnYpjkxg4ZaimdW\n",
       "oXK59ClYS/B1h+/+pLNEGVwUDjOTvuXd1tY28UzsGXjk5SCbzc35gIBICvL9+YmvsdgGk/VSrT//\n",
       "nL5/yHV6ZpcAQngs8P4q3ju7GNZUxA8mBRsBNSS28b015HUEXZ5MERRRfikXy4Mng8UnBdQTSr8J\n",
       "BmoCj6vasQLn8gzCwb+Etmlua8ZECjSdexUK+JDrPup7hQEEAZjxF+LkZCd5ydq1G59AEk6ME4/H\n",
       "xz7/vF8EirlZqrVjCuHklx/6PwWhx+PHByxAOwIF0GO5s+KH9ifLbaF4u8NQsGW8yC4CdLboe5oo\n",
       "PN6KP/dhJCGK4173hFth7319Q9JCXMHOAobdRLKx/NGBWZAxzDljJV2WGHYwAVY65xPiK8GbNNFG\n",
       "fpclqDTQIS/aopNALDA5XXtYGWvoaNkrrlFqCcyg9E6zxV3RdxNVoNwSnM0NhHw9K9GnFq6DUeqa\n",
       "Nkjj8q0AFOMtTZfQA9qIRfsiyCz4cERCxCK0UP2o9v7t/+LbMntk/uIPehlKHq6FGxUXRKO7MTc1\n",
       "bUQ+pY8a8HNLqw5CAAACjkGe40UVLCv/Ah9hzRsE+dzPl/sJnkiAAWYPxwjahYjZiMqLUc2OZVcO\n",
       "cZXH5MKDv9pUEU7C6t/lXdRyPdLMG2nzewQ4gPaUqho+qg9mIDoCriXCl91y6l6skgYI/XEhmYf/\n",
       "zUBrNaHg2/3i2e2hNbxyuEURLQIxZuXbbIEMExPnBW9nctWGyMobZ0CK/0xmbC7IwSfj/HyuFwnT\n",
       "gTT2dutR/V199QZYwmzDLLLmXYr4BUvyHCwDPgDMJHiOxKTvdDcr1UXq9Ynp0KoFr0A0RhQq750V\n",
       "tVEcIJcN4qpmTl7MrSeHASgAyduuMVmubm6D6dU+SXB7NqAajShUQs4KzTN2xhB+X5WmwuqKYHnQ\n",
       "6/qbsL0tRZisimr5dOM17N/BCEULGreSA5ib3o5X2NWugwnWAx+JgqYBHaaBB9oIQq5yjDxHadpj\n",
       "vBoKwK98u9ZTMWf+Iax3USGZ8S6rg0vnLIRZYhPvPiw40WEQweGrfXPfWjdAzJG8rxK1Qnx+4sCX\n",
       "zWfls6ZoWAoIlQZN5ATn5XU+fl787D07QnCKdOcA/K5JVOPfEGq0vQTMifZtL3erWr+6cb2JNqpT\n",
       "AvKtG9nDB/OMuDSn4lxkGzGhklQ5VoYhJhc1BmIZMHEKUMjlV15gLegRES/yoW5L0MQhFcfreArA\n",
       "4qdN9VDidZQ6VgEEQ3c8xzcU3UbzdFvxlJ7KLEWVLWe/EKvHXh/9dB+JGot8KYJFP1U8DjQV3X57\n",
       "6R5KIX/8zvx4P3iDUbNWqeIk0xvo9HPctVbNnVY0eJkpSMuWL/XLBfOuaPKILPzynflJpqEwMkLD\n",
       "jhFTJ/iwXgcFai1FoHwrgl8PWwptRBJX/9BC/uOv6UDy1057KkkOBXb1QQAAAhsBnwRqQr8Ao7Vy\n",
       "8IrPw5GQ/+SUxS0OGn4ccm52hgSzsXp9CRvyea6Ds5rKCRTVNG4fJlFJ+wGq3dKO/iQIkjhzUafF\n",
       "v8OFVvxyhyYFMo/9MI88ZSLNjr/FKiGnCLtGR+qPqol0Y1d7gAIVipS9WZjzpODpwqpJLh7G9b1w\n",
       "ddBPSJpnPafCBSfwPWxN9RrXfEaxouOpQXt6H8NQRxW3g1eZ8hGrhG9z/t3NYMWt+IpeU815juqY\n",
       "sEzdcuoqM3jq8G4SpGLI3sV/1ZHbOCFDDZ2zt0JZniNgP/DXlWO//IFWBpX7xrJbf+SMbwqTbMy4\n",
       "urbXU2Y/qvODstznRzD3lbk/cUhXUV0iv0pS6tQLuB3vSCmmUYWfNAzllc1ug9ETXmiZ9E8rtPaa\n",
       "FuQqsWQFQ144T8qbuZazfZG2COZA6L+HxPJoCcAbBsEC6YROD7kc+49LjLikwbU1V8f0/5slZ+/O\n",
       "G6kdtsiaWTKlJsTX8iLCf5vXb7eNz3FV5XxGgIfdzdPBpr7mQH2kdKlSE/4lhh3rVNQeZgo6MmW5\n",
       "RjHF3DFBobpMnKMM+taHe6+TDxVv+cgsM0xJnrOcgJu+6iyLg+N42s6DSxnGg0xtcXgJSBFROOLe\n",
       "ebIRf1jSBb8oa9OyIhIufdR8hc3HVxycTkHw3GJeSij/JG/9bu7zBrZZiTTpZnTnz8koly9UVZMP\n",
       "h4cdGh4dDxgh1emS4A6ZVQAABQdBmwZJqEFsmUwIb//+p4QAlpLG9mEPQWAPfe3SbolEA9X0Js6u\n",
       "FQrBoVEgNIIEJSoaFIekfc9oWgz4YKpl7Zu2Wp5Fnil0lnPLRb8zt6jZ7FL5Qx0Meks+jodiWoS4\n",
       "Jp9I+jLVU6KI6wRyE0NcPliIDMNhvrSYdvGQW0pAqALXOFvbANa2M/h08qBH1ymo4pd46w62/RAy\n",
       "68g+3vDaHj1KqJFHaioYnNwrmndwxlaOMl/LMdkLEOcExDINigY4CMWbk1R9GD53YQXjohnpDL2z\n",
       "vRJH5DWXBRpVhLC6ZyKtb4ca7bMjIKL7X5+Nqqn0Wpw4Cx9CE7AwzaBbgY3kUJYZOE6IiVrU3bEA\n",
       "mxF/y3RtX/QHFEmX+ahJhcpRU0DjT0cmomSELntgt9VIFulTEi5zFGj8VRcmqzZe3/QelV/sjOnk\n",
       "EWvyNr6VAYwaooLxVskhrWfH1mMqBvdrsUsqsTxbWOP5gzF8/0VaqyrYc9ThQOGyqukC42d9RziZ\n",
       "bhkk+CN2x9K5H9BIYH07fsSQ5LsuX9m3W1UbA36BjoBOxACbfKvxr3vlmAE5b8XFY5xEpnTKjBMB\n",
       "/l+Ibk8cXl4k2IIEP5/WHpOjs/sKO5hJIg/Bb3pLIsC38NABH8b1Sr4h58WqtcgFWbfuNbcgmIAd\n",
       "n2bB3NcincURfFzc2h4DmwcUVVjJEeGghsPRKHOayH/Ki4H8K7OR5vl9aT/QaPhYoyo/s9vhN6iv\n",
       "IQRvRFI5EIbLZC2PZMBhb5sgEf5B9nMXBoqhf8Rp+Xz/G3kCdwp379xMWnFAZHPru6MIPlDTo83W\n",
       "RJDF/DYlRUVospvPM8rvsCi6CmDx0mJSjurWeXnXP7+b3uv+e9TSu0uxGM/+Pv7LM+BQnbZMSClS\n",
       "SRZ2PKyO5opJ5F7VPex8OvSGvfeFZA0HN3E+62ymu2NGUrMdqAMme8hQT9kGEzLqqfcnBmyqKazR\n",
       "eiaQhBgw1eC7XAZBGwtkRb0EuZBrCayeImOPBiNEgvrgnWf+xYTBlV5A8zhHoFaGPSI8mKyXANJi\n",
       "bgOkRvbNVin096UTl5pArwKOc/bGwhL8Lc1X6THpgcxSDGC+RDFASHTmmpNt1k1ZBiZO5HsfZRG4\n",
       "p7El/Bc2Mv0lsVdeCf8MhWh+5qucZInsHojWOdi0SUcRiJCrB7E0BMZv7M5/tB55k5JIipw29aOS\n",
       "4/rsXlSiE3Vm2y6axWD7xXt1SFUDNrEUEC7L2YK/TwnpvR6wK2oHmc+vWBVN3gACoU7MulKVpO+P\n",
       "nXj+9DpfwE6dR0KAR10Wr1o8MLV+uqRGWBxk2tZPj03WpDd/UHXzBi5Q+MdYNEnAKN3i0wD+syjW\n",
       "ebVHjcSrXKW9i6eJNAnDzMCO5sIBJS9XGYCcFhiDC3aDTboIwLjnDibIrAgbpdiCgsUh4Ptkk3+H\n",
       "7o2Seq30eykztMPXbR1bKIySBOjfnA7VNv9+00JaToIa2bgw7kq/yhGoEOEms6Tw7J9vkInOLCCC\n",
       "D2gtUB5uYLAXTGviGqjn2EolkTdFkl1fB0hrjRilWD3lJfoJXTbyBp3D/F6dXtzDpo0yo18AI50h\n",
       "WpG6RPjktYxSOsF1qIIZfPvBjqXqyFFvaFQciQGx7ORgTqmkb4KnhxR2m7NMobbNU9AUgRjDuhmh\n",
       "j1ylgvGSqoDRPDjv26nP0mdA5YdsD02c9z1mHBqW7YWMWZ/X7olY6Yt23iIBapvUGvwr9MEAAAd+\n",
       "QZspSeEKUmUwIZ/+nhADW277sv/Vs1sW3Vh1y74AgQahwxpeMKJU/7oZA9sRPUQEfAUTjAVrjujM\n",
       "76ehXEMJsEV9BtTRMfMP9IakJpGC1UUIzwzdMFalM6oY8k7qEWPA0jMzhuSHN8K/tvSaQYtMgtZs\n",
       "8xR25tLm6vwzwj3RlTL2j4oVDPrvXvhfNtTl8SKEjL+eTd4vFMZ3hNJfi1kizmyMoefyCBeLkcEO\n",
       "OuzOitPwD+N3coPxj3iaKHARaFYUIbTx/aL9xoX6XORtYJYmjZ/wQu+RiA40I3wYHg4rBlWEgTvH\n",
       "MiWVf/5YEltyXwkQOseFUphC2unFqx5CNuAhxuhXjcFhnYUjxhh0OtAt8EYX3BSR1o2HDhCQdN4c\n",
       "SEl9pIoDFe5A6EfuvXFspSZlyQhURPW0hr3i0EShT82J0yXaT4ziJCZXkpHLK1wmLeBH9PIiVwKT\n",
       "uG2jPyOHt1Ixo+kRhbqvLyUv9aVEfrXSBNBsDN5Y2Zg4LtsxcdRXWFDVvSL001J5mGwMKl7HrwMf\n",
       "b+C2xLiTHi+qGdbSkTNl9p99yqkI4OR6o8gg/IKhxygqRYNuncyBOHkhj6YXFdOZgzCH7GGHDeME\n",
       "XVb7PG9RgdVEKJZnabbfwbdP7iwHhbXTuwiQNm2MbBMQXCoUze64I6iEQ5C5In1lksar6SwVrkZd\n",
       "v7oI5z7Pb8SIhE8L6vj+/sUaiBYHA/vRnFquHyT+WsX9WmCMm19vgu3oWrg5rKGs5YfdEgkBcUZc\n",
       "I5tUDBv/g+c2HW3yZW/XApIirbA/2IZ6b9fpWUa4JjFCBz47pUFTpF8MSSjWutx68Jme71aKZCFm\n",
       "PLmfc+5tM22PqTr7v1zKBtwOpsjqWY2pzredXbSIMpimecTJoatSfJvNt6itqAQd58aQXQKwfD47\n",
       "E9NO/ncQHndwHf3inEwiDqTXmfQPeAIsPYKPhY+/+kIC4qEGqLrCmiJvNWkbMq8VPRq+nWwzePyD\n",
       "LrezlcCgDGlCpDaFZl74EOGvEtzPFnaox1GGrYTjHWBEaBmPXN3KTqcLogEijeAMhmuWBC8/Uwqp\n",
       "KEQEeuO9RoqfLWaObbKSVUqD8FEo5D34Gg/GlNBT4OABBJkj0aVAowaO29plNaTJ4AQCHfL+ntOL\n",
       "G26dEUlQExe8GLfM1Ay4mGtgj7ZkZyDNuG+yQXaKkc9MtL3I/lgqDsVjjiI1V0kE57mJ6gUtZYm7\n",
       "kscCx9VP0xAh6TOrnxC6TBFgV49rDtqIvbWlWJCvzDhAwewEp4jy+9Aw9NGu6awhng19jNdBsvxm\n",
       "XPGwuGUdFYfjhr+qFD/xfRBVtvkxCl3k3L5sQhmMeCukMkT5/3ulmNHQACAiqtdqp/d5S0F+HAKo\n",
       "jgOIgn3gpSyeLVjnwYqPS/0sU+Zq3gSgu0IKZNsniP2RD55H3BOOerDozpo9S3TtghAq1UxcAoWO\n",
       "m4XYrQKu86Jd/KhFGCv8ZjBjoMjTOvn1iYwrqM5sRGy6JqFDbyeOeDBfIEpJ7p6uE6MOPh7aDLyW\n",
       "SsIllMIEM8rMtllclG/uPwnchjlm8no3n6RP8WYzGBcbhu/L53NWPAw55kWZteMntnOWp9l2T89z\n",
       "TQyNj/ZR6qyUGpRXykMD3QqRZv9NMTG3wVmKpgvERCI0njnatkUDSV/suQ0jvSUQGRu30xmccR9O\n",
       "UUFS1UyTyFzoKsSXoGjU5XPe1zXJluZvy8A8k0iJLHQLdwxRJRc7C5cfmm4G8M7zSfYoR5J1Q3np\n",
       "VJyLztbdgce6aqaNLmi/6sWllFd2v0GLZHHQcZvUZxg76XgxSJw8eXZm4s2MDSY2vlFjyVNOakGy\n",
       "ypkZs9jkA7HB8OMjySv4qx7FPFTfW6ffbLx+BxUGg0qa8Y9Gi/w8rdp0jZ1Hsulz/KOMSBh3VI0D\n",
       "3PAv1PTdyQq+TgDhmDQTn4Lb7+/jWbIkn+SEYO6B0nAailk1kXBW/Myi7A/I8AtXlqzcQgnaLIFh\n",
       "0b8YGb7VKYmkeP2qwRRlqmxxfEsCXzFHtGQvtEAOQqqS4ZRvGMC3h9xZzBsZxoLHJOOJWnqb+JC5\n",
       "8JRbmlL3CjyKr552MnuH+j2vgQ3AhbCtnV9oJNkOxe5fSSQXpzcZUnEHcn8A8YzdWmTX8gJpfz5P\n",
       "vd+V0lNQbiyVLf0taub7/6/IMB/+vIdlowFhq/K25FuZjwFNWhrGX+tUx5jquUfEfvgud5Ig+FbC\n",
       "k2oBqbDjDi2jkX1eXumRahGb4/NfC/0z52J7P23Z+0JjBLgnFBBAijnVr3paF7r6jIY6ofpvEFeg\n",
       "Q8v8RX/Stv7WovwY3VlX4gU2qk4Blo4o4LdCMf+xm1lYc0GAllWueZe+aJKD4iCqGTGYshr/Ony2\n",
       "cMbscOHg3PRmkK21NHxA4auweT31Hk4OOsnNLM0ORv9t3/LgKOnXD7VpjnD32yXMJkW6wwQq1Gew\n",
       "doegO/MVNvgdjxBqnKdZHjP12aSR9FF5vibTC7cVU+45ErNIb8jGkakuZhBGGCiNl5ov9LjQQz7p\n",
       "Am3lzI3mVN9um/B5r0UyJ5WLwQXhBxAD83cHxgOPniJB/KJgYwAAAp1Bn0dFNEwr/wIfJk0DFrWV\n",
       "aYwEsN5j3jkaNeYs+oaUVq0WAIwCvAYKU9+mZQg9U6mmmYjjDmO1EP/Gnr12pe+TOtvOcJxiFNJ5\n",
       "cQmk73yV5PSKG/BBLw6mwhNq7+XgsZjt1qpcPwlXSOWyrG/ut3w8P/xwh9sKA83UhVIDGoe4HG5Q\n",
       "tVALqTdZ+fL5DnwKVdA78bYA26DUrOOX8bR8q1ROC7Ac/w+qMFPVLjhgPS+bHS1GzDlyKgXfd1AT\n",
       "sDr0gm+TXo4Z36zHycQ0mdce6rx05sYp3JExQ6hi6oHSahOkB5appVeA3uwrnydBjldBkKWTeWOs\n",
       "5//yhmZ28gx48NjZcewYgDcMDyAM1DPo/OzTop9EaHMU+4Qgphqn8DeZJlg0A39tD5ZV+9iHIfo3\n",
       "NL1ExZDrRVkS9nxdBcmBlqRL60R6ZDkJSlg6b3Sy3dPYuaNDAkE2NaXdmNPOfyHeswTnru3hE/Qb\n",
       "4to7mAePvE0C/Kz+c9mC4zloZDVBpPspHIWXiFVuYj+h/L9Xv5NBPI1izuRQMEAfT/Oa1fAAg7AG\n",
       "uUPZQuUOmXrKCBLwtNYdES1cp1EStXmpqmnvhOzaP7UMcQ+TsJsUArrBK9FrXsCWV16J2RIWN9Tf\n",
       "JZcA6YAaZHzbDO+QBF/5o62zPDE2e746a6rP9GCE/7/EgWgUr3zCmHFoCNkTKZTrli7eo6ExsniJ\n",
       "GS3FujHV0ZxHMBXznZ+68qWku6v40GTm4VC4aDkSg3nuug2B3QNjBGi6YMBet2vzrp8qYIVAtFev\n",
       "S1FsKS4c5uHtw5zZHe6OWGFvkWoZZ+IRUQ1LFjcjT81ARMuy5FkpuieVGL0mKbyAp8MGH5TyVpe3\n",
       "ts0l2ocClXPaYXc3B77cfSYjVRBBx0xrDbEAAAHDAZ9oakK/ALFXtnP3UHSmyWoywHYzhhGghHso\n",
       "4aAVW5wcCtxuuYUMlTXVUV4T+Tx7FJr9PwQb+6SC9A8bdiPhzO9+hrXC0KW1LqI6UuEaer2/5ABC\n",
       "mL0gnQpbBNdpwpWkfQDMIl/173L3Vnz6Mj5U1Vy4s7Vive1vZ/b49d34dI9zPnzh5gWI+wHzkOB+\n",
       "BTQ8PqIlIXGF7i5SniX7EwU2zVPKZ0c8ltf687B7bgkK/FB35hg9P5Fa9rR4LA8MadDuKh5Rz6Oa\n",
       "SOSiomO4TsNaOiXviFhgqAggWnJAL/pzdMbolBdcM1mo3yHQxe+AWq03F6/3ACilm/zMLW/0Zak9\n",
       "dcFBBMyljDccKBgAniHBMVjnbhY52TLucNeTjBrMfUbSoJZpZQLJSdjEsCoO9BNWmuGoHkZPZwy+\n",
       "g0Rh436gF2+Rq1gNbArN39E/rQl+TBoIee+afO+58zofrZbTz0knCuUUlJiIsG0ieNbMylfPX4QC\n",
       "YlHi70FYOj28mm3qReqnB0AL0g2d0GlqYROTqp/wKPmG8wDa/wOk6nZNck3+YkAHCCtNxomAFUfN\n",
       "KvvoazLCyOEH3pBma23nh5QBMNC/xY8FRAAABF5Bm2pJqEFomUwIb//+p4QA3Np6gPwIMABc0yv/\n",
       "BI3iNzHjlZi2g0ME+8JGS0b+kCRUVyccJ895FSIPZXmARE1Bs/kcmgs8+Cie3SW+pDdcGKgTDGO6\n",
       "cIotNgNVOQtFaI0pfcAWRxc54fts6+nSGJ4MZUJYqljgPZUNs9XVr/Vj/yFZ2TO5kT+B7c2FDSk+\n",
       "+ZNHMssad9ztmivyt6jeaefgYgdc8A4PYfcSbVbC4vpEKoGzttgj+mCL9hzXv2Vso94mRPnt95L8\n",
       "x1NFS37bQHhEoUFjWI4FXi6RN1pnqwCyVlpDDNWcSkwFoXflGQ6EzsieNzJwv3bieN7dlqR1FZN+\n",
       "fcs9VMWcvjP5etbmhplVmDoUGuDaA2KrhpBoHzTcrJiyqljofWWHkhb7n9LMbil9Bk5F5cAu1FCP\n",
       "mxkk0rtHyD3DNJEJ1I1F+e9dxPC9UAnTYgjyWWZ7DNardkSGM0TRu/cIB9eurWEUpHL7Nz8mMG45\n",
       "ef5a0eR+JHysZ8kU2vzaKHOQncr9KxZoZqyGyRlQwoTUlTGRLkJsAsrQ0I8VLQtj9PZR7WAwGcH0\n",
       "9HfFyEs5DxqiVBAxay5uMyvoEdFPBd57q7dVlBTiP20jANayM1dSxlQ6eI6OKnthq7fcWoX1HAtU\n",
       "Mwb0KDhVadkGJkWVypNI5aBeOJodOh4VXBfiOaJCkzUAstDPOKrijnALPl4faIkyPBzmXlom2W69\n",
       "y+K6i3ilkXm5PzI+tKm3Mkkth4ig23JqvCayQEFRVgkBnJ+DlwTZ7Syh0MDHRfv8le0P8RJSrfuk\n",
       "J8rMCzGuhOv5d0aARiRksmMAOiA/9LuSOcnmhsN/K0tjAUiGYG02w2pcWRSgahd30M5lZX4Q8ASA\n",
       "8Q0/1DvFH/yRDIap7ITGOaHJbo4OVKiSLQrtm69YdNTXPknCnq05eu6vrVyv6TMQ9Bsi5KCAVWic\n",
       "YnVlNxUok/0EFBuk3rkwujZzIXhOyaBUAPrQBYiG2ZCkHTNEd9U6UiQ9Luc5NRfzLO3rdeWPXUeG\n",
       "4ckHAMctHSJHaWmB79HUa1Y4+wluUsZyo4EDiAk5aGGHBED5sfRZWgCu+wPOo/y5O1frgQiX5w0y\n",
       "xx8p2oVuQl9l/Nl7jKoMC+iqUXN6cP71MIlrJB8TgZiEn5IvVvwNmwI43VEAKmjyl3KeEwgF5P64\n",
       "cYIIHaCITMay9mN67zOgstLOEUnw56Dn28pYd6AOD5LEdBnWO5fdLIlZKZbIP5AtyljAZJLtTCQn\n",
       "mAx9n+M29bFlebA56n1PcUMRvTRabeu7Q/s8wxyKRr+6lge1DTkNjLJ5qwhpui976YTB28mIeEhr\n",
       "Tw/1IeUC+En1pqrSjwY5NQnvoTyl6g5o6ulpYUM4618s7M3m7J8aXlEdeTOsbFRM4Zw+Qr3HOHcX\n",
       "bpOsyZmE/N0oQ2K9/TnusWHJE3dVZqRUfTkcPB9nGT7Q+T6DWWmticsZBpnfCCL8sPVp7+sFt7kP\n",
       "SHGxwCJcwQAABYpBm4xJ4QpSZTBREsM//p4QA1r4poBRkuKm1G9z9WFyhU69RVvtpL+MFHTaWhNE\n",
       "yvYyz+YxADhjnFi2Cw1ePXPmvoRYVWcHk/++oneUD6NERi8e7PwQUkNsd8zUxkW2QywuU5l7LNKW\n",
       "EB4daHejfrcAG7MPjHwR6qvjXn46pDRcQA9HuiCreStRLsXLcnVfcKyXWNLXJ52FrBADbVKF9rcd\n",
       "4TQ4o2ZzMIhI+yKtb6JgqdIxWbZRN/GP2jfsvtHQMJAToMzy/kPFgjOoLZf2Gj2wWFV/QE6VDTIR\n",
       "A9nHtOFr/JmtVVJHPd/c9Q31s862uLRIMPPjzFQ4/EITAp6yf8sNFi1OMwR2Ca0YKlZ8OJ07av5m\n",
       "1PnJY+Xc217bBheQG3lHq8j1ke0LGlb7Zx7lPohGNmWon1+/5cHABlr0i09c+ygrkUKL6yJ0z7z1\n",
       "Hh7hsy3VtHeyjU3VW2loZuvsyRdC9xG+dlX+0GNd1wqM5RWF5mPF8XGoFOxWqEI7pCHy34i72UA/\n",
       "kO98VZoYfp2lKEffjqn7rTKDl0Sutw2bQ7MrsPr//FLRM7+js7i55Dj7PJyYnR12JQCjn/yNHG3u\n",
       "gdx8rz7FSWQzLRDl+9rPpJgPUYcu/2fbC2h3nx6YZfpSHEFNK3m4DDZbT+uwIXsnlqA7xVClxLhU\n",
       "5RBuzW3o9Uri1rZtS1/q69dUeg4466LVL0H700XRR7wAo1MSHWdZpc2AessgutwDAR8/hZqqJi3z\n",
       "ADQkpv+FyatYLj7HPXIQaBnSEQaWDQRz4+GgBj3xSLlP/zdbXA02/EFnMBv8ZfYXH920mF6CrtvH\n",
       "dILjkVywBZIadzU0YD3quZD/tqIwLLPbExD677LcQei+E7WVyROKRGEatufTZaRLQQ5zFVZQf89G\n",
       "fBPeYLEhXn5nboKZh4WY1jZ3zYAkOxsIDeHGOxhV2aN6y9EoJuKJPcdq8SXcC1Y0kVHliqDJZ73T\n",
       "VRLrT6O99luV/8b4Jn8ruihnzPVLZC4Da8sLsZEbzLnEvJI3RLYIxqc8+keWu8KlPpjrncddZS4k\n",
       "WqsYcAXSaW50ZIRYDy+PdQn7FNUQjv752YFYMicFf1vpAfJBw4QJK0QnalxWY00E1pkuXlUQJkHa\n",
       "i7+pfM//qqPsmuGYyS/n0bQ5ejg8Zg8TjKc7HpE4QiYrJ3sVCE0bNDzPH/mKe5cWimBTVNoqlB1y\n",
       "FBAtuWfGYI6zob9xqxTSfMfY/j14/apatrWrQpa1A7AlmSYQjEYVolg/vZXwQUZqHGi6yDGP07al\n",
       "WSUkHMxis4mSgm1ACPQboB8hMXWOuDCMcmT7SqfDPG/TAt0wEOqR3PgG8W0cYn4I+QABOCIY0jJB\n",
       "KF+LPsUpJewrJ0OssVGtrnhrfMxpbR8te63aiLZhbYqISDJtUIHxcLiM+5ofa/WgHe6L82I/2ylu\n",
       "5D0dYjS+2UyiyEewoQL+DHi0tVGZc73dfnrfa2Ka/PVoiRRHZl4bBJRqq0xSWv9GE3IJIBiHEgc+\n",
       "1irSHgsTE/rbedGnZE3ptYyyNVSnmERcTSrG6ebS1vcMhwr2vOP+00Bxam1ZiLbvoiwUkNNLbxTY\n",
       "cCdGdbAnMPOUHBSH+zz4MYmPV4/II216oSyNQXZnYLCBJuI9hhtFxGVOVBI+s21woUbp04DjWJzZ\n",
       "OWkdvW1kK7H001LOpS8W5SNWibeclK7kL8C4oRzp3l1UAjtVWxa6j0NnSA4vgnSP4uPBE0J/XL8r\n",
       "06yrc4WNlJ6LCHvmweoexFoTK0O4vDYSVRR+SaTYy7SONQ5YqzPJDo1IxvcgsTn1NzLENFWSF9Zi\n",
       "pjiE2/rzofpdA1ubeDB4nFmQ6ugFCScdP6L2w/r3gVQ2oMOBk0iGN2hox3knIbhlQAMUZ08gsLzR\n",
       "ZAC+sAAAAbgBn6tqQr8CHojyHEFXeUcs06HAAHE4tg6y7rx/xEUfnP2S+1gBzuW3CjZvKgRLNIdw\n",
       "f+D8Y+RSy5734N/fmLL8jGFy2S4OaJhMglhYm6kbmM7vDG1Q4Bmd9dgYNPjw8zmmFDrgp3vNeXCC\n",
       "yhQkkvW4sHeTyO+RCpaiPnj0NB/SKX3FXk26SRyfiALbr3qTxozmpX2YGM+iA7HCr1iVsUX5pjwg\n",
       "tlPnP6Ey8H1OT45EEYYfCZgd8Hzs9gb0KsLqYFXDxkqIUpTWiLoDF7GEEHOt6+FAo9L2q1MQHPvy\n",
       "npxzVyhzR8jnOhXYrwIXcRkyARI1/6Z3VAP8JHUsIuj3r+XIBZPPYBMgKenx0drRNZwP39//wwA7\n",
       "TfUjgbGZUyNzB1gdaKbtuYt8ThQZv7U9B5NAlaKurU2rqDEaxYucRGwdrBxKzVGIq8rEcS/6d5G9\n",
       "Y0LBM/h8jdg7zZdYlWDJbKXLWWlD5SeRX1If6Ufd+X3C8k3ZqvZls4QdWw6vZlRhDEHsqj9/56rN\n",
       "7zTkklUJN4+RaPlY0vercWk8jGzO5Kh1Av9BIG1lnLNlG80ClzI65UCpbXyoQFg1IAAABGtBm61J\n",
       "4Q6JlMCG//6nhACayT6OWxqZhACcri9tOHAS5mQ+jPxbZA8tTSnGwK1/qfbBr++5qcvdNYeQ2zV6\n",
       "pTr6j+U6ud4gNEazIyKeOoPvJvpC+cXjbA4ndsTmzNanALdwFGPYYme2ufZyNC97csCW0jBrXhvA\n",
       "kRDzSXjubtGSqE6wzpR/FaoY7oSqKfj6tPW8k1yQJKlUtSPP3cUhtoeIshS2Qf39wvxUjEYEHFv2\n",
       "+fcYdCWK7TpsHZJPimr3E1M58KX9iDNU5rCbTksDjYW+AcrblTHvh6KPNCvWVMYvG5QAUHKBDp8j\n",
       "Ce6oiq+1QLv7+cq70cqdyb+VtzeDgfhyHlHP+VVC6+z6qkxXxPFEhG6zWfTJPlT5KjpeJnd4ArnE\n",
       "I7Iklx/GchV+Jnr2xsWbYK61hcLhXFdvxiNaVMGs+fDAuKx5fEORH093l38d9h3jox3Eg1GdZHw1\n",
       "RKaucW9C5TLSylKQ9YgLWQU5EPwc2X+C4n3HMU3sssgMlNE0Rre+HBapWp3fehHJCwukC9dEPiIg\n",
       "XQonfRbu+IrLBzVvyD/NVVSZE38hpCci6kkrjCE8lFamRkgGljF+X/U0QXxr3vZuhjYG8pFWYtcT\n",
       "68uLoZtgzB44NT1Z/6/6A+gIAqNsA+7QJ6QERrogQaHEebiZjlQ0FeVWVziAPvJ+/pAti3VQxjtd\n",
       "q/ogOQN4jKeKFbHsvXpNb8K0rWWp2gmTqT2A56fRmvkEMDPGWYSfCrWbUWUYGYCiaCgrTpfIW4L0\n",
       "glIEfzxTWzCKxWSx8m58U5Kt9y1MtDwGo86wflrl+G6qAP8Qi7kwXf1lrD9vEf0t8pQEzgx0TAkh\n",
       "kySR7kXvrVuHwhukTjIFOaVJH+LF1B+UnvX1RPfziykmknnNfTYBJspLfY8o8SGLcg1Jj1sUM/cr\n",
       "VaIM4aON5Zb3Zpr4ncN/6hg7eZ4KD5MSnbchtHDbe4EsX/5TVlZ3baVudZlVj2uJamT2+X8ottRd\n",
       "ne9GKdQwGiO/72TKjwfdsUmChvsx1osV5YFL/SZrOnGh3jjrc8bhviXtt0KPvs2jvr76hmHGvFBv\n",
       "T1/Ws840GAY2U/HZmIjx9oo/T3sBmNci+Mkj+HKDU0V7KJjKSLNXOnuco3WGVXGOntyJyyqToDhJ\n",
       "qQAek/EGV40uXUpEp+8n+XPa6y1lyTLd9PTWqFPRCNNWGdO6IY3/YVL4T/IFxzS6QK6gUC6sdMES\n",
       "NVHd4M99xLFPWOndKI0F0jbrinzEONleJKkDSrF0s46nkrG+y2Qr+V1+ul5ipLUGGk90x0AiHb7O\n",
       "hvnk98es7VYjyosK3ZlUalPUiLIPuFuwE0fnn6qNAVLHrB1BOZn7xydo6PDslETF6Ht076P7otqZ\n",
       "b8vYLkIYAVFRxFFRmoq7pcxScL8LEHwMYxEu9BVpl8LfLD7hyknxiBSOsqh0pDiqoQxpaveHOIi/\n",
       "HC5ujlYCxbQuqTEaqN3eRVb8+5Y1FSRjyv18MvYHMS8Ny4lZx0GHqe3GNo8AAATBQZvOSeEPJlMC\n",
       "G//+p4QA2+BaIKzCzv18AwitADj0oY9t28so8U3Zy3LRfzQgaj2I95T6iS44w76yZVXl9BQlLzIM\n",
       "gMFIih3kR80cb9CIxNLP/A/AvzoXKHy3fOF/m9ilvEPnnDx/EXeOetlUSJGb5JZNpBnjv1UmJNKL\n",
       "6K5yPmpcg/i4lPHQUmUPhWmMZH9moXK0czOmeBxnHHyiP2MxHGpduXVokaIZa4lIgdssXnVu+fJg\n",
       "zPpvrlbWUWff1gmo5AUyad4vDmHMheK0Wiwt7vDRy6N2OoGWxY+YZtWMb3RAvSTGaupA6FDqHBwt\n",
       "OK4cSf1cXAN5dkKVsCb3HpdsnMB4G7IyyP7KptoQpggLi4wKVlOkUiuU9g92a8vB8HrB2isi8Vtx\n",
       "UfHUjj+5Qhk1+VPl0CzwDbQyY+Klqvbe74fjvg3XRW9sc5tq1FdDAPFLkHw6wzvpBFwYiGeZvxkj\n",
       "8qhBOvRoDfppORg8qHFUumNHYx6G+Tp3ZePTB8V9/3UdliZcigga+k+jZONqebqBBXkWsrI07e4t\n",
       "HPZXHJbkgd5y5JeJGOOBG8GUUg+icVnGZsv9WkQi+gPi+ffW3H7pBakGCEeblMnPRjhMsBTeVBGN\n",
       "0xtXNu+w6nPRjLhhwcuczkGOYfrn1W4TCuZvMSJuaPkVhS6H1VzX982hbqiyIZferofVYYIPaMc1\n",
       "xlU/NDp53x6mpPczawFP9NWNkemw8LPQhQwDn+fo6fhKtkGBPqxU7C1awK3wRYUq2RCjk3pCXQOY\n",
       "+w4h3acAuvwAij8O0bbmyx3HcgSmSLFfDiSY18/Iysud2kRYQIoN2JrbbiLzu4c/Sq+CrUqRmBz8\n",
       "Z9jHQI7z6qdenpF3sQ11xPnSfd6yX0/oHc/yzLf0JKFzATtUBZ7rxa/AuOuA1Ol9dfEP2lX5jcvY\n",
       "PhGF4XhncMYCKzPtmbN3n+rHWSdPt721iHLotPfXpRlonx4invmLdf3xYeMsrmRzbDmXJW19H+ke\n",
       "E/CDlkjeENvomHRnoikEcBkpQ756J0caw/EWHe7IC13hoKnYwfVZz7KsMUGKntky1BA/2kVYs8CJ\n",
       "Z9fsRVlyNWw/0QEi3ZW84j+QOo1TSl4ADFWPlmhEsvcDZIY5uM3B9UhljPjTa87qAxhINrQdDKhO\n",
       "jAw+YGxYIOCVUty762ujbLWwUtyhGUOM5tmgQ3Y8kPCQo5WRBzteM+/Ly70RcQNBCCTTdZz3xryk\n",
       "eRPqB12JEq42JmWelzR1Kw3qvql0iQBUs5pPfY/N/3bklzMbVwGsFihR0xDU+DlFUC+sXyTPtjTB\n",
       "Bwh/Eyqq5QPDDR2bY6CzlWjrbuuEu9vBMXL56rN4jtupbGajCdSBWRx160z/8cB+1dcux7idSzyd\n",
       "iqPkTLtk7HQlo4wowQERi0hxcF2jEXA8SyLAhg3WfUvxal/fLPqkRCzyaYcAnc7OnTaY1155uRwq\n",
       "fZCXQ6HeS1x51s8rlh+npbQh8/E8Ym9A9cWYg2yQzrnoCVlLF032jmzjttyBzVEj6/hCL3kIJ8R4\n",
       "52bmk4Cr3g5BJJZ/rTYmA/4hqSrZpDI9O4lVMTGxD/gaMyDw6uXkv2Dv1dgJiYiGqCZFAYVQ725/\n",
       "NzhM4VhGBsC+a8sAAAVgQZvwSeEPJlMFETw3//6nhADbm/2csPnyIUrZ+ZVl+FGlXAD7CYRRY143\n",
       "6YuMI7PWgjeIiRZsd3FUytBAQmUCC1Otx5LljkcFG3lOeWMsPOSdRyX2RpRboE8ZBWUQ5tRBlIRh\n",
       "RXFLXyAk+wBB96veYPhR6+f5XOnW0KKAUo0zSpQZ72ZiBmyBb43QdLciJwfLnRbB2ZRMGC6HsgiA\n",
       "Nd/I7c4uVYzwxXuITrhsMpatfoCrsbqCIYKAsQGCzlcRDigFVjFeAAinUq9/bVMTxD4r152bqXiK\n",
       "T9WbCPLmQjUG2twO3EpdrX5+WO/IUw5IrbeV1SwxvlPLd71JswJr0oXSo6lUmzlBuY8fF+YX5WK6\n",
       "pZ+Gd8DH88P4bXR/XB+g73CqjUmAlFPGybnjpvQGe3v/Xe1aGFzNFqQEyl+c3nK4iRbq/fr/Br6P\n",
       "jiJPa+ibm4GKiQOtEkZvTWWjFFiV/rKPXYuHCZwRp3fPtkWzztNU31DMG+Betzp0WKEuTHNGNgOF\n",
       "tSWtEmlUm9muTd++asUTld5JG2+2cfmkljOJXN9WA94doZe3SxD4H3Pfq8YctLpJ7VJ22Nf7OsbF\n",
       "u5Biauys/Xm69ixP40aSAZDJOkrlwadu0quNXDUeapbpkXwI7CrRkW10ELWJi6thOfaD8TJXw9Nw\n",
       "Xwz7T3K9rsS7cmZBeuStenyw2gH2qzZ7CEIy7i6vPe32hOwAacg3IZ1Sqsp3+Tbvf4Mf3F9TgEqx\n",
       "IFLAsj4z+LJL6Kq8Nqwdkn+mNl9krOb8V1GJwmm09L8uMutm9rPxUFAVj7uMQEZb7QCo3GsdbndU\n",
       "Zr07e+6uH4JQSUAgqYKXP/Vi/ZDQyjFLbbCufRKUQjeKyfn92XVHQxy5toaskUsbxP4Nblt1e0o6\n",
       "+HwRZAmd14mURz5B9sdbV1XerctgQhbYxUgZR9Bw0sbZPemHXwyKy2zWyS4okv2nopRDn7BM+EV5\n",
       "eXwEF5ONAH/A8RNn+iAah7a4ADLBJnrlGRT4kR9L5ZfF4DGPIMomed3MZ8evQGvjnTIv1Wxsl158\n",
       "ekjxzktAlrgJK39lat27hQbLlqiFlKuV55IOJOXWZDYtJNP+qIzcTVuDJ3hX8SUB8/lj5q7uf84l\n",
       "Luo+/zJpy9Odj0A5EcZRYpqAOvtkdaI9nSPl3yY8G2Ycaujsg5dCGIoLoy7lLQ1FRqHD7Yi2g7pz\n",
       "A/VvivMLfHCB45hzDMB3hUqP/8+N/oM0oww2Ha9MDdUBaMyUv3i0iuPxYLPfbgw+NxjUHuRUCiU9\n",
       "eXr3FqYQUFCc327aM4tK7DvVYv/0YEbkyUEILPSdPeqOiCtkp6z6cnKgvGSvnnd/QGppqqoWO6vF\n",
       "YuX+UHrP1dn6q8mzuvOXZ0DqCH9hayGkokdTSknajiZSNCC8bSEKqvGaeXqjmJrEydWjp1sEXBBt\n",
       "ZZ1Xe0FQ113XQRWcYcMJfm9aCFgEEwSUQWP1fH7HH2ky8h+KlreKPaGdJkIE+421+7Se/y4f4OVl\n",
       "7ECIazofH/RhCWWn44+OwYsNM700FFds0lwAWFRs/GZ7Cs9Vxix4a8MVaQZTT5Z6DqHES13uK4xI\n",
       "wTjz+ROYtm05IqJx1yKMWLXPRty+Uz4UofQ66nHpX6XWZ+MCEqP4+QhzyFVwJ9AqBmEOHhNo8h6R\n",
       "ct08oCEhgVSy4AElgzr56KKNs4BsTvnhSpYGfjofzi6nDrtUaE5kdwrV8d5mi2fv5smrIPeY3y4e\n",
       "+xo9hYVJC69+Qb0ibqdcLNzM529Z7nkBV0eroCVamzd7JPe9YrQWyoBghIZSqI5UqE9td623p3AL\n",
       "kCdP3EdsQ9JHiN6Gfeh4vAvn8nfww+EAAAFnAZ4PakK/Ah6I8hxAuVJa86o3z2YHRgACzyhAYLBf\n",
       "Cl4D/ll6d53SdOYjwOU2np9khu4KcgGHTWL22zpLf0r0n6MIaUJz0wit2pMZEOD4yOo3u27lFO/u\n",
       "nfZwHe6ukg3c3BMtYo9HtfHqkDvnWU0RRY89xX+QOdCyEHNOQGIJ+mKNwGG+ZJ9axKCuXhde7py6\n",
       "/GmrWwCL1+bUooVCF6enIyYuWodEBO0tYrUSzFVKmne7Oz3qv5RO6heefojs/Y5R7x2lh70mdfrT\n",
       "6xq0ftN8I+HgEIpkV6bHbioLHG50iMR8TIfNBq/6Q7GkU2wUm62lIF1hrP43SE3ozDnjl99V8MOL\n",
       "feqpTsw9aezz0UESZKY2mV4k3d4OBHCIiC5BJoygM5zTqe4voAjVGbs7lPVmmLbkDLlcNlgWCFRG\n",
       "EeLj6E/UwEsswLInwFNybzEE26Fj9ehZEr5j4u5MrghrLm33gcWYIg1AD8gAAABCQZoTSeEPJlMC\n",
       "G//+p4QAXQFDRp1HwAqAM3+Yj84PPGYFHPMuc9pKqRhqYA7MEEZEBf88jjzsGHgyKB0lkdRsbv8w\n",
       "AAABmEGeMUURPCv/Ah6I8hxBaAazriAKzxa4EEr+XdMz6273/0/CohmiwdT65pLEHyezfzHbPjDH\n",
       "dhh9qOlp9jGoyRpbQjUtoYyAyJGY7j0qtAOZmnaJmPyAGlblP6DXasQFEVjg1541aR+stPvtQmaI\n",
       "2Z2LdIC+nu44DgvQHl+18QSTq51dhfMRQPM8flzUsZT31GowjvPkKm4D8qAecm9lOaRUx9efUZKg\n",
       "+ONFAsvQYRQUosh+6gOf4F/xlzdh/l1xo3CPbQBiY6B2KHDqUwt2P4QrCmctPo/OwE4AG9OcnQ8z\n",
       "ArzYi79VXuqHPFs0ftrrFF65v5R3dRZVrRkSr5NtuBAUsX8PoM+dExu8HSn70Bcf4g0xxX3gWXbJ\n",
       "Zlhm9UdrSPoOO+t9icjhFAG1ZsB6ekx7/KwLrY+vP/9i1pMZ2iNgD0nSvOByCvyPJ0NzJkJKGhuC\n",
       "nO+jNhnLHMm/un6pdDFMignMhY07fosvWVN7Pj5jITLFeJoehgzSbOhX1hSu5F74oXwq8+o4JnUk\n",
       "cIoBqnrGc2Ff4+g3OwAAAEYBnlJqQr8AsVgvMNdFTfKUwdyanQHtYMplWGk5v1+R7qlrTDgxwN9L\n",
       "6Sa5p2QfPyAUekJNqe4XHa2u3p0MHljJVESG4NSAAAAFGUGaV0moQWiZTAhv//6nhADbmuzp7gEw\n",
       "BlrLYvp3Eslvfn4duwnxAyG1npv0ORoADXdTmgAB2QuNQtOKHczV8rGbz6aJZDx1VdxhfOXu0OV8\n",
       "Jc7c2nQajuaxGC+XIg5/XdQ4B9VPMrwSc5P1+AURicK6qmuBo7yS9T2jN6FEyxufjGzoLySvCMHX\n",
       "snC6Vc0y6F/lC5e+M72VR1Vn6GTqBOearwB/uuJeSAD64K9yaj0actbtstoGLjRVUpgpxRHqeaX7\n",
       "zQLhQwoSnb8sQmYjhcsyZrn/Ucxp7ovnmN8sv7qZZn8e+QMl6yWm75DNw1zIU8LMNkIGq0afAHCF\n",
       "8vyZ2itNe7qJvwL/QmWd1j9WUng31k3d+eZ/ORlcNVzdJpZkP1AD/eZR6qaoetMUqhj/wCNYQ0pc\n",
       "ZgIiqIjA704BY9gfX7Puwzg+fyP1+hc7N4R6Rk2zsnBlFdTX4bW2PtTs1FPuZ3h1dRYk3OyTL8GF\n",
       "R1Nq2GzqH86nsIpGmI1wP1Qn61D0RDlyN9UVnzqTOpMxHJEDrAi7Z5cUx5QBq9WsE/0Pw/N40mUP\n",
       "ThZgOW2UIqdW1Z/D0A2vZg2ZQaJexNNTqvHm/3dv3H43+IM2pIbb2p155OW8kArdUsFiSw7ES0q4\n",
       "XpHl+8zqKNpiGeO2Thk7kBaprDqiQQQiNzLmwxw0fhlOM5hQFnwiiZc1pCJ22BhK1n+1PsnYmuQW\n",
       "qli+K92ssv4Bpm+83RWXHrsKhYthk8FzeTAcgcfRCHv8k7xzuDNwA50ROwyAA0jSZVM0aKI1Rh3t\n",
       "sGVmZKd5eJ4jEX05sNccmpyy5xU32zMBpPSBVsT2mSFKnsF8EloFbpVaI+wezT4/12v1k8E4AHHN\n",
       "lKqZ6+/hx1K3sYfOBWaVBkzOHfW2edNpeAcdIj8RHPLIaTkgauPpj3eSRvrILH63Yf1HJ8Pr0vP9\n",
       "rTrOVdnS/aXSxIBXXHoGwShEng0B8+RHNe5VEmEtKEV48YGyjQHsGZ7ACGxueTtBHhovPCDmcKyT\n",
       "xEo9GXQNXT7HBRTUF6vjP9uLq4cqV1BVGNkxtIkfCcEAvKoQtD8qmzvSmLV6oCFfWZ+Tn289c6Xe\n",
       "oey3504mZh14Bx37dZPNQsENpRlbhgmN7hBn6kDGboUEpkdaBUH3M+CTLLZa85ocKAeAlMHcrD/Z\n",
       "XSxnvK7Or6cumjInlUofuUr5C/yZeiB7Ukg60BeOrJv2P7ywmcVM32lXcO8q4sBR4SPyigbngBFa\n",
       "L1+TmxhEczwAj0AphGaJ43fYefyhuUL8J4H/AjiJU3VXkxDyvjTODtMVDFYYsJEf8JamduaSdWgW\n",
       "cNiVp7Ho5uvFR2xbJw5tgBmoj3t0UDFuEQHADW/4Mn7mtGeRSrKdShamqKCrJZKHDZIpbYDwwW7D\n",
       "464oZ0WK0aIgp7+QRs/vYjxbVYMAE7yICQhm0xfsK9ogLSGaolT3pyemzaIXBcAUVYpstpZXyU2p\n",
       "XYJBvLN3P3anpPXZERWURKT1CBg3dtqEQaZICDjnZK5s11lutOy2TK5qLc0H39QOtId+nrBoXSzt\n",
       "R/bNMcF2NBJ6FMD5Z1dBv5B4WGCd8daLVeCkI0gAEnP39QAl97AAZcPmBFtDyqDsH1+QfGtywAsv\n",
       "+7Gl3gfwMTUmodyRyMk9f4CmJCtKr78JZNeTmvXtioNAVY1T+H360Li1UMY/8e5s9D17SPbXkWXp\n",
       "2aefX6qAP2zy0m1+kVmgNqbiL+Ia28Cd9q0P0AAAAoFBnnVFESwv/wGV506ydFpbbE3hBlDPwBaI\n",
       "wfSUn5Lh+FAALrkhIBmDvjuclA5at3fj3VXQw2UhCjA6N1avtccBACVacbXUiQ8MXeH1RXr00xjJ\n",
       "L1mJuX77CMAQhcEPyxXDwdAH3Z31KR8iRZMDcAkKXGPl1+oZb7d2N4+O2VBNCrXj7zMieX+Gc2BZ\n",
       "eo8G95+/1xpcFJelucSzBJbpjO29Dbzwuzko+BHK6nL9y4AphaIg6Hz30uanQyZ9FaJrmSWNjSrq\n",
       "OtTPFfo7TX++iedTw6LtyEF0HtB5aPPe0xKof3Qi1lnHeBImGi+24g5Wu/1tjV+Gw+oek20G9Z2M\n",
       "xiXVIaXz5hf/1VV//648BmDd7HQI4CSrpu99cfdklMgz/nk2c/EcWlZqhS5U+y1XuigIAGKAaUGl\n",
       "6e20acucga53c+2cavzF5gSFlK5G2XNTtnI0beSKQqkMFFu8+rx0W3IWk2OiRP/n+VvEvJE6TLfS\n",
       "uzaIDaKH7Vr7WJjRrtWId5LLEIMjL7m8/ZP1xFpj399UFxLEHjL3coTNhFy4xN011S7qLBn+n+Bs\n",
       "79D6a1lbdkyHZYHyg33LM8dxWP1gxeXReYPtNox/aWcg2xj5UjIkduPh8Axnn6gW0XymPIonZl81\n",
       "qJBMrqvY55zT/FpxWilOLBsi5CAa2sdWuvhDu3gVZyO1sQew/eZtDu/YV/uvwoqJxVJsL526xIfm\n",
       "q92scap9EABRY6slWozXj6CnvZu6qgks310gPIHKMpj6gQNiO+Ug+eUv5T+zlpiwW+2Bl5FbY6oZ\n",
       "OIZaryRe5HM3T4GRsbM+aFnY2F9icYapku7fLbOqmxiA1HbEQm33X4yNQI9egQAAAVcBnpR0Qr8A\n",
       "kvj1C7GItZJu1TgZbTWONEfRREOf92v3lankLf/IqxKs8femiTYmSd9buIAWFIELabHYMt0aw6/4\n",
       "ckHv0mcizpN8fx2H/GvRkxVnJfxBY7AZ3tsN0lYljqgd86ymiKK3N1++ultj7E/D8tjQhIv12j0h\n",
       "ptzDDePXEHU0Q+lADDrwFmuOy8N5r60vCbS8gjVwNmlv1zqKynPZu6BZH0ZMtMwEiYN6USMP8gSh\n",
       "t77mOhR+DNdJxhWvmVC6aqqVBlNg8O0WYzMfuSXp2zXcAwljW5YCHkhzeB0FOtZ6hPeyFp+gSFj4\n",
       "tqtY/YhQTd8nE5u47HksQi73xwv6JQ7UnXRgpwjzV10BsizkrU0qqdz7LSx0wcuZZUbGtpjhk2La\n",
       "rmVzFEDXm/OdXE+s8d+n1gPxpJlvYnVmzf1gqfowPcEVMQ0yVlIniAIZb57KyK68wjFQAAABegGe\n",
       "lmpCvwCv8T/9YZq+t0sGCGFd9MgaVwZhG0oa0ZgAef69VVTeoDq0Hfp4si8lOOwb7KvHM9onMgDi\n",
       "AAf3iNuAwhzePR5CvvNuuOrHTyFcM1mXgl53p9prcmImZsmn4zzxCkLCBShfCOLC+7DZZ3WCxltL\n",
       "pERAiJ/Lveh2ILuY6xUVmHLTS2nhArTnlA1c7Pe9JHxe8PebcNZhGFY+h/xPJ9HHIi1LNesVh8Og\n",
       "tCoBf1r1Bgg9QedY2HBC/NfhC5quMcFdbgOAuxkNsyVXYmnHB/Nc0kBXLYGLso7SWMb3Zlu4zvbH\n",
       "x77X/mW0uJpHfIBguW+IOSmsyeh7Wax/dNp80tKihEY9GiO3YZN1Uy5Auj4vBCi7S8mZG42JY64B\n",
       "Gj1BmML4KsoD0B5YsZaOFpf4P9He6ix+HHvhbdwCKstadALy0/9jLtfVkraA+x1FI1G6CnplVY2Q\n",
       "P6jN2ZobEU7Ixezj4TW5f7RQnuRLfzDRgPZ/WkNS2qyOgQAABKhBmplJqEFsmUwUTDP//p4QAfr+\n",
       "xwcBwgVTbv1wAGme1br4mqEiuJL0Rnl/FN1ggwutyCKx56hHMHb9SncM2cEiZdKdTGB2vzs4LDgy\n",
       "qOd7vrPYJOalgcr+5rhmrDxImkYjpRmvlopn14eII4LMRwWIK2XnYYcQvzc4dyfWI4thr4LG/WtX\n",
       "P5/H5U9ajt01Sqdr+utz/M9ttUuA2gLkuXgdMz6rx2YYwQik5tkKIsWOEfwNW7Ogd80/CFRSjGJM\n",
       "xrMPhCit61xShVDIunQ6Tha2uibgBcYnlSkKw2HOUKaUI18XyKpDxHiILGmz6KYrjjm/tsrloiyX\n",
       "CyRaVKrm3rG2PgEZ8HJJrb+RoKG07f1ORXpaXDsRNTj01+T6HQ2ENDqFn5MNxsRecT145QE3+Blb\n",
       "hOnYOVxmazwEWetyAYFxjXEMF7PiJ+/fJIjN+nyJlwCe0vT0IgKjEvAgxA7T39K+YzibelpEXq3R\n",
       "PuTLo6FGQLKqX72xmSfJkny/+uBK8WX/q7EufYSHIAK6q1lzeAXvBvvGuLpIoXxGqsbLojjXaFAm\n",
       "jVVeTeZ0oKJMUqAyhqaZo/s3ro42RYKum7qcVj0+FPa87yIUDCVQiv6xDhTV4xA3IzeKXNLtwj9B\n",
       "gD0E2MYrN2ws94S2lVKJg+mCCHtgQuHL97M/bQvmoZn76edcqd/+jDxRTcd26aFlwDC4M1uvR8i0\n",
       "UWh+3LfkBmA+tPAw9vsBp6JkMqMk5+ymP4Gap+cYw0UZ23+Asw17CLCA7oZ++kZYVWk1TvqtLbbm\n",
       "Lye4TIH35glA34YjsThp1mp/vHHcf9UOUx3dw4SvnFmQLYkxODxW84Oy+vqFADrES8qC4+ibTQs9\n",
       "Wl+2W4kos/HgYVU5QBshVfxgL21ZCn3Zj741RdXtf1oGCAsD+u6YVOE2kfK2wJB2WE2yzaFTJ38X\n",
       "B3tA5UjnbfJkiYYssGodDXPlKfDBW9m6CbyW+8RzKn+BpCOmYUHXv12GolD7niUoT1uh1R4id3+E\n",
       "znR9fQqVg8ufoXwK44S8qiGmdudydbJGBPkYySVVHtebpXSVBfppjusLnv5zpoi9AGLzccJAGAsl\n",
       "CEjjUGNonzMlLypFFRGA0bX4aBlnHyXm+MWctKMVb8rBpwNF5421ypLUGmbW6rksZ8tFZudC4LYg\n",
       "3SySFR43NdnaimW2t0O0QkBa9KoM6R62xfvWymFz6PMjvAKCLTGhE1Ixv+IuPBZ8CpQWahXHYRnq\n",
       "q9qAcif/OlAkT1WUa+lnqvwnu5kmTZ++tKHbfyvrG8RSVw59rIARXstTbkaRz/TmeTmOMt/4cfyI\n",
       "4GpbSyUz8612xCmGu30ULNauv/JPusovpLzotw6QUmFXqcFw4cUxIsZYlf76FeGe7oHvS5Ny6sNU\n",
       "6gN+Bg7F5AqayjE3FNV8V0FASf9CgwW66AQi4CswA97KHZaBOs1S0yJRTx1afLtAuuR5Wlm8FNUe\n",
       "Ieke4zdDxRUltSCPwRrFv8Ar120V4wslwYTuNgHPv+8hLr3jXJj0Gip8yLicNDGp/zDgJ+8tmAtl\n",
       "8MCvVMeJLh78Gdvq0TwV0TIY+7IoZy7JiWQ6K5gk0PPxAAABsAGeuGpCvwIfYc0bBK8KWNvOZeTG\n",
       "ixpcvVNMPmtfm9JhYUQ3wPHcHNnPVhZjV4g7kL40wAGe4EKfhPdURZ/GKsIMpx8XhFClPBaHoCsr\n",
       "9GAGEsFlN7WuBup9VJcFU3tqk5JT/VqG9AoEzsEYF1vqgVT9Pqf46f9r9C0rEi35c4J1LZv5mPWZ\n",
       "VsldN4ruHTCzRwPZbUY2o/Yno5yzQS+UU72K3Lud8igs5O7q+yvWbj0hHsxsETF25zKUoAkQU35I\n",
       "m5eYNHev6tDuRDws9iBL6E7CNte02TqsOtQl96eQrnn2wfa/gmKNqDm7cL0fH7kI7LEwoKfmHJyu\n",
       "H3cgdDuq/FBKZgJiWITJLTT+vBVX1uwJNPLarpdwKzz40HZIM66iCX1luOlEtamKa1ZJKfCRMWdA\n",
       "Jm5gjXkytgq6xURHyXCPo2M0fH6plNx6fFg+jzgrSlN9/qkoyZj/ehujd3j5CxqCdHB6xfV+Mh/9\n",
       "ZA4rUn1mnIRXKRSjV2HFLIoQRsHbATR8l4X+kOuXcLUIZAnVeWbTEn+47l+h4f3fw0mzm0Ch5bsb\n",
       "3itr1136ht5EVdwdsAAAA65BmrpJ4QpSZTAhv/6nhADb4GHe/uzvIqINoAj4KR/NNPBW0riUJ8h6\n",
       "83J7rWRMniwvhjsXgyQlCAE5KDqrxla+7UHS4zZojpcl9PiDf9R4oHzZIuzr59R03bkzOY0hyIRV\n",
       "fMzZri+W5zqLj8pwr7ZS59P99P9x7z58TEPXoLHx0sP4v6QnQDb5aXjFbp3IxXg04fzPW6iEdU4a\n",
       "0uI2s9qFjq+FgltIaa1dGVGTa0Vl+F0Sw1I/709TOCVYCvUq4xLqHYikK0q0/8pWQapUU56ZD0ju\n",
       "UXupxT2KYDnZy/Ying5/x/i0IGO5OPc0i/gBn9r5NOGBrtr0Pf14HfGBNb7Q2CYC2AJLqt9l2n6N\n",
       "rBXXVCUmoLwXANemDhnGXu821/UU2lZcFkSEtL3ZITIRgFGRjK5TMaNavzzei3Uy3shNP/AgDeR0\n",
       "kA+vILBGa1f01qg46VwmJrkKr3++JSmGouMaCVFxRR1AnQwLZOROIeC+B4D8bYpRTMt+OHdHEX64\n",
       "VRlUCq9Cwa9KyyLir6uboAp8tF84Xr8XM5RKsNTCLataPwWpCIXOasbHRq8ruIoIeXnmlvFLbo87\n",
       "1i1nAxsSOIqrIarHF4fuqAUayEcUgpM+QdkSBzA1jafVoozpL2qrjF+G/BwpNklP8IOafMesKP/b\n",
       "1jcTKZbLZK2Xni+iXvtG/hf3b/dm/WrCRYFRjUr+a284HSEGzy8bGXlsWbCMAG+wjMuvhgKJdmoX\n",
       "1Z28U9/IrDGhfxTmIthJnLIybgDIfDZZPYX1tofZAu1gk5T4nYu+W4IWCREYjt/kDjlWyupaFD4i\n",
       "SPn0GBu1vNq2T8HlGjiXxoNZla2GGLRTHTlzlSTRJoMgNJfZ5psL+RoUfLxHN6i0ptwyQwfVQzhW\n",
       "x/tN1owEJpPkUKuyw40qINAAdegmFLuwRzh/hACzCosEZKYi6Lhq6TIXJUb9DuA9Cy4vW+Gux2/R\n",
       "pZUdACCN+qnCjrz6XQz6b3/X2KElwPsgmPntbD2dojxbewVCZY8WYNeMBRkM+JxGLcQFOfpr4OAX\n",
       "7cd4x16bqKMmSh8IHMdxeylEe7mREmDb4em8zmfG51gTN1ojWG+iDBr3AaXtGfPR18QRVy4vFehT\n",
       "I13r3sC1VpQW9RICs9Lugr6fjmXv091WFkl8yb+JoZjularLQKf8He7QofmUY8/XBDsEO3dTQU0m\n",
       "Nd+rpl+DIiUzFvWMJ2ncFYD71B6tRsEtAxIsVCiHx2g+6rIjoMZWwonMNYJt4IEAAAOBQZrbSeEO\n",
       "iZTAhv/+p4QA1rrZ8MhhGdEAVXlACam8fnkhoHSfk3vXRjE8OkeqxfQAMjdsJg6OQTZJjr9hlVII\n",
       "SygB21sjctn3mQOBGgIiQee2CFbz7o5EY2w7m0QcSh8RpAgs8LL/laAkedbPPH6a6ARDFKTBPfHW\n",
       "opPqOdc7NIAFvGtJPSFkvJAsoLdu5bfVN5KQlQrxUYy9Y9MRgNFzDNVCnoJEbqXq49d4e6qU5wYY\n",
       "NQ2EoVoEI4XSz/CpXBgQ4owHvmgKxRM67tgNTWLbmZcqGdZPOWu/sIsKl90pbpugE28o69IXN6nt\n",
       "MPIF1jPcKC3HMVIsz9t+kDAgC5mhA4EYeOYgAaJD9U6zAlEbF573S/zFsG7p8K2l+GEVkAJKUhOS\n",
       "kKs8PEbl5a53s6FkP0ORoBctd0hCOHJ0Yj6o8eU2qMAp9qSvQGLPcAFABue+LUAAYyzMmfvSRrJC\n",
       "VmvdOy8b6KANvpcvqm7dT3rA0pYSj7lVGblUULQe6tZkUS47fDzEab6C6rD0V5Q85r6CdOOWplmt\n",
       "cgWvRtytIuxoqJDDGWscLkwpwXs7YFLQ4YsRGc/cXK65FNQlnXONIye9+Es5DpkZY1EofGMr48V1\n",
       "q2VE26xroK/cBZbIlU0T9PsPvA2Cs1b3bjyX86756NL6Qs1j7PwWI37fbPrKwlq4g1r93JUy2jlY\n",
       "9dNXMNn+URHePgLidc67+pcg/tUGquMA41aW3VK06Tm+UslF+03cgut212nLLXqcIM8t55OivVbs\n",
       "/2S44dKbqRRNfWDB99830HK/FlptQUmHFmOHIR66n4tZpUCUtxSCx6m4GU4BIRdVWhosv6ZAOdnY\n",
       "o0yRx1oqRvdCeNFrfOXCsa5X2B0pm9R5pRgaoEeiKuUrzP08p91t0Jcq3+GlrfjKgSTTTrmEkhsE\n",
       "qB8V8oAhG+noC0aD9nHnEBrQp9N00VBmvn8GCYVtu0tDpjudNg04oNKrJpUK5AsYtUGdiK71AoqX\n",
       "gcEjQMs8NiLgdOCmcTofZS2eSw7I+9XRtKEKDZ8ZhfFvrGMn7IBzSB3xq1A5XUdZnu72T3psP7u8\n",
       "obAXOWOb5ngeerreG3L+tkD5Au4Ne+uS2LCYoqhy0oLoJeY29YOJff4CDbD8lS6GaShS7hAdPHwp\n",
       "SwfVDs/gEl4HVfm30geqU3qp0+EQmUQL0Net9n/wALId9GigAAAFy0Ga/knhDyZTAhv//qeEANvI\n",
       "LyAQMGRz64MMWThDv4f97rVXzeGv9ZI9dXHEHtj3jBOuho82a4GMcvf7U4DTLE1+xiEM4BC2zQZX\n",
       "7ONjKooj6Cli+GNTTkyfGGpVK7GcFiOywARWLY1x7EfKltAurUBa6qDjAircL3mSiUkuZaOz5aiB\n",
       "AcXsYsDkIlSEb28u4we1EIdVPVEeii+dojN4t+MSu0o68o1CpcAeacj/83cRshveqDsx+qTSzrZe\n",
       "VsHw64cSGcb7iSxWNawehV+pb5ZbOfLasu5ncd10bSQj4AjZb2wfSJ8JWD63LeLJRKK14TRC78SS\n",
       "5L3MwEGC5WCOhpgQxCp6x6mOazrcjH4H35aypAmXQqVDUPht0ArPvvZEEZU5QxQS1YkLZURdfkPx\n",
       "lGltPDRkrAjRH/lzMbsZe/EqMMMX5/f1xEv8gB8JET/HkVWXpHdY/jmFGnjhO5HBuwtfYKFblPaj\n",
       "k5FQ61kAJ7DIkkjketkaUhCFIlQ+KWbmanG36KtHDpiAmPHXYxw5Pnu5ov+ZiuaPabpnE4nAGUtX\n",
       "QYVqnbNHD/qpOutF2CN/AZk8QIsAhS2ee6Ls3j+TLdD0d+GmaQDbT/Rr2BXWR+k3z7J+zHTtWi9+\n",
       "60JUwu+5I8L63gfzA5tGpwB6MCtYmIRz5LyTUFT8HZn28iv71RWhEAgGrJF+lbrv3G9keg6bt3KB\n",
       "ZvoYclr6SPdWdJDj+kfmyzNGqijg3EFW4PsyNR6eQ9QmQxSHpuwIVy9F4DOq2BlIisbN1oV+rEmk\n",
       "hlfl3+AfRgO/jwlgnhmajNfkz9nYaDitrZuQ6HNo4BtyjIP3UaqibWyy2lt2oCxCrUVDMU1PM1YT\n",
       "ANUfsgSQ+54vHGuj0quJQxqlmtZNwUaoPBxNKCXZx2G7Dy7wp+bvtK/dghqOqhHmWErgKAeByi/S\n",
       "OQ8A4CAiMnM1B56+fKWehUcWXJdtVdu+5CHn+zkl47LRSXRu9Z76m5j+BaixAcyFgPXi3u+ELoI5\n",
       "jvx9xDGuDSHs1urvIXpjG3yOfG9O2ojKl2UrrbRel8jhfdtsntfYM9rv7W8D2K+hTbSv0e113c61\n",
       "O+QA4BoKPWbVjb4DW+4CmZB7HZjzEPXhXvkKpS+avV7i/LT7/R6N+TfDH6M1FLeoWikD7oc7k3zc\n",
       "2zON/RVLH7NeQ4dYgNKqtSkV6AXHMz0q7bEyt9AWPIGHYLha3/gL8NaGFwtFoTE0q1+MXi9DTj5+\n",
       "Kw5NVM3/BWi1j78dKlQVHtN7e5vR57z77hXmv8A8zJTP/zxQNEOP96s488+9uJB7r56Tl8qPHcz8\n",
       "0+7Fz9hnfEroKVhqfRVEmV+/V+blOq9OOX3qhJ+Uq/lkVrR+jvqfw+Pu2NBF4+Kl2wyXT2IAU6PT\n",
       "zbZpK9ac4IslM+kxDUn9O562CG+Rkrq0DWWmREfud4I9X6I5XUgd+shSQDfngNiviN92H4E2kV5a\n",
       "feDygv6qFjh164ydaF4qjsmvyWfQIfrZeK/+4/sH6rNcIe6+MDtcyacex5r1kzYicPJr+PnX8exS\n",
       "b3bctmolbyl+Cib2p+O9BxthvxOVVKqNfUe0m+l/oyL9Zkh3Z3Psx9hEXW10IoFRXYeA+oyWBcBF\n",
       "jzsPE4HUk/bN1rqgcODbNbKmisKRYu1lLswgtF4WvJ0y1VGJnYwIofSZMNBpBxbXl4D08msOrhLW\n",
       "ZJbL+bWhW/l+QIfMqfPoBKkJboENPqsoHW9FkHM/TBCTFKjBHguaaBmrn6VSK8JAv/HwEZ2moXq/\n",
       "/VfPel4jqelOS8wn3wZHlNEX8nB6MjTXYaeiF6V0CxudPwyBWn/h+SZ2Y02wuN8b6WmwAwJyA3FM\n",
       "nt+YF8id1Ae5jszRh+Mc9YcRoP2MlktdXd3AAfqmG+RsCIj+VusufD8B3pUXZSRvsjPtNXx1y0IL\n",
       "Iy0FixGFY9ZOvq4hoEMPyaX9OgHnwyxPH8NmZaWHWNptDHmj/rJxiNkAAAKSQZ8cRRE8K/8CHojy\n",
       "HEDWmFtwrIWftAPHdhU7wUqhql3xOs9VU1u/crCuHcKg8gVP6ADa/fxnM5EPfnZA7fjm+hIX6PCb\n",
       "3BCGJBiya5BO/eGFFB8x/LviSmEWbVUFmZ8ulNMINu7jrekcFCw9S8TIF9RZpkQAgmB722HIWxfs\n",
       "WOQWVq/10kwC91qQg6/E6SXPXAn+fT4krgzKkakB6IUMRfW3AwSNbOwnZvlbepx8glGuQv2N+vWi\n",
       "8ni4vZdDff7wq3Yzy/q1N0TC2urik3WESd1O708FITn5AMOKEMsqWCR4jgDgNeam+gd2VxbZtnhP\n",
       "dZRygkui2Nn2qMC0bpxCxC2DN1jgZqAzKAspkbUc8mFWqhJd6bbY1PZiE8WTUGdY7H+g6q8XHebg\n",
       "lXnXGMPX67o4z6ZJHxCkj/Bszvnf32+kqTQ6s0TP62YAJEB1Kqn7XURx5Hx0IV93010w2CHKCmVk\n",
       "/VLTTK91bwnjZ8FxVdUg3yeJUKDBl1ZKnWRO6uy8pUIXyYLrkTsuNduPN7t7gekeKRPMdl4JYYBK\n",
       "8FYLtJedVswPoYraO9CPw06QhwLo7flTmzxM5Ns/aWjhuIS1aZDML6z92e7Zsu38+xjqpDMeUqLX\n",
       "bqg61Atw+0asjpAhGMFsm28y+hY64pIN17BKtJJo8FmL7Bkzsw/yQkPo241XLRAY5XrtMHlZHD5o\n",
       "sLVdgaF5uIKP1YIRwLvsyKCJwXgtdN+eWBy2cSBQ2LxxuL8L0mYEHJgzDEAHkBsDNpaUdGebaB70\n",
       "PSU5NLIr1RLkvC08x75fsjRD0KUG3XBro5qtDOY8ng2yRZUW3zzH/inFb/FerV6+kn+3WEQ14eBq\n",
       "jWp5AZalXro3lVAixukTBgIFpQAAAhoBnz1qQr8AsTROBMPkf7TRpxCJ/r6z/Y/ZQhcZqQB8gn7k\n",
       "Cg4vkM0BSV037i9PG3y2l1JN2B893k9VDpt/50QAzaP+NxiM+9YzqfoccZ2wPbcN+4dOrRIs+ASc\n",
       "qNrfFrKROmGtd92LvZg2shIF6e7cPMExvXyr7tUmOSTCK+1N4uS2lWfMEfYuR9aLGVEWlw5t197/\n",
       "C1IKZhTb9BB51u4pgahCtDMrCyT2OI+fnAJQqtbJeA7Z8qBybbpFVAHEnchQkv1MrXL+01osE8Lk\n",
       "aUe9KsXzOx3UvUFzXefeO6IKB070ehdOTZKVEeD5mLiCm3YbUS4FysyqIY3QaJKgvnYPtSkNrq2m\n",
       "YAqzAgb+sD8V51dAHubcxaxZxoWvd9CvdRcDF8CYzI5keM2D+jcGP0xSbugPKzbf0SH6WJMZU1WE\n",
       "mA3iVCeLkPIXd/XrGVFUBRD8Y7mTJmcAfzeLN3M4Y2HDMbtTxQ/hs1ZAlowaq3pEJv+BAED+J6P5\n",
       "VIzhPyhJI1GMeDnPI5LssWe3a3z/oFePOIDTkv/EeEmifrhKhYAzBYkaBtShRacBXFyGMpZqNbwv\n",
       "yDb+A+34MU73idFUGuV3vaY/69JEynkUR1k0OBlWSUkKmmIcFHsDYGnbBYj/VIaR/fcC+SrYYWg9\n",
       "g9FPOQrG/nqAROq7NmvcJklW90Xpe2IspxA8r6d7hfeo6vpHqo884sy1cJD24JVIAAAGgEGbIEmo\n",
       "QWiZTBTw3/6nhADW2ogmJ5kUfaT5sQTVpSgCi01H7UbekdT4LxxAwybQeyeWCcgbWbYkeOsOD9ZG\n",
       "nEVbsRTdnN9J6LnvNn8KIcPm9yTdg8IFQ6zBeReG8FNU5VHprQm/vo4Ovy/lnmhC5xn68efwH+VY\n",
       "pV9oEiFI1n1Y1ZEGd1g2i3VjMK9gm9pEDWAT/O6qf/hymaxSDGXZLo8nSSUJ46UR0cjesku0JSso\n",
       "x0tfpuJ0Wis+g7ae41bN7gQn+rmAorx0ptJxAxiViD1Lpo50hGjqpsYcusQv0pbl0LWTdQBeVkzM\n",
       "sg+gTAOYHjY1rWqyKsN112r4u+rIpAAZuBETtlhLVZe3EdYb45uqZcjy6Vb5YilZdEMDVKWIu8QA\n",
       "V4ohvs+IaUMeiu1nhfVfcKr2k+wPQxvKNPI9428mJx6xBsyNKHFHZO5zCohNOIAAeFrPvvs51Mqa\n",
       "E+246fgqfWNL7VVPw5g/r0K7Q4tJV4HLLO95m+wr1770UQrSAZk2kX47q7ptyCSCZYBL0DNAYPCb\n",
       "9FRHBe4WHfu5QUvjbAP+o6M7spEMAOyry3vOo0jD5gAShAkcRiMLQKRmA6UdGglqgrY9TJnP9qVD\n",
       "+jRX97AKeCQsldhNtpv72rRj8JWcQop6jzEfdb/x6Qw6HqWzhVt8V0nJsx0gSFrzujN6cHmxZRxO\n",
       "IbQ1CTCnEg3Lp+hoAuBDx9ByiczI+MQ6MpgrCKkEweqA6vDOcNdYYhM53XAJFsjuSBMdu9E5gi1+\n",
       "DC6/fMdGwbsZnqTGwIVDVQCAamBxr4oEeKSl73FhdM6f7BDsdJaqqIa8JYP/J+s7/Fk2KaHceKda\n",
       "nZ3P54F5sqWXTmjsfaQHtWCPLlXvG4+6ute26ApVqPgBCt9hDU8rArJONKgSZg815OtE6Y4Ov86T\n",
       "xHU1Fzfl2JW+Qu/boea6kQtCLOe/VzYZo1GRIcXA1XH1xqyJ9rzf+YBaBNYd5UYNAlh/3zkhWzk2\n",
       "ZAGNC/ecjsyLwCFY4ZcZvwidcFj3Aw8k2WOsJWXe7MXNmGzzv/7U5lf0tFz041VfHKhIOeULZSph\n",
       "7NLpT8thfqh/Azyb7H9USAoxj39okV30eFvtH65zmVBjgsPTM58YT4VtT1mQ9MJDgx2+SWzcOFyE\n",
       "cGL/LpSwLVpZorvpWvLDZwVGcNnQK7qgImgUBHWQ2uPmwZTFFbUJUiexMEmpRGDKf0EkkRpprifE\n",
       "SBsQJ/jijlXdmhHFmwJws/kL4HNd9+D9h/NsrL0QkPssvPoG5eMHcq+j5gYC6tLerNOpHI2sGaGc\n",
       "4y93DEmJMVWzdVVpK2d362bfsovO6KZc6HdaZpq81zW2dXNQ6Kf/mUeQYg+3e36UBL830GpPfARF\n",
       "HxaOpHRr3qm3Jy5mWaSukmNiBxOUPUKANfIPXow1pT0nJToayhhantnpZIaPPwClGcYpPb5FZU7l\n",
       "xe1OErNvg0uAUcjkk0oD4iB51m158VHmqBaAqnO5U+rOtXxRzCyP3bZ9w0glV0DuzXaGEX3oYHiJ\n",
       "8zibYzfY7pC6O/UmmlQut2A9vO7OOTBxjLWKYBc9aej3sKd0Y7npfwCxVTIYEOvl0AGjbctvRFMc\n",
       "GrqQWcyds6OZGcLY06sVHnMpcqDa9mc/AqAhHoRezLk4Z0lIFnDm89ztrEvtrOylsVzNUCx4YbKj\n",
       "nUC/Nwm3gNR8hbMe61/KRv+o4hvrCwGYI1eO26+wMYGL4mwN/eXRe5aexqnrOqytmsXQDMADYymS\n",
       "EebLTPl0mSbnK4pQwKh0xH+D69KVffIAN4FiNwvQjyRbnw+nLiq9wARswsNMuJpzaCLYNAXPFgsj\n",
       "Xs9JehJJjXnyLyuB2WsxVS2Nn1SQSuIMxhthyVaIEYSlmbbdsIT36Mxc8WzgN6y8ogy78yjanL0j\n",
       "zxAIppZARDmOmKXxZaXHW/+JPRzBHxHcHb8A+aVO5WTarHq5vFMqiJze3nr2SBdxQhEdUC6tvPsZ\n",
       "C4xizJ3ZT60mX0eEcTcAfSLcWQ9owYo/8pkWQjRMo02XY/SYj0VoCuqpAsXsXyMZig8ZB77+2r83\n",
       "VUCDtWOGf6xgp1OT+WML5ZDdFaLxPWaLwuHHPsDqRNMk2r1VPDghywqijzFq2NDG4wIS6GuscRcZ\n",
       "gmptgcFy4Zd1yNSxVQ+VT5jC/CSJbMiNYLZBjQ+98ILQ4V3cGOluNTyQtsNDvW+Zg90P2/P70c+4\n",
       "bVpPNd/gAAACNgGfX2pCvwIfYc0bBMqVKLW1CFrmHD2Y7UIELsiACJFMnaklxczOz5rtqwVvl7Aq\n",
       "BhQy5qwTk8ZOI7QyGuoSo3E8aLU2MjlSJ9/gn2fLet2LJASJnsHL5lO7quttxSMEG2yQ9V2QAaiN\n",
       "xFS2dYCd0pkBenHkFAinI+PXORAu1Juf/f7We24yAWa2W68Kthkoq1Wh+F3DesW2OWjLeg9PjjNX\n",
       "SBI1N/xywUUdQArwrK9KlbZnRwY5O6dB5dfATMAtp2ch/54DaUcsHHrKZErcJhYVHtaPE9j715SL\n",
       "OwbA7AgyladZaytiiEHXk461hy2N0y4+hO3PTNyKRrHOA9YoEizVXoZbFeBNTy9VP1Wdxiogb27k\n",
       "4aC8vDdskzieeVIfX/nxhIcMZ9COGlEgqk3PFqbndUneECvmafBfc8ZM7excko31UPKGLi9I1i6R\n",
       "drx7AUCu0R4Juvgu9q1Ts67twiLN+2bkxIJKr0MzHsXEFsSOTHSldb6ohTTpAEODvtGESszvr/eW\n",
       "JuTHRN22h6UezRyNZB64DtgxrwmNE3M326/JfE12KQmHNwNWCLZXrXTshel4Toc8OS1804hTR/RE\n",
       "bkcyeurG0grekRKE9k9pYGsepyzay+rmQy+1GyDzV7H7i7JaYzFitGs/vVHoHN849La3IASekxrF\n",
       "mLYEHP/6xJ+AHcKWN0YfDLQGu+I4VH+h34IwElCmCpM3jw3TeshP4mKop+geYCjmJFbCn/AjZhk1\n",
       "fdTe1nxBAAAHsUGbQ0nhClJlMCG//qeEANufS8cBHU9SSAFqxRQ9rooNyXtdxiBCijMQVMrU5eSP\n",
       "mFsSlt3WeyODjd6Z9PZJ+x0xysoJd8SPv9XYol1VKTThPDnaJjRnSLfdLQllGIAJ61tRkZfkdRBq\n",
       "3HKlMQTUkifWP+wVTD0xsWjRQiCa7zrq9nutiqgdQXKtNt/wvt45ZTZuC95nk+Qx2pZRPGKe9ibR\n",
       "zms1YCrZ/qbzjnHQLl5Mf1d4RimuonzgJ010lgzICaNtaQm24O7kO6OOWGpsY1BUyCu4VYqA66Gd\n",
       "nw/iOgpWwW+jP5x5luZSjaR5yekGvBdxfwFFwQvu1g0ylF7SHlEpDF6KA4bU9OMwTXYwGDPKt719\n",
       "+735Or++97pQ3v+NC/VihQAZD92ps15ExvQ2llAdqhLRwZ4UGfEVSnHmhK/Sm9W/b/ygZOia+Kgi\n",
       "q5W9hM7z38oR+pzOyR5A0iM9F4f0KdHeDwCeF05eTyxxOy1Zz8a4/1wpYGNd2GcciNbqw79+6q34\n",
       "H0B8GEW708tPNOExujB/nKo14/bQv2irEn99X5/i24gFfEmwpDJEAdWa6LK7v9HNJdSHhmTdM+V8\n",
       "yR2kVnCA0YC5gXLTY/ALGFDFpugCoAXYfRjiunlkI00cIN3Kgypk1ucKtTJmsK32oGvbRYcLWaqg\n",
       "vBUKVoKzRbSwSfsYxSNCuv4AOqb3ua63W3nOq69qsZSrvMEptTj7OHd9twLCp9DFqN5nd11h+I/M\n",
       "/FK9PJfP130fKNjUhzQNXiIckRIOxzbu/Z8RgDDDLH+vEhKc6Av3ENz+jCC6JS+NlqVOxPmVYn+m\n",
       "R66IpS5RnFMg8HGJhKv9WD8aPrDQH/RvbU5AlYqhzQDIe5UUlH7ISDklGnGuHm9ONny7S6DUhLzK\n",
       "uTJgGQyksrZKjeTl2+lYoSkiKXxkCG+LN5yRN4td8KNXfShHddkvSVz7yq91mdxJzs7DohcJWUxE\n",
       "u7x80v/7llRb4qXsWqCqISD+B3mRkVjMR0yrWQ31kY0w2Eazq4ZzB+UJfbWFOKrXgY+EHz0ikvuc\n",
       "MBIKoR4TAr9qzqmuf3kQVqyeYEFYf+r+R7XylLl+cBKG583Bfyy6GLqK2/pIuGYot0HU7gMWV9gE\n",
       "DmsMor+9dc+uE6ACYXPZHJlg0bjqeloX6Rxu+ryP86Wk0pInXTdr+mBB279x/0fliOOdKuKbx7V4\n",
       "cB5I+hYMnVBWPMI0zRq55VttuCQ2aO2UTN5yY25aI2U4aZ57I1NWPT5MsqXUwkRC0yKwZD5nfsdj\n",
       "w87RWffSZCFBkYubaQxBJ4zbzxPGACyNDT3FoBz3P3eVTkIAKQd9DYloMKxWIi1tetQd0NJJ97Tc\n",
       "qlEIkEYR9xoUx9LXBgL1KLlvGY0fJ82zJGU4jsLvcALvZmudjCu+CXa7rGCSBspxnJN1Tfk0E7fl\n",
       "jEenGiAMLNUSePV5DOH7og8mVMTFhlvuagnRf6Cv3pBr2GxErpjlZIJgI/w6OONAILHZdp8Cun8A\n",
       "JC1Dp35be8zWZ2DhwMJl6Qpz9w1pYIwkE86psIDiv0ahMAi/n2OaOn8Os9pC+KyRRxOjWMtWlyTn\n",
       "PqDS62AJc/CQ1PNpv8EawlYXFSPJwmrhRJf91KdwgRbuRTkxIUBz3AcChQrXP3nklaMHbqK2Rp6p\n",
       "kd1tSQVNbRaVKYHZmdNi8jabvEmXbIqeGfB+o2UizDz5gd1zivIniS6D6OFbT2NfGMDsbxUl1+f7\n",
       "ZbwddpGAlYlP1Qs/Vzjz7jTyYA3UJWIzFLcTgAKZHrX1pIrSHOpWm3/S855lzdYBdEI/FQRQGCHU\n",
       "FqSkcvqNCTdudNQMBN1uYQ16pqCxFVeSRCcVZ6ZOGGEUdCR7hY0/Yg7KLJga5VIZhoU4g7jHimNO\n",
       "s0fWAD0RypxuadacosLC9SkEi2h3aKflkYrWgdWXgLkqBhkt3nC4V1Sl4lRnO17KnyemlkYFq0Kc\n",
       "iOeIPgGwGjHZbSsPylyrM8Vhlw+sdiBjBKv4p6n78OJ9YXtujDlqhCJp1dwjL7xxuJcyDDM7o7rH\n",
       "tx4Z2BELiF1nilj7ORbdvIfHMioCZIPgEEAQlVGSgxsP4VyoFlWcKw0Im47+iIPsqZ6Mzy5hFzo5\n",
       "QK5bWg9Ynofk8wogvp1EELezllx8aJ4pIZ8Ar/oapJV2EUJ+ITvOIWqHh0Dyc7IHlmj6nRug+dQz\n",
       "qHjUYYFM9XzI0zKo8Z49vlTw1feAsyV+VUKe7bRlv7Vpcu1JOCY1ANoSiTzwVUhQRHUFtq1NbtgL\n",
       "ueB2lmU1zcGAY7bRj4lcw95qyhrsCW+gwwvUl5GefDEf5jrGEjscvLEROlKvDWsfm6cCCs0bEubp\n",
       "Nesjq0PdjXTgwvDW7AwtjIfRHJyL6kS23/kTqUDQrs1q5h9z/xclt1v/isxhPN02sqw58BRQxpc5\n",
       "fvi29p2HmcEU/E0oH75nd4PTYDrEbuFlDMjWR5rjmP+IjdBXDrztMspJe1QbXUZhVfo3sykFkfSY\n",
       "y/5HxmnC5jMcN60ViK/RUOpi8oG6PiMAHO1mlJdD92XZArOax63AZ6IDVFaD5h+KwXLwF8JElAgW\n",
       "P748tge5qaJJjH+vFlMOeo+oSBQ5f8tVnQNC/7Tg5u7SnL1dz3CVw6IAAAJmQZ9hRTRMK/8CHyZN\n",
       "Axa1Y3c34SYRUGWjRTJHUq9qDKGzgZKfZStGu7N73arpy3cyaUsG1ACSrCsq3XV8a3+buY261zvY\n",
       "wNqqVuvr9IdSMX/rD1jQZRhVj2OK8KhKxicOcXM7c9X6MAUW8nlV0mX8fPpwa1BQOfpsUYfvGiR5\n",
       "Y6DPejjXcAcjNDPW3MjhGXX0KzBUPUC6iJPEojKLKKVXjtzF8rWAqzv4aOyJoFRXzWGlJBOcEoUY\n",
       "CGxkO1TITsR5DXzyuILivk/zcm0fkwf6+XonrzxR6Fh5JIZ7v7Qk5iHH9X8Kp9FJBP4HWBQ1DfVA\n",
       "VfnjEtP4RhPKU3YTsmkipMOqdcuZXcObFWpqaFr0cJ6ga6AloezyTKta9Nqkd0ZO+rlUBGY2b3+R\n",
       "vyKXL+v4/NGNfm35dHEksJeVX/99dHGsdmngiQUseDWlH/i2VHOtINQIriQIiYgiBalFqKinGEWP\n",
       "UcIhrDkC4uLZPF8PFLSADn+fqWuqIJgHt04KWVerfr33fL2+SsY/P79oY/m0v2RAkhdICqSt8ch2\n",
       "oiZpsQl4Wr3UOZZH9udPtN5HNP9lxQG53ouAImGWfFYVNyO8W+ZG4ehnU0nA67GB2cKN2o5HQEfv\n",
       "GInXPhGZg5C3utcVbuMd1b08oLxgfOUss5F2pYJrXPcSbpshn5nMPf3Akhvoq+e9TaeIe2eD9fwg\n",
       "JfY/oz3K7QO6K0JoZc5x2DDvXmnDy8Rr/THNZPyicAsAIMEHSEyCz6d5zIOSpiIKFCEDwoddHabR\n",
       "unwEo3qEzUpeUEk/+AR97pJ8OtG0zZT1Bj4SYlvJI+EAAAHdAZ+CakK/AIa8i8Bv5fC9FmtYf9HA\n",
       "pACxCpaNIdlmz7U74pnzc+3x5DiCtt0fWzwhmRME+25UQ9cdDkVMhEmCTpvBN+zW+B5uGyX/fNrD\n",
       "/OLslTlNhZK4FYZ6M3uUTTB4do6QlAtgRdOa4XO9GvpJrMY4CFeuRw3RSfX4gyUQ2F7Ptcvv24wt\n",
       "Qo/X1y/rjbsuqkZXwxYpEEeouauwb4/bvfeg0T6epJk2UaqCUOdz8JYWgBhUYBHTywNxHQwKLkRA\n",
       "UsE0m7ei9ibqJKaevUJUaCWnQL10scyXLKg982dgvEXXp6vZ2gWheaia0sGgMI3m4sakX9io+bFB\n",
       "rScrf45Uu7b3Eti4/k65lsGqA0fba5615TUNQtmZZtOIyef5AYPI5eltVlT+OqfxZ4rLWF6KjQgx\n",
       "DAEf86XhOuj2afchOzgPc/EGN5NL8kGM1XkF+tvNzHqLMRLvAnBFo+EQViW3T4gWtoZyLxjj41kl\n",
       "qAeQ0c+C+lOTzAtfM6h1R3zPZhc+Se6Ma6Sten3QY3CeQXjIXczKeRpt3mEx745X+lcCymAYqKDe\n",
       "UAt57F/TpmVCqr+l3xkIzMfbQUsPIg4EIQ+PHvGxfy8Owbf6ky1ba2+j+ImInC1kSVWTX23XtJgQ\n",
       "AAAFUkGbhUmoQWiZTBTw3/6nhADMv/jzd8wBpiFyPLvbu7A6QjONp2seAJP3gXO9qDLCcwJn1MIQ\n",
       "7IDytKnLvpldx9c0SEQlhCe0U10lladp6KBb4YG9SUfNg1+kB/p8Sk4Z+8FH6uZNukXIAehi5Gpf\n",
       "KiKPxBJAEFa3grhxpsHNXlT7jTbgmbsy/J483Dg+CZRmNh2z2itBK7GzRv2RNv1utnX3eeixucdp\n",
       "ZEke/xZ4k+U5KTwMQC3QM9Vkq66d00YFhhIhm7l54+A1TWyAX3s5PV9sJxz+GjK4IrOOpa9ajiR4\n",
       "VWDvmmAYKyg5IaQOw2shLTJ6u4/bFrV0bTjrdsEIccdwUaS2vdzq0hcL11TZqZU9WNRGkgXjnvQB\n",
       "DhvskXyqLlADDoCrdUTQHzNDkKzsyI6zZbUOOjSEJV3KcPgTCV/iQfiNwwJ9Q3+1EX71HqjFml/p\n",
       "iCix/G8O0N5PcKrHQseS7Q0u1XdIcJzUBjx3GGUXyw/dP3oNBgStTmZaUBmS2Uk63Xmm3rh8CzTX\n",
       "gPn1cK/tY1icnV9mzwKQ1TwoMFthBO8mbjgg2UQDpas3759NoxdMLgX8EFL2YSH7dKA5PHJp1x/K\n",
       "+svgxVF3+wUI1bOPGUBQTUQIU6BszFHe4YDnjjYHw3f2L78HiszuPRveySWQgHiIB0KltEJByKyC\n",
       "7T8hDigSRbuxamaMYkuh6jdNkKSYKpQMfdg+iqSe5YKpGqMmtWYVpC6T2wWpbpw4H8fTCQRHPiuU\n",
       "pTCNIbZdz1ovdZGWNawy7Cqak9X4NTDzoK1YaTxY9DEwILly8N537Rn6XmVT227bWR+O1AcgD2qx\n",
       "EVwJUKK+MYvUyG6bmgpt6cdnktpjrJWob8ejj2N9+FJap9G0TmEF74AhJrx2zk8Tz471pavxLw6y\n",
       "WoplX2QmcaQmWGR2JbBqjwQCbI5HRffwMAgwj49e+B891AQGBDWGZhjuiMY8IIDu8Hlj/+SWmGic\n",
       "KLKbG0XTZecxra9l+GTk+8WONig0rqZYrdXa7kvW9Vl8W0LdNybh2cz0IZLCwidUFkvAgAuqRJLj\n",
       "5IgRMy2P9EfLvKJ3COpqVl7ECkWYvTGpTO3j6EB0ocRKD6OIgF0VEVKV+vb95E+JuvqoWksL4Tom\n",
       "SjlIaHdyDwBJBGj9ElzUhnpQleqkBXH4/CZVEVGZtNLQbxjyTa6OJWATP+oAAxheX8YU7ukvbqhP\n",
       "8PuVqt3SX606Dg/w1tDBSFY48j9j2VUG7Lp2Spr+2ZPDKcZTwdJwfUps+0o84k0xPsV7cqG1S5hL\n",
       "qbf2nhMUiXXeMpV1oamwoobQOfDg52exC1q4f2P0NzFq1YfEZzf44U3mUe8evtjq4aZonchPCDtL\n",
       "0LW/203RwWY5IdAqO/e/W5poR3E8TezfziwujUOlVoBiSFaR8ShRbWXgMrXp7dHw4gyFikhoa2ay\n",
       "Zy0Ue3TYVJ1oGN2HCRxbJnwn66mnDHd83McG3Zajl0BfqxluWBRr1Ndsv35D9FtvZ8rOygSDNQ13\n",
       "cyF8F9CoPSJbdC/JLh6jmMaz6WGakoDbCw4u/6GZbSQLopsb1AIN5qihbDN115aIvIcU0wBw2dGh\n",
       "Vrd6mxbct5ienyZl7kRw6p0+6H0j24JGRW2ZjFDUCuXXRQ5b0mgfKP6XdHO2/MdXUK1I34uDob3g\n",
       "F4ygk1DhQ92jwO4GpIMY2iJVvLeIuL0kTQGW1cKgI+vX+tRK2670Cr7FrZjFeElErFA1ziyAMLJR\n",
       "PJvpI/KvNIxwZXgogH+jRMeu/g93TTc2CXTnRLG86tpMJrZJlmChRVUw6KArDClxnqg8AZboVQAA\n",
       "AaUBn6RqQr8CH2HNGwTTS4Hb5Fnb1Dfvko/N5RBBHBqW1bHZds9vKfKdPOyZTeUwuSV5KRH1l0sR\n",
       "AQAluS8L4QbJV+rDvMu3r0XA4KX1Glxl1pnApsJH7AdtPj47EOL7eG04liibmxlccT3mcs9eT+6K\n",
       "thYtjjvgcosClY/CN9GGQH0ZxOVeGBaBvaVzn2laMHwkntXLF8/g6AT7URAzHiynDl/sDFwRDiZq\n",
       "XgWRD5ODSYdXQ6QX+XNiMJOYha2YJ81+IEkGKc/qpxzpJVL/Pe2Tfq2LX3CPd2C77HD9qAFitmqy\n",
       "EEzjeDdpQme1gONXSLAWqvdQVp/nDMdctNYORbtAR8oRNMwa9LFIFwEk8e/YS/BhOpHf2fXqkgLH\n",
       "L8OLtI3C4y/kIxT1HPkXflrAi+djp6s07zX9ltqoDwD7iyDH6bVynlfiZgl7gYVHBZD7gWYF4a9l\n",
       "xgj35azbZqfG6RfyJHu8/XtAS107eLA++6mYbpKC6eKSJGSzOkpRIHBQPqu/DODFkrvreg3VuYxV\n",
       "t9Ps3jSaP8laYLhOjcZKTi2aIGrFrIvpAAAEc0GbpknhClJlMCHf/qmWAFtoz2QAwgCEyVXksC9K\n",
       "BO4vIYn9KUNXQ+HRNhML1kFCUqAMRvAwzuI+KeVkcJR0jXDZPoDzneWQ+r8y0Zat3ZvVzKtyA+Qj\n",
       "aacRwWJ/9q7C5k7gT3KbwkBen2qChtjwZZ8QG3bVhlrfEvqDXRsklZLiJNSDD/EOigWntn1kq1r5\n",
       "sFl9g3jShLEFi1rS48mCqCr2csxsKQ8/FSLJZY4tFHUst0g4fi2X3y113yRQB2kgfdJnwqLPopGA\n",
       "A+phczpNYdI+cxTvNSZC08UUTx3Acgn9wggSvJ7+lY/1hrboDV78dN1wN7fHPejdyQ4pa6hLy3Zp\n",
       "u196s9git/9zrQv9OY4NSBI2O9bHZkGMjn9BRRU5e4yTT4fTvcPgJdd5Dlm4t1v42tIvj5PvkvcT\n",
       "IGbfLfV3QUAWPADzYgbJWAm/ft56rm6vo7UDQLM3kZRyHSrA7dSFQgRC2R18cl4C1TcHAimGtZ8N\n",
       "rXJzz/w0oAkOEny1uoTFdMCW9YRJRUSCuqBAi76WS9ulgtehWg6y4fL/QfV/Hl4BCI5UmLlD02zk\n",
       "QamUpFSWbcbyLDCdf3J5W0hemd5qjvyce51VH7cy3QO+u81paE/fZsWkYGnq8ahtL7lHl9YRw0UA\n",
       "JpfxXaItKUKt5ivejLKF6uEcSKWICAOfZp8CtKxiYJSEyekQmbooi4ADmn1cDDThfyeMdiSPg0S5\n",
       "7FpvPE2FgchYHoTJZOZ9fkfYfepJo38fKSQiupAEBOcVxaauNdG1JZtgTlKzoCYxCZm2jkBq/Qni\n",
       "/0PrkUWGcbKw6bFgx/f922ReNH/da3+zidlHmwU07+mlJgFqP4h16J4VWb1/+ALAPTUL62nlEd9M\n",
       "ohfc3rNQ0j9sFSvS4pt8+sHABWp3u5W2bgBux3Pb1wsj+M43sYtRjBasvBCl0mmXwcWB2Y1K2AQM\n",
       "W7tDiY1wMKa+sdkxGXm9ivftHVCRABuvbSr+GdesCCz6qcQSIvqbUByeTb2HZ3sqob0AEjV47ezW\n",
       "3v7mAOb6hy18gi90N2VkeuthJkK2o1hJV5Rrn0LbTcz4VcmPIV/VSbabEx9qu64cXpmVDnw+sn/6\n",
       "vF/WTaqIGXVdrzQzSo3hYXHkS1nt2kvX8KV6AbHwtfYI3c0wvxOc5AJ4yabApFDw8/wX2x7C9lVh\n",
       "iwL+VKgQjgddP2ISP+mnhURtqS2+Kpy0bCqmjwVBi/vNZKOfAD2daRa3zSxULssSAZSSXICuxyOu\n",
       "Drv2pXDE+AyoJR1tqjnOHnSPQwF/j22kCtiU2u1Vd5c3YS3/4h/cb4Lj4SQ/xj51n8XhXbZSUPaK\n",
       "0DAcIy8QSVH8z3Agm8x8bUzuRaaTYFr3BGUvCtrtvF9m/3QBan3WNDDrJ/rKbkSUqUMO3pcom87c\n",
       "RouuaxFp952b42WnnRLXLlSSOB6REYRji1HzWqrifhLoGhS+2n+/IvHf5RZUew8Bq1QuYerUzEVj\n",
       "hruQ8n7L6yQtyDA7hfM2q0tiwa3He0rjdhqxAAAGlkGbyUnhDomUwId//qmWAG8k19ACmozETmZH\n",
       "y9avB3WufAjJhOYA0fYncJTCZAcU8k1NWZtd4dnQqFUTeshKnMZl0YcLkx7a6hrNFO7X5Z+pms/T\n",
       "AA6Vu0TBuk1qCQsu8tvozQCGUVMa0IqpsbxSNJEF7rOu4IKvAn3U2SSN+ntBNGHAyUVZX2CAC/bj\n",
       "oZbfm/3Xmyb7gkFDoJnya9lXMyicIEoT2jt5yG+YLGnce9ZNqYA1xsyjSM5h9aIeLaIh7807ipIs\n",
       "xXPu3Gagy0sLrrORbBJx4A1UF/aZJrHWrnWlSptVSsr8Z/itFPXgL/vRgT0apqAEFqLfRumOy+83\n",
       "8uHVhCyGWobyYy1jp0pf2KdsZFzNyytcYJgfPu3w/nuV5T47j1v9siUX76XUUp0sL1pLashD5pxZ\n",
       "BaWs7ev+lAaMOX3FYPw4ejkyC3S0V8AZK9KViqR40/79fOs+hHmfnVCnTfzHCJmKRmveGrmp/Vex\n",
       "wZE8zpjhdVjBhAJaj4vLPTNuydvxwtRZe53sMuudreK3kdTfh3CPmkEtc8i+OGVQS2XmktuySyld\n",
       "HnfXFLGFfWK/kLwrsaMHEGZbhbjM75iY7AABU+CQuHKztg1wXqljOZ18/S6EKLZdUjkiwU6z3TiQ\n",
       "99Yb4rMVixUflN9PdjIUuE0oIiPPgVQftQl9c7oxM1nPO5YxaagzKfGwnv9gISC5cXHL4A53I5rA\n",
       "RRxim3+QDLzhYnV37z0iT5hSNSVlKK0qKnX9TPjbMZq6/i/H4CvgqDZsL9zgwTIxwDFonLEVbqMD\n",
       "IGOsslTr0yrd5sUfLL7FSjQaJqfRWjNIvq6DQH3L8gnYWh+cvmrEfZRtIEfkL00irmjMngVDSAzA\n",
       "O951GfJOiH0F/Q2G7bTUXfumnjycDL5542bh7aIRUF260M/xuE+y40Q+A0IKtLblrDC1297TN+OK\n",
       "eSwTsX3rq2+gJpJeffby9RhoFEMXcATQ5Fp7QjQuFme9/gsy6p9SLNSEF/h4K++WabjIB42nKp4D\n",
       "Vbulu+0Rz4+YK2ObbfLasl0oLItH6Nzx3sjBMQyTeMHbxNY5Z+niRRqNzygFc9JCFMbc9GxOwNy4\n",
       "hgrRMuUHpCmdYnr5lW3SDzldq0MVYfp97wX4fSA/VWfD1elRyTIjtaGx897KHa189I923s0Q6Mke\n",
       "T4w5xKKM2MoLnU/RTg1lOA/79awb055I8TE+OAUNzrYwAz4KuDS5sfWHDWEeAWrHpf5IZSBXBDF0\n",
       "s5dvJQNooQid9P3lT5FiJ/L5FwgyoHSTZqKDM3f27CNW2ZjNGCtYmM8filulESqv0VwdtJR9amnm\n",
       "PdPWwopjwnx3DWMmfb1cyX2FaloFMLdGOcPhO1HC29vS54J4uUx8CPUin/AMd3kMf9e4eoWG2YkE\n",
       "/TY+wHqJfM4ea+PK9yTy+tqMnhcEP8IXcFRzEpCRVLU2rh2RqDwpkDT+9y4PRFvEZnwG+aqeAVju\n",
       "28rXUKe1He9RtbiYqhAh4N+jIdCmDwv6AP1BBq2YOheNOVCX/gpUIAN1eyVfhKSdIj9xRvSpYgir\n",
       "Z1NyybbZE4Nw/tGVuPwh7plfnZeJ+Hx2hDYZk9ybxowov76vWzM1F+N0METQL3kMHSMnU2rj1k3W\n",
       "7lAC4HOk83ltADxUNcR3ur5gy5/XxM+X99rc7t1d/PVpuVnnr9Cku+CyLvnjPg1cMmHQRwDCWWSk\n",
       "QMDNBsJfyw4baG26d++9EPVIwGYR7oNc4cWC3SNLP8mE2jF4mWINqYx6RIK28v6TktyLtUA6w8Lp\n",
       "o6RJLqBdfgBkMkuSIT0eeGL+bfNNKL/6ln7BEd0B0YCa4jkkG+oWrmj3Nq/tY3HTlxltDVY0/myJ\n",
       "JVLO6FNRYi+O2QFbF9/02IU8VvsL0X/CmNsXOww7pRc68kXtlGsjVWWmH947j+ZkkfYzPOKIKdx0\n",
       "lX1M9nqTncEVESvOp/546gC9HjpQZvRrKN6b904rE1KjrMYWMP2SfqrdJ29vtPg302t38GZHCaQ9\n",
       "01K06zJvvpLi3ucRsrkwGAiII85JkcImvwFbp7t8FUgKGA+y96rCpCnCGlg8PghMki33I9+NQWfr\n",
       "s6kyKoyrsZqgtmLX/uQqPZ+Ezh48sYMkJSWV/k+yrn4XuPWNBvRGe7TqbT8kQYmmdDrb+kwm4lpP\n",
       "Uy4l4fzyhYp+lzVwE6o+SoMyZbRhrgZ+IV4jJAXN0ZqRls0RD6HCvQoT94i+un+N0u16pvMrnVlk\n",
       "Jq6U7hA5YQAAAhZBn+dFETwr/wIfJk0DFrWUGvmfKstnNG1ALxw/MAAVScMONOCNNtTVAF5eK7gb\n",
       "fMDujRSKvM/AFAzCv6v6VpKDCRIGLUHXoNODn3eLbEg5SkU1nOkjPXCTJA6gAT1ds/sYRJKbNtkF\n",
       "TGCJuBhGXI9wvV5/sh2Gb0PUlq1OLyQXKiiXfTlvsz1jZwlQB3giEf7tzDPJo0DcwIz/gWyalu78\n",
       "ugJArOYkvrj5/kJe7UIa1hUieg0qB5Tjin9TowSdpNU9jsPS4Nf8yK4Nc8R1E7EtSi63H8gt9n7j\n",
       "ZmGybsVk/f3KwPyAfoHUCAKqhk7/ZhADZ1hqq1zKcozY2DlhYV4WqDqCk5kAT+0gfoMUoK3+AlgN\n",
       "P+cvmc5Ktmj6F23bxTbVCdaIi9NwERm/fInxlm4FdjtvxP40/zKWLDHomRAVXNGNn3JItVu03loQ\n",
       "rXRNEaOceJQ9/lel8ehFEIr/lU50Lpth3ScmE9ta1vOwEGBef/WBbU2OCu28DCeIfbTKTwzeHyRA\n",
       "9Xym4ZcNs4iSDw7hR0w0xp8l9A8t6dRdJz8AT86RxnmCa0Wut52R/1bdnKSnI9GNB1N+tg93Qax9\n",
       "nGs0ySuoaarVpBIoOTD3QreQ34Pa5rxEOMm/LQoqWv8f8lWJF8/TO56y4xBgO4thd+XFrgTlepEI\n",
       "xj7TdENCffCBcIkM6Ks5N+I/Kki3aOtBXCnIPBtUIZ0AAAE4AZ4IakK/AH8ZVRBGmru9QqwGUt9e\n",
       "0dmAjyicON8dhJjF24xZIj9WopOqA7yiUNDTm7B09wWyZEg3YtgOXQuVX+92ML4RXWNcf9jSAEv3\n",
       "5BOjx8mg7vBowXvsG1VeP/YXg2rkN2booC0QoIzMd94B30lOEaL+NEZDh05suq24TJzrgZYw43TD\n",
       "eTjunCCYgbJ1EG3h2yGBKL/vdVQyERTWNCUUm5Ahs2Wl7os+hocfGmCHvDdeKVeFZOKQu+wepFVM\n",
       "ofhtIVkC07RpXtqbZfW0RvDqz+F3RAD2NBH6+PMDir3MqKyQr4iwk5r1uC87LBygsc8dOfQX50uG\n",
       "qkZEyaWODK86WQHiP47cVKPmJ5B7btUwYlFo0n8DpLxC91rs2kN5WgnFV4YH6ocDqpD+rEJeF/tP\n",
       "OKimoEM2AAACgUGaDUmoQWiZTAhv//6nhADW2ogmJ5jUH/glY9zFADNuawf/JZ4nyTipotmuKCmG\n",
       "GQ8F1TV7iwm0txdQpRg0+sESipldvCgT9bIYtwFwQuf2pPNg+I1olkWKI51qhEmpsO6nDhLNVtFV\n",
       "7dsmehPfgArdcQAc/5tm0faYFzA0wCBAB6parnsfn3nqXpvq/7qbbqYvHWXJs3k6ZJPM4RUZXj7T\n",
       "wFI5IszHXVSxG7wGL0HZpcNVIrg2Bj5VY7mvnRnPyHu9pNeCpAO58Td8BZk1RO4RdSd0OX3emnuZ\n",
       "jjazrRj0ZOIIhIFCDzuX3Fxp6sRW33OBau3I6npIfc9lL2jaC+A7PbelK+8ebz57z9ErDqDegiw9\n",
       "QVjw6ZUB5KHYDRX2FYAbW72+u1g/K0bAwzGgsZBX+uaZbK77LwR0uhN2gjQSn90NB1H1X3lH8iSD\n",
       "4MZvhhCfJ2RRPhXBQXWqU7vpZjemKzJyAm4wsEkhXcYFzIXg011UFn2fA7zo0a1hdHQhowcB1IMj\n",
       "hbeJmwxbiqe/au43Jj6T0rF8P4a5Ks1oZ1kVNFseyFv37x2UAJsW3SB/1Ehl71JaPgPBGCACL5ho\n",
       "CGLr/dm+oFpMjEneiEr6cGWPEb4TUVhzInr/EQ5THj8uFmdRtAOvKHiQyeWWpqXWMsvsgIJ4mRQq\n",
       "s2iPGjX6psNN7KPUMJbO8ykLso+N+YOZ5SZ6wYHhxflX4zvRH7H00IZWs/a+TZj2AAQzfYWMwSu4\n",
       "q9qwk5Zt20WDfv7w+e/LZCpIp6e36z0PMHrlY7uZv+sk45C9MGoAf20XZuAuSmloPmDGeCy+tML3\n",
       "yfpY0ASi6LelW+Sin4eE+g1197ZNbr2FAAABhkGeK0URLC//AZXnTrJ0WplDuQnCA3qp6yt7Q1os\n",
       "BGr8cDnbiU5OuUyiAG3W/ZpUr4MWsLnSW8DXkQRBI7eQ8tOlrjVTKp9DYqtN1AeJKdwBW75LGSos\n",
       "468tkrdeJSjgcvRumKT0UXOfw8ryDobdeje23taDtC35MNDDxbrDnpcqgv4zPjBl6iQJ8bmicKhx\n",
       "lSELQwO8SqZHsnUpFOqdK5BU6zUbNXaK/80Za2YTXsrhAvS1Qqo7Hy28bhtAKDFgpNLRQFpZX7Rz\n",
       "WoohQ2MHNQjznC8UiXlfb0O4KLWa971FC+yqIGfanlPhpI9txGSCBYVXSAkfD/fNl8mF+MhNXMcM\n",
       "uvE7jMOONTaY5ITAlIYe7H4svv9ITwXAL+527yduafm8baI8aNQclBTa/j79i6KnvFSUFx2nvdGw\n",
       "QskPDrHaLvXTOZpwC+XodSC66GNHyNO4ZvNUi+GlS7pZlaBFXfC7sIm7fbbec8M0S8whIORiclkA\n",
       "64xj3LbWLSGchRiXD+xYl+ATMAAAANEBnkp0Qr8AlqWTkfZQKad53icIbG3PY54wjuICSFwlWlGW\n",
       "h29oWEM0ARBU28N0srrESOAFgbm8Ri5NrK54hf7BLgbLMVdc/KUXQrNviHv+v+79SZ2Rf0CLV39J\n",
       "GW7r+tikdNEEDWqZSGIFIJ6/AJ3c2uVYanPoYRNDFcxxsSXQ3siDAgywuv3apc9z2KYQh7b+snGs\n",
       "Xph1Uf4jJhNXzJUkzm9aJvSwDStRf4PXEhCg+7+YF9lwxm6MoUHsfUkgUys2NqExg8tlfckG3DEQ\n",
       "9lo2oAAAARYBnkxqQr8Ao9g0ZdePDLiorvCNpK9AHmn49XfaOstsGmF3pY/mpfba8TtKv3jETKPW\n",
       "BWPiPN7Jqzkjo3OwODJzo621YeIwhYI6BG7aCf7HqZiUJFSEKTNHdJP4ytVBV81gtmP4vQI4Qtms\n",
       "B2jt+XaUwppK5fSho9Uvl5QRzUDBYIezIhBfXPjCleOe/47suzaarkdvwKNyXDxAWUEUCbZoCyv3\n",
       "+8AkBhYaxVjbJW8v8rpLJCbEkUiIvqo0QmvQ5NyWeVVYJ2QeS3WJ1YNml2CVgPD57eh2ztV+CLjZ\n",
       "oFiPJRlKvVJcOdJGF3oqjqlfx7/VkIuMxqcJ9L+Lu358eThHVheisCaYcmuiYhUtt9MpV9Bq1FAG\n",
       "FQAABMZBmk9JqEFsmUwUTDf//qeEANua6UEJeSFxBTE+UmWcmb/q9wBVk5Igmw7ihoFxQeiFKphc\n",
       "KIm5uLrrZIcnwqCbx9KajusRZGo1VKSAojB5o0fOfN3m/n3NwTSlrOaaJ+PadFEgs2St8tY5VxoR\n",
       "OTq5oivDKzi+JFhALIdXoKhFVtckvfBH6dXgI3+gSBnYgfj26Ptti3WjhimbLpIUKVqE0HwbHkRm\n",
       "0drFnozp0NCjZCH9SFKn6VgukgwLn9Zdn7FSLDuNc6XQXRMzGiTWUn+tDsoR3x83twkhneBLK0C0\n",
       "77ZefRaoToI1DFJ0UEXQS+DOm9qsll/NHTLikzyp/8g+PVceX+BCns7bi5WNVfRJQvIEY7rv27CC\n",
       "UqruiKD+Rz+dem22aATJ5NIvWvB87olA210hn645kD2la+SzXqydIDdTSljeqnNYz44cME4vxR6L\n",
       "0MuweympCmR6tHJQ+1JX2CcAU6BymRo8sLkTgElXWE/Bh9y3vX3CpDxyRQRrWAzpYMe5wbKPGkUh\n",
       "KpO4XfAwKZx+f53uq4et1eRguW6pWKE7Diykkj+70H4U+iVQNjCVML5Caa5TKZnGTYJEEH2nJko2\n",
       "Kb1tcZS4q1VJOtNBHo/X29oTTyinKsm4cd9zUDDc+hOJNPabKSYZZcMtfG5FDmGrEHZvUrghm852\n",
       "wrZgxFZBq+a29ozwLcc6LsEEohrpWJmeT9Chkn5vFgdwfedSv0B3SO/tEVzd4sEbxuUCf71n2log\n",
       "5S7rTTgMAaXTlbldzoMvIeuRaCiIBlaWsePsiRuCSaH+eeZxGXNroT/G8YakkJxKxQOpGYKy4DK3\n",
       "u/dNLXY7L0A201+9s1kTF25E2gLaI0mIxqv8exX4Qjq6oCphtG7xepaYccuEb60yiBO7onz4Juut\n",
       "ZFbKWpDqKpQXmBe96wKzqV6VHZvwgXNlHWsJStxR3Wf3/nQiWcEKEdhsNNuayFflidAM/yHPwM/w\n",
       "rMRQ+Kd243yj64WgCmMrfrG6VVi2HHL23rpDN8vG/Ov0+qOsil5OsNw1RBhj/FcwZnyfONpsK27B\n",
       "6ePKyzxr7eJeAUQcq7tCSn3kUnKhVYuIL1Pg79Ahca9auP+srVaucXdJOX0swV0IB8/VutNjEXlT\n",
       "9zs05BUy+tJA/ES/CjFRwM5SwrIfr47rycKa4TheqURuniVPQKuOnrVQGgLXViAHXjlcJHkXPnX6\n",
       "dc/YbQAWvNKf3/1qEnuTQmiLv+zJ+1RZVw6V/VyOlSGj86fx9f0cZxTAl/fIGD0/z3c/9wyEnhKJ\n",
       "1iLMs9e//n95OkcKBceMTHytMuLCxOgdskWNE76FyuzSYAPvKqskgieZ+YBO3Xe/1vqYMoK8TsBb\n",
       "VNqtZfbUZCO+tmIllWBnVhJrSv9r6QgRUlfNZpmsufUuM3sb8LBJ9pNjfC7XteTV9nubnCWZDHWs\n",
       "hCFIOOiEipHFVXS+sNFCLr5WgZ+t4k9YmhZGxVIRcqDHexqmqO3QQyAFKNQWEmQhF0WOlTnDupCZ\n",
       "wXK8CpniE48/G1igob1eisnYlbsxRtgzC0ihtGuMehry3DH1V2n9TyCFS4EAon4B3JLnM6OLyopk\n",
       "+JxSFhEDkHhcNz/nRNDWOlmJdJpphAhwE08J6mXBAAABnAGebmpCvwIfYc0bBDzvOWFzAGixYrXs\n",
       "ZtFz1LTNupf+SV5KKMe1QTH4qi5s+F8b6A+c8b0MEzn8f6+2RrI6+OilXLIA3bXN/dYvdRppuDO6\n",
       "H1NhiHpA5lbOFStr7vkEA+JCtOryrv5i8uYqph2cag111Cqogbwf5P8mQaTAizv742gCPO7NFW4R\n",
       "w3hljCFb7S6gOpMAuJHFWsO6E3IKBka2eUmJR2yMJMGkKJWJBOdhMhdlU3OE0atsL0V5Yyct+UOV\n",
       "H/FEAvudK5pcNiQ0jKY+MmvX3cOqFydAeN21LAkaEck6tySMe5MpHn2xsflBjTsc7Y1Tgd94Y4PM\n",
       "pmcfEXWXf67NHBwSm7DG+9VnuKm9z9J8WwGyc0uw+PXPhbQXixz7akAGG1QHV3q++fyaCt5N5NDr\n",
       "nxPd0KGCq1gD5gILMqIhWp7e2xSNONl3l5HlDjwcQQiJklF1DKweg2wQ8xLsLR0+diXHEP1XVFhv\n",
       "S0PGnnm3VcLLAaDN6rOXBktPZGk0nSNvJNVYKxINTYzi69pABqM4KpavcROmwW8AAAZKQZpzSeEK\n",
       "UmUwIZ/+nhADSrd1DkFq4jT6gCLCPMH5vB/zomkCmHxHqC73donMUeVBc2yOkdFlB5Dv8Ea++ocx\n",
       "9QxpTV6Q8O3ButXPg9IqiYAeBYFSA+NRqnYtJNLJlQC0Et4rZa19X2DT8Klox1+WaaPsLQmW9ysT\n",
       "o5oZ1RR7hXbShuJSrtbspAVyCCFi0BZyQ/5yv6AOcttkoZ2f8h2KL2Qp+mrAbs+9OnUCHOKBl/7e\n",
       "QQ5zv3vOMWVTFM4xEQ5yAVuJS0G55AZb4IgDZ5ze1z2J4NXkuX3xBVf/MAlGRElExFXHltPVz6O0\n",
       "OWDtoWS1z3din5fAhVVG5wa4qDzG2obh6sPyxEcAJs7UHA3jtXP7doTz5y9nkIuo5gqbF5J9O2m3\n",
       "6nc9EDRxPfC/MpGHLHsYodhWq298hQB7kMGPoQIMvH69R+yvxFuv4hHtaatT82+/+rDK64jEHf+J\n",
       "vUC6EoWBJBAV8K8FtXe6jVzqu8zrSRRWCa3oLf0vbXm6f9qySeAIdLMtp1Blb1OGs3Fd8Tindrq2\n",
       "F/JQgaSgJ138baMEUBpk2IuLpRDzgrOSLtmdjApEltFNzZSHg2+JtIJLzPpMEa/ggdZHuOsFhg+m\n",
       "s5MDn3+bucb3AtD7ou91uZpBHS+jZHGrxTsMqoP6Wa7AOG3Z5rsUzZZNOYCVcVWbk7SAWLQUYVRq\n",
       "nNyUbBCmG4iRIfvufXW0135iDt6Pi9jze5MrZ940UiqJy1Ny5n3v/2aVEaKPBm2Sd1VaP0RpWk2u\n",
       "zkhmHqIuK0ipAyOeAXEzkXOhPt7MN2lF+G5sPwU3i9kB/uYv8+sZlG5qhKRIf7UtHkCQHIwWbVGo\n",
       "X70SkfY4FWMk6p5KOT4l6tZUUklEemWSobA/vgeizei76+u3LwonKnliwUvzrYD+v7b8frgvyF0U\n",
       "+cz8XgjltIYY4zhdUU7MLytsLz/ANQhX9KjEPKjAEAdS7g4vl34ZGenvkqhZaqsnlLBtDUL8NDDS\n",
       "6ikLtzsL0zoTweptZ5A/hGlVXqZmyFP9q11E0BTYkhW4VBLzWTGtajCjiyAUeN9kO7qHPXSz63W2\n",
       "c78za7fe1fEs531/PFx2h71PzvCP6mz9+M6gSI4j8nzLnwaBSGIGlEIGsyVp9Yet/NcUrvjAEtBR\n",
       "JVKR2qXHkCdRpjviHzJ9eYHD1DOWXywvOVYt6Ms0/G3t/980bYescvn/Ob7B803Xny81DQ1wsnil\n",
       "rAtiLoV5v9EVEkNVb4dR0IdGyMw2/1+tEZS83XGePql8ow7aYkX5KgQjpBTRWhK8FdInTFwuEbnA\n",
       "ESAk2k4zpawnWSCWYAoBWUDTUEHNlbKfeOnB/UwjKqJGTGB58/IwZSKPv6Ma7Sys6YhayjaeBXSM\n",
       "/S36V5sfSiPD29kXrSlsRdVyX6hrxZ/2PvPzhex07oIYdDFezfmOZOsyZARAm2aMgLwuNJyAerex\n",
       "S7o81yS4hEuSB/rekd2asOw3dW5DbUYltKfeW28gM4eXmycqLL38N+0KfXBrRcfuTFwwDl1dG0Rt\n",
       "EZd5ghF0KOMDrdFDmiC4yFk0Uq7rwhbwx13ikOE3vxhQ//n4aTuAqxQvgElJL2B9aVYqyXMDD8Lz\n",
       "L0dUkUkEG5/ULyvnZw30X+9fMliOzeyvmDy6k8+hpEwS7lwAdUgjObhyJaTrRMfH11lYJu5+G6Oe\n",
       "TnPtfqJT+pUO3DXwzG4oGowefR9f/MdToy0UEZz3kB0tHf9fCMs+nKbnl+uWT/Zgml7gDKlR79Wt\n",
       "i+GDQQnCd0V+oOl1nAAzEnlVWMPu8AxYnEqZ6+OKidZa1LQprPhpgy+2NWbC/4H/E0kuSKpGYqcC\n",
       "6adIwxF2+zFb7ac6DzgUi/Nv9vclz56MRMeIxLmRkXpxXICQ/1Yf0hQccR+vleEE2k0aidXSnKRg\n",
       "uvkPJPl9Y1ZaNCPgTbl2bKNCTshk85YWDAVW8qMGApT78gEbp75/7pzclonVeKvPpGu/GLrVe6n6\n",
       "tDcmbuksTHTejahlKUsPpETcD+h4OnZ/F+PQ0Z6nytPqJ8ubky8OjZII/buKu8A52nrB8US1XWU9\n",
       "fVaVnfK59H21CnOVICFhQRrxpqkNoP/CneK3BBpngqEdibxzi5T4oNnDj5LGV20WyziT+tjM3W05\n",
       "hVaSh5y8yf4AAALYQZ6RRTRML/8BlcXj6r7Vsj/yV6pOBK5W4ACEuRrh3E+GGaCXHsugZsDi/V//\n",
       "ezDBAKYCGYFOFJLpSY6cQKmVNlEyXghQoXFlhaZrrh5kSZqBNp5/fnnsshdekM6bhBOTECbMEb0q\n",
       "ta9w/rXHj1arnHR/cwEYZRGCLAxkPW1XR/aXOEzDlphdQeCIgubyllT4HQZxPN7+yLBedPEpt+aT\n",
       "l089YCo/UzN+pXavD/zTysc60P3U1SNoZjb6AnvFXWJ1/Lxolc02IWm3HJyAywfV/+vYXtJj5zrM\n",
       "FHlNOo+A5vZvdnE9Nw57L4nM9zbR0aeo8gNQMqCSGH3eGagwzehUUL/PqG98xGvhC8NpqOzxHwx/\n",
       "74wXl/eUTCI81T/eDh7X2fXT1p0WrxHpLdu748uCSo4i7C/Ovtac3cUXV8Z4tsZo+KdEx99g6vwZ\n",
       "V3V1E3J16clDoY1ZK6IEhwx13ENhWXwq0dtHsnqx7SLYFtd50zd7nE6pEDXBOWvxrA+QaakFeV9l\n",
       "jDM++priKmm2ObGRqydFYfJI/rt6Kvto1Ic5vacrGjNFLjaXwjyQBZX9A/3gVfUGgLv4Ycx3nNur\n",
       "X4TA4IdxBXxXQk80mDmE6nQvUCckY+nxhoBu+m4BYgMXkCy6kKXNA347KqDSVTvL7mo9No6/3Ea6\n",
       "R58OLJB67g8IfjwjH+uGEljbggKK/8CSVvj4cY6mw+jYJN4tMqNSF1h95Y9OaqiotvFvg35+1+Kw\n",
       "Ox63GV0lqnyK09GoSGhVdl8LjaE2S3jvISkuBL8lLiTeS7Gn8KJEAuLfzGAuUZcVMJDdpFm50eyI\n",
       "gHAPA/Re/PE0pyAZ7CybawjBNZ4PzIHpgxlMrCRM6izwhw6gAqJ/Zz36stRY/r1Yn7sAZrJOCezs\n",
       "e+7/UBkvAWxfCsUASO4hwuxNZaZnPw5ZXP0QpVocpcjDRtt+kzXdi4We7YZChtrhnukfkoMHgoAA\n",
       "AAFXAZ6wdEK/AIa6bMJewZR+nANm0OPhdyusR+TaaPtnoT6Ze9ru+1fuNUOP5XjemBsOSYmsBhRt\n",
       "uJ0k0643DlPKLjYbspQkAHfNGE0brPTUYliMeau1by/PvtAmUdjV7zMIWCDg7RDd9lZQez1WRv77\n",
       "bKi/yNXFtpCvqKGTkDnQaY9J71+JZi7SgWjAzOUwOshbYeDqxjiaB4rt7X/7vMw6bA7+srSj+R+4\n",
       "dF6/bGccMKFgT4y/KIJ2rJR6AhcK6zX9Is4m2lNJbsD3w4g5CsSyGtZfUk7FMgTrLQiGShd5DEB1\n",
       "DV9JwohmJIvjsgHtx8lWqV31ujYhbkz79GsZ8hUi0Xu6FNpA8bmRoZ7M1YrXJvkXUixN4xA42zy+\n",
       "7cVnC9DZsj9q05RGgKZh5Y0virUl1iWrJdfk708IhUl4pTmAWhznnHhHtuUcVfmSVPI3KHD/MYwc\n",
       "1mY50QAAAdIBnrJqQr8AsVhO9R/0VtEnGZA9SGTRgrWZV6vAA9DSARJT8RErpOGIgVOr7zuF35mE\n",
       "jnZXfGGLMN2xwl5SQHFdCj+fFR57+c79K3HM8tHJIjuhgV4M8rHg+riuTCG+7/EsAV9PCbNA9MmB\n",
       "E5rdd1JKxP5LQbJyTNKbZzWJNyDSKiRoNz5ZdetIcc4gQJdaHcEa+mfYaelnaaEqc71fujNR7RTV\n",
       "QngfeRA+mpo6+PuEfvC/nk2kuzXlXI1KawJVffahApatU9VcYgwb5AXIsrVEB7ltHGrPsgRzZxyc\n",
       "OD07+Qbfgp3Kqz4Zb46h+HeCOEws0Lc6dX2UB+ZPOWWvLWw6+hmabo6lnHaPdPcqNaz7bopmSfjD\n",
       "122K/+Q+TVZ2uQ8K8TAUcQhFKTmX4WUascJghjwNV8AFlgaaajgL19lkIx9jU4VcPryYwSq6sH/E\n",
       "4qjtQtfpWKALUEd+VcgxuKt+hAGA3UgkLFL9+qY9sML9w8SoJvlzq+J6r20qfzPrayllBjisel7G\n",
       "hrh3en6FDzqTHo53ktO2Aj5Su1XcJ42a3uwJFd/CP4lClSo53HRyJSQLnRo1EN+aO9dTl4ERvVj9\n",
       "NgKduQCT7II1034jJjlY0aCKAAADiUGatEmoQWiZTAhn//6eEAMONQNkAFb7pn1yg/gbZWezpcT8\n",
       "jYaLPpHl6yCdHxkQYXEC4FVRFRgF1yWvc26qKrIbdjmBYXmMWSdabzYyBBKLRdnmtFXW3hNd83o1\n",
       "Z3HvadhqetPZ8vUIe5+i9q4f0fHLsiG16fhwUnoMXECds1Wk0UbbzwVNVzSnR0JNGXiuGWPLlxRf\n",
       "8+YO7HVtb861zgiMZ/ocyEWisiNIswgSi/pakWmr+/yE0JKDIcAeq/SiI0Azk4/Fu3/udfS3Xv96\n",
       "b/a6b2WKxy92PyxVnuNzbKTd8+1N+1pF+7LFgAJsF1MpdPQkTyXeJJWNq3DZZBb6Ev4SgFUcgn7X\n",
       "AI3Ez7IsFT6cpAkA4nbVMs2YHzKfym6sIwTwDvWcSTQ7d9RGuB2Dju2NtriCYrMTEsOgzfY/Meb1\n",
       "gwkvxIWl7vkzCjTK4vVOamt5sXiLrJ7MZtJRyOqb/+6m1kFtlhTrFMQIFjd0MLpi+LxjzSA674SL\n",
       "Wi7s/1opTvTck6S12q9CIybEOPOGv+J2I9au8jzbYREERiS1/GpGmIk1QQNwVaeNYF2KDFXdTfit\n",
       "bnW0KtZi1wPZ7gplDOBRI1kGXQKai9b99zPUru+dZ8SfyUtbnoukgliyN1d0HeLTchgGbc8jVKTI\n",
       "6LtN4xREAL/pwcqxb5wp/jzyXSCYz+0AaTuStuF5zx9AtMAKiJ/+yHW0Y1l9UAbD3NkYCre0W++B\n",
       "ffX7hHGbZuDk60jhebJ4J5mTz58xuGA0vWcx4E33dshunVgpoAv3oQH28KAr0MfExMODuHAJZsvS\n",
       "G4TZkfNTXG48CZx/RUAOXT05rU58cWCZSW0D5ZvYiIDJr7dRvp9iJuTjw2tjkmYGa2Y9CmeJhepf\n",
       "EnhfDHk6O81suGukm0kF06I1G3mSg7GImEkjAdXXvkMUq2+Xa+t6OoPXas0CW1vx6FfNViqI15Rn\n",
       "dtcVnjQCwDrrC+XSFL0WrimwL1SPkLzBYTL5lxzEg3NqKH/KDKDS5W87DRNa5yiQAnPVyCAweYQ3\n",
       "E29ND4+B61pWbQv8zWn3bjQjJW84ZJke6T8xtdZNqnIG1535cfN4TYAe33Dh3K5IGdYO3kxoLX29\n",
       "vBo0FHpLhy3UNoAVFawOlIDF1JQkk88U5RaMx6Dj4Fevaz84VShzNx8fmPDmt42l2n7y1OpDsxVr\n",
       "9gqpsPgV4FIKQujdEmR8AAAEFUGa1UnhClJlMCG//qeEANeNrXZlroOt2kV4uAKh+tNzQQYDnTXg\n",
       "nNESUSe6gEtFM0IxuTI7CCbDyC8XzUsxuwQccnIFEun40wWfKF+8CgEQ9hnNSYlQpuszfwMJlTvx\n",
       "B9liYCWW+xddignDJJpUuwW3MLcVjQCbpYGgjjepxH9sMbKdxO2sweoNkVy4JJTuMki0WZoCwqFz\n",
       "54UpcYdY9r6WAzUdVZdVGaoIzJeSsCf5pWsne3yVJ+FFa7mHxRAV94PZZ2JHHp6NlgohLA8gBwx6\n",
       "zUf0ULrGjy3YsnbHYk7NSWHhpdpSdpftsfSPc0uUE1BERdNSeT+qKcEdftBb5yZ3ZXzbOFRekioi\n",
       "2GDNMQXfIke90/9+skba8jKYr8WpyQtJsDM3iVyYu8Qu2vmAwWdvnx/RyHWKoXvjqK4oiBd1B6yP\n",
       "nO604dez797Qti1lMxcnQKkIZKYkLsuWPVbCtlGn+z2OsROUft6h5gMZuXj4Tjis4qitJAsYczab\n",
       "D5geqKpr5r5V+FfMuLnutvAp6z1E0hIE063cPq/DEGwyb+9FBCm00T83TIS5hOW6GBkMpJ8I65ic\n",
       "m1I6N7oBNHFWLt97M2wDxHCeocRg+5GlgxJDyBbC14aMyyA4FM8MFjo24g1UmHtK0fU97O8vWZTS\n",
       "4Ou3Xx4H2byaeTsu19jMpYPmEPZydpyRdKFCUwr9wRybX9M/75y5SSWENz7f8vFIovwY0JtPBIar\n",
       "TL4QVAHzqbIMZyF3jXk93GwfUpZL61m6iajtHIv9c9lJxIzAIWNWsuUvN3jl/mar9oAl8amztGia\n",
       "Vxrpq5nMMRyla8ZbUr5324V/+aOFuHIMOhBxho0S8NvhARigFox/fpWd/T6j+9MT9pWUuEXDt10i\n",
       "AIfU+7Qx88wSB6KbhzyLWyFh74ePEtGeL+V2yniZd1/LjHHzIjxj6+NAA4K7cumieNB4DDPsL8+V\n",
       "o3u/nD+XajZrSxTbYPKUYxS/rDo2mFIgPnpp/6CTq/O///9S4Nnydt48spidReq2QPxrDJxR0ll9\n",
       "eAgOd3xV/TrCFe/8yVWBOuOl/QoUs5dQAn4gTd/qhwFNZ9NfNNdmhTuBs3shk0IbVzhngVsQjN5w\n",
       "GVTtQYRCfLGl4bzl3Bt6sJXuTGb8ED7yJlvleHZSD/I0SVR6RWJ1ww0tGNzMiuogi/AAHfj8AK9q\n",
       "59UcWWkDYtduS4OGP+hdaNKGyFmJEpi/jpM7/suhC1sJepfbcnfctl4uyW45F1D1W0rDoM1AUsqP\n",
       "JCKUUqiuAXO+lWxpJzxvaQIyPQ1WZo8TwGS4FfGncH6PWegFFrYHkTsBL/R091zKhWFOrBvnZByy\n",
       "fargRyHLOu44IsmYaO0D3pySZ3r0VymEML8w70RRQubs3YpN5oEAAAVKQZr3SeEOiZTBTRMM//6e\n",
       "EANHF0+SqXwkSMAAV4aq4H+K/VVHTvxtOpcg1ATyOHm9zzIUH3b4HwCaXpRqQTAkT/33JwdoHR5F\n",
       "fp/J8XgKZZlfmlhPBYWG64z+5eKrU1x89Csi1/WLRvLYl14ycO0+5laMQQjNObapVi+DssRxN0Hx\n",
       "MxBVNlkoa0dnlu8QGaYkuJs/MJ/fTK2HCXRYmLcoTofrwZeM8/9AF3Fe8LfF7i4m1mNloEdi/mjA\n",
       "5iD6MNvz+yYTDiwfybt4eCQNm5Z8iAhAfqc+3nqjvWQYOb5eP8M+C6AFPChRx0t5tQYtf/k8Im8G\n",
       "MD8mWzhQcd00zZi5BkJX3/ExfhZupWDoXRKW2aSiZbjGOADiNHilkYebDNISY/yLz5lziTxgRm9u\n",
       "e0hzoIc3ZD4abGORg6PnQFVU9qafOEL+FKn9uxiBtTAxgIPeMrioCW3XrEZoB8yXKdku5l8XXp9k\n",
       "3vD+d+8lddMhZJ3R72TsVmknnIl+r+55kcLAtSR6rB9Z1KTkydgexJUoEzjycAmcijKeUeyxHaso\n",
       "/tHC56i9An8CdsBCZwUQawMlezVQmt25z0jTgKYNcWZ9l3hWtDV2FIBqxlA1FIjsOXuYZRa/Mbo7\n",
       "/JVoCuX8SGvvFlkZgQ1See4vel6Bikim9T2/OlRkmNcnN5EqTAU5Wg3hf2VrDA0G09H6qQPbSte5\n",
       "sA0D5uFoHf6mUodjD+Gs/GuQ4NrWdzrmI9sn0ZE2kYRL5BdapLagh6lcxw4wfkOYMt1AiJPgdqoO\n",
       "GefLdfCRpYdGdGr7TUrLiuKntfnRP/U114sSx3I7YC95DGapmmBcYOLwAJyIclaHKp9okgWdvTfT\n",
       "8gwWNSmj4/KjNUCFVucgBQM0pHnusSvhiZpP3WFJK9d+BHsjJ0hmX6KrJREJESEUlEogrihc7bms\n",
       "+84H1eg7P5Xfk+zzkRYEptTIoro93IJv3iTb62QUjwBTW4vuKItgO/e6CXCY5K6y3N5cDNk6mHkt\n",
       "2AMmREowYhhFHKWzwCtqW76H3DuSXpn1rF1ymYsXFAGSSTHxkxrwEp8aEv6xODLwCIZLJb4j0+4G\n",
       "Jj3RSF5BoduUByeEu4T/lyPFk1VyLEdr61nEor8nt9nZMZP5o3glixasd6FZMx4gBUOs+9njpm7i\n",
       "8g3vqvGi59NKLvne3JGIwVKlQaO9HooXZQxziSE1jcSL2Fb7S4T8YV9tuxeDhSTg5ZulBtzR4PIk\n",
       "05qlwmyc96xLovhz2LVJqts3GVnM1TMZGShStkfIFzi2iceZu+VUxc9dQWd6QGDwCYBUJrRcGjev\n",
       "NjMJcAS9BKN2+QSgjOtG/v+p854Y7rbyRJ5QPUEz+sf0Ui71e7uJ9z46EuLXVrs/NotWqsqVA/4i\n",
       "MNFRx0D9PushdrcOzmI5n08n9eR1SJ2cjwMheX9ghud2uJqLP0VXCVtUx7RJ6TCZNxXdtIh1zM5e\n",
       "+Y96tIvy5eusKESKWEHmTmn9c431zh0yDi60CwFbWTzKfFdvhMn/xGEOaYzlRJ75PvT6XZzVhWWZ\n",
       "uJaD4/ouyEHAEZQzNaa0AfzR9xcrrJiRTOzycpD4D4HOw6iFeSsXdJLGP6NwzdIXxDnVd2E0NVZr\n",
       "jYQF0dUC0scnlAU3eykj054pyZFYSBl/vEXm0lTGjAKaj2nBpWLtkS3EUlwCDfvci3Q4XwDC2Fao\n",
       "YW2TvfUtzqDYmpNOmFZJGsLKkuk5OIKorHz3dQUGDhIYMaCyVpPmQ72/T8rEhw/Ih4CHDFSHHLML\n",
       "aFUSRfmxaoN+HborVI0/OtoxYqyhkKO/i/NfcAAAAj4BnxZqQr8CHojyHEEGsLJJ5n6PQArwaeIt\n",
       "vCASKj7DtvzN5OjldB8XYF7TIPYF0gNMddB5ydhiIXy+pDtdjqAb7D/SlD+Bg5Y7v3cfHoQsGKX3\n",
       "MiLiIdg9sfXdMy5+FzLRPx7KQxD7kmj5zAqV5IEep8erMe0/2scTV1a7+sRQQO2rwhERg46uJDtl\n",
       "NLr8lRMSbuXu0CpCDcBonMLSqO/PBemyluNGJlN2qdrWk8jKg51R1pkIV2qNj9wQxEImmULzlsat\n",
       "UzrWkabUMIFLUhDMuQlI9c03Er77e/gdFI2cQyYO5eLDDvbbLc69xctP82LekUgh1UGkky//NOnQ\n",
       "hJd5EbJJKzcklRWkFcXmiOUQ8dMkrn/JykLGbX5o5tcrIAUbAQAQzFHAa37hJqvjGCwQLX1jRnNo\n",
       "uNinv+sLInRbR7dvVX2+DRzAZxkriKc5TR1hItuWxPUy1TXKyocpClh/mrd5RQgdkxREKO4FEf+I\n",
       "FUVsyz5jTMljbFW9j4CRX5S/pbvrTjE01PBDhdUEjN4ZLC5BtGpHAhU4k/GgklBdYhyYemzra6ei\n",
       "DhEhY+NoQhqThOUMMPJaZf6zospud3a7zd9nHwYwlT2PGOInmYeqmoNwEmztzGW+FwFX/Zhto33h\n",
       "0VP2Z9+kF89v+9FbjsHqVSb0FKutGPX6fonCGOj/mj6qvc7iFvoxkSx0cwRjoXyij5V/5tioCRp5\n",
       "kMQTURXo7XFyZUqDnu7T3+4+ZYdEQqcuVbnu+bi1FYBt3EOJAAAEmkGbGEnhDyZTAhv//qeEAMLa\n",
       "iCYtaqqAARWTGjlATFB6l6dPMiuayPE+/UtDa0ouks34WJR6eNLRJ+w7Qqd3/pn3CBrKL2sY8Q++\n",
       "zunwy0oklrMd29YaZr7boxm6R4fbBg7MsSbBqXAeVX8/ePhPRQwt+UH9GvOm1NcIjYtUEADkbnBD\n",
       "TbS1LdIp7VE2ywqcBLjIqqWiyr1/OVU24dYQGe1Iug28MFd9OYDPdhJWdhibtLB1atJJPZUAFjrn\n",
       "Ii7Ckol3lLIGreuJWG0EpZ227qks1mz8PSw6OCYyQoOr8jCkTlXXmkUtYiTO0LGXolu/I8xQtTvY\n",
       "2slxNcPgUw6gEhPS4QZmLPlY5qgu/tWYkf8/n9WbrQQRJrg4pHkqZCSEBf1QgE3cSlZzLGqm4UXA\n",
       "i/4u4iys22MOeVE1pr8bOO6tKmtcGLp33Xr4GKkgZx68JGRsb7j9+4tn1f3GqX7QqQDmi30Qobx+\n",
       "rt8ldxKkWiLR1rKoF/3Xap1q9TP0NVZ5z4y1Epcqs0UM+UtLOME1rxdJOib533fIpGU36f73sNf4\n",
       "kpIjH7Sfw/X/dQchicUNc5F3ai0k9w9ZXqV5u2siv+yDRz1vF4giZcn9t2XiIkJGNOwDPnGdDsyP\n",
       "XPvHNDDQh4dZYe2sgxOuAqnPKILRTpaf/nsaGHcjOyK4RSgbLuDJq95gw4VavTdJ8+YVaKjyVRlM\n",
       "KJ3TB9p5ot7TbhnY0PnQUnitOemIrkDXZJX1Xn5idk3XdT9ECkYo/YOm66HqxB4I41HqjT1H9Klx\n",
       "X2DTINRfzNJBIcvYDZ5ex0otsYqS8+ABKwcS/uYpuaqmCp37icAihYxmNgVCFsk9bn5rgMKeM9er\n",
       "Lnpfnc++PgkKdj5sdndZQbxLCIFOLSJYB8rzFGM+KLUzivS90onnVFQRE3S5pPKtg3/djLFAOpZZ\n",
       "6bnzzu5p0FzJXVWJ0tibUDPr/H0Xbuj9bORV77z08anR1d3+gmJp7+UQ1uWH0tnZY/SIpfRzqw9t\n",
       "CySdTKz23F5O6Af5EnMIoJ+Wsz7CJo3SMgTSFeCx+TCJoypot1PQ37RLsWx5QQRp2kHzDlrnv4g0\n",
       "AVicJEXb1epFDxkYceZ/slEp8NDB0Ke6YiDilMn4DXQ/Sg9uxywovtQakTxNmvK1GtF5OMLlwfnc\n",
       "zf+XTQVfzfYDNAFeE2hCH1WGAlznPRu7G4vwQRFaQkMRuQJoZ/bTLdfwg6ZTcEQHpkpddtvP2CDC\n",
       "Y5zeIR2XFUUCuNF6slpk8o2QEGbfZiDrxr5c6SggHvqN5tsP4HGCPNunAO/1foEAPRGPSir1Po8c\n",
       "gNxjPewNGt87jQoZMihpuE8XIQfNg4/8MOgV0XiCJ0HO8xZPkbPn1YzBv5kHKHwZsKtYUSRVZvQz\n",
       "9Xdc8KAHW1SW1Dj06OWNvCixid6swurZR6VP6SCyWGaHVS35LO5RZLsI1depipPl2seg0tWD7iuS\n",
       "KQKQ8oXG5pelI8cb9H1a+dSaSky981pzfNYKEUSrZl0B2OjtIqLgGQM7DXLli357KdcFl50L0HYd\n",
       "t9UlJn+XpX/P2QgH11hHlIcZ6ZFBAAAGH0GbOknhDyZTBRE8N//+p4QA1uBaHv2VrO3ODQA4zlgF\n",
       "pSSHkE6Ek7sl3ZiqdPrnSE2kL3b129aayCCktKrWqXiz0DJU3vdq89/p7JbxmQH/+ORIv030uJ4n\n",
       "w2UVh4nALT3MW/ENsITc1xUs0qURVHI5kc6MmqAFwzVnHH0xSjCsZPjX6/YiEqZRWz3upoKCAg4e\n",
       "O23MoWvV9uTK9riiWzcr7qR28mtbvkoVvX6V8AZTAo56oqdow9cVV3aZVRxT12sJOzy9WSDrQvFb\n",
       "soYvbOWVyv0HWcAC1xpHJZtl2034KEzFkNrUX532E+CiqCPQbnejemSuIe9fSL0GGst0d6/ehDql\n",
       "szqbGRS6ARq12LhdXCxzOJL3fefUlRb0H7DgNW3nBRDQn7Vj+l9Q8JN/eQd/ffIMsB4cXdDtboJ8\n",
       "CG9wNroEWOIkaMyP8A0CjQFEbUnTNW6ch36xe36hOTDUuTetyRT+IYjd+P0RkSfP7db/kfKWf8Wb\n",
       "GwVSPmXJyJemfnM/RG1vIf0ROawFv734UnyTlxdyzJe+GwJ7gYp2GhAHfSDPqMC+W0JayNZHgFNj\n",
       "MqHpjmmQdAsMp6EBtKjeNJP6DOA0XVDiJ/CKnwNDLerciQLv9jeGL6Vfke/Pg/lOCr+R6UGSAbCU\n",
       "gXlVwYesKmJ55PjeCh14aIKyEpsXvIzu9y74S+ZpxM+WexViZhuw4bJecjPZNEefU24VpmXxFUKH\n",
       "CcSBKDpbLK8ixmpPyZ6P8/eHuLhAF7X5rIR4VZNPGADTdTrw8mQUATL97hiG7503u49LJx6f8qUG\n",
       "HRI4u2IWGLTnZwrKFwgxe/DOMio+FPdbK7GbbGOcH0jd1vr9sv8SCXSIrDJL60nDccM7eWqG9Gp9\n",
       "QsAdr5Qvv5kGep262C3EP9DD3hjkm+9rvv84SnC2MbOgMxKBUEodx5itoDjAvi/l0nlICqSuyw/0\n",
       "ScFfqMopNikokxIpRiLN9OngBTzn8vjMObP1cK1d8/uqg8Q1ZkgyB5jMx8JwfyBGJ6b09wSyZD4U\n",
       "tFgdqE4xq+RWPq+r3rs8qV88cr86n9cnjZYv/8u/ivQgkPvPxDdmpb0tzyTPVVBaP5DS/RIPNLV1\n",
       "ONllf110ss7kIF7+hROHtkWHoAjRjjmDJPEEx4sTskp831qo+H8dANKRaYuQSOvBFi/xxUxemz+O\n",
       "G8O7CLIxKzJuFsWdXAbFbA9i/+CMKL0aEZLJIKFCccVzmwPvkuhdwZyvJZpGxgtcFIieR+G9dRop\n",
       "UQ9lhWKTtXkC7binJDAaTe8cFNB7ccRcwJcqKbPlUwH5QMbwiwbZnEVCpL1sZkxm8NSHjDmrnNd+\n",
       "LwaiJ6AvthdFWwTs3mBwxyl6+hb0lHJKAlSKFJ0kui1oitNepe0Co1NOmuKPKFkbcBmUwskSwIp4\n",
       "N9/avREFQvVZ1K24MeRfMP/ZcWm45b96O0/pQJw94s+vN8inQzcZRsx05niyReOFhSmT/p7CufMf\n",
       "GxJYjnH+6U+WJgxk338GI9b3Bt6xBe87f0HCwJjleby0YWhUMh5FfPp/xfXs3vK7Y8YihfwKBVi8\n",
       "UjXYkYcVH61yjVWjE/EeD5APrO2oH9WNvFTyvCdG1+uVicRVcbeoaPorY9Z79/49hiAKbvtz6x2E\n",
       "HkjqwtXOvw6IWBqXywreO1+Pk9ekkwlgDgUQlaZLGpLpo1is0IeOQP3gj+qRDIeW4mMrLMgKPiQ+\n",
       "Z2nNH7vwNeyxR/EQu17kTEhKUnBGHlA28XnRXC3EENLHNP8kNy6JXEw9uIl+nL7fXFwqtW5FNY6z\n",
       "G4qoZUM1TN8TLHcUrEwfQvnLphNnBIPiXYTDNuvPSvvsPCNc+KFefsi+eQZF//yJlEe13chBYwfw\n",
       "opDWIQsh5MsEcKCVQZb8q9FianSZnriR2sq8J6LxlbKa3+hwfgSHiED820YNZrBN3HXXeHtmnDUN\n",
       "WBeurW7xkukx5ouM126MNBvRYWu005SPAnea0VwISgJ/v7Hq3jM1TMMkUvs/CSgE+H81zyz04NJB\n",
       "cI5EFfFE4ey11R9DKXS2jMMy2jrN2WahNyPe6MxpRgjPYN9H+KB4OlRZd7jF8/mEDQ7s+UAAAAH1\n",
       "AZ9ZakK/Ah6I8hxBadPo0T6hJR63V6BkDJ+ZRr16gThIKkfrapHvcBFZ/F52iHhgTmo7TZrgBLMw\n",
       "X7wJYjYSwsIs8ChmCIUQoyL43CCF+lN1lfiNA+8lXyUW0YPYAlBuxZNr9VEyTZae3JvB2m1hbUub\n",
       "zBzsU0VrCIJ5dXUS4T58IBc2BIn36FpXb7uvvBVcIrh6ja+Vb8OEXLjV+ugnQAIcg9xwREVzm48f\n",
       "KbpyvX+AacP43oTbGmMGPyXLostrUD0tso42wy24lwpfjoSiv+r7Bq6XzeYzu/PksLFE+Dc3SG4v\n",
       "SOkgfWIO5pkcrNhRngHjWoN7kpfgX7VNrmgG5w3EG241Yrf7nGSO6/e4CoV4iIDUoJTJHUkkVxi3\n",
       "21HZCJ7SyVBcljS3QRmp0VBgemf0nrlnSdmpFvAudAeKvLJZ0r9U1DbF5OAFvK6+ea9+Ump5G1yA\n",
       "r0dIeE1i2mywYRr+4oy8GHnwNhFTAJWoOPZTP/IOaqjdrAJhWLWEscSWfjRafen80mtX5tlOuU/3\n",
       "qR9qUMOqV9nGjFKaPfHqRv3Ahx4WYY+xbddcA6a+B1NE6rNlBpHFZqUJ/ZDxzxf24xkXSd4cwSP5\n",
       "uDxx0yDMyQqqyr/HBcXHDzLhFVEpXYDtwpx+Oe1PoK8KpWTQUWVzp33pJORBAAAEEkGbW0nhDyZT\n",
       "Ahv//qeEANaewFx1+NaYmPdoJY9rDCAAU+P17y7oumJ/rl6OcinT+RkGLfO+mANRpz0YBLxgdL0V\n",
       "z5GC2zGmxTSI7ckTA+pZDA1e0BBr3Z/75Gw9i70Wlz/x3kP2HG/q3aG1jDGymx3z3NCLec+jPbHx\n",
       "AjpfLSSCYiNscV/ORvrAai2/8xKGQ6oG4J5HHwwoS0xRNpxYeW6uDPLMOBKn0PAU0cCMLHQwVC3g\n",
       "pCyz6SGFI3cPGfomJC97TNsdQX6zNdYTe+lh3bFNQzgvqTuKj6eem640SP8oOitMumHHiZInchvJ\n",
       "/xT3/IL1F4mfrEKy8BkYY0nml96uTwFSCbcNiVwbiCdT8+HuZU5/bJhJIgSqUs+LFF9VUj06yWeT\n",
       "WzsxDGEG92GRoDvFT5IFeTvzJ8g/BsLW1uSYwoUqXJNypSESbPzCI2uiSDlGnVTKlNx2pE2fZQ1Q\n",
       "+qEg4z2MadRahoHYyZq3q6SVeV/3ju55k/LkNtHvSo48E0vo2LP9h/id4BKpAT9ikyTBrs5Ya7wX\n",
       "LnWzsPEUg6VDZZ3zhVbKjR7qzGyu+67YJmJloLA8Ct2VA01IU32TgVeBcrwe5+af3xdqZXkc5Mh2\n",
       "LeqeuUgEIotP3695Yx7F/TeFcStqGnAagpMRKN8EP+WYIB+mAIVGVdO5o+3QKf462+aIRCo3ytWL\n",
       "YQJk4ne//9PYwzXfmOPcyTjIMQzLQMSpHqIfP9WsDTXByvZ0elsPzjwql19V06T4eouR5xc7ecpx\n",
       "ZLn3o8JwzyOL9xALv99ag9+AW/wy7RPWbAsuvo9Q1fTWE1hKTmks+oc+Eymw6W0PSiY4YoIZ+dCk\n",
       "ZnrkKuMYTf5074gB/XHzQSDR52v8JlBG+PscIWtWJ1Xnh406YJ0Q6Qz5pfVDqJm2ptHFKFbRwTc7\n",
       "TXKQV4IF3mKGEk3PUjW+Xi/5MclKEcHvktzFUN9fCSoYPuJhoOQVGf7kP8yLacS0hBhyfyPVv4Hv\n",
       "IJc8Z7fWIXsnlRgNslSIkgNJMv4Go11AKn+N4q8y9IP7AP+JvOq/K2Tz7bqKz0v0GNnn5V+lsGBp\n",
       "LCJ3oH9TB15IXgrw95j2b1RaalWRTCwuR6eCqcc5+wqUzo88tIYl0I7oYaLvTpnrAC10VJtWgnKR\n",
       "tERpdm+uYNQkpnAoPrA2I87xVFLPfIXTUmNtayRv/qKK5pGwOwzdZRwT+p4+mVyE8ggpQPpaQcnn\n",
       "i3SAs40ipoWLpEMP9MOh7ILYpOJhY2LmZ+i+1UHMMOin2FJyOTUgNKEuo+0DL39DtEchcwF1U5pm\n",
       "jGfwZ0XGVF0UjSSqDfKgZG0BM2rW5mDFFB99dJPTAiK60kJDE8y5tksYt3F7btSjUPqmbIfkP0Aj\n",
       "3q6sKMoYm3AAAAYLQZt+SeEPJlMCG//+p4QA1rpgO2zKyzuJl0ALaABZqWHBxEW7UOuX8R5d/mwC\n",
       "s0wp/iRW3rcozHwpnNOKN22XXA2J2L2wZLvie9e7HJzYaZQQ5mXmXraCbWriO9mpH/C8wxBemF2x\n",
       "A56tFoud6HCqcoUgxtHx6+LbEdW4crerN0KzXxus6EefckFbF4hFJbgt1V6eXfoa3IY8L7NFqXuO\n",
       "TBABhsVs2s6RkIfWUIr4noFu39+5MSVFFFg984idx4rH56WJrZ42AKOVs98uPFrhyuuaTr02CIaJ\n",
       "zc6QKgttPPW3bCQgSQLbStMdeKMeLyk703l72F2eF0acBv1/tjjRq5+NjiewVcIDhT2R1rv3g5Nz\n",
       "IO2vwpmjQNsfM+5mz4XHyQS5RXKqa48/EZ2PeLb/nBM/KtcwcVFWdUtXrffDTeEl6IcDiZboRlrs\n",
       "RONJiUU6SCXFaT+AGl+0qHWGmSgnXTpTC8pghL1yxWsSxw1NwLop3j+KaNN7wUXKG+Gm7lq9Zld5\n",
       "R2hpkVuYR14qh3Nrq/jdLpP867mYeW3HpQHurNT9/ISNSeg4sHqEcv0OM6dMW52K2WTsqirdEeA5\n",
       "AbU7T0bo2++TT6R+PrtcO2iXAbxihxk6Cj/lNQ0L23dxWO26jA5GU8G0mhfWSTLU3NR7drgxe6q/\n",
       "vwQUX7c4SgPt28Hrbn8WDjbDLuEObadVgI5xxjT2IevlA40ZQruJmL7Y8UBATADjm74oteHrso+O\n",
       "k9uQ/+UsHpcVf1nT849wQ5ZLoTwvQh+Pq2fN2pWSBGYb5FhTioT5eehkgrUKDYRbXsAdHJmlWAR0\n",
       "iGqiaSl3OLHDoztQPU2E+5pm22CI7GmPbmvfclIm31I/JJq6awfKnwDm0W8aiIq/IcGSjORHiiSc\n",
       "Earb7r0LcLFPJSdqhZU3yy3VnAZKd4xQzIHWTb6MEbT8gVGwE005vKLfGS1WLgpdAlesGZspTou1\n",
       "OhQt+unCxbP0BJ8BksEckdO1oNraW9CL+8HxkKq8Hh8l3im5Xg4vx7lhEeZ0EZom054+6qJBIo5o\n",
       "nqC6WesY/rwhPkfh31Suny5u+1Ihu4kp2xCXHDYwyYDY/QI9OUZBF2wTnbCYWtlcKFfWCtWm/9UC\n",
       "NNcIYOZWWtj1L30Fm4xtzzjMRy+kt5wlrI13dvMddL7u3F4HCnSZyXpl18+oEVZPeQOms6cmY0Cn\n",
       "8CtaJzcED1oZU1mH9hJK9YUHfD8ggwGl0mNzGpJl0u8S3j2v7+f8eGSmr41D8QMvhKQ1nPBRnBV+\n",
       "DT6JWxom5Vgvd0hZ51s8yBCLtSVk1NBsUihX7qgNu1jnIwxqYrsDE+BsCTHuCjVjj5KsY+e5UuGt\n",
       "TiIhuLlzSiynIyZWN2vpEcKh0RAOpsJHDWU+X6QouitApIjCvEXq/ukp8ccss5zRi7Z0K8Se/EXD\n",
       "RiopdQZ8lpFqWSL0jyOwM+bD15m9amLzV8LHTbtjW3DWdO2jRgd1HGZvgVVfDGjI/r3VUiyGKOiL\n",
       "eIY1yV9IWIqUyI0PsBwg3Q8bPk6KbLLq39ZqbzfHWS3bdBpNfwMHkTIqbAbZuty+db0o+9xJJ7y6\n",
       "v9bgFheWP9AnUUYU4Q+s4KU1YEkNOfWkZtHVCS5SfB/rUPRf5N+p9R+yCza5uroAGkG0l3tT5irL\n",
       "48OHI4t4Dbeb864+tkGlmk6MOzEmwD1wvzVX5/wBefQG4HoGyeXbC9faoJrtoEfbkqatiUfSEPEY\n",
       "Ygh0WJI8gwEMkP8tlLor0XEPYmmV0b/yO9aNTbXd0JoCcig8QzWhJvGwmW+e11c8sfP3OPyQ6s6o\n",
       "q6YVRICaigT6C7pYmx4oaRTfiVfgLTv/VAu8sMg2VPIniFm5Dll1H9ms+O7EP+d3Bukyx8QPsn30\n",
       "o24bj/j4yrp0P4/Mx2+ud9uLYAFq1rHP85z/mmSmUAc+1T9B5AusvMZ9LZmhVndAWFZAB9JapqJY\n",
       "C4gmFMbWJjpPkO7TncFqpGQ0KYMUNOheBKvy/EDhCD1TeCYRrwsA70SECtrHYZhBKV7ZSLPAP+3V\n",
       "OZDKQr5SrbqJ3Mu9PmisRG73WNEAAAIfQZ+cRRE8K/8CHojyHEFpxsbwiqfIABGBDoDUh5y0f9Fa\n",
       "wRcRQrB3Mka7p96IolSmRZ58bepItVKkeLZFZKJkZZyPBEkdyoLWTbTI2MfK7X3ABbkH6OjzQ3DN\n",
       "fjvWaqM5NP4UPaeDGvVeiK+aQI0l7POODT4TnPVnMlOek0K4diN57tYYGvy+vpEU2vIkeRarFDdr\n",
       "tSiqm2M734zNxV/v8aVoNgFkFxzOxe7p6ScGRWNokp768USUN3PaUlu4C8UILbVxGSgV3lbOiOVI\n",
       "mM8caaBpjWB8TINcFRU/l21fS4XKqZILYu5d/bq0C5MBvQqMRKxiSt/Sikc6XRT6bVCqz9goUzra\n",
       "Gkt8C4Z8kb2+DtZOIt9miqqjnSWTOyj+3MDvEVUC4RjzwEjHEiwftDPSKWalWOm/2Z6Y/zKcnOJP\n",
       "GcgUEjakrF46hemiDeGi7xJv41jKgS5T5Qbnceq0ZbHlOA5JwMwsCBgwRnbDP+sZajOhEYMZw7fj\n",
       "o2lszn/GwftmzTxuJTa5WoHWup6RJbEGoVqUIF7tYLM8u14+NQEN41ZHknbHw1qaI7n2pr3psEox\n",
       "ZwKxVxtg5FDFcv4+fJCgZPq92xAWhQd+Bs6wljLZeR9AZtxcXjIexw4PVPAw1gMq02ofcebw7GtP\n",
       "NMNY7lDq4GXHVO57stEfeDDuDiSvYTM8QNOD1POTh0x6/XmF5b909yeozWC+Vn4sxFMmxv41AAAB\n",
       "tgGfvWpCvwCjxAeTQNgHWWj9AMl633inf1vgrnspv0DK9RC0rnAYVQVg6lr2i5tnDrdGcekBfvik\n",
       "9gA+s+W8B2iXWSKArlAqibvMZAWxFY/hP5p0A/XformSipvwMBbyAghvqn3hPij3Chcgv5sjUwS+\n",
       "vfp+uGM2OeL5U0Dya8lwXTPFhgvasTg2iz/vmdx6Dgjyoei/nqcHK8VyP1/1aVfuBEm+Kf+rwedV\n",
       "Yw8hXNH84S+ENLgfaz+9GBKDk2x4KV713d+UyXaGflUxbfL1PuSxJIFOXAudnOVt4nVBrgRYH13u\n",
       "GgX6q8U7JVFPa7b9K6wkMux2E3apM7l+sO7wJjhsJArQ/4qvEoKTIuS3mZYxdiRBBxo1B8pYXhhW\n",
       "mnrqtNWOni+pVek+OWhdL4S6lX7l1q8by/BcAukMVo3aTRo47gaMBEj6mgCdDUI5jQtMQ0oRjs5m\n",
       "pwbjUIKjbQQsiarI1/3tSbExuqUUbGs/iwlaBiwU+pntQQxSrneIMVQ03Ydg0YP58HQqXVP36fNF\n",
       "RFMa5QdpxDCiddUs2FDf17KjsVBb0UgD9TQcv72VImzaBrIl+wiQ8AAABY1Bm6FJqEFomUwIZ//+\n",
       "nhADRr+Yv74gCDvLQlens9fX0sS+lkxzZDfKeun2zhu7vIAwZeNp2v7srAQ2U4+q76Fe9GzB0QZK\n",
       "nF4mhzsNHACWTmEH08j4nS2njNU6sPip7Tzu45htoSGVNHr6myGAYoe/Yb3xY/2KyuESJpZ/qKt/\n",
       "Mam852pU5edTQW2U7hTpkH4dDWFQE55yedo0rCHlicEvJ39tDSKVnI4HpTlL3clBW5Izk1qR7iDD\n",
       "J+WvuLdNzDTZCkvu4oUiPLZrLCrgrswG1tJ0Q8v1EZHgZ28l+zKU+/zbjNIn4SOPtPFiBhptavUS\n",
       "nMF33BJA18l41AerkhUUL2bqUCW6LiOMiwM8ApDNWnBY7yPoCRB6rilvEUwY92fdq/+FZxZ8dcNQ\n",
       "L1hJE4vEi76HA0lPjzEDpuu2RsZL4X8zdCHHA12E7BSJK0MFEdG52ACltLXGdwOpWJUXhSlzcaGC\n",
       "ApI5noBQSLphacxVHpO3jhHJTzhEFr/rQjZsKwWT4bj0td3+lC0EDe3ildynqU6KR2r7WnCKxAKz\n",
       "+u99kXwLeo4R+Euq6HVwsJBo8CzhM6rEUPtwiOeja29im8lHsJeeYfmEwOZR1a+sVQzKpySSX8T9\n",
       "OsfaoRriBBrkyJveJFelz1Y8HtaXJcUq3Vwbf+jo0dgwbZs71zO11n80xj9w/NGVRF1eT6dAewpB\n",
       "iAeLPzzUs+QD68rOt5d5uPLk/+yrRwZxg9NFflY75HXLP3VcZvCoWeA8WrjOFcQCzyz96OvzUqg/\n",
       "xdz1AOwhlrqhzHS77nVpJgDxvrawgyLmOFH8woI0hHHOw9o5xf3gT0nrxzJA3O/UVLKeQjbGGuEh\n",
       "Y6YFMU40mmp2+fdfo64MHOcwveloI3H9WbqzJ5Z6L/D+9qjuos3jq7cSBY84hmlsPz6agHEgPMDs\n",
       "LXd5/JlT9GlgekFQZGtBTfKMkeBqTZejagyL4QXMCrmVOk/QfmBNYO5BGfckJETKll37MVN3wHhd\n",
       "EIzsz93oNTlEN81BiNXEhhcTPVoN3dF4OnVZMtKRHszw4YQD0Nv5sKcCZdwWI6QlLals1BYajTKX\n",
       "BSTU0UtI6w/I5A6X2ltBrCzc7OsEiza8MZCiakf0eJ94uxxbKrQZWL1j4kRl+WVrffkuFCQ5Ob7c\n",
       "dQQHlVGakjYW81tN5mXh0ksC78LFMRSofvWeKJIWzNxR3BrWNDU7UpT2BQGTyiSYMf2NXwOLooqW\n",
       "hMBt064NxJbrhOpdj49gvJIZjBuxA0BDREnlqgDYjXEbZIJyjmiMgqUyR+WI3SwawfC4dPOjBE/c\n",
       "r8mBGA63P880dUQTp5Vwt7ebhWVDn0oJVG5JneCLragcH2UmU0FOqNjgl3+JUPnhNXkVmzLgg/pq\n",
       "Ry7w0MviT1tr6NCPuAdgqIdN623jPV4zxZhCxsH0Trqxjs3F7QjXZdA86zb99+qFZDuFxjaAju76\n",
       "3JfMHCHvczl12kS+sH/KlHACVmb/bm4Qpp26nRcRH+rGN90msNNagDJMO4KYl0Bbf9Z3jHoy+7ln\n",
       "TBEwkwz/fjWIXEaIsky5HvDbjiGDGjWmf4qZEWOPQnwDnqHiKFE3JLjSexUOeANQg0pYVTODntNc\n",
       "WzxF2ARW7HSKUIjlj4wTdhnJFi8Fs5DoQQs7rdGZpuCATykq6BpsK9aIRTLhukBAc7wvXtMxeS+c\n",
       "UgnJAjANC36CcVTDMXWGTZOK2KMPQO40HbRXCtT7Q8RGXu0bNJ+tkPgsMnteRgI4+tm4W++Okf+b\n",
       "5+cXaBqNC4jumJ/uDIkAcqAxlRbeyubkujk0Q7dBkXiBpmbHnWQ3KFfEwePeV9oVJc3w8ET6R6Q8\n",
       "vBMvbL8LTcDStb5N3dZscn3pmi8Liz3lWAbGXeA+aJzsKKA6opHWQAAAAjVBn99FESwr/wIfYc0b\n",
       "BU9JBAYSqrkvpYsFYcsjxFI8wAK2dcMQc25GM86DhdO4Gvro6ym+YDq4uqBBtAPdfZNZmMtmkuDM\n",
       "ywEyOaVI2BfU12DGSr9lyFBxqJzvfzPg6VzAO0dI6KJsH9sCWbPyTzH4c+BnMYBuyaxTfILdv5Tn\n",
       "ZYWaG3FjUrxHI7SwPp7bea5wgkoj4jq6yfhrQ5mXwhkoussjHV4qP9C+XKJQaMZVTObn/8quKKzd\n",
       "FelLrh5FXlBZlbrgVIHdCBmlMSeMDCR92kIMKgpQvHFB70f6bRRfQQomePOWNROcOAhYWyzTQbk6\n",
       "sbNdpPiEdr52H+o6BOmlYIhkMLukkBBsDsWtZi5vTYvWHDp+a43i0L+bNV9YPFlEb5YjjobnD5ku\n",
       "4RG+rBMjFoo45pM9DoyZ3ZNVF6z7tZWsfIBQjLMzMZs06wAzHnZ1lBDQv0n0qj97jidAaMDGj894\n",
       "HjI9OZmUiqfVXEiPKNgqBoPdzSjLWqRkkKQVMwx4kLk3ndXmb2dt5JfkByapS9l8jGiYjtfQa5kA\n",
       "u/GKoek6d1uh5YAWG1smoc7gb9l2qTor2wYXmRAwOIfnDm3T0CTKyLK7w2lvy19IJl5SUFvxGcyy\n",
       "5Ri8e64JPdaS205zHwf7yDo1f8LPVdXNO3WUnKFVapzF5jA9StrsA+1c5/OVWzLHX0SOCRFSXGdP\n",
       "psnJr/kVaRIlr7Q9NCsZrXwTbxvlR5Gz8gOxB4UV8b71utFZkQuhAAAB1gGf4GpCvwCxD1Oz4CHy\n",
       "2Sc9v3ZJYaTAooJ9AkHnfYIAWVgLCD9lUF98xrSx7Ou2ot7t1HZ8Duqw5g32B3Uypg9f4Cdw3zGJ\n",
       "kLjSNjj8pyx11KK7Nmb+JLvcNlrbwv0CjpoY55RCN0LEa6ecS1ChbtyU4RQRoFwlgnWKO2UVhZ+G\n",
       "yZ/VjtpfMhFivXgG7ZEI4g+L9Q1GOdXM9JHswR/5LM4k1oqSVVJ+0UrNb3Wrcb9jfHIb9yHbAOlt\n",
       "IrI0l34Ybp7wgSPii2iWdZ+Nye3R0Z63n9t83DKwXa9WDvnMvzyUp6IuHpl5+HjPUe1OM4jHTN/J\n",
       "VHLxe6ZGv9raFNMP7p4X5+QsKwo2aTygK4qcK3cO6kiGieusMKgiW2w1FYloU3MxwdxKVhEwQ72/\n",
       "a5zYySUUYQpfHTqaFls0CMQ9catXZzGQdxzau061VaEr/x+fomyoWuuvC8yWblYAq0dnv4atmFCC\n",
       "4ToJt7PJnZPF5Xh/RWoxqkXjvJHvnUIeFFkfCtT7z+j75tBECTW8wNp+BeD4p6HQI6Txv1TTeBJA\n",
       "yaC8V+a6LC9mGEZvmOxye86e7NF4RJup4cKFvKtJZcvx7hccpwLoMkQ7Lk2euEBEJJecd6Z1Kplo\n",
       "AAACUUGb40moQWyZTBRMK//+OEAMzAPtAAbOTSh/NaqWcGbF3RPMwUnYhpj7Oim8OCDEG6Z5y+Xa\n",
       "wt5v+/HxQCEO8xbAbbsgToS+7clMpVxx0mYA4DeOzXm/LCJypQqrcSxaSrpVPXMRdGdG+fE9jR9E\n",
       "tRR0wciysvObBXWfyD5CnIMiJDib2Hx1xU6iilArMfmU/9Cv7dwUG4pP9BPqLvifBT1vF3yPRgQt\n",
       "8Wd/a1tCQhWgTAL9QozxnCBr2MvkBvtqXBnVLw2j3PzwK9GTCnWjlcokGsJNO9/VLP2k14IMdktZ\n",
       "qCXLudLcWWvEGI9P9qcFODv7Ugu71HrfulaF9oeruD4OAzY5Yu+ejCBaLDA/zI3Ly7G1ulvs0QlB\n",
       "+yP4mLW9MbFjBY9NuTCBCyxsDsNuGQweMTclgKYP+78XMoJ6cbkk8nCVrA/xwv4XkkVAyzdR6FQy\n",
       "k0nBOn+PBZZgiPJfoEy8C5YErlNPeH0Hp19PZzvFZtcOzQLZP9i0ae6AMu/xZih5ZYjOiniCJGOP\n",
       "phLnHATTagsPzVh9dD1XWTMcxnwiaoyEeoLddzwUd9reYIN+0SJQ1cN2TcRUZZpwQV6CKspgHaoj\n",
       "nGOV7VgIeocMacgUeGPx7jrL4uQT2mPLeViq59WENhewsnxzAFP2GgLATErrqY4njU1NVI6wmOuN\n",
       "OZZXO/bj7BadTG4MM4FxWrl7rWODyQ6DzB9r7pI1sI9i+8gUE51mjn8kCmrYjRRQNCIMgLx24RHM\n",
       "kuaIFMatutKhCG3+QGB/8jh/5RiZyPt+wUlJAAABJQGeAmpCvwIfYc0bBXiNCYjdARMHnPkM48rD\n",
       "BACXnGmkuMatNU49SeoP99rabCrfzl5oUCAvIUDAJDJhBWoBahS5tWKtPhDkRYVP0n0tw5T03Gy6\n",
       "bvkTlNwBVGvY/axvSKqQirtzgSJzqcNc5WzR981qEo67HSAEnYVfzbCRYyky9FeMtYop5B0hL/mF\n",
       "28u7g/wUslU1rJje5o14RjxI8Gl5VlolgMo5T9YYB/6u2D/4Xy9skr5iMPnTegfpCinUgLNhbFE5\n",
       "e/tXX2/yq51LQhiVBfzV0/OyCEdv3zpvwZ1bQHw7GzV0qrQMH/qT84LBb4/i4KVzntIpq9lxSu8N\n",
       "6fh7I/jG5joGXJtVQZ4xLtiXL1UqHvFETsJDoSN2fUwWa5w94t7pAAAHZm1vb3YAAABsbXZoZAAA\n",
       "AAAAAAAAAAAAAAAAA+gAAA+gAAEAAAEAAAAAAAAAAAAAAAABAAAAAAAAAAAAAAAAAAAAAQAAAAAA\n",
       "AAAAAAAAAAAAQAAAAAAAAAAAAAAAAAAAAAAAAAAAAAAAAAAAAAAAAAIAAAaQdHJhawAAAFx0a2hk\n",
       "AAAAAwAAAAAAAAAAAAAAAQAAAAAAAA+gAAAAAAAAAAAAAAAAAAAAAAABAAAAAAAAAAAAAAAAAAAA\n",
       "AQAAAAAAAAAAAAAAAAAAQAAAAAGwAAABIAAAAAAAJGVkdHMAAAAcZWxzdAAAAAAAAAABAAAPoAAA\n",
       "BAAAAQAAAAAGCG1kaWEAAAAgbWRoZAAAAAAAAAAAAAAAAAAAMgAAAMgAVcQAAAAAAC1oZGxyAAAA\n",
       "AAAAAAB2aWRlAAAAAAAAAAAAAAAAVmlkZW9IYW5kbGVyAAAABbNtaW5mAAAAFHZtaGQAAAABAAAA\n",
       "AAAAAAAAAAAkZGluZgAAABxkcmVmAAAAAAAAAAEAAAAMdXJsIAAAAAEAAAVzc3RibAAAALNzdHNk\n",
       "AAAAAAAAAAEAAACjYXZjMQAAAAAAAAABAAAAAAAAAAAAAAAAAAAAAAGwASAASAAAAEgAAAAAAAAA\n",
       "AQAAAAAAAAAAAAAAAAAAAAAAAAAAAAAAAAAAAAAAAAAAABj//wAAADFhdmNDAWQAFf/hABhnZAAV\n",
       "rNlBsJaEAAADAAQAAAMAyDxYtlgBAAZo6+PLIsAAAAAcdXVpZGtoQPJfJE/FujmlG88DI/MAAAAA\n",
       "AAAAGHN0dHMAAAAAAAAAAQAAAGQAAAIAAAAAFHN0c3MAAAAAAAAAAQAAAAEAAAK4Y3R0cwAAAAAA\n",
       "AABVAAAAAgAABAAAAAABAAAKAAAAAAEAAAQAAAAAAQAAAAAAAAABAAACAAAAAAEAAAYAAAAAAQAA\n",
       "AgAAAAABAAAKAAAAAAEAAAQAAAAAAQAAAAAAAAABAAACAAAAAAEAAAQAAAAAAQAACAAAAAACAAAC\n",
       "AAAAAAEAAAQAAAAAAQAACAAAAAACAAACAAAAAAIAAAQAAAAAAQAABgAAAAABAAACAAAAAAEAAAQA\n",
       "AAAAAQAABgAAAAABAAACAAAAAAEAAAoAAAAAAQAABAAAAAABAAAAAAAAAAEAAAIAAAAAAQAACgAA\n",
       "AAABAAAEAAAAAAEAAAAAAAAAAQAAAgAAAAABAAAIAAAAAAIAAAIAAAAAAQAABAAAAAABAAAIAAAA\n",
       "AAIAAAIAAAAAAQAABAAAAAABAAAGAAAAAAEAAAIAAAAAAgAABAAAAAABAAAGAAAAAAEAAAIAAAAA\n",
       "AQAACAAAAAACAAACAAAAAAEAAAoAAAAAAQAABAAAAAABAAAAAAAAAAEAAAIAAAAAAQAABgAAAAAB\n",
       "AAACAAAAAAIAAAQAAAAAAQAACAAAAAACAAACAAAAAAEAAAYAAAAAAQAAAgAAAAABAAAIAAAAAAIA\n",
       "AAIAAAAAAQAABgAAAAABAAACAAAAAAEAAAQAAAAAAQAACAAAAAACAAACAAAAAAEAAAoAAAAAAQAA\n",
       "BAAAAAABAAAAAAAAAAEAAAIAAAAAAQAABgAAAAABAAACAAAAAAEAAAoAAAAAAQAABAAAAAABAAAA\n",
       "AAAAAAEAAAIAAAAAAgAABAAAAAABAAAGAAAAAAEAAAIAAAAAAQAABAAAAAABAAAGAAAAAAEAAAIA\n",
       "AAAAAQAABAAAAAABAAAIAAAAAAIAAAIAAAAAAQAACAAAAAACAAACAAAAAAEAAAYAAAAAAQAAAgAA\n",
       "AAAcc3RzYwAAAAAAAAABAAAAAQAAAGQAAAABAAABpHN0c3oAAAAAAAAAAAAAAGQAAB4ZAAACqwAA\n",
       "BpIAAAMMAAABfQAAAc4AAAWFAAAB8gAABl0AAANHAAAB4AAAAegAAAQVAAAGuwAAAs4AAAH6AAAE\n",
       "ygAABvoAAAH7AAABwQAABAQAAASoAAAFSAAAAXgAAAMOAAABNAAAALoAAAXhAAACawAAAT8AAAGP\n",
       "AAAGawAAAq4AAAHhAAACHwAABa4AAAKSAAACHwAABQsAAAeCAAACoQAAAccAAARiAAAFjgAAAbwA\n",
       "AARvAAAExQAABWQAAAFrAAAARgAAAZwAAABKAAAFHQAAAoUAAAFbAAABfgAABKwAAAG0AAADsgAA\n",
       "A4UAAAXPAAAClgAAAh4AAAaEAAACOgAAB7UAAAJqAAAB4QAABVYAAAGpAAAEdwAABpoAAAIaAAAB\n",
       "PAAAAoUAAAGKAAAA1QAAARoAAATKAAABoAAABk4AAALcAAABWwAAAdYAAAONAAAEGQAABU4AAAJC\n",
       "AAAEngAABiMAAAH5AAAEFgAABg8AAAIjAAABugAABZEAAAI5AAAB2gAAAlUAAAEpAAAAFHN0Y28A\n",
       "AAAAAAAAAQAAACwAAABidWR0YQAAAFptZXRhAAAAAAAAACFoZGxyAAAAAAAAAABtZGlyYXBwbAAA\n",
       "AAAAAAAAAAAAAC1pbHN0AAAAJal0b28AAAAdZGF0YQAAAAEAAAAATGF2ZjU4LjEyLjEwMA==\n",
       "\">\n",
       "  Your browser does not support the video tag.\n",
       "</video>"
      ],
      "text/plain": [
       "<IPython.core.display.HTML object>"
      ]
     },
     "execution_count": 56,
     "metadata": {},
     "output_type": "execute_result"
    }
   ],
   "source": [
    "# Show the animation\n",
    "HTML(ani.to_html5_video())"
   ]
  },
  {
   "cell_type": "code",
   "execution_count": 57,
   "metadata": {
    "slideshow": {
     "slide_type": "skip"
    }
   },
   "outputs": [],
   "source": [
    "# Save the animation\n",
    "ani.save('PluckMiddle.mp4')"
   ]
  },
  {
   "cell_type": "markdown",
   "metadata": {
    "slideshow": {
     "slide_type": "slide"
    }
   },
   "source": [
    "## Some videos"
   ]
  },
  {
   "cell_type": "markdown",
   "metadata": {},
   "source": [
    "I find them cool and instructive."
   ]
  },
  {
   "cell_type": "markdown",
   "metadata": {
    "slideshow": {
     "slide_type": "skip"
    }
   },
   "source": [
    "### Bowed Violin String in Slow Motion\n",
    "\n",
    "https://youtu.be/6JeyiM0YNo4"
   ]
  },
  {
   "cell_type": "code",
   "execution_count": 58,
   "metadata": {
    "slideshow": {
     "slide_type": "subslide"
    }
   },
   "outputs": [
    {
     "data": {
      "text/html": [
       "<iframe width=\"560\" height=\"315\" src=\"https://www.youtube.com/embed/6JeyiM0YNo4?start=55\" frameborder=\"0\" allowfullscreen></iframe>"
      ],
      "text/plain": [
       "<IPython.core.display.HTML object>"
      ]
     },
     "execution_count": 58,
     "metadata": {},
     "output_type": "execute_result"
    }
   ],
   "source": [
    "from IPython.display import HTML\n",
    "HTML('<iframe width=\"560\" height=\"315\" src=\"https://www.youtube.com/embed/6JeyiM0YNo4?start=55\" frameborder=\"0\" allowfullscreen></iframe>')"
   ]
  },
  {
   "cell_type": "markdown",
   "metadata": {
    "slideshow": {
     "slide_type": "notes"
    }
   },
   "source": [
    "About this video of a violin string, note that:\n",
    "\n",
    "* The oscillation is created by the bow of the violin, sticking-and-slipping (this is actually a real expression) at a frequency that resonates with the oscillation we see.\n",
    "* When the bow is removed, towards the end of the video, you can see that very quickly, the oscillation becomes like a fundamental oscillation, and nothing else, the kink is gone. That's because in reality, there is damping, and the higher the harmonic is, the stronger the damping acts on it. Indeed, as we saw before, the kink is reproduced by very high modes, and those modes oscillate faster. Assuming (and this is actually a conservative assumption) that the damping force on a mode $n$ can be modeled as something like $-b\\dot y$ again, then it proportional to the frequency: $F_{damping} \\propto \\sum -\\omega_n\\alpha_n\\sin(\\omega_n t)\\sin(k_nx)$. Therefore, the higher a mode is, the faster the damping is. After a short period of time, damping has killed all the modes but the fundamental, which is the last harmonic standing (pun intended).\n",
    "* The violin is out-of-tune to visualize a pattern. The string's oscillations are way too large for a functioning violin."
   ]
  },
  {
   "cell_type": "markdown",
   "metadata": {
    "slideshow": {
     "slide_type": "skip"
    }
   },
   "source": [
    "### Chladni Plate"
   ]
  },
  {
   "cell_type": "markdown",
   "metadata": {},
   "source": [
    "Please first watch the following video first (also at https://youtu.be/dXeBvQdkhaw and https://play.library.utoronto.ca/85ee379e108e534320503428bf84cdf2). It is not the best, but it was a pain in the neck to record."
   ]
  },
  {
   "cell_type": "code",
   "execution_count": 26,
   "metadata": {},
   "outputs": [
    {
     "data": {
      "image/jpeg": "[encoded data removed]",
      "text/html": [
       "\n",
       "        <iframe\n",
       "            width=\"560\"\n",
       "            height=\"300\"\n",
       "            src=\"https://www.youtube.com/embed/dXeBvQdkhaw?hieght=315\"\n",
       "            frameborder=\"0\"\n",
       "            allowfullscreen\n",
       "        ></iframe>\n",
       "        "
      ],
      "text/plain": [
       "<IPython.lib.display.YouTubeVideo at 0x7fe8bd317d60>"
      ]
     },
     "execution_count": 26,
     "metadata": {},
     "output_type": "execute_result"
    }
   ],
   "source": [
    "YouTubeVideo('dXeBvQdkhaw', width=560, hieght=315)"
   ]
  },
  {
   "cell_type": "markdown",
   "metadata": {
    "slideshow": {
     "slide_type": "skip"
    }
   },
   "source": [
    "Now that you've indulged me, you can watch the much better video below (also at https://youtu.be/wvJAgrUBF4w)."
   ]
  },
  {
   "cell_type": "code",
   "execution_count": 27,
   "metadata": {
    "slideshow": {
     "slide_type": "subslide"
    }
   },
   "outputs": [
    {
     "data": {
      "image/jpeg": "[encoded data removed]",
      "text/html": [
       "\n",
       "        <iframe\n",
       "            width=\"560\"\n",
       "            height=\"300\"\n",
       "            src=\"https://www.youtube.com/embed/wvJAgrUBF4w?hieght=315\"\n",
       "            frameborder=\"0\"\n",
       "            allowfullscreen\n",
       "        ></iframe>\n",
       "        "
      ],
      "text/plain": [
       "<IPython.lib.display.YouTubeVideo at 0x7fe8bd15f2e0>"
      ]
     },
     "execution_count": 27,
     "metadata": {},
     "output_type": "execute_result"
    }
   ],
   "source": [
    "YouTubeVideo('wvJAgrUBF4w', width=560, hieght=315)"
   ]
  },
  {
   "cell_type": "markdown",
   "metadata": {
    "slideshow": {
     "slide_type": "-"
    }
   },
   "source": [
    "For an in-house explanation, see the web page, created by our very own Prof. Stephen Morris: https://www.physics.utoronto.ca/~nonlin/chladni.html"
   ]
  },
  {
   "cell_type": "markdown",
   "metadata": {
    "slideshow": {
     "slide_type": "skip"
    }
   },
   "source": [
    "### Fourier Analysis (and guitar jammin')\n",
    "\n",
    "https://youtu.be/u1Lz8pm2npQ\n",
    "\n",
    "I love it and I hate it: this guy makes me look lame. Goes way beyond what I covered, in a compressed amount of time."
   ]
  },
  {
   "cell_type": "code",
   "execution_count": 28,
   "metadata": {
    "scrolled": true,
    "slideshow": {
     "slide_type": "subslide"
    }
   },
   "outputs": [
    {
     "data": {
      "image/jpeg": "[encoded data removed]",
      "text/html": [
       "\n",
       "        <iframe\n",
       "            width=\"560\"\n",
       "            height=\"315\"\n",
       "            src=\"https://www.youtube.com/embed/u1Lz8pm2npQ\"\n",
       "            frameborder=\"0\"\n",
       "            allowfullscreen\n",
       "        ></iframe>\n",
       "        "
      ],
      "text/plain": [
       "<IPython.lib.display.YouTubeVideo at 0x7fe8bd310be0>"
      ]
     },
     "execution_count": 28,
     "metadata": {},
     "output_type": "execute_result"
    }
   ],
   "source": [
    "YouTubeVideo(\"u1Lz8pm2npQ\", width=\"560\", height=\"315\")"
   ]
  },
  {
   "cell_type": "markdown",
   "metadata": {
    "slideshow": {
     "slide_type": "skip"
    }
   },
   "source": [
    "### Ruben's Tubes\n",
    "\n",
    "https://youtu.be/2awbKQ2DLRE\n",
    "\n",
    "The first minute of the video is pretty instructive, but the entire video is like a pyrotechnical version of a Chladni plate."
   ]
  },
  {
   "cell_type": "code",
   "execution_count": 33,
   "metadata": {
    "scrolled": false,
    "slideshow": {
     "slide_type": "subslide"
    }
   },
   "outputs": [
    {
     "data": {
      "image/jpeg": "[encoded data removed]",
      "text/html": [
       "\n",
       "        <iframe\n",
       "            width=\"560\"\n",
       "            height=\"315\"\n",
       "            src=\"https://www.youtube.com/embed/2awbKQ2DLRE\"\n",
       "            frameborder=\"0\"\n",
       "            allowfullscreen\n",
       "        ></iframe>\n",
       "        "
      ],
      "text/plain": [
       "<IPython.lib.display.YouTubeVideo at 0x7fe8bd15f310>"
      ]
     },
     "execution_count": 33,
     "metadata": {},
     "output_type": "execute_result"
    }
   ],
   "source": [
    "YouTubeVideo(\"2awbKQ2DLRE\", width=560, height=315)"
   ]
  },
  {
   "cell_type": "markdown",
   "metadata": {
    "slideshow": {
     "slide_type": "skip"
    }
   },
   "source": [
    "### The Walking Water Mystery\n",
    "\n",
    "https://youtu.be/KJDEsAy9RyM\n",
    "\n",
    "The connection with standing waves may not be obvious at first. Jump to 4'15 or 8'14 if you are impatient, but the whole thing is worth a watch. Awesome stuff at 9'30."
   ]
  },
  {
   "cell_type": "code",
   "execution_count": 34,
   "metadata": {
    "slideshow": {
     "slide_type": "subslide"
    }
   },
   "outputs": [
    {
     "data": {
      "image/jpeg": "[encoded data removed]",
      "text/html": [
       "\n",
       "        <iframe\n",
       "            width=\"560\"\n",
       "            height=\"315\"\n",
       "            src=\"https://www.youtube.com/embed/KJDEsAy9RyM\"\n",
       "            frameborder=\"0\"\n",
       "            allowfullscreen\n",
       "        ></iframe>\n",
       "        "
      ],
      "text/plain": [
       "<IPython.lib.display.YouTubeVideo at 0x7fe8bd317580>"
      ]
     },
     "execution_count": 34,
     "metadata": {},
     "output_type": "execute_result"
    }
   ],
   "source": [
    "YouTubeVideo(\"KJDEsAy9RyM\", width=\"560\", height=\"315\")"
   ]
  },
  {
   "cell_type": "markdown",
   "metadata": {
    "slideshow": {
     "slide_type": "skip"
    }
   },
   "source": [
    "*** \n",
    "\n",
    "*End of 4 October lecture, beginning of 7 October lecture.*\n",
    "\n",
    "***"
   ]
  },
  {
   "cell_type": "markdown",
   "metadata": {
    "slideshow": {
     "slide_type": "skip"
    }
   },
   "source": [
    "# Energy of Standing Waves\n",
    "\n",
    "*[King: §§ 6.3 and 6.4.4; skipped parts of the derivations also found in § 5.5]*"
   ]
  },
  {
   "cell_type": "markdown",
   "metadata": {
    "slideshow": {
     "slide_type": "skip"
    }
   },
   "source": [
    "The energy per unit length of the string is (cf. King § 5.5):\n",
    "$$E =  \\frac12 \\mu \\int_0^L \\left[\\left(\\pde{y}t\\right)^2 + v^2\\left(\\pde{y}x\\right)^2 \\right]\\di x,$$\n",
    "where the first part in the integral corresponds to the kinetic energy and the second part corresponds to the potential energy stored when the string moves away from its rest position ad gets stretched or compressed a little."
   ]
  },
  {
   "cell_type": "markdown",
   "metadata": {
    "slideshow": {
     "slide_type": "skip"
    }
   },
   "source": [
    "## Single Mode"
   ]
  },
  {
   "cell_type": "markdown",
   "metadata": {
    "slideshow": {
     "slide_type": "skip"
    }
   },
   "source": [
    "For a single mode, and assuming for simplicity that $V(x) = 0$,\n",
    "$$y(t, x) = y_n(t, x) = A_n \\cos(\\omega_n t)\\sin(k_n x),$$\n",
    "$$\\pde{y}t = -\\omega_n A_n \\sin(\\omega_n t)\\sin(k_n x),\\textrm{ and}$$\n",
    "$$\\pde{y}x = k_n A_n \\cos(\\omega_n t)\\cos(k_n x).$$"
   ]
  },
  {
   "cell_type": "markdown",
   "metadata": {
    "slideshow": {
     "slide_type": "skip"
    }
   },
   "source": [
    "Substituting into the expression for energy,\n",
    "\\begin{align*}\n",
    "    E_n & = \\frac12 \\mu \\int_0^L \\left[\\omega_n^2 A_n^2 \\sin^2(\\omega_n t)\\sin^2(k_n x)  + v^2k_n^2 A_n^2 \\cos^2(\\omega_n t)\\cos^2(k_n x)\\right]\\di x, \\\\\n",
    "        & = \\frac12 \\mu \\omega_n^2 A_n^2 \\left[\\sin^2(\\omega_n t)\\int_0^L \\sin^2(k_n x)\\di x + \\cos^2(\\omega_n t)\\int_0^L\\cos^2(k_n x)\\di x\\right].\n",
    "\\end{align*}"
   ]
  },
  {
   "cell_type": "markdown",
   "metadata": {
    "slideshow": {
     "slide_type": "skip"
    }
   },
   "source": [
    "You can compute (in which case you could use $\\cos^2 + \\sin^2 = 1$), or remember the normalization of the inner product $\\odot$, or convince yourself by drawing $\\cos^2$ and $\\sin^2$, that the two integrals are the same:\n",
    "$$\\int_0^L \\sin^2(k_n x)\\di x = \\int_0^L \\cos^2(k_n x)\\di x = \\frac{L}2.$$"
   ]
  },
  {
   "cell_type": "markdown",
   "metadata": {
    "slideshow": {
     "slide_type": "skip"
    }
   },
   "source": [
    "And because $\\cos^2(\\omega_n t) + \\sin^2(\\omega_n t) = 1$,\n",
    "$$\\boxed{E_n = \\frac14\\mu L\\omega_n^2 A_n^2}.$$"
   ]
  },
  {
   "cell_type": "markdown",
   "metadata": {
    "slideshow": {
     "slide_type": "skip"
    }
   },
   "source": [
    "The expression above may look silly to remember, but there actually is physics in there, it is not so complicated, and I would like you to remember it.\n",
    "The energy of the SHO was already $kA^2/2 = m\\omega_0^2 A^2/2$, and so, if you could remember the energy of the SHO, you can remember this one.\n",
    "\n",
    "* $E_n \\propto m = \\mu L$, the mass of the string. Why not.\n",
    "* $E_n \\propto A_n^2$: quadratic dependence of the energy on the amplitude, a super-duper general statement that you have been needing to remember from the start of this lecture series,\n",
    "* $E_n \\propto \\omega_n^2$: looking straight at it, this looks new. But the energy of the SHO was already proportional to $k = m\\omega_0^2$, so, this is actually not that new. But it is important to remember it this way! \"Everything else being equal, a mode that oscillates twice as fast has four times the energy.\"\n",
    "* Factor 1/4: we all wish it was 1/2, for the sake of remembering better. Oh well. Don't worry though, you don't have to remember it."
   ]
  },
  {
   "cell_type": "markdown",
   "metadata": {
    "slideshow": {
     "slide_type": "skip"
    }
   },
   "source": [
    "If we had different boundary conditions, we may have a combination of $\\sin(k_n x)$ and $\\cos(k_n x)$ in $y_n(t, x)$, but the derivation would be conceptually the same."
   ]
  },
  {
   "cell_type": "markdown",
   "metadata": {
    "slideshow": {
     "slide_type": "skip"
    }
   },
   "source": [
    "## Many modes"
   ]
  },
  {
   "cell_type": "markdown",
   "metadata": {
    "slideshow": {
     "slide_type": "skip"
    }
   },
   "source": [
    "With more than one mode,\n",
    "$$ y(t, x) = \\sum_{n=1}^\\infty A_n \\cos(\\omega_n t + \\phi_n)\\sin(k_n x).$$\n",
    "Let's discard $\\phi_n$, for example by assuming $V(x) = 0$."
   ]
  },
  {
   "cell_type": "markdown",
   "metadata": {
    "slideshow": {
     "slide_type": "skip"
    }
   },
   "source": [
    "\\begin{align*}\n",
    "    \\pde{y}t & = -\\sum_{n=1}^\\infty \\omega_n A_n \\sin(\\omega_n t)\\sin(k_n x),\\textrm{ and}\\\\\n",
    "    \\left(\\pde{y}t\\right)^2 & = \\left[\\sum_{n=1}^\\infty \\omega_n A_n \\sin(\\omega_n t)\\sin(k_n x)\\right]\\left[\\sum_{m=1}^\\infty \\omega_m A_m \\sin(\\omega_m t)\\sin(k_m x)\\right] \\\\\n",
    "                            & = \\sum_{n=1}^\\infty \\left(\\omega_n A_n \\sin(\\omega_n t)\\sin(k_n x)\\right)^2 + 2\\sum_{m=1}^\\infty\\sum_{n=m+1}^\\infty \\omega_m A_m\\omega_n A_n \\sin(\\omega_m t)\\sin(k_m x)\\sin(\\omega_n t)\\sin(k_n x).\n",
    "\\end{align*}"
   ]
  },
  {
   "cell_type": "markdown",
   "metadata": {
    "slideshow": {
     "slide_type": "skip"
    }
   },
   "source": [
    "Notice the $2\\sum_{m=1}^{\\infty}\\sum_{n=m+1}^{\\infty}$ double sum (like I need to remind you of it).\n",
    "The factor 2 is here because each term that has $m\\neq n$ will appear twice, say, the couples $\\{m=1, n=2\\}$ and $\\{m=2, n=1\\}$ each appear once, but lead to the same expression. Might as well just sum them once by starting with $n=m+1$, but make them count twice.\n",
    "We start the second sum at $n=m+1$, not $n=m$, because the $n=m$ case is treated separately, in the first summation."
   ]
  },
  {
   "cell_type": "markdown",
   "metadata": {
    "slideshow": {
     "slide_type": "skip"
    }
   },
   "source": [
    "Before going any further, let us not forget that eventually, we will integrate these sums over $[0, L]$.\n",
    "In particular, the double sum will only contain terms proportional to \n",
    "$$\\int_0^L\\sin(k_m x)\\sin(k_n x) \\di x = 0\\quad \\textrm{because}\\quad n\\neq m.$$\n",
    "Therefore, \n",
    "$$ \\int_0^L \\left(\\pde{y}t\\right)^2 \\di x = \\sum_{n=1}^\\infty \\int_0^L \\left[\\omega_n A_n \\sin(\\omega_n t)\\sin(k_n x)\\right]^2 \\di x = \\sum_{n=1}^\\infty \\int_0^L \\left(\\pde{y_n}{t}\\right)^2 \\di x. $$\n"
   ]
  },
  {
   "cell_type": "markdown",
   "metadata": {
    "slideshow": {
     "slide_type": "skip"
    }
   },
   "source": [
    "A very similar derivation leads to\n",
    "$$ \\int_0^L\\left(\\pde{y}x\\right)^2\\di x = \\sum_{n=1}^\\infty\\int_0^L \\left(\\pde{y_n}{x}\\right)^2 \\di x, $$\n",
    "and therefore,\n",
    "$$\\boxed{E = \\sum_{n=1}^\\infty E_n} = \\frac{1}{4}\\mu L \\sum_{n=1}^\\infty \\omega_n^2 A_n^2.$$\n",
    "\n",
    "If you look back on your lectures on Fourier series, there should be a piece about Parseval's theorem. You may realize that the framed expression above is actually an application of it."
   ]
  },
  {
   "cell_type": "markdown",
   "metadata": {
    "slideshow": {
     "slide_type": "skip"
    }
   },
   "source": [
    "Just like for coupled oscillators, **each mode has its own energy, it does not communicate it to any other mode, and the total energy is the sum of the energy of each mode.** Remember it!"
   ]
  },
  {
   "cell_type": "markdown",
   "metadata": {
    "slideshow": {
     "slide_type": "skip"
    }
   },
   "source": [
    "## Power Spectra"
   ]
  },
  {
   "cell_type": "markdown",
   "metadata": {
    "slideshow": {
     "slide_type": "skip"
    }
   },
   "source": [
    "Power spectra are plots of $E_n$ vs. $\\omega_n$. The result is a bar plot like the amplitude spectra I showed before. \n",
    "The most visually striking differences would be that all values would be positive, and the bars heights would fall off more rapidly as $n$ increases, because $E_n \\propto A_n^2\\omega_n^2$ instead of $A_n$.\n",
    "Power spectra are much more widely used that amplitude spectra."
   ]
  }
 ],
 "metadata": {
  "anaconda-cloud": {},
  "celltoolbar": "Slideshow",
  "kernelspec": {
   "display_name": "Python 3",
   "language": "python",
   "name": "python3"
  },
  "language_info": {
   "codemirror_mode": {
    "name": "ipython",
    "version": 3
   },
   "file_extension": ".py",
   "mimetype": "text/x-python",
   "name": "python",
   "nbconvert_exporter": "python",
   "pygments_lexer": "ipython3",
   "version": "3.8.3"
  }
 },
 "nbformat": 4,
 "nbformat_minor": 1
}
