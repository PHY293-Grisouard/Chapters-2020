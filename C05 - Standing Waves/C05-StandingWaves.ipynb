{
 "cells": [
  {
   "cell_type": "raw",
   "metadata": {
    "raw_mimetype": "text/latex",
    "scrolled": true,
    "slideshow": {
     "slide_type": "skip"
    }
   },
   "source": [
    "\\newcommand{\\rads}{~rad.s$^{-1}$}\n",
    "\\newcommand{\\bnabla}{\\boldsymbol{\\nabla}}\n",
    "\\newcommand{\\eexp}[1]{\\textrm{e}^{#1}}\n",
    "\\newcommand{\\glm}[1]{\\overline{#1}^L}\n",
    "\\newcommand{\\di}[0]{\\textrm{d}}\n",
    "\\newcommand{\\bs}[1]{\\boldsymbol{#1}}\n",
    "\\newcommand{\\ode}[2]{\\frac{\\di {#1}}{\\di {#2}}}\n",
    "\\newcommand{\\oden}[3]{\\frac{\\di^{#1} {#2}}{\\di {#3}^{#1}}}\n",
    "\\newcommand{\\odel}[2]{\\di {#1}/\\di {#2}}\n",
    "\\newcommand{\\odeln}[3]{\\di^{#1} {#2}/\\di {#3}^{#1}}\n",
    "\\newcommand{\\pde}[2]{\\frac{\\partial {#1}}{\\partial {#2}}}\n",
    "\\newcommand{\\pden}[3]{\\frac{\\partial^{#1} {#2}}{\\partial {#3}^{#1}}}\n",
    "\\newcommand{\\pdel}[2]{\\partial_{#2} {#1}}\n",
    "\\newcommand{\\pdenl}[3]{\\partial^{#1}_{#3} {#2}}\n",
    "\\newcommand{\\divr}[1]{\\vec\\nabla \\cdot {#1}}\n",
    "\\newcommand{\\divrb}[1]{\\boldsymbol{\\nabla} \\cdot {#1}}\n",
    "\\newcommand{\\grad}[1]{\\vec \\nabla {#1}}\n",
    "\\newcommand{\\gradb}[1]{\\boldsymbol\\nabla {#1}}\n",
    "\\newcommand{\\curl}[1]{\\vec\\nabla \\times {#1}}\n",
    "\\newcommand{\\curlb}[1]{\\boldsymbol{\\nabla}\\times\\boldsymbol{#1}}\n",
    "\\newcommand{\\lapl}[0]{\\vec\\nabla^2}\n",
    "\\newcommand{\\laplb}[0]{\\boldsymbol{\\nabla}^2}\n",
    "\\newcommand{\\cplxi}[0]{\\mathrm i}\n",
    "\\newcommand{\\unit}[1]{\\mathbf{\\hat{#1}}}\n",
    "\\newcommand{\\thrfor}[0]{\\quad\\Rightarrow\\quad}\n",
    "\\newcommand{\\andeq}[0]{\\quad\\textrm{and}\\quad}\n",
    "\\newcommand{\\oreq}[0]{\\quad\\textrm{or}\\quad}\n",
    "\\newcommand{\\red}[1]{\\textcolor{red}{#1}}\n",
    "\\newcommand{\\blue}[1]{\\textcolor{blue}{#1}}\n",
    "\\newcommand{\\mage}[1]{\\textcolor{magenta}{#1}}\n",
    "\\newcommand{\\stirling}[2]{\\genfrac{[}{]}{0pt}{}{#1}{#2}}"
   ]
  },
  {
   "cell_type": "raw",
   "metadata": {
    "raw_mimetype": "text/latex",
    "slideshow": {
     "slide_type": "skip"
    }
   },
   "source": [
    "\\DefineVerbatimEnvironment{Verbatim}{Verbatim}{fontsize=\\scriptsize}"
   ]
  },
  {
   "cell_type": "markdown",
   "metadata": {
    "slideshow": {
     "slide_type": "skip"
    }
   },
   "source": [
    "$\\newcommand{\\rads}{~rad.s$^{-1}$}$\n",
    "$\\newcommand{\\bnabla}{\\boldsymbol{\\nabla}}$\n",
    "$\\newcommand{\\eexp}[1]{\\textrm{e}^{#1}}$\n",
    "$\\newcommand{\\glm}[1]{\\overline{#1}^L}$\n",
    "$\\newcommand{\\di}[0]{\\textrm{d}}$\n",
    "$\\newcommand{\\bs}[1]{\\boldsymbol{#1}}$\n",
    "$\\newcommand{\\ode}[2]{\\frac{\\di {#1}}{\\di {#2}}}$\n",
    "$\\newcommand{\\oden}[3]{\\frac{\\di^{#1} {#2}}{\\di {#3}^{#1}}}$\n",
    "$\\newcommand{\\odel}[2]{\\di {#1}/\\di {#2}}$\n",
    "$\\newcommand{\\odeln}[3]{\\di^{#1} {#2}/\\di {#3}^{#1}}$\n",
    "$\\newcommand{\\pde}[2]{\\frac{\\partial {#1}}{\\partial {#2}}}$\n",
    "$\\newcommand{\\pden}[3]{\\frac{\\partial^{#1} {#2}}{\\partial {#3}^{#1}}}$\n",
    "$\\newcommand{\\pdel}[2]{\\partial_{#2} {#1}}$\n",
    "$\\newcommand{\\pdenl}[3]{\\partial^{#1}_{#3} {#2}}$\n",
    "$\\newcommand{\\mde}[1]{\\frac{\\textrm{D} {#1}}{\\textrm{D} t}}$\n",
    "$\\newcommand{\\mdel}[1]{\\textrm{D}_t {#1}}$\n",
    "$\\newcommand{\\divr}[1]{\\vec\\nabla \\cdot {#1}}$\n",
    "$\\newcommand{\\divrb}[1]{\\boldsymbol{\\nabla} \\cdot {#1}}$\n",
    "$\\newcommand{\\grad}[1]{\\vec \\nabla {#1}}$\n",
    "$\\newcommand{\\gradb}[1]{\\boldsymbol\\nabla {#1}}$\n",
    "$\\newcommand{\\curl}[1]{\\vec\\nabla \\times {#1}}$\n",
    "$\\newcommand{\\curlb}[1]{\\boldsymbol{\\nabla}\\times\\boldsymbol{#1}}$\n",
    "$\\newcommand{\\lapl}[0]{\\vec\\nabla^2}$\n",
    "$\\newcommand{\\laplb}[0]{\\boldsymbol{\\nabla}^2}$\n",
    "$\\newcommand{\\cplxi}[0]{\\mathrm i}$\n",
    "$\\newcommand{\\unit}[1]{\\mathbf{\\hat{#1}}}$\n",
    "$\\newcommand{\\thrfor}[0]{\\quad\\Rightarrow\\quad}$\n",
    "$\\newcommand{\\andeq}[0]{\\quad\\textrm{and}\\quad}$\n",
    "$\\newcommand{\\oreq}[0]{\\quad\\textrm{or}\\quad}$\n",
    "$\\newcommand{\\red}[1]{\\textcolor{red}{#1}}$\n",
    "$\\newcommand{\\blue}[1]{\\textcolor{blue}{#1}}$\n",
    "$\\newcommand{\\mage}[1]{\\textcolor{magenta}{#1}}$\n",
    "$\\newcommand{\\stirling}[2]{\\genfrac{[}{]}{0pt}{}{#1}{#2}}$"
   ]
  },
  {
   "cell_type": "markdown",
   "metadata": {
    "slideshow": {
     "slide_type": "skip"
    }
   },
   "source": [
    "[*Book: varies from section to section.*]"
   ]
  },
  {
   "cell_type": "markdown",
   "metadata": {
    "slideshow": {
     "slide_type": "skip"
    }
   },
   "source": [
    "# Introduction"
   ]
  },
  {
   "cell_type": "markdown",
   "metadata": {
    "slideshow": {
     "slide_type": "skip"
    }
   },
   "source": [
    "It is difficult to define what a wave is, but it is easy to recognise one.\n",
    "Perhaps the most general definition of a linear wave is that it is a travelling disturbance, although one by which no mass travels on average (though it can transport other quantities such as energy or momentum), and which obeys a linear dispersion law (to be defined in this chapter).\n",
    "\n",
    "For example, sound waves are pressure fluctuations that travel, though the medium itself does not on average, and in the air or water, their dispersion relation is $\\lambda = cT$, with \n",
    "* $\\lambda$ is the wavelength of the waves, e.g., the distance between two high- or low-pressure regions,\n",
    "* $T$ the period of the waves, i.e., the duration between two instants when the pressure is maximum or mimimum,\n",
    "* $c = \\sqrt{\\partial_{\\rho}P|_S}$, read \"square root of the partial derivative of thermodynamic pressure $P$ with respect to mass density $\\rho$ at constant entropy $S$\". \n",
    "    This is the speed of the wave. \n",
    "\n",
    "At the microscopic level, molecules of a fluid \"bump\" into each other, but return to their original position on average.\n",
    "The restoring force is simply provided by return of momentum to sender at shock, and damping can happen if the shocks are not completely elastic.\n",
    "The position of a molecule can therefore be very crudely modelled as a SHO or DHO.\n",
    "In a solid, it is the displacement of the atoms around their preferred rest position when the wave travels that in turn displaces neighbouring atoms, etc.\n",
    "On average however, the atoms themselves do not travel.\n",
    "I could multiply the examples: swell, waves in a pond, seismic waves, electromagnetic waves, gravitational waves, my very own oceanic internal inertia-gravity waves, stadium waves, and of course the quantum waves that Profs. Sinervo and Netterfield will talk about in the rest of PHY293 and 294.\n",
    "    \n",
    "The expression $\\lambda = cT$ was not specific to acoustic waves, and was actually generic to any kind of linear wave.\n",
    "Physics only entered the problem when I defined what $c$ was.\n",
    "In this chapter, as in all others in my 1/2 of the course, we will not worry too much about the physics, but rather, we will look at standard mathematical techniques to solve generic wave problems."
   ]
  },
  {
   "cell_type": "markdown",
   "metadata": {
    "slideshow": {
     "slide_type": "skip"
    }
   },
   "source": [
    "Waves travel in a continuum.\n",
    "Sometimes the continuum is an approximation of a discrete medium, like a gas of molecules or a crystal being approximated as a smooth, \"grainless\" medium, or like a super long chain of masses attached by springs.\n",
    "And sometimes, the medium is actually a continuum.\n",
    "For example, the ultimate continuum is vacuum, which can support the propagation of EM waves."
   ]
  },
  {
   "cell_type": "markdown",
   "metadata": {
    "slideshow": {
     "slide_type": "skip"
    }
   },
   "source": [
    "A continuum can therefore be modeled as an infinite number of oscillators, coupled together.\n",
    "Based on the results of the previous chapters, an infinite number of modes of oscillations can arise.\n",
    "As in the previous chapter, a given mode will be characterized by a certain number of nodes and antinodes.\n",
    "If the boundaries are constrained enough that they force the creation of nodes (like our coupled masses attached to walls or strings on a guitar) or antinodes (like when one blows in a flute, or water waves against a vertical wall), the waves are called \"standing waves\".\n",
    "Their formalism is very close to the types of eigenvalue problems we encountered in the previous chapter, which we describe, right after a series of introductory videos."
   ]
  },
  {
   "cell_type": "markdown",
   "metadata": {},
   "source": [
    "First off, let me remind you of how I ended last lecture: if you add a lot of coupled oscillators, the motion looks continuous from afar (see below on Jupyter; also at https://youtu.be/Ki70ShYFtmA  and https://play.library.utoronto.ca/c4febe4cb2b4b0e8ee5641ffa524b24f)."
   ]
  },
  {
   "cell_type": "code",
   "execution_count": 1,
   "metadata": {},
   "outputs": [
    {
     "data": {
      "image/jpeg": "[encoded data removed]",
      "text/html": [
       "\n",
       "        <iframe\n",
       "            width=\"560\"\n",
       "            height=\"315\"\n",
       "            src=\"https://www.youtube.com/embed/Ki70ShYFtmA\"\n",
       "            frameborder=\"0\"\n",
       "            allowfullscreen\n",
       "        ></iframe>\n",
       "        "
      ],
      "text/plain": [
       "<IPython.lib.display.YouTubeVideo at 0x7fb78be33460>"
      ]
     },
     "execution_count": 1,
     "metadata": {},
     "output_type": "execute_result"
    }
   ],
   "source": [
    "from IPython.display import HTML, YouTubeVideo\n",
    "YouTubeVideo('Ki70ShYFtmA', width=560, height=315)"
   ]
  },
  {
   "cell_type": "markdown",
   "metadata": {},
   "source": [
    "Second, we will transition from a formalism that involves linear algebra and eigenmodes to one that involves continuous functions.\n",
    "You may find the wave formalism easier than the linear algebra one, but that is an illusion: the linear algrebra one is arguably simpler, *everything else being equal*. \n",
    "Because it was so simple, I was able to talk about complicated situations (oscillators with different masses, etc.). \n",
    "Here, with waves, I will stick to the most basic case, i.e., a string with a uniform mass density. \n",
    "If I were to study a string that was heavier on some parts (like a whip that gets thinner away from the handle, or a knotted string), then I would need to pull out a mathematical arsenal that would make eigenvalue problems sound like a joke: things like Wentzel-Kramers-Brillouin or Sturm-Liouville theories, asymptotic expansions, and so on.\n",
    "We would be looking for \"eigenfunctions\" (instead of eigenvectors) of \"linear operators\" (instead of linear tranformations), based on orthogonality properties defined by \"inner products\" (instead of dot products). \n",
    "If (and only if) you want more info about the connection between linear algebra and the mode calculations I am about to do, see the nice video below (Jupyter; also at https://youtu.be/TgKwz5Ikpc8, in particular, you will notice that I paraphrased the author at around 11:00)."
   ]
  },
  {
   "cell_type": "code",
   "execution_count": 2,
   "metadata": {
    "scrolled": true
   },
   "outputs": [
    {
     "data": {
      "image/jpeg": "[encoded data removed]",
      "text/html": [
       "\n",
       "        <iframe\n",
       "            width=\"560\"\n",
       "            height=\"315\"\n",
       "            src=\"https://www.youtube.com/embed/TgKwz5Ikpc8\"\n",
       "            frameborder=\"0\"\n",
       "            allowfullscreen\n",
       "        ></iframe>\n",
       "        "
      ],
      "text/plain": [
       "<IPython.lib.display.YouTubeVideo at 0x7fb78be5abb0>"
      ]
     },
     "execution_count": 2,
     "metadata": {},
     "output_type": "execute_result"
    }
   ],
   "source": [
    "YouTubeVideo('TgKwz5Ikpc8', width=560, height=315)"
   ]
  },
  {
   "cell_type": "markdown",
   "metadata": {},
   "source": [
    "In the previous chapter, I resorted to linear algebra because I wanted to tackle complicated cases (and also frankly because I am mandated by your EngSci lords and masters to do so).\n",
    "Here, I will stick to a uniform string, meaning that I will be able to bring the heat (comparatively) down to a simmer when it comes to mathematical derivations.\n",
    "In particular, I will use a method called \"separation of variables\".\n",
    "This method is as elementary to wave theory as the variable change $q_{1, 2} = x_1 \\pm x_2$ was to linear algebra.\n",
    "That being said, our focus of study is increasing in complexity, and you will want to brush up on properties of the sine and cosine functions, which I recall here:\n",
    "* https://play.library.utoronto.ca/b21e1232316da46813dcdd934a7d2e9e\n",
    "* https://play.library.utoronto.ca/72a731352751b768a77fbcc61e0bc26c\n",
    "* https://play.library.utoronto.ca/9c234e8a3716da640f253807a8973a28\n"
   ]
  },
  {
   "cell_type": "markdown",
   "metadata": {},
   "source": [
    "And finally, here is our go-to set-up: the wave on a string. I recorded three demos, shown below and also at\n",
    "* https://youtu.be/bcIeaNoB880 and https://play.library.utoronto.ca/1b369519194f7f25a371f977467e023d\n",
    "* https://youtu.be/DL47_MbRPmc and https://play.library.utoronto.ca/0813eb54d3f1db4a9c7ce2274c9ed8cd\n",
    "* https://youtu.be/_am6ogAuSjc and https://play.library.utoronto.ca/9553f6a2c1dea0c96f41ed9347fa1fbe"
   ]
  },
  {
   "cell_type": "code",
   "execution_count": 3,
   "metadata": {
    "scrolled": true
   },
   "outputs": [
    {
     "data": {
      "image/jpeg": "[encoded data removed]",
      "text/html": [
       "\n",
       "        <iframe\n",
       "            width=\"560\"\n",
       "            height=\"315\"\n",
       "            src=\"https://www.youtube.com/embed/bcIeaNoB880\"\n",
       "            frameborder=\"0\"\n",
       "            allowfullscreen\n",
       "        ></iframe>\n",
       "        "
      ],
      "text/plain": [
       "<IPython.lib.display.YouTubeVideo at 0x7fb78be33d60>"
      ]
     },
     "execution_count": 3,
     "metadata": {},
     "output_type": "execute_result"
    }
   ],
   "source": [
    "YouTubeVideo('bcIeaNoB880', width=560, height=315)"
   ]
  },
  {
   "cell_type": "code",
   "execution_count": 4,
   "metadata": {},
   "outputs": [
    {
     "data": {
      "image/jpeg": "[encoded data removed]",
      "text/html": [
       "\n",
       "        <iframe\n",
       "            width=\"560\"\n",
       "            height=\"315\"\n",
       "            src=\"https://www.youtube.com/embed/DL47_MbRPmc\"\n",
       "            frameborder=\"0\"\n",
       "            allowfullscreen\n",
       "        ></iframe>\n",
       "        "
      ],
      "text/plain": [
       "<IPython.lib.display.YouTubeVideo at 0x7fb78be334c0>"
      ]
     },
     "execution_count": 4,
     "metadata": {},
     "output_type": "execute_result"
    }
   ],
   "source": [
    "YouTubeVideo('DL47_MbRPmc', width=560, height=315)"
   ]
  },
  {
   "cell_type": "code",
   "execution_count": 5,
   "metadata": {},
   "outputs": [
    {
     "data": {
      "image/jpeg": "[encoded data removed]",
      "text/html": [
       "\n",
       "        <iframe\n",
       "            width=\"560\"\n",
       "            height=\"315\"\n",
       "            src=\"https://www.youtube.com/embed/_am6ogAuSjc\"\n",
       "            frameborder=\"0\"\n",
       "            allowfullscreen\n",
       "        ></iframe>\n",
       "        "
      ],
      "text/plain": [
       "<IPython.lib.display.YouTubeVideo at 0x7fb78be5ad60>"
      ]
     },
     "execution_count": 5,
     "metadata": {},
     "output_type": "execute_result"
    }
   ],
   "source": [
    "YouTubeVideo('_am6ogAuSjc', width=560, height=315)"
   ]
  },
  {
   "cell_type": "markdown",
   "metadata": {
    "slideshow": {
     "slide_type": "skip"
    }
   },
   "source": [
    "# Expectations"
   ]
  },
  {
   "cell_type": "markdown",
   "metadata": {
    "slideshow": {
     "slide_type": "slide"
    }
   },
   "source": [
    "## Remember\n",
    "\n",
    "* **The wave equation!!!**\n",
    "* What the phase speed is.\n",
    "* What the method of separation of variables is.\n",
    "* The expression of the phase speed for a taut string (useful during tests).\n",
    "* The meaning and definitions of the wavenumbers $k_n$, angular frequencies $\\omega_n$ and wavelengths $\\lambda_n$.\n",
    "* The orthogonality relations for sines and cosines.\n",
    "* The energy of any solution is the sum of the energies of each single mode."
   ]
  },
  {
   "cell_type": "markdown",
   "metadata": {
    "slideshow": {
     "slide_type": "-"
    }
   },
   "source": [
    "## Understand\n",
    "\n",
    "* Why standing wave modes are orthogonal normal modes of the vibrating taut string.\n",
    "* How and why standing wave modes behave like simple harmonic oscillators.\n",
    "* How boundary conditions make the set of possible $k_n$ discrete (countably infinite)."
   ]
  },
  {
   "cell_type": "markdown",
   "metadata": {
    "slideshow": {
     "slide_type": "-"
    }
   },
   "source": [
    "## Apply\n",
    "\n",
    "* Apply boundary conditions to standing wave modes.\n",
    "* Anything that appears in the worked examples, tutorials and problem sets."
   ]
  },
  {
   "cell_type": "markdown",
   "metadata": {
    "slideshow": {
     "slide_type": "skip"
    }
   },
   "source": [
    "# The Taut String"
   ]
  },
  {
   "cell_type": "markdown",
   "metadata": {
    "slideshow": {
     "slide_type": "skip"
    }
   },
   "source": [
    "Following the spirit of this lecture series, we are only interested in the equations themselves, not the physical coefficients. \n",
    "This is because the linear equations are generic, while the coefficients will better be derived in specialized courses.\n",
    "Therefore, we choose a propagation medium, that is as simple as we can: the taut string[^1].\n",
    "Because it is taut, shaking does not induce large displacements of the string, nor does it induce large slopes of the string.\n",
    "That is, $\\tan\\theta = \\odel{y}x \\ll 1$, where $x$ is the along-string direction and $y$ is the across-string direction (cf. fig. 5.8 of King, reproduced here; we assume that the string vibrations only happen in a plane, which means that we do not need a third dimension to describe it; adding a third dimension would be meaningful if we were interested in the Physics, while we only care about the general behaviour of the equation).\n",
    "\n",
    "[^1]: I had to look it up, other non-native English speakers might want to know that according to dictionary.com, it means tightly drawn; tense; not slack."
   ]
  },
  {
   "cell_type": "markdown",
   "metadata": {
    "slideshow": {
     "slide_type": "skip"
    }
   },
   "source": [
    "The smallness of the parameter means that the oscillations of a piece of string are linear.\n",
    "A restoring force brings the string back to the main axis, and each piece of string can be described as a simple or damped harmonic oscillator, coupled to its neighbours to the left and right.\n",
    "Because the piece of spring can be arbitrarily small, the number of coupled oscillators is infinite.\n",
    "Therefore, we have all the ingredients to study the wave equation."
   ]
  },
  {
   "cell_type": "markdown",
   "metadata": {
    "slideshow": {
     "slide_type": "slide"
    }
   },
   "source": [
    "![Fig. 1: King 5.8](String.png)"
   ]
  },
  {
   "cell_type": "markdown",
   "metadata": {
    "slideshow": {
     "slide_type": "slide"
    }
   },
   "source": [
    "# The Wave Equation"
   ]
  },
  {
   "cell_type": "markdown",
   "metadata": {
    "slideshow": {
     "slide_type": "skip"
    }
   },
   "source": [
    "[*Book: §§ 5.1, 5.3*]"
   ]
  },
  {
   "cell_type": "markdown",
   "metadata": {
    "slideshow": {
     "slide_type": "skip"
    }
   },
   "source": [
    "Let's break down the string into infinitesimally small slices, and let's consider in particular a piece of string that is located between $x_0$ and $x_0 + \\delta x$ (see fig. 1).\n",
    "The transverse displacements are along the $y$-axis, and we identify them as $y(x, t)$.\n",
    "The string has pass per unit length $\\mu$ (in kg/m), and is submitted to a tension $T$ (in N), which we treat as constant along the string.\n",
    "At the ends of the tiny slice, the string makes an angle $\\theta$ with the $x$-axis at $x_0$, and $\\theta + \\delta \\theta$ at $x_0+\\delta x$ (again, see fig. 1).\n",
    "\n",
    "Let's do the Newton, $m\\vec a = \\sum \\vec F$, on that piece of string ($m = \\mu \\delta x$).\n",
    "Actually, we are only interested in the transverse phenomena, i.e., $m\\ddot y = \\sum F_y$.\n",
    "\n",
    "Therefore, let's consider the $y$-component of the tension, because it is the one that restores the position of the string to its resting, along-$x$ situation.\n",
    "At $x=x_0$, the $y$-component of the tension is \n",
    "$$\\left.F_y\\right|_{x_0} = -T\\sin\\theta \\approx -T\\theta \\approx -T\\tan\\theta = -T\\left.\\pde{y}x\\right|_{x_0}.$$\n",
    "The minus sign is because if $\\theta > 0$, the force pulls in the negative direction (see fig. 1).\n",
    "The successive approximations I made above work well in the small-displacements regime.\n",
    "The regime corresponds to the **linear regime** of this physical system, which is the only one we study in this course.\n",
    "\n",
    "Similarly, at $x=x_0 + \\delta x$,\n",
    "$$\\left.F_y\\right|_{x_0+\\delta x} \\approx T\\left.\\pde{y}x\\right|_{x_0+\\delta x}.$$\n",
    "Note the positive sign this time, because the situation is opposite as before.\n",
    "\n",
    "The slice is infinitesimally small, and we have no reason to believe that a discontinuity exists between $x_0$ and $x_0 + \\delta x$ (if there is one, then we just pick a smaller $\\delta x$).\n",
    "For these reasons, we can Taylor-expand $\\left.F_y\\right|_{x_0+\\delta x}$ into\n",
    "$$ \\left.F_y\\right|_{x_0+\\delta x} \\approx T \\left(\\left. \\pde{y}x \\right|_{x_0} + \\delta x \\left. \\pde{}x\\pde{y}x \\right|_{x_0} \\right) = -\\left.F_y\\right|_{x_0} + \\delta x \\, T \\left. \\pden2{y}x \\right|_{x_0}.$$\n",
    "\n",
    "Neglecting all other forces like gravity, Newton then tells you that\n",
    "$$ \\mu \\delta x \\pden2yt = \\left.F_y\\right|_{x_0} + \\left.F_y\\right|_{x_0 + \\delta} \\approx \\delta x \\, T \\left. \\pden2{y}x \\right|_{x_0}.$$"
   ]
  },
  {
   "cell_type": "markdown",
   "metadata": {
    "slideshow": {
     "slide_type": "-"
    }
   },
   "source": [
    "Dividing by the mass and introducing $v^2 = T/\\mu$, we find\n",
    "$$ \\boxed{\\pden2yt = v^2\\pden2yx}.\\hspace{5cm} (1)$$"
   ]
  },
  {
   "cell_type": "markdown",
   "metadata": {
    "slideshow": {
     "slide_type": "skip"
    }
   },
   "source": [
    "Again, $y(x,t)$ is the distance from axis at location $x$ and time $t$, and $v$ is the so-called *phase speed* of the waves.\n",
    "It is the speed at which the disturbance propagates along the string, and we treat it as a constant.\n",
    "This is a vague definition at this point, because we don't have all the tools necessary to understand the subtleties of propagation speed.\n",
    "But basically, imagine launching a wave pulse on a long rope (cf. King fig. 5.1, reproduced here), and imagine that somehow, the motion of your hand described a so-called \"Gaussian function\" $y(t) = A\\exp[-(t-t_0)^2/\\sigma_t^2]$.\n",
    "This function means that your hand motion went from 0 at $t \\ll t_0$ to $A$ at $t=t_0$ and back to 0 for $t \\to \\infty$, and that the motion typically lasted a duration of $2\\sigma_t$.\n",
    "This function look like a bell curve and is one of the most frequently encountered functions in physics."
   ]
  },
  {
   "cell_type": "markdown",
   "metadata": {
    "slideshow": {
     "slide_type": "subslide"
    }
   },
   "source": [
    "![King 5.1](RopePulse.png)"
   ]
  },
  {
   "cell_type": "markdown",
   "metadata": {
    "slideshow": {
     "slide_type": "skip"
    }
   },
   "source": [
    "Assuming that the waves on the rope are not too dispersive, i.e., the pulse retains it shape (we will see later what this means more precisely), then the shape of the pulse on the rope will be\n",
    "$$ y(x, t) = A \\exp\\left[-\\left(\\frac{x - vt}{\\sigma_x}\\right)^2\\right] = A \\exp\\left[-\\left(\\frac{t - x/v}{\\sigma_t}\\right)^2\\right],$$\n",
    "i.e, it will look like a Gaussian function in space, propagating with a speed $v$, with a typical spatial width of $2\\sigma_x = 2v\\sigma_t$, but also in time, with a typical temporal width $2\\sigma_t$."
   ]
  },
  {
   "cell_type": "code",
   "execution_count": 6,
   "metadata": {
    "slideshow": {
     "slide_type": "skip"
    }
   },
   "outputs": [],
   "source": [
    "# We can plot this\n",
    "import numpy as np\n",
    "import matplotlib.pyplot as plt\n",
    "\n",
    "x = np.linspace(-1., 5.0, 1024)  # a 4-m long rope\n",
    "sigma_x = 0.5  # typical width of pulse\n",
    "A = 1.  # amplitude of diplacement 1 m (just for illustration purposes)\n",
    "v = 1.  # propagation velocity 1 m/s (for illustration purposes)\n",
    "t0 = 0.  # time of first snapshot\n",
    "t1 = 2.  # time of second snapshot\n",
    "ftsz = 13  # the font size\n",
    "\n",
    "y_t0 = A*np.exp(-((x - v*t0)/sigma_x)**2)\n",
    "y_t1 = A*np.exp(-((x - v*t1)/sigma_x)**2)\n",
    "\n",
    "plt.figure()\n",
    "ax = plt.gca()\n",
    "ax.plot(x, y_t0, 'b', label='pulse at $t=t_0$')\n",
    "ax.plot(x, y_t1, 'r--', label='pulse at $t=t_0+\\Delta t$')\n",
    "ax.set_xlabel('$x$ [m]', fontsize=ftsz)\n",
    "ax.set_ylabel('$y/A$', fontsize=ftsz)\n",
    "ax.grid()\n",
    "\n",
    "# annotation to highlight the spatial width of pulse\n",
    "ax.plot(2*[-sigma_x], [0.5/np.exp(1), 1.3/np.exp(1)], 'k')\n",
    "ax.plot(2*[sigma_x], [0.5/np.exp(1), 1.3/np.exp(1)], 'k')\n",
    "ax.annotate(s='', xy=(-sigma_x, .3), xytext=(sigma_x, 0.3),\n",
    "            arrowprops=dict(arrowstyle='<|-|>'))  # the double arrow\n",
    "ax.text(0., 0.3, r'$2\\sigma_x$',\n",
    "        verticalalignment='center', horizontalalignment='center',\n",
    "        backgroundcolor='w', fontsize=ftsz)\n",
    "\n",
    "# annotation to highlight the distance travelled during Delta t\n",
    "ax.axvline(0., color='k', linestyle='--')\n",
    "ax.axvline(v*(t1-t0), color='k', linestyle='--')\n",
    "ax.annotate(s='', xy=(0., .8), xytext=(v*(t1-t0), 0.8),\n",
    "            arrowprops=dict(arrowstyle='<|-'))  # the double arrow\n",
    "ax.text(0.5*v*(t1-t0), 0.8, r'$v\\Delta t$',\n",
    "        verticalalignment='center', horizontalalignment='center',\n",
    "        backgroundcolor='w', fontsize=ftsz)\n",
    "\n",
    "plt.legend(loc='center right')\n",
    "plt.autoscale(enable=True, axis='x', tight=True)\n",
    "plt.savefig('TranslatingPulse.png', dpi=100)\n",
    "plt.close()"
   ]
  },
  {
   "cell_type": "markdown",
   "metadata": {
    "slideshow": {
     "slide_type": "subslide"
    }
   },
   "source": [
    "![Fig. 2: translating pulse](TranslatingPulse.png)"
   ]
  },
  {
   "cell_type": "markdown",
   "metadata": {
    "slideshow": {
     "slide_type": "subslide"
    }
   },
   "source": [
    "While the wave equation has the same form in many contexts, the definition of $v$ varies from field to field.\n",
    "\n",
    "* EM waves in a vacuum: $v = c \\approx 3\\times 10^8$ m.s$^{-1}$;\n",
    "* water waves whose wavelength is much longer than the depth, like ocean swell or tsunamis, $v = \\sqrt{gh}$, with $g$ the gravitational acceleration [in m.s$^{-2}$] and $h$ the water depth [in m]. Onto the deep sea, where $h \\approx 5$ km, $v\\approx 220$ m.s$^{-1} \\approx$ 800 km.h$^{-1}$. This is faster than the speed of sound, but again, remember that waves don't carry water around. It is not that crazy. It means that a Tsunami originating in Japan will take 10 hours to arrive on Canada's West coast;\n",
    "* sound waves: $v = 340$ m.s$^{-1}$ in air; in water $\\sim 1,500$ m.s$^{-1}$;\n",
    "* seismic primary (or pressure) waves ($\\approx$ sound waves) in the Earth's Crust: $v\\approx 6-8$ km.s$^{-1}$,\n",
    "* seismic secondary (or shear) waves in the Earth's crust: $v\\approx 3-4$ km.s$^{-1}$,\n",
    "* ... and for our taut string, $v = \\sqrt{T/\\mu}$, with $T$ the along-axis tension force [in N] and $\\mu$ the mass per unit length of the string [in kg.m$^{-1}$]. For a violin E string (the skinniest I think), $T \\approx 68$ N, $\\mu \\approx 0.126$ g for $33$ cm long, or $3.8\\times 10^{-4}$ kg.m$^{-1}$, and $v \\approx 420$ m.s$^{-1}$."
   ]
  },
  {
   "cell_type": "markdown",
   "metadata": {
    "slideshow": {
     "slide_type": "subslide"
    }
   },
   "source": [
    "# Standing Waves\n",
    "\n",
    "[*Book: § 6.1*]"
   ]
  },
  {
   "cell_type": "markdown",
   "metadata": {
    "slideshow": {
     "slide_type": "skip"
    }
   },
   "source": [
    "## General expression"
   ]
  },
  {
   "cell_type": "markdown",
   "metadata": {
    "slideshow": {
     "slide_type": "skip"
    }
   },
   "source": [
    "We will talk about traveling waves in the next chapter.\n",
    "Right now, we focus on *standing waves*, traveling waves' evil twins.\n",
    "Both descriptions are interchangeable: standing waves can be described and the sum of two traveling waves, and traveling waves can be decomposed on a basis of standing waves, which are the equivalent of the normal modes of the previous chapter.\n",
    "More on this later, but for now, let's dive in."
   ]
  },
  {
   "cell_type": "markdown",
   "metadata": {
    "slideshow": {
     "slide_type": "skip"
    }
   },
   "source": [
    "The key step is to **assume a form of the solutions to the wave equation (1) in which the variables are separable**:\n",
    "$$ \\boxed{y(x, t) = f(x) h(t)}.$$"
   ]
  },
  {
   "cell_type": "markdown",
   "metadata": {
    "slideshow": {
     "slide_type": "skip"
    }
   },
   "source": [
    "*Note: another try, another mathematical trick. How could you come up with it? You don't have to. As a researcher, I can tell that it is one of the easiest and therefore first things to do when one doesn't know anything about the solution. For you, just remember that it works. But remember it well, because it is important!*"
   ]
  },
  {
   "cell_type": "markdown",
   "metadata": {
    "slideshow": {
     "slide_type": "skip"
    }
   },
   "source": [
    "Therefore,\n",
    "$$ \\pden2yt = f(x)\\oden2{h(t)}t = f(x)\\ddot h(t) \\andeq \\pden2yx = h(t)\\oden2{f(x)}x = h(t)f''(x), $$\n",
    "and the wave equation becomes\n",
    "$$  f(x)\\oden2{h(t)}t = v^2 h(t)\\oden2{f(x)}x. $$"
   ]
  },
  {
   "cell_type": "markdown",
   "metadata": {
    "slideshow": {
     "slide_type": "skip"
    }
   },
   "source": [
    "The usefulness of this form is not apparent until after division by $f(x)h(t)$, i.e.\n",
    "$$ \\frac{1}{h(t)}\\oden2{h(t)}t = v^2 \\frac{1}{f(x)}\\oden2{f(x)}x. $$"
   ]
  },
  {
   "cell_type": "markdown",
   "metadata": {
    "slideshow": {
     "slide_type": "skip"
    }
   },
   "source": [
    "Looking at the equation closely, one notices that the LHS only depends on $t$, while the RHS only depends on $x$ (recall that $v$ is constant).\n",
    "The only way for two functions that depend on two different variables to be equal to each other is for both of them to be equal to a constant, i.e.,\n",
    "$$ \\frac{1}{h(t)}\\oden2{h(t)}t = v^2 \\frac{1}{f(x)}\\oden2{f(x)}x = -\\omega^2. $$"
   ]
  },
  {
   "cell_type": "markdown",
   "metadata": {
    "slideshow": {
     "slide_type": "fragment"
    }
   },
   "source": [
    "Why $-\\omega^2$? Because, for example,\n",
    "$$ \\frac{1}{h(t)}\\oden2{h(t)}t = -\\omega^2 \\thrfor \\boxed{\\ddot h(t) + \\omega^2 h(t) = 0}. $$\n",
    "This is the **same equation as an SHO**, and the solution is still\n",
    "$$ h(t) = H\\cos(\\omega t + \\phi). $$"
   ]
  },
  {
   "cell_type": "markdown",
   "metadata": {
    "slideshow": {
     "slide_type": "subslide"
    }
   },
   "source": [
    "Likewise,\n",
    "$$ f(x) = F\\cos(kx + \\phi_f), \\quad \\textrm{with} \\quad k = \\omega/v. $$"
   ]
  },
  {
   "cell_type": "markdown",
   "metadata": {
    "slideshow": {
     "slide_type": "skip"
    }
   },
   "source": [
    "In this chapter however, it will be easier for us to write the expression above as\n",
    "$$ f(x) = A \\cos(kx) + B \\sin(kx). $$"
   ]
  },
  {
   "cell_type": "markdown",
   "metadata": {
    "slideshow": {
     "slide_type": "skip"
    }
   },
   "source": [
    "Can we write \n",
    "$$ y(x, t) = H \\cos(\\omega t + \\phi)\\left[ A \\cos(kx) + B \\sin(kx) \\right] $$\n",
    "yet?\n",
    "Not quite, because $\\omega$ and $k$ can take many values.\n",
    "As we are about to see, for a given set of boundary conditions, there is a discrete but infinite number of possible solutions for $f$ and $h$."
   ]
  },
  {
   "cell_type": "markdown",
   "metadata": {
    "slideshow": {
     "slide_type": "skip"
    }
   },
   "source": [
    "## Boundary conditions"
   ]
  },
  {
   "cell_type": "markdown",
   "metadata": {
    "slideshow": {
     "slide_type": "skip"
    }
   },
   "source": [
    "In this chapter, we will solely focus on a string that is attached at both ends.\n",
    "Let $x=L$ and $x=0$ be the locations of the walls.\n",
    "Mathematically, the statement translates into:\n",
    "$$ y(t, 0) = y(t, L) = 0 \\thrfor f(0) = f(L) = 0.$$"
   ]
  },
  {
   "cell_type": "markdown",
   "metadata": {
    "slideshow": {
     "slide_type": "skip"
    }
   },
   "source": [
    "$$ f(0) = A\\cos0 + B\\sin0 = A = 0. $$\n",
    "$$ \\thrfor f(L) = B\\sin(kL) = 0 \\thrfor kL = n\\pi, \\ n\\in \\mathbb N^*. $$\n",
    "$\\mathbb N^*$ means that zero is excluded.\n",
    "Indeed, because $k = \\omega/v$, $k=0\\Rightarrow\\omega = 0$, i.e., it is a trivial, non-oscillating solution.\n",
    "\n",
    "Strictly mathematically, I should actually write $n\\in \\mathbb Z^*$ instead.\n",
    "But $k<0$ means that $\\sin(kx) < 0$, and the result is the same if $B<0$ (which is weird) or $\\phi_h$ is augmented by $\\pi$ (which describes the same physical reality).\n",
    "Therefore, I will use $n \\in \\mathbb N^*$."
   ]
  },
  {
   "cell_type": "markdown",
   "metadata": {
    "slideshow": {
     "slide_type": "subslide"
    }
   },
   "source": [
    "Consequently, an infinite number of $k$'s can satisfy the wave equation when both ends are attached:\n",
    "$$ \\boxed{k_n = \\frac{n\\pi}L, \\quad n\\in \\mathbb N^*}. $$"
   ]
  },
  {
   "cell_type": "markdown",
   "metadata": {},
   "source": [
    "Recall that $k = \\omega/v$, therefore, the set of frequencies is also a countably infinite set:\n",
    "$$ \\boxed{\\omega_n = \\frac{n\\pi v}L, \\quad n\\in \\mathbb N^*}. $$"
   ]
  },
  {
   "cell_type": "markdown",
   "metadata": {
    "slideshow": {
     "slide_type": "skip"
    }
   },
   "source": [
    "***\n",
    "\n",
    "*End of 6 October lecture, beginning of 7 October lecture.*\n",
    "\n",
    "***"
   ]
  },
  {
   "cell_type": "markdown",
   "metadata": {
    "slideshow": {
     "slide_type": "skip"
    }
   },
   "source": [
    "The corresponding solution for a given $n$ is therefore\n",
    "$$ y_n(t, x) = C_n \\cos(\\omega_n t + \\phi_n)\\sin(k_n x). $$\n",
    "Such a partial solution is a **mode of vibration** of the string.\n",
    "It is of course the equivalent of the normal modes of the coupled systems of oscillators we saw in the last chapter.\n",
    "There is now an infinite number of them, because the string is a continuous system that can be viewed as an infinite number of coupled oscillators."
   ]
  },
  {
   "cell_type": "markdown",
   "metadata": {
    "slideshow": {
     "slide_type": "subslide"
    }
   },
   "source": [
    "Like in the previous chapter, any solution can be written as a linear combination of a countably infinite set of **modes**, i.e.,\n",
    "$$ \\boxed{y(t, x) = \\sum_{n = 1}^{\\infty} C_n \\cos(\\omega_n t + \\phi_n)\\sin(k_n x)}. \\hspace{5cm} (2)$$"
   ]
  },
  {
   "cell_type": "code",
   "execution_count": 7,
   "metadata": {
    "slideshow": {
     "slide_type": "skip"
    }
   },
   "outputs": [],
   "source": [
    "# the following two packages allow me to display the animation\n",
    "from matplotlib import animation\n",
    "# More about animations: \n",
    "# https://stackoverflow.com/questions/43445103/inline-animations-in-jupyter\n",
    "# http://louistiao.me/posts/notebooks/embedding-matplotlib-animations-in-jupyter-notebooks/"
   ]
  },
  {
   "cell_type": "code",
   "execution_count": 8,
   "metadata": {
    "slideshow": {
     "slide_type": "skip"
    }
   },
   "outputs": [],
   "source": [
    "N = 4  # number of modes I want to display\n",
    "L = .33  # length of string: 33 cm\n",
    "T = 68  # tension in the string: 68 N\n",
    "mu = 0.125/L  # mass per unit lenght of the string\n",
    "\n",
    "x = np.linspace(0., L, 128)  # the x array\n",
    "v = np.sqrt(T/mu)  # phase speed\n",
    "k0 = np.pi/L  # the fundamental k; k_n = n*k0 and omega_n = n*v*k0\n",
    "\n",
    "k = [n*k0 for n in range(1, N+1)]  # the list of k's\n",
    "omega = [n*k0*v for n in range(1, N+1)]  # the list of k's\n",
    "C = [0.2+0.3/n for n in range(1, N+1)]  # I let the amplitude decrease with mode number, aribrarily\n",
    "f_modes = {}  # we will store the modes into a python structure called dictionary\n",
    "# f_modes only stores the spatial information\n",
    "for n in range(N):\n",
    "    f_modes[n] = np.sin(k[n]*x)"
   ]
  },
  {
   "cell_type": "code",
   "execution_count": 9,
   "metadata": {
    "slideshow": {
     "slide_type": "skip"
    }
   },
   "outputs": [],
   "source": [
    "# Various quantities\n",
    "t_end = 2.*np.pi/(omega[0]) # time array spans one fundamental frequency\n",
    "n_frames = 50  # number of frames for animation\n",
    "time = np.linspace(0., t_end, n_frames)  # time array\n",
    "\n",
    "imagelist = []  # list of frames to eventually animate\n",
    "\n",
    "# Animation\n",
    "fig = plt.figure()\n",
    "ax = plt.gca()\n",
    "ax.set_xlim([0., 1.])\n",
    "ax.set_ylim([0.5, N+0.5])\n",
    "ax.set_xlabel('$x/L$', fontsize=ftsz)\n",
    "ax.set_yticks(range(1, N+1))\n",
    "ax.set_ylabel('$y_n(t, x) + \\mathrm{ mode\\ number\\ } n$', fontsize=ftsz)\n",
    "ax.grid()\n",
    "\n",
    "x_positions = np.tile(x, (N, 1))/L  # replicate the x array N times\n",
    "y_modes = np.zeros((N, len(x)))  # nx positions for N modes\n",
    "first_iteration = True  # I will want to save the first picture for the pdf notes\n",
    "for t in time: # We loop over time to animate the modes\n",
    "    for n in range(N):\n",
    "        y_modes[n, :] = 1 + n + C[n]*f_modes[n]*np.cos(omega[n]*t)\n",
    "    im = plt.scatter(x_positions, y_modes, c=y_modes, cmap='copper')\n",
    "    imagelist.append([im])\n",
    "\n",
    "# Creation of the animation\n",
    "ani = animation.ArtistAnimation(fig, imagelist, interval=40, blit=True, repeat_delay=1000)\n",
    "plt.close()"
   ]
  },
  {
   "cell_type": "code",
   "execution_count": 10,
   "metadata": {
    "scrolled": true,
    "slideshow": {
     "slide_type": "subslide"
    }
   },
   "outputs": [
    {
     "data": {
      "text/html": [
       "<video width=\"432\" height=\"288\" controls autoplay loop>\n",
       "  <source type=\"video/mp4\" src=\"data:video/mp4;base64,AAAAIGZ0eXBNNFYgAAACAE00ViBpc29taXNvMmF2YzEAAAAIZnJlZQABGcptZGF0AAACrwYF//+r\n",
       "3EXpvebZSLeWLNgg2SPu73gyNjQgLSBjb3JlIDE2MCByMzAxMU0gY2RlOWE5MyAtIEguMjY0L01Q\n",
       "RUctNCBBVkMgY29kZWMgLSBDb3B5bGVmdCAyMDAzLTIwMjAgLSBodHRwOi8vd3d3LnZpZGVvbGFu\n",
       "Lm9yZy94MjY0Lmh0bWwgLSBvcHRpb25zOiBjYWJhYz0xIHJlZj0zIGRlYmxvY2s9MTowOjAgYW5h\n",
       "bHlzZT0weDM6MHgxMTMgbWU9aGV4IHN1Ym1lPTcgcHN5PTEgcHN5X3JkPTEuMDA6MC4wMCBtaXhl\n",
       "ZF9yZWY9MSBtZV9yYW5nZT0xNiBjaHJvbWFfbWU9MSB0cmVsbGlzPTEgOHg4ZGN0PTEgY3FtPTAg\n",
       "ZGVhZHpvbmU9MjEsMTEgZmFzdF9wc2tpcD0xIGNocm9tYV9xcF9vZmZzZXQ9LTIgdGhyZWFkcz05\n",
       "IGxvb2thaGVhZF90aHJlYWRzPTEgc2xpY2VkX3RocmVhZHM9MCBucj0wIGRlY2ltYXRlPTEgaW50\n",
       "ZXJsYWNlZD0wIGJsdXJheV9jb21wYXQ9MCBjb25zdHJhaW5lZF9pbnRyYT0wIGJmcmFtZXM9MyBi\n",
       "X3B5cmFtaWQ9MiBiX2FkYXB0PTEgYl9iaWFzPTAgZGlyZWN0PTEgd2VpZ2h0Yj0xIG9wZW5fZ29w\n",
       "PTAgd2VpZ2h0cD0yIGtleWludD0yNTAga2V5aW50X21pbj0yNSBzY2VuZWN1dD00MCBpbnRyYV9y\n",
       "ZWZyZXNoPTAgcmNfbG9va2FoZWFkPTQwIHJjPWNyZiBtYnRyZWU9MSBjcmY9MjMuMCBxY29tcD0w\n",
       "LjYwIHFwbWluPTAgcXBtYXg9NjkgcXBzdGVwPTQgaXBfcmF0aW89MS40MCBhcT0xOjEuMDAAgAAA\n",
       "GuZliIQAN//+9vD+BTY7mNCXEc3onTMfvxW4ujQ3vc4AAAMAADfc5kT+ypMG5sAAAujx+kffv+YB\n",
       "nT1Jy3yMyBTBrFnhRI4VF2sorB17Jk55i+LS1boazt1HWIh/kHxFVKqg0LBJmhx2lQjuvrPXmaPx\n",
       "F4zuyxnMfT7rMZ2PFREDUIOLPRbgq5V42tVSsyQPrBI9QOSLGmw6WJn/XKzvKBkOxZhAxliNj22y\n",
       "+unO9lCNDw1zQ1yF+huiBZT0qgWQS+K5MWVEvulOFJf72RIIlaVlYqh62f3vaP092jn2AWn/2OHO\n",
       "PPejyZQ+LT5fxJd31OoRpQYMnrR40XFpKvcI4TpqyfMUsRRSXHptAtQ60XXrQumEJsJ1yQASwibB\n",
       "xXMAhI8StJGMDiq4QNqLZlaxbATH1Dy9dEEaoHQjQLOEgPfP2RdptYbKEhHjfsMj6PowhMOC1Els\n",
       "jcO7TXwYLZRhM2U9if0xfQSlGdnofK9wmENvmaHdD5g+Tiov6Prap51thrO78G1W/hWZy7KFU7ec\n",
       "TYEIkJP2JMAGYuDkC1qn7L1YQqx6XVQt7whzaN4ZTj7KQk3UrPH8SmZzeRxvDuRVAVq89t5Q0NQj\n",
       "c0+XuVeRhBWc6U2XZG+bh0cNeQdd5uI7jWiWxfTF6t7rtUGMYXJmqlI/ZrZzOnYBRdwhqxuFwW49\n",
       "mnI28DVTyCpZIs2TjxfeM5w9MioXmL1+tA+/y0nDrC8K2nsAawz3mTJn+I24qbN/7NaHraonXmAw\n",
       "gQY0C1WEJxGLq2z+sU2Rc3qKseE1OqMqBIWv1ORyI38yPEKdPfq9s7qFMKYpeVhXshcqYnDJsXxf\n",
       "+12sADbYgEsTCxq7SZLXWNpJMybHa+EgOHCH7qwBw4ml6HJrsoD5+QZjbCoV6Y3vHxEIiY7XbltZ\n",
       "I4gc5m1KHgWFX8MI0hl0tlIn4rmOZ/YNwFTqUA1yS8i9dnoC7Gf8KIczUugCVjU7+JiSmNFRXf2T\n",
       "+07dUcgvZMKV4leO5CBxC/WS5AclqfqJOrikUXnlN7lJ27octH1spBJaDB1oMK7tWoz8sSjKiP5N\n",
       "yAnsxDAGrHm9cxtK6B29osuPiGgW0xgoMxDLcxTy22FrAJi9YuyLbT2U9/1aJioT1Trla3Vz0x8J\n",
       "BCyqeeUYWmqRvyszqpGnAcb6FxSiHNEdgEqhS0AyuW5qNOm+54AZw+W1Yv8O756+FjcasU+UjDEH\n",
       "UKVabTsY5EfDLUH4u+v+SQE58YpwJZ/EFoRrw+zy7QhY8UU/mscyLCU11XjQ+H/ApQo6onmqRd9g\n",
       "IZPCYhlXwwLoYeUqDoaqy0CYZmIzGQp/j+jSKh+gxXmky21IzrRQZa0dVhjFJq/gz1EiQYTdjg4C\n",
       "jaltEU/uC+tgEbAV/KRNM2g5r/hZT3biQttU99BwovEyk11NXEhSEDyAUB64apBKDA/pUKXtDyAn\n",
       "BwuaLtGF0QI0ELnqLdCvT2UWfKYKyz8Uo0+OgXhfsOv8RW+8uB7St0PYK1r5y7qovVcUFJsyOOIC\n",
       "r0h+/9t0BwWJpfu/Q/3DviYXnispHKqreSK5qY8yHalFW69RU0G8xrubUYXIUq0K2lslFn1+0gGu\n",
       "i4hQQYLR1PgtT+MmjCCizGW1UHeWSvw6fY4UVS0yqxCD/hwgB4xe1eed9DHlXY7P4HeP5hJ/WaYT\n",
       "vHdkauX79MsGIeyqL5cmri7LAOhQU19jQzBT2VprIElpRDtUEILhPrOSGmOtV1tm/3dXhPcFpgBH\n",
       "P6n1WvKlvbwHYIwQQLY/BY/7U7Ac00pCe8oUySNxkKwHzD7d6xhJmgBl28WmJ/VTVKXvS9m+fGng\n",
       "L0TtJmmTWdUupDD3V1zK9rWyr3q9gzm97mGrpYEaFfvHJKhlVOfRpHAhCz1Nnvy8Q/d0W0lziaoi\n",
       "ZU+rUHzNiinSDnA7VlZ2Rx6OUx/Geq3FMASuuXKSEoS147V5xZoey41MyIijw+4c6qmFRaQz7X//\n",
       "3E4mrxnFede3v4O1xZTnGYI/3+Mhk1FKrLA09GnDQU706pF9LjD/T/K4Occ3g/c1qAZLxA9+V4Ru\n",
       "k+kxmqDi4pmBYhW2JcHR+50PoxnGsu+Oaj6Oj2MOFxUBt61x4cUs80IY46uJywJeCSnpCFabkUAM\n",
       "reKnrFZjO9nGeF95xIso8wdt5CBKyIdQG5nzNcaYpy+NUaW5Jnt9SL8mR5h7XS+igFlX5zNNFAYj\n",
       "xfxe7P1ZitBGN7kDs3rQM3zhu3Nak+K51ioE3Ih8LdJ1FaEhWOoyHF9Ss1QDfHhgEYhbQSfwDuYT\n",
       "It3+StkG6TWTSIzt5caV/dM68J2qE1ODl0TUlgx9Sorp/bP8qHwFwZ0aCdTGdO0klwc8LXLOv7/9\n",
       "gHi60G2Wf2RL0TnpQmbMMsmGxdgMjO65odCxPOarJJDpLcZgFONceC3rpvY/fW8b52e4N3jlEbBd\n",
       "ffUVmJEKL/e3tRtvnPamNwJORWYRd58zPFgJQomIOhOh3Qi03f7fkFpPYS178cufI3I8ecP9sBAL\n",
       "Fx7Rs0Fzd7UP5lVYjXvOmDB1W3viH76sORDdRXoRPZ+oxWACKDgnaQMniD4BWJIgA33nbaqy+E+b\n",
       "5UeblEI/uReG9eVJ3KeCJ+KK2Btwp6rUVbdiY2xjWZR02dSLbfB/uSNRisLyMQFf/ciQ/FMxf9YU\n",
       "5L/3fJMFL1+xp9Hlx0BOglf6MKfXIxzwJ/v303kOoUYRHTUHNAZHj26bFGel/Nh8TDgEKNBB6rYC\n",
       "YGXaJkYHtgP7EAo8rbhMTE3I4N5mCIc23IB/rTxl2QkCVz2sKs2GxiQ8YX4MUGVun//AkBuJ08d0\n",
       "+YHmsloXjX+3ZT1JsSMNlCsWF2E2J0sWXnZK0Am64rjoWG4Qgc7CbQ6oqUCXafWIIdKCUCQn43Wc\n",
       "5FUOR1+ze8XYoP6Rdmje+imnGy7Qx2uLmXnek0kkO+pS2dIam7VqHNdLk3tx+bN+i861/GydjaAb\n",
       "NUSbCfbNjkJF/P6/axfhk6/0u8d0i87zYtPIxFOmiVQ/vpKyHQ9RtLKcLW+rfSIA2TXnDJMdDk97\n",
       "ZTJzZGBOcqxYz/obv9/ErfhLYnoThrFjFV7ZVbN3dEUiC7U42IH4jFWH+d1DUHv8IYAHd66fZ/k7\n",
       "4obYIYKIpE9dVeNnDdzxv7UYHWKwquiGPZFy980+gs2nKGdoy/YRI6YJ0Rnsvxw2j/7YcQLPQHre\n",
       "rNVufgd1VuV7rgbwskSYtblQuXHLtVUGLppXnZ2qG9l7onMcnZhhVxQi0Cg+PfekmP+CKbaEblk9\n",
       "e4noa5iRi7limWQ/kf0oXu9nu2hvzd7h04f4pzo1KSKHUh4oOqNAfzqoLrUEdhVPZ7522VVjHkY8\n",
       "iuMW17tdSvfy6gCkg1hxxKjzOmtbh0TlnicXf/wN5LHGQaO4ceUF8e0LHm7kzR3cAxzOgo1sD+2G\n",
       "EVQxMzOIB/1BkzxaaDpBMjNmv6yyvg3ZxsmPobbr2+i1K/HG+bzkjglWbEVMQW5xRQTwu1RHUDM0\n",
       "q0rmpOvD3TJY1b3JPSnfAglqJDHbxHaUn96K+bswUp1yc9oLaX7QheeODVhDkoyJgdZ34Iwf6Xma\n",
       "Z9H4H7qrWQk6nEkCR0KTREp/FM65/TkdBvZvPF2gpQ4pUHGtaTIkdbWbwkq5QoU6C1uA2MtNGfq/\n",
       "lVLnoj/U5bocNj/RuCztvaq9N1es9qVC/8Miv0e5vb1em4s7eeNveD/XCRR86sqrtyvb/rYBzjdg\n",
       "kV0j+SmgfiezUU1qsL1Smg4GgTO4i9XSFEKwgZBWjL9HZKFp3JD1jK3GmppTxdJ+qaiMr+hVWCmy\n",
       "JU4WYGsUX/qfJSRxKvruNB3/cWBDcG5zYNVRuOiFOQv3YkXh/QXm+wW0KXl2t5GWm7fLxcgEJuG8\n",
       "l9mg+cyFZ+C4k66RqDBITRtT4WKgdppph9eyD80xd0EwBHWQnOXiQR7t/wDBottMz2yPGXzmMIte\n",
       "POynNQsxttKp1fn6fmnsbT1XV4M7J2JZL65cE8bgCH/tySmxFvQxt/MxOP0deFOFsEiW6RToHgmR\n",
       "impkwJdmw1VmthACLRVGX56jaoG0WhALl7NP+UNQk85b+7u8tESqs/YCkvjkqiLmNtMIkGXsXaoP\n",
       "tKgbn0ZbWOGFBdkMFL9VLQlgweKfCD7FTk5BTRcMNnw2lS42WoyLeVQesSp5h2F/dyHwhaa2skeK\n",
       "BTaLjkB+6cmkh/W/dqjT5xOmHOM159y78SZEumcmJ/UfewEOh3vYNsgF53bvOO9fkdA+wlOQ/Y95\n",
       "obUYe11gypzmyaFsKkt3vKslVk15o9wbXU8IN5mtPs8UFJ8dGH41UGB1/a9A0XF40d/as6phYq+w\n",
       "20nxfjgDjgz+I30cte7sajNSsUbODq35W9oXsdL3w+vu8kjF3atcTjxwlsOEpZN5AXdeVXey+zeC\n",
       "9qLa7oImjRBlh5qOKVhl0cBHqrKUXlKcFjGosokyintE+mLD9s9quMSjJ/5JINfRxRnYQfOgbtXX\n",
       "keVjCbe+0VuoutdEUfQNkiGzGfGVM6AE071C/w0B0LtkYHY6GyvzJ5vvS1ZEDfEDO4IpvRT9nQSQ\n",
       "APxQ5Y/8QEI21tS96MHudebJAstNOzt6Ws7cfwPaqOEsGjHz6/v4pv2zXK0gWAU/rCDGKXZx+Y4b\n",
       "/bM/mfb9ZFxrd55MXowzTllITTQ/oPPwtLddWZ+AaXfpGdzmHVgTwCeHoRf8Cuw9vqV36lpkwf0S\n",
       "/dDyJA/l0eQkApR5h5Ry1OUrvFYlvvBpPAdOij6HJBqE+fbenWufokQORCgh5wYL8GO1sB7oDQ5h\n",
       "hIUsQB37DHSnboQ8rHmqAgAZI3u0gkbryOASrvXWynlgHcOWb5Vqr9UXaQr1VTb0d2vNw8nOAbdP\n",
       "fjFhTXAfi4j1hYpYQ5vGHe3Y0S1yzUQqMs/cLBurtah0yKcjxm/H2D2jdtqlOz0faoDbNnVWzCEX\n",
       "oi/L5KhRF9XzQvZjtybU+YtV85L597CIQL2m3JqutTDL6uKQFj3SofbVAh39aIXRkHSEC03/Dt1l\n",
       "DrdJy/qGNYdug/Uvgk4bY/W1JaX7y02JFZkWU71aGggUxXNbQGlofXyVWLaLGKunFhzizGtFVFag\n",
       "JVJ7O7cncTPoW4dZXYpFgBv+JI7lU3+6uixUS1aNbRaKeS+6DH/krAH651Hm4ZT+s170K6z91lYZ\n",
       "hqBDrBm2bg+9VxdBgx4mNlu9vEd2o7xUu81S7MNhaD6iwFM3BCBiTJiRxV6LSeij6x07KHW1PSHw\n",
       "rjzIFn0Mecsdr20/3/re9hGzWmfUwDnEdMfY13hP2GGawZYijrC2k1gdmcYzrFuRp9230t3bctuT\n",
       "n+KiKOi1/LECEQ4cuwNF3rf5P83hTx796mUHU37TdNrP6LX8/eHijJuui8jCNnkdwu4K9IeyiVfK\n",
       "esHQtFq/OEkuUfKcbmtNeynOQqBroxQI3ERDR9zSqmYRXrfgjNF3CEb0ir/FC4nyr6PygvwROe9L\n",
       "mM6fx467UgwyDudKWf9lyOS+v/ynkLeoRo4OEij7t491iMXK158VBQOAK3dw+Z09Tt7ZmYPgGAvq\n",
       "RrcEJ/2nJ9UxJNFrWazK1cSrE/M/eyQ6ymNwzp27tCSH+1pq8JdSTx2PNs+HJu93y0pUZ5zOih6X\n",
       "TGOk59/BqOrj1bskiBtN+ZMqNn5pixAZoWl5Q79qKOupWjOjG+Bn9OzS5WVbpkD/5sz+887N+m3P\n",
       "eDh0MkJfQKPDU8JNVRdXtyAkVYPeRB79CH8n8pWEqpGd/skgvI7RfN2caWbhRznQ+QsCOmOkHHp8\n",
       "zx7DeSBJCJfqZwm4xA8mbLUx7etoV+yMPMrGIwhhE+voFbGJexAxVjWa+1DkMQHewlPUsL7B+Ipf\n",
       "6i6wlz5x8mIf5X+1ev82Wvo7NEKbUKZo7VeK8MxEyk4Kw1/WXEPgcMvHNOLPRN8+HhRLL22UCoxj\n",
       "+PoLr7bPPTlZ8JoOqwBijLpi/XtIJ5KzBA74Q423sJd8c/8XoYYBQCpxH/IopkACW6RUyB7Nu/bf\n",
       "15LaHTr/0EFhTPKYWoOmLJ1eIZTV2u6LPaQ7AsNo6qVHA/Th0qsN+KKqERkSd6VJrsN4PHM6Dl1M\n",
       "SLyTaZTNGkn4TMpb5LumBHeu7FDlhd5+bHwSh1kIZiafbejWRngEXpuwKpCh68K35LraHfsIKHe4\n",
       "8K8Ouj0JDktonLh/WMJ9KfSTgmxkjhOf8bohWkHvG/GypQ8tQvdaCLiR/eylOAQRyURoqC6FS7WH\n",
       "xfz/2ksmQ+ix8DGRR2882zBFENUE8zp3xDZrcEzsFSpwYp1tGhKO9P/pFOIl9k0LOpvQ3qwtA3Om\n",
       "9+S8nJN4Ai5rl05kNl50GDERU6J3vS2s/Nf31RE6ubl3Kn8v4dhAOGzaP21VnJGCC9SH/NXFwu0H\n",
       "DfcT2fceEI/zY2RYFcSvWrsScQW/x5Szf1KctPgM5/T3//jjyqoleHBLBZSebPHhYxHLSfqqdq7X\n",
       "N6vdszJ0kDYGKlZYZyvlNHXhEnNfLllYCy5XFjIALu4IVJ3UQZlPNiTWVTfIKb2hY9wM53thgT+D\n",
       "flw7+HxIUr2kQWJZkCvq9D/FFx+CYve+RPN+AvwI3sTtJw042bIUtCivlxf5/PlGtHmfNzUzMQ77\n",
       "WabXRXRUIfj3AJnZUX93q2HkWXZXxfmRoALqo6V28v2AsLNC7mlLBQLO+2bkN3JE/r6Sihcc7dTS\n",
       "AGiWnGM2mmSEKAjNAZ6PczHFLfWPYxd7wFtqK5MtoS8CDLP9VIf3bsFnX4oqmAlXk2Usn8MWUOL5\n",
       "k8+ElF65TbL+BJbAW0yv+bD2DnCDPqtnN68B0JHBLMkaJ22GAM78NZBhNt5hejfPnjmTBzz9JxiT\n",
       "8pw1HO5FJEHb4ZcdjqnJ9hI9ePk/9qN9rB1zgZyEdXd7k7V1bEYQBHyLhYnU84kdz35z9ThA0m3b\n",
       "HAJSKEuZAlGlrFcK4jJtYV8/u+7kBCPPwrQT1TIZmPU0puExC4Z1JAnBnQPc0Uy8h4xUpwvyIkeI\n",
       "H0kIh9fLX1biwho85RdYLlg561Us8e7IkeCFygmjX8UQPegx81ywBTHJXI1UaE78an74gjZHqtLo\n",
       "8TDqenRIeYk9sDz1f//w0U3szaMsTsYZ03rYjsJluuxKzMzeSFyMN0qcyjl2R3WuHvg3WtABwj3/\n",
       "tovwrf/rHqEla2AUj8r+iYdPjVwX9LBjtNgoxgnUe3QayVYM6yTPFSvLYC4Uz6HcaJM7jGRvFDKT\n",
       "pxy7M/0REjc6DM7Bda/k70sEzCdZhjvz6YR1eGdzc9mB2So2a5UoT3Wks2/AU3JPgQC09SSlfZVc\n",
       "ks15/W51ELU3X4Xi2qjIzIvmeGejyp3tnSm1y4UVuNFm3u1Lug6/S+HHssi5jA7aRFwd+BbeKRzW\n",
       "JD1TyEe/aNAUpnjZdvopquQPdAYyNmPnTni+fBvjrKcEu9fgD4h3EZjuBMzQrgAktWIjzB2XVXeF\n",
       "ORFRMVa3gtcEMq6qyyxmrydAxtTPqHJFHHp3S0+32qeNCj+npBBJDoytY1Y+o+18LS7zo+abRNM6\n",
       "YafEMurXwzfTU2vZ0pFQAxIMm6rl5MdoYKZ8781bWXdHB+/RKn1eYoPRHmr/x6imtjhRQ18nCcCv\n",
       "0Mtyp9M+ltKQdCJYgcWM13PXPhK6UiqY/01shnFWKtdy5dzFRysFtdv9Qv2L+ED6tFWVb2M+RX5Q\n",
       "6S6La5Xlr9FWC49RcpHcmQRE5bkf7l2XGXoaxTykCJBmNgglFLypGzKnipyKEvpBfu83G/oXhalS\n",
       "J+Xlsjb8HSGSpmE+XTm8ihSrBN2UU+1lGXgy3aJx9mT5Drq9V321Q6vp+RPQetz9g+gMFF6cnlkg\n",
       "W2TmAnpx5jZ4Mpt0Dd4ThYIRdVPcH+o1p2Mcz7TiZeAfJVs/jGxDtXBVOVViYcH9qNt1P4YsGD+I\n",
       "eBUKAaqafnDQ8/5XMLGWt3C4PkFjfgc8DwInXQyxW9BEtBfHCaVrF3EyYpE3ycYCLeTPNIDcyL7K\n",
       "zI1KaayPfw3w0cByPHqV1Cud0fIYC3HgLGHD2WgGlNx8lMaYSvTNX1hsP34/ZsR4MKWbJuZqwDLK\n",
       "lE5ax2lGSl5Pzj+r1vFEksKUJfW66z0w6vrWuzmKae7JrSJr48L/Myp+h/znp0PBiRie3c/4gwjr\n",
       "ZZgY7wZ7MnpXC6rLRjnNF7QiR8np3xAmyo6vshTqz2/9YxEaX/2+OyLOKhCEH4hbATTWAGzvVCjN\n",
       "2ecWX8uo9Oca5YHh3GJ36KrZJIooIRJo6TcC8+3Ov3UsnpKj5mrlT9lQeSPjLRqGG8ZouqRrg5gi\n",
       "+lVBAtOuQG4qKM0TEflN30Hhp9ZouOjnO9MfnDc2wiwSIC2iBXPvhn5/ZswiTfqCduavmyIMRiHR\n",
       "rSnslpCq/Y4CpzQ7oTZyy6RrrrpKDheDGK3QUelpQS+hvpGLCdgoI/LIymvX0ft6/N7EWORPGYET\n",
       "0Z1juxBMVhPbgbhHl3L7n6dK29bPhRWKQ6qo+2JEpjUN8pkIIfF6/JF9CC5lEUI3dvSAGRd0Gc3L\n",
       "J6jbWC5yf8chilwAIGse6EsGaAnI2Zn9p0lt0oBqcbrOf1YWUSQA4EiUAUcspahHPZ72H43Ehi5M\n",
       "AbZp/JjBKvEZWpmENvhUz7lSaJ+pfJTYt0DMgQWHAzxEfO8600ikG+oOmFi8PeHHnUh+2xrtXjPY\n",
       "+o4zbM8u159uLRPeOdAW4eG1nYP8mrp751bAye7DxP9rg7x4t3JvX976S1u5PYsT1TjIxyUvGWNi\n",
       "cziYgic/h1mwp8j5g5xD7gzCHuB4ehogzPjeV0rquvCGEm2nTZ1xqUECWwIN0MVzfMuTavNbeEQ8\n",
       "TR8UxYOq7Ycxv/xfqzdKFn/DY9lyljuzCVOfb0WRRN7E7pulrxowiiLpguEnLpfwVu6t3GtrFYIM\n",
       "mOKCIpVdND7QMhwy8X3PgDYgruCIB4UnpCpEi17sgjMHB39nSnJGcv+asEOGcdMpl5d6Xp1Gfqg0\n",
       "loq+eCmsDOJ9T54L60c7JT2YAAAEEAOk46jrydn9xViGum76si1nk1jIDsccbvab8zUn55VtHd18\n",
       "ftjq/OL6G1IKbETo5cXMmtUqo1BLeKJo7AuY0qlnKNxCrVjBPETxEN6tXJsLi1EXYPaoCEP7ye+T\n",
       "t/mSd74j4uH0k+xxlQST2ynLg4qHjlu/9VZawyjZBXt6eSczJEc214d0Tc4OwBzxAAAI5UGaJGxD\n",
       "f/6nhAHx7U/xXrHmu6hhF/xVysAALDwTO3C/CnPrO7qNk1qbkix8NeCDYuo407mzYz9cc+AfDzH1\n",
       "Ya5T4jKYOyBxIZIPyDneQqDgZUWfj23yCgb4u8NV+jmFtCN34z5U3uMZXQRYissF6UWk+58Tw481\n",
       "XweJF0hb2x+YZQ4raBDitzmJOiKNGEO0n2LhCEA9r4fDRjJe+imB7afPUoJwKY2acywYGgOeSWHb\n",
       "rnrswalGeoDN8fu3PXk7opGDLkVzb65x5mVgAVhvQyGgyKSKxU74BMAzSixQ5EPvZ8YOmylWzdi+\n",
       "TGQMsdN84EATXQY4hbDw/k+PQSW9gzkOJ6gzVJvB3Fi28HB+tbKPcEuLm3/R/ONkSxCAF6dtbcT9\n",
       "b5RUQuQfv2aHG80mciH9xFrN/oWeAL6WFJUacpIK/742jwpgNlNf+PwQ5dIz4j4qT8Zo07/mweZt\n",
       "gEo0quJQY/NVYYWfwCeAC0jOqdK+OWie2sfYSQh/PgB1y2swuAcV9rBe7qpUE1XiiZJSqw2Ph/K7\n",
       "nf13BryaSJozKEMi5MwT3qu/XAJ1og2UuFPuRswcCiSdb3dBzfQk89z+QgJwrnh0UxNZoXuv5RA5\n",
       "U7rQpti3R35y9fgbKFGAC8cwhyNT2MfLxp6fTBq3Iw5IgOcHE9V1YuIVBMf9MT3WSeDSaqIkcWV8\n",
       "+0lUTUr2WQD+YdywDZRvmy3f7vl1Mtv+NVALK82MGJ4O7mzCOo+YX8nnW994MOd/icctHtHLcFW9\n",
       "mUGRoSRjmFyK6K5NNe73WPshYRsaxr6s1GNOGkLSh4wK0ooiHEw1khVLRNoOCKDjmHtDNFWK78Yo\n",
       "yaeo9oql47PvxuGN5v26Za1fgcLVyoPP35CtErPepEx7lmjvRXaAGh13eFNM3Hnay3cH2d83wB6N\n",
       "UGAy1FtqgSFaQ/YNjZR3wzVuYrpHPreEDOyUeo3wu1UtD5QwV0wJyQ9NMEPkHDADgOiiBVGMtKDH\n",
       "SuuwTFPKq/tfWhk3ciu6Bot5xPwQ9T3E+ex/j5c4mClNUON/8y5LdXZvMAmSBWlmIsOZITSliUYn\n",
       "JgGZvQsoDhi6LkIQBPa+FHw+xhSJm98VQMzhlueosPp2SGj04EDe9pXRp96O5+SdWI8xyiJm7hZL\n",
       "k/qX9NYj6LKcRD3YQTPw414qo8KuKWOIP8NvC+bezyEZVqom1ci+1HZPHE1Bct91cQEUNBmX9aaW\n",
       "TsJfsdIiuNq+jxW9gBLdsw5tpBzP6n9FlGZvmfddZXQDMVJIvCEP7AOJV1zHKWb2TWShhmXjk75m\n",
       "7waFuR6zNFu8BGGGVv/KuM9gdJ4fvoN9uZN0340ikOP/AHOIoB6Es21W3UQxC/9cngTSEFK8wlWM\n",
       "8unWnEZemg0i15IxtOohot7exHnOa1RK+gZGItkcasOoNPU90ihTWvGjJj2kyz9sYERnscB83eiH\n",
       "UEgjGLvqOas/5OTuYN+e9a+d0C+71EfBVYTUvynEzAJVChhtFUboB5QCS/+gUE7Bck/RUW0KZTfc\n",
       "iElwZqoUkLYjK8aSEsrDHm+rCp0v8g/micXceOINlhgKfD8ANEh/2M+NirC+0dhSMP+tJSSWWAXE\n",
       "KL9BMUvniVWBTEfKvmm76kiGZwOH0vZO1RHy4p3er/2TY1tztHJQ3H7XvIsw5ISmqPAZgyO6TlU1\n",
       "NXb8jwxeQwlo0v3i/7jvGcB1u7xkQHZt/3jb0LIEnUSwuurUqiXYkNH3xX03PWYYZblD/+sOy2in\n",
       "5pTAWfLI01r6K8bve1LB35Ac6YIiZB5G0CNy6Tx9WY+vsiCTWp8H1Gnq2RhY1ZnQCRbu8VYLCCmP\n",
       "JpcwevhIQGMK0rYrmtTnoxmxJeZxLLHbSExTuL/Cjalqpq+j2B224dp/x4JQfxaNsqKSasp69i+R\n",
       "KE/qeoLZd29i3uhRieKQimoKpLoEktQiF70wYK3gdXtgHF3GoWSjTM9FaiSNMx4mlAcjdXTGgU7E\n",
       "y4+HsrcGxhcDfZebPNOunlcJPHR1DYQl4IB0CAHq/7lKQ/KkSzlB/RTVB3p+ku1/7m6zeN/NLAae\n",
       "sL2/WLMQ51Xzissgra67PMKxm4Y3TVh5N0QBz/Byw2UOVlySjfw2Zqb8oseeig1PJjvgTmYeH/Wk\n",
       "2f1ecfHsHPs0hxPuVkRnBHdnNzxFdQKSl/MFj7iVT/XMvjc4wKHh939opLLJi0p86kizyJnkbT/4\n",
       "PJEKlbB0/c4Fr3ZHZ9Kv5tSsR5/9TyR7ACaWoYSEvTeHfJdxydIS/vXPbb3PCUQLE6Ph5vzIPgK+\n",
       "bLqiT25okeRmv1/U1sEHF7KcEkiTrVL1LY5N8YiQqCLvftimKtzJWczUyMre/o1qYLI4SDERG/nu\n",
       "CCgN39OcqwWUrRn4eDiyi/+zFz/GF+ao9h9kJNRYe6jdV5sGkx7D8sXL0IDDsN8poCsOrEK6aunu\n",
       "NNhfqEvJ5ZfT2rf2Mg+sQna1+CXeGFKaUAFkLHffkm0Tjud/keZ5UdoJGhdQFN/QMNESIXm5ADXt\n",
       "tK6/fkS4f2Y6QVoNfuLzLESFL9n2U+VbNYkI9tJxNB6ksR0alrNBza7uHfLJO32/vKO1/Ja2znCB\n",
       "0YYbhcicTPsCu82TQzNgbb+6Qa9YSEL3SQtGbP0QVuATGFy0DMaR5BBVLpFM2gUu5M2fVoYJb3YN\n",
       "kG/BWsxRnBmBJwSU8a6SAcFoYJho96eFFF6u514mUv10T63s/Kfms9s82AndMNhnIuA+06/SKlrO\n",
       "gQgU3M4s+YWBh1ikudQvOmWh30PvGSNKgCHuEN2zGCJnwiLzHCQ7D1rhUkl40arCSQ3sr/bd6X/k\n",
       "K9efo6BMO6sCUnurpPOKIH/X13OA5y0yYIrjGnK5PK6OqK+fbZwWDoKhsKtETiXpCsunXXdLfbk4\n",
       "lQMySiKPUbQkqpoHx8juAvrjLx/d64UUY79qi5PfW/zQDuuzZajXljOLvGwkwsPYG3tLa1EipNDT\n",
       "i2WOmGNUDb7FhJ3tZX/SR9reBkoxS8M8c1P1AS8wUuA+4oc2HoEoCFoRDHUkheY0QAAABLNBnkJ4\n",
       "hf8A/pzNex9L15aUv5S4AWh4s5umxZ5IKnn0ALRuZdnG3sz3bWzXLEygIV3mHyJk+wisvNpZeyTu\n",
       "minqaV7XTavHy4d7sKY7yGoO7msYwMiZw6YK0Jg649O4bRSxWgvRoNr6UjZAzs1GSJO1RS7tYvPZ\n",
       "5M1uNk/Iyif96Ch0eNGn+6Vcs5El9mPV7ym+osWhB9YdYx2BMZG+8EQ2+AYgadcw5lEJvmbwK99q\n",
       "IXKyhHYo0Uca39A8a0nC6dzoaS9uDN/lt7TFI7HpKW3T1RhMXesOQQGJRwJ4QNe5hqdeljnxl+Bq\n",
       "PPwwcyQvQS8ocBdfFOLbti9gXJI4YDzn1etZ5aUa1BQ0r7ORK9r/XFczMDIRHq5GkwJeolmIAHsX\n",
       "cJNOKT11gJnQh8L/BW4FiuFv2NoGIjrNTZfupb/nKg3F2SmQ+iL1nm5ruLQOzHdqpMC7A6HwKqR6\n",
       "Sv0I05xpAfu8YmUrvZWZnVUBO2gz60YTKtaNyeN/j2u4wB2xV03VCrn+/93GFOL7+TQ9PzCCwda6\n",
       "4rlnJNNkQZyUqjObxOrCmHzbRuCClew8twLQkKKx3HlGv2JHSmIpj6bg1zeajWZUeE58OnLtvTRS\n",
       "/xWpohFVULvBC3IkmRGbpuRoI0fd+x0nrhZEEBnfr4W6BKtXpUJB7Bv2gaZeARMshBSvrQNft5XH\n",
       "TqlTx+cQ/IZB464lgvyGcMkV8GzA+zZ2OXbk5lomyhqK9ICZjPlekCNTcY60rVngdy9yIvumMDGb\n",
       "vivZfhJgv3QSbrH0QHAs/6J//kptBvdQYc/TMnZYTOZZ2heNFw6z+Os3EqUhkRQ7NUVFDsziL0vh\n",
       "xTjn/DpJHr2w8JT2Z28Gi1kJXEQe2vLarPaB9iW4LVYN4kYgpdPzac8Nvh7rrD2X2CYDXtxdTHbd\n",
       "VIxHs3muIOHeqmo7eJcRwyT0DjTkSb5n4d2bpysmOwqdcf7S5UKCIrFmDrXauK9jr9p6yeSt27Tr\n",
       "GGlh7P0+Vj7++GrLuy/I34mKr6uTD4WB7cHzqhH6Q+kc3sTJFQQW0crzJQtWqtBFb8lWmOAFw0vv\n",
       "5LqG1IGDNrP5UW9Z+3kok/XhRaSOqnKRk8xlwtmOADEgGgF20usXzCCHgwq7ZgiQLUfqul+BEq+h\n",
       "1fDpjOB3K1myVZgZ90JGF36vdI+gx7R8YzzdV1NZWjVbvBXmAOrWsmjY3zVQyHCRBvtdBaPKOO5i\n",
       "uMk0Xx/jlPOXGWZ1zWkUFYRWhiapf5pzRWDIXd5PQnFkXSAtIE6y//rOVI/SQfq4jQ5TWJdviS1M\n",
       "f7E6DWhwmxLGij4uPIPwBmRIZeFqrV7YR8/ygsDZ3pjfiwHmF/repAvl9QCYCpM1ee2gHeR92vDW\n",
       "+t/+Dv6z/kelIh9aAgJaaJA/sQAM9rWw7djwXLFWUbe5Cz7yEVNtFmXpMVeewz/2tzUUjwUrM7e9\n",
       "+PLRW9CXLSLTsxWww0CT1eK5PQZMIBFcE+nrUkNcQJwOXGFhbr7EaepvTVcafvCZYZelVZRK9RPi\n",
       "Xsh5HJebud8IhonqUQome7HUPrFXDKLoZYNKrtjphxAsJR3ZCPfE37A57g6mAGf8ob8LQ/WkQeLA\n",
       "P6EAAAG/AZ5hdEK/AVn2OeYH9fiV+cA5diNsrnRknXAec3UowkYjSSU10ZraVZz2D/uB2DzQA21d\n",
       "vKtZ2hV0IkNvZAYRqxqlsgl/RFQqr9Rki8jahlNBBFdvQyA0wq6HAjda5rDI1nc9Z/7NBrG32msu\n",
       "PIdbrIqOxU5mvkDnGIaMYljQU/Zd3y1F5UYh6N7h2fipBBKxdqrrRK5CFmxWpBqSuXEfqSCHm2sr\n",
       "xjN7o6yAePoec4ZkD4QI7QewyGjbw5rAe9EVD0/Wuv5GtI4FDSO9zgVqslmttURyY452KusByQ07\n",
       "hhBL36sxDcHUU9L4XsJ8dDw5x0eX6vzmGas5FACy5BjISbrrQhlddtMyZ/FDsTVhybnYLYK5tBHr\n",
       "qKzUeL/5NPt/caw1I1ri5R4nfRYKtIr8+7ZqLVShwUth2hHEbchxDYDppANvEEeDMoqD5+5mEzGc\n",
       "j4Pw3DQUIjpnMOR09+wkgBo/6rwZd2iC/e/hWBgKCx4QNveGeidcr+LDxbRVqd7wQOuAQqChnAGK\n",
       "kDTwRBTDURFXPuiZVS/AFeODZONj8UQ5DJiCANoKo9J6QEVcAnyIagth1TnWaJlHsITV6CQgAAAD\n",
       "twGeY2pCvwD4MvxKN/Jjq/cD9DwANFFtDpuaaPUn3jAxq2UT7NMY+cFwhHjiUgJAYTEDl6a3NHOK\n",
       "2URBkdg090218m/vivwhLdRQWzrrUAW2vcFzQBlZ1amsgeR4qdcZC0mKzMcNkb7sFiU2+IMa2PUJ\n",
       "ZmPbb/xF4aNeMu84loodeu64BtUjHOhkb7L7v/nSE+tPhN4HSvKNVcO1/X5Ddc5/T75l5UPp6o/u\n",
       "zy2o46WM9bH328sr/C+aN7sLxHXWltkdN7yBnQ3T+vHaj2WPwAK5eDq4iPehZrbWSKnzTwW0Vqs6\n",
       "ucW3bPBsxTcto9zvBalRnemkaZElwMTyCtVbLIieFwUXy+Vkt3YeAj9GpibtKSBMqSUYQSL+R2TM\n",
       "2rnV1wEebVB9BBOEcyyb8CacBvnEdNCPl4a5RsZVlqyC0poKyol1Tc6FP/0lzap3bM48TNCE+f8x\n",
       "yaZQcQzzm6zMqcZCTVKZJ4JOc7QD0rVpGwzaI8ez1ksfgM/Q12Jl/IjH5LKeYqAByJLtiTwAyc5i\n",
       "c5dMO4DBFV8sTHn/kn5gKlnCmki35xlgo1+Cp+XpyAbinahcbPLdxlaiFal+mV0Jwm68Sgr3roT9\n",
       "Cda8We1Nn0ed5y7CXPl3bofzC4HVYPG3W6jl/5Jn4RxPvNWa1Mp2dNvgl1KHj75/7M7FzEiEgdAb\n",
       "e+OgOoK4htW65gjMjNKW4VZiBOm7Wu+2TtgZ3UYgeO19nhGe06nT3QmO2A+mMDWoaT5Tay/SMAHS\n",
       "gUfYtwm+8AE507ZsjZydiOcD3wdR63NIpbO5KdQv2D5uaBNnMe+cj1DpqsMydpJwqL/lBUSU75ou\n",
       "MBErtLmzd25290fwsPQYlBpaoY47KsxzKZeO1WHaeJOsJm4WCSp8ReiuQTTgnl3Go2B/DurOIaNG\n",
       "XcjCiRrgSuKfFPHwBQudEyPxDELLMHQe8EBp38yvKLHolsUX8mw5ufy1Bzb4Pc3R8TD6tx+crnaP\n",
       "wZxCe7zbAE7lZYrhaWR8XIv6IMHMdh8Pb8dTWBisnoB30/bqQCwLo5zUU2yhvSQdfyG05ovvanlM\n",
       "IcpNAnaNi6EoiMNJQSsdJrUGyd9oEB7e7Ekf6zuf7cGkH+qK38vkHHQ7ltpUUoyIWRi6bc13iEWp\n",
       "3kgQ2LaIfyurQ7RhqUKvIaxeOPC9PU64zKfxeCMketo2tMLyNzQPMNuv4XAnYhgFLZmOqMZg0MQF\n",
       "rfrWiOdomAHNEh6nE8i70JCgDmdNRXXyHfvfu36hnx8cB3+QBgwoHQAACJhBmmZJqEFomUwU8N/+\n",
       "p4QBjec3ACavbcaMDP/wd/7QiNBkXnw+P2rRCSkz/TmB54f2oHkYaVW1yBFqTCWRyWiSTaT3EuDT\n",
       "KBja1J3PbZxhmhtNIzvfjWSUgmrLy93io1BD1qxcDqOQUwejzdEV//Dx40GAXnD8x5TbPW0UiFYJ\n",
       "l+DcjnKxhs9xhnC6NUnvfgGC6ql/WQxkz4VeoTS7yXjhcWGaa1CVTtkuq6Bg03skTp8Q5i0Gqg4j\n",
       "PvKQFq1EG5OwiRbKRlBis5x9lZCREtDBQf4QtvsdbQGFC4PZ8pjWDtk30ukIzw6DQl86ZZM9bgQY\n",
       "xn1Ywk2WHI56NhI9zVE//fajwy6eAqO766TR2MxcrhR7TLK+tDWpzzalwnM5u4Nl/OjB7Dk3rKP/\n",
       "FP57i+BDb4OGIDGM1iZhuoSaKyCLblppLr5VY3v6PccImaAYAV/JEyw2pL8JOofcKoX1M572aqc7\n",
       "I+rXTpMtmDslcJIk1+A4SFGxyyAuPU8IPh+iEG0lInxGFCPHQYVDsIgTa+48cBz3l8LWjglzO3AA\n",
       "J0Hx7wBn937TgBOuotLsPSUFXP2YNeEI0E4esggdjezIswK6uEVobBSu6PRMWZVQJwGSDf75PU0r\n",
       "lhBysckcYGAL1RC2t/0I9361WFfvMmtSLu1Xsf3PFqoVJNyE15YDxnZYFLSu1XAipuo7IQQMbKKd\n",
       "F5qOA6wAXPzrizs7REPfe1ynDj/4C/wbc1snUfite3yYWxvkoG2AjTqRZM67f3tieJeraf58r6Wm\n",
       "Ms4OE1t6wPP028x7IZdvSsGhm+4/qeLR6caMuTYkCCSLKWHMqhKw/0WLMN7Vedwgg5o1w8KqGVHf\n",
       "j14HaJjiVFfJYYSHInhkgKr4HXuMEPm5OWNER3niY5MuCwYReY5GMdtb3cuicpkd5dHXPJdzbKWQ\n",
       "PRvxjUWTtzbdW0pIiXSKfEZwXvvZp7vPr9h+XHciaA7MBv8lSkMPsndF1yc/tdfv8Csaw0UT/7Ie\n",
       "VtFsYaP/1XFgj+zZiSRU7vAos0LZmrtq92bqsGOWUPmkI8/3KRZ+K5RLL3M7UJVmONLpSczcEfqM\n",
       "y9xCsfHwmGmtJbmgYOhLpRQg6ACGJczYwhweQ1f5LRfGLLLTXn6+gCtjACk0asBn66bpnOopvki/\n",
       "nR8KlAivPy5oOoiQRbickth/rXp0beQYZfxRxg7v59t7GoD6Dnsg/qKWBzg4Pnwk5HzsMQVNKx23\n",
       "hBNONQxShFxiO5sM56Ok3gNx+P4cNH6p7sNEel+swqebw8ye147XSa1QckmxOkYQwrMoh0byUfTR\n",
       "ydKI3hefSngt+9KUGlgdkqOHoDDwpgdqvrE3PQvZf27bvspG1dQNvGs4i37QvphTE6z2TYodCv39\n",
       "mUdxIZiwmi+hvu5o1uWU58qRwUrI+cnezgV8M9E249qo+FZXU8Q/79X685/BDPx4jKBLjJDOD8qg\n",
       "NtMHPbuUlZXZHT2UhGZoYAAG9XGqOsKIOxw68yTu5C6W11+1Ja3uPLyVcQ3QqMfwYj2GsO38CvOa\n",
       "nHK3VyIPeAf3z1kwgZHQugOpMpNfdz1CTF6BrjreUAV5i7dhR5YwtQI2B1zg21BfjZ6ivwMwVO9N\n",
       "h1qwCPHbNaCJptTy66/kz26dS8rkQ2wGwIdJKfh0Hp+LnNGj6FUUlX+KmGVn0pSCwIlNgFxFU7hp\n",
       "GpfWOFddYtEiS8EulGYXHu6qolOxmhN/01cvWZMCd46Cw0RQCanlKNNdW7VnoVJ/3kvqSaM+Z6MD\n",
       "w+EepqMhNHdy+vUppCns83n5bFa1adUCSYHLruK0giG5juTPRZonQIiZdu5WRwjU1DsqHVdzWCfV\n",
       "RLz19LFObZZpFlMazlq3R7j2Ozq+85JXA/5QpWC2EAjr8TTHqdXIboz67bapDFIfgmGx6fbnHhNf\n",
       "AKymns6Z+uovw50dUNfFuaQAYE31MmEJnM0BVHj56sONlGWyo3Bhi+68DiGR1IYlqOD5A9NeD+Uw\n",
       "W+7fIijmXxJjzI4yNt1bLZUk2h/BJokj4mpHBVNqsoXtUD+7qCJmNR/kx00tP9OwRNv3WBWnOt37\n",
       "XYoEmVv1ypRyFoNjer8FP3odiQvwG29r39v7UY59dKvP5SWvURdicyhdWjuspzF8W0OJHVrj4uh1\n",
       "3kdJAvYqo8PpXXzRpHnCYGI/1Sn2sWlFLlmgV9cuT+tprspCehVQat2rC+FYimZbSji7Dvic9hqb\n",
       "uNe2qVIV7CXomnDu09GKsWzBuE4GboiHXd2lPWYSYXGCTmv7+FR3mOliBTo9ioFxeLNC9C796IZO\n",
       "PYCv+Sq806ebG5gqFUCSXudvlmWhp41pqNki03bG4+mD4VWWNZeZKWwRxmEZ0YZVeLzi0hePXrsE\n",
       "N/yY9xvU1DjpTlVOaZgoGlUdfiFloKASVMVk9CFsUnFUmigkPdyojqt8F8OMtAY4SkhwkOWS8D4A\n",
       "n4EAhITuiPXwusHM2EWh4OLKPN9IUMw3FNB12+zxtWNWHqQTcs9xn1EF4/J2TEY0R7jAahTKB87r\n",
       "41W1jLpvQuRkBqfgUOqyzGjNxRUFfX0ZyFf/uD0iEINbcoqwLyvtuO2jVNNabJT2VJi87lSkDpge\n",
       "TvK0qmgRKTmvrtGCBJu3bMUbBfLF8HZj6xqrKo+7xgbRAGIZ1PGclqjeZPob+AtnrnVxvuqjewPA\n",
       "j5cYQGa8UqSpnACbpf5DpRWpnXA3/OJQx1Lo+I1oSaj5laz4eWgJAkLS/AmdgnPJQNIwdyYB4+T9\n",
       "v5tcmk558Z1kUPAYQoAPD85y2SVMppjoTFwP0tRR+obK0nm8NnvzPSe9SSymtz3DbCJ+n8KVcCF1\n",
       "3PnXM8Vemy0ajHsR1rY0a8HlhJdrtunGYjfEALbZy2QOjTJibimhdPL0DNw0QLuGJKTvAQKACz1o\n",
       "3ANKrNtNEhfgN2V/YGPQzIungDLXAAADjAGehWpCvwE3DJWhBdoATVi7O2gB6Uk71gD3mwookqBK\n",
       "uSKOWZ4fOOc2GVF6FycEEIxUT/B1nj4o7k5tfzDtGhImCr9IBRmalVOLyH7iIshI3qyACWPtSY5l\n",
       "QIvXL0KU/EXeAVUNSlCGthGVpr2y+y+jrrShbUVoZ/Ee5U4gn+seR3SayMjTzx462fRavPHT0QZN\n",
       "mgn3Q3k1A7yHQRLP6l9kF3KsmoFbsKkXAEPvJhl9wC0CNiYMXN/Dcg36MOizBgS+76pPCZ+Wb37r\n",
       "t0vysZVwO1yDdGboVcxh0UgeTbHU6sbxOf1O3zlq+NtAzzyPu+y5jkEAmHa4kEpVBMz3SCAk6BXd\n",
       "bw1Gipf0DmiesxrI6rLjVUB2gB0coXRVHaTMRi7xix5W050iSgps5N29vSEv65xqvsj3AiVr0mlk\n",
       "47M8SjYBwE9Ai68UDX2R4/ljF6eJ3BATdQpsBSSxcVIs6GRieUeMBNOuGCIoPJtZ9h2aSN1Hw7sv\n",
       "T2+gLOYBsBMubCs4/DiCiwYMk2wx3iPcn/kLP3D0SAK+xX77nQpAtYAeEL43NliUCfOgu6PmVNDY\n",
       "iOWdhICtl82k0IpSBuE7bV/25qXBYul874G2vpUa+hrmOVqTZFOtpy3LObSxUKM3Q37Sb8JnO0z5\n",
       "yWEfCTu0wYnAiSiwXGsw6bpqd/Jzpd/aRXSKDBH06nj9K9wKCoWEQMlZ2hiq0heFrshZ/j/NmL3j\n",
       "bBZSjsa0pmxnc1EZV1OOfhz1Aut74/ECU6bAFOEMuxqNJBj0QXAsfF+jYazmDtzT4s4GxFc+5fLO\n",
       "utD9a/csPdY/UZVIKzFZE0vogxm3pTiFVjuF3c5GP9eRcDsm6v0du18OQNKuhRIo0//CzALZLrAL\n",
       "d9N8pY/MN0P3ZlYGTiKAQ0zgpVXGiyj4qAxrzXB3aVHzDBXSa0W9Ok7PHwOu0PE0LyGN6Vm2js62\n",
       "wDdr221ksPDeYM8U9+8PSM9HlbnW/56AaGlcWnUG4v3j2VnFPWSqQhMPJWrUhHNXN0BpzNmB7mUM\n",
       "iONq9+AUhg2xuRrGCI7bzZtCXgRxMFaKXRy89eHUHP6WDXuJH7B+mIWEI37GSDPkHIMEMeab5Slw\n",
       "o1PKFXEUi7eIMIf1sFo6CofzdKwE5xr9hPUoo4Cg64nlRWjruBShYjknpBoevofCgFUuM1qnB1Wg\n",
       "mLP0ysMp35+5fK5tXiPHN8F9LauDAAAFiEGah0nhClJlMCG//qeEAY4otfiujUDKRzaAveCUSxjp\n",
       "9ePEpsNHvSSTHAALQ726q8puSFtL+djBc0WEUqUbFUV3SyU1T5o03+j3lyYVfrh7qDD6wXM4uckh\n",
       "3ObV7nkRXTqggTRbh+iVUjM1W2qzXlQHEPeO6CWmd7OcleayUkIClDHQCfdkF0mOYf+d0n7UYDZ1\n",
       "TZaDb+BBttH7W+JaiE6498OMEPz8ft/VSJb1znaSuKpPlRJlNqJ5Sgv12GcAvvY93tNpdb8kGcW4\n",
       "lD/K0aFKJqBibZTYBX93aC0fvx/dHaiHD4igYmDF/zA/fAgZSzDZOl5xMIN78xCD8PtNs8LODvGg\n",
       "fRCVktvfRSFquSSqX43ggJsMQu2gWuU4Mfzq4/oQhcs6/b4FCrzEJI6ulYETdh54toSBuaMyH4q2\n",
       "pgdMYQPsAwkwuYYygpye13CBSCvZxmh5EuHKHEJiZtez5Bwmbhl2cbcT6dU0FAgyzgyzUhwE0rEe\n",
       "96XmpKFFtjXkcky3keZlOX8Wiww8igvCSAB9rk+mMJSK2+zPSbs17Z/y0h9JXIxupvCOEQj4z0NH\n",
       "qTpFhHt3xA7Qd5To5J28EB1TLaZnJ1yawI16fodLQ+xlJgj9EnT8FUD2eYxUTjOtShrVYx+XB+wt\n",
       "oiLRz0/LaT1eP1BQVBhlyM9ujwoEYXYOKutMtKOjQBgK0SLEAYldXX2FtfiMSf+Wck9FPFTuH79W\n",
       "VwPIjQbEAlKN8/Ek6Zcoyjq798zOH7liCoxDXBjlB7XZD/1d7YnIZblR55X8S+NOZ4xEdREw+T/1\n",
       "9PHcHr+DASIg7iid+pXlc58K30Y7vW8o/la2/GQ8UtLnMDI4RuZpA1fz+3aYq77P6h68WI3PhGRf\n",
       "5BjLx7mlQXwF0XL0aQfBMmkW/XUJTKAy0aQPIF1lCmbu68TySxbkBBCiE5spAyi3X4v3or7FlfQS\n",
       "+BXBn06X9F8ayIIQh+9Iu0VFcr6UbcLo10114REdtBE6eFgcAp52H6Rb0ORbhDQzVCIL2wBfb78R\n",
       "mDcPNL6XHp4jpIohPZVaQFVKymlFziUzf5pzc3BgcI+Pv6rn9F3ZorNUglFPwmWd/9PYPJcoTYQP\n",
       "fsUyGROx8//1jZHW8pewJALKcVUhZgXzGdWnXcXzk1OnCGHxOiXAvfZoWvflcm2Jc6jB+z707r0n\n",
       "6Bgh7ODah/SCqUX+Lw6Fd0t2FWuxjQiPAHk1AggcuKJ4Jbc/7vSLwX8Jbc3dKLlW8IABUJ1PPn/R\n",
       "CXUbOMAvieBqG0x6ZsdcIBhBqBvGWrSWjbprIAFAXGr2qIBDO/8H6CEFu+pSSJH/jL398fRcw1Zq\n",
       "XODwVMnxYALJ1F58LnA8mlby9ROfbY/YHFD4lj0rzoq5oc4KmfNmeHgQeyRjTplYWoJw/u43g0dh\n",
       "CDo0iDuBS/lXbXjAl71lcg/y8D4+q9HGQEo9neBIMZ3Z/jDEeMH/fSorpsAjz5rNv9LWhJ/uZo/u\n",
       "YEyVtjC5n0KOxxfAVADvX6lPudnVcGS2Hjil9ZEwFgUlu1rVcnsele7FFCvM4eEyfu5ioo0M8oYO\n",
       "xzPCW9NRxLXjtUXJ0WMiktEc0mFFFevVtIo3Zqmf18fYg5M5vvR77+EfAKJOPcKI0NI7VLmuh5l/\n",
       "3Zo+5RlZzFsP72bvXhWT/N7F2Tz7XSuQgXG0NjJqfAZMoUP5WBeP+iQ2pSdzjZSpgv0HwtYXk4Tb\n",
       "1QPdUi1Od08o6hmYInbP6uq7oC1A4pTpd6IdC1k/gInBUNsZSVf6wiQulO97oWxHYnCDdjxPbokq\n",
       "ZkQHaci1eZe8BVmjyjNjn+gm8yBGoRl9eT7+8Jc9LmIoL6oopthbaRdDh1F0vkBGIivOvDc/aaD/\n",
       "VAcYveLyNYHS5ujgZJwi4QAAChpBmqtJ4Q6JlMCG//6nhAHbmn/go1IAIgz8pBLBlxqIwuy3CS5o\n",
       "Xxi75E2/KBBa86Cp8ktr73+vWEUy3SFLZq/jAloBjLQ8WEQ+f3+OX1vtbih3Enp/xHh7VwSspHnO\n",
       "cwuVI3QTxZrcA2WNwEmgLUqEimbhdQQBUHmN02rTdZ4MdiZX0jacGtqMEwNWbH5ZWptztG5hh3Pk\n",
       "9WcpCS/e5oS+lEciXk5MVYbNAH+m4hoXUVqoqmOjnS9SU+QWoUXeWy1cQPBc4+d2cGb/NphUqyq6\n",
       "b49Wnvil7L4LdDIMQJCyKdvbRhqZPOnOr6Y1QuUGwyGZJwE+zHB29mdr8QvDMfzEBPMJnXCS2JHf\n",
       "7/r/amNToAHwlQCp77sgBnZHC4+P7iuH4G92UZbHohqdprMEfaWDmq8GvBq/Gh6o4VmEiTwmRwro\n",
       "iMt44ezlgxsFjbTaq9Vh4rb98z0dTVoSHLlL/NTof0h2pYlgjU1viXxl1k8YocwCtBEZdZSDp31T\n",
       "pd6MJCEkrQdasaLcRVRNzIRwL5OqN/B3JL0KyZu0u8iM8Qpk1LAWsWOzfZPQKp53yA0cllMZ6jG/\n",
       "fObe4fMi1dY78ehDCc71HIz1G5Jod+91bpefDdFs4ipX729HMvVXAcGn6MLHu53+KCwqXl69P3bG\n",
       "eWOR+4MGyG0pCyLE3D+pCEpSSShw67so8MOo0kuS5qzVWZCkYHHuYDKOG0rLKHYbTyX3wTDZNtSv\n",
       "9vfaBtXT8vM5Rd6nffyViEBOrTHd3xQ+GEIEPb1OS5WxqAM6J/ihCrrnm8YuGchkSI6hzodn64dU\n",
       "qp3EjsqqJdbDMoo9e82prrLNZuZQyU102qZ3F3t0YOTioBSxEte9vY0EkWKfNCi/JbCU80gr0cud\n",
       "UeFuGnf18rRvETq3DWNjSt9uIC0F0UN1iM0rbYmzMO4oy55/BWGFXUEgHo2BfI+EDMwhtVlx8F/X\n",
       "Rx8Gy2BbaICax6aU9tVmS83hnuyt38Q5Eib0aieCfu85h0+Jg3IGG2jj3o4lQrcnnD3HYOeIavRp\n",
       "STd/E0z+rB2TdAge4QeoPwV3MIs0hYKuo5xc4buI2/pj0whSS/c47kXYyO0kfdfnzbCoKEd12eK1\n",
       "UorqDi1w/r26v9ROmgwhO90UsFJLMPhpN6oV/blYGRONtn3oVmfgG6eA9Rm6nUkvX1jowuall3dz\n",
       "w0kwxDJ2VbJc8lAcv+FQxoWHde7wmmFkXTaMwaTYWO/QihFQ+HFv1NCae/nvf0P8lWo0jnGMjZDK\n",
       "hwx+okvOE4Xd67tAmfOkuMdBXKzo1aQsPd7Z6Z0PBpGwJMTK2bCxpEWIknZDYWWma+HhiZ0ijN26\n",
       "MzLGRgppuIa10qhcSCl+DOTfo85nU9j2mRs2wA6HU/hyrLjO+hHZfKyAYSTON1xIpFrSx1xEzj6I\n",
       "ugsF1lYfEYywGb4AQU9PwSSCuq9ocKbOhuwATdM1J9ygvUy8lBU97NsPKSf7X00axGcZEd5euEAO\n",
       "oFHvLYrk7+4P46ap0WRu53YS3TIxQ/DEmm881//au9WjjIHq5YvMnwkrdRzSlzRhLE/jjOMHC7du\n",
       "uyOu/zPhIHezdOoT3jWTno+cicNwCfjwH9RwaaDBvveLT1SaQI0GnxbWWme509IkxW3xGGPOC7eW\n",
       "PzOh7AfwMxr9TpB8IHKdcRXq/orAiTwTzLcLeFTlXbn8exVXPC7rQzQvv9TSgzwPnvrNtGFJJSSy\n",
       "cGrgVjyoNpJLdj4tjBgIwl5jC7d2UxewwXL3zfY2GmC1N4/zxPBHjKgw9qkUENtoDdik0h4VZexy\n",
       "Xb/aMLekqV5iVgVT8jdXQV1ESh5KT37ZwWbs3Pdyb8Az1XAWDWOadiHe42/5Bt2kYIJymfPY8lGc\n",
       "+HNDyM5yN++9i+MgCjcrS1yrYPloMndLMfHYBeS9y2lV1irIDwfLNZu1M0xO6f+QgkFC4l2HM62U\n",
       "kySLPh8sYRUrnNTLCMwBCrrzAm+DtIdsOaVYqBIp2rFlYx9BbA6iIdl0TNL99D04o2J0GyKaiPkl\n",
       "jkfvE0rwDi1paI1OzqL/XIWzZtEejU0ocw4lTGkjYdZyLIluUQZk5guaKJ/obroaPqCZE9YZ7lqY\n",
       "GOqrQwu0lHgEcZuf3c/lRM7Esm/B5o4RA7kJA8bgQ6WP3fnx3+qGoqH6EgonF3LNGf7jOEh0PnBV\n",
       "KB29+1+epPWd9x8TXQ4PbFPvUd4mUV+4AdqhEhrmcy7xHxat2MBgx2PVjsb/uLcOx1ZTXFVp9f2C\n",
       "7noP+OE6lwykhkI48EMsr9Vv1drJcE1W9m237mdDBej/ZkqG9DmGIlgNdhWk0wTRti2poJf3M2l7\n",
       "/j9986MhN4fuAymg1+yej2TzMIRd/vgRvn3jTvr5c3FZuevWC9qjT/tVtcKGtZMPnNVaDPXG0E6Q\n",
       "QX600fjQ4CuDKgnoD2C73+zM7A0wn88YO9xft40waNbOl8k1lr63+gNO99ZVdrDh9k+78OdP5Jqj\n",
       "SLfGBAvRAJZFnPYDRD84c011sdGrBjT2LlPAILOnTJaH9UniOhFS09JacWqF8rqADQ82WDYMOt8T\n",
       "hKDBIqZWdKnRko3RZRktWUwlcXldPCXnCH+hkUmJt6oLmCfEi/7XY2F2DlGWZBIUD9fK2Qz7Q0Yp\n",
       "JPQHoQFuNxAf7l8MGmm4deDV0FqzJ68c3mzADbStE85V/5BRP0QL2sitiIGbIPxgvAnlWaNK+ebK\n",
       "L6Omxx8LMuyUKUWa+gB+KFdozm873iIJhk5aNliSo2+u8XSbisD6GfqETXzdVMrCoYZEC0UrIFOT\n",
       "gmZrr/yL6RodMh8g5E6FMedmXePxY+npX/zMylwW2gJKuVcpxrHlZVIFxIyfYltRcBgVWjhuDc3V\n",
       "cAKOlYksG8uBZPyuvgJqyc53vGUwl2sqbxOI3wc+zYw2jCbaFQ6Sr2jmgnZ385rYSWi4u4Hjv23A\n",
       "s9f1q89RlgaLx+U5hf8CKRcMF89fSnQWvwxSvg7qHA/EuosrIjpEOFvm25Sz7crlV3WZ4qe8OeDe\n",
       "hVh1Kcgryg+4WhX96LTvaJuWm5ou7FTJoVuuy4vddqlIZfe0u8XU2NxyMi5XhV6X2NL9g5G1JJfb\n",
       "S6Jg6Wpp+iTy+ZuhG1Tc1O8dVycAwxilFd7WG+Kd8iLl3FyD8cu/x7W9CRJgu6EriONi1XezBwQI\n",
       "Tw1d16lmVnWSYJnIF4ik3gortOcm7J8lFyCABghGD84PYBMOPpDKqGbPqbbJj91+S7Qnn3gksvm4\n",
       "vM08r1We1dzeqjbkNBI/0jRPWSbvUX4tiGa6/AeP/SPMzIJRFn4kQjLHZsNSOeZAQt8DCeAYTUYA\n",
       "h6PrPnzYf7EqG80X53/E9KP6UcpcyhdKvgVcJb+fZ27f24BfaqwW1C26H1tKKXIxrtpdInP8wdI+\n",
       "i4UltoYmsJnbp1OXwaknMueyX62flpd6JLgx830Tx1gckVS4jRDjLMgAAAUGQZ7JRRE8L/8A+CXx\n",
       "GIX8KkurDvMWCgNWtcxBpAB5Ab+IXuatg9lzLuFfPBLf0FF58k5Paip+z/5JZEEFsupb8fLMuiDg\n",
       "Augdh+CTi9/LYOofhxfqap7ZChmhESnoKgL/pcwrDRMXlXedwFFSySAKttdPp8HP0ymKSgAwNfEc\n",
       "3WXChHDaZuHlQTup0NCOI6a20S3WF3zrm6VodML0BErUVrnC7QB8LuL8E75XbVVP4bPocwqRtKGY\n",
       "XLAohwnu0yZgwgd2H5otvF3IJr6Ys8PKSlDLehERr8hBnrkz5CZJUCwYgjU2Pj6AyXbTJ/yfiNcO\n",
       "crPkcs90h1gJoJWj2ZWU0O9uyPImXQhEGJ9XnHFEc5YJ39eHHEM+D3zGt91MAaZaPQSjRCuq08c0\n",
       "L5ud47pKxeykjSBORm1lNu4sUXb6QXDnsPyeNe+BSK5DaVI0ODvHsmJSEopH3kCVaQtuRx6JUgf0\n",
       "AbWLbZ2jGjA5bQAyauQ4lEZ2OgAUzdlbmraBtq2qv27p/jEbKogsBvorX3IMRO92TKJlB/RQMZt6\n",
       "66ClecHmRYKe/a1y/xGzsoHONJh7VVnd1gyFPMjn/BrkqyWiYChRTZjuMVMKlJyes5Lg0THSFDoQ\n",
       "VcOfrme4mEe4bUqLXPPzKA4lraMyO2eIC6c3IhK0p/Z3RtCO42K1HbwEWAp2HeoVx8ioRGhuCNhH\n",
       "i4pWjM1J5Rj1/gRLrLHrbR/Jw1dEi08CSseIXZRF0DdHVhyz1zGhtQ81RpolFORKgtsLz4vuzdd1\n",
       "88NwkbFEZkNEU8Poh/n9OU+wSRj0LzHTr0/c196owbLfm+HixhpOi4j7u4Hw/GAawg6sLTDSc3cG\n",
       "iz3XcU1dTUD2eb91WxLeMcCnFZi69F4gtjooHwP2W4685ZB1WswjvcuD+bvKM6AMR09tHznvOjkI\n",
       "YvfPz6t4jxMB52Kt2nnnc+799crN+ZS4073R/Lfb0U+mWrO0QGwmSBS2abQe/afOGmjERKly6LB8\n",
       "YOK+vnDodpxquDhB8CebeABLOEiZZCI/tQWm3jCnCVR1QMaP9Cv4OazehcGtExo70oA/7A/d022i\n",
       "/kthNA8lkcOf9VEE0uId92d350xzY1EeCIqKmQHg357s4Ts2yP8EC3sdrMn08cwm6JEmbSAGTl9+\n",
       "mV4UwK7iYoQU0/3+92H2xtIpbrCxw9ituD+hcKHy7583NRxOCeZ6TJCT5sEja5FWI2P/Y/+ClkOq\n",
       "XMyYmIlVxzxuHJGv0P6WuCleBxteuoDyT7ommX2p8GSDbuj9U/uri3Gxyawp1oUrhlVDnak8R1IN\n",
       "dkRELD+C9WxScJN5lw4Lhi9egUEdj67wY3xaFgiC9n27V9b1s++d0O1C3rgtNtPtEsI8ShIMYmpJ\n",
       "9xbN8D0CSsyv1qKi+wPaZp06nNec3zkQP7SQVsjtWzkI/jlvnYQdVKqEniLFaDMb0uqfDXlkpK2u\n",
       "CGEgp32oytevYwPT4re2vAQh2GyA/zqi7KNLMl4iyFb/N8N7Xudx73tgLWtUWVInbPCwgNHMdwBE\n",
       "UMJHDD5N2IX3mOjTYvYu4uAt8UsJ/k1u1pXXXemSrfUu+p7Fzm4+PiuCCQY+mlySG6ymI+kSDMJZ\n",
       "5HZeBAs+ZQSfteW+OVKoyPzCcui+V1BVn41cRLcopkRXhvDLFflM3DJmOxa2GHi/xvTINGj4+OxP\n",
       "1gZe+Govc2zOwbIa7blS/OKaAQgAAAM0AZ7odEK/AS5zYoUZaXCcOdbaqAG/Mghq2Dcc4Oxjyz19\n",
       "tjdb5ynVJN2/imMHUHBnh1Jv1Hsie8Z1NkHqVmIhsfuq7tBJxC6+8vBWP8PEvKr3DeFKigCHm2DX\n",
       "H05S8NszAiXtRtcD7cZ7Lmx/QaBtDLSJjWikEn8o5lNx9aXaRNQfoHlg6k7sWX69ux1McmSeWntq\n",
       "xtp5NT7aOD6F/giKo3E4yVEwX9ZFq+fZVhzhF9S2Q/dp/s520pC+ltGxuEeNIQYA81rkLhhIniOV\n",
       "oht3wyLmvDkaApcbstCt4GqnYj4oDVeZM8Cm+KvHg2tPNQG0dLimcAx1jJ+rv0YoCyGEuoxAHX0S\n",
       "QB4o1xzB90j/JtLsNZIsTDgA5Ht1EKdasXdsnYtMO6XORacltNEPTQQWmng+mqGQdRxIXZyeok1i\n",
       "iC+C0UJL7EmK/jPtfcJTCz0QgiFZVOA7+l3yclTbHSqrTQw4QwKudgSLhgDsXnLjz7gUjLgxx4Yd\n",
       "ru+8T5NdvkxDKX8E9J0oMnOGeiSBDza0FzNtjMQm2bQQQcaIqiXk8krO7JNzspylpBDjxS6Ip/xo\n",
       "CMh+GZ9fyos0K7Kaf7tr03G4rtfrywAFkX+CdtfXDl9bEwtNFCXYVuWbKofQzx1cP0nahK29w89d\n",
       "Lnj5tiZ8PHQtM5ezG0tJJYOCKCPnBAGjv5MSSTeA9C/T7F6Dh9z4WZF3uydEBl3SD46w4GHQjBPQ\n",
       "7q0yvbYs8tWm9Gh4o3il2O+RKUnpWPrVu/tntWeniRtSYXvWMZJm6iR+G3uAClneyeZQ+n9Fb9Yn\n",
       "pci+RVxrvJ0osOaDhGXcqwftXPg/VA7BFQPWBcdvf73WhvY9jpoJJfncMG7+qvp7py1H30EO7+Y1\n",
       "laFzhE0kAMMpqnnYy89h68X8UdpOzM4ZMcoUKAwJc/wZKnY8mvRnhXrphDtPVfxeFdd+B6aa2ouF\n",
       "HAsGr883+et0/prAHUJ7g3zJrb6q9h4HRFfnf55trR2APsywt1SgUowpeeeYABp9C4e4JEAvl/d6\n",
       "7RorXurmy9kxmN5e0WdU38j1hPZoUrvpe2sRE1owhIW2BAMUXuZ26EcbwwSq4wAAAzwBnupqQr8B\n",
       "Wq9zM50MF7QwsK6L9A0U88MwojZYwAKpNf6Lr8wFaPTwFBICf1IyJEvQnzBwS7DAvarN/jlUQGlw\n",
       "Ypp/LdOftVuxV0/lr3RTSbAyS1lOeZ9EwDXId0Hj+BlhMOzvOds/QZEVWwVMhHnXxwPaaXdsTP7e\n",
       "fPss4s0BdfBWwVU7mz4xjFjd4EuBM4S70Cc+I/13BIQNLnWgBRUWSu5ARo+sFUc5LYE8ORKpjzTm\n",
       "U2rpNQUEBXbXheakVHXtMwRShgckeUSgeAHdJBivMHgIsPaY4otd/8Ws7D2IVveipWf3x0MhepvK\n",
       "j9+6la7kJdF6zlCXITlvANzljVdkyCXPWvoWMAZM8f7WIhM7vch9LYl1edCUJMLp9mKx79b2Rm2B\n",
       "QvNl2j51rRMiaz2/IGfsACoDbyj437wI1LfA4Uvy+5yZOwRwtGTaz/5da8EmsLKdWhrE323lBkiU\n",
       "cguZQwNOvRTp1Qc7XW6u03GhuGE2ei9RxUT3przFXP/MuOh8Ie81G8D2SobbGsmAVAU2p6Hym2T8\n",
       "BdDCVAT8UBBjlTbrJnW6Mn2Qy69HIu1nQ5aBCozRdvLPJGvb5ypJTS3OsbWBbVdqBIUyrMO6Qd1D\n",
       "53t6M2qFcUS9L23Mj2m/rLV+EuyHAhOE+kCm0h5prf5iru9xwLC3qJNL8AYr5n3Vll/wfgi81Q+O\n",
       "Ba7meRUEjo75F6ua5dwwAYu2Q+0l766bF2mR+He17QUpSBtWuLu1FvhFg6Myo+7gU6kBFn8sVper\n",
       "Qqu/50ywpKePDnkpNL3lV2XVgqHg5IYs4G8+wyc9NuwOhXVKCCpnp3eLTmv8yewLZo9SM9084eZj\n",
       "zmuvoB6X3AX9x6mmU+o9wak+WOaJtXO9ux7YJT0j61PZ/WycI9k/3FJhb7X52P9+sxusu6Fg1SrK\n",
       "c16+oL2VIulEAcYfgPVfpmc55g7ZYvIutXoWk4QB7ACyGFBJdNpELJaJ/bzbGDK/DKCIBBzgZZc5\n",
       "4HXSRcRbzDEom2PynV4+LE90lpxHvsDWnH0yv7unaeSf6EN8Spy9bpVPuv/ij5x0xNvkBOeyoc3Q\n",
       "D/ypDcQcs6v/bJqfRmvxAVK/pzXu19gAAAX9QZrtSahBaJlMFPDf/qeEAeswbgwPIGGowvAkvzTC\n",
       "n5vIKamlVqtHcrheqSgzhbpl4n6KziRFKPugAQaR1KjcL4OD7GKXImUgc4IyhhUaz45xFSTrWTez\n",
       "b/TZ9CGEcv8mbg9rs+6mNb2OnWvwsp4wWAPsO4Z3UuP7GGkKInemXSf6WH+PbnjA4UKxP+lvkTBr\n",
       "k5MEjNL1YCtlXEWsQReBnu1Im6b41//6HtACM440L91Q/v4h4mvmzOCGuSLBeh7W+I+dpQ6QVKgu\n",
       "L0MmF72joh2FLmvTURQfuB9ZdNMVJYkEStiyaHUFS1uO9ES6jyK4yRCf53aQnSJg4CiuJe0lIhcI\n",
       "63uiDsYD/g/8ytyGZ70ijtcR2ZP7EqshR+7BOb236i9nMfbbJYQOj7EHbZ4uZefSVMuIbeIZTHji\n",
       "b4kFdd3G2min6kl3QQ/FQdKH46A18qAr5VtYj1OfJU60JF55M4iT4bTIG9JRuXzE+7JfoMuakFsW\n",
       "0VZciqhH5j1p5RnIsKqph0AICjD6khmV5FQPqi3o0sZPTcUPMNH4xmcypDGo7P5JsJ0l4wyx9XtH\n",
       "sT7PSkEsP9u+JtvQ2PZ8PvtdMEe9KdXBQuIhr8T+k3CSl+lUFCsgNJ1CxSPkkG9RU2Vx8T86SaXA\n",
       "6zEfe0UeIaWi3T0LrE6M2lW0xwREYHDlCKVFuS136VxLda25bRnJaqZzuHSH5LrH0slOWKK8qWGz\n",
       "ekeZ1cFduNgllF9XeG9llMP5NDIpNiOnhAhPbjcJ+dQNt3P/rfTAyYl+1InA5zwJjGAtn7XS7x4u\n",
       "KoTKd3/aZbXILlDLZZb8AOetabiGeD++8x+bCrVEEd/beARAqKmQLyyrP/qzaM+zFuRWSHHinWve\n",
       "77cYejxcYkJy4wUBA7an2ZwybvsI+/g24G6KleUcCq+nioXHFm1Nfv/K7ranYHvxrlwWz51L3mK3\n",
       "UXvDgfr/7b0gpwTHYOlZShehVTZJtOv8qLaoy8oJq2i4cga16qGgB8Npq9cV2MwFyT5FTjce4Bkq\n",
       "bpuB3kwj5KDDPWVqjmDfzHXoVwD5Lt4hgcWAqlhTqULBEWYehj0OMJGJypYvvSO3rigyhnGeW4Q2\n",
       "iV8D4Lyk+CbC4CbgKbBeaXYFoSsXq9wikrfMPgs41/rmbMx8X/foHcFk52uLNh6Vw5fahvS+p3Jm\n",
       "F0H/Yla+BfSyhhQvKBtSpHesR+h+qfIQy/iQYnpmAFSzH/MtWT4glhwlXANu0Q2LV1MjM/NiM+20\n",
       "yiclR5meKxzJoJtu0DvX6L2V6xCtrvi/wkff6+dQeIXHhq5ofALjotKQ2/hPw6HWLCicu4BVsFoy\n",
       "2KJhJyXHFrnGdzIhjoNhF3WGwF7oAucAC09iuYmfSY3DYyDKMBM+16BzTs17v/3IXvSMlV+vnr3K\n",
       "Tcs3H0cofcH+6v6+S0GKraBLQwYg/M/MWBJTeTFYeqLirVK6/oaykritQqa6vyme616VkLZIi6mh\n",
       "u6g/nusXEznxCxpPNSkqU6jVU+OsjCFR+ZZr5ONJCeVnMI9jypE3R55vR1mj+Li2WrHGpUAFkfOc\n",
       "Mnlh/G8Of8IJtY5EgQVjppRiBkis02vz3gwqNCEbZrk8W3I0+qQs83PUl3s9bNmw7u3NX+QjvHWI\n",
       "3cyphaSSAzrUM0Wk9uCTRY2kQR41oSUWTKy9L/YRBLxPFwUpRQ6xNRYf0e+DAIKhpvJb7IuZqEYA\n",
       "/uK1w5Qgnbd8qH32eQImymzzSEx13LN17aOkGTnLLRi5nVLtc/CFp9auYDOD/JGVGiQI0xG9khNt\n",
       "jN9Q40Lohe4h2S+AwzWhT8NUHpo8CNTlNdszVe5XHtNJuvCMumNTj1pe+kNIJiwFFO3QSz4NSJlz\n",
       "FC60wlaZPvyxkmtZsgCUre+N9Fgi5zgYMfTYIcnmqhOi4o/+Sd1qRMu+IImt8APl5axp9zDAjgkt\n",
       "cwXmIh8DDdHFt0XRC07FUmgPH5NoaLszfNuteNIZPAqrbPbhi7CvFsv7149IXxN6KAWo0AFjqg3V\n",
       "k5Z/73JoI8tOSTAYXkALfeuJ/oqIAAACwQGfDGpCvwMpI/ixiLuqFxyNd7ht7VLhocP4QAILCx4Y\n",
       "QxHt0JM+bN/N8QAsNW+rcvz2CP6IPBQpaIR7WCaGV/hc1ivL8WduyAwtRFPvjVxYdIJ/6WkH2hi7\n",
       "pTsrSddWj7/zXUmkXfpz8Guv4o/fxCGbKyAwv+5rWBCh5AAXHU7rFNE5V0EOA9kjfcrX3o/fFAC5\n",
       "l0nCtFoWWRinD7NEofk0mfpAzgjPhDzgMi7NUu4BFmHJPIBUPTOyAhQ/6Fi7osdQWz/NiC1xRHAu\n",
       "1JvUKHKuXvnFQpnzBO9aqKKzCaKqOJYRk3B4ymQ+5z/2muai9Nxz9AH/Vy9W0iGjizaOCgHQtPRi\n",
       "DDU+BjvY0FzVIt7gNM93XzbILWAyz1/X91MuVCZgBMrkdxjLnIH3mImIHfcL/zEak1I93dmZl74J\n",
       "xkRiLzy73HZFFF8tnaj0ZpjjK5tdPbMU0uSWSkz+0DRR5xRZ9OfZb0+dCQGMrXF0OsPWiyyDwb5L\n",
       "YIV/bgQ5eUWcg+v+eoytF2Nu5eMuaftHkpNoWE2QU1syEZ3ROPvtDIsZGpU/ap2gUjsqcAF8lIsR\n",
       "srWKzDaZVY+WNQ65m/YPUUODl8woTn/3gmkw8HLsRNwqkB+d1heaq1YWM32oKFANFACg5oYlSAdx\n",
       "2uVard/sLlK+A+0zYiPQDP5K3qSsDIxJ2HPDmHK0R6ui1akShnHd8DVCMS7T370KkZcXvuegE7F2\n",
       "kwsR0ZunKeJAwA2EhbgChUezCo1Bg8JX8cWlYap/bT38cMrcABUHvu/5Fv/m1sBZgo4FRxCCOKK2\n",
       "gfTjVf17mqfrbWWg+TBPolhEgj2JdZ00Rs1UsbaT13CA44tkyntyyoI6aSWsYE5FhBSgtrQbTyBU\n",
       "Da4hgzmPYUmDnl1Y+Hvj7nEOuIIzEFmBSdqK+tfVCQX4jPOtj/63jXY/RsNOowAACJ1Bmw9J4QpS\n",
       "ZTBSw3/+p4QZ2yoUJoV8a7txJsDplMLagIMFCVotMyGWQBEgvtx1DvuYQDRCjMXR/K75H0lsbGDs\n",
       "ojnB6WvaeZOTdYY0ja3xQIr/oDINPdXBeL/ywi0ZpaYvbtf6darippAtyMmXsXKf1TWLYi1M2uXM\n",
       "zRdLvEJ/L+MI38op4xUN/gXKvUtFp3Hsx1cQkp8Y06wAFhcGJ/wyjVHq5wkkjpcxSQhp4wXkcW72\n",
       "tR4RynqnkIEs64N9k7eoJRrIasyuZqg6iYBck7XvUsqMO4QcvggWz5/RgVk91BFaApt3hBLr8s+g\n",
       "sDzSNp60B+PMk7vQgq/1nB5Uer14czd9es55aPa3LPcfFRRyBdCJ5lM6r+Pm+k4n2ttXWr1zgPIb\n",
       "UX5FQKmc3WErMiQIHW9F1zwJoP2eIOi7LtkXcCBzMRQbTmTVThem2B9K+whxefSCkGd3IRet3q0K\n",
       "0iuvVhWp+IBU8TT+3ET8S708L3KC/0uSxDl1gtyjbPjiGNYkFpSVRdwWPhzDelFYS3YYeFxToNb0\n",
       "YYODXcfzxZ8Wd0Qcqla+iIG/mrge8zsxvmfDHrxL/dk5a2MkidzRcS+9JtzoWw7HTIxJfkggdH+y\n",
       "P4W8os6VjIx7kIaneHCXp9OR0KjmHBOwnYCd1qIWLz2DPEx5T4a+ZxIbMUU0hVk0D75icQ94es5W\n",
       "2A3Qdf60EB6JORxKiCL3lEr3Cmia5fUcLAA4sY+X3+/ldk1MrHryuCIWXx/axMRs2oD6nneXVNNU\n",
       "cmHkqNOna4NViMqqPAfJSs4vwd1Im8X41HPTGOBK9qpg4YD+ChJ4Zq1ohfzulnzLWccBXA7Ul/I7\n",
       "3+Po+v1Bj9FxC7t2ppILWx9OeEHEMQzv9n9BUnI/Gi52Sy5HnWumvaTlJuue46ACnC/NJuLFXHow\n",
       "g499BENjmrXUYh9V1NosvVLziclcxrX4RE7vQDnLDZA6bYtHhFKjQiQVHbnN3hPCxhtFpP+Dkj+p\n",
       "uEu5pKMMhADH/xJf7CzuG9c54OfG/X9nRXndUwxKBtDUobl7YS6dwUfF5dS88UsYvaFI+lS8GJrl\n",
       "T1BJ3rvi/MZowF5JZPL489p0xbOztVECSuoNbbxdqVheMglXAUTDucx3nWS7QCK1M7WNCDKEjzt6\n",
       "rCkLG1+FLPs78VA9rrQLLyEIHu6DDmPgEVqaBb9Ru34ahUH6A+U5R2P8wM4CmwmZBqkeh/ROVxNC\n",
       "ZzrFR7ovKRhCISAnpbaRryFl4Kfho+i2hOa4zGQP/kAA2a7QxAxJ2KS4skgacnYDk4Iq0cQMF1NJ\n",
       "w5HYkTfUMJ7jjKQM4GrzXQy3zYYRrMFrkfZTJXNSqq8wqT/egIjsoSh9loLGVc/Q7jnU6EepQ54N\n",
       "Fw5nRC55/nr5iTOMEalfvhSFxnHRwoCSXuvhIcFuHa5KBx92bwackUP58Hto8PiZk6kWfPB/+mxB\n",
       "VeU68HfDK5yQpyeU98df9qbj+jeiR0q+w9SvTi1i/9Oep5uv63S/X2hDIYcaRs3X9kdSGtdP174L\n",
       "5IW8Ejqw+TrePBS9fSU5mPDOVvHKgDlPgogrDvHALd/2RoRiPmc79K4me6Riha/O2QZa7i3W8HJv\n",
       "pVj2L8QpACUMOeY41ziGZ9gZU/f8hSze2f1Q/04wnxI7+7bEspOvwVUThWR1aSfqY6e070lBlf70\n",
       "7B/gRBRCkQNYWxW3LeFie2V4tJ1J9b31egJDsZxskFk2pMAKA88ActERYts5VQoGf4NwnLZJcurE\n",
       "ezFBPyZts/F/RRV6xUJBvSAPV9qmtIi2Z7Ef2nsgE5wKbBdPeG97Tek6akB/AGA2Xh9BMPlL1YEL\n",
       "LCK4YgVnRYRZq9nF3VOsZUyKlU0i6CrX/bFoxKqTFe5G9EEJ2F0tmacpaJ++Th0QCs31LpwisRON\n",
       "+QnYSU3G4pAdLywOt0VAZrHKSj2YeZB3iQskXxe+euFHoOeF+haYchI6saEWWpnTs/5SJ1/Dwckt\n",
       "DyysLsrnxbvRMfgJX7JSiNgvw9o4OUbUGc4vquCstMfmJOgXl+0gDvO0Ou6ffNyRQW0df9ZX/PBx\n",
       "rVNsrMCA/4Rf1GvOAyr1gBZtkAPY+Unr+Pn5/ftf4SiG+5KrubncR76485bBHyLLp03c56/0Ie1M\n",
       "UZd6Q42YzBOgnlSIErLLf7pPraw9SOgBcxpvZIBk+ld5NAMXVDGSyRbyLbE6gAiSBHgBwN5ULkRK\n",
       "bu6T8rTYXHoRji4nf0ri3tPcCoDdA1Ql+AHlAxaiS9qAGsDAQ1ld+RMOTk8rSG1ZRZAy1ESXyMKi\n",
       "3v2x2mgrskHTWlE1OWo4YbRUX4dZrAzyyqFAeg0M0QStIoXmVdVflwlXXKWALMsPLM+94BJMvAZU\n",
       "cb/Iq9MOydLW34ixJF1/686r/DNTWLFKedfvvsHjhivpQPUr4JHhNkGNSgXMpzVX36PoHQy/xrom\n",
       "VPdRXotmG17d6R2h8uAmJNwiJZJhaMode8LBXZeOgnFuXMRiqyOilPtE5+D/RvDHmj0SkZ57+lhZ\n",
       "AE/RKj62doQ0fPVGInQsxuZsS9RBVCMj/NEHs/NX+oCVhb8v2B+PtssSfJ6M3qHm+p9qnaVV4Y8o\n",
       "xNpuBun30Lms3fuCPzf5/2RK/uuQx6mce3cmdOCeJQcIajCijDFyPDHCcoYVy2LxPeajP75gJbxE\n",
       "9mrJIp2d7LLur518mGJtzPMK5GjRb0xF3i+wL9dFD0Lq1TJNqYG0xdOftmtNnCOhgubvqe9EgMoP\n",
       "uE92r8ZeJos6q1E4dU5svmAu/9H8Vpv90P4ujj1BiU7uH6eOf/+5AD5NO0jpduxxUN1G9G22MEKR\n",
       "6jB1k1m6supYnfXjoA2AswvPjcepljJ/U35AF43js/qBJ5waCjbc01xihKKii6yVG+Tz2jCuFfPp\n",
       "7usJXV08aj4nVRGwTOfW4xGOvFcL0HLJB6d4tlIeYHkAAAMjAZ8uakK/Az3dFf0jjdxB5os1yE1v\n",
       "j8GQ44AHGzq13DqSMfpi6uc53aoC/7ZCReXvTCIZYczygaFN3tDd/Bk0saBV7iY+W0o3juxopL8M\n",
       "H3/99UTguEzW6I5AK+8tqEs1d3UzxHZj/8Zqm3f2k7MgdtMNdJ9iC87gmhBIROcGZ/ZRVR0BNQi6\n",
       "kWs7yfx08lsWSRlrG5zxlirSIAD1E0NErKBp1EczzkqhD28ERVVuk34qEttpMsHQiRDCyLZA4qNm\n",
       "ARFNCYrv0JjLnUklv3VnaIyguAfIvmU8e5apgXBaQwXxBREnz/iTLSzpAO+qdeYOOos6MA9/JB37\n",
       "757FJmxAxxqogv67oSNbbuPFiWcLZHfS7dsckLyYJm17iVLoZIlwi+7PhXfrt/8WHEEN/mW4kgJ+\n",
       "Othsnz6lAuyEkg/8lhgsMhg2a/l/OVXxCT6eAhfR3vYIwvKVO7apss6GXDVCEiWHyIlhrhnLjQ2s\n",
       "6QNsalROGp/H2JxfC1UpSDdaMAQsPZPv1OH424TwVvVpPclX08q1zTfc/IDgd8EFrJhboLx2nmcM\n",
       "FoaL7wmHVUBdtGSojrd/6nx5WhEOEP1FYpibkXYn2LqBIoZXoBAO7qg7uWkH3yYnWgI0M2tmuWcb\n",
       "3zatSh7nPfjC/x11Fk2ket0VaiKh6TquPZCMPWerF2r23BCcx8gM04Q/j1K/m99oNVr9JyD1Sk9v\n",
       "Ys+TaI9kvlaPvwtch1ewgXCoqZHgVIXlhLXFQh8FlCQQYZINkCo5X2xrZd2ZgHYaBXjxf6GmHOms\n",
       "hvlrUtUUAAADAwtWVJKk96R2urZIzn5y0FfEoU9yLgG+l8xofNyxjSz+2Gi90LK5kQPVeknrzVqN\n",
       "15fvNeDaLqk+trku4OrJmaqMG5a3+YUYrxq31Tkxx0rZ60VMtEKiqBSX6SdsxX+Iqr6cxq8zwoDs\n",
       "9xg4+3yNUgMQsV9FDI366hk3HCFGFb6zpOUcdhvs/sEhWuEvmRqY1QLoTpFf8cLD6ZEZuMYe4tIA\n",
       "ecn+jUor8800Vr4TkZUnYVwlG06WuouwagFQyXvydMNYQokHmKkpo+MAAAiMQZsySeEOiZTAhn/+\n",
       "nhAF0tv/sIlSAAJ1mlbjcSQKdJqMObNIfRuS79PCk9/UBmZEsjqwzFYDE/vuBoWs5Me/4Itqdx/d\n",
       "pVAexy+Q8xF0xBDBj0IIH26V8ZeI/VxOg9KVB2+NltGrCMR7cUVtOhwbcS3pEFKBKCTrmWmIKTkO\n",
       "xMBr7TAIvcUO7TAkJjW6XRVBq+BoBWwip6vaffBOqUXsmeXuLDsRyIYb84IQ5wUDlTqxNr8ydGqo\n",
       "ywgGxuj+qL/GBz/uDap1LlZWqjZmSJq3CblV63aLPkopn6pvTQfA47S1M2OL/Bed64Qy5Dej8qq2\n",
       "plKSWYtczXWvkOV+5xGVT1Qe6NMS372K/pMuFaDCRnLtgAdOdI0BOb4lpLfhssZDyFI8trrQtp5T\n",
       "WsZqHt5JSYUNzyAN4KqfOaHXZFHf+AMaNBtFLWuqwHse6rjrB0NJ5WfAATPgzPRmtoqMPYh6ZFuP\n",
       "AlQr/VklOlTLH8iLUzgTEXPC5/88QP4miCdfRoO6CjVjgvJODsRuNLD+PIUd1I9vMr06fD+jtr4n\n",
       "JE7WRi/XpSF6Qdw3/cJkB9Q2RS6C9qGMSQSYF9gbnX12m3yASdYQ0WoKwyAEvg4xVrmYbbee4nYi\n",
       "rPCh1wXyazc5N30Vc2L4cOCRl8WjukoorcgQeb2K6h/ZOc69q6NwztatNg1gqssw40qSoOKVanaG\n",
       "Kpcf6jYxyN2PRDC7+IJ4R9CzSoU5FmQegYWQ2P95Ys0VTYgkNB2AyNSfZCHaor3cTa+ikVsHB3Y9\n",
       "AFV5OVIj9U+pAWjDEoRZBmSw7aLvMmdMQX2ejqDybFj45YGS9ueBIndvHo992YKt/ID8ybGewiH+\n",
       "BRAd4NHtMgTBKgBGPIcRCsqxTD3kEP/kQRvH1r5fvKh8f4KR+AXVawIFWgiLo5I5IyQRac1Fafsj\n",
       "RxHLHZuYlRB9cgFhjXDPF7Y6AFenesnDc7XtiJddqyI2zA+5VVOemGNYPzMh2X8WLiHMcZaeBLfR\n",
       "5Ab9zxVV1K8jznwS6OX58nBk8jLJ628GdMkkKYcYpB8rBIu1NRZyd4bfIOOD09b7He6ZyGFVhDEY\n",
       "k7G6u2at4y+6i4W4FL5j6xTzJUVg9ENOqaVsVQet/jWNf6xC7THzY7qS1IEYxfx+cebLzT5jCFhA\n",
       "a4HA/mxPrODOCNK5Eh5Tv3aCvxh0mUnF9282KASrJeK8S2Wuoj+bO7Dr9KH68K5UbH9Tg7sJUgD1\n",
       "ALtYomyzXlBY6RllKotyMPa03yIm+FJ/st/uuIxbkD3WIv5z62W0HhcOSulKVWaQT0TncwMCLUMV\n",
       "d48tqVvlPeWtaqy2zVrbZ86CuTDdVAVwI+XV3eC4Qbdo8W3CCC3+ipxfnnw+iZR8L5NOPI4HAmg9\n",
       "hbp2uRpqbtvLLoeFs6peChusznGakpnMHg6+dPcXB0qlsQ5VqvZ/E+tP1NjlW+XdpFzkepDAHdLC\n",
       "zTxBOuN34JOgZnJHU+75AGWUClYPWrCzte89SMRb6h5cf2HjY5PcJBjcCFo/1YvR88Av+WxTWpCl\n",
       "/fgYlQ+veeKIhxlMPhQVMN41dI4glzSBX34sXguys6SbFjOmd/F9CXzqB+tfQ/w5JCgjqhzKsBZz\n",
       "jmnV0QtVdMTQC47CN1Q4VYErccnicL/u6xHSK1CHuAC3cOBEPmYO6Gfew+nsp5fdAuzbI8xfRDxk\n",
       "sN+hwqr9NQoDfAMTqZf7K+azNIxvPgOGJDnbbXNbuctjQRMqDJ+OHBZY65vg0VLxVW2tqpb3ppqI\n",
       "02WkgaBB8kIqP2NFJmwkYwBmXm/8ewSv8ojC1Dr9CiLj0J4kSABeJDiSBZl2xe7S2mk1phOHrQTW\n",
       "8STebOuU4dUeZB7XbvsDF+IPmWQli4lK2cnlUddgygwEx3m1gvfcp2sxy+aPds94ud3wUGRrlWqC\n",
       "65wvakqVVyw5TdsNy8Qd5JT/CJzkRKfaFS+XCeqXNNBqzh3bq9PeZTb+MZDHGNvhi9SGEAR8qTxQ\n",
       "AsMbtYCZs3FJT7bGT7rd01e3jr1dtwtcjgqCoA1h4iHcl0iWrgsthh9ls7liWD8U49xYhhPH7L7T\n",
       "c8KeLxTjUZ68nfsxicQk/OH/UXhJ8gr0ho8bHiSyKX9o74ginqSDVPUTNkyZTAznuYLjo8QHGnFE\n",
       "TSszcitll+eZRn7CcnXjK1QpJfjKHoMYX9s0ZiN8gSnpkbhTPU4uFT7PqN71rZ4OYegfcj1kPz/0\n",
       "pWskizNRYA4DCfxEkn5BrPNuwLeRk8ZVv9e+vfb0WNPAqNvhpJuQVjN/Vn0UkfgBM6+G/9oAG82l\n",
       "3y3cMj6KXouz3jtE3J+4zPg85cnMFkO2Y2Q1FGgyEGSTgJK3vFDcKbu/+kTgEFwxloFb9uQkaOMK\n",
       "46MHTpQKBft4ooe8Rp6xKNCu7vLPEUsMSwWxaQUUlgC/XYE7zjUsRpxkkbaCzEZlPKO7lPB64tJ0\n",
       "Jv9Olorh7RTJGN5DFUSMgsAEHpKCtdrOwE7einpB7TpZM0qqZdvGP71wM8MFXegdTfpig1m5BZ1x\n",
       "itY0g7VomM/j0RdWWtD8ZlPhY3smnEWlFpny8sblDmSA9UWrayKblm9CdFgxse4FcNjUCOsdWXIp\n",
       "IdbgrvWo61K6aj1Tj8kNPAOOy1wmjwXi9KD/DqjuJYIibCStwCZkuXW0xxz9AAtHk/5CWZUcKLf/\n",
       "e9QIbiCmKDlYShOGAv3KhZFH1cRgyT7n0OLbheU4nH3ilugMpmiqSuzWg8SHKZWkVD6WmYwu9UzX\n",
       "7MuMj9PQjMweGcQ/7kCJLXGIHbhQF1sI74LtP5HUdcsUaFWupndQkAJZEhl4/wiYFix3bIg0kstL\n",
       "Mov9PU6omravlLbnAOUjt6CphuU9f5Cp2oTwUJi4dx8CoCnmyDjv2eox2GpK9ZXiRlyXw4rO1/Go\n",
       "MBVs6aELaJIc8AAABExBn1BFFTwr/wEu13Kd4aixCmEUYor1E92gBuKProMfLm1odF3CSlXyHR7q\n",
       "T78KCP4Kx+xBmJP24FQZqg7U+02a3CqlKQwubiNkW0U/U7dH0OSoRN7eSZ4lZBvBUy67aDrWYjKq\n",
       "jAzmC+UsWkCAn4hV/OlqBMl46rsuR74eotF6tT0tTqp0DdhimJMyN/u01YKelDzmeWZUBcxSaMCy\n",
       "/aRjQxD4/wyXPlN1x+DhDcgIAjMPRwwuLV0vIcrxCMZAbKWwFtn6UUW9rCkVXvI8vpiK8MB87KfZ\n",
       "Lw5nwCFnsUK+7uzln344WqpmkECjP2kIutGM+igpetZqkMGI8BgVOv8YgUOsrF3rZbbwSYOPhLF1\n",
       "eLst8Yo5VtJVlkvJ5p1h7DeP5Cb2MOA57XICNPnXcPkvaOTDxyRkihNWf07Mzkum3gExiadhbno4\n",
       "R5XbaUC9hWhyoSuiffJbO/NGUFx9gG6OLMk6qRG0u4/JY3qN4bPRdwQyTJPVYIWNEqvSv4Grd1Nv\n",
       "lbK000Tz5S+Sk7/PtaBFAbd2gVdRY98MQpQOSfwDx6Mm8ODgI0gQYHwBzGxYq601NwI3DIVYV6cb\n",
       "hMnR/Eu3HT6+Otv/WpUeQeCCBVM31eKh3Fh1EaunlRO2ZeELy+5hg2p9glN5n903QS/3oJirMBhF\n",
       "VcrK2LwxXhr4CSyq6kMcFE3ePnORQ7l1XYGXMp78V6H+1D1YusERNBY7r6fr9P0h5seNe5wAzbmD\n",
       "99ROshepFYk47PqquI5iEhw8EZ0m6vQqcmIa3s6lGMPE/Q505H1lGKV4teONlv+T5WvAi/quDBHd\n",
       "bCWJWz6Xh4m+LiRJsC6bu1d08aOFkU69tUShdop+0W0YLknvS4wcccaWQ7fxGYyBCmkns8uZQANC\n",
       "Fovg+YAUE6auEhgSiVaDL2kdPMe7dCPMmwgDV7r9btlxIo8qNZ4EPtM2qrVgY6kpT92xmjN1IWtb\n",
       "lH6GJpJCMQYDuyPcXasHjJ+gX/kI+prNoPrZEvbqndgcy6ZxB/sztDgrE0B9ndL2jbGOkwxICXBE\n",
       "vFzWsvHLu2vAtetcOCP6E3stHVZJAmGQ29CnHhxNQU1VNIEmOnnGFTGllgDzL4pQ717CeQZpVyKb\n",
       "PV0tYM8A+dfbcvLHPDU0+1fo7bul+3yCDalt1DbdE0UD/I7IC7sxPx/UrowM3vo4GF9N4YScTSU+\n",
       "/Gp+bChnfT9nVPn8TuUwcmkzm8uzfGn0fgJ58h04dLRg9q9MAc0Jfv3AU6dfOdkuyLi1Msyo5huz\n",
       "cH2t5NJjF+agyiB3Q3AAehPU/ohX2dS5ZACwDdtX3rm+nRDd3XvV1R+cxvkfS/txPJaRI77+NP34\n",
       "6FN/BIHe46Wn7grLF3iGhiQwh39D4bIQ0TNGJDPYsAryuS5xgVZaSg6w0/UGxP5QnDDL7sHSdfxc\n",
       "L57SVJaaKhgyLctOZRbh0X7dfxdbXrvIADB4WPyGZAAAAvsBn3FqQr8BLhhSg9Ce38RGnEAJq2mJ\n",
       "ZE8cI9B59z/DejdhfgH4XD6fat3l5EHVYBJ6IOrN0hFe2p9qu3GYVAIoZp17p5Lb3k16IZhkFGnF\n",
       "tNEidNi2YATCanXZr0/ofus7O7VCnLu6jL3m5ajmj8vomtijUPApGQ0GCwAWr+oqRm6z2ill2tzO\n",
       "7bQhV/OWIaUJpk7IZx7vAkr9pEx9UDZt5KVgd5ICwHgS6XTfybzQN9Bzxk1L9YXL6Z67jwq0pmxP\n",
       "mbP1pfCu2qiGv1dAoBwD0RE5e92Hx6Iy59oyWO8VKcTccf4SXcoaQKIu5ZCJdXSJPfFfs0iW2bXE\n",
       "P6tD/mZPEAkBSFHOoA4Wq5naaHWAMtq85X15f15Tde5M+jxGs3NMo2pVRuiF5tgy/3UTwBkUAF/s\n",
       "yZIZcERPLX2tQ3ITDlzT6tQi5lwDBvwCfKWfNb+eNfzBOhJmaXvIEGLYf4RWi08bpY1oadxkTwkj\n",
       "3DRhiWduPvHMnK0b9NrFlgyH1EQ3/VI5jVKwZ/hc/4uyu2osP2+sS56zH37LEv+tQqyZufqDnS0c\n",
       "ITMOOEnOGEaZdM4MGO/lzTd8rXmSBmKW7yq/clCBD1hrh8A9f3/hcnIkvV74C/+RzGFNSikgMETE\n",
       "Xw5qXJciasAs3z3LABFsA2+mo6+++8mbk7RBXxvWzVV5W2kiCasPbw4rka1dHTgIM2xLSP+ie+YQ\n",
       "MRi+MIWB4/2uBXJ3M4OkOX3OB3imu4SsMs6l6XcleoZxVYQToauTA2is1xkWH++aVaceu9fPLuDM\n",
       "Uc+N+tqs6eZ1WhVfLeVKqYLRwe8L56MmV7OHmKh2rk9F+vAwfdMvC817DoOoURcMq6Dzvw19qxDu\n",
       "X+GJy3YiD2Z/Ut5tgOYJnRAGY3oNDlfobt+UugW8k9IbzCYE4JODh3Rsys6vc6e2JrUSnUODExKJ\n",
       "J8Vt3IB/ISlKo5x9WGi66NI7jL7+its/S3ibcqtIFTri0RhjF2aKomIeQmF/aFnOPLccDpPUkAJr\n",
       "AAAFJEGbc0moQWiZTAhn//6eEAXF7ey1QZDBJVDAs/SL/YEtIAHL7DsbdVWRFTZnmoxQQExMdnEf\n",
       "AqWbTbjM1FwrzAN/mrR4A6qi6aAd2bBmwk3QmG4TVeJVw5DSqQ/gKoIo8WwWmADBc0RTmXsx6hUa\n",
       "OYU5e2xErkfgd3lCkKwGx4wBMdQeaSVieDsqtOOLxZYpnlAbNbyVrSKEq8UWczTXM4VMk3cukNxT\n",
       "jgKZ/kx3lHp1Xu355/ZhxA0pe5SgVj+i3eC8+KOopE4LjhfCNE6mAOk9J8HT1sqZLsSYxfe/xda4\n",
       "ZxW3m5Ekw6ccau2Izy/byEZ+f2LVpypStfzBv/YYRPqbdFjP9dfEPku20qGkNOeLGxmk705xYwJz\n",
       "gDu0OwtbytcSREBIoIpMvfkDFmq5/uhs555lwdIl3EjbxzmRuX42NkIWILJ2HQSH893fWxwesJrr\n",
       "OBPSdAcXUqzrupurNxWl3FsseY72/xPsMyAyBeLXa0qSa/kT5mjtAUe6+KFvKjoDL9nLBVRumlma\n",
       "5AO1AJ4TbAdVGbUSm+UcJ6zYqqOmlzJnLFVUGV1iy4BO4nkhxlutRSd1ve08aT58UT5LgSHenJpe\n",
       "GkgVoMNclwDLHgTKEPwDO5zOS7qyW3B2gC0u+7uOGegmp3orCc0e50HqV6jwVk0GJ2g+d1jnZNnx\n",
       "+2SsI/UzQwOhwDrC0l2Wx/ArvovnzOg1h/wYfYcnKuI2tr5U0fXtsB1cFfMG5GZV3Q3gXL4+IR77\n",
       "nRDxWy6QE20sciJYfmP9ikDQuPSylEZv9+IBx2Kdnqw+/Gs23xoVK3msWSZwlleSQuvhtdl3szZt\n",
       "vWBczDQ12fKOaltDD5F71wtA7zwYaV35YQa93ev7QQ9sPrNsO19/SRMSY0fBHpBioBrQpUFF0ALl\n",
       "4ogpzFr2WtL1hGeq5bYl6vPAVyyxTCsEhnfuEcUGlgqyL5QyMmwF4Y77/PQZwtEd9DpxNA0sIICP\n",
       "x/IYXoWwyBRNVYsk83g7BW48n7PA4vvNRe+EbE0SR2G1JVQMHBjVhoUUqtJZ6qqUiS9vyADM7DXy\n",
       "tjAllMOOJj3sn2pRv45gGASq6Xt3GTb2iX4M7Y4K1tHNEkfvTtTXpinK8NhAWbepCChU4KS+4+pL\n",
       "3IvNcfRrhhOIZlU/lKliWW0uDkQji3q8kk+V/I5YFSRvteHh8izhBU8t5kvrTnMGFpgccDL6TUuz\n",
       "iz21VXRMxx7Ofx3m1Am2mdAYiZ8prXBOyWRLOoV++wxHPJH5/sG0NIwZVDPos4hhjgL/8671h9rk\n",
       "uynZbXjnAjdI2KN9uwdokMKunH4Zyt8Us+6yxm3nJ4K30bUIo0gXre8WPvwwPhgoQAaME6mg3omf\n",
       "v/V7U69SqNvrXn3Ceu7QU6xYnkl8IfZmduXGQJ1GaGtgj09FXJQf8lJ/lvmWXAHJaJQWHAqxWnmz\n",
       "Dlylh8QgB/hCcTvZk9CHA//6+vqENpCVm0W4wqfg3SajRLwLe5EWT8Ch47VZu1snz6u9+EXWnyvM\n",
       "nwO9Xv77bKSla2pUBlpiJIZnHxcCguC5uqmvZvs/UP36i9nja1+LEnYHmmE5qWGeOk2b+U0z9pd0\n",
       "yXOgYmCbpQ4U23eeW+8c2L/AoqULHMaMDtTrmL4e4MNzd1TlhFa2yu8Jka0aK2/q1P57aC8VAPBX\n",
       "RN+aRBG3b5/rOeVFUNOv3VArWHb35cmpTfGwx39bg9FiC6BwRu2LwCr9jUkutB6ENSGydTfZ4mT1\n",
       "+Xg4pfE8/49sAAAGgkGblEnhClJlMCGf/p4QBcc1eMK7ylSRy7Ex/8E3Sor/9ycAfABdAewScXKI\n",
       "dauqmEi6rl0lnVL/KZNv6RZuUIyl3ms4Tcd8v1DBFtzNAKLwCVR2bScqjHt8vKbiE54Gn4Af7P6k\n",
       "n/SxXJNV8C74Tj9TMd67nWNYaMExV1ltEKU5WsswIph5EjVhWk+Bjm5+6ovSL57ak3XOLXW7dPD9\n",
       "wY+SlC36omjBq1rwqsM2ZbU8jhJFn81/dGKREEfJdOuB9nFdG06nKG6ECAhtkrUTs0jkpoVnA7hJ\n",
       "CSop+6yoH+9rMdj6qtVM0uUGyb8yf9x0haw1D65q1VZgFZRDuD13c9B2wA1vJox1icGd4kVRetmt\n",
       "ajC0DTQIq/nuf0rfW/s5dUILuncPZECpfFRatPdpAj+z4sdoYLSjXZHO8mgT4Qc+Hffp7HDmtV72\n",
       "AcUsqHwJe+Q8QHUR9UPon/5nN46yCIvrwwtZtAqjgon45YiZtZDCRwSVRDX1lixs7Lum9RTkVU9N\n",
       "WDUgY8UPh5TUdl4e5E44RXEESLWbnd1Uw3CZ3ilIVh+vDEnT3fgZDUsNDkVkXfa0v6qcZPAvlEqF\n",
       "VaKYRokCkbyKAPNG8egCGAkAQAlrYohWd6IwnTE4AANufqemLcAIbPqjJR97M3GXgFjvE7STnpmG\n",
       "sncLheu7xM8a0claJGOcCZqhbO+S5HyhYLe2qRh1vQba/BvSmkoE4NXENj2IBocwTszQtcFFyDbI\n",
       "61TVO6mXjqqvnlvyBVQ2tImne4qh9RadPJC6YEpEA2KGUy8P9EztBfpOyKElnqq3CqWS6PlZZXDM\n",
       "c5GbrKEEf+NHO63/budW7BvxQboM+x9fxBCjOnsOtG3bPdob6W6z5E9J/whCF4QEzi1H1tiyUfBd\n",
       "onsrAprJJ+KtdJh+ymPyoZS4b1IqLakMpohmmgHj7YTzQK1h8YA+HDBvWo3fqc9EDICBvs1xmUXI\n",
       "EcAfY7q56ZDLh0Lv3SSmUJxldapTqRjqitB73tEkMPjkt3ujNqpNtRQ9li8bMNmdOI5LXZFcQp4m\n",
       "NoqGdHweot7DMB7cqYrkqnJb+wpG+TfbY6uIOBYYPrTjEXkbRwNW0ZgMjJARJZvQb8iv/6pyqLyV\n",
       "zmSpOjrC8kzm2Jg2+ZL7OL9EXr1p2TnIhD7M5kDZPK+DvDGHBWXhFg4c/w/SbH+Tg+l3rzR6qgna\n",
       "fAjZzlD+nyh0wC/rWrpIBoak1j/X3v3K98f07g7DmzMwE1+ls9hHJ3QhpwQI7yQz0Jc9PaMDP9Wj\n",
       "S6KnSjDcHL1/O6bQ1XM5LPrxm+Ao9hOvpYfcDlgyIYnUCrVIN//VS/keZTsIfOajYXM1/PWHH3km\n",
       "lF22GV7jDNR4gEkgNIsTC2LxGgrQSkkdnluZaB+KnoJuZBSveK/wRyBpnMu07+mfjA7EQl1oEwIR\n",
       "flKj3vkhbBrvl1QaQb3nF1k8aY/yIeDcqmRrCDQtncjyFIn6YOWaLxG1Z4WSnPbvw1UjmxY1X89m\n",
       "ZtrFnaDHfYZGBNIj+YYUYFrMXZ81CQlsc81mXQYbpU6qsrxx+albdw4VUio6TLtVsOtUqYPeVmLA\n",
       "1VOsCWJXBhyEbgWzpKXncms32VQFO5ais8FPu9YQivR6iYiZMZTF470x8eVR271KB7D7x03SKWsi\n",
       "Bt2vJUSe5BCL5CzpsO1lFeaRnRGU3/UFX+9LIT0Or0Fn6oRPAsHcya/HXvLqaIHIINmGD7/BSkvE\n",
       "6PeEUyefKjKPho9AeTvTdoHJpHDSBBUsoIkT+nOS8LKOyO16jV0V4C05a8U94QBIqtQHmr0Dgido\n",
       "nMqA9U5uXCOHWHDfBdkw1eLlKCjef4r5j1zocymm6AJGXU4nZzO64W9FdA9264i7GS/u/VLYGOa1\n",
       "TJ2imIkUu7ahZpfWRtr3IYf3ruSA0hVLL4yJCByH3BIHCicZxg9JDZPBrHeabRRIiQ5EpxgG4POZ\n",
       "oD7KkO56lMcxTLGdrTNByFCL98tfUYBrHlG8D3YeZCU/lZhor1tBIy4LRt6DVxQm8AX2C/NnyPtS\n",
       "/37Jjq8q7KeX8jvtvZ+eqYFFjYKF/bCyN5Jq1H7XV7XK83iKwWP3fVSIi9cWOh5aeWnxrbH+Wemy\n",
       "HaY7urKyqrv19ozG0rmDR6fehJOI6NTtZSPyYo9b1owYWdBf19YE8HRLclcjjIvEnVe6ZytUCm40\n",
       "32exgSO2K2VxWEzbIKPbZJxZivpwsulSZsAAAAdIQZu1SeEOiZTAhv/+p4QA28VGkAKyy65jGsSF\n",
       "qtNggmKt7zSg954k+M3s+og8eW+4jQImQT80mvmqvez0nZ/MyS+ot124X6EWct4MwBwIVqnmlXU8\n",
       "9K8n0qOCeaZevEu37Qv9kfIg7gh2fXCq9hSAkPXQ+q3lkCcmoDZTVEojNSoNA4cxvWsZex3AqJsy\n",
       "+Ya48trxlcbISssKRZfycZPWLkEeibyGK7pxh8EOPKVQKhYssIliqdvYnb2J9cLm66YyH4ZMEVtn\n",
       "C6FKL4txmU2LK1vXORBn82L/ySRiU+/MyQ4m9XkQfxmwzuc4R1T5fYrpwYaHoGo3kyflCMfR0SFc\n",
       "Wk8T9HLmwiQghKKnNB/gZemf6q5bqErcHcRSBFb7GLtY3/JXui8s/n+fGKvF+KXYDI/amPfvlrAJ\n",
       "c66P3He/JhDBy8VTj2xB++9eNFx5M9YhD+1NnnhVRaIbnBNtmoLF9pwHCq/qvx5MQORdNihe9/OY\n",
       "xsuW2xOzmInKF51XoCEf2GA1hvJNCgX4D2LTU/0BxylpXznHYal7pIEsPCb/YaZsUSqPfgswV95q\n",
       "2RXxdNlexWirW8VovRp0I3lEUfKtLIp8wz8fUEvrSCJ055+qoniflDksw5ySs35AVYrlKB+NVj6K\n",
       "pE+jI2JmMhjeT3CxmU0+LDpFfGBZEVcr3yMTZXeTYvCdVMVi3ziQJG54GdRW2C863gVRIqVzmsdy\n",
       "0teCkQZloQKOxrxJyFaQy8uRBsn0O0OagsCnOyVCOrD7foYEVooXO4/jzz/whvH4np1+cdVEdwkB\n",
       "xzPtRYC2esdEvqFdZq6q4JR8IJYS7GGWcgWpybfyHZ91dyvaTAFRK+q5BhQoZO7Fw9nQSbLFW1um\n",
       "f/Abt/ppKbNo31LXIiZ8DU1Ca0Bb9qbUVtH9q29aA5rWFmVxqfXEF9oQucntq4clXwaBtl8GQOhz\n",
       "1sECX6Pu6OcZ/rCC4Wiqn/fYNoQqAxPUNbc+n8dvnLu0jPgnwS2iNSQ1DB2kkl3sJDy6oT/7M/zD\n",
       "m64yBsgFdAB+Z+1z/0IEMywNXBEFG2X7FtYv8ngae4N+bK+T5RLIabfA+uKw97u2cnuU5wb94OLG\n",
       "VrlCVq4Xg3kmX9EXyyHpP4+SWeCfmYsOqdG1f31bBL0ZkQX+kLUn4m3Cnp5AvfxSaVgSy+gk77t1\n",
       "NXzOCEc/ttdAApvEePGQ59uq9NgTfBrq3wuSv9sjwn1Ye3B38C9eqqHbvajJGvkxSTppm4IGooUs\n",
       "8nhm6JoFmDMIqvA/H3Lu7ksfodV5y2jUxgKphph4GR3kLLNN0YKQxgL+AYADdUb4BPvNFr87hYpw\n",
       "fZ9qldnzR75Su5GXzOk3dgvVbnR9HJCGU9fk6rgz2ny2t3UDZrFVrXOWXJnyBJ1lzTP2KCVg+LXy\n",
       "oJ7Lrl6UytY8Grfa9rCEmu2VoH/vXUoGi/5fcAQXzazMWqROuWA4CsoObYeVHwDeCOMFzyfNw1E7\n",
       "oItO6KZrKzWqrPJYGM6p5W1n7IJq6woOekwKKb+BAIL6OPI2Kq/vz0Og5Fp2ZU+22iV8tZSknXd2\n",
       "yQvBId/Hr78an76sXTpWqXXw9Id/PuJoVPYwx3TFgMAQD5IGO8E8Z3rL72FrWEQUcYTMm5eUmrSe\n",
       "G6egeRYqIrZpkDtfSI6Pb35TfR9SihHyyvHkbipWoAW1EHBxW2PuZWFlPnDMHxENf5WrRXwSSFbA\n",
       "0EXm+GVrfVrXZYJwWWkpah7tqS8/0hVvF5y4xY5pxpdFA/sHNVnr8LsDNYqpZbs+wz8rozBbxCAq\n",
       "dPUUVr/DT7QDNCB7pRHHXDUV0tRDdHfLIt0+7/4lb1+B+XoWAE4dZLD0EnZXmzT2VBJBV4IynAd7\n",
       "csjuZnJ/3rEgTEOO+mlcu68DO5cXBfL/t7Xv1/UD/2V1eAAZbhR3qoHAt+3zVVu3dsKXW5FaDkmw\n",
       "8xZqcAxL+ThsP052a1K9RfyzRb+PKDs2RR6Q3iayFslmkFi4QHc+IZrb/uWjGvJ+VgXYh/15nJ8Y\n",
       "en58nKatdNg06z1ti+Wtgq7ZM5Y2rEZaM8t7AgQYqMENxqy+sqCTWYk9GNtJheDQF0xBbDm1sVS5\n",
       "Hd3aYufDAp/QswfZjqxnp8DzHAXBRzzGzEoYTV/o3Hg/UQzgaJE0zyJoULeHIYmSWyn1wYbqpdTH\n",
       "7l6BlFO/8DHyzjRHrQcCfbKv7Tp88IqNpbioGZyHoQvvLHKgaBQyAgA8dCUYoeQqL8fkt+BWmu5n\n",
       "UHeXivb6mfM0mlv8zXkfTD+93+EFr/4EdTNbxIcr/ijjffTi4z5oLUB+vJcuwONZHcF1I6TcwjSr\n",
       "aXAoyMOw7Am6Qw7eh0JdSG9T5ig4d80XnzHkmWAsNw9FXDXmmx4ZeOKhErdIyEqTEcrDJ+ZKH86i\n",
       "v7f5/HUFJXU663b+B1kVYD+ztI4s7z0r+U/JSby1l1FW4MA9TvRlwVrmlFO6qQGjuG7EKEGdm9K0\n",
       "V0Tdv08/CP7fMwG7QQAAB1NBm9ZJ4Q8mUwIb//6nhADbxS1ACW5saJ/YcR+y7CUx0x4rny84McpN\n",
       "9+i6KI28YUUoX2mIRvgjsY6i5dPTHZFI5w/5RMAI9voj+HQYEIVw5A5gULmsHDbJ0/y1XDPXjZW7\n",
       "hA8knhKavlkaSsaN9TZQa3ehq6m2Zfl79PbiLHoWcOCDwW1eiiFJQ2eTvyMeBvUafkU5uj35RyVa\n",
       "xyCxTOsPD9jHmpAuzZzTHGv5+neAoIjTt4LehlWjqj8mtM1RPIIrSxAM1GcTRVUnjG1s0KPfSxO3\n",
       "V8wbGuLRXCuJgnN2GVvAc78mGSDtYBR5NoSsDd2wOk1K9Mlm5S/XcjnvIFFpeUGsCe1HiLnOFy5k\n",
       "b9tbdU2cm8V8c5nrTv/pPY6fI8mThMpWb+XnKUHf7Fmzo1zxEFuz0ux0yZDIg6KuxFJhGYtSexGL\n",
       "5u9PgNbWutsu073mkWDmuppcbTvsHAw9XAQHQZMyWc3X5sZhEXclgMaIzEa3DU5wvpT64dpkVt5J\n",
       "jkbQOexqjWEEWR+ylZ020qsTTRygDJZFTL8bL/oxlUPt4eob2OAXa4Wx7TsffzjJZhbHpXsK1jZk\n",
       "QpOZJtxutv4AalyB0UTW8fOJeJndN8qoId886er09f3uST4el42rdGDt0AtwFEbzSM/Km3TE9XVb\n",
       "CND8AAR2kqQp3Q1cEljGh4Wqzr91rizVntwhI7zNvO3IGlc3c7glh+Dscx9hUpFdeocip8G2jhzl\n",
       "MN+m2/SevYR4H5g/YEZ40LWUk9UdVyB7bpdO+s4klJRXHxQk2O8asSzCLsEMpVxwsh47GAF1EZ94\n",
       "M8F50J+QKXCIKcXxgeT2+t+04iLS020C08KMYrtdw4me7wyg+CeVfNoO6I8pCVlluNmFTTHOrUNk\n",
       "URMUhx2dpuSrHXqYmeA6lFBHK8s/LS8bG4yKqEyTqJkYGRsfMebbpITfn0OCBCnB/FcGF3z4VvcZ\n",
       "ilVz8z7LTDDn8oKO/Bv+SSF4qiaY68mKgXfyoK0QgIvhXhK/azJYx2mTeS/A4wP/pNGYUh+LFtUC\n",
       "6tMLEr4E/w7OtYSb6VjVGWNAwena/p4x5aY2pEW0T5F72WGEuJU+QhSC9n0ZOHHRPghd4KhXz1w6\n",
       "cCAW90gwrGCzg3CqYASCfNTBAXQ3s9hUg2oJG2gSsqbR1tWWLK1++V3pU0JQcByjJFNjY5gBeamq\n",
       "ASw3EEro7ig3IOcjHTgh/uXP2iqPYlHKZf5r2DqSKz+5HGYaQJjHkJftPDkiQlb3mYGQMO9i6FmF\n",
       "SnZcqr689niV70lAqm2pBU65OBE4ppQfGyeSnHbt1Tuk+2tffdFST1/KiGBFOtXa0xphZS0MNewV\n",
       "nrtKCp/utb7PrHCYoByvoAcQzt9F2m0X/xGPi56DAkApapuQMNsHqBuz2WRy0nRd0iZzYH0e4tUc\n",
       "2HH0bx7dd8SQhkhyTGffHIJ1/WdeojyJ36stpSVz6wLd4Pg9dRqzs71gGpV7kaAJ7ILrLjFj2Rmd\n",
       "/STPeZyFE6Go7ylSNI2r7shonWggO8i24jDIDSjbnB8oOmdmznDYFhmb0E6PIey6GxeHL1PTwomX\n",
       "c79L+XnAjmE7CJ8lCk1R9rl8vUi5yNEIfMX5yf92Vd7/+NU2SvjZ4TCFWLxpCNjxLsJ+vHNgPVbm\n",
       "89s7QV5lLy1lRkxE5m5dQ3yNCheqarOmGIYd8EjhbpbXvsa3dju7TGB1xaGlqBlEPhlku3n+4cgG\n",
       "EZFAkHgCpdr1Z5RBn5eJ2o58iJaRa9hEaow14XSUEggrdK5EApcYROLr/rFVNsHJb3IhWLuFoim/\n",
       "RA0SmrMe+c4EhsLJysBR2jJIN5VAoJTweeFrhzIsSeZKOpdNZJnnkdt8OIninzjpC6RbEPIkDlZW\n",
       "IOGexp7kScTG0f3sT6fvVNP8Db0KAZTRdF5Yw1ka73tyifKtXfleSPoQr4jp/A4A+3wNUC4FKd34\n",
       "nukJausRLbJlLkMDZCTkSfa10hzweuNxA8/AhkWeSBbH57zPAly58kVMaf2TZPQ5VSmf5fVga2QG\n",
       "7PIDbECuVlv4WaaevYWLnp5gxDAx1j9++8cwtKibQAWCyod9LvNaGiv8eTI+t1Vjp7x+Fc8PyBki\n",
       "lWYOSEBTyQFUSDvq+0sG3b3y9coPhqjDrSBq4K/r/ikp8nc6z4wG2yEj9A/6bf7FdVvz0HnGGoG+\n",
       "1klM+N/pkE3EQ1p9F8NwQfB7u0oLgS7KJuRqYZX1uyMsRrLrVuJsimZlpQsuixEYfmwSXmgmYYT7\n",
       "hJvSTm2Bcqqh/yckB00LBiAKB3zsVWLke+JUOIittzw1yCZJR1cE82zSe6F45ch8GTUk2/fBe/nk\n",
       "8hpoRywAWmgiHVVOdSa4TrZSrxYrP/PeNSAqZnEzBIM3x03XGfw+reahv0ZJEhtbPU+qrRVz2OVl\n",
       "zWjuQMq3erjedInjC+Cj4bDaMiaUUWITxfqQeQJWmdztcNUR+JjK1PHfKnWKEEOUqW7GoJK8J/ai\n",
       "NlbQy1dk6PqtVT4AAAl7QZv4SeEPJlMFETw7//6plgD5CUUAEQfFWpnj9zyuf9tCUZyzfnDRDPyl\n",
       "+5iCJOEDxnUeg36+k3qHpwQ6qvOmmHJltuqHf3LEoHflFsw7QIHWlZ1p+a2PRdcpz8B3loOziiK+\n",
       "mft9Af8v/Y7NjkVpo0E8K0Im/R7zBwO3+NJuAr08ZcKBzghjx+IaKtpVYX3C7NGm/7RJAEU0w4Nd\n",
       "Z2DuvmJGgvWXbpTDNXigNX6mTmv6VdUdxhyYYbxsZ69JIX7ifIyJtR2kyXdbqUP1LB96kuv0RxX1\n",
       "r6TklPn+86srQNpEROgxaO3/X19FkdLQb0RiIKrTYh0tanWUdAXY0r4GLeMbYhY0ZLso9Mps3BNP\n",
       "YFJ7QhyemgkJkctZydMk2doFd7kVLF0vwI9u/KVO6kQCHkXxfvD8zGvZlxqeRhgjuNsI8Pl5ZnMW\n",
       "qDekg1W9GVC/qXLcTJRhkUOu9vqQl0HD83be3R8BugnnQjAPoyE9iEJvYJdQRv1U9szDFSzz1Xm+\n",
       "o/AY9yp5L61WP70nJ/cMMwanv3kR5RrdXVJGRf30pJZIF8ZOW1u92eF78Cu2ZyK8c62JZxZxbH8z\n",
       "g4lk8yRl3RA2k8lu/siadUbUcRFs6l5fHo08LmjfDogS+mNMbZLlRrPGrwfS7W4B0CIsecgvX7Kw\n",
       "GUM8c+f4SpAojBL4JvVxSNRQnSPFsSPOFCMibZ9isFWK/XGUtR55jGe1lM0Yu50TfwA2FGVK6i3c\n",
       "qg98R7XWjplNqaEtZJy6UvTrweC31orUxTuB3iXFvdRTKu6/VAvNAIzBVMH1Gck7Vyrv4sTGMm1/\n",
       "9QfdXwCU7TcTRf84WdS4azG/1SnflxLvmgG33GpeIXsbT8GWwBLl07LTiPBJJqLzgupEbuPTkO/w\n",
       "ChfNmD9qPP7kne1Bfux0XRrJzd374DPS712YzD+Dv27uPr/JDgX+6fJ7YBWiEP4CnE2tFoR6w1yf\n",
       "Tz8uuLQ1HuFUduq3mnOEqty5/rihD2OE1OtgNw+u6ZxXbH2ly0jU8OXBjqnAHDYRUXXU5t+ptDXa\n",
       "kRKYxU3Jse3cj8XE5LiqT45DArPNhGMa+bnv+UstRlTSiCWg+/8mHdIzXc9DNvXE8c+ckASL+xMH\n",
       "+yLAZkALz+SbEL1uYqSdsmt+gErs4A73tzXlUuuDetEgBlTE0IfS7e4QngunO75nDwaFNNtBv4Px\n",
       "Ugj0HrnjIsAduDehONFEn0X7DgNoTdOcRhAcWRU7vK6ReTAS6PDvxDBXY9x7/61Iqya1fA3lzOiG\n",
       "1IKD74tMHOiOb4zD8gOh76t9ZLzpSAaFxqjWsT9hU2CA5P0hCxQ8/z7csJX0CNoHgBHElyTpevOD\n",
       "RRQ/is2b2csa4fufYoBpF7wCyvFg+iNbC4pBR2/k+C5mt0+WXVFFT5X1nsLYwgAu43kye2KiLlg3\n",
       "MUwJuy9D958yOPXx+EdCIozKzC+1ka+BOl32mEogx1OFvxfMulGIoEfNRCxqI5IPLsd7CyvUueIY\n",
       "4ttzjJEum82rAryUo86rJ01PYT4etN16GW6pj/ZSY8yzehE1YKYD0Trtq3l8VCClshrR5n7E2IOA\n",
       "KcvFsa/kUCTqdCLH6jAqhNfUIYAnircRpIQC5QmOTpnyhELwtlnRNo6zB+7NCDbBrT4xhl03wjwt\n",
       "yATUPAtV7/8/xVRHud9mO2YnQumHhz1yYQKnSN33i+cMSmVZL2HR3GEesBKg/d+UjiTZIq4WmLkG\n",
       "fn8Ss2skx7so8wRWEb+OUw/sIBM9YAHznvlkwR5zhOBPUm9q9Y+M0WBrHoaEY05lR8gQBJ/hvwz+\n",
       "CP/zyZ4lsx1/zYoaWs8paFXvP6y733G3lEzzQd/PkCM92mlfJUQHb6yBCNd0QRmjHRRjqXE/Ryqj\n",
       "5Yf2QCuU+HO0ymYobEM+l8bVG6IMtrMabbB0KSBsF36MkI+rQJ+NSqGq8TGhtIzjB+pEUcjuCz7r\n",
       "DdYOA5ALfp8fCOefsfkNT11eQumEPrlZD6MBGSZt1er7jnogBxfxWYpoOINLorvPc5SWnlheryoN\n",
       "ORnGsZL/oPM5Dcdeey1lplkN/dFJG5irPqIWbpp8Kmztv/ZPBadD7NabHGkRU5qYRK+XmAxqnovZ\n",
       "fbV+IMKjyg41vMKnoqLrC5gTEW2CbMDq4C7XQTeNukluaBYQZpeMWlBHU6UI9lq9ZZsl7+yaDAC8\n",
       "JXRg3xYl3aFaWtoU5GvvQ4jS8mePDho9d9/YypBt2OjmD9kWJ435cbb+PRCdzoMsIVLF5NSPwtrS\n",
       "SPysg35pSAfvQ0FIUgm/5EjN/rboO9iqgKgfs0jNk93VmjIBMd64cILG4sEfevSrC2a+t6lgmDph\n",
       "9Lfxnj39WFaa4Imi3FkPFm1uvvipbzEHqZbUTO9bgBiN2Zwzq/2H7VU0QVgqy2IeyqHjGDBnRQL+\n",
       "LLUW/VrzAplc84/ZXmhGbO+5qDJbRLj2JANW1dDJGm48Ed2mTbFPEoF5oY1Ezogcv48cQzKDm9Fj\n",
       "hAxsGeHYCVtROJx0hEJASuouqPr++zwqE1+3mwrbv9lhhFT+d1qPg/FXrKOsQaTUhT+acMtP3LwQ\n",
       "T2ImSPfUub4fAG+nSf0lA3hu1dVBuv2NlzgVOrcwmR6F10lZHmA8HxA6DhfT3/jbfSqIkJqpG6Vn\n",
       "issmm+wUfd97HxV6LpiIny8u7efnlbL8CqyDgY6SLYPqdoxGESsgeBSAhglhpkkh9Z8E1sXLhHx5\n",
       "WiPLXTAAxP5U7wvDTa7jkiJuDyHvuSoSMHUn6FjuKwsm1fy040shMdT+IJMFvnEH5G6lnwA3Ps8v\n",
       "deYKUwGxVZO0g1+txkgf3XPm3xzCLtlMa9fuUkqMXt0U5pmD2j9ZNAWO8BreOPP8tzBPainA7eH2\n",
       "0zrGOLm/1Jn2wFpr/CoyvNoXe8mecep8icMfY/sU5q3QSC/PxzpyCqzkHHuLDhMMS25gznToQfVm\n",
       "sABH63hhrxGu6QF1MHobqXLK2LULlsUNUnDGjh/+gKc5+G/3gDxpT7eADqz7qPDih5d6cJellE/Q\n",
       "/T0I6x85mUVUhOFhLZ6ItrYsQnjrEy5AUJa1je8CVTgZKCQxjb7sxA32m2Of2+XZKhjS/DaZDMDj\n",
       "4shkxb/iGMPlApD63gsKycxjgvaI//uZN2BEgZtEeNxUY9Gu0VD63j21Qs5L9JEke8mJgOaqfxRr\n",
       "CfU+cJi9Wk8+nZOr4avsjojMxfC14sPf+TU+D/g2oIutIcrMem4Q5riCot8uHwThAAACMwGeF2pC\n",
       "vwMBRzpsCmR2lbw3ksyJUmxr6Uce60UAOJZ+7MGj/Yttaov0gL9NMo8QCdCUxZJnrCw+6P15hR0s\n",
       "MDR23oKCAZ4A++BkoLAMzyS9eSDOikOk4XQR5taYlxOt2Qh1H4qKGAbRihrH0jtQ/CBO6kbqwc+0\n",
       "fiJxgjQa4TVWf6Hls+AxF3TZ9fJrQFL5C4EkDcBfpcZgoEWpgxwzXNa9GAws2TiZskcJiBK1aMBp\n",
       "hQ0Uh7qv7Es/8GtFlm5khROIFAQ2I7WaZG7XS89b+Smci3DHl9vpuSmDr11tzMCX/+i+V9nq1qxH\n",
       "40Dy1zjsmYjwsFAwZh+JCl1qHowgg9j9TlbpDlutC9YD93YwVfLB4wk2wF3gJJWQCo2V3FovJWAD\n",
       "48YYoQwsgEHdzEus2BjLTEoN7Kwu1BlGci72VxAFYzAq/EnTQRbhdxmZvhHnIfjuB9L+sL5tZ6QY\n",
       "30SVQDa8d+oiJ/Hc+gwoCLijwAYIKFyQIu5Z1X6uFenkKa+R9/H6AxlSfCXowHZCvt57HVJnT7p/\n",
       "kPwuVsvbsFzjbiPMCtQr7+eB3ymFqo9itVzuwzkVnVRezbGqdCKjgkC9ftwvI8smS429lTpoQTnL\n",
       "OG5neQGJWkp/n5QL4iJ1/dmjZkznibU8NTCYFZr60Rl5QSMjqEiXVoQWw+E1v4SdSmq1/QKHG1QJ\n",
       "Zks4qVYv3I0TJRlsse5zQj9AtNrlA/rDxV8lRmSV0gvsOOAppeZLrbKerM5RAAABTkGaHEnhDyZT\n",
       "Ahv//qeEFZyNc5VBrzTQPKaTMVCGr0ALZ1cwsE28LEl2x+ay9cxagLs4/LmTlCaOZfCcJAnToS8Q\n",
       "uUw8lpo2//mUBN5W0lLKHU+83TUKu9RDcT0L2Rs3vUUUNu6JFapgAMvIEBpRn45Jnf8Z7GVbSyEE\n",
       "GFpVOqZQT5WQgsQeUJQBEwHAJOfrMjN0ZL3ZvzC8NC5+SK1a8mAEyqlRfgupoDoBp+X90/gnGa39\n",
       "6tkehtXD+j9MrJZ1jx6WB7YvBGjghwzi8rHJ3wDQkfKGBHA3kvNzPYI8rDEEVbSEzbSY3ft78WGg\n",
       "HxnBI0Iup6yi4823aJ81uoFXUU6wAcF9PnZ/Z0b7CL6sx2lGktMrSupEtz8IJsjHdi/krYQsqzr6\n",
       "Asip2vMFuDiy8Zr3IoSiN8C7gcr+l0OyzdgH7GMjyH9zrCtv0LfoCw0AAAKUQZ46RRE8L/8CVicA\n",
       "+WC4uBoJKyNOCrq3kgBM3W6AeQbGeLPnglFda3LxnWPO3sVp+k6eVlyh++ZU7CFcZg04pLDOE6U9\n",
       "BMS3qTC1RKs2LPk5PjNMSaXrAo8oo+4O2EscAW8pI8FW1Bb2cmgR+Ssw2Po0tuzOalYvwribbolQ\n",
       "Go+u2iyRaOvVF4rBTQmtIb3eBb0tqnecgzo0zwbVI+zGMkKFaLEud09E46UhLI0TYCUfioGjAujr\n",
       "2N/IHr7Ist7CkNvP+TRSLQSWsbTwSSrc1DiN3jtq0OOqSPoB1dc3X9ZDGYKWwVy1L//FNtZYCxFp\n",
       "19oOmsO5kinvqcZGliFx0tmO7kDFOVzWkyqOnYhtqqCB2YEs0UdeVQti5cpHwJHmtFEovJ38XdzN\n",
       "kgO97mvhy3/THVI6xKFBM/wpXg9rY9/yQ5ZnrolSZiXLh6nhswVy2je2IBsdZjfXgX8yJrjYN8uY\n",
       "SwYULzbiF8L/P85IAHkwHm0kq4P2aBPZ87Vs5v+oDg+CkfS7KwO+ATqbxvIaUCYX1gBMS53jyT1G\n",
       "hipJl8v8TCRMrbuTA5A1VPxzlBE7fDPCfNQbynRnjM64pc7K+Lcd1LRoabgfoUeOKAj4A4EhrvU/\n",
       "oRYX4bS7tQfsdTVjnCcghDrRC9H03NT3dCJN1pydp4KQprDjmFnHsDpln6uAb5run/gEnPavNp/h\n",
       "ZguhseyD/y5N76N2z/vUzyIhZ3T/zv9yKkhHcOofU9SXpGm0z6I94mHh3ai5Nn6xSRG5gbx3+tHu\n",
       "QC+DaggqBEgp9/PA4/ofxdX1olWFgT2MK33O8nffTJeEKCgF4WIuyb0BYyCG+uVI6x8K/oOleWcN\n",
       "2C1Hr0fS7gN69y4k3DVj5ObFL8kpAAAAfgGeWXRCvwMTgNqVExvMLFMFuMJCNjcvt7kyJBZE75I1\n",
       "HivgAzM2useDF1oJGuDHifCr5HxYAyw9ZW1tPGDSJfDKAU6v6goMdvSGvpPb6uDkB6R5iOBf0Kme\n",
       "su1ElGPXqj9QI8NE70TQDVBWmA2BABqXM5wrWJiZUW9BSExlwAAAA4YBnltqQr8AtOtfrABOFcOw\n",
       "TLZKttwx5Zt9kOv7H4l6Trp0HgyYgBp9rmFGDn79h52lvHaBF9U54tAqDZCoOuqGT8kgpVtT5RkL\n",
       "f+adykm7Uyb2rjD5xFX8aD8EMyA6U0e+w9wvvA8UQEGEqPnq6lIGGmmP45ijUj5/Xi6veGZldqg2\n",
       "JT7LWuk7d6yYZRuLxI5KcbcfhV0jll3WxKtqA/RCdMM+FbADxqh9REJDesC0SPpQ4sR6ZxmOLtzG\n",
       "sg26Ui53vwbwBsy2k60uHFJiOckPxeOadugJ76qZDvhYUv9tFv/zixEFKbIx8Qbf/XaSArM2Qqa5\n",
       "P9F7F/HkW+FaBvCMkeGpu6piDayYrYuM40g9fvse3o/IOGsr2n0pfX2cZhmGzJxY1KgZ4KG8UciK\n",
       "c6iOmGKmT/B5XsP9VwIJnHInyBavmYxMApkToIXf/Q7LCh2Bl3UjrIb8cNueMCUp9TDXn4qjnd82\n",
       "h81Hv0lp0H30BywonhGMcXlM/x/+vUNujrgt6NvvXtu+SoOBVEwu0dEbPzPZkMqhxdVtg+kErfvG\n",
       "kzARtyjuUrPZ4K0DoVqid4UM66Gj6dmYHYUiMFlq2fEAAv8NfCsXkXTXp9rsz+FBQEXENc0s45RQ\n",
       "aW6+vIAF4k+plL5wdsbpnnh+SPvM8BgN1c8oE5Me6M2IJ+HJgoDWzmW5Ru9tdpRwfbKFpaSY4Eh4\n",
       "Iu1Ayk8Wam8VrB/yT7ttQQf7jAfOT25ItmFJ0Uktvz0IKZJWrbEo9uyHuOAGARwEyqgwV+vWdK4+\n",
       "PiWGd3gDDcT1JfmtlKf8EgtfAujgNRVdUgBlFdDLzhj8YRUrsrkrRMGImBaKjFz40qkDA90xdTK/\n",
       "U/Id2ImUp2pZ0sWZKH4R2m01c1oJ3c6pBRFyRMC8zTU8ydKAIacSMlr1w518G9gJMQByBo6Zm6rB\n",
       "g1HJZX/OYIqT3gHwkw/eYdmbpdMVHDq2/zeKMupPTDJUxlmJowkNr4DR09F+y/bZbZkd7kJE1Cm1\n",
       "xM/I5P25eFQkknVmUhrvfZ6JgQkoykZYpbQGOHPlFgRsAy15FluAXKAaIBfY1296zBsfef1ECuPv\n",
       "tlp3u3y8z5jKAYgRFHup1WdbaII5nrpE27oRZRSogS4065WfQtQ7rCaT2sne6EJR+0+AwKzVlIUW\n",
       "rP1jI/EU84UtVO0FaSEmtJEfJ7Z68iPnL44ckhLaHwAACodBml9JqEFomUwIb//+p4QBgrnf7iHh\n",
       "vAAVHR20fNMcEGsEQkoa/qhe374zjwn+Eh6CMEBqo3gqfeo8cuDC90H9X6rLAvq1qVTmJGtiPT3T\n",
       "vuQbzlzopbdL6GGdXajG7GOFTG8By1qzY7AmV2TgD1D6HRTGQzMT/8vYMh6YTT951UilQh0LSf4K\n",
       "A9OBPmx2V1jZdr3WLT9OWh8aqqHOefrDwAWEYpzASZ+zoovaauTOnbOg71ey12hPedk1rCBmo7wt\n",
       "DyA6JmmjKmSjGr2PeoAUzhCMYqwZEx7i6UcdkoqmPywtneGtK7dEYv34crkfaUmUo6Ef/kkS2qHa\n",
       "iYDURbEzqnHN4WWaPmACcNT6ZsnXl9cSk/CLk6OijiWXBOyjwGp69y2bGhwVgFmXXWnwgdJ2u3Vo\n",
       "kJ+Tq+MzrFy18SO8yaXJcuVPIYG03pllk5YnVSSHkij7/dZ8JPcT2wP2MljVTqgtAZQUMkAJuKN9\n",
       "gz1G69P2EJY+E0swSYZP8U1oJmXg6QUiGP2ShAiDEZiRiwCk6IAKvQRrCcj4i6TIFijM5nMr8J7a\n",
       "H4Zdjj7j4IES8qq3wXHcJVPcGfsfF56dTX4b+nIafrtV8biozl7aTjQJuvuuoWr9beuIRooKtQqR\n",
       "cwCR5aNNQbtCn0jYKETq7nQsGgYRKrNSvSq3BVRkiuSkAK9txQ5h8irHEucMkiQnXcKxQ2W7+/RX\n",
       "6dHkXlFUsW7MN2FmI8FcTDFfzAb5WOHdFh4rZ7doEn1L8O50yZiAblpVQtTZxRYbMVVVS2EwDgMW\n",
       "I1vEl0N6Wg+UDH+KKVrj9eWHjgFY/01VmasS4sBB9rwQNc35iYXTc2fThyr2X+T48KMrKS3MHpgy\n",
       "Qdv1qAKo0rNH1dkJsxSt8C0x14TQqr01/p+/e0pkPMNTzEABiYX0exRy/aqxWCaRYgGVWgVI2VZq\n",
       "YxygXPS9cssJJoUNYQAbKho+5WeNwrVgC/pdnQMg4Nmm7ey1Ph41+qAm/sxSZODe6QCJ78QPpzRu\n",
       "zq1vS5yzNl/GJS3BT32jBxl4+/J6/bBiLF0vsy/oNglft25qeaLHMAdK4Tk5zRm8jsg2x4WBP9TU\n",
       "30byuQs62aqEtXCXRlorFcYpTpOyt7gX0xU3fGLDzBPp3Auxa8tHdDg0GMfAGNAuvHwIcjUqUsaL\n",
       "xyQBLzmavMBYhSqmtIjfjZJkJJ5XIotq5xOsOYi4ournE26LEtb8WdODVdBuwMMFBjPnbBnKuNv7\n",
       "W95IMZ/fWuHb/pLvmdjIcQShwTe3mCqElAK0ugPEKqnhG/B3HwQlyizF0AL8BlvNOK4AHPIjHwB/\n",
       "U5ORacTaxdn+2GvDwYzYERYDevYKKk3JD5CVqHuFt13fA8O083FunRu6VDndZJE9ZhG0wix/ukKf\n",
       "IzDHUtxyHCD1SWZy9OfuwxK4VgPQ5OukonSy+pQrLcJaz/QCwCkEBpSaNTzU5AJQJgn1NTMopMNK\n",
       "zJ1IBifJOBdPsYdDWk7fT/DRw2lf+T2vnUc6TjT9enDknG3YPWvpZaz+mJFMVAyDh4sLy5oIYics\n",
       "CSihdAnkfxWNgUbzw8NW7PoVGU1BkM6+3DsxthjyUMRTiQ4i4Glsm5tA+DhjeRV8fIvb7AhBjnRk\n",
       "dh6rckzBMS+dYVWUTrHtu9tNooX1p7x/Uvr+RkPYfGMv8Q7+m4AKtdajNZLe46SwSleU67AgjJJ+\n",
       "Nzewl0014DvCaRuX7KVULkbVetnm+xtbCrOoc/9AZxkczqEQfnt738vulPag0fZgTUSoioUtiZ/2\n",
       "zAYXjeK6WBTlrAiq3Bx4rb7E/i93g4oXKPhMcXB3lEbu3ZH6KNUDq/Ed/f0BRYNW59sZmFzcmWFP\n",
       "DnaQynjCo/gLq0HOndHlQYB11u5tzCHXGBXfJ5BtppXi0qr9tsgDl3m8VilPrfRzUEjMmydOeE1v\n",
       "lealn0Tql7onvirlFquNXGOIGiGCHoA64MvxHKQ+wCJFASi2CB1f9FfryA+/xbyKJdxigF0D6nPW\n",
       "iHb2cjZqEs4oesr/7GfxKEwlhW++nRinI2YhQ8rWDnUxry7Ht7kS3NOFPsszLiGSN/1uZFSca8Eg\n",
       "/cAFF/dlMEYD0mxowM719iXl7ixtvWt476ScVKvoMsi4TP0lB65BB36r9YBS5elqt6dC6cU/Ce0C\n",
       "S40LIhMcUuCx/oaQBOSIw4GlSKNtvf0rJ5pOFaQ+f24R4zSt3+4ioB9xFHRWdp5HHCi3iJ5NscNd\n",
       "lMz3+wsYY+jp5B+MiAXwJqUDK1Q8xm2ObjEkCYbxyyHpvkdtt2XgiIVUeEK0hoK3AmOd39bPsX6J\n",
       "fsoBpBSLKFqg1bRzD8PWm5chMhXmfoKn/AmKCvKR3c+jT195gN0CGMuarwlrwbsXBugKOf8A2PvW\n",
       "UA36+DvM8kTOLkKcIvvPGBj3u7+X0fygFdKKpana/IUvpOb3L6O7+SpVtJjbNvCKZzKogsjHfBgj\n",
       "U3qfcL2NKUN33kAeRPpTsf+0InhnJhLY6v/XZIYd7CzerrzNeOKO183PacgADXtqIvp30D69cCdY\n",
       "kqkMAf/WxmTNetZlN1MrN7DkqX2hnVZuQ7RM/N65xTMcoEtOBy6QB6hA82QFMvT6/y71Pf45IOZN\n",
       "90os4p+zvyLyjb1ngo7Mqs09fchBkitr94V5oIcmLom6m1rCUKt3VZAHESIl51T7jLhYba+QgG28\n",
       "+W2ZjDFNh/4I4ESdJfLLHi0YRahfztS5nfg+rUBiQnFGZkgpOrDEq3F93AWFnTbBqH1Z6PeA3v+X\n",
       "pCy0xswoVBQjt8uRf+L8qsafhvQBpWIwBl32YQsEodeyYzXwrVC48qP01iTuqerdMRATmLNBUFQJ\n",
       "AwUasChUPxAg4+Vj1ycHc7pvffaiwuri2eEmmy3A/1mykDxYnNFpUgTvcCGnA1GvZBi/ZotXakft\n",
       "XwhShe6ZGTX88qFMaiTsUI+E00xIqqn+O0d5cvsarKNuQBmLOAwYBKIHYEF7x++AEcnercPA4MVO\n",
       "ykI4fuO8M7O4GmwXb3+HJAxtpALWBCNSrLpR1Kypki9vEkGGE27NqrILSIWEEmGnKs4ZOZhpD6Wa\n",
       "nfP6/oCBcbgNdy86jEmCVgCBRJDOrwfPhVhixS6lf+tjo+aCBvaChQhNFj5FW2IKGnrCq1K+rfbl\n",
       "Jd5w8Ez3ldtn1/bqDuk1CKlFICSu3dzEDC7hS35muy2BSHqBgR4jx5i+Enaulw7Recr3ePRFva2H\n",
       "S0w1Z6qYDWn1mFXd2dcbBm27ad8ZQ5CJ2sRs4Z2/jK/O767KrXQ9X9Vx+O+41TBtrGGmPjHx3lXy\n",
       "GuPRrUWaZZzfnIbFro+/1g+wTIlYPEoGUJVOIAxK5WOwCD8H5xLDNtJjB8gx3TY/O+DJJKeUiwjp\n",
       "xj7aYL2HuuhpJ92H/p9I9svVyHncYJ8TEvi4dpINrbDkmqLgjg2Mz+vKQhpNPKMWxApVT8OXtanw\n",
       "GaxQPNFUVGqtNbWjB9Qz5y7HnCIReg82pmZb+UqfddzHMgdz10k5zU7gy9/zDD3tFfmgdoIPn2xa\n",
       "Qpj/Dmv8yEiWFySq1Kn3ObtkJvS0z+zoph1HymsJsiorahpAz0Qhra1Jlgle670GWdovAAAEKEGe\n",
       "fUURLCv/AS7XcqPgxQh1+Pmw5wIQAz487rOy7SELLZ5HpX1rJ1jnZq1XlP0Xywezbf8Htju9EQFL\n",
       "z3RBPlxJV9/G+1Bkvuro0v8tPmUPpJcYmoiUODxWU7mZ+2h7XfA4/Urh9X3wbthGKqzNlRornujq\n",
       "/7IRmKpFSLVUHZykIb68iCQKgj4/jVwviAC4uV81Lf7oBSRx79MLy8JwSAJlXplzKPtwKxb/TKiW\n",
       "+0MrYpXB23V6EJ+KgF/CiiySy1qZ5xX+ihdvXISf3qNvRB4oHotfkSYUlIKpofwnda7+NOek4dKS\n",
       "IotWWXsqiq+yfXD3N1W6tlyNsYunUebrs5c4b4xYFziNd1a4n+2M9LLQesJncTFSbMSeRr/Vs/lS\n",
       "6ySjlGE4SdaiOLiCsKW7UpzoxJhKiK2bLvlL+q5y9CoDJyJ4ymTQ6lyiW7hJZNWMPFvJ6jSLiz24\n",
       "NlznWIO3ig5LNc1NErWoVfJhY9T6dH7JtMAQpCuJ+cZE8Rokj3aH8C2azO+j8hiCzYcxqpMcY7ON\n",
       "ZacvhFqmzOnw2kug/TBuWdbHVKwYKG4tw+jKDiR2RZSjs8XlVVm9Ct6+6ju9DiugVQ5p0YkvUEgF\n",
       "zjc/v4HI6lM3/ymLtaV7j/jy+8Ylu1QxCFWPTOBOmpvOBbmpgISaabNTcK0c9omEUyj091Y9JqpF\n",
       "/GTcr21otTQCtKv+4flwUZDrjZJghGxs4E160pf4SLlBHGVU5A83B0Qhp+mRNRbwwv0+r3gzIIJD\n",
       "yy4wNu6A7yYJ9WaZtQ6wxzIVYq5ae7hZZn0GkBw6pUAvcEeEBLyjnD8hhLivWGconAANf2CWx/dF\n",
       "TSakzB9ayNceh6rXDP5uq0h2BMIluMPxlARfjcRXuRmnY6G6/zRUxO7UL7uDVCZpmDdmoKq7UEsE\n",
       "MsqQ8YCTvRpq/0SPHgU4Pw+OwQBkeTZib4ZzWx6FNet1AdE0FU3GGrY3Q7M7OezBdoZLD80bhBo7\n",
       "6WpW25MXaQWuax6OuO+LfM5CnYt6uQuKZ2pD0bhYfki5ciYcSPhemRmS1gol0GeBqf7ByxuKo6/E\n",
       "92SYrM7S6RfV9YHiO3maQEaAwgGbmXAMWngQp4NuJAYglBQKnxW1aeDWlpXMb8RNlhW4zhxhDCQG\n",
       "b2CnBwivGXr2az+/ogbqbHMFNjRH/JrS4RjV/rVpLZ/6YyrkEeL6b6XzsCzN+AAEvc+W8YG99l4h\n",
       "IVR455FspZpiSBsYct6qe7+xl5/ljPEfpb2mwPKSFlIH5C+opUYNgant2AO7KeUwhLiM2VF3sVMw\n",
       "vFyBPk1PW/CPBtmM6NCcldl2uP7HlG3+FbGgxxk4yTFbT8eHyaFmKhhQieEA9e45KZ8ZvG+2+1rz\n",
       "aVB5zlVJPCEzsyYO1KFVfVLR3P6CPTWtmN+18vvtSwx5rcUQAAADXgGenmpCvwEthsWyiOVyA1Xs\n",
       "EnepBIMe9mApMwUR9VK4atL9+8GrSEuIoASW3FSi9i5uaORUTbO0fawBZ0X9io0HaAkTHQaw6n1V\n",
       "7jPf+oU+GbFF7FOcWVDvdaSMshexvUbxneEnyRS66BXUsPsIQS62Pgu06QVS2zQu7sLGSRVp6YVe\n",
       "jphPcK10UTcp7+bZp0CU0RKMOYbKq5uESKokOYYFwLWbzQKcSe2xFPcz/e0esMuLwiMTsp5NE8Dt\n",
       "GQkaiG0KIHsmlAH6nmcQNWc/ROZmb4cwECcsv7p9gXp+/kXjAVe6foya+3Zai0TAX8pM2vEPQmxQ\n",
       "4RQb7EttbwFcGtzTYc7C3WjFRQd4P5HoCsigoVyLDsHSFkMUneLBka6VAzgnqx2Djh3fL9A/wuXC\n",
       "4L0ibr9XvPSXxGlDXNJ002C24LWqcsCs+pgWWLWMidSGW/T30NqlnyCHdEY58Bg9FE8rMDriS3Qh\n",
       "fGXiECTLtrEZJ5dgio+NxoD9myn6TVjb9kz7h9NiU+jFuZRFgLNkzZCJZqU78wJ8FSWRMTwJv5Wf\n",
       "d4IXeSSgACszmkJeMaw5PsfM3tbKxAjwGxl5jpTeub0ZmCVWpaNcf46PofgvONFk2k0CJwDHbFXX\n",
       "djsmLF4HqyXK+kMvSBo1Y8NNQ+Cv2fBwpKLJdjtxHm66JoLbROxpaA3tb7UC129pcmWJzfP3QU9i\n",
       "0l4Ip7aERK6tNMgRq+Jq5EsIwyJ89Rqo6xcTLFUdSCYS0PPxYH4lC6Ghmcegu4MDgKIfDbUwYE3w\n",
       "UXiMnmbIikeb/zEmOhHYr5evOuRcFbZ8PG8Nab5XY5N0Bhxm/0k6bzYP7GwcWu0GsiSMo4+zD9Km\n",
       "rsqU45tXKSuoxs+MsIPtZ9VuyMNsfhLN7e5JOSPpBfujpkdkSN3DZFB1VaZeYd1eQluTHYo73PHG\n",
       "j1SZsWy63Ar6VIn6CpfkmyLCu6/4K2FGFY++JGtGlrsYAOoTVBBJChgybCHzUZvAapM68f+QeUHn\n",
       "Aj06c+P2rLAOjiO9cCvKTZ8R83DmNlcyUsYh8T8k+Dq2D2x882NeDMAZMKwoC3QERGHHKgIgn4SY\n",
       "qaDpMlaJuuPYxaEQv5v1zy6X7IrrtZ9zxf22UdXK619I0aBTyvZiXcTibv48MIAAAAmLQZqDSahB\n",
       "bJlMCG///qeEAX+2b0xh9DJQzACW8yyHgBb1wRnJqkVO2LDcn1q3eOVAhFq8xRBvoZU81/XBHV0+\n",
       "zSeYtZszjO85xSTshN9GmZNHc2IKKHZ1NR5mZTI5sAI1WBmeZf4NBE9lr86Rg10L5ijAo649oKsu\n",
       "Ky63FpwJyDmDY1kvB3MZJ8qRd+ydowJPfrxTPvy+eJrbsrParSsO+qpewsp99SbWCPOG+f5TqtAd\n",
       "vkydAQ5m6r2z8/y7ursmCSa/Tpw3bDRyg7g2ppw4800pt23QTRv90YTXRnB2nKzWt0JGoAD3Diog\n",
       "K/7snSaRFu3rEMRLWmalGW+t2VYRrYFSnsbaqPnKQxTZnbvSoZgycQdLR4aPyou2n7jfeRVKxn9E\n",
       "pUnc7graxdqDajg8CmOpr8dhRzEBgKpwVHyJ4tux6OLbwDXVJ68P3DuhUJrTpdH4avKGA/GoPU6i\n",
       "ZcO9iMY0oXYwMwM47Stkpqk//pbqDEw6Kg+SC9R0wHHY4KZyq2K/L3m7GK0zgkC21n7Cm/tWhYpO\n",
       "wKVHx3404STwaAdhSlOETr2C/3fr2PmJSu6iWoBU2HvtG8wFjhvizpy59tpzEo/+nEG1P+jeDrll\n",
       "FD1QsReN8tZGCkak23dqoNhUdZ7N4Yfy863FFI7taXP+bqcRJdDdhRHGcVZxiqgW9PEICyE2sY9m\n",
       "DQJ8ngPID8ACAHjlxauURcMEdj2ClW/FSe/A0LgQKl5XX/eMG5Jivz9o+JL+dubqDvcFbqLCI/fm\n",
       "HEQsgD0w/L6KhgC6Kcknkw827o7Z2cTIOwiiDV9Cyv0xjmNyvjDPF1qP3mLfY4AR0CUKwBFxUxPa\n",
       "LictAZc64P1qYK9vKg3VwRBjEIHAc8H7VzGTe8TjoStW84QSOyB8vNAcxAn+Tq5Yyjwd7ixsfpeR\n",
       "VisOTMKUkLyXsx2QOPayBNXZDiWMfkm7fx7t+8ub6jXkJK+qIxWRhqbNJgvMwqYcokWSmVgSDba4\n",
       "BqEKDkv1IYTdLTx1/1Z43hX2RppKZlhbFlN9kd4qRAPIXRJaaO0tSDVK1QI47J9wQDTQAKy26c0W\n",
       "EUDkPJ14AzlE+SN6au/pH86JYnJN4XLbU3N0eeh54cxsY8sYjo4x5H1ZtpJOixtsIwj7XkR3FiNZ\n",
       "gEza52e9CfhkvSSQ4wPcUPk3Nz8RCWpfm0rk7oJ9u1Im9QZavU46ln8T5QAziHCEuDXOR65ep/l7\n",
       "KRVkeJq3eoXgdmGmQ0GSBMr7Q9yB2b7+2Raps1XjG/8V52REqHYCdFnfX+LuKH2RUUHiE1y0J39I\n",
       "PI07n9YXNJUnlttvcAvikcFrpdboSmCYJpwYfCw7W+LxXq6VGQkKxcbXYijlI+P7GFDRW7Znc+Eu\n",
       "vDt3QkVZUWBLMfwqmapBx1aRnwNEZbcZ82Vv85Ij2upyv9kU7yMhdd8AIbvByShsjDHWM/GhNHbl\n",
       "LRbS+oyS1NgG/+lDsFyRLYZbWOuq7r8jgNCcbfDHqFRQofeqb7mfrSDtNdu+TtVB/i/wPjEfEshG\n",
       "Cpi5pyNp46QeDlQyRsJwb/rp949uWhBVQc0iD/lNvSFe3rliXnCM5V1pX0chYaHjLO2qrezUjNTw\n",
       "BKhd9kDhIqEp39o8MmHttXY2zqfgI/8z5Ekm3cPXjqVsUBEsau+/mYYM2PaGhWuP9Y7oOfWr9dNF\n",
       "B8unAxfDUm73XgtByV+/+oI7e9/IraDdGY7KxK12hFYDQXLP0PafE+rOgHd8NR72KOmDDUKnmvTu\n",
       "GvjyjlFgu5RFz1HvguJFcGcl403Anqf8dJzluoRvpd754OCPOq5MA+pFmHpTqmSLnZDdCgvf/fbY\n",
       "qSitmV8P1locmHI/8MrrCRHyZHtkSBjoC4WUD005U/P84dTTMWwnf86G2xXWaEQCVdIbVt+5p5Oq\n",
       "HGjd6NrsTKLinmdrViY79tgPGi9ardJ2cpz8/O+lobAR+5SHuCvKDYA3P8qE3CZwStfBjxknEbXC\n",
       "ys4Wx7Ln93KD5hn6RAjky0pygKzwpAJ40bsseE+/LgFidR25muvklyGCkdQ6nVGr7MTreKkBp/+s\n",
       "nDHiR+bywZbvVYH8FF6Zp5jeACwpJfEHNQIcNntFnpILPgn5zyCkijH8MaAKxwA5W4gjYa441zpi\n",
       "vPmf2LRFN5UpHFOv5kLNafEiRNWer8OShGI3x5hRLf72OKcGDwZdE+rX7O1GTDmlu2p8FAIzsFZR\n",
       "ClAxxOeUoQwcoe8+vrSTEiySMvhMQYumcPxaCqkv2bXg8FUY9YORF/6/334/G2tqV2yHTdIcWxnB\n",
       "PZwBGBlhaaOA5TBpOF64XEcXSzS1nSd6MjwNPjMuJC1LNoY0tDF3WK8T7R27dB4Wv45KHTlvjarV\n",
       "MuIRwzDsiFaoUJilwXFfNeus3+Xyu6mIFcoEmdzEgTdEuV/lr0pYkaMaPWp71UUCDdVrRmcDPYNM\n",
       "MN6ySs0KKUVBDb12frhn7L10lhtLAbGoQlJrs5zGlfo+K6/bZsp98ME648xrtX6qB5VZhK8P2pBl\n",
       "qdKduFjj8bHX1BSbrOQlKgo5FunvOoeC7bVgGQSg5AEoZl5k6hCHvohSYoFB5p83bSXucsQwffBv\n",
       "Sk1MQk4ZsAxYzU//hIGI/9twciB608S9vDFzrF2CKoTQoY+fR4lekyTOnS/STK/zyZYYjaQ2mr9q\n",
       "cX9JutZVBRfXVHjFUPb0fp2PdfeMoqLjYeyyYT0PyErbMLxwr3iQKbz6IF0TskWXdo8kGQEu/yKs\n",
       "/ivAIznfIP59Fdai19aRla/kOEnl1RLdqbqZ6yGW2OvO3ixyuNto2QKDMhUXqm6bnmph9TZyK1jh\n",
       "va+rJkWvdGWrlm2KkXaq7ytngFV7FSdFyw7q4ccBSXRVfimcWbvOPOn61bUqqLGrlwBYbHs2GZ6x\n",
       "1mm795wnee7j6ACMAjSXndSN7bwCSimBbqPPfp7+hRW/lXISpFLzRCWNNMA7ng66PLhiSJ2quuZh\n",
       "gBBcNEc7nsUEaIYcvXkqVaNu0UFGtffV3EbVzmQKePAlD2ACG2XsXGMrUr6Y6AJw8Z7WsDEUzTug\n",
       "wqpv+99dmwwOxZWWQ618uf4Xtaqbwhm9BSmqe6AmuAi26WELhZphG/84O/WEJHWF3f/6EMOVmSus\n",
       "DesID9RcOcCtjHNXbdpQdyHUgd4vs87uoaU1gV8p0AvfoR4O9efSAyM1FRKTcjeZ+gsA11JZBd2y\n",
       "jWqa6zYzztzqsQFS7d9mDu+jPSRcEHNX+nBrGxiMU16xBwW//DTpOErfiQAABUBBnqFFFSwv/wDc\n",
       "hf6+Kgk4mVYUR3YyiojvnzoAbiywxnjFSjU2zV0XCo6CVGOR3sMHEzs3IIS1H5vgBYAKd1Ryyxst\n",
       "CqeggFIAf/+ONqt7P76FL7B73ZwMAR8NsUGy6JSW0gbTJ9MlFsyTuiys1/EEXTtdPh2OeZwsAQDq\n",
       "D9tf2j6FLWyQyVxf83Ea2OJwoqfocFLQenjvi8jrJUTxF678rRgUg8wn1cFRlzDFJGQVNNq1q3md\n",
       "RyZEpY3FVgHybeyfphhv4A24u51C84kwoAy39S4aeFNCG87jXwlPtyfx8MsKKyE43r+fuRqx90EC\n",
       "Tk2I6yGtcYBMYEPSsIaQ7r8lmyQ8rFdCCV6suojfbdtOybOV8xDdWo12hZUI9zbfDhfMAhoRn4dS\n",
       "B4jNbzSqOxErlTI9XRSuiUuHt4UPlkoaEByBDLZyDRH9w61sw5RuvceyhNhcXmhgkI/tVrTeKIUs\n",
       "kHI6eeq8Kdv4QcnEEdKw7LTPgmsSrCI7Gfb+WUFmN+WIIldLvPwwQe+SSeYvAdxgOVoPlkTSCwau\n",
       "NrKgpRYiIG28aGGKBvJK4RJFZuwvLWGryjgp0nVq8ujv7bbPNrT/2AP3FSRSkZiALCDJiY5mt6Ul\n",
       "wBFUadhsJ8fXBKeYSJE1C/rZBC84nQc3aEn4BPfcvCbOflCJt4SfTrtgZRhl7D/2HfSG7AGJzbTz\n",
       "pWQbSRKJ2rpy512FcKwQUIJTMphXfmQnF33Le5Vz6y8oeKJt1vcwnjqd0SWj61vTUKMqS/cixyU4\n",
       "FCPz7LkkGZMVPF9MlbCITemRrcUeQYsI6xCFwFyuYcqLNpDRR6l/YYtUko3AvRh5IVUnFt4Q34FI\n",
       "3GpzV+n/7N9F0phPSZGnDpNru4kRuEybgb4VwFhq7nrrmKvWTiQTkYCFjKWXn07bPFWkB+9OfIBc\n",
       "bvJNJtWal2Gl6/6llIEpPP/44EASD0iIhpxtnfNs8GbUlH/jKNRFtWGVrmz4PsfU68A7H3D2qWpH\n",
       "adGPs+TGQdfcKMvmglADiChuhdOG7zM6YS4nqcgKZ4fRXQg+xThmnkhbkx9sN6hN+7eyVfmWVabs\n",
       "NP1hkQTsemo02Ky6f7TqJpO0os9eMxYSTKb//BUdng82zGgE/P1koKKyGSdqx3reCAB1T7Ew5o+o\n",
       "wIsZgMn3UOI+e7k6zI21MbeTOhwHxVBjGItcK4D77lcR7LcHH1pArNbSO1VbXkho6y/IQ8JqzQIS\n",
       "rQzXanU+IVwCki2Y0D0oO7MV/kAgjuohcxGc+9uZ7KfDkneSUsoqF3CtgDY6BxiPKDHMHkBcQyLy\n",
       "EaEeWN/FM7R+tCQuOqqZZweTyHPHrGXBI5BtYn7VKauSxpLIf6G94tgpqbNmm/Obb6g/sQ6j4y4K\n",
       "zUtm9yxZ5zZoNQFdxcop+WA1SyrHdWqSiSItkGl3QmRDoHvWqn65a3Nxdthlek6/QKHDovxm+we+\n",
       "I5N3hMZbur/B/o7vSqjvCUGrdxPTbrBYQD+2ii3GYsXEBFt42z5GTZCOfZzc8eJEev8CwEDg6HZ9\n",
       "npNxWzMCxpsjVN3LHFchLyxJTkfdwoLJlcvdB9MYI4N38KM6HZT1MHbK9nUu8RMbZvgnV8ZWSyN9\n",
       "WMUeZVeDVEw2j8O/YCGBz9TTC9EyNK1ECUSTGlqWWbbyajhKvIEYp04w6q6ud0sUKJWnzGfHaiyq\n",
       "V69RLxp+KB1iwmmWQUCy9Y9Qm0um0xufr73PsZ7l2SJTZpjkQjOakKx8Y168XIYgHX558ucaUQ2/\n",
       "9ibj7LIXY/7bR5nh7eMP0iBNKcXKHVAAAAM4AZ7AdEK/AS54QIATSYvMW21ErTMlFd10qJCZs1LH\n",
       "f/v/BXuNYyb0JTuKg99ydBRNpggJNReckCCsBC/QbpxAs/2VXSynGRKF4euwPkfqm7WwFyzznAJ8\n",
       "/f2dW8bLxXNG4z6O/hWzwK+nZVnT4n17Y9cM7n6rJbN6xsbgdG/8qMZNICHQIy1hsJxf8LHlP5RY\n",
       "hdyLGIUemfuOrv2DQLYI7BXc+IlTGSoi32RgYrulsl9ocl9Vi2eZbcwzzMXZNbqewHCQWhb26pkp\n",
       "vkfhfYXwkvHZB9QR6ti2xgjRR0WNVOzmjLtMVBiRfHX65u6mflpEOSsc6yMX5Bt2vD7V3ielv7tz\n",
       "iSSYqslHsIIk4LmsBH3GMPmS5VyQV+TSK55vAC6ippifQo+AXBYGL6O77NOFuqVWdNbYgnrL7IZK\n",
       "cVpwc7o3cRekI1bk1Ph7qAXBLrQtBtCItsJw+qJXPyDvXwDvpsEsWJgtRc0jq5gkATnqyPJR1ffz\n",
       "TRcd44mgvKQLUIVGvjhkrjXqzrKzTaWCv+lIPUNCM52q6wsIzs5eJ//xwGepzYVsPsegue2J7nMD\n",
       "DzcTyaJhRmRLoQvhhgZnxF1UiuFgSowaGMQBAOBbGJn9veChsniSVkD87Y3UUPKP2F9SJKKmhpEu\n",
       "3/ctQ8WaiPhKNDOkAKUAWgg+UC12QVEwQH2zFhUIsaJ8Wtj3UOO1HUOjWZ05wwZv3ph5LGm5MkCv\n",
       "EJYhedfCsFzDVIwnRMhAvD3jIGlWBSk2xI62NFukl3q8eeRHx+gq5U2mmJCPcqwLh9KOmBW4jgFs\n",
       "Mfbc2zsPR9NJK2DUwSabzLroJ88LSRdKN9RXRWA2CIaUORDPA0k/7y9ZRW8BM2muCOuOvvYkGHY8\n",
       "qBnm+JdS+j/TEpJ9hSd1e5q/iI4Q52e66yDcycvNXoewZQ7725clwOCh7XgCswRazfmDVBNJKIh+\n",
       "xdShVOV8Zx48hAWC/Z6cPLK6WweUWmWbZi0vusFQwpOz59VIrr7t32QQ93d6mu8KCjFucZzE8N5O\n",
       "bcbP7mT0aZacA2o48ClfomPyZPn6n5OqFP7mQZfNABq0UeKvkr0hceIhSq5ui+24nSAiz9EAAAOK\n",
       "AZ7CakK/ALEIq0P5GOg0AKx5VR2Ho5ffOm2Sfy/scGS7eDi53NsQCyJozAqaByfJcFNZUuZhClWI\n",
       "oESVxWXSatdXrdqVzjg1HtkME8II39TtmWWtOFAj8u8DSz597YUi5xkWlvFZMaPdRs3Hcm879LY1\n",
       "6rnTAtAkxXHSkGjuEUBIwJ8Huz8bTnSrRlZ4VkfHJvtMkp+IArgJJoXeXWVkiHHZ/xJo56KQHmU6\n",
       "XKKK/2xrrTcCHFQcylntFsMZ4s7SuC4H529wRf1B9bj7K8EyYk3/AJtpjEH+G/nwTxSrxuCIWrNH\n",
       "41EsBgk4gowCkoKxfM3kNMiwafCHdnr+0OVrqn5cJZdjpHo8WAt6pCofSz4Eib/kMroBCobM7AVK\n",
       "qH1rZX+hM/2ewOGT4fMib/GjkzQE8UuWlQx1GkCE06I7wxWwbc5JtAghP9KCci7iFFLA8Cch8lwY\n",
       "CKy0QrFNArCAZoBJXlgmdjRhA7xstZywzI+Oe+H3P3eZ47NvOSeulNNAfQ+1oa5VjME2lkLwq/As\n",
       "ozJ877zcK02dt03VjFicGbQPXLsA57XogOWwBAL9Uov2Mlt7am36cWgOpHpwktxmjuCDieSawsTj\n",
       "E2h1AaQgPk9Jt8wgyi1n3ATDYn3DLgZ9h3jEDHIFoJxBd4w03osiGEs4uu14PTn4D5qbLCIW1yiT\n",
       "zNAml5ka7nELm3Ea8KAphtSAcjcATQc5HSPwFzs58XemWTDKjbQkZA5kG2ZlRXof+2jWHiXYYFOq\n",
       "kD5wJimmAdK0tUVsJmXQu/Y6LaboNfTBp/17LGtJqR4vO2x7z5+EaXTrjWdYtUUiM6ck5m+N7PWX\n",
       "F5YBMk7Vw1w8Q5i9kty+thURVVjgU+Uw70eSOgO/+W9QmRhjx2MpUdx/0lJTqUm32+gTyeJWniFu\n",
       "zioSpXs3PgmGdzXCLmlswFv4Ylax02CqoYtZA3iGJ2JQha/Cyga5ngtWyVDri6oUE0MabZ+wxDna\n",
       "TUeRG5xQqpzPMYVgI7aqgVm5sk4W/vPMWCIPhLZyfg9D/wvTijlbIa+7XK+7EExQlopDLDzXv4uM\n",
       "bzk1WXwyCtcHisfM4vwxgeYHVJQZgzoCt/7emfvNqO25W27602suTPXQSImdr3F4hRZQyOFaxdhu\n",
       "dv71vtZatQ+Z/5luDTyZ4w/12hb6u0k9XF797nnkHJ+98QXILolj3RodqonSUMdZ9cF4AAAGM0Ga\n",
       "xUmoQWyZTBRMN//+p4QB6/PKAAb7bG9Qv21iDLqBEGVeTqtD9DNjLR0zTQu3YrTlJVkpFE+bMu0M\n",
       "F43YTdyDiBBOA54Svf4ukLProOeX2okz4JEsRCVFWKFIk1pnCJhUpd/ewUX3XviiEripRA/TZGh9\n",
       "tZ+wAA2b8OfSMAw9zjR4WuprFuXMzbuby/37J1sqSkmeUDHaH/A5d2sKSoqRyDg5hjZn3WfkFHXw\n",
       "42YpOcLPn9083XjU+TuHu7VkeAGRt/gTyZDLvvmw7c964Avd/qBElaztSVNw8jOT9uD4S6zP7/25\n",
       "jRMISa8DQADtKQw9ZgE2GfvU3ANfgJcXK7GmWbZA28/G4OlV1WQ7LnyIw6JtsB9lmoK8/a//qYQq\n",
       "VbyIPSMWhuE9r0ievloac1JHwkTVLRqGJ3vN9YJCmTjkAOYmcnZkSpbToCcOcgNQoyyhnHUPQGY+\n",
       "Jfi1v2fmY02QGrtHHjjHdxnfwdBABIRVM//j7zsxD/MXQ1syJf9tNeKwbMpmj66BW/lqn0oJR7nY\n",
       "EQ9qjdofmbDodLoXarUQrrQkM4TBIYv2MJwTI7Vs6xrb6dwesYxQXWZ6zqQMi8QqlNhKDiRvoCzu\n",
       "g4BtHdk4n/Oa6oqEqKJ6bp7zTEZmn9u3PlpOBh8iLoODG8sqm12026U1CprljPc6MlJyquYq5m89\n",
       "+UZ8YmYIqJplgq0hZ0w+JNh4RFl5Cs4lh3k0ksgl6ahmkZrYb7xdD8n2zmBv7GyQS7+SNYGxCg93\n",
       "w9Ty2h8AoeL05D3cg3aSUWi9gx1gQ94qMx9L4l961P1F7E5sBcTDQdOXXWcOFrlTY0U/hIMR56Ho\n",
       "dZD37mP7Bn7me8Jv8K4RDP54Jg7fOo4RV5ukXlpv38FPDNP6id5iIq2/g/OhnlcyggTjJfTup69u\n",
       "cE65DzukzacJuxBDqohIPq7KS4H7IunlEqB7aRbvstbO/5ABpgwBCn7wIWR+ektjU2zLZw6isY4A\n",
       "vjwOJlGlI7QnJgix+TgLl7MiQ1m28sSt8F9ouK37I11jTyPPqaRJ9QL48o5yDdZwXcnJpmduexj/\n",
       "TQbXmX/qpEBXSewgIgMEoMBNf/yEZVfVUcDrKKPc5O3L5s0o3EAAiniojBshEu13fDxHnElmY0QM\n",
       "Lff+y4MORULkCPimUDfYXw5C0dNB2ucC3xMIXKEHw+waS4H6nlLkLaxSav+7Y5xulmCHJLhP75DH\n",
       "YryelkGa7wJT+QbOJMdruhT2cLblOqkWcLtGIvN/BFtS6kr5UDJJM6fCtCwiKBe9Fdw/xoacbIzJ\n",
       "QZ3SHGfmvuUIssdfywiwRlBlb5x113FKjR6EaPwOra7CkDeR3hILtHtUdu0L9a5uY0U96rlmLBHP\n",
       "lzd2YyFOTwcrpCCsUjhBlKXzGMSgeN3MwaCsLW+7k5azPxiCCPlpUzHZjCVSoQgWjqvzkDeSYz77\n",
       "koue7TSQvuf1w3hCKFb7wbtcBgTPytM1ik1tu88IHF0xBceOAIhSWW6Py9nbH99raWDbtUAENca5\n",
       "blbp6FJHbrXd4vRqLYXz6s8KPZKIiMgDvCf5uVUw77beZYQoVwBi8ZLYSmSHopP4i8X2WZfBulc1\n",
       "/bf3l26TlUdZSvzFThNXTOyrL1dW+pT1W0gI/r6b0RW6VTG8U0Ewd0ZV1yPAQRQ77Y82Tj5h50Ep\n",
       "6UOSDUdTdDDdzWAwgsj0BuNbZGMW2Ir3qomePVVOouqIj7J49fQMfsVHwIT9FP2bdTsn4WL1xqOc\n",
       "RQ063dNmDes9QwLdMdROvJZG0IryMFqzTyAvmwzOEIBTdPQDR6iiI+GlSZRpCYsTvDqfkflEeSy7\n",
       "WeyjFyx4SV5FkH0PcsqEy67DF+8L+Rg2yFNq/WYe+asFLumfg+sWFSQdrWrw+lmy7lT8GOyqbvFy\n",
       "X32gzlE9AkGNaPAzPxxUUVQxcmNR1ELPWNoA1svVCdgh8I/pfDC7jPMshwHI2FCe3bfaNHAYoNYu\n",
       "2Pok9CRmu/KCIWLRQrzcOl1yXtJ97D3YVp4qCn8pBfOC9m1HzeXl3UEso0bAdV5mrHfg/sGz8oeH\n",
       "tzD2w1iK01dvG3eW+XIWBMeKh54WcRyw3lp07uH6bICu4DCi8N2J/uW5c2lISQAAAzkBnuRqQr8B\n",
       "WXFAA9cqaiN+G9WHX6ajR4ImkfniMB36AFjvyirBtXeHuEhdZTa9fC1F5APCVqtczWpjmCT0qemh\n",
       "v+Pr+cdDwieea8COWkT6PYqLsQu5e2zxyCMpLtNFyUojsDmsxAURgXwLtbmOKHVyhWKetaPZ/J4A\n",
       "boOPrDiwBdP0hssJyT4CFVKRfdBtopMRsswChyL+sP08qdOR2uGNKMefgpWJJ4mTtmtho+/JyiY5\n",
       "pNOGdsDnRlobRrH+T8iNqTOrCwqOfUKfQNcFL/04yiqCCbaUnWD6braTs312wL7ZvZLtdLQzO/ao\n",
       "fvG7QJPhzBWjU+kKr3R69K3j/AthZVUw03+qjDYBh/0ZyXLDOcGPQHzbgRf+ZX1UBXsmURLAcJMQ\n",
       "RLlPKtbomhbjGixFqpHzSR/E8O7iUKwgi/DUAVsOYC7s3mH8nqwlo+EOuyoru2GPzJn8bgFl0vc2\n",
       "xaIQJfo7G53tBOnB5PZEK417MIsWSwYjM2gAAAiCEkxXU0Qx3UIDbYuj7nHV1gag4KKcDhFB8RZT\n",
       "T00Ezzy1LbRgz6NbELqC8yUjdrIrdT3Qv41TcF9nh1KnTMBP7taIoTokW842kEwqaRYsQ++FDf90\n",
       "bRpm4Oogn6/mNCCKVtVGsma0Ce6wOsgY9/yYa4D71CRItFHvhYIlOzY2y1+yyPPgztEpzG/4V6Py\n",
       "FzWy2oAzbAkTo90paf8s0GspkrX6qlvYbsg5o42fFOfMtCTPp0zBv50mLwyrnyRpUk2ynOsFMeQe\n",
       "/l21u1ehkpmaifV3566t+0YHHMEBWfBOPxOJEiqmejXQ58uD97SpE0f9yeh45TSm+HGyipudmvoR\n",
       "7Hk/z+bNrKJLzPjIH0vdF/9rhhI60ISfoDMdYbhBa+ZxCBTKEOWEbtHxW8MgFlI/h6Au4OIH6bTH\n",
       "zzDvR5RcypPMMY9Ptj3FFElITIleYJFjAXuwGz0n62JhPiubXUuLLs3JFACf20T+syFOfGfisxUA\n",
       "0B3h0SpS2PfHPocG0vmM0nJkfdPcKbHxXqBOx/ORbKF5tn2q22NOaxNPmyvDrD9qiEUxWQ40nzum\n",
       "C2eyANgASYHm5G/Wqzyxrl+ubYEAAAWQQZrmSeEKUmUwIb/+p4QB7GV88IUZBNgek74AWvep7K47\n",
       "9GIIOeUB0KeMThSJfsQ5DAw5jwCr++grKkQAoCbV1XdycL1oqnk0qCXfjNe/lmN2aNAmjq+mtU9a\n",
       "pHjXUyOJXFouwoRzhBighsbrL/75UI9Hk6kx8aeIA1fpLKNBP5uf15UAAsjzQfFkZWuMdQ/28WHh\n",
       "dg/NfSHvRev6O5mENHbZJAwAAHMF9/mxa+gKJMfWmYsNd6XVJB2JFsMy2MLmyeN2ZOCSX7+2SaxT\n",
       "DWDB9AmdmF8sHpBKiiWqFHAVCZ2Gq/iOlamHVGo3EMrnPvOuUfY5Fyk450HlMpM1yd24aiZ3/4Xh\n",
       "h7iejOqAovbQHChNjpZn0hRmzGaRzp3bUHpWsDDJOCJ3hhrx5kRPXhnJZSmXG6Ip8XFWTx1h0KKH\n",
       "9iYj1C06RDzUS4s0xbPoDom3cl4jDjhccPs7rY8Q2fAKibydJEzJD/AY9Nm1rklGRJHMaQAdvJ2e\n",
       "Pvzte72yhZUyYkhOu1Dx3w6vUdTaelTGgrkVbU1kE5oRUlsaDQkgrOHC0d5mdA/hm4z5BggFHc7+\n",
       "MH1OoovL41qb2jw4PEUVwun4wvbHsyjUntw7CduU5FJ321eFcvBICZ0HiGX6E2blxkK400/fPrxj\n",
       "ksThCiZsRv9ta+pWyZdHPEO/QAVJcDrpZVvagDp/OmJnywBNalqqFBnNIxOqDBl7nx0QBR8T7Ops\n",
       "s0m3xxmsr8gTydm1nNawkx8ra975pKiZFuDMDs6i/adh+6L1G86ed70hnH39hKe/uijE0d0HxtSZ\n",
       "6Hlg6V1bHe5DuZ4GU2kfZhmgcIT62qe5ipfUB3wf0KsEGg38+81fh0vGkomxgtoxY212mZtPQzHQ\n",
       "CBLhI13IXsh4vbjWXgKb5YNcLhtV4oM3D0+xrAAfGCDwWCVFRX0zFBuaiCS6WPC/gbBfKxAVJRj4\n",
       "c9EhNZ0fUR30Ymsp3YCjB3vmu9hxYhc5bfTTRHBjV3sOWQYAjoiZwfi2Q/ZQwndQ5fcyVZntTGog\n",
       "xryBNm7/IRrizs+klIhRQzkx0a4t54RBxIG23Nb5ygQMqaB9R5i0W/ctFZvVV3VcY46jZDFs652h\n",
       "hUhEm3CKMS6uMD1s80I6uT1JSx/JnEAG58d/rfu/Om7dQi+WVYeGgqOhlrcFs0Sa2nwA6zKX77N7\n",
       "vf5CeeYZyz3ZrubQx+ja3GQUWW/IfHGaSef+6jvMMm3SmGy/b5lG7cM9QP3g8kYlELueedjx8Rtz\n",
       "qytJNy8/tW38iN00cethxDbQ5xyElKPvtTLnlhq8RpifjHVDnWEYxY8Yxd25QeO2oOkoEmPWe47y\n",
       "jltV8fRYhuXkJzV0jXKwueBlROgxFtX1ut3yCOmEDHtxvbFAadAi8BHdXDFrIzV2FETQ7TzryQJc\n",
       "1SviFY7ehhF8XdTJrQFZqXBaD1OjYZ3i1J39eTOtWC79NOFVx7HdPEd3eSCX4WQyr4GXZKLZHkE/\n",
       "Xis2+arfRIAH0g4Dh1tcDEMFH+knqemhEWPc0yQ5Veg7FeKn4ZR53CEU1aoWOnMoKjRHe38f9w+g\n",
       "AjT8KSh+1GhqF4Kjph2iKZgHd3ihPTZKydYNhF4PWWtblEFT3WTDrXQkkp1pFbHkOO0oPfb8KrXw\n",
       "Po0jlQbtoajbELIITyo3NYYzCQlkxfRG8fjrnVNNs5gGiByXqfjbHTjkkLhCnJ6CPci5ojt5q6Fx\n",
       "5bEebfbN6l8TdGKnaNPU3smISmDI6aJKxluHMC1TSV2mXCUcW1/yY+UMP2NqTtQPtLzlgr/iwDHL\n",
       "On7ltvsEZn92jH7OdlFDGXrZsIiDHKlCwmi0EYLC9a5mNrK5tWnhPZrndSts0khZ7H9NANlDVnZm\n",
       "cBNeNE+08o8fpYFpQvSVb0WjAdFbYt8AAAr3QZsKSeEOiZTAhn/+nhAHBrACeP23/2B3YwAfusU6\n",
       "Ingm54d622st0EtSLbSy3EDeTRKYnheHzlZDJULJDX5M8iPT+8Ci4wVvPNAc7t9MzF2sRMk+Uk1/\n",
       "pX0ygE5SPtcG3LrEcYsqgAQPKKkno4GUXTrfX11txpkAkVDbOQeU34jV950+JfhSlZqUzwME46zD\n",
       "tzIbvbQK++egDm+98aQnFbZ+RvJZgsTjT8uBpyjl8OCmUtYL/2+m8zSwwArum7sISI3JA68fact7\n",
       "GuB8K7eW/lewpTQ4BaAYpUdWIdb5ezJs89bNrkMDTPaJuIl8S8NmdXLGQqgbFx8x7Lv5f2HAv8qA\n",
       "54yMrXDqqqgdZD2wYqnpCgYue1Rt72Y1i2JyR/mxJEHgy8ALd/I+Me10dkjIZNQ+61dzx1aCzNH6\n",
       "TGwts40SlAtdxy/c5AZx9TVO/yVtXa6/m3twN1yALuc5s6zuQqCnB3dtWpcHvMnd0NHJmQ2l8a/Y\n",
       "fm/evJFJRnbzJ3G7aeUUnNRu16wwMKbIzEp1pkwTx6rEQySatREXqRQOuSIIPGw1lPhLBxu16G7d\n",
       "LziyfLmHA+fqzrIkjkR7kuj9vde0GhLz8FODZaip8Mu++SOhUGlWhyoAtdePEqF3EdnNquBjYovc\n",
       "iWSryhKfsX04Z/G4zHwMAbON+Ep4SQunX9OoeEkctdw0MKgX/yMYf///RatnX1MFOe+Jg+WwIVwA\n",
       "as5A/cMiVvB3/1eayLpz0IkR/D017LeM9tbgEn1xRao9srie2tBRB61a+oNPaUwHY3M5/DMmkCMy\n",
       "ksmllc7KaPrrviS38qLDIHOnaDF/QfTdzsSvIUBzsUymHzUhANZaX3QIjlzyEt3NICKngkvamhCO\n",
       "rVfQdf92Pe69j+b0MygAGuymUdVACAdzK0szHJEW3ZrEksWiq7gVE7JuLYfmMYzrsT8LhLk3CDQd\n",
       "7SFd3aZq8gQ+dt8UKnNPoAI4nd/e8M00zn2uGsRf3JqYpyi8pfa4myZfoq2lt/cRxonmObKtw/nP\n",
       "f8Tsizp2Pr/2zrL5WcVVyMAEMB9tFPmtNetBW/ILmAZ00MpnrSci2MuO/eE3H74ycrbTjAG2O2eA\n",
       "fVROOEdc/+lit5aSPQcWaCj1Sn4anvaPOeCaeOuOEwj4jBn67tvS4tDWcFn99sULmhQz99mGxsQw\n",
       "NvVW8DFJad/ObETZelo2/7RC6t7NGOsmjQkXfWa+F4By0RTGd6qemLNBI0RWAx+w2ttDi+L/DqGj\n",
       "KWFtu7ngj6b/nibngj8big/OhNtyPk4IobDjjHaN7E7vkcJOpl05mK42boV2rHPCPIBp24r2jMEu\n",
       "3oP+0u8ZS6gDX30Er8DtCCawB5rHdpdIDCg6SoDdiMCp9cJJL2Rdy1Sb8OtG7WTnaNaCtb4AtLm6\n",
       "eMXhErH4Qk6KLkIR2HiVWMCrYIgoEwvL3GiEWRj5PNyTrTr7wqpkfa5eyukCI95uQtOBYjGWzgsT\n",
       "Kk4nYkcy+s7TYb3k+Vgnt85k9U5Z3Oa/T0Tr+2WuYhNCxoLkiMYlaXIUOthKyNldTOBacrWDX31g\n",
       "WBQEpzs+KuIZe8lZHL/S+/bgUdgrYklGaSmWsn4lwca1fkBqt56m/KqECxFUfkhcgyI9BpYR3ldW\n",
       "yuTtClTEfu4HZlrBXgM+zjfUCXYEj3q4OI3cO2EiFRCAMQWbr0Hj+W/EVgZ9nGS8Qbd3mU1OAMTf\n",
       "qQq7jBYZorB/W9P9K5VIUQX6Kw3C8zNO+CZe8j/ceicRQZkByRh73rP7JNdwlczPWWu+lUb1tgOf\n",
       "JHxMHOzmLTnCyEYojfG8My2FzGukwpovtHS8xhxIoyyLeq/oxuVXOuzwjaN7ywsL3blBUpPKc0rh\n",
       "7lNMpPCG/WtmXSzI1pyElpETu3msH9igPvgsfHbexopXQiK4M1UZ0UwaNrwYX8QzqNRdNk0yQ+lm\n",
       "9Rg+TqLiKQ8mxcFlOdcFtZqYFKKgBdxRKceoTtCRY3jwSNPVCC24avHcFZ7eVg4ZU2vcL5TQG3pL\n",
       "8xuxwZj3Hi5FnPBbnnJ6em+hgpElC/6AZm6HMxJyC5QfmTZBnmvIN7sWyn+VXYHd51Kpo7MHuqac\n",
       "T0f42skH7SyIbayhmYfwl2mPuKFQU/+Isq9Yn/Ibz/FA0C5nECeeFQktb6ghQP0r2TvCQS/gfCUx\n",
       "GWP8vUmbh2ZGW9nUa6SnlSWT7BX1F6R6Og386uzR67NOodGZGhMDQK1FZ/aSBiLMiTa4FnK2QTmB\n",
       "WLyf8BJ9p075vz+BmU7FaRLrZjCT+pxyS7TZHn90gyOdmMARAZ36CXCdJDUtwoFBeXnuIZ7Bi6WP\n",
       "dxVWjFXAX63lvspvE58j56hiMjUYJm//BncupRLTpwTL55bn8rbu+fV6NvsXQLXqA4rrZ9WduHfU\n",
       "fBNlSDpM7jqAD0ZlXb03+usP9lBYngwNCypBxC0FTKWHX71a24phx/kI77n1wf4+RaXBE1RBdd7V\n",
       "sAIHiUpIYcyRYseo01fhLhD0Gu32kQzuZv8Q791gMgbZTAb3PZkdZH9iKFN4h9XYEfAUHcsMUW/h\n",
       "8jNRX4AxU8vVr9rPPyE0dVbFJ8WFIvDXQ23nfvn+mF8T/kMZrsK32kB1x2ZEI53kDaM8f0DebxAc\n",
       "jAE8LQF+0I+OCRprnKu+M5JZs4stBrAXEsTu530JkQk3tQ0z53RX8OX0pj3cxv6zLHGnZRKEJulr\n",
       "f+dI+NZwuGZr2/xWquhwO/e2CDWqYgiTw7LAD+VYJ1L/zlpoP4MTDB3QkXX65u8lj2xaUf6qNqk2\n",
       "N5YFec8/s04sBa56CKZwF9hf7ybreDQdw8Jp9pegjyEp+GxCgWAJN95gWu8WZ1hL9H0N0CoSQhIl\n",
       "/9hEDZCPviCXtalwxXWatnUlt98S8NBtuivJpJRps/shsCmm9CWoiJkXG6jNItBnl19N7ISkhFTK\n",
       "zKOkeoEi8Xk2t7eGa52nGUzKJj02tb/ZqsvS6GFR1s83VE3JcQf9LYotGE9KyoH3T1IPYm8I7Zzl\n",
       "sdIHxOJ7k4bDOR2brRpfK+wt8qI3u9Xt71ndkaZhzU0S5XMrtWIE9hsJILyOHzuRn0GNNgNZfS5j\n",
       "1aWpgPeDcphU1D6XvWV3P2YuCBtsEUWzBj5uKjJsIK5c5ydP6qxDXtwZj+4fTOz8JLJRiEW2uc68\n",
       "bZQ0zuGwmwlwTIR7ItvXe2Pi7wtKSLZ4g/PeqlbGQY7I4942+/tI2F31nZgsd034yze9GoC/Dr6j\n",
       "yXVBOjI/B+/ncRLXvkcuwRrVvgvNcyGSEJUdNxHNI7UC4bp1/mcSMemcdvyqntnWMTj4uF/HsRWa\n",
       "uvUZLvhGAGDr/I5vn0S3s6kjEAEeK437I4gjf7h1m6ewcO+SJGvN9jKu3glqXZ8oQY7l04YSa0eh\n",
       "Eb8C9IezBNe9Xf6+gcuqHiZ79m1FknzVhroIZa4xBFYY7bR8YmdId16ahGo9AZC0HRqvZBTsYZGF\n",
       "DIwRZ3Z83E82KdNpFuNJCSQfAo8paVML/WwUDMm2e0fd14Dr38pMdB0k7W+NJ2vPKz1OtDZn0aiX\n",
       "Pr11GUxdyKchW2yiAwRcv4dE5PMkNL0woPa+3KJ7MR29GR5mDkLkJ3kzdr35W/1pYDdsD+PPCMhP\n",
       "6ehJpAa+e3Kk/vF9p4alXFJPRKtHHvq3U+Bpi5v2sjHPuVQF4yo8HlA7gboGdByR1wew6FAIzZza\n",
       "hdGkVLw1+QBhUmZk0rNHrnBYDn1MNDt1e1PT7FDvmdtg2TdX0KyYqzkAAATeQZ8oRRE8L/8A9/vY\n",
       "LYdZQSzcVzxYlH0GVheIAhipFdcKAnxtY70pwsc+JNo2pmWOHiRbcNmD+bc1SDoBF9N970QnBwuk\n",
       "zc75tyeD0N9Y2cJzZUPkCT3eF0zsbrloGo1i3O1KTypcI15aVYxtc0wSjtvW3tIWEwubf7xi5Kr4\n",
       "5dIImYQKvOk0tm/3ENgwvV5khdt4XApUq+84Kn8pfBihjAkRCyCvI8e/fuJAmixFHDQCHV1PE1Lw\n",
       "Lcyf9bH177CvPtr3lOyhS9YoGtGvrBMCiOI4Gy3ycc7vjbUhp8jPOpyp7NCRqEyVJ3Dux4X11MPk\n",
       "OOd61TxBgkQfd6kWLWiRclpcjsRB8BN6XmsZrRezm7k5DCFbGTFcEvDUzavyihnwkC5u8XBCNp9o\n",
       "FnSQ5N+OYH1j7Gm/3wR5xx81TelXRT2Vov3Xdpy3begpHY4LDZ4ADhEJFN9VXG75jD0wtgN5G4hp\n",
       "EqvOYe+sX5uJ6Kp6DLU6acWiVUd+um4sjJMjPzOaZyNgKEKWZdJzNDrvsxvdPPPzLpeZePM6s6Ut\n",
       "EAyEOiM6F3rSJpI8n8JsFAVg/n4EVbozKIZ2/YzejKulBmXNqbMSYjcE5NG44GAbOyBeA3Lkv/fa\n",
       "q0hdasZkcbUguBCrtFBWoT9YVyEBEZeu2nM3mTt/Z4zulExJCMEYnUU30VLxdHvebKweUe4mQC9Q\n",
       "syVJfY80UGvdtSw4RDo6fhvdxpx9tcZyC6gSUONKGKsAOpIJDiu6X4wRlwZD1Rp+Ww65FYTCGEor\n",
       "yFV22R5tfE1iw8RoxdBotsQ92aUt1IG2ipqRFoXfL3mLVRISJbeW3HwvUSlcqdj6Jan08VHwjXAz\n",
       "1iI7/CCQHA9PgSHS4r6ui2K4E2Lip0dn00XxnQROhkMVSsjjGoOfDOPBIs62nKh6WiWEMbMnzK1/\n",
       "+NRiJTUctansR9aC/Ff1pQbovp47FKc3K5gpOh0LTZsD9yNmnJf8PHyy4fEFzUiUhApHmAALXjT7\n",
       "ETWNiTxPv91NiXh18Lj/WKYKMrou6OV5ILhzsaArQZXunyN5mc0uOaEA2ipA1i3zutFlcjEZHe6s\n",
       "FZ5fQAiohGGNSMrfemFEOfLtFEYcBD0SfV2S/Cyl5ZVGsWCk0UCyC/Ek9s8sF4CxSg7kQBCEV9L5\n",
       "rDkwjzX6dHazigm2yeAded/0W0nGkkrt4dOLLpnSzEbaSfKLn8/yvXvXjZUT1y8F4NsSLObtdvqs\n",
       "djOdZWxVRhZp46ocyp0scTd6twUWtagYYT6G8b03iI+BhJGD20F8QQIChSrcjgHeG8J2jUCEaL2p\n",
       "jvb5VI5Do/mJMuFu2in4mUASU2wWzTgYfSl+vDHWfBNkElnMm5jmQzR+MXvC8oyfXgbELlAC1n4Q\n",
       "G6Anzh65mJxDAuC2l1ybi9Pwy4zbQuahMFdSUTbCGGCgjQMaB+BsvG0y+MJFw70Fi0VcviSQCSx+\n",
       "pxpIfhCPRtB6LEF/YA1/QSYyCahG/jQxvx+BYEabC+rjB8K5QuPOALzMqsMDufpPh7hSfxf/VSTD\n",
       "n9oqZKm2iof0PYFGm4nkXdaJOpWVkX0Z3/uo8iuZi6Sku+NAGHZDeOssbRyGZKl8sPQrU2aVgory\n",
       "82BGqRUfAq8ew7igYgsCbSIT46sggYDCLCKsDEjXq+nB1actQAAAA1sBn0d0Qr8BWktjvfixYCW4\n",
       "CrJr22qwAcTXoGvNHtnbsB2KRgLFUvg//0RIVLxnnZqcPkc2VBphN2P08PN9ie2DztVkZAWXrZMA\n",
       "IA6ItOlVtR5IwboQ7fY4hUu/++6cTRtRzpAQEfqC3WDJ286mfR9oltflM+zb+QCnbdta/mEqXz40\n",
       "A4hgpLjCKkU4tOA7Xn3GVA/GPYin/K9GOpGcf/Ah1YP5UMTyJRVHGvq7M95Ov0GRwp3XGGOAb3qP\n",
       "xqYcDvycblcaV36f6BkXG6tcSlbhmjIV/1sygLezAl2Tl5weJJsLJDyRFaYdO+1MMlfaf/xamDHR\n",
       "wJJpf0uaWcAstczvl26RFW3DHTDZPbxtBnRC3uBIGEHiSzk1KP9zk5/HwYYmTApHVp2/A2ZNJIKH\n",
       "yeouHa5giWpl+BoxQmC2sc9cxPNB1ZCzTkaorbp6vmES8a7F/SXT/9pwxaf3UTAWwvfYCwsgAGwE\n",
       "05RO5L2shQqmmke4oojCnZL3DX9mTwvvZ7Lc+c0ZZf5hyuHvLwpgMprNSb8BoRq1LQ9mGHTDHbM+\n",
       "PUQ0uVXo7VgbNNzjcWHCx53EWDMsVFo1b7s+g6eeSnQc7YTGiE4TcdLhUSV0NzuKEcaYi+4NqCyL\n",
       "UcnI66jfzqWeMAHPZ3M3VesBPgSkNbhajXM8i07EXJ4TT6uE+GdsHqqD1vKwWPgVrC1GLiAdWB/0\n",
       "QSgUzRouq7labmb1pOrO9h/kRFLiE438087a5Cr1Y55FcxMU5FC429n/iqNf310NQXAU6TZWsPbU\n",
       "GiZb74XMtkbMLC/NEFvtMgUPpdPSmOnIj0uVs5NNDXrCR+HVOaIytKlsWTSGdBOv9iI4C9h8n1V2\n",
       "uF0pBdAR+yZHjjq95ItSapmwOuVb6BKPLQ8pWVEkSZu9Wj4cPjnb0/fj3mGVZc0NmHXX8rtQglwk\n",
       "gNzzOkaaehPHg1ERP5use5cJO+CGpOA6IgVENpjJJsi5nA96aLR85DArXHQNThtMH/dO5qxqKM0E\n",
       "9Aag5zANa+5YNA11Ep8tsm4lTnRcgaIaAILcy4sJxQTXH2CjG/iPau9Fc3VG2w+KWl37rzzwMr7r\n",
       "c0r+7acIiijr85MLJQj433Y8zHEzq/Vl5yaByMUP4YuAtUlWy0McO2Mwy9FQAAADRQGfSWpCvwEu\n",
       "13Kj4MUIdItKNIdyAIWy+gI54hGp/8gpeiJ7+ENLU6X5HI6dTSj2ShJkqrTjK86cjYmeqpCetLy1\n",
       "0sEGJtaRlCBc61ZonyiwBQLlqyCutCgzZX6Mkc5d2ot9x9osu2c/JpFDzDOu2nG9aAqJqjB9y88w\n",
       "S5M1QdiS3i/12poEgG065OixLC28O4/raAK2Y/s/4Isne0CQNpotIzmXz7jS3BpabrNQaguZ5umH\n",
       "9HNNW6pSG9/Bc4R8My4GYW7G4C5vwV2dyfKzBH5iuxwtIVoYjFs2SS849ua/CT26ROK+lbtcq6Zf\n",
       "tNbFkzqCduG1aaMOttV+XMLbsQU4zvJTl/n4h4Sz2nAcexfGiNqmP5CGNG1MrEiA1E4TuDjE/2Vq\n",
       "Hb/5NZU9uvpfcclPFEPo8XfCt2g+1aUpCA3Iu/I14vA42iQk7eNv49IHLb+UARFKjhCL2haIUCaq\n",
       "7EvqAS2qTlwlGQ2SUxiLuxIfTnqd8gbTd9OVKJNGfTZKQOmHaIbIEMjzmtpe7AFTUdDG5GmkqHLd\n",
       "HtcVRqrHOx5FdTa9+xu/1+igIf5cZ84rypBeUya8eZqkt1TV5DLAgjD+mcp48N6PGpTX9RUTlJFg\n",
       "ytABKr5yun1xF0vOeux/xbjIP5mQtUGd/vCb/4vDjywFFo0hlkCOmXasp3vSXj3zp5qWxD41/q7N\n",
       "G0SlQkM0oe7OGohzqEkczv0NeS3NOxVFBmPMQkj6SDEqYWgIoHqYdEKTQj2cnOFRXI9Bzp7oTApN\n",
       "QfzX6Q9/NjGFCxYODPD7SVv/3wCwsUj/vgZcEYoJHqAE4V2NT30C+NV86xE4SSWouPzvq6WYc+Q4\n",
       "SUqhRZPAN9UmDTWBghPUhYYE+YTqs+zWV2JPpKlTnzCCe0CggCuv3+zjaZndIgrM5hbRevLxcqIj\n",
       "KV8K19Vr5sqAP2mqsgUs637cgkXxA23fAySxWHMXPb721puR1UQI2liU6XwDriJFXUdK8BYDixwa\n",
       "L0y15JPr4PG4lzXR2VLQcr5+IpKdCt1y1nSLosiAkN9DPdiS0dC4NCeL4MiFASgQLXpT1nTZNbwR\n",
       "UEAzgnfvROiJN+Ye9sDpBsibKKwQ43rzT95deTrr+QAABIJBm0tJqEFomUwIZ//+nhAGCGqstCaF\n",
       "D1FdPdtbKs1kywaQ3C8LQmiAECHTd4gYetzZZDlsTKo8FC4v4VOPXbzN5Mq1RwXuUsGF4b6eRTU6\n",
       "2O/dr9/lLFZZGXJauid0oDRCPyGrzmmNTjQDe/XliqZIwgv0koHf958tyBvrN9t7IcCXh0JG9KDg\n",
       "awme83+RS+cSOepRivcLkoqy1w+p8ow4o0NDqvhh3KJ/dvOT7ohKhObYa3Tohjgatz8lR/qbgzc9\n",
       "tCzREbX9EcPL93mZUBGlnIy2v1kb+N453+/fr999DMV/UX+psea2fjRZ2A1uuFinxfTwoZo6C3Fx\n",
       "BXGQdycE+5uH1FSggGJRfEqQzNuEfqASR5MDyjVJozpql0VR4PVgWMDz4eHRQaAEpCqPR3gAK8ww\n",
       "KjGRXsmKqG/EOGf1X/VuraJ2AETiFiTJK/bUnLP0orSvgV5vfhzVdTUFDiub1UcRQ55z/aExMQ8j\n",
       "f1gNDuHM7qgO6qttURxACCkG3K/RB3Yd1492KGMN1RD8r/0yQ+VgiEUpki0ku45eTY5W78+ktNaC\n",
       "i5jXvOgTeV6qLab9b4m2RgtPP9NHbU11CH37AjMP/ehuKo4EsyAMq5fzL8q+PxHaRBszPwWODWrE\n",
       "U4qIs9zkXfgxQ83LMuVMLIyy5i/70nEZ4Uh+HA52eEt8esaToxi/rvBrxiOjr+77xk8y1+QYsM3R\n",
       "j/8s2psg9HaIyjB7JWdUCFZ0ZSLor1L0B/2WVrDYTH07bFEVB1NpOxoKeBDWGxOkKdYgprUp9OBC\n",
       "aeJX6Lo6Ndq0FATAkeJuZUsUZ0VVF/Pgh2JlhTe4hFyQLnLMXaMnbZZUZ3nAMrYqzJhYumYy1G9B\n",
       "pu+vT5sXeOZ9fZcjn5RDT72V9jQpPsAsVIbl1oz74Y+YgjOGN8UuAs5d5fT3nPV6Jr7qkBKYAuLj\n",
       "AzdAhs6JuYzHqqh1TYRRVFY5DNA/Jxct7hicd1FxYmBzbgBfn+MAR53W2E6HLeWBBendZqyl1EBg\n",
       "QbCX2gtl6AhsKt2IlpbxSjpOMYoZ3G84bEL7YthYeH/wQ8A1gFGm9NcWU5somqaGrWxW777/HPEa\n",
       "f/v3RhacBbrZsGaV99DvXo+Qcffp4qHzbnFM916cc4Fl/3Jgnb7MvrEYsG32CoM9hRHHlk2ZdZ7A\n",
       "Cya6X11/FgCRTwTXMQFT9hL7FIjZb+WIdvGjiw3O5oGcThD46YzZKO2Wk//wo8O12Bf+3ZEUgldi\n",
       "U8OFdQnuO7S3TRJ5XPeCqkSXjtAeI5Zotb3K0T+/Mfu1JMsYCNt9GS8GAyVVNinSKuYKF2ILbk4t\n",
       "1qv5XVAYyN1CGbqG9t3/YxD8XURPYQ7IjqidivuE1jBSsQcztMHQvy4kTlIHHM56s+zaRgDzcRFI\n",
       "0YrEmqpaTnCPxG/LGTENwdueJQI4KdgWgL/WxBQBuORyiq6fftqZZi6Hz21q7ZxFKCrEad7pcnFz\n",
       "Q5CJBlGsbbe48MXNYf4Z+n3ZieYF64dz9PIFPLzvJfq0v28TO6KUoAGNp2fkH+tvoAAABuVBm21J\n",
       "4QpSZTBREsM//p4QBf4+2iyeAyp3TUcwow/WwALhsbamgT/IHFcSm3ZfnbBswGEX0MNlFebzFS9n\n",
       "06mq8HTPEsnHP81nTUlao0pGD29m2YfSfGYMNL1hNVyjeEQayLPcmhF+cAvbfQyCjBPBpxXJ4R0D\n",
       "dkU2hNYfeuF4QDIj70o7U8prr5z28po41wj0L3i/DNvufpb3qjvQotOyg8GAnzfu+AB/Z2y1sie5\n",
       "NysaqutbN6EjOqGO7MhiZhUPVV5qNFcac5f2KKgnhipTsletNjMMENnhd1WWPX4tDg0Nf4a/uCvE\n",
       "xlt3OrAR9Lrt069xsbMWyOD+b0Dcb0/LrZ5/9VxmQKgYJnDHI8n6DeKb/N8mumW7YgBr3XpHH1Ut\n",
       "Jk8RjDJHB2A92EoqcMfaMXuTydTX22C1Ot2SDQCFNeAbS/B11djdRtiAGLe3QZkovbzdbJdakGEH\n",
       "CYnZVJczFlz4BKxJvFptHJfaWGiGplifzWJpjSoAryBaYi2He+Ot1kLfz4QoHjc9/34YyLPqKdqb\n",
       "YF359Agl7ESLmYFve6NId2Yg3v+pRsamKDIUrRrrAZY3RCMrKpkZ9urJ7T8kzxDdFmZIG//gL0hA\n",
       "atSK8A0S0BwebBvu1uY5cvUuNsJJRClHa06ix1OUo3TIJ8u1zsvngMiVlYzmQIKuaWBJ6cCPfjGk\n",
       "DIBFWIWX+jmT8eaWyLHCrnR+kId1YDdUrn2WY0eTJvrS9saVng3hVkobpjeox3EGmErHw/IOgzUP\n",
       "FseFSuj8ZFpyg/47JDG/b4kU9iVUvQbR+f9lyM/X1hcrIqG1orM107nvaXT5KnZf6G7kIZqxABfu\n",
       "WTYPzgsu3t2PIAR5Id5GqNomnD1O3zyMym74/n66IiAin2oAX0kVddrvrV1dX4e8uVNcGBeQcjTb\n",
       "axonducddE0BsIua1y+YdZDhIX/1faeiwHQIcdDjNYBDgXeCNX/1NPCuTTEHuHyR44bzq9Fs8Jzg\n",
       "po95c2HiJOs+bGbTIeN1r112uo5S92UVJFRESTY2puJraNh8VIOhEJaP21DIBWGpM9Vi+hBQqtH8\n",
       "WMxOLBY4J5PMbU3cOf/Mu/BGZ3i/thJWzN1/dNTHDK01oxAbGXgBjS/TNxALRSuovoEKqZxcWktQ\n",
       "KOs4MTcH5kYEtA7opMEfupBg1yt0Q3Zo6pGef0csigIrFfEIo7WNNc3EVPWNSQKeSyGCz1ZA6StQ\n",
       "+XCY4oH1HCctqcKoNCeltC2H/0tGl+wjKP5HGJxpMiad7tDcHrblbp+fGftVc7L0wLxQkLby9n2A\n",
       "62xHZ4Z3v7IKaAWoCg3DbJw4Tt5inWTYz9NIq8hKdEF5y8L56ICXyLbXoxCfQSf9eIt6JWCrwRs+\n",
       "MGDNRlBOhF9UX2iYkx9cWslpdCYMLA1ns412mZ7yzzD8My0p37skhXjWLOe7S6Amp80cRsZMFYS2\n",
       "wz1Kh0zQ0pIINXiSRbnYe4Msjl9z+I+4xV/ji3o1rrzm387hXIfpgv7pi5DTt980Au2NxncNz1Bp\n",
       "PiccJMN8+wewBrx5boAP4jT92HUUaMB732GFktxQuLZGiF+e4IeglGwTKNAReuGejsRy2flYEntn\n",
       "hvjrWdrKeJ7hKITK+b8h+AdFvBfzgT2QE22QZnkRcteRPCL/DQVeBiz6q3vafSHOK4s/q/NiSqpN\n",
       "uh9cUnUx03FNTkQW4UWeshM9i2UDMYL0wKpmTPDhlvagz8wnLLaVsrv5DACX2wEYo9rR0aD1tGi6\n",
       "USNuxGjXyuiuYz0iiuiQX7FTWcRgWSJAxPHF043MDrftYeXEN6mYrFmUZR8TIInJu+7WRRIuGN+f\n",
       "HgiZW0hVNbiOSKXRniE6CYOCT916t2ykPHw/O8uhbntXKcol7jNRuv/C11fsiuwaQxXsH2/Dzwud\n",
       "EMmEPTwad3vi/DQIH5FhOysdJnB0+bELnzqX9xJuS2GSruzMPYRLX/WqstwuEYNrUUc81zxi+AzO\n",
       "9fSHti7gTVU23nuXVEe2CtgfJxA2S7brifJ4Soa0xmQtLWuGNG0XazLr1tt/s1CgYoHsimhcIqAJ\n",
       "v+ZVTl4dCcC37+mPGp9b4/XVd2zTra5ITjfgF2c9+mevWtKd9Cdj7STYRiaHDgnaskJSp20U8hpy\n",
       "SdkZr40RoC7QWGaCPJiqegdUXTlfbMysDyumP/7bwDAh0ZWwfA/G+woDkEG4YevCj58B9k/jFEUQ\n",
       "RYrqnGsJl7vpAc6RFAX3c2OdMT3zs5Im5NE/WumNrQvH4D50bPylzUpmJqWGe+sSo2BsUTQVjCsP\n",
       "nN3BEbgpYqv5J2VmKOAI9YqRYNF2TajSMX+eSBz2oUz9t+yO856WNq+gSmN+5F0gDSifAAADLQGf\n",
       "jGpCvwE2kC5R8/du4lolwB5/hxD6QlKwZp2OD8YMCm54wpfox69gsOLAAFx08fYOW0MvN0Y/csLP\n",
       "CsBBvjy5PAvrxMQlEST3zncGtqaB6CobE70WXf1HsbjtXbHKHXKIRKvQpD1ZBN5TMJDph4onoTbW\n",
       "z5CKq0745Q0lw8KEFsmDjsyrg0rUzk2nR71GAB8E8lGbwcsZ1yX+Nn7VV5V4gKAteXUjlVafTHJp\n",
       "sv9VUatMVrZ3GZAn/ZmfIqSV5DfQ8Br/QV2jNIikBPfxnyaTsicggm/cgFJWgmHFT4YkKh4dKF/q\n",
       "j1t3mbqPlPrblloBETiqFcA2oZlHfuoB50heKpHo6p5YAaH7/+2LtfgORhIaeXVnKmhFP8Dwfjdc\n",
       "xLiPwqDmnKs/1CG2AmD5hMOgkfiqKIDUZ4qvxjZgxalx9UvQbhFlSL1VoaFtWXAgOOc731SzmrHO\n",
       "QS//RwathW5prH49OHWA6tFZ2NkjoRhWGtFTOTekhmfsga0KNnYcLPtXwKxSEX4Y8R/MrMWrq/Hp\n",
       "4tDTtcb8p2rwPdFqyp9ZpSJFiiDQ8DrO5kUFQY6XAbT4w9GCLiW+6bDWXb1OiASlgqnzLfO5YzqZ\n",
       "tk3DVRTASM890lvLNDf9r/10iVq8HXLWXdecIs8+z3RIwOjsPeTvTB32Bg9mquBeVSBCwlrcFSzo\n",
       "4p6KhVej1awUzu3UHRWR0u8s0NcvgndMZpxbQNQTF92z+gezpdq42QkAikpxoNGMV2+sEToiyKrq\n",
       "1nPgX63Sr+nmzGjR4ik2HldTgrNS6jsbEBDjM36Y1S68zwpY35IhN2SSkOYT/uqse/njC77+U09N\n",
       "+agJfbn4GWdP9W4pUHrK+oXy2E41vQObLHAOmqDdKDS7KBuv9yevgoBA8JR5a4/TpoJHi1KyrgHu\n",
       "uYfntXU3pHqIAoyAcinJvUzq81e0d4uGDPwwfqw5goZM5VRCcgD3NkHahZzgKDqJ0Mhe3I6RPEwm\n",
       "lu1RLcJwLRKv1NMQ0WSzXYI1tZFa0IVWXAYI7oCNWSOe/KcZFnns5SzB8Nky5guciEuDUec8NidB\n",
       "SzVT2GQrGdLLY37faQAABg9Bm45J4Q6JlMCGf/6eEANa7tKAD2fhHIy7dPCYdeqbMsBGahqUyNEA\n",
       "GNVqAl14GwY9Hg+KQ3Cq7tuCelOQYqfsA+Yf+fE0Q8rlvVwr+f/w+ZxcK4Zq/50iUkfeP2Rnexuw\n",
       "aG9aVCF9dSPs2esMbQ/datDZBQLv8hLAHRKImOVelddutQ55IDDoB2NgsYOtN4JKDnAihKseeC01\n",
       "1vGGCh7q3TdVV+xLyPKqKrlWKdSulKJG0HpMeXPYhwpn90I/suU/u0fGq/nqM91XHxTNPglEGh8L\n",
       "cX6aD+ZFIfp6JxMOXJKm5TIGwiw6QgH60G6gyRMe336S7dNKuDlvhDrU0sRq1yvIDJotxF9PKI7b\n",
       "bKVoQhGLQsBY5ir2xOfeC+Qhck3Yjr2q8uphkWap3fJmJK0xea/MF/bybZiohsxR5yxNwmO4v30A\n",
       "O4viBNU8/yilbb7AJpRcq3TtEQ9chOQfeQsk4MF+EL6dRWiy/XbJfyYl+MLQQPxzI776sNf+Zq6p\n",
       "iATyJTAXE90Lt7hCTGzOhR7cCqGYx964iyLOXVgWRFNtMTPz3BIpoI/htRDJWlf8Cv3zOrbydMt0\n",
       "QO6vLjnMK6tdkV+RhFl7GcB/JhjUYwNakWTG8u2uVvQRoQfCwi62vsM4SXT3saRU+lVzn6x0DfBI\n",
       "BaURbmuDMjYqve+p2LiDKg11tFVUbWHwIl3NBlw+en24kPDgDSinoCc1CdFbMuFwkfR+3iXLetNF\n",
       "bYosj/0BbomjMrE4R3Fya1Qd66OH8wicoFhCgHHEr/IVeShGEXRERKuUaZOlKXpYIbu9r/NRJq2n\n",
       "eYj+Imf/Lf39jGMC0yvoQimLu3NCiBS1Zhdg1LJ9BZIDPF0MwekJ9WCcjX1mh6AJh8xUEYgVtykJ\n",
       "8XGfS1iXjT825e9A/YIZ+QyRMdLzr+zsAoL4eioJ6GLu9EyvNG3daXly5MuDFkfpJw2KZSOz+x3p\n",
       "RutBXPod4dc/V9IvQrVRdGSYjMVtUdCi1ZREXKRuFZum+WTVfut1a9sBAt9bhz/G9ERPxm5+wycj\n",
       "PqtWVjT2LfsBsi89HGwkeW5OCFN/GQPVIMCaLMLXnPYKkiLYXa/1J+kp8PgObX/Q8Sh58PHLuqfq\n",
       "8tw6rqcmuyw6+bn6EcGNzqPJmGhDyGvlFO6X0iaPjlf9Ob72ghoEABSQ7/3arx13f6BGpDJFjEto\n",
       "4mh4t5qpNJ6nxeSIBx1Rwq6mcOAntiwnawHpcHl/vaMpOYclm6KwAPd9CKguWWlmMaVvYmcy/aR+\n",
       "RM97UBtqCLKy5+myRLGmZ5EqE8fufWHT5y66wVQKd3fSlxtjNXfRWXbZeJq8AUJaYOCfYI/2mUL1\n",
       "26saNhttxyDEX0khtnXzFxuzhj+lxXZ4/6Kvpx6W+7k+/VvqZMshXqtjAF6+CH/KMZt5J3AhucbC\n",
       "DnWOX1KM7CRwakVixEslp7newWQGvxfTXpbhB/NxZR+YrlkLkLgEvafxNq4/Koegoy+kcw6Kw8sR\n",
       "FuuggJAVOIzugg0hZRV5qQvMjPehWtGETEVIe44ArS2jYcmxqpj1HJYdAtr0LNPtJnPrtpT8fG4K\n",
       "oadiAWKiOiP5actk77gQhYl+/96d5qjLe99xn29qTTwy5M6EqfWeZXnl8FfpArl7/Mdwop2u477+\n",
       "iBiaXVg0AFitmETaLSjXZIHxfUA48IGkug0EcrsoqbKUwCxwtkiqfz/3ytRlKuaLw7L1Thsj0MM0\n",
       "AAdMQjEmMm/Nx7Kz4hwaWfLV5Cnj5MEqYykGbttsk3qZgKr5cDYR+3trv3bQaVD9pU4d7ioyxmxM\n",
       "jY6jhoWTBTL80ginpz2Xkx4H6XCnpFxKAXaBT/JQ1twtosH/qT6oM/qhm0LNWsnNQ3PWZvcDRwH0\n",
       "7qmWFgJoLRxh/q54qUdKGG+SE5aGHVt9f5k2l0izlC6Rr01VkWqhEPUr5To9fy0TfbT/a/HFXkdy\n",
       "ZQa70/BilqTHBX/UAcF1HFzcRJWcrEzqKTx5MtyfmR4mkT4TDvlT/kJYjB3uutQCvjS6NTG3dB2O\n",
       "51+SCZ8cddbgzSi3ZgOan5Pndzz8hk3dRGe9CYEAAAZSQZuvSeEPJlMCGf/+nhADXCRBm38QAl3y\n",
       "VAbvbGRDpuFBHgOFWuiWllzwAmlD5glBQ2/VZtEGzq2VchMacSLKDluqa/FstGkq5jI+Mhf7jluw\n",
       "cvsXofS/R1NnjOP4IrQDGtIZ9/+lg21DayPGlGQAoGKlamjtMcov0krV2UETkMzQ+ltUU5UjYsv+\n",
       "egyRI+J/rSwf7Vs08GrA5HLnqnG5KHKIGM4sBFb77k3QC2xus3maj9FB09CJ9G9zlyG60XIV9JKn\n",
       "7vylggmvSibo0kadfEfmZFjalbGa2Go0DMpK/OxXAAYPksb4aqjl7jEcpXHe0doO8nNReH1Z/F6x\n",
       "W6VfB9wf/8DPft84cVCSzU0IS+tka/owS76Gj6PCKon+jfDq6LjBKWReDmJX0CBd2pvol3/yluGs\n",
       "vnqtrIt2e15m0X+n5p19SAcpjNlGgPhLIWGudx/NlzK8CyScbHusP9wViUA1UjwGc7EZ3Wt8utvE\n",
       "C1CUxKywN0PHWCT6FzA/F1I2XuwT/RqKZByTkEiqHq0kbw1QcfbHZBIc+Etv6pq7S3kWg0Ka2E9k\n",
       "/AgMsuNJdk0B5N/m+qslpqu1GxeGd5uVBd4Q/cXpqJxEYxtZfYxKIKOfO0fiDNdxEWJ0/Wktb1vX\n",
       "51X5DIRTCcKQ4cT3Gpnr6S1SgG96E7SfVJTOXTYSy0qOBFWe28jTo4Y4DUguqYa2Pc9EmpRZDJBf\n",
       "3TI3BuBYbhGp7NP0rS95pLf3TkFd2GHEJ+RmQLwpZOACOFbhfEcbSNw9XkUxCuwZD4A0EIA0N/8a\n",
       "Mo5VVeYcOOdT0VF96SqtPKB09sP73XsdX9s38kkLX3/+hJRK3fkMcxg3Lj/4m6aHq8rR6e/Iu/tY\n",
       "nAtfIYKaJaDJ4UALn4DgaqVtByX3ibAaMS7hXTuhn8O0bcyJROm0PpuHRkg0/IStgwcd3f333Nwd\n",
       "29/b58MhstOuFfzdJkavSBzyiM2ytArfjmF//NQwrV3uO7Ervej0RYXp43TM9dawOf4uAXcC3NnE\n",
       "n9OxI8LyqsLS41SowheklKICVvKF4IRfbcmKWGjpwAoJGdnK8pDwhJWOdK8hHq/ti2avjTac6mrw\n",
       "WXHMv8K+2LB9xJNS2C5s2+njYRvHlD+fdHtKYwruRPLw9gCCRvkw7GdPkV8vQhTgqXNRoR9FhA52\n",
       "wdG4ClKljPWr3erG7TtZMlhrHV/fXrsTnLR+0Mnm3FdTroTUdp7m4eyTrIe/ZpwUbHd83O5V6Z3F\n",
       "/mLQl0LKbuN+NZ5FuNJPTWibXaPK1EWpyKdm3z2lyi3ySXHLbF7OUgzWTxT7uXLuu6FimhB2LHbJ\n",
       "3hOAUtKutS3p32GXzrgofwKjS5i5FAQMOOFJPwctUPmVG/Y0PB5+MY2UNX0z2CQHivrV0MIHZdxo\n",
       "Sd5R1ByMuqu4W5boQyY4qGi+UYxzyY5We8bAri7UtIQOacc2JR0W0fiWs2tOLPunzH3EVWNxdb5K\n",
       "r8xfdakktgJXVOD6IHgM4hJSKR9087QNPZu5m+fPb6vsS+eJgCDdXKUmHMFdRLjPWDVM984wTCwr\n",
       "s7u2e7d5mtr720gvUhuOWc14Txq3X55/lXJJVG2mMy2lh3qSGdkKhBdrVc1KFGKbwXibLiQKFVH1\n",
       "kDZdZd0OKMoMW4ITEo1amvMXnIXmxaE5DJkzpHIORqStN64fHcVeep30wNR6EHK1BhkdYfkgFgI0\n",
       "V5gbZOtyyC7ovT9xeImS/R15ZAgnxMEq39bivvDGRHkLnx7d7J0VZP8x7ghNNoXD5kf8Nzhf/SOP\n",
       "RVm07O+G2Qy8LmgHnLGVtisuujXt+6pBqr3sFfYhZUzFs0UyMBbfi7CrKd5RPMoAEqkeIeNJhVwA\n",
       "H935jbHOQVt0AFHpedZ40+5tS1TKmxY96B7zvnVISUP5qfiIv6dgoyFl7G+dmBnlrAZnhAsoyLHq\n",
       "MnkEY8+xjMpcBMr30gNcTTl4iRTI9r7AGuIDmH0rrbjsTaFv6CxNPe0lyokYYnLupnxJtc6uIXpY\n",
       "BCJpPqq5uNKyO9aEQg8EORPvQ46DFzSAdRwe6j5I/n4Ad25+GKeRu7wmU60Op4N7634mVSzY+8aT\n",
       "7opdCeIzBStka2i+cHfmshk2EOk6j2Ycr6HigOGcCoulgDurCAHDxtBsHcvJoawMNKL6DL0/3QAA\n",
       "BSVBm9FJ4Q8mUwURPCv//jhAHA6PaADvYNqTqac1hv/gKeP8OJICp+EouGCwjRU92/gXnrxMptkF\n",
       "TGlEe5PYX97mSt0VNMUHKm8NF8IgELhxtchvV10x3IKyrUMZPkWBCLmgXsMLqXTWhSdUk6CCBfNq\n",
       "ng2eVCxLCi8pq0PuGRY/naytpkbk0jHDgASxSTwrn26lvvBmXBxrJH/nxpLk97NTWrECIHI6A1TS\n",
       "NQexnL0vlPdbDUq8/fMTo4SzfOcTAcfksRDdecs9USY/88zCt9qpr9sSX8j+sX02RaxFkarIdPYJ\n",
       "Zt74QaN6g/lTjGUmBoAEEKLvPy80EmM6uJzumFVzmgOFbmRmNU9fUENqdnYYJc2jARxsi+2jznOI\n",
       "5TzDC+u4Ya5fjB4USF/AXXOb9nOpkDySfLQZvpy8swloDBeg22NYbcV3FchPV8HfmXgzwB+fhv6d\n",
       "JvKGMbVcPseMM2kgaxR+uL30q56asskshBxJ3zrZygWyIfyL7YmQ/1wbeatExCSq4Iv9+YxrO67o\n",
       "41mbchttQMGBU80vd7AYb8vac15okzLeHfMW/rDe1qE97TOfHn2asNdSg2xojLcZhUP3MDWG2WK4\n",
       "+gSuOEitZr0wPO1A9KnEWKcnY2aY02u/yOJhlNbZ2u/hKqVBVrin+7bMz43U+anjuimFFyp/1oPB\n",
       "wBxa6g5TFLkDRPSAsVdqumuqI/4/nFc75ePEtVCAWI7mbEKNkpIfcElcqS+dGuuB+KwZjCr8lHU2\n",
       "oLl0NwT7Ak2gCzFu5+7qsFKBPUX6t2Mb951a0KTcZf+355CI9NsOMY0bYiEdR9D9WizI6hQu9cIB\n",
       "alJTKqvByA1DuHP1nsUa98rj4+orlh8r2GsPuEcyM5tCK1ni78iuxqgXC4pRaKbwmHZKKW1Z4DR8\n",
       "1S9f6+UttZWa0Q8BDEGQvyE9JmAige7jWvS10XkzNWH+oi2MYG9g4cU0+fRCjFe3x3x7mjA1WK2O\n",
       "yen4uyL7N9aKVI5WeuEIzJmogEAqEux4NyMsyjyBNDJd2z+pEMCrpCyo5avVJI3fwl/lhQ0ZBxhL\n",
       "VWZlwMPn4/oghBjGcKKSrpnIwAuZV9lUJo+Nun24VkGGJqnIaJgUPg2xvfwZaTAR9EoIZ+/IfY9o\n",
       "0n6/6qcNHSHdEnHqhnI2xTeKpYB7ksgqADgSFXCw/4R3wGKfNDQX4qhYqDda6SLCiqfoo/ZfHZua\n",
       "JXolZolaXvndZan9fn7JB0Hfh6x5gq/pizWKjAtKfFY6E/qrQfKIEIfu1hE/sfvDfHDAPHD1jyCR\n",
       "dKL4f7A5bnkN3JaV1a8DzVS+ySfhevO9TTgkYGPLlYAqhXgiCD2aUY4Dwo1nW8DcDmNWO1yjFuMg\n",
       "duRgCtUzzdQjIuZKqMIb+ynAdJTpZiRwsqSTY306vxcaCR+05BTgTF93T311pzxR2M9w4euVHxGR\n",
       "xHtdiyK4dFUJxXUs8iBBU/RVq0LT0t+N2JR8sn3UHSq3h/R7r0tQH+ymizdgh/rwCUg8ljOEf+S7\n",
       "rkK0bQPGkbUzN2ozBULPIa97exiB5/hW5WtzlANJqtf8xiwIFEmgDYU3RxrVcJWtgHH/vRjzQC8y\n",
       "QLpodTR2bXkZ4zn2FCZX8/io63+sHQG8nByyp/Nqylcj+WSlzjB48NpXjBr4eA98tSVRXm8YPzwR\n",
       "XPBQnDWS/B5eiMplCvTY+X7RuE+ZsY0/F8vpXG0uiLG6WnGfbCLidZw1ph61yM39v+KuWsaCS/9c\n",
       "yXqM3LkEInAAAAHMAZ/wakK/AVmrZ+LMKgAJjGIS8IWI3QvQeCUhQ4ePUy0vJY9igcoy61qtOyKW\n",
       "HMwFT7NmCuLRXaArL65qCrTxFc4+VToaZxDuu7sCb0MSCSb/uRNwD8HFquUks999ExZBqSGCwsjY\n",
       "dbMHFLXFV317hM4mK3UWHLThUMFSSzOd15CF+74yPQcFyFvJA/BRQCLc1C2D+2RTFA8iAngbLXp1\n",
       "+X9bzdrqv/5tqcbYAbvjqkuuv6zsRALE2+a55NtHCcQ9oRlqWysic0Ycmz/0oN9RvURkX8vDGmWj\n",
       "ouEFZJeO7rxMKRMkCLw2rWrIg1Ysj8RrRFy6YwkL1ADSPLdPmqJ/vzuUlJV4cW4/5mYiP+mkzqL3\n",
       "i6nCiWLk58BXa7mDvd9WakqjUyb0k1fO2g0pgUE530ynyYSJPaXAET+hx4U8shvePJdGt+Z5sOVy\n",
       "1iAEKUTdq6cJ3Ty0PHEyGnSUdqNIWL/UmNJRNnnXccfuhhgalieXMfrnYwbNMB53sxpMz62RGIWy\n",
       "V70KNVKtubtQ2SNiuqYtELwlHCAOuyIR9dEbL539O3tkshejPE+CmipF47UIItlgfDZQhJT/mPEy\n",
       "IeFeVTMWicJFZoG1mJKQkAAABVptb292AAAAbG12aGQAAAAAAAAAAAAAAAAAAAPoAAAH0AABAAAB\n",
       "AAAAAAAAAAAAAAAAAQAAAAAAAAAAAAAAAAAAAAEAAAAAAAAAAAAAAAAAAEAAAAAAAAAAAAAAAAAA\n",
       "AAAAAAAAAAAAAAAAAAAAAAACAAAEhHRyYWsAAABcdGtoZAAAAAMAAAAAAAAAAAAAAAEAAAAAAAAH\n",
       "0AAAAAAAAAAAAAAAAAAAAAAAAQAAAAAAAAAAAAAAAAAAAAEAAAAAAAAAAAAAAAAAAEAAAAABsAAA\n",
       "ASAAAAAAACRlZHRzAAAAHGVsc3QAAAAAAAAAAQAAB9AAAAQAAAEAAAAAA/xtZGlhAAAAIG1kaGQA\n",
       "AAAAAAAAAAAAAAAAADIAAABkAFXEAAAAAAAtaGRscgAAAAAAAAAAdmlkZQAAAAAAAAAAAAAAAFZp\n",
       "ZGVvSGFuZGxlcgAAAAOnbWluZgAAABR2bWhkAAAAAQAAAAAAAAAAAAAAJGRpbmYAAAAcZHJlZgAA\n",
       "AAAAAAABAAAADHVybCAAAAABAAADZ3N0YmwAAAC3c3RzZAAAAAAAAAABAAAAp2F2YzEAAAAAAAAA\n",
       "AQAAAAAAAAAAAAAAAAAAAAABsAEgAEgAAABIAAAAAAAAAAEAAAAAAAAAAAAAAAAAAAAAAAAAAAAA\n",
       "AAAAAAAAAAAAAAAY//8AAAA1YXZjQwFkABX/4QAYZ2QAFazZQbCWhAAAAwAEAAADAMg8WLZYAQAG\n",
       "aOvjyyLA/fj4AAAAABx1dWlka2hA8l8kT8W6OaUbzwMj8wAAAAAAAAAYc3R0cwAAAAAAAAABAAAA\n",
       "MgAAAgAAAAAUc3RzcwAAAAAAAAABAAAAAQAAAXBjdHRzAAAAAAAAACwAAAABAAAEAAAAAAEAAAoA\n",
       "AAAAAQAABAAAAAABAAAAAAAAAAEAAAIAAAAAAQAABgAAAAABAAACAAAAAAEAAAQAAAAAAQAACgAA\n",
       "AAABAAAEAAAAAAEAAAAAAAAAAQAAAgAAAAABAAAGAAAAAAEAAAIAAAAAAQAABgAAAAABAAACAAAA\n",
       "AAEAAAgAAAAAAgAAAgAAAAAEAAAEAAAAAAEAAAYAAAAAAQAAAgAAAAABAAAKAAAAAAEAAAQAAAAA\n",
       "AQAAAAAAAAABAAACAAAAAAEAAAgAAAAAAgAAAgAAAAABAAAKAAAAAAEAAAQAAAAAAQAAAAAAAAAB\n",
       "AAACAAAAAAEAAAYAAAAAAQAAAgAAAAABAAAEAAAAAAEAAAoAAAAAAQAABAAAAAABAAAAAAAAAAEA\n",
       "AAIAAAAAAQAABAAAAAABAAAGAAAAAAEAAAIAAAAAAgAABAAAAAABAAAGAAAAAAEAAAIAAAAAHHN0\n",
       "c2MAAAAAAAAAAQAAAAEAAAAyAAAAAQAAANxzdHN6AAAAAAAAAAAAAAAyAAAdnQAACOkAAAS3AAAB\n",
       "wwAAA7sAAAicAAADkAAABYwAAAoeAAAFCgAAAzgAAANAAAAGAQAAAsUAAAihAAADJwAACJAAAARQ\n",
       "AAAC/wAABSgAAAaGAAAHTAAAB1cAAAl/AAACNwAAAVIAAAKYAAAAggAAA4oAAAqLAAAELAAAA2IA\n",
       "AAmPAAAFRAAAAzwAAAOOAAAGNwAAAz0AAAWUAAAK+wAABOIAAANfAAADSQAABIYAAAbpAAADMQAA\n",
       "BhMAAAZWAAAFKQAAAdAAAAAUc3RjbwAAAAAAAAABAAAAMAAAAGJ1ZHRhAAAAWm1ldGEAAAAAAAAA\n",
       "IWhkbHIAAAAAAAAAAG1kaXJhcHBsAAAAAAAAAAAAAAAALWlsc3QAAAAlqXRvbwAAAB1kYXRhAAAA\n",
       "AQAAAABMYXZmNTguNDUuMTAw\n",
       "\">\n",
       "  Your browser does not support the video tag.\n",
       "</video>"
      ],
      "text/plain": [
       "<IPython.core.display.HTML object>"
      ]
     },
     "execution_count": 10,
     "metadata": {},
     "output_type": "execute_result"
    }
   ],
   "source": [
    "# Show the animation\n",
    "HTML(ani.to_html5_video())"
   ]
  },
  {
   "cell_type": "code",
   "execution_count": 11,
   "metadata": {
    "scrolled": false,
    "slideshow": {
     "slide_type": "skip"
    }
   },
   "outputs": [],
   "source": [
    "# Save the animation\n",
    "ani.save('VibrationModes.mp4')"
   ]
  },
  {
   "cell_type": "markdown",
   "metadata": {
    "slideshow": {
     "slide_type": "skip"
    }
   },
   "source": [
    "The animation coded above is saved under `VibrationModes.mp4` and uploaded onto Quercus.\n",
    "Compare it with the video called `masses_for_04_modes.mp4` of the previous chapter!\n",
    "See also fig. 3 (King fig. 6.2) for a picture of the first four modes and fig. 4 (King fig. 6.1) for a representation of the time evolution of mode number 2."
   ]
  },
  {
   "cell_type": "markdown",
   "metadata": {
    "slideshow": {
     "slide_type": "skip"
    }
   },
   "source": [
    "![Fig. 3: King 6.2](King62.png)"
   ]
  },
  {
   "cell_type": "markdown",
   "metadata": {
    "slideshow": {
     "slide_type": "skip"
    }
   },
   "source": [
    "![Fig. 4: King 6.1](King61.png)"
   ]
  },
  {
   "cell_type": "markdown",
   "metadata": {
    "slideshow": {
     "slide_type": "skip"
    }
   },
   "source": [
    "Here are a few important remarks that you will also find on the captions of King's figures.\n",
    "\n",
    "* Those points where the string doesn't move are called **nodes**.\n",
    "* Those points in-between where the string moves with the largest amplitude are called **antinodes**. I might call them bellies. It is *not* standard practice to do so.\n",
    "* The mode with no nodes ($n = 1$ here) is called the **fundamental** (mode), or **first harmonic** (but really, \"fundamental\" is more standard). It is originally a musical term, I guess, as in, it corresponds to the gravest sound an instrument of piece of instrument can produce. The one with one node ($n = 2$) is called the **second harmonic**, and so on.\n",
    "* The $n^{th}$ harmonic has $n-1$ nodes, and $n$ antinodes.\n",
    "* $k_n$ is called the **wavenumber** of the $n^{th}$ mode, $$\\boxed{\\lambda_n = \\frac{2\\pi}{k_n}} = \\frac{2L}n $$ is its **wavelength**. The units of $k_n$ are rad.m$^{-1}$ and those of $\\lambda_n$ are m (metres)."
   ]
  },
  {
   "cell_type": "markdown",
   "metadata": {
    "slideshow": {
     "slide_type": "skip"
    }
   },
   "source": [
    "***\n",
    "\n",
    "**Worked example: King p. 143. Also recommended: worked example p. 144.**\n",
    "\n",
    "***"
   ]
  },
  {
   "cell_type": "markdown",
   "metadata": {
    "slideshow": {
     "slide_type": "skip"
    }
   },
   "source": [
    "# Standing Waves as Normal Modes of a Vibrating String\n",
    "\n",
    "[*Book: § 6.4*]"
   ]
  },
  {
   "cell_type": "markdown",
   "metadata": {
    "slideshow": {
     "slide_type": "skip"
    }
   },
   "source": [
    "## Results from Fourier Series"
   ]
  },
  {
   "cell_type": "markdown",
   "metadata": {
    "slideshow": {
     "slide_type": "skip"
    }
   },
   "source": [
    "We just saw that if $y_n$ and $y_m$ were modes of vibrations of the string, then a linear combination of those two was a solution. But is the reverse true? Namely, if $y$ is a solution, can it be written as $\\sum_{n=1}^{\\infty} A_n y_n$? After all, maybe we have only covered the set of solutions which were separable, and we are missing plenty of elementary solutions that cannot be written as $y_n(t, x) = f_n(x)h_n(t)$."
   ]
  },
  {
   "cell_type": "markdown",
   "metadata": {
    "slideshow": {
     "slide_type": "skip"
    }
   },
   "source": [
    "The answer is yes, the decomposition exists and is unique, but I will not prove it because you saw it in Calculus II with Fourier series. If (and only if) you would like a refresher, the video below might help (also at https://youtu.be/spUNpyF58BY; I did not watch this particular video, but everything else I have seen on this channel was pretty good)."
   ]
  },
  {
   "cell_type": "code",
   "execution_count": 12,
   "metadata": {
    "slideshow": {
     "slide_type": "skip"
    }
   },
   "outputs": [
    {
     "data": {
      "image/jpeg": "[encoded data removed]",
      "text/html": [
       "\n",
       "        <iframe\n",
       "            width=\"560\"\n",
       "            height=\"315\"\n",
       "            src=\"https://www.youtube.com/embed/spUNpyF58BY\"\n",
       "            frameborder=\"0\"\n",
       "            allowfullscreen\n",
       "        ></iframe>\n",
       "        "
      ],
      "text/plain": [
       "<IPython.lib.display.YouTubeVideo at 0x7fb78d7b1700>"
      ]
     },
     "execution_count": 12,
     "metadata": {},
     "output_type": "execute_result"
    }
   ],
   "source": [
    "YouTubeVideo('spUNpyF58BY', width=560, height=315)"
   ]
  },
  {
   "cell_type": "markdown",
   "metadata": {
    "slideshow": {
     "slide_type": "skip"
    }
   },
   "source": [
    "Just as the existence and unicity of the decomposition into eigenmodes for a coupled system of oscillations was a gift from a linear algebra class, the existence and unicity of the decomposition of any solution into standing wave modes is a gift from Fourier analysis."
   ]
  },
  {
   "cell_type": "markdown",
   "metadata": {
    "slideshow": {
     "slide_type": "subslide"
    }
   },
   "source": [
    "Namely, the main result to remember from a lecture on Fourier series is that if a function $s(x)$ of the real variable $x$ is continuous and periodic, with period $L$, then $\\exists \\{A_n, B_n\\}_{n\\in \\mathbb N^*}$ such that \n",
    "$$ s(x) = \\frac{A_0}2 + \\sum_{n=1}^\\infty A_n \\cos(k_n x) + B_n \\sin(k_n x). $$"
   ]
  },
  {
   "cell_type": "markdown",
   "metadata": {
    "slideshow": {
     "slide_type": "-"
    }
   },
   "source": [
    "And if the function is odd, i.e., $s(x) = -s(-x)$, then it is even simpler:\n",
    "$$ s(x) = \\sum_{n=1}^\\infty B_n \\sin(k_n x). $$"
   ]
  },
  {
   "cell_type": "markdown",
   "metadata": {
    "slideshow": {
     "slide_type": "skip"
    }
   },
   "source": [
    "You may object that Fourier series apply to periodic functions, i.e., functions that exist on $\\mathbb R$, not $[0, L]$.\n",
    "The connection is that we can imagine our solution on $[0, L]$ as a \"cropped\" sub-set of a function that would be periodic.\n",
    "In this case, the actual solution and the corresponding infinitely long and periodic function share the same Fourier coefficients."
   ]
  },
  {
   "cell_type": "markdown",
   "metadata": {
    "slideshow": {
     "slide_type": "skip"
    }
   },
   "source": [
    "Let me plot a sketch of what I mean by \"actual solution\" (fig. 5) and \"infinitely long and periodic function\" (fig. 6)."
   ]
  },
  {
   "cell_type": "code",
   "execution_count": 13,
   "metadata": {
    "slideshow": {
     "slide_type": "skip"
    }
   },
   "outputs": [],
   "source": [
    "# Definition of the function\n",
    "# Let's draw a triangular shape, with the top at a point where the string is plucked\n",
    "pluck_point = 0.25*L  # in [m]\n",
    "a = 0.01  # how high the string is plucked [m]\n",
    "s = a * x / pluck_point  # the first part of the string\n",
    "s[x > pluck_point] = a * (L - x[x > pluck_point]) / (L-pluck_point)  # the 2nd part\n",
    "\n",
    "plt.figure(figsize=(6, 3))\n",
    "plt.plot(x/L, s/a, 'r')\n",
    "plt.grid()\n",
    "plt.xlabel('$x/L$', fontsize=ftsz)\n",
    "plt.ylabel('$s/a$', fontsize=ftsz)\n",
    "plt.axvline(pluck_point/L, color='k', linestyle='--')\n",
    "plt.title('The plucked string on $[0, L]$', fontsize=ftsz)\n",
    "plt.ylim([0., 1.2])\n",
    "plt.autoscale(enable=True, axis='x', tight=True)\n",
    "plt.savefig('PluckedString.png', dpi=100)\n",
    "plt.close()"
   ]
  },
  {
   "cell_type": "markdown",
   "metadata": {
    "slideshow": {
     "slide_type": "subslide"
    }
   },
   "source": [
    "![Fig.5: Plucked string](PluckedString.png)"
   ]
  },
  {
   "cell_type": "code",
   "execution_count": 14,
   "metadata": {
    "slideshow": {
     "slide_type": "skip"
    }
   },
   "outputs": [],
   "source": [
    "x_extend = np.linspace(-1.5*L, 2.5*L, 512)  # x extended beyoind [0, L]\n",
    "s_extend = a * x_extend / pluck_point  # the first part of the string\n",
    "s_extend[x_extend > pluck_point] = (L - x_extend[x_extend > pluck_point]\n",
    "                                   ) * a / (L-pluck_point)\n",
    "s_extend[x_extend > 2*L-pluck_point] = (x_extend[x_extend > 2*L-pluck_point]/pluck_point\n",
    "                                        - 2*L/pluck_point) * a\n",
    "s_extend[x_extend > 2*L+pluck_point] = (L - x_extend[x_extend > 2*L+pluck_point]\n",
    "                                       )  * a / (L-pluck_point) + 2*a*L/(L-pluck_point)\n",
    "s_extend[x_extend < -pluck_point] = a * (L - x_extend[x_extend < -pluck_point]\n",
    "                                        ) / (L-pluck_point) - 2*a*L/(L-pluck_point)\n",
    "\n",
    "plt.figure(figsize=(12, 3))\n",
    "plt.plot(x_extend/L, s_extend/a, 'b--', label='$s(x)$ extended')\n",
    "plt.plot(x/L, s/a, 'r', label='$s(x)$')\n",
    "plt.grid()\n",
    "plt.xlabel('$x/L$', fontsize=ftsz)\n",
    "plt.ylabel('$s/a$', fontsize=ftsz)\n",
    "plt.ylim([-1.2, 1.2])\n",
    "plt.axhline(0., color='k')\n",
    "plt.axvline(pluck_point/L, color='k', linestyle='--')\n",
    "plt.axvline(0., color='k')\n",
    "plt.axvline(1., color='k')\n",
    "plt.title('Equivalent plucked string on an extended interval', fontsize=ftsz)\n",
    "plt.legend()\n",
    "plt.autoscale(enable=True, axis='x', tight=True)\n",
    "plt.savefig('PeriodicPlucked.png', dpi=100)\n",
    "plt.close()"
   ]
  },
  {
   "cell_type": "markdown",
   "metadata": {
    "slideshow": {
     "slide_type": "subslide"
    }
   },
   "source": [
    "![Fig. 6: The plucked string, if it was part of an infinitely long and periodic function.](PeriodicPlucked.png)"
   ]
  },
  {
   "cell_type": "markdown",
   "metadata": {
    "slideshow": {
     "slide_type": "skip"
    }
   },
   "source": [
    "While the plucked string (red, solid line on fig. 6) is not periodic, the blue, dashed line is, with period $2L$.\n",
    "Morevoer, it is odd, and can be decomposed as a Fourier series.\n",
    "In the interval $[0, L]$, the two are indistinguishable, and the plucked string shares the extended string's expression."
   ]
  },
  {
   "cell_type": "markdown",
   "metadata": {
    "slideshow": {
     "slide_type": "skip"
    }
   },
   "source": [
    "Mathematically speaking, the rest of this section is basically an application of the Fourier series theory to string vibrations."
   ]
  },
  {
   "cell_type": "markdown",
   "metadata": {
    "slideshow": {
     "slide_type": "skip"
    }
   },
   "source": [
    "## Orthogonality of Standing Wave Modes"
   ]
  },
  {
   "cell_type": "markdown",
   "metadata": {
    "slideshow": {
     "slide_type": "skip"
    }
   },
   "source": [
    "Recall that I talked about some of this in an earlier video (https://play.library.utoronto.ca/9c234e8a3716da640f253807a8973a28). Watching it remains optional.\n",
    "\n",
    "In the last chapter, the linked masses resulted in a symmetric matrix to diagonalize, in which case the eigenvectors were orthogonal to each other.\n",
    "Something similar is happening here: the string is homogeneous ($\\mu$ is a constant), and the normal modes are orthogonal to each other.\n",
    "The \"dot product\" however needs to be redefined, because the vector space has changed.\n",
    "In the chapter on coupled oscillators, the inner product of the vector space was the good ol' dot product.\n",
    "Now, the inner product for two stress-free functions [^3] $f$ and $g$ is:\n",
    "$$f\\odot g = \\frac2L \\int_0^L f(x)g(x)\\di x.\\hspace{5cm}(3)$$\n",
    "\n",
    "[^3]: the physicist's definition of a \"stress-free function\" is a function that won't cause any problem when deriving, integrating or else. The kind of chill function we like to not worry about. Obviously, this chapter is not NIST approved."
   ]
  },
  {
   "cell_type": "markdown",
   "metadata": {
    "slideshow": {
     "slide_type": "skip"
    }
   },
   "source": [
    "The $2/L$ pre-factor is optional and is used to ensure that the functions are orthonormal with respect to the inner product. Indeed, here is a claim:\n",
    "$$ \\boxed{\\sin(k_n x) \\odot \\sin(k_m x) = \\delta_{mn}}.$$\n",
    "Recall that the Kronecker delta is $\\delta_{mn} = 1$ if $m=n$, and zero otherwise.\n",
    "That is, **modes are orthogonal to each other**."
   ]
  },
  {
   "cell_type": "markdown",
   "metadata": {
    "slideshow": {
     "slide_type": "skip"
    }
   },
   "source": [
    "*Note: Similarly,* $\\cos(k_n x) \\odot \\cos(k_m x) = \\delta_{mn}$ and $\\cos(k_n x) \\odot \\sin(k_m x) = \\delta_{mn}$. *Yes, the last one is always zero, even if* $m = n$ *, but the inner product has to be redefined as*\n",
    "$$f\\odot g = \\frac1L \\int_{-L}^L f(x)g(x)\\di x,$$\n",
    "*and the string position has to be artificially extended into the negative positions range. This inner product actually gives the same result for the former inner product, but the first definition uses parity properties of $\\sin$ and $\\cos$ and is simple enough for our purposes. As far as I can tell though, we won't be using these other two relationships with the boundary conditions of strings attached to walls. We would if the origin of the $x$-axis was in the middle of the two walls, or if we had other boundary conditions. Therefore, it is not completely usueless to know that these relationships exist.*"
   ]
  },
  {
   "cell_type": "markdown",
   "metadata": {
    "slideshow": {
     "slide_type": "skip"
    }
   },
   "source": [
    "***\n",
    "\n",
    "*While not difficult, and even though it resembles a result we have seen earlier, I skipped the proof in class. Here it is, FYI. I am also providing a graphic example below, where you should see that the areas of $\\sin(k_n x)\\sin(k_m x)$ above the zero line compensate exactly those under the zero line, yielding a zero value (unless $n=m$ of course). Don't worry about remembering or even understanding the mathematical derivation.*\n",
    "\n",
    "Recall that \n",
    "$$\\cos(a\\pm b) = \\cos a \\cos b \\mp \\sin a \\sin b.$$\n",
    "\n",
    "Sum those two and you get:\n",
    "$$ 2\\cos a\\cos b = \\cos(a-b) + \\cos(a+b). $$\n",
    "Subtract them and you obtain\n",
    "$$ 2\\sin a\\sin b = \\cos(a-b) - \\cos(a+b). $$\n",
    "\n",
    "* $m\\neq n$: for $a = n\\pi x/L$ and $b = m\\pi x/L$\n",
    "\n",
    "\\begin{align*}\n",
    "    \\sin a \\odot \\sin b & = \\frac{1}{L} \\int_0^L \\left(\\cos\\left(\\frac{(n-m) \\pi x}{L}\\right) +  \\cos\\left(\\frac{(n+m)\\pi x}{L}\\right) \\right) \\di x \\\\\n",
    "                        & = \\frac{1}{L} \\left[\\frac{L}{\\pi(n-m)}\\sin\\left(\\frac{(n-m) \\pi x}{L}\\right) + \\frac{L}{\\pi(n+m)} \\sin\\left(\\frac{(n+m)\\pi x}{L}\\right) \\right]_0^L \\\\\n",
    "                        & = 0 + 0 = 0 \\quad\\textrm{if}\\quad m \\neq n.\n",
    "\\end{align*}\n",
    "\n",
    "* $m=n$ on the other hand, we need to go back to $2\\sin a\\sin b = \\cos(a-b) - \\cos(a+b)$, which, if $a = b$, becomes $2\\sin^2(2a) = 1 - \\cos(2a)$. \n",
    "Of the two integrals that are to be computed, $\\int_0^L \\cos(2n\\pi x/L) \\di x = 0$ but $\\int_0^L \\di x = L$, and therefore,\n",
    "$$\\sin\\left(\\frac{n\\pi x}L\\right) \\odot \\sin\\left(\\frac{n\\pi x}L\\right) = \\frac{2}{L}\\frac{L}2 = 1. $$\n",
    "\n",
    "Very similar derivations exist for $\\cos(k_n x) \\odot \\cos(k_m x) = \\delta_{mn}$ and $\\cos(k_n x) \\odot \\sin(k_m x) = 0$.\n",
    "\n",
    "***"
   ]
  },
  {
   "cell_type": "code",
   "execution_count": 15,
   "metadata": {
    "slideshow": {
     "slide_type": "skip"
    }
   },
   "outputs": [],
   "source": [
    "def multsincos(n, m, first, second):\n",
    "    \"\"\" a graphic illustration of what happens when two sines and/or cosines\n",
    "    are multiplied \n",
    "    IN: n, m are strictly positive integer modes\n",
    "    first, second are both 'sin' or 'cos' \"\"\"\n",
    "    def fct(nm, xloc, choice):\n",
    "        if choice == 'sin':\n",
    "            return np.sin(nm*np.pi*xloc)\n",
    "        elif choice == 'cos':\n",
    "            return np.cos(nm*np.pi*xloc)\n",
    "    \n",
    "    if first != second:\n",
    "        xmin = -1.\n",
    "    else:\n",
    "        xmin = 0.\n",
    "    \n",
    "    x = np.linspace(xmin, 1, 256)  # use L=1 m for simplicity\n",
    "        \n",
    "    fg, ax = plt.subplots(2, 1, dpi=100, sharex=True)\n",
    "    ftsz = 13  # font size\n",
    "    \n",
    "    ax[0].plot(x, fct(n, x, first), label='{0}$({1} \\pi x/L)$'.format(first, n))\n",
    "    ax[0].plot(x, fct(m, x, second), '--', label='{0}$({1}\\pi x/L)$'.format(second, m))\n",
    "    ax[0].axhline(0., color='k')\n",
    "    ax[0].axvline(0., color='k')\n",
    "    ax[0].set_xlim(xmin, 1)\n",
    "    ax[0].set_ylabel('$y$', fontsize=ftsz)\n",
    "    ax[0].legend()\n",
    "    ax[0].grid()\n",
    "    \n",
    "    ax[1].plot(x, fct(n, x, first)*fct(m, x, second),\n",
    "               label='{0}$(1\\pi x/L)${2}$({3} \\pi x/L)$'.format(first, n, second, m))\n",
    "    plt.fill_between(x , fct(n, x, first)*fct(m, x, second))\n",
    "    ax[1].axvline(0., color='k')\n",
    "    ax[1].axhline(0., color='k')\n",
    "    ax[1].set_xlabel('$x/L$', fontsize=ftsz)\n",
    "    ax[1].set_ylabel('$y$', fontsize=ftsz)\n",
    "    ax[1].legend()\n",
    "    ax[1].grid()\n",
    "    \n",
    "    fg.tight_layout()"
   ]
  },
  {
   "cell_type": "code",
   "execution_count": 16,
   "metadata": {
    "slideshow": {
     "slide_type": "skip"
    }
   },
   "outputs": [
    {
     "data": {
      "image/png": "[encoded data removed]",
      "text/plain": [
       "<Figure size 600x400 with 2 Axes>"
      ]
     },
     "metadata": {
      "needs_background": "light"
     },
     "output_type": "display_data"
    }
   ],
   "source": [
    "multsincos(1, 3, 'sin', 'sin')  # for pdf export"
   ]
  },
  {
   "cell_type": "code",
   "execution_count": 17,
   "metadata": {
    "slideshow": {
     "slide_type": "skip"
    }
   },
   "outputs": [],
   "source": [
    "from ipywidgets import interact, IntSlider"
   ]
  },
  {
   "cell_type": "code",
   "execution_count": 18,
   "metadata": {
    "slideshow": {
     "slide_type": "skip"
    }
   },
   "outputs": [
    {
     "data": {
      "application/vnd.jupyter.widget-view+json": {
       "model_id": "f1030bba96374c199807a39c544b4d8c",
       "version_major": 2,
       "version_minor": 0
      },
      "text/plain": [
       "interactive(children=(IntSlider(value=1, description='n', max=5, min=1), IntSlider(value=2, description='m', m…"
      ]
     },
     "metadata": {},
     "output_type": "display_data"
    },
    {
     "data": {
      "text/plain": [
       "<function __main__.multsincos(n, m, first, second)>"
      ]
     },
     "execution_count": 18,
     "metadata": {},
     "output_type": "execute_result"
    }
   ],
   "source": [
    "interact(multsincos, n=IntSlider(min=1, max=5, value=1), m=IntSlider(min=1, max=5, value=2), first=['sin', 'cos'], second=['sin', 'cos'])"
   ]
  },
  {
   "cell_type": "markdown",
   "metadata": {
    "slideshow": {
     "slide_type": "skip"
    }
   },
   "source": [
    "Note that similarly to the last chapter, these results can be extended to strings that are non-homogeneous (i.e. $v$ depends on $x$, like a whip getting thinner away from the handle). A new inner product would need to be defined. \n",
    "This would be the equivalent of a matrix that is not symmetric in the previous chapter.\n",
    "These considerations are outside of what you need to know for this class."
   ]
  },
  {
   "cell_type": "markdown",
   "metadata": {
    "slideshow": {
     "slide_type": "skip"
    }
   },
   "source": [
    "## Initial Value Problems"
   ]
  },
  {
   "cell_type": "markdown",
   "metadata": {
    "slideshow": {
     "slide_type": "skip"
    }
   },
   "source": [
    "Like in previous chapters, while we know that the general form of the solution is in the form of eqn. $(2)$, finding the amplitudes $C_n$ and phases $\\phi_n$ remains to be computed for an IVP."
   ]
  },
  {
   "cell_type": "markdown",
   "metadata": {
    "slideshow": {
     "slide_type": "skip"
    }
   },
   "source": [
    "And like at the end of the previous chapter, the orthogonality condition will help us to solve this problem relatively easily."
   ]
  },
  {
   "cell_type": "markdown",
   "metadata": {
    "slideshow": {
     "slide_type": "skip"
    }
   },
   "source": [
    "First of all though, allow me to rewrite eqn. $(2)$ as\n",
    "$$\\boxed{y(t, x) = \\sum_{n = 1}^{\\infty} \\left[\\alpha_n \\cos(\\omega_n t) + \\beta_n \\sin(\\omega_n t)\\right]\\sin(k_n x)},\\hspace{4cm}(4)$$\n",
    "which is more convenient for IVPs."
   ]
  },
  {
   "cell_type": "markdown",
   "metadata": {
    "slideshow": {
     "slide_type": "skip"
    }
   },
   "source": [
    "Consider now an initial value problem\n",
    "$$ y(0, x) = P(x)\\andeq \\dot y(0, x) = V(x). $$"
   ]
  },
  {
   "cell_type": "markdown",
   "metadata": {
    "slideshow": {
     "slide_type": "skip"
    }
   },
   "source": [
    "We now have two equations,\n",
    "$$\\sum_{n = 1}^{\\infty} \\alpha_n\\sin(k_n x) = P(x) \\andeq \\sum_{n = 1}^{\\infty} \\omega_n\\beta_n\\sin(k_n x) = V(x).$$"
   ]
  },
  {
   "cell_type": "markdown",
   "metadata": {
    "slideshow": {
     "slide_type": "skip"
    }
   },
   "source": [
    "These could be seen as two equations with an infinite number of unknown each ($2\\times \\infty$ unknown total). But because these unknown multiply eigenfunctions that are all orthogonal to each other, we can use projections to turn it into a system with as many equations as there are unknown.\n",
    "For example,\n",
    "$$\\left[\\sum_{n = 1}^{\\infty} \\alpha_n\\sin(k_n x)\\right] \\odot \\sin(k_m x) = \\sum_{n = 1}^{\\infty} \\alpha_n\\left[\\sin(k_n x) \\odot \\sin(k_m x)\\right] = \\alpha_m.$$\n",
    "*Note: in the result above, I used that the $\\sin(k_n x)$ functions are orthonormal with respect to the inner product that I defined. Had I not added a $2/L$ pre-factor in my definition of the inner product (eqn. 3), I would have needed to multiply the right-most-hand-side of the equation above with $L/2$. This is what King sort of does in his book.*"
   ]
  },
  {
   "cell_type": "markdown",
   "metadata": {
    "slideshow": {
     "slide_type": "skip"
    }
   },
   "source": [
    "Therefore, \n",
    "$$ \\forall m\\in \\mathbb N^*, \\quad \\alpha_m = P(x) \\odot \\sin(k_m x) \\andeq \\beta_m = \\frac{1}{\\omega_m}V(x) \\odot \\sin(k_m x). $$"
   ]
  },
  {
   "cell_type": "markdown",
   "metadata": {
    "slideshow": {
     "slide_type": "skip"
    }
   },
   "source": [
    "We solved one problem but created a new one, which is to compute all the $P(x)\\odot \\sin(k_m x)$ and $V(x)\\odot \\sin(k_m x)$.\n",
    "But at least, there is a road map, which is to compute integrals.\n",
    "If the initial condition is simple enough, the integrals can be computed analytically (which we will do for a couple of examples), and if not, a computer can do it."
   ]
  },
  {
   "cell_type": "markdown",
   "metadata": {
    "slideshow": {
     "slide_type": "skip"
    }
   },
   "source": [
    "## Example: Initializing a Single Mode"
   ]
  },
  {
   "cell_type": "markdown",
   "metadata": {
    "slideshow": {
     "slide_type": "skip"
    }
   },
   "source": [
    "### Analytical Resolution\n",
    "\n",
    "Suppose we start with\n",
    "$$y(0, x) = P(x) = 4a\\sin\\left(\\frac{3\\pi x}{L}\\right) \\andeq \\dot y(0, x) = V(x) = 0,$$\n",
    "with $4a$ the initial amplitude of displacement (in m).\n",
    "Of course, the first things to notice is that $3\\pi/L = k_3$."
   ]
  },
  {
   "cell_type": "markdown",
   "metadata": {
    "slideshow": {
     "slide_type": "skip"
    }
   },
   "source": [
    "That $V(x) = 0$ means that $\\forall n\\in \\mathbb N^*$, $\\beta_n = 0$."
   ]
  },
  {
   "cell_type": "markdown",
   "metadata": {
    "slideshow": {
     "slide_type": "skip"
    }
   },
   "source": [
    "As for the $\\alpha_n$'s,\n",
    "\\begin{align*}\n",
    "    \\alpha_n & = P(x) \\odot \\sin(k_n x) \\\\\n",
    "             & = \\frac2L \\int_0^L P(x)\\sin(k_n x)\\di x \\\\\n",
    "             & = \\frac{8a}{L} \\int_0^L \\sin(k_3 x) \\sin(k_n x) \\di x \\\\\n",
    "             & = 4a \\delta_{3n}.\n",
    "\\end{align*}"
   ]
  },
  {
   "cell_type": "markdown",
   "metadata": {
    "slideshow": {
     "slide_type": "skip"
    }
   },
   "source": [
    "Therefore, the only frequency of oscillation is $\\omega_3 = \\frac{3\\pi }L\\sqrt{\\frac{T}{\\mu}}$ and the solution is \n",
    "$$y(t, x) = 4a\\cos\\left(\\frac{3\\pi t}{L}\\sqrt{\\frac{T}{\\mu}}\\right)\\sin\\left(\\frac{3\\pi x}{L}\\right) \n",
    "          = 4a\\cos\\left(\\omega_3 t\\right)\\sin\\left(k_3 x\\right),$$\n",
    "which is the only term that is left from eqn. (4)."
   ]
  },
  {
   "cell_type": "markdown",
   "metadata": {
    "slideshow": {
     "slide_type": "skip"
    }
   },
   "source": [
    "Note that the frequency was not explicitly present in the initial conditions, just the wave number.\n",
    "It is just like with the coupled pendulums: one mode, one frequency was selected by just initializing the masses positions with the right pattern (or *polarization*)."
   ]
  },
  {
   "cell_type": "markdown",
   "metadata": {
    "slideshow": {
     "slide_type": "skip"
    }
   },
   "source": [
    "A quick sanity check on the units: $T$ is in N, or kg.m.s$^{-2}$, and $\\mu$ is in kg.m$^{-1}$, therefore $\\sqrt{T/\\mu}$ is in m.s$^{-1}$ (which is good, because it is the phase speed), $\\sqrt{T/\\mu}/L$ is in s$^{-1}$ in SI base units, $3\\pi$ times the same is in rad.s$^{-1}$ (*not SI base units, but it is* $\\omega_3$ in rad.s$^{-1}$), and $\\omega_3 t$ is indeed dimensionless."
   ]
  },
  {
   "cell_type": "markdown",
   "metadata": {
    "slideshow": {
     "slide_type": "skip"
    }
   },
   "source": [
    "### Graphic Representation: Spectrum\n",
    "\n",
    "Then, there is the problem of the graphic representation of this solution.\n",
    "I could display an animation, as I did before, but while pedagogically useful, it is not the representation that compresses the information the most.\n",
    "After all, if the motion is harmonic, we don't need to display a moving string to know the time information, which is completely encapsulated in the number $\\omega_3$.\n",
    "The only other piece of information I need to know is the amplitude of the third harmonic, $4d$."
   ]
  },
  {
   "cell_type": "markdown",
   "metadata": {
    "slideshow": {
     "slide_type": "skip"
    }
   },
   "source": [
    "A solution is therefore to plot the amplitude as a function of frequency, and the plot is called a **spectrum** (see fig. 7)."
   ]
  },
  {
   "cell_type": "code",
   "execution_count": 19,
   "metadata": {
    "scrolled": false,
    "slideshow": {
     "slide_type": "skip"
    }
   },
   "outputs": [],
   "source": [
    "# Let's plot\n",
    "plt.figure()\n",
    "plt.plot([3]*2, [0, 4], 'o-', linewidth=5)\n",
    "plt.axis([0, 5.1, 0, 4.4])\n",
    "plt.xticks(range(1, 6), \n",
    "          ['$\\omega_{0:1d}$'.format(n) for n in range(1, 6)],\n",
    "          fontsize=ftsz)\n",
    "plt.xlabel('Vibration frequency ($\\omega_n = n\\pi v/L$)', fontsize=ftsz)\n",
    "plt.ylabel(r'Modal amplitude $\\alpha_n/a$', fontsize=ftsz)\n",
    "plt.grid()\n",
    "plt.savefig('Spectrum1mode.png', dpi=100)\n",
    "plt.close()"
   ]
  },
  {
   "cell_type": "markdown",
   "metadata": {
    "slideshow": {
     "slide_type": "subslide"
    }
   },
   "source": [
    "![Fig. 7: Spectrum when only one mode of amplitude $4a$ is present.](Spectrum1mode.png)"
   ]
  },
  {
   "cell_type": "markdown",
   "metadata": {
    "slideshow": {
     "slide_type": "skip"
    }
   },
   "source": [
    "Two remarks on spectra.\n",
    "\n",
    "* We did plot very similar graphs on the lecture on resonance, when we were plotting the amplitude (or dissipated power) as a function of frequency. And indeed, we do not have dissipation, meaning that we don't need to invoke forcing to describe sustained oscillations. If we introduced damping and forcing, we could plot spectra of the string vibrations under a certain periodic forcing as a function of frequency indeed, and it would look very similar.\n",
    "* You might remember from your linear algebra class that \"spectrum\" is also the name of the set of eigenvalues of a matrix. While a set is not a plot, there is a connection, because the plot will have all the frequencies on the $x$-axis, and because there is a connection between these frequencies, the eigenfrequencies of the previous chapter, and linear algebra."
   ]
  },
  {
   "cell_type": "markdown",
   "metadata": {
    "slideshow": {
     "slide_type": "skip"
    }
   },
   "source": [
    "***\n",
    "\n",
    "*End of 7 October lecture, beginning of 9 October lecture.*\n",
    "\n",
    "***"
   ]
  },
  {
   "cell_type": "markdown",
   "metadata": {
    "slideshow": {
     "slide_type": "slide"
    }
   },
   "source": [
    "## Example: Plucked String.\n",
    "\n",
    "*Note: this is King, worked example p. 155.*\n",
    "\n",
    "I recorded a demo about this (also at https://youtu.be/KjjZx5MP36s and https://play.library.utoronto.ca/75d36f7d33c34eb9206ce68f642f0891)."
   ]
  },
  {
   "cell_type": "code",
   "execution_count": 20,
   "metadata": {},
   "outputs": [
    {
     "data": {
      "image/jpeg": "[encoded data removed]",
      "text/html": [
       "\n",
       "        <iframe\n",
       "            width=\"560\"\n",
       "            height=\"315\"\n",
       "            src=\"https://www.youtube.com/embed/KjjZx5MP36s\"\n",
       "            frameborder=\"0\"\n",
       "            allowfullscreen\n",
       "        ></iframe>\n",
       "        "
      ],
      "text/plain": [
       "<IPython.lib.display.YouTubeVideo at 0x7fb78be7c100>"
      ]
     },
     "execution_count": 20,
     "metadata": {},
     "output_type": "execute_result"
    }
   ],
   "source": [
    "YouTubeVideo('KjjZx5MP36s', width=560, height=315)"
   ]
  },
  {
   "cell_type": "markdown",
   "metadata": {
    "slideshow": {
     "slide_type": "skip"
    }
   },
   "source": [
    "### Analytical resolution\n",
    "\n",
    "Analytically speaking, it is relatively easy to compute the Fourier decomposition of a string, plucked in the middle:\n",
    "$$ y(0, x) = P(x) = \\frac{2a x}{L} \\quad \\textrm{for} \\quad 0\\leq x < L/2, $$\n",
    "$$ y(0, x) = P(x) = 2a\\left(1 - \\frac{x}{L}\\right) \\quad \\textrm{for} \\quad L/2 \\leq x \\leq L. $$"
   ]
  },
  {
   "cell_type": "markdown",
   "metadata": {
    "slideshow": {
     "slide_type": "skip"
    }
   },
   "source": [
    "As before, we will consider the case $\\dot y(0, x) = V(x) = 0$, which again means that $\\forall n\\in \\mathbb N^*$, $\\beta_n = 0$."
   ]
  },
  {
   "cell_type": "markdown",
   "metadata": {
    "slideshow": {
     "slide_type": "skip"
    }
   },
   "source": [
    "\\begin{align*}\n",
    "    \\alpha_n & = P(x) \\odot \\sin(k_n x) \\\\\n",
    "             & = \\frac{4a}L \\left[\\int_0^{L/2}\\frac{x}{L} \\sin(k_n x)\\di x + \\int_{L/2}^L \\left(1 - \\frac{x}{L}\\right) \\sin(k_n x)\\di x\\right].\n",
    "\\end{align*}"
   ]
  },
  {
   "cell_type": "markdown",
   "metadata": {
    "slideshow": {
     "slide_type": "skip"
    }
   },
   "source": [
    "A useful formula to compute these integrals is\n",
    "$$ \\int x' \\sin(bx') \\di x' = \\frac{\\sin(bx)}{b^2} - \\frac{x\\cos(bx)}{b},$$\n",
    "which is the result of an integration by parts, followed by a simple integration.\n",
    "Ask Wolfram Alpha if you are curious.\n",
    "Do not try to remember it."
   ]
  },
  {
   "cell_type": "raw",
   "metadata": {
    "raw_mimetype": "text/markdown",
    "slideshow": {
     "slide_type": "skip"
    }
   },
   "source": [
    "# for verification, I ask Python's symbolic math package to do it\n",
    "from sympy import *  # symbolic math operations\n",
    "init_printing(use_unicode=True)  # to print pretty\n",
    "\n",
    "n = Symbol('n', integer=True, positive=True)\n",
    "x, L = symbols('n, L', real=True, positive=True)"
   ]
  },
  {
   "cell_type": "raw",
   "metadata": {
    "raw_mimetype": "text/markdown",
    "slideshow": {
     "slide_type": "skip"
    }
   },
   "source": [
    "factor(integrate(x/L*sin(n*pi*x/L), (x, 0, L/2)))  # for verification"
   ]
  },
  {
   "cell_type": "markdown",
   "metadata": {
    "slideshow": {
     "slide_type": "skip"
    }
   },
   "source": [
    "The first integral is\n",
    "\\begin{align*}\n",
    "    \\int_0^{L/2}\\frac{x}{L} \\sin(k_n x)\\di x \n",
    "        & = \\frac{1}{k_n L} \\left[ \\frac{\\sin(k_n x)}{k_n} - x\\cos(k_n x) \\right]_0^{L/2} \\\\\n",
    "        & = \\frac{L}{n\\pi}\\left[\\frac{1}{n\\pi}\\sin\\left(\\frac{n\\pi}{2}\\right) - \\frac12\\cos\\left(\\frac{n\\pi}{2}\\right) \\right].\n",
    "\\end{align*}"
   ]
  },
  {
   "cell_type": "raw",
   "metadata": {
    "raw_mimetype": "text/markdown",
    "slideshow": {
     "slide_type": "skip"
    }
   },
   "source": [
    "factor(integrate((1-x/L)*sin(n*pi*x/L), (x, L/2, L)))  # for verification"
   ]
  },
  {
   "cell_type": "markdown",
   "metadata": {
    "slideshow": {
     "slide_type": "skip"
    }
   },
   "source": [
    "For the other integral, and following a similar calculation, we get\n",
    "$$\\int_{L/2}^L\\left(1 - \\frac{x}{L}\\right) \\sin(k_n x)\\di x = \\frac{L}{n\\pi}\\left[\\frac{1}{n\\pi}\\sin\\left(\\frac{n\\pi}{2}\\right) + \\frac12\\cos\\left(\\frac{n\\pi}{2}\\right) \\right]. $$"
   ]
  },
  {
   "cell_type": "markdown",
   "metadata": {
    "slideshow": {
     "slide_type": "skip"
    }
   },
   "source": [
    "Adding the two, we get\n",
    "$$ \\int_0^{L/2}\\frac{x}{L} \\sin(k_n x)\\di x + \\int_{L/2}^L \\left(1 - \\frac{x}{L}\\right) \\sin(k_n x)\\di x = \\frac{2L}{(n\\pi)^2}\\sin\\left(\\frac{n\\pi}{2}\\right) $$"
   ]
  },
  {
   "cell_type": "markdown",
   "metadata": {
    "slideshow": {
     "slide_type": "skip"
    }
   },
   "source": [
    "The final form of $\\alpha_n$ is therefore\n",
    "$$ \\alpha_n = \\frac{8 a}{(n\\pi)^2}\\sin\\left(\\frac{n\\pi}{2}\\right) = 0 \\quad\\textrm{if } n\\textrm{ is even,  and } \\quad \\frac{8 a}{(n\\pi)^2}(-1)^{(n-1)/2}\\quad\\textrm{if } n\\textrm{ odd}. $$"
   ]
  },
  {
   "cell_type": "markdown",
   "metadata": {
    "slideshow": {
     "slide_type": "skip"
    }
   },
   "source": [
    "Let us only consider the $n$ odd case then, and let $n=2m+1$, $m\\in\\mathbb N$.\n",
    "From eqn. (4), the solution to the string, plucked in the middle is therefore:\n",
    "$$ \\boxed{y(t, x) = \\frac{8a}{\\pi^2}\\sum_{m=0}^{\\infty}\\frac{(-1)^{m}}{(2m+1)^2}\\cos\\left(\\frac{(2m+1)\\pi v}{L}t\\right)\\sin\\left(\\frac{(2m+1)\\pi}{L}x\\right)}. $$"
   ]
  },
  {
   "cell_type": "markdown",
   "metadata": {
    "slideshow": {
     "slide_type": "skip"
    }
   },
   "source": [
    "### Spectrum"
   ]
  },
  {
   "cell_type": "markdown",
   "metadata": {
    "slideshow": {
     "slide_type": "skip"
    }
   },
   "source": [
    "Although complicated, we can plot the formula above relatively easily as a spectrum. Let me compute a few values, with $d = 1 cm$, $L = 1 m$\n",
    "\n",
    "* $y_1(t, x) = \\frac{8a}{\\pi^2}\\cos\\frac{\\pi v t}L\\sin\\frac{\\pi x}L$,\n",
    "* $y_2(t, x) = 0$,\n",
    "* $y_3(t, x) = -\\frac{8a}{9\\pi^2}\\cos\\frac{3\\pi v t}L\\sin\\frac{3\\pi x}L$,\n",
    "* $y_4(t, x) = 0$,\n",
    "* $y_5(t, x) = \\frac{8a}{25\\pi^2}\\cos\\frac{5\\pi v t}L\\sin\\frac{5\\pi x}L$,\n",
    "* $y_6(t, x) = 0$,\n",
    "* ...\n",
    "\n",
    "We can easily plot the spectrum for the first few modes."
   ]
  },
  {
   "cell_type": "code",
   "execution_count": 21,
   "metadata": {
    "slideshow": {
     "slide_type": "skip"
    }
   },
   "outputs": [],
   "source": [
    "# Let's plot\n",
    "N = 8  # maximum number of modes we plot\n",
    "plt.figure()\n",
    "for n in range(N):\n",
    "    plt.plot([n+1]*2, [0, np.sin(0.5*(n+1)*np.pi)/(n+1)**2], 'o-', linewidth=5)\n",
    "plt.axis([0, N+0.5, -0.15, 1.1])\n",
    "plt.axhline(0., color='k')\n",
    "plt.xticks(range(1, N+1), \n",
    "          ['$\\omega_{0:1d}$'.format(n) for n in range(1, N+1)],\n",
    "          fontsize=ftsz)\n",
    "plt.xlabel('Vibration frequency ($\\omega_n = n\\pi v/L$)', fontsize=ftsz)\n",
    "plt.ylabel(r'Modal amplitude $\\alpha_n\\pi^2/(8a)$', fontsize=ftsz)\n",
    "plt.grid()\n",
    "plt.savefig('SpectrumPlucked.png', dpi=100)\n",
    "plt.close()"
   ]
  },
  {
   "cell_type": "markdown",
   "metadata": {
    "slideshow": {
     "slide_type": "subslide"
    }
   },
   "source": [
    "![Fig. 8: Spectrum for a plucked string](SpectrumPlucked.png)"
   ]
  },
  {
   "cell_type": "markdown",
   "metadata": {
    "slideshow": {
     "slide_type": "skip"
    }
   },
   "source": [
    "The amplitude of each mode decays fast with the mode number.\n",
    "This is because by plucking the string in the middle, we created a \"large-scale pattern\" whose Fourier series converges very fast.\n",
    "We can plot this to visualise better."
   ]
  },
  {
   "cell_type": "markdown",
   "metadata": {
    "slideshow": {
     "slide_type": "skip"
    }
   },
   "source": [
    "*Note: usually, a \"spectrum\" plots $|\\alpha_n|$, not $\\alpha_n$ as I did, as if the sign was included in the phase of $\\cos(\\omega_n t)$.*"
   ]
  },
  {
   "cell_type": "code",
   "execution_count": 22,
   "metadata": {
    "scrolled": false,
    "slideshow": {
     "slide_type": "skip"
    }
   },
   "outputs": [],
   "source": [
    "# I have to redefine the two quantities below because I used them as symbols in-between\n",
    "L = .33  # length of string: 33 cm\n",
    "x = np.linspace(0., L, 128)  # the x array\n",
    "\n",
    "mode = {}  # all modes stored in a dictionary\n",
    "y_approx = 0*x  # this will be the sum of thre first N modes\n",
    "y_init = 2*x/L  # the first part of the string; I will divide all y's by d\n",
    "y_init[x > 0.5*L] = 2. * (1 - x[x > 0.5*L]/L)  # the 2nd part\n",
    "\n",
    "fig = plt.figure()\n",
    "\n",
    "ff = 1  # frame number, or subplot number\n",
    "for m in range(N//2):\n",
    "    n = 2*m + 1\n",
    "    \n",
    "    mMax = 8/(n*np.pi)**2\n",
    "    mode[n] = mMax * np.sin(0.5*n*np.pi) * np.sin(n*np.pi*x/L)\n",
    "    y_approx += mode[n]\n",
    "    \n",
    "    axl = fig.add_subplot(len(range(N//2)), 2, ff)\n",
    "    axl.plot(x/L, mode[n])\n",
    "    axl.axis([0, 1., -mMax*1.1, mMax*1.1])\n",
    "    axl.ticklabel_format(axis='y', style='sci', scilimits=(-1, 1))\n",
    "    axl.set_ylabel(r'$N = {0:1d}$'.format(n))\n",
    "    axl.set_yticks([-mMax, 0., mMax])\n",
    "    axl.grid()\n",
    "    \n",
    "    axr = fig.add_subplot(len(range(N//2)), 2, ff+1)\n",
    "    axr.plot(x/L, y_approx, x/L, y_init, 'r--')\n",
    "    axr.axis([0, 1., 0., y_init.max()])\n",
    "    axr.set_yticks([0., 0.5, 1.])\n",
    "    axr.grid()\n",
    "    \n",
    "    if n == 1:\n",
    "        axl.set_title(r'$\\alpha_N\\sin(k_N x)$')\n",
    "        axr.set_title(r'$\\sum_{n=1}^N\\alpha_n\\sin(k_n x)$')\n",
    "    \n",
    "    if m == N//2-1:\n",
    "        axl.set_xlabel('$x/L$')\n",
    "        axr.set_xlabel('$x/L$')\n",
    "    else:\n",
    "        axl.set_xticklabels([])\n",
    "        axr.set_xticklabels([])\n",
    "    \n",
    "    ff += 2\n",
    "\n",
    "plt.tight_layout()\n",
    "plt.autoscale(enable=True, axis='x', tight=True)\n",
    "plt.savefig(\"Modes1to4.png\", dpi=150)\n",
    "plt.close()"
   ]
  },
  {
   "cell_type": "markdown",
   "metadata": {
    "scrolled": false,
    "slideshow": {
     "slide_type": "subslide"
    }
   },
   "source": [
    "![Fig. 8:](Modes1to4.png)"
   ]
  },
  {
   "cell_type": "markdown",
   "metadata": {
    "slideshow": {
     "slide_type": "skip"
    }
   },
   "source": [
    "In the figure above, the left column shows each individual initial mode, and the right column shows their sum, up to the mode on the left.\n",
    "Notice how after three modes ($N = 5$), most of the pattern is captured, and adding the fourth mode ($n=7$) does not improve the solution that much.\n",
    "This is why this approach is feasible: because we usually don't need an infinite number of modes to obtain a satisfying approximation to the solution."
   ]
  },
  {
   "cell_type": "markdown",
   "metadata": {
    "slideshow": {
     "slide_type": "skip"
    }
   },
   "source": [
    "Solving for the initial conditions means that we solved the problem at all times, as the animation below (saved under `PluckMiddle.mp4`) shows."
   ]
  },
  {
   "cell_type": "code",
   "execution_count": 23,
   "metadata": {
    "slideshow": {
     "slide_type": "skip"
    }
   },
   "outputs": [],
   "source": [
    "# Various quantities\n",
    "t_end = 2.*np.pi/(omega[0]) # time array spans one fundamental frequency\n",
    "n_frames = 100  # number of frames for animation\n",
    "time = np.linspace(0., t_end, n_frames)  # time array\n",
    "\n",
    "imagelist = []  # list of frames to eventually animate\n",
    "\n",
    "# Animation\n",
    "fig = plt.figure()\n",
    "ax = plt.gca()\n",
    "ax.set_xlim([0., 1.])\n",
    "ax.set_ylim([-1., N//2+0.5])\n",
    "ax.set_xlabel('$x/L$', fontsize=ftsz)\n",
    "ax.set_yticks(range(0, N//2+1))\n",
    "ax.set_yticklabels(['$tot$', '1', '3', '5', '7'])\n",
    "ax.set_ylabel('$y_n(t, x)/a + \\mathrm{ mode\\ number}\\ n$', fontsize=ftsz)\n",
    "ax.grid()\n",
    "\n",
    "k = [n*k0 for n in range(1, N+1)]  # the list of k's\n",
    "omega = [n*k0*v for n in range(1, N+1)]  # the list of k's\n",
    "\n",
    "x_positions = np.tile(x, (N//2+1, 1))/L  # replicate the x array N/2+1 times\n",
    "for t in time: # We loop over time to animate the modes\n",
    "    y_modes = 0*x_positions  # nx positions for N modes\n",
    "    for m in range(N//2):\n",
    "        n = 2*m + 1\n",
    "        y_modes[m, :] = 1 + m + mode[n]*np.cos(omega[n]*t)\n",
    "        y_modes[N//2, :] += y_modes[m, :] - 1 - m\n",
    "\n",
    "    im = plt.scatter(x_positions, y_modes, c=y_modes, cmap='copper')\n",
    "    imagelist.append([im])\n",
    "\n",
    "# Creation of the animation\n",
    "ani = animation.ArtistAnimation(fig, imagelist, interval=40, blit=True, repeat_delay=80)\n",
    "plt.close()"
   ]
  },
  {
   "cell_type": "code",
   "execution_count": 24,
   "metadata": {
    "scrolled": false,
    "slideshow": {
     "slide_type": "subslide"
    }
   },
   "outputs": [
    {
     "data": {
      "text/html": [
       "<video width=\"432\" height=\"288\" controls autoplay loop>\n",
       "  <source type=\"video/mp4\" src=\"data:video/mp4;base64,AAAAIGZ0eXBNNFYgAAACAE00ViBpc29taXNvMmF2YzEAAAAIZnJlZQABZBdtZGF0AAACrwYF//+r\n",
       "3EXpvebZSLeWLNgg2SPu73gyNjQgLSBjb3JlIDE2MCByMzAxMU0gY2RlOWE5MyAtIEguMjY0L01Q\n",
       "RUctNCBBVkMgY29kZWMgLSBDb3B5bGVmdCAyMDAzLTIwMjAgLSBodHRwOi8vd3d3LnZpZGVvbGFu\n",
       "Lm9yZy94MjY0Lmh0bWwgLSBvcHRpb25zOiBjYWJhYz0xIHJlZj0zIGRlYmxvY2s9MTowOjAgYW5h\n",
       "bHlzZT0weDM6MHgxMTMgbWU9aGV4IHN1Ym1lPTcgcHN5PTEgcHN5X3JkPTEuMDA6MC4wMCBtaXhl\n",
       "ZF9yZWY9MSBtZV9yYW5nZT0xNiBjaHJvbWFfbWU9MSB0cmVsbGlzPTEgOHg4ZGN0PTEgY3FtPTAg\n",
       "ZGVhZHpvbmU9MjEsMTEgZmFzdF9wc2tpcD0xIGNocm9tYV9xcF9vZmZzZXQ9LTIgdGhyZWFkcz05\n",
       "IGxvb2thaGVhZF90aHJlYWRzPTEgc2xpY2VkX3RocmVhZHM9MCBucj0wIGRlY2ltYXRlPTEgaW50\n",
       "ZXJsYWNlZD0wIGJsdXJheV9jb21wYXQ9MCBjb25zdHJhaW5lZF9pbnRyYT0wIGJmcmFtZXM9MyBi\n",
       "X3B5cmFtaWQ9MiBiX2FkYXB0PTEgYl9iaWFzPTAgZGlyZWN0PTEgd2VpZ2h0Yj0xIG9wZW5fZ29w\n",
       "PTAgd2VpZ2h0cD0yIGtleWludD0yNTAga2V5aW50X21pbj0yNSBzY2VuZWN1dD00MCBpbnRyYV9y\n",
       "ZWZyZXNoPTAgcmNfbG9va2FoZWFkPTQwIHJjPWNyZiBtYnRyZWU9MSBjcmY9MjMuMCBxY29tcD0w\n",
       "LjYwIHFwbWluPTAgcXBtYXg9NjkgcXBzdGVwPTQgaXBfcmF0aW89MS40MCBhcT0xOjEuMDAAgAAA\n",
       "G1dliIQAN//+9vD+BTY7mNCXEc3onTMfvxW4ujQ3vc4AAAMAADfc5kT+ypMG5sAAAujx+kffv+YB\n",
       "nT1Jy3yMyBTBrFnhRI4VF2sorB10Jt5bGQwCq5m9x6CwgMLp80mCSo+KzYWOMGKCGjv6sEYILRMu\n",
       "TcyjqqV2dZa3o3mvHYeLhcS/74Cpk8Anau1koWzGhm7l9N2fT5Mote1oqToQn3cKFUb92Wxky5o4\n",
       "um2gxmaL2S1Iir3nReRIA1auGYCfittm2IvbBEiD4UvAxlBf7WvEPZefm/WtyJTKGvj1EQzWTmJK\n",
       "k1VJ+GlRk8tnGQaac2CRoCu3dMIJwBRl4cI5cX+QcYJh4rO1VcGZvBObthdHo8yJBC6P2fBfYJiv\n",
       "9EsUzktF+Xn6C3Wu5aRt6+BUk8S2wwFs5Y1ykNweNGoXp2e99wjK8HHn+WSaCo9Ft66jfRPMthC5\n",
       "+vAVmvffVzwhSdlI2pmf6YVRjkhnqpTy+wcqC+3oAfGOk9zDNRbzVXg2iDT4GUa5IP/N6/RSn2+B\n",
       "suynS8NOZz5GZiMyhowcSVoBPeNd47OXlJxiNlaLidu75J16MG2l8Alwf/q1+6eWnw9LPLSU98Hz\n",
       "k3QLH0sFkojpXVqVn6WEWN+gJm4YafjQ0UFINkUky3jXVIeven/nNYjFV68qQandsSXXAJThaY4e\n",
       "mF5UnxfB/n3AiVHBn1krSn1X7PbnIFZpsSiXubcGFxgO2gDQBLFrgsy8oAiO3tlvQKa3jJvLwSg/\n",
       "I5JzN9npqv2SihKEIzV8luZES2vl7M0J24aKxOm4dNk99SYEwqdYeu3moZxk+0sVCpFl9RaiwPDH\n",
       "ia3lYzVpLD+x3xFsF0rRCole3BMMX6KYa2oyzyKeFJrC234PAIa4Dt50oF3MRcfoTI2Vk2/YCMo0\n",
       "Z+OfvXwymPndi3SfiDhZhJVzawTOPlzzeHHEd+jj5GpyPBLCjekXu72qLiFrCqGSLkUQJ9FP92dh\n",
       "jglCfMkW96GeYaE1ekzWHYEh5gBuKjxOpSPPO0ubpn13FTGnFZzyJhulI75R/c2hGo6r13hBosfm\n",
       "zg+CXh85dz1fbt3gMKRial3r1YKNjUiEcGeQlazsbKHMWe5EV8RLQLnzoBRBmTshdnu1bhEvepBL\n",
       "XU/7tNOFRgZr8/MOxHmppZ7T10LgWUaYwxgMjG2nrP2Ll0J7HmJRtQKg8tFb2GjXZxzKgdiQYsZ5\n",
       "/KsRJea0JWsxA2h3YaewseQq/47ifBQ26Y/OQ9sgPKEwbDSzxiAj9FhgZDuXMzoY96j8S4KTBHCg\n",
       "lr9KXXfZ7cjUyaCwp5qXFOOLhkxg3ZbpD65x3MwfyDsoHIb2vw+OqLEDJJLDptpIbFpHO7ByuLlm\n",
       "aCxq8kRMSBcA6nhWL85FwZe4NiPrhdym+to6rSYu/yKlMSOWcG1LS/cj4GqJjBvkzt6lHgK0K8/f\n",
       "Oi4gfM/uLTQfgcYackTwr8nWBs9xpe/43eK6/M0MrhRThSo2wlQYycCWjwej8fqL2kL2Te8q7/9z\n",
       "Qf5L01VZkBf/NWcc9kY99NNuRz+AeuyY8KtCux9q6qijc9Bm9E+cx+N4VKO74pPRrDYbj8JL/DIo\n",
       "Yw5HmDf7v6PXDfeMOGc9yvs7vL5nt6+cxgJ0gc5v4jXGlGGPnXPrRSAuJTvlWP9AtG8CxTScJ3LM\n",
       "Qii23JOpHocgWhPy0ek8+yNHfXv4QU+vJGR5HLNZPuornXj3/usujJiKkYeXZaTQlOsgdqod+glW\n",
       "z5VtsLDGft5f7QTZcABDPyoLnD4Fqs/+S+iuxYiQPJQ3049pjBxq2eTNDaCQgctws01b4bv6LICt\n",
       "dv11BA8ltOa3w/ohtppAt9+rSgsriOpLEJyNMKtSDPdrbntYpFC9AIpRomUql2kBJNyKzttQ8eGB\n",
       "P/7QGsLf0vLviyoM8g2PccsE9pk0RstavAtpLjmbVCCejrfcGk17Ann7RNZsmQ0ZPM4p84cdWIX4\n",
       "VsxWO+95DjBHI+P2B6VwMbonwZiit+p1j0/cajNU78qkNO9fB6ZXrZUH3MOsMOv8AUp2Ab9EK10f\n",
       "dASW8IEa2bB65H+SJ3yHLOemfo2t2/xcx3deHv0LVOv7OhxteeUZKAzN/wa+kHzpYE+QMyWGrv/f\n",
       "9TCEP4u2EXa8JXowxJF7cLnWeLQZEF6AvIax8+hcOuETR7Q11wY46PHrCjQO5USoVimh+0u3Qept\n",
       "yi5eO8A/52U/N87ZPqNLYvhRcxCfiJ/aYDUKvbLQf+N0UCQcjhKSZvtDkMDaggn3LltDgiw5aMlj\n",
       "YFzgyjtQIWitnxtvDOEhRbEb05UznKGU9BlJm2Nuz8t10vnCKzxhzQTpOpMznvTojSOQ9M724uo6\n",
       "quCaYkrgK587shwXnQuTU/YZqXpNaHisUOVVY2QCdQe7MNbWmbzKEFRBoP9BHDFNfOFTxwvxeqXr\n",
       "5ppddIm1d6qTjLZ5af5jfshhgk3IBzbHSBLYFz9BAE/ueDc1uqFAO3/e3r4VTgGuLEnUXZJzscac\n",
       "a8BlKLKLEwLjWNC+N6HCM1WUpWqn/HiwCUHf2rxrha7AmLgMYOC6jrv6WfjoDEnPwWCUtnq955lO\n",
       "EFVmVI1ovSJIUfRkczxjMAFb/itTfetQx98cbAg7d/wV8/uIjGoLul5VD93v37/Ev+GzEE5zAkK0\n",
       "jZQm5aqGIhY+GZhQvyfc+/99YiLzYbKsWoooBU2KdxA/K0FQAg81kcZuqHzs3x9Fx7A4xeRY9MBm\n",
       "2+CQUWrsSuaJYsmLWKP3zpFkDu57kc/7r5fKVAQmQFJ1oSBFvvA/HDSbLKn/p/mKktU7yghyUYyB\n",
       "R+KfKK+T+ymXeeSwWTNc+JMkWrAD1ZgJ+T5gdwFzCfBEDK4WkovWtWw4pxBdln0svEd5J73p2a6O\n",
       "wb1LB2duFqzJmPGPJSp+aqm+8zJq/yfmVIFM+2h7YZwxlqaKGXgFJXrdNXWS0HvPlprFkZvozIGI\n",
       "jsAKRjFU//1OGkwTUzqr+7GJFsq1BU2Hm6EuQORVQ+o5smFFU5hJfUEnSdBzPopw3J9dYCipJ0yl\n",
       "+PMw4ggDpGvK/bOW33v29FSmFb7VxzB7nTMPdJQXapl8TgDmGORV/rqZ0rmMxkQcrAG8HUFo7BeO\n",
       "JBrViMwuCRd7kZeiAdGWheHy/l9A1eHaugH/n/mMm9xJj92xxcmJ3s4qaI2KBvae1SGa9tAI+MTG\n",
       "Jg2sU4dsKkidp/bVKggWUxgbb9U/X/2coqCyhy8B7R6Y7rc6Z0YA34pEIpxECIlTeVRVVKvlFB+K\n",
       "GPIkd+DHk7hEeUrnisPgU5HURNqToCPCH8qQsIQg5KkYOqvbxqOeYJeGVbUW4NrsgqSx2IhlRG7T\n",
       "Vn4wf+uQwuC4dcyKYwqie+TuWjQfh9XgrSlyCqKQu+NIacMH5bLZ2utOAOQj+LIwD6B2GuZc6tY0\n",
       "8uRVp8o1a7y1hj9ES0T/URzseHTpa+Bd/UQgeDxK2kCtRtx6RXuQ5ci+j6dfDMMeaxDw/tH92xj1\n",
       "zSgSXYY1qEnmQKQ22ct+sOzBB55Rqi7zu/25iQazXc5ikH7eEzMAdXeHCkZL8KHgq90RLLXUGViJ\n",
       "08F14BtR3p7je1R7As4TtfD7fE/+f0jmgYjwTiIDVYub4QdfeFKwyaTmc8RFGF3oQmOhRNkD7klY\n",
       "FmF3m3qDtBwf7oLjU6ZljX0ulXZo9b+sh3/UQh1eFy/A4YNj71fR51OX24mH2IEQh30hnC2yNiym\n",
       "l9yplwNU3Z3aFs7edR4igObfVNH45S/5MSuXxAiwS//C5JFKpYo/aXSfemRjBOWX+izRokSiYfLB\n",
       "7AlJbn8jlw2Gb3JdmiZiULr8+w8SrnDN4J0Fg7U7hCnFT91Jrh8z0sln33pBxFtROu3QroJSNKs4\n",
       "HTNiFva5w0W0ng+8TKHXsdHGi7fTb4JOVzv4qW3sRykPDOAesxIhKhn4XRxaygYD74ELKhXoDSO2\n",
       "8TUVbosFPr/iLaV3MiJISVEgo3Jy5yvcekV0FLZPgQqH0tYcUFP7pspRwPq6cciAc9lU959G7Wye\n",
       "n/NdVzB4qCJtiFb42IMTP9/9eelvKYntkPcs1E/heoYw72AZyBo3EjE3U06/ox0V74T8pBBENAlk\n",
       "ijIbH4FzdolGVZ7FAElw+lWM+8In+yo4+XwtClhGPSjsgErKdKI6WogMfkowNmvGIBTR4IjEQtCu\n",
       "+ZhrmwDR5u2xYGRwTXl31OJVX254XY75BcymtfzVs5fkDrtUjp17uSsQ+uQlBJUDbMivJrBcOkSS\n",
       "mJ+bgzTeC9eg+45Bzzkc5nwcZybbACUVoCCW0JqDjeuYYf877yx1SwNt4NWenWx0wbDN2n9KHMW7\n",
       "rSU1cIa9GdTa5Tx+nXR5OJAlwb/SPetGIuBpKa2pQ8ucb3h8+rAAk0jwQS0ZH9DcRBRW6G0r2wKR\n",
       "0s8Sirbx59PjUrLnY8wDCmv8RZbT00MbrtJAXO7dBzutYPtWW2EWMeyYVhyxiDR0ixuabyyg9AFV\n",
       "h9XNB/ik/+0Snj1gxidjVMF6lDsl/mDDnHcqZ3ltgpWMSXNp7FHCY1d75NI1/9ttE2NjByWrdGgJ\n",
       "luvTB5+/I24DdhFJdtUf+qlsd2C4mm+jYtK+H2W+Pzbd+pts4a0194pk5rN1wTWZhASDQzMHSJZv\n",
       "j5yWd6WUKJc4zBcZO6azFaH2vYXJHV/+wBKYVIZymMn9z5AM3wgnZ5rOFpKdhTPCFc3wkt61D3DM\n",
       "NRfycCrzBwUlIzJ4q0Qw5fsMizA5t0hb/DW3r96OHv9VPY/3ra2VQMkfrvHKEqc73CoMiCc4AJvi\n",
       "7wUiEAHlRCuFZ0bzrxB2D6Ol0KEC0h6u4SkkbPFIE9ibBgee7XlP56FbYKpU4A8j5vbdRI3tr2XU\n",
       "v45B4Sik0IHJkAchvC9jcCT9/LEVoWCeRKk36QM68My6ea4ZePpyhKD5kSeu03gaOS5A0ZasUW4T\n",
       "KLC9HFT01vimX/CEkEmUH5slh/FpENqlR94AWjLEKDn7o8WYzLmASmYqWuuBnWZOXgwzDYMuni3c\n",
       "OyEZUXouJr6bmBQgzgDv/KFMNjtATz/t3QXdtMUmbVTb+ktBM3W8MJPdjpnmB6IxqRGZwajBBHko\n",
       "9RLJbb4GWqMWHYGIUuVnUVZbfK7GAzfBb8WNqjUyHrNVCWIZtvFkz92AJs403SO86f+3iE9RzKTf\n",
       "VfrSInUQ6WmM76JuCmK8dKP2YzYY7X79vS2dERg+5jRw0+/IvoXkYu51H9bFZM1hKYnpsJzDOCvq\n",
       "npYsU8Uj/WtTJgtqOu64LFGdjUpxPW3rIjYTtwRqRPgF94EviMEKGEoGWPyztU9Aui4CbdHslGTJ\n",
       "x0dS20BDhUoDQFUxPUFieya+/u2cVlGvrwbJNWc3tfzf6xMjBQLNpWM6n7kgW7M3IRuZlAZTLJp+\n",
       "Ie1DYVeubTawv8UKULN1JTmkwLOV8pNC9jl3q9kIHS38/Y6XjDXFtq+Wn/CN1ZPSJQ8y2KHtZ0O0\n",
       "DanTy19QEPI7JWPYLd0TBMtBorhkTxG5EHjqDEwgTtITGrVyRqcQHznyetmVuZvGEXfYLNnKaQm3\n",
       "EM4sSniqPnn30yS3vL92eq2KRWqUwosjMhUbTIspRnPmzFtYTPQRH5qhuNvw9qhXkyamFRyc1Ys3\n",
       "VbRURvsKoEs5wBYX37iqtRDCv4DIJkYFENgdQRyTXDAkXU0HXFG/47QwUTiBioWTMEkhEdBYdVjy\n",
       "FMrs6oYqFMmDvI5WkNJaVQx2QT7F86zQNhpgCYM+F2Snam+tdl6EoBxlrgrfByqhmYnozZP/8uN4\n",
       "7QcgpwS2+m4VCyuDtnvrH0eW1khtwXxKR4ggsEinq+dWL3WovkU4D1OzbVwJ04DIO+oDpEKkS8EC\n",
       "59RmoXsuj6ycOx9EMks0y7xEO/bkVVaMeKcc5d2xWyA7j5aWtq+98/SqhYuXbgGj62Prof/OwdZk\n",
       "z6J8C3kXxVuUXuu4acn60rC//dG1FE/P3d1TiPMAaRBYdzE5FtT+tpPrBT4nlABQbccQcEOBZ5Tr\n",
       "NaKPgk/u2CHqLMHf/LVmcJYXGDfWPKyriWLI2OGw5xYwe8vhjDCv4d+3Bf/z5vWUzvEaFaw1ubxE\n",
       "GiT1RH0ekATz774bG/yKZkm0nbi/E+UbD7No3QMzR7J2082dX4hUlKdoKJKykR2XAGZo2mODhvDr\n",
       "huoBhkaDZ5yg344z1cfzaHaQ5Rx4pnHIKwhFGwSj1dkclhGC6ZOOnqCPtkTD6c2bQs/+coNjh8B3\n",
       "16bmxNzo8P/6M5R7rkUYHO9fnMhcwyD/WNVPM+mJAo+f/c8pnfgXTmncSLGQaLQPmlsfSrInJWMa\n",
       "A1+3xjFw0WC30oIohVFAVl6CAd6LMviuyAsA42cCIXS1p9RTZJVpoQ+qBjk3mRMwOd/68SDIVL0i\n",
       "130tZED2K4FQ15YhIld3I+CfvtE35m/dOLIESiePGmdOptO4NXcYGJwmFasWEN0jpS5yF0IUuXbH\n",
       "QixsNnhlVq3Cokik9QuoaWk/yRvtWAeEkf8voT7Qhtu7/GulVnCEmsB2VzWLW7/dPmzT1466ZH62\n",
       "qLW7gnCySPrIxzsSJnp1VFqm2ecOsppe0F4fI9MgMbFsk+ma6+XC5gtepmlpmHQ3etWf64/dgnlh\n",
       "LizgueOqXYdAD0iEwFAeIf4PLvrMpOiErmDLSWpxJZeVF3iOEi0JpLfpbc/TDchK3tHreBrltPxs\n",
       "bc4BvMqHKiWNWusBumPbJA1Z0Af/C14lD6twzDOEU6xRsvda8tCsMu6K1IP29ve5MTJhb4Bpn/OU\n",
       "Fc8w4A/rtoraaErW1p5A+rbXXnYdZg9e475aCfyiD8Gwm3pGYv/4BQrKv7kSk3PZZ31GzFGuxROF\n",
       "sLLcwj8MJYN+DMbC9Qclzd7caFynld2VIuNIFPPXELOThzqDTDr86+MWZcoBzGI/qIrHAmltYtm4\n",
       "CYhTZRla+wumq0cB7cizvAp0+V7jxq3bH8BU5dvgucf5M2OI4MeUaX7SL/N/a9Xop++vZ6hfgZin\n",
       "knqmOSv+Q4Bx3KlFAufm9JIxaNa+detIo5Mm839NIp+DD2YnKvy2mummI+qQQQ+Spb8wdnNiYEqJ\n",
       "D4tP4UkSqRWzt1c+wxFpGi2pqAO3/FHFogpEaHba5FLpxhIRIH9XkUJ0qZBnWklgHG/ivYARVC+O\n",
       "yjeNYLF6ApSAvXK3x0Evka5QePpCL+Gp/mJqYkbWvExpDR63ttrmrHex9K1hF6PjWgRQZ5hpU7SY\n",
       "9CDV5aDyP5L0rv1jPE+ShVVc8NsGkiy21Ba9w5xKP3KrMDEcT/lKHPJeJQ87Q9pERjVHAV2KzR9Z\n",
       "yQUDDgq/Qn5K8qAz6sdxonPSZRFSmqmUIurWs4B2vj8TXAhthBdDBX/Llk2Oi78FQ8Lnd0zvKaGK\n",
       "6rM8lJ72JVA4c93R2Kmo+MhVWXzCvZc48UIvGVNv2loXodB8IB+F4aEzc2yA455gUJ096xB7Rl4j\n",
       "xZ+Xg+5tJZWNAPJSvDtxrjL874Z099JvVS2cg48dM4wUDv6TulU9r+sGYBWF2hu66QSEL5kONc1R\n",
       "vrkrgAbTbQB1I0C6fdvI2hsqpuPFmVJa8hTH4H1RwLveBL7yzANJ1AJo/T4AicQZNT/FCSAYKaK+\n",
       "L4NSsPXpH6p9U497b+q0lUMe5eXNQT2PYW/wS3ZZS5W5lge0ev/qRSq8UjThsSPXS8sIlX3LaEnk\n",
       "JjryFhmgnP0Q4Tz1a0lvKSQtt/sPoTrStrje7FZx+vEy3lZvtITHj/vrHaXWg/2iMi+ke0ZBkreS\n",
       "NtT1jqGvZgMfcD9FGMwjkEcm8x1axX4QZ4b3OLsffG5pSZOTD9/UprnXW7WXEEKELP7S2lRwDAQ3\n",
       "mtIhTtyLfNf6j42UyN5hn5iXchJUsxv4XCzsNwEBGbVz5bFhbXzEuyIwXBIuVeB4rDT2fip0GEZV\n",
       "YCSqH/vxdm1vviQmlqjvYuNb6MwE/i6Zhi0xQAi0qtm3ZrdzocF6lIqAiYEfYM57ENsugzBrMkfz\n",
       "e6WpvXvDlYp5MT7JmqN7tBnoxJkCiGmGygBfAnR0+uOE8DSYYetU5jeHZGX1fOXmGaLNNQv+3Y2l\n",
       "MAe5Gj9iLf7AugOapynEA4lf3Xy/h2UIMDATMJLyhPJY/IlTqFO6ZPhn/PbjUTiwzXIMEBtsfK9p\n",
       "yHmoRHpdeSP3UO2x7Ic58aYUgolRTBhiPtk/y1X76pQFjQJ8XgRBB3+7C/mQpBn9owk1KLsG3ZAu\n",
       "77MPG51HJEDI4yellEgchSpyIARd0j3U3DCQvu+t81JoVJ1FjrOS1QdEIVKHIKzKYlAUT4H1gAWP\n",
       "g5scanfgm+sJu/kZ7CxlMOwLLREjFWt3DQIYnKBl28RD/qUIN936QD6rNj119oRVhrP/HU1teDG2\n",
       "GyG6QqwWgO1vliMV1UIiK26FYm3AzjNQvtTcVlcC2gWvqJ5Gr8VZrKn/o366n9Ro3lwJLDcVUvTm\n",
       "qqfsqLnvrfhkDwMWxieAR/jmCL6VUEtBZiB9YNpIFLrkIefcYKVlhuC0cMctTrWrRAOpPDxhDFye\n",
       "tvGyumT8wUQP3YN8LlJynT2lu2h4Y+2zBzBFTagd6Idr9D8kBnV2T80mxswxaji7/8z7p+74jMX1\n",
       "+soC3V06lv05FUG1yQ7lC2kwKnbDamUDU90BuEeXcvufprgJ5R5HvrX4XWPpS14uh3JdvFUfqSTf\n",
       "vb5doouaC7yTo3AAqXtWAo1N+4OefJ2HsoBJ5DADa9L1ckc8YzOOll0j490efK+/uuTfaoB5n6c1\n",
       "yWTa8hRbRb5T8fKczvkN019LUidGMr6VplWfG+qP3ef0UDwi5v48220vIfcLRkGT1uAtlNrtlTUC\n",
       "/VmU4hqOczb6sn23awxmqB+HuJXIhd/dSgpsDrB05LA0UvqGGUjLLLy9UOWVkxI80nYr46kz7umv\n",
       "EYvVDA0jqsRajAx01yABXAu236L9XJZk5TQUh3cyyvHU/Y7x0vHuUcfvwRfIgMK9EYzzp5adgPoq\n",
       "N6oX5Lw0X/qb4P/z++7szy19IeBFhNrNvkx9ny9tNHXiyPAdB/nh0L3Okbua90gG0yzmwTf4vQlp\n",
       "kDbHKyJLiUz90/UQ5FhG3/cvrwZw3nkUnpCbWGhUdIIzBwVk0d7iRXtS0broWL/6Egc5Cl6dRn6U\n",
       "cJaKvngprAoQD1P0e8lSamkcmoAEtOG4EavvzcqF9D5eY1pSQwi1nk1jIDscDwNsktahGkzeh5jh\n",
       "sJ5jq/OL6G1IEoeDZzwuZNapVKqPPfGkGYCZumLhhoCTjFiGplLaJuKRZJviFi1EXTTxYpSRRpkc\n",
       "a7c8gfC/c7h9JPscWvNm9spy4OKh43jMYMNDgwjVjJDRavL7AchPcUT2ErQAAREAAAK+QZohbEO/\n",
       "/qmWALwobgCEcNu1oNawO3RQekL+AiniX7/3+Xv2K0Kd4iHtdWcj504rd9SPCiGuj5j5O9xB9wov\n",
       "jBFxH27ZVDJPBjhK5jxKQ581z+ij26rIQT3ARbMBr/4zMWFG3+xIqt5ADl0lKIi1rCkvamjQJ3gS\n",
       "DDL3Crc66dt/DvAOtqM0KkJoIt6tH6Mcmqqfo/99P70pZgEbKvlmsmujzNktpS7OUf0Ue4LnMlGf\n",
       "BvyoFYmKt0+o7hUczDkQIzMYGlxXv/EvVPijLHrIRw4IOaM4iQM2ViBi5sIcnDIxxJ0WEpLfecq2\n",
       "CCQUTDB9vaEEt0G9EIMxPzF3SKyssGQ0NykpJr61Yz8SBnx0q2sakOZ0f1QNxXgELFfkltSe+JKG\n",
       "GyP6yM33tFbF5BTW+GzeB63pBsMBNEiZvANDX331jD+vGldaoSBDjDFOFcPtCblp4udNmvTgyCwM\n",
       "E4t3RP6z7ZIG//Ljz9RwuktVU8X3lh6YxveoN5iccHsyQgIHDJ5cH9Glgfs52akO9tDNc19z+sQx\n",
       "Ki7A0w92gty1hClxuLkJHgxDtUwHr9yeCFqgOleWjHzTTqmDGkRteIwV6kHxr4PVqe4ZCK7QPDN9\n",
       "dbP27x9oNQl8wqazSW8D6MYfveNR26Xt4JGnc2SZCRJmnKfTAxU/Ysj0eL62D/mpJ0PRra79CSCU\n",
       "faDQFsYt7/gZ1xIZtY2Hh1IVehFbXd/Mr/huXn18pi2d0HC7JdruuNjo/CBm+V4rGMfHyzPqo6y5\n",
       "w8lIonfHy471ht/96uz5+5HqQuzT+wJUXU/FuTvBCajLYcs7hW1gsaC6f2uhc/gUoXIb49WXh6Ks\n",
       "eF6PY+edW4Fz9RHm29KVv/glVAwAdYNSRpDnb8+hzNjY3ex5vHpeFkW9Zn/AKPBwOB0lzTutpmV7\n",
       "bFsoc/Jvh/zsxYRAAAAGiUGaRTwhkymEN//+p4QBUvgLa1fuzXlhnFH4dgmFQDa8TP/fyf7xIxNE\n",
       "mvkNnF3q3HeU46jcI8GYvM2oWEn6EBZOL8XLALYWXhOZw8bCZzTA+YDYnhVqDHUEetkYz1VTOH2A\n",
       "N057XJrLgUfjyzTsSNl+qkk1Y6HmcapSm2tEgu7mHljY2f0hefdxQsFfIu0JEMAJYF8g6djnE0QV\n",
       "xX0O/f9ZbtfBl8DeT4lM0PRM423Dtp6W5n5g3I49YF/XmkzpyG0aTe7L1e+OVSCos5WYnSAB22QY\n",
       "YwKzVlG4CDgu6s22v+fu6RhKpR/JMRxuiqfbvLDcQpFy6vZvPbuvlEiJzgs+5O8aqVDZomoWnPUt\n",
       "E2wsrirGnzSSHga4z31H9Klt4vWklj74A6QU3N1pVXrX1mSSXpTgWie1Marb5Sv+3/ocoZ6JR3j4\n",
       "y5EZ+BN6RjVoCONhiEaOqxt7Cx9kC66SgGd76L8QXM9w6uCaObCMPjjOBb1XVSvprN+E0JFaKk/d\n",
       "/Cku7bM2I+C89Cqs1fnmECh3vvUe8hY4pubS5EPvUz+6M82KMw6Z/jKuXIvyBOXAyfJXT80Y+6gq\n",
       "LvHHYwJHa51FAfWDnzqdckW8WQuZ+D2qfqN5YobI3tl4cC0iExvhwHcKNOcDL59iFqQoXN+JSSY0\n",
       "n/zfWvVSNwTSdyRH148Y0jwR0BLEUAG0r/Hieryzh1LrMjzXgfCQPL2QECY4s50lpS8UT+VwkjP3\n",
       "TCKCfRWhxl/zLoi7L2l8NBtqCuWLLm1WQ/rPYyv6/cm0l/b5sYISvGz8uv/qXBuHVbJb1ujUQvDl\n",
       "nLNaF1Qc2SHzxdnveySdnKnGw9/hi9UyZ+BHetKY1EIt/kE7Io1YEVlXQza7DHGJDg8Wm4iWCIs6\n",
       "tkzoUUP8GpUtllGDzQ6N3lCMBEUAt80vvG6so8owgR/S47eh8TdrGBN25zRQW/m37OxY94IzmimF\n",
       "NauibTEG5fAA9kyyWEqFQPh8rpCGmFuktGqH0Fl/HJB/02Hs//9lvY31LUKSc68lnuaT1ibhei0o\n",
       "GHqBljmMFXSqhZ35RmJww5U1/ERWXsiv1MWFaReoeSwcTi2b0/DkjYj9bxSGvta3USdqGFpRd0vD\n",
       "75EbqUWNxs91gGZJI8N2RsDtHh19yem2cYW3Hx5AC5X0Zks39n23Ee6uReFd9sPlw7xZKDp3N23a\n",
       "Nk0Kf3P6+O+gaMBj1gz+gjIoUBeMeHDc0dDm9p8CV7Vfu2GVuwo5VczhjBL88qdhkDw2IcmCrRCb\n",
       "ji1VZ/VwaNHboiM4hDBK9+G2kIN0aD42GDJJKdGWZn3qiD+wMZDEtA89yC0PPwCmI5pkDLZWbHA4\n",
       "41JHUi0SvEZabXyYargnm412EGxPLJJQwTR8RZ04MYgsYByc75gpByB+mHCr9yMdxY68pRHLddXC\n",
       "obaZ1UyOvNWh8x2secUq/bKAgCpTlFgV5zWuBq4yipW2ZbGVRfM7zASxHFsrTCLlWlCUHKJCTkon\n",
       "0BqjDkraCcTvcIYAjr2Al6e7OY6W4aqnYgWzN1g9ALuWymOMddy55b+NMv64FZfyh+1Y6QhoIu36\n",
       "pZDLXrtyJL1a4Bs7CUndPnMbOqgwuNF8NQaWVxOOdBFIBIh2pCZ34eq3rdeKEjXgMxNSrWfY5BGx\n",
       "+STcGWk2PNl/dt47/nCA9j+8FQ5c00CJHiPJFvBRU5cEcGvvvGh6NxgGcFRwwk27q9xn5E7YlaU/\n",
       "kTKvlJFHrmofwL8JSBPaQp35QtWxIK5rX90L2jibPFq8vtRNPxPHdXdvKSpCct9PASzgzi5lXbfQ\n",
       "+qpoM6+jVABfpaO0Pr8fPWwIn8uzRPccIqgDIfxlwSZLOqVnWYKR0CbdN3sAKDz7PEWSabizBVlF\n",
       "LBrN20+1a0eHq+IL0w7FKJheice/rsTX+9w1OP1RjKGZ8Fjlhm948Tnz0oo42SD+gbiDaILO45ab\n",
       "1Lvo3Tor5D9tb7na0wmOqnrCh5OYHUkD50MGKdLIYqyy6K/OPN9vuheNMFV62XctkMp85Tz8eVk+\n",
       "tchlaTjFiy/ioyts4lgls5AztB1xpmmk8pWQacAPwQXhwNSEisiX+6KKf/9ZnGq7MVOQXMWoiQyj\n",
       "re8k/0KAtOMw1Cp5nXX3F6dAk7yZldo/4EoxyGp0ZCpPLW0GI077E2KbFS5bdQrA37EnQxb0gQcv\n",
       "JMGo2Orq3z6BNT36X5KuGDN00HaaDDVIvoexGBSkx1/ax0HBAAADGEGeY2pTwv8Bskifw/Ioprv+\n",
       "RcZ2QgAkSoqvFNizyQVPPoAWi2wBqPrHI9hCXQzYq+IEsto5lpoZuz6DqYSMZUmvcD5nBOECqry6\n",
       "v0G8vFweykhds58iH9hl8b3+B5bCauknWenbqovctLjOoU5OQSyDwayBlDcXUgoiJLwhQern6CgL\n",
       "yd+3vhQGT7hDUfvC5BOUaW8zKDYdt2ctMysfg+WskSrzUHkJoXJ2MrXgM7EvF7fkfoik+tyiNA3v\n",
       "yXEvrsruqo/i+Jafrak8hqzRsHK3DrBQP+QT7pcrRg6lmK7wLowxc7J9U+OJ7+Q+IncJRCUcU+N3\n",
       "p0uDbAIZY+0FCMgYFtPUpNpALPbSgUGu5zZFAj8x0SzZmEcBFmokOEuPaxALa0F1oGeUcLz5OJcy\n",
       "GQxtxb3CciDNJJogBegnM4GQBz07Tb0A1ncXrbijQfsddNvrVbYcIhhqEjanCzA1H5yFSVAU+SGg\n",
       "NNgWlwZgg6cdnHCtoSJFIGGCA3ofEbybHrDv5rILmOV3w6BVl0XU0mCLkozF2LHfGuIAJoE1pkPz\n",
       "0NtFsC/jIvemnFr1H342nbpvi33p3YBuW4rp0qtppZlW4uVG1yxzye3tGN7xa8y3hX5V93nnLJYG\n",
       "4w8biNlaiUDfPiORF5Vbne+xz1joiNvRBdwdmJWusTQaRp8G639Xiylyws3sb9hkE7WVWrkYoM09\n",
       "oL+4T0W3FrnMfA6kd9ixv97KfKNuuz89rtuaTF9ZKnjxeU51K5rlGWX13rlA9n0SPqIzv79b/xFC\n",
       "ctPew333e9Qb33mYvMAOGEWE6tnWFqJLe6YAoHUozptSV4Tg+wo8FgRDQmFiYz/4+hhlIvb97HiN\n",
       "thM9V6CJgCDP24te2NaXc7G5KE93gQvcEW7cUIl4ZKBsE8am1Tee72wUkrSd5jvAAtsiX+3NfFLy\n",
       "YRDypFNszZomAcObqEQBbNlwFraon1NWkmOvRh389tSiF8rAT5exyxFeAeakWB/lTygQxhEgWrWw\n",
       "hxiffp+LHUL+bwlSdKTpmm2jpuTV2TZ5bzfuliKsavYfUAAAAX4BnoJ0Qr8A/rP4//ETPn+ElLzx\n",
       "4Ny9TQj/1snjtQs0Z+Otxr+9Pfvm2wuLR7e/Uqw+PBnkaTcitWvgbkAAIewEFVE20sKHBoQGVspN\n",
       "V5BOM6Num2y+q9peYgCjPiGoXyBpMxyQ7r3XD6mcs0NVR6BMnthNRLjVYx9SMvFx8OadPIKZSmFh\n",
       "VcYmCjU8LAAx8G7GykXkbsaWOMxP0sio1Vrb7Qiw/kojzoQtYYDaFjktVk42LpnVLn0rrG61eXaT\n",
       "nGf6IwjWZCay5p2c7y8MTOjhAysQKSY0tn9UyNOUbRRWQg5qHIEN1CkH8odGHFPuquS4O2qwn3eX\n",
       "0OolP5uwu2OIVO5L5SzcZjgNWW0fMUAL0jCziOSLDjF2R2U3OurrSVIrdAfAhjIlyTLhuOl6MtUg\n",
       "awOvhlEmOcEvmBpkv8LODz/5lb/fqRPJE+Y89PkzrAztaLP5cpsAfPDj/6bOSLBXK9FSNH5DG6Vn\n",
       "d3TtDbaK+jzp6pmKW3oB8Ur7iFpBAAABywGehGpCvwDnskqIBk7zgrZgs6oR+Wlf07AiHzLJaKEv\n",
       "L1acZaZV8W5sEYIV0AguHRZRbyS7hlm3t5n34DiudcMdnMagAQYciC6iZbbVgXekbf8MHVkUMZU2\n",
       "KpkaPJD40/6YXX4x39jXubcHubkqcDiGEwnxM+BWlWj0d5gPlSC3QTEY3lnFyQx7hVj7/woXHpWo\n",
       "qjimgDV5Nz4H9LOmWIuvMD8DHs0K+Ici27pjkwf/xRxAyXs9scA59Px+tycDSFvP/0wwDZJPhjfc\n",
       "73NECY6nM1ioyFcMaOumQfpZNhLiwrBtyH4zR+y2Z9KQ6vKDkwA6I8t/Qrr3qw4hA1O00p8aDrgt\n",
       "Kht6CxJz3/Y05DrKutMEz9sBSpJbeDAk0zX/FOewLDL00FX6I8ZXv+W/ZbvxFyxyZSn7IaYybxQ0\n",
       "CqZWuTeF3hbORqzee3f1QwkggCOUk75B60nBnHyjIXbzenhluxfc5jQc1IAVhKfNEUw0SPif9kae\n",
       "AgxPJbdc3TW/+lZvQ7IbQtjUir6RXHz/8IntLKItUuOW2uZsFs4oAL6RaxTAyrD1Ys/6P5hLH1vl\n",
       "/1zIcxjTEe7A5LrR4lFEsjni3u/Om8NtWA7zMwAABX5BmodJqEFomUwU8N/+p4QBUAfb0AAHWEAM\n",
       "GxPvLAvzoVqp6d9obUOXlh2ZnyvrBXJ1tLMYV8aQnpQPnx2g5NWggDPcl3T3NP+ghKfJ2cHUxe6n\n",
       "FZ9F+wQ1/mPiFLYvhG7/QcuZp1Q7R/6I2gih+XgeyrIYPRXmwxT93goYQnrFzWvsRnvoJZvtUkim\n",
       "kS6mk0H0VgGi3PNSZ9LLzCjayVrzyaj/4mzZpELBpr9SUqsO3E/h3eptSoTqdJHthwznPnpDW70N\n",
       "87JA8d6yyM6gkfG6p7+fjuJS8X27rsMvwXPHQ88ML+6r5XS0H9u+kMX8f4EnbZrOwalTZzTGzK2L\n",
       "40UeGOcbARNTwWz8YYMavwliPeGiYzxSML6uNlurSv5Te40RKo3RlAcLMZthIpnIL7d7UkmdJZz1\n",
       "91B6K8d+fJIzSQoe7vBOBvVSK5OCwFR/PX0ZsK8dPKWeFY4EYaxpc6whzm+Al29xQAO/pww5pDdC\n",
       "q+1p3Rmdln8zj877qmgYikt0PWx4BH6NhMecM5mYMluvfLi6OgSKh/PB8m1CdbZIhTfvOKdgK7ZZ\n",
       "v3vf+swLBnN8GrkcFBs5wKRYXjxvwilKTNvkZ0mbttrYHe/vh3qtJcc2lJYrlosVaOWc3BsLQoG0\n",
       "YDsly6YvSrgHAUq6Wd0f+gT6RaMwCRHlqGTg+hMNrBKwcWm4JsAPhl8lAe/0Cv55Yegf1lBWRhbE\n",
       "mFHGF+cOeqUCxr2LDwX8/7w0/V6eXggfYrA4NKdRzBDoTrxFFRd34GRCmPAwUtbP0CulbPRdGrVt\n",
       "fLuRlc2UacxHh2k5scppBtA1PW5gJotxbD4n0nrPdGKHeSXnhPY6tZI22LAhB3pDTc483w95Xh5v\n",
       "xZn1sM8jbenvO8ZQVMCqpYPbNL9qs9aJ1q5qH4jQCDJkpg1l6XIhy68No+6mlK51U9vdWF1X1xuk\n",
       "vHCG+5lXuZqSO8ruHpXghvz9aHS1ee5hzg17beVFGqZ7487C4VOHwI18gzcmSk6j09RmGkvhqIx/\n",
       "mbDZdbZ9gTAwNTSR6c0V7+1h4wfedjOVqMoCOGTMlXrWDZYHr2bMsbbLXrIKAdriC/g826fza2Rk\n",
       "IVDMLEBJm8iUxiHN5AS14hJY+j5HiOC7Ic6p1+WLTPfb0QIug+lCU9xOy63/PA4G/n2Zb0C0OVBJ\n",
       "V0nEcIQvpcme2WDNg7ADip4OUcoUzn71n+zFszkMJ125FDMGa5ehKIjlP0JAFFfP0T7GL6azfId3\n",
       "CaAdxMkdxTpmwgqujVXOY85+lXtJQKcHl36/s3TbdqrYbFPHYiFyTrNCTedEiHPYkpBZHrIzDTNe\n",
       "2S1a6J5g2Pl/v/AV8n09GeNASRpj+r6SrM0QzB5r/C01RspdeznGauWA7bkeS8SfKuvGJ42nHZKO\n",
       "RoI/mtdLToeUWkgVOGIeFsX8tNr8BzGBxB0F+QBreV19sOJc63XQ4X5QMLbncvfqincQDS8Hvuny\n",
       "zwS5Q13+e8e0WEY79It1/5x7dKWw5sPeoz15G8lukVrTgcG/Ko0H+7xXo8jXR57QztejQXxogHdy\n",
       "B46ZMffh3gYrm6OeGlc1s5yqHPO8PnTV3p4ekGg4zZ8IrQT7fncMCexdktHJAnkaBRmM3UkrOUyY\n",
       "I+V2g0cROkgL7CMsbOV9L+/GOxYHEOQXT2GldigllZhKO9eAajfgda0aIyFNucOyruD0G/T62kUo\n",
       "fpKwffMD+ymKDTjqZRK1pw2KyswvqAbuLd2QzG+lft2kEcficdnfiE7GOFHbiSZ1WL20D43OU8Vf\n",
       "zbfCkHm1BC8LIdo8/jZs/HoDgil2wUpJd7uaae8/8ucd9433yW5Rx5FeIfm7H5yHH9xdaHvQrH1A\n",
       "lQz4mj4qSUfaox02IQAAAfIBnqZqQr8CSV4s1WTwzh/lPY2bwqCOEVqn1uu1DODUwkilVrd+1mNw\n",
       "BUzzsBcCZCWQQWdprEO2Is7UDnQ7oTknlVenlM3nHRYy22siAK6y8v9KFcagRQDdzSV5IKU3YxJQ\n",
       "mcYTSChjWO90OTjyFski9Ag3P8AjjKOfZDxKBXF0C7ImoWbgmKhJ4ZX2NTwxrB6BdycQc4dJdfnU\n",
       "qGgPvrtRSnWmsNRtDN/qGfMt6+X0JcsHwDUie1O22gOpSQxLmNaMp4eVA/RvyTWiMFV3T634+rBt\n",
       "gdSEbkk3bRNVyK/OegNNAxqy2rNuXSntaT8UKGw+5jt1GltbYHGaeiLLMHysNyNGEvC2tz2Sk8WZ\n",
       "KhMPh9Jl6yR3ybf7pKU9YkKEj7M/m/vClX93dr1UcCeIc7xyWxWumNoTX9gQGBVYPQN4DoVENBBx\n",
       "IUAmlxYdMzH6GhboLgZ7HCR2ROUyL5PK/RiKvMDtG3nrk7aYX/zmw7l5olbN3Xhlf3Co/q3rTKb9\n",
       "6zq3KB1mSRCFQ2ZBR7RIl+aaT3g1efcM9TvZgpCS1gPfQNBiGyWtBpHSlHhT0wGz1xCxf4ZTRAu+\n",
       "cGKGafLuzcE3mFIfymDLTasImIJNeDjSyfLLkAM6yMhb8gS9DTvCQ+KMV9ybQoWu6HTnZ5yHkZCB\n",
       "Q4EAAAZlQZqrSeEKUmUwIb/+p4QBWwfxc/H1Ke4BMAY3QT6ikkalJtrGnVpnGR1sTcYtNGr2CXQt\n",
       "LhfX568yrEdPvqLxiqU1c22+2Dh3vsVs2Vz5VUHFQ83IAsQBYRKTAGQ9/hC/aQcNATGh6Eim1n8P\n",
       "qVfcfP5/n+B9D7rR1VXoP4YgZ6jsHVcE+vTSFYskU3CO59P8VdmBVzaxS5IdiZfUpzWhlVKYXPYF\n",
       "zF3kCj6Hs+f+dcJVR/HUI1qmhcKnPtEDqCyRp9ThJsAY6EkKAK5sLpsFzLv7RElZKPL8e+hc8P+0\n",
       "seTlxUgaooh+hZxf3LyVkR13dqyd7f7q0hnlDQpsqrBCL773abGfYcwcSsRBvBQZcDiRjsSex4ZQ\n",
       "RnbrSKtQlws3UvvfYbjhs4195oOQT+V6PGiayreckvCDWtR8ap60B/H9BmEa6jpGaV5A4tMGaGKg\n",
       "QgSD8ZK2imjmEObWwZTRF4jssiF9DpXHXM1DgEr2Dt7G5kI8ejM6pU10vGsOmwcM9DKexFQ6YDxl\n",
       "4+qRGnST973E+n3Poe8RgrMzJsf7iV7/v0/7P2S/u30//qAvfoqzGWd9eCETLO7U4moQBS22aapL\n",
       "IoPnTfne0tCAguEFvsMzviff+8xb4fOUqRAw6kTP4nBMjxpstsfzLNmCzYF7xulfXkfAkbdx/81F\n",
       "8Bs4Q+AXUh+f8lciFQ74ozyU9jER30XgMwabO2EnlAq3C1ABlaEUASH2I+xGnMPhoOHo8JHXJSgX\n",
       "g+tg443AsGDm+Op1soqNe7yU4PP41Ty/kKAE0dODCHjFr2AFfNr7tovTXUsNKlEOdMWJsJtBJLXJ\n",
       "EslvhxpIo848ENFkK9/CSDI7cekdR0TUqQyuep3bCYVVBtcochiIQqYVgsbUQ2QuN8dR5c0ApEHs\n",
       "j+07u+dbXULb3xo3e7KDASuBrp/IB8zK4VohM0BPZjnQjSjgKhycG58uv16pGdBILk/pF2lBCECO\n",
       "BM3awARuHnYTcE/OZm9Eke6RJQX5IDNwvxKdxiM1FbVJUqGv83S1swjR8d+H//KuwIvM1jHPZi/l\n",
       "jwCdLpIWdgvKZlJEobdU92kpv6TPx6V3xLQyBer//Htx4vjx2qFJZOMH7xrb7opehf+ywH21kub4\n",
       "qUEuns+/i9Fb/NQ+b85iJGSAYxubAYg3QtcNw6A/CIX81QO+ArL7bZwejuE/APmHuGidnUJepdgJ\n",
       "304gYjO2XHRPKR62DoWezUlwd9I4D6/BLRSNI8YNOhRP3N6BmQCGdimTnv8sGgK6D+YnKsPxJb2x\n",
       "xTezG1ILUd3qUYePc+ZBh/RraImnaVlWDdTbs8ggrZ4iOoV5SrFafMFqbZEs+CZjCbRpP/u7aIh9\n",
       "8Fu92PvGqHMVjUnbwVHMjbucuww7zH4QGx8y7uSa0PTamLersCtOa3Rrzsg/Qpe1os+GquQ79FWZ\n",
       "763frm6EpnIhE2LMtZwXUIplCm0Jb8lV+ddHMqpwWx+boYBh4edrMx+6sxgSl3prV8fIGEJDe3ne\n",
       "X3APdnRyCIjm5ws6kStxrYf5nsr2GP+qNq6z11AdMe3KNADiC1/qZqk+NwvFsq88PAKYkuSfJVxt\n",
       "G/kUqeke1bAIDw5FEThUoH4GTtbGPf/5TcOLD8GWPWF2R8B9Y8cDk0kpZQ0GjQ1jCyLyMPn1aX9i\n",
       "IFzntRgSWRw3tksy+7o7EsogGKjYRFTvtiqR2SS/jo/Ad6YPzxcBUmQEbF6us7zSFXM3n5UJgb5J\n",
       "MWiLNatrTAIObhyhPgtOLnJxApanR0U0tfFVWOC4VSdRA7RBT/63bwLQjxEQn5kpox/E4oRRHJAl\n",
       "uDhKHiukbWvYiw490bMZdAIRS4I58Q/mJSVFY3K1mTvvm2+qzzQYau4L9ewMPa9ezZ/XwH8YAkwV\n",
       "YU2Y3FzFMKvM4z3Rtvk7Jr+os7cLSrmPo8vgZQICSc2RUNjx3qedq3xppa4SYJ5VEvDiZYSbOPj7\n",
       "LSlcWEU7ngqbmVXkZ75+SnwV4jdnGsdulWM2/whIMyKWeazyveXAjTbjLvMuUrX4ZUQ53hx9AEmo\n",
       "AtMp96OH8vDf9YufJ4B1zJXCeMuQBrZif0tWh1uMOLQvvy0UktbVtx2v5nxrVgvmdbKzz6qMgbj4\n",
       "t3Rof2ZZCwv58x+KhRKsx2Rmq8M8vPKG4dOTRsXB7R0xL/RsEvMd5Ps7N8SM0QcAAANLQZ7JRTRM\n",
       "L/8Bsrq6Y7W/c1Vdrnu3xCqXCpFov2c9h0E41nixAoEb6ei7LfP9gTMHWWyyub2fgayzPnNVxR4n\n",
       "uQxVY6JKKoJ8rBDmZeAFhy4JKOztcHMzMYsjebNrQKmwCmyNmy74iyVXHtIoAwZX7e3y74PYTCjF\n",
       "VpHVYILC1uC80Lbfvei30+S3t/wSjNyWI/qjaARAJ2z7BpU9xgmX5mzbHRZoMbCZMCnI+l6wJQ0+\n",
       "As5dTYNnwfEl7724NtoBLHImYfzXboSkm7idTpPZOMkbFuqaXabUmgL+6b9heWjVSioHFUvAx2KW\n",
       "ksIT1pDWNbsXb4/CHc1MWXo07gAF9Xc/2+VFaIYJhorno+DHcpDYN9b1/sDbQiohKx/hDCQzzZQk\n",
       "uwr1xjGtnl9mMNnTLrS84zNvuAk62Rt75rkqufmPuI1swEJm2VFkGEGNWi3lQnyROG3j9Kn19Geo\n",
       "fqFZx/pybkb7YQtQ3zykzoLGLn7fAJ4pC1kdMt+a4RK8NFkITZ0u638LdYkoej5lNWdfznnES8TL\n",
       "Vr213xWhil22w5knNSGXbLply/87sgOCncg4mawxVGF6BoRUZT45OFsFZDfB7xp0sK+ah2OKkAEJ\n",
       "E1bit+LTYrThSu2jZktOgOtnETv4WQWCefs0d676HmOqXziL/CA2mHd1zcm7oaphNFzDXyaxHwRU\n",
       "tjRyV0F66UDk4Wvi5ICtMekM1Rfhr5li7u4bS+3qo0HcaZUvPVtlQj1Y/76LKwQ31aMP3nU7BwRJ\n",
       "qYctN40zqRGZc1s9uD4XBgGJQp7nadJQO0ij3vAKwuwFGXSqpuQ4V0XZEbT3jf62YIba5InQ6AkZ\n",
       "jzue+c1pRTotcyKtnBdad6cSvybbHv2vybqIRe4KfCHWHsxoDnSHCCdsveQPq+nQGnpQT1u7HNAq\n",
       "GT6kou2YErRXoKITgwWrkRpUTHX50AekH6beiS6cfkneRzL9yPT9OFghQhCDuK52KpsBD0nvRMrz\n",
       "WKwstXTVdu7A0gdSyXfG9D3m3JparzDe9HGBr53rwy44z61CJanz219z2TJNWSLHWK97iO8+HoXo\n",
       "/yMAhV+Q1W/7jqTzEm3nEgJECIg2f1hrPWs1fV8T5Phl50L6GnN2AAAB4wGe6HRCvwCj5KB+dBOz\n",
       "PDxWok5O0InE4hREhAGYmBhtrx1FBPu99lLiLEyava3wT8CIouUCNlblGO0oowAiA3S5xnTFmycF\n",
       "vO8vA5yWA6VIb+fPx4eIaVG2s/rEHQ2E8pgto+eNUXHBgrMv8BSiAlOkqmb3Tt+4vhfqZZXQ23Xb\n",
       "qrl21QyWELM8NsL76IDwECbEAC7NATI9vIZc/u5GUbg1XAOYmX0I2bVxb7JUbifXF4e1OekrV8Ej\n",
       "vUWLi0gaNydrYfCZ6Q/mFvB2q2jy+edza+N0WOaSIE8xr8rZWEboyBfBA0DZ6idqWkk8aIaFHBA5\n",
       "FWG8jVNupT28m6HhXZY/BoE81hFHtZ/eNpDng07/sgkrcvGDL5/aPKyvCls6wSTKufhZYtv5eKXq\n",
       "OOUckjGGzuvTJenO9M31FL2SvewAGQYizeASv9Y6kGdgxXzOhLlyLqMTh48qFmq/KWVb04rrrm2G\n",
       "PpbsSiCue9BNJrFf8gmWpPS5lCQVv9Kp9Z+P1UNqO0gYq5Lw+j0OWNrBzucsTtootLP4WO7qcAqB\n",
       "ECwEa/4nc8iMqD5uGsPwXLlJqAFlJeZkRVBFizTXU97qWiE0h+iACu/LU/sCViHBWWafzNDQq2ro\n",
       "PDsi/8pZ7W98b8RS3wAAAeoBnupqQr8AkslFUU8DCzaz0aGIO8Waw8lkxmik1nRWF55yayfnqDkP\n",
       "I4QAkQhTkuaSi8/ISb+v/FsM8ARdNTDzmuENgXt5Tw2ak5OYwUtD6XS6vq9S6Hob7jrq1bz9n3V3\n",
       "2ddKIfoByNFvNM3ltlAhDo404DGMMIuJbFAdSssj9TOD66QiWtqoO6nkbMK4lpvOk7AjgK+0sTco\n",
       "bHFKgRqtYGjpkwKZ5CyEBTYPUloMyUPcucJc/tca1puoXJ/GZUEKDtcWnij0+KPT2YDT+KGDceqg\n",
       "94R667CXpRymePIzUnMr1cnuu0gbuiHaDPAcwW0Y1uDJXoe5I4tztm80XO6j7scCM7mFttx6hrPE\n",
       "g/LL5wHAmIz0qIufw950umDE5uGbPOmVdP+3epB7KwWZZ6HJVLGI54rus03U6wvyHHKGM40rHPTZ\n",
       "XNNcmMlY6UAz+jiezx2DHNEIttW63+jf58zZewat39k18a1t+esJLkAqwXVgm3i7x7Zv/SUcTolA\n",
       "NvRcMOrnKbwXqdITV8GGlhCKWAdlAQjmuuSRSWkHbx2iZScGYDn3lyGSdUbWqtuYiLtU4g34JYjL\n",
       "ouN287DCrN7mo4RDjrw0GcvwA/aIPQQRMZEFrTil/Mpj3juasedhojF4THuD+VbNkKXgAAAEF0Ga\n",
       "7EmoQWiZTAhv//6nhAFmB4U++4khKoLgCNLrgMTXLge4kOMVSsESkR2K6lA8rRI1xv4ogEkJ0F4A\n",
       "h6oQsKlnEd8nR+JimwJuVLVyBODl76aBLePVxAWKTByYKI0DYwM87VIdAMaxAbVdOePXCPbasoHr\n",
       "AV6WK+ekA8ZiyU/Ep9KjRBj0uUVbxBXTG531HMe8o2KnALCYc93UizM9og8KJx/CgRaStQmmRYya\n",
       "0hickKmN6ssK6KOOKPku/JcFa5zOvLcJl2F4auXkf57/t61wKz/erppGwpKg4PNwLk+Nkks+wgB0\n",
       "mysbspZ5z2GVNcDcA4Cc+i7OlpH6OHYiFJwFDcAOu0Xdfp+EvMCQ9AsupSOF4Nyb7e4td3TUlIfl\n",
       "O+vApoF6+SLPK33nVIEGc/B2rBpngxBA1ELHTjEIfNbHSbx5VUJLWkkfXYEk1q+qa8BMARWo+ufq\n",
       "C+J8hcrLigA6g0kD3gALbqP/cO7oBr+1w7GweMWbR9vBrDzuVU1gVH/e0lc4QNJG/RBx3P0alct5\n",
       "Cu8KK84xdn00ZBcnlRFeFQ5JDnD6SBjk3DvofWd8TviXx15bPeiZjpy9c1iR0EliDdaF0oaJVzVA\n",
       "OF+kRvuyrMA5WLKA8CFsYCO2qE3m9mLwuaeLUxnpF9ECoozJHLAjUBHcOhzf091ax8XyRWxEVU6R\n",
       "EG80KvtfoD2enk6Ti2g/Xy/IAcHBcCD3K/VjXf2FkbbOBJLOGlUMNUYWYGqXqqnv3Rhno3LSKf4F\n",
       "Semh9dGYQ64A/Zun8jDG1ULRRn7CoJ379DdTnN7osEmr3FdF8z9/Wq8sZOoSe2Tnm7gSvoC/uS9A\n",
       "q9edRiU6sSxaG+IJwYULRqYrpFM1of8exLXIcD93wd7i1EO0T4qYrK8PNghCFkVQB19xsKbxbaSq\n",
       "h5Oxe3hrkFW2gM/EOACkuioEkQx82wvG3K8o+bQHB0NA55Qgpj6sJWH5UnOVDUmbovil9C476lA4\n",
       "Nv1FtYNmaxrVk06bO4TOW6xsP8zdThI7h2bE+5f7m6ZM4G5CoWxsdUWdwAmuXM+NYd20o9pNJCgR\n",
       "rx1IZRqTNpF35D2GyZG4MU3im4DLBFV2+VYdayO/lMFhqm9D9K1wBRMV6RGuY648mk3Z41segprE\n",
       "ScQC7PD2QKmec1O9Qtqy39aQYLe8toYtA9RtYiCeeETqumgtOJYl5Bib2AIXQrLQqKP9qtSuaEC1\n",
       "DG80aE9S3A+e/3KIKD2NiH+uW21aV9Jfk3OR+J2rlmgaZrlKZdkmoRozY3rUb9WawDUd7vLfrBRV\n",
       "cOYiC+/JVJOqyEN9zoAd2+9CApGav4wSnP10NWbBcJlC8WNIm0FwZ/xAQR9ZYF+qxbdQBzmyrkGF\n",
       "374yUsrRA5mESkLtSCDEkOPI4gAABsJBmw9J4QpSZTAhv/6nhADW4GgzfvWoABFXqTMxfF2rGyFA\n",
       "6qT2mKWmaG6vlKRyKWloDmv53F0rGb+9TyB8iNFx0qKt9dUW5wpzYOD5ZeFrE6AMyG+kvfOduexZ\n",
       "CC/tgvBUeBw0hjQJ/JX9T8oUPDCMieVSv69nXXie4CiNVT+nzuCpUndMTQF7py2dpWjRI87TXt94\n",
       "fH1olN8SlFQwcWHDZktALElrCXT0dYQwyBvaKVt7XdEeot1rxVXhfD2Q/ivQmBni2+1CLMnB346Q\n",
       "Tclsa4P8i+bFzLOMmxXg3yca1ipls4AoYJvuYOKW+Sq4PEvme2SUwgFWneSJswoYDi1rc2U618Ia\n",
       "ZlHckGW+fFD2zEy7dOEKafF/DMrZ1cjA+QRLH7mSRPnxMJIZoxmwCbaPahOqghVzsyxMO4FwLBDl\n",
       "GKo8DqNh3PE4kC8qrgXvIRnB2bSF6BJRzuvhRDuDm/2Z21ofZ0TU971CQKqmijFU1fGV70eWA3IL\n",
       "aiJhd/GLkZKzggjzcC+OzKW66TmkJ5hoXTvUxahtfH0aPVh2ICMIAgVu5ChoPylGWA8lS3CUDTCp\n",
       "/T0c7ZQoxa17f6nxgzpANJpvTh0QX0nNoVumeoa1FLK2V/tPmh/Daobu8Pe7brHNyg8sdg+gT2EB\n",
       "hSkOINAdQ9VXKtIWHu7BzFUnMTIOOzh9cdycC/mY76I4DO2Q/ChlTTeyTYe/D50YPrGsNBoUiN6C\n",
       "9vBp6ylmnkyDFKPDs8XH5eUQxETLG/raiiXSef8wb5496xpxNIpQpF/tpMLVyyu3zV3Hlk0NgXkg\n",
       "TNMAWPn4zHaZoONKZU177/zxCeb4skcd6FAzYIRDVnNmQWh+hb9H6MsU8I6m5ruL7Xs4fawNvK/L\n",
       "YhymGTc9prNrD7JkW7rrwAofDpc1zmtJzpOArKu+dOmXyqK/sknDBOnN0mK7ApgpVWTUt6mqI2h6\n",
       "F6kpAF0wfSosHWMPVfLQ5QD932I7CydluQtX2taWnfT8bSX1CLmakFhgW/t/6Jb1lhYVqYDIlS+Q\n",
       "i+YcoDgBnaYlMBfTFyR+KTqhUvkz9plpo0oV7Nl3mdpyU+QHZcc1WsIrhvrGcBKyx7oNd4Qoi9vZ\n",
       "a++xo8QXLyyJxvT80IZVFi8zYrgTzMZw+tpIXRgc1PH+qo/pHEztImv1A7xMVvtkxVnUTtywWp34\n",
       "wyFPPv/NfUEiWQlNQNvkuKYpfhDAlITCNB7QEb2Vlpbc1gCazHFzil96M+10CGIGs3908eULkDdY\n",
       "jnQ1TOfAEASxqCh315JzsK2AEEsIhLxZG3JDIyujHrxFPyEQO/BRVwSY/W2j5JnQVSGXDleHaEpS\n",
       "3DD2s1+aLEIl23HBZSfNIIPmsbQ2UQgp0Bgj3foRZ/jOR/SSDdq7cOvE5XKubYEpGamsoi88I85a\n",
       "CRK3ZVPvqsfF0JdjDjuDzTDTY4U549BOwkzLeaS8dRpy/8gad6HxbHZ7sQwKAVuuF/o1+F8E9MEN\n",
       "SP3wgRAwAMX96PLX8JDlbXJmHtkNQ7o6RPb506UpmzY6gEDuRF83o9emLinLr/8uXVjWsuanGF5j\n",
       "7rBr1rNSgKA/a51/DTmP2ZeFtiQmYwVtsuMPze8bHugH15p3CpevuKqvhkgBCWAfTuFt6hR5jDSC\n",
       "jtm1ZaTN1rSWxJsnJXdi55WGyE3jHZonKusLPHrbj6JyyfniH7ThxLqYlrP0/gjeMOyA5o6NSaeu\n",
       "oI2qR9v46UD/L1Gdz/shCiHC0+MPzsHh1csNXRwUcgMy+59o4+Mi+x2/HAQEa6u7ABbhXnL6pQ/4\n",
       "T+DdZEbCTM4K/pVCdALZF3PQ2KAwr7gSkhNQ4wtixj+uovHTKOumLc+7U3SbMtRdMJVVdZsUQ86H\n",
       "hHpxBqGpINU7NaOV3ndgIc3PSKiBxb4dyXxah2yXciut07X1Nug5VcBrpJSV86RMG0JAdJ41ebkB\n",
       "/sgixdCboKX0Z/cTB6fDaLyyIIQTkx4lWeulKgCQa6lTzAUrmQWztQjzIHDnNog9zCub2DrHlbZN\n",
       "lvn3yhIGqIuWDUcx8OlB8sbsA6Y4PEokz/rcxNpRrGWov8LsSXnJ89SzzvXd9dzn0zRHhDIAzAmK\n",
       "paz/ZZVzMcf9xqI/BuQ/JCTRfUPMwfHbx99kSPQsmwL40q8cdAQqPjBkFbp8BTlag2src/kDLP5U\n",
       "vontc5KQN4sqA9BGBOgSQ9eCZjVT/vbYzFd29DmNZeKJQRYqBKu6HqLyZQ7O8yF1++pF3a5wcAyi\n",
       "bXv2FK3HXPL5Ry4AAc2krzAdjeq4rePspcd5x4K33Fma9/iQ38bY3y24gQAAAtNBny1FNEwr/wJJ\n",
       "G2Sx9parHvFQlZIhVuvdw2XcQVBpWaMlb54ypqbqgpBtEla/b2FMASGo3E8FqKEixOoA8u61QyYg\n",
       "WCjxvPl7taxrccRvtzzDpWlgB3KDai+nVUpu5JLPUW90PbeZR/UzTOxCeI08l+xKdpQQm1oc1OI3\n",
       "1iH7vGOEWjmHnRhL2jAVUW6lq2PyJOXCPC6keJX3VAOkSNC81Iu9REnEyB75XcwFOSPQVvpFl9q8\n",
       "FJlkz6RZ5rs68luYEowxhjjTULWeftq2LtfOrltE1hjJFQCesj4TpUTlqQq2cSQferDdBauD+0cv\n",
       "G6bAHfUp7kv/+LfjX42gJ/l6n3wUrZLD2WagXmJKN1mE2EfEwJdFueicnObAmWaJ1VkPX6seF87C\n",
       "tzGiGViJe3nrkc/X5EC85aw6q16PFD4lFcmpm8rdodc+opzto9l9XqdufGj167F3GO/E4NaKMGu/\n",
       "DrwPxKk28WwqFxP38Hn52OVLPkDuoj+wonSa7QYnFhynXA2bxKucaAcx9giBxBbEIfWzM+W7pCGp\n",
       "uPvHCvkpayVwzc/BBLCu/RkfGMy4DJaMpyRIx1x0UI1mqyyxq5i+Va9mMTo4g+3DmbU8B7CCHB11\n",
       "CFcrP2ukviziNG1EXNyI5fz2ZKXGb+CmwafzKYkAo6ei0LJSHlQZGB5nRm3tW8Pnn++lSx5qOEm6\n",
       "1IAW3rAkqkpaJwMsFmuufvo6Nz0u4qN6Nn3zivCZFWObPbNyO1S3p6Hzg2PRkf4eS3vSJVQGV2jS\n",
       "F6BjhTP3+1cFqzoVn70pa59OcTZLxlHTZF+0kmdWtGnMKlxIRvSWXjdMiPHbl3ZpbJFnbybOKqZe\n",
       "uDzi/rE06TKBM6kUNklnU3Y+LoNL6CekDVTUfS8xUQAt250p6erzYRbszwksSnovFtJ3kWo2a6BU\n",
       "qOXkcp0BsZ9ojzq3ocBoTKPKXwvsYVHGgobJcV0AAAIAAZ9OakK/AKPYTvc/SgTLuvgaV3bnwVdo\n",
       "uQGwNT+EqNeksvxi8CbyTCVg5jwPLQArs/YVgU2TKSAoLpxhQ6mIWI6x5lqx1FpNikmnlEIYNF9k\n",
       "Hy/GBLP/yeB2O2kNxMuvyORc6aB3R9a1xJ1Emt0WhCJTepVr7dsDFcUOWkELzIR9g5W8RPY+CfQu\n",
       "kPgAo8E5FE9DWhVlc/YZExY0i7x1I8Ig5dBVWSnUETKgFixaxF9LoxBshgyT25IDd3qgTyG89l1o\n",
       "tKvPYXJusyUQ5dnyv3DdaiF7nRn77oQ0V0+DEw4L3ft1IN2I/IcMOagdwM/alxRWcsjDElHypKhT\n",
       "JApZj9T3fzbVzQwN99zRMpBLd0Of26c/mt4BSW/yIco2FtJB9m/i6Fi7Gbt5jU/Se8u5zB5DWhlA\n",
       "gsHwgu1s7QSQGXx/reTJdlm8gYPky37CEvkrpXcCkJqfefsCbfcE3tYCKCBHJB9nlnUZ4trhTQzG\n",
       "IiFVGbXKJW9Ct4Y8YBIh8SizO9PG1VJo/d6mIu47LwmdOEBvU5+l665Jl1DWCKCIYoNb01UJKq76\n",
       "803KDDl49S3T9Jj8D2sECKLA4C56IRc8pnCXlIFWxCv76l/5HNrZmAD4zCbEaw9AGmetTJ5M4YSp\n",
       "HUVMN5kS6YQyVFJx3jWDNJtE1wNRMHsiDPX6RO5wfAkAAATAQZtQSahBaJlMCG///qeEANG6uCrb\n",
       "xkAQ71342/8H1Cd+BZi9mhbB8heYfvnEcbqffMTrbIwuYM24i4p3VfIlnpZqg/E65x/+0zkOsXFN\n",
       "c/f//CqRAyoGIWEzpIy2neHzngAE/KmTMxu4wMsEQvCNePCzeXVEmJ53Yz3Qznwu1ZtvpI3XRH2p\n",
       "GK3RJfxRuvtnkA8XWBsbEAx+Q0IPQGXxTpErDMA5Lgw3bdPcYWsL/ZP0SqX6E7pGxVh0H9cBtlQ7\n",
       "z0/K62LVfIM30c16RspcUZD43tatFbd2cKGgOsCTCapHwR3hC8vzRnmds+AdD8fjVHgfNxgc+ZIU\n",
       "ulKhB6ZrGVOx+TNpB43xzIeQcYgvwBU4b+nJwPJju3g0AB8W9JuEo6AZnTYsDTbZVM0LzcLHVr3X\n",
       "qgCe0IA7qaf8etZ0abrAG0jhn2VukEDtTdqBODdio2iXPh1EIPndSSwNyYU03X3Oo52677ii8ASm\n",
       "RSKvAk7Ivr7juxVXBWe9yLRuDpJArYyFZWpXf8z9yjFiq9SYBQ2NPrqMOlMiq0k7jIaQJupH+zLc\n",
       "LiIjOEf0T88ywamXapXtv0Uxi/xGvdz/0G8WHv3AtJ2YpAMm5V030qnwZ1KIrvny0R18DN6ckKnV\n",
       "nQtxNqf9Z7aFEgMrddNBzSulUxpRRT0NEl+issnLcjt4IkUgnnfY7yJQ9PKaTsq1ipKKIdqerOGt\n",
       "SMdII+Eu0p4HA/s88znc+alL0WXPnl6wRFljLUSMEI446FQ4sxD0UQ19uQ1PaVHbYYJCyOR+Ly0z\n",
       "XqU2+eFdDEv5O3T4ZNjjcM6EgLMJEe59VssdUTuLSp6ScqPfMxTNKRUeJL4oV00AsoS6XvizKXVT\n",
       "k+g/swwrhBXlhjFWqY/FXJ65rTz63RAFuy11eS+V4vn4Yx5iZko/AI/XFEb8iDn4e7n8y0WuByfJ\n",
       "/VfBL0cz+pbbwUN2PJvVrmXZaizoQV4t6Mj5fPffzomcxEEc08t0fxvhDKATkYZc0Km4wtW9SMiu\n",
       "+q+m6S2L8acV+YeRnZYVUGxnQhKf+Zkj8Mwirnk7kYZeH5wqOEpJY3FcaEnmEEqZ4+tIROu6NylO\n",
       "/DrVVxTVPLq7bk2UfLN2KhBX1egzsvlz3hkkc5vpaia3H05xXewcbJ4bNAP/bpwAECR2fQoppcVR\n",
       "KercLNj3yMZbVahoWkwEYhQBX5AiznQc+elLSBp6/q6LInwlm2TVUlYk65pZUjmlSDhenbT2qn+d\n",
       "VVAPr+BbeCP38RAv4VfIHlHsYiRZc/xz/71TSj0ozlUGhbn5mrcLx/3pTjkE+BFxR8vPtlSP5hT3\n",
       "pZQ+7xDaCGnAtSO32O3HrvTFb6QT/FwFq52AwQDFLCqJ/cCxXbf0icAy4qsxc428f/JZzZ8nsWgC\n",
       "MQSN1JHMVqvnz9UqZkz/FPupKp9l2P5httPK9JGQY94+WS61r0cO8xPKFCAWQtCDSNNQ7fLg56wc\n",
       "/Utq8qRFR8aJXxY8/HTOmwZ0N8IUH9TX+IP6bWWFJ2rTuctFg9QZACmdHTCNrLtzUn19TtB7xAzm\n",
       "2tJvKgEoBdGoEX/9ja5viGjUY3wAxZXQpIrBrZbVnGxkwqJuzRQBJl/Ga3n0FqST/IJNlBAoYAAA\n",
       "BvlBm3NJ4QpSZTAhn/6eEANcNOhADTA6frGHcde4EJmzMNHjRDJO3pm35C6Pn6LV/YneWITrlAEG\n",
       "YkN1/3igbM/jD4KaZ3nP13LaYx/iMtiRcZPQDZPZsT7IdhDJWGA9I8iV+FiByKqxBRC17Ayct0Yv\n",
       "96xdqV5lWlc4S3DmOtT8Q9BPXWgSvJ+BK6N7E1rR1l8IuZSpxg5Zf0tVWpVTeuqYv72dTLTWHskC\n",
       "ItzBq/fZIC0N/sq0yj5L/tQv+QskYscrVcXZu9UdLg1N45USCV2VZG+btBA8wDW15lgYYBAoV8Xw\n",
       "ywmj623L4u+vy2ojZCoWIiX0x51aD0DBrJL62BGpwqAEcP3xWiI/Iv9gWfJyGaVe6TroUvLRVUTf\n",
       "6Uxt7KuC/u/cZ2OttuXRpuPXOUBcTG80tVF1HGE+JS/1P0Rvo3LZUSJbj1pPs2jetzW067CSMfFU\n",
       "LI3TKR8Fbr7C/FgY0suk0skA9+KdSSJzLmC+yUBYCcLMkQWqjGBEyl83y76FSZapzB1R/BjABSoy\n",
       "0qAGRDGrNioR8pKuFLC3maWoGQUym0ilG8uI5bZK8n5vceUOIx2q7//seiXEj8TeH2HzOMm5Kcn5\n",
       "/313sU2L4vdmpcgAHYUWrVTRtBYoepqUj6CWEKDf5MBML5xQAWK+Hnzxr5ttcr7PN0gDGSDulIew\n",
       "SzVchmhBZhf4wCxVWqGWYZh/ZQMBwKDEHs5HM0xR/4Mp/i/RwOAUbb7+7QrqBapJfjlcqzQoRqpv\n",
       "XAbEZ8n5Z9+R/+AERHE4LcYakOXBSXso2Qpt2gH8FVbPkcpDjSxqB/SFv8p9DUH6oXgC5VflwKr0\n",
       "v78ReeHfsIYbcnQ3avkAonPm1aPS8zdsCSsESiWXxBU/dS30vgEcTBA0OU5s/BA6BLbS/YSQSPKu\n",
       "qXL2BsOOCtpQwQDjr50lXMU2UkHXC0nCAJKfq9tKZSb1HkbJ8jzeQN5gjj1VhHdRsl0EkU5WqeRM\n",
       "N6TxxLCFRdrqkM2MnjcQ/m6yRx65E8ssems0nA4cDvxr/4LXhC8d0in5BC+PED+PicWW1rawKM46\n",
       "RXQgny6taRP4SEQ7ar/gaZo6Qh6QqayVsjBaCwqqqSO7SbFXPcQ7V35O6v9besGRSE9Q9Iazcxs1\n",
       "OA2miqAoLrI3RPSteOf0j76Nju23HwG964/PXWSzX/C7EIeWGLAZAS4GXuLgtLcEApp4QJgFktr9\n",
       "0dXOixQ/sj4yfi1jNXFOHE0hRnmJOiuewC/Jw2D3yV5j/Mr9WYhIqkUCAAkiZW99olHsdRRHGTbS\n",
       "Y/7BPqGi9maDyU+II7x82fXQTtADgY3mer+RDMp1tjBhtjSzGv/NC4whbicT+t/QL6AIWL6WlVDo\n",
       "WkRLWh6CYoz8rNSRtW74ZPOz3FnW8tH7gPzhc5wFOcA0GOSXyvuLNJVu0wTCJTZVwOODPPBS8aoS\n",
       "nroyC2c9HRZcnSdzt4nr7QEDZFR75JnFFswCml8TiRJt2lf+y5gHRyfouL/Awsr7UD7kRuic66z7\n",
       "skWHgdThDhT6Ljjnn18zgUcY3g+KUqzmpg5B/CbOqMu0+QMYu0RaI8oyvrFl8jrobMlYNlrNE6WG\n",
       "U0/xMQkUqCpSLAuLCFvWiwOXF432y1g9/zHhrLEsUorXsfI2PwG6Iknmgvn62P2J38B5U0mHQ5X7\n",
       "Gxq0BkCv3FP6bEcBUFA9e1Rt0UOhol8UFQHA4PI5uDXrt5SFL4n2aEJAt7O0JLVsY7aJ0OAfqjnB\n",
       "iUv+MFkncN/pt5On/L8Fm/S7zVJAiAsRShcbdDLMaqGWlaDm8Ve9+6ccQNsQu0EWeE6SmjsyGd3j\n",
       "cDXiZkI2UXSSsD5/jT6XmGS57Sur6bWnghvnE/ujofr6B8wPKb4y/BEq3zEmJoXu3kFCM/CZHD5R\n",
       "2AT0jqRPgO3I7yIVhj2Q7O38d5D6DgIQhL9ufSLVrQWeYloKGwjD3R75kSNWYEDmZGi9NobhqnGt\n",
       "4RWhdCak3k6nnIfzh/KBFCwD5HoHUZaPlGn5JicTVKpz5IWsM/A7n07i88/Aun1dIMil7e7T1E9S\n",
       "2a/0qwW1v4ZfZkYxr59k0eA27oX2QO8sb2QTBNqxVF3C58xHkePxWcmCbR7JYRSXymO2gXJDouCG\n",
       "LKVFPSWhwTXsmsUKfORKELktrtvKWHQcGfUrql27laAI802LhRawbgpW4j81PqvzlCbWKZw1S0rB\n",
       "oAG24EFzib2xbv01sqFykIUUHi9yH2xt8Rl2kc0fQtiKThNOZbj2mWbSX+Urr9Eu0y1CVAtM7Roe\n",
       "S14XzAhtwLpK3Cu6WOP+DpwA9BpCh37OMgyaY3RRlbmFST4GTlYFUornodLIicEwsSfI8kBXJDY2\n",
       "raYVaNiMgO7ywyX75scypPtICIAAAAH7QZ+RRTRMK/8CSRtksfaWqx7t1gC8uZ3wdncaObZSGevE\n",
       "FMWp/qAEfAEcPs5i/zIGOlgBcaNYKtOiD96TkbBcuGO9lF88qkBzj7pPeOQ2dnQBZVd0MoQpdXGN\n",
       "qVnSGg0Kp1adkCWxHmUOXtczKvqZWjTHHA1/pZIqAvzXWcVHQG1QYAGQ2N2OBJ1Ou2p2XWhMmQWO\n",
       "PgL0ghJfOX3ajd8BOfvMGt39M1QOsPnituWwMYipdhDsOrRJGs6Chu/ST6ymsJisuYNDfwrM5l5g\n",
       "wmDATMELzcdRN50G9PA2tGoGbponHhEytIh8k6rbt0ZzJoU6lzx1e5O9c9FS1i5NuDlwkKqDdbBZ\n",
       "tbZtHiPdwqB8xXWooZLes1oFA7bLsvtsTDhzn/6lG4Q8HZc4adLK3O4GxlaaVBZt5yOEiHAS+eQN\n",
       "KaLNJ5L3st6NT6mIgJmvWQp22mAvwzKUd4jQ/QkgvAuGQuD8Bv5uYe5VpZCvq+mZTwNuJmEwS85s\n",
       "3jPtDT6QWFe0V2hjTM6dVzaq9+kdf+uv4N/JDdxXsSiR+Vo5xDwtm6ODIMwC/jgFwh09w2FQDEDD\n",
       "0q2fTDWJPEux+2/VYzSQHyVlFuvKE5SmIDKRCKduQJn1yfgU+bfF7itvghst8itJthh0zA09koZ4\n",
       "YLUlXnlNkJ6rMIgYT8SwqViZAAABxgGfsmpCvwCstV3hIHvzkXUJx6aVucE8kygBJm26kdstF1wA\n",
       "42JkrF+FZi9NEWYgoUuNV7p794BkUD6rOK34ejAVCBpdv/EyjKtV4nv9nksyCtS8L99rmRxau0C3\n",
       "hgOV71mnMr78A8eN5N5swo5dvb1INqhkbIz2IWRCddPMjrurxIpDf3yilNLXs+lcuzgUYhNL7xQj\n",
       "AhJ20xVyGszb1JJYfmzuqfNOQehH1fU+BK3WUQOtf6sp1447fgMKMrTRAAI7Xqmwd+rNKc3z6rtr\n",
       "Laq0tCD0FBuEtM9LzAYUV2uwIq8b25p/7Rvz1VAq1C4NbquVshP/ceHTMs+4b/3oIbtxpmdKKbH3\n",
       "UT+/JbGIomMpGwGSSbNVM/kCIP8NyAq8t9eZBkeB1oCjtsxYDnmXS6fXKnFO0UnZngvMezwsuCsQ\n",
       "jopUHcFRg4UyxEOnNapXcXetYPOs9szr/QGL5wlMahtmiJdM+cuqNdr7mlOitfH5Xxm7MH7mQR2M\n",
       "81cY2Qqc1T0EONXdVYKx/7jzoxN6ua2kK8Z+xj6nAxKX+IK61hPA9bj8U1u96kimVJvAJJbDB1OB\n",
       "68h0SQ4tF/88Ql9gOrWOaKp3nV0AAAQGQZu0SahBaJlMCG///qeEAJ6eiY9uLVYsx9gzBmIphfsi\n",
       "1QAKSNe97sim8mjVevuc53SDAZneh2Gm0k3tlhrAfX8yzCymV87aho16IzOz9untCpvcJrOheQO1\n",
       "LXLJgWLxCK2jgz1jXU3N2FqTpSbuckdc29G4Ult8zZ1w+uj0vhSc4+1q3ZY0RIFlE6UH3vnJWqZj\n",
       "w+XP2rJJh5yNhYUfRfmb6uoBnZGFFM1D+jTe1eN4Za7YEx8R2PFVMFbFwf/kUfNeCnSTtt9SBTm9\n",
       "/aFNGpJNRnDlMS7Uxkm9LA8EgW6UvdnXh+G5XD7O7CvvkUJjkvJtKyJqQpeCROCCbXrtPogqDOw1\n",
       "Zeurk6b2qRJQvL5g37Rj97c/VeQUZXUDb8sJXVCH0+gHqaFMy99tMHIWgrKEIWG1xHBpc4GezUKU\n",
       "Rzwd+qa3iwPi4KBKzKyzz6Cs9nNDNBAumJ4/uO/EQRG/alzypdYTfaypAJRTPjy33IxdwoTQubWC\n",
       "MgJ3iu4o4zw2oVGHZXIGb9ZDG8U1YVpjT919zWIrsO6Of0ik3ok+vmB4wiJ7y8IzM71BczNZLt6e\n",
       "rH1oiRobn6RiLN2Dd4VBInUr89yqG84cKWQBOMq7pRpmTkVlS7cAz49q50QEU/Ru4maKny3SThx4\n",
       "zJadOt2kQTD+J8/ZAIx7SE2L160gIlenOO8rsaybO+rWvvvp878kPkI2uxkYsbtTWXcV1uJZl/13\n",
       "akuIyCfClF/DhJTA4o2J6tidc8ebIC2y/A9LccC9Uo2koiDWrqMhDcLgx1BnBlDg8Nxvo8vAv25C\n",
       "rrujChpegR9iBqeHsGOq6JLsqyZf1RfCW0iQNqsVGSCLlTN8XSgB+tEp8acOSyEni3uABKvT3LrY\n",
       "dMBRk+/26W/eOnj3BvE+/ubBpl+GN1q1UPG9vtp+psn+2ESrE+nkBwR0RXbReU43/p6tG+mtUjlX\n",
       "4tx+pYOA6MIV+uXFnECAc3/sguO/fde14Pa9MPCetoQWc4aLOAeYfRIKA2FksYTyWNq4IrROfISy\n",
       "RdxoDcm/vZGi01tZT189s4xhqNeiEvrBhUFZhCepXhLi4fObAhJPa4QD5239jc7kDsfnj0kOzJpi\n",
       "w9FE1ye3/N5N/oYN9fPur3VA6s05SlCQrjGFxsIvqT+8nhrWnmCEbvfUwOaSYvWrT6YXjUGsdZWc\n",
       "lkBOFbrb0fvRw/kuQ1Sz0KHYYXP/USqEeEtDpLXwMmWn1EhNfPgnmf5CbZkhZdJ7n/m5LxAo1Zv2\n",
       "oLmKTvZ1k6No6RXCHDsMbl5VFL3HNegnBMVessVooEajyFslsS6+yvkT+uQTuLMY3NAEs1kyBFf8\n",
       "WWnNPC4+taXy+FT9XWj14iSyzEJFk1eayK5N/AAABKVBm9VJ4QpSZTAhv/6nhADb4FogrMjqPemK\n",
       "JjaPkBx2IAAuoAD1lgtrF6ww0wkne7hJlmHMdgrnP/4m1Nrh3dtSPcL2VgHelOyymeJwQoGV/VHI\n",
       "SolJ+1rK+Lyx+pgullwIAhknI/t2LAcnoxnPOZG7DB6u0aSpAbY1V3rKsoN87b/5yUBYWEswmWHb\n",
       "TqfcaVjJh6Z+0+If4mcTqp1iX/ejxcwZKIs3SAIV/x2NTSoCbfruT43YYTUvLO0AXNjG4+pK29MU\n",
       "zAhJ6Rtrpfngq7Nfr13kg180wqtoc8eu/tJS77MPg2nosyiQZgNTOLKRAZSooNscxa/UMnCsRfAe\n",
       "qB9/BFGAc+U8BnCj489hkHmtSrp8L5Bg8g/494W0RpYTPNxhajAPoGdNjmdYMxWp9hSWSYWVAJHb\n",
       "yJuYCiWS+lRRzk5O6V65s0lVc+pbfYvkeNOmuLCD3fmNBunU1LpvJ/gHGWgpXqOdvaVOYLx0OYUR\n",
       "R6C2JjsVN6+PVFmlznwvLddqeyYOtISc97UYuwx5N/8fPBxlFG4Ra0B0aNhxXywstUj4c5xa36KX\n",
       "rIBFf/c2cW0fgYdBLzk8wi+XUIeIA6O30uc3TlLDl2O42SdB3MyRdDtcYoHGRdr1e46FZfNucLmZ\n",
       "3ji5dTGrnHMIvYca0CJ8VAL62nFv3Komuqsjv/V+fv+SpCIPTu00kr8cxILEz/FfZiSndXmJ6Ivp\n",
       "AUa6jBTXE8Bmy0CMrxgN1RT2QGrIqgshqBWLYvBKQG1JsGNTjEEXYQfPFcBdoApP1fcFB4cid9il\n",
       "ot/DdkelkSz+7K00uG4+19wdKIyLUcshYUE7B9fItGf0KOj0eOMPcihWXQs0AK35kUkLIK+k+HR4\n",
       "Rz4ur2OaQQHGNKkzT0542IoHnVl4d3SYhV3a5VU15JKFz3zmJg/F+hKXofBO7/J6OWpjS1g0aqI2\n",
       "VzxVvREOiiKc0jvS82nx2rL8iIDXONFoaVkNOptLUyrkRjjk9qHGfL1ZGqcWBg7VOmS2DxXTOM4Y\n",
       "1bzTKwCrqMN09Jrhf+lPHxj5FEEjkDfxcdqYYrMA/S/oiYC0XqCq0ofUJzX2LiVGb+krFJVIbAI2\n",
       "bXV1Vquur5bWax3MPa5ghjYkJmS2zMoHIh+T4OMCvXUJk61486T9YIeh8lhJRoGcqDTr2AomDIKw\n",
       "e3gqEdKsNCOOKSy/y0i7oWrzp5pXLmBp2slNrLDhFYvknUEjpuq/MlYj8oGxRi/vO+i8abWebWeN\n",
       "0hrhvRfoZCIkz8Y1DgF2CyQVoyCpJlFSF8uex/GR6shw1+CjaMfTxjIgKfIekGN2gUp4gQ9WVToF\n",
       "/JUUow4t/H+PN0AkeKMwL/3PwdHaViYOdrKxQ5p8b7gpNiMBUsuUPTyutTqZtoJNaEZnMZCr6Bq2\n",
       "L93PAz6f0RXqV6TlPL8aDpUSsmAUycd7j9c/YKaKoWqC/h2tGfaAi+zreLrSFwcDhGseZPqrlAVm\n",
       "uhYMvyrWeXHcf3aKe+AIRO3/ImjWk3OTmH0saiYAMFTBQYsANXy9F62kn1Y6Zb655EcVLoFIxjhR\n",
       "FMAovzlJMn1JWMGZycbl4jGZQiVWvZDxAAAFaEGb90nhDomUwU0TDf/+p4QA28i+gEDTjXOco7+z\n",
       "rAu8Uro7QsJEhpJAXtX3L/NiXqsDgHvzBFEKhu+Oz1T73KXobLpmkoefA2mOfllmILzNn70K1HJ2\n",
       "W2WFLHnaLVIKDX9AJ+VHgwSpBhz2mEyKTFysaRrWVkuNZbsVGoQ37b6JPWiHF7EYq8Mrj0D/BiZi\n",
       "79TBmf+8QlpwsjI1Laf+byPgATqMA4AkRQbhmFqoxp7mK+/UtZjXLGiDyS/3Yyc7QDO7Up7Klqig\n",
       "bwI7ArNqTjgI+jdTXYlUOQDJWtESV9BAFSXZKjcvg2sV5T7J/Ap4BR6BNqi+W6oYD1NoGJ20X4u8\n",
       "5djMxr70wj6f6AKiEx9Uz5Tm3C6KYTNut/mbK5AwTIyw6onsvovFAQ+Lz+eiNjVNdRndwe6I3Tkk\n",
       "Q3AkH73iDyj+lJa7X+a7YOQpJ4uq9VnZB2YYf78cukT1Tiyb+k0YjpdtiUZWHWeAiTZTVqStG1lw\n",
       "nvpc0S0iqMTApHbYTc0CqY6GTfxuPMS/NodhNzj3qiLAknBv5XygC09JvIpV46Yfm9QaLvqWPrMM\n",
       "M/Geve1Qj6ESwQ6y9ESC6jyuIIY8TRocKSkG2y2Mg7fmyu/celGvt9TG/LlGgLxQnqc/4DuzhUMI\n",
       "1kpGmUPgeFky4F2AunUVg6+Zb6wzINWOuUaDdhq0JyFTw+pc3spuJXYt9MU13rtd5/P/+wAYcOjW\n",
       "7Hafi2g3QXitkLoV5JCraQnxF+lKEXHYBUe9FZx+ZDpOoNM8IKg9SG9DQo83vaN3eh+S/NAt0t7w\n",
       "hTPGVsU8FTXfscSut+VRy88964TYTZ6atYESOeh4VJqcbbxwD+sIMfHuo/f82sUXVBa6D8JHbWQA\n",
       "0YD6qXGGLld9nEHWu9HKBE93L+zKWQZlhz1RCOFgNnh3bizMD0xsjbwXoqAt4aC1AvcSH5/sVdR9\n",
       "yJ4HrSr+N8K6pxvL6u5T0nKRrv8xgv8XMuP9lZaqTfiH2KdM2wwJgrgMUNyXBse/6J0w59bePPq8\n",
       "w5gh63gfpIwlC+Ql6QB54aLYO9WmVNTEteddiHIMo49b5D64z9PEbuaNOEjU+Ph2ifHuZS8yXehG\n",
       "8dUPhN4VKrTkQsuEFrOcf0eQK9P14srmcfWTZyDcXGqLX5YAUWoD+W6Q0+Iqnn/Q6s86u32SmTDA\n",
       "N5QjgT/OAZo8rFEbRukDdnjxYr6BFe+FlSOps0k2IUOVTfe91nqnP+7tP54/d2y+FAxEsnZ6eUII\n",
       "wC+bm3Heu23UE90R6HN2zVGGwnZbi6TL219qktsjy65FR+T//EJ7OIsKFdRQawr4Gydv4GAbV3hw\n",
       "eM2PiQsEzH0woMBMeSQFmWZtdl4GoHxh2/AoMvYQeLe5NNsSLbPCNKs8R4pR1O4GQjWw53jVzzMC\n",
       "iBDvOD58eqBZBOiL86QArRI9gkKJ4cEwOgjD09+GrGZva5EWxDLw2qw6ywTD4aj1IDvnSbKES9Mu\n",
       "TfRcbDV30hmg3X5LYTCY0mhKTZXEWhS6tKA/umYjTLpto2XfW4MstRYiTPSIGDery0aIX++cDCi3\n",
       "rM/x0Xi9LJ1T8iusfKkVY+SSoAFHuVkE3mCZQgzTB2JC81uD4UZwuw0otGgouCNiOW/+aF2G+EaQ\n",
       "3Z8gD1AbZb7sX697x0hXmKNkWyoYrcwLxTp8f4f482FfESo1fHILp/tjMibiBg7NqN6Al/4628lg\n",
       "L77wmjb2QCdDRtWvcidA5hGiGdWRy7sjhU/8oy6a/aJQDKdZ8C1QFIMmQc6deEWTl1kV0Crs2XcL\n",
       "1snJJpnqg0s5GFc5DbYumeJ3ttURRyedxxmvtVl3znZKCvxcAp3xeaK7w6oAAAFxAZ4WakK/Ah6I\n",
       "8hxBVk6z3M/0De9nXXo8YECt1cnqiXLkrTbrCKgfE76Y5KAGjUHXMtlixmNKnYfPqMkXWhg6+nGo\n",
       "tjhoqeXje+y2n7OY3TI+4T05FsNrVPfkly2uhbDeekzG6h+KhFxnA1Dud39Xj3bb/4Rjh8i0BLON\n",
       "AxCc9tM0hFmemrKGhd2sU33tlF2LX/0EvhxA44xi9/F0uh699LtxKR2wpndQCoephqDdFibwSDCd\n",
       "TNOQeYBr3PrvFAVDn47Ht9VvITvI7eLRAMBT3RjZ6C23mE774SzEjYwBXUB4o4jsqYpbjrA5+Yf/\n",
       "hx4dzBqRBogRFxlyi2qmOLWAi+d+ueFLGNFM872/Tv1e+8If+OB+asLwQ739s8ZjSx/hkXPS5tUN\n",
       "35OTOjjogscCzbm+GZcV0Kz/ovH/hKUTz95vmCIULG9pE+aEs9IpRMszwR5PAzm/Fk2/iK89+ffi\n",
       "wwQADfhLEyQ3oX/NOOBbHbsTAAAC80GaGEnhDyZTAhv//qeEANvF6wAJyoUgkazB2gOtbviqgbbf\n",
       "agEWzzDdrgcFmUMCKG/rD6lK34aKH+ApKgyz63jOPcqqN4paKdGZsBBScNYDBYK3sU2SuX7ttF9t\n",
       "wP9D0mXDW5H6VzQ30LYv1BUHCgSQW7cVUkRcCkbLT8YhAonJtRWNMekw+HR1EspbAEVaYMTCveLl\n",
       "/zwZZ9DlIn+DWwuEm5gwvpaX04NZ9OeQnOevr5YJDmVShfwQiFH/WtafoNCanJWnVzAzmZI2tyKW\n",
       "K+hXd5CxeRVn427b+2qpa+6DEjRFvjqm7nZhIaGlYhXUzmrsbxHxk9rF43fbDRdex8E9HJQ0/oMQ\n",
       "ay6B/REWdqDkvvpYU2zyx+5am3W2NhJ+o1LFz5cW5MQwcn2fLnV9JRZYjfBggvJthpSq3iuNunvf\n",
       "M+BFYhpxgzkAIL9QuAxMIlaaDDWwxmNbRvcRieNO3JV3tMIhYZBpj5dKANAG6cH663ReD8mrbJ+Q\n",
       "GUBFicgOvfIw9XeSSVmXLs+ER0Zp6/f87lXVIg143PNgRj6aXUY+UAiz/5W0HL7Uzs1UoTQ2J9IU\n",
       "oLrC2QhZHbOv+5Z1k1uICe8SWchXWJIRFV28Ql5QgVQtgMRzqyBSA9klJQosambZ1QAhg901aBWy\n",
       "VsfSADUDLQiKJgLQDM/ugFBdLSHUUxO0nFxyUo8kv2eB20RjzEgjyS5l5p3fRyPtYJVPa4x5SQ1b\n",
       "+jdohSFLDyyAN95vtz8lMwgUjOw8/9tacK2jS+o8HMSmQYVNS6KFP75p0SKtrxV8A4mdGXLhoIeG\n",
       "fOl6poAZKBL35s8AN8IYvaYUAWJJURViYFhqLzYRcmnweR4AYOCK5b5K4gERHviso0Wy9MIkDnDO\n",
       "7tu1vOGP+1oZBDQ3CrGU1ux8ht3QzX+rgzqLURbiG02um/lRqz3oKViF+KMaiPvA/5BUtDHCxErA\n",
       "1VNlPVmN+KkUesGLWypEHJ+lLGcsXRVGY7yqUZkykNVHbu7rAAABKUGaOknhDyZTBRE8O//+qZYA\n",
       "JQqc4xXqkIATM3BzH3X5/KsHlhHYfkxGJ+WwrOB+dCrA8sWdp3QUHEx8c1nKNtJyPtHu3XO2OZKc\n",
       "B4s8TlFqFpWcaCDPIbtSzyLJZMyku3sF/UhCp+ZiKzUUUf0vu9vyDc+BIZuXkvDyXS6wpjq+z7Cz\n",
       "WJzU0W2DOmBLYM5l1zOLtM0on7sulqq/OcSFs+JMJLSG9CrSb8F+T68+lz7kscJSHHzSD8jPUGr7\n",
       "U/K5IoyhDth6cLbrEePVmA+2bY1mLrAVjHZTmSAHzNLYnEEOIl8dzmESY50yKkXyV5/UW1xdqMFm\n",
       "O7xHd/YgjNzULD6yJImkftsFdXXLJ5/bZdLx+jBNoQvDLiM2mjjbScQSCweDmRImbokHgAAAAMMB\n",
       "nllqQr8CHojyHEDOh8ImeX2OB46zerzWRe2/AH7q0Q0GEgCDQPH8RU/lFPGvXrTH3mEuAEwT2Wny\n",
       "ukf1cDU7kDR7Wb033c2rpcpP+THudV5whrOyBhqqqai+5tm5ZTAqyYB/FypX6pe6d/0bATMf6m7s\n",
       "zFjQgjKljKkqd49N3G+F5Vc/uFbiB5rsvWhcaG9hr+8cD9tkleVhTeyBffuKXWvIqcd0lsjSas9y\n",
       "f2COmh7IQR4Yy2rtc+KTKQbNFUPU9VMAAAXgQZpeSeEPJlMCHf/+qZYAb6aGcfAAaRXZQDknUrXi\n",
       "LwJtQq3mVyQQpygYdIm5m0b1c0rK+lgHYAC9qN1WHv6/IGIbrUtOXltfSNBkbfYQB+teWHCq6VV3\n",
       "z/F3pnLt9v1fbiEZgp7rpFaVK6Uu75NQv4h4O06thp/TaSdoJeihpbeFw+JB9wnQ2LzInHdokuMQ\n",
       "u9v8IRup9VQHY9WycrTFKQtQhm0XF/2Ua8cIAnuWh7kFBsmmN+yaUqJkMZOLqJVNrgCsxf/zcENx\n",
       "S+ST0i0bIezCzO5Q/geEJt1C+zmFnp03/xWDrAQ/Yvsm9s3EWC1sKJMbzh3oCdp9RlwgVmLimejM\n",
       "1s4yTSj4IPyH2dSYUQPNTR23/dRvTvxv7cNyV3ZmDPcsdB3/hNadvP0sK3s0HKtMtbYcw32KsObi\n",
       "Gvk0BaX9uWCRQMtT7fCrqJ+KeKoU8fpdPEhnTdCkQF/wVL/msExBMgKsFQhah+o2SEsJ6AAAX9HI\n",
       "DV2+TnHDUc7EDmGYwOa9uj2Oh8RpQkN+bEeyrh0NGfFHV7a87wH/trqqQPjwD8IH1oAXs6atXolN\n",
       "Nl2kWTz63SCNvwJDkWk26KqE27Smh/G9LuZrrtUvjTMsLiHBlsKNNwVUwO9taeKZtgo8T7PvZ67M\n",
       "i3MgfNWSjuRjF0FyXGo2yeOcfHfKDZYv8wBlBJqhkC4mUcDL0mvKR6o34w9x2d7biGOXX6nu+pDJ\n",
       "FnO9EQuq1zOKwLVqV1R2VK7geVnRRx7HkD9WuY+NM7fJ0M+1kOgzp+o/VQ88YKfEHsGFOKbrZsAd\n",
       "t+nED6etzFT8boI7dp+qVfmzyFJi5q1mLMrJC4oRnjdofUAv9MnICEWRFBCqUHXV0bgPEaUtgXCr\n",
       "+oOhaByQ1S8eeRSZLKLG9xvY/Oz6cBvevdqzMcNsmUIFqQ3ckm1U61zyXNTq5+F0yhB/TF/5pf4C\n",
       "ee7q1EQWlAOAMziKMC4l7efO0uRipQs36wFq07a1jrtwHwHXLLZs3SJdR9XO4cND7S4z3XyeuqBP\n",
       "YI/vvs/1N8w90TtKUR1sQDLw1q+X0ToyawGRKETIVoxC9s94JIyCf3L4xlJXj7H65SS6vreRqNEq\n",
       "gr+bZ6cCnMy434+58NS3XCdY1Di/tHHeqm7AUV/08p4zBAbIXB6JhBpDD5Mb4S+9GI7QCrObwlkw\n",
       "Y+PXjTJc47KXaVxWPZ5E5w7bMTMq/Q9JubBrbRm77m7aR68wwSji7c9KGNMsfhWPThHHQn5AbRPs\n",
       "n4ZWD64Oe6INoB7qmVsQfUwyL+XRX87gDtVqF3ODWKhzbtTEQOnMyk/YRRvXNh31dPYSBdqDkQtn\n",
       "ERr/SK4YmQclV9azx0iCG2YA+hOM8PpIe5uOeFIEmuxrU06UaKV1LCXtbgABW6nBIEmCzkSbAim3\n",
       "I8w7azmZcYQ7Bgvis/FM5tubT3CU/cROci+JxNAK+lRtn4UUL5f9zUCUm9gs/9srq+Od5aWw7Esl\n",
       "VmHggwM1QSZ5Qa+WzkJdRf6X/lDFn+Mbj06Lx+tUT23KiQsaLeHRFuI//UTq3zRSnnziIMFhOihN\n",
       "GVMjrwnMeCN9JVi6UBT+WCShxXyjgfjFscOZZwd7vqi53Iz/7ACKHHhs1gp7z9/APoJymecc2sll\n",
       "um0Se/ymXnC6yjfMnutCToPOxhTdvde0/nbcy84BGKdxZuqJqR3rUE6XbdlUfZtgW/o+qN1+VlxM\n",
       "ss7jOcRLatcMiWKAipjuAnKmuiFt25D/DEh5p4QEijgMExbWh0Or3gJZjH66qD1Rp3GsSpSDFLFl\n",
       "CXqnytaP80lEflGHBkgJXHP55iprx06SuoaYQJ2RqSJaYfkpB+LjvxgvEuiQs3lFSuaAMpbHUHlE\n",
       "wOSYxTQVYjx+4virEUTPARj5+fn3T1RaDQUu5yKIemdYAx3mmD7PQydMfd3E7T2Sz9FyyjhAYgLP\n",
       "OqTzQgm//bKr5BN13sv0OZMAcXpeazbVHOQk16zSChquMhi9T4+IF/kaDPM8mag3YAAAAkdBnnxF\n",
       "ETwv/wGVZBetALWGUXt3S/6sHeGHUWWiegBsf+S/kmNDpxLPLMzvPb/Gqz/CqvYQzBodxuyceako\n",
       "uTiZj6X46xK4dfS2M0Jcg02LmCVkGk9CcQR7EbdE5wCa01m2xbs2y467Y+0PMy8uNx7Pr/fTYFDG\n",
       "xsuvRtv41l44Ykw4vKliVB3NDKYI5KXoMnW5b0yZbpyJDWrfE9Z0fFOTxyGRcj/AjGl4zV8Lt5d4\n",
       "kVu74zUtt1i/4eo6uSUWQigiud8Vhe7N+XiyGDwHSDNKB3OJCfOq02iH6Ur1FlTJrwU6HyH+fuXE\n",
       "ADyvZ57bnkFLO6JSbqmeQL3KFduwLY8BxO2kkok3poTwdOi5ptokBWsNBnxaTGnKb3HQ0TSluy5i\n",
       "w4tT02f3Rke20iG5DuM4OLxO4N/FwBg1ImCg7Gb8jGAxXv6TzyvvxCoSMnar/0WfP2H6C/Xhf8rk\n",
       "8uWCoNltSHVgVV+fNMTol4ibsgK8ApWNY0GW7P4EETtwl4ldPbpvgt9ln6q+QUgq3PpivX9j6UoE\n",
       "o7v7rWVDS+XGEpOHIALqPHuIcElGxAb4zvJ4xXCxlRrji1++HstBdY0OA1D61R3LTSsOGu7qwX1B\n",
       "4wlg0UxxKWcF7y9rcXNO1YhGtkEyZYs5s6ruMJ2upUlAbXDqxoO1X+pHEF6fv75pLUrZWLk8sm/N\n",
       "MHeYSd5tFUPfk6bALd/MQjVzIkFT72qeqFr/rTAnmVpYBx6s0Z8w9o9a++JoHbucsvqO1QCKHTPP\n",
       "iD+JneDElVZxAAABPgGem3RCvwCxWdvfwCjcNNKDBJRZXPrA7Yvt4ljqwK2aOzldxs3N4FTbqu+i\n",
       "famngEAUOT/o5Jmz7RW+YkKO2tekUsTVCGgsxnB605AjC6zscfakGLuRorvVhvCZRwBovtphBKtb\n",
       "KzIFMWXCpoljLXgA/ztzO2I4rNlFXwyY5Q0CNS0fzXvoCJAijmgzt5aQ+1AHmrg2FqXl4aD7zVt6\n",
       "r19yFJaeihItVl5KPjkByZ0DOsWf5CAAOsz+9NOtGYvd5oQUSZPCtX0+QiXk0cbud9YfxOZprIqJ\n",
       "QepUU2WFLaGt20RhC+eIV1A90cWxYCouzDYjHlY+KcCHIpH42K9bNgIS0590ItguvgutEbI7C7NB\n",
       "uT3Pl222NpFrWofXvSYvFnmUX+ZaSsUB5mlQ+GTmeIUGqqMxnPC8jam3BnDSdwAAAYsBnp1qQr8A\n",
       "KzEFZuQqDSPTTk4Xe5Ail+5wYuhL55/DSO6IBuPWjvz/qbLIGOctqsY/dh3VG9AEAH3y+7M2ha3y\n",
       "ZgjeF++0ac+uBLV5xD8rRqqhbBu3w6Idb57lTFhNrzT/wuXOuygP47TStDJj/5FGJX2skIzxV6C7\n",
       "wZnrY61UkAkzxPfXkUnQ2qMsbBDlrveX2Rd/7TpOGCzbX5VFCGY8v1jVwvK21UnDztINlS3mCTj+\n",
       "IAW0mnIjEW9z1xHheAAtfe9VWzVrAqCm3i7iSp5GLP4VCA/X11EQvqKFX5K6IUg8f1ru4x5OaWwF\n",
       "0BPr/c2T8SxeZNRsOx86Dk1Sb+oyc/U2/OUplP3fQLuW+fxFdI31Vw/D2Y3x9kOJK862hxCcM006\n",
       "mRWHAOUVv/KB8lgfxx429pP2Xs727SfZgwvnVrI97sVhh53h1zk7o1r6ch9GtUV7XoTDFqNJJBzc\n",
       "TeDkOjZ46H0LIrsLglRgtvxbmb5ol8QPdGpaIsSWAEQ9KwTmbPH1DZbbyeJHwAAABlJBmoJJqEFo\n",
       "mUwIb//+p4QA2+BW/ktAYrL9jDN3yGpy9QCEBh3HUNe5PP6o43VyOFoOHB++oAAogdvn0kmsxo6s\n",
       "wbP3rX4hDKX1ITvKoN/IGNjdhV7uMqatN6OHZH22fSLeB0Dbat9Vd4udYFFTJk8m9GrO4Pu5np5M\n",
       "b2f6QhGieBIaS0cO7Z2w69Ae3kVvMhbfNXUzJVVBn3efKwplK74Mj2yXH1TGC3GoSgeGO1brQVMv\n",
       "Lj1ckgAz0QZDQHMGjUZ/VKa7bIMjo29ssNR4uCxT1L24Z85ZijG5foUR9+538/1tRLBdg+fAxKSM\n",
       "GzTvWteWQn6ZOofewBiagk2s4R8hYxrhBa5+eaHS8aqtrWW4CueB9MyqKKXc8BsaFikMmszox87D\n",
       "Oi3wDcuNxNrAd8/v3u3+EUoi9l7vT7P+ZyTn7hKcIV+VcaGJPXdFZGllz4mvvBxLomTMO3h8qOG6\n",
       "Pmi7+UviH+Dv35Ly0idcOPBz5eEqw0Ull62f8wOE36Hd/gPvxPIBub9wzO8Sv4tZAElcidCbK9tQ\n",
       "WtLrco/YW1gAmUQctO6Sod8g/9/ukeId3cgw7ZRHU+bYdqxrfT7hoAEo/PzMWArQxgP8eyESvLpn\n",
       "VwkSst6dU2+nA3nYRFQpHoSxsKS3t4IyFxpsyi7lvYw19/UOy14UIogApTkuQsFeXmuB9BLrFMds\n",
       "E5QlrvlDro5yCrxvfny+2nzFBFG1NGHkW9NvDBRH6JqoKWgucpBt4hQMI51SE9uT3hQQ0pcHiZkp\n",
       "uUMHPD06AWsUOr8U0QXauLyii/Vs0WGmlhigrGhRSfme1FRjTfzCab5R9wSzucUhNCV25grFIgQR\n",
       "Q38B4NxcOT/2TiN2KkkqTMZ+Hoyz+4pyjfYqZL/sLlt7tmXAFVgtTxoO+Nhkl+Cqv6vQruIqZDWs\n",
       "890+S0pzzCpcYGPxNwpgW+Hzz1ayatx//Yz+DWZRCcY9xeZZUr2rO198KrLZ5N5wEwzfWtswqhm5\n",
       "yWpx/SozyQ7xpNidGTMYo8/K2npdP9FWs/VcB4ap7pzoiDiurD6jv8p97lpUQ8Q8weq/Ul6H+5Oi\n",
       "afvZx8hMGY2dxY7uDVCqn+sgXaHpJxJeE36R5o/KI5ytQdaFYutqQpjHWMsUD5IKVSwVXDEdBdTi\n",
       "XP2RYCAF2zQ6UundeWGsbtf5cvsYcac8gz124t7zwhPhYFZKn0HAsnGmpeUDv8f/ZG3Jim2qnBEM\n",
       "Wagw7+BJQWLaF1580M6VxpCL/ZyJelR09y/GlL6V98kh8gk4qXrHxjyJ50LJ8qUeWNJyAa95w7aa\n",
       "yaVSOPzx2E+8geoKEv0Wll96RPdYvIqvacxKvMQ+QqGD6xPPGPYG2mdpl1yIOG3pEVSu0nklu53M\n",
       "N4QnOG97Ah9GrmuT+cNbT5uBe9hTT66dT+iAB5S/N9ygBPl02eevYM+GdCltahBHvXbc/WOTXedh\n",
       "hB/JMxTV94y0FA9iLLKgAeMxho5F0U74MGizUjz//NhWVj8FnKPZlWxQbeoKQ2E3ZlETD2jPA79C\n",
       "2HOFYE9czs231BVFnAQnlN6e1KYXSvsBUMJqzVU7kXBS4O4bRqWw8iCVt9t4e7LfJ1cB/oLnXz25\n",
       "z4UC91KtEfAssbub01G49iWgW1OC9VTCeKHzbs8XAZ1Q7x/1Vw0pfJapECxnix9Bh5igySp8aFEm\n",
       "oFmaYwyy87jnGaLK9hsw8/aVCGD35g0YJ06YE+33cVzvvYyYLXhrw7RwA4QiPra7NYkBqXc+1CZT\n",
       "A2Xdvpw2SUQQHHGWfOv70QdoOkl8tlo7eDtHrcexqbsMecK7wYMtRizoKk0MV/EYZOMKCSF+AMLI\n",
       "QOxX4lAN8uc+lPRNgcjhUrUrlF7CVD/Cx4F93rkTqW8Z7sRBvZUvVXP9zbueESisu/7vEFz3+OKL\n",
       "qWPDsTR2ukHwEj2dC+ThjDTT06tPxPY4HRhGXqcI5YjbbMtq/sI/mUcjNyKAzs4oeQkdlSXN6J9I\n",
       "RVWg4HVyBWDLakCKDpicSxT9L7MysN7/mWdcMLEi8rmLjs+Rux1dWr3Ui1V/af6rjJlbYKqIJ9Jx\n",
       "gYw+ZLjKKsFuYLChbtdBxIucTKWWFCirlttwi//8Rh9L2aO/rQbdGdZOq440eZtouWv4nRY3iFfQ\n",
       "UtW/ODHUpkdRFYDEMMGAAAACnUGeoEURLC//AZXnTrJ0WqGQbmzb6OeVTDQ9CdLeBm2KHZXN6ll8\n",
       "uIYPAF3qAD0tFEZk3No4oQY5og5XVXXsUg/l71MX6fUMXJ6CKridHLoWKV3xo0pz38/eZbFSN8Xk\n",
       "Fg9XKKvU8TPJrJhsVyLbKQ86hzUE5ELM4m1IGfqKQ3rotjU9Q2Decjo3f77o/Y6iWWL7B+mD4rWq\n",
       "ASwlZmWOYRBcNydpmgVzAAsS47NEQdxr/WLeuRTqqn0Mg1enrq7ooxrkaFWZctHNDZmnezEl/Y7e\n",
       "bufAMv3PbbGBS03bbwHxY9DWflgeVyrMEtdfZeapwBDjOgl3ZExJFIYDbx7rEik+vNNJ2joTTGzd\n",
       "kArjOlS4YWwtng3PFQqnPzgdtWKC2nh04iNp+kW9NE3GeSMPp35aWs5KFGQcvponSbYSaaXYRTAB\n",
       "0wq0znZFx5t+PEMV0feJx6xurhz0ZoocGyGpc4VmaHKZtUqwh1fI0NIXnN4xlZOiuU6W/MNB/5ri\n",
       "vezSqiask9cAX8TU3OCicu6/2m2X8IDuoHyPwi4FlYH+aOUslN+sH2PBiWF4vXgl4UNDoNmEazAv\n",
       "8DprDBMGt0duzn1M7xcWdzvl/AqFa2B7KUndQ1u3+7R323Q0uiPysLHH5YE6b3Ug1iBZ04wtmg1c\n",
       "uzGXF6qOJwRPSXbIWFGG1pqW84I8EDMTuzopp3+BFWcB1T0IYTfQrzFGze5+S4/X3V8/uZCaPV4X\n",
       "httN8hr/RvZQn6a73BKkg16GxrkRdLbAyLDpELZzaPpE7QV3ubf8Nrbx3vZhZ+1X8OxFfdnbW2xJ\n",
       "leJ1XKJLyRCq0NwHUatCGHuu4Q5NIqA9OAh/IgD0LH6Uyg9EbeWkH+wlEM+gvj2IDYMFkKC7ZQIc\n",
       "piS/gQAAAdoBnt90Qr8AfFo0atdKaDvvOgFOkwfLMlCxbnUXjZLhSUMyH/LLmcQgA8C+W7CIITr1\n",
       "LRC2RN+Obdo5mh2ZuRXIOoHXZuIMf6NcGlMQSFlIIlVXL9ySRYUZkir+EOeab1vxmeitxlOPbQfI\n",
       "5oLVo4cim6o+XbqVmfgoeGVeuyTMHE6zS8vXDs4dq0Kg9B/n+m7sT42VNOAxeq9ZFojNVwHvYSeY\n",
       "aaig9yShP42/N9B43XU5iNgji1Zw9TnyFoN9DRA5qLVrIYSqQ4qMN/vajDgO2CXGfuoanTuQnxCb\n",
       "QlBqtXap19iVKIdgOwGlBc0E1JAxqLW/Za997RUVFwEjX4+1YwN7dcmcb8JLtHIMnV7RgYm8aXnX\n",
       "0KFoJ2C9c+04lkLeILJ/3jkaRiNW+fg6Rat0ONSn2wG/3vTfkEWiU2g8srJQYDa8jsQtKttTQ9wU\n",
       "/6FvNarnKK8Z/MpjGfmgcZ6DHKfVXddf7WGlpFVefY/JNuo0ZwtyWa1wGNFehkqV53E+4yr9jif0\n",
       "13QtOa9kGC/cVoEm8ycFBXjPy4cy20YfBdQhnXKiXaJcjX0rjwXp70T+8eXjMTrl4QLBx8hbi9Hs\n",
       "Ol6hKlcY4yY26vvdjMiJhvLgcEVolsb872wAAAILAZ7BakK/ACa2RSiAFna+b+bUu6i4GqVqS8ro\n",
       "6fEKWRsmqtm5OQG2f+Dwn6aibN5bc0hDHMgvaJyKYbc78wJbQIeFv3jaQgu/GoRkx6gdADuDkqmo\n",
       "+aI1876QQVJyUMAPFwnR44IZRDut8i2xaVX7QF6PQHyMeVqpi9wsiWCvyeAyYxq1n0ciF4EIejmb\n",
       "FltaitR3R0BWtSAaevHQrkCp7fh1sgK1iwpZqfik32exnGF6uz1DkZGI8PIvP+Gh+KenUzIacYqt\n",
       "gfPKdJcMnPuMAAjIlaBkMdA40v+XRcRA0jcbq68Z6d2vcUim0llPBekPuBijEsz7SmaYFsGMvTxr\n",
       "rgIqjB1kTAxP6qSoEj4gtRcSjkc3Udfec9UHoS38e/7wIuAtGK/bNb726iJjAmGhvRwPrFTlq8TF\n",
       "LnIKF+Nuuc25r2lEmfOrt4IRPCO7aLJIBd4MV9YHr5+Umt3qHJcpJR3d80JI37XD63r8kiiwJsgv\n",
       "4YHI1VKUneENPTnblYsZ99yFzETD4CDk7dya2yQrGxGwJp7M94Q48O5xbc/ZnB/Ocdow+/OinkOB\n",
       "jHBEs0hnTHr5WwckQXbQMnPWvu9MRzW9fBe2XPIQLlxDQf2b+Qc0nqeUzPU50WyWB3UXwgI3zgTc\n",
       "VBSXdC1kgeHYqtkuTWY43a788/AMVp/hlx8C/q1DTkvmIht+O396pQAABYNBmsVJqEFsmUwIb//+\n",
       "p4QA1rpx0TEAJkRkZnk7YNttjSVz17wrOUUl9Ma9u41u6fR2xIt2Wgn5vIyL8n1awXLohVn6d+RC\n",
       "FR2g11oX0t71+AyrMVDkyjTMaxX0UDNc0LhvqvQfdHp+mP+lxrn8yo/X2BRsSTBCXaUlZqqa2GRZ\n",
       "FiG6LckxxcU2mBivtfhz6BBFTp6IGNR7wCUH8L52NpOp7UU10RoI8w68UsXDtCo8tCHfDqROgE59\n",
       "jKC/IpudOaSpgGzwYday0SMxtd7Rj9z8TALlIW3GQrMsG1H/53Q+n1aFGhYFNiVO+KlHZCBD0a2m\n",
       "wjIImZ7dD5WUCmuZ6OcAtMrE+EXMa9k+Cu+rIottQLw/s6Qq+3PIaYjXEGnCoIbXnXGdr3H2EvRs\n",
       "ion4vC7EKszqhjA8db0j0HFZCwYPmSJOt3vT1NZbHq3u9qZo00rCPK4U1fwrPOtRS8ffloMihJuO\n",
       "SMwrOo/rU0MzpSZNQft6O+HZ0i+WxkoUWSGR8PqVG1wqiORZ4SnPKPAh1rdaDC2ZD2tiBQAZMLrw\n",
       "DSZ59SDBERBgbx9kWdmcwmUFhqgancFChDZI14H/2ZPbI1xcsPRPmhw8FGqVwTvbkkx+uO4SDKmt\n",
       "GBawSewQJ0Hyyef1TCzAj4HmQprnbjjvW8Sfekx9pBsBDC208u/vSG3HSsyQ9DVv09B+1oIvOOZM\n",
       "uIj8xbLekNo4KD/vmoB72f2cdH2hiCCILGCAeOOh+E+0wdglE+6fPg40Tynr18C9mZtpEcWqUHEH\n",
       "5K0BB2TaG/K/P080D4tCE/ZnR6CvbeolXHrlkZUvcZL8yuMl7WTTRZ/qQAPdLJRWls0VfMz32vEg\n",
       "EYp5dbgspfl/9bWn3Et6RJFyJ55g55KXG1xwND/C+eYWj2eQUTO6tqLnTcg37qcn9sosnAJHJ3ui\n",
       "lbCoijFvaNhntXIMf2FbccDch3eiT69T0NCbXBVvj+QMHGl1+mUkT1Gan5Yub5w39EVnlPXQayVO\n",
       "zviIrEbypD89EQWw3PU2z0pjs3zGPEoKy2TlhJrmEFY50osxG9oxhCcwa6AwtVPGpyBd/TMm3iN/\n",
       "jhquiuGislGWUEa0AzRF61k7ZKmC7QGnPDiEH1cEJXwaupRnbFT0dWsX3+eEvCUbylwh1tx3nl5R\n",
       "KNTjkATjn9hUVZSNS+IXHNt6j1ZLGd5zDDD46YwgkCGVUY4MBQH+oY3JyAVJjThEYXMtWoe57UFg\n",
       "MvJV2pngSDC9tZFGXlG03KHNwY5N27FA56agGR/qE5smr0q7YO9bF9ZvziGDH9seghsNVoXRlNLh\n",
       "+4d+ukbGfu+iWhbuk16OglWW52vaFC9ztjFEF/ePUdB4FZoauLVyR5YNOM3NxarkxWG4z8UQOItx\n",
       "HLpkTGKUdG4fYB8rTEnR2QZi2qWBd+5jaV0mp3zhf0qLB1x9uRURN5ub8wEAkBXl+/MTX2OwDSfq\n",
       "pVV//6CqI9MfzfU41YW3Dd0VLIUpiHnLNZi7uhvw7+bVUFB99YVI5GyZ5euXGS5FNaIS8dGM42Mg\n",
       "NcdkTuPcH9RZo9KBbGDfC9tjhNE49uPIwfYxIjJg5TfODOez7A0K8/BQXpFdxgzMzs+FNH5Tc/vq\n",
       "deRaeYpbI3wa+hFF0qGeNJJJJl6bAahEitpiA2M1xEw+XJIL/0UAInO2bgIzqNGxUnvv0eDVMM6R\n",
       "dW7fGcgqPG20AmV9sp/ormXJh5aooy+yjXh53hd15kjTpEhwmv3cTt6Wwfsg/X6zzp44UDRBg0Ho\n",
       "vhXqvOma5Etwo9GkRLcGtmEm/GQZPW4B5FIAZ4e7YymKt+PwkD5n+/GdOH8PjpuDV9R9W/BIJEtj\n",
       "jFM3uyn1TA2Jdva/n2WfZlnPKLot77Ypmg0Aq6ecAAACakGe40UVLCv/Ah9hzRsE+dzPl/sJnkiA\n",
       "AWYPxwjahYjZiMqLUc2OZVcOcZXH5MKDv9pUEU7C6t/lXdRyPdLMG2nzewQ4gPaUqho+qg9mIDoC\n",
       "riXCl91y6l6skgYI/XEhmYf/zUBrNaHg2/3i2e2hNbxyuEURLQIxZuXbbIEMExPnBW9nctWGyMob\n",
       "Z0CK/0xmbC7IwSfj/HyuFwnTgTT2dutR/V199QZYwmzDLLLmXYr4BUvyHCwDPgDMJHiOxKTvdDcr\n",
       "1UXq9Ynp0KoFr0A0RhQq750VtVEcIJcN4qpmTl7MrSeHASgAyduuMVmubm6D6dU+SXB7NqAajShU\n",
       "Qs4KzTN2xhB+X5WmwuqKYHnQ6/qbsL0tRZisimr5dOM17N/BCEULGreSA5ib3o5X2NWugwnWAx+J\n",
       "gqYBHaaBB9oIQq5yjDxHadpjvBoKwK98u9ZTMWf+Iax3USGZ8S6rg0vnLIRZYhPvPiw40WEQweGr\n",
       "fXPfWjdAzJG8rxK1Qnx+4sCXzWfls6ZoWAoIlQZN5ATn5XU+fl787D07QnCKdOcA/K5JVOPfEGq0\n",
       "vQTMifZtHRgLWuP41BoNNgVJSDqflj22oi/k/VH1Dh/YwaZi7CHQmnGnll4SkWlZ4kcnTuCrwwGw\n",
       "pEE7aezx8EaFC49/W35lo/d5LVERH8LUp2w+oo5C/iulqAy8qVWzguilEnF+DnqrtOAFSOfu/Mgk\n",
       "0M1AxfVv2lCUfHRufaMDTyE6AdtfhyUeUFVrT9ztGRN73hEC3x0Vgbdbi0FMR56QEmf+K058aYl4\n",
       "bsi+32m5k03Mp9JyVUJIa+tFAduG8vPkKQAAAhEBnwRqQr8Ao7Vy8IrPw5GQ/+SUxS0OGn4ccm52\n",
       "hgSzsXp9CRvyea6Ds5rKCRTVNG4fJlFJ+wGq3dKO/iQIkjhzUafFv8OFVvxyhyYFMo/9MI88ZSLN\n",
       "jr/FKiGnCLtGR+qPqol0Y1d7gAIVipS9WZjzpODpwqpJLh7G9b1wddBPSJpnPafCBSfwPWxN9RrX\n",
       "fEaxouOpQXt6H8NQRxW3g1eZ8hGrhG9z/t3NYMWt+IpeU815juqYsEzdcuoqM3jq8G4SpGLI3sV/\n",
       "1ZHbOCFDDZ2zt0JZniNgP/DXlWO//IFWBpX7xrJbf+SMbwqTbMy4urbXU2Y/qvODstznRzD3lbk/\n",
       "cUhXUV0iv0pS6tQLuB3vSCmmUYWfNAzllc1ug9ETXmiZ9E83NGI5FGp+iK7sFC6ZKfJFwaKub8fs\n",
       "JvpD4J3dbrCWwhoQocdZ392UqVDCSlF2nCvdYSzZGGjxYVCqHK1vvWlSuq36hynnkMzzn9edK+3i\n",
       "+OeAm+TlZ0YkmVKC0+V8WjHpGV6A18CXLuPXLgCJ2aoFqNjta1cDFmVSbOfjYNv7J1txIrTECt4P\n",
       "/Ov2G3/nWJMrntiPzHNb9AVH3WYKrJIufKwhuVcedTPJvBxy52b4M42esX1BY7JKpNXlNYo+jXiE\n",
       "/sAeV5QQjDVY1lRKuforiCOQ6g4uQIE1T24ahL2WkYWZ5w5I/i7RwH8OscihAAAFDkGbBkmoQWyZ\n",
       "TAhv//6nhACWksb2YQ9BYA997dJuiUQD1fQmzq4VCsGhUSA0ggQlKhoUh6R9z2haDPhgqmXtm7Za\n",
       "nkWeKXSWc8tFvzO3qNnsUvlDHQx6Sz6Oh2JahLgmn0j6MtVToojrBHITQ1w+WIgMw2G+tJh28ZBb\n",
       "SkCoAtc4W9sA1rYz+HTyoEfXKajil3jrDrb9EDLryD7e8NoePUqokUdqKhic3Cuad3DGVo4yX8sx\n",
       "2QsQ5wTEMg2KBjgIxZuTVH0YPndhBeOiGekMvbO9EkfkNZcFGlWEsLpnIq1vhxrtsyMgovtfn42q\n",
       "qfRanDgLH0ITsDDNoFuBjeRQlhk4ToiJWtTdsQCbEX/LdG1f9AcUSZf5qEmFylFTQONPRyaiZIQu\n",
       "e2C31UgW6VMSLnMUaPxVFyarNl7f9B6VX+yM6eQRa/I2vpUBjBqigvFWySGtZ8fWYyoG92uxSyqx\n",
       "PFtY4/mDMXz/RVqrKthz1OFA4bKq6QLjZ31HOJluGST4I3bH0rkf0EhgfTt+xJDkuy5f2bdbVRsD\n",
       "foGOgE7EAJt8q/Gve+WYATlvxcVjnESmdMqMEwH+X4huTxxeXiTYggQ/n9Yek6Oz+wo7mEkiD8Fv\n",
       "eksiwLfw0AEfxvVKviHnxaq1yAVZt+41tyCYgB2fZsHc1yKdxRF8XNzaHgObBxRVWMkR4aCGw9Eo\n",
       "c5rIf8qLgfwrs5Hm+X1pP9Bo+FijKj+z2+E3qK8hBG9EUjkQhstkLY9kwGFvmyAR/kH2cxcGiqF/\n",
       "xGn5fP8beQJ3Cnfv3ExacUBkc+u7owg+UNOjzdZEkMX8NiVFRWiym88zyu+wKLoKYPHSYlKO6tZ5\n",
       "edc/v5ve6/571NK7S7EYz/4+/ssz4FCdtkxIKVJJFnY8rI7miknkXtU97Hw69Ia994VkDQc3cT7r\n",
       "bKa7Y0ZSsx2oAyZ7yFBP2QYTMuqp9ycGbKoprNF6JpCEGDDV4LtcBkEbC2RFvQS5kGsJrJ4iY48G\n",
       "I0SC+uCdZ/7FhJPI37CH+JW+974yDICbf33UwJEeKoRG9s1WLQopVSX6psWc8zc5+2NhCX4W5qv0\n",
       "mPTA6ChzNVIYygK04qM13OxGJ1O/UrimBQk7z/3+xJfwXPomDkrLoexAPM2EVn5Rrn3zSzWa5vVy\n",
       "uBxDnYkGM+vmc75RXmL/thHEu9GTAyr76Lzm+BdwRPmgCBresCZjSErnhGgdtRP+9cHLXjmEU2nm\n",
       "RqGlEzzM6ALP7uNXH3rjoWfET2hNmKkpi87vH11eZVd+A2w5ABOP70T1/ATp1IIWrMu9km1jehpO\n",
       "oVi4Y7layighvpYpVGYrTB7zoNncoZqQz5XwnzCmtzBH9ZZqrkXcWFcMFO7wzUeSjmhfoj/5N1Cg\n",
       "G0ToKHQKAP+o/miThRgSPqVUhOV6lO6bqzv4gkUDQaRBlSSri6yZlEjjue2Bq7umDUdseI1cvrEz\n",
       "Ov+Ac7WmyhfOZ4z5KTTsSgCqTvwmW0lvsP/Fyoy0W+02B51DZMB0Ejs8EX/pRx2N5Xt3Y0mN2gHe\n",
       "RcV+P+xnr4f5D1mhAqrO/eu153FEuvAvYSm9hFxJOJxYrLglrO/g7/mfLjABaVd9Y+OHno2n4t5q\n",
       "+J7qqq/xaL6wYRmtbBVoxu9L5W7Rj16v00LGPyjrPK03tFyCAcWY/atoGUyCbOvhjrAVanKz7Kh8\n",
       "YC4r3hvn5dZizHBTHQv3xQGUPioGte0n9asRGBWjRnEAAAeSQZspSeEKUmUwIZ/+nhADW277sv/V\n",
       "s1sW3Vh1y74AgQahwxpeMKJU/7oZA9sRPUQEfAUTjAVrjujM76ehXEMJsEV9BtTRMfMP9IakJpGC\n",
       "1UUIzwzdMFalM6oY8k7qEWPA0jMzhuSHN8K/tvSaQYtMgtZs8xR25tLm6vwzwj3RlTL2j4oVDPrv\n",
       "XvhfNtTl8SKEjL+eTd4vFMZ3hNJfi1kizmyMoefyCBeLkcEOOuzOitPwD+N3coPxj3iaKHARaFYU\n",
       "IbTx/aL9xoX6XORtYJYmjZ/wQu+RiA40I3wYHg4rBlWEgTvHMiWVf/5YEltyXwkQOseFUphC2unF\n",
       "qx5CNuAhxuhXjcFhnYUjxhh0OtAt8EYX3BSR1o2HDhCQdN4cSEl9pIoDFe5A6EfuvXFspSZlyQhU\n",
       "RPW0hr3i0EShT82J0yXaT4ziJCZXkpHLK1wmLeBH9PIiVwKTuG2jPyOHt1Ixo+kRhbqvLyUv9aVE\n",
       "frXSBNBsDN5Y2Zg4LtsxcdRXWFDVvSL001J5mGwMKl7HrwMfb+C2xLiTHi+qGdbSkTNl9p99yqkI\n",
       "4OR6o8gg/IKhxygqRYNuncyBOHkhj6YXFdOZgzCH7GGHDeMEXVb7PG9RgdVEKJZnabbfwbdP7iwH\n",
       "hbXTuwiQNm2MbBMQXCoUze64I6iEQ5C5In1lksar6SwVrkZdv7oI5z7Pb8SIhE8L6vj+/sUaiBYH\n",
       "A/vRnFquHyT+WsX9WmCMm19vgu3oWrg5rKGs5YfdEgkBcUZcI5tUDBv/g+c2HW3yZW/XApIirbA/\n",
       "2IZ6b9fpWUa4JjFCBz47pUFTpF8MSSjWutx68Jme71aKZCFmPLmfc+5tM22PqTr7v1zKBtwOpsjq\n",
       "WY2pzredXbSIMpimecTJoatSfJvNt6itqAQd58aQXQKwfD47E9NO/ncQHndwHf3inEwiDqTXmfQP\n",
       "eAIsPYKPhY+/+kIC4qEGqLrCmiJvNWkbMq8VPRq+nWwzePyDLrezlcCgDGlCpDaFZl74EOGvEtzP\n",
       "Fnaox1GGrYTjHWBEaBmPXN3KTqcLogEijeAMhmuWBC8/UwqpKEQEeuO9RoqfLWaObbKSVUqD8FEo\n",
       "5D34Gg/GlNBT4OABBJkj0aVAowaO29plNaTJ4AQCHfL+ntOLG26dEUlQExe8GLfM1Ay4mGtgj7Zk\n",
       "ZyDNuG+yQXaKkc9MtL3I/lgqDsVjjiI1V0kE57mJ6gUtZYm7kscCx9VP0xAh6TOrnxC6TBFgV49r\n",
       "DtqIvbWlWJCvzDhAwewEp4jy+9Aw9NGu6awhng19jNdBsvxmXPGwuGUdFYfjhr+qFD/xfRBVtvkx\n",
       "Cl3k3L5sQhmMeCukMkT5/3ulmNHQACAiqtdqp/d5S0F+HAKojgOIgn3gpSyeLVjnwYqPS/0sU+Zq\n",
       "3gSgu0IKZNsniP2RD55H3BOOerDozpo9S3TtghAq1UxcAoWOm4XYrQKu86Jd/KhFGCv8ZjBjoMjT\n",
       "Ovn1iYwrqM5sRGy6JqFDbyeOeDBfIEpJ7p6uE6MOPh7aDLyWSsIllMIEM8rMtllclG/uPwnchjlm\n",
       "8no3n6RP8WYzGBcbhu/L53NWPAw55kWZteMny5PTLyvD89rEFKX7KliQqiHKK+Uhge6FSLclaB8K\n",
       "JQaTi6xt/kNRtbMztWyKBpVYaLsXUf6C/8JF9X0QH7PDW8QulyXjscLd30TyDO0ydxGyG35wFBa1\n",
       "v5U1+s0pk2wgwXy5WHZpC/QheQXPOSoHdmbu7F4bC7Rk3d4LzmZD2itL2NmSAj/+aV5PsBtapfCS\n",
       "+evyKkZcoOkOrtyFd+SdDaflpeMGcE8cjEmpuNpFQTkXZEk1f3yHgq7Ym9xb7vE5hLvgEWL6Uc8A\n",
       "Lghej/PhAudtmppsc2vjrzBGFRgvW8p6ogzTy1cusA7EeU63Wz/5DUWRBb4yN1sJPbjw5r+FQ1e/\n",
       "3E96We0mhy5PImUAqFsVC+aUdNyjJe8z7i2oG2cqGoYqup6P76vzfBlfHDVi8e63XcECxeI02vKt\n",
       "053RX8CY9ZqSsI5ORr2UnDB4BVPI2ndycEVCBbw8y4IJQE+Hz2Vgr+mmUB9ndZ7/XnrFQd/ehwOw\n",
       "SpWpgNTh7Mc4sSNxVgS4YVEfPX+vZKWLeSJExvQIqivxEHWytpBaOrj0zqBaYC0/GJClKW1UOtGx\n",
       "MVLKkgJKhnG/oUAAz08ajH7L/me+KfCfq7SkcRMNGQIvzoevk6hl8nhcu6/acqtAzuwYzTG2rXgR\n",
       "Sp+T/+3QMnoJ+fFmlJo+HIhcNhP/sffRDJ8TQlIH+IYcXb7i3AvgF7vyvwYyTLv4XQftrbn6p/KJ\n",
       "4kuQHi2rl7L7/u1ldNP8rTVcIcUovKQQZ5u40Dw+kER5JhRXXz3L9iq01zGgzNnzS8Do5+UN1/qA\n",
       "DoC2SWW1prZo2bxVvtH3D7AOSYJwSVZze35n2uRcpag32br3o5BluJ3dEY0Ds+33mxChcbvl75w0\n",
       "NUy4k4OHupOJbQYyeSETkzf1GiGmpIL2tITyiOgdqjLAgjQg0Jt/fiLsAtPqfxCDFg19Ra/otJK5\n",
       "ln6gIDTXjxqqGFUwoUgVFwtjweyct5So56ebHAdfyCqdRSnRAAACokGfR0U0TCv/Ah8mTQMWtZVp\n",
       "jASw3mPeORo15iz6hpRWrRYAjAK8BgpT36ZlCD1TqaaZiOMOY7UQ/8aevXal75M6285wnGIU0nlx\n",
       "CaTvfJXk9Iob8EEvDqbCE2rv5eCxmO3Wqlw/CVdI5bKsb+63fDw//HCH2woDzdSFUgMah7gcblC1\n",
       "UAupN1n58vkOfApV0DvxtgDboNSs45fxtHyrVE4LsBz/D6owU9UuOGA9L5sdLUbMOXIqBd93UBOw\n",
       "OvSCb5NejhnfrMfJxDSZ1x7qvHTmxinckTFDqGLqgdJqE6QHlqmlV4De7CufJ0GOV0GQpZN5Y6zn\n",
       "//KGZnbyDHjw2Nlx7BiANwwPIAzUM+j87NOin0RocxT7hCCmGqfwN5kmWDQDf20PllX72Ich+jc0\n",
       "vUTFkOtFWRL2fF0FyYGWpEvrRHpkOQlKWDpvdLLd09i5o0MCQTY1pd2Y085/Id6zBOeu7eET9Bvi\n",
       "2juYB4+8TQL8rP5z2YLjOWhkNUGk+ykchZeIVW5iP6H8v1e/k0E8jWLO5FAwQB9P85rV8ACDsAa5\n",
       "Q9lC5Q6ZesoIEvC01h0RLVynURK1eamls7iOS+EogeySC8lFOgYI5nfTf5PvDBa9pKsxlZzED5Um\n",
       "pDhMxCI5A3DP5+INQuX3+8ikRTB/KE5TKOEAARxyPvV+EOZAMBGDCxtJUOMbHn76xRpU4c1A3NqS\n",
       "2MfCmx5rgfmHe3obWxsGQdKwJDzPUUGfscg0WPF9XrIBZjU5O8Gp660NpHBbWtS9jibH6568Fll3\n",
       "By96KxY43HqlntiQ0gV+7EsjYwoBoGVtI7Z+SKYJ3uCWT2g9iwCKrvT9E22viNEyNaURQhejSnwq\n",
       "dlrHL90ezj1myVbqFbnNkdwkGPFFnkOMAlgP72H5AAABqgGfaGpCvwCxV7Zz91B0pslqMsB2M4YR\n",
       "oIR7KOGgFVucHArcbrmFDJU11VFeE/k8exSa/T8EG/ukgvQPG3Yj4czvfoa1wtCltS6iOlLhGnq9\n",
       "v+QAQpi9IJ0KWwTXacKVpH0AzCJf9e9y91Z8+jI+VNVcuLO1Yr3tb2f2+PXd+HSPcz584eYFiPsB\n",
       "85DgfgU0PD6iJSFxhe4uUp4l+xMFNs1TymdHPJbX+vOwe24JCvxQd+YYPT+RWva0eCwPDGnQ7ioe\n",
       "Uc+jmkjkoqJjuE7DWjol74hYYKgIIFpyQC/6c3TG6JQXXDNZqN8h0MXvgFqtNxev9wAopZv8zC1v\n",
       "9GWpPXXBQQTMpYw3HCgYAJ4hwTFY50wxyeVlPlKcXQcH9Yj0k8qMsta/reZtiA383SH10cCScmIB\n",
       "J0RfUOvoFFfWZjvOiZTaBLVC98rA1nrANSomFes8oSsQpVimxT6UrbOLKHTA24czjk+2Z6+2qo9o\n",
       "EWOdpV/Ealuh67fZk4WZEXuVHPESD/8EV8Avu60A+KquVbjoGmS/Rc0p13daWR8+tsJHEf9/Hxa4\n",
       "ITYE4AAABJdBm2pJqEFomUwIb//+p4QA3Np6gPwIMABc0yv/BI3iNzHjlZi2g0ME+8JGS0b+kCRU\n",
       "VyccJ895FSIPZXmARE1Bs/kcmgs8+Cie3SW+pDdcGKgTDGO6cIotNgNVOQtFaI0pfcAWRxc54fts\n",
       "6+nSGJ4MZUJYqljgPZUNs9XVr/Vj/yFZ2TO5kT+B7c2FDSk++ZNHMssad9ztmivyt6jeaefgYgdc\n",
       "8A4PYfcSbVbC4vpEKoGzttgj+mCL9hzXv2Vso94mRPnt95L8x1NFS37bQHhEoUFjWI4FXi6RN1pn\n",
       "qwCyVlpDDNWcSkwFoXflGQ6EzsieNzJwv3bieN7dlqR1FZN+fcs9VMWcvjP5etbmhplVmDoUGuDa\n",
       "A2KrhpBoHzTcrJiyqljofWWHkhb7n9LMbil9Bk5F5cAu1FCPmxkk0rtHyD3DNJEJ1I1F+e9dxPC9\n",
       "UAnTYgjyWWZ7DNardkSGM0TRu/cIB9eurWEUpHL7Nz8mMG45ef5a0eR+JHysZ8kU2vzaKHOQncr9\n",
       "KxZoZqyGyRlQwoTUlTGRLkJsAsrQ0I8VLQtj9PZR7WAwGcH09HfFyEs5DxqiVBAxay5uMyvoEdFP\n",
       "Bd57q7dVlBTiP20jANayM1dSxlQ6eI6OKnthq7fcWoX1HAtUMwb0KDhVadkGJkWVypNI5aBeOJod\n",
       "Oh4VXBfiOaJCkzUAstDPOKrijnALPl4faIkyPBzmXlom2W69y+K6i3ilkXm5PzI+tKm3Mkkth4ig\n",
       "23JqvCayQEFRVgkBnJ+DlwTZ7Syh0MDHRfv8le0P8RJSrfukJ8rMCzGuhOv5d0aARiRksmMAOiA/\n",
       "9LuSOcnmhsN/K0tjAUiGYG02w2pcWRSgahd30M5lZX4Q8ASA8Q0/1DvFH/yRDIap7ITGOaHJbo4O\n",
       "VKiSLQrtm69YdNTXPknCnq05eu6vrVyv6TMQ9Bsi5KCAVWicYnVlNxUok/0EFBuP89lFxwtIF5JI\n",
       "YLnQZYrTUCrnVKMh642kzjAl9JesyHeiyW3uPd+GLvYhPFc6IzsRkzi4v9hD7H4ID9A8+ELq9rYq\n",
       "73wMrXu+FHAnxytv3+AsT68Dy83aKI29zv9Zip2rt0E7LqHYywOUJlliGTCtTi01RgPeu0HKxfmS\n",
       "xlUn36mj3UxFgj7xs/9vbThWRKrZfE+pj9630xHgYsOo88aew70X4YUkyD4eTkXMSPsBgbMJJjlq\n",
       "h0Wm2/jW0XIxkkOX209gRuNIEPF/CY3LUEG34Z69/7g4uYRmdCC7UNGzNnl15GO1nLvFHvWohguV\n",
       "AE3cFCmUEyuCe7ayXv2iO4Us0nwxv6IcrNZnr75I4XE9ygCDXZqjyBtu8WrQ6jV2rnDOqBdrJtIo\n",
       "Jq5SldrZjmyPjTHg2lgQSNN4neIdBXXwDArgi2HdPE3niBHIMBwW40211onSqQhuVX2agqxVh4EF\n",
       "IcNGVTgqCgD+Z8n26oNdOyVmOlpXiMD9FwvnvldeYobjf/RdqE/+bv8p5236zxiT0sKNnunDzTgO\n",
       "xnn7V2i5nQtCdoJLui1U+tHbDOAF+z/tRWTwBFDV6n5nqlr4TouPD6kdQQAABatBm4xJ4QpSZTBR\n",
       "EsM//p4QA1r4poBRkuKm1G9z9WFyhU69RVvtpL+MFHTaWhNEyvYyz+YxADhjnFi2Cw1ePXPmvoRY\n",
       "VWcHk/++oneUD6NERi8e7PwQUkNsd8zUxkW2QywuU5l7LNKWEB4daHejfrcAG7MPjHwR6qvjXn46\n",
       "pDRcQA9HuiCreStRLsXLcnVfcKyXWNLXJ52FrBADbVKF9rcd4TQ4o2ZzMIhI+yKtb6JgqdIxWbZR\n",
       "N/GP2jfsvtHQMJAToMzy/kPFgjOoLZf2Gj2wWFV/QE6VDTIRA9nHtOFr/JmtVVJHPd/c9Q31s862\n",
       "uLRIMPPjzFQ4/EITAp6yf8sNFi1OMwR2Ca0YKlZ8OJ07av5m1PnJY+Xc217bBheQG3lHq8j1ke0L\n",
       "Glb7Zx7lPohGNmWon1+/5cHABlr0i09c+ygrkUKL6yJ0z7z1Hh7hsy3VtHeyjU3VW2loZuvsyRdC\n",
       "9xG+dlX+0GNd1wqM5RWF5mPF8XGoFOxWqEI7pCHy34i72UA/kO98VZoYfp2lKEffjqn7rTKDl0Su\n",
       "tw2bQ7MrsPr//FLRM7+js7i55Dj7PJyYnR12JQCjn/yNHG3ugdx8rz7FSWQzLRDl+9rPpJgPUYcu\n",
       "/2fbC2h3nx6YZfpSHEFNK3m4DDZbT+uwIXsnlqA7xVClxLhU5RBuzW3o9Uri1rZtS1/q69dUeg44\n",
       "66LVL0H700XRR7wAo1MSHWdZpc2AessgutwDAR8/hZqqJi3zADQkpv+FyatYLj7HPXIQaBnSEQaW\n",
       "DQRz4+GgBj3xSLlP/zdbXA02/EFnMBv8ZfYXH920mF6CrtvHdILjkVywBZIadzU0YD3quZD/tqIw\n",
       "LLPbExD677LcQei+E7WVyROKRGEatufTZaRLQQ5zFVZQf89GfBPeYLEhXn5nboKZh4WY1jZ3zYAk\n",
       "OxsIDeHGOxhV2aN6y9EoJuKJPcdq8SXcC1Y0kVHliqDJZ73TVRLrT6O99luV/8b4Jn8ruihnzPVL\n",
       "ZC4Da8sLsZEbzLnEvJI3RLYIxqc8+keWu8KlPpjrncddZS4kWqsYcAXSaW50ZIRYDy+PdQn7FNUQ\n",
       "jv752YFYMicFf1vpAfJBw4QJK0QnalxWY00E1pkuXlUQJkHai7+pfM//qqPsmuGYyS/n0bQ5ejg8\n",
       "Zg8TjKc7HpE4QiYrJ3sVCE0bNDzPH/mKe5cWimBTVNoqlB1yFBAtuWfGYI6zob9xqxTSfMfY/j14\n",
       "/apcWtLdkyCNNlxI1UKYv7XcDWiEW0tpm2JpdD5anxyPUdBTUq9zBVJyese6kNl45v5z1ZTGI6MC\n",
       "Fq5pxzpSpSRFcABolUEhas97JRJOAcqceUXAobJIERcgP1JPOfT39lbXApw+EEX+NZJYP470oxaC\n",
       "62GLHNlMRYWvITFns5gXkSn0jPNI0/B8Z5Qa1HphxgOXNPovcC9H2aJ4IUnQyxI5LFO5RB9GrnJs\n",
       "X71VtMM82bcik1GMAa5uw9I2d266qvo2UjidvzC9vo55l+tE9RUF8H7jcBMQslzE4nlMVXyWhsnt\n",
       "xKo0qIMHWytPMUUy217mA0ioCWB2nh4kYk86xh7G30Ja+EYQkrm92+xXZ3PLwpjwFJgz2mfOZley\n",
       "pUbuZgccimb9LF++v7a4ENmefIN94dMKnMuKlcY0TFOweKdn/+uZy67s7E3YhFwCsQXoA6zjq456\n",
       "pDEU7uvuwpHj8PtLgCkVWhpS+91YeaaTGh2ysQv/5/uYERx4yI1SbmPGc0g7A0S09z6eHto1IoqY\n",
       "ETMeR65wPQfj4wnI01F3V0eVgT+znYQ8ApHaLMVSHzm1DKDZIz7iOGMi3lw6MadXBg0JPvDnmtyj\n",
       "nkXlC51U8NbiBk6h244/zY9uv4W+7BjC6ha7x6KyAvhb2seIOq08+cclNMacQjpyHG1uRBBEyilD\n",
       "rw4iOaQCRsc5vEp3Xy72PAAAAccBn6tqQr8CHojyHEFXeUcs06HAAHE4tg6y7rx/xEUfnP2S+1gB\n",
       "zuW3CjZvKgRLNIdwf+D8Y+RSy5734N/fmLL8jGFy2S4OaJhMglhYm6kbmM7vDG1Q4Bmd9dgYNPjw\n",
       "8zmmFDrgp3vNeXCCyhQkkvW4sHeTyO+RCpaiPnj0NB/SKX3FXk26SRyfiALbr3qTxozmpX2YGM+i\n",
       "A7HCr1iVsUX5pjwgtlPnP6Ey8H1OT45EEYYfCZgd8Hzs9gb0KsLqYFXDxkqIUpTWiLoDF7GEEHOt\n",
       "6+FAo9L2q1MQHPvynpxzVyhzR8jnOhXYrwIXcRkyARI1/6Z3VAP8JHUsIuj3r+XIBZPPYBMgKenx\n",
       "0drRNZwP39//wwA7TfUjgbGZUyNzB1gdaKbtuYt8ThQZv7U9B5NAlaKuuyslDo3fuLWucPPm14tK\n",
       "ElsTjn3lRPVis6NLy2+lAlKBCYPNRsyV20841GIMP3c5yJZ2ujyQlBgxaqEf/cWD+SVMt+HpYnhZ\n",
       "Gy/dvZRKv6ySwoFV83X2pj1HlE6VccSMcYCSBV8iBjlt/cB2+zITH5tW1nkHAU80NA2jfAvb8rxR\n",
       "Vzs0aK9eJIY2Rurza7ad5AiMgAAABGVBm61J4Q6JlMCG//6nhACayT6OWxqZhACcri9tOHAS5mQ+\n",
       "jPxbZA8tTSnGwK1/qfbBr++5qcvdNYeQ2zV6pTr6j+U6ud4gNEazIyKeOoPvJvpC+cXjbA4ndsTm\n",
       "zNanALdwFGPYYme2ufZyNC97csCW0jBrXhvAkRDzSXjubtGSqE6wzpR/FaoY7oSqKfj6tPW8k1yQ\n",
       "JKlUtSPP3cUhtoeIshS2Qf39wvxUjEYEHFv2+fcYdCWK7TpsHZJPimr3E1M58KX9iDNU5rCbTksD\n",
       "jYW+AcrblTHvh6KPNCvWVMYvG5QAUHKBDp8jCe6oiq+1QLv7+cq70cqdyb+VtzeDgfhyHlHP+VVC\n",
       "6+z6qkxXxPFEhG6zWfTJPlT5KjpeJnd4ArnEI7Iklx/GchV+Jnr2xsWbYK61hcLhXFdvxiNaVMGs\n",
       "+fDAuKx5fEORH093l38d9h3jox3Eg1GdZHw1RKaucW9C5TLSylKQ9YgLWQU5EPwc2X+C4n3HMU3s\n",
       "ssgMlNE0Rre+HBapWp3fehHJCwukC9dEPiIgXQonfRbu+IrLBzVvyD/NVVSZE38hpCci6kkrjCE8\n",
       "lFamRkgGljF+X/U0QXxr3vZuhjYG8pFWYtcT68uLoZtgzB44NT1Z/6/6A+gIAqNsA+7QJ6QERrog\n",
       "QaHEebiZjlQ0FeVWVziAPvJ+/pAti3VQxjtdq/ogOQN4jKeKFbHsvXpNb8K0rWWp2gmTqT2A56fR\n",
       "mvkEMDPGWYSfCrWbUWUYGYCiaCgrTpfIW4L0glIEfzxTWzCKxWSx8m58U5Kt9y1MtDwGo86wflrl\n",
       "+G6qAP8Qi7kwXf1lrD9vEf0t8pQEzgx0TAkhkySR7kXvrVuHwhukTjIFOaVJH+LF1B+UnvX1RPfz\n",
       "iykmknnNfTYBJspLfY8o8SGLcg1Jj1sUM/crVaIM4aON5Zb3Zpr4ncN/6hg7eZ4KD5MSnbchtHDb\n",
       "e4EsX/5TVlZ3baVudZlVj2uJamT2+X8ottRdne9GKdQwGiO/72TKjwfdsUmCcuoMT9ZmLlHl3eIO\n",
       "WZBsMBC2AHF1lJ8h/28RvmvMOuYxAyN2KDGfm9xyDt/he4RzByZaAwg46TF7YWkTOA+MfiNdtiYs\n",
       "yBEGIHA5by8ztSMZybD/xIecp4ybKC05DZFh8I4MNcXtUNVlxFzyH6DpcC4BnZQthiblVMBb01dT\n",
       "+VnhEMvglCgzZ+X5TXpeckEAtnxgsqk3OOTh1aApO1uQWIL3jx+D0SNMr0+rfOFT5xUdfNpgMc2N\n",
       "znvaBac81yP8GEOSDsCIiTi0lOGic54eodQh3iCU7omnbeZfOlRcWNmVxe8/gv7RhDRgtE7itVh6\n",
       "kP2cqcY1N0c8/IfBDlgUc/EUJniieMnfjmAia+nOWxU0s8RUyMu1RIMCNyfgxGypbBoWvmN+JTFC\n",
       "tl5emJqqrUXdxvcbpfYFujCeyZbfrYQqvh5GvZ+h2zvEaUdkKF/1OHJUXzPH2s6rGTrH7kPOUT2k\n",
       "01LayQ/kOcEAAATSQZvOSeEPJlMCG//+p4QA2+BaIKzCzv18AwitADj0oY9t28so8U3Zy3LRfzQg\n",
       "aj2I95T6iS44w76yZVXl9BQlLzIMgMFIih3kR80cb9CIxNLP/A/AvzoXKHy3fOF/m9ilvEPnnDx/\n",
       "EXeOetlUSJGb5JZNpBnjv1UmJNKL6K5yPmpcg/i4lPHQUmUPhWmMZH9moXK0czOmeBxnHHyiP2Mx\n",
       "HGpduXVokaIZa4lIgdssXnVu+fJgzPpvrlbWUWff1gmo5AUyad4vDmHMheK0Wiwt7vDRy6N2OoGW\n",
       "xY+YZtWMb3RAvSTGaupA6FDqHBwtOK4cSf1cXAN5dkKVsCb3HpdsnMB4G7IyyP7KptoQpggLi4wK\n",
       "VlOkUiuU9g92a8vB8HrB2isi8VtxUfHUjj+5Qhk1+VPl0CzwDbQyY+Klqvbe74fjvg3XRW9sc5tq\n",
       "1FdDAPFLkHw6wzvpBFwYiGeZvxkj8qhBOvRoDfppORg8qHFUumNHYx6G+Tp3ZePTB8V9/3UdliZc\n",
       "igga+k+jZONqebqBBXkWsrI07e4tHPZXHJbkgd5y5JeJGOOBG8GUUg+icVnGZsv9WkQi+gPi+ffW\n",
       "3H7pBakGCEeblMnPRjhMsBTeVBGN0xtXNu+w6nPRjLhhwcuczkGOYfrn1W4TCuZvMSJuaPkVhS6H\n",
       "1VzX982hbqiyIZferofVYYIPaMc1xlU/NDp53x6mpPczawFP9NWNkemw8LPQhQwDn+fo6fhKtkGB\n",
       "PqxU7C1awK3wRYUq2RCjk3pCXQOY+w4h3acAuvwAij8O0bbmyx3HcgSmSLFfDiSY18/Iysud2kRY\n",
       "QIoN2JrbbiLzu4c/Sq+CrUqRmBz8Z9jHQI7z6qdenpF3sQ11xPnSfd6yX0/oHc/yzLf0JKFzATtU\n",
       "BZ7rxa/AuOuA1Ol9dfEP2lX5jcvYPhGF4XhncMYCKzPtmbN3n+rHWSdPt721iHLotPfXpRlonx4i\n",
       "nvmLdf3xYeMsrmRzbDmXJW19H+keE/CDlkjeENvomHRnoikEcBkpQ756J0caw/EWHe7IC13hoKnY\n",
       "wfVZz7KsMUGKntky1BA/2kVYs8CJZ9fsRVlyNWw/0QEi3ZW84j+QOo1TSl4ADFWPlmhEsvcDZIY5\n",
       "uM3B9UhljPjTa87qAxhINrQdDsZr+m/TCnEZGatuIcDO31PV3yXP/uUIzFh6ju0CG7Hkh4SFHLBg\n",
       "OKg36v5eXekViBoIQSabrOe+NeUzyXrksqEPMwkmUjDHjGy2JOFlk3uwORPasU759qq4wlrCxCqp\n",
       "8amICBXFPlZex/cvn3EByo/q0P5uGuo8i1ogp52GIH1zKnOPUCMFeQjxrFnbrCtouFh5PO+xeeAZ\n",
       "maTE7NhzycLNJzTtzexWqR7oe1kgMDW5FNZHi81T2ehOf8KCd4EHITmIH573KUNU0xbEGbxXbf6u\n",
       "zF6+yxoxvqOemwhLZzVCOkFiOpQ6fl3fl1G5TEOXGTKamZvEHGXky8ibH6LZBO90S+PI5BISCh3Z\n",
       "S35TsROTK2qIhl/wL9ygtuwTgIvL6g7tIF5PQWtFGFfgGXahK7gjyjhC6DqcnNMOx6MJKHjlv8j+\n",
       "XZBRZc13/KQcTPA8pIZtB7sAxsH7mYTwjZOCzrWeKIcfDClAgSnY4Q9Kl1GRIeyZUQAABWhBm/BJ\n",
       "4Q8mUwURPDf//qeEANub/Zyw+fIhStn5lWX4UaVcAPsJhFFjXjfpi4wjs9aCN4iJFmx3cVTK0EBC\n",
       "ZQILU63HkuWORwUbeU55Yyw85J1HJfZGlFugTxkFZRDm1EGUhGFFcUtfICT7AEH3q95g+FHr5/lc\n",
       "6dbQooBSjTNKlBnvZmIGbIFvjdB0tyInB8udFsHZlEwYLoeyCIA138jtzi5VjPDFe4hOuGwylq1+\n",
       "gKuxuoIhgoCxAYLOVxEOKAVWMV4ACKdSr39tUxPEPivXnZupeIpP1ZsI8uZCNQba3A7cSl2tfn5Y\n",
       "78hTDkitt5XVLDG+U8t3vUmzAmvShdKjqVSbOUG5jx8X5hflYrqln4Z3wMfzw/htdH9cH6DvcKqN\n",
       "SYCUU8bJueOm9AZ7e/9d7VoYXM0WpATKX5zecriJFur9+v8Gvo+OIk9r6JubgYqJA60SRm9NZaMU\n",
       "WJX+so9di4cJnBGnd8+2RbPO01TfUMwb4F63OnRYoS5Mc0Y2A4W1Ja0SaVSb2a5N375qxROV3kkb\n",
       "b7Zx+aSWM4lc31YD3h2hl7dLEPgfc9+rxhy0ukntUnbY1/s6xsW7kGJq7Kz9ebr2LE/jRpIBkMk6\n",
       "SuXBp27Sq41cNR5qlumRfAjsKtGRbXQQtYmLq2E59oPxMlfD03BfDPtPcr2uxLtyZkF65K16fLDa\n",
       "AfarNnsIQjLuLq897faE7ABpyDchnVKqynf5Nu9/gx/cX1OASrEgUsCyPjP4skvoqrw2rB2Sf6Y2\n",
       "X2Ss5vxXUYnCabT0vy4y62b2s/FQUBWPu4xARlvtAKjcax1ud1RmvTt77q4fglBJQCCpgpc/9WL9\n",
       "kNDKMUttsK59EpRCN4rJ+f3ZdUdDHLm2hqyRSxvE/g1uW3V7Sjr4fBFkCZ3XiZRHPkH2x1tXVd6t\n",
       "y2BCFtjFSBlH0HDSxtk96YdfDIrLbNbJLiiS/aeilEOfsEz4RXl5fAQXk40Af8DxE2f6IBqHtrgA\n",
       "MsEmeuUZFPiRH0vll8XgMY8gyiZ53cxnx69Aa+OdMi/VbGyXXnx6SPHOS0CWuAkrf2Vq3buFBsuW\n",
       "qIWUq5Xnkg4k5dZkNi0k0/6ojNxNW4MneFfxJQHz+WPmru5/ziUu6j7/MmnL052PQDkRxlFimoA6\n",
       "+2R1oj2dI+XfJjwbZhxq6OyDl0IYigujLuUtDUVGocPtiLaDunMD9W+K8wt8cIHjmHMMwHeFSo//\n",
       "z43+gzSjDDYdr0wN1QFozJS/eLSK4/Fgs99uQDpBASbEp3d3wnSZ/gQlPvFrJNX9MQr7dtJjVrzp\n",
       "TrHA5xHhyTd8PSmgQKPDWHsKdEw12eYtHCKu3akpMWn1CFY7xaMAihbMsf7z7RGsIzx+UhF9BZpH\n",
       "hsH7qODGoZ4YKN9qS7UuycULyTC6iXqeXYlvoX+xVZQXWhzPN7ziPMMax5VUNv5u48RhMYfp85cA\n",
       "fkXMGKGxAFWo9K86yOn+HrF/AuhOfrAwJrrsCHq9jcW7I2PXxVQRo8TE3RmX+LoYGdeRh1STQY3z\n",
       "HX+lyzB9Vwb93dcvDiaM2NK0/ktkYP8BvVIy34NgSAisvmKgfljkOn3vGxN3xI19+afqZ9CV1bNd\n",
       "LoY/G/KkzNQSdsWcs/VYMF3LSRTS46EYXQ7si30hriiMLFQVxYSbXhcwJQ7p/By1+Unx5bu4DYJE\n",
       "E2Fbu5Mp1irNI5JQ4gGf+jw6VJ3U8fnc2AAJCs9wcmPJqbwh49lymh9OVTyYFVbXOU1+hXMPghRV\n",
       "u9fkqbXYaJZ4VvRBmf6GVpmyY/SK/r+Tofj3pqOep4yHQpeXG2vtIKcXziNvaVM0yeCq25NthYbs\n",
       "7uKgR/22fHLNx2x5AAABbQGeD2pCvwIeiPIcQLlSWvOqN89mB0YAAs8oQGCwXwpeA/5Zened0nTm\n",
       "I8DlNp6fZIbuCnIBh01i9ts6S39K9J+jCGlCc9MIrdqTGRDg+MjqN7tu5RTv7p32cB3urpIN3NwT\n",
       "LWKPR7Xx6pA751lNEUWPPcV/kDnQshBzTkBiCfpijcBhvmSfWsSgrl4XXu6cuvxpq1sAi9fm1KKF\n",
       "QhenpyMmLlqHRATtLWK1EsxVSpp3uzs96r+UTuoXnn6I7P2OUe8dpYe9JnX60+satH7TfCPh4BCK\n",
       "ZFemx24qCxxhgZWI+JkPmg1iUMEOk0bYKTdbURBMw1n+9iQmh8XbtRkDC42XmflbmWNK7Mlf4j7G\n",
       "JhvFiqpJYabqK3Ira7ZRcgbZlgIW2aAPp/Og5tbZ/JNepssEZ42Xby8g5kKM1eFps8LIMG0J98ZG\n",
       "zhe2qoi+fIfbW3iO8nDhhNfj8h9y569T6apLPxldoE+acST5bYiUAAAARUGaE0nhDyZTAhv//qeE\n",
       "AF0BQ0adR8AKgDN/mI/ODzxmBRzzLnPaSqkYamAOzBBGRAX/PG4/t9f3xeKZglD6OeOxcPcZ/gAA\n",
       "AadBnjFFETwr/wIeiPIcQWgGs64gCs8WuBBK/l3TM+tu9/9PwqIZosHU+uaSxB8ns38x2z4wx3YY\n",
       "fajpafYxqMkaW0I1LaGMgMiRmO49KrQDmZp2iZj8gBpW5T+g12rEBRFY4NeeNWkfrLT77UJmiNmd\n",
       "i3SAvp7uOA4L0B5ftfEEk6udXYXzEUDzPH5c1LGU99RqMI7z5CpuA/KgHnJvZTmkVMfXn1GSoPjj\n",
       "RQLL0GEUFKLIfuoDn+Bf8Zc3Yf5dcaNwj20AYmOgdihw6lMLdj+EKwpnLT6PzsBOABvTnJ0PMwK8\n",
       "2Iu/VV7qhzxbNH7a6xReub+Ud3UWVa0ZEq+TbbgQFLF/D6DPnRMbvB0p/FvkiXAnR69fs391jLRp\n",
       "vHe+comdQGGOYlBGaZow8UWiQbRLeEMVqePoYMShrMUCdEH3B+mPuaK9WiQaL7KaLLZNU3TvBAkw\n",
       "CEj0/gQ2ZqZxuIeiLyXUjUI3IHKwFMJg5aKbPmsuw0Y2giaGHydobVfDtst3fsGxrVhT+NCfeiWH\n",
       "R4xBAkJ1DsZ0lLZQ5yKLCfvLmKFHEp3Ww0EAAABDAZ5SakK/ALFYLzDXRU3ylMHcmp0B7WDKZVhp\n",
       "Ob9fke6pa0w4McDfS+kmuadkHz8gFHpCTanuFx2truCf3mqDkSA44AAABUJBmldJqEFomUwIb//+\n",
       "p4QA25rs6e4BMAZay2L6dxLJb35+HbsJ8QMhtZ6b9DkaAA13U5oAAdkLjULTih3M1fKxm8+miWQ8\n",
       "dVXcYXzl7tDlfCXO3Np0Go7msRgvlyIOf13UOAfVTzK8EnOT9fgFEYnCuqprgaO8kvU9ozehRMsb\n",
       "n4xs6C8krwjB17JwulXNMuhf5QuXvjO9lUdVZ+hk6gTnmq8Af7riXkgA+uCvcmo9GnLW7bLaBi40\n",
       "VVKYKcUR6nml+80C4UMKEp2/LEJmI4XLMma5/1HMae6L55jfLL+6mWZ/HvkDJeslpu+QzcNcyFPC\n",
       "zDZCBqtGnwBwhfL8mdorTXu6ib8C/0JlndY/VlJ4N9ZN3fnmfzkZXDVc3SaWZD9QA/3mUeqmqHrT\n",
       "FKoY/8AjWENKXGYCIqiIwO9OAWPYH1+z7sM4Pn8j9foXOzeEekZNs7JwZRXU1+G1tj7U7NRT7md4\n",
       "dXUWJNzsky/BhUdTaths6h/Op7CKRpiNcD9UJ+tQ9EQ5cjfVFZ86kzqTMRyRA6wIu2eXFMeUAavV\n",
       "rBP9D8PzeNJlD04WYDltlCKnVtWfw9ANr2YNmUGiXsTTU6rx5v93b9x+N/iDNqSG29qdeeTlvJAK\n",
       "3VLBYksOxEtKuF6R5fvM6ijaYhnjtk4ZO5AWqaw6okEEIjcy5sMcNH4ZTjOYUBZ8IomXNaQidtgY\n",
       "StZ/tT7J2JrkFqpYvivdrLL+AaZvvN0Vlx67CoWLYZPBc3kwHIHH0Qh7/JO8c7gzcAOdETsMgANI\n",
       "0mVTNGiiNUYd7bBlZmSneXieIxF9ObDXHJqcsucVN9szAaT0gVbE9pkhSp7BfBJaBW6VWiPsHs0+\n",
       "P9dr9ZPBOABxzZSqmevv4cdSt7GHzgVmlQZMzh31tnnTaXgHHSI/ERzyyGk5IGrj6Y93kkb6yCx+\n",
       "t2H9RyfD69Lz/a06zlXZ0v2l0sSAV1x6BsEoRJ4NAfPkRzXuVRJhLShFePGBso0B7BmewAhsbnk7\n",
       "QR4aLzwg5nCsk8RKPRl0DV0+xwUU1Ber4z/bi6uHKldQVRjZMbSJHwnBALyqELQ/Kps70pi1eqAh\n",
       "X1mfk59vPXOl3qHst+dOJmYdeAcd+3WTzULBDaUZW4YJje4QZ+pAxm6FBKZHWgVB9zPgkyy2WvOa\n",
       "HCgHgJTB3Kw/2V0sZ7yuzq+nLpoyJ5VKH7lK+Qv8mXoge1JIOtAXjqyb9j+8sJnFTN9pV4DvKuLA\n",
       "UeEj8ooG54ARWi9fk5sYRHN8AI9AKYRmaft32Hn8oblC/CeB/wI4iVN1DT6F6h9GTSXBpifOR1ZE\n",
       "f8JamduaTgrVl6j11XHLeEo4aw4gzPTju/o7TLVlF79Mx8DuktAL1mtzDd0VBQMiyq2Lk6uBEuiC\n",
       "PugDO2Co65YXYgZ9Kan7eLfNQcpI5ZJMznDb+1JngPTER84ARznfWwncHrueQu9gus6BDsSegNvH\n",
       "xVHE3IzH4Q20tjHbFwLvVibJxK/A9ZI/aJm8woKOLHyAJfQaYpYWhSFR9n4Zsmd+5SWC/GxsmMvG\n",
       "W5HKVJX6jr+nSIwCIQP4fgqaf6CWT0rR5JmfHenYk2TA/2WZpiRjLH+E8xDFftm+4EcVZq3GvtG/\n",
       "n39kF/iaXXk5WNoAPcrFG4rpw5OKrwZd03qAnVI8Bese9kMd+0AKwO81nnDIOML36oF7uXmwZcNE\n",
       "WL8kplAYLqylsRrlIE0viWkhPvBBxs9ORd8ORQosU1AAZBJM2x7YgskzLO7bgtVPq+UVkGtRsyO2\n",
       "yxULNfj6NYzU+VSHi2Ofa9+bYUIiEAAAApJBnnVFESwv/wGV506ydFpbbE3hBlDPwBaIwfSUn5Lh\n",
       "+FAALrkhIBmDvjuclA5at3fj3VXQw2UhCjA6N1avtccBACVacbXUiQ8MXeH1RXr00xjJL1mJuX77\n",
       "CMAQhcEPyxXDwdAH3Z31KR8iRZMDcAkKXGPl1+oZb7d2N4+O2VBNCrXj7zMieX+Gc2BZeo8G95+/\n",
       "1xpcFJelucSzBJbpjO29Dbzwuzko+BHK6nL9y4AphaIg6Hz30uanQyZ9FaJrmSWNjSrqOtTPFfo7\n",
       "TX++iedTw6LtyEF0HtB5aPPe0xKof3Qi1lnHeBImGi+24g5Wu/1tjV+Gw+oek20G9Z2MxiXVIaXz\n",
       "5hf/1VV//648BmDd7HQI4CSrpu99cfdklMgz/nk2c/EcWlZqhS5U+y1XuigIAGKAaUGl6e20acuc\n",
       "ga53c+2cavzF5gSFlK5G2XNTtnI0beSKQqkMFFu8+rx0W3IWk2OiRP/n+VvEvJE6TLfSuzaIDaKH\n",
       "7Vr7WJjRrtWId5LLEIMjL7m8/ZP1xFpj399UFxLEHjL3coTNhFy4xN011S7qLBn+n+Bs79D6a1lb\n",
       "dkyHZYHyg33LM8dxWP1gxeXReYPtNox/aWcg2xj5UjIkduPl853ZveD/XceGbDf2IPLBs+71lybB\n",
       "FcjU7LD8sdbGi0rLCF75e2Cgw4CHdZM3dCUeio3fgrWPqovtHEdL2UNPbzMrmmSF/K1AYJMlWUnQ\n",
       "9Gfimqp9LpPBueY0GlJBhxifskx3Xky3zluHStFj4EMat94os2Lax5iqcVPWUTTGECkYflugrlVm\n",
       "q6gJG0eHBeTeH4y2t8DIhO9CpbneyVF1I1dfdWMOU/Vg6YXIKbP5/+1bCutwtRNuvTu798A/lmJP\n",
       "AAABUQGelHRCvwCS+PULsYi1km7VOBltNY40R9FEQ5/3a/eVqeQt/8irEqzx96aJNiZJ31u4gBYU\n",
       "gQtpsdgy3RrDr/hyQe/SZyLOk3x/HYf8a9GTFWcl/EFjsBne2w3SViWOqB3zrKaIorc3X766W2Ps\n",
       "T8Py2NCEi/XaPSGm3MMN49cQdTRD6UAMOvAWa47Lw3mvrS8JtLyCNXA2aW/XOorKc9m7oFkfRky0\n",
       "zASJg3pRIw/yBKG3vuY6FH4M10nGFa+ZULpqqpUGU2Dw7RZjMx+5JenbNdwDCWNblhKbZjm8DoGi\n",
       "TCIrEHr6Xd1ylZWn00nnwDOFBN3yn57Jhp16neAnwOaA5IdX4NK4xd6g1VGFArjDONA5akm//lGX\n",
       "rAUdyTIjmB/lujcGvUCxbqpXjbu4GtzpgnMnUNzsCPS03RZ32JKoVJFNlCrjODVs+JrwqiewRcAA\n",
       "AAGHAZ6WakK/AK/xP/1hmr63SwYIYV30yBpXBmEbShrRmAB5/r1VVN6gOrQd+niyLyU47Bvsq8cz\n",
       "2icyAOIAB/eI24DCHN49HkK+82646sdPIVwzWZeCXnen2mtyYiZmyafjPPEKQsIFKF8I4sL7sNln\n",
       "dYLGW0ukRECIn8u96HYgu5jrFRWYctNLaeECtOeUDVzs970kfF7w95tw1mEYVj6H/E8n0cciLUs1\n",
       "6xWHw6C0KgF/WvUGCD1B51jYcEL81+ELmq4xwV1uA4C7GQ2zJVdiaccH81zSQFctgYuyjtJYxvdm\n",
       "W7jOD14TDONRAzUInncW2YOWnP/S44QpTMoBNqjzzJEHY9NI8BfxHD+E8nWdTPUfQcrQJ36De/gj\n",
       "IN63G0j+FyPBSJYJDAFNRFJV8WA0DbTVNrb9ZZIxWatTJqra/fk5TEaCnR2Hb8l17WZtMf2O4zx+\n",
       "wQhA1ujBF+R7OsGz02C+rTjO3TjfFyf3Ym7jVgJt2352syz1n7DQkYnSsXhrbCaAxrpgxwAABNNB\n",
       "mplJqEFsmUwUTDP//p4QAfr+xwcBwgVTbv1wAGme1br4mqEiuJL0Rnl/FN1ggwutyCKx56hHMHb9\n",
       "SncM2cEiZdKdTGB2vzs4LDgyqOd7vrPYJOalgcr+5rhmrDxImkYjpRmvlopn14eII4LMRwWIK2Xn\n",
       "YYcQvzc4dyfWI4thr4LG/WtXP5/H5U9ajt01Sqdr+utz/M9ttUuA2gLkuXgdMz6rx2YYwQik5tkK\n",
       "IsWOEfwNW7Ogd80/CFRSjGJMxrMPhCit61xShVDIunQ6Tha2uibgBcYnlSkKw2HOUKaUI18XyKpD\n",
       "xHiILGmz6KYrjjm/tsrloiyXCyRaVKrm3rG2PgEZ8HJJrb+RoKG07f1ORXpaXDsRNTj01+T6HQ2E\n",
       "NDqFn5MNxsRecT145QE3+BlbhOnYOVxmazwEWetyAYFxjXEMF7PiJ+/fJIjN+nyJlwCe0vT0IgKj\n",
       "EvAgxA7T39K+YzibelpEXq3RPuTLo6FGQLKqX72xmSfJkny/+uBK8WX/q7EufYSHIAK6q1lzeAXv\n",
       "BvvGuLpIoXxGqsbLojjXaFAmjVVeTeZ0oKJMUqAyhqaZo/s3ro42RYKum7qcVj0+FPa87yIUDCVQ\n",
       "iv6xDhTV4xA3IzeKXNLtwj9BgD0E2MYrN2ws94S2lVKJg+mCCHtgQuHL97M/bQvmoZn76edcqd/+\n",
       "jDxRTcd26aFlwDC4M1uvR8i0UWh+3LfkBmA+tPAw9vsBp6JkMqMk5+ymP4Gap+cYw0UZ23+Asw17\n",
       "CLCA7oZ++kZYVWk1TvqtLbbmLye4TIH35glA34YjsThp1mp/vHHcf9UOUx3dw4SvnFmQLYkxODxW\n",
       "84Oy+vqFADrES8qC4+ibTQs9Wl+2W4kos/HgYVU5QBshVfxgL21ZCn3Zj741RdXtf1oGCAsD+u6Y\n",
       "VOE2kfK2wJB2WE2yzaFTJ38XB3tA5UjnbfJkiYYssGodDXPlKfDBW9m6CbyW+8RzKn+BpCOmYUHX\n",
       "v12GolD7niUoT1uh1R4id3+EznR9fQqVg8ufoXwK44S8qiGmdudydbJGBPkYySVVHtebpXSVBfpp\n",
       "jusLnv5zpoi9AGLzccJAGAslCEjjUH+oSV2mhkno4OC9gWebmXjTvYyh+g5ubtQzbHUfRTWuhIyn\n",
       "0ap/XhOrg601TE676FLH3kA8rBNGalIE67TLee69MvjjRudOK/qCl5xurPp/UfYdIyvLye8n3ZC/\n",
       "GLxVAHDVzCA02TmN9Uikv0Oiw1SOhIgmYm9/Z9fa3fnaQHQ4wspdWFj8VyFFnqW7L/fqnJbgqj4f\n",
       "nbtzS4dKpcJJyqsdN9mjO3a4GZE5VmPaVimkAfj17AEiMHYQORPfvVuxCiMFE2MBQ3mJjW8d4xzU\n",
       "SoblJx85uFoJLU5Km1G4GpFIfBUMhP1vZ+9lFqfFswwv513v4NGUFm6pUmLYuj6iqy3y3jL0hwEr\n",
       "hzkHzq3Jgmt0r2HbKb76YA1D6d+oxI+Ni3m66aBruJsFiLB7lyXX1ZNjIhblEDf62CUUh2e5qZlv\n",
       "gKR2k8O0k+Ea813kNwr7EJ6HYlxR6btNcALKFLcLNbs60VoNL1s85oVMS+b8Utci7dKISPqmEN5K\n",
       "pRCFvEUBSopGZbBGZOTi8vqaJ0wjLqKvoHa/XfMSS3OuJZFNwQAAAaIBnrhqQr8CH2HNGwSvCljb\n",
       "zmXkxosaXL1TTD5rX5vSYWFEN8Dx3BzZz1YWY1eIO5C+NMABnuBCn4T3VEWfxirCDKcfF4RQpTwW\n",
       "h6ArK/RgBhLBZTe1rgbqfVSXBVN7apOSU/1ahvQKBM7BGBdb6oFU/T6n+On/a/QtKxIt+XOCdS2b\n",
       "+Zj1mVbJXTeK7h0ws0cD2W1GNqP2J6Ocs0EvlFO9ity7nfIoLOTu6vsr1m49IR7MbBExducylKAJ\n",
       "EFN+SJuXmDR3r+rQ7kQ8LPYgS+hOwjbXtNk6rDrUJfenkK559sH2v4Jijag5u3C9Hx+5COyxMKCn\n",
       "5hycrh93IHQ7qvxQSmYCYliEyS00/rwVV7zKlOZknFXUJrB7Eh1QeESshh+9TX5fqc4k9WH9ozF1\n",
       "g9OkGM7sbaAMVl2PiW0KxjQwASTH4MnroFSV55D8Z79T0EHB6AlwwWIn7ofWMYF6tyelTot52oBu\n",
       "ARa5dmXAkfaKkaMNla+E/rdx4dV+CqSq+vdeNFaUTSlZkUAvzYVyzuN9M+vDWBslifepQFcF93eK\n",
       "t12gAAADkEGauknhClJlMCG//qeEANvgYd7+7O8iog2gCPgpH8008FbSuJQnyHrzcnutZEyeLC+G\n",
       "OxeDJCUIATkoOqvGVr7tQdLjNmiOlyX0+IN/1HigfNki7Ovn1HTduTM5jSHIhFV8zNmuL5bnOouP\n",
       "ynCvtlLn0/30/3HvPnxMQ9egsfHSw/i/pCdANvlpeMVuncjFeDTh/M9bqIR1ThrS4jaz2oWOr4WC\n",
       "W0hprV0ZUZNrRWX4XRLDUj/vT1M4JVgK9SrjEuodiKQrSrT/ylZBqlRTnpkPSO5Re6nFPYpgOdnL\n",
       "9iKeDn/H+LQgY7k49zSL+AGf2vk04YGu2vQ9/Xgd8YE1vtDYJgLYAkuq32Xafo2sFddUJSagvBcA\n",
       "16YOGcZe7zbX9RTaVlwWRIS0vdkhMhGAUZGMrlMxo1q/PN6LdTLeyE0/8CAN5HSQD68gsEZrV/TW\n",
       "qDjpXCYmuQqvf74lKYai4xoJUXFFHUCdDAtk5E4h4L4HgPxtilFMy344d0cRfrhVGVQKr0LBr0rL\n",
       "IuKvq5ugCny0XzhevxczlEqw1MItq1o/BakIhc5qxsdGryu4igh5eeaW8UtujzvWLWcDGxI4iqsh\n",
       "qscXh+6oBRrIRxSCkz5B2RIHMDWNp9WijOkvaquMX4b8HCk2SU/wg5p8x6wo/9vWNxMplstkrZee\n",
       "L6Je+0b+F/dv92b9asJFgVGNSv5rbzgdIQbPLxsZeWxZsIwAb7CMy6+GAol2aisu/7nMOCd5KaO6\n",
       "RQp86nQw7VZm96HvDDJH6H1uH/ycTOwW4gZYLUtgnLWh2//Zrh8r+PoLWH0GZw6+fLEKgbYan57J\n",
       "qXUAyREbviPRnsTRDJ3vTRGJl2pSLubdPrg/5hnPZfYNWE88pi8D7Mn50ywhkqZQpYVShUXN3Wh4\n",
       "uhyTwlClZG1JPemmRFybVVODuGJKl95jY7zxDMYgb6GnmTbZsy4l0OT1/i8xpf1xzqA6GY+OUB4U\n",
       "v6VMuImqc24JiSJoxMYqPfx84MV0uLHnsRCC2j4rNhVB2W41HO/HQJa2phz6LBa45gmAaOVGAs+Y\n",
       "m68XdJsfn9yURZtSe4qWwOMSd2Tio667m+DKRnwuSdKoGXM8PV/29ACVVs8RzOkc6xDCDsOG2C+Y\n",
       "AqyRQs5IBe5IulJC39MbU2ErsUPpYs6sLWRGfzMUR8Dp9OEL6FJQSAnYcY057v8feMeX/T1SX3rI\n",
       "A9t9mb32rQAAA2tBmttJ4Q6JlMCG//6nhADWutnwyGEZ0QBVeUAJqbx+eSGgdJ+Te9dGMTw6R6rF\n",
       "9AAyN2wmDo5BNkmOv2GVUghLKAHbWyNy2feZA4EaAiJB57YIVvPujkRjbDubRBxKHxGkCCzwsv+V\n",
       "oCR51s88fproBEMUpME98daik+o51zs0gAW8a0k9IWS8kCygt27lt9U3kpCVCvFRjL1j0xGA0XMM\n",
       "1UKegkRuperj13h7qpTnBhg1DYShWgQjhdLP8KlcGBDijAe+aArFEzru2A1NYtuZlyoZ1k85a7+w\n",
       "iwqX3Slum6ATbyjr0hc3qe0w8gXWM9woLccxUizP236QMCALmaEDgRh45iABokP1TrMCURsXnvdL\n",
       "/MWwbunwraX4YRWQAkpSE5KQqzw8RuXlrnezoWQ/Q5GgFy13SEI4cnRiPqjx5TaowCn2pK9AYs9w\n",
       "AUAG574tQABjLMyZ+9JGskJWa907LxvooA2+ly+qbt1PesDSlhKPuVUZuVRQtB7q1mRRLjt8PMRp\n",
       "voLqsPRXlDzmvoJ045amWa1yBa9G3K0i7GiokMMZaxwuTCnBeztgUtDhixEZz9xcrrkU1CWdc40j\n",
       "J734SzkOmRljUSh8YyvjxXWrZUTbrGugr9wFlsiVTRP0+w+8DYKzVvduPJfzrvno0vpCzWPs/BYj\n",
       "ft9s+srCWriDWv3clTLaOVj101cw2f5REd4+AuJ1zrv6lyD+1Qaq4v2g8G2R1RladJzfKXSzFI7u\n",
       "QXW7cMmllr1OEGeW88nRY4aMb7db93VI4AHPcpaZYfbiT5PAQfhrjOWE2UlCnSxTtkSzmcNvNNal\n",
       "rKnySJQi/sEqC8+mo2OxAD0aBcXwHuOv9JOtb2fOYdx8S7dhNzLNyJXc4vJ6GJSAP5FGIUUeWTft\n",
       "CxfDxLyW9kyv1hJ+efe+PTpJyCX+l3dQlC+Y1uQXcEW3DnSDlhZXaRvWBxEN4GAIyVHAFywb8nC9\n",
       "AzgSwcVuue7nEf3EWoVMVsaFhu1Mw0SNPqAgy6n97aaZoPwV6k6+I4xknrfjRwu2LWFSkCrT0c7F\n",
       "WLbgCcZ3r11v9oOiZbGQnmsrAbyDhc+Nyrox/qsSBvf6KbPqXXTKQ6vieBAE/nOWxGjuslhxroN0\n",
       "AcyIA+ad1Zeif6HbpNk42Th2VS6fVHni5+kPurCuNAAABcJBmv5J4Q8mUwIb//6nhADbyC8gEDBk\n",
       "c+uDDFk4Q7+H/e61V83hr/WSPXVxxB7Y94wTroaPNmuBjHL3+1OA0yxNfsYhDOAQts0GV+zjYyqK\n",
       "I+gpYvhjU05MnxhqVSuxnBYjssAEVi2NcexHypbQLq1AWuqg4wIq3C95kolJLmWjs+WogQHF7GLA\n",
       "5CJUhG9vLuMHtRCHVT1RHoovnaIzeLfjErtKOvKNQqXAHmnI//N3EbIb3qg7Mfqk0s62XlbB8OuH\n",
       "EhnG+4ksVjWsHoVfqW+WWzny2rLuZ3HddG0kI+AI2W9sH0ifCVg+ty3iyUSiteE0Qu/EkuS9zMBB\n",
       "guVgjoaYEMQqesepjms63Ix+B9+WsqQJl0KlQ1D4bdAKz772RBGVOUMUEtWJC2VEXX5D8ZRpbTw0\n",
       "ZKwI0R/5czG7GXvxKjDDF+f39cRL/IAfCRE/x5FVl6R3WP45hRp44TuRwbsLX2ChW5T2o5ORUOtZ\n",
       "ACewyJJI5HrZGlIQhSJUPilm5mpxt+irRw6YgJjx12McOT57uaL/mYrmj2m6ZxOJwBlLV0GFap2z\n",
       "Rw/6qTrrRdgjfwGZPECLAIUtnnui7N4/ky3Q9HfhpmkA20/0a9gV1kfpN8+yfsx07VovfutCVMLv\n",
       "uSPC+t4H8wObRqcAejArWJiEc+S8k1BU/B2Z9vIr+9UVoRAIBqyRfpW679xvZHoOm7dygWb6GHJa\n",
       "+kj3VnSQ4/pH5sszRqoo4NxBVuD7MjUenkPUJkMUh6bsCFcvReAzqtgZSIrGzdaFfqxJpIZX5d/g\n",
       "H0YDv48JYJ4ZmozX5M/Z2Gg4ra2bkOhzaOAbcoyD91Gqom1sstpbdqAsQq1FQzFNTzNWEwDVH7IE\n",
       "kPueLxxro9KriUMapZrWTcFGqDwcTSgl2cdhuw8u8Kfm77Sv3YIajqoR5lhK4CgHgcov0jkPAOAg\n",
       "IjJzNQeevnylnoVHFlyXbVXbvuQh5/s5JeOy0Ul0bvWe+puY/gWosQHMhYD14t7vhC6COY78fcQx\n",
       "rg0h7Nbq7yF6Yxt8jnxvTtqIypdlK620YIdrY0EtsntYHcwSjpoMtkNQe8mYonTH+eIaISwRlmTD\n",
       "XX6bsiYEcUj4CmYs7HZjzTmsUhn0mTjyrOr3F+Wn3+j0b8m+GP0Z+gQnQtFIH3Q53Jvm/vogv+iu\n",
       "WP2a8hw6xAaVValIr0AuOZnpV22JlwFAqqQkOwXC1v+8P4aynLhaLQqaF4BT5fcEGjGip68/6LYt\n",
       "8Gk8me7Ck37Td443RvTD7sAteu0djVyOMOmiOwdSKvyWQcXOKbXKEGG2IKw/ZZ7uZMxb+PQKl0Sx\n",
       "/r8PFXKtQrua2cf36sACF22jqaqVqayRrUikO5Gfr8kT0ZAHAEseZPmKwtlx/G7a5vSnzPIzrZWq\n",
       "6qXk0LSv1lul6ObtRBSmJSAmJVIIQYxZ+yPfwcd+cVwODEX2AeqpJq+ByhhXb6vQUx0d/RVou1xs\n",
       "i8rA94WpOeas9aPBzZRX6B5zTdAzpbVFODA9hRbFsO3LbGaSf5C5X/ym+vmvwAYUV3sfs1DOJu8o\n",
       "6QMAdHwXTrhJZs8JiphRqqI2OdpTFIb9j43NU6S1XTh82s62egvN/TSF9u4vPnt7wBIz9D6Hnt3c\n",
       "LZ6wVeJrD3MrymUe6DYIQVUHNXX5IL+2JBgRo4KRu7ww1Eve6gQ20eshJ8lIx37eD7WQIXWsEY4g\n",
       "CABPDyI2lK1/DoUt4MgB/EozWIOyLr1ghZdyXbKPPzLCzTGkRxY+3Gr3QcHqQl8pnTPEwtUot//x\n",
       "AzKgUotX6vHaOCvEJmRYCJv8CR6xM1GRzRKedmiXOiDfXF7Ey6XhoeQhwimCuiyr65pc5HZj1j7J\n",
       "NHJDO+3MiVtU2ycZLWtBop4w4ZDnv4mQuDSSwpIv4HZPjHq0/Zq1M3hvfJDqs9B/IIJVVeIj8Zw0\n",
       "+cl1yVR7I0q3wPQKcnIDzEg4lhYwia1qg4XJAAACkEGfHEURPCv/Ah6I8hxA1phbcKyFn7QDx3YV\n",
       "O8FKoapd8TrPVVNbv3Kwrh3CoPIFT+gA2v38ZzORD352QO345voSF+jwm9wQhiQYsmuQTv3hhRQf\n",
       "Mfy74kphFm1VBZmfLpTTCDbu463pHBQsPUvEyBfUWaZEAIJge9thyFsX7FjkFlav9dJMAvdakIOv\n",
       "xOklz1wJ/n0+JK4MypGpAeiFDEX1twM1j2dhOzfK29PmZAmETIUsb9ec1t48SP3cbR3oRgNivL9G\n",
       "HUEsLa6uKTdYRJp97vTwUhOfkAw4oQyypYJPj2QzA15qb6B3ZXFtm2eE91YPJ/LQLY2faowLRunE\n",
       "LELYM4W014/XioCymRtRzyYVaqEl321tjU9mITxZTmZ9Pt+Nv3Xi47zcEq864xh6/XdHOe+jCFLK\n",
       "/sxIxjIBzJUxhYGHSEEP7/uQDkixk/8OVDTCwxjoQr7ubiJPuqfpLWCrDjOJJYAi3FOLVqpSaJqs\n",
       "k39YuEJBXn4rOlvTpNIjV6Pxh558x/wkWCFAyeRM/kzabP4t5sKuADSeoZcoTXnbGrQva4JaNw9X\n",
       "1aEVz5KJMsnufrdfwp++he/mGrqWUasem7RyUjXsFJt/qUSk5gVsPpv1/Mq2D9m+8VJQwTCV1UjP\n",
       "Sb/Vb8pdCTZmX7wFYgdwwF+swGZ3T7v0oGqPPGUtCuUXevwUm5OknulYyG6/RCga6yuyYOX/o1uQ\n",
       "RYj+r7gNRZgPygYoLBOH+xCbm8B1ZaLoQw3e8PLGsUTYC0wJpAV1uNVkecNLWmn8s5j6bptV3qG0\n",
       "s2reCuKBXucTo0cdE2O3bCODWUqTfz7ALesSgUvmvgk9ZqTxwYnwfHKswGEIn6prSIoxORkPEamu\n",
       "mrSdAAACBAGfPWpCvwCxNE4Ew+R/tNGnEIn+vrP9j9lCFxmpAHyCfuQKDi+QzQFJXTfuL08bfLaX\n",
       "Uk3YHz3eT1UOm3/nRADNo/43GIz71jOp+hxxnbA9tw37h06tEiz4BJyo2t8WspE6Ya133Yu9mDay\n",
       "EgXp7tw8w0yyRHLqCbmX/BdOA7U3i5MqKrRaFB9EaTAsZURaXDm3X3v8LUgpmFN1v7HnW63RGHtT\n",
       "ottKQtECvfMQMpIET5IlSziLJsykHjNEGofXja5f2l1EPe0xLfXfSrF+dvxSvmkSOl/n2/6akbhq\n",
       "SfPGU9j1tQFXHhy/Epn8DIkvJE60xpqp5mGrkYFRngLngxuIw4B/OToVzz7JPl6ltQ/xJvWtGrw0\n",
       "XikqriiflXQahUqa27L/c+EPnKlAzfWGylhKCrb0WWzrWBLbqdpK3ZTpga02u9NNVtL+cGhJ7kAH\n",
       "+E2PjZe4o1xnawmvTXPwgCAC/dDcHbNJMyoLK/hWMqpOADSxN9V6MoQCVVhoqps/DRJGWlecTYci\n",
       "bpBx3YrwyXBrYqRKbDcbuJLjIOiO5yBK0pogFkxCX8F11RwfvR9c8rz9mWjOuyIFEz9exKxBkvA3\n",
       "zKryEx4gdCmHv9aj8Em7WnwDnQERXyu0Wl/g8fQCei3IK3F0kysZoTevCSn5G8JeGlUmLhWwIvwh\n",
       "tZooNPRuZ6/TlgAABmxBmyBJqEFomUwU8N/+p4QA1tqIJieZFH2k+bEE1aUoAotNR+1G3pHU+C8c\n",
       "QMMm0HsnlgnIG1m2JHjrDg/WRpxFW7EU3ZzfSei57zZ/CiHD5vck3YPCBUOswXkXhvBTVOVR6a0J\n",
       "v76ODr8v5Z5oQucZ+vHn8B/lWKVfaBIhSNZ9WNWRBndYNot1YzCvYJvaRA1gE/zuqn/4cpmsUgxl\n",
       "2S6PJ0klCeOlEdHI3rJLtCUrKMdLX6bidForPoO2nuNWze4EJ/q5gKK8dKbScQMYlYg9S6aOdIRo\n",
       "6qbGHLrEL9KW5dC1k3UAXlZMzLIPoEwDmB42Na1qsirDdddq+LvqyKQAGbgRE7ZYS1WXtxHWG+Ob\n",
       "qmXI8ulW+WIpWXRDA1SliLvEAFeKIb7PiGlDHortZ4X1X3Cq9pPsD0MbyjTyPeNvJicesQbMjShx\n",
       "R2TucwqITTiAAHhaz777OdTKmhPtuOn4Kn1jS+1VT8OYP69Cu0OLSVeByyzveZvsK9e+9FEK0gGZ\n",
       "NpF+O6u6bcgkgmWAS9AzQGDwm/RURwXuFh37uUFL42wD/qOjO7KRDADsq8t7zqNIw+YAEoQJHEYj\n",
       "C0CkZgOlHRoJaoK2PUyZz/alQ/o0V/ewCngkLJXYTbab+9q0Y/CVnEKKeo8xH3W/8ekMOh6ls4Vb\n",
       "fFdJybMdIEha87ozenB5sWUcTiG0NQkwpxINy6foaALgQ8fQconMyPjEOjKYKwipBMHqgOrwznDX\n",
       "WGITOfjOjs47R4A6h2N9o8i1+DC6/JaWQwVk5lQap2x4Bqco+ELAzWPyjsB/vhJ1Lj00/2CHY6Rl\n",
       "VUQ14Swf+T9Z3+LJsU0O48U61OzufzwLzZWOuxu472CEoMMDU40dB5f4xbixJ6c3D5ynuNNnt5WY\n",
       "mcf74sNr88u66VudOV/xbNIhGzAxv+e2KQe2Oo3vLIUSZjBGQKQr9ajVzKIuRDR3muBpcjhXpLqq\n",
       "Wtu3DXVL1/oFhvtWEttIdfy7AMc9+q9RLg8MPyAmQt280nDhAP2rY6utbvgMQASlh7Wj4///5UG/\n",
       "yxywBuJwUV/QL7sUFAxbnoyXwA6JHLCq4Am/27qAuBZt/K/N3cmhMKCMJPRplgwBYvaOUzjfOgcp\n",
       "lmmWWPQuTQ+K1oAy137uTcQTrdbPW/2XNp82YfNEtsUoHo4Sxg8E2Tr47zG4y4q+Q4OJr5l/AG3r\n",
       "SR6KWwBj60DE4q/Ov30eCCcCkiGw0H46skrvwIX43A1rBJXswIFYmelFWmv2ajz84HqwD4Jk8qnr\n",
       "HlzFBWZ9LB0Sa3JQHy72VDZXuZPyDrmJtn7RYRHqd8R42PQSOUU/PBxnpppWGtoWB+OQHqwBmPUb\n",
       "lQeR7+N5n/WqnXhxjGIVZr83+EEyEzvSdYjAxx4f9FleDTkHlUh8h2Hj9vgAdV7hVhBNrcUpzvit\n",
       "KF7hxXk2LOMKdcpeDnCbNFFjYaKAt+X2jdE4xl4ELeQ2wI8V1+JQ4Dbh/kQ1vz9M1hgOQjiWOHg4\n",
       "QkTk+oDjTbcxglABoCD5whmvEGa/wyRKlKCJAq6DaVgVGHHWxqu+VKmv+XIY8lvQSM3+8/pyK9Em\n",
       "UEjcyGGBOr7H1mCBMZl2kpcJtislGFYkMkvdnQriF7iALxEvkG8+EeXevgp3BDwwritXn2cAwRX3\n",
       "ytMEAYELEXNk2zi3EfIt2jhXAoBcm9psp25Qh8crn9eEpmD0i7nfdPcNyBT2wEBZZJgsjvXWQi7b\n",
       "GRXjQv34j/IVXuc8EIlVpL0VoC1hZ9B+h+777uyhKm6htqi9Z55hXf95IWwkdf5bo3wCJu3N/lF6\n",
       "u1edQKGo1u8OGL/Ljt7yA9ZKywOwXZlXSs9FB/UWnSyLjIv+VQhr/m5VEdLvP5gn1X7K9D1sg/9V\n",
       "59DtdXV5p0j+Ru/9UiJE4xtDBT37deZcAhvIRxhDZkIalCiEBxHNMIFrDLV2ANedguQwarpWQYJG\n",
       "oU3Qo50f2p6mks3qKcHETlh//2LWwW6QrnDTVH/XC+Q+68TXP+BMwXwvi4rGsASSfg3ikeEsvR3v\n",
       "pf2wuIyund38JxfR5iUT4Br7dpiqT7I1Z8iNB03evpIOmz7kKojAeVZoy/e9ifjcOitxQDfmNWNk\n",
       "lHQmKX9PnVchK5x7evr2jFm98ETpVxaEEmfA32Llnt/Mf4vcgt4NluJGpu0kSNDOS4i8OYa2Y9+i\n",
       "mboNEnAAAAIVAZ9fakK/Ah9hzRsEypUotbUIWuYcPZjtQgQuyIAIkUydqSXFzM7Pmu2rBW+XsCoG\n",
       "FDLmrBOTxk4jtDIa6hKjcTxotTYyOVIn3+CfZ8t63YskBImc8HVkkqsU0i7gJrWD7NPyMAICQ4jt\n",
       "JhgKG6UyAvTjIS5EBwBgjORAu1Mmf/f7We24eAXbqW68Ktekoq1Wh+MukusW2OW5G1X2fjjNW6xI\n",
       "1N/xywUUdQArwrHTvStszo4McndOg8wfeqmAXrSpvEnUZaUMsYvbghRZ38sKj2tHiex957PbGM4H\n",
       "AUoFOaEGf9SSA2HjZqvg5bJLqW+3s9C8Kb67dCulnCXUgkBkhOX9UTxpFeicK4ft2xruN946KmYQ\n",
       "wW+dRSMcW8kMN+pncJFub1R06T5xedtY/snuoHila00a5yjYxRgr8Z34IwgnTwQQdP0ZvmycWvNG\n",
       "DKHOHZE4JKLCpLZtlWmuYzgFh9DISL7WrImTOv+ypuOXQjB29hv2tvhQcNcd1d3IU4WFITtRq8OP\n",
       "d7lFJHKTg6hAAmDta1EM+MamhEiQ8u4rDo7Hu+OOadI6PNCtzYB+k85DLZ8gO6ofrIsMr0cDqSWh\n",
       "MuZ33DVHCzU0f82/i7PTXdn1CvXiCP6TVg9ZI9VuC84JYiyjYqSotLvoFQRnUXrJdoMyCYOMWKlw\n",
       "69Pw9rFkBzfExRisntd9bRKe0TDiMA+W5rENh4EAAAesQZtDSeEKUmUwIb/+p4QA259LxwEdT1JI\n",
       "AWrFFD2uig3Je13GIEKKMxBUytTl5I+YWxKW3dZ7I4ON3pn09kn7HTHKygl3xI+/1diiXVUpNOE8\n",
       "OdomNGdIt90tCWUYgAnrW1GRl+R1EGrccqUxBNSSJ9Y/7BVMPTGxaNFCIJrvOur2e62KqB1Bcq02\n",
       "3/C+3jllNm4L3meT5DHallE8Yp72JtHOazVgKtn+pvOOcdAuXkx/V3hGKa6ifOAnTXSWDMgJo21p\n",
       "Cbbg7uQ7o45YamxjUFTIK7hVioDroZ2fD+I6ClbBb6M/nHmW5lKNpHnJ6Qa8F3F/AUXBC+7WDTKU\n",
       "XtIeUSkMXooDhtT04zBNdjAYM8q3vX37vfk6v773ulDe/40L9WKFABkP3amzXkTG9DaWUB2qEtHB\n",
       "nhQZ8RVKceaEr9Kb1b9v/KBk6Jr4qCKrlb2EzvPfyhH6nM7JHkDSIz0Xh/Qp0d4PAJ4XTl5PLHE7\n",
       "LVnPxrj/XClgY13YZxyI1urDv37qrfgfQHwYRbvTy0804TG6MH+cqjXj9tC/aKsSf31fn+LbiAV8\n",
       "SbCkMkQB1Zrosru/0c0l1IeGZN0z5XzJHaRWcIDRgLmBctNj8AsYUMWm6AKgBdh9GOK6eWQjTRwg\n",
       "3cqDKmTW5wq1Mmawrfaga9tFhwtZqqC8FQpWgrNFtLBJ+xjFI0K6/gA6pve5rrdbec6rr2qxlKu8\n",
       "wSm1OPs4d323AsKn0MWo3md3XWH4j8z8Ur08l8/XfR8o2NSHNA1eIhyREg7HNu79nxGAMMMsf68S\n",
       "EpzoC/cQ3P6MILolL42WpU7E+ZVif6ZHroilLlGcUyDwcYmEq/1YPxo+sNAf9G9tTkCViqHNAMh7\n",
       "lRSUfshIOSUaca4eb042fLtLoNSEvMq4+s+UT/sJTBjaJgf5t/XCKSFpJsuka+lSKJ2RvlYEY7KO\n",
       "GdGwIGV3CkUTLOMYXzmBV45RkwHz2xg026qZ+RaEJqIFBiJ/3m2D9FeJwZHKShOssELNXvrWQf1w\n",
       "zXeEpVV6EZKllHQ7elIluq/eSXukXpoMVrBh+2DsyKpRCcPz6j2NKdjHK/VM/AVrVe6mhegcxpNs\n",
       "AoEOIDshsxenGFvA7lKpiZ3NVQhu3dd1X3QifIdAQ4n2oIwer09yA6uVfNmm6VZLJ1UCOo711WG1\n",
       "6SPiuEvSCkrKRGlptmyj3Vf06ut6X1lnCuAEI2tTooLeH/hyKezdGLE/DZ35FuC8y/v0THYYKqP9\n",
       "KtdC/0ZXnmUyNahX+xtAe5y9lS5oSyKhfCfZYv29Aaz4UNuZ8XodciyiT76OotQHlxzl8XLT+5Ee\n",
       "ahzbD8OizC0PMskUqoTvOIEmdSo7P+bNQUhakeKlBs5nxprWCNDI7FIBo2w8Cs0MORZSjiOyaLT7\n",
       "BwB4H8VThe98U4DyW9GK+SQhBaWMdTsCkIri9+a+4V49VjV6HlLMlEaQJS9hd+LItEZ34wVdhiIf\n",
       "JWXzeXgb/6ebu5ZDyoirRcyWlDJz5YEi4MXOHzkW+WPoVx673OkxkdJKmBWO5mSOOBIj7zYM6HUb\n",
       "TUDuuXrRpFwA3lLFSSnP3iEu2k4yro4T1gsQXPJ0IYko7eVxDXEj4pu+sGxMceO8RPImRmMI92O5\n",
       "rHc9nbpztYVfWUpuXiytJx94pfhnUi0wXyOOCcsZ/3l8xAW/J1W0Wg46nxPVohrK4vDx7E9ZGm7d\n",
       "szFzghNcXg9FXq83gCRY46yZqAqUbqf4os9yhONvKxYBt7rjB3lXcw5Zh76bOeET5EHQeGUX/8LR\n",
       "x6nL0m6AK4aXGtTBz+dvFeicweqdSgAOYeNCErj7Tsp2yOe56IVsAf9akDFvuVmaMmL6cqcrfotQ\n",
       "6h8RArDKQsRsGhUojarXZi1zDbe5qLwawAJLHRsxhJNOipaUgXklh5CBTd9xXGfGsDoGd4WhKSte\n",
       "xTE3ecrSRtgUPUCne4D4ArxRhhQpqwgc80ZU8FNuYzo3nkE5TlVC1098dRYkxiYxs4e2ebg5y3/7\n",
       "IavNrke+a0k9MAh/1PLlu4kH5EDhhuFX3c1MNuRlx8uai1fpbwh9wl4wnfqWGtpv8Eao0dApYzY2\n",
       "68HYvSbACopm1yA5KKN0vlqpDaXPt+YXwFsd9KhK6YjkMPH05jKeAl0W+YSZI2ugSNFaijIttPWL\n",
       "yDEQJOy2SaM+6uRBQxgR6y3qVttGejpRyyV+TZkkiGxssLVQuttnl5P9ex/k9/OeO2JdaSF/4LBc\n",
       "a8x1jUheGXNeugzML6acuod0Dg78Q8r5BxGJcAbJDGWhGmpI0MGwNY8fDwGeEeH49e9wf8FC9JPx\n",
       "07aKB2sV9lGCmdG2/OJmOZDmuxy5j6tIE11noJA7TUWByaLWRPr2iaLaBjGUjI+DCfKZqH+qOV+2\n",
       "YH3bGj61gYqb5FVAcRfh9HhgvqOZnWg95zKRlt7K81qMU0/n6NUC4U8SvhjrGVsht5/p06oZnojW\n",
       "I3DSBp3ZXXzmgxXopZy7ch6a43wcDyHChrEwPcDwaxVwgOLgyDhxx8Uv7JiDtambnyhkS1T9ivcB\n",
       "anuHdL/3cTmbx4K8QLxlV8kUZj1LuuxJhpNsJmpsxMU0biO4ei8IuDYBdpMltHqTkIqXkT4PBA/0\n",
       "YcAAAAJOQZ9hRTRMK/8CHyZNAxa1Y3c34SYRUGWjRTJHUq9qDKGzgZKfZStGu7N73arpy3cyaUsG\n",
       "1ACSrCsq3XV8a3+buY261zvYwNqqVuvr9IdSMX/rD1jQZRhVj2OK8KhKxicOcXM7c9X6MAUW8nlV\n",
       "0mX8fPpwa1BQOfpsUYfvGiR5Y6DPejjXcAcjNDPW3MjhGXX0KzBUPUC6iJPEojKLKKVXjtzF8rWA\n",
       "qzv4aOyJoFRXzWGlJBOcEoUYCGxkO1TITsR5DXzyuILivk/zcm0fkwf6+XonrzxR6Fh5JIZ7v7Qk\n",
       "5iHH9X8Kp9FJBP4HWBQ1DfVAVfnfmtP4RhPKUwgTsnZ+q/anDi9DFlh5pzFG15qg9oa/GZuJh40Y\n",
       "xENdhCe89OxmY1ubhH3cdECzttflnOp/WCLOvsHhMypIeMVXR9nUlOAfxTAHBySbf/9cTrZjxw+U\n",
       "b7ccwNrSgu+UcSHwrQ0aQFTypksUNzWG+K8IuxfSC8UNaWzi+WM90jpgz5XjZTHyP6/JZpBS7xdW\n",
       "KzqDyO7hyO5Q2+DmALwHk+Pgykh1eBk1Ab3YhvZzBRBWq4QCGdq1f30bbOk5XD5xf+tuICjHn6D7\n",
       "UEO7oq+N1oC2CNGn66eCnhFSWlVAw4xaXeHjtEFl3Axak+gc/gypQ2LsckuIu7pQ6uo2+t265Cok\n",
       "60vDPV1CZFxkK0mIi3KQCJFB1vhaBz39ODc9ToJYmeXPyBMzIKjeL2ShkvLpSeqww0LfLkJrdtBM\n",
       "xTTBX0xN0IMB+qtbY8rP9mY/Cr+bp9I1r08AAAHIAZ+CakK/AIa8i8Bv5fC9FmtYf9HApACxCpaN\n",
       "Idlmz7U74pnzc+3x5DiCtt0fWzwhmRME+25UQ9cdDkVMhEmCTpvBN+zW+B5uGyX/fNrD/OLslTlN\n",
       "hZK4FYZ6M3uUTTB4do6QlAtgRdOa4XO9GvpJrMY4CFeuRw3RSfX4gyUQ2F7Ptcvv24wtQo/X1y/r\n",
       "jbsuqkZXwxYpEEeouauwb4/bvfeg0T6epJqBUj4MZWKptSpWVg4guFPrx8qGBlHBlHyA5rWu37NX\n",
       "B2aoOLWkXCyiM7GHG4cfhGX2OLc2qXOjvQV9tqy9gIMKHd4R03b04+Tni3YWhXKLUurS7m5tB7Ib\n",
       "HyCfBkAaDN06d5SbHXdeN/9StHuPR9X7oTtSFHAZQAQTRgBhgFZuKTzTF3C90nvUeLTs51kRTd5H\n",
       "ZXHqA/S0CW/1ZT1yZhZGxrrvz4q3U5TGwfueWK9RGLWLMQQh/pkC1hk/30XNKQgOMg92UoiTUy3M\n",
       "N6SK1ktrmRDHJGZxfRmJvGsMIeEzn5n6zYfHd2iyf5YuVOVPXyf6jDLn85/5+ZswQNaUWI5aCIko\n",
       "4LgaWkJu15qQw34g991opeEXxsscmCo07qUhZ9iwAAAFKUGbhUmoQWiZTBTw3/6nhADMv/jzd8wB\n",
       "piFyPLvbu7A6QjONp2seAJP3gXO9qDLCcwJn1MIQ7IDytKnLvpldx9c0SEQlhCe0U10lladp6KBb\n",
       "4YG9SUfNg1+kB/p8Sk4Z+8FH6uZNukXIAehi5GpfKiKPxBJAEFa3grhxpsHNXlT7jTbgmbsy/J48\n",
       "3Dg+CZRmNh2z2itBK7GzRv2RNv1utnX3eeixucdpZEke/xZ4k+U5KTwMQC3QM9Vkq66d00YFhhIh\n",
       "m7l54+A1TWyAX3s5PV9sJxz+GjK4IrOOpa9ajiR4VWDvmmAYKyg5IaQOw2shLTJ6u4/bFrV0bTjr\n",
       "dsEIccdwUaS2vdzq0hcL11TZqZU9WNRGkgXjnvQBDhvskXyqLlADDoCrdUTQHzNDkKzsyI6zZbUO\n",
       "OjSEJV3KcPgTCV/iQfiNwwJ9Q3+1EX71HqjFml/piCix/G8O0N5PcKrHQseS7Q0u1XdIcJzUBjx3\n",
       "GGUXyw/dP3oNBgStTmZaUBmS2Uk63Xmm3rh8CzTXgPn1cK/tY1icnV9mzwKQ1SWoNFuPtTOTUdvG\n",
       "yHtyMJZ7xcQwq8pCNnbND3HRqp3fRWe/2xj30HSXSp1j+TYPENvozwuQ+/OAZ0dXtyoxOqmpMj+g\n",
       "70oindkH0j+1hzJSwwU5YJL1anTh3cqfOYimE0LS3/pLpLuK/79oG7PepNydUXW3rMLnYsdomENZ\n",
       "JwmCHfou2V7S/gAjpRQ6w8/xG+3CwhVb6WUanBdhggIiHOY4xOKTfpOk6ampuM7PD7Z64o8iOowU\n",
       "ABFE3Hf/pn9Cs0gg6GS+Zp3o8ILSDfb6hcshCpfPySoEqwZhmjUAcSdrfDhLs7G06gGplTrF9Scl\n",
       "TqZKrTYQNUlaCOqxPBYAQdtFqG8qACCIie1dhLJi8ARJk54L4EgiU6c/5zNqsSfMweT2/fyfQd+9\n",
       "hBbu+yqrxWlO63IvUooweZB+BHzKYlChTvxSOlSmL5ldPBpXRAlFvgz2fU3HZIxjNbE75W4X75uv\n",
       "9RtKdNU2zIA17/n/F/Pk2xf/bDQUnzgPtlUC4n8I4d5SjpQG0L6ExCxCxMJvTY1Ue6Q63G6h9Tyn\n",
       "dKwBgo60Nmgu4WX/A12bO0maeRIKDPSL+ZM14jx3q+ZQN7axQA1x9HtMqbOTEmDL/RId+v0zbWO8\n",
       "Lv6dmzYHoJ3fSsF4EyCeN/ywfZzR05A5L57UBozC457fy6tkr48ZydF/oTOY2PJt5LFBR6Aeq6q/\n",
       "fJbvZzu5URN8/5GqVAh8qJBs8a4K3VLKP5BiPymNAN0iUQkCQvl5sQ1p/cfKTYzklxTtRc/uG+rU\n",
       "yDeYlNd5dMVrETZHLMDaoXmAsiQ7zzWx5traDNYQ47t4ZpUrxv7HwCfkq0xlR5TYmY6t7C6xMuAh\n",
       "subnS74ky7HsIC2FmoiMLOfxiIPI5ZkohiQ8+ey91dQb3ilTAVbgoOW7q0chZfGf0bYXzCCD5MgM\n",
       "dJLx+b5o9sC+IAC4BvzOi9uSbtIrzqmVoiK+1MV/V7Xibe670uqtIJOyWfyAjalWx/G+i/pE4tsW\n",
       "SmZahI1q/kkGQpBox2f6wACxa5yq8vwENZkUSGrP8UfyvfVsZ70IEMNvf3+S9ZAsnfajOhW9hmz+\n",
       "Xk0g04LQ6eGEZjMEE8rMP6E4EjE4c8wWkwLfqnBX4QRtD8P60pNgJUTXjX+NUIXRiRYt4woiRQzR\n",
       "buZA3WJTqBxUSgo9Oh8sunDyBPykhC5g5B72843kTENwgMPK4Ji8BsdIqzkAAAGDAZ+kakK/Ah9h\n",
       "zRsE00uB2+RZ29Q375KPzeUQQRwaltWx2XbPbynynTzsmU3lMLkleSkR9ZdLEQEAJbkvC+EGyVfq\n",
       "w7zLt69FwOCl9RpcZdaZwKbCR+wHbT4+OxDi+3htOJYom5sZXHE95nLPXk/uirYWLY474HKLApWP\n",
       "wjfRhkB9GcTlXhgWgb2lc59pWjB8JCs67TBcvBNaIZ5BwxeuilfxxtuZcy+GnbPMpOBkYbzjzKHO\n",
       "YhZJXc07gITqg1IZQoo+cHy45Tpap0lGRAWsUgWNXTlWM++b7MYyOM7Ir/LZ8rNL4x1D8QDTLqHn\n",
       "bIbgi03c7/zkT3rpOxiNgmeJfN56+CSWFcm12RSfZV/w5WcDPKmjJgxcgJn0PRk4JoEmfHzN9T6H\n",
       "2ZxAmE9umVtswx4PUdikzJjkPfEKWgyxZyfOFMnR3rJdLlz3BE3zVbIkXGIl0DdZqvov8grHCMTN\n",
       "/aE0Qd2O4rJA/Aa9Kc0qLmpEYazgMCShyjaYrPV8KPbY6z1hAAAEeEGbpknhClJlMCHf/qmWAFto\n",
       "z2QAwgCEyVXksC9KBO4vIYn9KUNXQ+HRNhML1kFCUqAMRvAwzuI+KeVkcJR0jXDZPoDzneWQ+r8y\n",
       "0Zat3ZvVzKtyA+QjaacRwWJ/9q7C5k7gT3KbwkBen2qChtjwZZ8QG3bVhlrfEvqDXRsklZLiJNSD\n",
       "D/EOigWntn1kq1r5sFl9g3jShLEFi1rS48mCqCr2csxsKQ8/FSLJZY4tFHUst0g4fi2X3y113yRQ\n",
       "B2kgfdJnwqLPopGAA+phczpNYdI+cxTvNSZC08UUTx3Acgn9wggSvJ7+lY/1hrboDV78dN1wN7fH\n",
       "PejdyQ4pa6hLy3Zpu196s9git/9zrQv9OY4NSBI2O9bHZkGMjn9BRRU5e4yTT4fTvcPgJdd5Dlm4\n",
       "t1v42tIvj5PvkvcTIGbfLfV3QUAWPADzYgbJWAm/ft56rm6vo7UDQLM3kZRyHSrA7dSFQgRC2R18\n",
       "cl4C1TcHAimGtZ8NrXJzz/w0oAkOEny1uoTFdMCW9YRJRUSCuqBAi76WS9ulgtehWg6y4fL/QfV/\n",
       "Hl4BCI5UmLlD02zkQamUpFSWbcbyLDCdf3J5W0hemd5qjvyce51VH7cy3QO+u81paE/fZsWkYGnq\n",
       "8ahtL7lHl9YRw0UAJpfxXaItKUKt5ivejLKF6uEcSKWICAOfZp8CtKxiYJSEyekQmcOIi4ADmn12\n",
       "HCpvoWOpKFoG5GlGfnX7Er/JueFj4OVvy8ARoctn3i5X4lAMmnAw/JGaBMX+1Tg7cGHI8/w24ZMH\n",
       "KYgHkBG3t6WLU6h1JC2S5SZp3rJFwUccaY90GzBtHuJQt/fUYJdX3aEdaaMNo4IS9s4EGnC4x6dv\n",
       "DMfP+oMVnvm7q71AIe3OUeNNOqchAJ9gDBhJIzcZEu0WET/l8d5J5IQQVxglVJ+pApC4y5SFJifN\n",
       "OVu/RfzEcsJd7ywEwRdHZsfcTxpg6LHYRdUolEYY/GvdlXmMmMeuhcWhu/CuAdHrlKLZ5UiZjB1e\n",
       "25nHxACojOWoA/IUb/gRNZCWZVhQ6T6FS/xtcDdhXV5AcqcxDX+8Q8mdHZod2rHTsJRFkWrSggdW\n",
       "fyg7sHoXTYG3E3lCXVHq/v7d5eZTW2rlDDTMTclNKPEmRQFiI9Ba9+g5xjj/+cqf5O2MICZXXqeA\n",
       "WZJeGzEns+xhQAdK54iDZyQKMr+DenmEbGi1tmQ0L+tyWDX3mdi9RbyAJktojRSrYgDTiZ2R4WEg\n",
       "wnD2A7RWY87eOmcz4G+C6AKr4aQjWagHjX8BuyLBBjBqOHC+1628i3Xzc2b6BEcJxAyMEothoKwA\n",
       "P3ykOtFyMT/I5bmamgx2bG8j9B2wNai1fdU07BkLl2f4or909MUvSFqWY15xkvqnlv3ILnQGr//O\n",
       "fXGq6fKp5lqgKecHBIf4UoZx5rS9ieOw6QryCHnZGIph/hXlX2iiCCR9O8JvqncgbX+v13dFFpD4\n",
       "TYu8b58WhXAlGZMUi62ZPWhdOzh/93ZGVHSN1dsa1ldaiTslgIMK6yBdj0kAAAbDQZvJSeEOiZTA\n",
       "h3/+qZYAbyTX0AKajMROZkfL1q8Hda58CMmE5gDR9idwlMJkBxTyTU1Zm13h2dCoVRN6yEqcxmXR\n",
       "hwuTHtrqGs0U7tfln6maz9MADpW7RMG6TWoJCy7y2+jNAIZRUxrQiqmxvFI0kQXus67ggq8CfdTZ\n",
       "JI36e0E0YcDJRVlfYIAL9uOhlt+b/debJvuCQUOgmfJr2VczKJwgShPaO3nIb5gsadx71k2pgDXG\n",
       "zKNIzmH1oh4toiHvzTuKkizFc+7cZqDLSwuus5FsEnHgDVQX9pkmsdaudaVKm1VKyvxn+K0U9eAv\n",
       "+9GBPRqmoAQWot9G6Y7L7zfy4dWELIZahvJjLWOnSl/Yp2xkXM3LK1xgmB8+7fD+e5XlPjuPW/2y\n",
       "JRfvpdRSnSwvWktqyEPmnFkFpazt6/6UBow5fcVg/Dh6OTILdLRXwBkr0pWKpHjT/v186z6EeZ+d\n",
       "UKdN/McImYpGa94auan9V7HBkTzOmOF1WMGEAlqPi8s9M27J2/HC1Fl7newy652t4reR1N+HcI+a\n",
       "QS1zyL44ZVBLZeaS27JLKV0ed9cUsYV9Yr+QvCuxowcQZluFuMzvmJjsAAFT4JC4crO2DXBeqWM5\n",
       "nXz9LoQotl1SOSLBTrPdOJD31hvisxWLFR+U3092MhS4TSgiI8+BVB+1CX1zujEzWc87ljFpqDMp\n",
       "8bCe/2AhILlxccvgDncjmsBFHGKbf5AMvOFidXfvPSJPmFI1JWUorSoqdf1M+Nsxmrr+L8fgK+Co\n",
       "Nmwv3ODBMjHAMWicsRVuowMgY6yyVOvTKt3mxR8svsVKNBomp9FaM0i+roNAfcvyCdhaH5y+asR9\n",
       "lG0gR+QvTSKuaMyeBUNIDMA73nUZ8k6IfQX9DYbttNRd+6aePJwMvnnjZuHtohFQXbrQz/G4T7Lj\n",
       "RD4DQgq0tuWsMLXb3tM344p5LBOxfeurb6Amkl599vL1GGgUQxdwBNDkWntCNC4WZ73+CzLqn1Is\n",
       "1IQX+Hgr75ZpuMgHjacqngNVu6W77RHPj5grY5tt8tqyXSgsi0fo3PHeyMExDJN4wdvE1jln6eFe\n",
       "gyfB3O1CJKOjogwlEr5H2cY7iBKtJvDBXMDPPmDDTCs/XY+b9+LYazZGKtY9Tzk79bvDE0bNNav0\n",
       "9zkGCAlW9ad5z0TCRGsYnk2IqHbIce1wf35wwNM2Lqopi8AiYeRSNXjJZgtK+U6Fw5EOrUaSxPbo\n",
       "LGjqA8OCR2aDYYYbw9tnwDjsN77jIb8CPNolB+/1S4POKrS9F5g/q9OcpW/W9HDNs0w7duDEPe7h\n",
       "bVt/FbJBRUQjMvklIchJO8UZw0cb7fA3f49jKKbO7FFAkzlMTjAwtZsOcNkSHCbsk4Cn8XhNnNPY\n",
       "Xi+mCX4JJzzJd9D8iwZc5nvmthHP6jCMywP2jxA0zIeCe6rdEmlWiff21mJVWYCL3hHfq8Z+wRgO\n",
       "DU/trD7uCuDs+AXkfXytW7vRdpw9o9yBI51hNjtXxjICz2EZ6llp/ieur6c0CtJZOIV0zNSsgUWF\n",
       "SK+/KhtbubFNyjordeuMG1ih8VL3/DOfhGDpmbvjVPuqhC7hlkFGy2O7l+wj1RoLyDal1pbk0d9Q\n",
       "xUb2Mx+TzrEFzECQVTxXjwFfxwlS7mxxTI+ztwFFViPPoSoUZmH1Zf8F/G9Y+qG9WhCLDRsFF3Nv\n",
       "kMgH3jSudiFCZZ19PiE9k/3xjz4dPEgzuSp17HKIJS9qwyqampF0RvnPSGMUE1EGu2dVdddYAAEF\n",
       "IvQoTqi3K2GU8pDpwe5BkcFMer4T3qdAzYChyb+toUBO05Tt0O2k+AP4uq1AWeuLEpylkvLmMN5n\n",
       "dxFs73ZTHnuHwEEnkemPgam6/36pwIf7dX0ndjCxJ7z7M5Fcdu/PFAkLzTs+IwG4WloHVRqyBVdD\n",
       "cRHcoZ1pXX6bgBopHqEaY2Ih8KLBhMErQWIV1V1SGZi+d47eiCb81ZHFYk8er2XXUHB9PxklGKPz\n",
       "iYVcK9wWm2OwB+RxN//YUzYQxamNlvvr8jQBmXHuXFJDeeIz7ueHjxxdQY0Gkd3rMx8JMs+T6XKt\n",
       "NBSkoNLwHUybxHuKbdqp4n8nfam652aOFA66/yy2aPGmefm6cxS2aiauH0ABBLwUFeAxaK1f0a+I\n",
       "CKkDsVVsNxSgTsG6CfpkojNyEbrYiAOLKHnEM53fODQ8AEMPFNc9NX1ZLWezvVQwchTNTXgpJZu5\n",
       "2inbvhXCJqQYfDA8S2MfADC/YRGoL4T506fR19LYYLkETbe6eHIlGMwFH4RbWx1CfzKYicR1BpoH\n",
       "q9c2OL0HG2B/EPWBAAACDkGf50URPCv/Ah8mTQMWtZQa+Z8qy2c0bUAvHD8wABVJww404I021NUA\n",
       "Xl4ruBt8wO6NFIq8z8AUDMK/q/pWkoMJEgYtQdeg04Ofd4tsSDlKRTWc6SM9cJMkDqABPV2z+xhE\n",
       "kps22QVMYIm4GEZcj3C9Xn+yHYZvQ9SWrU4vJBcqKJd9OW+zPWNnCVAHeCIR/u3MM8mjQNzAjP+B\n",
       "bJqW7vy6AkCs5iS+uPn+Ql7tQhrWFSJ6DSoHlOOKf1OjBJ2k1T2Ow9Lg1/zIrg1zxHUTsS1KLrcf\n",
       "yC32fuNmYbJuxWT9/crA/IB+gdQIAqqGTv9mEANnWGqrXMpyjNjYOWFhXhaoOoKTmQBP7SB+gxSg\n",
       "rf4CWA0/5y+Zzkq3A2qB1OrtdQLQD2Hjb4OQ1NBoNyIMKWlKF/47oP9HppmPE8qrOoRtqBNOdvFt\n",
       "kUeWd446s/AfPAI1bW2cq0i/MdagcdGy7fM2VlD99j1Ep53Du/hFICoXOf93lCa1sIygetdZzNwM\n",
       "VqviJQyDbJH2Pzrgf9MmRDxGw19WXzpPnPSq6xrJkTMT3FfZ24WrFjsAXgGYZchNiB82cmMKEhry\n",
       "LJltnPQyrpHKQ5EGSXStHb2W2q3gz24kKIQBLoO7D9zG58tFmNFUMhAQISyUM+QnuAvuFOCwn9Ir\n",
       "ra2zzBoMmTkmGipy2iE1KCxl2l1TYRdbUaIppGoAAAFTAZ4IakK/AH8ZVRBGmru9QqwGUt9e0dmA\n",
       "jyicON8dhJjF24xZIj9WopOqA7yiUNDTm7B09wWyZEg3YtgOXQuVX+92ML4RXWNcf9jSAEv35BOj\n",
       "x8mg7vBowXvsG1VeP/YXg2rkN2booC0QoIzMd94B30mpR+x0cTQcFF9B0bC/8nR/ILbLIBPVqJ3f\n",
       "149dO9Dsk9petDjxTHEiXOHjPSkFz9KeXr2acx0nhf81NgoH8jknK8Q0z1DIrcW9kAuUCXx1LfB2\n",
       "LbkmI317O6QTQDLFcenVPZ/3moCH2BxJNlyVn2y1GJEIl09jJaXj2+lZfGhGO/EmG+zxMkGLoxL+\n",
       "9eSXlbLrEqIu7a9PC5hXfr5wMFZ4UBP1imqIuo86/9E0ZO7i2SxsaLViLZvRHtmrZXMwLYsDDvMF\n",
       "ckwU8qIPZFGuUyM8byk6P50lENRb01xmJycdk7qAAAACg0GaDUmoQWiZTAhv//6nhADW2ogmJ5jU\n",
       "H/glY9zFADNuawf/JZ4nyTipotmuKCmGGQ8F1TV7iwm0txdQpRg0+sESipldvCgT9bIYtwFwQuf2\n",
       "pPNg+I1olkWKI51qhEmpsO6nDhLNVtFV7dsmehPfgArdcQAc/5tm0faYFzA0wCBAB6parnsfn3nq\n",
       "Xpvq/7qbbqYvHWXJs3k6ZJPM4RUZXj7TwFI5IszHXVSxG7wGL0HZpcNVIrg2Bj5VY7mvnRnPyHu9\n",
       "pNeCpAO58Td8BZk1RO4RdSd0OX3emnuZjjazrRj0ZOIIhIFCDzuX3Fxp6sRW33OBau3I6npIfc9l\n",
       "L2jaC+A7PbelK+8ebz57z9ErDqDegiwGBC7scGnJUVcBmHYB9VE0uO3wI6yirTfcKJ0Y58kJOCDC\n",
       "u2k6BFR69dEcMhlGI/0Ilzp3xnT8iusDwkzhpyKgVTkF8eCHCVPDn+qCwnqRTFuJgp9NRAUrqmoT\n",
       "UsJY20qUCyJrCY8UtSPZM6YzNXsFG4TPtuvw4/7PXOp2J80Pp1qQMqemBH2dum2mjrElbOeNOLmf\n",
       "rgxdN2DU005faHN3xvy4zJlzTzqxpts/xfoHei2qAOsRO7W3a0ArMoGgnGPuGozLfz+emnwc9mEd\n",
       "0LqHKqmuIAZ7DnczKCzWqXYVDqMJFvBFNhPhtlvHd0u37jFr1BoJdX4TxJd6AP1vT6pFeWP7LIfN\n",
       "Z4ob9bUfGxRysz+Iv7QlPYQsQaZAE6gGXFy2g7KIkk24oONdBaAy0dxwHTID7pIdMPMokHYIbEzD\n",
       "WQUbtLfFwfBNtUeF8AwjPE7y3pnyadaku1QfhnhKA8GxNXV0PrVj8kkMjhIRV/J7xMEAAAGIQZ4r\n",
       "RREsL/8BledOsnRamUO5CcIDeqnrK3tDWiwEavxwOduJTk65TKIAbdb9mlSvgxawudJbwNeRBEEj\n",
       "t5Dy06WuNVMqn0Niq03UB4kp3AFbvksZKizjry2St14lKOBy9G6YpPRRc5/DyvIOht16N7be1oO0\n",
       "Lfkw0MPFusOelyqC/jM+MGXqJAnxuaJwqHGVIQtDA7xKpke0HI/1B2okNaHabAKZSpnJ9KSz3d74\n",
       "i90pUf2201rKF2WuQlMSHiHyuS92t7JnCmp+yh1/6z6OiZvODaiz0NI2F+SnmdExCqx5A5HCswjO\n",
       "1h/d4l5zhw+Csel+QcmTqqo7JdJeaxAuhrBkWfgF6zTiN7CSJzMMMdg9NvbQwviRb8C8QeUhmvTS\n",
       "Wvil4BYAYzo8fZzfcLg9xvr5PI/2l373d9+xCBIR+Ukw82Rmk5GOOazLNdlRKrKRkEMXwvbh5cO7\n",
       "OeuwxBs2Xm1KkwzRc2OWW3uSWrk1W9tnzDQShCOOtoo4XDMWK1ZcXXA1Xs6AG6gAAADIAZ5KdEK/\n",
       "AJalk5H2UCmned4nCGxtz2OeMI7iAkhcJVpRlodvaFhDNAEQVNvDdLK6xEjgBYG5vEYuTayueIX+\n",
       "wS4G2CFA2usZ2Ui3Uict78vpZYUs+N+Zy06xb3XPi19caSR6nBf+Ei4BA6R3MnLWCPh8616zegQI\n",
       "GzoWTkxssJ/slp/lL913NsKsOX+Tr4VVv3P7uJYQl5I0KNaWee5kKnQTRxLr0FkR+fuxivl45Jyl\n",
       "Vw18x++88QoXsBU0XsjgnhzvWYTRD1QAAAEKAZ5MakK/AKPYNGXXjwy4qK7wjaSvQB5p+PV32jrL\n",
       "bBphd6WP5qX22vE7Sr94xEyj1gVj4jzeyas5I6NzsDgyc6OttWHiMIWCOgRu2gn+x6mYlCRUkogj\n",
       "S5ZJPrIF9Kz8+Bzt4pLCcPDV4B8ufggviSAzdgNxeX/gb/kp7lrPYROSd3eGPUKycHKElN2el8zZ\n",
       "T00ZkLR2rtj8c0eqBF3lEpc2Jr9r/D9XvHbuv58xUPyZ7OUgsuXBuXOIoOyJ/NyYCWF0bRALsm5W\n",
       "lfUHR+JTDihfLW4BG1psINGXfrCYs4eipbqmc60RyNbeKv6riWOwpzj5pzPrWD/awXayp6Oj6AB+\n",
       "OLp6/lUdjrMAAASpQZpPSahBbJlMFEw3//6nhADbmulBCXkhcQUxPlJlnJm/6vcAVZOSIJsO4oaB\n",
       "cUHohSqYXCiJubi662SHJ8Kgm8fSmo7rEWRqNVSkgKIweaNHznzd5v59zcE0pazmmifj2nRRILNk\n",
       "rfLWOVcaETk6uaIrwys4viRYQCyHV6CoRVbXJL3wR+nV4CN/oEgZ2IH49uj7bYt1o4Ypmy6SFCla\n",
       "hNB8Gx5EZtHaxZ6M6dDQo2Qh/UhSp+lYLpIMC5/WXZ+xUiw7jXOl0F0TMxok1lJ/rQ7KEd8fN7cJ\n",
       "IZ3gSytAtO+2Xn0WqE6CNQxSdFBF0EvgzpvarJZfzR0y4pM8qf/IPj1XHl/gQp7O24uVjVX0SULy\n",
       "BGO679uwglKq7oig/kc/nXpttmgEyeTSL1rwfO6JQNtdIZ+uOZA9pWvks16snSA3U0pY3qpzWM+O\n",
       "HDBOL8Uei9DLsHspqQpkerRyUPtSV9gnAFOgcpkaPLC5E4BJV1hPwYfct719wqQ8ckUEa1gM6WDH\n",
       "ucGyjxpFISqTuF3wMCmcfn+d7quHrdXkYLluqVihOw4spJI/u9B+FPolUDYwlTC+QmmuUymZxk2C\n",
       "RBB9pyZKNim9bXGUuKtVSTrTQR6P19vaE08opyrJuHHfc1Aw3PoTiTT2mykmGWXDLXxuRQ5hqxB2\n",
       "b1K4IZvOdsK2YMRWQavmtvaM8C3HOi7BBKIa6ViZnk/QoZJ+bxYHcH3nUr9Ad0jv7RFc3eLBG8bl\n",
       "An+9Z9paIOUu60wYIaiH5GufC4fIVen3W5se8fTf1fo7BBte7YKBBOvnMeZ2BBxJ9SfN9tpz8THw\n",
       "6zN54yUp71x9nPIcSynxTHuxCdQepAl9JiWutg0RiWjCpySBGTKJBcmRAE8TKP4sumY1/Y2zOsvQ\n",
       "z3/GSMxuUnU52Wky37JdX6HGnNJmNXRw2cnNYkW2tD+Mt2JOXgPOYA3WDYy9LSGEuN0lnNuXe9aq\n",
       "zxnaH+jJqFPxv+G2K0TuBiciKJGK2pxxxcEzPNVLc495e1qV8xD5xC1czohJLljacEeB1EiMf0rD\n",
       "0L2heD2/C+vu6KA32xHG8/0HTAGQDlAe3IOOq5ZkkDTl1AHb8/FQhH5wNM4g0um+mGbQe8YA5Qp6\n",
       "/ogrgvZ2NSlVuCyXGMexINFOZx/WfYN4CtfOEFEgJ43TzEJjyCTmJUuimvdafHWDXZIHGD3l1erf\n",
       "5/0POmi+vefMWFlLAY2EbLbkZVqMVviVudoFNrIPBuLchDNAEUJv+v0UNIqHzotYP802t/6rqMxw\n",
       "BjkryQcekyXLT9FMvPPdBsYj7PW+fHlAKvjBo+uIiooAoJpNwWoT7NrNYdSIaW5xy+Jhft4lYcoK\n",
       "klq6F+KQLTeJB+9id5pi0h3z+vD6g9jDcl+1RWO6nntt7YXDkG9oOoGhqWcUwmeYroKOJv/j03RB\n",
       "Ppv5S9jSgvAjkzx7cluRx3XbTHrabVrBeAYwt/WH6lWf6k1qMg8lD4vuaWSLYARcgW3bosHfeRaG\n",
       "v3PobsTLGrFaLDE31A+JSZvX2l8ksCDMnLxgUyPYdOidI640v8Sq6bP18q5hd42UKuHyUtlIECaO\n",
       "q2lbSGOyBFUAAAHSAZ5uakK/Ah9hzRsEPO85YXMAaLFitexm0XPUtM26l/5JXkoox7VBMfiqLmz4\n",
       "XxvoD5zxvQwTOfx/r7ZGsjr46KVcsgDdtc391i91Gmm4M7ofU2GIekDmVs4VK2vu+QQD4kK06vKu\n",
       "/mLy5iqmHZxqDXXUKqiBvB/k/yZBpMCLO/vjaAI87s0VbhHDeGWMIVvtLqA6kwC4kcVay0HNirQG\n",
       "ZQ6tBPX0c6TLDOVvk/fiv+fiFhFmKZvMxbT1BtIvD1QUBVuVctaTiWfwtV8GTQFEiKxEgAzISsPm\n",
       "mrnGnY+kv6tq3lsPOzQRiPwjS/lWkSGfoXkYXgNkuQPEr62XOnecB3mqDdxqb7YPaNbcQRZ1Qcy+\n",
       "KYOgn1w/ai5qSGeRojnev4dyRk9/f7qFRwykY6SHn3ni2aPOdVBaWS8v9cX9LUS98fDDzDimjd7a\n",
       "rZXFSwoBwjCQzfPOMSvxTZlLy6Ph0EK3IpyTqTlUiVJ31va6Pe2oPuCrD4rqdDLci7/AZiZEhL3g\n",
       "PlCmj63XLmNt5rTvPVN9nqkxfVbptooXkpFBUP4fQswpukqyVuhF6wKxRkqorEac9uZnH6GCJ4vP\n",
       "gEEAgoI11QqqnPHogLnKOqC+ahT5QQAABk9BmnNJ4QpSZTAhn/6eEANKt3UOQWriNPqAIsI8wfm8\n",
       "H/OiaQKYfEeoLvd2icxR5UFzbI6R0WUHkO/wRr76hzH1DGlNXpDw7cG61c+D0iqJgB4FgVID41Gq\n",
       "di0k0smVALQS3itlrX1fYNPwqWjHX5Zpo+wtCZb3KxOjmhnVFHuFdtKG4lKu1uykBXIIIWLQFnJD\n",
       "/nK/oA5y22ShnZ/yHYovZCn6asBuz706dQIc4oGX/t5BDnO/e84xZVMUzjERDnIBW4lLQbnkBlvg\n",
       "iANnnN7XPYng1eS5ffEFV/8wCUZESUTEVceW09XPo7Q5YO2hZLXPd2Kfl8CFVUbnBrioPMbahuHq\n",
       "w/LERwAmztQcDeO1c/t2hPPnL2eQi6jmCpsXkn07abfqdz0QNHE98L8ykYcsexih2Farb3yFAHuQ\n",
       "wY+hAgy8fr1H7K/EW6/iEe1pq1Pzb7/6sMrriMQd/4m9QLoShYEkEBXwrwW1d7qNXOq7zOtJFFYJ\n",
       "regt/S9tebp/2rJJ4Ah0sy2nUGVvU4azcV3xOKd2urYX8lCBpKAnXfxtowRQGmTYi4ulEPOCs5Iu\n",
       "2Z2MCkSW0U3NlIeDb4m0gkvM+kwRr+CB1ke46wWGD6azkwOff5u5xvcC0Pui73W5mkEdL6NkcavF\n",
       "Owyqg/pZrsA4bdnmuxTNlk05gJVxVZuTtIBYtBRhVGqc3JRsEKYbiJEh++59dbTXfmIO3o+L2PN7\n",
       "kytn3jRSKonLU3Lmfe//ZpURoo8GbZJ3VVo/RGlaTa7OSGYeoi4rSKkDI54BcTORc6E+3sw3aUX4\n",
       "bmw/BTeL2QH+5i/z6xmUbmqEpEh/tS0eQJAcjBZtUahfvRKR9jgVYyTqnko5PiXq1lRSSUR6ZZKh\n",
       "sD++B6LN6Lvr67cvCicqeWLBS/OtgP6/tvx+uC/IXRT5zPxeCOW0hhjjOF1RTswvK2wvP8A1CFf0\n",
       "qMQ8qMAQB1LuDi+XfhkZ6e+SqFlqqyeUsG0NQvw0MNLqKQu3OwvTOhPB6m1nkD+P0lVXqZmyDd0z\n",
       "1r9CdLeXEmWIJs2avMP/1gUcWQA4iEARE2nxFtK+0SbOeFsENTtlgiLCgcYSeYk8RWx1dLlu4Qua\n",
       "b/u45XBoyjtMVWJCtSDFDVXGWs+0I6e3UZoS7jRYjf6Ed3IGgvvB31gJlMvP7Je2ruEIzg49TM+/\n",
       "cp/Jx1t5+Jhq+RbjEJqnO1SoxthFbPpL9f9PckJ9fAa67JmxN/laukgXdy18xO2LSuKZLA4UeLSU\n",
       "lxmvGC1fuecIJUAmtMOeaNojDaKK3dKeZcOl6lv223IdJz1kDktNR5dfpSFAmIGb1D2nFS34Hzqw\n",
       "viLTRBeTIXQJUObwXHzt5Luxy1h5qMZ1M9+wnV6o3phNZxjOVZw4Jxft8LnYjnlgbvAut51gIQRl\n",
       "3FKatqTA5HWF0kwyLltV7bB3XVkonusyI3eBDkhoTfbklT9iGm1HSRi3D2kctJl+TQ7V8v6ICmJR\n",
       "M+oMi7Yn4J2KDdYPyubc3b/zKbh9KUlhdRcS5pQeoXNS9rkBEux5ZgcM/XQfH/0Gm54FuLJL+Dua\n",
       "MDSoRqc0WJ0xbZcVKffvGEGRIQYs1dzJbgSeioEHZj+ineacDfCmXCXRFN7xSyqXH0y06/KxYJ+T\n",
       "HkrB6KFTk2kNqJ3VZlYhpwvAPfsg0iM+qoTFnkCYt383Yj9/lo1XSo9+DiuimMUWjsyO+bRAnZtR\n",
       "BEiNS0Q/PbalQnMYoJoOwXLzldVdaVoUjbLmOiboqY90YljSSOqWZ1aLzXGjSWy4AX3n2jV7S8Pq\n",
       "47l7OkUTvzU3O7JxQxI/oN1kdZXuqx8AF0lF3Txa+/owmsVK1KPtHcaxFEgLM31WZ9WxMjy9mIa2\n",
       "IsVfV9cZ6PFVnRqMNsfC+sV7vlH+Rot7MyYwR2ARFmvWU7spPatmKjj9LOiuKitfrchHhAOp6USg\n",
       "lInsgd+iLHCtTWxywZLquvRXOye1NMHzPcl+sdKEmazvCzZE/WgWt70xVpExA9BWUzcN5DSk3dvt\n",
       "FxraVq83xatwmb1RCtbdn7QzPzVdBqYci0Af2n7dctxn0uvbiQ9Xxq5q9ewstaDRh1ZWsBo7tIrY\n",
       "BSExco0ZAAvjjKy1/0T/FlNbCyG/EvYh4TOZqqJpXTA0dZurKLhte3syFnp4AAACyUGekUU0TC//\n",
       "AZXF4+q+1bI/8leqTgSuVuAAhLka4dxPhhmglx7LoGbA4v1f/3swwQCmAhmBThSS6UmOnECplTZR\n",
       "Ml4IUKFxZYWma64eZEmagTaef3557LIXXpDOm4QTkxAmzBG9KrWvcP61x49Wq5x0f3MBGGURgiwM\n",
       "ZD1tV0f2lzhMw5aYXUHgiILm8pZU+B0GcTze/siwXnTxKbfmk5dPPWAqP1MzfqV2rw/808rHOtD9\n",
       "1NUjaGY2+gJ7xV1idfy8aJXNNiFptxycgMsH1f/r2F7SY+c6zBR5TTqPgOb2b3ZxPTcOey+JzPc2\n",
       "0dGnqPIDUDKgkhh93hmoNN+FJ2vmASRsya7VPN6irM4Obzn7MTMJi4mZISd04NBC6VOyHYlvg0ja\n",
       "dCImzjEZvP4fvBMOM1axdqlmDd3nY5Ur8m5SzKegXg9C7Uxc5A6rL1wJMwYznAYIIrxfc3aOAxk5\n",
       "N8uDdXidcnoQIhDurXjf2b098prSve27B58V+8COnv7+qUaYMSl5ubTLDG+7/TzA4ReWyJH2hoMg\n",
       "o7O1wSezFYGhMlc6DVV9GVniceJQiBOzOChZ5tLlZGsdfuJN3amgBj7KTgfeDVDgspuGhUz2CA+o\n",
       "LhExoA7ydsRAna22QeLhnlKdVpXAkVT0UOhgN+nzLGKX0xOxjT+yUFERsb4FsXUHpSFJTGp2wsFM\n",
       "7CjU09rQ9zdDiAYGguKrukC9Rkqf4zyM5HnwZ0GPPw0GwOLQZbQtDI7StReW17E/905eORfoCm2j\n",
       "HT+jMT7jEDG3ElGzFTJMDtNnA4jYf3AzqHlvWArbGCZLUJcCvVABS3uJ1CnpRhW59TrUvunSB/5k\n",
       "sBPyG+Zq8eQwKEY4Jxgq+o0VUW5gYi/8GYEASGelJ/jKF2CTz2G0Q2L4CPpqwjrgyY6S8O3c+YE1\n",
       "YskTZwhKVTlGl/+DpVHd3c0AoYOYAAABdAGesHRCvwCGumzCXsGUfpwDZtDj4XcrrEfk2mj7Z6E+\n",
       "mXva7vtX7jVDj+V43pgbDkmJrAYUbbidJNOuNw5Tyi42G7KUJAB3zRhNG6z01GJYjHmrtW8vz77Q\n",
       "JlHY1e8zCFgg4O0Q3fZWUHs9Vkb++2yov8jVxbaQr6ihk5A50GmPSe9fiWYu0gVH553y75NfPW1Y\n",
       "OTvM61/9vLtrn86HMw7R8v6twrcdRvRPVp9zrln5n/iHbVrsc3EIitaLU7/p3AUPPxZti/g0PTOQ\n",
       "e6vvHymZp2IFV0oS+MpwJgDaW71gnr7xBh+ts1OfMfX4buc9P+/64jpuK/osyRxK4E3+wiXnhOSi\n",
       "uPEOpxXmowljZg6yzh0XcBV+ryKTIxKXgFVjz7p7pkah5jvoyfVT4c2ziAnps5EQRq3Ux9/P65th\n",
       "XJm+dOHQcKUdxaRZujo+Rf70wPn+i0MVUebtjsbELeFs0wjyzj35RmVKKLDgf7eRHNKWdWmfYQAA\n",
       "AbMBnrJqQr8AsVhO9R/0VtEnGZA9SGTRgrWZV6vAA9DSARJT8RErpOGIgVOr7zuF35mEjnZXfGGL\n",
       "MN2xwl5SQHFdCj+fFR57+c79K3HM8tHJIjuhgV4M8rHg+riuTCG+7/EsAV9PCbNA9MmBE5rdd1JK\n",
       "xP5LQbJyTNKbZzWJNyDSKiRoN5JQLk9e3c6uKsHrmrdFNHWNHSp5si1OLC6s/9aVGnrgC7WkO1/K\n",
       "nWdgEKXjOA5qk32SXuRAX6xKSjJn+7tmIsqKW/cVnk0OlqHnrLp5ntypM8WtpRbzJaBoYQN9MKug\n",
       "N9hpmojkJ5uMPGH6GmCsKFA0FNYoFNJZiQkiHTP8PFNXyQa3IYWQ+fVrP/bRBvgl061nmFLT5dWk\n",
       "54H+2eYlxw2G0Iv0AzGWQ2z5mgBHk03BJkQ3K5Dn/VSykvAc4F3tbtCGAkFKM5SDM/je2qgJuCav\n",
       "3CzhrEDtJod14TFUux9qmnUdXoW3FnN8BBuEKPOVjLLWSTzHK8HT26Qk20mhwC7J70fznfQ4DgHW\n",
       "m/lNJC+smh+VaKvc1L3TKZAktj/IDk8AJE8lL9V6UaQ6IRQOKHkAAANkQZq0SahBaJlMCGf//p4Q\n",
       "Aw41A2QAVvumfXKD+BtlZ7OlxPyNhos+keXrIJ0fGRBhcQLgVVEVGAXXJa9zbqoqsht2OYFheYxZ\n",
       "J1pvNjIEEotF2ea0VdbeE13zejVnce9p2Gp609ny9Qh7n6L2rh/R8cuyIbXp+HBSegxcQJ2zVaTR\n",
       "RtvPBU1XNKdHQk0ZeK4ZY8uXFF/z5g7sdW1vzrXOCIxn+hzIRaKyI0izCBKL+lqRaav7/ITQkoMh\n",
       "wB6r9KIjQDOTj8W7f+519Lde/3pv9rpvZYrHL3Y/LFWe43NspN3z7U37WkX7ssWAAmwXUyl09CRP\n",
       "Jd4klY2rcNlkFvoS/hKAVRyCftcAjcTPsiwVPpykCQDidtUyzZgfMp/KbqwjBPAO9ZxJNDt31Ea4\n",
       "HYOO7Y22uIJisxMSw6DN9j8x5vWDCS/EhaXu+TMKNMri9U5qa3mxeIusnsxm0lHI6pv/7qbWQW2W\n",
       "FOsUxAgWN3QwumL4vGPNIDrvhItaLuz/WilO9NyTpLXar0IjJsT/wL/6FGCHWsXNRYbeZJ6F7k+n\n",
       "oGutl9mKBiGGsaZ8HAkMG43YNXv82GwPUcHt8NKwL/Fm48h7S3dN66wvZhmnNOKMXjZ/24tshDjF\n",
       "izFPsZomrJCRt2BVKLqOUp2p5kYLAq2kvyK3YS0UPc9YZlheBFdP2OgOVTe0gT5SFAAgtV0Mu4Bj\n",
       "2XpeqvwULS18ZyEsvBhpzlkQfwde0dwiuM2Llzf9FutZfdMtAl661mQiYfR/BlyugKPb62I7nCEF\n",
       "OurFK26uqBPq5IW8Bkzmcfe8PJJ9wIQA9JSXr5BT3e5oBZI/cr1TgOmKmeNPLZRtJJbS7/qt9jXY\n",
       "DExMM5NqLTqiLsllbCDoooBt5OyIiEcSrgViFVjQaApSfySWswEUCygUksrpHFBaHjLNL2ac+Ekt\n",
       "TV9dKF6FE9XxdYFARJPuCi4uDyTSvicdeapBTgQ0W8IqmYRGOPiKMNMbeo4JzYR3i5R5/QbUjiVW\n",
       "b5Fo4NlyT/HPNh3FzaJ6LMxrVpgRNX6FFMVz7C/IDjQ3Ijyu+1SiromgXoKZYxb36H8MiMaEUO3F\n",
       "HlVE7RO5ZTxPwREbMHvNSwQNmdULjtRsgRL2MD8OSd5nfW3Wg+mcNJW+19fUrvyZgo0RSgcTjgAA\n",
       "BCxBmtVJ4QpSZTAhv/6nhADXja12Za6DrdpFeLgCofrTc0EGA5014JzRElEnuoBLRTNCMbkyOwgm\n",
       "w8gvF81LMbsEHHJyBRLp+NMFnyhfvAoBEPYZzUmJUKbrM38DCZU78QfZYmAllvsXXYoJwySaVLsF\n",
       "tzC3FY0Am6WBoI43qcR/bDGyncTtrMHqDZFcuCSU7jJItFmaAsKhc+eFKXGHWPa+lgM1HVWXVRmq\n",
       "CMyXkrAn+aVrJ3t8lSfhRWu5h8UQFfeD2WdiRx6ejZYKISwPIAcMes1H9FC6xo8t2LJ2x2JOzUlh\n",
       "4aXaUnaX7bH0j3NLlBNQREXTUnk/qinBHX7QW+cmd2V82zhUXpIqIthgzTEF3yJHvdP/frJG2vIy\n",
       "mK/FqckLSbAzN4lcmLvELtr5gMFnb58f0ch1iqF746iuKIgXdQesj5zutOHXs+/e0LYtZTMXJ0Cp\n",
       "CGSmJC7Llj1WwrZRp/s9jrETlH7eoeYDGbl4+E44rOKorSQLGHM2mw+YHqiqa+a+VfhXzLi57rbw\n",
       "Kes9RNISBNOt3D6vwxBsMm/vRQQptNE/N0yEuYTluhgZDKSfCOuYnJtSOje6ATRxVi7W1PPH9Emz\n",
       "kFSaM+hILKT0IPZ99owLvYGKJIZjaZDhgb5BJKpnKvh+Tk/DY+ASjHWK3v0HAuLENXyCO45zqPom\n",
       "N4xb323dL4VZOuzirpglCuRBEXXayZ6rTNoLtwQLdp2PZ5Q63uXL9yZ3NbDq1emuZ+OZfgfYza/R\n",
       "/dDQhqDV6gXEnMzoawlfBUz8Lpvr/oWgKSa+y1evc2/1EQ7uYetCs8GiaJXa0iebZX/JcVlTTGQv\n",
       "PM0efRZUu2ZVsWyOuafwMedrZNv6ocnfEShnb9CBuggTkuiveT2BooGSWXbjfwxy6qbmPZMYRFfw\n",
       "4P4gnDYRlMsXeAVUXYwan0MS78xPKgLfvkguAbecXFGOdVeUn4H/91gf7IOuPi9bglA7qHbkhde+\n",
       "fFrmh7TTuGhvZAgd6Xh7Dt4GxC5IlczXw9u/9GNRi/DeS+/ET7qoBn5TJR8cf/EOLmozeA7lCCOv\n",
       "GQGGB95t6cxSAPntb8O7Wvm7hdDjZUj6jQ2LbrvkfF/mJIjOQLuF0jAvQ+c9Tqkw0OKqbBMKE8mH\n",
       "CvA8lVwnw9lKXLpre58aJzTyIoRLmUJKcK1a+/ymwKc8J6OGE7rRrh+wXNTPvB/aA+aUfWZfdijI\n",
       "T5dKjFNTC1HENt7f+gXgVosxLvad87GclPRi7Q+/iOLS6w+eGhO65TKxMPPSdFomECClFsFThS4N\n",
       "nQCCTqlSE5UdxiE+9AsQOT1Fa/m3pjBW0YQIxEu95GDw9PoJuXoK4+2wPT1l31zzw8ejNhFfEqO4\n",
       "hzuGKR3dJcA5znVbn/6z195AAAA1UmhBtFq++0asGPbpQ10qtZXUpa9zHYEAAAVDQZr3SeEOiZTB\n",
       "TRMM//6eEANHF0+SqXwkSMAAV4aq4H+K/VVHTvxtOpcg1ATyOHm9zzIUH3b4HwCaXpRqQTAkT/33\n",
       "JwdoHR5Ffp/J8XgKZZlfmlhPBYWG64z+5eKrU1x89Csi1/WLRvLYl14ycO0+5laMQQjNObapVi+D\n",
       "ssRxN0HxMxBVNlkoa0dnlu8QGaYkuJs/MJ/fTK2HCXRYmLcoTofrwZeM8/9AF3Fe8LfF7i4m1mNl\n",
       "oEdi/mjA5iD6MNvz+yYTDiwfybt4eCQNm5Z8iAhAfqc+3nqjvWQYOb5eP8M+C6AFPChRx0t5tQYt\n",
       "f/k8Im8GMD8mWzhQcd00zZi5BkJX3/ExfhZupWDoXRKW2aSiZbjGOADiNHilkYebDNISY/yLz5lz\n",
       "iTxgRm9ue0hzoIc3ZD4abGORg6PnQFVU9qafOEL+FKn9uxiBtTAxgIPeMrioCW3XrEZoB8yXKdku\n",
       "5l8XXp9k3vD+d+8lddMhZJ3R72TsVmknnIl+r+55kcLAtSR6rB9Z1KTkydgexJUoEzjycAmcijKe\n",
       "UeyxHaso/tHC56i9An8CdsBCZwUQawMlezVQmt25z0jTgKYNcWZ9l3hWtDV2FIBqxlA1FIjsOXuY\n",
       "ZRa/Mbo7/JVoCuYKzCj9vxLIzJUOat/7q7PFD3DSRTep7fl+KWmpiZLbx7B46C4UOmWWPoe6NGU/\n",
       "9RjNuQIWzbbkYMHKfPg74qfw1ooyZpXz7grmI9BPdUtX5PzUCuZd+hRo7//1cxR7j4kdBXpbAQ8n\n",
       "wO1TJBApakPot6EVP19OEmcSXyBDNl8f/QHywqkY8dB0P7D8hsYHYgAsX+zUCnKQOSR6mEIYhYbQ\n",
       "OFLY8DRcDkiQ8Y64BMrp9oC7TElz8CUIEjGJzSQWrCsIojNFap4P6suSCqPY690eBKv7DyykWs9T\n",
       "yCU1Z6OaHfzVw7D//2G3nFLdylwZawk1/mGZHhEJaA9E/yYX1XoqbH4vEDwlot5JUWZ6PH0C5NFR\n",
       "/mpOJ2O/w4vaEfKTwLxM0+8P50nw/06E2ujjwb4pqWnZIqzD3/9FSNw5Z+6xqk2oSSFkR5uZ/2bh\n",
       "ZdhtCIKVc67bKlax12x9EVspYGvaUn18aGtwvuyW+lAgAEEDADgsObM/Pf4Ru4FJ9chRnSVERGJs\n",
       "jWM2dRqk8QlADwJz74eZhTUe0Gq/0FO2AfiuvY+/IMlxLOkygo/2ngOKuygUJgitsYu+JZq35IJP\n",
       "ao6KvzR9AinFCplec5msY5QXHNEdE5miZpMVY0Ag4vOneSEk3/yrl3ku61wRzAMyWzMq205hsAJ0\n",
       "uCBVb+Req40uThfRXSv5yoDUuJa5BDcWnyM0QZEAHqkHef5DNlc0JsR0t4v617UATRgo+PyskTbK\n",
       "BxLMtFQxoB1pPgdBHQy3eDs1CPW2pUdG5oYmhZuYLo1bzEIp7T0Pdfq7XFj1Bf5XSgbZmD9+HxUw\n",
       "JLNSBZhrG7sYAo7+jFpvZVJzI16hP04YhUO6g5XB3JF6jg6ngSeEsmf+jmn+kfe4KOsvvbpUwsm8\n",
       "dcyDmMuM1vhiiW6uABw/wQpnqzIf7O3muUW+D0Pl1By0viwQzjGN1e8PqT/vycgAKvJUQ5hCBcIV\n",
       "vn4KB8Oypj4sdTCzngClvCHm2W6ByXCmdzks9grqfOb+8Y7eK8feC4+I2opSz1982C+PCr6rPOzE\n",
       "AQgSQgFv65EENjWsF7HC2XTWyInssRhGeo1lz6tCSGJYSkYOJGdPr62GkufgxMTeM3u7YzSEwiMg\n",
       "3iXbtPIjVZPVg5F+0yuFxUCQ4Qtwshb5cynYAAACMwGfFmpCvwIeiPIcQQawsknmfo9ACvBp4i28\n",
       "IBIqPsO2/M3k6OV0HxdgXtMg9gXSA0x10HnJ2GIhfL6kO12OoBvsP9KUP4GDlju/dx8ehCwYpfcy\n",
       "IuIh2D2x9d0zLn4XMtE/HspDEPuSaPnMCpXkgR6nx6sx7h/aDXq5imknMYNThJPdwEmpM3JpCGM8\n",
       "/6ACAG8MrU0HuPxJTT/63n7xBH2bLDKvicUocLEi/iiV+oe0z2CscOjEP4cW9T/CBXeqhZHcB0id\n",
       "7qv4YOxCGUn7yN5zNUtNUTy5N3UWqtGVheGkxWfSTHyQXTSZlIdRFI2uMnfWHzMhmQ76Tzu9JAqk\n",
       "yXkcP345lJ0FDgTakRjtr8hivm0Guz0Q6Y5hyEq86OlcgSLaW8VE0a8wyVTmdhHwqZAXklBzqm7/\n",
       "llZoRRFi+MOEcbFEdZmVkMDgiQUT4qarxKlUXWZ9dJPFJA1GZVJ4MZY4a/3zIFiGZDhmBLjz0wz4\n",
       "DhGh8WxoYgz9BlqixWJl+lORrm0kje8wCmbyWdF+1gVuMKR13vW7Cgpt9YzYutm4PFK8d+92EG2B\n",
       "sVdJwcEqjFR4yayN4PFi95RDHCdRTUs1IPziEUtJ4lQGsoW9+fun0N7PLAs0tdw8/EVyN+qye57d\n",
       "nEdBkZvFJP3lxbAH+TQmmET01kQvrdNhBgtsHTmoNp2tn6lNuDrJzhbdRC7Nc9dkM/ObfCF0lhM0\n",
       "n2wVeOhPpUpxcAZ/b/SuEFFVwAAReNM5AAAEiEGbGEnhDyZTAhv//qeEAMLaiCYtaqqAARWTGjlA\n",
       "TFB6l6dPMiuayPE+/UtDa0ouks34WJR6eNLRJ+w7Qqd3/pn3CBrKL2sY8Q++zunwy0oklrMd29Ya\n",
       "Zr7boxm6R4fbBg7MsSbBqXAeVX8/ePhPRQwt+UH9GvOm1NcIjYtUEADkbnBDTbS1LdIp7VE2ywqc\n",
       "BLjIqqWiyr1/OVU24dYQGe1Iug28MFd9OYDPdhJWdhibtLB1atJJPZUAFjrnIi7Ckol3lLIGreuJ\n",
       "WG0EpZ227qks1mz8PSw6OCYyQoOr8jCkTlXXmkUtYiTO0LGXolu/I8xQtTvY2slxNcPgUw6gEhPS\n",
       "4QZmLPlY5qgu/tWYkf8/n9WbrQQRJrg4pHkqZCSEBf1QgE3cSlZzLGqm4UXAi/4u4iys22MOeVE1\n",
       "pr8bOO6tKmtcGLp33Xr4GKkgZx68JGRsb7j9+4tn1f3GqX7QqQDmi30Qobx+rt8ldxKkWiLR1rKo\n",
       "F/3Xap1q9TP0NVZ5z4y1EpcqgshnylpZ1qMYCz2g5pQcSxapJqJN+n+okYRLd1IjH7Sfw/X/dQch\n",
       "icUNc5FPJcrzmI/RXsEkLBFYHTAaPKm20Mm4W9Ne0Iq3FMUY1BfYHtalRXYmc2cbaRN2G+6ISnwe\n",
       "LiS0lnECTr/WEJqQ5sMkHvaKAMvH/zcYgjxFDtNxKIw7M0tdKEZ373Sh23wyHnmQ7rfY5SajJbQV\n",
       "6JPenDbQVLHtgP7gK9rkUOA3oL83Zu/EqqQRywdTXwxWxu38URxI7v85F7nJtoIA1QTlcn60ABzu\n",
       "9Tqq8BkkV6RMF9L4BLSRmFAGKHr1Y44+GTE91AJlrcU1UupP+Vhgh+ufIU27j7ScdekrtwJ7Foph\n",
       "KK3qzXl1+qLium6/dK6xu1eiHuCIGyHIYdQ/JS/WZHWsg0z+XKS44kus29u/YD/gUa98HBnDIfKa\n",
       "BDlqk0UmJNlbuCsCg9AFJ2Xo0dTZqel32/jU7O6Py0YfMHHmwfoHx4lPX9BfLD5EDxmBnzIIs5kI\n",
       "WUtDk8VFt58JvEZ7ktm0DEcHQg5QAsgZJOwFZsxV7c6S4py880yTwTBa7x6KPC0obMWZ5M9I63t5\n",
       "s4OIb/rlaelK1CewaD1q8sssud3DvSIsIsMreN5XMYMzvFwgc0vwZG1GwZ6DQfKEssNVTlN6bhDr\n",
       "hzrT6Df46zjcFO8KVqUVOVh3Rh1V719u1TIBLZO+ndprcqBvnv2+vlYth3eUvaMkNZNrRBwQIELZ\n",
       "Qh07ac2u9ooTGTGQVIzbRg5RsuLQsZ+Hr0HACOiBHqqmEVqWl2Fk2bewtGKviP5fJiDKyet5d/Be\n",
       "tOFsc4W5YjWfYb+Uce8BemBRTwxwHT3ntddWsRPQeAeT5K/Xn7F2VIAzcGCMITVLAc2DKW7oXAyS\n",
       "VwkzGe9vizJC9Of6s05jM/UGMUSfC7oC7d6jeN9C5AbT4uuXsFWFYqHwkVv7qtiCQ624czujK5DL\n",
       "zO1HoNdS1i1/yLZg+Qoti0bTfn3GtHS/htbcZcJtlKurYvSAPAG+CsqZvNQYgeh5AAAGMUGbOknh\n",
       "DyZTBRE8N//+p4QA1uBaHv2VrO3ODQA4zlgFpSSHkE6Ek7sl3ZiqdPrnSE2kL3b129aayCCktKrW\n",
       "qXiz0DJU3vdq89/p7JbxmQH/+ORIv030uJ4nw2UVh4nALT3MW/ENsITc1xUs0qURVHI5kc6MmqAF\n",
       "wzVnHH0xSjCsZPjX6/YiEqZRWz3upoKCAg4eO23MoWvV9uTK9riiWzcr7qR28mtbvkoVvX6V8AZT\n",
       "Ao56oqdow9cVV3aZVRxT12sJOzy9WSDrQvFbsoYvbOWVyv0HWcAC1xpHJZtl2034KEzFkNrUX532\n",
       "E+CiqCPQbnejemSuIe9fSL0GGst0d6/ehDqlszqbGRS6ARq12LhdXCxzOJL3fefUlRb0H7DgNW3n\n",
       "BRDQn7Vj+l9Q8JN/eQd/ffIMsB4cXdDtboJ8CG9wNroEWOIkaMyP8A0CjQFEbUnTNW6ch36xe36h\n",
       "OTDUuTetyRT+IYjd+P0RkSfP7db/kfKWf8WbGwVSPmXJyJemfnM/RG1vIf0ROawFv734UnyTlxdy\n",
       "zJe+GwJ7gYp2GhAHfSDPqMC+W0JayNZHgFNjMqHpjmmQdAsMp6EBtKjeNJP6DN/hG2J8Xul9DKRx\n",
       "LEcVAS1HZlHJjJumsesMurUSrDqWdhrW5FQbXJq4a5aZcfjyYoTdpBdT0+TNODVSFD7jzmmTZxOP\n",
       "S0bzjvJRX16+EYgIwPDtfPOSbgSrKvJvsY8QKfb+Nh9bAcyWReIiPGM8pIF/z5rISG76UqriL06q\n",
       "5i8Vo38F104LZmuxIcFVv5hgOot3hkgeB7pZTQic/gNL1PKNFthDeH71466zlDBZ6UrPQ13zyw1+\n",
       "0sWfHlLboZqNCexD7nP5rx55Bu0x6XDNve40arff+pTnRgJgmRepfsNXHaskR1tLcMB+a5GNiQUp\n",
       "yAbkuWyzXW0g0mLRM3JcBUEm8eSVThZmnaL8xaEUluF2Ts6RyP/MamMHuqM4Lir9/blTsaXbBmtm\n",
       "+XtV5/pKVTFfMy3gkr6oZrvuZYyPGX00/5s5nZuc6G0Z2xXsq4Zz182lJIRp1vrT/bExwjfsOemU\n",
       "KjOAGoF6OgtLx7kNmVwhXAXkFRR/G53kLunPttKYeS0I0l1Et9ijMY8hvGBFgfgLC/TR/99sDttP\n",
       "k79X/WI5KjnDohKmylhCszXjWjkbFPCjOzjKeWJpqVZy0trbkVMqPDIzNTtqjwPKbG2+Ijxj/NvF\n",
       "pKlk4UGDkrqX/vHpQoFZVLTFTVSUI1M7POMA0S5qo+O0RTYp8HLf9+P2cftGa2LAn9AfE9HvOhNc\n",
       "HF3M+FDLFX7MKWz0qBfFPt9QS4jGXUOeOOaYiLwORdHyPXW6aagn8Oc+bSV0j064uPCJrb/35FU8\n",
       "THhdNh3lGGS82z909XQtHKLg5h4eIx2TaJOnbOvFv8rz6nRmRYFIy0XHJuoQQJv91/2SHrh1FBVt\n",
       "RBWU+G0qAAFdUbOwuSFe6bu2OyDMsUxleA6I8TwO+t/1NukbqytusSjtV4+oJgQRfIeQVEdDpr7B\n",
       "xbG0xd09l39pSeesezpyx2lso0xZpTX4GzTBVVeyEY+JweX9J8APMR/SRa34FYXjyzjSxbAfOWpc\n",
       "8TFzCDcKFDv5z/awgWelCVMk0NwHnFLmXjVhSTHPBaKf785OaDbqF/rK6kuRdQPxaNcbFlHbnT87\n",
       "qagRmrgL3tDvOPbcJEFQpgrammF7Je7Rh4dVacrYF7G+g64ZuCuQfBsRLKNPIf50nY9QdeUT3duC\n",
       "JeAW6nKhl6q5YMRYAafq5pLEqj6rHN8dEKqEmlnqwJEdhN4y4AUT6sndRBet8+vLT+BGVDoZvvyX\n",
       "MrM4+jrG3QKVe+qn3NzJS4xYvu0pBtUvhF7r6luC3hQu7SwC++T0H1F5T/dYZHqHpCcyp76xJB0B\n",
       "TeshMufQHt5Et+3800Mr81dA9nwsAJ52+inEDSeYBBVBhIOAZV5XwCixbIJpv7k1bA77lM4Hj8R1\n",
       "mimDpKpUhgF5UbsQUvY8H4Rdu8lk3QcO3EnQVesIUahW9muz2aTvDplYEIwe2ql8O+pYWlgoyAQ7\n",
       "EQP48hkdwoHwiBg6YByBZrrGNFqrbOewRx4QCDsYBvzrzplL4Kw9DUgAAAHOAZ9ZakK/Ah6I8hxB\n",
       "adPo0T6hJR63V6BkDJ+ZRr16gThIKkfrapHvcBFZ/F52iHhgTmo7TZrgBLMwX7wJYjYSwsIs8Chm\n",
       "CIUQoyL43CCF+lN1lfiNA+8lXyUW0YPYAlBuxZNr9VEyS9z9UwGxaJ9TG8lRAjDOKLyliax0dq9l\n",
       "KIsgHZI8qdf7N4gJqEBgOrtZGlcw6W5RrVCbWJ1GseIxDPCYL+V3ZeC3165BIdyCNrE9ZbyvXEbD\n",
       "QEEwVk+e9lib/ZLMMcObBp8jTJ1CMBO8FRdFQJ0Q/4eUdAO7/OrZsSXEtdatCpwFwx0Um0rPE6nd\n",
       "KDMot192l1yPRUfqhAcAZbdBRuB2v+5LHAEQLRaGG54JPcKYr/ughP4O9+KQwEuzd9OyM7Z5/Geb\n",
       "8jtQV642CpWzH7Nkq5Kg92P85cgPSsillre5zQRIkjcFqT4GUBXeiEczSko4kcs/GZZ7BjUuTyJd\n",
       "t31WjsyQyC4WirWPBVr5HbIuijY2eWdKDoii7rFV/fydT5b5KrUSN/scvzDo4agaWDTTkRU63ovy\n",
       "5EKbvhE0dQGykzbeddpTUy4XsBWBsxatguYhi9C2HDH8fsPUO0FcuOE074q62PuLhdOBAAAD/0Gb\n",
       "W0nhDyZTAhv//qeEANaewFx1+NaYmPdoJY9rDCAAU+P17y7oumJ/rl6OcinT+RkGLfO+mANRpz0Y\n",
       "BLxgdL0Vz5GC2zGmxTSI7ckTA+pZDA1e0BBr3Z/75Gw9i70Wlz/x3kP2HG/q3aG1jDGymx3z3NCL\n",
       "ec+jPbHxAjpfLSSCYiNscV/ORvrAai2/8xKGQ6oG4J5HHwwoS0xRNpxYeW6uDPLMOBKn0PAU0cCM\n",
       "LHQwVC3gpCyz6SGFI3cPGfomJC97TNsdQX6zPvYTe+lh3bFNQzgvqTuKj6eem640SP8oOitMumHH\n",
       "iZInchvJ/xT3/IL1F4mfrEKy8BkYY0nml96uTwFSCbcNiVwbiCdT8+HuZU5/bJhJIgSqUs+LFF9V\n",
       "Uj06yWeTWztDn6sMAQb/K6gJDHQ/lmJvG2h2supfUWnI4G+X34i1pcs28oN05VpV/5T5Ub3eP66y\n",
       "rrt8klynfQFChaN3b8Vrfm1b43759Ijqaf2sm3KePFaGO5dKMDbvwFv/VPw/RAZAecdZOcnKSRwY\n",
       "9aiS2lKEcSfY+P2fZQ7uder/sZbvM+0OVFXiGb79rktgAIO3+UL2eiwUkdaqwnrJdqM/61U4tCDz\n",
       "7fgBef3ErW/14RF9BrvybVjSKnpAEaK0utLihDDvb5qWAcF//1ZR5/q5RA2gYIrGZzzeGMGc0maE\n",
       "8gxheqDllRLuEIrvyEN4o7qVl6j/tgL46Jg7lfe4Xi7jIR9e891AQgjVq44kCWbRXAomxqfI4XpU\n",
       "WaC90iw6UWC72fL7HdWqRRW5+siKcTcTGN2xSmDb/wFmrt29q43HdPShLFY/ZotHymbcVi6r6NXx\n",
       "HYu8ZHjCBEJqaC/alp0i+y1Eiel5wil7FGj1bjohUydx5P6hMugM2R34JudJ2Qv12/Mk3aVErcu9\n",
       "41VP4K5iVz8PwRfwO8IlPRSV8S2rmNlI86m/QsXzMduLiy5C5bWYKnCEFDh5KYwVUQx/1ke6y4Er\n",
       "oCgpzNV1djW+8o/GlDov6v6spb0pa0FWkCP28Lrlk8QzK5L1yCLhclXEJTDat4pHVCtI5ycyOpEe\n",
       "eQFKISRIsVvsnmKdrRN5+QWj0W1qB/WIUrobtB0nfXV4ij7IEkWzfrr/bcJK5J8S6fJBo0T3LoFF\n",
       "9xbiFT/JuQ96bsRFF+hS019gD1OsAyAXQB0a2kM4A0nqS4nTKB05FKVkyjJ2CG4hav93SgGoq+La\n",
       "cMn4jchLD39PLsdn3ANTNBxKno8rHH4MDya2ja9Y9z+IFVbG7wzk1g7wVcO6FYR/KkstIihDQRLd\n",
       "RJ7soch2nZG5nSsRT1fNRfUv9A5eJevHw/rUevSIGca/zltqwrr/EMN//jxRHEtbgtf0gAAABhdB\n",
       "m35J4Q8mUwIb//6nhADWumA7bMrLO4mXQAtoAFmpYcHERbtQ65fxHl3+bAKzTCn+JFbetyjMfCmc\n",
       "04o3bZdcDYnYvbBku+J717scnNhplBDmZeZetoJtauI72akf8LzDEF6YXbEDnq0Wi53ocKpyhSDG\n",
       "0fHr4tsR1bhyt6s3QrNfG6zoR59yQVsXiEUluC3VXp5d+hrchjwvs0Wpe45MEAGGxWzazpGQh9ZQ\n",
       "iviegW7f37kxJUUUWD3ziJ3HisfnpYmtnjYAo5Wz3y48WuHK65pOvTYIhonNzpAqC23enBZKcAz8\n",
       "wHYZNuH7/IrvQimP6S6YvlSOEl2Gbpf8ljVSqh6xgy8QytkfjqxVjMWAEcOIoo6gPVdMdz9hNrS1\n",
       "lzAf1NELqjcowCxmOBZj2w1AYILFWJZykg7W+2blqGYLhiEsPDdLRrnx6/tQAKB+XJ78jMlBOunS\n",
       "ncD3oMxMzCsj4t5ScrOAQKA4+6z95Gqq4ikPRUVEMMEaG43Oni/zaLSTXr+sZEVjfPWZ571cIWTp\n",
       "p8p9EA69nmmpN5Hp637MNebj24GJOIhaYVhF8Vf9nJPE5t73MKcXDoift1O7fs2/xcg/XLHdLckb\n",
       "yTPlRz+R/XajUmMJN5xoKbkpLoTqW70g8AhvW3fLNukW3x1dpaCYtxr+vwGPQnCIc7DXzkk3xPFB\n",
       "Wua9VUmuMnDeCtRQ7ijKWp+sLAVgM2dhvsY/oXI6wMo3mEWbLA9zacBbUkDNR4Qm9Ry3429ZA0Xm\n",
       "ZMpWLIYj6jjYALs/gzavdCI+Z7BGbDtpvn6jyc5JpmZkzo4klF2RaHfT3fg5Mx8MJRBtnStRue7u\n",
       "zU8L9mcfGNNDRK0Jze9ix2mekBvO/9STrxb6wP11ukFR8BtbTnvRzfAJYJ7ZmmajR3LFmMzmU2Oy\n",
       "JHV5UkN4nTpWikrbPKh3DNzT8n4d0GoFxAqxAHchnG+Z604nTA0jbmEqz8LTrRgNRzGuaHAgL9wm\n",
       "bJt85xKQyicLfc/w6F1F05KKcFyayZnRom1MrYJcrfT9toJzWKx7f6Q3D6Zj4EOEk59mhUPWpKqE\n",
       "fO2ygRdqO1bUSL5zudYz3Ydw1v/qBYqMFomxTNrYowNeqlKL95RjALp016CNcayEOa/6OiGUtgcG\n",
       "el5M2Ij1aa88tY1HOoBNm3IastYsi02nFHMgT7T9Vu11eNzBXZj6dLXBV/EY6Fh2B+DUhBfTZCS6\n",
       "pJa2JUyt+25IzgetsVPu9+5fV0qMwN+uO45by8P6XyPNKtKDIqHT5fJ4SiU0psD19vvt/lzdNIaY\n",
       "PQ7vG659aSLVu45bfEGUSUCPn0ADgmi4633lo4ACvZXXbv7kFiRlHQfMA3VewzuwFEj+s+9l7sjN\n",
       "JEG2rulynMc5X3+hA1YGkxMHVA0VLv10oDrbbRSMGQtYjkttVZw70fmVJnb8KtmrrJBo01k0VwFy\n",
       "GL4MmdgvS7KBZY/eiyZAzpSPrD14L4qFQpMUrc7bgok0LDBW1hNNC3iLdLzr6gNQ9tQrjhdc6Zmc\n",
       "0poUyGeyxTH+pLLpgpL/fAizkkiFi5rJtEysY9BfA7tM2lY4ml8+lTYMb5QnNHbO73CjiWPocRiw\n",
       "hXWQnkhu0OHK2KS6mkBBqNYR8fYXAwhhiXcQugOBIFBz73e9wm/WRo24r2P/f/B5fySUzPbS9PIk\n",
       "ReYEi5l4MAcR2Kuu3UEWgd+9wpT0npGVAkWAABDEO+UtGOepVGoWkgZCoahcyTfqTOb900Qm818r\n",
       "k1ynOvH+7sRwuvUMgAolVx9fRGXFg++iFHTq23toj39AH0AR8n6a7T2PN8yR1nPulHvSlfsrSD2C\n",
       "4RKIFcgnr1vQVu5jzRUS3ugEAnJI4YD4FMlT+KO1c7yQkLpCpiR65FNnNtlfA/lDsha6Xo15u8lZ\n",
       "8AQm6tdTR8moQQxFCjE6a6Mhppv611CfX2h6D2ZAMG0xFt7P3JnHiSYoakHdWJj4QvoEii5+U5Y6\n",
       "etTRCG0KrOqkhtVSI0YOdPX1nn1gho+WuasqwB8mkJ0qfdR3lSCQR8g9tlbvX8VhpPELCT433Y6V\n",
       "ybiZa/3pZhduIb0Si42Cb42kwQAAAjxBn5xFETwr/wIeiPIcQWnGxvCKp8gAEYEOgNSHnLR/0VrB\n",
       "FxFCsHcyRrun3oiiVKZFnnxt6ki1UqR6tIC73+OVdHghajhFcAM/H8p332U0mIKrenmipweaG4Zr\n",
       "dZk2geGMVK51NjK8Ahav35KYIhvt48thGmPL4nBMvb/orNs0e684z9lghbAWFwBIS4c2E8R3Xrxo\n",
       "MEfjoG4pe5wR8BE73Vd/dFmX5fyLDjBe+8bIYo3tYQVpb2apbDdJhy3I4m1riIWL9c4LXDW7OivK\n",
       "W2zrWDlNp5PkjCw3a0FovS7BSoeXJIWy/o4Z8nJ441A5MqIGrVnP9JTjHwGAmw8QBf0eXLuTMBL5\n",
       "car5yzEImqSmw54TLhhFpCs5zJRZxv/bH/tiFqRf2O4FLqyYkZKVe+gROBBAYdvPrdfoNb5AUgGq\n",
       "y2Yi7QZP4BqLqCv8c9IYkDUDgUzDdodk+YUPeiVCs/ljl9x7ME1yLbxXiRTLVVEcBud+7pIM4mKg\n",
       "ey8Fgdzbas6PBhogIapRyR1m7GdZ82dvRcj5+ze+5huzmShXpba9VR+lv/5ppj66zIqIHPCDS7cs\n",
       "yditUKkOX3LSgu1iIAKtmy75GoLp9Uo/xDpN1yYbY22vDXsImdZ4re2EM3MyjMWwCEBnrZ64vNpP\n",
       "kPfHzwwJQYVWE8S72+uJSVGcdjqCg7cmX7C85K5lxj1RfR/WhUecHBQm6Hmna7XYcc+W30RP7l8d\n",
       "3TUfv74KPSEPaUKkc0K40Bbjt6Yr0SPFlQAAAdIBn71qQr8Ao8QHk0DYB1lo/QDJet94p39b4K57\n",
       "Kb9AyvUQtJzLp80Vw7FRzIATrjmCOmhbKWy2xjuZP66/3Gn5EOAi4Gib5nVImKRNjndBgpQdIDHd\n",
       "zXJ8jTBEeHrH04qY4OTT+CqyzsF586TKfotDbU4izAPKnjd8ZJ7h/jKlyt2LvluMJmVGBlmuByh3\n",
       "EWP8GV+l+CnLK3wKeO3GrSLbNeMZVTNIOctqBI3J8kI840h75Kojkhym3Y73sHquwfucqXoZX9Bc\n",
       "gjG7dgKGNDeU9ecbxQxB828+vqgxIzY310aummz0yhC+jY5DKo/NyR+WTaKP6oZNMmMEpJ+CsEPI\n",
       "ch8ZHS62alHT/7bKyFLXdfzVgbyZXMf55uLnbMDzAB7zBVSns8S0LoZ2aioLx2joZw6Ey4FX1Itr\n",
       "TmTFzQslzdBcl8B3C/44JTf1He/D494nD4m9OrCZhM7mRBwY+vcP8EhBRiKyVQlLrTwuj3ALsX8g\n",
       "wbnTDIQPAoiIWc6ByS85LN3muJKC+aGYA5dAmJGGXyPBuSeumlwMKz0fkm2wVHJuzuR6FIWRnnao\n",
       "cwdRZc1tjZNH4YrecGEEN6SbLXzafUrXx3Psp1WbDvLVSQBubDA2AAAF0kGboUmoQWiZTAhn//6e\n",
       "EANGv5i/viAIO8tCV6ez19fSxL6WTHNkN8p66fbOG7u8gDBl42na/uysBDZTj6rvoV70bMHRBkqc\n",
       "XiaHOw0cAJZOYQfTyPidLaeM1Tqw+KntPO7jmG2hIZU0evqbIYBih79hvfFj/YrK4RImln+oq38x\n",
       "qbznalTl51NBbZTuFOmQfh0NYVATnnJ52jSsIeWJwS8nf20NIpWcjgelOUvdyUFbkjOTWpHuIMMn\n",
       "5a+4t03MNNkKS+7ihSI8tmssKuCuzAbW0nRDy/URkeBnbyX7MpT7/NuM0ifhI4+08WIGGm1q9RKc\n",
       "wXfcEkDXyXjUB6uSFRQvZupQJbouI4yLAzwCkM1acFjvI+gJEHquKW8RTBj3Z92r/4VnFnx1w1Av\n",
       "WEkTi8SLvocDSVvrzVaSyCp3BCmfAAqE9X1Uc8DyD68LBMH431cHVhM5itbt7rJVDOggzjv4HcoI\n",
       "2UpLGsvZ9DBnqLNstrzrYH9OS40Z3jjcjz8WZpcPKaOsz0priNeBUsQ+L9v89dYCCV+kH2gRKOF4\n",
       "QxGiilcjF1i1iDyYLzrgJxDND+dzvCouh6kulg3q1u/3igS1xgOuYkaY/af7m0aQKNS7wu41z4lL\n",
       "iKsvkE8QmZeyEM9dZdnxQzrEaJpO7Mg4VZ4DDHZP/mvoLaKQ/INvCGYiHtsBb+xZdh2JG8jZ6sGv\n",
       "0Elz1C8U41voqH9Q3ZuRIgwwXG4VHTbUWCwaAX5C16+ia+CENFq2ViHYAVninDwxjAf7A9VNLFYL\n",
       "o+IsOucHG989edXZaKH9njTfQfELgI6loYcm8/idmTXJaNSSBHAgIBy9S6opLEMxJTJnvQgUl/UL\n",
       "cq+M2UFsj9TiFNliEYr2VkmwRVGR36WZasG+QAaDbiLLloXTQkd8l9iYY4EwzmtI1NqD2lEWXSuW\n",
       "qf5/30Wtdw83lg8Wvi3+yTrOkoOmI/g6axLTR0nLXVa4qDybzSYXnOFyhQvWFQZ6r4WNrQJjq4ZQ\n",
       "G6Yb7MmlkqIq5ZyRwMUZoeJbxsJE9/+3txMp4dYDBvTYyL1lN5fnYrIpcTtUxfKsZvo7i4iO8Luy\n",
       "sRm4Eh/pfsJLujLV/7Pe/Jzns/J7DJhFzio2IYCGkNGpPWh3HXHYjjV7rEQbLtHgNRCO4WfopL0L\n",
       "+cZ0GzaqqtRfUKVfDpWV51DQCXX4J2AG5hkoommapNt7fqGwUN1JfSwZMB48Z/nm2fvffZL3nCmW\n",
       "pUukf0o3EwePfyrbVI388/mDpaihevDGB5VIUWrf4OXgZj8mBzsZfTCqlS14dVfNp2iCURarH8Bl\n",
       "ko98njEWABl6JGSnLNLIgXaMP/Q179WgnkWqJFntlCbFDbdkcL2rzDEX3ch5FuZTNTjiDdFxbZOq\n",
       "KOATb6yadpq23tZvRI8Bf+vC5gfYvw7hIHGWrC6gkF/eH1IYaqY4FnMbp/+ICDSn3p+Tl30J99n3\n",
       "N6M1vElpaLkdkjQEaNHcnWxYp8Gw7qGIceqz5CIwy3PA3kqWbnAG0eh+ouApzwb2Y7n+UhCqIJhq\n",
       "/1aG9S3FVGLQd6s1HnrX/Cy522clTqJSkPdD79E0tZMfP5QD0eejN1hD+DNy4g/+4ZTsjR+SKBZF\n",
       "0YDy0W8O1rPi2wVYYt1JVhhL6I3xhTgqVA8DYfiUyh5KRhG4b0huqZCWDJMdj/pvAqMFFcCkPwCc\n",
       "GIcKxC4+i0EGpfKQFm5k/IKKEMSyO1/PLSBzCwXku1Vdj4OQzbVXrMJ3a4OtXMEQdcxA2CMWkR5c\n",
       "/6jfT5NeDE9H3F44JxxHWi2G/y1Vr4eU0NGu/Zcu9y5529m1eYcyekMEzL+Bl5bVy8UleelKQ4Q0\n",
       "GglIP76qViILj3r19y1pmuiPmj8/TCZv6gBc+9kpNBE7HUT4CpRBPUjG8/yXSU/v5wxq/73YyY1h\n",
       "RzxqrHQ2mvcSc+zyoEgTZt0wL5NGP7VlJvbDdrFpuUmyK+wB39GaIMiyxv5iC5JOVGWAAAACO0Gf\n",
       "30URLCv/Ah9hzRsFT0kEBhKquS+liwVhyyPEUjzAArZ1wxBzbkYzzoOF07ga+ujrKb5gOri6oEG0\n",
       "A919k1mYy2aS4MzLATI5pUjYF9TXYMZKv2XIUHGonGfbu+82gH3wh5AXB2mfzUN26gDxMZFQ43IA\n",
       "/cqiuIZE42v1imvb5MwRbhikeGEknhkBDSEo0lMCaBCZAFKz5kkPWg1CbvXGH1NhsM60JfRLaQpb\n",
       "X+eRGlfvP/Vh11UKhEFNE9MNrsLJ7sQ//7aSwDd0x9F5zTdohsnZKeF3kcRKAyWB/G/XNwbKyzgV\n",
       "H2BZIFTS5zCYDfz1GcKoOoCmlMdjO/BCvfMVXEQK4htuzstREydt07vyXoxcYMDV65BnDDMCFVHf\n",
       "htw8D9sevJJrc93mN0q8UXVoVqZNSLIoSDqkzBaGmeLAdLlN8X0Cn5OAipXuL/flJzVoNo4OuD9h\n",
       "C8MTI4o5z0e3WIoZkMbbih4mrN4FchIhXbCaSwJxz2z37bMKiiYySg1mO32UPudQNUHCIKWr8IsB\n",
       "YsTcuOMkUYiHu5OVxUC0/mt344scpfmFEM1rrjXzX686kT8ncjMYOcQ3zc5tOpuwK8ojlM3TTFO4\n",
       "Dc3rZpfnkKuORknHnami2zXT8susNMtleokVenpsRIN56IlWMbxrvyuTQiMwy+ab2l4z9+JFYYUI\n",
       "hraVa7GNaQ7K/bnkBbjQJfa7KtlOCeSTOdb/q14/UVyQHU3y3s1Dz5RRfB+iPE8FGmIxaA+UYdsA\n",
       "AAHZAZ/gakK/ALEPU7PgIfLZJz2/dklhpMCign0CQed9ggBZWAsIP2VQX3zGtLHs67ai3u3UdnwO\n",
       "6rDmDfYHdTKmD1/gJ3DfMYmQuMm8XpLZjoMgkJ5m2RoazyAlfARasagsNao0UOluJ2dSjIa+5Dx+\n",
       "tNqiqqsDLDYKZoZX3qh341vGerpE053kSVBRKXo+WDgi19HaY87mVMBw/xQzcvhp3CKmNc+NGVrB\n",
       "gIrbNTyb7fE2KCaj4llcUxy/tWDyJLjA5e+9TLI9nB+TCQpbeEcgczPDofMBghz+Kbdx9NMw8A9o\n",
       "1dExqSTdqjXsB2U2ys0KfHUE7ORXxFzEoxgo9fIh9FxXI/mESRzna0FPXkWxbZlXSKZT4jID081z\n",
       "6ypXmcDm246a8ClEYGe4Y8CzjikephXKxUh2I+oAX8ESAUbBjGO8F/SwM/W4Ymk31V+LC2+6Qmhs\n",
       "Bzjarif1Xwj9pKSDJMdrQ+j6BMHIMK+PEj+MXiGDbnbx47rlRiui1zV24KAoxWsH/OJiBCKZATGu\n",
       "HUCyzFPZXgZo0qWABcBW8M7WTEeO+6ulPOE/fS7lbNFVXUmDvw7tC0MAK3Fz/kbab/olV/WShEpd\n",
       "9SXIbi+z/dGIZq00asLsRW1rJ5sAAAJAQZvjSahBbJlMFEwr//44QAzMA+0ABs5NKH81qpZwZsXd\n",
       "E8zBSdiGmPs6Kbw4IMQbpnnL5drC3m/78fFAIQ7zFsBtuyBOhL7tyUylXHHSZgDgN47Neb8sInKl\n",
       "CqtxLFpKulU9cxF0Z0b58T2NH0S1FHTByLKy85sFdZ/IPkKcgyIkOJvYfHXFTqKKUCsx+ZT/0K/t\n",
       "3BQbik/0E+ou+J8FPW8XfI9GBC3xZ6/K5XWbF0AXSgWOF+cNGpeVEaP7IoVHyNxpu8HAbAiC7Aw/\n",
       "Fuzxni7l47SvHwPCxsqaGMJ8Egpxf51KV6YNNi+3L/XBClc5ClH0lNoHMlu3FZqyI0989QCgAHp3\n",
       "IqwUt/uT2ag5u1g6ttFPB501qshdVeUbazMvyK5HS5gjQewRuws34C4gAWvJUMLerfwq+6c1rWDw\n",
       "w/2piZ2k4b+1N/iIUl0NcrnBlVZcV+qsb88sv2xKIZWh1XTyqYwfxXGCyK/CSQUQDpKcOKH8bL9h\n",
       "vaFtdO/NcsyNNjLmzAZHXtC39HtxbVISU7CLgE1WnGaIauSAIoPvu+PCyI2cyQRM+auJ2lu1P8FF\n",
       "ShoVqUdoHZsL61RvU67OJKaABhC9LdpR1o17OcpKroAgMoE0WgwYKjsQi3nhjsx50L/3IsQXUSAx\n",
       "wmfdYg3EfwQb0ax1wPE7qHZI3D20/SZQIYRAJlaVnOgZ2oPNHQlGlDYm6IQUU/AjZRKiaLWYfrsB\n",
       "d2tETCvNm4W60DBA/7zfoYXsKwv6iEBJR2HYcg9hAAAA+gGeAmpCvwIfYc0bBXiNCYjdARMHnPkM\n",
       "48rDBACXnGmkuMatNU49XNX4A8vwwr5g+6XrZtxZevSo+yUfuFUuHBJ3PAXgKii4f6fICFMoQSro\n",
       "vjGbd+tb6boTGAgkp3TE4bY/jLXwxvk871sP3+mA5d6hXWTB156KezbuNjTRcjgNiij8QPVU5T+0\n",
       "nWppxfvBHbOcaj1JqrB/b4MRMzn4O64K6Tbqhy5iS9T7noEpD+1z6jo/x8vvMd57iPR+6V3khGdw\n",
       "TnWLJv6XhJDRRHdC07guSEQPfTJxpCTMUCxS5klvwrBnzdDBc2yzy1lyNQm7VeMd6sYtzGdoRiAA\n",
       "AAdqbW9vdgAAAGxtdmhkAAAAAAAAAAAAAAAAAAAD6AAAD6AAAQAAAQAAAAAAAAAAAAAAAAEAAAAA\n",
       "AAAAAAAAAAAAAAABAAAAAAAAAAAAAAAAAABAAAAAAAAAAAAAAAAAAAAAAAAAAAAAAAAAAAAAAAAA\n",
       "AgAABpR0cmFrAAAAXHRraGQAAAADAAAAAAAAAAAAAAABAAAAAAAAD6AAAAAAAAAAAAAAAAAAAAAA\n",
       "AAEAAAAAAAAAAAAAAAAAAAABAAAAAAAAAAAAAAAAAABAAAAAAbAAAAEgAAAAAAAkZWR0cwAAABxl\n",
       "bHN0AAAAAAAAAAEAAA+gAAAEAAABAAAAAAYMbWRpYQAAACBtZGhkAAAAAAAAAAAAAAAAAAAyAAAA\n",
       "yABVxAAAAAAALWhkbHIAAAAAAAAAAHZpZGUAAAAAAAAAAAAAAABWaWRlb0hhbmRsZXIAAAAFt21p\n",
       "bmYAAAAUdm1oZAAAAAEAAAAAAAAAAAAAACRkaW5mAAAAHGRyZWYAAAAAAAAAAQAAAAx1cmwgAAAA\n",
       "AQAABXdzdGJsAAAAt3N0c2QAAAAAAAAAAQAAAKdhdmMxAAAAAAAAAAEAAAAAAAAAAAAAAAAAAAAA\n",
       "AbABIABIAAAASAAAAAAAAAABAAAAAAAAAAAAAAAAAAAAAAAAAAAAAAAAAAAAAAAAAAAAGP//AAAA\n",
       "NWF2Y0MBZAAV/+EAGGdkABWs2UGwloQAAAMABAAAAwDIPFi2WAEABmjr48siwP34+AAAAAAcdXVp\n",
       "ZGtoQPJfJE/FujmlG88DI/MAAAAAAAAAGHN0dHMAAAAAAAAAAQAAAGQAAAIAAAAAFHN0c3MAAAAA\n",
       "AAAAAQAAAAEAAAK4Y3R0cwAAAAAAAABVAAAAAgAABAAAAAABAAAKAAAAAAEAAAQAAAAAAQAAAAAA\n",
       "AAABAAACAAAAAAEAAAYAAAAAAQAAAgAAAAABAAAKAAAAAAEAAAQAAAAAAQAAAAAAAAABAAACAAAA\n",
       "AAEAAAQAAAAAAQAACAAAAAACAAACAAAAAAEAAAQAAAAAAQAACAAAAAACAAACAAAAAAIAAAQAAAAA\n",
       "AQAABgAAAAABAAACAAAAAAEAAAQAAAAAAQAABgAAAAABAAACAAAAAAEAAAoAAAAAAQAABAAAAAAB\n",
       "AAAAAAAAAAEAAAIAAAAAAQAACgAAAAABAAAEAAAAAAEAAAAAAAAAAQAAAgAAAAABAAAIAAAAAAIA\n",
       "AAIAAAAAAQAABAAAAAABAAAIAAAAAAIAAAIAAAAAAQAABAAAAAABAAAGAAAAAAEAAAIAAAAAAgAA\n",
       "BAAAAAABAAAGAAAAAAEAAAIAAAAAAQAACAAAAAACAAACAAAAAAEAAAoAAAAAAQAABAAAAAABAAAA\n",
       "AAAAAAEAAAIAAAAAAQAABgAAAAABAAACAAAAAAIAAAQAAAAAAQAACAAAAAACAAACAAAAAAEAAAYA\n",
       "AAAAAQAAAgAAAAABAAAIAAAAAAIAAAIAAAAAAQAABgAAAAABAAACAAAAAAEAAAQAAAAAAQAACAAA\n",
       "AAACAAACAAAAAAEAAAoAAAAAAQAABAAAAAABAAAAAAAAAAEAAAIAAAAAAQAABgAAAAABAAACAAAA\n",
       "AAEAAAoAAAAAAQAABAAAAAABAAAAAAAAAAEAAAIAAAAAAgAABAAAAAABAAAGAAAAAAEAAAIAAAAA\n",
       "AQAABAAAAAABAAAGAAAAAAEAAAIAAAAAAQAABAAAAAABAAAIAAAAAAIAAAIAAAAAAQAACAAAAAAC\n",
       "AAACAAAAAAEAAAYAAAAAAQAAAgAAAAAcc3RzYwAAAAAAAAABAAAAAQAAAGQAAAABAAABpHN0c3oA\n",
       "AAAAAAAAAAAAAGQAAB4OAAACwgAABo0AAAMcAAABggAAAc8AAAWCAAAB9gAABmkAAANPAAAB5wAA\n",
       "Ae4AAAQbAAAGxgAAAtcAAAIEAAAExAAABv0AAAH/AAABygAABAoAAASpAAAFbAAAAXUAAAL3AAAB\n",
       "LQAAAMcAAAXkAAACSwAAAUIAAAGPAAAGVgAAAqEAAAHeAAACDwAABYcAAAJuAAACFQAABRIAAAeW\n",
       "AAACpgAAAa4AAASbAAAFrwAAAcsAAARpAAAE1gAABWwAAAFxAAAASQAAAasAAABHAAAFRgAAApYA\n",
       "AAFVAAABiwAABNcAAAGmAAADlAAAA28AAAXGAAAClAAAAggAAAZwAAACGQAAB7AAAAJSAAABzAAA\n",
       "BS0AAAGHAAAEfAAABscAAAISAAABVwAAAocAAAGMAAAAzAAAAQ4AAAStAAAB1gAABlMAAALNAAAB\n",
       "eAAAAbcAAANoAAAEMAAABUcAAAI3AAAEjAAABjUAAAHSAAAEAwAABhsAAAJAAAAB1gAABdYAAAI/\n",
       "AAAB3QAAAkQAAAD+AAAAFHN0Y28AAAAAAAAAAQAAADAAAABidWR0YQAAAFptZXRhAAAAAAAAACFo\n",
       "ZGxyAAAAAAAAAABtZGlyYXBwbAAAAAAAAAAAAAAAAC1pbHN0AAAAJal0b28AAAAdZGF0YQAAAAEA\n",
       "AAAATGF2ZjU4LjQ1LjEwMA==\n",
       "\">\n",
       "  Your browser does not support the video tag.\n",
       "</video>"
      ],
      "text/plain": [
       "<IPython.core.display.HTML object>"
      ]
     },
     "execution_count": 24,
     "metadata": {},
     "output_type": "execute_result"
    }
   ],
   "source": [
    "# Show the animation\n",
    "HTML(ani.to_html5_video())"
   ]
  },
  {
   "cell_type": "code",
   "execution_count": 25,
   "metadata": {
    "slideshow": {
     "slide_type": "skip"
    }
   },
   "outputs": [],
   "source": [
    "# Save the animation\n",
    "ani.save('PluckMiddle.mp4')"
   ]
  },
  {
   "cell_type": "markdown",
   "metadata": {
    "slideshow": {
     "slide_type": "slide"
    }
   },
   "source": [
    "## Some videos"
   ]
  },
  {
   "cell_type": "markdown",
   "metadata": {},
   "source": [
    "I find them cool and instructive."
   ]
  },
  {
   "cell_type": "markdown",
   "metadata": {
    "slideshow": {
     "slide_type": "skip"
    }
   },
   "source": [
    "### Bowed Violin String in Slow Motion\n",
    "\n",
    "https://youtu.be/6JeyiM0YNo4"
   ]
  },
  {
   "cell_type": "code",
   "execution_count": 26,
   "metadata": {
    "slideshow": {
     "slide_type": "subslide"
    }
   },
   "outputs": [
    {
     "name": "stderr",
     "output_type": "stream",
     "text": [
      "/Users/NicoG/opt/anaconda3/lib/python3.8/site-packages/IPython/core/display.py:717: UserWarning: Consider using IPython.display.IFrame instead\n",
      "  warnings.warn(\"Consider using IPython.display.IFrame instead\")\n"
     ]
    },
    {
     "data": {
      "text/html": [
       "<iframe width=\"560\" height=\"315\" src=\"https://www.youtube.com/embed/6JeyiM0YNo4?start=55\" frameborder=\"0\" allowfullscreen></iframe>"
      ],
      "text/plain": [
       "<IPython.core.display.HTML object>"
      ]
     },
     "execution_count": 26,
     "metadata": {},
     "output_type": "execute_result"
    }
   ],
   "source": [
    "from IPython.display import HTML\n",
    "HTML('<iframe width=\"560\" height=\"315\" src=\"https://www.youtube.com/embed/6JeyiM0YNo4?start=55\" frameborder=\"0\" allowfullscreen></iframe>')"
   ]
  },
  {
   "cell_type": "markdown",
   "metadata": {
    "slideshow": {
     "slide_type": "notes"
    }
   },
   "source": [
    "About this video of a violin string, note that:\n",
    "\n",
    "* The oscillation is created by the bow of the violin, sticking-and-slipping (this is actually a real expression) at a frequency that resonates with the oscillation we see.\n",
    "* When the bow is removed, towards the end of the video, you can see that very quickly, the oscillation becomes like a fundamental oscillation, and nothing else, the kink is gone. That's because in reality, there is damping, and the higher the harmonic is, the stronger the damping acts on it. Indeed, as we saw before, the kink is reproduced by very high modes, and those modes oscillate faster. Assuming (and this is actually a conservative assumption) that the damping force on a mode $n$ can be modeled as something like $-b\\dot y$ again, then it proportional to the frequency: $F_{damping} \\propto \\sum -\\omega_n\\alpha_n\\sin(\\omega_n t)\\sin(k_nx)$. Therefore, the higher a mode is, the faster the damping is. After a short period of time, damping has killed all the modes but the fundamental, which is the last harmonic standing (pun intended).\n",
    "* The violin is out-of-tune to visualize a pattern. The string's oscillations are way too large for a functioning violin."
   ]
  },
  {
   "cell_type": "markdown",
   "metadata": {
    "slideshow": {
     "slide_type": "skip"
    }
   },
   "source": [
    "### Chladni Plate"
   ]
  },
  {
   "cell_type": "markdown",
   "metadata": {},
   "source": [
    "Please first watch the following video first (also at https://youtu.be/dXeBvQdkhaw and https://play.library.utoronto.ca/85ee379e108e534320503428bf84cdf2). It is not the best, but it was a pain in the neck to record."
   ]
  },
  {
   "cell_type": "code",
   "execution_count": 27,
   "metadata": {},
   "outputs": [
    {
     "data": {
      "image/jpeg": "[encoded data removed]",
      "text/html": [
       "\n",
       "        <iframe\n",
       "            width=\"560\"\n",
       "            height=\"300\"\n",
       "            src=\"https://www.youtube.com/embed/dXeBvQdkhaw?hieght=315\"\n",
       "            frameborder=\"0\"\n",
       "            allowfullscreen\n",
       "        ></iframe>\n",
       "        "
      ],
      "text/plain": [
       "<IPython.lib.display.YouTubeVideo at 0x7fb78e53e310>"
      ]
     },
     "execution_count": 27,
     "metadata": {},
     "output_type": "execute_result"
    }
   ],
   "source": [
    "YouTubeVideo('dXeBvQdkhaw', width=560, hieght=315)"
   ]
  },
  {
   "cell_type": "markdown",
   "metadata": {
    "slideshow": {
     "slide_type": "skip"
    }
   },
   "source": [
    "Now that you've indulged me, you can watch the much better video below (also at https://youtu.be/wvJAgrUBF4w)."
   ]
  },
  {
   "cell_type": "code",
   "execution_count": 28,
   "metadata": {
    "slideshow": {
     "slide_type": "subslide"
    }
   },
   "outputs": [
    {
     "data": {
      "image/jpeg": "[encoded data removed]",
      "text/html": [
       "\n",
       "        <iframe\n",
       "            width=\"560\"\n",
       "            height=\"300\"\n",
       "            src=\"https://www.youtube.com/embed/wvJAgrUBF4w?hieght=315\"\n",
       "            frameborder=\"0\"\n",
       "            allowfullscreen\n",
       "        ></iframe>\n",
       "        "
      ],
      "text/plain": [
       "<IPython.lib.display.YouTubeVideo at 0x7fb78e53e040>"
      ]
     },
     "execution_count": 28,
     "metadata": {},
     "output_type": "execute_result"
    }
   ],
   "source": [
    "YouTubeVideo('wvJAgrUBF4w', width=560, hieght=315)"
   ]
  },
  {
   "cell_type": "markdown",
   "metadata": {
    "slideshow": {
     "slide_type": "-"
    }
   },
   "source": [
    "For an in-house explanation, see the web page, created by our very own Prof. Stephen Morris: https://www.physics.utoronto.ca/~nonlin/chladni.html"
   ]
  },
  {
   "cell_type": "markdown",
   "metadata": {
    "slideshow": {
     "slide_type": "skip"
    }
   },
   "source": [
    "### Fourier Analysis (and guitar jammin')\n",
    "\n",
    "https://youtu.be/u1Lz8pm2npQ\n",
    "\n",
    "I love it and I hate it: this guy makes me look lame. Goes way beyond what I covered, in a compressed amount of time."
   ]
  },
  {
   "cell_type": "code",
   "execution_count": 29,
   "metadata": {
    "scrolled": true,
    "slideshow": {
     "slide_type": "subslide"
    }
   },
   "outputs": [
    {
     "data": {
      "image/jpeg": "[encoded data removed]",
      "text/html": [
       "\n",
       "        <iframe\n",
       "            width=\"560\"\n",
       "            height=\"315\"\n",
       "            src=\"https://www.youtube.com/embed/u1Lz8pm2npQ\"\n",
       "            frameborder=\"0\"\n",
       "            allowfullscreen\n",
       "        ></iframe>\n",
       "        "
      ],
      "text/plain": [
       "<IPython.lib.display.YouTubeVideo at 0x7fb78e550be0>"
      ]
     },
     "execution_count": 29,
     "metadata": {},
     "output_type": "execute_result"
    }
   ],
   "source": [
    "YouTubeVideo(\"u1Lz8pm2npQ\", width=\"560\", height=\"315\")"
   ]
  },
  {
   "cell_type": "markdown",
   "metadata": {
    "slideshow": {
     "slide_type": "skip"
    }
   },
   "source": [
    "### Ruben's Tubes\n",
    "\n",
    "https://youtu.be/2awbKQ2DLRE\n",
    "\n",
    "The first minute of the video is pretty instructive, but the entire video is like a pyrotechnical version of a Chladni plate."
   ]
  },
  {
   "cell_type": "code",
   "execution_count": 30,
   "metadata": {
    "scrolled": false,
    "slideshow": {
     "slide_type": "subslide"
    }
   },
   "outputs": [
    {
     "data": {
      "image/jpeg": "[encoded data removed]",
      "text/html": [
       "\n",
       "        <iframe\n",
       "            width=\"560\"\n",
       "            height=\"315\"\n",
       "            src=\"https://www.youtube.com/embed/2awbKQ2DLRE\"\n",
       "            frameborder=\"0\"\n",
       "            allowfullscreen\n",
       "        ></iframe>\n",
       "        "
      ],
      "text/plain": [
       "<IPython.lib.display.YouTubeVideo at 0x7fb78e087ee0>"
      ]
     },
     "execution_count": 30,
     "metadata": {},
     "output_type": "execute_result"
    }
   ],
   "source": [
    "YouTubeVideo(\"2awbKQ2DLRE\", width=560, height=315)"
   ]
  },
  {
   "cell_type": "markdown",
   "metadata": {
    "slideshow": {
     "slide_type": "skip"
    }
   },
   "source": [
    "### The Walking Water Mystery\n",
    "\n",
    "https://youtu.be/KJDEsAy9RyM\n",
    "\n",
    "The connection with standing waves may not be obvious at first. Jump to 4'15 or 8'14 if you are impatient, but the whole thing is worth a watch. Awesome stuff at 9'30."
   ]
  },
  {
   "cell_type": "code",
   "execution_count": 31,
   "metadata": {
    "slideshow": {
     "slide_type": "subslide"
    }
   },
   "outputs": [
    {
     "data": {
      "image/jpeg": "[encoded data removed]",
      "text/html": [
       "\n",
       "        <iframe\n",
       "            width=\"560\"\n",
       "            height=\"315\"\n",
       "            src=\"https://www.youtube.com/embed/KJDEsAy9RyM\"\n",
       "            frameborder=\"0\"\n",
       "            allowfullscreen\n",
       "        ></iframe>\n",
       "        "
      ],
      "text/plain": [
       "<IPython.lib.display.YouTubeVideo at 0x7fb78e53efa0>"
      ]
     },
     "execution_count": 31,
     "metadata": {},
     "output_type": "execute_result"
    }
   ],
   "source": [
    "YouTubeVideo(\"KJDEsAy9RyM\", width=\"560\", height=\"315\")"
   ]
  },
  {
   "cell_type": "markdown",
   "metadata": {
    "slideshow": {
     "slide_type": "skip"
    }
   },
   "source": [
    "# Energy of Standing Waves\n",
    "\n",
    "[*King: §§ 6.3 and 6.4.4; skipped parts of the derivations also found in § 5.5*]"
   ]
  },
  {
   "cell_type": "markdown",
   "metadata": {
    "slideshow": {
     "slide_type": "skip"
    }
   },
   "source": [
    "The energy per unit length of the string is (cf. King § 5.5):\n",
    "$$E =  \\frac12 \\mu \\int_0^L \\left[\\left(\\pde{y}t\\right)^2 + v^2\\left(\\pde{y}x\\right)^2 \\right]\\di x,$$\n",
    "where the first part in the integral corresponds to the kinetic energy and the second part corresponds to the potential energy stored when the string moves away from its rest position ad gets stretched or compressed a little."
   ]
  },
  {
   "cell_type": "markdown",
   "metadata": {
    "slideshow": {
     "slide_type": "skip"
    }
   },
   "source": [
    "## Single Mode"
   ]
  },
  {
   "cell_type": "markdown",
   "metadata": {
    "slideshow": {
     "slide_type": "skip"
    }
   },
   "source": [
    "For a single mode, and assuming for simplicity that $V(x) = 0$,\n",
    "$$y(t, x) = y_n(t, x) = A_n \\cos(\\omega_n t)\\sin(k_n x),$$\n",
    "$$\\pde{y}t = -\\omega_n A_n \\sin(\\omega_n t)\\sin(k_n x),\\textrm{ and}$$\n",
    "$$\\pde{y}x = k_n A_n \\cos(\\omega_n t)\\cos(k_n x).$$"
   ]
  },
  {
   "cell_type": "markdown",
   "metadata": {
    "slideshow": {
     "slide_type": "skip"
    }
   },
   "source": [
    "Substituting into the expression for energy,\n",
    "\\begin{align*}\n",
    "    E_n & = \\frac12 \\mu \\int_0^L \\left[\\omega_n^2 A_n^2 \\sin^2(\\omega_n t)\\sin^2(k_n x)  + v^2k_n^2 A_n^2 \\cos^2(\\omega_n t)\\cos^2(k_n x)\\right]\\di x, \\\\\n",
    "        & = \\frac12 \\mu \\omega_n^2 A_n^2 \\left[\\sin^2(\\omega_n t)\\int_0^L \\sin^2(k_n x)\\di x + \\cos^2(\\omega_n t)\\int_0^L\\cos^2(k_n x)\\di x\\right].\n",
    "\\end{align*}"
   ]
  },
  {
   "cell_type": "markdown",
   "metadata": {
    "slideshow": {
     "slide_type": "skip"
    }
   },
   "source": [
    "You can compute (in which case you could use $\\cos^2 + \\sin^2 = 1$), or remember the normalization of the inner product $\\odot$, or convince yourself by drawing $\\cos^2$ and $\\sin^2$, that the two integrals are the same:\n",
    "$$\\int_0^L \\sin^2(k_n x)\\di x = \\int_0^L \\cos^2(k_n x)\\di x = \\frac{L}2.$$"
   ]
  },
  {
   "cell_type": "markdown",
   "metadata": {
    "slideshow": {
     "slide_type": "skip"
    }
   },
   "source": [
    "And because $\\cos^2(\\omega_n t) + \\sin^2(\\omega_n t) = 1$,\n",
    "$$\\boxed{E_n = \\frac14\\mu L\\omega_n^2 A_n^2}.$$"
   ]
  },
  {
   "cell_type": "markdown",
   "metadata": {
    "slideshow": {
     "slide_type": "skip"
    }
   },
   "source": [
    "The expression above may look silly to remember, but there actually is physics in there, it is not so complicated, and I would like you to remember it.\n",
    "The energy of the SHO was already $kA^2/2 = m\\omega_0^2 A^2/2$, and so, if you could remember the energy of the SHO, you can remember this one.\n",
    "\n",
    "* $E_n \\propto m = \\mu L$, the mass of the string. Why not.\n",
    "* $E_n \\propto A_n^2$: quadratic dependence of the energy on the amplitude, a super-duper general statement that you have been needing to remember from the start of this lecture series,\n",
    "* $E_n \\propto \\omega_n^2$: looking straight at it, this looks new. But the energy of the SHO was already proportional to $k = m\\omega_0^2$, so, this is actually not that new. But it is important to remember it this way! \"Everything else being equal, a mode that oscillates twice as fast has four times the energy.\"\n",
    "* Factor 1/4: we all wish it was 1/2, for the sake of remembering better. Oh well. Don't worry though, you don't have to remember it."
   ]
  },
  {
   "cell_type": "markdown",
   "metadata": {
    "slideshow": {
     "slide_type": "skip"
    }
   },
   "source": [
    "If we had different boundary conditions, we may have a combination of $\\sin(k_n x)$ and $\\cos(k_n x)$ in $y_n(t, x)$, but the derivation would be conceptually the same."
   ]
  },
  {
   "cell_type": "markdown",
   "metadata": {
    "slideshow": {
     "slide_type": "skip"
    }
   },
   "source": [
    "## Many modes"
   ]
  },
  {
   "cell_type": "markdown",
   "metadata": {
    "slideshow": {
     "slide_type": "skip"
    }
   },
   "source": [
    "With more than one mode,\n",
    "$$ y(t, x) = \\sum_{n=1}^\\infty A_n \\cos(\\omega_n t + \\phi_n)\\sin(k_n x).$$\n",
    "Let's discard $\\phi_n$, for example by assuming $V(x) = 0$."
   ]
  },
  {
   "cell_type": "markdown",
   "metadata": {
    "slideshow": {
     "slide_type": "skip"
    }
   },
   "source": [
    "\\begin{align*}\n",
    "    \\pde{y}t & = -\\sum_{n=1}^\\infty \\omega_n A_n \\sin(\\omega_n t)\\sin(k_n x),\\textrm{ and}\\\\\n",
    "    \\left(\\pde{y}t\\right)^2 & = \\left[\\sum_{n=1}^\\infty \\omega_n A_n \\sin(\\omega_n t)\\sin(k_n x)\\right]\\left[\\sum_{m=1}^\\infty \\omega_m A_m \\sin(\\omega_m t)\\sin(k_m x)\\right] \\\\\n",
    "                            & = \\sum_{n=1}^\\infty \\left(\\omega_n A_n \\sin(\\omega_n t)\\sin(k_n x)\\right)^2 + 2\\sum_{m=1}^\\infty\\sum_{n=m+1}^\\infty \\omega_m A_m\\omega_n A_n \\sin(\\omega_m t)\\sin(k_m x)\\sin(\\omega_n t)\\sin(k_n x).\n",
    "\\end{align*}"
   ]
  },
  {
   "cell_type": "markdown",
   "metadata": {
    "slideshow": {
     "slide_type": "skip"
    }
   },
   "source": [
    "Notice the $2\\sum_{m=1}^{\\infty}\\sum_{n=m+1}^{\\infty}$ double sum (like I need to remind you of it).\n",
    "The factor 2 is here because each term that has $m\\neq n$ will appear twice, say, the couples $\\{m=1, n=2\\}$ and $\\{m=2, n=1\\}$ each appear once, but lead to the same expression. Might as well just sum them once by starting with $n=m+1$, but make them count twice.\n",
    "We start the second sum at $n=m+1$, not $n=m$, because the $n=m$ case is treated separately, in the first summation."
   ]
  },
  {
   "cell_type": "markdown",
   "metadata": {
    "slideshow": {
     "slide_type": "skip"
    }
   },
   "source": [
    "Before going any further, let us not forget that eventually, we will integrate these sums over $[0, L]$.\n",
    "In particular, the double sum will only contain terms proportional to \n",
    "$$\\int_0^L\\sin(k_m x)\\sin(k_n x) \\di x = 0\\quad \\textrm{because}\\quad n\\neq m.$$\n",
    "Therefore, \n",
    "$$ \\int_0^L \\left(\\pde{y}t\\right)^2 \\di x = \\sum_{n=1}^\\infty \\int_0^L \\left[\\omega_n A_n \\sin(\\omega_n t)\\sin(k_n x)\\right]^2 \\di x = \\sum_{n=1}^\\infty \\int_0^L \\left(\\pde{y_n}{t}\\right)^2 \\di x. $$\n"
   ]
  },
  {
   "cell_type": "markdown",
   "metadata": {
    "slideshow": {
     "slide_type": "skip"
    }
   },
   "source": [
    "A very similar derivation leads to\n",
    "$$ \\int_0^L\\left(\\pde{y}x\\right)^2\\di x = \\sum_{n=1}^\\infty\\int_0^L \\left(\\pde{y_n}{x}\\right)^2 \\di x, $$\n",
    "and therefore,\n",
    "$$\\boxed{E = \\sum_{n=1}^\\infty E_n} = \\frac{1}{4}\\mu L \\sum_{n=1}^\\infty \\omega_n^2 A_n^2.$$\n",
    "\n",
    "If you look back on your lectures on Fourier series, there should be a piece about Parseval's theorem. You may realize that the framed expression above is actually an application of it."
   ]
  },
  {
   "cell_type": "markdown",
   "metadata": {
    "slideshow": {
     "slide_type": "skip"
    }
   },
   "source": [
    "Just like for coupled oscillators, **each mode has its own energy, it does not communicate it to any other mode, and the total energy is the sum of the energy of each mode.** Remember it!"
   ]
  },
  {
   "cell_type": "markdown",
   "metadata": {
    "slideshow": {
     "slide_type": "skip"
    }
   },
   "source": [
    "## Power Spectra"
   ]
  },
  {
   "cell_type": "markdown",
   "metadata": {
    "slideshow": {
     "slide_type": "skip"
    }
   },
   "source": [
    "Power spectra are plots of $E_n$ vs. $\\omega_n$. The result is a bar plot like the amplitude spectra I showed before. \n",
    "The most visually striking differences would be that all values would be positive, and the bars heights would fall off more rapidly as $n$ increases, because $E_n \\propto A_n^2\\omega_n^2$ instead of $A_n$.\n",
    "Power spectra are much more widely used that amplitude spectra."
   ]
  }
 ],
 "metadata": {
  "anaconda-cloud": {},
  "celltoolbar": "Slideshow",
  "kernelspec": {
   "display_name": "Python 3",
   "language": "python",
   "name": "python3"
  },
  "language_info": {
   "codemirror_mode": {
    "name": "ipython",
    "version": 3
   },
   "file_extension": ".py",
   "mimetype": "text/x-python",
   "name": "python",
   "nbconvert_exporter": "python",
   "pygments_lexer": "ipython3",
   "version": "3.8.3"
  }
 },
 "nbformat": 4,
 "nbformat_minor": 1
}
