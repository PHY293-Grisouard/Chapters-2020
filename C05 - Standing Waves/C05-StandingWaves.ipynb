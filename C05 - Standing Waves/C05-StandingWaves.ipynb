{
 "cells": [
  {
   "cell_type": "raw",
   "metadata": {
    "raw_mimetype": "text/latex",
    "scrolled": true,
    "slideshow": {
     "slide_type": "skip"
    }
   },
   "source": [
    "\\newcommand{\\rads}{~rad.s$^{-1}$}\n",
    "\\newcommand{\\bnabla}{\\boldsymbol{\\nabla}}\n",
    "\\newcommand{\\eexp}[1]{\\textrm{e}^{#1}}\n",
    "\\newcommand{\\glm}[1]{\\overline{#1}^L}\n",
    "\\newcommand{\\di}[0]{\\textrm{d}}\n",
    "\\newcommand{\\bs}[1]{\\boldsymbol{#1}}\n",
    "\\newcommand{\\ode}[2]{\\frac{\\di {#1}}{\\di {#2}}}\n",
    "\\newcommand{\\oden}[3]{\\frac{\\di^{#1} {#2}}{\\di {#3}^{#1}}}\n",
    "\\newcommand{\\odel}[2]{\\di {#1}/\\di {#2}}\n",
    "\\newcommand{\\odeln}[3]{\\di^{#1} {#2}/\\di {#3}^{#1}}\n",
    "\\newcommand{\\pde}[2]{\\frac{\\partial {#1}}{\\partial {#2}}}\n",
    "\\newcommand{\\pden}[3]{\\frac{\\partial^{#1} {#2}}{\\partial {#3}^{#1}}}\n",
    "\\newcommand{\\pdel}[2]{\\partial_{#2} {#1}}\n",
    "\\newcommand{\\pdenl}[3]{\\partial^{#1}_{#3} {#2}}\n",
    "\\newcommand{\\divr}[1]{\\vec\\nabla \\cdot {#1}}\n",
    "\\newcommand{\\divrb}[1]{\\boldsymbol{\\nabla} \\cdot {#1}}\n",
    "\\newcommand{\\grad}[1]{\\vec \\nabla {#1}}\n",
    "\\newcommand{\\gradb}[1]{\\boldsymbol\\nabla {#1}}\n",
    "\\newcommand{\\curl}[1]{\\vec\\nabla \\times {#1}}\n",
    "\\newcommand{\\curlb}[1]{\\boldsymbol{\\nabla}\\times\\boldsymbol{#1}}\n",
    "\\newcommand{\\lapl}[0]{\\vec\\nabla^2}\n",
    "\\newcommand{\\laplb}[0]{\\boldsymbol{\\nabla}^2}\n",
    "\\newcommand{\\cplxi}[0]{\\mathrm i}\n",
    "\\newcommand{\\unit}[1]{\\mathbf{\\hat{#1}}}\n",
    "\\newcommand{\\thrfor}[0]{\\quad\\Rightarrow\\quad}\n",
    "\\newcommand{\\and}[0]{\\quad\\textrm{and}\\quad}\n",
    "\\newcommand{\\oreq}[0]{\\quad\\textrm{or}\\quad}\n",
    "\\newcommand{\\red}[1]{\\textcolor{red}{#1}}\n",
    "\\newcommand{\\blue}[1]{\\textcolor{blue}{#1}}\n",
    "\\newcommand{\\mage}[1]{\\textcolor{magenta}{#1}}\n",
    "\\newcommand{\\stirling}[2]{\\genfrac{[}{]}{0pt}{}{#1}{#2}}"
   ]
  },
  {
   "cell_type": "raw",
   "metadata": {
    "raw_mimetype": "text/latex",
    "slideshow": {
     "slide_type": "skip"
    }
   },
   "source": [
    "\\DefineVerbatimEnvironment{Verbatim}{Verbatim}{fontsize=\\scriptsize}"
   ]
  },
  {
   "cell_type": "markdown",
   "metadata": {
    "slideshow": {
     "slide_type": "skip"
    }
   },
   "source": [
    "$\\newcommand{\\rads}{~rad.s$^{-1}$}$\n",
    "$\\newcommand{\\bnabla}{\\boldsymbol{\\nabla}}$\n",
    "$\\newcommand{\\eexp}[1]{\\textrm{e}^{#1}}$\n",
    "$\\newcommand{\\glm}[1]{\\overline{#1}^L}$\n",
    "$\\newcommand{\\di}[0]{\\textrm{d}}$\n",
    "$\\newcommand{\\bs}[1]{\\boldsymbol{#1}}$\n",
    "$\\newcommand{\\ode}[2]{\\frac{\\di {#1}}{\\di {#2}}}$\n",
    "$\\newcommand{\\oden}[3]{\\frac{\\di^{#1} {#2}}{\\di {#3}^{#1}}}$\n",
    "$\\newcommand{\\odel}[2]{\\di {#1}/\\di {#2}}$\n",
    "$\\newcommand{\\odeln}[3]{\\di^{#1} {#2}/\\di {#3}^{#1}}$\n",
    "$\\newcommand{\\pde}[2]{\\frac{\\partial {#1}}{\\partial {#2}}}$\n",
    "$\\newcommand{\\pden}[3]{\\frac{\\partial^{#1} {#2}}{\\partial {#3}^{#1}}}$\n",
    "$\\newcommand{\\pdel}[2]{\\partial_{#2} {#1}}$\n",
    "$\\newcommand{\\pdenl}[3]{\\partial^{#1}_{#3} {#2}}$\n",
    "$\\newcommand{\\mde}[1]{\\frac{\\textrm{D} {#1}}{\\textrm{D} t}}$\n",
    "$\\newcommand{\\mdel}[1]{\\textrm{D}_t {#1}}$\n",
    "$\\newcommand{\\divr}[1]{\\vec\\nabla \\cdot {#1}}$\n",
    "$\\newcommand{\\divrb}[1]{\\boldsymbol{\\nabla} \\cdot {#1}}$\n",
    "$\\newcommand{\\grad}[1]{\\vec \\nabla {#1}}$\n",
    "$\\newcommand{\\gradb}[1]{\\boldsymbol\\nabla {#1}}$\n",
    "$\\newcommand{\\curl}[1]{\\vec\\nabla \\times {#1}}$\n",
    "$\\newcommand{\\curlb}[1]{\\boldsymbol{\\nabla}\\times\\boldsymbol{#1}}$\n",
    "$\\newcommand{\\lapl}[0]{\\vec\\nabla^2}$\n",
    "$\\newcommand{\\laplb}[0]{\\boldsymbol{\\nabla}^2}$\n",
    "$\\newcommand{\\cplxi}[0]{\\mathrm i}$\n",
    "$\\newcommand{\\unit}[1]{\\mathbf{\\hat{#1}}}$\n",
    "$\\newcommand{\\thrfor}[0]{\\quad\\Rightarrow\\quad}$\n",
    "$\\newcommand{\\and}[0]{\\quad\\textrm{and}\\quad}$\n",
    "$\\newcommand{\\oreq}[0]{\\quad\\textrm{or}\\quad}$\n",
    "$\\newcommand{\\red}[1]{\\textcolor{red}{#1}}$\n",
    "$\\newcommand{\\blue}[1]{\\textcolor{blue}{#1}}$\n",
    "$\\newcommand{\\mage}[1]{\\textcolor{magenta}{#1}}$\n",
    "$\\newcommand{\\stirling}[2]{\\genfrac{[}{]}{0pt}{}{#1}{#2}}$"
   ]
  },
  {
   "cell_type": "markdown",
   "metadata": {
    "slideshow": {
     "slide_type": "skip"
    }
   },
   "source": [
    "*[Book: varies from section to section.]*"
   ]
  },
  {
   "cell_type": "markdown",
   "metadata": {
    "slideshow": {
     "slide_type": "skip"
    }
   },
   "source": [
    "# Introduction"
   ]
  },
  {
   "cell_type": "markdown",
   "metadata": {
    "slideshow": {
     "slide_type": "skip"
    }
   },
   "source": [
    "It is difficult to define what a wave is, but it is easy to recognise one.\n",
    "Perhaps the most general definition of a linear wave is that it is a travelling disturbance, although one by which no matter travels on average, and which obeys a linear dispersion law (to be defined).\n",
    "For example, sound waves are pressure waves. \n",
    "At the microscopic level, molecules of a fluid \"bump\" into each other, but return to their original position on average.\n",
    "The restoring force is simply provided by return of momentum to sender at shock, and damping can happen if the shocks are not completely elastic.\n",
    "The position of a molecule can therefore be very crudely modelled as a SHO or DHO.\n",
    "In a solid, it is the displacement of the atoms around their preferred rest position when the wave travels that in turn displaces neighbouring atoms, etc.\n",
    "On average however, the atoms themselves do not travel.\n",
    "I could multiply the examples: swell, waves in a pond, seismic waves, electromagnetic waves, gravitational waves, my very own oceanic internal inertia-gravity waves, stadium waves, and of course the quantum waves that Profs. Krasnopolskaia and Paramekanti will talk about in the rest of PHY293 and 294."
   ]
  },
  {
   "cell_type": "markdown",
   "metadata": {
    "slideshow": {
     "slide_type": "skip"
    }
   },
   "source": [
    "Waves travel in a continuum.\n",
    "Sometimes the continuum is an approximation of a discrete medium, like a gas of molecules or a crystal being approximated as a smooth, \"grainless\" medium, or like a super long chain of masses attached by springs.\n",
    "And sometimes, the medium is actually a continuum.\n",
    "For example, the ultimate continuum is vacuum, which can support the propagation of EM waves."
   ]
  },
  {
   "cell_type": "markdown",
   "metadata": {
    "slideshow": {
     "slide_type": "skip"
    }
   },
   "source": [
    "A continuum can therefore be modeled as an infinite number of oscillators, coupled together.\n",
    "Based on the results of the previous chapters, an infinite number of modes of oscillations can arise.\n",
    "As in the previous chapter, a given mode will be characterized by a certain number of nodes and antinodes.\n",
    "If the boundaries are constrained enough that they force the creation of nodes (like our coupled masses attached to walls or strings on a guitar) or antinodes (like when one blows in a flute, or water waves against a vertical wall), the waves are called \"standing waves\".\n",
    "Their formalism is very close to the types of eigenvalue problems we encountered in the previous chapter, which we describe now."
   ]
  },
  {
   "cell_type": "markdown",
   "metadata": {
    "slideshow": {
     "slide_type": "skip"
    }
   },
   "source": [
    "# Expectations"
   ]
  },
  {
   "cell_type": "markdown",
   "metadata": {
    "slideshow": {
     "slide_type": "slide"
    }
   },
   "source": [
    "## Remember\n",
    "\n",
    "* **The wave equation!!!**\n",
    "* What the phase speed is.\n",
    "* What the separation of variables method is.\n",
    "* The expression of the phase speed for a taut string (useful during tests).\n",
    "* The meaning and definitions of the wavenumbers $k_n$, angular frequencies $\\omega_n$ and wavelengths $\\lambda_n$.\n",
    "* The orthogonality relations for sines and cosines.\n",
    "* The energy of any solution is the sum of the energies of each single mode."
   ]
  },
  {
   "cell_type": "markdown",
   "metadata": {
    "slideshow": {
     "slide_type": "-"
    }
   },
   "source": [
    "## Understand\n",
    "\n",
    "* Why standing wave modes are orthogonal normal modes of the vibrating taut string.\n",
    "* How and why standing wave modes behave like simple harmonic oscillators.\n",
    "* How boundary conditions make the set of possible $k_n$ discrete (countably infinite)."
   ]
  },
  {
   "cell_type": "markdown",
   "metadata": {
    "slideshow": {
     "slide_type": "-"
    }
   },
   "source": [
    "## Apply\n",
    "\n",
    "* Apply boundary conditions to standing wave modes.\n",
    "* Anything that appears in the worked examples, tutorials and problem sets."
   ]
  },
  {
   "cell_type": "markdown",
   "metadata": {
    "slideshow": {
     "slide_type": "skip"
    }
   },
   "source": [
    "# The Taut String"
   ]
  },
  {
   "cell_type": "markdown",
   "metadata": {
    "slideshow": {
     "slide_type": "skip"
    }
   },
   "source": [
    "Following the spirit of this lecture series, we are only interested in the equations themselves, not the physical coefficients. \n",
    "This is because the linear equations are generic, while the coefficients will better be derived in specialized courses.\n",
    "Therefore, we choose a propagation medium, that is as simple as we can: the taut string[^1].\n",
    "Because it is taut, shaking does not induce large displacements of the string, nor does it induce large slopes of the string.\n",
    "That is, $\\tan\\theta = \\odel{y}x \\ll 1$, where $x$ is the along-string direction and $y$ is the across-string direction (cf. fig. 5.8 of King, reproduced here; we assume that the string vibrations only happen in a plane, which means that we do not need a third dimension to describe it; adding a third dimension would be meaningful if we were interested in the Physics, while we only care about the general behaviour of the equation).\n",
    "\n",
    "[^1]: I had to look it up, other non-native English speakers might want to know that according to dictionary.com, it means tightly drawn; tense; not slack."
   ]
  },
  {
   "cell_type": "markdown",
   "metadata": {
    "slideshow": {
     "slide_type": "skip"
    }
   },
   "source": [
    "The smallness of the parameter means that the oscillations of a piece of string are linear.\n",
    "A restoring force brings the string back to the main axis, and each piece of string can be described as a simple or damped harmonic oscillator, coupled to its neighbours to the left and right.\n",
    "Because the piece of spring can be arbitrarily small, the number of coupled oscillators is infinite.\n",
    "Therefore, we have all the ingredients to study the wave equation."
   ]
  },
  {
   "cell_type": "markdown",
   "metadata": {
    "slideshow": {
     "slide_type": "slide"
    }
   },
   "source": [
    "![Fig. 1: King 5.8](String.png)"
   ]
  },
  {
   "cell_type": "markdown",
   "metadata": {
    "slideshow": {
     "slide_type": "slide"
    }
   },
   "source": [
    "# The Wave Equation"
   ]
  },
  {
   "cell_type": "markdown",
   "metadata": {
    "slideshow": {
     "slide_type": "skip"
    }
   },
   "source": [
    "*[Book: §§ 5.1, 5.3]*"
   ]
  },
  {
   "cell_type": "markdown",
   "metadata": {
    "slideshow": {
     "slide_type": "skip"
    }
   },
   "source": [
    "Let's break down the string into infinitesimally small slices, and let's consider in particular a piece of string that is located between $x_0$ and $x_0 + \\delta x$ (see fig. 1).\n",
    "The transverse displacements are along the $y$-axis, and we identify them as $y(x, t)$.\n",
    "The string has pass per unit length $\\mu$ (in kg/m), and is submitted to a tension $T$ (in N), which we treat as constant along the string.\n",
    "At the ends of the tiny slice, the string makes an angle $\\theta$ with the $x$-axis at $x_0$, and $\\theta + \\delta \\theta$ at $x_0+\\delta x$ (again, see fig. 1).\n",
    "\n",
    "Let's do the Newton, $m\\vec a = \\sum \\vec F$, on that piece of string ($m = \\mu \\delta x$).\n",
    "Actually, we are only interested in the transverse phenomena, i.e., $m\\ddot y = \\sum F_y$.\n",
    "\n",
    "Therefore, let's consider the $y$-component of the tension, because it is the one that restores the position of the string to its resting, along-$x$ situation.\n",
    "At $x=x_0$, the $y$-component of the tension is \n",
    "$$\\left.F_y\\right|_{x_0} = -T\\sin\\theta \\approx -T\\theta \\approx -T\\tan\\theta = -T\\left.\\pde{y}x\\right|_{x_0}.$$\n",
    "The minus sign is because if $\\theta > 0$, the force pulls in the negative direction (see fig. 1).\n",
    "The successive approximations I made above work well in the small-displacements regime.\n",
    "The regime corresponds to the **linear regime** of this physical system, the only one we tackle in this course.\n",
    "\n",
    "Similarly, at $x=x_0 + \\delta x$,\n",
    "$$\\left.F_y\\right|_{x_0+\\delta x} \\approx T\\left.\\pde{y}x\\right|_{x_0+\\delta x}.$$\n",
    "Note the positive sign this time, because the situation is opposite as before.\n",
    "\n",
    "The slice is infinitesimally small, and we have no reason to believe that a discontinuity exists between $x_0$ and $x_0 + \\delta x$ (if there is one, then we just pick a smaller $\\delta x$).\n",
    "For these reasons, we can Taylor-expand $\\left.F_y\\right|_{x_0+\\delta x}$ into\n",
    "$$ \\left.F_y\\right|_{x_0+\\delta x} \\approx T \\left(\\left. \\pde{y}x \\right|_{x_0} + \\delta x \\left. \\pde{}x\\pde{y}x \\right|_{x_0} \\right) = -\\left.F_y\\right|_{x_0} + \\delta x \\, T \\left. \\pden2{y}x \\right|_{x_0}.$$\n",
    "\n",
    "Neglecting all other forces like gravity, Newton then tells you that\n",
    "$$ \\mu \\delta x \\pden2yt = \\left.F_y\\right|_{x_0} + \\left.F_y\\right|_{x_0 + \\delta} \\approx \\delta x \\, T \\left. \\pden2{y}x \\right|_{x_0}.$$"
   ]
  },
  {
   "cell_type": "markdown",
   "metadata": {
    "slideshow": {
     "slide_type": "-"
    }
   },
   "source": [
    "Dividing by the mass and introducing $v^2 = T/\\mu$, we find\n",
    "$$ \\boxed{\\pden2yt = v^2\\pden2yx}.\\hspace{5cm} (1)$$"
   ]
  },
  {
   "cell_type": "markdown",
   "metadata": {
    "slideshow": {
     "slide_type": "skip"
    }
   },
   "source": [
    "Again, $y(x,t)$ is the distance from axis at location $x$ and time $t$, and $v$ is the so-called *phase speed* of the waves.\n",
    "It is the speed at which the disturbance propagates along the string, and we treat it as a constant.\n",
    "This is a vague definition at this point, because we don't have all the tools necessary to understand the subtleties of propagation speed.\n",
    "But basically, imagine launching a wave pulse on a long rope (cf. King fig. 5.1, reproduced here), and imagine that somehow, the motion of your hand described a so-called \"Gaussian function\" $y(t) = A\\exp[-(t-t_0)^2/\\sigma_t^2]$.\n",
    "This function means that your hand motion went from 0 at $t \\ll t_0$ to $A$ at $t=t_0$ and back to 0 for $t \\to \\infty$, and that the motion typically lasted a duration of $2\\sigma_t$.\n",
    "This function look like a bell curve and is one of the most frequently encountered functions in physics."
   ]
  },
  {
   "cell_type": "markdown",
   "metadata": {
    "slideshow": {
     "slide_type": "subslide"
    }
   },
   "source": [
    "![King 5.1](RopePulse.png)"
   ]
  },
  {
   "cell_type": "markdown",
   "metadata": {
    "slideshow": {
     "slide_type": "skip"
    }
   },
   "source": [
    "Assuming that the waves on the rope are not too dispersive (we will see later what this means precisely), i.e., the pulse retains it shape, then the shape of the pulse on the rope will be\n",
    "$$ y(x, t) = A \\exp\\left[-\\left(\\frac{x - vt}{\\sigma_x}\\right)^2\\right] = A \\exp\\left[-\\left(\\frac{t - x/v}{\\sigma_t}\\right)^2\\right],$$\n",
    "i.e, it will look like a Gaussian function in space, propagating with a speed $v$, with a typical spatial width of $2\\sigma_x = 2v\\sigma_t$, but also in time, with a typical temporal width $2\\sigma_t$."
   ]
  },
  {
   "cell_type": "code",
   "execution_count": 40,
   "metadata": {
    "slideshow": {
     "slide_type": "skip"
    }
   },
   "outputs": [],
   "source": [
    "# We can plot this\n",
    "import numpy as np\n",
    "import matplotlib.pyplot as plt\n",
    "\n",
    "x = np.linspace(-1., 5.0, 1024)  # a 4-m long rope\n",
    "sigma_x = 0.5  # typical width of pulse\n",
    "A = 1.  # amplitude of diplacement 1 m (just for illustration purposes)\n",
    "v = 1.  # propagation velocity 1 m/s (for illustration purposes)\n",
    "t0 = 0.  # time of first snapshot\n",
    "t1 = 2.  # time of second snapshot\n",
    "ftsz = 13  # the font size\n",
    "\n",
    "y_t0 = A*np.exp(-((x - v*t0)/sigma_x)**2)\n",
    "y_t1 = A*np.exp(-((x - v*t1)/sigma_x)**2)\n",
    "\n",
    "plt.figure()\n",
    "ax = plt.gca()\n",
    "ax.plot(x, y_t0, 'b', label='pulse at $t=t_0$')\n",
    "ax.plot(x, y_t1, 'r--', label='pulse at $t=t_0+\\Delta t$')\n",
    "ax.set_xlabel('$x$ [m]', fontsize=ftsz)\n",
    "ax.set_ylabel('$y/A$', fontsize=ftsz)\n",
    "ax.grid()\n",
    "\n",
    "# annotation to highlight the spatial width of pulse\n",
    "ax.plot(2*[-sigma_x], [0.5/np.exp(1), 1.3/np.exp(1)], 'k')\n",
    "ax.plot(2*[sigma_x], [0.5/np.exp(1), 1.3/np.exp(1)], 'k')\n",
    "ax.annotate(s='', xy=(-sigma_x, .3), xytext=(sigma_x, 0.3),\n",
    "            arrowprops=dict(arrowstyle='<|-|>'))  # the double arrow\n",
    "ax.text(0., 0.3, r'$2\\sigma_x$',\n",
    "        verticalalignment='center', horizontalalignment='center',\n",
    "        backgroundcolor='w', fontsize=ftsz)\n",
    "\n",
    "# annotation to highlight the distance travelled during Delta t\n",
    "ax.axvline(0., color='k', linestyle='--')\n",
    "ax.axvline(v*(t1-t0), color='k', linestyle='--')\n",
    "ax.annotate(s='', xy=(0., .8), xytext=(v*(t1-t0), 0.8),\n",
    "            arrowprops=dict(arrowstyle='<|-'))  # the double arrow\n",
    "ax.text(0.5*v*(t1-t0), 0.8, r'$v\\Delta t$',\n",
    "        verticalalignment='center', horizontalalignment='center',\n",
    "        backgroundcolor='w', fontsize=ftsz)\n",
    "\n",
    "plt.legend(loc='center right')\n",
    "plt.autoscale(enable=True, axis='x', tight=True)\n",
    "plt.savefig('TranslatingPulse.png', dpi=100)\n",
    "plt.close()"
   ]
  },
  {
   "cell_type": "markdown",
   "metadata": {
    "slideshow": {
     "slide_type": "subslide"
    }
   },
   "source": [
    "![Fig. 2: translating pulse](TranslatingPulse.png)"
   ]
  },
  {
   "cell_type": "markdown",
   "metadata": {
    "slideshow": {
     "slide_type": "subslide"
    }
   },
   "source": [
    "While the wave equation has the same form in many contexts, the definition of $v$ varies from field to field.\n",
    "\n",
    "* EM waves in a vacuum: $v = c \\approx 3\\times 10^8$ m.s$^{-1}$;\n",
    "* water waves whose wavelength is much longer than the depth, like ocean swell or tsunamis, $v = \\sqrt{gh}$, with $g$ the gravitational acceleration [in m.s$^{-2}$] and $h$ the water depth [in m]. Onto the deep sea, where $h \\approx 5$ km, $v\\approx 220$ m.s$^{-1} \\approx$ 800 km.h$^{-1}$. This is faster than the speed of sound, but again, remember that waves don't carry water around. It is not that crazy. It means that a Tsunami originating in Japan will take 10 hours to arrive on Canada's West coast;\n",
    "* sound waves: $v = 340$ m.s$^{-1}$ in air; in water $\\sim 1,500$ m.s$^{-1}$;\n",
    "* seismic primary (or pressure) waves ($\\approx$ sound waves) in the Earth's Crust: $v\\approx 6-8$ km.s$^{-1}$,\n",
    "* seismic secondary (or shear) waves in the Earth's crust: $v\\approx 3-4$ km.s$^{-1}$,\n",
    "* ... and for our taut string, $v = \\sqrt{T/\\mu}$, with $T$ the along-axis tension force [in N] and $\\mu$ the mass per unit length of the string [in kg.m$^{-1}$]. For a violin E string (the skinniest I think), $T \\approx 68$ N, $\\mu \\approx 0.126$ g for $33$ cm long, or $3.8\\times 10^{-4}$ kg.m$^{-1}$, and $v \\approx 420$ m.s$^{-1}$."
   ]
  },
  {
   "cell_type": "markdown",
   "metadata": {
    "slideshow": {
     "slide_type": "subslide"
    }
   },
   "source": [
    "# Standing Waves\n",
    "\n",
    "*[Book: § 6.1]*"
   ]
  },
  {
   "cell_type": "markdown",
   "metadata": {
    "slideshow": {
     "slide_type": "skip"
    }
   },
   "source": [
    "## General expression"
   ]
  },
  {
   "cell_type": "markdown",
   "metadata": {
    "slideshow": {
     "slide_type": "skip"
    }
   },
   "source": [
    "We will talk about traveling waves in the next chapter.\n",
    "Right now, we focus on *standing waves*, traveling waves' evil twins.\n",
    "Both descriptions are interchangeable: standing waves can be described and the sum of two traveling waves, and traveling waves can be decomposed on a basis of standing waves, which are the equivalent of the normal modes of the previous chapter.\n",
    "More on this later, but for now, let's dive in."
   ]
  },
  {
   "cell_type": "markdown",
   "metadata": {
    "slideshow": {
     "slide_type": "skip"
    }
   },
   "source": [
    "The key step is to **assume a form of the solutions to the wave equation (1) in which the variables are separable**:\n",
    "$$ \\boxed{y(x, t) = f(x) h(t)}.$$"
   ]
  },
  {
   "cell_type": "markdown",
   "metadata": {
    "slideshow": {
     "slide_type": "skip"
    }
   },
   "source": [
    "*Note: another try, another mathematical trick. How could you come up with it? You don't have to. As a researcher, I can tell that it is one of the easiest and therefore first things to do when one doesn't know anything about the solution. For you, just remember that it works. But remember it well, because it is important!*"
   ]
  },
  {
   "cell_type": "markdown",
   "metadata": {
    "slideshow": {
     "slide_type": "skip"
    }
   },
   "source": [
    "Therefore,\n",
    "$$ \\pden2yt = f(x)\\oden2{h(t)}t = f(x)\\ddot h(t) \\and \\pden2yx = h(t)\\oden2{f(x)}x = h(t)f''(x), $$\n",
    "and the wave equation becomes\n",
    "$$  f(x)\\oden2{h(t)}t = v^2 h(t)\\oden2{f(x)}x. $$"
   ]
  },
  {
   "cell_type": "markdown",
   "metadata": {
    "slideshow": {
     "slide_type": "skip"
    }
   },
   "source": [
    "The usefulness of this form is not apparent until after division by $f(x)h(t)$, i.e.\n",
    "$$ \\frac{1}{h(t)}\\oden2{h(t)}t = v^2 \\frac{1}{f(x)}\\oden2{f(x)}x. $$"
   ]
  },
  {
   "cell_type": "markdown",
   "metadata": {
    "slideshow": {
     "slide_type": "skip"
    }
   },
   "source": [
    "Looking at the equation closely, one notices that the LHS only depends on $t$, while the RHS only depends on $x$ (recall that $v$ is constant).\n",
    "The only way for two functions that depend on two different variables to be equal to each other is for both of them to be equal to a constant, i.e.,\n",
    "$$ \\frac{1}{h(t)}\\oden2{h(t)}t = v^2 \\frac{1}{f(x)}\\oden2{f(x)}x = -\\omega^2. $$"
   ]
  },
  {
   "cell_type": "markdown",
   "metadata": {
    "slideshow": {
     "slide_type": "fragment"
    }
   },
   "source": [
    "Why $-\\omega^2$? Because, for example,\n",
    "$$ \\frac{1}{h(t)}\\oden2{h(t)}t = -\\omega^2 \\thrfor \\boxed{\\ddot h(t) + \\omega^2 h(t) = 0}. $$\n",
    "This is the **same equation as an SHO**, and the solution is still\n",
    "$$ h(t) = H\\cos(\\omega t + \\phi). $$"
   ]
  },
  {
   "cell_type": "markdown",
   "metadata": {
    "slideshow": {
     "slide_type": "subslide"
    }
   },
   "source": [
    "Likewise,\n",
    "$$ f(x) = F\\cos(kx + \\phi_f), \\quad \\textrm{with} \\quad k = \\omega/v. $$"
   ]
  },
  {
   "cell_type": "markdown",
   "metadata": {
    "slideshow": {
     "slide_type": "skip"
    }
   },
   "source": [
    "In this chapter however, it will be easier for us to write the expression above as\n",
    "$$ f(x) = A \\cos(kx) + B \\sin(kx). $$"
   ]
  },
  {
   "cell_type": "markdown",
   "metadata": {
    "slideshow": {
     "slide_type": "skip"
    }
   },
   "source": [
    "Can we write \n",
    "$$ y(x, t) = H \\cos(\\omega t + \\phi)\\left[ A \\cos(kx) + B \\sin(kx) \\right] $$\n",
    "yet?\n",
    "Not quite, because $\\omega$ and $k$ can take many values.\n",
    "As we are about to see, for a given set of boundary conditions, there is a discrete but infinite number of possible solutions for $f$ and $h$."
   ]
  },
  {
   "cell_type": "markdown",
   "metadata": {
    "slideshow": {
     "slide_type": "skip"
    }
   },
   "source": [
    "***\n",
    "\n",
    "*End of 30 September lecture, beginning of 1 October lecture.*\n",
    "\n",
    "***"
   ]
  },
  {
   "cell_type": "markdown",
   "metadata": {
    "slideshow": {
     "slide_type": "skip"
    }
   },
   "source": [
    "## Boundary conditions"
   ]
  },
  {
   "cell_type": "markdown",
   "metadata": {
    "slideshow": {
     "slide_type": "skip"
    }
   },
   "source": [
    "In this chapter, we will solely focus on a string, that is attached at both ends.\n",
    "Let $x=L$ and $x=0$ be the locations of the walls.\n",
    "Mathematically, the statement translates into:\n",
    "$$ y(t, 0) = y(t, L) = 0 \\thrfor f(0) = f(L) = 0.$$"
   ]
  },
  {
   "cell_type": "markdown",
   "metadata": {
    "slideshow": {
     "slide_type": "skip"
    }
   },
   "source": [
    "$$ f(0) = A\\cos0 + B\\sin0 = A = 0. $$\n",
    "$$ \\thrfor f(L) = B\\sin(kL) = 0 \\thrfor kL = n\\pi, \\ n\\in \\mathbb N^*. $$\n",
    "$\\mathbb N^*$ means that zero is excluded.\n",
    "Indeed, because $k = \\omega/v$, $k=0\\Rightarrow\\omega = 0$, i.e., it is a trivial, non-oscillating solution.\n",
    "\n",
    "Strictly mathematically, I should actually write $n\\in \\mathbb Z^*$ instead.\n",
    "But $k<0$ means that $\\sin(kx) < 0$, and the result is the same if $B<0$ (which is weird) or $\\phi_h$ is augmented by $\\pi$ (which describes the same physical reality).\n",
    "Therefore, I will use $n \\in \\mathbb N^*$."
   ]
  },
  {
   "cell_type": "markdown",
   "metadata": {
    "slideshow": {
     "slide_type": "subslide"
    }
   },
   "source": [
    "Consequently, an infinite number of $k$'s can satisfy the wave equation when both ends are attached:\n",
    "$$ \\boxed{k_n = \\frac{n\\pi}L, \\quad n\\in \\mathbb N^*}. $$"
   ]
  },
  {
   "cell_type": "markdown",
   "metadata": {},
   "source": [
    "Recall that $k = \\omega/v$, therefore, the set of frequencies is also a countably infinite set:\n",
    "$$ \\boxed{\\omega_n = \\frac{n\\pi v}L, \\quad n\\in \\mathbb N^*}. $$"
   ]
  },
  {
   "cell_type": "markdown",
   "metadata": {
    "slideshow": {
     "slide_type": "skip"
    }
   },
   "source": [
    "The corresponding solution for a given $n$ is therefore\n",
    "$$ y_n(t, x) = C_n \\cos(\\omega_n t + \\phi_n)\\sin(k_n x). $$\n",
    "Such a partial solution is a **mode of vibration** of the string.\n",
    "It is of course the equivalent of the normal modes of the coupled systems of oscillators we saw in the last chapter.\n",
    "There is now an infinite number of them, because the string is a continuous system that can be viewed as an infinite number of coupled oscillators."
   ]
  },
  {
   "cell_type": "markdown",
   "metadata": {},
   "source": [
    "Like in the previous chapter, any solution can be written as a linear combination of a countably infinite set of **modes**, i.e.,\n",
    "$$ \\boxed{y(t, x) = \\sum_{n = 1}^{\\infty} C_n \\cos(\\omega_n t + \\phi_n)\\sin(k_n x)}. \\hspace{5cm} (2)$$"
   ]
  },
  {
   "cell_type": "code",
   "execution_count": 41,
   "metadata": {
    "slideshow": {
     "slide_type": "skip"
    }
   },
   "outputs": [],
   "source": [
    "# the following two packages allow me to display the animation\n",
    "from matplotlib import animation\n",
    "from IPython.display import HTML\n",
    "# More about animations: \n",
    "# https://stackoverflow.com/questions/43445103/inline-animations-in-jupyter\n",
    "# http://louistiao.me/posts/notebooks/embedding-matplotlib-animations-in-jupyter-notebooks/"
   ]
  },
  {
   "cell_type": "code",
   "execution_count": 42,
   "metadata": {
    "slideshow": {
     "slide_type": "skip"
    }
   },
   "outputs": [],
   "source": [
    "N = 4  # number of modes I want to display\n",
    "L = .33  # length of string: 33 cm\n",
    "T = 68  # tension in the string: 68 N\n",
    "mu = 0.125/L  # mass per unit lenght of the string\n",
    "\n",
    "x = np.linspace(0., L, 128)  # the x array\n",
    "v = np.sqrt(T/mu)  # phase speed\n",
    "k0 = np.pi/L  # the fundamental k; k_n = n*k0 and omega_n = n*v*k0\n",
    "\n",
    "k = [n*k0 for n in range(1, N+1)]  # the list of k's\n",
    "omega = [n*k0*v for n in range(1, N+1)]  # the list of k's\n",
    "C = [0.2+0.3/n for n in range(1, N+1)]  # I let the amplitude decrease with mode number, aribrarily\n",
    "f_modes = {}  # we will store the modes into a python structure called dictionary\n",
    "# f_modes only stores the spatial information\n",
    "for n in range(N):\n",
    "    f_modes[n] = np.sin(k[n]*x)"
   ]
  },
  {
   "cell_type": "code",
   "execution_count": 43,
   "metadata": {
    "slideshow": {
     "slide_type": "skip"
    }
   },
   "outputs": [],
   "source": [
    "# Various quantities\n",
    "t_end = 2.*np.pi/(omega[0]) # time array spans one fundamental frequency\n",
    "n_frames = 50  # number of frames for animation\n",
    "time = np.linspace(0., t_end, n_frames)  # time array\n",
    "\n",
    "imagelist = []  # list of frames to eventually animate\n",
    "\n",
    "# Animation\n",
    "fig = plt.figure()\n",
    "ax = plt.gca()\n",
    "ax.set_xlim([0., 1.])\n",
    "ax.set_ylim([0.5, N+0.5])\n",
    "ax.set_xlabel('$x/L$', fontsize=ftsz)\n",
    "ax.set_yticks(range(1, N+1))\n",
    "ax.set_ylabel('$y_n(t, x) + \\mathrm{ mode\\ number\\ } n$', fontsize=ftsz)\n",
    "ax.grid()\n",
    "\n",
    "x_positions = np.tile(x, (N, 1))/L  # replicate the x array N times\n",
    "y_modes = np.zeros((N, len(x)))  # nx positions for N modes\n",
    "first_iteration = True  # I will want to save the first picture for the pdf notes\n",
    "for t in time: # We loop over time to animate the modes\n",
    "    for n in range(N):\n",
    "        y_modes[n, :] = 1 + n + C[n]*f_modes[n]*np.cos(omega[n]*t)\n",
    "    im = plt.scatter(x_positions, y_modes, c=y_modes, cmap='copper')\n",
    "    imagelist.append([im])\n",
    "\n",
    "# Creation of the animation\n",
    "ani = animation.ArtistAnimation(fig, imagelist, interval=40, blit=True, repeat_delay=1000)\n",
    "plt.close()"
   ]
  },
  {
   "cell_type": "code",
   "execution_count": 44,
   "metadata": {
    "scrolled": false,
    "slideshow": {
     "slide_type": "subslide"
    }
   },
   "outputs": [
    {
     "data": {
      "text/html": [
       "<video width=\"432\" height=\"288\" controls autoplay loop>\n",
       "  <source type=\"video/mp4\" src=\"data:video/mp4;base64,AAAAHGZ0eXBNNFYgAAACAGlzb21pc28yYXZjMQAAAAhmcmVlAAEZlW1kYXQAAAKuBgX//6rcRem9\n",
       "5tlIt5Ys2CDZI+7veDI2NCAtIGNvcmUgMTUyIHIyODU0IGU5YTU5MDMgLSBILjI2NC9NUEVHLTQg\n",
       "QVZDIGNvZGVjIC0gQ29weWxlZnQgMjAwMy0yMDE3IC0gaHR0cDovL3d3dy52aWRlb2xhbi5vcmcv\n",
       "eDI2NC5odG1sIC0gb3B0aW9uczogY2FiYWM9MSByZWY9MyBkZWJsb2NrPTE6MDowIGFuYWx5c2U9\n",
       "MHgzOjB4MTEzIG1lPWhleCBzdWJtZT03IHBzeT0xIHBzeV9yZD0xLjAwOjAuMDAgbWl4ZWRfcmVm\n",
       "PTEgbWVfcmFuZ2U9MTYgY2hyb21hX21lPTEgdHJlbGxpcz0xIDh4OGRjdD0xIGNxbT0wIGRlYWR6\n",
       "b25lPTIxLDExIGZhc3RfcHNraXA9MSBjaHJvbWFfcXBfb2Zmc2V0PS0yIHRocmVhZHM9OSBsb29r\n",
       "YWhlYWRfdGhyZWFkcz0xIHNsaWNlZF90aHJlYWRzPTAgbnI9MCBkZWNpbWF0ZT0xIGludGVybGFj\n",
       "ZWQ9MCBibHVyYXlfY29tcGF0PTAgY29uc3RyYWluZWRfaW50cmE9MCBiZnJhbWVzPTMgYl9weXJh\n",
       "bWlkPTIgYl9hZGFwdD0xIGJfYmlhcz0wIGRpcmVjdD0xIHdlaWdodGI9MSBvcGVuX2dvcD0wIHdl\n",
       "aWdodHA9MiBrZXlpbnQ9MjUwIGtleWludF9taW49MjUgc2NlbmVjdXQ9NDAgaW50cmFfcmVmcmVz\n",
       "aD0wIHJjX2xvb2thaGVhZD00MCByYz1jcmYgbWJ0cmVlPTEgY3JmPTIzLjAgcWNvbXA9MC42MCBx\n",
       "cG1pbj0wIHFwbWF4PTY5IHFwc3RlcD00IGlwX3JhdGlvPTEuNDAgYXE9MToxLjAwAIAAABruZYiE\n",
       "ADf//vbw/gU2O5jQlxHN6J0zH78VuLo0N73OAAADAAA33OZE/sqTBubAAALo8fpH37/mAZ09Sct8\n",
       "jMgUwaxZ4USOFRdrKKwdeyZOeYvi0tW6Gs7dR1iIf5B8RVSqoNCwSZocdpUI7r6z15mj8ReM7ssZ\n",
       "zH0+6zGdjxURA1CDiz0W4KuVeNrVUrMkD6wSPUDkixpsOliZ/1ys7ygZDsWYQMZYjY9tsvrpzvZQ\n",
       "jQ8Nc0NchfobogWU9KoFkEviuTFlRL7pThSX+9kSCJWlZWKoetn972j9Pdo59gFp/9jhzjz3o8mU\n",
       "Pi0+X8SXd9TqEaUGDJ60eNFxaSr3COE6asnzFLEUUlx6bQLUOtF160LphCbCdckAEsImwcVzAISP\n",
       "ErSRjA4quEDai2ZWsWwEx9Q8vXRBGqB0I0CzhID3z9kXabWGyhIR437DI+j6MITDgtRJbI3Du018\n",
       "GC2UYTNlPYn9MX0EpRnZ6HyvcJhDb5mh3Q+YPk4qL+j62qedbYazu/BtVv4VmcuyhVO3nE2BCJCT\n",
       "9iTABmLg5Atap+y9WEKsel1ULe8Ic2jeGU4+ykJN1Kzx/Epmc3kcbw7kVQFavPbeUNDUI3NPl7lX\n",
       "kYQVnOlNl2Rvm4dHDXkHXebiO41olsX0xere67VBjGFyZqpSP2a2czp2AUXcIasbhcFuPZpyNvA1\n",
       "U8gqWSLNk48X3jOcPTIqF5i9frQPv8tJw6wvCtp7AGsM95kyZ/iNuKmzf+zWh62qJ15gMIEGNAtV\n",
       "hCcRi6ts/rFNkXN6irHhNTqjKgSFr9TkciN/MjxCnT36vbO6hTCmKXlYV7IXKmJwybF8X/tdrAA2\n",
       "2IBLEwsau0mS11jaSTMmx2vhIDhwh+6sAcOJpehya7KA+fkGY2wqFemN7x8RCImO125bWSOIHOZt\n",
       "Sh4FhV/DCNIZdLZSJ+K5jmf2DcBU6lANckvIvXZ6Auxn/CiHM1LoAlY1O/iYkpjRUV39k/tO3VHI\n",
       "L2TCleJXjuQgcQv1kuQHJan6iTq4pFF55Te5Sdu6HLR9bKQSWgwdaDCu7VqM/LEoyoj+TcgJ7MQw\n",
       "Bqx5vXMbSugdvaLLj4hoFtMYKDMQy3MU8tthawCYvWLsi209lPf9WiYqE9U65Wt1c9MfCQQsqnnl\n",
       "GFpqkb8rM6qRpwHG+hcUohzRHYBKoUtAMrluajTpvueAGcPltWL/Du+evhY3GrFPlIwxB1ClWm07\n",
       "GORHwy1B+Lvr/kkBOfGKcCWfxBaEa8Ps8u0IWPFFP5rHMiwlNdV40Ph/wKUKOqJ5qkXfYCGTwmIZ\n",
       "V8MC6GHlKg6GqstAmGZiMxkKf4/o0iofoMV5pMttSM60UGWtHVYYxSav4M9RIkGE3Y4OAo2pbRFP\n",
       "7gvrYBGwFfykTTNoOa/4WU924kLbVPfQcKLxMpNdTVxIUhA8gFAeuGqQSgwP6VCl7Q8gJwcLmi7R\n",
       "hdECNBC56i3Qr09lFnymCss/FKNPjoF4X7Dr/EVvvLge0rdD2Cta+cu6qL1XFBSbMjjiAq9Ifv/b\n",
       "dAcFiaX7v0P9w74mF54rKRyqq3kiuamPMh2pRVuvUVNBvMa7m1GFyFKtCtpbJRZ9ftIBrouIUEGC\n",
       "0dT4LU/jJowgosxltVB3lkr8On2OFFUtMqsQg/4cIAeMXtXnnfQx5V2Oz+B3j+YSf1mmE7x3ZGrl\n",
       "+/TLBiHsqi+XJq4uywDoUFNfY0MwU9laayBJaUQ7VBCC4T6zkhpjrVdbZv93V4T3BaYARz+p9Vry\n",
       "pb28B2CMEEC2PwWP+1OwHNNKQnvKFMkjcZCsB8w+3esYSZoAZdvFpif1U1Sl70vZvnxp4C9E7SZp\n",
       "k1nVLqQw91dcyva1sq96vYM5ve5hq6WBGhX7xySoZVTn0aRwIQs9TZ78vEP3dFtJc4mqImVPq1B8\n",
       "zYop0g5wO1ZWdkcejlMfxnqtxTAErrlykhKEteO1ecWaHsuNTMiIo8PuHOqphUWkM+1//9xOJq8Z\n",
       "xXnXt7+DtcWU5xmCP9/jIZNRSqywNPRpw0FO9OqRfS4w/0/yuDnHN4P3NagGS8QPfleEbpPpMZqg\n",
       "4uKZgWIVtiXB0fudD6MZxrLvjmo+jo9jDhcVAbetceHFLPNCGOOricsCXgkp6QhWm5FADK3ip6xW\n",
       "YzvZxnhfecSLKPMHbeQgSsiHUBuZ8zXGmKcvjVGluSZ7fUi/JkeYe10vooBZV+czTRQGI8X8Xuz9\n",
       "WYrQRje5A7N60DN84btzWpPiudYqBNyIfC3SdRWhIVjqMhxfUrNUA3x4YBGIW0En8A7mEyLd/krZ\n",
       "Buk1k0iM7eXGlf3TOvCdqhNTg5dE1JYMfUqK6f2z/Kh8BcGdGgnUxnTtJJcHPC1yzr+//YB4utBt\n",
       "ln9kS9E56UJmzDLJhsXYDIzuuaHQsTzmqySQ6S3GYBTjXHgt66b2P31vG+dnuDd45RGwXX31FZiR\n",
       "Ci/3t7Ubb5z2pjcCTkVmEXefMzxYCUKJiDoTod0ItN3+35BaT2Ete/HLnyNyPHnD/bAQCxce0bNB\n",
       "c3e1D+ZVWI17zpgwdVt74h++rDkQ3UV6ET2fqMVgAig4J2kDJ4g+AViSIAN9522qsvhPm+VHm5RC\n",
       "P7kXhvXlSdyngifiitgbcKeq1FW3YmNsY1mUdNnUi23wf7kjUYrC8jEBX/3IkPxTMX/WFOS/93yT\n",
       "BS9fsafR5cdAToJX+jCn1yMc8Cf799N5DqFGER01BzQGR49umxRnpfzYfEw4BCjQQeq2AmBl2iZG\n",
       "B7YD+xAKPK24TExNyODeZgiHNtyAf608ZdkJAlc9rCrNhsYkPGF+DFBlbp//wJAbidPHdPmB5rJa\n",
       "F41/t2U9SbEjDZQrFhdhNidLFl52StAJuuK46FhuEIHOwm0OqKlAl2n1iCHSglAkJ+N1nORVDkdf\n",
       "s3vF2KD+kXZo3voppxsu0Mdri5l53pNJJDvqUtnSGpu1ahzXS5N7cfmzfovOtfxsnY2gGzVEmwn2\n",
       "zY5CRfz+v2sX4ZOv9LvHdIvO82LTyMRTpolUP76Ssh0PUbSynC1vq30iANk15wyTHQ5Pe2Uyc2Rg\n",
       "TnKsWM/6G7/fxK34S2J6E4axYxVe2VWzd3RFIgu1ONiB+IxVh/ndQ1B7/CGAB3eun2f5O+KG2CGC\n",
       "iKRPXVXjZw3c8b+1GB1isKrohj2RcvfNPoLNpyhnaMv2ESOmCdEZ7L8cNo/+2HECz0B63qzVbn4H\n",
       "dVble64G8LJEmLW5ULlxy7VVBi6aV52dqhvZe6JzHJ2YYVcUItAoPj33pJj/gim2hG5ZPXuJ6GuY\n",
       "kYu5YplkP5H9KF7vZ7tob83e4dOH+Kc6NSkih1IeKDqjQH86qC61BHYVT2e+dtlVYx5GPIrjFte7\n",
       "XUr38uoApINYccSo8zprW4dE5Z4nF3/8DeSxxkGjuHHlBfHtCx5u5M0d3AMczoKNbA/thhFUMTMz\n",
       "iAf9QZM8Wmg6QTIzZr+ssr4N2cbJj6G269votSvxxvm85I4JVmxFTEFucUUE8LtUR1AzNKtK5qTr\n",
       "w90yWNW9yT0p3wIJaiQx28R2lJ/eivm7MFKdcnPaC2l+0IXnjg1YQ5KMiYHWd+CMH+l5mmfR+B+6\n",
       "q1kJOpxJAkdCk0RKfxTOuf05HQb2bzxdoKUOKVBxrWkyJHW1m8JKuUKFOgtbgNjLTRn6v5VS56I/\n",
       "1OW6HDY/0bgs7b2qvTdXrPalQv/DIr9Hub29XpuLO3njb3g/1wkUfOrKq7cr2/62Ac43YJFdI/kp\n",
       "oH4ns1FNarC9UpoOBoEzuIvV0hRCsIGQVoy/R2ShadyQ9YytxpqaU8XSfqmojK/oVVgpsiVOFmBr\n",
       "FF/6nyUkcSr67jQd/3FgQ3Buc2DVUbjohTkL92JF4f0F5vsFtCl5dreRlpu3y8XIBCbhvJfZoPnM\n",
       "hWfguJOukagwSE0bU+FioHaaaYfXsg/NMXdBMAR1kJzl4kEe7f8AwaLbTM9sjxl85jCLXjzspzUL\n",
       "MbbSqdX5+n5p7G09V1eDOydiWS+uXBPG4Ah/7ckpsRb0MbfzMTj9HXhThbBIlukU6B4JkYpqZMCX\n",
       "ZsNVZrYQAi0VRl+eo2qBtFoQC5ezT/lDUJPOW/u7vLREqrP2ApL45Koi5jbTCJBl7F2qD7SoG59G\n",
       "W1jhhQXZDBS/VS0JYMHinwg+xU5OQU0XDDZ8NpUuNlqMi3lUHrEqeYdhf3ch8IWmtrJHigU2i45A\n",
       "funJpIf1v3ao0+cTphzjNefcu/EmRLpnJif1H3sBDod72DbIBed27zjvX5HQPsJTkP2PeaG1GHtd\n",
       "YMqc5smhbCpLd7yrJVZNeaPcG11PCDeZrT7PFBSfHRh+NVBgdf2vQNFxeNHf2rOqYWKvsNtJ8X44\n",
       "A44M/iN9HLXu7GozUrFGzg6t+VvaF7HS98Pr7vJIxd2rXE48cJbDhKWTeQF3XlV3svs3gvai2u6C\n",
       "Jo0QZYeajilYZdHAR6qylF5SnBYxqLKJMop7RPpiw/bParjEoyf+SSDX0cUZ2EHzoG7V15HlYwm3\n",
       "vtFbqLrXRFH0DZIhsxnxlTOgBNO9Qv8NAdC7ZGB2Ohsr8yeb70tWRA3xAzuCKb0U/Z0EkAD8UOWP\n",
       "/EBCNtbUvejB7nXmyQLLTTs7elrO3H8D2qjhLBox8+v7+Kb9s1ytIFgFP6wgxil2cfmOG/2zP5n2\n",
       "/WRca3eeTF6MM05ZSE00P6Dz8LS3XVmfgGl36Rnc5h1YE8Anh6EX/ArsPb6ld+paZMH9Ev3Q8iQP\n",
       "5dHkJAKUeYeUctTlK7xWJb7waTwHToo+hyQahPn23p1rn6JEDkQoIecGC/BjtbAe6A0OYYSFLEAd\n",
       "+wx0p26EPKx5qgIAGSN7tIJG68jgEq711sp5YB3Dlm+Vaq/VF2kK9VU29HdrzcPJzgG3T34xYU1w\n",
       "H4uI9YWKWEObxh3t2NEtcs1EKjLP3Cwbq7WodMinI8Zvx9g9o3bapTs9H2qA2zZ1VswhF6Ivy+So\n",
       "URfV80L2Y7cm1PmLVfOS+fewiEC9ptyarrUwy+rikBY90qH21QId/WiF0ZB0hAtN/w7dZQ63Scv6\n",
       "hjWHboP1L4JOG2P1tSWl+8tNiRWZFlO9WhoIFMVzW0BpaH18lVi2ixirpxYc4sxrRVRWoCVSezu3\n",
       "J3Ez6FuHWV2KRYAb/iSO5VN/urosVEtWjW0Winkvugx/5KwB+udR5uGU/rNe9Cus/dZWGYagQ6wZ\n",
       "tm4PvVcXQYMeJjZbvbxHdqO8VLvNUuzDYWg+osBTNwQgYkyYkcVei0noo+sdOyh1tT0h8K48yBZ9\n",
       "DHnLHa9tP9/63vYRs1pn1MA5xHTH2Nd4T9hhmsGWIo6wtpNYHZnGM6xbkafdt9Ld23Lbk5/ioijo\n",
       "tfyxAhEOHLsDRd63+T/N4U8e/eplB1N+03Taz+i1/P3h4oybrovIwjZ5HcLuCvSHsolXynrB0LRa\n",
       "vzhJLlHynG5rTXspzkKga6MUCNxEQ0fc0qpmEV634IzRdwhG9Iq/xQuJ8q+j8oL8ETnvS5jOn8eO\n",
       "u1IMMg7nSln/Zcjkvr/8p5C3qEaODhIo+7ePdYjFytefFQUDgCt3cPmdPU7e2ZmD4BgL6ka3BCf9\n",
       "pyfVMSTRa1msytXEqxPzP3skOspjcM6du7Qkh/taavCXUk8djzbPhybvd8tKVGeczooel0xjpOff\n",
       "wajq49W7JIgbTfmTKjZ+aYsQGaFpeUO/aijrqVozoxvgZ/Ts0uVlW6ZA/+bM/vPOzfptz3g4dDJC\n",
       "X0Cjw1PCTVUXV7cgJFWD3kQe/Qh/J/KVhKqRnf7JILyO0XzdnGlm4Uc50PkLAjpjpBx6fM8ew3kg\n",
       "SQiX6mcJuMQPJmy1Me3raFfsjDzKxiMIYRPr6BWxiXsQMVY1mvtQ5DEB3sJT1LC+wfiKX+ousJc+\n",
       "cfJiH+V/tXr/Nlr6OzRCm1CmaO1XivDMRMpOCsNf1lxD4HDLxzTiz0TfPh4USy9tlAqMY/j6C6+2\n",
       "zz05WfCaDqsAYoy6Yv17SCeSswQO+EONt7CXfHP/F6GGAUAqcR/yKKZAAlukVMgezbv239eS2h06\n",
       "/9BBYUzymFqDpiydXiGU1druiz2kOwLDaOqlRwP04dKrDfiiqhEZEnelSa7DeDxzOg5dTEi8k2mU\n",
       "zRpJ+EzKW+S7pgR3ruxQ5YXefmx8EodZCGYmn23o1kZ4BF6bsCqQoevCt+S62h37CCh3uPCvDro9\n",
       "CQ5LaJy4f1jCfSn0k4JsZI4Tn/G6IVpB7xvxsqUPLUL3Wgi4kf3spTgEEclEaKguhUu1h8X8/9pL\n",
       "JkPosfAxkUdvPNswRRDVBPM6d8Q2a3BM7BUqcGKdbRoSjvT/6RTiJfZNCzqb0N6sLQNzpvfkvJyT\n",
       "eAIua5dOZDZedBgxEVOid70trPzX99UROrm5dyp/L+HYQDhs2j9tVZyRggvUh/zVxcLtBw33E9n3\n",
       "HhCP82NkWBXEr1q7EnEFv8eUs39SnLT4DOf09//448qqJXhwSwWUnmzx4WMRy0n6qnau1zer3bMy\n",
       "dJA2BipWWGcr5TR14RJzXy5ZWAsuVxYyAC7uCFSd1EGZTzYk1lU3yCm9oWPcDOd7YYE/g35cO/h8\n",
       "SFK9pEFiWZAr6vQ/xRcfgmL3vkTzfgL8CN7E7ScNONmyFLQor5cX+fz5RrR5nzc1MzEO+1mm10V0\n",
       "VCH49wCZ2VF/d6th5Fl2V8X5kaAC6qOldvL9gLCzQu5pSwUCzvtm5DdyRP6+kooXHO3U0gBolpxj\n",
       "NppkhCgIzQGej3MxxS31j2MXe8BbaiuTLaEvAgyz/VSH927BZ1+KKpgJV5NlLJ/DFlDi+ZPPhJRe\n",
       "uU2y/gSWwFtMr/mw9g5wgz6rZzevAdCRwSzJGidthgDO/DWQYTbeYXo3z545kwc8/ScYk/KcNRzu\n",
       "RSRB2+GXHY6pyfYSPXj5P/ajfawdc4GchHV3e5O1dWxGEAR8i4WJ1POJHc9+c/U4QNJt2xwCUihL\n",
       "mQJRpaxXCuIybWFfP7vu5AQjz8K0E9UyGZj1NKbhMQuGdSQJwZ0D3NFMvIeMVKcL8iJHiB9JCIfX\n",
       "y19W4sIaPOUXWC5YOetVLPHuyJHghcoJo1/FED3oMfNcsAUxyVyNVGhO/Gp++II2R6rS6PEw6np0\n",
       "SHmJPbA89X//8NFN7M2jLE7GGdN62I7CZbrsSszM3khcjDdKnMo5dkd1rh74N1rQAcI9/7aL8K3/\n",
       "6x6hJWtgFI/K/omHT41cF/SwY7TYKMYJ1Ht0GslWDOskzxUry2AuFM+h3GiTO4xkbxQyk6ccuzP9\n",
       "ERI3OgzOwXWv5O9LBMwnWYY78+mEdXhnc3PZgdkqNmuVKE91pLNvwFNyT4EAtPUkpX2VXJLNef1u\n",
       "dRC1N1+F4tqoyMyL5nhno8qd7Z0ptcuFFbjRZt7tS7oOv0vhx7LIuYwO2kRcHfgW3ikc1iQ9U8hH\n",
       "v2jQFKZ42Xb6KarkD3QGMjZj5054vnwb46ynBLvX4A+IdxGY7gTM0K4AJLViI8wdl1V3hTkRUTFW\n",
       "t4LXBDKuqsssZq8nQMbUz6hyRRx6d0tPt9qnjQo/p6QQSQ6MrWNWPqPtfC0u86Pmm0TTOmGnxDLq\n",
       "18M301Nr2dKRUAMSDJuq5eTHaGCmfO/NW1l3Rwfv0Sp9XmKD0R5q/8eoprY4UUNfJwnAr9DLcqfT\n",
       "PpbSkHQiWIHFjNdz1z4SulIqmP9NbIZxVirXcuXcxUcrBbXb/UL9i/hA+rRVlW9jPkV+UOkui2uV\n",
       "5a/RVguPUXKR3JkEROW5H+5dlxl6GsU8pAiQZjYIJRS8qRsyp4qcihL6QX7vNxv6F4WpUifl5bI2\n",
       "/B0hkqZhPl05vIoUqwTdlFPtZRl4Mt2icfZk+Q66vVd9tUOr6fkT0Hrc/YPoDBRenJ5ZIFtk5gJ6\n",
       "ceY2eDKbdA3eE4WCEXVT3B/qNadjHM+04mXgHyVbP4xsQ7VwVTlVYmHB/ajbdT+GLBg/iHgVCgGq\n",
       "mn5w0PP+VzCxlrdwuD5BY34HPA8CJ10MsVvQRLQXxwmlaxdxMmKRN8nGAi3kzzSA3Mi+ysyNSmms\n",
       "j38N8NHAcjx6ldcOnWIBWsRfrBsbz2M0EcUuPkpjTCV6Zq+sNh+/H7NiPBhSzZNzNWAZZLR0jUoj\n",
       "1A1QaHPVM381L7Sb91vXzWtfhrZKMbHvVAVe2CLNQwIAPCMXSD9znjIdRrOLwT8kcHmu87tRuijl\n",
       "GrXOBuZJSTdCAMB3N26S0K/d8FDYd293mEwhO21vsQnpswa2/o/YSp7rOeoA1/B9yBhDjyfV77rO\n",
       "qKVwyvN3h6uCtsqDTtkuQQMzKMjNdZLsYhluK4+Fv01L4wJJMYRrVtTXRfPQSw9IWL9I1fGLE4yI\n",
       "t2HgDtUf9juKet2aPrdlikGWX+1CtDcYhoWVUme2H+F/MjC8DOzfqgkIGqE8boWyHnj9Jq1fmTPH\n",
       "gBVjgKmYoecsypmumUsxbIuUjozTY2YYtRxbUl5G5iopXCQWaClAnZUDxkf1dqFSJrJZiC16xr+Z\n",
       "WZzV5+g+MF89YNGchwK3iBVY6WQj+UAhaWzlqDUKv3WHjB3ZwaxxnKCjGlU3QAGRdyCqPVmx97ZK\n",
       "2PVweDu5wAEDWPWf7/jgTkbMz+06O8i5aPfhVCHgqnUdfm017yvQE1ZlZwTxPrQ1C85Q9U/12UYl\n",
       "+oNBOqKmx3BDPypFaz/YVsY6TvRk+0y2Jt+ifQFLkuuVkTy6p/Z6Q+WiqlkYQX0BSyAtjhSn4i7k\n",
       "X8O3f869yY1mGUiqPJvQ6gTivNC/f/9v8zYlj0iOjjIuQwLCZ4Dajed8Un4sn9fmdpu64Xv9IjPk\n",
       "CR9o73a9+iZFFPJpUTqj29Fe87uGBr5a60szhdoEmL6AnKuvweFW+E6nlZSGpkMjFlNY6bGF+BQ5\n",
       "g7rqmTLgsWeAOsb4b0gKMuAC0LS+6wGV8vSKbGxWqBv3JHpB11x8u1L1LO+XDk6YKweyljoFz3tU\n",
       "EmipyNXCu/AzRCemw99J9z4BEqpnGax5FJ6QqJbVWhlTiF4wqnGqY5Y61VSeDzWUWhaXl3penUZ+\n",
       "r6V0gtDjnNYHCb+p+j3kqTU0jkFAAAAs4BY+JKOvJ2f3FV56J1J1ZFrPJrGQHY4kcnqNrBIZnyJZ\n",
       "F/hyzcMeSZKK4jeowvcNzwuZNapVWlpRpS/PwYuY0qlFh1xCrVjBPETwcEVauTYXFqIuxbRnRhIq\n",
       "K96It1n4MoP3O4fST7HFImR6UKKfH+9Plzxxa2Q4MI1YyQ0VoS+wHIT3FE9hOcABmwTlAAAI1kGa\n",
       "JGxDf/6nhAHx7U/xXrHmu6hhF/xVysAALDwTO3C/CnPrO7qNk1qbkix8NeCDYuo407mzYz9cc+Af\n",
       "DzH1Ya5T4jKYOyBxIZIPyDneQqDgZUWfj23yCgb4u8NV+jmFtCN34z5U3uMZXQRYissF6UWk+58T\n",
       "w481XweJF0hb2x+YZQ4raBDitzmJOiKNGEO0n2LhCEA9r4fDRjJe+imB7afPUoJwKY2acywYGgOe\n",
       "SWHbrnrswalGeoDN8fu3PXk7opGDLkVzb65x5mVgAVhvQyGgyKSKxU74BMAzSixQ5EPvZ8YOmylW\n",
       "zdi+TGQMsdN84EATXQY4hbDw/k+PQSW9gzkOJ6gzVJvB3Fi28HB+tbKPcEuLm3/R/ONkSxCAF6dt\n",
       "bcT9b5RUQuQfv2aHG80mciH9xFrN/oWeAL6WFJUacpIK/742jwpgNlNf+PwQ5dIz4j4qT8Zo07/m\n",
       "weZtgEo0quJQY/NVYYWfwCeAC0jOqdK+OWie2sfYSQh/PgB1y2swuAcV9rBe7qpUE1XiiZJSqw2P\n",
       "h/K7nf13BryaSJozKEMi5MwT3qu/XAJ1og2UuFPuRswcCiSdb3dBzfQk89z+QgJwrnh0UxNZoXuv\n",
       "5RA5U7rQpti3R35y9fgbKFGAC8cwhyNT2MfLxp6fTBq3Iw5IgOcHE9V1YuIVBMf9MT3WSeDSaqIk\n",
       "cWV8+0lUTUr2WQD+YdywDZRvmy3f7vl1Mtv+NVALK82MGJ4O7mzCOo+YX8nnW994MOd/icctHtHL\n",
       "cFW9mUGRoSRjmFyK6K5NNe73WPshYRsaxr6s1GNOGkLSh4wK0ooiHEw1khVLRNoOCKDjmHtDNFWK\n",
       "78Yoyaeo9oql47PvxuGN5v26Za1fgcLVyoPP35CtErPepEx7lmjvRXaAGh13eFNM3Hnay3cH2d83\n",
       "wB6NUGAy1FtqgSFaQ/YNjZR3wzVuYrpHPreEDOyUeo3wu1UtD5QwV0wJyQ9NMEPkHDADgOiiBVGM\n",
       "tKDHSuuwTFPKq/tfWhk3ciu6Bot5xPwQ9T3E+ex/j5c4mClNUON/8y5LdXZvMAmSBWlmIsOZITSl\n",
       "iUYnJgGZvQsoDhi6LkIQBPa+FHw+xhSJm98VQMzhlueosPp2SGj04EDe9pXRp96O5+SdWI8xyiJm\n",
       "7hZLk/qX9NYj6LKcRD3YQTPw414qo8KuKWOIP8NvC+bezyEZVqom1ci+1HZPHE1Bct91cQEUNBmX\n",
       "9aaWTsJfsdIiuNq+jxW9gBLdsw5tpBzP6n9FlGZvmfddZXQDMVJIvCEP7AOJV1zHKWb2TWShhmXj\n",
       "k75m7waFuR6zNFu8BGGGVv/KuM9gdJ4fvoN9uZN0340ikOP/AHOIoB6Es21W3UQxC/9cngTSEFK8\n",
       "wlWM8unWnEZemg0i15IxtOohot7exHnOa1RK+gZGItkcasOoNPU90ihTWvGjJj2kyz9sYERnscB8\n",
       "3eiHUEgjGLvqOas/5OTuYN+e9a+d0C+71EfBVYTUvynEzAJVChhtFUboB5QCS/+gUE7Bck/RUW0K\n",
       "ZTfciElwZqoUkLYjK8aSEsrDHm+rCp0v8g/micXceOINlhgKfD8ANEh/2M+NirC+0dhSMP+tJSSW\n",
       "WAXEKL9BMUvniVWBTEfKvmm76kiGZwOH0vZO1RHy4p3er/2TY1tztHJQ3H7XvIsw5ISmqPAZgyO6\n",
       "TlU1NXb8jwxeQwlo0v3i/7jvGcB1u7xkQHZt/3jb0LIEnUSwuurUqiXYkNH3xX03PWYYZblD/+sO\n",
       "y2in5pTAWfLI01r6K8bve1LB35Ac6YIiZB5G0CNy6Tx9WY+vsiCTWp8H1Gnq2RhY1ZnQCRbu8VYL\n",
       "CCmPJpcwevhIQGMK0rYrmtTnoxmxJeZxLLHbSExTuL/Cjalqpq+j2B224dp/x4JQfxaNsqKSasp6\n",
       "9i+RKE/qeoLZd29i3uhRieKQimoKpLoEktQiF70wYK3gdXtgHF3GoWSjTM9FaiSNMx4mlAcjdXTG\n",
       "gU7Ey4+HsrcGxhcDfZebPNOunlcJPHR1DYQl4IB0CAHq/7lKQ/KkSzlB/RTVB3p+ku1/7m6zeN/N\n",
       "LAaesL2/WLMQ51Xzissgra67PMKxm4Y3TVh5N0QBz/Byw2UOVlySjfw2Zqb8oseeig1PJjvgTmYe\n",
       "H/Wk2f1ecfHsHPs0hxPuVkRnBHdnNzxFdQKSl/MFj7iVT/XMvjc4wKHh939opLLJi0p86kizyJnk\n",
       "bT/4PJEKlbB0/c4Fr3ZHZ9Kv5tSsR5/9TyR7ACaWoYSEvTeHfJdxydIS/vXPbb3PCUQLE6Ph5vzI\n",
       "PgK+bLqiT25okeRmv1/U1sEHF7KcEkiTrVL1LY5N8YiQqCLvftimKtzJWczUyMre/o1qYLI4SDER\n",
       "G/nuCCgN39OcqwWUrRn4eDiyi/+zFz/GF+ao9h9kJNRYe6jdV5sGkx7D8sXL0IDDsN8poCsOrEK6\n",
       "aunuNNhfqEvJ5ZfT2rf2Mg+sQna1+CXeGFKaUAFkLHffkm0Tjud/keZ5UdoJGhdQFN/QMNESIXm5\n",
       "ADXttK6/fkS4f2Y6QVoNfuLzLESFL9n2U+VbNYkI9tJxNB6ksR0alrNBza7uHfLJO32/vKO1/Ja2\n",
       "znCB0YYbhcicTPsCu82TQzNgbb+6Qa9YSEL3SQtGbP0QVuATGFy0DMaR5BBVLpFM2gUu5M2fVoYJ\n",
       "b3YNkG/BWsxRnBmBJwSU8a6SAcFoYJho96eFFF6u514mUv10T63s/Kfms9s82AndMNhnIuA+06/S\n",
       "KlrOgQgU3M4s+YWBh1ikudQvOmWh30PvGSNKgCHuEN2zGCJnwiLzHCQ7D1rhUkmG+arCSQ3sr/bd\n",
       "6YCKlbR3BP2rmfAHiBDWe8Q1k6glj9Z14jUqzs/nbNGv6kVyOfZdOYZVMprlWWnejYPyFJYyZ/uL\n",
       "QgUD0LH0m9fEqpI9fygDLUDS8v4sKHKgBZdgWGgOzAMqvwTyLsC1oDRswSprujlJJtfTa/00oTj7\n",
       "ioI51dnnEV/Jrlgvg0fCpj8Lf02A88Ku50K6BsauDulQsQKIgAAABLdBnkJ4hf8A/pzNex9L15aU\n",
       "v5S4AWh4s5umxZ5IKnn0ALRuZdnG3sz3bWzXLEygIV3mHyJk+wisvNpZeyTuminqaV7XTavHy4d7\n",
       "sKY7yGoO7msYwMiZw6YK0Jg649O4bRSxWgvRoNr6UjZAzs1GSJO1RS7tYvPZ5M1uNk/Iyif96Ch0\n",
       "eNGn+6Vcs5El9mPV7ym+osWhB9YdYx2BMZG+8EQ2+AYgadcw5lEJvmbwK99qIXKyhHYo0Uca39A8\n",
       "a0nC6dzoaS9uDN/lt7TFI7HpKW3T1RhMXesOQQGJRwJ4QNe5hqdeljnxl+BqPPwwcyQvQS8ocBdf\n",
       "FOLbti9gXJI4YDzn1etZ5aUa1BQ0r7ORK9r/XFczMDIRHq5GkwJeolmIAHsXcJNOKT11gJnQh8L/\n",
       "BW4FiuFv2NoGIjrNTZfupb/nKg3F2SmQ+iL1nm5ruLQOzHdqpMC7A6HwKqR6Sv0I05xpAfu8YmUr\n",
       "vZWZnVUBO2gz60YTKtaNyeN/j2u4wB2xV03VCrn+/93GFOL7+TQ9PzCCwda64rlnJNNkQZyUqjOb\n",
       "xOrCmHzbRuCClew8twLQkKKx3HlGv2JHSmIpj6bg1zeajWZUeE58OnLtvTRS/xWpohFVULvBC3Ik\n",
       "mRGbpuRoI0fd+x0nrhZEEBnfr4W6BKtXpUJB7Bv2gaZeARMshBSvrQNft5XHTqlTx+cQ/IZB464l\n",
       "gvyGcMkV8GzA+zZ2OXbk5lomyhqK9ICZjPlekCNTcY60rVngdy9yIvumMDGbvivZfhJgv3QSbrH0\n",
       "QHAs/6J//kptBvdQYc/TMnZYTOZZ2heNFw6z+Os3EqUhkRQ7NUVFDsziL0vhxTjn/DpJHr2w8JT2\n",
       "Z28Gi1kJXEQe2vLarPaB9iW4LVYN4kYgpdPzac8Nvh7rrD2X2CYDXtxdTHbdVIxHs3muIOHeqmo7\n",
       "eJcRwyT0DjTkSb5n4d2bpysmOwqdcf7S5UKCIrFmDrXauK9jr9p6yeSt27TrGGlh7P0+Vj7++GrL\n",
       "uy/I34mKr6uTD4WB7cHzqhH6Q+kc3sTJFQQW0crzJQtWqtBFb8lWmOAFw0vv5LqG1IGDNrP5UW9Z\n",
       "+3kok/XhRaSOqnKRk8xlwtmOADEgGgF20usXzCCHgwq7ZgiQLUfqul+BEq+h1fDpjOB3K1myVZgZ\n",
       "90JGF36vdI+gx7R8YzzdV1NZWjVbvBXmAOrWsmjY3zVQyHCRBvtdBaPKOO5iuMk0Xx/jlPOXGWZ1\n",
       "zWkUFYRWhiapf5pzRWDIXd5PQnFkXSAtIE6y//rOVI/SQfq4jQ5TWJdviS1Mf7E6DWhwmxLGij4u\n",
       "PIPwBmRIZeFqrV7YR8/ygsDZ3pjfiwHmF/repAvl9QCYCpM1ee2gHeR92vDW+t/+Dv6z/kelIh9a\n",
       "AgJaaJA/sQAM9rWw7djwXLFWUbe5Cz7yEVNtFmXpMVeewz/2tzUUjwUrM7e9+PLRW9CXLSLTsxWw\n",
       "w0CT1eK5PQZMIBFcE+nrUkNcQJwOXGFhbr7EaepvTVcafvCZYZelVZRK9RPiXsh5HJebud8Ihonq\n",
       "UQome7HUPrFXDKLoZYNKrtjphxAsJR3ZC/DMc/jurVZqZSJdmrp7Uc4FXgW7/dGygI2BAAABuQGe\n",
       "YXRCvwFZ9jnmB/X4lfnAOXYjbK50ZJ1wHnN1KMJGI0klNdGa2lWc9g/7gdg80ANtXbyrWdoVdCJD\n",
       "b2QGEasapbIJf0RUKq/UZIvI2oZTQQRXb0MgNMKuhwI3WuawyNZ3PWf+zQaxt9prLjyHW6yKjsVO\n",
       "Zr5A5xiGjGJY0FP2Xd8tReVGIeje4dn4qQQSsXaq60SuQhZsVqQakrlxH6kgh5trK8Yze6OsgHj6\n",
       "HnOGZA+ECO0HsMho28OawHvRFQ9P1rr+RrSOBQ0jvc4FarJZrbVEcmOOdirrAckNO4YQS9+rMQ3B\n",
       "1FPS+F7CfHQ8OcdHl+r85hmrORQAsuQYyEm660IZXXbTMmfxQ7E1Ycm52C2CubQR66is1Hi/+TT7\n",
       "f3GsNSNa4uUeJ30WCrSK/Pu2ai1UocFLYdoRxG3IcQ2A6aQDbxBHgzKKg+fuZhMxnI+D8Nw0FCI6\n",
       "ZzDkdPfsJIAaP+q8GXdogv3v4VgYCgseEDb3hnonXK/iw8W0Vane8EDrgEKgoZwBipA08EQUw1ER\n",
       "Vz7omVUvwBXjg2TjY/FEOQyYccy5z9S5QFLqtSkpMmJ5CqeX7ygCfgAAA7oBnmNqQr8A+DL8Sjfy\n",
       "Y6v3A/Q8ADRRbQ6bmmj1J94wMatlE+zTGPnBcIR44lICQGExA5emtzRzitlEQZHYNPdNtfJv74r8\n",
       "IS3UUFs661AFtr3Bc0AZWdWprIHkeKnXGQtJiszHDZG+7BYlNviDGtj1CWZj22/8ReGjXjLvOJaK\n",
       "HXruuAbVIxzoZG+y+7/50hPrT4TeB0ryjVXDtf1+Q3XOf0++ZeVD6eqP7s8tqOOljPWx99vLK/wv\n",
       "mje7C8R11pbZHTe8gZ0N0/rx2o9lj8ACuXg6uIj3oWa21kip808FtFarOrnFt2zwbMU3LaPc7wWp\n",
       "UZ3ppGmRJcDE8grVWyyInhcFF8vlZLd2HgI/RqYm7SkgTKklGEEi/kdkzNq51dcBHm1QfQQThHMs\n",
       "m/AmnAb5xHTQj5eGuUbGVZasgtKaCsqJdU3OhT/9Jc2qd2zOPEzQhPn/McmmUHEM85uszKnGQk1S\n",
       "mSeCTnO0A9K1aRsM2iPHs9ZLH4DP0NdiZfyIx+SynmKgAciS7Yk8AMnOYnOXTDuAwRVfLEx5/5J+\n",
       "YCpZwppIt+cZYKNfgqfl6cgG4p2oXGzy3cZWohWpfpldCcJuvEoK966E/QnWvFntTZ9Hnecuwlz5\n",
       "d26H8wuB1WDxt1uo5f+SZ+EcT7zVmtTKdnTb4JdSh4++f+zOxcxIhIHQG3vjoDqCuIbVuuYIzIzS\n",
       "luFWYgTpu1rvtk7YGd1GIHjtfZ4RntOp090JjtgPpjA1qGk+U2sv0jAB0oFH2LcJvvABOdO2bI2c\n",
       "nYjnA98HUetzSKWzuSnUL9g+bmgTZzHvnI9Q6arDMnaScKi/5QVElO+aLjARK7S5s3dudvdH8LD0\n",
       "GJQaWqGOOyrMcymXjtVh2niTrCZuFgkqfEXorkE04J5dxqNgfw7qziGjRl3Iwoka4ErinxTx8AUL\n",
       "nRMj8QxCyzB0HvBAad/Mryix6JbFF/JsObn8tQc2+D3N0fEw+rcfnK52j8GcQnu82wBO5WWK4Wlk\n",
       "fFyL+iDBzHYfD2/HU1gYrJ6Ad9P26kAsC6Oc1FNsob0kHX8htOaL72p5TCHKTQJ2jYuhKIjDSUEr\n",
       "HSa1BsnfaBAe3uxJH+s7n+3BpB/qit/L5Bx0O5baVFKMiFkYum3Nd4hFqd5IENi2iH8rq0O0YalC\n",
       "ryGsXjjwvT1OuMyn8XgjJHraNrTC8jc0DzDbr+FwJ2IYBS2ZjqjGYNDEBa361ojnaJgBzRIepxPI\n",
       "u9CQoA5nTUV2FGIZ6avw5D5yrEr2LjlrO7p6j4EAAAiUQZpmSahBaJlMFPDf/qeEAY3nNwAmr23G\n",
       "jAz/8Hf+0IjQZF58Pj9q0QkpM/05geeH9qB5GGlVtcgRakwlkclokk2k9xLg0ygY2tSdz22cYZob\n",
       "TSM7341klIJqy8vd4qNQQ9asXA6jkFMHo83RFf/w8eNBgF5w/MeU2z1tFIhWCZfg3I5ysYbPcYZw\n",
       "ujVJ734Bguqpf1kMZM+FXqE0u8l44XFhmmtQlU7ZLqugYNN7JE6fEOYtBqoOIz7ykBatRBuTsIkW\n",
       "ykZQYrOcfZWQkRLQwUH+ELb7HW0BhQuD2fKY1g7ZN9LpCM8Og0JfOmWTPW4EGMZ9WMJNlhyOejYS\n",
       "Pc1RP/32o8MungKju+uk0djMXK4Ue0yyvrQ1qc82pcJzObuDZfzowew5N6yj/xT+e4vgQ2+DhiAx\n",
       "jNYmYbqEmisgi25aaS6+VWN7+j3HCJmgGAFfyRMsNqS/CTqH3CqF9TOe9mqnOyPq106TLZg7JXCS\n",
       "JNfgOEhRscsgLj1PCD4fohBtJSJ8RhQjx0GFQ7CIE2vuPHAc95fC1o4JcztwACdB8e8AZ/d+04AT\n",
       "rqLS7D0lBVz9mDXhCNBOHrIIHY3syLMCurhFaGwUruj0TFmVUCcBkg3++T1NK5YQcrHJHGBgC9UQ\n",
       "trf9CPd+tVhX7zJrUi7tV7H9zxaqFSTchNeWA8Z2WBS0rtVwIqbqOyEEDGyinReajgOsAFz864s7\n",
       "O0RD33tcpw4/+Av8G3NbJ1H4rXt8mFsb5KBtgI06kWTOu397YniXq2n+fK+lpjLODhNbesDz9NvM\n",
       "eyGXb0rBoZvuP6ni0enGjLk2JAgkiylhzKoSsP9FizDe1XncIIOaNcPCqhlR349eB2iY4lRXyWGE\n",
       "hyJ4ZICq+B17jBD5uTljREd54mOTLgsGEXmORjHbW93LonKZHeXR1zyXc2ylkD0b8Y1Fk7c23VtK\n",
       "SIl0inxGcF772ae7z6/Yflx3ImgOzAb/JUpDD7J3RdcnP7XX7/ArGsNFE/+yHlbRbGGj/9VxYI/s\n",
       "2YkkVO7wKLNC2Zq7avdm6rBjllD5pCPP9ykWfiuUSy9zO1CVZjjS6UnM3BH6jMvcQrHx8JhprSW5\n",
       "oGDoS6UUIOgAhiXM2MIcHkNX+S0Xxiyy015+voArYwApNGrAZ+um6ZzqKb5Iv50fCpQIrz8uaDqI\n",
       "kEW4nJLYf616dG3kGGX8UcYO7+fbexqA+g57IP6ilgc4OD58JOR87DEFTSsdt4QTTjUMUoRcYjub\n",
       "DOejpN4Dcfj+HDR+qe7DRHpfrMKnm8PMnteO10mtUHJJsTpGEMKzKIdG8lH00cnSiN4Xn0p4LfvS\n",
       "lBpYHZKjh6Aw8KYHar6xNz0L2X9u277KRtXUDbxrOIt+0L6YUxOs9k2KHQr9/ZlHcSGYsJovob7u\n",
       "aNbllOfKkcFKyPnJ3s4FfDPRNuPaqPhWV1PEP+/V+vOfwQz8eIygS4yQzg/KoDbTBz27lJWV2R09\n",
       "lIRmaGAABvVxqjrCiDscOvMk7uQultdftSWt7jy8lXEN0KjH8GI9hrDt/Arzmpxyt1ciD3gH989Z\n",
       "MIGR0LoDqTKTX3c9Qkxega463lAFeYu3YUeWMLUCNgdc4NtQX42eor8DMFTvTYdasAjx2zWgiabU\n",
       "8uuv5M9unUvK5ENsBsCHSSn4dB6fi5zRo+hVFJV/iphlZ9KUgsCJTYBcRVO4aRqX1jhXXWLRIkvB\n",
       "LpRmFx7uqqJTsZoTf9NXL1mTAneOgsNEUAmp5SjTXVu1Z6FSf95L6kmjPmejA8PhHqajITR3cvr1\n",
       "KaQp7PN5+WxWtWnVAkmBy67itIIhuY7kz0WaJ0CImXbuVkcI1NQ7Kh1Xc1gn1US89fSxTm2WaRZT\n",
       "Gs5at0e49js6vvOSVwP+UKVgthAI6/E0x6nVyG6M+u22qQxSH4Jhsen25x4TXwCspp7OmfrqL8Od\n",
       "HVDXxbmkAGBN9TJhCZzNAVR4+erDjZRlsqNwYYvuvA4hkdSGJajg+QPTXg/lMFvu3yIo5l8SY8yO\n",
       "MjbdWy2VJNofwSaJI+JqRwVTarKF7VA/u6giZjUf5MdNLT/TsETb91gVpzrd+12KBJlb9cqUchaD\n",
       "Y3q/BT96HYkL8Btva9/b+1GOfXSrz+Ulr1EXYnMoXVo7rKcxfFtDiR1a4+Lodd5HSQL2KqPD6V18\n",
       "0aR5wmBiP9Up9rFpRS5ZoFfXLk/raa7KQnoVUGrdqwvhWIpmW0o4uw74nPYam7jXtqlSFewl6Jpw\n",
       "7tPRirFswbhOBm6Ih13dpT1mEmFxgk5r+/hUd5jpYgU6PYqBcXizQvQu/eiGTj2Ar/kqvNOnmxuY\n",
       "KhVAkl7nb5ZloaeNaajZItN2xuPpg+FVljWXmSlsEcZhGdGGVXi84tIXj167BDf8mPcb1NQ46U5V\n",
       "TmmYKBpVHX4hZaCgElTFZPQhbFJxVJooJD3cqI6rfBfDjLQGOEpIcJDlkvA+AJ+BAISE7oj18LrB\n",
       "zNhFoeDiyjzfSFDMNxTQddvs8bVjVh6kE3LPcZ9RBePydkxGNEe4wGoUygfO6+NVtYy6b0LkZAan\n",
       "4FDqssxozcUVBX19GchX/7g9IhCDW3KKsC8r7bjto1TTWmyU9lSYvO5UpA6YHk7ytKpoESk5r67R\n",
       "ggSbt2zFGwXyxfB2Y+saqyqPu8YG0QBiGdTxnJao3mT6G/gLZ651cb7qo3sDwI+XGEBmvFKkqZwA\n",
       "m6X+Q6UVqZ1wN/ziUMdS6PiNaEmo+ZWs+HloCQJC0vwJnYJzyUDSMHcmAePk/b+bXJpOefGdZFDw\n",
       "GEKADw/OctklTKaY6ExcD9LUUfqGytJ5vDZ78z0nvUksprc9w2wifp/ClXAhddz51zPFXpstGox7\n",
       "Eda2NGvB5YSXa7bpxmI3xAC22ctkDo0yYm4poXTy9AzcNEC7hiSj2Enx2khT7GgXfQpHvlBc2tou\n",
       "3hejcde1AAADjAGehWpCvwE3DJWhBdoATVi7O2gB6Uk71gD3mwookqBKuSKOWZ4fOOc2GVF6FycE\n",
       "EIxUT/B1nj4o7k5tfzDtGhImCr9IBRmalVOLyH7iIshI3qyACWPtSY5lQIvXL0KU/EXeAVUNSlCG\n",
       "thGVpr2y+y+jrrShbUVoZ/Ee5U4gn+seR3SayMjTzx462fRavPHT0QZNmgn3Q3k1A7yHQRLP6l9k\n",
       "F3KsmoFbsKkXAEPvJhl9wC0CNiYMXN/Dcg36MOizBgS+76pPCZ+Wb37rt0vysZVwO1yDdGboVcxh\n",
       "0UgeTbHU6sbxOf1O3zlq+NtAzzyPu+y5jkEAmHa4kEpVBMz3SCAk6BXdbw1Gipf0DmiesxrI6rLj\n",
       "VUB2gB0coXRVHaTMRi7xix5W050iSgps5N29vSEv65xqvsj3AiVr0mlk47M8SjYBwE9Ai68UDX2R\n",
       "4/ljF6eJ3BATdQpsBSSxcVIs6GRieUeMBNOuGCIoPJtZ9h2aSN1Hw7svT2+gLOYBsBMubCs4/DiC\n",
       "iwYMk2wx3iPcn/kLP3D0SAK+xX77nQpAtYAeEL43NliUCfOgu6PmVNDYiOWdhICtl82k0IpSBuE7\n",
       "bV/25qXBYul874G2vpUa+hrmOVqTZFOtpy3LObSxUKM3Q37Sb8JnO0z5yWEfCTu0wYnAiSiwXGsw\n",
       "6bpqd/Jzpd/aRXSKDBH06nj9K9wKCoWEQMlZ2hiq0heFrshZ/j/NmL3jbBZSjsa0pmxnc1EZV1OO\n",
       "fhz1Aut74/ECU6bAFOEMuxqNJBj0QXAsfF+jYazmDtzT4s4GxFc+5fLOutD9a/csPdY/UZVIKzFZ\n",
       "E0vogxm3pTiFVjuF3c5GP9eRcDsm6v0du18OQNKuhRIo0//CzALZLrALd9N8pY/MN0P3ZlYGTiKA\n",
       "Q0zgpVXGiyj4qAxrzXB3aVHzDBXSa0W9Ok7PHwOu0PE0LyGN6Vm2js62wDdr221ksPDeYM8U9+8P\n",
       "SM9HlbnW/56AaGlcWnUG4v3j2VnFPWSqQhMPJWrUhHNXN0BpzNmB7mUMiONq9+AUhg2xuRrGCI7b\n",
       "zZtCXgRxMFaKXRy89eHUHP6WDXuJH7B+mIWEI37GSDPkHIMEMeab5Slwo1PKFXEUi7eIMIf1sFo6\n",
       "CofzdKwE5xr9hPUoo4Cg64nlRWjruBShYjknpBoevofCgFUuM1qnB1WgmLP0yqT6Z1QWuEa5sySz\n",
       "42pYT16xAAAFhUGah0nhClJlMCG//qeEAY4otfiujUDKRzaAveCUSxjp9ePEpsNHvSSTHAALQ726\n",
       "q8puSFtL+djBc0WEUqUbFUV3SyU1T5o03+j3lyYVfrh7qDD6wXM4uckh3ObV7nkRXTqggTRbh+iV\n",
       "UjM1W2qzXlQHEPeO6CWmd7OcleayUkIClDHQCfdkF0mOYf+d0n7UYDZ1TZaDb+BBttH7W+JaiE64\n",
       "98OMEPz8ft/VSJb1znaSuKpPlRJlNqJ5Sgv12GcAvvY93tNpdb8kGcW4lD/K0aFKJqBibZTYBX93\n",
       "aC0fvx/dHaiHD4igYmDF/zA/fAgZSzDZOl5xMIN78xCD8PtNs8LODvGgfRCVktvfRSFquSSqX43g\n",
       "gJsMQu2gWuU4Mfzq4/oQhcs6/b4FCrzEJI6ulYETdh54toSBuaMyH4q2pgdMYQPsAwkwuYYygpye\n",
       "13CBSCvZxmh5EuHKHEJiZtez5Bwmbhl2cbcT6dU0FAgyzgyzUhwE0rEe96XmpKFFtjXkcky3keZl\n",
       "OX8Wiww8igvCSAB9rk+mMJSK2+zPSbs17Z/y0h9JXIxupvCOEQj4z0NHqTpFhHt3xA7Qd5To5J28\n",
       "EB1TLaZnJ1yawI16fodLQ+xlJgj9EnT8FUD2eYxUTjOtShrVYx+XB+wtoiLRz0/LaT1eP1BQVBhl\n",
       "yM9ujwoEYXYOKutMtKOjQBgK0SLEAYldXX2FtfiMSf+Wck9FPFTuH79WVwPIjQbEAlKN8/Ek6Zco\n",
       "yjq798zOH7liCoxDXBjlB7XZD/1d7YnIZblR55X8S+NOZ4xEdREw+T/19PHcHr+DASIg7iid+pXl\n",
       "c58K30Y7vW8o/la2/GQ8UtLnMDI4RuZpA1fz+3aYq77P6h68WI3PhGRf5BjLx7mlQXwF0XL0aQfB\n",
       "MmkW/XUJTKAy0aQPIF1lCmbu68TySxbkBBCiE5spAyi3X4v3or7FlfQS+BXBn06X9F8ayIIQh+9I\n",
       "u0VFcr6UbcLo10114REdtBE6eFgcAp52H6Rb0ORbhDQzVCIL2wBfb78RmDcPNL6XHp4jpIohPZVa\n",
       "QFVKymlFziUzf5pzc3BgcI+Pv6rn9F3ZorNUglFPwmWd/9PYPJcoTYQPfsUyGROx8//1jZHW8pew\n",
       "JALKcVUhZgXzGdWnXcXzk1OnCGHxOiXAvfZoWvflcm2Jc6jB+z707r0n6Bgh7ODah/SCqUX+Lw6F\n",
       "d0t2FWuxjQiPAHk1AggcuKJ4Jbc/7vSLwX8Jbc3dKLlW8IABUJ1PPn/RCXUbOMAvieBqG0x6Zsdc\n",
       "IBhBqBvGWrSWjbprIAFAXGr2qIBDO/8H6CEFu+pSSJH/jL398fRcw1ZqXODwVMnxYALJ1F58LnA8\n",
       "mlby9ROfbY/YHFD4lj0rzoq5oc4KmfNmeHgQeyRjTplYWoJw/u43g0dhCDo0iDuBS/lXbXjAl71l\n",
       "cg/y8D4+q9HGQEo9neBIMZ3Z/jDEeMH/fSorpsAjz5rNv9LWhJ/uZo/uYEyVtjC5n0KOxxfAVADv\n",
       "X6lPudnVcGS2Hjil9ZEwFgUlu1rVcnsele7FFCvM4eEyfu5ioo0M8oYOxzPCW9NRxLXjtUXJ0WMi\n",
       "ktEc0mFFFevVtIo3Zqmf18fYg5M5vvR77+EfAKJOPcKI0NI7VLmuh5l/3Zo+5RlZzFsP72bvXhWT\n",
       "/N7F2Tz7XSuQgXG0NjJqfAZMoUP5WBeP+iQ2pSdzjZSpgv0HwtYXk4Tb1QPdUi1Od08o6hmYInbP\n",
       "6uq7oC1A4pTpd6IdC1k/gInBUNsZSVf6wiQulO97oWxHYnCDdjxPbokqZkQHaci1eZe8BVmjyjNj\n",
       "n+gm8yBGoRl9eT7+8Jc9LmIoL6oopthbaRdDh1F0vkBGIivOvDgPmyDnXIeYdni7FBTjkdd7uQAA\n",
       "ChlBmqtJ4Q6JlMCG//6nhAHbmn/go1IAIgz8pBLBlxqIwuy3CS5oXxi75E2/KBBa86Cp8ktr73+v\n",
       "WEUy3SFLZq/jAloBjLQ8WEQ+f3+OX1vtbih3Enp/xHh7VwSspHnOcwuVI3QTxZrcA2WNwEmgLUqE\n",
       "imbhdQQBUHmN02rTdZ4MdiZX0jacGtqMEwNWbH5ZWptztG5hh3Pk9WcpCS/e5oS+lEciXk5MVYbN\n",
       "AH+m4hoXUVqoqmOjnS9SU+QWoUXeWy1cQPBc4+d2cGb/NphUqyq6b49Wnvil7L4LdDIMQJCyKdvb\n",
       "RhqZPOnOr6Y1QuUGwyGZJwE+zHB29mdr8QvDMfzEBPMJnXCS2JHf7/r/amNToAHwlQCp77sgBnZH\n",
       "C4+P7iuH4G92UZbHohqdprMEfaWDmq8GvBq/Gh6o4VmEiTwmRwroiMt44ezlgxsFjbTaq9Vh4rb9\n",
       "8z0dTVoSHLlL/NTof0h2pYlgjU1viXxl1k8YocwCtBEZdZSDp31Tpd6MJCEkrQdasaLcRVRNzIRw\n",
       "L5OqN/B3JL0KyZu0u8iM8Qpk1LAWsWOzfZPQKp53yA0cllMZ6jG/fObe4fMi1dY78ehDCc71HIz1\n",
       "G5Jod+91bpefDdFs4ipX729HMvVXAcGn6MLHu53+KCwqXl69P3bGeWOR+4MGyG0pCyLE3D+pCEpS\n",
       "SShw67so8MOo0kuS5qzVWZCkYHHuYDKOG0rLKHYbTyX3wTDZNtSv9vfaBtXT8vM5Rd6nffyViEBO\n",
       "rTHd3xQ+GEIEPb1OS5WxqAM6J/ihCrrnm8YuGchkSI6hzodn64dUqp3EjsqqJdbDMoo9e82prrLN\n",
       "ZuZQyU102qZ3F3t0YOTioBSxEte9vY0EkWKfNCi/JbCU80gr0cudUeFuGnf18rRvETq3DWNjSt9u\n",
       "IC0F0UN1iM0rbYmzMO4oy55/BWGFXUEgHo2BfI+EDMwhtVlx8F/XRx8Gy2BbaICax6aU9tVmS83h\n",
       "nuyt38Q5Eib0aieCfu85h0+Jg3IGG2jj3o4lQrcnnD3HYOeIavRpSTd/E0z+rB2TdAge4QeoPwV3\n",
       "MIs0hYKuo5xc4buI2/pj0whSS/c47kXYyO0kfdfnzbCoKEd12eK1UorqDi1w/r26v9ROmgwhO90U\n",
       "sFJLMPhpN6oV/blYGRONtn3oVmfgG6eA9Rm6nUkvX1jowuall3dzw0kwxDJ2VbJc8lAcv+FQxoWH\n",
       "de7wmmFkXTaMwaTYWO/QihFQ+HFv1NCae/nvf0P8lWo0jnGMjZDKhwx+okvOE4Xd67tAmfOkuMdB\n",
       "XKzo1aQsPd7Z6Z0PBpGwJMTK2bCxpEWIknZDYWWma+HhiZ0ijN26MzLGRgppuIa10qhcSCl+DOTf\n",
       "o85nU9j2mRs2wA6HU/hyrLjO+hHZfKyAYSTON1xIpFrSx1xEzj6IugsF1lYfEYywGb4AQU9PwSSC\n",
       "uq9ocKbOhuwATdM1J9ygvUy8lBU97NsPKSf7X00axGcZEd5euEAOoFHvLYrk7+4P46ap0WRu53YS\n",
       "3TIxQ/DEmm881//au9WjjIHq5YvMnwkrdRzSlzRhLE/jjOMHC7duuyOu/zPhIHezdOoT3jWTno+c\n",
       "icNwCfjwH9RwaaDBvveLT1SaQI0GnxbWWme509IkxW3xGGPOC7eWPzOh7AfwMxr9TpB8IHKdcRXq\n",
       "/orAiTwTzLcLeFTlXbn8exVXPC7rQzQvv9TSgzwPnvrNtGFJJSSycGrgVjyoNpJLdj4tjBgIwl5j\n",
       "C7d2UxewwXL3zfY2GmC1N4/zxPBHjKgw9qkUENtoDdik0h4VZexyXb/aMLekqV5iVgVT8jdXQV1E\n",
       "Sh5KT37ZwWbs3Pdyb8Az1XAWDWOadiHe42/5Bt2kYIJymfPY8lGc+HNDyM5yN++9i+MgCjcrS1yr\n",
       "YPloMndLMfHYBeS9y2lV1irIDwfLNZu1M0xO6f+QgkFC4l2HM62UkySLPh8sYRUrnNTLCMwBCrrz\n",
       "Am+DtIdsOaVYqBIp2rFlYx9BbA6iIdl0TNL99D04o2J0GyKaiPkljkfvE0rwDi1paI1OzqL/XIWz\n",
       "ZtEejU0ocw4lTGkjYdZyLIluUQZk5guaKJ/obroaPqCZE9YZ7lqYGOqrQwu0lHgEcZuf3c/lRM7E\n",
       "sm/B5o4RA7kJA8bgQ6WP3fnx3+qGoqH6EgonF3LNGf7jOEh0PnBVKB29+1+epPWd9x8TXQ4PbFPv\n",
       "Ud4mUV+4AdqhEhrmcy7xHxat2MBgx2PVjsb/uLcOx1ZTXFVp9f2C7noP+OE6lwykhkI48EMsr9Vv\n",
       "1drJcE1W9m237mdDBej/ZkqG9DmGIlgNdhWk0wTRti2poJf3M2l7/j9986MhN4fuAymg1+yej2Tz\n",
       "MIRd/vgRvn3jTvr5c3FZuevWC9qjT/tVtcKGtZMPnNVaDPXG0E6QQX600fjQ4CuDKgnoD2C73+zM\n",
       "7A0wn88YO9xft40waNbOl8k1lr63+gNO99ZVdrDh9k+78OdP5JqjSLfGBAvRAJZFnPYDRD84c011\n",
       "sdGrBjT2LlPAILOnTJaH9UniOhFS09JacWqF8rqADQ82WDYMOt8ThKDBIqZWdKnRko3RZRktWUwl\n",
       "cXldPCXnCH+hkUmJt6oLmCfEi/7XY2F2DlGWZBIUD9fK2Qz7Q0YpJPQHoQFuNxAf7l8MGmm4deDV\n",
       "0FqzJ68c3mzADbStE85V/5BRP0QL2sitiIGbIPxgvAnlWaNK+ebKL6Omxx8LMuyUKUWa+gB+KFdo\n",
       "zm873iIJhk5aNliSo2+u8XSbisD6GfqETXzdVMrCoYZEC0UrIFOTgmZrr/yL6RodMh8g5E6FMedm\n",
       "XePxY+npX/zMylwW2gJKuVcpxrHlZVIFxIyfYltRcBgVWjhuDc3VcAKOlYksG8uBZPyuvgJqyc53\n",
       "vGUwl2sqbxOI3wc+zYw2jCbaFQ6Sr2jmgnZ385rYSWi4u4Hjv23As9f1q89RlgaLx+U5hf8CKRcM\n",
       "F89fSnQWvwxSvg7qHA/EuosrIjpEOFvm25Sz7crlV3WZ4qe8OeDehVh1Kcgryg+4WhX96LTvaJuW\n",
       "m5ou7FTJoVuuy4vddqlIZfe0u8XU2NxyMi5XhV6X2NL9g5G1JJfbS6Jg6Wpp+iTy+ZuhG1Tc1O8d\n",
       "VycAwxilFd7WG+Kd8iLl3FyD8cu/x7W9CRJgu6EriONi1XezBwQITw1d16lmVnWSYJnIF4ik3gor\n",
       "tOcm7J8lFyCABghGD84PYBMOPpDKqGbPqbbJj91+S7Qnn3gksvm4vM08r1We1dzeqjbkNBI/0jRP\n",
       "WSbvUX4tiGa6/AeP/SPMzIJRFn4kQjLHZsNSOeZAQt8DCeAYTUYAh6PrPnzYf7EqG80X53/E9KP6\n",
       "UcpcyhdKvgVcJb+fZ27f24BfaqwW1C26H1tKKXIxrtpdInP8wdI+i4UltoYmsJnbp1OXwaknMuey\n",
       "X62flpuD8mzLR+ZOYUfAe1AIO6U6YAAABQZBnslFETwv/wD4JfEYhfwqS6sO8xYKA1a1zEGkAHkB\n",
       "v4he5q2D2XMu4V88Et/QUXnyTk9qKn7P/klkQQWy6lvx8sy6IOAC6B2H4JOL38tg6h+HF+pqntkK\n",
       "GaERKegqAv+lzCsNExeVd53AUVLJIAq210+nwc/TKYpKADA18RzdZcKEcNpm4eVBO6nQ0I4jprbR\n",
       "LdYXfOubpWh0wvQEStRWucLtAHwu4vwTvldtVU/hs+hzCpG0oZhcsCiHCe7TJmDCB3Yfmi28Xcgm\n",
       "vpizw8pKUMt6ERGvyEGeuTPkJklQLBiCNTY+PoDJdtMn/J+I1w5ys+Ryz3SHWAmglaPZlZTQ727I\n",
       "8iZdCEQYn1eccURzlgnf14ccQz4PfMa33UwBplo9BKNEK6rTxzQvm53jukrF7KSNIE5GbWU27ixR\n",
       "dvpBcOew/J4174FIrkNpUjQ4O8eyYlISikfeQJVpC25HHolSB/QBtYttnaMaMDltADJq5DiURnY6\n",
       "ABTN2VuatoG2raq/bun+MRsqiCwG+itfcgxE73ZMomUH9FAxm3rroKV5weZFgp79rXL/EbOygc40\n",
       "mHtVWd3WDIU8yOf8GuSrJaJgKFFNmO4xUwqUnJ6zkuDRMdIUOhBVw5+uZ7iYR7htSotc8/MoDiWt\n",
       "ozI7Z4gLpzciErSn9ndG0I7jYrUdvARYCnYd6hXHyKhEaG4I2EeLilaMzUnlGPX+BEussettH8nD\n",
       "V0SLTwJKx4hdlEXQN0dWHLPXMaG1DzVGmiUU5EqC2wvPi+7N13Xzw3CRsURmQ0RTw+iH+f05T7BJ\n",
       "GPQvMdOvT9zX3qjBst+b4eLGGk6LiPu7gfD8YBrCDqwtMNJzdwaLPddxTV1NQPZ5v3VbEt4xwKcV\n",
       "mLr0XiC2OigfA/ZbjrzlkHVazCO9y4P5u8ozoAxHT20fOe86OQhi98/Pq3iPEwHnYq3aeedz7v31\n",
       "ys35lLjTvdH8t9vRT6Zas7RAbCZIFLZptB79p84aaMREqXLosHxg4r6+cOh2nGq4OEHwJ5t4AEs4\n",
       "SJlkIj+1BabeMKcJVHVAxo/0K/g5rN6Fwa0TGjvSgD/sD93TbaL+S2E0DyWRw5/1UQTS4h33Z3fn\n",
       "THNjUR4IioqZAeDfnuzhOzbI/wQLex2syfTxzCbokSZtIAZOX36ZXhTAruJihBTT/f73YfbG0ilu\n",
       "sLHD2K24P6FwofLvnzc1HE4J5npMkJPmwSNrkVYjY/9j/4KWQ6pczJiYiVXHPG4cka/Q/pa4KV4H\n",
       "G166gPJPuiaZfanwZINu6P1T+6uLcbHJrCnWhSuGVUOdqTxHUg12REQsP4L1bFJwk3mXDguGL16B\n",
       "QR2PrvBjfFoWCIL2fbtX1vWz753Q7ULeuC020+0SwjxKEgxiakn3Fs3wPQJKzK/WoqL7A9pmnTqc\n",
       "15zfORA/tJBWyO1bOQj+OW+dhB1UqoSeIsVoMxvS6p8NeWSkra4IYSCnfajK169jA9Pit7a8BCHY\n",
       "bID/OqLso0syXiLIVv83w3te53Hve2Ata1RZUids8LCA0cx3AERQwkcMPk3YhfeY6NNi9i7i4C3x\n",
       "Swn+TW7Wlddd6ZKt9S76nsXObj4+K4IJBj6aXJIbrKYj6RIMwlnkdl4ECz5lBJ+15b45UqjI/MJy\n",
       "6L5XUFWfjVxEtyimRFeG8MsV+UzcMmY7FrYYeL/G9Mg0aPj47E/WBl74aj9sO1PBltU/uO1zWGc3\n",
       "oAAAAzEBnuh0Qr8BLnNihRlpcJw51tqoAb8yCGrYNxzg7GPLPX22N1vnKdUk3b+KYwdQcGeHUm/U\n",
       "eyJ7xnU2QepWYiGx+6ru0EnELr7y8FY/w8S8qvcN4UqKAIebYNcfTlLw2zMCJe1G1wPtxnsubH9B\n",
       "oG0MtImNaKQSfyjmU3H1pdpE1B+geWDqTuxZfr27HUxyZJ5ae2rG2nk1Pto4PoX+CIqjcTjJUTBf\n",
       "1kWr59lWHOEX1LZD92n+znbSkL6W0bG4R40hBgDzWuQuGEieI5WiG3fDIua8ORoClxuy0K3gaqdi\n",
       "PigNV5kzwKb4q8eDa081AbR0uKZwDHWMn6u/RigLIYS6jEAdfRJAHijXHMH3SP8m0uw1kixMOADk\n",
       "e3UQp1qxd2ydi0w7pc5FpyW00Q9NBBaaeD6aoZB1HEhdnJ6iTWKIL4LRQkvsSYr+M+19wlMLPRCC\n",
       "IVlU4Dv6XfJyVNsdKqtNDDhDAq52BIuGAOxecuPPuBSMuDHHhh2u77xPk12+TEMpfwT0nSgyc4Z6\n",
       "JIEPNrQXM22MxCbZtBBBxoiqJeTySs7sk3OynKWkEOPFLoin/GgIyH4Zn1/KizQrspp/u2vTcbiu\n",
       "1+vLAAWRf4J219cOX1sTC00UJdhW5Zsqh9DPHVw/SdqErb3Dz10uePm2Jnw8dC0zl7MbS0klg4Io\n",
       "I+cEAaO/kxJJN4D0L9PsXoOH3PhZkXe7J0QGXdIPjrDgYdCME9DurTK9tizy1ab0aHijeKXY75Ep\n",
       "SelY+tW7+2e1Z6eJG1Jhe9YxkmbqJH4be4AKWd7J5lD6f0Vv1ielyL5FXGu8nSiw5oOEZdyrB+1c\n",
       "+D9UDsEVA9YFx29/vdaG9j2Omgkl+dwwbv6q+nunLUffQQ7v5jWVoXOETSQAwymqedjLz2HrxfxR\n",
       "2k7MzhkxyhQoDAlz/Bkqdjya9GeFeumEO09V/F4V134Hpprai4UcCwavzzf563T+msAdQnuDfMmt\n",
       "vqr2HgdEV+d/nm2tHYA+zLC3VKBSjCl555gAGn0Lh7gkQC+X93rtGite6ubL2TGY3l7RZ1TfyPWE\n",
       "9mhSu+l7dBB2dKjlX3uCwPFGKiov7t1lAAADPQGe6mpCvwFar3MznQwXtDCwrov0DRTzwzCiNljA\n",
       "Aqk1/ouvzAVo9PAUEgJ/UjIkS9CfMHBLsMC9qs3+OVRAaXBimn8t05+1W7FXT+WvdFNJsDJLWU55\n",
       "n0TANch3QeP4GWEw7O852z9BkRVbBUyEedfHA9ppd2xM/t58+yzizQF18FbBVTubPjGMWN3gS4Ez\n",
       "hLvQJz4j/XcEhA0udaAFFRZK7kBGj6wVRzktgTw5EqmPNOZTauk1BQQFdteF5qRUde0zBFKGByR5\n",
       "RKB4Ad0kGK8weAiw9pjii13/xazsPYhW96KlZ/fHQyF6m8qP37qVruQl0XrOUJchOW8A3OWNV2TI\n",
       "Jc9a+hYwBkzx/tYiEzu9yH0tiXV50JQkwun2YrHv1vZGbYFC82XaPnWtEyJrPb8gZ+wAKgNvKPjf\n",
       "vAjUt8DhS/L7nJk7BHC0ZNrP/l1rwSawsp1aGsTfbeUGSJRyC5lDA069FOnVBztdbq7TcaG4YTZ6\n",
       "L1HFRPemvMVc/8y46Hwh7zUbwPZKhtsayYBUBTanofKbZPwF0MJUBPxQEGOVNusmdboyfZDLr0ci\n",
       "7WdDloEKjNF28s8ka9vnKklNLc6xtYFtV2oEhTKsw7pB3UPne3ozaoVxRL0vbcyPab+stX4S7IcC\n",
       "E4T6QKbSHmmt/mKu73HAsLeok0vwBivmfdWWX/B+CLzVD44FruZ5FQSOjvkXq5rl3DABi7ZD7SXv\n",
       "rpsXaZH4d7XtBSlIG1a4u7UW+EWDozKj7uBTqQEWfyxWl6tCq7/nTLCkp48OeSk0veVXZdWCoeDk\n",
       "hizgbz7DJz027A6FdUoIKmend4tOa/zJ7Atmj1Iz3Tzh5mPOa6+gHpfcBf3HqaZT6j3BqT5Y5om1\n",
       "c727HtglPSPrU9n9bJwj2T/cUmFvtfnY/36zG6y7oWDVKspzXr6gvZUi6UQBxh+A9V+mZznmDtli\n",
       "8i61ehaThAHsALIYUEl02kQslon9vNsYMr8MoIgEHOBllzngddJFxFvMMSibY/KdXj4sT3SWnEe+\n",
       "wNacfTK/u6dp5J/oQ3xKnL1ulU+6/+KPnHTE2+QE57KhzdAP/KkNxByCDCDJsrJWBf/7RqFU8kYq\n",
       "NYQAAAX8QZrtSahBaJlMFPDf/qeEAeswbgwPIGGowvAkvzTCn5vIKamlVqtHcrheqSgzhbpl4n6K\n",
       "ziRFKPugAQaR1KjcL4OD7GKXImUgc4IyhhUaz45xFSTrWTezb/TZ9CGEcv8mbg9rs+6mNb2OnWvw\n",
       "sp4wWAPsO4Z3UuP7GGkKInemXSf6WH+PbnjA4UKxP+lvkTBrk5MEjNL1YCtlXEWsQReBnu1Im6b4\n",
       "1//6HtACM440L91Q/v4h4mvmzOCGuSLBeh7W+I+dpQ6QVKguL0MmF72joh2FLmvTURQfuB9ZdNMV\n",
       "JYkEStiyaHUFS1uO9ES6jyK4yRCf53aQnSJg4CiuJe0lIhcI63uiDsYD/g/8ytyGZ70ijtcR2ZP7\n",
       "EqshR+7BOb236i9nMfbbJYQOj7EHbZ4uZefSVMuIbeIZTHjib4kFdd3G2min6kl3QQ/FQdKH46A1\n",
       "8qAr5VtYj1OfJU60JF55M4iT4bTIG9JRuXzE+7JfoMuakFsW0VZciqhH5j1p5RnIsKqph0AICjD6\n",
       "khmV5FQPqi3o0sZPTcUPMNH4xmcypDGo7P5JsJ0l4wyx9XtHsT7PSkEsP9u+JtvQ2PZ8PvtdMEe9\n",
       "KdXBQuIhr8T+k3CSl+lUFCsgNJ1CxSPkkG9RU2Vx8T86SaXA6zEfe0UeIaWi3T0LrE6M2lW0xwRE\n",
       "YHDlCKVFuS136VxLda25bRnJaqZzuHSH5LrH0slOWKK8qWGzekeZ1cFduNgllF9XeG9llMP5NDIp\n",
       "NiOnhAhPbjcJ+dQNt3P/rfTAyYl+1InA5zwJjGAtn7XS7x4uKoTKd3/aZbXILlDLZZb8AOetabiG\n",
       "eD++8x+bCrVEEd/beARAqKmQLyyrP/qzaM+zFuRWSHHinWve77cYejxcYkJy4wUBA7an2ZwybvsI\n",
       "+/g24G6KleUcCq+nioXHFm1Nfv/K7ranYHvxrlwWz51L3mK3UXvDgfr/7b0gpwTHYOlZShehVTZJ\n",
       "tOv8qLaoy8oJq2i4cga16qGgB8Npq9cV2MwFyT5FTjce4BkqbpuB3kwj5KDDPWVqjmDfzHXoVwD5\n",
       "Lt4hgcWAqlhTqULBEWYehj0OMJGJypYvvSO3rigyhnGeW4Q2iV8D4Lyk+CbC4CbgKbBeaXYFoSsX\n",
       "q9wikrfMPgs41/rmbMx8X/foHcFk52uLNh6Vw5fahvS+p3JmF0H/Yla+BfSyhhQvKBtSpHesR+h+\n",
       "qfIQy/iQYnpmAFSzH/MtWT4glhwlXANu0Q2LV1MjM/NiM+20yiclR5meKxzJoJtu0DvX6L2V6xCt\n",
       "rvi/wkff6+dQeIXHhq5ofALjotKQ2/hPw6HWLCicu4BVsFoy2KJhJyXHFrnGdzIhjoNhF3WGwF7o\n",
       "AucAC09iuYmfSY3DYyDKMBM+16BzTs17v/3IXvSMlV+vnr3KTcs3H0cofcH+6v6+S0GKraBLQwYg\n",
       "/M/MWBJTeTFYeqLirVK6/oaykritQqa6vyme616VkLZIi6mhu6g/nusXEznxCxpPNSkqU6jVU+Os\n",
       "jCFR+ZZr5ONJCeVnMI9jypE3R55vR1mj+Li2WrHGpUAFkfOcMnlh/G8Of8IJtY5EgQVjppRiBkis\n",
       "02vz3gwqNCEbZrk8W3I0+qQs83PUl3s9bNmw7u3NX+QjvHWI3cyphaSSAzrUM0Wk9uCTRY2kQR41\n",
       "oSUWTKy9L/YRBLxPFwUpRQ6xNRYf0e+DAIKhpvJb7IuZqEYA/uK1w5Qgnbd8qH32eQImymzzSEx1\n",
       "3LN17aOkGTnLLRi5nVLtc/CFp9auYDOD/JGVGiQI0xG9khNtjN9Q40Lohe4h2S+AwzWhT8NUHpo8\n",
       "CNTlNdszVe5XHtNJuvCMumNTj1pe+kNIJiwFFO3QSz4NSJlzFC60wlaZPvyxkmtZsgCUre+N9Fgi\n",
       "5zgYMfTYIcnmqhOi4o/+Sd1qRMu+IImt8APl5axp9zDAjgktcwXmIh8DDdHFt0XRC07FUmgPH5No\n",
       "aLszfNuteNIZPAqrbPbhi7CvFsv7149IXxN6KAWo0AFjqg3Vk5Z/73JoI8qjb4b4/J7qbCdBFrAA\n",
       "AALBAZ8MakK/Aykj+LGIu6oXHI13uG3tUuGhw/hAAgsLHhhDEe3Qkz5s383xACw1b6ty/PYI/og8\n",
       "FClohHtYJoZX+FzWK8vxZ27IDC1EU++NXFh0gn/paQfaGLulOytJ11aPv/NdSaRd+nPwa6/ij9/E\n",
       "IZsrIDC/7mtYEKHkABcdTusU0TlXQQ4D2SN9ytfej98UALmXScK0WhZZGKcPs0Sh+TSZ+kDOCM+E\n",
       "POAyLs1S7gEWYck8gFQ9M7ICFD/oWLuix1BbP82ILXFEcC7Um9Qocq5e+cVCmfME71qoorMJoqo4\n",
       "lhGTcHjKZD7nP/aa5qL03HP0Af9XL1bSIaOLNo4KAdC09GIMNT4GO9jQXNUi3uA0z3dfNsgtYDLP\n",
       "X9f3Uy5UJmAEyuR3GMucgfeYiYgd9wv/MRqTUj3d2ZmXvgnGRGIvPLvcdkUUXy2dqPRmmOMrm109\n",
       "sxTS5JZKTP7QNFHnFFn059lvT50JAYytcXQ6w9aLLIPBvktghX9uBDl5RZyD6/56jK0XY27l4y5p\n",
       "+0eSk2hYTZBTWzIRndE4++0MixkalT9qnaBSOypwAXyUixGytYrMNplVj5Y1Drmb9g9RQ4OXzChO\n",
       "f/eCaTDwcuxE3CqQH53WF5qrVhYzfagoUA0UAKDmhiVIB3Ha5Vqt3+wuUr4D7TNiI9AM/krepKwM\n",
       "jEnYc8OYcrRHq6LVqRKGcd3wNUIxLtPfvQqRlxe+56ATsXaTCxHRm6cp4kDADYSFuAKFR7MKjUGD\n",
       "wlfxxaVhqn9tPfxwytwAFQe+7/kW/+bWwFmCjgVHEII4oraB9ONV/Xuap+ttZaD5ME+iWESCPYl1\n",
       "nTRGzVSxtpPXcIDji2TKe3LKgjppJaxgTkWEFKC2tBtPIFQNriGDOY9hSYOeXVj4e+PucQ64gjMQ\n",
       "WYFJ2or619UJBfiM862P/qXWBo8lid3pAAAIlkGbD0nhClJlMFLDf/6nhBnbKhQmhXxru3EmwOmU\n",
       "wtqAgwUJWi0zIZZAESC+3HUO+5hANEKMxdH8rvkfSWxsYOyiOcHpa9p5k5N1hjSNrfFAiv+gMg09\n",
       "1cF4v/LCLRmlpi9u1/p1quKmkC3IyZexcp/VNYtiLUza5czNF0u8Qn8v4wjfyinjFQ3+Bcq9S0Wn\n",
       "cezHVxCSnxjTrAAWFwYn/DKNUernCSSOlzFJCGnjBeRxbva1HhHKeqeQgSzrg32Tt6glGshqzK5m\n",
       "qDqJgFyTte9Syow7hBy+CBbPn9GBWT3UEVoCm3eEEuvyz6CwPNI2nrQH48yTu9CCr/WcHlR6vXhz\n",
       "N316znlo9rcs9x8VFHIF0InmUzqv4+b6Tifa21davXOA8htRfkVAqZzdYSsyJAgdb0XXPAmg/Z4g\n",
       "6Lsu2RdwIHMxFBtOZNVOF6bYH0r7CHF59IKQZ3chF63erQrSK69WFan4gFTxNP7cRPxLvTwvcoL/\n",
       "S5LEOXWC3KNs+OIY1iQWlJVF3BY+HMN6UVhLdhh4XFOg1vRhg4Ndx/PFnxZ3RByqVr6Igb+auB7z\n",
       "OzG+Z8MevEv92TlrYySJ3NFxL70m3OhbDsdMjEl+SCB0f7I/hbyizpWMjHuQhqd4cJen05HQqOYc\n",
       "E7CdgJ3WohYvPYM8THlPhr5nEhsxRTSFWTQPvmJxD3h6zlbYDdB1/rQQHok5HEqIIveUSvcKaJrl\n",
       "9RwsADixj5ff7+V2TUysevK4IhZfH9rExGzagPqed5dU01RyYeSo06drg1WIyqo8B8lKzi/B3Uib\n",
       "xfjUc9MY4Er2qmDhgP4KEnhmrWiF/O6WfMtZxwFcDtSX8jvf4+j6/UGP0XELu3amkgtbH054QcQx\n",
       "DO/2f0FScj8aLnZLLkeda6a9pOUm657joAKcL80m4sVcejCDj30EQ2OatdRiH1XU2iy9UvOJyVzG\n",
       "tfhETu9AOcsNkDpti0eEUqNCJBUduc3eE8LGG0Wk/4OSP6m4S7mkowyEAMf/El/sLO4b1zng58b9\n",
       "f2dFed1TDEoG0NShuXthLp3BR8Xl1LzxSxi9oUj6VLwYmuVPUEneu+L8xmjAXklk8vjz2nTFs7O1\n",
       "UQJK6g1tvF2pWF4yCVcBRMO5zHedZLtAIrUztY0IMoSPO3qsKQsbX4Us+zvxUD2utAsvIQge7oMO\n",
       "Y+ARWpoFv1G7fhqFQfoD5TlHY/zAzgKbCZkGqR6H9E5XE0JnOsVHui8pGEIhICeltpGvIWXgp+Gj\n",
       "6LaE5rjMZA/+QADZrtDEDEnYpLiySBpydgOTgirRxAwXU0nDkdiRN9QwnuOMpAzgavNdDLfNhhGs\n",
       "wWuR9lMlc1KqrzCpP96AiOyhKH2WgsZVz9DuOdToR6lDng0XDmdELnn+evmJM4wRqV++FIXGcdHC\n",
       "gJJe6+EhwW4drkoHH3ZvBpyRQ/nwe2jw+JmTqRZ88H/6bEFV5Trwd8MrnJCnJ5T3x1/2puP6N6JH\n",
       "Sr7D1K9OLWL/056nm6/rdL9faEMhhxpGzdf2R1Ia10/XvgvkhbwSOrD5Ot48FL19JTmY8M5W8cqA\n",
       "OU+CiCsO8cAt3/ZGhGI+Zzv0riZ7pGKFr87ZBlruLdbwcm+lWPYvxCkAJQw55jjXOIZn2BlT9/yF\n",
       "LN7Z/VD/TjCfEjv7tsSyk6/BVROFZHVpJ+pjp7TvSUGV/vTsH+BEFEKRA1hbFbct4WJ7ZXi0nUn1\n",
       "vfV6AkOxnGyQWTakwAoDzwBy0RFi2zlVCgZ/g3Cctkly6sR7MUE/Jm2z8X9FFXrFQkG9IA9X2qa0\n",
       "iLZnsR/aeyATnApsF094b3tN6TpqQH8AYDZeH0Ew+UvVgQssIrhiBWdFhFmr2cXdU6xlTIqVTSLo\n",
       "Ktf9sWjEqpMV7kb0QQnYXS2Zpylon75OHRAKzfUunCKxE435CdhJTcbikB0vLA63RUBmscpKPZh5\n",
       "kHeJCyRfF7564Ueg54X6FphyEjqxoRZamdOz/lInX8PByS0PLKwuyufFu9Ex+AlfslKI2C/D2jg5\n",
       "RtQZzi+q4Ky0x+Yk6BeX7SAO87Q67p983JFBbR1/1lf88HGtU2yswID/hF/Ua84DKvWAFm2QA9j5\n",
       "Sev4+fn9+1/hKIb7kqu5udxHvrjzlsEfIsunTdznr/Qh7UxRl3pDjZjME6CeVIgSsst/uk+trD1I\n",
       "6AFzGm9kgGT6V3k0AxdUMZLJFvItsTqACJIEeAHA3lQuREpu7pPytNhcehGOLid/SuLe09wKgN0D\n",
       "VCX4AeUDFqJL2oAawMBDWV35Ew5OTytIbVlFkDLURJfIwqLe/bHaaCuyQdNaUTU5ajhhtFRfh1ms\n",
       "DPLKoUB6DQzRBK0iheZV1V+XCVdcpYAsyw8sz73gEky8BlRxv8ir0w7J0tbfiLEkXX/rzqv8M1NY\n",
       "sUp51+++weOGK+lA9SvgkeE2QY1KBcynNVffo+gdDL/GuiZU91Fei2YbXt3pHaHy4CYk3CIlkmFo\n",
       "yh17wsFdl46CcW5cxGKrI6KU+0Tn4P9G8MeaPRKRnnv6WFkAT9EqPrZ2hDR89UYidCzG5mxL1EFU\n",
       "IyP80Qez81f6gJWFvy/YH4+2yxJ8nozeoeb6n2qdpVXhjyjE2m4G6ffQuazd+4I/N/n/ZEr+65DH\n",
       "qZx7dyZ04J4lBwhqMKKMMXI8McJyhhXLYvE95qM/vmAlvET2askinZ3ssu6vnXyYYm3M8wrkaNFv\n",
       "TEXeL7Av10UPQurVMk2pgbTF05+2a02cI6GC5u+p70SAyg+4T3avxl4mizqrUTh1Tmy+YC7/0fxW\n",
       "m/3Q/i6OPUGJTu4fp45//7kAPk07SOl27HFQ3Ub0bbYwQpHqMHWTWbqy6lid9eOgDYCzC8+Nx6mW\n",
       "Mn9TfkAXjeOz+oEnnBoKNtzTXGKEoqKLrJUb5PPaMK4V8+nu6wldXTxqPidVEbBM59bjEY68ViwN\n",
       "GJeBAAADJAGfLmpCvwM93RX9I43cQeaLNchNb4/BkOOABxs6tdw6kjH6YurnOd2qAv+2QkXl70wi\n",
       "GWHM8oGhTd7Q3fwZNLGgVe4mPltKN47saKS/DB9//fVE4LhM1uiOQCvvLahLNXd1M8R2Y//Gapt3\n",
       "9pOzIHbTDXSfYgvO4JoQSETnBmf2UVUdATUIupFrO8n8dPJbFkkZaxuc8ZYq0iAA9RNDRKygadRH\n",
       "M85KoQ9vBEVVbpN+KhLbaTLB0IkQwsi2QOKjZgERTQmK79CYy51JJb91Z2iMoLgHyL5lPHuWqYFw\n",
       "WkMF8QURJ8/4ky0s6QDvqnXmDjqLOjAPfyQd+++exSZsQMcaqIL+u6EjW27jxYlnC2R30u3bHJC8\n",
       "mCZte4lS6GSJcIvuz4V367f/FhxBDf5luJICfjrYbJ8+pQLshJIP/JYYLDIYNmv5fzlV8Qk+ngIX\n",
       "0d72CMLylTu2qbLOhlw1QhIlh8iJYa4Zy40NrOkDbGpUThqfx9icXwtVKUg3WjAELD2T79Th+NuE\n",
       "8Fb1aT3JV9PKtc033PyA4HfBBayYW6C8dp5nDBaGi+8Jh1VAXbRkqI63f+p8eVoRDhD9RWKYm5F2\n",
       "J9i6gSKGV6AQDu6oO7lpB98mJ1oCNDNrZrlnG982rUoe5z34wv8ddRZNpHrdFWoioek6rj2QjD1n\n",
       "qxdq9twQnMfIDNOEP49Sv5vfaDVa/Scg9UpPb2LPk2iPZL5Wj78LXIdXsIFwqKmR4FSF5YS1xUIf\n",
       "BZQkEGGSDZAqOV9sa2XdmYB2GgV48X+hphzprIb5a1LVFAAAAwMLVlSSpPekdrq2SM5+ctBXxKFP\n",
       "ci4BvpfMaHzcsY0s/thovdCyuZED1XpJ681ajdeX7zXg2i6pPra5LuDqyZmqjBuWt/mFGK8at9U5\n",
       "McdK2etFTLRCoqgUl+knbMV/iKq+nMavM8KA7PcYOPt8jVIDELFfRQyN+uoZNxwhRhW+s6TlHHYb\n",
       "7P7BIVrhL5kamNUC6E6RX/HCw+mRGbjGHuLSAHnJ/o1KK/PNNFa+E5GVJ2FcJRtOlrqLsGoBUMl7\n",
       "8nTDWEKJB5bwhthEaQAACJFBmzJJ4Q6JlMCGf/6eEAXS2/+wiVIAAnWaVuNxJAp0mow5s0h9G5Lv\n",
       "08KT39QGZkSyOrDMVgMT++4Ghazkx7/gi2p3H92lUB7HL5DzEXTEEMGPQggfbpXxl4j9XE6D0pUH\n",
       "b42W0asIxHtxRW06HBtxLekQUoEoJOuZaYgpOQ7EwGvtMAi9xQ7tMCQmNbpdFUGr4GgFbCKnq9p9\n",
       "8E6pReyZ5e4sOxHIhhvzghDnBQOVOrE2vzJ0aqjLCAbG6P6ov8YHP+4NqnUuVlaqNmZImrcJuVXr\n",
       "dos+Simfqm9NB8DjtLUzY4v8F53rhDLkN6PyqramUpJZi1zNda+Q5X7nEZVPVB7o0xLfvYr+ky4V\n",
       "oMJGcu2AB050jQE5viWkt+GyxkPIUjy2utC2nlNaxmoe3klJhQ3PIA3gqp85oddkUd/4Axo0G0Ut\n",
       "a6rAex7quOsHQ0nlZ8ABM+DM9Ga2iow9iHpkW48CVCv9WSU6VMsfyItTOBMRc8Ln/zxA/iaIJ19G\n",
       "g7oKNWOC8k4OxG40sP48hR3Uj28yvTp8P6O2vickTtZGL9elIXpB3Df9wmQH1DZFLoL2oYxJBJgX\n",
       "2BudfXabfIBJ1hDRagrDIAS+DjFWuZhtt57idiKs8KHXBfJrNzk3fRVzYvhw4JGXxaO6SiityBB5\n",
       "vYrqH9k5zr2ro3DO1q02DWCqyzDjSpKg4pVqdoYqlx/qNjHI3Y9EMLv4gnhH0LNKhTkWZB6BhZDY\n",
       "/3lizRVNiCQ0HYDI1J9kIdqivdxNr6KRWwcHdj0AVXk5UiP1T6kBaMMShFkGZLDtou8yZ0xBfZ6O\n",
       "oPJsWPjlgZL254Eid28ej33Zgq38gPzJsZ7CIf4FEB3g0e0yBMEqAEY8hxEKyrFMPeQQ/+RBG8fW\n",
       "vl+8qHx/gpH4BdVrAgVaCIujkjkjJBFpzUVp+yNHEcsdm5iVEH1yAWGNcM8XtjoAV6d6ycNzte2I\n",
       "l12rIjbMD7lVU56YY1g/MyHZfxYuIcxxlp4Et9HkBv3PFVXUryPOfBLo5fnycGTyMsnrbwZ0ySQp\n",
       "hxikHysEi7U1FnJ3ht8g44PT1vsd7pnIYVWEMRiTsbq7Zq3jL7qLhbgUvmPrFPMlRWD0Q06ppWxV\n",
       "B63+NY1/rELtMfNjupLUgRjF/H5x5svNPmMIWEBrgcD+bE+s4M4I0rkSHlO/doK/GHSZScX3bzYo\n",
       "BKsl4rxLZa6iP5s7sOv0ofrwrlRsf1ODuwlSAPUAu1iibLNeUFjpGWUqi3Iw9rTfIib4Un+y3+64\n",
       "jFuQPdYi/nPrZbQeFw5K6UpVZpBPROdzAwItQxV3jy2pW+U95a1qrLbNWttnzoK5MN1UBXAj5dXd\n",
       "4LhBt2jxbcIILf6KnF+efD6JlHwvk048jgcCaD2Funa5Gmpu28suh4Wzql4KG6zOcZqSmcweDr50\n",
       "9xcHSqWxDlWq9n8T60/U2OVb5d2kXOR6kMAd0sLNPEE643fgk6BmckdT7vkAZZQKVg9asLO17z1I\n",
       "xFvqHlx/YeNjk9wkGNwIWj/Vi9HzwC/5bFNakKX9+BiVD6954oiHGUw+FBUw3jV0jiCXNIFffixe\n",
       "C7KzpJsWM6Z38X0JfOoH619D/DkkKCOqHMqwFnOOadXRC1V0xNALjsI3VDhVgStxyeJwv+7rEdIr\n",
       "UIe4ALdw4EQ+Zg7oZ97D6eynl90C7NsjzF9EPGSw36HCqv01CgN8AxOpl/sr5rM0jG8+A4YkOdtt\n",
       "c1u5y2NBEyoMn44cFljrm+DRUvFVba2qlvemmojTZaSBoEHyQio/Y0UmbCRjAGZeb/x7BK/yiMLU\n",
       "Ov0KIuPQniRIAF4kOJIFmXbF7tLaaTWmE4etBNbxJN5s65Th1R5kHtdu+wMX4g+ZZCWLiUrZyeVR\n",
       "12DKDATHebWC99ynazHL5o92z3i53fBQZGuVaoLrnC9qSpVXLDlN2w3LxB3klP8InOREp9oVL5cJ\n",
       "6pc00GrOHdur095lNv4xkMcY2+GL1IYQBHypPFACwxu1gJmzcUlPtsZPut3TV7eOvV23C1yOCoKg\n",
       "DWHiIdyXSJauCy2GH2WzuWJYPxTj3FiGE8fsvtNzwp4vFONRnryd+zGJxCT84f9ReEnyCvSGjxse\n",
       "JLIpf2jviCKepINU9RM2TJlMDOe5guOjxAcacURNKzNyK2WX55lGfsJydeMrVCkl+Moegxhf2zRm\n",
       "I3yBKemRuFM9Ti4VPs+o3vWtng5h6B9yPWQ/P/SlaySLM1FgDgMJ/ESSfkGs827At5GTxlW/1769\n",
       "9vRY08Co2+Gkm5BWM39WfRSR+AEzr4b/2gAbzaXfLdwyPopei7PeO0Tcn7jM+DzlycwWQ7ZjZDUU\n",
       "aDIQZJOAkre8UNwpu7/6ROAQXDGWgVv25CRo4wrjowdOlAoF+3iih7xGnrEo0K7u8s8RSwxLBbFp\n",
       "BRSWAL9dgTvONSxGnGSRtoLMRmU8o7uU8Hri0nQm/06WiuHtFMkY3kMVRIyCwAQekoK12s7ATt6K\n",
       "ekHtOlkzSqpl28Y/vXAzwwVd6B1N+mKDWbkFnXGK1jSDtWiYz+PRF1Za0PxmU+FjeyacRaUWmfLy\n",
       "xuUOZID1RatrIpuWb0J0WDGx7gVw2NQI6x1Zcikh1uCu9ajrUrpqPVOPyQ08A47LXCaPBeL0oP8O\n",
       "qO4lgiJsJK3AJmS5dbTHHP0AC0eT/kJZlRwot/971AhuIKYoOVhKE4YC/cqFkUfVxGDJPufQ4tuF\n",
       "5TicfeKW6AymaKpK7NaDxIcplaRUPpaZjC71TNfsy4yP09CMzB4ZxD/uQIktcYgduFAXWwjvgu0/\n",
       "kdR1yxRoVa6md1CQAlkSGXj/CJgWLHdsiDSSy0syi/09Tqiatq+UtucA5SO3oKmG5T1/kKnahPBQ\n",
       "mLh3HwKgKebIOO/ZuX/9wfyld2fd1mFuVxiBbtzilXq5aRResPTkMxde1dwAAARJQZ9QRRU8K/8B\n",
       "LtdyneGosQphFGKK9RPdoAbij66DHy5taHRdwkpV8h0e6k+/Cgj+CsfsQZiT9uBUGaoO1PtNmtwq\n",
       "pSkMLm4jZFtFP1O3R9DkqETe3kmeJWQbwVMuu2g61mIyqowM5gvlLFpAgJ+IVfzpagTJeOq7Lke+\n",
       "HqLRerU9LU6qdA3YYpiTMjf7tNWCnpQ85nlmVAXMUmjAsv2kY0MQ+P8Mlz5Tdcfg4Q3ICAIzD0cM\n",
       "Li1dLyHK8QjGQGylsBbZ+lFFvawpFV7yPL6YivDAfOyn2S8OZ8AhZ7FCvu7s5Z9+OFqqZpBAoz9p\n",
       "CLrRjPooKXrWapDBiPAYFTr/GIFDrKxd62W28EmDj4SxdXi7LfGKOVbSVZZLyeadYew3j+Qm9jDg\n",
       "Oe1yAjT513D5L2jkw8ckZIoTVn9OzM5Lpt4BMYmnYW56OEeV22lAvYVocqEron3yWzvzRlBcfYBu\n",
       "jizJOqkRtLuPyWN6jeGz0XcEMkyT1WCFjRKr0r+Bq3dTb5WytNNE8+UvkpO/z7WgRQG3doFXUWPf\n",
       "DEKUDkn8A8ejJvDg4CNIEGB8AcxsWKutNTcCNwyFWFenG4TJ0fxLtx0+vjrb/1qVHkHgggVTN9Xi\n",
       "odxYdRGrp5UTtmXhC8vuYYNqfYJTeZ/dN0Ev96CYqzAYRVXKyti8MV4a+AksqupDHBRN3j5zkUO5\n",
       "dV2BlzKe/Feh/tQ9WLrBETQWO6+n6/T9IebHjXucAM25g/fUTrIXqRWJOOz6qriOYhIcPBGdJur0\n",
       "KnJiGt7OpRjDxP0OdOR9ZRileLXjjZb/k+VrwIv6rgwR3WwliVs+l4eJvi4kSbAum7tXdPGjhZFO\n",
       "vbVEoXaKftFtGC5J70uMHHHGlkO38RmMgQppJ7PLmUADQhaL4PmAFBOmrhIYEolWgy9pHTzHu3Qj\n",
       "zJsIA1e6/W7ZcSKPKjWeBD7TNqq1YGOpKU/dsZozdSFrW5R+hiaSQjEGA7sj3F2rB4yfoF/5CPqa\n",
       "zaD62RL26p3YHMumcQf7M7Q4KxNAfZ3S9o2xjpMMSAlwRLxc1rLxy7trwLXrXDgj+hN7LR1WSQJh\n",
       "kNvQpx4cTUFNVTSBJjp5xhUxpZYA8y+KUO9ewnkGaVcimz1dLWDPAPnX23Lyxzw1NPtX6O27pft8\n",
       "gg2pbdQ23RNFA/yOyAu7MT8f1K6MDN76OBhfTeGEnE0lPvxqfmwoZ30/Z1T5/E7lMHJpM5vLs3xp\n",
       "9H4CefIdOHS0YPavTAHNCX79wFOnXznZLsi4tTLMqOYbs3B9reTSYxfmoMogd0NwAHoT1P6IV9nU\n",
       "uWQAsA3bV965vp0Q3d171dUfnMb5H0v7cTyWkSO+/jT9+OhTfwSB3uOlp+4Kyxd4hoYkMId/Q+Gy\n",
       "ENEzRiQz2LAK8rkucYFWWkoOsNP1BsT+UJwwy+7B0jw2chrlkSncvNAAty5rOsEumRCU3TdKbfDp\n",
       "bocvBrwAAAL+AZ9xakK/AS4YUoPQnt/ERpxACatpiWRPHCPQefc/w3o3YX4B+Fw+n2rd5eRB1WAS\n",
       "eiDqzdIRXtqfartxmFQCKGade6eS295NeiGYZBRpxbTRInTYtmAEwmp12a9P6H7rOzu1Qpy7uoy9\n",
       "5uWo5o/L6JrYo1DwKRkNBgsAFq/qKkZus9opZdrczu20IVfzliGlCaZOyGce7wJK/aRMfVA2beSl\n",
       "YHeSAsB4Eul038m80DfQc8ZNS/WFy+meu48KtKZsT5mz9aXwrtqohr9XQKAcA9EROXvdh8eiMufa\n",
       "MljvFSnE3HH+El3KGkCiLuWQiXV0iT3xX7NIltm1xD+rQ/5mTxAJAUhRzqAOFquZ2mh1gDLavOV9\n",
       "eX9eU3XuTPo8RrNzTKNqVUbohebYMv91E8AZFABf7MmSGXBETy19rUNyEw5c0+rUIuZcAwb8Anyl\n",
       "nzW/njX8wToSZml7yBBi2H+EVotPG6WNaGncZE8JI9w0YYlnbj7xzJytG/TaxZYMh9REN/1SOY1S\n",
       "sGf4XP+LsrtqLD9vrEuesx9+yxL/rUKsmbn6g50tHCEzDjhJzhhGmXTODBjv5c03fK15kgZilu8q\n",
       "v3JQgQ9Ya4fAPX9/4XJyJL1e+Av/kcxhTUopIDBExF8OalyXImrALN89ywARbANvpqOvvvvJm5O0\n",
       "QV8b1s1VeVtpIgmrD28OK5GtXR04CDNsS0j/onvmEDEYvjCFgeP9rgVydzODpDl9zgd4pruErDLO\n",
       "pel3JXqGcVWEE6GrkwNorNcZFh/vmlWnHrvXzy7gzFHPjfrarOnmdVoVXy3lSqmC0cHvC+ejJlez\n",
       "h5iodq5PRfrwMH3TLwvNew6DqFEXDKug878NfasQ7l/hict2Ig9mf1LebYDmCZ0QBmN6DQ5X6G7f\n",
       "lLoFvJPSG8wmBOCTg4d0bMrOr3Ontia1Ep1DgxMSiSfFbdyAfyEpSqOcfVhou4hOKSGWXMAVP0t4\n",
       "m3KrSBU64tDrC9+tUEAgS9Q6OF+G9+a8E5s6KI9Dc+xh1wAABR1Bm3NJqEFomUwIZ//+nhAFxe3s\n",
       "tUGQwSVQwLP0i/2BLSABy+w7G3VVkRU2Z5qMUEBMTHZxHwKlm024zNRcK8wDf5q0eAOqoumgHdmw\n",
       "ZsJN0JhuE1XiVcOQ0qkP4CqCKPFsFpgAwXNEU5l7MeoVGjmFOXtsRK5H4Hd5QpCsBseMATHUHmkl\n",
       "Yng7KrTji8WWKZ5QGzW8la0ihKvFFnM01zOFTJN3LpDcU44Cmf5Md5R6dV7t+ef2YcQNKXuUoFY/\n",
       "ot3gvPijqKROC44XwjROpgDpPSfB09bKmS7EmMX3v8XWuGcVt5uRJMOnHGrtiM8v28hGfn9i1acq\n",
       "UrX8wb/2GET6m3RYz/XXxD5LttKhpDTnixsZpO9OcWMCc4A7tDsLW8rXEkRASKCKTL35AxZquf7o\n",
       "bOeeZcHSJdxI28c5kbl+NjZCFiCydh0Eh/Pd31scHrCa6zgT0nQHF1Ks67qbqzcVpdxbLHmO9v8T\n",
       "7DMgMgXi12tKkmv5E+Zo7QFHuvihbyo6Ay/ZywVUbppZmuQDtQCeE2wHVRm1EpvlHCes2Kqjppcy\n",
       "ZyxVVBldYsuATuJ5IcZbrUUndb3tPGk+fFE+S4Eh3pyaXhpIFaDDXJcAyx4EyhD8Azuczku6sltw\n",
       "doAtLvu7jhnoJqd6KwnNHudB6leo8FZNBidoPndY52TZ8ftkrCP1M0MDocA6wtJdlsfwK76L58zo\n",
       "NYf8GH2HJyriNra+VNH17bAdXBXzBuRmVd0N4Fy+PiEe+50Q8VsukBNtLHIiWH5j/YpA0Lj0spRG\n",
       "b/fiAcdinZ6sPvxrNt8aFSt5rFkmcJZXkkLr4bXZd7M2bb1gXMw0NdnyjmpbQw+Re9cLQO88GGld\n",
       "+WEGvd3r+0EPbD6zbDtff0kTEmNHwR6QYqAa0KVBRdAC5eKIKcxa9lrS9YRnquW2JerzwFcssUwr\n",
       "BIZ37hHFBpYKsi+UMjJsBeGO+/z0GcLRHfQ6cTQNLCCAj8fyGF6FsMgUTVWLJPN4OwVuPJ+zwOL7\n",
       "zUXvhGxNEkdhtSVUDBwY1YaFFKrSWeqqlIkvb8gAzOw18rYwJZTDjiY97J9qUb+OYBgEqul7dxk2\n",
       "9ol+DO2OCtbRzRJH707U16YpyvDYQFm3qQgoVOCkvuPqS9yLzXH0a4YTiGZVP5SpYlltLg5EI4t6\n",
       "vJJPlfyOWBUkb7Xh4fIs4QVPLeZL605zBhaYHHAy+k1Ls4s9tVV0TMcezn8d5tQJtpnQGImfKa1w\n",
       "TslkSzqFfvsMRzyR+f7BtDSMGVQz6LOIYY4C//Ou9Yfa5Lsp2W145wI3SNijfbsHaJDCrpx+Gcrf\n",
       "FLPussZt5yeCt9G1CKNIF63vFj78MD4YKEAGjBOpoN6Jn7/1e1OvUqjb6159wnru0FOsWJ5JfCH2\n",
       "ZnblxkCdRmhrYI9PRVyUH/JSf5b5llwByWiUFhwKsVp5sw5cpYfEIAf4QnE72ZPQhwP/+vr6hDaQ\n",
       "lZtFuMKn4N0mo0S8C3uRFk/AoeO1WbtbJ8+rvfhF1p8rzJ8DvV7++2ykpWtqVAZaYiSGZx8XAoLg\n",
       "ubqpr2b7P1D9+ovZ42tfixJ2B5phOalhnjpNm/lNM/aXdMlzoGJgm6UOFNt3nlvvHNi/wKKlCxzG\n",
       "jA7U65i+HuDDc3dU5YRWtsrvCZGtGitv6tT+e2gvFQF1WMMmRLAGRC4GkuCwYqo/ZzNXo6d5JA2R\n",
       "Isxrzev1G84kenX8rDLsA5NLIm0ClFxK17SnkHPlvoRCNg/oAAAGgkGblEnhClJlMCGf/p4QBcc1\n",
       "eMK7ylSRy7Ex/8E3Sor/9ycAfABdAewScXKIdauqmEi6rl0lnVL/KZNv6RZuUIyl3ms4Tcd8v1DB\n",
       "FtzNAKLwCVR2bScqjHt8vKbiE54Gn4Af7P6kn/SxXJNV8C74Tj9TMd67nWNYaMExV1ltEKU5Wssw\n",
       "Iph5EjVhWk+Bjm5+6ovSL57ak3XOLXW7dPD9wY+SlC36omjBq1rwqsM2ZbU8jhJFn81/dGKREEfJ\n",
       "dOuB9nFdG06nKG6ECAhtkrUTs0jkpoVnA7hJCSop+6yoH+9rMdj6qtVM0uUGyb8yf9x0haw1D65q\n",
       "1VZgFZRDuD13c9B2wA1vJox1icGd4kVRetmtajC0DTQIq/nuf0rfW/s5dUILuncPZECpfFRatPdp\n",
       "Aj+z4sdoYLSjXZHO8mgT4Qc+Hffp7HDmtV72AcUsqHwJe+Q8QHUR9UPon/5nN46yCIvrwwtZtAqj\n",
       "gon45YiZtZDCRwSVRDX1lixs7Lum9RTkVU9NWDUgY8UPh5TUdl4e5E44RXEESLWbnd1Uw3CZ3ilI\n",
       "Vh+vDEnT3fgZDUsNDkVkXfa0v6qcZPAvlEqFVaKYRokCkbyKAPNG8egCGAkAQAlrYohWd6IwnTE4\n",
       "AANufqemLcAIbPqjJR97M3GXgFjvE7STnpmGsncLheu7xM8a0claJGOcCZqhbO+S5HyhYLe2qRh1\n",
       "vQba/BvSmkoE4NXENj2IBocwTszQtcFFyDbI61TVO6mXjqqvnlvyBVQ2tImne4qh9RadPJC6YEpE\n",
       "A2KGUy8P9EztBfpOyKElnqq3CqWS6PlZZXDMc5GbrKEEf+NHO63/budW7BvxQboM+x9fxBCjOnsO\n",
       "tG3bPdob6W6z5E9J/whCF4QEzi1H1tiyUfBdonsrAprJJ+KtdJh+ymPyoZS4b1IqLakMpohmmgHj\n",
       "7YTzQK1h8YA+HDBvWo3fqc9EDICBvs1xmUXIEcAfY7q56ZDLh0Lv3SSmUJxldapTqRjqitB73tEk\n",
       "MPjkt3ujNqpNtRQ9li8bMNmdOI5LXZFcQp4mNoqGdHweot7DMB7cqYrkqnJb+wpG+TfbY6uIOBYY\n",
       "PrTjEXkbRwNW0ZgMjJARJZvQb8iv/6pyqLyVzmSpOjrC8kzm2Jg2+ZL7OL9EXr1p2TnIhD7M5kDZ\n",
       "PK+DvDGHBWXhFg4c/w/SbH+Tg+l3rzR6qgnafAjZzlD+nyh0wC/rWrpIBoak1j/X3v3K98f07g7D\n",
       "mzMwE1+ls9hHJ3QhpwQI7yQz0Jc9PaMDP9WjS6KnSjDcHL1/O6bQ1XM5LPrxm+Ao9hOvpYfcDlgy\n",
       "IYnUCrVIN//VS/keZTsIfOajYXM1/PWHH3kmlF22GV7jDNR4gEkgNIsTC2LxGgrQSkkdnluZaB+K\n",
       "noJuZBSveK/wRyBpnMu07+mfjA7EQl1oEwIRflKj3vkhbBrvl1QaQb3nF1k8aY/yIeDcqmRrCDQt\n",
       "ncjyFIn6YOWaLxG1Z4WSnPbvw1UjmxY1X89mZtrFnaDHfYZGBNIj+YYUYFrMXZ81CQlsc81mXQYb\n",
       "pU6qsrxx+albdw4VUio6TLtVsOtUqYPeVmLA1VOsCWJXBhyEbgWzpKXncms32VQFO5ais8FPu9YQ\n",
       "ivR6iYiZMZTF470x8eVR271KB7D7x03SKWsiBt2vJUSe5BCL5CzpsO1lFeaRnRGU3/UFX+9LIT0O\n",
       "r0Fn6oRO3e5jsyY5jCN/g5BBswwff4LzYbahLwimTz5UZMcQgc2L97XtAunFXtkXTQ9xEif05yXh\n",
       "ZR2Ee/UU+mLd1O/ogzaO9CbtfQW9vDjajymjhnNI5Mb8jJlUCSTENDwz7dblbtPvLv3yrF2gkjsi\n",
       "MpNaMGPLei9CeuIcw0PeENs9yTd8S1rIJoTEX0OYx30w5paqtLkMTkWi4tIq0oCmsuvPAh/O4Cas\n",
       "Mi+ANJsF3YoPiOFYFNHw4aCvMA3B5zQ0uECY6KPOHMU+Bna0zzjyVh2haGOu5UB5R4A92HmnlT5W\n",
       "YTjPbQlHRDSS6DdpMRNiF9hnzZ8kV2aYqyzLAErSnl/Pv992ferhryjMLbCXhTsH+ECasvA5WX/N\n",
       "4isFj95QaC0cWiJJZXvy0+NbY/yz02Q7THd1ZWVVd+vtGY2VfXDMm7cJJzKVmDVsDJLTv7pUKNjJ\n",
       "hsEUBGa975IAoOcyXoVVrDCfURpEUmuujsD77IBaSWsQsRiAgkObVlNLEInYLDB+HZY7SpgAAAc+\n",
       "QZu1SeEOiZTAhv/+p4QA28VGkAKyy65jGsSFqtNggmKt7zSg954k+M3s+og8eW+4jQImQT80mvmq\n",
       "vez0nZ/MyS+ot124X6EWct4MwBwIVqnmlXU89K8n0qOCeaZevEu37Qv9kfIg7gh2fXCq9hSAkPXQ\n",
       "+q3lkCcmoDZTVEojNSoNA4cxvWsZex3AqJsy+Ya48trxlcbISssKRZfycZPWLkEeibyGK7pxh8EO\n",
       "PKVQKhYssIliqdvYnb2J9cLm66YyH4ZMEVtnC6FKL4txmU2LK1vXORBn82L/ySRiU+/MyQ4m9XkQ\n",
       "fxmwzuc4R1T5fYrpwYaHoGo3kyflCMfR0SFcWk8T9HLmwiQghKKnNB/gZemf6q5bqErcHcRSBFb7\n",
       "GLtY3/JXui8s/n+fGKvF+KXYDI/amPfvlrAJc66P3He/JhDBy8VTj2xB++9eNFx5M9YhD+1NnnhV\n",
       "RaIbnBNtmoLF9pwHCq/qvx5MQORdNihe9/OYxsuW2xOzmInKF51XoCEf2GA1hvJNCgX4D2LTU/0B\n",
       "xylpXznHYal7pIEsPCb/YaZsUSqPfgswV95q2RXxdNlexWirW8VovRp0I3lEUfKtLIp8wz8fUEvr\n",
       "SCJ055+qoniflDksw5ySs35AVYrlKB+NVj6KpE+jI2JmMhjeT3CxmU0+LDpFfGBZEVcr3yMTZXeT\n",
       "YvCdVMVi3ziQJG54GdRW2C863gVRIqVzmsdy0teCkQZloQKOxrxJyFaQy8uRBsn0O0OagsCnOyVC\n",
       "OrD7foYEVooXO4/jzz/whvH4np1+cdVEdwkBxzPtRYC2esdEvqFdZq6q4JR8IJYS7GGWcgWpybfy\n",
       "HZ91dyvaTAFRK+q5BhQoZO7Fw9nQSbLFW1umf/Abt/ppKbNo31LXIiZ8DU1Ca0Bb9qbUVtH9q29a\n",
       "A5rWFmVxqfXEF9oQucntq4clXwaBtl8GQOhz1sECX6Pu6OcZ/rCC4Wiqn/fYNoQqAxPUNbc+n8dv\n",
       "nLu0jPgnwS2iNSQ1DB2kkl3sJDy6oT/7M/zDm64yBsgFdAB+Z+1z/0IEMywNXBEFG2X7FtYv8nga\n",
       "e4N+bK+T5RLIabfA+uKw97u2cnuU5wb94OLGVrlCVq4Xg3kmX9EXyyHpP4+SWeCfmYsOqdG1f31b\n",
       "BL0ZkQX+kLUn4m3Cnp5AvfxSaVgSy+gk77t1NXzOCEc/ttdAApvEePGQ59uq9NgTfBrq3wuSv9sj\n",
       "wn1Ye3B38C9eqqHbvajJGvkxSTppm4IGooUs8nhm6JoFmDMIqvA/H3Lu7ksfodV5y2jUxgKphph4\n",
       "GR3kLLNN0YKQxgL+AYADdUb4BPvNFr87hYpwfZ9qldnzR75Su5GXzOk3dgvVbnR9HJCGU9fk6rgz\n",
       "2ny2t3UDZrFVrXOWXJnyBJ1lzTP2KCVg+LXyoJ7Lrl6UytY8Grfa9rCEmu2VoH/vXUoGi/5fcAQX\n",
       "zazMWqROuWA4CsoObYeVHwDeCOMFzyfNw1E7oItO6KZrKzWqrPJYGM6p5W1n7IJq6woOekwKKb+B\n",
       "AIL6OPI2Kq/vz0Og5Fp2ZU+22iV8tZSknXd2yQvBId/Hr78an76sXTpWqXXw9Id/PuJoVPYwx3TF\n",
       "gMAQD5IGO8E8Z3rL72FrWEQUcYTMm5eUmrSeG6egeRYqIrZpkDtfSI6Pb35TfR9SihHyyvHkbipW\n",
       "oAW1EHBxW2PuZWFlPnDMHxENf5WrRXwSSFbA0EXm+GVrfVrXZYJwWWkpah7tqS8/0hVvF5y4xY5p\n",
       "xpdFA/sHNVnr8LsDNYqpZbs+wz8rozBbxCAqdPUUVr/DT7QDNCB7pRHHXDUV0tRDdHfLIt0+7/4l\n",
       "b1+B+XoWAE4dZLD0EnZXmzT2VBJBV4IynAd7csjuZnJ/3rEgTEOO+mlcu68DO5cXBfL/t7Xv1/UD\n",
       "/2V1eAAZbhR3qoHAt+3zVVu3dsKXW5FaDkmw8xZqcAxL+ThsP052a1K9RfyzRb+PKDs2RR6Q3iay\n",
       "FslmkFi4QHc+IZrb/uWjGvJ+VgXYh/15nJ8Yen58nKatdNg06z1ti+Wtgq7ZM5Y2rEZaM8t7AgQY\n",
       "qMENxqy+sqCTWYk9GNtJheDQF0xv6w5tbFUuR3d2mLnwwKf0LMH2Y6sCdMGlp3d1of5vAxjKkeHh\n",
       "MOZ1OqkDUjhfxZITRDKzaSnMipafUgL3hJBlEofk3xzKJ3DMO4vdiAiKBsY6LB2YgBNTmkyhzyZ4\n",
       "m5Ovu4Zl2HgJ0PfrdFnJT2/H+tqOOEJVRSr9F57dl3RfWLDfsT4zSPW6lhVp7TfgXGPI2cZiJwHR\n",
       "3+KYUWES4LLszUmOk3MI0x6dPAeXJT0dFjYo+m6OISpAUGq6i3nrrlMqVIxp+SDGLMS55CT9IKcF\n",
       "MIJewYC0w+e8WzGsZRzIblSxV46TPr3b6qAI5bxxDboVEpN5vmQFiKwvkFH3wwjk1slB85OJ3MNU\n",
       "Em1ds+6sOZB3hyWMDK8dnpvvN1bdsC3Nf6lGuI8XAAAHQEGb1knhDyZTAhv//qeEANvFLUAJbmxo\n",
       "n9hxH7LsJTHTHiufLzgxyk336LoojbxhRShfaYhG+COxjqLl09MdkUjnD/lEwAj2+iP4dBgQhXDk\n",
       "DmBQuawcNsnT/LVcM9eNlbuEDySeEpq+WRpKxo31NlBrd6GrqbZl+Xv09uIsehZw4IPBbV6KIUlD\n",
       "Z5O/Ix4G9Rp+RTm6PflHJVrHILFM6w8P2MeakC7NnNMca/n6d4CgiNO3gt6GVaOqPya0zVE8gitL\n",
       "EAzUZxNFVSeMbWzQo99LE7dXzBsa4tFcK4mCc3YZW8BzvyYZIO1gFHk2hKwN3bA6TUr0yWblL9dy\n",
       "Oe8gUWl5QawJ7UeIuc4XLmRv21t1TZybxXxzmetO/+k9jp8jyZOEylZv5ecpQd/sWbOjXPEQW7PS\n",
       "7HTJkMiDoq7EUmEZi1J7EYvm70+A1ta62y7TveaRYOa6mlxtO+wcDD1cBAdBkzJZzdfmxmERdyWA\n",
       "xojMRrcNTnC+lPrh2mRW3kmORtA57GqNYQRZH7KVnTbSqxNNHKAMlkVMvxsv+jGVQ+3h6hvY4Bdr\n",
       "hbHtOx9/OMlmFselewrWNmRCk5km3G62/gBqXIHRRNbx84l4md03yqgh3zzp6vT1/e5JPh6Xjat0\n",
       "YO3QC3AURvNIz8qbdMT1dVsI0PwABHaSpCndDVwSWMaHharOv3WuLNWe3CEjvM287cgaVzdzuCWH\n",
       "4OxzH2FSkV16hyKnwbaOHOUw36bb9J69hHgfmD9gRnjQtZST1R1XIHtul076ziSUlFcfFCTY7xqx\n",
       "LMIuwQylXHCyHjsYAXURn3gzwXnQn5ApcIgpxfGB5Pb637TiItLTbQLTwoxiu13DiZ7vDKD4J5V8\n",
       "2g7ojykJWWW42YVNMc6tQ2RRExSHHZ2m5KsdepiZ4DqUUEcryz8tLxsbjIqoTJOomRgZGx8x5tuk\n",
       "hN+fQ4IEKcH8VwYXfPhW9xmKVXPzPstMMOfygo78G/5JIXiqJpjryYqBd/KgrRCAi+FeEr9rMljH\n",
       "aZN5L8DjA/+k0ZhSH4sW1QLq0wsSvgT/Ds61hJvpWNUZY0DB6dr+njHlpjakRbRPkXvZYYS4lT5C\n",
       "FIL2fRk4cdE+CF3gqFfPXDpwIBb3SDCsYLODcKpgBIJ81MEBdDez2FSDagkbaBKyptHW1ZYsrX75\n",
       "XelTQlBwHKMkU2NjmAF5qaoBLDcQSujuKDcg5yMdOCH+5c/aKo9iUcpl/mvYOpIrP7kcZhpAmMeQ\n",
       "l+08OSJCVveZgZAw72LoWYVKdlyqvrz2eJXvSUCqbakFTrk4ETimlB8bJ5Kcdu3VO6T7a1990VJP\n",
       "X8qIYEU61drTGmFlLQw17BWeu0oKn+61vs+scJigHK+gBxDO30XabRf/EY+LnoMCQClqm5Aw2weo\n",
       "G7PZZHLSdF3SJnNgfR7i1RzYcfRvHt13xJCGSHJMZ98cgnX9Z16iPInfqy2lJXPrAt3g+D11GrOz\n",
       "vWAalXuRoAnsgusuMWPZGZ39JM95nIUToajvKVI0javuyGidaCA7yLbiMMgNKNucHyg6Z2bOcNgW\n",
       "GZvQTo8h7LobF4cvU9PCiZdzv0v5ecCOYTsInyUKTVH2uXy9SLnI0Qh8xfnJ/3ZV3v/41TZK+Nnh\n",
       "MIVYvGkI2PEuwn68c2A9Vubz2ztBXmUvLWVGTETmbl1DfI0KF6pqs6YYhh3wSOFulte+xrd2O7tM\n",
       "YHXFoaWoGUQ+GWS7ef7hyAYRkUCQeAKl2vVnlEGfl4najnyIlpFr2ERqjDXhdJQSCCt0rkQClxhE\n",
       "4uv+sVU2wclvciFYu4WiKb9EDRKasx75zgSGwsnKwFHaMkg3lUCglPB54WuHMixJ5ko6l01kmeeR\n",
       "23w4ieKfOOkLpFsQ8iQOVlYg4Z7GnuRJxMbR/exPp+9U0/wNvQoBlNF0XljDWRrve3KJ8q1d+V5I\n",
       "+hCviOn8DgD7fA1QLgUp3fie6Qlq6xEtsmUuQwNkJORJ9rXSHPB643EDz8CGRZ5IFsfnvM8CXLny\n",
       "RUxp/ZNk9DlVKZ/l9WBrZAbs8gNsQK5WW/hZpp69hYuenmDEMDHWP377xzC0qJtABYLKh30u81oa\n",
       "K/x5Mj63VWOnvH4Vzw/IGSKVZg5IQFPJAVRIO+r7SwbdvfL1yg+GqMOtIGrgr+v+KSnydzrPjAbb\n",
       "ISP0D/pt/sV1W/PQecYagb7WSUz432J4g6ikORj01tkXA/gHFn5AwOQKLhOzvTOyEYbcr91GiNII\n",
       "36vohRCULocWR0vXRv/5KDEhBvusy+xHWr3dgvxvYzOi+ZwN5tx4yqc3Rt7JoYuuyfH1d3DtM+UR\n",
       "lUnZeqby7p4/fTEHED+4EihQEAaE/Bo8we/u6XlwuT5eftKYcfWi6IvyC3XatGyBWEvQIIjRS+Lb\n",
       "0SQ0mSgKlh3Rg3HGvow50pcG4r8DuSOR2hKzKDRO1A39/ZNctw3T+z8LUCaN9KfIlKMSvizYowzT\n",
       "9XRB6XDNoPs8AAAJTEGb+EnhDyZTBRE8O//+qZYA+QlFABEHxVqZ4/c8rn/bQlGcs35w0Qz8pfuY\n",
       "giThA8Z1HoN+vpN6h6cEOqrzpphyZbbqh39yxKB35RbMO0CB1pWdafmtj0XXKc/Ad5aDs4oivpn7\n",
       "fQH/L/2OzY5FaaNBPCtCJv0e8wcDt/jSbgK9PGXCgc4IY8fiGiraVWF9wuzRpv+0SQBFNMODXWdg\n",
       "7r5iRoL1l26UwzV4oDV+pk5r+lXVHcYcmGG8bGevSSF+4nyMibUdpMl3W6lD9SwfepLr9EcV9a+k\n",
       "5JT5/vOrK0DaREToMWjt/19fRZHS0G9EYiCq02IdLWp1lHQF2NK+Bi3jG2IWNGS7KPTKbNwTT2BS\n",
       "e0IcnpoJCZHLWcnTJNnaBXe5FSxdL8CPbvylTupEAh5F8X7w/Mxr2ZcankYYI7jbCPD5eWZzFqg3\n",
       "pINVvRlQv6ly3EyUYZFDrvb6kJdBw/N23t0fAboJ50IwD6MhPYhCb2CXUEb9VPbMwxUs89V5vqPw\n",
       "GPcqeS+tVj+9Jyf3DDMGp795EeUa3V1SRkX99KSWSBfGTltbvdnhe/ArtmcivHOtiWcWcWx/M4OJ\n",
       "ZPMkZd0QNpPJbv7ImnVG1HERbOpeXx6NPC5o3w6IEvpjTG2S5Uazxq8H0u1uAdAiLHnIL1+ysBlD\n",
       "PHPn+EqQKIwS+Cb1cUjUUJ0jxbEjzhQjIm2fYrBViv1xlLUeeYxntZTNGLudE38ANhRlSuot3KoP\n",
       "fEe11o6ZTamhLWSculL068Hgt9aK1MU7gd4lxb3UUyruv1QLzQCMwVTB9RnJO1cq7+LExjJtf/UH\n",
       "3V8AlO03E0X/OFnUuGsxv9Up35cS75oBt9xqXiF7G0/BlsAS5dOy04jwSSai84LqRG7j05Dv8AoX\n",
       "zZg/ajz+5J3tQX7sdF0ayc3d++Az0u9dmMw/g79u7j6/yQ4F/unye2AVohD+ApxNrRaEesNcn08/\n",
       "Lri0NR7hVHbqt5pzhKrcuf64oQ9jhNTrYDcPrumcV2x9pctI1PDlwY6pwBw2EVF11ObfqbQ12pES\n",
       "mMVNybHt3I/FxOS4qk+OQwKzzYRjGvm57/lLLUZU0ogloPv/Jh3SM13PQzb1xPHPnJAEi/sTB/si\n",
       "wGZAC8/kmxC9bmKknbJrfoBK7OAO97c15VLrg3rRIAZUxNCH0u3uEJ4Lpzu+Zw8GhTTbQb+D8VII\n",
       "9B654yLAHbg3oTjRRJ9F+w4DaE3TnEYQHFkVO7yukXkwEujw78QwV2Pce/+tSKsmtXwN5czohtSC\n",
       "g++LTBzojm+Mw/IDoe+rfWS86UgGhcao1rE/YVNggOT9IQsUPP8+3LCV9AjaB4ARxJck6Xrzg0UU\n",
       "P4rNm9nLGuH7n2KAaRe8AsrxYPojWwuKQUdv5PguZrdPll1RRU+V9Z7C2MIALuN5Mntioi5YNzFM\n",
       "CbsvQ/efMjj18fhHQiKMyswvtZGvgTpd9phKIMdThb8XzLpRiKBHzUQsaiOSDy7Hewsr1LniGOLb\n",
       "c4yRLpvNqwK8lKPOqydNT2E+HrTdehluqY/2UmPMs3oRNWCmA9E67at5fFQgpbIa0eZ+xNiDgCnL\n",
       "xbGv5FAk6nQix+owKoTX1CGAJ4q3EaSEAuUJjk6Z8oRC8LZZ0TaOswfuzQg2wa0+MYZdN8I8LcgE\n",
       "1DwLVe//P8VUR7nfZjtmJ0Lph4c9cmECp0jd94vnDEplWS9h0dxhHrASoP3flI4k2SKuFpi5Bn5/\n",
       "ErNrJMe7KPMEVhG/jlMP7CATPWAB8575ZMEec4TgT1JvavWPjNFgax6GhGNOZUfIEASf4b8M/gj/\n",
       "88meJbMdf82KGlrPKWhV7z+su99xt5RM80Hfz5AjPdppXyVEB2+sgQjXdEEZox0UY6lxP0cqo+WH\n",
       "9kArlPhztMpmKGxDPpfG1RuiDLazGm2wdCkgbBd+jJCPq0CfjUqhqvExobSM4wfqRFHI7gs+6w3W\n",
       "DgOQC36fHwjnn7H5DU9dXkLphD65WQ+jARkmbdXq+456IAcX8VmKaDiDS6K7z3OUlp5YXq8qDTkZ\n",
       "xrGS/6DzOQ3HXnstZaZZDf3RSRuYqz6iFm6afCps7b/2TwWnQ+zWmxxpEVOamESvl5gMap6L2X21\n",
       "fiDCo8oONbzCp6Ki6wuYExFtgmzA6uAu10E3jbpJbmgWEGaXjFpQR1OlCPZavWWbJe/smgwAvCV0\n",
       "YN8WJd2hWlraFORr70OI0vJnjw4aPXff2MqQbdjo5g/ZFieN+XG2/j0Qnc6DLCFSxeTUj8La0kj8\n",
       "rIN+aUgH70NBSFIJv+RIzf626DvYqoCoH7NIzZPd1ZoyATHeuHCCxuLBH3r0qwtmvrepYJg6YfS3\n",
       "8Z49/VhWmuCJotxZDxZtbr74qW8xB6mW1EzvW4AYjdmcM6v9h+1VNEFYKstiHsqh4xgwZ0UC/iy1\n",
       "Fv1a8wKZXPOP2V5oRmzvuagyW0S49iQDVtXQyRpuPBHdpk2xTxKBeaGNRM6IHL+PHEMyg5vRY4QM\n",
       "bBnh2AlbUTicdIRCQErqLqj6/vs8KhNft5sK27/ZYYRU/ndaj4PxV6yjrEGk1IU/mnDLT9y8EE9i\n",
       "Jkj31Lm+HwBvp0n9JQN4btXVQbr9jZc4FTq3MJkehddJWR5gPB8QOg4X09/4230qiJCaqRulZ4rL\n",
       "JpvsFH3fex8Vei6YiJ8vLu3n55Wy/Aqsg4GOki2D6naMRhErIHgUgIYJYaZJIfWfBNbFy4R8eVoj\n",
       "y10wAMT+VO8Lw02u45Iibg8h77kqEjB1J+hY7isLJtX8tONLITHU/iCTBb5xB+RupZ8ANz7PL3Xm\n",
       "ClMBsVWTtINfrcZIH91z5t8cwi7ZTGvX7lJKjF7dFOaZg9o/WTQFmt48aSVCpzW5gnwjMrhnySDM\n",
       "DTwHU3qTPtgLTX+FRlebQu95M849T5E4Y+x/YpzVugkF+fjnTkFVnIOPcWHCYYlizBnOnMGLxZdl\n",
       "4aTd4Yc8Rrybir7benwo9q1WW2cV6M2kDFOwivjRcxnJ7KQYAOZIlZu2mQKE2MJH8rHzyI2yJhnx\n",
       "WshANksGfIffqZ/gGTLnBFGMMQAGVQ68koGVwaeldaWKP898c/pl7v+/1XghlVya3SafS3o/oV/C\n",
       "ls+dOGOc2ha9R8sREm0HE5vM7/v++eT/2rba+uxsx5QfABwQLQBxnb708n0byGNGH6nJvS412NEA\n",
       "AAIvAZ4XakK/AwFHOmwKZHaVvDeSzIlSbGvpRx7rRQA4ln7swaP9i21qi/SAv00yjxAJ0JTFkmes\n",
       "LD7o/XmFHSwwNHbegoIBngD74GSgsAzPJL15IM6KQ6ThdBHm1piXE63ZCHUfiooYBtGKGsfSO1D8\n",
       "IE7qRurBz7R+InGCNBrhNVZ/oeWz4DEXdNn18mtAUvkLgSQNwF+lxmCgRamDHDNc1r0YDCzZOJmy\n",
       "RwmIErVowGmFDRSHuq/sSz/wa0WWbmSFE4gUBDYjtZpkbtdLz1v5KZyLcMeX2+m5KYOvXW3MwJf/\n",
       "6L5X2erWrEfjQPLXOOyZiPCwUDBmH4kKXWoejCCD2P1OVukOW60L1gP3djBV8sHjCTbAXeAklZAK\n",
       "jZXcWi8lYAPjxhihDCyAQd3MS6zYGMtMSg3srC7UGUZyLvZXEAVjMCr8SdNBFuF3GZm+Eech+O4H\n",
       "0v6wvm1npBjfRJVANrx36iIn8dz6DCgIuKPABggoXJAi7lnVfq4V6eQpr5H38foDGVJ8JejAdkK+\n",
       "3nsdUmdPun+Q/C5Wy9uwXONuI8wK1Cvv54HfKYWqj2K1XO7DORWdVF7Nsap0IqOCQL1+3C8jyyZL\n",
       "jb2VOmhBOcs4bmd5AYlaSn+flAviInX92aNmTOeJtTw1MoRYWxmVW4JZsaWtYFqTwdoM++B9d3BN\n",
       "DFC/yZ5XWfizLJqALWF9Czk0c/3Qo7N+XXZgKAtWJ0IJnkAT7cm4ibpPmZFweqst4QAAAUBBmhxJ\n",
       "4Q8mUwIb//6nhBWcjXOVQa800DymkzFQhq9AC2dXMLBNvCxJdsfmsvXMWoC7OPy5k5QmjmXwnCQJ\n",
       "06EvELlMPJaaNv/5lATeVtJSyh1PvN01CrvUQ3E9C9kbN71FFDbuiRWqYADLyBAaUZ+OSZ3/Gexl\n",
       "W0shBBhaVTqmUE+VkILEHlCUARMBwCTn6zIzdGS92b8wvDQufkitWvJgBMqpUX4LqaA6Aafl/dP4\n",
       "Jxmt/erZHobVw/o/TKyWdY8elge2LwRo4IcM4vKxyd8A0JHyhgRwN5Lzcz2CPKwxBFW0hM20mN37\n",
       "e/FhoB8ZwSNCLqesouPNt2ifNbqBV1FOsAHBfT52f2dG+wNd/zUZo2Z8lNlVgQJbnyvjQ+zXTqZS\n",
       "L2Yci3LaWDL7sD2KCR3gb+bkPydWqbU5YxgtuLO48AAAApdBnjpFETwv/wJWJwD5YLi4GgkrI04K\n",
       "ureSAEzdboB5BsZ4s+eCUV1rcvGdY87exWn6Tp5WXKH75lTsIVxmDTiksM4TpT0ExLepMLVEqzYs\n",
       "+Tk+M0xJpesCjyij7g7YSxwBbykjwVbUFvZyaBH5KzDY+jS27M5qVi/CuJtuiVAaj67aLJFo69UX\n",
       "isFNCa0hvd4FvS2qd5yDOjTPBtUj7MYyQoVosS53T0TjpSEsjRNgJR+KgaMC6OvY38gevsiy3sKQ\n",
       "28/5NFItBJaxtPBJKtzUOI3eO2rQ46pI+gHV1zdf1kMZgpbBXLUv/8U21lgLEWnX2g6aw7mSKe+p\n",
       "xkaWIXHS2Y7uQMU5XNaTKo6diG2qoIHZgSzRR15VC2LlykfAkea0USi8nfxd3M2SA73ua+HLf9Md\n",
       "UjrEoUEz/CleD2tj3/JDlmeuiVJmJcuHqeGzBXLaN7YgGx1mN9eBfzImuNg3y5hLBhQvNuIXwv8/\n",
       "zkgAeTAebSSrg/ZoE9nztWzm/6gOD4KR9LsrA74BOpvG8hpQJhfWAExLnePJPUaGKkmXy/xMJEyt\n",
       "u5MDkDVU/HOUETt8M8J81BvKdGeMzrilzsr4tx3UtGhpuB+hR44oCPgDgSGu9T+hFhfhtLu1B+x1\n",
       "NWOcJyCEOtEL0fTc1Pd0Ik3WnJ2ngpCmsOOYWcewOmWfq4Bvmu6f+ASc9q82n+FmC6Gx7IP/Lk3v\n",
       "o3bP+9TPIiFndP/O/3IqSEdw6h9T1JekabTPoj3iYeHdqLk2frFJEbmBvHf63B3xfB4QwDWwABUz\n",
       "jIke5Hnk657ajICR1izrmSpNrdw0OAUO/TbpxikjjsFXYO6tLbEdsfNa7U2j2hbJsaP2TwUS5Hbk\n",
       "O6cJfpyuo6NelIcPKGEAAACWAZ5ZdEK/AxOA2pUTG8wsUwW4wkI2Ny+3uTIkFkTvkjUeK+ADMza6\n",
       "x4MXWgka4MeJ8KvkfFgDLD1lbW08YNIl8MoBTq/qCgx29Ia+k9vq4OQHpHmI4F/QqZ6y7USUY9eq\n",
       "P1Ajw0TvRNANIWCfhZyAJuNfAA7F3jGgY8IGmJXVUxHYXL/CSonUDH7C25hmzv8+DGi+zqcsAAAD\n",
       "iAGeW2pCvwC061+sAE4Vw7BMtkq23DHlm32Q6/sfiXpOunQeDJiAGn2uYUYOfv2HnaW8doEX1Tni\n",
       "0CoNkKg66oZPySClW1PlGQt/5p3KSbtTJvauMPnEVfxoPwQzIDpTR77D3C+8DxRAQYSo+erqUgYa\n",
       "aY/jmKNSPn9eLq94ZmV2qDYlPsta6Tt3rJhlG4vEjkpxtx+FXSOWXdbEq2oD9EJ0wz4VsAPGqH1E\n",
       "QkN6wLRI+lDixHpnGY4u3MayDbpSLne/BvAGzLaTrS4cUmI5yQ/F45p26AnvqpkO+FhS/20W//OL\n",
       "EQUpsjHxBt/9dpICszZCprk/0XsX8eRb4VoG8IyR4am7qmINrJiti4zjSD1++x7ej8g4ayvafSl9\n",
       "fZxmGYbMnFjUqBngobxRyIpzqI6YYqZP8Hlew/1XAgmccifIFq+ZjEwCmROghd/9DssKHYGXdSOs\n",
       "hvxw254wJSn1MNefiqOd3zaHzUe/SWnQffQHLCieEYxxeUz/H/69Q26OuC3o2+9e275Kg4FUTC7R\n",
       "0Rs/M9mQyqHF1W2D6QSt+8aTMBG3KO5Ss9ngrQOhWqJ3hQzroaPp2ZgdhSIwWWrZ8QAC/w18KxeR\n",
       "dNen2uzP4UFARcQ1zSzjlFBpbr68gAXiT6mUvnB2xumeeH5I+8zwGA3VzygTkx7ozYgn4cmCgNbO\n",
       "ZblG7212lHB9soWlpJjgSHgi7UDKTxZqbxWsH/JPu21BB/uMB85Pbki2YUnRSS2/PQgpklatsSj2\n",
       "7Ie44AYBHATKqDBX69Z0rj4+JYZ3eAMNxPUl+a2Up/wSC18C6OA1FV1SAGUV0MvOGPxhFSuyuStE\n",
       "wYiYFoqMXPjSqQMD3TF1Mr9T8h3YiZSnalnSxZkofhHabTVzWgndzqkFEXJEwLzNNTzJ0oAhpxIy\n",
       "WvXDnXwb2AkxAHIGjpmbqsGDUcllf85gipPeAfCTD95h2Zul0xUcOrb/N4oy6k9MMlTGWYmjCQ2v\n",
       "gNHT0X7L9tltmR3uQkTUKbXEz8jk/bl4VCSSdWZSGu99nomBCSjKRliltAY4c+UWBGwDLXkWW4Bc\n",
       "oBogF9jXb3rMGx95/UQK31hbdDdwE4fSqgWaIWok6Jq0H4G3TC+BOK4HjChwFu3iYEUReNKdAlYR\n",
       "G2pFjlmntY4tJIBu+FB2JHeGKsJNQX7Tou9nvFkY+L4ZLMrtaHRXSsRK8HmE2mqkQMEAAAqFQZpf\n",
       "SahBaJlMCG///qeEAYK53+4h4bwAFR0dtHzTHBBrBEJKGv6oXt++M48J/hIegjBAaqN4Kn3qPHLg\n",
       "wvdB/V+qywL6talU5iRrYj09077kG85c6KW3S+hhnV2oxuxjhUxvActas2OwJldk4A9Q+h0UxkMz\n",
       "E//L2DIemE0/edVIpUIdC0n+CgPTgT5sdldY2Xa91i0/TlofGqqhznn6w8AFhGKcwEmfs6KL2mrk\n",
       "zp2zoO9XstdoT3nZNawgZqO8LQ8gOiZpoypkoxq9j3qAFM4QjGKsGRMe4ulHHZKKpj8sLZ3hrSu3\n",
       "RGL9+HK5H2lJlKOhH/5JEtqh2omA1EWxM6pxzeFlmj5gAnDU+mbJ15fXEpPwi5Ojoo4llwTso8Bq\n",
       "evctmxocFYBZl11p8IHSdrt1aJCfk6vjM6xctfEjvMmlyXLlTyGBtN6ZZZOWJ1Ukh5Io+/3WfCT3\n",
       "E9sD9jJY1U6oLQGUFDJACbijfYM9RuvT9hCWPhNLMEmGT/FNaCZl4OkFIhj9koQIgxGYkYsApOiA\n",
       "Cr0EawnI+IukyBYozOZzK/Ce2h+GXY4+4+CBEvKqt8Fx3CVT3Bn7HxeenU1+G/pyGn67VfG4qM5e\n",
       "2k40Cbr7rqFq/W3riEaKCrUKkXMAkeWjTUG7Qp9I2ChE6u50LBoGESqzUr0qtwVUZIrkpACvbcUO\n",
       "YfIqxxLnDJIkJ13CsUNlu/v0V+nR5F5RVLFuzDdhZiPBXEwxX8wG+Vjh3RYeK2e3aBJ9S/DudMmY\n",
       "gG5aVULU2cUWGzFVVUthMA4DFiNbxJdDeloPlAx/iila4/Xlh44BWP9NVZmrEuLAQfa8EDXN+YmF\n",
       "03Nn04cq9l/k+PCjKyktzB6YMkHb9agCqNKzR9XZCbMUrfAtMdeE0Kq9Nf6fv3tKZDzDU8xAAYmF\n",
       "9HsUcv2qsVgmkWIBlVoFSNlWamMcoFz0vXLLCSaFDWEAGyoaPuVnjcK1YAv6XZ0DIODZpu3stT4e\n",
       "NfqgJv7MUmTg3ukAie/ED6c0bs6tb0ucszZfxiUtwU99owcZePvyev2wYixdL7Mv6DYJX7duanmi\n",
       "xzAHSuE5Oc0ZvI7INseFgT/U1N9G8rkLOtmqhLVwl0ZaKxXGKU6Tsre4F9MVN3xiw8wT6dwLsWvL\n",
       "R3Q4NBjHwBjQLrx8CHI1KlLGi8ckAS85mrzAWIUqprSI342SZCSeVyKLaucTrDmIuKLq5xNuixLW\n",
       "/FnTg1XQbsDDBQYz52wZyrjb+1veSDGf31rh2/6S75nYyHEEocE3t5gqhJQCtLoDxCqp4Rvwdx8E\n",
       "JcosxdAC/AZbzTiuABzyIx8Af1OTkWnE2sXZ/thrw8GM2BEWA3r2CipNyQ+Qlah7hbdd3wPDtPNx\n",
       "bp0bulQ53WSRPWYRtMIsf7pCnyMwx1Lcchwg9UlmcvTn7sMSuFYD0OTrpKJ0svqUKy3CWs/0AsAp\n",
       "BAaUmjU81OQCUCYJ9TUzKKTDSsydSAYnyTgXT7GHQ1pO30/w0cNpX/k9r51HOk40/Xpw5Jxt2D1r\n",
       "6WWs/piRTFQMg4eLC8uaCGInLAkooXQJ5H8VjYFG88PDVuz6FRlNQZDOvtw7MbYY8lDEU4kOIuBp\n",
       "bJubQPg4Y3kVfHyL2+wIQY50ZHYeq3JMwTEvnWFVlE6x7bvbTaKF9ae8f1L6/kZD2HxjL/EO/puA\n",
       "CrXWozWS3uOksEpXlOuwIIySfjc3sJdNNeA7wmkbl+ylVC5G1XrZ5vsbWwqzqHP/QGcZHM6hEH57\n",
       "e9/L7pT2oNH2YE1EqIqFLYmf9swGF43iulgU5awIqtwceK2+xP4vd4OKFyj4THFwd5RG7t2R+ijV\n",
       "A6vxHf39AUWDVufbGZhc3JlhTw52kMp4wqP4C6tBzp3R5UGAddbubcwh1xgV3yeQbaaV4tKq/bbI\n",
       "A5d5vFYpT630c1BIzJsnTnhNb5XmpZ9E6pe6J74q5RarjVxjiBohgh6AOuDL8RykPsAiRQEotggd\n",
       "X/RX68gPv8W8iiXcYoBdA+pz1oh29nI2ahLOKHrK/+xn8ShMJYVvvp0YpyNmIUPK1g51Ma8ux7e5\n",
       "EtzThT7LMy4hkjf9bmRUnGvBIP3ABRf3ZTBGA9JsaMDO9fYl5e4sbb1reO+knFSr6DLIuEz9JQeu\n",
       "QQd+q/WAUuXparenQunFPwntAkuNCyITHFLgsf6GkATkiMOBpUijbb39KyeaThWkPn9uEeM0rd/u\n",
       "IqAfcRR0VnaeRxwot4ieTbHDXZTM9/sLGGPo6eQfjIgF8CalAytUPMZtjm4xJAmG8csh6b5Hbbdl\n",
       "4IiFVHhCtIaCtwJjnd/Wz7F+iX7KAaQUiyhaoNW0cw/D1puXITIV5n6Cp/wJigrykd3Po09feYDd\n",
       "AhjLmq8Ja8G7FwboCjn/ANj71lAN+vg7zPJEzi5CnCL7zxgY97u/l9H8oBXSiqWp2vyFL6Tm9y+j\n",
       "u/kqVbSY2zbwimcyqILIx3wYI1N6n3C9jSlDd95AHkT6U7H/tCJ4ZyYS2Or/12SGHews3q68zXji\n",
       "jtfNz2nIAA17aiL6d9A+vXAnWJKpDAH/1sZkzXrWZTdTKzew5Kl9oZ1WbkO0TPzeucUzHKBLTgcu\n",
       "kAeoQPNkBTL0+v8u9T3+OSDmTfdKLOKfs78i8o29Z4KOzKrNPX3IQZIra/eFeaCHJi6JuptawlCr\n",
       "d1WQBxEiJedU+4y4WG2vkIBtvPltmYwxTYf+COBEnSXyyx4tGEWoX87UuZ34Pq1AYkJxRmZIKTqw\n",
       "xKtxfdwFhZ02wah9Wej3gN7/l6QstMbMKFQUI7fLkX/i/KrGn4b0AaViMAZd9mELBKHXsmM18K1Q\n",
       "uPKj9NYk7qnq3TEQE5izQVBUCQMFGrAoVD8QIOPlY9cnB3O6b332osLq4tnhJpstwP9ZspA8WJzR\n",
       "aVIE73AhpwNRr2QYv2aLV2pH7V8IUoXumRk1/PKhTGok7FCPhNNM7Sriy8DlXvLerixYZL7tC90v\n",
       "szDjiSvztJYve+hHJ3q3DwODFRXhbIRGinPj0qETGNbe/PZSvxcF1TAuPVdMvPANlTJF7QM2aYjw\n",
       "0bTXcWjfwkJIGmWPjz9YPL2CIrvUcfaEvDDqDA4j8ymhp0PpjKJfTeKydoDAhPs4IzSwnphPCSF/\n",
       "LKayIHyNZ44nnxyCnkUu9yIMcIRjK3Wesbr79x+mnpwuiYQghQ/g7X30llKw3Es8dgrq0LlRmF5Z\n",
       "FXWyKefmlT7qba+EqxwuvtgOQkMllToT51ttnR9e68jButM93etuaAe6tZvdzTh69alZDkHwQE+i\n",
       "ubR+iX19gJpbQGLYTq+xYZx5sW4UPeKUEfav2Cj4UaKEBYQsgg9Gf0vzyyshNqktwezeX/JAKdUj\n",
       "fSnlXdDwLmpP0b/+cB88GaZ7lJRxkNqW2fLoEjoojxU+pWeYYQxzi6dHuuOzYTKUX7ZorrP2K4uB\n",
       "uiyp29PbCTfzdetaaAx/W3/gC6kq84pVyeoWf5ninbZ+hFW5EeDyqs7/aEaG5JP04ea5JB6WF8O/\n",
       "c0WtYAHSKAukfiNKS4/sfKZp3pdJ/l4O7UUyPLWGNk+Bnwo9F1DDfTqmym94Mg/7olA0XAwjTTz2\n",
       "fVdVfHtvM1wfZLMAAAQmQZ59RREsK/8BLtdyo+DFCHX4+bDnAhADPjzus7LtIQstnkelfWsnWOdm\n",
       "rVeU/RfLB7Nt/we2O70RAUvPdEE+XElX38b7UGS+6ujS/y0+ZQ+klxiaiJQ4PFZTuZn7aHtd8Dj9\n",
       "SuH1ffBu2EYqrM2VGiue6Or/shGYqkVItVQdnKQhvryIJAqCPj+NXC+IALi5XzUt/ugFJHHv0wvL\n",
       "wnBIAmVemXMo+3ArFv9MqJb7QytilcHbdXoQn4qAX8KKLJLLWpnnFf6KF29chJ/eo29EHigei1+R\n",
       "JhSUgqmh/Cd1rv4056Th0pIii1ZZeyqKr7J9cPc3Vbq2XI2xi6dR5uuzlzhvjFgXOI13Vrif7Yz0\n",
       "stB6wmdxMVJsxJ5Gv9Wz+VLrJKOUYThJ1qI4uIKwpbtSnOjEmEqIrZsu+Uv6rnL0KgMnInjKZNDq\n",
       "XKJbuElk1Yw8W8nqNIuLPbg2XOdYg7eKDks1zU0StahV8mFj1Pp0fsm0wBCkK4n5xkTxGiSPdofw\n",
       "LZrM76PyGILNhzGqkxxjs41lpy+EWqbM6fDaS6D9MG5Z1sdUrBgobi3D6MoOJHZFlKOzxeVVWb0K\n",
       "3r7qO70OK6BVDmnRiS9QSAXONz+/gcjqUzf/KYu1pXuP+PL7xiW7VDEIVY9M4E6am84FuamAhJpp\n",
       "s1NwrRz2iYRTKPT3Vj0mqkX8ZNyvbWi1NAK0q/7h+XBRkOuNkmCEbGzgTXrSl/hIuUEcZVTkDzcH\n",
       "RCGn6ZE1FvDC/T6veDMggkPLLjA27oDvJgn1Zpm1DrDHMhVirlp7uFlmfQaQHDqlQC9wR4QEvKOc\n",
       "PyGEuK9YZyicAA1/YJbH90VNJqTMH1rI1x6HqtcM/m6rSHYEwiW4w/GUBF+NxFe5Gadjobr/NFTE\n",
       "7tQvu4NUJmmYN2agqrtQSwQyypDxgJO9Gmr/RI8eBTg/D47BAGR5NmJvhnNbHoU163UB0TQVTcYa\n",
       "tjdDszs57MF2hksPzRuEGjvpalbbkxdpBa5rHo6474t8zkKdi3q5C4pnakPRuFh+SLlyJhxI+F6Z\n",
       "GZLWCiXQZ4Gp/sHLG4qjr8T3ZJisztLpF9X1geI7eZpARoDCAZuZcAxaeBCng24kBiCUFAqfFbVp\n",
       "4NaWlcxvxE2WFbjOHGEMJAZvYKcHCK8ZevZrP7+iBupscwU2NEf8mtLhGNX+tWktn/pjKuQR4vpv\n",
       "pfOwLM34ACqi5nBFcymlYk0VjNN3R2qiidnDF5zhfepJQf+QrxeyUNftZnRoqJDyC8VUilTHn7dO\n",
       "RRNMUjeyouW4MeC4rn2TloutzkuWuaJI7r8D1YPvoXYU7Ok4tKJeBuDtCcfiKGf1DfY5+GJuwzbC\n",
       "XEG+qZepyaQ+qlesXsqkz6FNd8EtPQnO3D5939vBSA+lvaVWbyEzX4PWTBh5vI360gQQAAADWQGe\n",
       "nmpCvwEthsWyiOVyA1XsEnepBIMe9mApMwUR9VK4atL9+8GrSEuIoASW3FSi9i5uaORUTbO0fawB\n",
       "Z0X9io0HaAkTHQaw6n1V7jPf+oU+GbFF7FOcWVDvdaSMshexvUbxneEnyRS66BXUsPsIQS62Pgu0\n",
       "6QVS2zQu7sLGSRVp6YVejphPcK10UTcp7+bZp0CU0RKMOYbKq5uESKokOYYFwLWbzQKcSe2xFPcz\n",
       "/e0esMuLwiMTsp5NE8DtGQkaiG0KIHsmlAH6nmcQNWc/ROZmb4cwECcsv7p9gXp+/kXjAVe6foya\n",
       "+3Zai0TAX8pM2vEPQmxQ4RQb7EttbwFcGtzTYc7C3WjFRQd4P5HoCsigoVyLDsHSFkMUneLBka6V\n",
       "Azgnqx2Djh3fL9A/wuXC4L0ibr9XvPSXxGlDXNJ002C24LWqcsCs+pgWWLWMidSGW/T30NqlnyCH\n",
       "dEY58Bg9FE8rMDriS3QhfGXiECTLtrEZJ5dgio+NxoD9myn6TVjb9kz7h9NiU+jFuZRFgLNkzZCJ\n",
       "ZqU78wJ8FSWRMTwJv5Wfd4IXeSSgACszmkJeMaw5PsfM3tbKxAjwGxl5jpTeub0ZmCVWpaNcf46P\n",
       "ofgvONFk2k0CJwDHbFXXdjsmLF4HqyXK+kMvSBo1Y8NNQ+Cv2fBwpKLJdjtxHm66JoLbROxpaA3t\n",
       "b7UC129pcmWJzfP3QU9i0l4Ip7aERK6tNMgRq+Jq5EsIwyJ89Rqo6xcTLFUdSCYS0PPxYH4lC6Gh\n",
       "mcegu4MDgKIfDbUwYE3wUXiMnmbIikeb/zEmOhHYr5evOuRcFbZ8PG8Nab5XY5N0Bhxm/0k6bzYP\n",
       "7GwcWu0GsiSMo4+zD9KmrsqU45tXKSuoxs+MsIPtZ9VuyMNsfhLN7e5JOSPpBfujpkdkSN3DZFB1\n",
       "VvdWSd1lUtAcTvndLoVUctRnYWAOk8m3mTIEEfANPde6foHAhJFgHkLpOPulrslwdIkwBlIviLMd\n",
       "rfPG2RzwO7gDhhTOIQuO7Mcy9Z41yLo+4k1s7W5xwJh2vsUUAUW78ycVvLIzA0gKqo8gh8Zc7YGf\n",
       "XHjbPzxbMl+oRLENjfUQXJCHT0Ot2u/eEhcyIJqUg6OGwRMeT5CtSFyFh4EvUUJKUM62QrcBK+QY\n",
       "AAAJjkGag0moQWyZTAhv//6nhAF/tm9MYfQyUMwAlvMsh4AW9cEZyapFTtiw3J9at3jlQIRavMUQ\n",
       "b6GVPNf1wR1dPs0nmLWbM4zvOcUk7ITfRpmTR3NiCih2dTUeZmUyObACNVgZnmX+DQRPZa/OkYNd\n",
       "C+YowKOuPaCrLisutxacCcg5g2NZLwdzGSfKkXfsnaMCT368Uz78vnia27Kz2q0rDvqqXsLKffUm\n",
       "1gjzhvn+U6rQHb5MnQEOZuq9s/P8u7q7Jgkmv06cN2w0coO4NqacOPNNKbdt0E0b/dGE10Zwdpys\n",
       "1rdCRqAA9w4qICv+7J0mkRbt6xDES1pmpRlvrdlWEa2BUp7G2qj5ykMU2Z270qGYMnEHS0eGj8qL\n",
       "tp+433kVSsZ/RKVJ3O4K2sXag2o4PApjqa/HYUcxAYCqcFR8ieLbseji28A11SevD9w7oVCa06XR\n",
       "+GryhgPxqD1OomXDvYjGNKF2MDMDOO0rZKapP/6W6gxMOioPkgvUdMBx2OCmcqtivy95uxitM4JA\n",
       "ttZ+wpv7VoWKTsClR8d+NOEk8GgHYUpThE69gv9369j5iUruolqAVNh77RvMBY4b4s6cufbacxKP\n",
       "/pxBtT/o3g65ZRQ9ULEXjfLWRgpGpNt3aqDYVHWezeGH8vOtxRSO7Wlz/m6nESXQ3YURxnFWcYqo\n",
       "FvTxCAshNrGPZg0CfJ4DyA/AAgB45cWrlEXDBHY9gpVvxUnvwNC4ECpeV1/3jBuSYr8/aPiS/nbm\n",
       "6g73BW6iwiP35hxELIA9MPy+ioYAuinJJ5MPNu6O2dnEyDsIog1fQsr9MY5jcr4wzxdaj95i32OA\n",
       "EdAlCsARcVMT2i4nLQGXOuD9amCvbyoN1cEQYxCBwHPB+1cxk3vE46ErVvOEEjsgfLzQHMQJ/k6u\n",
       "WMo8He4sbH6XkVYrDkzClJC8l7MdkDj2sgTV2Q4ljH5Ju38e7fvLm+o15CSvqiMVkYamzSYLzMKm\n",
       "HKJFkplYEg22uAahCg5L9SGE3S08df9WeN4V9kaaSmZYWxZTfZHeKkQDyF0SWmjtLUg1StUCOOyf\n",
       "cEA00ACstunNFhFA5DydeAM5RPkjemrv6R/OiWJyTeFy21NzdHnoeeHMbGPLGI6OMeR9WbaSTosb\n",
       "bCMI+15EdxYjWYBM2udnvQn4ZL0kkOMD3FD5Nzc/EQlqX5tK5O6CfbtSJvUGWr1OOpZ/E+UAM4hw\n",
       "hLg1zkeuXqf5eykVZHiat3qF4HZhpkNBkgTK+0Pcgdm+/tkWqbNV4xv/FedkRKh2AnRZ31/i7ih9\n",
       "kVFB4hNctCd/SDyNO5/WFzSVJ5bbb3AL4pHBa6XW6EpgmCacGHwsO1vi8V6ulRkJCsXG12Io5SPj\n",
       "+xhQ0Vu2Z3PhLrw7d0JFWVFgSzH8KpmqQcdWkZ8DRGW3GfNlb/OSI9rqcr/ZFO8jIXXfACG7wcko\n",
       "bIwx1jPxoTR25S0W0vqMktTYBv/pQ7BckS2GW1jrqu6/I4DQnG3wx6hUUKH3qm+5n60g7TXbvk7V\n",
       "Qf4v8D4xHxLIRgqYuacjaeOkHg5UMkbCcG/66fePbloQVUHNIg/5Tb0hXt65Yl5wjOVdaV9HIWGh\n",
       "4yztqq3s1IzU8ASoXfZA4SKhKd/aPDJh7bV2Ns6n4CP/M+RJJt3D146lbFARLGrvv5mGDNj2hoVr\n",
       "j/WO6Dn1q/XTRQfLpwMXw1Ju914LQclfv/qCO3vfyK2g3RmOysStdoRWA0Fyz9D2nxPqzoB3fDUe\n",
       "9ijpgw1Cp5r07hr48o5RYLuURc9R74LiRXBnJeNNwJ6n/HSc5bqEb6Xe+eDgjzquTAPqRZh6U6pk\n",
       "i52Q3QoL3/322KkorZlfD9ZaHJhyP/DK6wkR8mR7ZEgY6AuFlA9NOVPz/OHU0zFsJ3/OhtsV1mhE\n",
       "AlXSG1bfuaeTqhxo3eja7Eyi4p5na1YmO/bYDxovWq3SdnKc/PzvpaGwEfuUh7gryg2ANz/KhNwm\n",
       "cErXwY8ZJxG1wsrOFsey5/dyg+YZ+kQI5MtKcoCs8KQCeNG7LHhPvy4BYnUduZrr5JchgpHUOp1R\n",
       "q+zE63ipAaf/rJwx4kfm8sGW71WB/BRemaeY3gAsKSXxBzUCHDZ7RZ6SCz4J+c8gpIox/DGgCscA\n",
       "OVuII2GuONc6Yrz5n9i0RTeVKRxTr+ZCzWnxIkTVnq/DkoRiN8eYUS3+9jinBg8GXRPq1+ztRkw5\n",
       "pbtqfBQCM7BWUQpQMcTnlKEMHKHvPr60kxIskjL4TEGLpnD8WgqpL9m14PBVGPWDkRf+v99+Pxtr\n",
       "aldsh03SHFsZwT2cARgZYWmjgOUwaTheuFxHF0s0tZ0nejI8DT4zLiQtSzaGNLQxd1ivE+0du3Qe\n",
       "Fr+OSh05b42q1TLiEcMw7IhWqFCYpcFxXzXrrN/l8rupiBXKBJncxIE3RLlf5a9KWJGjGj1qe9VF\n",
       "Ag3Va0ZnAz2DTDDeskrNCilFQQ29dn64Z+y9dJYbSwGxqEJSa7OcxpX6Piuv22bKffDBOuPMa7V+\n",
       "qgeVWYSvD9qQZanSnbhY4/Gx19QUm6zkJSoKORbp7zqHgu21YBkEoOQBKGZeZOoQh76IUmKBQeaf\n",
       "N20l7nLEMH3wb0pNTEJOGbAMWM1P/4SBiP/bcHIgetPEvbwxc6xdgiqE0KGPn0eJXpMkzp0v0kyv\n",
       "88mWGI2kNpq/anF/SbrWVQUX11R4xVD29H6dj3X3jKKi42HssmE9D8hK2zC8cK94qZbUw6+q+T5/\n",
       "z7OxJXpPsXYl6KrOOS1tGY+r8yOGE93nu5UJK7ntNCm3n+w0xNYaKOYmyLDLPv4gh3kLq9ONlNFq\n",
       "h1/Rnb7tAlDxKD+mMWezedm7AfxR/rHAZ2b9znWE29IiUgMviDDc/DpsgGtJcQd/0myOiTLIx2Fk\n",
       "Ps74iJQ1YN51Ko2EcjPijjITvPdx9ACaA6UEf3dJvvTX+LPB/Ab7ujmpUEP34v+i54cHCNOMpvLD\n",
       "CQX0Zt5nv2bOxCBmvQtPgyIB5QCoA/zjGwiYZWgMeKJEMqEM+uO0B/271Yz8YgCfwmmEsWa2K9vu\n",
       "l40B7uE7g2H5/c5yR1faZmVBWhBLn9Pcd+CVDxEdDz3YCYKkKiSmwVhMign5wn+kafrD7C9dE8qQ\n",
       "sBGD/+KAdSPNYnzCSfj12kQl6lr6YNhGHFB3Kq60gQ51iXeqWKBDa2f1R18ni7O24MaG4A1fBQBh\n",
       "tmWgd9f1Zfkx/Q88PqoS8YPh/a8wj5onXuG18RkAJ5aylJOVziUntg2uNSJTfZBIneUMAlmwb0EA\n",
       "AAVfQZ6hRRUsL/8A3IX+vioJOJlWFEd2MoqI7586AG4ssMZ4xUo1Ns1dFwqOglRjkd7DBxM7NyCE\n",
       "tR+b4AWACndUcssbLQqnoIBSAH//jjarez++hS+we92cDAEfDbFBsuiUltIG0yfTJRbMk7osrNfx\n",
       "BF07XT4djnmcLAEA6g/bX9o+hS1skMlcX/NxGtjicKKn6HBS0Hp474vI6yVE8Reu/K0YFIPMJ9XB\n",
       "UZcwxSRkFTTatat5nUcmRKWNxVYB8m3sn6YYb+ANuLudQvOJMKAMt/UuGnhTQhvO418JT7cn8fDL\n",
       "CishON6/n7kasfdBAk5NiOshrXGATGBD0rCGkO6/JZskPKxXQglerLqI323bTsmzlfMQ3VqNdoWV\n",
       "CPc23w4XzAIaEZ+HUgeIzW80qjsRK5UyPV0UrolLh7eFD5ZKGhAcgQy2cg0R/cOtbMOUbr3HsoTY\n",
       "XF5oYJCP7Va03iiFLJByOnnqvCnb+EHJxBHSsOy0z4JrEqwiOxn2/llBZjfliCJXS7z8MEHvkknm\n",
       "LwHcYDlaD5ZE0gsGrjayoKUWIiBtvGhhigbySuESRWbsLy1hq8o4KdJ1avLo7+22zza0/9gD9xUk\n",
       "UpGYgCwgyYmOZrelJcARVGnYbCfH1wSnmEiRNQv62QQvOJ0HN2hJ+AT33Lwmzn5QibeEn067YGUY\n",
       "Zew/9h30huwBic2086VkG0kSidq6cuddhXCsEFCCUzKYV35kJxd9y3uVc+svKHiibdb3MJ46ndEl\n",
       "o+tb01CjKkv3IsclOBQj8+y5JBmTFTxfTJWwiE3pka3FHkGLCOsQhcBcrmHKizaQ0Uepf2GLVJKN\n",
       "wL0YeSFVJxbeEN+BSNxqc1fp/+zfRdKYT0mRpw6Ta7uJEbhMm4G+FcBYau5665ir1k4kE5GAhYyl\n",
       "l59O2zxVpAfvTnyAXG7yTSbVmpdhpev+pZSBKTz/+OBAEg9IiIacbZ3zbPBm1JR/4yjURbVhla5s\n",
       "+D7H1OvAOx9w9qlqR2nRj7PkxkHX3CjL5oJQA4goboXThu8zOmEuJ6nICmeH0V0IPsU4Zp5IW5Mf\n",
       "bDeoTfu3slX5llWm7DT9YZEE7HpqNNisun+06iaTtKLPXjMWEkym//wVHZ4PNsxoBPz9ZKCishkn\n",
       "asd63ggAdU+xMOaPqMCLGYDJ91DiPnu5OsyNtTG3kzocB8VQYxiLXCuA++5XEey3Bx9aQKzW0jtV\n",
       "W15IaOsvyEPCas0CEq0M12p1PiFcApItmNA9KDuzFf5AII7qIXMRnPvbmeynw5J3klLKKhdwrYA2\n",
       "OgcYjygxzB5AXEMi8hGhHljfxTO0frQkLjqqmWcHk8hzx6xlwSOQbWJ+1SVtkdbrIf6G94tgpqbN\n",
       "mq9UfQzsgJWyPCNhmioByRT96M32gTtX2w+w1C5Ul4Gg1ARyLCLW6v9vQKp7aqthcgJQ4ZRYPqDl\n",
       "Il8slUjtF2xUKJIBnrUjW8mP7UeywG+OwqWfX0uM4DaMHPCs3eHkyJhz/WWjNB3vJ7w1WdyLM7yE\n",
       "0XTefuGjRVYF2+2SEb7SbfKTW/MWRAJ/HRMmZumObSTmV2qf5pHKmTsBJ2T1F7pLtPr5KNPrJgcn\n",
       "rchqzfV8+SNzdwMrOe9JuIjH7J6NzqzhwLy487Gtc+SZOwQ+UK/phW+ZWZiRbxF/JfSvGFium9xV\n",
       "ovzbo9o2URuS2oAN36Ui/u9jEgVw54pAHRCExtWqiU8sLPLseM5TCGlwVYwE1FuamSxftdiRGp0r\n",
       "ukNV/fHZ7vdL7EuHy42J5RbK/ynH/6qpZ26FF9pGwFTvaG6cTFT32kIwSABkkV8WQH7o1wLgZ+65\n",
       "oTyeiaY2mfaFrAAAA0QBnsB0Qr8BLnhAgBNJi8xbbUStMyUV3XSokJmzUsd/+/8Fe41jJvQlO4qD\n",
       "33J0FE2mCAk1F5yQIKwEL9BunECz/ZVdLKcZEoXh67A+R+qbtbAXLPOcAnz9/Z1bxsvFc0bjPo7+\n",
       "FbPAr6dlWdPifXtj1wzufqsls3rGxuB0b/yoxk0gIdAjLWGwnF/wseU/lFiF3IsYhR6Z+46u/YNA\n",
       "tgjsFdz4iVMZKiLfZGBiu6WyX2hyX1WLZ5ltzDPMxdk1up7AcJBaFvbqmSm+R+F9hfCS8dkH1BHq\n",
       "2LbGCNFHRY1U7OaMu0xUGJF8dfrm7qZ+WkQ5KxzrIxfkG3a8PtXeJ6W/u3OJJJiqyUewgiTguawE\n",
       "fcYw+ZLlXJBX5NIrnm8ALqKmmJ9Cj4BcFgYvo7vs04W6pVZ01tiCesvshkpxWnBzujdxF6QjVuTU\n",
       "+HuoBcEutC0G0Ii2wnD6olc/IO9fAO+mwSxYmC1FzSOrmCQBOerI8lHV9/NNFx3jiaC8pAtQhUa+\n",
       "OGSuNerOsrNNpYK/6Ug9Q0IznarrCwjOzl4n//HAZ6nNhWw+x6C57YnucwMPNxPJomFGZEuhC+GG\n",
       "BmfEXVSK4WBKjBoYxAEA4FsYmf294KGyeJJWQPztjdRQ8o/YX1IkoqaGkS7f9y1DxZqI+Eo0M6QA\n",
       "pQBaCD5QLXZBUTBAfbMWFQixonxa2PdQ47UdQ6NZnTnDBm/emHksabkyQK8QliF518KwXMNUjCdE\n",
       "yEC8PeMgaVYFKTbEjrY0W6SXerx55EfH6CrlTaaYkI9yrAuH0o6YFbiOAWwx9tzbOw9H00krXt3u\n",
       "mm8y66C6cV/Y1a9CmwpzfSA0g/xPo6k/yNouwvB9ZI812EDWLgtS4DMbxKEP+WfkgFmqSX+PTug0\n",
       "ELT2NdlF4ilLLURQfUaRxj6jH9fTuXYucIIQxIp2/hnAdOW/aEqUeWwJksdtijKXnuXU+uptTIMu\n",
       "BcBmM6lcg1Bm02FT2KVTfi/vOySZ9PICgLSXDvWD6SzhpX8Ouf9wC8FbhMIqc40d0oljkIxTuz/i\n",
       "iKEu5pn76QKyQqmUxKANIoX2460LJZ7nYyhkfgmxxDkrAOHAHtmEtY8MmE9VzHl5IpUdMQAAA5EB\n",
       "nsJqQr8AsQirQ/kY6DQArHlVHYejl986bZJ/L+xwZLt4OLnc2xALImjMCpoHJ8lwU1lS5mEKVYig\n",
       "RJXFZdJq11et2pXOODUe2QwTwgjf1O2ZZa04UCPy7wNLPn3thSLnGRaW8Vkxo91Gzcdybzv0tjXq\n",
       "udMC0CTFcdKQaO4RQEjAnwe7PxtOdKtGVnhWR8cm+0ySn4gCuAkmhd5dZWSIcdn/EmjnopAeZTpc\n",
       "oor/bGutNwIcVBzKWe0WwxniztK4Lgfnb3BF/UH1uPsrwTJiTf8Am2mMQf4b+fBPFKvG4Ihas0fj\n",
       "USwGCTiCjAKSgrF8zeQ0yLBp8Id2ev7Q5Wuqflwll2OkejxYC3qkKh9LPgSJv+QyugEKhszsBUqo\n",
       "fWtlf6Ez/Z7A4ZPh8yJv8aOTNATxS5aVDHUaQITTojvDFbBtzkm0CCE/0oJyLuIUUsDwJyHyXBgI\n",
       "rLRCsU0CsIBmgEleWCZ2NGEDvGy1nLDMj4574fc/d5njs285J66U00B9D7WhrlWMwTaWQvCr8Cyj\n",
       "MnzvvNwrTZ23TdWMWJwZtA9cuwDnteiA5bAEAv1Si/YyW3tqbfpxaA6kenCS3GaO4IOJ5JrCxOMT\n",
       "aHUBpCA+T0m3zCDKLWfcBMNifcMuBn2HeMQMcgWgnEF3jDTeiyIYSzi67Xg9OfgPmpssIhbXKJPM\n",
       "0CaXmRrucQubcRrwoCmG1IByNwBNBzkdI/AXOznxd6ZZMMqNtCRkDmQbZmVFeh/7aNYeJdhgU6qQ\n",
       "PnAmKaYB0rS1RWwmZdC79jotpug19MGn/Xssa0mpHi87bHvPn4RpdOuNZ1i1RSIzpyTmb43s9ZcX\n",
       "lgEyTtXDXDxDmL2S3L62FRFVWOBT5TDvR5I6A7/5b1E+Vkr+MWlSoFwhTNgAu9lC9qoqqZiHy0Jt\n",
       "RTlJ+YCblRVFWJFY8DZ9JK7nLLe4wrykTlPcOegsQ2IV9d7j9hAQabKxp/NSYZlB90kIVsGjTUF4\n",
       "s07BMycStAfYFwbB9tuvsJRH1xO2AMEfWJRvWK6GaA448DmTitVEej1AE9Qv/8Zev5Hwql2Blqg0\n",
       "ZTio/xVa218bi80oMCXpLmhe9XxPZPoYHjgMrMr69Vx42tfRLULwLuDOrBsQbpUSo+03WAChFdr7\n",
       "ZKxJ8W9xhbJUOSvRPhMhYDRLie7pGAA9RA3qWmQeUfQpo0MuseNP5onZ3JYa5XNTkRglexPMcU3A\n",
       "AAAGMUGaxUmoQWyZTBRMN//+p4QB6/PKAAb7bG9Qv21iDLqBEGVeTqtD9DNjLR0zTQu3YrTlJVkp\n",
       "FE+bMu0MF43YTdyDiBBOA54Svf4ukLProOeX2okz4JEsRCVFWKFIk1pnCJhUpd/ewUX3XviiErip\n",
       "RA/TZGh9tZ+wAA2b8OfSMAw9zjR4WuprFuXMzbuby/37J1sqSkmeUDHaH/A5d2sKSoqRyDg5hjZn\n",
       "3WfkFHXw42YpOcLPn9083XjU+TuHu7VkeAGRt/gTyZDLvvmw7c964Avd/qBElaztSVNw8jOT9uD4\n",
       "S6zP7/25jRMISa8DQADtKQw9ZgE2GfvU3ANfgJcXK7GmWbZA28/G4OlV1WQ7LnyIw6JtsB9lmoK8\n",
       "/a//qYQqVbyIPSMWhuE9r0ievloac1JHwkTVLRqGJ3vN9YJCmTjkAOYmcnZkSpbToCcOcgNQoyyh\n",
       "nHUPQGY+Jfi1v2fmY02QGrtHHjjHdxnfwdBABIRVM//j7zsxD/MXQ1syJf9tNeKwbMpmj66BW/lq\n",
       "n0oJR7nYEQ9qjdofmbDodLoXarUQrrQkM4TBIYv2MJwTI7Vs6xrb6dwesYxQXWZ6zqQMi8QqlNhK\n",
       "DiRvoCzug4BtHdk4n/Oa6oqEqKJ6bp7zTEZmn9u3PlpOBh8iLoODG8sqm12026U1CprljPc6MlJy\n",
       "quYq5m89+UZ8YmYIqJplgq0hZ0w+JNh4RFl5Cs4lh3k0ksgl6ahmkZrYb7xdD8n2zmBv7GyQS7+S\n",
       "NYGxCg93w9Ty2h8AoeL05D3cg3aSUWi9gx1gQ94qMx9L4l961P1F7E5sBcTDQdOXXWcOFrlTY0U/\n",
       "hIMR56HodZD37mP7Bn7me8Jv8K4RDP54Jg7fOo4RV5ukXlpv38FPDNP6id5iIq2/g/OhnlcyggTj\n",
       "JfTup69ucE65DzukzacJuxBDqohIPq7KS4H7IunlEqB7aRbvstbO/5ABpgwBCn7wIWR+ektjU2zL\n",
       "Zw6isY4AvjwOJlGlI7QnJgix+TgLl7MiQ1m28sSt8F9ouK37I11jTyPPqaRJ9QL48o5yDdZwXcnJ\n",
       "pmduexj/TQbXmX/qpEBXSewgIgMEoMBNf/yEZVfVUcDrKKPc5O3L5s0o3EAAiniojBshEu13fDxH\n",
       "nElmY0QMLff+y4MORULkCPimUDfYXw5C0dNB2ucC3xMIXKEHw+waS4H6nlLkLaxSav+7Y5xulmCH\n",
       "JLhP75DHYryelkGa7wJT+QbOJMdruhT2cLblOqkWcLtGIvN/BFtS6kr5UDJJM6fCtCwiKBe9Fdw/\n",
       "xoacbIzJQZ3SHGfmvuUIssdfywiwRlBlb5x113FKjR6EaPwOra7CkDeR3hILtHtUdu0L9a5uY0U9\n",
       "6rlmLBHPlzd2YyFOTwcrpCCsUjhBlKXzGMSgeN3MwaCsLW+7k5azPxiCCPlpUzHZjCVSoQgWjqvz\n",
       "kDeSYz77koue7TSQvuf1w3hCKFb7wbtcBgTPytM1ik1tu88IHF0xBceOAIhSWW6Py9nbH99raWDb\n",
       "tUAENca5blbp6FJHbrXd4vRqLYXz6s8KPZKIiMgDvCf5uVUw77beZYQoVwBi8ZLYSmSHopP4i8X2\n",
       "WZfBulc1/bf3l26TlUdZSvzFThNXTOyrL1dW+pT1W0gI/r6b0RW6VTG8U0Ewd0ZV1yPAQRQ77Y88\n",
       "mkELiglPWT6w4XkYtg8TWAwgsjqIRLdsj+lMdxgzJY6iX9IfI22dz53hT4AxoA9U8/MUTnCLLlmn\n",
       "RH1E5xZJ/W7ptTrcLXDOV0x1+A8nKi6V7totBQKUnKteDgz4hH3s6qqTry9rHoCe5wbftzddLayS\n",
       "Od8YzDhex8/xTzZgm9H9CQo6mTPJ3ZH6TV9pe2jOlBtD2Efz/8DC5oPIWrK40g//PAzpZsJXktL/\n",
       "wDiDjuQMGlqF84cSKTEHFTwXZ+v+Z0dIE+RGksAJR/XFF8HoQI8HL/hES1Z81GmXlvJrBwbrLZNP\n",
       "T1opAMZDAocu/E2et/joebPixyM/IIcBEz4k17D3YVpuFkYvx7FVAcZfj1/CQKcDQPr4UtIkWvN4\n",
       "3tLodWFVpFCrD1OmmPcN5eX6ERiwtuLIlwpmZS8u8cIF9zgUsJOI0GihcD9+yr+V1M0AAAMrAZ7k\n",
       "akK/AVlxQAPXKmojfhvVh1+mo0eCJpH54jAd+gBY78oqwbV3h7hIXWU2vXwtReQDwlarXM1qY5gk\n",
       "9Knpob/j6/nHQ8InnmvAjlpE+j2Ki7ELuXts8cgjKS7TRclKI7A5rMQFEYF8C7W5jih1coVinrWj\n",
       "2fyeAG6Dj6w4sAXT9IbLCck+AhVSkX3QbaKTEbLMAoci/rD9PKnTkdrhjSjHn4KViSeJk7ZrYaPv\n",
       "ycomOaTThnbA50ZaG0ax/k/IjakzqwsKjn1Cn0DXBS/9OMoqggm2lJ1g+m62k7N9dsC+2b2S7XS0\n",
       "Mzv2qH7xu0CT4cwVo1PpCq90evSt4/wLYWVVMNN/qow2AYf9GclywznBj0B824EX/mV9VAV7JlES\n",
       "wHCTEES5TyrW6JoW4xosRaqR80kfxPDu4lCsIIvw1AFbDmAu7N5h/J6sJaPhDrsqK7thj8yZ/G4B\n",
       "ZdL3NsWiECX6Oxud7QTpweT2RCuNezCLFksGIzNoAAAIghJMV1NEMd1CA22Lo+5x1dYGoOCinA4R\n",
       "QfEWU09NBM88tS20YM+jWxC6gvMlI3ayK3U90L+NU3BfZ4dSp0zAT+7WiKE6JFvONpBMKmkWLEPv\n",
       "hQ3/dG0aZuDqIJ+v5jQgilbVRrJmtAnusDrIGPf8mGuA+9QkSLRR74WCJTs2Nstfssjz4M7RKcxv\n",
       "+Fej8hc1stqAM2wJE6PdKWn/LNBrKZK1+qpb2G7IOaONnxTnzLQkz6dMwb+dJi8Mq58kXlTkruur\n",
       "goAxPTUm7Go9FXO+xXy3qEaZRTMn8IutH6j2GLVpafKs5Ww4+2AdsLIT2i9buPN+cnEb2heS33oR\n",
       "H4Q+tYiTXYmWlRr7jmQ6eOcawYEREyEbvv62a0d5yDRSmlZd2VVpU6IzOV8XW+sRL5BRtuLRy2yG\n",
       "h5PH7XqiiAi4fCHZPW0QtSkiVMZKQ+5V4bB2HmnzaFjmNfR0EcFku5fkMHiBN5UCtDYfo9qYhvrc\n",
       "J63djDSmPKdarqfKggHbaq/UjUVQ1oR2LGrL2Sv0AoFbdNn8CzHSbRpA7xb62hd/JanDTjdFZ0JQ\n",
       "BIgd/xWWoezbsQAABYFBmuZJ4QpSZTAhv/6nhAHsZXzwhRkE2B6TvgBa96nsrjv0Ygg55QHQp4xO\n",
       "FIl+xDkMDDmPAKv76CsqRACgJtXVd3JwvWiqeTSoJd+M17+WY3Zo0CaOr6a1T1qkeNdTI4lcWi7C\n",
       "hHOEGKCGxusv/vlQj0eTqTHxp4gDV+kso0E/m5/XlQACyPNB8WRla4x1D/bxYeF2D819Ie9F6/o7\n",
       "mYQ0dtkkDAAAcwX3+bFr6Aokx9aZiw13pdUkHYkWwzLYwubJ43Zk4JJfv7ZJrFMNYMH0CZ2YXywe\n",
       "kEqKJaoUcBUJnYar+I6VqYdUajcQyuc+865R9jkXKTjnQeUykzXJ3bhqJnf/heGHuJ6M6oCi9tAc\n",
       "KE2OlmfSFGbMZpHOndtQelawMMk4IneGGvHmRE9eGcllKZcboinxcVZPHWHQoof2JiPULTpEPNRL\n",
       "izTFs+gOibdyXiMOOFxw+zutjxDZ8AqJvJ0kTMkP8Bj02bWuSUZEkcxpAB28nZ4+/O17vbKFlTJi\n",
       "SE67UPHfDq9R1Np6VMaCuRVtTWQTmhFSWxoNCSCs4cLR3mZ0D+GbjPkGCAUdzv4wfU6ii8vjWpva\n",
       "PDg8RRXC6fjC9sezKNSe3DsJ25TkUnfbV4Vy8EgJnQeIZfoTZuXGQrjTT98+vGOSxOEKJmxG/21r\n",
       "6lbJl0c8Q79ABUlwOullW9qAOn86YmfLAE1qWqoUGc0jE6oMGXufHRAFHxPs6myzSbfHGayvyBPJ\n",
       "2bWc1rCTHytr3vmkqJkW4MwOzqL9p2H7ovUbzp53vSGcff2Ep7+6KMTR3QfG1JnoeWDpXVsd7kO5\n",
       "ngZTaR9mGaBwhPrap7mKl9QHfB/QqwQaDfz7zV+HS8aSibGC2jFjbXaZm09DMdAIEuEjXcheyHi9\n",
       "uNZeApvlg1wuG1XigzcPT7GsAB8YIPBYJUVFfTMUG5qIJLpY8L+BsF8rEBUlGPhz0SE1nR9RHfRi\n",
       "ayndgKMHe+a72HFiFzlt9NNEcGNXew5ZBgCOiJnB+LZD9lDCd1Dl9zJVme1MaiDGvIE2bv8hGuLO\n",
       "z6SUiFFDOTHRri3nhEHEgbbc1vnKBAypoH1HmLRb9y0Vm9VXdVxjjqNkMWzrnaGFSESbcIoxLq4w\n",
       "PWzzQjq5PUlLH8mcQAbnx3+t+786bt1CL5ZVh4aCo6GWtwWzRJrafADrMpfvs3u9/kJ55hnLPdmu\n",
       "5tDH6NrcZBRZb8h8cZpJ5/7qO8wybdKYbL9vmUbtwz1A/eDyRiUQsNfhdl5V4pg5OK34vp1E6PqR\n",
       "G6aOPWw4htoeCh7xWS9HsZnnXe7LDrJTGtiOIYoq4lO2gX01GKEj0/sCOYk7O5FXxHoEP7lOlrbL\n",
       "wjUo2Hi3lv9vvLI9lqBn20YBicMPv2oX16Ow+3xkAR57L/26AJJaxL5n1iGndqhfdljgf+3MgoQz\n",
       "zNuVDXah8xka5hX4rr8e5eure9FkKiYEkLGnNEkQfJM33kdrb280FJzXHk2oFD3Z3cdo9jnu631s\n",
       "gamTv7nuY/NOZrXvf1o/dWOV0d/h9wEeEWGydiMG6uUSfQKxsc/1mPaHuZXs5xRUWU3KW5rhRcKX\n",
       "s96x2Dib+L/d1DQHaZMYbCn39tXFjlkm54fAuGIBBuLNBgP6ohAty/05azGYXOwFKEvwi9nM5T4z\n",
       "ZLZ7SRLf5TgAdUeVcPcBVZROtN0l0jtvPS4t7UHob9/JBQxKK+9MU2eCwI/Ryfk/bF/G4zv3khaX\n",
       "p8eUFJ/Ss5qr2XCbMofoSI+tFOoiexypQmfUvkS+Y0lh+KxH1s2ZOkr5UCr7Ge7jTXo1/lc5CnX6\n",
       "qexwuetitSFlTeIiWmv/8xs45bLzfAEuIHOu+atI5kPgJAoU6a6AHB71U0Ooid5u9z0uMZouIQAA\n",
       "CudBmwpJ4Q6JlMCGf/6eEAcGsAJ4/bf/YHdjAB+6xToieCbnh3rbay3QS1IttLLcQN5NEpieF4fO\n",
       "VkMlQskNfkzyI9P7wKLjBW880Bzu30zMXaxEyT5STX+lfTKATlI+1wbcusRxiyqABA8oqSejgZRd\n",
       "Ot9fXW3GmQCRUNs5B5TfiNX3nT4l+FKVmpTPAwTjrMO3Mhu9tAr756AOb73xpCcVtn5G8lmCxONP\n",
       "y4GnKOXw4KZS1gv/b6bzNLDACu6buwhIjckDrx9py3sa4Hwrt5b+V7ClNDgFoBilR1Yh1vl7Mmzz\n",
       "1s2uQwNM9om4iXxLw2Z1csZCqBsXHzHsu/l/YcC/yoDnjIytcOqqqB1kPbBiqekKBi57VG3vZjWL\n",
       "YnJH+bEkQeDLwAt38j4x7XR2SMhk1D7rV3PHVoLM0fpMbC2zjRKUC13HL9zkBnH1NU7/JW1drr+b\n",
       "e3A3XIAu5zmzrO5CoKcHd21alwe8yd3Q0cmZDaXxr9h+b968kUlGdvMncbtp5RSc1G7XrDAwpsjM\n",
       "SnWmTBPHqsRDJJq1ERepFA65Igg8bDWU+EsHG7Xobt0vOLJ8uYcD5+rOsiSORHuS6P2917QaEvPw\n",
       "U4NlqKnwy775I6FQaVaHKgC1148SoXcR2c2q4GNii9yJZKvKEp+xfThn8bjMfAwBs434SnhJC6df\n",
       "06h4SRy13DQwqBf/Ixh///9Fq2dfUwU574mD5bAhXABqzkD9wyJW8Hf/V5rIunPQiRH8PTXst4z2\n",
       "1uASfXFFqj2yuJ7a0FEHrVr6g09pTAdjczn8MyaQIzKSyaWVzspo+uu+JLfyosMgc6doMX9B9N3O\n",
       "xK8hQHOxTKYfNSEA1lpfdAiOXPIS3c0gIqeCS9qaEI6tV9B1/3Y97r2P5vQzKAAa7KZR1UAIB3Mr\n",
       "SzMckRbdmsSSxaKruBUTsm4th+YxjOuxPwuEuTcINB3tIV3dpmryBD523xQqc0+gAjid397wzTTO\n",
       "fa4axF/cmpinKLyl9ribJl+iraW39xHGieY5sq3D+c9/xOyLOnY+v/bOsvlZxVXIwAQwH20U+a01\n",
       "60Fb8guYBnTQymetJyLYy4794TcfvjJyttOMAbY7Z4B9VE44R1z/6WK3lpI9BxZoKPVKfhqe9o85\n",
       "4Jp4644TCPiMGfru29Li0NZwWf32xQuaFDP32YbGxDA29VbwMUlp385sRNl6Wjb/tELq3s0Y6yaN\n",
       "CRd9Zr4XgHLRFMZ3qp6Ys0EjRFYDH7Da20OL4v8OoaMpYW27ueCPpv+eJueCPxuKD86E23I+Tgih\n",
       "sOOMdo3sTu+Rwk6mXTmYrjZuhXasc8I8gGnbivaMwS7eg/7S7xlLqANffQSvwO0IJrAHmsd2l0gM\n",
       "KDpKgN2IwKn1wkkvZF3LVJvw60btZOdo1oK1vgC0ubp4xeESsfhCToouQhHYeJVYwKtgiCgTC8vc\n",
       "aIRZGPk83JOtOvvCqmR9rl7K6QIj3m5C04FiMZbOCxMqTidiRzL6ztNhveT5WCe3zmT1Tlnc5r9P\n",
       "ROv7Za5iE0LGguSIxiVpchQ62ErI2V1M4FpytYNffWBYFASnOz4q4hl7yVkcv9L79uBR2CtiSUZp\n",
       "KZayfiXBxrV+QGq3nqb8qoQLEVR+SFyDIj0GlhHeV1bK5O0KVMR+7gdmWsFeAz7ON9QJdgSPerg4\n",
       "jdw7YSIVEIAxBZuvQeP5b8RWBn2cZLxBt3eZTU4AxN+pCruMFhmisH9b0/0rlUhRBforDcLzM074\n",
       "Jl7yP9x6JxFBmQHJGHves/sk13CVzM9Za76VRvW2A58kfEwc7OYtOcLIRiiN8bwzLYXMa6TCmi+0\n",
       "dLzGHEijLIt6r+jG5Vc67PCNo3vLCwvduUFSk8pzSuHuU0yk8Ib9a2ZdLMjWnISWkRO7eawf2KA+\n",
       "+Cx8dt7GildCIrgzVRnRTBo2vBhfxDOo1F02TTJD6Wb1GD5OouIpDybFwWU51wW1mpgUoqAF3FEp\n",
       "x6hO0JFjePBI09UILbhq8dwVnt5WDhlTa9wvlNAbekvzG7HBmPceLkWc8Fuecnp6b6GCkSUL/oBm\n",
       "boczEnILlB+ZNkGea8g3uxbKf5Vdgd3nUqmjswe6ppxPR/jayQftLIhtrKGZh/CXaY+4oVBT/4iy\n",
       "r1if8hvP8UDQLmcQJ54VCS1vqCFA/SvZO8JBL+B8JTEZY/y9SZuHZkZb2dRrpKeVJZPsFfUXpHo6\n",
       "Dfzq7NHrs06h0ZkaEwNArUVn9pIGIsyJNrgWcrZBOYFYvJ/wEn2nTvm/P4GZTsVpEutmMJP6nHJL\n",
       "tNkef3SDI52YwBEBnfoJcJ0kNS3CgUF5ee4hnsGLpY93FVaMVcBfreW+ym8TnyPnqGIyNRgmb/8G\n",
       "dy6lEtOnBMvnlufytu759Xo2+xdAteoDiutn1Z24d9R8E2VIOkzuOoAPRmVdvTf66w/2UFieDA0L\n",
       "KkHELQVMpYdfvVrbimHH+QjvufXB/j5FpcETVEF13tWwAgeJSkhhzJFix6jTV+EuEPQa7faRDO5m\n",
       "/xDv3WAyBtlMBvc9mR1kf2IoU3iH1dgR8BQdywxRb+HyM1FfgDFTy9Wv2s8/ITR1VsUnxYUi8NdD\n",
       "bed++f6YXxP+QxmuwrfaQHXHZkQjneQNozx/QN5vEByMATwtAX7Qj44JGmucq74zklmziy0GsBcS\n",
       "xO7nfQmRCTe1DTPndFfw5fSmPdzG/rMscadlEoQm6Wt/5zekBHTaupIE0XJbADiIH396tEN1FofZ\n",
       "r1RiWwT5TwepRtxXg6dnDYIoJye+X+12ustEcO5CHJMo56+eAN6ssN/Az35Eauvl+x41mOIldtqF\n",
       "b9pZm6RFByJOfnnJYFDhc31YonA5U/fmnJXHN4bqTSaKCuoRB2Zyczd9vgQwhJL9T4DbNu/Fn5VA\n",
       "l7WP83/GphPT6BTTe/UFE4GVS3J1Kv2GeKQSsHQ6ljIrWbrNUY8iyup2NZXuvMqozDJ6VILeME/y\n",
       "fsbJ0AWNiYV9WmGc7/cKGY4RR2IFrNjudPcEDrpSOZeKyS0ZC2f63bo3pUS+hTOYGyKT3B06ZTi1\n",
       "t/l6IDvMKaZnVtHTEqhayb6iZ2KpEN6hNUL9ut9nxMr8fANY2KcAz2m2PynRdjY+nz/L0la+k82v\n",
       "YQ9XYItJHFBaHqA5UMf6Xjt7YUwskwvcGdS0cQiSsjpzle4WnEmYsJIKcFd07X+E08hcLv0dMctg\n",
       "VqFDMHtfQJof80S5eMsCQXT5eHk2gu2xZTdYxvPYjY4mU9wZoxUF26e/9p4uU+XaNRrAfihh+24i\n",
       "WX/sGrC23HLLo+AWYTFS9ZWxLD9jCFZQpYXFZyBtS7KWa/h+grWlvqSQYq3AoGeOcoJLb6zM9m/+\n",
       "HiHH9nMBbNaj4NqvjKSpxugtl9RgFqWSJ335UMx2VT7MUos6JuVQf9RbauqKhh+rzy5gAkFDLLGe\n",
       "IimQ11zrtvp9DLKVkK1C/iYwnVAFfKhpPbRnJ8KEBqXTm2MDByo1jCWbhUd9xZL68oxiDDIYJfP0\n",
       "ndtv7tfQonli7+ZUnRDhSqBvFjVLB/Sii9eTY184aK2Q9rVDtGygKg3BH3Naa6/8VLAko7LnJzmK\n",
       "r4Akprl7kAl5r6AgLWuPb0hqncEeuACGdjNZQ9ZLhuyEg4lJJvT53xVuYSiJaWedInvMZfZ5QIgS\n",
       "1ilyQvLpgy6aTRjXyx7gJz0EeB9v2nlgGVzbqV8i7IyhBbPqp2wuq9FDGqm3wnhw4WWnniplxSi5\n",
       "AAAEzUGfKEURPC//APf72C2HWUEs3Fc8WJR9BlYXiAIYqRXXCgJ8bWO9KcLHPiTaNqZljh4kW3DZ\n",
       "g/m3NUg6ARfTfe9EJwcLpM3O+bcng9DfWNnCc2VD5Ak93hdM7G65aBqNYtztSk8qXCNeWlWMbXNM\n",
       "Eo7b1t7SFhMLm3+8YuSq+OXSCJmECrzpNLZv9xDYML1eZIXbeFwKVKvvOCp/KXwYoYwJEQsgryPH\n",
       "v37iQJosRRw0Ah1dTxNS8C3Mn/Wx9e+wrz7a95TsoUvWKBrRr6wTAojiOBst8nHO7421IafIzzqc\n",
       "qezQkahMlSdw7seF9dTD5DjnetU8QYJEH3epFi1okXJaXI7EQfATel5rGa0Xs5u5OQwhWxkxXBLw\n",
       "1M2r8ooZ8JAubvFwQjafaBZ0kOTfjmB9Y+xpv98EeccfNU3pV0U9laL913act23oKR2OCw2eAA4R\n",
       "CRTfVVxu+Yw9MLYDeRuIaRKrzmHvrF+bieiqegy1OmnFolVHfrpuLIyTIz8zmmcjYChClmXSczQ6\n",
       "77Mb3Tzz8y6XmXjzOrOlLRAMhDojOhd60iaSPJ/CbBQFYP5+BFW6MyiGdv2M3oyrpQZlzamzEmI3\n",
       "BOTRuOBgGzsgXgNy5L/32qtIXWrGZHG1ILgQq7RQVqE/WFchARGXrtpzN5k7f2eM7pRMSQjBGJ1F\n",
       "N9FS8XR73mysHlHuJkAvULMlSX2PNFBr3bUsOEQ6On4b3cacfbXGcguoElDjShirADqSCQ4rul+M\n",
       "EZcGQ9UaflsOuRWEwhhKK8hVdtkebXxNYsPEaMXQaLbEPdmlLdSBtoqakRaF3y95i1USEiW3ltx8\n",
       "L1EpXKnY+iWp9PFR8I1wM9YiO/wgkBwPT4Eh0uK+rotiuBNi4qdHZ9NF8Z0EToZDFUrI4xqDnwzj\n",
       "wSLOtpyoelolhDGzJ8ytf/jUYiU1HLWp7EfWgvxX9aUG6L6eOxSnNyuYKTodC02bA/cjZpyX/Dx8\n",
       "suHxBc1IlIQKR5gAC140+xE1jYk8T7/dTYl4dfC4/1imCjK6LujleSC4c7GgK0GV7p8jeZnNLjmh\n",
       "ANoqQNYt87rRZXIxGR3urBWeX0AIqIRhjUjK33phRDny7RRGHAQ9En1dkvwspeWVRrFgpNFAsgvx\n",
       "JPbPLBeAsUoO5EAQhFfS+aw5MI81+nR2s4oJtsngHXnf9FtJxpJK7eHTiy6Z0sxG2knyi5/P8r17\n",
       "142VE9cvBeDbEizm7Xb6rHYznWVsVUYWaeOqHMqdLHE3ercFFrWoGGE+hvG9N4h6NFGVJCD+IEsm\n",
       "XeTeC610IcdmCkclmN1SWkBrzDMIOi4gj2Tinfgg6gpQApQ91VSjuZZzAQT4jL9pLekn88eoFenH\n",
       "dkMTDovhisMA9RyILE9knQ61H6s+HCVQubVAlysgXjN1jlpdeR90brcJT8C1LypLxHvE0SVORO/R\n",
       "QMtZGni3dDOZPtKcwHvikfUMhbIpYdE15Vcikvt5Anr3w5SoQ7mZFryCDPa13v9kaSGpTMzSNYNN\n",
       "++I5scIFVsob16JdQBwJJVpIauC/0+kDi4jVfAcF+V/FkNLFLbzZi6dkP6IWP9WiWyun3EeYwcMg\n",
       "D5vyu8tFCuWDy9FVNl7VKKVhRTaHyDyfd4foUfRYxKhhEsiYAAADLwGfR3RCvwFaS2O9+LFgJbgK\n",
       "smvbarABxNega80e2duwHYpGAsVS+D//REhUvGedmpw+RzZUGmE3Y/Tw832J7YPO1WRkBZetkwAg\n",
       "Doi06VW1HkjBuhDt9jiFS7/77pxNG1HOkBAR+oLdYMnbzqZ9H2iW1+Uz7Nv5AKdt21r+YSpfPjQD\n",
       "iGCkuMIqRTi04DtefcZUD8Y9iKf8r0Y6kZx/8CHVg/lQxPIlFUca+rsz3k6/QZHCndcYY4Bveo/G\n",
       "phwO/JxuVxpXfp/oGRcbq1xKVuGaMhX/WzKAt7MCXZOXnB4kmwskPJEVph077UwyV9p//FqYMdHA\n",
       "kml/S5pZwCy1zO+XbpEVbcMdMNk9vG0GdELe4EgYQeJLOTUo/3OTn8fBhiZMCkdWnb8DZk0kgofJ\n",
       "6i4drmCJamX4GjFCYLaxz1zE80HVkLNORqitunq+YRLxrsX9JdP/2nDFp/dRMBbC99gLCyAAbATT\n",
       "lE7kvayFCqaaR7iiiMKdkvcNf2ZPC+9nstz5zRll/mHK4e8vCmAyms1JvwGhGrUtD2YYdMMdsz49\n",
       "RDS5VejtWBs03ONxYcLHncRYMyxUWjVvuz6Dp55KdBzthMaIThNx0uFRJXQ3O4oRxpiL7g2oLItR\n",
       "ycjrqN/OpZ4wAc9nczdV6wE+BKQ1uFqNczyLTsRcnhNPq4T4Z2weqoPW8rBY+BWsLUYuIB1YH/RB\n",
       "KBTNGi6ruVpuZvWk6s72H+REUuITjfzTztrkKvVjnkVzExTkULjb2f+Ko1/fXQ1BcBTpNlaw9tQa\n",
       "Jlvvhcy2RswsL80QW+0yBQ+l09KY6ciPS5Wzk00NesJH4dU5ojK0qWxZNIZ0E6/2IjgL2HyfVXa4\n",
       "XSkF0BH7JbuF/V0hpAuEq4ish7GMHwCsFj9278gSyYPiNqgMqCmGa3HOuJPbuxMDJf7oRhoRQF9g\n",
       "hs/oFR5wpE6eJ2ZO0koajGC04PovE/ONlj4I8M2UuxRHfFZR3ieCKj8PdLKRFo0eHYNzK2Ne13Iy\n",
       "5kkHecmLYXokwvD3c1IFIlQn4GxF8VyoaKmP1o5Uei8lLf+1C1U0PWSswfCeNnKzprYKKazTrXAo\n",
       "AAADVgGfSWpCvwEu13Kj4MUIdItKNIdyAIWy+gI54hGp/8gpeiJ7+ENLU6X5HI6dTSj2ShJkqrTj\n",
       "K86cjYmeqpCetLy10sEGJtaRlCBc61ZonyiwBQLlqyCutCgzZX6Mkc5d2ot9x9osu2c/JpFDzDOu\n",
       "2nG9aAqJqjB9y88wS5M1QdiS3i/12poEgG065OixLC28O4/raAK2Y/s/4Isne0CQNpotIzmXz7jS\n",
       "3BpabrNQaguZ5umH9HNNW6pSG9/Bc4R8My4GYW7G4C5vwV2dyfKzBH5iuxwtIVoYjFs2SS849ua/\n",
       "CT26ROK+lbtcq6ZftNbFkzqCduG1aaMOttV+XMLbsQU4zvJTl/n4h4Sz2nAcexfGiNqmP5CGNG1M\n",
       "rEiA1E4TuDjE/2VqHb/5NZU9uvpfcclPFEPo8XfCt2g+1aUpCA3Iu/I14vA42iQk7eNv49IHLb+U\n",
       "ARFKjhCL2haIUCaq7EvqAS2qTlwlGQ2SUxiLuxIfTnqd8gbTd9OVKJNGfTZKQOmHaIbIEMjzmtpe\n",
       "7AFTUdDG5GmkqHLdHtcVRqrHOx5FdTa9+xu/1+igIf5cZ84rypBeUya8eZqkt1TV5DLAgjD+mcp4\n",
       "8N6PGpTX9RUTlJFgytABKr5yun1xF0vOeux/xbjIP5mQtUGd/vCb/4vDjywFFo0hlkCOmXasp3vS\n",
       "Xj3zp5qWxD41/q7NG0SlQkM0oe7OGohzqEkczv0NeS3NOxVFBmPMQkj6SDEqYWgIoHqYdEKTQj2c\n",
       "nOFRXI9Bzp7oTApNQfzX6Q9/NjGFCxYODPD7SVv/3wCwsUj/vgZcEYoJHqAE4V2NT30C+NV86xE4\n",
       "SSWouPzvq6WYc+Q4SUqhRZPAN9UmDTWBghPUhYYE+YTqs+zWV2JPpKlTnzCCe0CggCuv3+zjaZnd\n",
       "IgrM5hbRevLxctCOi1wVRezbtxptP306xSuBt5YSXoLcqnw89Zdh7X+rVhz3TvtscUAtZHN/+/JM\n",
       "ac9XEL9AwuO2NTEG0guikWn9QfzRzMPZZC9WFKufZ+/7GTQcZMU7rJkXStudCBF8YYOe0o+aCgnW\n",
       "tXjo69zBquHx/CUwG4nEwyVLFLE2wNOS+6AG8cAeQl1xIuSh2/VsHDGbsPJuyIFBTTARBqUlS8kH\n",
       "tVExAAAEekGbS0moQWiZTAhn//6eEAYIaqy0JoUPUV0921sqzWTLBpDcLwtCaIAQIdN3iBh63Nlk\n",
       "OWxMqjwULi/hU49dvM3kyrVHBe5SwYXhvp5FNTrY792v3+UsVlkZclq6J3SgNEI/IavOaY1ONAN7\n",
       "9eWKpkjCC/SSgd/3ny3IG+s323shwJeHQkb0oOBrCZ7zf5FL5xI56lGK9wuSirLXD6nyjDijQ0Oq\n",
       "+GHcon9285PuiEqE5thrdOiGOBq3PyVH+puDNz20LNERtf0Rw8v3eZlQEaWcjLa/WRv43jnf79+v\n",
       "330MxX9Rf6mx5rZ+NFnYDW64WKfF9PChmjoLcXEFcZB3JwT7m4fUVKCAYlF8SpDM24R+oBJHkwPK\n",
       "NUmjOmqXRVHg9WBYwPPh4dFBoASkKo9HeAArzDAqMZFeyYqob8Q4Z/Vf9W6tonYAROIWJMkr9tSc\n",
       "s/SitK+BXm9+HNV1NQUOK5vVRxFDnnP9oTExDyN/WA0O4czuqA7qq21RHEAIKQbcr9EHdh3Xj3Yo\n",
       "Yw3VEPyv/TJD5WCIRSmSLSS7jl5Njlbvz6S01oKLmNe86BN5Xqotpv1vibZGC08/00dtTXUIffsC\n",
       "Mw/96G4qjgSzIAyrl/Mvyr4/EdpEGzM/BY4NasRTioiz3ORd+DFDzcsy5UwsjLLmL/vScRnhSH4c\n",
       "DnZ4S3x6xpOjGL+u8GvGI6Ov7vvGTzLX5BiwzdGP/yzamyD0dojKMHslZ1QIVnRlIuivUvQH/ZZW\n",
       "sNhMfTtsURUHU2k7Ggp4ENYbE6Qp1iCmtSn04EJp4lfoujo12rQUBMCR4m5lSxRnRVUX8+CHYmWF\n",
       "N7iEXJAucsxdoydtllRnecAytirMmFi6ZjLUb0Gm769Pmxd45n19lyOflENPvZX2NCk+wCxUhuXW\n",
       "jPvhj5iCM4Y3xS4Czl3l9Pec9XomvuqQEpgC4uMDN0CGzom5jMeqqHVNhFFUVjkM0D8nFy3uGJx3\n",
       "UXFiYHNuAF+f4wBHndbYToct5YEFIYZN8Ajv11wQ1Vk/X6lWmOAQaiDxHCbR0QTifuwozB6wSC3b\n",
       "/CtYPVk5hoaLt5opLwE1GDuM69lEseYtYcnEiG0KeYRitOI3Ox0Vpw9RdBaFNO9IeFzKUjd+pzNa\n",
       "uDPOOIKZDY/wdGb4Xpzkw+xNij80JGWpX5pnjeKT1t6nrHjAxMiWqFaPYaoHngI/zEI5IM3qF/V0\n",
       "SvIFSt9SkiTzzBYxcXs392BnaFxtNcSLSW6FF0VEi1KpHQPINFGuKfbjuOL3jQ769mA1Ob9y/lR7\n",
       "mDDS+KynAuyFxMs+GeuB3emDWGJlSeRy4qQojD3+5FgNIjHmRxwCSjdl3QvvpNGqLaA8TRT8FtPp\n",
       "MHtdxaaPDtoLpPAMt88hdO3e0ICouwUWleJzCOCzwUzfyWeDPgpf5B+rIrTYbXCz3kS0gE2O4Ui5\n",
       "WuCkTI2cSs67HS/WvL9gT+Zq4A+qp69zWZcOrBFdk2foXM1dLyKKWaIUTTc+82N/NIhql1DjYIAE\n",
       "CSPaVQChnFe6RHdfwAAABw9Bm21J4QpSZTBREsM//p4QBf4+2iyeAyp3TUcwow/WwALhsbamgT/I\n",
       "HFcSm3ZfnbBswGEX0MNlFebzFS9n06mq8HTPEsnHP81nTUlao0pGD29m2YfSfGYMNL1hNVyjeEQa\n",
       "yLPcmhF+cAvbfQyCjBPBpxXJ4R0DdkU2hNYfeuF4QDIj70o7U8prr5z28po41wj0L3i/DNvufpb3\n",
       "qjvQotOyg8GAnzfu+AB/Z2y1sie5NysaqutbN6EjOqGO7MhiZhUPVV5qNFcac5f2KKgnhipTslet\n",
       "NjMMENnhd1WWPX4tDg0Nf4a/uCvExlt3OrAR9Lrt069xsbMWyOD+b0Dcb0/LrZ5/9VxmQKgYJnDH\n",
       "I8n6DeKb/N8mumW7YgBr3XpHH1UtJk8RjDJHB2A92EoqcMfaMXuTydTX22C1Ot2SDQCFNeAbS/B1\n",
       "1djdRtiAGLe3QZkovbzdbJdakGEHCYnZVJczFlz4BKxJvFptHJfaWGiGplifzWJpjSoAryBaYi2H\n",
       "e+Ot1kLfz4QoHjc9/34YyLPqKdqbYF359Agl7ESLmYFve6NId2Yg3v+pRsamKDIUrRrrAZY3RCMr\n",
       "KpkZ9urJ7T8kzxDdFmZIG//gL0hAatSK8A0S0BwebBvu1uY5cvUuNsJJRClHa06ix1OUo3TIJ8u1\n",
       "zsvngMiVlYzmQIKuaWBJ6cCPfjGkDIBFWIWX+jmT8eaWyLHCrnR+kId1YDdUrn2WY0eTJvrS9saV\n",
       "ng3hVkobpjeox3EGmErHw/IOgzUPFseFSuj8ZFpyg/47JDG/b4kU9iVUvQbR+f9lyM/X1hcrIqG1\n",
       "orM107nvaXT5KnZf6G7kIZqxABfuWTYPzgsu3t2PIAR5Id5GqNomnD1O3zyMym74/n66IiAin2oA\n",
       "X0kVddrvrV1dX4e8uVNcGBeQcjTbaxonducddE0BsIua1y+YdZDhIX/1faeiwHQIcdDjNYBDgXeC\n",
       "NX/1NPCuTTEHuHyR44bzq9Fs8Jzgpo95c2HiJOs+bGbTIeN1r112uo5S92UVJFRESTY2puJraNh8\n",
       "VIOhEJaP21DIBWGpM9Vi+hBQqtH8WMxOLBY4J5PMbU3cOf/Mu/BGZ3i/thJWzN1/dNTHDK01oxAb\n",
       "GXgBjS/TNxALRSuovoEKqZxcWktQKOs4MTcH5kYEtA7opMEfupBg1yt0Q3Zo6pGef0csigIrFfEI\n",
       "o7WNNc3EVPWNSQKeSyGCz1ZA6StQ+XCY4oH1HCctqcKoNCeltC2H/0tGl+wjKP5HGJxpMiad7tDc\n",
       "Hrblbp+fGftVc7L0wLxQkLby9n2A62xHZ4Z3v7IKaAWoCg3DbJw4Tt5inWTYz9NIq8hKdEF5y8L5\n",
       "6ICXyLbXoxCfQSf9eIt6JWCrwRs+MGDNRlBOhF9UX2iYkx9cWslpdCYMLA1ns412mZ7yzzD8My0p\n",
       "37skhXjWLOe7S6Amp80cRsZMFYS2wz1Kh0zQ0pIINXiSRbnYe4Msjl9z+I+4xV/ji3o1rrzm387h\n",
       "XIfpgv7pi5DTt980Au2NxncNz1BpPiccJMN8+wewBrx5boAP4jT92HUUaMB732GFktxQuLZGiF+e\n",
       "4IeglGwTKNAReuGejsRy2flYEntnhvjrWdrKeJ7hKITK+b8h+AdFvBfzgT2QE22QZnkRcteRPCL/\n",
       "DQVeBiz6q3vafSHOK4s/q/NiSqpNuh9cUnUx03FNTkQW4UWeshM9i2UDMYL0wKpmTPDhlvagz8wn\n",
       "LLaVsrv5DACX2wEYo9rR0aD1tGi6USNuxGjXyuiuYz0iiuiQX7FTWcRgWSJAxPHF043MDrftYeXE\n",
       "N6mYrFmUZR8TIInJu+7U/U3KpBOWKTJ1JivuDo7bykHGB5VDAUSERhNFqTz7viX8y4DpeSXtZ7/e\n",
       "2L5rI1oix4IUA3e84jv4dx+d3xZ4Enk95aZdDahidCYvbI5SaH9Z/Zxgcx7Bg1ZxXoBLBgO45+Yt\n",
       "LGj1GwabPA8Y2TBDujgyEB+tjKb22hFxvBq5P9WNUHHIfY5r/nGK34t0FB9HI3Wv66Rskz7EIhoY\n",
       "rd2m9v8HPLPwpOzB0v18JzAcaqxHdstt00p72yaL54KlDABTKF69BxROpoLb737n40EsJhU9fR7S\n",
       "Be9arDamoAkjZUlD18qwpSMyitYxuBb7o7rQM4UfPrKf5EvWsFWoBt2YGRofn2eBufEpe+17pQFH\n",
       "IJ3+4f//ffxmup4AFfnMObqF9KOiPIbys0zUgp2JOGRlYcN9jr5Q0L/QwnhsU/RDZlbS+uyKBBTK\n",
       "mnN6Tv6k+OUgvJS7HE7QRSp+19UfEfzVQQjETp8N+QZreNkNTczDCgANql8OYN8ODStkQw/a+NGX\n",
       "mFmv7fq8WXVedkVNXy+JKAYnrWo9ueb2fQ5CI95cNwkNNyu8lVuJFdbalPAHtECd1g5SPTPuZ0+A\n",
       "AAADMQGfjGpCvwE2kC5R8/du4lolwB5/hxD6QlKwZp2OD8YMCm54wpfox69gsOLAAFx08fYOW0Mv\n",
       "N0Y/csLPCsBBvjy5PAvrxMQlEST3zncGtqaB6CobE70WXf1HsbjtXbHKHXKIRKvQpD1ZBN5TMJDp\n",
       "h4onoTbWz5CKq0745Q0lw8KEFsmDjsyrg0rUzk2nR71GAB8E8lGbwcsZ1yX+Nn7VV5V4gKAteXUj\n",
       "lVafTHJpsv9VUatMVrZ3GZAn/ZmfIqSV5DfQ8Br/QV2jNIikBPfxnyaTsicggm/cgFJWgmHFT4Yk\n",
       "Kh4dKF/qj1t3mbqPlPrblloBETiqFcA2oZlHfuoB50heKpHo6p5YAaH7/+2LtfgORhIaeXVnKmhF\n",
       "P8DwfjdcxLiPwqDmnKs/1CG2AmD5hMOgkfiqKIDUZ4qvxjZgxalx9UvQbhFlSL1VoaFtWXAgOOc7\n",
       "31SzmrHOQS//RwathW5prH49OHWA6tFZ2NkjoRhWGtFTOTekhmfsga0KNnYcLPtXwKxSEX4Y8R/M\n",
       "rMWrq/Hp4tDTtcb8p2rwPdFqyp9ZpSJFiiDQ8DrO5kUFQY6XAbT4w9GCLiW+6bDWXb1OiASlgqnz\n",
       "LfO5YzqZtk3DVRTASM890lvLNDf9r/10iVq8HXLWXdecIs8+z3RIwOjsPeTvTB32Bg9mquBeVSBC\n",
       "wlrcFSzo4p6KhVej1awUzu3UHRWR0u8s0NcvgndMZpxbQNQTF92z+gezpdq42QkAikpxoNGMV2+s\n",
       "EToiyKrq1nPgX63Sr+nmzGjR4ik2HldTgrNS6jsbEBDjM36Y1S68zwpY35IhN2SSkOYT/uqse/nj\n",
       "C77+U09N+agJfbn4GWdP9W4pUHrK+oXy2E41vQOiE27wuyf2AuXejKyC+Fpd4B4SuVDcCM7t5tp4\n",
       "Yykbfda8/PawmeU3crNqrggUhzepmoS08BsAQ5b7v4wAWJRQaZPPka0I8L19ZJQJp2/fVgTGwWF5\n",
       "ZCPzrJ1ohHtyPgz+y+PDQqdHfqzvfJ+NDEudCN5JSHTW6jys8GL7pevPR4ZEqJPT/+pm/Ki+BrLK\n",
       "jKX5l6t9zNlZJOBTkZFlWpW1nK6HE8sAAAYDQZuOSeEOiZTAhn/+nhADWu7SgA9n4RyMu3TwmHXq\n",
       "mzLARmoalMjRABjVagJdeBsGPR4PikNwqu7bgnpTkGKn7APmH/nxNEPK5b1cK/n/8PmcXCuGav+d\n",
       "IlJH3j9kZ3sbsGhvWlQhfXUj7NnrDG0P3WrQ2QUC7/ISwB0SiJjlXpXXbrUOeSAw6AdjYLGDrTeC\n",
       "Sg5wIoSrHngtNdbxhgoe6t03VVfsS8jyqiq5VinUrpSiRtB6THlz2IcKZ/dCP7LlP7tHxqv56jPd\n",
       "Vx8UzT4JRBofC3F+mg/mRSH6eicTDlySpuUyBsIsOkIB+tBuoMkTHt9+ku3TSrg5b4Q61NLEatcr\n",
       "yAyaLcRfTyiO22ylaEIRi0LAWOYq9sTn3gvkIXJN2I69qvLqYZFmqd3yZiStMXmvzBf28m2YqIbM\n",
       "UecsTcJjuL99ADuL4gTVPP8opW2+wCaUXKt07REPXITkH3kLJODBfhC+nUVosv12yX8mJfjC0ED8\n",
       "cyO++rDX/mauqYgE8iUwFxPdC7e4QkxszoUe3AqhmMfeuIsizl1YFkRTbTEz89wSKaCP4bUQyVpX\n",
       "/Ar98zq28nTLdEDury45zCurXZFfkYRZexnAfyYY1GMDWpFkxvLtrlb0EaEHwsIutr7DOEl097Gk\n",
       "VPpVc5+sdA3wSAWlEW5rgzI2Kr3vqdi4gyoNdbRVVG1h8CJdzQZcPnp9uJDw4A0op6AnNQnRWzLh\n",
       "cJH0ft4ly3rTRW2KLI/9AW6JozKxOEdxcmtUHeujh/MInKBYQoBxxK/yFXkoRhF0RESrlGmTpSl6\n",
       "WCG7va/zUSatp3mI/iJn/y39/YxjAtMr6EIpi7tzQogUtWYXYNSyfQWSAzxdDMHpCfVgnI19Zoeg\n",
       "CYfMVBGIFbcpCfFxn0tYl40/NuXvQP2CGfkMkTHS86/s7AKC+HoqCehi7vRMrzRt3Wl5cuTLgxZH\n",
       "6ScNimUjs/sd6UbrQVz6HeHXP1fSL0K1UXRkmIzFbVHQotWURFykbhWbpvlk1X7rdWvbAQLfW4c/\n",
       "xvRET8ZufsMnIz6rVlY09i37AbIvPRxsJHluTghTfxkD1SDAmizC15z2CpIi2F2v9SfpKfD4Dm1/\n",
       "0PEoefDxy7qn6vLcOq6nJrssOvm5+hHBjc6jyZhoQ8hr5RTul9Imj45X/Tm+9oIaBAAUkO/92q8d\n",
       "d3+gRqQyRYxLaOJoeLeaqTSep8XkiAcdUcKupnDgJ7YsJ2sB6XB5f72jKTmHJZuisAD3fQioLllp\n",
       "ZjGlb2JnMv2kfkTPe1AbagiysufpskSxpmeRKhPH7n1h0+cuusFUCnd30pcbYzV30Vl22XiavAFC\n",
       "WmDgn2CP9plC9durGjYbbccgxF9JIbZ18xcbs4Y/pcV2eP+ir6celvu5Pv1b6mTLIV6rYwBevgh/\n",
       "yjGbeSd42I3OOIc62SahONk23NylnVQN8De/4Tvsd/wPghKTSnRvKtnfjM0PeTVKfNOvafxNq4/K\n",
       "oegoy+kcw6Kw8sRFuuggJAVOIzugg0gnLjcoFzM+2oXnL7ogLb7piVuUZy3AVY7buY08HsZV7VSJ\n",
       "RIiAVnqUopAtUcQEUux5+EPk+I67HlsnfcCELEd3+oLAHUZb3vuM+ZtSad97w1gOzWlMmwGeAWBq\n",
       "CuWtgx3Cina7jvv6IGIgCEJrD/r2YRNotKNdke4naTjlXNkVpvRSBr2WIybaLASJXUu8gZJRrw0X\n",
       "6t5OaD+8gQQ6cW7VgAHTD6I8THvxM0RzxlMkwPlq8hTx8mYw8ZSDN222Sb1HgFV8uBsI/3T9gDbC\n",
       "ySZs1lYnOItRgEQO/2OcuEZnKi9SKvnfBw2qb2JGKIOcBgU1sg4vs0srDAyhTTbyejCVDDJdsvam\n",
       "FR6Jjf8ajJYwmJVbwpZDZXXZ9BfP27uOq9ptfrXIMOOTxUBIV0eYYpGqFKw1A4DXdvJ+y9vJIYVr\n",
       "6FiMgMFJoHShSJvFOC7nv6MqUR6vuWwA/Jvm/ARVLI4wrozd9QNgFRTEbmZftxL01avfyiKq7vtV\n",
       "/K2UNuyoors3YKZo4FW87pHh0c6qOREHGfHBAAAGfUGbr0nhDyZTAhn//p4QA1wkQZt/EAJd8lQG\n",
       "72xkQ6bhQR4DhVrolpZc8AJpQ+YJQUNv1WbRBs6tlXITGnEiyg5bqmvxbLRpKuYyPjIX+45bsHL7\n",
       "F6H0v0dTZ4zj+CK0AxrSGff/pYNtQ2sjxpRkAKBipWpo7THKL9JK1dlBE5DM0PpbVFOVI2LL/noM\n",
       "kSPif60sH+1bNPBqwORy56pxuShyiBjOLARW++5N0AtsbrN5mo/RQdPQifRvc5chutFyFfSSp+78\n",
       "pYIJr0om6NJGnXxH5mRY2pWxmthqNAzKSvzsVwAGD5LG+Gqo5e4xHKVx3tHaDvJzUXh9WfxesVul\n",
       "XwfcH//Az37fOHFQks1NCEvrZGv6MEu+ho+jwiqJ/o3w6ui4wSlkXg5iV9AgXdqb6Jd/8pbhrL56\n",
       "rayLdnteZtF/p+adfUgHKYzZRoD4SyFhrncfzZcyvAsknGx7rD/cFYlANVI8BnOxGd1rfLrbxAtQ\n",
       "lMSssDdDx1gk+hcwPxdSNl7sE/0aimQck5BIqh6tJG8NUHH2x2QSHPhLb+qau0t5FoNCmthPZPwI\n",
       "DLLjSXZNAeTf5vqrJaartRsXhneblQXeEP3F6aicRGMbWX2MSiCjnztH4gzXcRFidP1pLW9b1+dV\n",
       "+QyEUwnCkOHE9xqZ6+ktUoBvehO0n1SUzl02EstKjgRVntvI06OGOA1ILqmGtj3PRJqUWQyQX90y\n",
       "NwbgWG4RqezT9K0veaS3905BXdhhxCfkZkC8KWTgAjhW4XxHG0jcPV5FMQrsGQ+ANBCANDf/GjKO\n",
       "VVXmHDjnU9FRfekqrTygdPbD+917HV/bN/JJC19//oSUSt35DHMYNy4/+Jumh6vK0envyLv7WJwL\n",
       "XyGCmiWgyeFAC5+A4GqlbQcl94mwGjEu4V07oZ/DtG3MiUTptD6bh0ZINPyErYMHHd3999zcHdvf\n",
       "2+fDIbLTrhX83SZGr0gc8ojNsrQK345hf/zUMK1d7juxK73o9EWF6eN0zPXWsDn+LgF3AtzZxJ/T\n",
       "sSPC8qrC0uNUqMIXpJSiAlbyheCEX23Jilho6cAKCRnZyvKQ8ISVjnSvIR6v7Ytmr402nOpq8Flx\n",
       "zL/CvtiwfcSTUtgubNvp42Ebx5Q/n3R7SmMK7kTy8PYAgkb5MOxnT5FfL0IU4KlzUaEfRYQOdsHR\n",
       "uApSpYz1q93qxu07WTJYax1f3167E5y0ftDJ5txXU66E1Hae5uHsk6yHv2acFGx3fNzuVemdxf5i\n",
       "0JdCym7jfjWeRbjST01om12jytRFqcinZt89pcot8klxy2xezlIM1k8U+7ly7ruhYpoQdix2yd4T\n",
       "gFLSrrUt6d9hl864KH8Co0uYuRQEDDjhST8HLVD5lRv2NDwefjGNlDV9M9gkB4r61dDCB2XcaEne\n",
       "UdQcjLqruFuW6EMmOKhovlGMc8mOVnvGwK4u1LSEDmnHNiUdFtH4lrNrTiz7p8x9xFVjcXW+Sq/M\n",
       "X3WpJLYCV1Tg+iB4DOISUikfdPO0DT2buZvnz2+r7EvniYAg3VylJhzBXUS4z1g1TPfOMEwsK7O7\n",
       "tnu3eZra+9tIL1IbjlnNeE8at1+ef5VySVRtpjMtpYd6khnZCoQXa1XNShRim8F4my4kChVR9ZA2\n",
       "XWXdDijKDFuCExK8q5/wVEYPZEzs2lu+9rkoCz5GRLqyM1k8xvYzast6YmA2ndRu5NHgpodhGZrF\n",
       "mfpkECwDrq1V1XlkTStNuKz6uoAw0m17NnSD7txXHobUmP6AwiTdBYgoxl51SeW60ZzfHBYC5Sz/\n",
       "7BVEIrY45bT8cdDRYiEpy/WCftwNAuiU3j/XEKnb86YXUjAW1IuwqQRMXlXEWAjilcjm0xEDbpgW\n",
       "9oKExvxcjpfFlwmTmN2z5Ja78Ai8thH9JmQNHPl8FpP7KrrZ12qF4+29zofRPg/hXRPNZKAA8BCx\n",
       "LgdyEpMDiZ8Dn+SttQNKGhoOnun6cKgi+AC+JYFeMNCk5aR8vHHdHfxuVrx/3Ukwcu5GWi/7P5LC\n",
       "oGyjLfh3nrFzGjGsuR7Y8YA6q79s7OAdrNB8lB5fIi5Gl85sGv6qjr89yheJ8fTCiafArCF7HMZ9\n",
       "k20FUN42WCmmTm/nqsT1jarxdT+D6lENnsQZs69gS/6Iyf6I5G/Je3SnOYrn8FFx/tR5F7Ufpe0Q\n",
       "BGrMFABqE5tSAa1eTG7aT174bLFTS+Ltn3bd07EpLAIgGSOmCuOBAAAFNkGb0UnhDyZTBRE8K//+\n",
       "OEAcDo9oAO9g2pOppzWG/+Ap4/w4kgKn4Si4YLCNFT3b+BeevEym2QVMaUR7k9hf3uZK3RU0xQcq\n",
       "bw0XwiAQuHG1yG9XXTHcgrKtQxk+RYEIuaBewwupdNaFJ1SToIIF82qeDZ5ULEsKLymrQ+4ZFj+d\n",
       "rK2mRuTSMcOABLFJPCufbqW+8GZcHGskf+fGkuT3s1NasQIgcjoDVNI1B7GcvS+U91sNSrz98xOj\n",
       "hLN85xMBx+SxEN15yz1RJj/zzMK32qmv2xJfyP6xfTZFrEWRqsh09glm3vhBo3qD+VOMZSYGgAQQ\n",
       "ou8/LzQSYzq4nO6YVXOaA4VuZGY1T19QQ2p2dhglzaMBHGyL7aPOc4jlPMML67hhrl+MHhRIX8Bd\n",
       "c5v2c6mQPJJ8tBm+nLyzCWgMF6DbY1htxXcVyE9Xwd+ZeDPAH5+G/p0m8oYxtVw+x4wzaSBrFH64\n",
       "vfSrnpqyySyEHEnfOtnKBbIh/IvtiZD/XBt5q0TEJKrgi/35jGs7rujjWZtyG21AwYFTzS93sBhv\n",
       "y9pzXmiTMt4d8xb+sN7WoT3tM58efZqw11KDbGiMtxmFQ/cwNYbZYrj6BK44SK1mvTA87UD0qcRY\n",
       "pydjZpjTa7/I4mGU1tna7+EqpUFWuKf7tszPjdT5qeO6KYUXKn/Wg8HAHFrqDlMUuQNE9ICxV2q6\n",
       "a6oj/j+cVzvl48S1UIBYjuZsQo2Skh9wSVypL50a64H4rBmMKvyUdTaguXQ3BPsCTaALMW7n7uqw\n",
       "UoE9Rfq3Yxv3nVrQpNxl/7fnkIj02w4xjRtiIR1H0P1aLMjqFC71wgFqUlMqq8HIDUO4c/WexRr3\n",
       "yuPj6iuWHyvYaw+4RzIzm0IrWeLvyK7GqBcLilFopvCYdkopbVngNHzVL1/r5S21lZrRDwEMQZC/\n",
       "IT0mYCKB7uNa9LXReTM1Yf6iLYxgb2DhxTT59EKMV7fHfHuaMDVYrY7J6fi7Ivs31opUjlZ64QjM\n",
       "maiAQCoS7Hg3IyzKPIE0Ml3bP6kQwKukLKjlq9Ukjd/CX+WFDRkHGEtVZmXAw+fj+iCEGMZwopKu\n",
       "mcjAC5lX2VQmj426fbhWQYYmqchomBQ+DbG9/BlpMBH0Sghn78h9j2jSfr/qpw0dId0SceqGcjbF\n",
       "N4qlgHuSyCoAOBIVcLD/hHfAYp80NBfiqFioN1rpIsKKp+ij9l8dm5oleiVmiVpe+d1lqf1+fskH\n",
       "Qd+HrHmCr+mLNYqMC0p8VjoT+qtB8ogQh+7WET+x+8N8cMA8cPWPIJF0ovh/sDlueQ3clpXVrwPN\n",
       "VL7JJ+F687zbW7PgXhHVjJP9gdpy9/UhzsQC3FIEPGTtGLdMi90D/NPvtFUEu9S+mw1gUjOY8mhG\n",
       "TiuON328wnW9J1ReV/z7iQ0LrVCHd391vat4POldYWvxQ3BoBjmHjES/tTksv+CBVDzzS6oJLQWv\n",
       "mDXA/4JUiFsltzYFXv+Qf/uEj3++prz+9lYutheFktAG5bdlz2TJSegeGg960khqc/Ptfhc1gG9p\n",
       "u9dis3/oqmLqqXyFfuTopgT96iXoz9bGQkOQFp2PCzmrZLKDjnJuCChjm/ZsJ7M6siZUfG79d3o3\n",
       "+3V15UmGfltX40TEHhEA6lIMpyX6Ztx+H8IEh5YUiwqAjv7ANsIwhDwU3kfebOS4LA/3vXL5FvbT\n",
       "VrBpb7Au/GCvVrHYCq9xCmAhzwxUTqjibTF6pwE3taq+QO+rgW9ysbnavochSVK/9DAkyaD5JAsM\n",
       "ERVvAiQ8VyH+AAABywGf8GpCvwFZq2fizCoACYxiEvCFiN0L0HglIUOHj1MtLyWPYoHKMutarTsi\n",
       "lhzMBU+zZgri0V2gKy+uagq08RXOPlU6GmcQ7ru7Am9DEgkm/7kTcA/BxarlJLPffRMWQakhgsLI\n",
       "2HWzBxS1xVd9e4TOJit1Fhy04VDBUkszndeQhfu+Mj0HBchbyQPwUUAi3NQtg/tkUxQPIgJ4Gy16\n",
       "dfl/W83a6r/+banG2AG746pLrr+s7EQCxNvmueTbRwnEPaEZalsrInNGHJs/9KDfUb1EZF/Lwxpl\n",
       "o6LhBWSXju68TCkTJAi8Nq1qyINWLI/Ea0RcumMJC9QA0jy3T5qif787lJSVeHFuP+ZmIj5nni6q\n",
       "NErflTcEzjqCnwhS3suC9j+VwMZDAlMEaGruS1KIbVzZAFUDOsJ2jUO4KXn426mOhKSlT3Z02MOA\n",
       "ltsF8dOoSMOZ0sHcMPVzgnbM6M94w07RZrW2Bba8sMzZtXKkE3X+H3C9ROg7vDBbzskhYuj64f3r\n",
       "ONGKtMBirSkduGYD40ARhsdxhfXDm5tcWGnwoTvC+1zSXFkS2tnfaMTBfcGumxDv9hag6tF+ilYY\n",
       "crzr1dp17RlMjXuvlsWuIAAABVZtb292AAAAbG12aGQAAAAAAAAAAAAAAAAAAAPoAAAH0AABAAAB\n",
       "AAAAAAAAAAAAAAAAAQAAAAAAAAAAAAAAAAAAAAEAAAAAAAAAAAAAAAAAAEAAAAAAAAAAAAAAAAAA\n",
       "AAAAAAAAAAAAAAAAAAAAAAACAAAEgHRyYWsAAABcdGtoZAAAAAMAAAAAAAAAAAAAAAEAAAAAAAAH\n",
       "0AAAAAAAAAAAAAAAAAAAAAAAAQAAAAAAAAAAAAAAAAAAAAEAAAAAAAAAAAAAAAAAAEAAAAABsAAA\n",
       "ASAAAAAAACRlZHRzAAAAHGVsc3QAAAAAAAAAAQAAB9AAAAQAAAEAAAAAA/htZGlhAAAAIG1kaGQA\n",
       "AAAAAAAAAAAAAAAAADIAAABkAFXEAAAAAAAtaGRscgAAAAAAAAAAdmlkZQAAAAAAAAAAAAAAAFZp\n",
       "ZGVvSGFuZGxlcgAAAAOjbWluZgAAABR2bWhkAAAAAQAAAAAAAAAAAAAAJGRpbmYAAAAcZHJlZgAA\n",
       "AAAAAAABAAAADHVybCAAAAABAAADY3N0YmwAAACzc3RzZAAAAAAAAAABAAAAo2F2YzEAAAAAAAAA\n",
       "AQAAAAAAAAAAAAAAAAAAAAABsAEgAEgAAABIAAAAAAAAAAEAAAAAAAAAAAAAAAAAAAAAAAAAAAAA\n",
       "AAAAAAAAAAAAAAAY//8AAAAxYXZjQwFkABX/4QAYZ2QAFazZQbCWhAAAAwAEAAADAMg8WLZYAQAG\n",
       "aOvjyyLAAAAAHHV1aWRraEDyXyRPxbo5pRvPAyPzAAAAAAAAABhzdHRzAAAAAAAAAAEAAAAyAAAC\n",
       "AAAAABRzdHNzAAAAAAAAAAEAAAABAAABcGN0dHMAAAAAAAAALAAAAAEAAAQAAAAAAQAACgAAAAAB\n",
       "AAAEAAAAAAEAAAAAAAAAAQAAAgAAAAABAAAGAAAAAAEAAAIAAAAAAQAABAAAAAABAAAKAAAAAAEA\n",
       "AAQAAAAAAQAAAAAAAAABAAACAAAAAAEAAAYAAAAAAQAAAgAAAAABAAAGAAAAAAEAAAIAAAAAAQAA\n",
       "CAAAAAACAAACAAAAAAQAAAQAAAAAAQAABgAAAAABAAACAAAAAAEAAAoAAAAAAQAABAAAAAABAAAA\n",
       "AAAAAAEAAAIAAAAAAQAACAAAAAACAAACAAAAAAEAAAoAAAAAAQAABAAAAAABAAAAAAAAAAEAAAIA\n",
       "AAAAAQAABgAAAAABAAACAAAAAAEAAAQAAAAAAQAACgAAAAABAAAEAAAAAAEAAAAAAAAAAQAAAgAA\n",
       "AAABAAAEAAAAAAEAAAYAAAAAAQAAAgAAAAACAAAEAAAAAAEAAAYAAAAAAQAAAgAAAAAcc3RzYwAA\n",
       "AAAAAAABAAAAAQAAADIAAAABAAAA3HN0c3oAAAAAAAAAAAAAADIAAB2kAAAI2gAABLsAAAG9AAAD\n",
       "vgAACJgAAAOQAAAFiQAACh0AAAUKAAADNQAAA0EAAAYAAAACxQAACJoAAAMoAAAIlQAABE0AAAMC\n",
       "AAAFIQAABoYAAAdCAAAHRAAACVAAAAIzAAABRAAAApsAAACaAAADjAAACokAAAQqAAADXQAACZIA\n",
       "AAVjAAADSAAAA5UAAAY1AAADLwAABYUAAArrAAAE0QAAAzMAAANaAAAEfgAABxMAAAM1AAAGBwAA\n",
       "BoEAAAU6AAABzwAAABRzdGNvAAAAAAAAAAEAAAAsAAAAYnVkdGEAAABabWV0YQAAAAAAAAAhaGRs\n",
       "cgAAAAAAAAAAbWRpcmFwcGwAAAAAAAAAAAAAAAAtaWxzdAAAACWpdG9vAAAAHWRhdGEAAAABAAAA\n",
       "AExhdmY1OC4xMi4xMDA=\n",
       "\">\n",
       "  Your browser does not support the video tag.\n",
       "</video>"
      ],
      "text/plain": [
       "<IPython.core.display.HTML object>"
      ]
     },
     "execution_count": 44,
     "metadata": {},
     "output_type": "execute_result"
    }
   ],
   "source": [
    "# Show the animation\n",
    "HTML(ani.to_html5_video())"
   ]
  },
  {
   "cell_type": "code",
   "execution_count": 45,
   "metadata": {
    "scrolled": false,
    "slideshow": {
     "slide_type": "skip"
    }
   },
   "outputs": [],
   "source": [
    "# Save the animation\n",
    "ani.save('VibrationModes.mp4')"
   ]
  },
  {
   "cell_type": "markdown",
   "metadata": {
    "slideshow": {
     "slide_type": "skip"
    }
   },
   "source": [
    "The animation coded above is saved under `VibrationModes.mp4` and uploaded onto the Q.\n",
    "Compare it with the video called `masses_for_04_modes.mp4` of the previous chapter!\n",
    "See also fig. 3 (King fig. 6.2) for a picture of the first four modes and fig. 4 (King fig. 6.1) for a representation of the time evolution of mode number 2."
   ]
  },
  {
   "cell_type": "markdown",
   "metadata": {
    "slideshow": {
     "slide_type": "skip"
    }
   },
   "source": [
    "![Fig. 3: King 6.2](King62.png)"
   ]
  },
  {
   "cell_type": "markdown",
   "metadata": {
    "slideshow": {
     "slide_type": "skip"
    }
   },
   "source": [
    "![Fig. 4: King 6.1](King61.png)"
   ]
  },
  {
   "cell_type": "markdown",
   "metadata": {
    "slideshow": {
     "slide_type": "skip"
    }
   },
   "source": [
    "Here are a few important remarks that you will also find on the captions of King's figures.\n",
    "\n",
    "* Those points where the string doesn't move are called **nodes**.\n",
    "* Those points in-between where the string moves with the largest amplitude are called **antinodes**. I might call them bellies. It is *not* standard practice to do so.\n",
    "* The mode with no nodes ($n = 1$ here) is called the **fundamental** (mode), or **first harmonic** (but really, \"fundamental\" is more standard). It is originally a musical term, I guess, as in, it corresponds to the gravest sound an instrument of piece of instrument can produce. The one with one node ($n = 2$) is called the **second harmonic**, and so on.\n",
    "* The $n^{th}$ harmonic has $n-1$ nodes, and $n$ antinodes.\n",
    "* $k_n$ is called the **wavenumber** of the $n^{th}$ mode, $$\\boxed{\\lambda_n = \\frac{2\\pi}{k_n}} = \\frac{2L}n $$ is its **wavelength**. The units of $k_n$ are rad.m$^{-1}$ and those of $\\lambda_n$ are m (metres)."
   ]
  },
  {
   "cell_type": "markdown",
   "metadata": {
    "slideshow": {
     "slide_type": "skip"
    }
   },
   "source": [
    "***\n",
    "\n",
    "**Worked example: King p. 143. Also recommended: worked example p. 144.**\n",
    "\n",
    "***"
   ]
  },
  {
   "cell_type": "markdown",
   "metadata": {
    "slideshow": {
     "slide_type": "skip"
    }
   },
   "source": [
    "# Standing Waves as Normal Modes of a Vibrating String\n",
    "\n",
    "*[Book: § 6.4]*"
   ]
  },
  {
   "cell_type": "markdown",
   "metadata": {
    "slideshow": {
     "slide_type": "skip"
    }
   },
   "source": [
    "## Results from Fourier Series"
   ]
  },
  {
   "cell_type": "markdown",
   "metadata": {
    "slideshow": {
     "slide_type": "skip"
    }
   },
   "source": [
    "We just saw that if $y_n$ and $y_m$ were modes of vibrations of the string, then a linear combination of those two was a solution. But is the reverse true? Namely, if $y$ is a solution, can it be written as $\\sum_{n=1}^{\\infty} A_n y_n$? After all, maybe we have only covered the set of solutions which were separable, and we are missing plenty of elementary solutions that cannot be written as $y_n(t, x) = f_n(x)h_n(t)$."
   ]
  },
  {
   "cell_type": "markdown",
   "metadata": {
    "slideshow": {
     "slide_type": "skip"
    }
   },
   "source": [
    "The answer is yes, the decomposition exists and is unique, but I will not prove it because you saw it in Calculus II with Fourier series.\n",
    "Just as the existence and unicity of the decomposition into eigenmodes for a coupled system of oscillations was a gift from a linear algebra class, the existence and unicity of the decomposition of any solution into standing wave mode is a gift from Fourier analysis."
   ]
  },
  {
   "cell_type": "markdown",
   "metadata": {
    "slideshow": {
     "slide_type": "skip"
    }
   },
   "source": [
    "Namely, the main result to remember from a lecture on Fourier series is that if a function $s(x)$ of the real variable $x$ is continuous and periodic, with period $L$, then $\\exists \\{A_n, B_n\\}_{n\\in \\mathbb N^*}$ such that \n",
    "$$ s(x) = \\frac{A_0}2 + \\sum_{n=1}^\\infty A_n \\cos(k_n x) + B_n \\sin(k_n x). $$"
   ]
  },
  {
   "cell_type": "markdown",
   "metadata": {
    "slideshow": {
     "slide_type": "skip"
    }
   },
   "source": [
    "And if the function is odd, i.e., $s(x) = -s(-x)$, then it is even simpler:\n",
    "$$ s(x) = \\sum_{n=1}^\\infty B_n \\sin(k_n x). $$"
   ]
  },
  {
   "cell_type": "markdown",
   "metadata": {
    "slideshow": {
     "slide_type": "skip"
    }
   },
   "source": [
    "You may object that Fourier series apply to periodic function, i.e., functions that exist on $\\mathbb R$, not $[0, L]$.\n",
    "The connection is that we can imagine our solution on $[0, L]$ as a \"cropped\" sub-set of a function that would be periodic.\n",
    "In this case, the actual solution and the corresponding infinitely long and periodic function share the same Fourier coefficients."
   ]
  },
  {
   "cell_type": "markdown",
   "metadata": {
    "slideshow": {
     "slide_type": "skip"
    }
   },
   "source": [
    "Let me plot a sketch of what I mean by \"actual solution\" (fig. 5) and \"infinitely long and periodic function\" (fig. 6)."
   ]
  },
  {
   "cell_type": "code",
   "execution_count": 46,
   "metadata": {
    "slideshow": {
     "slide_type": "skip"
    }
   },
   "outputs": [],
   "source": [
    "# Definition of the function\n",
    "# Let's draw a triangular shape, with the top at a point where the string is plucked\n",
    "pluck_point = 0.25*L  # in [m]\n",
    "a = 0.01  # how high the string is plucked [m]\n",
    "s = a * x / pluck_point  # the first part of the string\n",
    "s[x > pluck_point] = a * (L - x[x > pluck_point]) / (L-pluck_point)  # the 2nd part\n",
    "\n",
    "plt.figure()\n",
    "plt.plot(x/L, s/a, 'r')\n",
    "plt.grid()\n",
    "plt.xlabel('$x/L$', fontsize=ftsz)\n",
    "plt.ylabel('$s/a$', fontsize=ftsz)\n",
    "plt.axvline(pluck_point/L, color='k', linestyle='--')\n",
    "plt.title('The plucked string on $[0, L]$', fontsize=ftsz)\n",
    "plt.ylim([0., 2.])\n",
    "plt.autoscale(enable=True, axis='x', tight=True)\n",
    "plt.savefig('PluckedString.png', dpi=100)\n",
    "plt.close()"
   ]
  },
  {
   "cell_type": "markdown",
   "metadata": {
    "slideshow": {
     "slide_type": "subslide"
    }
   },
   "source": [
    "![Fig.5: Plucked string](PluckedString.png)"
   ]
  },
  {
   "cell_type": "code",
   "execution_count": 47,
   "metadata": {
    "slideshow": {
     "slide_type": "skip"
    }
   },
   "outputs": [],
   "source": [
    "x_extend = np.linspace(-1.5*L, 2.5*L, 512)  # x extended beyoind [0, L]\n",
    "s_extend = a * x_extend / pluck_point  # the first part of the string\n",
    "s_extend[x_extend > pluck_point] = (L - x_extend[x_extend > pluck_point]\n",
    "                                   ) * a / (L-pluck_point)\n",
    "s_extend[x_extend > 2*L-pluck_point] = (x_extend[x_extend > 2*L-pluck_point]/pluck_point\n",
    "                                        - 2*L/pluck_point) * a\n",
    "s_extend[x_extend > 2*L+pluck_point] = (L - x_extend[x_extend > 2*L+pluck_point]\n",
    "                                       )  * a / (L-pluck_point) + 2*a*L/(L-pluck_point)\n",
    "s_extend[x_extend < -pluck_point] = a * (L - x_extend[x_extend < -pluck_point]\n",
    "                                        ) / (L-pluck_point) - 2*a*L/(L-pluck_point)\n",
    "\n",
    "plt.figure()\n",
    "plt.plot(x_extend/L, s_extend/a, 'b--', label='$s(x)$ extended')\n",
    "plt.plot(x/L, s/a, 'r', label='$s(x)$')\n",
    "plt.grid()\n",
    "plt.xlabel('$x/L$', fontsize=ftsz)\n",
    "plt.ylabel('$s/a$', fontsize=ftsz)\n",
    "plt.ylim([-2., 2.])\n",
    "plt.axhline(0., color='k')\n",
    "plt.axvline(pluck_point/L, color='k', linestyle='--')\n",
    "plt.axvline(0., color='k')\n",
    "plt.axvline(1., color='k')\n",
    "plt.title('Equivalent plucked string on an extended interval', fontsize=ftsz)\n",
    "plt.legend()\n",
    "plt.autoscale(enable=True, axis='x', tight=True)\n",
    "plt.savefig('PeriodicPlucked.png', dpi=100)\n",
    "plt.close()"
   ]
  },
  {
   "cell_type": "markdown",
   "metadata": {
    "slideshow": {
     "slide_type": "subslide"
    }
   },
   "source": [
    "![Fig. 6: The plucked string, if it was part of an infinitely long and periodic function.](PeriodicPlucked.png)"
   ]
  },
  {
   "cell_type": "markdown",
   "metadata": {
    "slideshow": {
     "slide_type": "skip"
    }
   },
   "source": [
    "While the plucked string (red, solid line on fig. 6) is not periodic, the blue, dashed line is, and can be decomposed as a Fourier series.\n",
    "In the interval $[0, L]$, the two are indistinguishable, and the plucked string shares the extended string's expression."
   ]
  },
  {
   "cell_type": "markdown",
   "metadata": {
    "slideshow": {
     "slide_type": "skip"
    }
   },
   "source": [
    "Mathematically speaking, the rest of this section is basically an application of the Fourier series theory to string vibrations."
   ]
  },
  {
   "cell_type": "markdown",
   "metadata": {
    "slideshow": {
     "slide_type": "skip"
    }
   },
   "source": [
    "## Orthogonality of Standing Wave Modes"
   ]
  },
  {
   "cell_type": "markdown",
   "metadata": {
    "slideshow": {
     "slide_type": "skip"
    }
   },
   "source": [
    "In the last chapter, the linked masses resulted in a symmetric matrix to diagonalize, in which case the eigenvectors were orthogonal to each other.\n",
    "Something similar is happening here: the string is homogeneous ($\\mu$ is a constant), and the normal modes are orthogonal to each other.\n",
    "The \"dot product\" however needs to be redefined, because the vector space has changed.\n",
    "In the chapter on coupled oscillators, the inner product of the vector space was the good ol' dot product.\n",
    "Now, the inner product for two stress-free functions [^3] $f$ and $g$ is:\n",
    "$$f\\odot g = \\frac2L \\int_0^L f(x)g(x)\\di x.\\hspace{5cm}(3)$$\n",
    "\n",
    "[^3]: the physicist's definition of a \"stress-free function\" is a function that won't cause any problem when deriving, integrating or else. The kind of chill function we like to not worry about. Obviously, this chapter is not NIST approved."
   ]
  },
  {
   "cell_type": "markdown",
   "metadata": {
    "slideshow": {
     "slide_type": "skip"
    }
   },
   "source": [
    "The $2/L$ pre-factor is optional and is used to ensure that the functions are orthonormal with respect to the inner product. Indeed, here is a claim:\n",
    "$$ \\boxed{\\sin(k_n x) \\odot \\sin(k_m x) = \\delta_{mn}}.$$\n",
    "Recall that the Kronecker delta is $\\delta_{mn} = 1$ if $m=n$, and zero otherwise.\n",
    "That is, **modes are orthogonal to each other**."
   ]
  },
  {
   "cell_type": "markdown",
   "metadata": {
    "slideshow": {
     "slide_type": "skip"
    }
   },
   "source": [
    "*Note: Similarly,* $\\cos(k_n x) \\odot \\cos(k_m x) = \\delta_{mn}$ and $\\cos(k_n x) \\odot \\sin(k_m x) = \\delta_{mn}$. *Yes, the last one is always zero, even if* $m = n$ *, but the inner product has to be redefined as*\n",
    "$$f\\odot g = \\frac1L \\int_{-L}^L f(x)g(x)\\di x,$$\n",
    "*and the string position has to be artificially extended into the negative positions range. This inner product actually gives the same result for the former inner product, but the first definition uses parity properties of $\\sin$ and $\\cos$ and is simple enough for our purposes. As far as I can tell though, we won't be using these other two relationships with the boundary conditions of strings attached to walls. We would if the origin of the $x$-axis was in the middle of the two walls, or if we had other boundary conditions. Therefore, it is not completely usueless to know that these relationships exist.*"
   ]
  },
  {
   "cell_type": "markdown",
   "metadata": {
    "slideshow": {
     "slide_type": "skip"
    }
   },
   "source": [
    "***\n",
    "\n",
    "*While not difficult, and even though it resembles a result we have seen earlier, I skipped the proof in class. Here it is, FYI. I am also providing a graphic example below, where you should see that the areas of $\\sin(k_n x)\\sin(k_m x)$ above the zero line compensate exactly those under the zero line, yielding a zero value (unless $n=m$ of course). Don't worry about remembering or even understanding the mathematical derivation.*\n",
    "\n",
    "Recall that \n",
    "$$\\cos(a\\pm b) = \\cos a \\cos b \\mp \\sin a \\sin b.$$\n",
    "\n",
    "Sum those two and you get:\n",
    "$$ 2\\cos a\\cos b = \\cos(a-b) + \\cos(a+b). $$\n",
    "Subtract them and you obtain\n",
    "$$ 2\\sin a\\sin b = \\cos(a-b) - \\cos(a+b). $$\n",
    "\n",
    "* $m\\neq n$: for $a = n\\pi x/L$ and $b = m\\pi x/L$\n",
    "\n",
    "\\begin{align*}\n",
    "    \\sin a \\odot \\sin b & = \\frac{1}{L} \\int_0^L \\left(\\cos\\left(\\frac{(n-m) \\pi x}{L}\\right) +  \\cos\\left(\\frac{(n+m)\\pi x}{L}\\right) \\right) \\di x \\\\\n",
    "                        & = \\frac{1}{L} \\left[\\frac{L}{\\pi(n-m)}\\sin\\left(\\frac{(n-m) \\pi x}{L}\\right) + \\frac{L}{\\pi(n+m)} \\sin\\left(\\frac{(n+m)\\pi x}{L}\\right) \\right]_0^L \\\\\n",
    "                        & = 0 + 0 = 0 \\quad\\textrm{if}\\quad m \\neq n.\n",
    "\\end{align*}\n",
    "\n",
    "* $m=n$ on the other hand, we need to go back to $2\\sin a\\sin b = \\cos(a-b) - \\cos(a+b)$, which, if $a = b$, becomes $2\\sin^2(2a) = 1 - \\cos(2a)$. \n",
    "Of the two integrals that are to be computed, $\\int_0^L \\cos(2n\\pi x/L) \\di x = 0$ but $\\int_0^L \\di x = L$, and therefore,\n",
    "$$\\sin\\left(\\frac{n\\pi x}L\\right) \\odot \\sin\\left(\\frac{n\\pi x}L\\right) = \\frac{2}{L}\\frac{L}2 = 1. $$\n",
    "\n",
    "Very similar derivations exist for $\\cos(k_n x) \\odot \\cos(k_m x) = \\delta_{mn}$ and $\\cos(k_n x) \\odot \\sin(k_m x) = 0$.\n",
    "\n",
    "***"
   ]
  },
  {
   "cell_type": "code",
   "execution_count": 48,
   "metadata": {
    "slideshow": {
     "slide_type": "skip"
    }
   },
   "outputs": [],
   "source": [
    "def multsincos(n, m, first, second):\n",
    "    \"\"\" a graphic illustration of what happens when two sines and/or cosines\n",
    "    are multiplied \n",
    "    IN: n, m are strictly positive integer modes\n",
    "    first, second are both 'sin' or 'cos' \"\"\"\n",
    "    def fct(nm, xloc, choice):\n",
    "        if choice == 'sin':\n",
    "            return np.sin(nm*np.pi*xloc)\n",
    "        elif choice == 'cos':\n",
    "            return np.cos(nm*np.pi*xloc)\n",
    "    \n",
    "    if first != second:\n",
    "        xmin = -1.\n",
    "    else:\n",
    "        xmin = 0.\n",
    "    \n",
    "    x = np.linspace(xmin, 1, 256)  # use L=1 m for simplicity\n",
    "        \n",
    "    fg, ax = plt.subplots(2, 1, dpi=100, sharex=True)\n",
    "    ftsz = 13  # font size\n",
    "    \n",
    "    ax[0].plot(x, fct(n, x, first), label='{0}$({1} \\pi x/L)$'.format(first, n))\n",
    "    ax[0].plot(x, fct(m, x, second), '--', label='{0}$({1}\\pi x/L)$'.format(second, m))\n",
    "    ax[0].axhline(0., color='k')\n",
    "    ax[0].axvline(0., color='k')\n",
    "    ax[0].set_xlim(xmin, 1)\n",
    "    ax[0].set_ylabel('$y$', fontsize=ftsz)\n",
    "    ax[0].legend()\n",
    "    ax[0].grid()\n",
    "    \n",
    "    ax[1].plot(x, fct(n, x, first)*fct(m, x, second),\n",
    "               label='{0}$(1\\pi x/L)${2}$(2 \\pi x/L)$'.format(first, n, second, m))\n",
    "    plt.fill_between(x , fct(n, x, first)*fct(m, x, second))\n",
    "    ax[1].axvline(0., color='k')\n",
    "    ax[1].axhline(0., color='k')\n",
    "    ax[1].set_xlabel('$x/L$', fontsize=ftsz)\n",
    "    ax[1].set_ylabel('$y$', fontsize=ftsz)\n",
    "    ax[1].legend()\n",
    "    ax[1].grid()\n",
    "    \n",
    "    fg.tight_layout()"
   ]
  },
  {
   "cell_type": "code",
   "execution_count": 49,
   "metadata": {
    "slideshow": {
     "slide_type": "skip"
    }
   },
   "outputs": [
    {
     "data": {
      "image/png": "[encoded data removed]",
      "text/plain": [
       "<Figure size 600x400 with 2 Axes>"
      ]
     },
     "metadata": {
      "needs_background": "light"
     },
     "output_type": "display_data"
    }
   ],
   "source": [
    "multsincos(1, 3, 'sin', 'sin')  # for pdf export"
   ]
  },
  {
   "cell_type": "code",
   "execution_count": 50,
   "metadata": {
    "slideshow": {
     "slide_type": "skip"
    }
   },
   "outputs": [],
   "source": [
    "from ipywidgets import interact, IntSlider"
   ]
  },
  {
   "cell_type": "code",
   "execution_count": 51,
   "metadata": {
    "slideshow": {
     "slide_type": "skip"
    }
   },
   "outputs": [
    {
     "data": {
      "application/vnd.jupyter.widget-view+json": {
       "model_id": "61d8718793464893b63779d24cbb6c57",
       "version_major": 2,
       "version_minor": 0
      },
      "text/plain": [
       "interactive(children=(IntSlider(value=1, description='n', max=5, min=1), IntSlider(value=2, description='m', m…"
      ]
     },
     "metadata": {},
     "output_type": "display_data"
    },
    {
     "data": {
      "text/plain": [
       "<function __main__.multsincos(n, m, first, second)>"
      ]
     },
     "execution_count": 51,
     "metadata": {},
     "output_type": "execute_result"
    }
   ],
   "source": [
    "interact(multsincos, n=IntSlider(min=1, max=5, value=1), m=IntSlider(min=1, max=5, value=2), first=['sin', 'cos'], second=['sin', 'cos'])"
   ]
  },
  {
   "cell_type": "markdown",
   "metadata": {
    "slideshow": {
     "slide_type": "skip"
    }
   },
   "source": [
    "Note that similarly to the last chapter, these results can be extended to strings that are non-homogeneous (i.e. $v$ depends on $x$, like a whip getting thinner away from the handle). A new inner product would need to be defined. \n",
    "This would be the equivalent of a matrix that is not symmetric in the previous chapter.\n",
    "These considerations are outside of what you need to know for this class."
   ]
  },
  {
   "cell_type": "markdown",
   "metadata": {
    "slideshow": {
     "slide_type": "skip"
    }
   },
   "source": [
    "## Initial Value Problems"
   ]
  },
  {
   "cell_type": "markdown",
   "metadata": {
    "slideshow": {
     "slide_type": "skip"
    }
   },
   "source": [
    "Like in previous chapters, while we know that the general form of the solution is in the form of eqn. $(2)$, finding the amplitudes $C_n$ and phases $\\phi_n$ remains to be computed for an IVP."
   ]
  },
  {
   "cell_type": "markdown",
   "metadata": {
    "slideshow": {
     "slide_type": "skip"
    }
   },
   "source": [
    "And like at the end of the previous chapter, the orthogonality condition will help us to solve this problem relatively easily."
   ]
  },
  {
   "cell_type": "markdown",
   "metadata": {
    "slideshow": {
     "slide_type": "skip"
    }
   },
   "source": [
    "First of all though, allow me to rewrite eqn. $(2)$ as\n",
    "$$\\boxed{y(t, x) = \\sum_{n = 1}^{\\infty} \\left[\\alpha_n \\cos(\\omega_n t) + \\beta_n \\sin(\\omega_n t)\\right]\\sin(k_n x)},\\hspace{4cm}(4)$$\n",
    "which is more convenient for IVPs."
   ]
  },
  {
   "cell_type": "markdown",
   "metadata": {
    "slideshow": {
     "slide_type": "skip"
    }
   },
   "source": [
    "Consider now an initial value problem\n",
    "$$ y(0, x) = P(x)\\and \\dot y(0, x) = V(x). $$"
   ]
  },
  {
   "cell_type": "markdown",
   "metadata": {
    "slideshow": {
     "slide_type": "skip"
    }
   },
   "source": [
    "We now have two equations,\n",
    "$$\\sum_{n = 1}^{\\infty} \\alpha_n\\sin(k_n x) = P(x) \\and \\sum_{n = 1}^{\\infty} \\omega_n\\beta_n\\sin(k_n x) = V(x).$$"
   ]
  },
  {
   "cell_type": "markdown",
   "metadata": {
    "slideshow": {
     "slide_type": "skip"
    }
   },
   "source": [
    "These could be seen as two equations with an infinite number of unknown each ($2\\times \\infty$ unknown total). But because these unknown multiply eigenfunctions that are all orthogonal to each other, we can use projections to turn it into a system with as many equations as there are unknown.\n",
    "For example,\n",
    "$$\\left[\\sum_{n = 1}^{\\infty} \\alpha_n\\sin(k_n x)\\right] \\odot \\sin(k_m x) = \\sum_{n = 1}^{\\infty} \\alpha_n\\left[\\sin(k_n x) \\odot \\sin(k_m x)\\right] = \\alpha_m.$$\n",
    "*Note: in the result above, I used that the $\\sin(k_n x)$ functions are orthonormal with respect to the inner product that I defined. Had I not added a $2/L$ pre-factor in my definition of the inner product (eqn. 3), I would have needed to multiply the right-most-hand-side of the equation above with $L/2$. This is what King sort of does in his book.*"
   ]
  },
  {
   "cell_type": "markdown",
   "metadata": {
    "slideshow": {
     "slide_type": "skip"
    }
   },
   "source": [
    "Therefore, \n",
    "$$ \\forall m\\in \\mathbb N^*, \\quad \\alpha_m = P(x) \\odot \\sin(k_m x) \\and \\beta_m = \\frac{1}{\\omega_m}V(x) \\odot \\sin(k_m x). $$"
   ]
  },
  {
   "cell_type": "markdown",
   "metadata": {
    "slideshow": {
     "slide_type": "skip"
    }
   },
   "source": [
    "We solved one problem but created a new one, which is to compute all the $P(x)\\odot \\sin(k_m x)$ and $V(x)\\odot \\sin(k_m x)$.\n",
    "But at least, there is a road map, which is to compute integrals.\n",
    "If the initial condition is simple enough, the integrals can be computed analytically (which we will do for a couple of examples), and if not, a computer can do it."
   ]
  },
  {
   "cell_type": "markdown",
   "metadata": {
    "slideshow": {
     "slide_type": "skip"
    }
   },
   "source": [
    "## Example: Initializing a Single Mode"
   ]
  },
  {
   "cell_type": "markdown",
   "metadata": {
    "slideshow": {
     "slide_type": "skip"
    }
   },
   "source": [
    "### Analytical Resolution\n",
    "\n",
    "Suppose we start with\n",
    "$$y(0, x) = P(x) = 4a\\sin\\left(\\frac{3\\pi x}{L}\\right) \\and \\dot y(0, x) = V(x) = 0,$$\n",
    "with $4a$ the initial amplitude of displacement (in m).\n",
    "Of course, the first things to notice is that $3\\pi/L = k_3$."
   ]
  },
  {
   "cell_type": "markdown",
   "metadata": {
    "slideshow": {
     "slide_type": "skip"
    }
   },
   "source": [
    "That $V(x) = 0$ means that $\\forall n\\in \\mathbb N^*$, $\\beta_n = 0$."
   ]
  },
  {
   "cell_type": "markdown",
   "metadata": {
    "slideshow": {
     "slide_type": "skip"
    }
   },
   "source": [
    "As for the $\\alpha_n$'s,\n",
    "\\begin{align*}\n",
    "    \\alpha_n & = P(x) \\odot \\sin(k_n x) \\\\\n",
    "             & = \\frac2L \\int_0^L P(x)\\sin(k_n x)\\di x \\\\\n",
    "             & = \\frac{8a}{L} \\int_0^L \\sin(k_3 x) \\sin(k_n x) \\di x \\\\\n",
    "             & = 4a \\delta_{3n}.\n",
    "\\end{align*}"
   ]
  },
  {
   "cell_type": "markdown",
   "metadata": {
    "slideshow": {
     "slide_type": "skip"
    }
   },
   "source": [
    "Therefore, the only frequency of oscillation is $\\omega_3 = \\frac{3\\pi }L\\sqrt{\\frac{T}{\\mu}}$ and the solution is \n",
    "$$y(t, x) = 4a\\cos\\left(\\frac{3\\pi t}{L}\\sqrt{\\frac{T}{\\mu}}\\right)\\sin\\left(\\frac{3\\pi x}{L}\\right) \n",
    "          = 4a\\cos\\left(\\omega_3 t\\right)\\sin\\left(k_3 x\\right),$$\n",
    "which is the only term that is left from eqn. (4)."
   ]
  },
  {
   "cell_type": "markdown",
   "metadata": {
    "slideshow": {
     "slide_type": "skip"
    }
   },
   "source": [
    "Note that the frequency was not explicitly present in the initial conditions, just the wave number.\n",
    "It is just like with the coupled pendulums: one mode, one frequency was selected by just initializing the masses positions with the right pattern (or *polarization*)."
   ]
  },
  {
   "cell_type": "markdown",
   "metadata": {
    "slideshow": {
     "slide_type": "skip"
    }
   },
   "source": [
    "A quick sanity check on the units: $T$ is in N, or kg.m.s$^{-2}$, and $\\mu$ is in kg.m$^{-1}$, therefore $\\sqrt{T/\\mu}$ is in m.s$^{-1}$ (which is good, because it is the phase speed), $\\sqrt{T/\\mu}/L$ is in s$^{-1}$ in SI base units, $3\\pi$ times the same is in rad.s$^{-1}$ (*not SI base units, but it is* $\\omega_3$ in rad.s$^{-1}$), and $\\omega_3 t$ is indeed dimensionless."
   ]
  },
  {
   "cell_type": "markdown",
   "metadata": {
    "slideshow": {
     "slide_type": "skip"
    }
   },
   "source": [
    "***\n",
    "\n",
    "*End of 1 October lecture, beginning of 4 October lecture.*\n",
    "\n",
    "***"
   ]
  },
  {
   "cell_type": "markdown",
   "metadata": {
    "slideshow": {
     "slide_type": "skip"
    }
   },
   "source": [
    "### Graphic Representation: Spectrum\n",
    "\n",
    "Then, there is the problem of the graphic representation of this solution.\n",
    "I could display an animation, as I did before, but while pedagogically useful, it is not the representation that compresses the information the most.\n",
    "After all, if the motion is harmonic, we don't need to display a moving string to know the time information, which is completely encapsulated in the number $\\omega_3$.\n",
    "The only other piece of information I need to know is the amplitude of the third harmonic, $4d$."
   ]
  },
  {
   "cell_type": "markdown",
   "metadata": {
    "slideshow": {
     "slide_type": "skip"
    }
   },
   "source": [
    "A solution is therefore to plot the amplitude as a function of frequency, and the plot is called a **spectrum** (see fig. 7)."
   ]
  },
  {
   "cell_type": "code",
   "execution_count": 52,
   "metadata": {
    "scrolled": false,
    "slideshow": {
     "slide_type": "skip"
    }
   },
   "outputs": [],
   "source": [
    "# Let's plot\n",
    "plt.figure()\n",
    "plt.plot([3]*2, [0, 4], 'o-', linewidth=5)\n",
    "plt.axis([0, 5.1, 0, 4.4])\n",
    "plt.xticks(range(1, 6), \n",
    "          ['$\\omega_{0:1d}$'.format(n) for n in range(1, 6)],\n",
    "          fontsize=ftsz)\n",
    "plt.xlabel('Vibration frequency ($\\omega_n = n\\pi v/L$)', fontsize=ftsz)\n",
    "plt.ylabel(r'Modal amplitude $\\alpha_n/a$', fontsize=ftsz)\n",
    "plt.grid()\n",
    "plt.savefig('Spectrum1mode.png', dpi=100)\n",
    "plt.close()"
   ]
  },
  {
   "cell_type": "markdown",
   "metadata": {
    "slideshow": {
     "slide_type": "subslide"
    }
   },
   "source": [
    "![Fig. 7: Spectrum when only one mode of amplitude $4a$ is present.](Spectrum1mode.png)"
   ]
  },
  {
   "cell_type": "markdown",
   "metadata": {
    "slideshow": {
     "slide_type": "skip"
    }
   },
   "source": [
    "Two remarks on spectra.\n",
    "\n",
    "* We did plot very similar graphs on the lecture on resonance, when we were plotting the amplitude (or dissipated power) as a function of frequency. And indeed, we do not have dissipation, meaning that we don't need to invoke forcing to describe sustained oscillations. If we introduced damping and forcing, we could plot spectra of the string vibrations under a certain periodic forcing as a function of frequency indeed, and it would look very similar.\n",
    "* You might remember from your linear algebra class that \"spectrum\" is also the name of the set of eigenvalues of a matrix. While a set is not a plot, there is a connection, because the plot will have all the frequencies on the $x$-axis, and because there is a connection between these frequencies, the eigenfrequencies of the previous chapter, and linear algebra."
   ]
  },
  {
   "cell_type": "markdown",
   "metadata": {
    "slideshow": {
     "slide_type": "slide"
    }
   },
   "source": [
    "## Example: Plucked String.\n",
    "\n",
    "*Note: this is King, worked example p. 155.*"
   ]
  },
  {
   "cell_type": "markdown",
   "metadata": {
    "slideshow": {
     "slide_type": "skip"
    }
   },
   "source": [
    "### Analytical resolution\n",
    "\n",
    "Analytically speaking, it is relatively easy to compute the Fourier decomposition of a string, plucked in the middle:\n",
    "$$ y(0, x) = P(x) = \\frac{2a x}{L} \\quad \\textrm{for} \\quad 0\\leq x < L/2, $$\n",
    "$$ y(0, x) = P(x) = 2a\\left(1 - \\frac{x}{L}\\right) \\quad \\textrm{for} \\quad L/2 \\leq x \\leq L. $$"
   ]
  },
  {
   "cell_type": "markdown",
   "metadata": {
    "slideshow": {
     "slide_type": "skip"
    }
   },
   "source": [
    "As before, we will consider the case $\\dot y(0, x) = V(x) = 0$, which again means that $\\forall n\\in \\mathbb N^*$, $\\beta_n = 0$."
   ]
  },
  {
   "cell_type": "markdown",
   "metadata": {
    "slideshow": {
     "slide_type": "skip"
    }
   },
   "source": [
    "\\begin{align*}\n",
    "    \\alpha_n & = P(x) \\odot \\sin(k_n x) \\\\\n",
    "             & = \\frac{4a}L \\left[\\int_0^{L/2}\\frac{x}{L} \\sin(k_n x)\\di x + \\int_{L/2}^L \\left(1 - \\frac{x}{L}\\right) \\sin(k_n x)\\di x\\right].\n",
    "\\end{align*}"
   ]
  },
  {
   "cell_type": "markdown",
   "metadata": {
    "slideshow": {
     "slide_type": "skip"
    }
   },
   "source": [
    "A useful formula to compute these integrals is\n",
    "$$ \\int x' \\sin(bx') \\di x' = \\frac{\\sin(bx)}{b^2} - \\frac{x\\cos(bx)}{b},$$\n",
    "which is the result of an integration by parts, followed by a simple integration.\n",
    "Ask Wolfram Alpha if you are curious.\n",
    "Do not try to remember it."
   ]
  },
  {
   "cell_type": "raw",
   "metadata": {
    "raw_mimetype": "text/markdown",
    "slideshow": {
     "slide_type": "skip"
    }
   },
   "source": [
    "# for verification, I ask Python's symbolic math package to do it\n",
    "from sympy import *  # symbolic math operations\n",
    "init_printing(use_unicode=True)  # to print pretty\n",
    "\n",
    "n = Symbol('n', integer=True, positive=True)\n",
    "x, L = symbols('n, L', real=True, positive=True)"
   ]
  },
  {
   "cell_type": "raw",
   "metadata": {
    "raw_mimetype": "text/markdown",
    "slideshow": {
     "slide_type": "skip"
    }
   },
   "source": [
    "factor(integrate(x/L*sin(n*pi*x/L), (x, 0, L/2)))  # for verification"
   ]
  },
  {
   "cell_type": "markdown",
   "metadata": {
    "slideshow": {
     "slide_type": "skip"
    }
   },
   "source": [
    "The first integral is\n",
    "\\begin{align*}\n",
    "    \\int_0^{L/2}\\frac{x}{L} \\sin(k_n x)\\di x \n",
    "        & = \\frac{1}{k_n L} \\left[ \\frac{\\sin(k_n x)}{k_n} - x\\cos(k_n x) \\right]_0^{L/2} \\\\\n",
    "        & = \\frac{L}{n\\pi}\\left[\\frac{1}{n\\pi}\\sin\\left(\\frac{n\\pi}{2}\\right) - \\frac12\\cos\\left(\\frac{n\\pi}{2}\\right) \\right].\n",
    "\\end{align*}"
   ]
  },
  {
   "cell_type": "raw",
   "metadata": {
    "raw_mimetype": "text/markdown",
    "slideshow": {
     "slide_type": "skip"
    }
   },
   "source": [
    "factor(integrate((1-x/L)*sin(n*pi*x/L), (x, L/2, L)))  # for verification"
   ]
  },
  {
   "cell_type": "markdown",
   "metadata": {
    "slideshow": {
     "slide_type": "skip"
    }
   },
   "source": [
    "For the other integral, and following a similar calculation, we get\n",
    "$$\\int_{L/2}^L\\left(1 - \\frac{x}{L}\\right) \\sin(k_n x)\\di x = \\frac{L}{n\\pi}\\left[\\frac{1}{n\\pi}\\sin\\left(\\frac{n\\pi}{2}\\right) + \\frac12\\cos\\left(\\frac{n\\pi}{2}\\right) \\right]. $$"
   ]
  },
  {
   "cell_type": "markdown",
   "metadata": {
    "slideshow": {
     "slide_type": "skip"
    }
   },
   "source": [
    "Adding the two, we get\n",
    "$$ \\int_0^{L/2}\\frac{x}{L} \\sin(k_n x)\\di x + \\int_{L/2}^L \\left(1 - \\frac{x}{L}\\right) \\sin(k_n x)\\di x = \\frac{2L}{(n\\pi)^2}\\sin\\left(\\frac{n\\pi}{2}\\right) $$"
   ]
  },
  {
   "cell_type": "markdown",
   "metadata": {
    "slideshow": {
     "slide_type": "skip"
    }
   },
   "source": [
    "The final form of $\\alpha_n$ is therefore\n",
    "$$ \\alpha_n = \\frac{8 a}{(n\\pi)^2}\\sin\\left(\\frac{n\\pi}{2}\\right) = 0 \\quad\\textrm{if } n\\textrm{ is even, and} \\quad \\frac{8 a}{(n\\pi)^2}(-1)^{(n-1)/2}\\quad\\textrm{if } n\\textrm{ odd}. $$"
   ]
  },
  {
   "cell_type": "markdown",
   "metadata": {
    "slideshow": {
     "slide_type": "skip"
    }
   },
   "source": [
    "Let us only consider the $n$ odd case then, and let $n=2m+1$, $m\\in\\mathbb N$.\n",
    "From eqn. (4), the solution to the string, plucked in the middle is therefore:\n",
    "$$ \\boxed{y(t, x) = \\frac{8a}{\\pi^2}\\sum_{m=0}^{\\infty}\\frac{(-1)^{m}}{(2m+1)^2}\\cos\\left(\\frac{(2m+1)\\pi v}{L}t\\right)\\sin\\left(\\frac{(2m+1)\\pi}{L}x\\right)}. $$"
   ]
  },
  {
   "cell_type": "markdown",
   "metadata": {
    "slideshow": {
     "slide_type": "skip"
    }
   },
   "source": [
    "### Spectrum"
   ]
  },
  {
   "cell_type": "markdown",
   "metadata": {
    "slideshow": {
     "slide_type": "skip"
    }
   },
   "source": [
    "Although complicated, we can plot the formula above relatively easily as a spectrum. Let me compute a few values, with $d = 1 cm$, $L = 1 m$\n",
    "\n",
    "* $y_1(t, x) = \\frac{8a}{\\pi^2}\\cos\\frac{\\pi v t}L\\sin\\frac{\\pi x}L$,\n",
    "* $y_2(t, x) = 0$,\n",
    "* $y_3(t, x) = -\\frac{8a}{9\\pi^2}\\cos\\frac{3\\pi v t}L\\sin\\frac{3\\pi x}L$,\n",
    "* $y_4(t, x) = 0$,\n",
    "* $y_5(t, x) = \\frac{8a}{25\\pi^2}\\cos\\frac{5\\pi v t}L\\sin\\frac{5\\pi x}L$,\n",
    "* $y_6(t, x) = 0$,\n",
    "* ...\n",
    "\n",
    "We can easily plot the spectrum for the first few modes."
   ]
  },
  {
   "cell_type": "code",
   "execution_count": 53,
   "metadata": {
    "slideshow": {
     "slide_type": "skip"
    }
   },
   "outputs": [],
   "source": [
    "# Let's plot\n",
    "N = 8  # maximum number of modes we plot\n",
    "plt.figure()\n",
    "for n in range(N):\n",
    "    plt.plot([n+1]*2, [0, np.sin(0.5*(n+1)*np.pi)/(n+1)**2], 'o-', linewidth=5)\n",
    "plt.axis([0, N+0.5, -0.15, 1.1])\n",
    "plt.axhline(0., color='k')\n",
    "plt.xticks(range(1, N+1), \n",
    "          ['$\\omega_{0:1d}$'.format(n) for n in range(1, N+1)],\n",
    "          fontsize=ftsz)\n",
    "plt.xlabel('Vibration frequency ($\\omega_n = n\\pi v/L$)', fontsize=ftsz)\n",
    "plt.ylabel(r'Modal amplitude $\\alpha_n\\pi^2/(8a)$', fontsize=ftsz)\n",
    "plt.grid()\n",
    "plt.savefig('SpectrumPlucked.png', dpi=100)\n",
    "plt.close()"
   ]
  },
  {
   "cell_type": "markdown",
   "metadata": {
    "slideshow": {
     "slide_type": "subslide"
    }
   },
   "source": [
    "![Fig. 8: Spectrum for a plucked string](SpectrumPlucked.png)"
   ]
  },
  {
   "cell_type": "markdown",
   "metadata": {
    "slideshow": {
     "slide_type": "skip"
    }
   },
   "source": [
    "The amplitude of each mode decays fast with the mode number.\n",
    "This is because by plucking the string in the middle, we created a \"large-scale pattern\" whose Fourier series converges very fast.\n",
    "We can plot this to visualise better."
   ]
  },
  {
   "cell_type": "markdown",
   "metadata": {
    "slideshow": {
     "slide_type": "skip"
    }
   },
   "source": [
    "*Note: usually, a \"spectrum\" plots $|\\alpha_n|$, not $\\alpha_n$ as I did, as if the sign was included in the phase of $\\cos(\\omega_n t)$.*"
   ]
  },
  {
   "cell_type": "code",
   "execution_count": 54,
   "metadata": {
    "scrolled": false,
    "slideshow": {
     "slide_type": "skip"
    }
   },
   "outputs": [],
   "source": [
    "# I have to redefine the two quantities below because I used them as symbols in-between\n",
    "L = .33  # length of string: 33 cm\n",
    "x = np.linspace(0., L, 128)  # the x array\n",
    "\n",
    "mode = {}  # all modes stored in a dictionary\n",
    "y_approx = 0*x  # this will be the sum of thre first N modes\n",
    "y_init = 2*x/L  # the first part of the string; I will divide all y's by d\n",
    "y_init[x > 0.5*L] = 2. * (1 - x[x > 0.5*L]/L)  # the 2nd part\n",
    "\n",
    "fig = plt.figure()\n",
    "\n",
    "ff = 1  # frame number, or subplot number\n",
    "for m in range(N//2):\n",
    "    n = 2*m + 1\n",
    "    \n",
    "    mMax = 8/(n*np.pi)**2\n",
    "    mode[n] = mMax * np.sin(0.5*n*np.pi) * np.sin(n*np.pi*x/L)\n",
    "    y_approx += mode[n]\n",
    "    \n",
    "    axl = fig.add_subplot(len(range(N//2)), 2, ff)\n",
    "    axl.plot(x/L, mode[n])\n",
    "    axl.axis([0, 1., -mMax*1.1, mMax*1.1])\n",
    "    axl.ticklabel_format(axis='y', style='sci', scilimits=(-1, 1))\n",
    "    axl.set_ylabel(r'$N = {0:1d}$'.format(n))\n",
    "    axl.set_yticks([-mMax, 0., mMax])\n",
    "    axl.grid()\n",
    "    \n",
    "    axr = fig.add_subplot(len(range(N//2)), 2, ff+1)\n",
    "    axr.plot(x/L, y_approx, x/L, y_init, 'r--')\n",
    "    axr.axis([0, 1., 0., y_init.max()])\n",
    "    axr.set_yticks([0., 0.5, 1.])\n",
    "    axr.grid()\n",
    "    \n",
    "    if n == 1:\n",
    "        axl.set_title(r'$\\alpha_N\\sin(k_N x)$')\n",
    "        axr.set_title(r'$\\sum_{n=1}^N\\alpha_n\\sin(k_n x)$')\n",
    "    \n",
    "    if m == N//2-1:\n",
    "        axl.set_xlabel('$x/L$')\n",
    "        axr.set_xlabel('$x/L$')\n",
    "    else:\n",
    "        axl.set_xticklabels([])\n",
    "        axr.set_xticklabels([])\n",
    "    \n",
    "    ff += 2\n",
    "\n",
    "plt.tight_layout()\n",
    "plt.autoscale(enable=True, axis='x', tight=True)\n",
    "plt.savefig(\"Modes1to4.png\", dpi=150)\n",
    "plt.close()"
   ]
  },
  {
   "cell_type": "markdown",
   "metadata": {
    "scrolled": false,
    "slideshow": {
     "slide_type": "subslide"
    }
   },
   "source": [
    "![Fig. 8:](Modes1to4.png)"
   ]
  },
  {
   "cell_type": "markdown",
   "metadata": {
    "slideshow": {
     "slide_type": "skip"
    }
   },
   "source": [
    "In the figure above, the left column shows each individual initial mode, and the right column shows their sum, up to the mode on the left.\n",
    "Notice how after three modes ($N = 5$), most of the pattern is captured, and adding the fourth mode ($n=7$) does not improve the solution that much.\n",
    "This is why this approach is feasible: because we usually don't need an infinite number of modes to obtain a satisfying approximation to the solution."
   ]
  },
  {
   "cell_type": "markdown",
   "metadata": {
    "slideshow": {
     "slide_type": "skip"
    }
   },
   "source": [
    "Solving for the initial conditions means that we solved the problem at all times, as the animation below (saved under `PluckMiddle.mp4`) shows."
   ]
  },
  {
   "cell_type": "code",
   "execution_count": 55,
   "metadata": {
    "slideshow": {
     "slide_type": "skip"
    }
   },
   "outputs": [],
   "source": [
    "# Various quantities\n",
    "t_end = 2.*np.pi/(omega[0]) # time array spans one fundamental frequency\n",
    "n_frames = 100  # number of frames for animation\n",
    "time = np.linspace(0., t_end, n_frames)  # time array\n",
    "\n",
    "imagelist = []  # list of frames to eventually animate\n",
    "\n",
    "# Animation\n",
    "fig = plt.figure()\n",
    "ax = plt.gca()\n",
    "ax.set_xlim([0., 1.])\n",
    "ax.set_ylim([-1., N//2+0.5])\n",
    "ax.set_xlabel('$x/L$', fontsize=ftsz)\n",
    "ax.set_yticks(range(0, N//2+1))\n",
    "ax.set_yticklabels(['$tot$', '1', '3', '5', '7'])\n",
    "ax.set_ylabel('$y_n(t, x)/a + \\mathrm{ mode\\ number}\\ n$', fontsize=ftsz)\n",
    "ax.grid()\n",
    "\n",
    "k = [n*k0 for n in range(1, N+1)]  # the list of k's\n",
    "omega = [n*k0*v for n in range(1, N+1)]  # the list of k's\n",
    "\n",
    "x_positions = np.tile(x, (N//2+1, 1))/L  # replicate the x array N/2+1 times\n",
    "for t in time: # We loop over time to animate the modes\n",
    "    y_modes = 0*x_positions  # nx positions for N modes\n",
    "    for m in range(N//2):\n",
    "        n = 2*m + 1\n",
    "        y_modes[m, :] = 1 + m + mode[n]*np.cos(omega[n]*t)\n",
    "        y_modes[N//2, :] += y_modes[m, :] - 1 - m\n",
    "\n",
    "    im = plt.scatter(x_positions, y_modes, c=y_modes, cmap='copper')\n",
    "    imagelist.append([im])\n",
    "\n",
    "# Creation of the animation\n",
    "ani = animation.ArtistAnimation(fig, imagelist, interval=40, blit=True, repeat_delay=80)\n",
    "plt.close()"
   ]
  },
  {
   "cell_type": "code",
   "execution_count": 56,
   "metadata": {
    "scrolled": false,
    "slideshow": {
     "slide_type": "subslide"
    }
   },
   "outputs": [
    {
     "data": {
      "text/html": [
       "<video width=\"432\" height=\"288\" controls autoplay loop>\n",
       "  <source type=\"video/mp4\" src=\"data:video/mp4;base64,AAAAHGZ0eXBNNFYgAAACAGlzb21pc28yYXZjMQAAAAhmcmVlAAFkCm1kYXQAAAKuBgX//6rcRem9\n",
       "5tlIt5Ys2CDZI+7veDI2NCAtIGNvcmUgMTUyIHIyODU0IGU5YTU5MDMgLSBILjI2NC9NUEVHLTQg\n",
       "QVZDIGNvZGVjIC0gQ29weWxlZnQgMjAwMy0yMDE3IC0gaHR0cDovL3d3dy52aWRlb2xhbi5vcmcv\n",
       "eDI2NC5odG1sIC0gb3B0aW9uczogY2FiYWM9MSByZWY9MyBkZWJsb2NrPTE6MDowIGFuYWx5c2U9\n",
       "MHgzOjB4MTEzIG1lPWhleCBzdWJtZT03IHBzeT0xIHBzeV9yZD0xLjAwOjAuMDAgbWl4ZWRfcmVm\n",
       "PTEgbWVfcmFuZ2U9MTYgY2hyb21hX21lPTEgdHJlbGxpcz0xIDh4OGRjdD0xIGNxbT0wIGRlYWR6\n",
       "b25lPTIxLDExIGZhc3RfcHNraXA9MSBjaHJvbWFfcXBfb2Zmc2V0PS0yIHRocmVhZHM9OSBsb29r\n",
       "YWhlYWRfdGhyZWFkcz0xIHNsaWNlZF90aHJlYWRzPTAgbnI9MCBkZWNpbWF0ZT0xIGludGVybGFj\n",
       "ZWQ9MCBibHVyYXlfY29tcGF0PTAgY29uc3RyYWluZWRfaW50cmE9MCBiZnJhbWVzPTMgYl9weXJh\n",
       "bWlkPTIgYl9hZGFwdD0xIGJfYmlhcz0wIGRpcmVjdD0xIHdlaWdodGI9MSBvcGVuX2dvcD0wIHdl\n",
       "aWdodHA9MiBrZXlpbnQ9MjUwIGtleWludF9taW49MjUgc2NlbmVjdXQ9NDAgaW50cmFfcmVmcmVz\n",
       "aD0wIHJjX2xvb2thaGVhZD00MCByYz1jcmYgbWJ0cmVlPTEgY3JmPTIzLjAgcWNvbXA9MC42MCBx\n",
       "cG1pbj0wIHFwbWF4PTY5IHFwc3RlcD00IGlwX3JhdGlvPTEuNDAgYXE9MToxLjAwAIAAABtjZYiE\n",
       "ADf//vbw/gU2O5jQlxHN6J0zH78VuLo0N73OAAADAAA33OZE/sqTBubAAALo8fpH37/mAZ09Sct8\n",
       "jMgUwaxZ4USOFRdrKKwddCbeWxkMAquZvcegsIDC6fNJgkqPis2FjjBigho7+rBGCC0TLk3Mo6ql\n",
       "dnWWt6N5rx2Hi4XEv++AqZPAJ2rtZKFsxoZu5fTdn0+TKLXtaKk6EJ93ChVG/dlsZMuaOLptoMZm\n",
       "i9ktSIq950XkSANWrhmAn4rbZtiL2wRIg+FLwMZQX+1rxD2Xn5v1rciUyhr49REM1k5iSpNVSfhp\n",
       "UZPLZxkGmnNgkaArt3TCCcAUZeHCOXF/kHGCYeKztVXBmbwTm7YXR6PMiQQuj9nwX2CYr/RLFM5L\n",
       "Rfl5+gt1ruWkbevgVJPEtsMBbOWNcpDcHjRqF6dnvfcIyvBx5/lkmgqPRbeuo30TzLYQufrwFZr3\n",
       "31c8IUnZSNqZn+mFUY5IZ6qU8vsHKgvt6AHxjpPcwzUW81V4Nog0+BlGuSD/zev0Up9vgbLsp0vD\n",
       "Tmc+RmYjMoaMHElaAT3jXeOzl5ScYjZWi4nbu+SdejBtpfAJcH/6tfunlp8PSzy0lPfB85N0Cx9L\n",
       "BZKI6V1alZ+lhFjfoCZuGGn40NFBSDZFJMt411SHr3p/5zWIxVevKkGp3bEl1wCU4WmOHpheVJ8X\n",
       "wf59wIlRwZ9ZK0p9V+z25yBWabEol7m3BhcYDtoA0ASxa4LMvKAIjt7Zb0Cmt4yby8EoPyOSczfZ\n",
       "6ar9kooShCM1fJbmREtr5ezNCduGisTpuHTZPfUmBMKnWHrt5qGcZPtLFQqRZfUWosDwx4mt5WM1\n",
       "aSw/sd8RbBdK0QqJXtwTDF+imGtqMs8inhSawtt+DwCGuA7edKBdzEXH6EyNlZNv2AjKNGfjn718\n",
       "Mpj53Yt0n4g4WYSVc2sEzj5c83hxxHfo4+RqcjwSwo3pF7u9qi4hawqhki5FECfRT/dnYY4JQnzJ\n",
       "FvehnmGhNXpM1h2BIeYAbio8TqUjzztLm6Z9dxUxpxWc8iYbpSO+Uf3NoRqOq9d4QaLH5s4Pgl4f\n",
       "OXc9X27d4DCkYmpd69WCjY1IhHBnkJWs7GyhzFnuRFfES0C586AUQZk7IXZ7tW4RL3qQS11P+7TT\n",
       "hUYGa/PzDsR5qaWe09dC4FlGmMMYDIxtp6z9i5dCex5iUbUCoPLRW9ho12ccyoHYkGLGefyrESXm\n",
       "tCVrMQNod2GnsLHkKv+O4nwUNumPzkPbIDyhMGw0s8YgI/RYYGQ7lzM6GPeo/EuCkwRwoJa/Sl13\n",
       "2e3I1MmgsKealxTji4ZMYN2W6Q+ucdzMH8g7KByG9r8PjqixAySSw6baSGxaRzuwcri5ZmgsavJE\n",
       "TEgXAOp4Vi/ORcGXuDYj64XcpvraOq0mLv8ipTEjlnBtS0v3I+BqiYwb5M7epR4CtCvP3zouIHzP\n",
       "7i00H4HGGnJE8K/J1gbPcaXv+N3iuvzNDK4UU4UqNsJUGMnAlo8Ho/H6i9pC9k3vKu//c0H+S9NV\n",
       "WZAX/zVnHPZGPfTTbkc/gHrsmPCrQrsfauqoo3PQZvRPnMfjeFSju+KT0aw2G4/CS/wyKGMOR5g3\n",
       "+7+j1w33jDhnPcr7O7y+Z7evnMYCdIHOb+I1xpRhj51z60UgLiU75Vj/QLRvAsU0nCdyzEIottyT\n",
       "qR6HIFoT8tHpPPsjR317+EFPryRkeRyzWT7qK5149/7rLoyYipGHl2Wk0JTrIHaqHfoJVs+VbbCw\n",
       "xn7eX+0E2XAAQz8qC5w+BarP/kvorsWIkDyUN9OPaYwcatnkzQ2gkIHLcLNNW+G7+iyArXb9dQQP\n",
       "JbTmt8P6IbaaQLffq0oLK4jqSxCcjTCrUgz3a257WKRQvQCKUaJlKpdpASTcis7bUPHhgT/+0BrC\n",
       "39Ly74sqDPINj3HLBPaZNEbLWrwLaS45m1Qgno633BpNewJ5+0TWbJkNGTzOKfOHHViF+FbMVjvv\n",
       "eQ4wRyPj9gelcDG6J8GYorfqdY9P3GozVO/KpDTvXwemV62VB9zDrDDr/AFKdgG/RCtdH3QElvCB\n",
       "GtmweuR/kid8hyznpn6Nrdv8XMd3Xh79C1Tr+zocbXnlGSgMzf8GvpB86WBPkDMlhq7/3/UwhD+L\n",
       "thF2vCV6MMSRe3C51ni0GRBegLyGsfPoXDrhE0e0NdcGOOjx6wo0DuVEqFYpoftLt0HqbcouXjvA\n",
       "P+dlPzfO2T6jS2L4UXMQn4if2mA1Cr2y0H/jdFAkHI4Skmb7Q5DA2oIJ9y5bQ4IsOWjJY2Bc4Mo7\n",
       "UCForZ8bbwzhIUWxG9OVM5yhlPQZSZtjbs/LddL5wis8Yc0E6TqTM5706I0jkPTO9uLqOqrgmmJK\n",
       "4CufO7IcF50Lk1P2Gal6TWh4rFDlVWNkAnUHuzDW1pm8yhBUQaD/QRwxTXzhU8cL8Xql6+aaXXSJ\n",
       "tXeqk4y2eWn+Y37IYYJNyAc2x0gS2Bc/QQBP7ng3NbqhQDt/3t6+FU4BrixJ1F2Sc7HGnGvAZSiy\n",
       "ixMC41jQvjehwjNVlKVqp/x4sAlB39q8a4WuwJi4DGDguo67+ln46AxJz8FglLZ6veeZThBVZlSN\n",
       "aL0iSFH0ZHM8YzABW/4rU33rUMffHGwIO3f8FfP7iIxqC7peVQ/d79+/xL/hsxBOcwJCtI2UJuWq\n",
       "hiIWPhmYUL8n3Pv/fWIi82GyrFqKKAVNincQPytBUAIPNZHGbqh87N8fRcewOMXkWPTAZtvgkFFq\n",
       "7ErmiWLJi1ij986RZA7ue5HP+6+XylQEJkBSdaEgRb7wPxw0myyp/6f5ipLVO8oIclGMgUfinyiv\n",
       "k/spl3nksFkzXPiTJFqwA9WYCfk+YHcBcwnwRAyuFpKL1rVsOKcQXZZ9LLxHeSe96dmujsG9Swdn\n",
       "bhasyZjxjyUqfmqpvvMyav8n5lSBTPtoe2GcMZamihl4BSV63TV1ktB7z5aaxZGb6MyBiI7ACkYx\n",
       "VP/9ThpME1M6q/uxiRbKtQVNh5uhLkDkVUPqObJhRVOYSX1BJ0nQcz6KcNyfXWAoqSdMpfjzMOII\n",
       "A6Rryv2zlt979vRUphW+1ccwe50zD3SUF2qZfE4A5hjkVf66mdK5jMZEHKwBvB1BaOwXjiQa1YjM\n",
       "LgkXe5GXogHRloXh8v5fQNXh2roB/5/5jJvcSY/dscXJid7OKmiNigb2ntUhmvbQCPjExiYNrFOH\n",
       "bCpInaf21SoIFlMYG2/VP1/9nKKgsocvAe0emO63OmdGAN+KRCKcRAiJU3lUVVSr5RQfihjyJHfg\n",
       "x5O4RHlK54rD4FOR1ETak6Ajwh/KkLCEIOSpGDqr28ajnmCXhlW1FuDa7IKksdiIZURu01Z+MH/r\n",
       "kMLguHXMimMKonvk7lo0H4fV4K0pcgqikLvjSGnDB+Wy2drrTgDkI/iyMA+gdhrmXOrWNPLkVafK\n",
       "NWu8tYY/REtE/1Ec7Hh06WvgXf1EIHg8StpArUbcekV7kOXIvo+nXwzDHmsQ8P7R/dsY9c0oEl2G\n",
       "NahJ5kCkNtnLfrDswQeeUaou87v9uYkGs13OYpB+3hMzAHV3hwpGS/Ch4KvdESy11BlYidPBdeAb\n",
       "Ud6e43tUewLOE7Xw+3xP/n9I5oGI8E4iA1WLm+EHX3hSsMmk5nPERRhd6EJjoUTZA+5JWBZhd5t6\n",
       "g7QcH+6C41OmZY19LpV2aPW/rId/1EIdXhcvwOGDY+9X0edTl9uJh9iBEId9IZwtsjYsppfcqZcD\n",
       "VN2d2hbO3nUeIoDm31TR+OUv+TErl8QIsEv/wuSRSqWKP2l0n3pkYwTll/os0aJEomHywewJSW5/\n",
       "I5cNhm9yXZomYlC6/PsPEq5wzeCdBYO1O4QpxU/dSa4fM9LJZ996QcRbUTrt0K6CUjSrOB0zYhb2\n",
       "ucNFtJ4PvEyh17HRxou302+CTlc7+Klt7EcpDwzgHrMSISoZ+F0cWsoGA++BCyoV6A0jtvE1FW6L\n",
       "BT6/4i2ldzIiSElRIKNycucr3HpFdBS2T4EKh9LWHFBT+6bKUcD6unHIgHPZVPefRu1snp/zXVcw\n",
       "eKgibYhW+NiDEz/f/XnpbymJ7ZD3LNRP4XqGMO9gGcgaNxIxN1NOv6MdFe+E/KQQRDQJZIoyGx+B\n",
       "c3aJRlWexQBJcPpVjPvCJ/sqOPl8LQpYRj0o7IBKynSiOlqIDH5KMDZrxiAU0eCIxELQrvmYa5sA\n",
       "0ebtsWBkcE15d9TiVV9ueF2O+QXMprX81bOX5A67VI6de7krEPrkJQSVA2zIryawXDpEkpifm4M0\n",
       "3gvXoPuOQc85HOZ8HGcm2wAlFaAgltCag43rmGH/O+8sdUsDbeDVnp1sdMGwzdp/ShzFu60lNXCG\n",
       "vRnU2uU8fp10eTiQJcG/0j3rRiLgaSmtqUPLnG94fPqwAJNI8EEtGR/Q3EQUVuhtK9sCkdLPEoq2\n",
       "8efT41Ky52PMAwpr/EWW09NDG67SQFzu3Qc7rWD7VlthFjHsmFYcsYg0dIsbmm8soPQBVYfVzQf4\n",
       "pP/tEp49YMYnY1TBepQ7Jf5gw5x3Kmd5bYKVjElzaexRwmNXe+TSNf/bbRNjYwclq3RoCZbr0wef\n",
       "vyNuA3YRSXbVH/qpbHdguJpvo2LSvh9lvj823fqbbOGtNfeKZOazdcE1mYQEg0MzB0iWb4+clnel\n",
       "lCiXOMwXGTumsxWh9r2FyR1f/sASmFSGcpjJ/c+QDN8IJ2eazhaSnYUzwhXN8JLetQ9wzDUX8nAq\n",
       "8wcFJSMyeKtEMOX7DIswObdIW/w1t6/ejh7/VT2P962tlUDJH67xyhKnO9wqDIgnOACb4u8FIhAB\n",
       "5UQrhWdG868Qdg+jpdChAtIeruEpJGzxSBPYmwYHnu15T+ehW2CqVOAPI+b23USN7a9l1L+OQeEo\n",
       "pNCByZAHIbwvY3Ak/fyxFaFgnkSpN+kDOvDMunmuGXj6coSg+ZEnrtN4GjkuQNGWrFFuEyiwvRxU\n",
       "9Nb4pl/whJBJlB+bJYfxaRDapUfeAFoyxCg5+6PFmMy5gEpmKlrrgZ1mTl4MMw2DLp4t3DshGVF6\n",
       "Lia+m5gUIM4A7/yhTDY7QE8/7d0F3bTFJm1U2/pLQTN1vDCT3Y6Z5geiMakRmcGowQR5KPUSyW2+\n",
       "BlqjFh2BiFLlZ1FWW3yuxgM3wW/Fjao1Mh6zVQliGbbxZM/dgCbONN0jvOn/t4hPUcyk31X60iJ1\n",
       "EOlpjO+ibgpivHSj9mM2GO1+/b0tnREYPuY0cNPvyL6F5GLudR/WxWTNYSmJ6bCcwzgr6p6WLFPF\n",
       "I/1rUyYLajruuCxRnY1KcT1t6yI2E7cEakT4BfeBL4jBChhKBlj8s7VPQLouAm3R7JRkycdHUttA\n",
       "Q4VKA0BVMT1BYnsmvv7tnFZRr68GyTVnN7X83+sTIwUCzaVjOp+5IFuzNyEbmZQGUyyafiHtQ2FX\n",
       "rm02sL/FClCzdSU5pMCzlfKTQvY5d6vZCB0t/P2Ol4w1xbavlp/wjdWT0iUPMtih7WdDtA2p08tf\n",
       "UBDyOyVj2C3dEwTLQaK4ZE8RuRB46gxMIE7SExq1ckanEB858nrZlbmbxhF32CzZymkJtxDOLEp4\n",
       "qj5599Mkt7y/dnqtikVqlMKLIzIVG0yLKUZz5sxbWEz0ER+aobjb8PaoV5MmphUcnNWLN1W0VEb7\n",
       "CqBLOcAWF9+4qrUQwr+AyCZGBRDYHUEck1wwJF1NB1xRv+O0MFE4gYqFkzBJIRHQWHVY8hTK7OqG\n",
       "KhTJg7yOVpDSWlUMdkE+xfOs0DYaYAmDPhdkp2pvrXZehKAcZa4K3wcqoZmJ6M2T//LjeO0HIKcE\n",
       "tvpuFQsrg7Z76x9HltZIbcF8SkeIILBIp6vnVi91qL5FOA9Ts21cCdOAyDvqA6RCpEvBAufUZqF7\n",
       "Lo+snDsfRDJLNMu8RDv25FVWjHinHOXdsVsgO4+WlravvfP0qoWLl24Bo+tj66H/zsHWZM+ifAt5\n",
       "F8VblF7ruGnJ+tKwv/3RtRRPz93dU4jzAGkQWHcxORbU/raT6wU+J5QAUG3HEHBDgWeU6zWij4JP\n",
       "7tgh6izB3/y1ZnCWFxg31jysq4liyNjhsOcWMHvL4Ywwr+HftwX/8+b1lM7xGhWsNbm8RBok9UR9\n",
       "HpAE8+++Gxv8imZJtJ24vxPlGw+zaN0DM0eydtPNnV+IVJSnaCiSspEdlwBmaNpjg4bw64bqAYZG\n",
       "g2ecoN+OM9XH82h2kOUceKZxyCsIRRsEo9XZHJYRgumTjp6gj7ZEw+nNm0LP/nKDY4fAd9em5sTc\n",
       "6PD/+jOUe65FGBzvX5zIXMMg/1jVTzPpiQKPn/3PKZ34F05p3EixkGi0D5pbH0qyJyVjGgNft8Yx\n",
       "cNFgt9KCKIVRQFZeggHeizL4rsgLAONnAiF0tafUU2SVaaEPqgY5N5kTMDnf+vEgyFS9Itd9LWRA\n",
       "9iuBUNeWISJXdyPgn77RN+Zv3TiyBEonjxpnTqbTuDV3GBicJhWrFhDdI6UuchdCFLl2x0IsbDZ4\n",
       "ZVatwqJIpPULqGlpP8kb7VgHhJH/L6E+0Ibbu/xrpVZwhJrAdlc1i1u/3T5s09eOumR+tqi1u4Jw\n",
       "skj6yMc7EiZ6dVRaptnnDrKaXtBeHyPTIDGxbJPpmuvlwuYLXqZpaZh0N3rVn+uP3YJ5YS4s4Lnj\n",
       "ql2HQA9IhMBQHiH+Dy76zKTohK5gy0lqcSWXlRd4jhItCaS36W3P0w3ISt7R63ga5bT8bG3OAbzK\n",
       "hyoljVrrAbpj2yQNWdAH/wteJQ+rcMwzhFOsUbL3WvLQrDLuitSD9vb3uTEyYW+AaZ/zlBXPMOAP\n",
       "67aK2mhK1taeQPq21152HWYPXuO+Wgn8og/BsJt6RmL/+AUKyr+5EpNz2Wd9RsxRrsUThbCy3MI/\n",
       "DCWDfgzGwvUHJc3e3Ghcp5XdlSLjSBTz1xCzk4c6g0w6/OvjFmXKAcxiP6iKxwJpbWLZuAmIU2UZ\n",
       "WvsLpqtHAe3Is7wKdPle48at2x/AVOXb4LnH+TNjiODHlGl+0i/zf2vV6Kfvr2eoX4GYp5J6pjkr\n",
       "/kOAcdypRQLn5vSSMWjWvnXrSKOTJvN/TSKfgw9mJyr8tprppiPqkEEPkqW/MHZzYmBKiQ+LT+FJ\n",
       "EqkVs7dXPsMRaRotqagDt/xRxaIKRGh22uRS6cYSESB/V5FCdKmQZ1pJYBxv4r2AEVQvjso3jWCx\n",
       "egKUgL1yt8dBL5GuUHj6Qi/hqf5iamJG1rxMaQ0et7ba5qx3sfStYRej41oEUGeYaVO0mPQg1eWg\n",
       "8j+S9K79YzxPkoVVXPDbBpIsttQWvcOcSj9yqzAxHE/5ShzyXiUPO0PaREY1RwFdis0fWckFAw4K\n",
       "v0J+SvKgM+rHcaJz0mURUpqplCLq1rOAdr4/E1wIbYQXQwV/y5ZNjou/BUPC53dM7ymhiuqzPJSe\n",
       "9iVQOHPd0dipqPjIVVl8wr2XOPFCLxlTb9paF6HQfCAfheGhM3NsgOOeYFCdPesQe0ZeI8Wfl4Pu\n",
       "bSWVjQDyUrw7ca4y/O+GdPfSb1UtnIOPHTOMFA7+k7pVPa/rBmAVhdobuukEhC+ZDjXNUb65K4AG\n",
       "020AdSNAun3byNobKqbjxZlSWvIUx+B9UcC73gS+8swDSdQCaP0+AInEGTU/xQkgGCmivi+DUrD1\n",
       "6R+qfVOPe2/qtJVDHuXlzUE9j2Fv8Et2WUuVuZYHtHr/6kUqvFI04bEj10vLCJV9y2hJ5CY68hYZ\n",
       "oJz9EOE89WtJbykkLbf7D6E60ra43uxWcfrxMt5Wb7SEx4/76x2l1oP9ojIvpHtGQZK3kjbU9Y6h\n",
       "r2YDH3A/RRjMI5BHJvMdWsV+EGeG9zi7H3xuaUmTkw/f1Ka511u1lxBChCz+0tpUcAwEN5rSIU7c\n",
       "i3zX+o+NlMjeYZ+Yl3ISVLMb+Fws7DcBARm1c+WxYW18xLsiMFwSLlXgeKw09n4qdBhGVWAkqh/7\n",
       "8XZtb74kJpao72LjW+jMBP4umYYtMUAItKrZt2a3c6HBepSKgImBH2DOexDbLoMwazJH83ulqb17\n",
       "w5WKeTE+yZqje7QZ6MSZAohphsoAXwJ0dPrjhPA0mGHrVOY3h2Rl9Xzl5hmizTUL/t2NpTAHuRo/\n",
       "Yi3+wLoDmqcpxAOJX918v4dlCDAwEzCS8oTyWPyJU6hTumT4Z/z241E4sM1yDBAbbHyvach5qER6\n",
       "XXkj91DtseyHOfGmFIKJUUwYYj7ZP8tV++qUBY0CfF4EQQUsTrvgr1IEk2tZNSi7Bt2QLu+zDxud\n",
       "RyRAyOMnpZRIHIUqciAEXdI91JB2eByZy8ZPkUhKAyNk3mCrl4ytUidbZP30CIMzEFksJbftk+Ho\n",
       "WDZ2FppNDez6LYWta9TogI+RvPkMqPqjHvJL/ppki+oBEj5Xx5hI6itTvRRtTzfY35ZQRFTyLBQp\n",
       "O4HYwsIpjYNUdBmiogRpkugdLbNd+H3fN7GZ2VIX9skWQkw0ZMiioZb6gvkVWUJZZjpqTyaObzeS\n",
       "J9nSbZ0sxAOxf1yytR4GLE40zAi5F+WHP9juKeCc9dxJhwV4vDt4uZ+ZgtCyqkz2wW+rlR2ih1QW\n",
       "oRJNIOiW6HfUUXuEuoVoSASUpkRtsBd51nBwfPr+vHO+a8Abo3C5xeGQ9dE3+SeM45DQ8ThosphH\n",
       "XM6Ak7r0eI6zzaPAOmGcr8G1EjzW5N/RQTvmxWcRyV0Y4WzeWCak0yTDkoacZFSdI+PVHbrhwXKm\n",
       "0Y20e+9sbMZLrCICjU37X2FcnYeygEnkE9Tr0vVyRzxjM9lRmExP9Oy0WLvoP/PQLZ38vPW0ehgW\n",
       "JsEi+CKj4vFUzSHKdo+b2wDSluuJvW+oviXTkx9E6IffkPUzDOtsQiKCTkpMbPZ/qWcC1AW/fs4c\n",
       "94qMuu2thGJpr9Y1ESmaWZ+pbYeAWuMXNuSu3+j6v3TpmjE6Rxiz/QufqHWV1S2Ltnw0F7gaQBrs\n",
       "cgSWtZMUpsK/eWmBawPH43+/mIkFL4vuZbOlRDw9sJ30+m2gj9VV7uma/L7rgswGN07WQaVtawcX\n",
       "Wt7nBRG4A1tyRneJY9AZnRAFZvgTjHZsam+uJgycRCOGdgplexj4sxblFfnhzaoGrt7/JXS/graa\n",
       "pkiU9qgPEsIUERSq6aCJrut+8Ivue/6p+c2zXfOQfoo2gfaY1Bvhl4VigT4uix1qqk8JW40FCQOc\n",
       "hS9Ooz9VVbpBaHHOawJ2cDT9HvJUmppHJyTGXZgAJPVeP0p3eWaAqZODoYRazyaxkB2OINh6jawS\n",
       "GZ8iWUSI2E8x1fnF9Daj/JQDNc8LmTWqVRSSz3xpBmAmbpi38Ogk4xYhqZS2iIubMDk2FxaiLp/V\n",
       "UIYoo0r9IznWyHwv3O4fST7HFYqVE3IKfH+9Ppf9GDDQ4MI1YyQ0Wvy+wHIT3FE9hL1AABPxAAAC\n",
       "p0GaIWxDv/6plgC8KG4AhHDbtaDWsDt0UHpC/gIp4l+/9/l79itCneIh7XVnI+dOK3fUjwohro+Y\n",
       "+TvcQfcKL4wRcR9u2VQyTwY4SuY8SkOfNc/oo9uqyEE9wEWzAa/+MzFhRt/sSKreQA5dJSiItawp\n",
       "L2po0Cd4Egwy9wq3Ounbfw7wDrajNCpCaCLerR+jHJqqn6P/fT+9KWYBGyr5ZrJro8zZLaUuzlH9\n",
       "FHuC5zJRnwb8qBWJirdPqO4VHMw5ECMzGBpcV7/xL1T4oyx6yEcOCDmjOIkDNlYgYubCHJwyMcSd\n",
       "FhKS33nKtggkFEwwfb2hBLdBvRCDMT8xd0isrLBkNDcpKSa+tWM/EgZ8dKtrGpDmdH9UDcV4BCxX\n",
       "5JbUnviShhsj+sjN97RWxeQU1vhs3get6QbDATRImbwDQ1999Yw/rxpXWqEgQ4wxThXD7Qm5aeLn\n",
       "TZr04MgsDBOLd0T+s+2SBv/y48/UcLpLVVPF95YemMb3qDeYnHB7MkICBwyeXB/RpYH7OdmpDvbQ\n",
       "zXNfc/rEMSouwNMPdoLctYQpcbi5CR4MQ7VMB6/cnghaoDpXlox8006pgxpEbXiMFepB8a+D1anu\n",
       "GQiu0DwzfXWz9u8faDUJfMKms0lvA+jGH73jUdul7eCRp3NkmQkSZpyn0wMVP2LI9Hi+tg/5qSfq\n",
       "G1a8p4DDkm7UjNSAAY2BfHfdNDhvgXheELksirKyWWT7f/+THNS+GIwutBI8IN7/pqtVvfN3ejq6\n",
       "BWIqevwemT3DhhwkP3o/ELMlhX+ikW77He2TaQR10Sf2MYG7+JGRti9Lcq7P57iyOqHtaWR52jyF\n",
       "wN6Nm08+4lygCcOokzvQ79+dGDV7PHRM/mRyqelgHIJhNN3L2n01wAqSPVdMJ1knxcTwK/gAAAaO\n",
       "QZpFPCGTKYQ3//6nhAFS+AtrV+7NeWGcUfh2CYVANrxM/9/J/vEjE0Sa+Q2cXercd5TjqNwjwZi8\n",
       "zahYSfoQFk4vxcsAthZeE5nDxsJnNMD5gNieFWoMdQR62RjPVVM4fYA3TntcmsuBR+PLNOxI2X6q\n",
       "STVjoeZxqlKba0SC7uYeWNjZ/SF593FCwV8i7QkQwAlgXyDp2OcTRBXFfQ79/1lu18GXwN5PiUzQ\n",
       "9EzjbcO2npbmfmDcjj1gX9eaTOnIbRpN7svV745VIKizlZidIAHbZBhjArNWUbgIOC7qzba/5+7p\n",
       "GEqlH8kxHG6Kp9u8sNxCkXLq9m89u6+USInOCz7k7xqpUNmiahac9S0TbCyuKsafNJIeBrjPfUf0\n",
       "qW3i9aSWPvgDpBTc3WlVetfWZJJelOBaJ7UxqtvlK/7f+hyhnolHePjLkRn4E3pGNWgI42GIRo6r\n",
       "G3sLH2QLrpKAZ3vovxBcz3Dq4Jo5sIw+OM4FvVdVK+ms34TQkVoqT938KS7tszYj4Lz0KqzV+eYQ\n",
       "KHe+9R7yFjim5tLkQ+9TP7ozzYozDpn+Mq5ci/IE5cDJ8ldPzRj7qCou8cdjAkdrnUUB9YOfOp1y\n",
       "RbxZC5n4Pap+o3lihsje2XhwLSITG+HAdwo05wMvn2IWpChc34lJJjSf/N9a9VI3BNJ3JEfXjxjS\n",
       "PBHQEsRQAbSv8eJ6vLOHUusyPNeB8JA8vZAQJjiznSWlLxRP5XCSM/dMIoJ9FaHGX/MuiLsvaXw0\n",
       "G2oK5YsubVZD+s9jK/r9ybSX9vmxghK8bPy6/+pcG4dVslvW6NRC8OWcs1oXVBzZIfPF2e97JJ2c\n",
       "qcbD3+GL1TJn4Ed60pjUQi3+QTsijVgRWVdDNrsMcYkODxabiJYIizq2TOhRQ/walS2WUYPNDo3e\n",
       "UIwERQC3zS+8bqyjyjCBH9Ljt6HxN2sYE3bnNFBb+bfs7Fj3gjOaKYU1q6JtMQbl8AD2TLJYSoVA\n",
       "+HyukIaYW6S0aofQWX8ckH/TYez//2W9jfUtQpJzryWe5pPWJuF6LSgYeoGWOYwVdKqFnflGYnDD\n",
       "lTX8RFZeyK/UxYVpF6h5LBxOLZvT8OSNiP1vFIa+1rdRJ2oYWlF3S8PvkRupRY3Gz3WAZkkjw3ZG\n",
       "wO0eHX3J6bZxhbcfHkALlfRmSzf2fbcR7q5F4V32w+XDvFkoOnc3bdo2TQp/c/r476BowGPWDP6C\n",
       "MihQF4x4cNzR0Ob2nwJXtV+7YZW7CjlVzOGMEvzyp2GQPDYhyYKtEJuOLVVn9XBo0duiIziEMEr3\n",
       "4baQg3RoPjYYMkkp0ZZmfeqIP7AxkMS0Dz3ILQ8/AKYjmmQMtlZscDjjUkdSLRK8RlptfJhquCeb\n",
       "jXYQbE8sklDBNHxFnTgxiCxgHJzvmCkHIH6YcKv3Ix3FjrylEct11cKhtpnVTI681aHzHax5xSr9\n",
       "soCAKlOUWBXnNa4GrjKKlbZlsZVF8zvMBLEcWytMIuVaUJQcokJOSifQGqMOStoJxO9whgCOvYCX\n",
       "p7s5jpbhqqdiBbM3WD0Au5bKY4x13Lnlv40y/rgVl/KH7VjpCGgi7fqlkMteu3IkvVrgGzsJSd0+\n",
       "cxs6qDC40Xw1BpZXE450EUgEiHakJnfh6ret14oSNeAzE1KtZ9jkEbH5JNwZaTY82X923jv+cID2\n",
       "P7wVDlzTQIkeI8kW8FFTlwRwa++8aHo3GAZwVHDCTbur3GfkTtiVpT+RMq+UkUeuah/AvwlIE9pC\n",
       "nflC1bEgrmtf3QvaOJs8Wry+1E0/E8d1d28pKkJy308BLODOLmVdt9D6qmgzr6NUAF+lo7Q+vx89\n",
       "bAify7NE9xwiqAMh/GXBJks6pWdZgpHQJt03ewAoPPs8RZJpuLMFWUUsGs3bT7VrR4er4gvTDsUo\n",
       "mF6Jx7+uxNf73DU4/VGMoZnwWOWGb3jxOfPSijjZIP6BuINogs7jlpvUu+jdOivkP21vudrTCY6q\n",
       "esKHk5gdSQPnQwYp0shirLLor84832+6F40wVXrZdy2QynzlPPx5WT61yGVpOMWLL+KjK2ziWCWz\n",
       "kDO0HXGmaaTylZBpwA/BBeHA1ISKyJf7oop//1mcarsxU5BcxaiJDKOt7yT/QoC04zDUKnmddfcX\n",
       "p0CTvJmV2j/gSjHIanRkKk8tbQYjTvsTYpsVLlt1CsDSme4JMkwSseEW2+eiN8F6YvAagnyU2h2c\n",
       "4zSheY+bc0cwjbXOqmGI4Ip2ImZfzhX4YQAAAwhBnmNqU8L/AbJIn8PyKKa7/kXGdkIAJEqKrxTY\n",
       "s8kFTz6AFotsAaj6xyPYQl0M2KviBLLaOZaaGbs+g6mEjGVJr3A+ZwThAqq8ur9BvLxcHspIXbOf\n",
       "Ih/YZfG9/geWwmrpJ1np26qL3LS4zqFOTkEsg8GsgZQ3F1IKIiS8IUHq5+goC8nft74UBk+4Q1H7\n",
       "wuQTlGlvMyg2HbdnLTMrH4PlrJEq81B5CaFydjK14DOxLxe35H6IpPrcojQN78lxL67K7qqP4viW\n",
       "n62pPIas0bBytw6wUD/kE+6XK0YOpZiu8C6MMXOyfVPjie/kPiJ3CUQlHFPjd6dLg2wCGWPtBQjI\n",
       "GBbT1KTaQCz20oFBruc2RQI/MdEs2ZhHARZqJDhLj2sQC2tBdaBnlHC8+TiXMhkMbcW9wnIgzSSa\n",
       "IAXoJzOBkAc9O029ANZ3F624o0H7HXTb61W2HCIYahI2pwswNR+chUlQFPkhoDTYFpcGYIOnHZxw\n",
       "raEiRSBhggN6HxG8mx6w7+ayC5jld8OgVZdF1NJgi5KMxdix3xriACaBNaZD89DbRbAv4yL3ppxa\n",
       "9R9+Np26b4t96d2AbluK6dKraaWZVuLlRtcsc8nt7Rje8WvMt4V+Vfd55yyWBuMPG4jZWolA3z4j\n",
       "kReVW53vsc9Y6Ijb0QXcHZiVrrE0GkafBut/V4spcsLN7G/YZBO1lVq5GKDNPaC/uE9Ftxa5zHwO\n",
       "pHfYsb/eynyjbrs/Pa7bmkxfWSp48XlOdSua5Rll9d65QPZ9Ej6iM7+/W/8RQnLT3sN993vUG995\n",
       "mLzADhhFhOrZ1haiS3umAKB1KM6bUleE4PsKPBYEQ0JhYmM/+PoYZSL2/ex4jbYTPVegiYAgz9uL\n",
       "XtjWl3OxuShPd4EL3BFu3FCJeGSgbBPGptU3nu9sFJK0neY7wALbIl/tzXxS8mEQ8qRTbM2aJgHD\n",
       "m6hEAWzZcBa2qJ9TVpJjr0Yd/PbUohfKwE+XscsRXgHmpFgf5U8oEMYRIFn4JMy0rZClbcleZfEr\n",
       "tsfscOzEjAAAAXkBnoJ0Qr8A/rP4//ETPn+ElLzx4Ny9TQj/1snjtQs0Z+Otxr+9Pfvm2wuLR7e/\n",
       "Uqw+PBnkaTcitWvgbkAAIewEFVE20sKHBoQGVspNV5BOM6Num2y+q9peYgCjPiGoXyBpMxyQ7r3X\n",
       "D6mcs0NVR6BMnthNRLjVYx9SMvFx8OadPIKZSmFhVcYmCjU8LAAx8G7GykXkbsaWOMxP0sio1Vrb\n",
       "7Qiw/kojzoQtYYDaFjktVk42LpnVLn0rrG61eXaTnGf6IwjWZCay5p2c7y8MTOjhAysQKSY0tn9U\n",
       "yNOUbRRWQg5qHIEN1CkH8odGHFPuquS4O2qwn3eX0OolP5uwu2OIVO5L5SzcZjgNWW0fMUAL0jCz\n",
       "iOSLDjF2R2U3OurrSVIrdAfAhjIlyTLhuOl6MtUgawOvhlEmOcEvmBpkv8LODz/5lb/fqRPJE+Y8\n",
       "9PkzrAztaLP5cpsAfPDj/6bOSLBXK9Drhj8hjdK4y0WdifHllsmels4qidvhgwAAAcoBnoRqQr8A\n",
       "57JKiAZO84K2YLOqEflpX9OwIh8yyWihLy9WnGWmVfFubBGCFdAILh0WUW8ku4ZZt7eZ9+A4rnXD\n",
       "HZzGoAEGHIguomW21YF3pG3/DB1ZFDGVNiqZGjyQ+NP+mF1+Md/Y17m3B7m5KnA4hhMJ8TPgVpVo\n",
       "9HeYD5Ugt0ExGN5ZxckMe4VY+/8KFx6VqKo4poA1eTc+B/SzpliLrzA/Ax7NCviHItu6Y5MH/8Uc\n",
       "QMl7PbHAOfT8frcnA0hbz/9MMA2ST4Y33O9zRAmOpzNYqMhXDGjrpkH6WTYS4sKwbch+M0fstmfS\n",
       "kOryg5MAOiPLf0K696sOIQNTtNKfGg64LSobegsSc9/2NOQ6yrrTBM/bAUqSW3gwJNM1/xTnsCwy\n",
       "9NBV+iPGV7/lv2W78RcscmUp+yGmMm8UNAqmVrk3hd4Wzkas3nt39UMJIIAjlJO+QetJwZx8oyF2\n",
       "83p4ZbsX3OY0HNSAFYSnzRFMNEj4n/ZGngIMTyW3XN01v/pWb0OyG0LY1Iq+kVx8//CJ7SyiLVLj\n",
       "ltrmbBbOKAC+kWsUwMqw9WLP+j+YSx9b5f9cyHMHGWvV4HJd54DLgzu1z1A13qlFS0fI2QAABYFB\n",
       "modJqEFomUwU8N/+p4QBUAfb0AAHWEAMGxPvLAvzoVqp6d9obUOXlh2ZnyvrBXJ1tLMYV8aQnpQP\n",
       "nx2g5NWggDPcl3T3NP+ghKfJ2cHUxe6nFZ9F+wQ1/mPiFLYvhG7/QcuZp1Q7R/6I2gih+XgeyrIY\n",
       "PRXmwxT93goYQnrFzWvsRnvoJZvtUkimkS6mk0H0VgGi3PNSZ9LLzCjayVrzyaj/4mzZpELBpr9S\n",
       "UqsO3E/h3eptSoTqdJHthwznPnpDW70N87JA8d6yyM6gkfG6p7+fjuJS8X27rsMvwXPHQ88ML+6r\n",
       "5XS0H9u+kMX8f4EnbZrOwalTZzTGzK2L40UeGOcbARNTwWz8YYMavwliPeGiYzxSML6uNlurSv5T\n",
       "e40RKo3RlAcLMZthIpnIL7d7UkmdJZz191B6K8d+fJIzSQoe7vBOBvVSK5OCwFR/PX0ZsK8dPKWe\n",
       "FY4EYaxpc6whzm+Al29xQAO/pww5pDdCq+1p3Rmdln8zj877qmgYikt0PWx4BH6NhMecM5mYMluv\n",
       "fLi6OgSKh/PB8m1CdbZIhTfvOKdgK7ZZv3vf+swLBnN8GrkcFBs5wKRYXjxvwilKTNvkZ0mbttrY\n",
       "He/vh3qtJcc2lJYrlosVaOWc3BsLQoG0YDsly6YvSrgHAUq6Wd0f+gT6RaMwCRHlqGTg+hMNrBKw\n",
       "cWm4JsAPhl8lAe/0Cv55Yegf1lBWRhbEmFHGF+cOeqUCxr2LDwX8/7w0/V6eXggfYrA4NKdRzBDo\n",
       "TrxFFRd34GRCmPAwUtbP0CulbPRdGrVtfLuRlc2UacxHh2k5scppBtA1PW5gJotxbD4n0nrPdGKH\n",
       "eSXnhPY6tZI22LAhB3pDTc483w95Xh5vxZn1sM8jbenvO8ZQVMCqpYPbNL9qs9aJ1q5qH4jQCDJk\n",
       "pg1l6XIhy68No+6mlK51U9vdWF1X1xukvHCG+5lXuZqSO8ruHpXghvz9aHS1ee5hzg17beVFGqZ7\n",
       "487C4VOHwI18gzcmSk6j09RmGkvhqIx/mbDZdbZ9gTAwNTSR6c0V7+1h4wfedjOVqMoCOGTMlXrW\n",
       "DZYHr2bMsbbLXrIKAdriC/g826fza2RkIVDMLEBJm8iUxiHN5AS14hJY+j5HiOC7Ic6p1+WLTPfb\n",
       "0QIug+lCU9xOy63/PA4G/n2Zb0C0OVBJV0nEcIQvpcme2WDNg7ADip4OUcoUzn71n+zFszkMJ125\n",
       "FDMGa5ehKIjlP0JAFFfP0T7GL6azfId3CaAdxMkdxTpmwgqujVXOY85+lXtJQKcHl36/s3TbdqrY\n",
       "bFPHYiFyTrNCTedEiHPYkpBZHrIzDTNe2S1a6J5g2Pl/v/AV8n09GeNASRpj+r6SrM0QzB5r/C01\n",
       "RspdeznGauWA7bkeS8SfKuvGJ42nHZKORoI/mtdLToeUWkgVOGIeFsX8tNr8BzGBxB0F+QBreV19\n",
       "sOJc63XQ4X5QMLbncvfqincQDS8HvunyzwS5Q13+e8e0WEY79It1/5x7dKWw5sPeoz15G8lukVrT\n",
       "gcG/Ko0H+7xXo8jXR57QztejQXxogHdyB46ZMffh3gYrm6OeGlc1s5yqHPO8PnTV3p4ekGg4zZ8I\n",
       "rQT7fncMCexdktHJAnkaBRmM3UkrOUyYI+V2g0cROkgL7CMsbOV9L+/GOxYHEOQXT2GldigllZhK\n",
       "O9eAajfgda0aIyFNucOyruD0G/T62kUofpKwffMD+ymKDTjqZRK1pw2KyswvqAbuLd2QzG+lft2k\n",
       "EcficdnfiE7GOFHbiSZ1WL20D43OU8VfzbfCkHm1BC8LIdo8/jZs/HoDgil2wUpJd7uaadcuu/Fp\n",
       "NY+b+lsax9x7yaIMRtJ026hJS+BzIyo93qrNWxXRvwBPV181qAB3QQAAAe4BnqZqQr8CSV4s1WTw\n",
       "zh/lPY2bwqCOEVqn1uu1DODUwkilVrd+1mNwBUzzsBcCZCWQQWdprEO2Is7UDnQ7oTknlVenlM3n\n",
       "HRYy22siAK6y8v9KFcagRQDdzSV5IKU3YxJQmcYTSChjWO90OTjyFski9Ag3P8AjjKOfZDxKBXF0\n",
       "C7ImoWbgmKhJ4ZX2NTwxrB6BdycQc4dJdfnUqGgPvrtRSnWmsNRtDN/qGfMt6+X0JcsHwDUie1O2\n",
       "2gOpSQxLmNaMp4eVA/RvyTWiMFV3T634+rBtgdSEbkk3bRNVyK/OegNNAxqy2rNuXSntaT8UKGw+\n",
       "5jt1GltbYHGaeiLLMHysNyNGEvC2tz2Sk8WZKhMPh9Jl6yR3ybf7pKU9YkKEj7M/m/vClX93dr1U\n",
       "cCeIc7xyWxWumNoTX9gQGBVYPQN4DoVENBBxIUAmlxYdMzH6GhboLgZ7HCR2ROUyL5PK/RiKvMDt\n",
       "G3nrk7aYX/zmw7l5olbN3Xhlf3Co/q3rTKb96zq3KB1mSRCFQ2ZBR7RIl+aaT3g1efcM9TvZgpCS\n",
       "1gPfQNBiGyWtBpHSlHhT0wGz1xCxf4ZTRAu+cGKGafLuzcE3mFIfymDLTasImIJNeDjSyfLLkAM6\n",
       "yMhb8gS9DRu7iC25hnB0rD5A74N07gCfgQAABllBmqtJ4QpSZTAhv/6nhAFbB/Fz8fUp7gEwBjdB\n",
       "PqKSRqUm2sadWmcZHWxNxi00avYJdC0uF9fnrzKsR0++ovGKpTVzbb7YOHe+xWzZXPlVQcVDzcgC\n",
       "xAFhEpMAZD3+EL9pBw0BMaHoSKbWfw+pV9x8/n+f4H0PutHVVeg/hiBnqOwdVwT69NIViyRTcI7n\n",
       "0/xV2YFXNrFLkh2Jl9SnNaGVUphc9gXMXeQKPoez5/51wlVH8dQjWqaFwqc+0QOoLJGn1OEmwBjo\n",
       "SQoArmwumwXMu/tESVko8vx76Fzw/7Sx5OXFSBqiiH6FnF/cvJWRHXd2rJ3t/urSGeUNCmyqsEIv\n",
       "vvdpsZ9hzBxKxEG8FBlwOJGOxJ7HhlBGdutIq1CXCzdS+99huOGzjX3mg5BP5Xo8aJrKt5yS8INa\n",
       "1HxqnrQH8f0GYRrqOkZpXkDi0wZoYqBCBIPxkraKaOYQ5tbBlNEXiOyyIX0OlcdczUOASvYO3sbm\n",
       "Qjx6MzqlTXS8aw6bBwz0Mp7EVDpgPGXj6pEadJP3vcT6fc+h7xGCszMmx/uJXv+/T/s/ZL+7fT/+\n",
       "oC9+irMZZ314IRMs7tTiahAFLbZpqksig+dN+d7S0ICC4QW+wzO+J9/7zFvh85SpEDDqRM/icEyP\n",
       "Gmy2x/Ms2YLNgXvG6V9eR8CRt3H/zUXwGzhD4BdSH5/yVyIVDvijPJT2MRHfReAzBps7YSeUCrcL\n",
       "UAGVoRQBIfYj7Eacw+Gg4ejwkdclKBeD62DjjcCwYOb46nWyio17vJTg8/jVPL+QoATR04MIeMWv\n",
       "YAV82vu2i9NdSw0qUQ50xYmwm0EktckSyW+HGkijzjwQ0WQr38JIMjtx6R1HRNSpDK56ndsJhVUG\n",
       "1yhyGIhCphWCxtRDZC43x1HlzQCkQeyP7Tu751tdQtvfGjd7soMBK4Gun8gHzMrhWiEzQE9mOdCN\n",
       "KOAqHJwbny6/XqkZ0EguT+kXaUEIQI4EzdrABG4edhNwT85mb0SR7pElBfkgM3C/Ep3GIzUVtUlS\n",
       "oa/zdLWzCNHx34f/8q7Ai8zWMc9mL+WPAJ0ukhZ2C8pmUkSht1T3aSm/pM/HpXfEtDIF6v/8e3Hi\n",
       "+PHaoUlk4wfvGtvuil6F/7LAfbWS5vipQS6ez7+L0Vv81D5vzmIkZIBjG5sBiDdC1w3DoD8IhfzV\n",
       "A74CsvttnB6O4T8A+Ye4aJ2dQl6l2AnfTiBiM7ZcdE8pHrYOhZ7NSXB30jgPr8EtFI0jxg06FE/c\n",
       "3oGZAIZ2KZOe/ywaAroP5icqw/ElvbHFN7MbUgtR3epRh49z5kGH9GtoiadpWVYN1NuzyCCtniI6\n",
       "hXlKsVp8wWptkSz4JmMJtGk/+7toiH3wW73Y+8aocxWNSdvBUcyNu5y7DDvMfhAbHzLu5JrQ9NqY\n",
       "t6uwK05rdGvOyD9Cl7Wiz4aq5Dv0VZnvrd+uboSmciETYsy1nBdQimUKbQlvyVX510cyqnBbH5uh\n",
       "gGHh52szH7qzGBKXemtXx8gYQkN7ed5fcA92dHIIiObnCzqRK3Gth/meyvYY/6o2rrPXUB0x7co0\n",
       "AOILX+pmqT43C8Wyrzw8ApiS5J8lXG0b+RSp6R7VsAgPDkUROFSgfgZO1sY9//lNw4sPwZY9YXZH\n",
       "wH1jxwOTSSllDQaNDWMLIvIw+fVpf2IgXOe1GBJZHDe2SzL7ujsSyiAYqNhEVO+2KpHZJL+Oj8B3\n",
       "pg/PFwFSZARsXq6zvNIVczeflQmBvkkxaIs1q2tMAg5uHKE+C04ucnEClqdHRTS18VVY4LhVJ1ED\n",
       "tEFP/rdvAtCPERCfmSmjH8TihFEckCW4OEoeK6Rta9iLDj3Rsxl0AhFLgjnxD+YlJUVjcrWZO++b\n",
       "b6rPNBhq7gv17Aw9r17Nn9fAfxgCTBVhTZjcXMUwq8zjPdG2+Tsmv6iztwtKuY+jy+BlAgJJzZFQ\n",
       "2PHep52rfGmlrhJgnlUS8OJlhJs4+PstKVxYRTueCpuZVeRnvn5KfBXiN2cax26VYzb/CEgzIpZ5\n",
       "rPK95cCNNuMu8y5StfhlRDneHH0ASagC0yn3o4fy8N/1i58ngHXMlcJ4y5AGtmJ/S1aHW4w4tC+/\n",
       "LRSS1tW3Ha/mfGtWC+Z1srPPqoyBuPi2AfDfxlRDeU/ywO4lSBCVtHpRhbVfd1mq2fIx8wzZgXgZ\n",
       "OQAAA0NBnslFNEwv/wGyurpjtb9zVV2ue7fEKpcKkWi/Zz2HQTjWeLECgRvp6Lst8/2BMwdZbLK5\n",
       "vZ+BrLM+c1XFHie5DFVjokoqgnysEOZl4AWHLgko7O1wczMxiyN5s2tAqbAKbI2bLviLJVce0igD\n",
       "Blft7fLvg9hMKMVWkdVggsLW4LzQtt+96LfT5Le3/BKM3JYj+qNoBEAnbPsGlT3GCZfmbNsdFmgx\n",
       "sJkwKcj6XrAlDT4Czl1Ng2fB8SXvvbg22gEsciZh/NduhKSbuJ1Ok9k4yRsW6ppdptSaAv7pv2F5\n",
       "aNVKKgcVS8DHYpaSwhPWkNY1uxdvj8IdzUxZejTuAAX1dz/b5UVohgmGiuej4MdykNg31vX+wNtC\n",
       "KiErH+EMJDPNlCS7CvXGMa2eX2Yw2dMutLzjM2+4CTrZG3vmuSq5+Y+4jWzAQmbZUWQYQY1aLeVC\n",
       "fJE4beP0qfX0Z6h+oVnH+nJuRvthC1DfPKTOgsYuft8AnikLWR0y35rhErw0WQhNnS7rfwt1iSh6\n",
       "PmU1Z1/OecRLxMtWvbXfFaGKXbbDmSc1IZdsumXL/zuyA4KdyDiZrDFUYXoGhFRlPjk4WwVkN8Hv\n",
       "GnSwr5qHY4qQAQkTVuK34tNitOFK7aNmS06A62cRO/hZBYJ5+zR3rvoeY6pfOIv8IDaYd3XNybuh\n",
       "qmE0XMNfJrEfBFS2NHJXQXrpQOTha+LkgK0x6QzVF+GvmWLu7htL7eqjQdxplS89W2VCPVj/vosr\n",
       "BDfVow/edTsHBEmphy03jTOpEZlzWz24PhcGAYlCnudp0lA7SKPe8ArC7AUZdKqm5DhXRdkRtPeN\n",
       "/rZghtrkidDoCRmPO575zWlFOi1zIq2cF1p3pxK/Jtse/a/JuohF7gp8IdYezGgOdIcIJ2y95A+r\n",
       "6dAaelBPW7sc0CoZPqSi7ZgStFegohODBauRGlRMdfnQB6Qfpt6JLpx+Sd5HMv3I9P04WCFCEIO4\n",
       "rnYqmwEPSe9EyvNYrCy1dNV27sDSB1LJd8b0PebcmlqvMN70cYGvnevDLjjPrUIlqfPbX3PZMk1Z\n",
       "IsdYr3uI7z4ehej/IwCFX5DVb/uOpPMSbecSAIo+pkQbgQqGDegZ1FXAAAAB3AGe6HRCvwCj5KB+\n",
       "dBOzPDxWok5O0InE4hREhAGYmBhtrx1FBPu99lLiLEyava3wT8CIouUCNlblGO0oowAiA3S5xnTF\n",
       "mycFvO8vA5yWA6VIb+fPx4eIaVG2s/rEHQ2E8pgto+eNUXHBgrMv8BSiAlOkqmb3Tt+4vhfqZZXQ\n",
       "23Xbqrl21QyWELM8NsL76IDwECbEAC7NATI9vIZc/u5GUbg1XAOYmX0I2bVxb7JUbifXF4e1Oekr\n",
       "V8EjvUWLi0gaNydrYfCZ6Q/mFvB2q2jy+edza+N0WOaSIE8xr8rZWEboyBfBA0DZ6idqWkk8aIaF\n",
       "HBA5FWG8jVNupT28m6HhXZY/BoE81hFHtZ/eNpDng07/sgkrcvGDL5/aPKyvCls6wSTKufhZYtv5\n",
       "eKXqOOUckjGGzuvTJenO9M31FL2SvewAGQYizeASv9Y6kGdgxXzOhLlyLqMTh48qFmq/KWVb04rr\n",
       "rm2GPpbsSiCue9BNJrFf8gmWpPS5lCQVv9Kp9Z+P1UNqO0gYq5Lw+j0OWNrBzucsTtootLP4WO7q\n",
       "cAqBECwEa/4nc8iMqD5uGsPwXLlJqAFlJeZkRVBFizTXU97qWiE0h+iACu/LU/sCViHBWSzP5mho\n",
       "VbUp1E9bwlcpAAAB5AGe6mpCvwCSyUVRTwMLNrPRoYg7xZrDyWTGaKTWdFYXnnJrJ+eoOQ8jhACR\n",
       "CFOS5pKLz8hJv6/8WwzwBF01MPOa4Q2Be3lPDZqTk5jBS0PpdLq+r1LoehvuOurVvP2fdXfZ10oh\n",
       "+gHI0W80zeW2UCEOjjTgMYwwi4lsUB1KyyP1M4PrpCJa2qg7qeRswriWm86TsCOAr7SxNyhscUqB\n",
       "Gq1gaOmTApnkLIQFNg9SWgzJQ9y5wlz+1xrWm6hcn8ZlQQoO1xaeKPT4o9PZgNP4oYNx6qD3hHrr\n",
       "sJelHKZ48jNScyvVye67SBu6IdoM8BzBbRjW4Mleh7kji3O2bzRc7qPuxwIzuYW23HqGs8SD8svn\n",
       "AcCYjPSoi5/D3nS6YMTm4Zs86ZV0/7d6kHsrBZlnoclUsYjniu6zTdTrC/IccoYzjSsc9Nlc01yY\n",
       "yVjpQDP6OJ7PHYMc0Qi21brf6N/nzNl7Bq3f2TXxrW356wkuQCrBdWCbeLvHtm/9JRxOiUA29Fww\n",
       "6ucpvBep0hNXwYaWEIpYB2UBCOa65JFJaQdvHaJlJwZgOfeXIZJ1Rtaq25iIu1TiDfgliMui43bz\n",
       "sMKs3uajhEOOvDQZy/AD9og9BBExkQWtOKX8yl6JjuasedcCILNybTgAAAQRQZrsSahBaJlMCG//\n",
       "/qeEAWYHhT77iSEqguAI0uuAxNcuB7iQ4xVKwRKRHYrqUDytEjXG/iiASQnQXgCHqhCwqWcR3ydH\n",
       "4mKbAm5UtXIE4OXvpoEt49XEBYpMHJgojQNjAzztUh0AxrEBtV0549cI9tqygesBXpYr56QDxmLJ\n",
       "T8Sn0qNEGPS5RVvEFdMbnfUcx7yjYqcAsJhz3dSLMz2iDwonH8KBFpK1CaZFjJrSGJyQqY3qywro\n",
       "o44o+S78lwVrnM68twmXYXhq5eR/nv+3rXArP96umkbCkqDg83AuT42SSz7CAHSbKxuylnnPYZU1\n",
       "wNwDgJz6Ls6Wkfo4diIUnAUNwA67Rd1+n4S8wJD0Cy6lI4Xg3Jvt7i13dNSUh+U768CmgXr5Is8r\n",
       "fedUgQZz8HasGmeDEEDUQsdOMQh81sdJvHlVQktaSR9dgSTWr6prwEwBFaj65+oL4nyFysuKADqD\n",
       "SQPeAAtuo/9w7ugGv7XDsbB4xZtH28GsPO5VTWBUf97SVzhA0kb9EHHc/RqVy3kK7worzjF2fTRk\n",
       "FyeVEV4VDkkOcPpIGOTcO+h9Z3xO+JfHXls96JmOnL1zWJHQSWIN1oXSholXNUA4X6RG+7KswDlY\n",
       "soDwIWxgI7aoTeb2YvC5p4tTGekX0QKijMkcsCNQEdw6HN/T3VrHxfJFbERVTpEQbzQq+1+gPZ6e\n",
       "TpOLaD9fL8gBwcFwIPcr9WNd/YWRts4Eks4aVQw1RhZgapeqqe/dGGejctIp/gVJ6aH10ZhDrgD9\n",
       "m6fyMMbVQtFGfsKgnfv0N1Oc3uiwSavcV0XzP39aryxk6hJ7ZOebuBK+gL+5L0Cr151GJTqxLFob\n",
       "4gnBhQtGpiukUzWh/x7EtchwP3fB3uLUQ7RPipisrw82CEIWRVAHX3GwpvFtpKqHk7F7eGuQVbaA\n",
       "z8Q4AKS6KgSRDHzbC8bcryj5tAcHQ0DnlCCmPqwlYflSc5UNSZui+KX0LjvqUDg2/UW1g2ZrGtWT\n",
       "Tps7hM5brGw/zN1OEjuHZsT7l/ubpkzgbkKhbGx1RZ3ACa5cz41h3bSj2k0kKBGvHUhlGpM2kXfk\n",
       "PYbJkbgxTeKbgMsEVXb5Vh1rI7+UwWGqb0P0rXAFExXpEa5jrjyaTdnjWx6CmsRJxALs8PZAqZ5z\n",
       "U71C2rLf1pBgt7y2hi0D1G1iIJ54ROq6aC04liXkGJvYAhdCstCoo/2q1K5oQLUMbzRoT1LcD57/\n",
       "cogoPY2If65bbVpX0l+Tc5H4nauWaBpmuUpl2SahGjNjetRv1ZrANR3u8t+sFFVw5iIL78lUk6rI\n",
       "Q33OgB3b70ICkZq/jBKc/XQ1ZsFwmULxY0ibQXBn/EA6Btlu8Qw6tVpkaYibc0JQ7UXgNEgUzmwr\n",
       "ZiNCAAAGt0GbD0nhClJlMCG//qeEANbgaDN+9agAEVepMzF8XasbIUDqpPaYpaZobq+UpHIpaWgO\n",
       "a/ncXSsZv71PIHyI0XHSoq311RbnCnNg4Pll4WsToAzIb6S985257FkIL+2C8FR4HDSGNAn8lf1P\n",
       "yhQ8MIyJ5VK/r2ddeJ7gKI1VP6fO4KlSd0xNAXunLZ2laNEjztNe33h8fWiU3xKUVDBxYcNmS0As\n",
       "SWsJdPR1hDDIG9opW3td0R6i3WvFVeF8PZD+K9CYGeLb7UIsycHfjpBNyWxrg/yL5sXMs4ybFeDf\n",
       "JxrWKmWzgChgm+5g4pb5Krg8S+Z7ZJTCAVad5ImzChgOLWtzZTrXwhpmUdyQZb58UPbMTLt04Qpp\n",
       "8X8MytnVyMD5BEsfuZJE+fEwkhmjGbAJto9qE6qCFXOzLEw7gXAsEOUYqjwOo2Hc8TiQLyquBe8h\n",
       "GcHZtIXoElHO6+FEO4Ob/ZnbWh9nRNT3vUJAqqaKMVTV8ZXvR5YDcgtqImF38YuRkrOCCPNwL47M\n",
       "pbrpOaQnmGhdO9TFqG18fRo9WHYgIwgCBW7kKGg/KUZYDyVLcJQNMKn9PRztlCjFrXt/qfGDOkA0\n",
       "mm9OHRBfSc2hW6Z6hrUUsrZX+0+aH8Nqhu7w97tusc3KDyx2D6BPYQGFKQ4g0B1D1Vcq0hYe7sHM\n",
       "VScxMg47OH1x3JwL+ZjvojgM7ZD8KGVNN7JNh78PnRg+saw0GhSI3oL28GnrKWaeTIMUo8Ozxcfl\n",
       "5RDERMsb+tqKJdJ5/zBvnj3rGnE0ilCkX+2kwtXLK7fNXceWTQ2BeSBM0wBY+fjMdpmg40plTXvv\n",
       "/PEJ5viyRx3oUDNghENWc2ZBaH6Fv0foyxTwjqbmu4vtezh9rA28r8tiHKYZNz2ms2sPsmRbuuvA\n",
       "Ch8OlzXOa0nOk4Csq7506ZfKor+yScME6c3SYrsCmClVZNS3qaojaHoXqSkAXTB9KiwdYw9V8tDl\n",
       "AP3fYjsLJ2W5C1fa1pad9PxtJfUIuZqQWGBb+3/olvWWFhWpgMiVL5CL5hygOAGdpiUwF9MXJH4p\n",
       "OqFS+TP2mWmjShXs2XeZ2nJT5AdlxzVawiuG+sZwErLHug13hCiL29lr77GjxBcvLInG9PzQhlUW\n",
       "LzNiuBPMxnD62khdGBzU8f6qj+kcTO0ia/UDvExW+2TFWdRO3LBanfjDIU8+/819QSJZCU1A2+S4\n",
       "pil+EMCUhMI0HtARvZWWltzWAJrMcXOKX3oz7XQIYgazf3Tx5QuQN1iOdDVM58AQBLGoKHfXknOw\n",
       "rYAQSwiEvFkbckMjK6MevEU/IRA78FFXBJj9baPkmdBVIZcOV4doSlLcMPazX5osQiXbccFlJ80g\n",
       "g+axtDZRCCnQGCPd+hFn+M5H9JIN2rtw68Tlcq5tgSkZqayiLzwjzloJErdlU++qx8XQl2MOO4PN\n",
       "MNNjhTnj0E7CTMt5pLx1GnL/yBp3ofFsdnuxDAoBW64X+jX4XwT0wQ1I/fCBEDAAxf3o8tfwkOVt\n",
       "cmYe2Q1DujpE9vnTpSmbNjqAQO5EXzej16YuKcuv/y5dWNay5qcYXmPusGvWs1KAoD9rnX8NOY/Z\n",
       "l4W2JCZjBW2y4w/N7xse6AfXmncKl6+4qq+GSAEJYB9O4W3qFHmMNIKO2bVlpM3WtJbEmycld2Ln\n",
       "lYbITeMdmicq6ws8etuPonLJ+eIftOHEupiWs/T+CN4w7IDmjo1Jp66gjapH2/jpQP8vUZ3P+yEK\n",
       "IcLT4w/OweHVyw1dHBRyAzL7n2jj4yL7Hb8cBARrq7sAFuFecvqlD/hP4N1kRsJMzgr+lUJ0AtkX\n",
       "c9DYoDCvuBKSE1DjC2LGP66i8dMo66Ytz7tTdJsy1F0wlVV1mxRDzoeEenEGoakg1Ts1o5Xed2Ah\n",
       "zc9IqIHFvh3JfFqHbJdyK63TtfU26DlVwGuklJXzpEwbQkB0njV5uQH+yCLF0JugpfRn9xMHp8No\n",
       "vLIghBOTHiVZ66UqAJBrqVPMBSuZBbO1CPMgcOc2iD3MK5vYOseVtk2W+ffKEgaoi5YNRzHw6UHy\n",
       "xuwDpjg8SiTP+tzE2lGsZai/wuxJecnz1LPO9d313OfTNEeEMgDMCYqlrP9llXMxx/3Goj8G5D8k\n",
       "JNF9Q8zB8dvH32RI9CybAvjSrxx0BCo+MGQVunwFOVqDaytz+QMs/lS+ie1zkpA3iyoD0EYE6BJD\n",
       "14JmNVwe9tjMV3b0OY1l4olBFioEq7oeovJlDs7zIXX76kXdrnBwDKJte/YUrcdc8vlHLgABzaSv\n",
       "MB2N6rit4+ONY11w7udflQAAAspBny1FNEwr/wJJG2Sx9parHvFQlZIhVuvdw2XcQVBpWaMlb54y\n",
       "pqbqgpBtEla/b2FMASGo3E8FqKEixOoA8u61QyYgWCjxvPl7taxrccRvtzzDpWlgB3KDai+nVUpu\n",
       "5JLPUW90PbeZR/UzTOxCeI08l+xKdpQQm1oc1OI31iH7vGOEWjmHnRhL2jAVUW6lq2PyJOXCPC6k\n",
       "eJX3VAOkSNC81Iu9REnEyB75XcwFOSPQVvpFl9q8FJlkz6RZ5rs68luYEowxhjjTULWeftq2LtfO\n",
       "rltE1hjJFQCesj4TpUTlqQq2cSQferDdBauD+0cvG6bAHfUp7kv/+LfjX42gJ/l6n3wUrZLD2Wag\n",
       "XmJKN1mE2EfEwJdFueicnObAmWaJ1VkPX6seF87CtzGiGViJe3nrkc/X5EC85aw6q16PFD4lFcmp\n",
       "m8rdodc+opzto9l9XqdufGj167F3GO/E4NaKMGu/DrwPxKk28WwqFxP38Hn52OVLPkDuoj+wonSa\n",
       "7QYnFhynXA2bxKucaAcx9giBxBbEIfWzM+W7pCGpuPvHCvkpayVwzc/BBLCu/RkfGMy4DJaMpyRI\n",
       "x1x0UI1mqyyxq5i+Va9mMTo4g+3DmbU8B7CCHB11CFcrP2ukviziNG1EXNyI5fz2ZKXGb+Cmwafz\n",
       "KYkAo6ei0LJSHlQZGB5nRm3tW8Pnn++lSx5qOEm61IAW3rAkqkpaJwMsFmuufvo6Nz0u4qN6Nn3z\n",
       "ivCZFWObPbNyO1S3p6Hzg2PRkf4eS3vSJVQGV2jSF6BjhTP3+1cFqzoVn70pa59OcTZLxlHTZF+0\n",
       "kmdWtGnMKlxIRvSWXjdMiPHbl3ZpbJFnbybOKqZeuDzi/rE06TKBM6kUNklnU3Y+LoNL6CekDVTU\n",
       "fS8xUQAt250p6erzYRbszwksSnovFtJ3kWo2a6BUqOXkcp0BsZ9ojzq3ocBoTIFJN4EAAAH2AZ9O\n",
       "akK/AKPYTvc/SgTLuvgaV3bnwVdouQGwNT+EqNeksvxi8CbyTCVg5jwPLQArs/YVgU2TKSAoLpxh\n",
       "Q6mIWI6x5lqx1FpNikmnlEIYNF9kHy/GBLP/yeB2O2kNxMuvyORc6aB3R9a1xJ1Emt0WhCJTepVr\n",
       "7dsDFcUOWkELzIR9g5W8RPY+CfQukPgAo8E5FE9DWhVlc/YZExY0i7x1I8Ig5dBVWSnUETKgFixa\n",
       "xF9LoxBshgyT25IDd3qgTyG89l1otKvPYXJusyUQ5dnyv3DdaiF7nRn77oQ0V0+DEw4L3ft1IN2I\n",
       "/IcMOagdwM/alxRWcsjDElHypKhTJApZj9T3fzbVzQwN99zRMpBLd0Of26c/mt4BSW/yIco2FtJB\n",
       "9m/i6Fi7Gbt5jU/Se8u5zB5DWhlAgsHwgu1s7QSQGXx/reTJdlm8gYPky37CEvkrpXcCkJqfefsC\n",
       "bfcE3tYCKCBHJB9nlnUZ4trhTQzGIiFVGbXKJW9Ct4Y8YBIh8SizO9PG1VJo/d6mIu47LwmdOEBv\n",
       "U5+l665Jl1DWCKCIYoNb01UJKq76803KDDl49S3T9Jj8D2sECKLA4C56IRc8pnCXlIFWxCv76l/5\n",
       "HNrZmAD4zCbEaw9AGmetmIGOJQHOv6M0iWYLlVOQ8ZDR+Cb4Gckxja5CTwAABMZBm1BJqEFomUwI\n",
       "b//+p4QA0bq4KtvGQBDvXfjb/wfUJ34FmL2aFsHyF5h++cRxup98xOtsjC5gzbiLindV8iWelmqD\n",
       "8TrnH/7TOQ6xcU1z9//8KpEDKgYhYTOkjLad4fOeAAT8qZMzG7jAywRC8I148LN5dUSYnndjPdDO\n",
       "fC7Vm2+kjddEfakYrdEl/FG6+2eQDxdYGxsQDH5DQg9AZfFOkSsMwDkuDDdt09xhawv9k/RKpfoT\n",
       "ukbFWHQf1wG2VDvPT8rrYtV8gzfRzXpGylxRkPje1q0Vt3ZwoaA6wJMJqkfBHeELy/NGeZ2z4B0P\n",
       "x+NUeB83GBz5khS6UqEHpmsZU7H5M2kHjfHMh5BxiC/AFThv6cnA8mO7eDQAHxb0m4SjoBmdNiwN\n",
       "NtlUzQvNwsdWvdeqAJ7QgDupp/x61nRpusAbSOGfZW6QQO1N2oE4N2KjaJc+HUQg+d1JLA3JhTTd\n",
       "fc6jnbrvuKLwBKZFIq8CTsi+vuO7FVcFZ73ItG4OkkCtjIVlald/zP3KMWKr1JgFDY0+uow6UyKr\n",
       "STuMhpAm6kf7MtwuIiM4R/RPzzLBqZdqle2/RTGL/Ea93P/QbxYe/cC0nZikAyblXTfSqfBnUoiu\n",
       "+fLRHXwM3pyQqdWdC3E2p/1ntoUSAyt100HNK6VTGlFFPQ0SX6KyyctyO3giRSCed9jvIlD08ppO\n",
       "yrWKkooh2p6s4a1Ix0gj4S7SngcD+zzzOdz5qUvRZc+eXrBEWWMtRIwQjjjoVDizEPRRDX25DU9p\n",
       "UdthgkLI5H4vLTNepTb54V0MS/k7dPhk2ONwzoSAswkR7n1Wyx1RO4tKnpJyo98zFM0pFR4kvihX\n",
       "TQCyhLpe+LMpdVOT6D+zDCuEFeWGMVapj8VcnrmtPPrdEAW7LXV5L5Xi+fhjHmJmSj8Aj9cURvyI\n",
       "Ofh7ufzLRa4HJ8n9V8EvRzP6ltvBQ3Y8m9WuZdlqLOhBXi3oyPl899/OiZzEQRzTy3R/G+EMoBOR\n",
       "hlzQqbjC1b1IyK76r6bpLYvxpxX5h5GdlhVQbGdCEp/5mSPwzCKueTuRhl4fnCo4SkljcVxoSeYQ\n",
       "Spnj60hE67o3KU78OtVXFNU8urtuTZR8s3YqEFfV6DOy+XPeGSRzm+lqJrcfTnFd7Bxsnhs0A/9u\n",
       "nAAQJHZ9CimlxVEp6tws2PfIxltVqGhaTARiFAFfkCLOdBz56UtIGnr+rosifCWbZNVSViTrmllS\n",
       "OaVIOF6dtPaqf51VUA+v4Ft4I/fxEC/hV8geUexiJFlz/HP/vVNKPSjOVQaFufmatwvH/elOOQT4\n",
       "EXFHy8+2VI/mFPellD7vENoIacC1I7fY7ceu9MVvpBP8XAWrnYDBAMUsKon9wLFdt/SJwDLiqzFz\n",
       "jbx/8lnNnyexaAIxBI3UkcxWq+fP1SpmTP8U+6kqn2XY/mG208r0kZBj3j5ZLrWvRw7zE8oUIBZC\n",
       "0INI01Dt8uDnrBz9S2rypEVHxolfFjz8dM6bBnQ3whQf1Nf4g/ptZYUnatO5y0WD1BkAKZ0dMI2s\n",
       "u3NSfX1O0HvEDOba0m8qASgF0agRf/2Nrm+IaNRjfADFldCkisGtltWcbGTCom7NFAEmXzWn42hl\n",
       "Iu7XVdigG0sMBOprZ6JcAAAG9kGbc0nhClJlMCGf/p4QA1w06EANMDp+sYdx17gQmbMw0eNEMk7e\n",
       "mbfkLo+fotX9id5YhOuUAQZiQ3X/eKBsz+MPgppnec/XctpjH+Iy2JFxk9ANk9mxPsh2EMlYYD0j\n",
       "yJX4WIHIqrEFELXsDJy3Ri/3rF2pXmVaVzhLcOY61PxD0E9daBK8n4Ero3sTWtHWXwi5lKnGDll/\n",
       "S1ValVN66pi/vZ1MtNYeyQIi3MGr99kgLQ3+yrTKPkv+1C/5CyRixytVxdm71R0uDU3jlRIJXZVk\n",
       "b5u0EDzANbXmWBhgEChXxfDLCaPrbcvi76/LaiNkKhYiJfTHnVoPQMGskvrYEanCoARw/fFaIj8i\n",
       "/2BZ8nIZpV7pOuhS8tFVRN/pTG3sq4L+79xnY6225dGm49c5QFxMbzS1UXUcYT4lL/U/RG+jctlR\n",
       "IluPWk+zaN63NbTrsJIx8VQsjdMpHwVuvsL8WBjSy6TSyQD34p1JInMuYL7JQFgJwsyRBaqMYETK\n",
       "XzfLvoVJlqnMHVH8GMAFKjLSoAZEMas2KhHykq4UsLeZpagZBTKbSKUby4jltkryfm9x5Q4jHarv\n",
       "/+x6JcSPxN4fYfM4ybkpyfn/fXexTYvi92alyAAdhRatVNG0Fih6mpSPoJYQoN/kwEwvnFABYr4e\n",
       "fPGvm21yvs83SAMZIO6Uh7BLNVyGaEFmF/jALFVaoZZhmH9lAwHAoMQezkczTFH/gyn+L9HA4BRt\n",
       "vv7tCuoFqkl+OVyrNChGqm9cBsRnyfln35H/4AREcTgtxhqQ5cFJeyjZCm3aAfwVVs+RykONLGoH\n",
       "9IW/yn0NQfqheALlV+XAqvS/vxF54d+whhtydDdq+QCic+bVo9LzN2wJKwRKJZfEFT91LfS+ARxM\n",
       "EDQ5Tmz8EDoEttL9hJBI8q6pcvYGw44K2lDBAOOvnSVcxTZSQdcLScIAkp+r20plJvUeRsnyPN5A\n",
       "3mCOPVWEd1GyXQSRTlap5Ew3pPHEsIVF2uqQzYyeNxD+brJHHrkTyyx6azScDhwO/Gv/gteELx3S\n",
       "KfkEL48QP4+JxZbWtrAozjpFdCCfLq1pE/hIRDtqv+BpmjpCHpCprJWyMFoLCqqpI7tJsVc9xDtX\n",
       "fk7q/1t6wZFIT1D0hrNzGzU4DaaKoCgusjdE9K145/SPvo2O7bcfAb3rj89dZLNf8LsQh5YYsBkB\n",
       "LgZe4uC0twQCmnhAmAWS2v3R1c6LFD+yPjJ+LWM1cU4cTSFGeYk6K57AL8nDYPfJXmP8yv1ZiEiq\n",
       "RQIACSJlb32iUex1FEcZNtJj/sE+oaL2ZoPJT4gjvHzZ9dBO0AOBjeZ6v5EMynW2MGG2NLMa/80L\n",
       "jCFuJxP639AvoAhYvpaVUOhaREtaHoJijPys1JG1bvhk87PcWdby0fuA/OFznAU5wDQY5JfK+4s0\n",
       "lW7TBMIlNlXA44M88FLxqhKeujILZz0dFlydJ3O3ievtAQNkVHvkmcUWzAKaXxOJEm3aV/7LmAdH\n",
       "J+i4v8DCyvtQPuRG6JzrrPuyRYeB1OEOFPouOOefXzOBRxjeD4pSrOamDkH8Js6oy7T5Axi7RFoj\n",
       "yjK+sWXyOuhsyVg2Ws0TpYZTT/ExCRSoKlIsC4sIW9aLA5cXjfbLWD3/MeGssSxSitex8jY/Aboi\n",
       "SeaC+frY/YnfwHlTSYdDlfsbGrQGQK/cU/psRwFQUD17VG3RQ6GiXxQVAcDg8jm4Neu3lIUvifZo\n",
       "QkC3s7QktWxjtonQ4B+qOcGJS/4wWSdw3+m3k6f8vwWb9LvNUkCICxFKFxt0MsxqoZaVoObxV737\n",
       "pxxA2xC7QRZ4TpKaOzIZ3eNwNeJmQjZRdJKwPn+NPpeYZLntK6vptaeCG+cT+6Oh+voHzA8pvjL8\n",
       "ESrfMSYmhe7eQUIz8JkcPlHYBPSOpE+A7cjvIhWGPZDs7fx3kPoOAhCEv259ItWtBZ5iWgobCMPd\n",
       "HvmRI1ZgQOZkaL02huGqca3hFaF0JqTeTqech/OH8oEULAPkegdRlo+UafkmJxNUqnPkhawz8Duf\n",
       "TuLzz8C6fV0gyKXt7tPUT1LZr/SrBbW/hl9mRjGvn2TR4DbuhfZA7yxvZBME2rFUXcLnzEeR4/FZ\n",
       "yYJtHslhFJfKY7aBckOi4IYspUU9JaHBNeyaxQp85EoQuS2u28pYdBwZ9SuqXbuVoAjzTYuFFrBu\n",
       "ClbiPzU+q/OUJtYpnDVLSsGgAbbgQXOJvbFu/TWyoXKQhRQeL3IfbG3xGXaRzR9C2IpOE05luPaZ\n",
       "ZtJf5Suv0S7TLUJUC0ztGh5LXhfMCG3AukrcK7pY4/4OnAD0GkKHfs4yDJpjdFGVuYVJPgZOVgVS\n",
       "iueh0siJwTCxJ8jyQFckNjatphVozBX97tXC3r/jsPhDAgAAAfdBn5FFNEwr/wJJG2Sx9parHu3W\n",
       "ALy5nfB2dxo5tlIZ68QUxan+oAR8ARw+zmL/MgY6WAFxo1gq06IP3pORsFy4Y72UXzyqQHOPuk94\n",
       "5DZ2dAFlV3QyhCl1cY2pWdIaDQqnVp2QJbEeZQ5e1zMq+plaNMccDX+lkioC/NdZxUdAbVBgAZDY\n",
       "3Y4EnU67anZdaEyZBY4+AvSCEl85fdqN3wE5+8wa3f0zVA6w+eK25bAxiKl2EOw6tEkazoKG79JP\n",
       "rKawmKy5g0N/CszmXmDCYMBMwQvNx1E3nQb08Da0agZumiceETK0iHyTqtu3RnMmhTqXPHV7k71z\n",
       "0VLWLk24OXCQqoN1sFm1tm0eI93CoHzFdaihkt6zWgUDtsuy+2xMOHOf/qUbhDwdlzhp0src7gbG\n",
       "VppUFm3nI4SIcBL55A0pos0nkvey3o1PqYiAma9ZCnbaYC/DMpR3iND9CSC8C4ZC4PwG/m5h7lWl\n",
       "kK+r6ZlPA24mYTBLzmzeM+0NPpBYV7RXaGNMzp1XNqr36R1/66/g38kN3FexKJH5WjnEPC2bo4Mg\n",
       "zAL+OAXCHT3DYVAMQMPSrZ9MNYk8S7H7b9VjNJAfJWUW68oTlKYgMpEIp25AmfXJ+BT5t8XuK2+C\n",
       "Gy3yK0m2GHTMDT2ShnhgtSVe7NK+1vVxQqkYaQAAAb0Bn7JqQr8ArLVd4SB785F1CcemlbnBPJMo\n",
       "ASZtupHbLRdcAONiZKxfhWYvTRFmIKFLjVe6e/eAZFA+qzit+HowFQgaXb/xMoyrVeJ7/Z5LMgrU\n",
       "vC/fa5kcWrtAt4YDle9ZpzK+/APHjeTebMKOXb29SDaoZGyM9iFkQnXTzI67q8SKQ398opTS17Pp\n",
       "XLs4FGITS+8UIwISdtMVchrM29SSWH5s7qnzTkHoR9X1PgSt1lEDrX+rKdeOO34DCjK00QACO16p\n",
       "sHfqzSnN8+q7ay2qtLQg9BQbhLTPS8wGFFdrsCKvG9uaf+0b89VQKtQuDW6rlbIT/3Hh0zLPuG/9\n",
       "6CG7caZnSimx91E/vyWxiKJjKRsBkkmzVTP5AiD/DcgKvLfXmQZHgdaAo7bMWA55l0un1ypxTtFJ\n",
       "2Z4LzHs8LLgrEI6KVB3BUYOFMsRDpzWqV3F3rWDzrPbM6/0Bi+cJTGobZoiXTPnLqjXa+5pTorXx\n",
       "+V8ZuzB+5kEdjPNXGNkKnNU9BDjV3VWCsgAiGWCf9bvVVn7RpGWhH5IEGM0vz2vFNPDoe+HVr6/M\n",
       "olagMRENvOz9Iw/VzXr20VBOm1NOAAAEAEGbtEmoQWiZTAhv//6nhACenomPbi1WLMfYMwZiKYX7\n",
       "ItUACkjXve7IpvJo1Xr7nOd0gwGZ3odhptJN7ZYawH1/MswsplfO2oaNeiMzs/bp7Qqb3CazoXkD\n",
       "tS1yyYFi8Qito4M9Y11Nzdhak6Um7nJHXNvRuFJbfM2dcPro9L4UnOPtat2WNESBZROlB975yVqm\n",
       "Y8Plz9qySYecjYWFH0X5m+rqAZ2RhRTNQ/o03tXjeGWu2BMfEdjxVTBWxcH/5FHzXgp0k7bfUgU5\n",
       "vf2hTRqSTUZw5TEu1MZJvSwPBIFulL3Z14fhuVw+zuwr75FCY5LybSsiakKXgkTggm167T6IKgzs\n",
       "NWXrq5Om9qkSULy+YN+0Y/e3P1XkFGV1A2/LCV1Qh9PoB6mhTMvfbTByFoKyhCFhtcRwaXOBns1C\n",
       "lEc8Hfqmt4sD4uCgSsyss8+grPZzQzQQLpieP7jvxEERv2pc8qXWE32sqQCUUz48t9yMXcKE0Lm1\n",
       "gjICd4ruKOM8NqFRh2VyBm/WQxvFNWFaY0/dfc1iK7Dujn9IpN6JPr5geMIie8vCMzO9QXMzWS7e\n",
       "nqx9aIkaG5+kYizdg3eFQSJ1K/PcqhvOHClkATjKu6UaZk5FZUu3AM+PaudEBFP0buJmip8t0k4c\n",
       "eMyWnTrdpEEw/ifP2QCMe0hNi9etICJXpzjvK7Gsmzvq1r776fO/JD5CNrsZGLG7U1l3FdbiWZf9\n",
       "d2pLiMgnwpRfw4SUwOKNierYnXPHmyAtsvwPS3HAvVKNpKIg1q6jIQ3C4MdQZwZQ4PDcb6PLwL9u\n",
       "Qq67owoaXoEfYganh7BjquiS7KsmX9UXwltIkDarFRkgi5UzfF0oAfrRKfGnDkshJ4t7gASr09y6\n",
       "2HTAUZPv9ulv3jp49wbxPv7mwaZfhjdatVDxvb7afqbJ/thEqxPp5AcEdEV20XlON/6erRvprVI5\n",
       "V+LcfqWDgOjCFfrlxZxAgHN/7ILjv33XteD2vTDwnraEFnOGizgHmH0SCgNhZLGE8ljauCK0TnyE\n",
       "skXcaA3Jv72RotNbWU9fPbOMYajXohL6wYVBWYQnqV4S4uHzmwIST2uEA+dt/Y3O5A7H549JDsya\n",
       "YsPRRNcnt/zeTf6GDfXz7q91QOrNOUpQkK4xhcbCL6k/vJ4a1p5ghG731MDmkmL1q0+mF41BrHWV\n",
       "nJZAThW629H70cP5LkNUs9Ch2GFz/1EqhHhLQ6S18DJlp9RITXz4J5n+Qm2ZIWXSe5/5uS8QKNWb\n",
       "9qC5ik1yeJrHiWL1JNdJKIZONc3hnYIMSLk5ixp9K0UCNR5C2S2JdirLdGjdoKz4ug8i2qPfJz8S\n",
       "3daSvnEpG4mIIEyPnt7m2Dl+9wDy6FwAAASkQZvVSeEKUmUwIb/+p4QA2+BaIKzI6j3piiY2j5Ac\n",
       "diAALqAA9ZYLaxesMNMJJ3u4SZZhzHYK5z/+JtTa4d3bUj3C9lYB3pTsspnicEKBlf1RyEqJSfta\n",
       "yvi8sfqYLpZcCAIZJyP7diwHJ6MZzzmRuwwertGkqQG2NVd6yrKDfO2/+clAWFhLMJlh206n3GlY\n",
       "yYemftPiH+JnE6qdYl/3o8XMGSiLN0gCFf8djU0qAm367k+N2GE1LyztAFzYxuPqStvTFMwISekb\n",
       "a6X54KuzX69d5INfNMKraHPHrv7SUu+zD4Np6LMokGYDUziykQGUqKDbHMWv1DJwrEXwHqgffwRR\n",
       "gHPlPAZwo+PPYZB5rUq6fC+QYPIP+PeFtEaWEzzcYWowD6BnTY5nWDMVqfYUlkmFlQCR28ibmAol\n",
       "kvpUUc5OTuleubNJVXPqW32L5HjTpriwg935jQbp1NS6byf4BxloKV6jnb2lTmC8dDmFEUegtiY7\n",
       "FTevj1RZpc58Ly3XansmDrSEnPe1GLsMeTf/HzwcZRRuEWtAdGjYcV8sLLVI+HOcWt+il6yARX/3\n",
       "NnFtH4GHQS85PMIvl1CHiAOjt9LnN05Sw5djuNknQdzMkXQ7XGKBxkXa9XuOhWXzbnC5md44uXUx\n",
       "q5xzCL2HGtAifFQC+tpxb9yqJrqrI7/1fn7/kqQiD07tNJK/HMSCxM/xX2Ykp3V5ieiL6QFGuowU\n",
       "1xPAZstAjK8YDdUU9kBqyKoLIagVi2LwSkBtSbBjU4xBF2EHzxXAXaAKT9X3BQeHInfYpaLfw3ZH\n",
       "pZEs/uytNLhuPtfcHSiMi1HLIWFBOwfXyLRn9Cjo9HjjD3IoVl0LNACt+ZFJCyCvpPh0eEc+Lq9j\n",
       "mkEBxjSpM09OeNiKB51ZeHd0mIVd2uVVNeSShc985iYPxfoSl6HwTu/yejlqY0tYNGqiNlc8Vb0R\n",
       "DooinNI70vNp8dqy/IiA1zjRaGlZDTqbS1Mq5EY45Pahxny9WRqnFgYO1Tpktg8V0zjOGNW80ysA\n",
       "q6jDdPSa4X/pTx8Y+RRBI5A38XHamGKzAP0v6ImAtF6gqtKH1Cc19i4lRm/pKxSVSGwCNm11dVar\n",
       "rq+W1msdzD2uYIY2JCZktszKByIfk+DjAr11CZOtePOk/WCHofJYSUaBnKg069gKJgyCsHt4KhHS\n",
       "rDQjjiksv8tIu6Fq86eaVy5gadrJTayw4RWL5J1BI6bqvzJWI/KBsUYv7zvovGm1nm1njdIa4b0X\n",
       "6GQiJM/GNQ4BdgskFaMgqSZRUhfLnsfxkerIcNfgo2jH08YyICnyHpBjdoFKeIEPVlU6BfyVFKMO\n",
       "Lfx/jzdAJHijMC/9z8HR2lYmDnaysUOafG+4KTYjAVLLlD08rrU6mbaCTWhGZzGQq+gati/dzwM+\n",
       "n9EV6lek5Ty/GhXhErJgFMnHe4/XP2CmiqFqgv4drRn2gIvs63i60hcHA4RrHmT6q5HIcVVVkV3T\n",
       "i0DqFgMMpwJWzw7mdorwYNi5NBCOM+8xtmHmQ1CGiCrIVk5VkfsTA/pCj4mmMhSOoV0vPK9R6eGf\n",
       "eKeSpWsbhLqUszmy4fgpbNMxAAAFREGb90nhDomUwU0TDf/+p4QA28i+gEDTjXOco7+zrAu8Uro7\n",
       "QsJEhpJAXtX3L/NiXqsDgHvzBFEKhu+Oz1T73KXobLpmkoefA2mOfllmILzNn70K1HJ2W2WFLHna\n",
       "LVIKDX9AJ+VHgwSpBhz2mEyKTFysaRrWVkuNZbsVGoQ37b6JPWiHF7EYq8Mrj0D/BiZi79TBmf+8\n",
       "QlpwsjI1Laf+byPgATqMA4AkRQbhmFqoxp7mK+/UtZjXLGiDyS/3Yyc7QDO7Up7KlqigbwI7ArNq\n",
       "TjgI+jdTXYlUOQDJWtESV9BAFSXZKjcvg2sV5T7J/Ap4BR6BNqi+W6oYD1NoGJ20X4u85djMxr70\n",
       "wj6f6AKiEx9Uz5Tm3C6KYTNut/mbK5AwTIyw6onsvovFAQ+Lz+eiNjVNdRndwe6I3TkkQ3AkH73i\n",
       "Dyj+lJa7X+a7YOQpJ4uq9VnZB2YYf78cukT1Tiyb+k0YjpdtiUZWHWeAiTZTVqStG1lwnvpc0S0i\n",
       "qMTApHbYTc0CqY6GTfxuPMS/NodhNzj3qiLAknBv5XygC09JvIpV46Yfm9QaLvqWPrMMM/Geve1Q\n",
       "j6ESwQ6y9ESC6jyuIIY8TRocKSkG2y2Mg7fmyu/celGvt9TG/LlGgLxQnqc/4DuzhUMI1kpGmUPg\n",
       "eFky4F2AunUVg6+Zb6wzINWOuUaDdhq0JyFTw+pc3spuJXYt9MU13rtd5/P/+wAYcOjW7Hafi2g3\n",
       "QXitkLoV5JCraQnxF+lKEXHYBUe9FZx+ZDpOoNM8IKg9SG9DQo83vaN3eh+S/NAt0t7whTPGVsU8\n",
       "FTXfscSut+VRy88964TYTZ6atYESOeh4VJqcbbxwD+sIMfHuo/f82sUXVBa6D8JHbWQA0YD6qXGG\n",
       "Lld9nEHWu9HKBE93L+zKWQZlhz1RCOFgNnh3bizMD0xsjbwXoqAt4aC1AvcSH5/sVdR9yJ4HrSr+\n",
       "N8K6pxvL6u5T0nKRrv8xgv8XMuP9lZaqTfiH2KdM2wwJgrgMUNyXBse/6J0w59bePPq8w5gh63gf\n",
       "pIwlC+Ql6QB54aLYO9WmVNTEteddiHIMo49b5D64z9PEbuaNOEjU+Ph2ifHuZS8yXehG8dUPhN4V\n",
       "KrTkQsuEFrOcf0eQK9P14srmcfWTZyDcXGqLX5YAUWoD+W6Q0+Iqnn/Q6s86u32SmTDAN5QjgT/O\n",
       "AZo8rFEbRukDdnjxYr6BFe+FlSOps0k2IUOVTfe91nqnP+7tP54/d2y+FAxEsnZ6eUIIwC+bm3He\n",
       "u23UE90R6HN2zVGGwnZbi6TL219qktsjy65FR+T//EJ7OIsKFdRQawr4Gydv4GAbV3hweM2PiQsE\n",
       "zH0woMBMeSQFmWZtdl4GoHxh2/AoMvYQeLe5NNsSLbPCNKs8R4pR1O4GQjWw53jVzzMCiBDvOD58\n",
       "eqBZBOiL86QArRI9gkKJ4cEwOgjD09+GrGZva5EWxDLw2qw6ywTD4aj1IDvnSbKES9MuTfRcbDV3\n",
       "0hmg3X5LYTCY0mhKTZXEWhS6tKA/umYjTLpto2XfW4MstRYiTPSIGDery0aIX++cDCi3rM/x0Xi9\n",
       "LJ1T8iusfKkVY+SSnvnzuIxinBEZpTYxFX+r4NCf2AcEa+XZkbLTgdwSPYEUWQ39Nya8tqKNdNvv\n",
       "51u82Elw5QtKASic+J90T4dKT18BQs2VhzBNccC/GXdoAzTZIgpR1Zs+gJFMjzjWiTTDmtrldqzP\n",
       "whPttkXxiva6bJNcFkF6F6NUXUjUsJuVY7jkcGRETCQQkezrDUPfdaMYIbUAfsyfM/d3V2ZBJZdA\n",
       "MKAAAAF0AZ4WakK/Ah6I8hxBVk6z3M/0De9nXXo8YECt1cnqiXLkrTbrCKgfE76Y5KAGjUHXMtli\n",
       "xmNKnYfPqMkXWhg6+nGotjhoqeXje+y2n7OY3TI+4T05FsNrVPfkly2uhbDeekzG6h+KhFxnA1Du\n",
       "d39Xj3bb/4Rjh8i0BLONAxCc9tM0hFmemrKGhd2sU33tlF2LX/0EvhxA44xi9/F0uh699LtxKR2w\n",
       "pndQCoephqDdFibwSDCdTNOQeYBr3PrvFAVDn47Ht9VvITvI7eLRAMBT3RjZ6C23mE774SzEjYwB\n",
       "XUB4o4jsqYpbjrA5+Yf/hx4dzBqRBogRFxlyi2qmOLWAi+d+ueFLGNFM872/Tv1e+8If+OQgZTL1\n",
       "6QEbwQI/IhejdMIr7NKE1MdsWzas0PRw8bJc3CckPouOPxIzPPqGZsXW8YqShCqOziFQL28Tfpwe\n",
       "frkq+EiTT1Y9DAavOWvoi0qtecP4/al7L6mDBPpHPy3YOcqBAAADCkGaGEnhDyZTAhv//qeEANvF\n",
       "6wAJyoUgkazB2gOtbviqgbbfagEWzzDdrgcFmUMCKG/rD6lK34aKH+ApKgyz63jOPcqqN4paKdGZ\n",
       "sBBScNYDBYK3sU2SuX7ttF9twP9D0mXDW5H6VzQ30LYv1BUHCgSQW7cVUkRcCkbLT8YhAonJtRWN\n",
       "Mekw+HR1EspbAEVaYMTCveLl/zwZZ9DlIn+DWwuEm5gwvpaX04NZ9OeQnOevr5YJDmVShfwQiFH/\n",
       "WtafoNCanJWnVzAzmZI2tyKWK+hXd5CxeRVn427b+2qpa+6DEjRFvjqm7nZhIaGlYhXUzmrsbxHx\n",
       "k9rF43fbDRdex8E9HJQ0/oMQay6B/REWdqDkvvpYU2zyx+5am3W2NhJ+o1LFz5cW5MQwcn2fLnV9\n",
       "JRZYjfBggvJthpSq3iuNunvfM+BFYhpxgzkAIL9QuAxMIlaaDDWwxmNbRvcRieNO3JV3tMIhYZBp\n",
       "j5dKANAG6cH663ReD8mrbJ+QGUBFicgOvfIw9XeSSVmXLs+ER0Zp6/f87lXVIg143PNgRj6aXUY+\n",
       "UAiz/5W0HL7Uzs1UoTQ2J9IUoLrC2QhZHbOv+5Z1k1uICe8SWchXWJIRFV28Ql5QgVQtgMRzqyBS\n",
       "A9klJQosambZ1QAhg901aBWyVsfSADUDLQiKJgLQDM/ugFBdLSHUUxO0nFxyUo8kv2eB20RjzEgj\n",
       "yS5l5p3fRyPtYJVPa4x5SQ1b+IPGgx8g5HVNCvxn/7ZfQ8sB24QqnR7pl9o6VzBB+RJxJAA9nQCF\n",
       "f+Qza0CNCgfKW1f+wjOCt63kClwXdeyEMR0m/4qoAl67SiTeg6pG4e0HE51Lz7pXysLuXfrbOqfB\n",
       "5HgBg4Iw+/2krTNaRHM/LL0GipOGTsq6wIup+67/KM2kRhbBQJy3nm6L6/eIDapzHwhAo9T/pmAv\n",
       "NPmLvCsMf0t8mHbWf2/w9dyx9+aAxw65SpXIjjIQ+CT4/z1JgEbrS2xBmsHHq9aFH1dqEnknWfMZ\n",
       "aboPPl3A4q+rt5237V3f9SosgQ0AAAEwQZo6SeEPJlMFETw7//6plgAlCpzjFeqQgBMzcHMfdfn8\n",
       "qweWEdh+TEYn5bCs4H50KsDyxZ2ndBQcTHxzWco20nI+0e7dc7Y5kpwHizxOUWoWlZxoIM8hu1LP\n",
       "IslkzKS7ewX9SEKn5mIrNRRR/S+72/INz4Ehm5eS8PJdLrCmOr7PsLNYnNTRbYM6YEtgzmXXM4u0\n",
       "zSifuy6Wqr85xIWz4kwktIb/2Vixq8J9efS5GcS1I85/J7yjeXhxCnTFIFgrlxFQjrBORhNAAuSd\n",
       "pGqeEQFGeKfke/q/30H6mR6syPGZ5EVb/miZaYuU2HCg9Vyna1jmzfnAApCamRnQXFiS9jSByu2X\n",
       "TRckKftZ17glgK3+RSYYRCk9GuBKpCHIj/76LHNc6oggCiacdncM+YR0wAAAALYBnllqQr8CHojy\n",
       "HEDOh8ImeX2OB46zerzWRe2/AH7q0Q0GEgCDQPH8RU/lFPGvXrTH3mEuAEwT2Wnyukf1cDU7kDR7\n",
       "Wb033c2rpcpP+THudV5whrOyBhqqqai+5tm5ZTAqyYB/FypX6pe6d/0bATMf6m7szFjQgjKljKkq\n",
       "d49N3G+F5Vc/uFbiB5rswMLRByS1u/S/Pg/uovKwpowVebNvryEinrueOB2VCDAZblkmLQWNjeXF\n",
       "lQAABd1Bml5J4Q8mUwId//6plgBvpoZx8ABpFdlAOSdSteIvAm1CreZXJBCnKBh0ibmbRvVzSsr6\n",
       "WAdgAL2o3VYe/r8gYhutS05eW19I0GRt9hAH615YcKrpVXfP8Xemcu32/V9uIRmCnuukVpUrpS7v\n",
       "k1C/iHg7Tq2Gn9NpJ2gl6KGlt4XD4kH3CdDYvMicd2iS4xC72/whG6n1VAdj1bJytMUpC1CGbRcX\n",
       "/ZRrxwgCe5aHuQUGyaY37JpSomQxk4uolU2uAKzF//NwQ3FL5JPSLRsh7MLM7lD+B4Qm3UL7OYWe\n",
       "nTf/FYOsBD9i+yb2zcRYLWwokxvOHegJ2n1GXCBWYuKZ6MzWzjJNKPgg/IfZ1JhRA81NHbf91G9O\n",
       "/G/tw3JXdmYM9yx0Hf+E1p28/SwrezQcq0y1thzDfYqw5uIa+TQFpf25YJFAy1Pt8Kuon4p4qhTx\n",
       "+l08SGdN0KRAX/BUv+awTEEyAqwVCFqH6jZISwnoAABf0cgNXb5OccNRzsQOYZjA5r26PY6HxGlC\n",
       "Q35sR7KuHQ0Z8UdXtrzvAf+2uqpA+PAPwgfWgBezpq1eiU02XaRZPPrdII2/AkORaTboqoTbtKaH\n",
       "8b0u5muu1S+NMywuIcGWwo03BVTA721p4pm2CjxPs+9nrsyLcyB81ZKO5GMXQXJcajbJ45x8d8oN\n",
       "li/zAGUEmqGQLiZRwMvSa8pHqjfjD3HZ3tuIY5dfqe76kMkWc70RC6rXM4rAtWpXVHZUruB5WdFH\n",
       "HseQP1a5j40zt8nQz7WQ6DOn6j9VDzxgp8QewYU4putmwB236cQPp63MVPxugjt2n6pV+bPIUmLm\n",
       "rWYsyskLihGeN2h9QC/0ycgIRZEUEKpQddXRuA8RpS2BcKv6g6FoHJDVLx55FJksosb3G9j87Ppw\n",
       "G9692rMxw2yZQgWpDdySbVTrXPJc1Orn4XTKEH9MX/ml/gJ57urURBaUA4AzOIowLiXt587S5GKl\n",
       "CzfrAWrTtrWOu3AfAdcstmzdIl1H1c7hw0PtLjPdfJ66oE9gj+++z/U3zD3RO0pRHWxAMvDWr5fR\n",
       "OjJrAZEoRMhWjEL2z3gkjIJ/cvjGUlePsfrlJLq+t5Go0SqCv5tnpwKczLjfj7nw1LdcJ1jUOL+0\n",
       "cd6qbsBRX/TynjMEBshcHomEGkMPkxvhL70YjtAKs5vCWTBj49eNMlzjspdpXFY9nkTnDtsxMyr9\n",
       "D0m5sGttGbvubtpHrzDBKOLtz0oY0yx+FY9OEcdCfkBtE+yfhlYPrg57og2gHuqZWxB9TDIv5dFf\n",
       "zuAO1WoXc4NYqHNu1MRA6czKT9hFG9c2HfV09hIF2oORC2cRGv9IrhiZByVX1rPHSIIbZgD6E4zw\n",
       "+kh7m454UgSa7GtTTpRopXUsJe1uAAFbqcEgSYLORJsCKbcjzDtrOZlxhDsGC+Kz8Uzm25tPcJT9\n",
       "xE5yL4nE0Ar6VG2fhRQvl/3NQJSb2Cz/2yur453lpbDsSyVWYeCDAzVBJnlBr5bOQl1F/pf+UMWf\n",
       "4xuPTovH61RPbcqJA/SOGZE+hf+QScB8uhZ6CZ3AsJ0UJoypkdeE5jwRvpKsXSvaPJHdBOr0h3w8\n",
       "iKfxinauf6QGwPc+LLytFzoZwa8WytpSZpJR8U7lPoJ8t/epN93b36czYJyK2/X8F38RZwessYZ0\n",
       "vclJIYskawJ2SKvBMt0NyeUd+xQXty9gckvz0m4CjP0+ZJ2Cn/vUeMTJ63m2ogZhRqU01DsQKxJs\n",
       "PA9FBHRY9fs04eZCyJICMl2+1j7VBx+7T1Fw7JgFr11btiM4Ft6UsvrYIPhwrVONdRSMdPSgtECt\n",
       "zCEirWu8MSTbOD2dz0CD9HdYhF+d+55BK2KPtrOHj/oeYbXjUA2jJdLgOPL2lcmCS7hn7wuOP1tm\n",
       "HilxP6z21lPylAxi5NHLHRhiujWCOobxu7TILRYUVWH6nGr/9PvP1EYtAyde3aPUYPuE6FEcuofD\n",
       "hnCmZ4ju1eGsPmQSTI+z7Y8Pim4LhXuAAAACZ0GefEURPC//AZVkF60AtYZRe3dL/qwd4YdRZaJ6\n",
       "AGx/5L+SY0OnEs8szO89v8arP8Kq9hDMGh3G7Jx5qSi5OJmPpfjrErh19LYzQlyDTYuYJWQaT0Jx\n",
       "BHsRt0TnAJrTWbbFuzbLjrtj7Q8zLy43Hs+v99NgUMbGy69G2/jWXjhiTDi8qWJUHc0Mpgjkpegy\n",
       "dblvTJlunIkNat8T1nR8U5PHIZFyP8CMaXjNXwu3l3iRW7vjNS23WL/h6jq5JRZCKCK53xWF7s35\n",
       "eLIYPAdIM0oHc4kJ86rTaIfpSvUWVMmvBTofIf5+5cQAPK9nntueQUs7olJuqZ5AvcoV27AtjwHE\n",
       "7aSSiTemhPB06Lmm2iQFaw0GfFpMacpvcdDRNKW7LmLDi1PTZ/dGR7bSIbkO4zg4vE7g38XAGDUi\n",
       "YKDsZvyMYDFe/pPPK+/EKhIydqv/RZ8/YfoL9eF/yuTy5YKg2W1IdWBVX580xOiXiJuyArwClY1j\n",
       "QZbs/gQRO3CXiV09um+C32Wfqr5BSCrc+mK9f2PpSgSju/utZVE8fXZjEXWF1Hj3EOCSjeAN8Z3p\n",
       "2bDsGdrxbFGx3mEWEmX0Jvz082Ig7M4FHxSKWnb+kMCWkjgN4AYQPiP3x/slugU4A1Y+iQ6yPEAM\n",
       "iB2Jwd1ZapuVh6JTqTPx+h95Knqwws/6m8SO3D1X//wLHdtjJrXlaR1hLgA1C5rTb0mMkabypwui\n",
       "QRJCcObCYiCg109HSFLh7Kq+x4yKJTexeKpHVBMxaa97Am7pIbsHYmFA3ZKLnxrV2y/Fd8WfO4gZ\n",
       "16IkvFbWIEefLwbLMc22tQAAATsBnpt0Qr8AsVnb38Ao3DTSgwSUWVz6wO2L7eJY6sCtmjs5XcbN\n",
       "zeBU26rvon2pp4BAFDk/6OSZs+0VvmJCjtrXpFLE1QhoLMZwetOQIwus7HH2pBi7kaK71YbwmUcA\n",
       "aL7aYQSrWysyBTFlwqaJYy14AP87cztiOKzZRV8MmOUNAjUtH8176AiQIo5oM7eWkPtQB5q4Nhal\n",
       "5eGg+81beq9fchSWnooSLVZeSj45A1XQacfOs4QAYD6jL14PokNQyQnEV0PkWi9dSABtnys/IOUG\n",
       "tC4/tBbJK4BrbaIo50lcXWT16LDGQWPbz+JeAQCsVTZXkn7bYgBh3m3i5M2t6VIF/3yoJoID5N8+\n",
       "LqSFjJpOYFPdwwPHdNBhxy3XG9HYGGidqjl7RSAgelbhylvqbm3u4aqLfua+nfDQZWEAAAGLAZ6d\n",
       "akK/ACsxBWbkKg0j005OF3uQIpfucGLoS+efw0juiAbj1o78/6myyBjnLarGP3Yd1RvQBAB98vuz\n",
       "NoWt8mYI3hfvtGnPrgS1ecQ/K0aqoWwbt8OiHW+e5UxYTa80/8LlzrsoD+O00rQyY/+RRiV9rJCM\n",
       "8Vegu8GZ62OtVJAJM8T315FJ0NqjLGwQ5a73l9kXf+06Thgs21+VRQhmPL9Y1cLyttVJw87SDZUt\n",
       "5gk4/iAFtJpyIxFvc9cR4XgALX3vVVs1awKgpt4u4kqeRiz+FQgP19dREL6ihV+SuiFIPH9a7uMe\n",
       "TmlsBdAT6/3Nk/EsXmTUbDsfOg5NUm/qMnP1NvzlKZRnqczaJc9XSSK3TaRcnV8wxWIY0ypyo09x\n",
       "IqQb5P165yrKMCaeRkIwsfWcuZILo034ld4jsBEoW0dmUEdgn8kl2GjQ45LAFM6/f4TzMp3m3aic\n",
       "MfuEeWWpcSVWujvyoUZ3oRqUJcKK0E4grfdJMLbr9AAWbtM/J1FeQVlVqr/VkIsQqCAAAAZnQZqC\n",
       "SahBaJlMCG///qeEANvgVv5LQGKy/Ywzd8hqcvUAhAYdx1DXuTz+qON1cjhaDhwfvqAAKIHb59JJ\n",
       "rMaOrMGz961+IQyl9SE7yqDfyBjY3YVe7jKmrTejh2R9tn0i3gdA22rfVXeLnWBRUyZPJvRqzuD7\n",
       "uZ6eTG9n+kIRongSGktHDu2dsOvQHt5FbzIW3zV1MyVVQZ93nysKZSu+DI9slx9UxgtxqEoHhjtW\n",
       "60FTLy49XJIAM9EGQ0BzBo1Gf1Smu2yDI6NvbLDUeLgsU9S9uGfOWYoxuX6FEffud/P9bUSwXYPn\n",
       "wMSkjBs071rXlkJ+mTqH3sAYmoJNrOEfIWMa4QWufnmh0vGqra1luArngfTMqiil3PAbGhYpDJrM\n",
       "6MfOwzot8A3LjcTawHfP797t/hFKIvZe70+z/mck5+4SnCFflXGhiT13RWRpZc+Jr7wcS6JkzDt4\n",
       "fKjhuj5ou/lL4h/g79+S8tInXDjwc+XhKsNFJZetn/MDhN+h3f4D78TyAbm/cMzvEr+LWQBJXInQ\n",
       "myvbUFrS63KP2FtYAJlEHLTukqHfIP/f7pHiHd3IMO2UR1Pm2Hasa30+4aABKPz8zFgK0MYD/Hsh\n",
       "Ery6Z1cJErLenVNvpwN52ERUKR6EsbCkt7eCMhcabMou5b2MNff1DsteFCKIAKU5LkLBXl5rgfQS\n",
       "6xTHbBOUJa75Q66Ocgq8b358vtp8xQRRtTRh5FvTbwwUR+iaqCloLnKQbeIUDCOdUhPbk94UENKX\n",
       "B4mZKblDBzw9OgFrFDq/FNEF2ri8oov1bNFhppYYoKxoUUn5ntRUY038wmm+UfcEs7nFITQlduYK\n",
       "xSIEEUN/AeDcXDk/9k4jdipJKkzGfh6Ms/uKco32KmS/7C5be7ZlwBVYLU8aDvjYZJfgqr+r0K7i\n",
       "KmQ1rPPdPktKc8wqXGBj8TcKYFvh889Wsmrcf/2M/g1mUQnGPcXmWVK9qztffCqy2eTecBMM31rb\n",
       "MKoZuclqcf0qM8kO8aTYnRkzGKPPytp6XT/RVrP1XAeGqe6c6Ig4rqw+o7/Kfe5aVEPEPMHqv1Je\n",
       "h/uTomn72cfITBmNncWO7g1Qqp/rIF2h6ScSXhN+keaPyiOcrUHWhWLrakKYx1jLFA+SClUsFVwx\n",
       "HQXU4lz9kWAgBds0OlLp3XlhrG7X+XL7GHGnPIM9duLe88IT4WBWSp9BwLJxpqXlA7/H/2RtyYpt\n",
       "qpwRDFmoMO/gSUFi2hdefNDOlcaQi/2ciXpUdPcvxpS+lffJIfIJOKl6x8Y8iedCyfKlHljScgGv\n",
       "ecO2msmlUjj88dhPvIHqChL9FpZfekT3WLyKr2nMSrzEPkKhg+sTzxj2BtpnaZdciDht6RFUrtJ5\n",
       "JbudzDeEJzhvewIfRq5rk/nDW0+bgXvYU0+unU/ogAeUvzfcoAT5dNnnr2DPhnQpbWoQR7123P1j\n",
       "k13nYYQfyTMU1feMtBQPYiyyoAHjMYaORdFO+DBos1I8//zYVlY/BZyj2ZVsUG3qCkNhN2ZREw9o\n",
       "zwO/QthzhWBPXM7Nt9QVRZwEJ5TentSmF0r7AVDCas1VO5FwUuDuG0alsPIglbfbeHuy3ydXAf6D\n",
       "1189uc+FAvdSrRHwLLG7m9NRuPYloFtTgvVUwnih827PFwGdUO8f9VcNKXyWqRAsZ4sfQYeYoMkq\n",
       "fGhRJqBZmmMMsvO45xmiyvYbMPP2lQhg9+YNGCdOmBPt93Fc772MmC14a8O0cAOEIj62uzWJAal3\n",
       "PtQmUwNl3b6cNklEEBxxlnzsB3z0Gec4Do/z+bTFp/lVfMPaJaIX4A94/snMR074jYbYBfdzbA2K\n",
       "5Dn6TdZPvzX8HeAV9UDsfhOusXHp3vIrtysGuLhQVFJuIY3jbXB3FsQYDu3SNR2xcW39Iz67LUHQ\n",
       "Ogj42HFylpdZem5+LgLWSpoeK70pppxGAivC+xb105oez+McKZDcrtScB2mVRXebMTUld8FUqNY0\n",
       "JAtd9NeN1CY3hzT7LbuHtwMeKLGqFUJTzdzjq6P+MolAl5YuThR4y6o4u3IpoJC+ZHXQ/10d1zmx\n",
       "PjLgLt4qS4l3FPdBTX7M81ZFAZXf3UXiTOkkQ6cbFxkBvSfvl2i39mBgMU3jikxdAYQR0J+fKerw\n",
       "T70b4EsJ0U7KbV3slQV0WrYi4nIWThnsByDxiXBCbpifFwtPRilqpgAAAqpBnqBFESwv/wGV506y\n",
       "dFqhkG5s2+jnlUw0PQnS3gZtih2VzepZfLiGDwBd6gA9LRRGZNzaOKEGOaIOV1V17FIP5e9TF+n1\n",
       "DFyegiq4nRy6Fild8aNKc9/P3mWxUjfF5BYPVyir1PEzyayYbFci2ykPOoc1BORCzOJtSBn6ikN6\n",
       "6LY1PUNg3nI6N3++6P2Oolli+wfpg+K1qgEsJWZljmEQXDcnaZoFcwALEuOzREHca/1i3rkU6qp9\n",
       "DINXp66u6KMa5GhVmXLRzQ2Zp3sxJf2O3m7nwDL9z22xgUtN228B8WPQ1n5YHlcqzBLXX2XmqcAQ\n",
       "4zoJd2RMSRSGA28e6xIpPrzTSdo6E0xs3ZAK4zpUuGFsLZ4NzxUKpz84HbVigtp4dOIjafpFvTRN\n",
       "xnkjD6d+WlrOShRkHL6aJ0m2Emml2EUwAdMKtM52RcebfjxDFdH3icesbq4c9GaKHBshqXOFZmhy\n",
       "mbVKsIdXyNDSF5zeMZWTorlOlvzDQf+a4r3s0qomrJPXAF/E1NzgonLuv9ptl/CA7qB8j8IuBZWB\n",
       "/mjlLJTfrB9jwYlheL14JeFDQ6DZhGswL/A6awwTBrdHbs59TO8XFnc75fwKhWtgeylJ3UNbt/u0\n",
       "d9t0NLoj8rCxx+WBOm91INYgWdOMLZoNXLsxlxeqjicET0l2yFhRhtaalvOCPBAzE7tFGn3f4EVZ\n",
       "wHVPQhhF2GH+FGze5+Sw0iH2YTMYk+0M+10E2IrJXVQ3/RgXl7SjElIdm4qb65CSQOVB+gnGRIzk\n",
       "p70rREi3Y5LcGmsk2hppA05JEjXlkjfvYXxnbpdpb1GB6hy2eq8GWh+g36fj3kDtpV5QaI8+yh+t\n",
       "n2O06OBab+MTfRCFa/X2uBzvDPCmzADOMre9DW0faGYsERJip9iXcr4hAAAB3QGe33RCvwB8WjRq\n",
       "10poO+86AU6TB8syULFudReNkuFJQzIf8suZxCADwL5bsIghOvUtELZE345t2jmaHZm5Fcg6gddm\n",
       "4gx/o1waUxBIWUgiVVcv3JJFhRmSKv4Q55pvW/GZ6K3GU49tB8jmgtWjhyKbqj5dupWZ+Ch4ZV67\n",
       "JMwcTrNLy9cOzh2rQqD0H+f6buxPjZU04DF6r1kWiM1XAe9hJ5hpqKD3JKE/jb830HjddTmI2COL\n",
       "VnD1OfIWg30NEDmotWshhKpDiow3+9qMOA7YJcZ+6hqdO5CfEJtCUGq1dqnX2JUoh2A7AaUFzQTU\n",
       "kDGotb9lr33tFRUXASNfj7VjA3t1yZxvwku0cgydXtGBibxpedfQoWgnYL1z7TiWQt4gsn/eORpG\n",
       "IxHrexcaMHaOI+Ed7bC06IGqYPeRex4F82ZeMBteR/hC3qOODoWLTFyEkDHtXOW+Bfqjxjg/IIZg\n",
       "HClC98aPD8w1jmjxmEwHHCKvpypuS9rZAXXQtx2wAyggd2E71+N5nwmQfEqpXGLaZv3ymHBDtq1C\n",
       "pIa9fe8GFzyPIEqVTYONmI82QWXX/+tqkGTkdRkgmHbe4ca/1A7hFvXoDk6bdz1XjcbMxU9butT+\n",
       "SNWWkBDY+EVWwAAAAhsBnsFqQr8AJrZFKIAWdr5v5tS7qLgapWpLyujp8QpZGyaq2bk5AbZ/4PCf\n",
       "pqJs3ltzSEMcyC9onIphtzvzAltAh4W/eNpCC78ahGTHqB0AO4OSqaj5ojXzvpBBUnJQwA8XCdHj\n",
       "ghlEO63yLbFpVftAXo9AfIx5WqmL3CyJYK/J4DJjGrWfRyIXgQh6OZsWW1qK1HdHQFa1IBp68dCu\n",
       "QKnt+HWyArWLClmp+KTfZ7GcYXq7PUORkYjw8i8/4aH4p6dTMhpxiq2B88p0lwyc+4wACMiVoGQx\n",
       "0DjS/5dFxEDSNxurrxnp3a9xSKbSWU8F6Q+4GKMSzPtKZpgWwYy9PGuuAiqMHWRMDE/qpKgSPiC1\n",
       "FxKORzdR195z1Oi53jB54YJf2mtNkJ4MmxNo2PMQF+Q9eVBvkyfxPbAxDIRC49Wl6mWYX7Ga8pec\n",
       "nfnvCUzkszGjTXswGMzPnZBHy9OX25vtyhecpFa2Hs0Lh7bN+ARNQcUZ74PgWNrSKWr6H0KNZmZB\n",
       "E/+Ned9wpT8ff6mrW8oXgptC1Q6H16cBQToKbN6QCVJ6lFvG8L44XhCrD2WZqPSpFGNg3Y6fnNA1\n",
       "rB8mTCnHA2IoN0cMpsNiwZ1bEUdV9/Y/EaSt4/rNg0dJJwsP5m4hYjQ6fwMzisQvrj79TBRCRGJf\n",
       "ML5Mkf+ok8JS6aCk08bITxF61JOipWirmjflpVN0+2EqwQ/F3UJeMQAABapBmsVJqEFsmUwIb//+\n",
       "p4QA1rpx0TEAJkRkZnk7YNttjSVz17wrOUUl9Ma9u41u6fR2xIt2Wgn5vIyL8n1awXLohVn6d+RC\n",
       "FR2g11oX0t71+AyrMVDkyjTMaxX0UDNc0LhvqvQfdHp+mP+lxrn8yo/X2BRsSTBCXaUlZqqa2GRZ\n",
       "FiG6LckxxcU2mBivtfhz6BBFTp6IGNR7wCUH8L52NpOp7UU10RoI8w68UsXDtCo8tCHfDqROgE59\n",
       "jKC/IpudOaSpgGzwYday0SMxtd7Rj9z8TALlIW3GQrMsG1H/53Q+n1aFGhYFNiVO+KlHZCBD0a2m\n",
       "wjIImZ7dD5WUCmuZ6OcAtMrE+EXMa9k+Cu+rIottQLw/s6Qq+3PIaYjXEGnCoIbXnXGdr3H2EvRs\n",
       "ion4vC7EKszqhjA8db0j0HFZCwYPmSJOt3vT1NZbHq3u9qZo00rCPK4U1fwrPOtRS8ffloMihJuO\n",
       "SMwrOo/rU0MzpSZNQft6O+HZ0i+WxkoUWSGR8PqVG1wqiORZ4SnPKPAh1rdaDC2ZD2tiBQAZMLrw\n",
       "DSZ59SDBERBgbx9kWdmcwmUFhqgancFChDZI14H/2ZPbI1xcsPRPmhw8FGqVwTvbkkx+uO4SDKmt\n",
       "GBawSewQJ0Hyyef1TCzAj4HmQprnbjjvW8Sfekx9pBsBDC208u/vSG3HSsyQ9DVv09B+1oIvOOZM\n",
       "uIj8xbLekNo4KD/vmoB72f2cdH2hiCCILGCAeOOh+E+0wdglE+6fPg40Tynr18C9mZtpEcWqUHEH\n",
       "5K0BB2TaG/K/P080D4tCE/ZnR6CvbeolXHrlkZUvcZL8yuMl7WTTRZ/qQAPdLJRWls0VfMz32vEg\n",
       "EYp5dbgspfl/9bWn3Et6RJFyJ55g55KXG1xwND/C+eYWj2eQUTO6tqLnTcg37qcn9sosnAJHJ3ui\n",
       "lbCoijFvaNhntXIMf2FbccDch3eiT69T0NCbXBVvj+QMHGl1+mUkT1Gan5Yub5w39EVnlPXQayVO\n",
       "zviIrEbypD89EQWw3PU2z0pjs3zGPEoKy2TlhJrmEFY50osxG9oxhCcwa6AwtVPGpyBd/TMm3iN/\n",
       "jhquiuGislGWUEa0AzRF61k7ZKmC7QGnPDiEH1cEJXwaupRnbFT0dWsX3+eEvCUbylwh1tx3nl5R\n",
       "KNTjkATjn9hUVZSNS+IXHNt6j1ZLGd5zDDD46YwgkCGVUY4MBQH+oY3JyAVJjThEYXMtWoe57UFg\n",
       "MvJV2pngSDC9tZFGXlG03KHNwY5N27FA56agGR/qE5smr0q7YO9bF9ZvziGEyFseghsNVoXRnreP\n",
       "hoWe0wuV6XaWfyI+9JIAQYx8swrCqw1XKwVA7FeWecgjlJvxecShiyzW/R159pnYpjkxg4ZaimdW\n",
       "oXK59ClYS/B1h+/+pLNEGVwUDjOTvuXd1tY28UzsGXjk5SCbzc35gIBICvL9+YmvsdgGk/VSrT//\n",
       "nL5/yHV6ZpcAQngs8P4q3ju7GNZUxA8mBRsBNSS28b015HUEXZ5MERRRfikXy4Mng8UnBdQTSr8J\n",
       "BmoCj6vasQLn8gzCwb+Etmlua8ZECjSdexUK+JDrPup7hQEEAZjxF+LkZCd5ydq1G59AEk6ME4/H\n",
       "xz7/vF8EirlZqrVjCuHklx/6PwWhx+PHByxAOwIF0GO5s+KH9ifLbaF4u8NQsGW8yC4CdLboe5oo\n",
       "PN6KP/dhJCGK4173hFth7319Q9JCXMHOAobdRLKx/NGBWZAxzDljJV2WGHYwAVY65xPiK8GbNNFG\n",
       "fpclqDTQIS/aopNALDA5XXtYGWvoaNkrrlFqCcyg9E6zxV3RdxNVoNwSnM0NhHw9K9GnFq6DUeqa\n",
       "Nkjj8q0AFOMtTZfQA9qIRfsiyCz4cERCxCK0UP2o9v7t/+LbMntk/uIPehlKHq6FGxUXRKO7MTc1\n",
       "bUQ+pY8a8HNLqw5CAAACjkGe40UVLCv/Ah9hzRsE+dzPl/sJnkiAAWYPxwjahYjZiMqLUc2OZVcO\n",
       "cZXH5MKDv9pUEU7C6t/lXdRyPdLMG2nzewQ4gPaUqho+qg9mIDoCriXCl91y6l6skgYI/XEhmYf/\n",
       "zUBrNaHg2/3i2e2hNbxyuEURLQIxZuXbbIEMExPnBW9nctWGyMobZ0CK/0xmbC7IwSfj/HyuFwnT\n",
       "gTT2dutR/V199QZYwmzDLLLmXYr4BUvyHCwDPgDMJHiOxKTvdDcr1UXq9Ynp0KoFr0A0RhQq750V\n",
       "tVEcIJcN4qpmTl7MrSeHASgAyduuMVmubm6D6dU+SXB7NqAajShUQs4KzTN2xhB+X5WmwuqKYHnQ\n",
       "6/qbsL0tRZisimr5dOM17N/BCEULGreSA5ib3o5X2NWugwnWAx+JgqYBHaaBB9oIQq5yjDxHadpj\n",
       "vBoKwK98u9ZTMWf+Iax3USGZ8S6rg0vnLIRZYhPvPiw40WEQweGrfXPfWjdAzJG8rxK1Qnx+4sCX\n",
       "zWfls6ZoWAoIlQZN5ATn5XU+fl787D07QnCKdOcA/K5JVOPfEGq0vQTMifZtL3erWr+6cb2JNqpT\n",
       "AvKtG9nDB/OMuDSn4lxkGzGhklQ5VoYhJhc1BmIZMHEKUMjlV15gLegRES/yoW5L0MQhFcfreArA\n",
       "4qdN9VDidZQ6VgEEQ3c8xzcU3UbzdFvxlJ7KLEWVLWe/EKvHXh/9dB+JGot8KYJFP1U8DjQV3X57\n",
       "6R5KIX/8zvx4P3iDUbNWqeIk0xvo9HPctVbNnVY0eJkpSMuWL/XLBfOuaPKILPzynflJpqEwMkLD\n",
       "jhFTJ/iwXgcFai1FoHwrgl8PWwptRBJX/9BC/uOv6UDy1057KkkOBXb1QQAAAhsBnwRqQr8Ao7Vy\n",
       "8IrPw5GQ/+SUxS0OGn4ccm52hgSzsXp9CRvyea6Ds5rKCRTVNG4fJlFJ+wGq3dKO/iQIkjhzUafF\n",
       "v8OFVvxyhyYFMo/9MI88ZSLNjr/FKiGnCLtGR+qPqol0Y1d7gAIVipS9WZjzpODpwqpJLh7G9b1w\n",
       "ddBPSJpnPafCBSfwPWxN9RrXfEaxouOpQXt6H8NQRxW3g1eZ8hGrhG9z/t3NYMWt+IpeU815juqY\n",
       "sEzdcuoqM3jq8G4SpGLI3sV/1ZHbOCFDDZ2zt0JZniNgP/DXlWO//IFWBpX7xrJbf+SMbwqTbMy4\n",
       "urbXU2Y/qvODstznRzD3lbk/cUhXUV0iv0pS6tQLuB3vSCmmUYWfNAzllc1ug9ETXmiZ9E8rtPaa\n",
       "FuQqsWQFQ144T8qbuZazfZG2COZA6L+HxPJoCcAbBsEC6YROD7kc+49LjLikwbU1V8f0/5slZ+/O\n",
       "G6kdtsiaWTKlJsTX8iLCf5vXb7eNz3FV5XxGgIfdzdPBpr7mQH2kdKlSE/4lhh3rVNQeZgo6MmW5\n",
       "RjHF3DFBobpMnKMM+taHe6+TDxVv+cgsM0xJnrOcgJu+6iyLg+N42s6DSxnGg0xtcXgJSBFROOLe\n",
       "ebIRf1jSBb8oa9OyIhIufdR8hc3HVxycTkHw3GJeSij/JG/9bu7zBrZZiTTpZnTnz8koly9UVZMP\n",
       "h4cdGh4dDxgh1emS4A6ZVQAABQdBmwZJqEFsmUwIb//+p4QAlpLG9mEPQWAPfe3SbolEA9X0Js6u\n",
       "FQrBoVEgNIIEJSoaFIekfc9oWgz4YKpl7Zu2Wp5Fnil0lnPLRb8zt6jZ7FL5Qx0Meks+jodiWoS4\n",
       "Jp9I+jLVU6KI6wRyE0NcPliIDMNhvrSYdvGQW0pAqALXOFvbANa2M/h08qBH1ymo4pd46w62/RAy\n",
       "68g+3vDaHj1KqJFHaioYnNwrmndwxlaOMl/LMdkLEOcExDINigY4CMWbk1R9GD53YQXjohnpDL2z\n",
       "vRJH5DWXBRpVhLC6ZyKtb4ca7bMjIKL7X5+Nqqn0Wpw4Cx9CE7AwzaBbgY3kUJYZOE6IiVrU3bEA\n",
       "mxF/y3RtX/QHFEmX+ahJhcpRU0DjT0cmomSELntgt9VIFulTEi5zFGj8VRcmqzZe3/QelV/sjOnk\n",
       "EWvyNr6VAYwaooLxVskhrWfH1mMqBvdrsUsqsTxbWOP5gzF8/0VaqyrYc9ThQOGyqukC42d9RziZ\n",
       "bhkk+CN2x9K5H9BIYH07fsSQ5LsuX9m3W1UbA36BjoBOxACbfKvxr3vlmAE5b8XFY5xEpnTKjBMB\n",
       "/l+Ibk8cXl4k2IIEP5/WHpOjs/sKO5hJIg/Bb3pLIsC38NABH8b1Sr4h58WqtcgFWbfuNbcgmIAd\n",
       "n2bB3NcincURfFzc2h4DmwcUVVjJEeGghsPRKHOayH/Ki4H8K7OR5vl9aT/QaPhYoyo/s9vhN6iv\n",
       "IQRvRFI5EIbLZC2PZMBhb5sgEf5B9nMXBoqhf8Rp+Xz/G3kCdwp379xMWnFAZHPru6MIPlDTo83W\n",
       "RJDF/DYlRUVospvPM8rvsCi6CmDx0mJSjurWeXnXP7+b3uv+e9TSu0uxGM/+Pv7LM+BQnbZMSClS\n",
       "SRZ2PKyO5opJ5F7VPex8OvSGvfeFZA0HN3E+62ymu2NGUrMdqAMme8hQT9kGEzLqqfcnBmyqKazR\n",
       "eiaQhBgw1eC7XAZBGwtkRb0EuZBrCayeImOPBiNEgvrgnWf+xYTBlV5A8zhHoFaGPSI8mKyXANJi\n",
       "bgOkRvbNVin096UTl5pArwKOc/bGwhL8Lc1X6THpgcxSDGC+RDFASHTmmpNt1k1ZBiZO5HsfZRG4\n",
       "p7El/Bc2Mv0lsVdeCf8MhWh+5qucZInsHojWOdi0SUcRiJCrB7E0BMZv7M5/tB55k5JIipw29aOS\n",
       "4/rsXlSiE3Vm2y6axWD7xXt1SFUDNrEUEC7L2YK/TwnpvR6wK2oHmc+vWBVN3gACoU7MulKVpO+P\n",
       "nXj+9DpfwE6dR0KAR10Wr1o8MLV+uqRGWBxk2tZPj03WpDd/UHXzBi5Q+MdYNEnAKN3i0wD+syjW\n",
       "ebVHjcSrXKW9i6eJNAnDzMCO5sIBJS9XGYCcFhiDC3aDTboIwLjnDibIrAgbpdiCgsUh4Ptkk3+H\n",
       "7o2Seq30eykztMPXbR1bKIySBOjfnA7VNv9+00JaToIa2bgw7kq/yhGoEOEms6Tw7J9vkInOLCCC\n",
       "D2gtUB5uYLAXTGviGqjn2EolkTdFkl1fB0hrjRilWD3lJfoJXTbyBp3D/F6dXtzDpo0yo18AI50h\n",
       "WpG6RPjktYxSOsF1qIIZfPvBjqXqyFFvaFQciQGx7ORgTqmkb4KnhxR2m7NMobbNU9AUgRjDuhmh\n",
       "j1ylgvGSqoDRPDjv26nP0mdA5YdsD02c9z1mHBqW7YWMWZ/X7olY6Yt23iIBapvUGvwr9MEAAAd+\n",
       "QZspSeEKUmUwIZ/+nhADW277sv/Vs1sW3Vh1y74AgQahwxpeMKJU/7oZA9sRPUQEfAUTjAVrjujM\n",
       "76ehXEMJsEV9BtTRMfMP9IakJpGC1UUIzwzdMFalM6oY8k7qEWPA0jMzhuSHN8K/tvSaQYtMgtZs\n",
       "8xR25tLm6vwzwj3RlTL2j4oVDPrvXvhfNtTl8SKEjL+eTd4vFMZ3hNJfi1kizmyMoefyCBeLkcEO\n",
       "OuzOitPwD+N3coPxj3iaKHARaFYUIbTx/aL9xoX6XORtYJYmjZ/wQu+RiA40I3wYHg4rBlWEgTvH\n",
       "MiWVf/5YEltyXwkQOseFUphC2unFqx5CNuAhxuhXjcFhnYUjxhh0OtAt8EYX3BSR1o2HDhCQdN4c\n",
       "SEl9pIoDFe5A6EfuvXFspSZlyQhURPW0hr3i0EShT82J0yXaT4ziJCZXkpHLK1wmLeBH9PIiVwKT\n",
       "uG2jPyOHt1Ixo+kRhbqvLyUv9aVEfrXSBNBsDN5Y2Zg4LtsxcdRXWFDVvSL001J5mGwMKl7HrwMf\n",
       "b+C2xLiTHi+qGdbSkTNl9p99yqkI4OR6o8gg/IKhxygqRYNuncyBOHkhj6YXFdOZgzCH7GGHDeME\n",
       "XVb7PG9RgdVEKJZnabbfwbdP7iwHhbXTuwiQNm2MbBMQXCoUze64I6iEQ5C5In1lksar6SwVrkZd\n",
       "v7oI5z7Pb8SIhE8L6vj+/sUaiBYHA/vRnFquHyT+WsX9WmCMm19vgu3oWrg5rKGs5YfdEgkBcUZc\n",
       "I5tUDBv/g+c2HW3yZW/XApIirbA/2IZ6b9fpWUa4JjFCBz47pUFTpF8MSSjWutx68Jme71aKZCFm\n",
       "PLmfc+5tM22PqTr7v1zKBtwOpsjqWY2pzredXbSIMpimecTJoatSfJvNt6itqAQd58aQXQKwfD47\n",
       "E9NO/ncQHndwHf3inEwiDqTXmfQPeAIsPYKPhY+/+kIC4qEGqLrCmiJvNWkbMq8VPRq+nWwzePyD\n",
       "LrezlcCgDGlCpDaFZl74EOGvEtzPFnaox1GGrYTjHWBEaBmPXN3KTqcLogEijeAMhmuWBC8/Uwqp\n",
       "KEQEeuO9RoqfLWaObbKSVUqD8FEo5D34Gg/GlNBT4OABBJkj0aVAowaO29plNaTJ4AQCHfL+ntOL\n",
       "G26dEUlQExe8GLfM1Ay4mGtgj7ZkZyDNuG+yQXaKkc9MtL3I/lgqDsVjjiI1V0kE57mJ6gUtZYm7\n",
       "kscCx9VP0xAh6TOrnxC6TBFgV49rDtqIvbWlWJCvzDhAwewEp4jy+9Aw9NGu6awhng19jNdBsvxm\n",
       "XPGwuGUdFYfjhr+qFD/xfRBVtvkxCl3k3L5sQhmMeCukMkT5/3ulmNHQACAiqtdqp/d5S0F+HAKo\n",
       "jgOIgn3gpSyeLVjnwYqPS/0sU+Zq3gSgu0IKZNsniP2RD55H3BOOerDozpo9S3TtghAq1UxcAoWO\n",
       "m4XYrQKu86Jd/KhFGCv8ZjBjoMjTOvn1iYwrqM5sRGy6JqFDbyeOeDBfIEpJ7p6uE6MOPh7aDLyW\n",
       "SsIllMIEM8rMtllclG/uPwnchjlm8no3n6RP8WYzGBcbhu/L53NWPAw55kWZteMntnOWp9l2T89z\n",
       "TQyNj/ZR6qyUGpRXykMD3QqRZv9NMTG3wVmKpgvERCI0njnatkUDSV/suQ0jvSUQGRu30xmccR9O\n",
       "UUFS1UyTyFzoKsSXoGjU5XPe1zXJluZvy8A8k0iJLHQLdwxRJRc7C5cfmm4G8M7zSfYoR5J1Q3np\n",
       "VJyLztbdgce6aqaNLmi/6sWllFd2v0GLZHHQcZvUZxg76XgxSJw8eXZm4s2MDSY2vlFjyVNOakGy\n",
       "ypkZs9jkA7HB8OMjySv4qx7FPFTfW6ffbLx+BxUGg0qa8Y9Gi/w8rdp0jZ1Hsulz/KOMSBh3VI0D\n",
       "3PAv1PTdyQq+TgDhmDQTn4Lb7+/jWbIkn+SEYO6B0nAailk1kXBW/Myi7A/I8AtXlqzcQgnaLIFh\n",
       "0b8YGb7VKYmkeP2qwRRlqmxxfEsCXzFHtGQvtEAOQqqS4ZRvGMC3h9xZzBsZxoLHJOOJWnqb+JC5\n",
       "8JRbmlL3CjyKr552MnuH+j2vgQ3AhbCtnV9oJNkOxe5fSSQXpzcZUnEHcn8A8YzdWmTX8gJpfz5P\n",
       "vd+V0lNQbiyVLf0taub7/6/IMB/+vIdlowFhq/K25FuZjwFNWhrGX+tUx5jquUfEfvgud5Ig+FbC\n",
       "k2oBqbDjDi2jkX1eXumRahGb4/NfC/0z52J7P23Z+0JjBLgnFBBAijnVr3paF7r6jIY6ofpvEFeg\n",
       "Q8v8RX/Stv7WovwY3VlX4gU2qk4Blo4o4LdCMf+xm1lYc0GAllWueZe+aJKD4iCqGTGYshr/Ony2\n",
       "cMbscOHg3PRmkK21NHxA4auweT31Hk4OOsnNLM0ORv9t3/LgKOnXD7VpjnD32yXMJkW6wwQq1Gew\n",
       "doegO/MVNvgdjxBqnKdZHjP12aSR9FF5vibTC7cVU+45ErNIb8jGkakuZhBGGCiNl5ov9LjQQz7p\n",
       "Am3lzI3mVN9um/B5r0UyJ5WLwQXhBxAD83cHxgOPniJB/KJgYwAAAp1Bn0dFNEwr/wIfJk0DFrWV\n",
       "aYwEsN5j3jkaNeYs+oaUVq0WAIwCvAYKU9+mZQg9U6mmmYjjDmO1EP/Gnr12pe+TOtvOcJxiFNJ5\n",
       "cQmk73yV5PSKG/BBLw6mwhNq7+XgsZjt1qpcPwlXSOWyrG/ut3w8P/xwh9sKA83UhVIDGoe4HG5Q\n",
       "tVALqTdZ+fL5DnwKVdA78bYA26DUrOOX8bR8q1ROC7Ac/w+qMFPVLjhgPS+bHS1GzDlyKgXfd1AT\n",
       "sDr0gm+TXo4Z36zHycQ0mdce6rx05sYp3JExQ6hi6oHSahOkB5appVeA3uwrnydBjldBkKWTeWOs\n",
       "5//yhmZ28gx48NjZcewYgDcMDyAM1DPo/OzTop9EaHMU+4Qgphqn8DeZJlg0A39tD5ZV+9iHIfo3\n",
       "NL1ExZDrRVkS9nxdBcmBlqRL60R6ZDkJSlg6b3Sy3dPYuaNDAkE2NaXdmNPOfyHeswTnru3hE/Qb\n",
       "4to7mAePvE0C/Kz+c9mC4zloZDVBpPspHIWXiFVuYj+h/L9Xv5NBPI1izuRQMEAfT/Oa1fAAg7AG\n",
       "uUPZQuUOmXrKCBLwtNYdES1cp1EStXmpqmnvhOzaP7UMcQ+TsJsUArrBK9FrXsCWV16J2RIWN9Tf\n",
       "JZcA6YAaZHzbDO+QBF/5o62zPDE2e746a6rP9GCE/7/EgWgUr3zCmHFoCNkTKZTrli7eo6ExsniJ\n",
       "GS3FujHV0ZxHMBXznZ+68qWku6v40GTm4VC4aDkSg3nuug2B3QNjBGi6YMBet2vzrp8qYIVAtFev\n",
       "S1FsKS4c5uHtw5zZHe6OWGFvkWoZZ+IRUQ1LFjcjT81ARMuy5FkpuieVGL0mKbyAp8MGH5TyVpe3\n",
       "ts0l2ocClXPaYXc3B77cfSYjVRBBx0xrDbEAAAHDAZ9oakK/ALFXtnP3UHSmyWoywHYzhhGghHso\n",
       "4aAVW5wcCtxuuYUMlTXVUV4T+Tx7FJr9PwQb+6SC9A8bdiPhzO9+hrXC0KW1LqI6UuEaer2/5ABC\n",
       "mL0gnQpbBNdpwpWkfQDMIl/173L3Vnz6Mj5U1Vy4s7Vive1vZ/b49d34dI9zPnzh5gWI+wHzkOB+\n",
       "BTQ8PqIlIXGF7i5SniX7EwU2zVPKZ0c8ltf687B7bgkK/FB35hg9P5Fa9rR4LA8MadDuKh5Rz6Oa\n",
       "SOSiomO4TsNaOiXviFhgqAggWnJAL/pzdMbolBdcM1mo3yHQxe+AWq03F6/3ACilm/zMLW/0Zak9\n",
       "dcFBBMyljDccKBgAniHBMVjnbhY52TLucNeTjBrMfUbSoJZpZQLJSdjEsCoO9BNWmuGoHkZPZwy+\n",
       "g0Rh436gF2+Rq1gNbArN39E/rQl+TBoIee+afO+58zofrZbTz0knCuUUlJiIsG0ieNbMylfPX4QC\n",
       "YlHi70FYOj28mm3qReqnB0AL0g2d0GlqYROTqp/wKPmG8wDa/wOk6nZNck3+YkAHCCtNxomAFUfN\n",
       "KvvoazLCyOEH3pBma23nh5QBMNC/xY8FRAAABF5Bm2pJqEFomUwIb//+p4QA3Np6gPwIMABc0yv/\n",
       "BI3iNzHjlZi2g0ME+8JGS0b+kCRUVyccJ895FSIPZXmARE1Bs/kcmgs8+Cie3SW+pDdcGKgTDGO6\n",
       "cIotNgNVOQtFaI0pfcAWRxc54fts6+nSGJ4MZUJYqljgPZUNs9XVr/Vj/yFZ2TO5kT+B7c2FDSk+\n",
       "+ZNHMssad9ztmivyt6jeaefgYgdc8A4PYfcSbVbC4vpEKoGzttgj+mCL9hzXv2Vso94mRPnt95L8\n",
       "x1NFS37bQHhEoUFjWI4FXi6RN1pnqwCyVlpDDNWcSkwFoXflGQ6EzsieNzJwv3bieN7dlqR1FZN+\n",
       "fcs9VMWcvjP5etbmhplVmDoUGuDaA2KrhpBoHzTcrJiyqljofWWHkhb7n9LMbil9Bk5F5cAu1FCP\n",
       "mxkk0rtHyD3DNJEJ1I1F+e9dxPC9UAnTYgjyWWZ7DNardkSGM0TRu/cIB9eurWEUpHL7Nz8mMG45\n",
       "ef5a0eR+JHysZ8kU2vzaKHOQncr9KxZoZqyGyRlQwoTUlTGRLkJsAsrQ0I8VLQtj9PZR7WAwGcH0\n",
       "9HfFyEs5DxqiVBAxay5uMyvoEdFPBd57q7dVlBTiP20jANayM1dSxlQ6eI6OKnthq7fcWoX1HAtU\n",
       "Mwb0KDhVadkGJkWVypNI5aBeOJodOh4VXBfiOaJCkzUAstDPOKrijnALPl4faIkyPBzmXlom2W69\n",
       "y+K6i3ilkXm5PzI+tKm3Mkkth4ig23JqvCayQEFRVgkBnJ+DlwTZ7Syh0MDHRfv8le0P8RJSrfuk\n",
       "J8rMCzGuhOv5d0aARiRksmMAOiA/9LuSOcnmhsN/K0tjAUiGYG02w2pcWRSgahd30M5lZX4Q8ASA\n",
       "8Q0/1DvFH/yRDIap7ITGOaHJbo4OVKiSLQrtm69YdNTXPknCnq05eu6vrVyv6TMQ9Bsi5KCAVWic\n",
       "YnVlNxUok/0EFBuk3rkwujZzIXhOyaBUAPrQBYiG2ZCkHTNEd9U6UiQ9Luc5NRfzLO3rdeWPXUeG\n",
       "4ckHAMctHSJHaWmB79HUa1Y4+wluUsZyo4EDiAk5aGGHBED5sfRZWgCu+wPOo/y5O1frgQiX5w0y\n",
       "xx8p2oVuQl9l/Nl7jKoMC+iqUXN6cP71MIlrJB8TgZiEn5IvVvwNmwI43VEAKmjyl3KeEwgF5P64\n",
       "cYIIHaCITMay9mN67zOgstLOEUnw56Dn28pYd6AOD5LEdBnWO5fdLIlZKZbIP5AtyljAZJLtTCQn\n",
       "mAx9n+M29bFlebA56n1PcUMRvTRabeu7Q/s8wxyKRr+6lge1DTkNjLJ5qwhpui976YTB28mIeEhr\n",
       "Tw/1IeUC+En1pqrSjwY5NQnvoTyl6g5o6ulpYUM4618s7M3m7J8aXlEdeTOsbFRM4Zw+Qr3HOHcX\n",
       "bpOsyZmE/N0oQ2K9/TnusWHJE3dVZqRUfTkcPB9nGT7Q+T6DWWmticsZBpnfCCL8sPVp7+sFt7kP\n",
       "SHGxwCJcwQAABYpBm4xJ4QpSZTBREsM//p4QA1r4poBRkuKm1G9z9WFyhU69RVvtpL+MFHTaWhNE\n",
       "yvYyz+YxADhjnFi2Cw1ePXPmvoRYVWcHk/++oneUD6NERi8e7PwQUkNsd8zUxkW2QywuU5l7LNKW\n",
       "EB4daHejfrcAG7MPjHwR6qvjXn46pDRcQA9HuiCreStRLsXLcnVfcKyXWNLXJ52FrBADbVKF9rcd\n",
       "4TQ4o2ZzMIhI+yKtb6JgqdIxWbZRN/GP2jfsvtHQMJAToMzy/kPFgjOoLZf2Gj2wWFV/QE6VDTIR\n",
       "A9nHtOFr/JmtVVJHPd/c9Q31s862uLRIMPPjzFQ4/EITAp6yf8sNFi1OMwR2Ca0YKlZ8OJ07av5m\n",
       "1PnJY+Xc217bBheQG3lHq8j1ke0LGlb7Zx7lPohGNmWon1+/5cHABlr0i09c+ygrkUKL6yJ0z7z1\n",
       "Hh7hsy3VtHeyjU3VW2loZuvsyRdC9xG+dlX+0GNd1wqM5RWF5mPF8XGoFOxWqEI7pCHy34i72UA/\n",
       "kO98VZoYfp2lKEffjqn7rTKDl0Sutw2bQ7MrsPr//FLRM7+js7i55Dj7PJyYnR12JQCjn/yNHG3u\n",
       "gdx8rz7FSWQzLRDl+9rPpJgPUYcu/2fbC2h3nx6YZfpSHEFNK3m4DDZbT+uwIXsnlqA7xVClxLhU\n",
       "5RBuzW3o9Uri1rZtS1/q69dUeg4466LVL0H700XRR7wAo1MSHWdZpc2AessgutwDAR8/hZqqJi3z\n",
       "ADQkpv+FyatYLj7HPXIQaBnSEQaWDQRz4+GgBj3xSLlP/zdbXA02/EFnMBv8ZfYXH920mF6CrtvH\n",
       "dILjkVywBZIadzU0YD3quZD/tqIwLLPbExD677LcQei+E7WVyROKRGEatufTZaRLQQ5zFVZQf89G\n",
       "fBPeYLEhXn5nboKZh4WY1jZ3zYAkOxsIDeHGOxhV2aN6y9EoJuKJPcdq8SXcC1Y0kVHliqDJZ73T\n",
       "VRLrT6O99luV/8b4Jn8ruihnzPVLZC4Da8sLsZEbzLnEvJI3RLYIxqc8+keWu8KlPpjrncddZS4k\n",
       "WqsYcAXSaW50ZIRYDy+PdQn7FNUQjv752YFYMicFf1vpAfJBw4QJK0QnalxWY00E1pkuXlUQJkHa\n",
       "i7+pfM//qqPsmuGYyS/n0bQ5ejg8Zg8TjKc7HpE4QiYrJ3sVCE0bNDzPH/mKe5cWimBTVNoqlB1y\n",
       "FBAtuWfGYI6zob9xqxTSfMfY/j14/apatrWrQpa1A7AlmSYQjEYVolg/vZXwQUZqHGi6yDGP07al\n",
       "WSUkHMxis4mSgm1ACPQboB8hMXWOuDCMcmT7SqfDPG/TAt0wEOqR3PgG8W0cYn4I+QABOCIY0jJB\n",
       "KF+LPsUpJewrJ0OssVGtrnhrfMxpbR8te63aiLZhbYqISDJtUIHxcLiM+5ofa/WgHe6L82I/2ylu\n",
       "5D0dYjS+2UyiyEewoQL+DHi0tVGZc73dfnrfa2Ka/PVoiRRHZl4bBJRqq0xSWv9GE3IJIBiHEgc+\n",
       "1irSHgsTE/rbedGnZE3ptYyyNVSnmERcTSrG6ebS1vcMhwr2vOP+00Bxam1ZiLbvoiwUkNNLbxTY\n",
       "cCdGdbAnMPOUHBSH+zz4MYmPV4/II216oSyNQXZnYLCBJuI9hhtFxGVOVBI+s21woUbp04DjWJzZ\n",
       "OWkdvW1kK7H001LOpS8W5SNWibeclK7kL8C4oRzp3l1UAjtVWxa6j0NnSA4vgnSP4uPBE0J/XL8r\n",
       "06yrc4WNlJ6LCHvmweoexFoTK0O4vDYSVRR+SaTYy7SONQ5YqzPJDo1IxvcgsTn1NzLENFWSF9Zi\n",
       "pjiE2/rzofpdA1ubeDB4nFmQ6ugFCScdP6L2w/r3gVQ2oMOBk0iGN2hox3knIbhlQAMUZ08gsLzR\n",
       "ZAC+sAAAAbgBn6tqQr8CHojyHEFXeUcs06HAAHE4tg6y7rx/xEUfnP2S+1gBzuW3CjZvKgRLNIdw\n",
       "f+D8Y+RSy5734N/fmLL8jGFy2S4OaJhMglhYm6kbmM7vDG1Q4Bmd9dgYNPjw8zmmFDrgp3vNeXCC\n",
       "yhQkkvW4sHeTyO+RCpaiPnj0NB/SKX3FXk26SRyfiALbr3qTxozmpX2YGM+iA7HCr1iVsUX5pjwg\n",
       "tlPnP6Ey8H1OT45EEYYfCZgd8Hzs9gb0KsLqYFXDxkqIUpTWiLoDF7GEEHOt6+FAo9L2q1MQHPvy\n",
       "npxzVyhzR8jnOhXYrwIXcRkyARI1/6Z3VAP8JHUsIuj3r+XIBZPPYBMgKenx0drRNZwP39//wwA7\n",
       "TfUjgbGZUyNzB1gdaKbtuYt8ThQZv7U9B5NAlaKurU2rqDEaxYucRGwdrBxKzVGIq8rEcS/6d5G9\n",
       "Y0LBM/h8jdg7zZdYlWDJbKXLWWlD5SeRX1If6Ufd+X3C8k3ZqvZls4QdWw6vZlRhDEHsqj9/56rN\n",
       "7zTkklUJN4+RaPlY0vercWk8jGzO5Kh1Av9BIG1lnLNlG80ClzI65UCpbXyoQFg1IAAABGtBm61J\n",
       "4Q6JlMCG//6nhACayT6OWxqZhACcri9tOHAS5mQ+jPxbZA8tTSnGwK1/qfbBr++5qcvdNYeQ2zV6\n",
       "pTr6j+U6ud4gNEazIyKeOoPvJvpC+cXjbA4ndsTmzNanALdwFGPYYme2ufZyNC97csCW0jBrXhvA\n",
       "kRDzSXjubtGSqE6wzpR/FaoY7oSqKfj6tPW8k1yQJKlUtSPP3cUhtoeIshS2Qf39wvxUjEYEHFv2\n",
       "+fcYdCWK7TpsHZJPimr3E1M58KX9iDNU5rCbTksDjYW+AcrblTHvh6KPNCvWVMYvG5QAUHKBDp8j\n",
       "Ce6oiq+1QLv7+cq70cqdyb+VtzeDgfhyHlHP+VVC6+z6qkxXxPFEhG6zWfTJPlT5KjpeJnd4ArnE\n",
       "I7Iklx/GchV+Jnr2xsWbYK61hcLhXFdvxiNaVMGs+fDAuKx5fEORH093l38d9h3jox3Eg1GdZHw1\n",
       "RKaucW9C5TLSylKQ9YgLWQU5EPwc2X+C4n3HMU3sssgMlNE0Rre+HBapWp3fehHJCwukC9dEPiIg\n",
       "XQonfRbu+IrLBzVvyD/NVVSZE38hpCci6kkrjCE8lFamRkgGljF+X/U0QXxr3vZuhjYG8pFWYtcT\n",
       "68uLoZtgzB44NT1Z/6/6A+gIAqNsA+7QJ6QERrogQaHEebiZjlQ0FeVWVziAPvJ+/pAti3VQxjtd\n",
       "q/ogOQN4jKeKFbHsvXpNb8K0rWWp2gmTqT2A56fRmvkEMDPGWYSfCrWbUWUYGYCiaCgrTpfIW4L0\n",
       "glIEfzxTWzCKxWSx8m58U5Kt9y1MtDwGo86wflrl+G6qAP8Qi7kwXf1lrD9vEf0t8pQEzgx0TAkh\n",
       "kySR7kXvrVuHwhukTjIFOaVJH+LF1B+UnvX1RPfziykmknnNfTYBJspLfY8o8SGLcg1Jj1sUM/cr\n",
       "VaIM4aON5Zb3Zpr4ncN/6hg7eZ4KD5MSnbchtHDbe4EsX/5TVlZ3baVudZlVj2uJamT2+X8ottRd\n",
       "ne9GKdQwGiO/72TKjwfdsUmChvsx1osV5YFL/SZrOnGh3jjrc8bhviXtt0KPvs2jvr76hmHGvFBv\n",
       "T1/Ws840GAY2U/HZmIjx9oo/T3sBmNci+Mkj+HKDU0V7KJjKSLNXOnuco3WGVXGOntyJyyqToDhJ\n",
       "qQAek/EGV40uXUpEp+8n+XPa6y1lyTLd9PTWqFPRCNNWGdO6IY3/YVL4T/IFxzS6QK6gUC6sdMES\n",
       "NVHd4M99xLFPWOndKI0F0jbrinzEONleJKkDSrF0s46nkrG+y2Qr+V1+ul5ipLUGGk90x0AiHb7O\n",
       "hvnk98es7VYjyosK3ZlUalPUiLIPuFuwE0fnn6qNAVLHrB1BOZn7xydo6PDslETF6Ht076P7otqZ\n",
       "b8vYLkIYAVFRxFFRmoq7pcxScL8LEHwMYxEu9BVpl8LfLD7hyknxiBSOsqh0pDiqoQxpaveHOIi/\n",
       "HC5ujlYCxbQuqTEaqN3eRVb8+5Y1FSRjyv18MvYHMS8Ny4lZx0GHqe3GNo8AAATBQZvOSeEPJlMC\n",
       "G//+p4QA2+BaIKzCzv18AwitADj0oY9t28so8U3Zy3LRfzQgaj2I95T6iS44w76yZVXl9BQlLzIM\n",
       "gMFIih3kR80cb9CIxNLP/A/AvzoXKHy3fOF/m9ilvEPnnDx/EXeOetlUSJGb5JZNpBnjv1UmJNKL\n",
       "6K5yPmpcg/i4lPHQUmUPhWmMZH9moXK0czOmeBxnHHyiP2MxHGpduXVokaIZa4lIgdssXnVu+fJg\n",
       "zPpvrlbWUWff1gmo5AUyad4vDmHMheK0Wiwt7vDRy6N2OoGWxY+YZtWMb3RAvSTGaupA6FDqHBwt\n",
       "OK4cSf1cXAN5dkKVsCb3HpdsnMB4G7IyyP7KptoQpggLi4wKVlOkUiuU9g92a8vB8HrB2isi8Vtx\n",
       "UfHUjj+5Qhk1+VPl0CzwDbQyY+Klqvbe74fjvg3XRW9sc5tq1FdDAPFLkHw6wzvpBFwYiGeZvxkj\n",
       "8qhBOvRoDfppORg8qHFUumNHYx6G+Tp3ZePTB8V9/3UdliZcigga+k+jZONqebqBBXkWsrI07e4t\n",
       "HPZXHJbkgd5y5JeJGOOBG8GUUg+icVnGZsv9WkQi+gPi+ffW3H7pBakGCEeblMnPRjhMsBTeVBGN\n",
       "0xtXNu+w6nPRjLhhwcuczkGOYfrn1W4TCuZvMSJuaPkVhS6H1VzX982hbqiyIZferofVYYIPaMc1\n",
       "xlU/NDp53x6mpPczawFP9NWNkemw8LPQhQwDn+fo6fhKtkGBPqxU7C1awK3wRYUq2RCjk3pCXQOY\n",
       "+w4h3acAuvwAij8O0bbmyx3HcgSmSLFfDiSY18/Iysud2kRYQIoN2JrbbiLzu4c/Sq+CrUqRmBz8\n",
       "Z9jHQI7z6qdenpF3sQ11xPnSfd6yX0/oHc/yzLf0JKFzATtUBZ7rxa/AuOuA1Ol9dfEP2lX5jcvY\n",
       "PhGF4XhncMYCKzPtmbN3n+rHWSdPt721iHLotPfXpRlonx4invmLdf3xYeMsrmRzbDmXJW19H+ke\n",
       "E/CDlkjeENvomHRnoikEcBkpQ756J0caw/EWHe7IC13hoKnYwfVZz7KsMUGKntky1BA/2kVYs8CJ\n",
       "Z9fsRVlyNWw/0QEi3ZW84j+QOo1TSl4ADFWPlmhEsvcDZIY5uM3B9UhljPjTa87qAxhINrQdDKhO\n",
       "jAw+YGxYIOCVUty762ujbLWwUtyhGUOM5tmgQ3Y8kPCQo5WRBzteM+/Ly70RcQNBCCTTdZz3xryk\n",
       "eRPqB12JEq42JmWelzR1Kw3qvql0iQBUs5pPfY/N/3bklzMbVwGsFihR0xDU+DlFUC+sXyTPtjTB\n",
       "Bwh/Eyqq5QPDDR2bY6CzlWjrbuuEu9vBMXL56rN4jtupbGajCdSBWRx160z/8cB+1dcux7idSzyd\n",
       "iqPkTLtk7HQlo4wowQERi0hxcF2jEXA8SyLAhg3WfUvxal/fLPqkRCzyaYcAnc7OnTaY1155uRwq\n",
       "fZCXQ6HeS1x51s8rlh+npbQh8/E8Ym9A9cWYg2yQzrnoCVlLF032jmzjttyBzVEj6/hCL3kIJ8R4\n",
       "52bmk4Cr3g5BJJZ/rTYmA/4hqSrZpDI9O4lVMTGxD/gaMyDw6uXkv2Dv1dgJiYiGqCZFAYVQ725/\n",
       "NzhM4VhGBsC+a8sAAAVgQZvwSeEPJlMFETw3//6nhADbm/2csPnyIUrZ+ZVl+FGlXAD7CYRRY143\n",
       "6YuMI7PWgjeIiRZsd3FUytBAQmUCC1Otx5LljkcFG3lOeWMsPOSdRyX2RpRboE8ZBWUQ5tRBlIRh\n",
       "RXFLXyAk+wBB96veYPhR6+f5XOnW0KKAUo0zSpQZ72ZiBmyBb43QdLciJwfLnRbB2ZRMGC6HsgiA\n",
       "Nd/I7c4uVYzwxXuITrhsMpatfoCrsbqCIYKAsQGCzlcRDigFVjFeAAinUq9/bVMTxD4r152bqXiK\n",
       "T9WbCPLmQjUG2twO3EpdrX5+WO/IUw5IrbeV1SwxvlPLd71JswJr0oXSo6lUmzlBuY8fF+YX5WK6\n",
       "pZ+Gd8DH88P4bXR/XB+g73CqjUmAlFPGybnjpvQGe3v/Xe1aGFzNFqQEyl+c3nK4iRbq/fr/Br6P\n",
       "jiJPa+ibm4GKiQOtEkZvTWWjFFiV/rKPXYuHCZwRp3fPtkWzztNU31DMG+Betzp0WKEuTHNGNgOF\n",
       "tSWtEmlUm9muTd++asUTld5JG2+2cfmkljOJXN9WA94doZe3SxD4H3Pfq8YctLpJ7VJ22Nf7OsbF\n",
       "u5Biauys/Xm69ixP40aSAZDJOkrlwadu0quNXDUeapbpkXwI7CrRkW10ELWJi6thOfaD8TJXw9Nw\n",
       "Xwz7T3K9rsS7cmZBeuStenyw2gH2qzZ7CEIy7i6vPe32hOwAacg3IZ1Sqsp3+Tbvf4Mf3F9TgEqx\n",
       "IFLAsj4z+LJL6Kq8Nqwdkn+mNl9krOb8V1GJwmm09L8uMutm9rPxUFAVj7uMQEZb7QCo3GsdbndU\n",
       "Zr07e+6uH4JQSUAgqYKXP/Vi/ZDQyjFLbbCufRKUQjeKyfn92XVHQxy5toaskUsbxP4Nblt1e0o6\n",
       "+HwRZAmd14mURz5B9sdbV1XerctgQhbYxUgZR9Bw0sbZPemHXwyKy2zWyS4okv2nopRDn7BM+EV5\n",
       "eXwEF5ONAH/A8RNn+iAah7a4ADLBJnrlGRT4kR9L5ZfF4DGPIMomed3MZ8evQGvjnTIv1Wxsl158\n",
       "ekjxzktAlrgJK39lat27hQbLlqiFlKuV55IOJOXWZDYtJNP+qIzcTVuDJ3hX8SUB8/lj5q7uf84l\n",
       "Luo+/zJpy9Odj0A5EcZRYpqAOvtkdaI9nSPl3yY8G2Ycaujsg5dCGIoLoy7lLQ1FRqHD7Yi2g7pz\n",
       "A/VvivMLfHCB45hzDMB3hUqP/8+N/oM0oww2Ha9MDdUBaMyUv3i0iuPxYLPfbgw+NxjUHuRUCiU9\n",
       "eXr3FqYQUFCc327aM4tK7DvVYv/0YEbkyUEILPSdPeqOiCtkp6z6cnKgvGSvnnd/QGppqqoWO6vF\n",
       "YuX+UHrP1dn6q8mzuvOXZ0DqCH9hayGkokdTSknajiZSNCC8bSEKqvGaeXqjmJrEydWjp1sEXBBt\n",
       "ZZ1Xe0FQ113XQRWcYcMJfm9aCFgEEwSUQWP1fH7HH2ky8h+KlreKPaGdJkIE+421+7Se/y4f4OVl\n",
       "7ECIazofH/RhCWWn44+OwYsNM700FFds0lwAWFRs/GZ7Cs9Vxix4a8MVaQZTT5Z6DqHES13uK4xI\n",
       "wTjz+ROYtm05IqJx1yKMWLXPRty+Uz4UofQ66nHpX6XWZ+MCEqP4+QhzyFVwJ9AqBmEOHhNo8h6R\n",
       "ct08oCEhgVSy4AElgzr56KKNs4BsTvnhSpYGfjofzi6nDrtUaE5kdwrV8d5mi2fv5smrIPeY3y4e\n",
       "+xo9hYVJC69+Qb0ibqdcLNzM529Z7nkBV0eroCVamzd7JPe9YrQWyoBghIZSqI5UqE9td623p3AL\n",
       "kCdP3EdsQ9JHiN6Gfeh4vAvn8nfww+EAAAFnAZ4PakK/Ah6I8hxAuVJa86o3z2YHRgACzyhAYLBf\n",
       "Cl4D/ll6d53SdOYjwOU2np9khu4KcgGHTWL22zpLf0r0n6MIaUJz0wit2pMZEOD4yOo3u27lFO/u\n",
       "nfZwHe6ukg3c3BMtYo9HtfHqkDvnWU0RRY89xX+QOdCyEHNOQGIJ+mKNwGG+ZJ9axKCuXhde7py6\n",
       "/GmrWwCL1+bUooVCF6enIyYuWodEBO0tYrUSzFVKmne7Oz3qv5RO6heefojs/Y5R7x2lh70mdfrT\n",
       "6xq0ftN8I+HgEIpkV6bHbioLHG50iMR8TIfNBq/6Q7GkU2wUm62lIF1hrP43SE3ozDnjl99V8MOL\n",
       "feqpTsw9aezz0UESZKY2mV4k3d4OBHCIiC5BJoygM5zTqe4voAjVGbs7lPVmmLbkDLlcNlgWCFRG\n",
       "EeLj6E/UwEsswLInwFNybzEE26Fj9ehZEr5j4u5MrghrLm33gcWYIg1AD8gAAABCQZoTSeEPJlMC\n",
       "G//+p4QAXQFDRp1HwAqAM3+Yj84PPGYFHPMuc9pKqRhqYA7MEEZEBf88jjzsGHgyKB0lkdRsbv8w\n",
       "AAABmEGeMUURPCv/Ah6I8hxBaAazriAKzxa4EEr+XdMz6273/0/CohmiwdT65pLEHyezfzHbPjDH\n",
       "dhh9qOlp9jGoyRpbQjUtoYyAyJGY7j0qtAOZmnaJmPyAGlblP6DXasQFEVjg1541aR+stPvtQmaI\n",
       "2Z2LdIC+nu44DgvQHl+18QSTq51dhfMRQPM8flzUsZT31GowjvPkKm4D8qAecm9lOaRUx9efUZKg\n",
       "+ONFAsvQYRQUosh+6gOf4F/xlzdh/l1xo3CPbQBiY6B2KHDqUwt2P4QrCmctPo/OwE4AG9OcnQ8z\n",
       "ArzYi79VXuqHPFs0ftrrFF65v5R3dRZVrRkSr5NtuBAUsX8PoM+dExu8HSn70Bcf4g0xxX3gWXbJ\n",
       "Zlhm9UdrSPoOO+t9icjhFAG1ZsB6ekx7/KwLrY+vP/9i1pMZ2iNgD0nSvOByCvyPJ0NzJkJKGhuC\n",
       "nO+jNhnLHMm/un6pdDFMignMhY07fosvWVN7Pj5jITLFeJoehgzSbOhX1hSu5F74oXwq8+o4JnUk\n",
       "cIoBqnrGc2Ff4+g3OwAAAEYBnlJqQr8AsVgvMNdFTfKUwdyanQHtYMplWGk5v1+R7qlrTDgxwN9L\n",
       "6Sa5p2QfPyAUekJNqe4XHa2u3p0MHljJVESG4NSAAAAFGUGaV0moQWiZTAhv//6nhADbmuzp7gEw\n",
       "BlrLYvp3Eslvfn4duwnxAyG1npv0ORoADXdTmgAB2QuNQtOKHczV8rGbz6aJZDx1VdxhfOXu0OV8\n",
       "Jc7c2nQajuaxGC+XIg5/XdQ4B9VPMrwSc5P1+AURicK6qmuBo7yS9T2jN6FEyxufjGzoLySvCMHX\n",
       "snC6Vc0y6F/lC5e+M72VR1Vn6GTqBOearwB/uuJeSAD64K9yaj0actbtstoGLjRVUpgpxRHqeaX7\n",
       "zQLhQwoSnb8sQmYjhcsyZrn/Ucxp7ovnmN8sv7qZZn8e+QMl6yWm75DNw1zIU8LMNkIGq0afAHCF\n",
       "8vyZ2itNe7qJvwL/QmWd1j9WUng31k3d+eZ/ORlcNVzdJpZkP1AD/eZR6qaoetMUqhj/wCNYQ0pc\n",
       "ZgIiqIjA704BY9gfX7Puwzg+fyP1+hc7N4R6Rk2zsnBlFdTX4bW2PtTs1FPuZ3h1dRYk3OyTL8GF\n",
       "R1Nq2GzqH86nsIpGmI1wP1Qn61D0RDlyN9UVnzqTOpMxHJEDrAi7Z5cUx5QBq9WsE/0Pw/N40mUP\n",
       "ThZgOW2UIqdW1Z/D0A2vZg2ZQaJexNNTqvHm/3dv3H43+IM2pIbb2p155OW8kArdUsFiSw7ES0q4\n",
       "XpHl+8zqKNpiGeO2Thk7kBaprDqiQQQiNzLmwxw0fhlOM5hQFnwiiZc1pCJ22BhK1n+1PsnYmuQW\n",
       "qli+K92ssv4Bpm+83RWXHrsKhYthk8FzeTAcgcfRCHv8k7xzuDNwA50ROwyAA0jSZVM0aKI1Rh3t\n",
       "sGVmZKd5eJ4jEX05sNccmpyy5xU32zMBpPSBVsT2mSFKnsF8EloFbpVaI+wezT4/12v1k8E4AHHN\n",
       "lKqZ6+/hx1K3sYfOBWaVBkzOHfW2edNpeAcdIj8RHPLIaTkgauPpj3eSRvrILH63Yf1HJ8Pr0vP9\n",
       "rTrOVdnS/aXSxIBXXHoGwShEng0B8+RHNe5VEmEtKEV48YGyjQHsGZ7ACGxueTtBHhovPCDmcKyT\n",
       "xEo9GXQNXT7HBRTUF6vjP9uLq4cqV1BVGNkxtIkfCcEAvKoQtD8qmzvSmLV6oCFfWZ+Tn289c6Xe\n",
       "oey3504mZh14Bx37dZPNQsENpRlbhgmN7hBn6kDGboUEpkdaBUH3M+CTLLZa85ocKAeAlMHcrD/Z\n",
       "XSxnvK7Or6cumjInlUofuUr5C/yZeiB7Ukg60BeOrJv2P7ywmcVM32lXcO8q4sBR4SPyigbngBFa\n",
       "L1+TmxhEczwAj0AphGaJ43fYefyhuUL8J4H/AjiJU3VXkxDyvjTODtMVDFYYsJEf8JamduaSdWgW\n",
       "cNiVp7Ho5uvFR2xbJw5tgBmoj3t0UDFuEQHADW/4Mn7mtGeRSrKdShamqKCrJZKHDZIpbYDwwW7D\n",
       "464oZ0WK0aIgp7+QRs/vYjxbVYMAE7yICQhm0xfsK9ogLSGaolT3pyemzaIXBcAUVYpstpZXyU2p\n",
       "XYJBvLN3P3anpPXZERWURKT1CBg3dtqEQaZICDjnZK5s11lutOy2TK5qLc0H39QOtId+nrBoXSzt\n",
       "R/bNMcF2NBJ6FMD5Z1dBv5B4WGCd8daLVeCkI0gAEnP39QAl97AAZcPmBFtDyqDsH1+QfGtywAsv\n",
       "+7Gl3gfwMTUmodyRyMk9f4CmJCtKr78JZNeTmvXtioNAVY1T+H360Li1UMY/8e5s9D17SPbXkWXp\n",
       "2aefX6qAP2zy0m1+kVmgNqbiL+Ia28Cd9q0P0AAAAoFBnnVFESwv/wGV506ydFpbbE3hBlDPwBaI\n",
       "wfSUn5Lh+FAALrkhIBmDvjuclA5at3fj3VXQw2UhCjA6N1avtccBACVacbXUiQ8MXeH1RXr00xjJ\n",
       "L1mJuX77CMAQhcEPyxXDwdAH3Z31KR8iRZMDcAkKXGPl1+oZb7d2N4+O2VBNCrXj7zMieX+Gc2BZ\n",
       "eo8G95+/1xpcFJelucSzBJbpjO29Dbzwuzko+BHK6nL9y4AphaIg6Hz30uanQyZ9FaJrmSWNjSrq\n",
       "OtTPFfo7TX++iedTw6LtyEF0HtB5aPPe0xKof3Qi1lnHeBImGi+24g5Wu/1tjV+Gw+oek20G9Z2M\n",
       "xiXVIaXz5hf/1VV//648BmDd7HQI4CSrpu99cfdklMgz/nk2c/EcWlZqhS5U+y1XuigIAGKAaUGl\n",
       "6e20acucga53c+2cavzF5gSFlK5G2XNTtnI0beSKQqkMFFu8+rx0W3IWk2OiRP/n+VvEvJE6TLfS\n",
       "uzaIDaKH7Vr7WJjRrtWId5LLEIMjL7m8/ZP1xFpj399UFxLEHjL3coTNhFy4xN011S7qLBn+n+Bs\n",
       "79D6a1lbdkyHZYHyg33LM8dxWP1gxeXReYPtNox/aWcg2xj5UjIkduPh8Axnn6gW0XymPIonZl81\n",
       "qJBMrqvY55zT/FpxWilOLBsi5CAa2sdWuvhDu3gVZyO1sQew/eZtDu/YV/uvwoqJxVJsL526xIfm\n",
       "q92scap9EABRY6slWozXj6CnvZu6qgks310gPIHKMpj6gQNiO+Ug+eUv5T+zlpiwW+2Bl5FbY6oZ\n",
       "OIZaryRe5HM3T4GRsbM+aFnY2F9icYapku7fLbOqmxiA1HbEQm33X4yNQI9egQAAAVcBnpR0Qr8A\n",
       "kvj1C7GItZJu1TgZbTWONEfRREOf92v3lankLf/IqxKs8femiTYmSd9buIAWFIELabHYMt0aw6/4\n",
       "ckHv0mcizpN8fx2H/GvRkxVnJfxBY7AZ3tsN0lYljqgd86ymiKK3N1++ultj7E/D8tjQhIv12j0h\n",
       "ptzDDePXEHU0Q+lADDrwFmuOy8N5r60vCbS8gjVwNmlv1zqKynPZu6BZH0ZMtMwEiYN6USMP8gSh\n",
       "t77mOhR+DNdJxhWvmVC6aqqVBlNg8O0WYzMfuSXp2zXcAwljW5YCHkhzeB0FOtZ6hPeyFp+gSFj4\n",
       "tqtY/YhQTd8nE5u47HksQi73xwv6JQ7UnXRgpwjzV10BsizkrU0qqdz7LSx0wcuZZUbGtpjhk2La\n",
       "rmVzFEDXm/OdXE+s8d+n1gPxpJlvYnVmzf1gqfowPcEVMQ0yVlIniAIZb57KyK68wjFQAAABegGe\n",
       "lmpCvwCv8T/9YZq+t0sGCGFd9MgaVwZhG0oa0ZgAef69VVTeoDq0Hfp4si8lOOwb7KvHM9onMgDi\n",
       "AAf3iNuAwhzePR5CvvNuuOrHTyFcM1mXgl53p9prcmImZsmn4zzxCkLCBShfCOLC+7DZZ3WCxltL\n",
       "pERAiJ/Lveh2ILuY6xUVmHLTS2nhArTnlA1c7Pe9JHxe8PebcNZhGFY+h/xPJ9HHIi1LNesVh8Og\n",
       "tCoBf1r1Bgg9QedY2HBC/NfhC5quMcFdbgOAuxkNsyVXYmnHB/Nc0kBXLYGLso7SWMb3Zlu4zvbH\n",
       "x77X/mW0uJpHfIBguW+IOSmsyeh7Wax/dNp80tKihEY9GiO3YZN1Uy5Auj4vBCi7S8mZG42JY64B\n",
       "Gj1BmML4KsoD0B5YsZaOFpf4P9He6ix+HHvhbdwCKstadALy0/9jLtfVkraA+x1FI1G6CnplVY2Q\n",
       "P6jN2ZobEU7Ixezj4TW5f7RQnuRLfzDRgPZ/WkNS2qyOgQAABKhBmplJqEFsmUwUTDP//p4QAfr+\n",
       "xwcBwgVTbv1wAGme1br4mqEiuJL0Rnl/FN1ggwutyCKx56hHMHb9SncM2cEiZdKdTGB2vzs4LDgy\n",
       "qOd7vrPYJOalgcr+5rhmrDxImkYjpRmvlopn14eII4LMRwWIK2XnYYcQvzc4dyfWI4thr4LG/WtX\n",
       "P5/H5U9ajt01Sqdr+utz/M9ttUuA2gLkuXgdMz6rx2YYwQik5tkKIsWOEfwNW7Ogd80/CFRSjGJM\n",
       "xrMPhCit61xShVDIunQ6Tha2uibgBcYnlSkKw2HOUKaUI18XyKpDxHiILGmz6KYrjjm/tsrloiyX\n",
       "CyRaVKrm3rG2PgEZ8HJJrb+RoKG07f1ORXpaXDsRNTj01+T6HQ2ENDqFn5MNxsRecT145QE3+Blb\n",
       "hOnYOVxmazwEWetyAYFxjXEMF7PiJ+/fJIjN+nyJlwCe0vT0IgKjEvAgxA7T39K+YzibelpEXq3R\n",
       "PuTLo6FGQLKqX72xmSfJkny/+uBK8WX/q7EufYSHIAK6q1lzeAXvBvvGuLpIoXxGqsbLojjXaFAm\n",
       "jVVeTeZ0oKJMUqAyhqaZo/s3ro42RYKum7qcVj0+FPa87yIUDCVQiv6xDhTV4xA3IzeKXNLtwj9B\n",
       "gD0E2MYrN2ws94S2lVKJg+mCCHtgQuHL97M/bQvmoZn76edcqd/+jDxRTcd26aFlwDC4M1uvR8i0\n",
       "UWh+3LfkBmA+tPAw9vsBp6JkMqMk5+ymP4Gap+cYw0UZ23+Asw17CLCA7oZ++kZYVWk1TvqtLbbm\n",
       "Lye4TIH35glA34YjsThp1mp/vHHcf9UOUx3dw4SvnFmQLYkxODxW84Oy+vqFADrES8qC4+ibTQs9\n",
       "Wl+2W4kos/HgYVU5QBshVfxgL21ZCn3Zj741RdXtf1oGCAsD+u6YVOE2kfK2wJB2WE2yzaFTJ38X\n",
       "B3tA5UjnbfJkiYYssGodDXPlKfDBW9m6CbyW+8RzKn+BpCOmYUHXv12GolD7niUoT1uh1R4id3+E\n",
       "znR9fQqVg8ufoXwK44S8qiGmdudydbJGBPkYySVVHtebpXSVBfppjusLnv5zpoi9AGLzccJAGAsl\n",
       "CEjjUGNonzMlLypFFRGA0bX4aBlnHyXm+MWctKMVb8rBpwNF5421ypLUGmbW6rksZ8tFZudC4LYg\n",
       "3SySFR43NdnaimW2t0O0QkBa9KoM6R62xfvWymFz6PMjvAKCLTGhE1Ixv+IuPBZ8CpQWahXHYRnq\n",
       "q9qAcif/OlAkT1WUa+lnqvwnu5kmTZ++tKHbfyvrG8RSVw59rIARXstTbkaRz/TmeTmOMt/4cfyI\n",
       "4GpbSyUz8612xCmGu30ULNauv/JPusovpLzotw6QUmFXqcFw4cUxIsZYlf76FeGe7oHvS5Ny6sNU\n",
       "6gN+Bg7F5AqayjE3FNV8V0FASf9CgwW66AQi4CswA97KHZaBOs1S0yJRTx1afLtAuuR5Wlm8FNUe\n",
       "Ieke4zdDxRUltSCPwRrFv8Ar120V4wslwYTuNgHPv+8hLr3jXJj0Gip8yLicNDGp/zDgJ+8tmAtl\n",
       "8MCvVMeJLh78Gdvq0TwV0TIY+7IoZy7JiWQ6K5gk0PPxAAABsAGeuGpCvwIfYc0bBK8KWNvOZeTG\n",
       "ixpcvVNMPmtfm9JhYUQ3wPHcHNnPVhZjV4g7kL40wAGe4EKfhPdURZ/GKsIMpx8XhFClPBaHoCsr\n",
       "9GAGEsFlN7WuBup9VJcFU3tqk5JT/VqG9AoEzsEYF1vqgVT9Pqf46f9r9C0rEi35c4J1LZv5mPWZ\n",
       "VsldN4ruHTCzRwPZbUY2o/Yno5yzQS+UU72K3Lud8igs5O7q+yvWbj0hHsxsETF25zKUoAkQU35I\n",
       "m5eYNHev6tDuRDws9iBL6E7CNte02TqsOtQl96eQrnn2wfa/gmKNqDm7cL0fH7kI7LEwoKfmHJyu\n",
       "H3cgdDuq/FBKZgJiWITJLTT+vBVX1uwJNPLarpdwKzz40HZIM66iCX1luOlEtamKa1ZJKfCRMWdA\n",
       "Jm5gjXkytgq6xURHyXCPo2M0fH6plNx6fFg+jzgrSlN9/qkoyZj/ehujd3j5CxqCdHB6xfV+Mh/9\n",
       "ZA4rUn1mnIRXKRSjV2HFLIoQRsHbATR8l4X+kOuXcLUIZAnVeWbTEn+47l+h4f3fw0mzm0Ch5bsb\n",
       "3itr1136ht5EVdwdsAAAA65BmrpJ4QpSZTAhv/6nhADb4GHe/uzvIqINoAj4KR/NNPBW0riUJ8h6\n",
       "83J7rWRMniwvhjsXgyQlCAE5KDqrxla+7UHS4zZojpcl9PiDf9R4oHzZIuzr59R03bkzOY0hyIRV\n",
       "fMzZri+W5zqLj8pwr7ZS59P99P9x7z58TEPXoLHx0sP4v6QnQDb5aXjFbp3IxXg04fzPW6iEdU4a\n",
       "0uI2s9qFjq+FgltIaa1dGVGTa0Vl+F0Sw1I/709TOCVYCvUq4xLqHYikK0q0/8pWQapUU56ZD0ju\n",
       "UXupxT2KYDnZy/Ying5/x/i0IGO5OPc0i/gBn9r5NOGBrtr0Pf14HfGBNb7Q2CYC2AJLqt9l2n6N\n",
       "rBXXVCUmoLwXANemDhnGXu821/UU2lZcFkSEtL3ZITIRgFGRjK5TMaNavzzei3Uy3shNP/AgDeR0\n",
       "kA+vILBGa1f01qg46VwmJrkKr3++JSmGouMaCVFxRR1AnQwLZOROIeC+B4D8bYpRTMt+OHdHEX64\n",
       "VRlUCq9Cwa9KyyLir6uboAp8tF84Xr8XM5RKsNTCLataPwWpCIXOasbHRq8ruIoIeXnmlvFLbo87\n",
       "1i1nAxsSOIqrIarHF4fuqAUayEcUgpM+QdkSBzA1jafVoozpL2qrjF+G/BwpNklP8IOafMesKP/b\n",
       "1jcTKZbLZK2Xni+iXvtG/hf3b/dm/WrCRYFRjUr+a284HSEGzy8bGXlsWbCMAG+wjMuvhgKJdmoX\n",
       "1Z28U9/IrDGhfxTmIthJnLIybgDIfDZZPYX1tofZAu1gk5T4nYu+W4IWCREYjt/kDjlWyupaFD4i\n",
       "SPn0GBu1vNq2T8HlGjiXxoNZla2GGLRTHTlzlSTRJoMgNJfZ5psL+RoUfLxHN6i0ptwyQwfVQzhW\n",
       "x/tN1owEJpPkUKuyw40qINAAdegmFLuwRzh/hACzCosEZKYi6Lhq6TIXJUb9DuA9Cy4vW+Gux2/R\n",
       "pZUdACCN+qnCjrz6XQz6b3/X2KElwPsgmPntbD2dojxbewVCZY8WYNeMBRkM+JxGLcQFOfpr4OAX\n",
       "7cd4x16bqKMmSh8IHMdxeylEe7mREmDb4em8zmfG51gTN1ojWG+iDBr3AaXtGfPR18QRVy4vFehT\n",
       "I13r3sC1VpQW9RICs9Lugr6fjmXv091WFkl8yb+JoZjularLQKf8He7QofmUY8/XBDsEO3dTQU0m\n",
       "Nd+rpl+DIiUzFvWMJ2ncFYD71B6tRsEtAxIsVCiHx2g+6rIjoMZWwonMNYJt4IEAAAOBQZrbSeEO\n",
       "iZTAhv/+p4QA1rrZ8MhhGdEAVXlACam8fnkhoHSfk3vXRjE8OkeqxfQAMjdsJg6OQTZJjr9hlVII\n",
       "SygB21sjctn3mQOBGgIiQee2CFbz7o5EY2w7m0QcSh8RpAgs8LL/laAkedbPPH6a6ARDFKTBPfHW\n",
       "opPqOdc7NIAFvGtJPSFkvJAsoLdu5bfVN5KQlQrxUYy9Y9MRgNFzDNVCnoJEbqXq49d4e6qU5wYY\n",
       "NQ2EoVoEI4XSz/CpXBgQ4owHvmgKxRM67tgNTWLbmZcqGdZPOWu/sIsKl90pbpugE28o69IXN6nt\n",
       "MPIF1jPcKC3HMVIsz9t+kDAgC5mhA4EYeOYgAaJD9U6zAlEbF573S/zFsG7p8K2l+GEVkAJKUhOS\n",
       "kKs8PEbl5a53s6FkP0ORoBctd0hCOHJ0Yj6o8eU2qMAp9qSvQGLPcAFABue+LUAAYyzMmfvSRrJC\n",
       "VmvdOy8b6KANvpcvqm7dT3rA0pYSj7lVGblUULQe6tZkUS47fDzEab6C6rD0V5Q85r6CdOOWplmt\n",
       "cgWvRtytIuxoqJDDGWscLkwpwXs7YFLQ4YsRGc/cXK65FNQlnXONIye9+Es5DpkZY1EofGMr48V1\n",
       "q2VE26xroK/cBZbIlU0T9PsPvA2Cs1b3bjyX86756NL6Qs1j7PwWI37fbPrKwlq4g1r93JUy2jlY\n",
       "9dNXMNn+URHePgLidc67+pcg/tUGquMA41aW3VK06Tm+UslF+03cgut212nLLXqcIM8t55OivVbs\n",
       "/2S44dKbqRRNfWDB99830HK/FlptQUmHFmOHIR66n4tZpUCUtxSCx6m4GU4BIRdVWhosv6ZAOdnY\n",
       "o0yRx1oqRvdCeNFrfOXCsa5X2B0pm9R5pRgaoEeiKuUrzP08p91t0Jcq3+GlrfjKgSTTTrmEkhsE\n",
       "qB8V8oAhG+noC0aD9nHnEBrQp9N00VBmvn8GCYVtu0tDpjudNg04oNKrJpUK5AsYtUGdiK71AoqX\n",
       "gcEjQMs8NiLgdOCmcTofZS2eSw7I+9XRtKEKDZ8ZhfFvrGMn7IBzSB3xq1A5XUdZnu72T3psP7u8\n",
       "obAXOWOb5ngeerreG3L+tkD5Au4Ne+uS2LCYoqhy0oLoJeY29YOJff4CDbD8lS6GaShS7hAdPHwp\n",
       "SwfVDs/gEl4HVfm30geqU3qp0+EQmUQL0Net9n/wALId9GigAAAFy0Ga/knhDyZTAhv//qeEANvI\n",
       "LyAQMGRz64MMWThDv4f97rVXzeGv9ZI9dXHEHtj3jBOuho82a4GMcvf7U4DTLE1+xiEM4BC2zQZX\n",
       "7ONjKooj6Cli+GNTTkyfGGpVK7GcFiOywARWLY1x7EfKltAurUBa6qDjAircL3mSiUkuZaOz5aiB\n",
       "AcXsYsDkIlSEb28u4we1EIdVPVEeii+dojN4t+MSu0o68o1CpcAeacj/83cRshveqDsx+qTSzrZe\n",
       "VsHw64cSGcb7iSxWNawehV+pb5ZbOfLasu5ncd10bSQj4AjZb2wfSJ8JWD63LeLJRKK14TRC78SS\n",
       "5L3MwEGC5WCOhpgQxCp6x6mOazrcjH4H35aypAmXQqVDUPht0ArPvvZEEZU5QxQS1YkLZURdfkPx\n",
       "lGltPDRkrAjRH/lzMbsZe/EqMMMX5/f1xEv8gB8JET/HkVWXpHdY/jmFGnjhO5HBuwtfYKFblPaj\n",
       "k5FQ61kAJ7DIkkjketkaUhCFIlQ+KWbmanG36KtHDpiAmPHXYxw5Pnu5ov+ZiuaPabpnE4nAGUtX\n",
       "QYVqnbNHD/qpOutF2CN/AZk8QIsAhS2ee6Ls3j+TLdD0d+GmaQDbT/Rr2BXWR+k3z7J+zHTtWi9+\n",
       "60JUwu+5I8L63gfzA5tGpwB6MCtYmIRz5LyTUFT8HZn28iv71RWhEAgGrJF+lbrv3G9keg6bt3KB\n",
       "ZvoYclr6SPdWdJDj+kfmyzNGqijg3EFW4PsyNR6eQ9QmQxSHpuwIVy9F4DOq2BlIisbN1oV+rEmk\n",
       "hlfl3+AfRgO/jwlgnhmajNfkz9nYaDitrZuQ6HNo4BtyjIP3UaqibWyy2lt2oCxCrUVDMU1PM1YT\n",
       "ANUfsgSQ+54vHGuj0quJQxqlmtZNwUaoPBxNKCXZx2G7Dy7wp+bvtK/dghqOqhHmWErgKAeByi/S\n",
       "OQ8A4CAiMnM1B56+fKWehUcWXJdtVdu+5CHn+zkl47LRSXRu9Z76m5j+BaixAcyFgPXi3u+ELoI5\n",
       "jvx9xDGuDSHs1urvIXpjG3yOfG9O2ojKl2UrrbRel8jhfdtsntfYM9rv7W8D2K+hTbSv0e113c61\n",
       "O+QA4BoKPWbVjb4DW+4CmZB7HZjzEPXhXvkKpS+avV7i/LT7/R6N+TfDH6M1FLeoWikD7oc7k3zc\n",
       "2zON/RVLH7NeQ4dYgNKqtSkV6AXHMz0q7bEyt9AWPIGHYLha3/gL8NaGFwtFoTE0q1+MXi9DTj5+\n",
       "Kw5NVM3/BWi1j78dKlQVHtN7e5vR57z77hXmv8A8zJTP/zxQNEOP96s488+9uJB7r56Tl8qPHcz8\n",
       "0+7Fz9hnfEroKVhqfRVEmV+/V+blOq9OOX3qhJ+Uq/lkVrR+jvqfw+Pu2NBF4+Kl2wyXT2IAU6PT\n",
       "zbZpK9ac4IslM+kxDUn9O562CG+Rkrq0DWWmREfud4I9X6I5XUgd+shSQDfngNiviN92H4E2kV5a\n",
       "feDygv6qFjh164ydaF4qjsmvyWfQIfrZeK/+4/sH6rNcIe6+MDtcyacex5r1kzYicPJr+PnX8exS\n",
       "b3bctmolbyl+Cib2p+O9BxthvxOVVKqNfUe0m+l/oyL9Zkh3Z3Psx9hEXW10IoFRXYeA+oyWBcBF\n",
       "jzsPE4HUk/bN1rqgcODbNbKmisKRYu1lLswgtF4WvJ0y1VGJnYwIofSZMNBpBxbXl4D08msOrhLW\n",
       "ZJbL+bWhW/l+QIfMqfPoBKkJboENPqsoHW9FkHM/TBCTFKjBHguaaBmrn6VSK8JAv/HwEZ2moXq/\n",
       "/VfPel4jqelOS8wn3wZHlNEX8nB6MjTXYaeiF6V0CxudPwyBWn/h+SZ2Y02wuN8b6WmwAwJyA3FM\n",
       "nt+YF8id1Ae5jszRh+Mc9YcRoP2MlktdXd3AAfqmG+RsCIj+VusufD8B3pUXZSRvsjPtNXx1y0IL\n",
       "Iy0FixGFY9ZOvq4hoEMPyaX9OgHnwyxPH8NmZaWHWNptDHmj/rJxiNkAAAKSQZ8cRRE8K/8CHojy\n",
       "HEDWmFtwrIWftAPHdhU7wUqhql3xOs9VU1u/crCuHcKg8gVP6ADa/fxnM5EPfnZA7fjm+hIX6PCb\n",
       "3BCGJBiya5BO/eGFFB8x/LviSmEWbVUFmZ8ulNMINu7jrekcFCw9S8TIF9RZpkQAgmB722HIWxfs\n",
       "WOQWVq/10kwC91qQg6/E6SXPXAn+fT4krgzKkakB6IUMRfW3AwSNbOwnZvlbepx8glGuQv2N+vWi\n",
       "8ni4vZdDff7wq3Yzy/q1N0TC2urik3WESd1O708FITn5AMOKEMsqWCR4jgDgNeam+gd2VxbZtnhP\n",
       "dZRygkui2Nn2qMC0bpxCxC2DN1jgZqAzKAspkbUc8mFWqhJd6bbY1PZiE8WTUGdY7H+g6q8XHebg\n",
       "lXnXGMPX67o4z6ZJHxCkj/Bszvnf32+kqTQ6s0TP62YAJEB1Kqn7XURx5Hx0IV93010w2CHKCmVk\n",
       "/VLTTK91bwnjZ8FxVdUg3yeJUKDBl1ZKnWRO6uy8pUIXyYLrkTsuNduPN7t7gekeKRPMdl4JYYBK\n",
       "8FYLtJedVswPoYraO9CPw06QhwLo7flTmzxM5Ns/aWjhuIS1aZDML6z92e7Zsu38+xjqpDMeUqLX\n",
       "bqg61Atw+0asjpAhGMFsm28y+hY64pIN17BKtJJo8FmL7Bkzsw/yQkPo241XLRAY5XrtMHlZHD5o\n",
       "sLVdgaF5uIKP1YIRwLvsyKCJwXgtdN+eWBy2cSBQ2LxxuL8L0mYEHJgzDEAHkBsDNpaUdGebaB70\n",
       "PSU5NLIr1RLkvC08x75fsjRD0KUG3XBro5qtDOY8ng2yRZUW3zzH/inFb/FerV6+kn+3WEQ14eBq\n",
       "jWp5AZalXro3lVAixukTBgIFpQAAAhoBnz1qQr8AsTROBMPkf7TRpxCJ/r6z/Y/ZQhcZqQB8gn7k\n",
       "Cg4vkM0BSV037i9PG3y2l1JN2B893k9VDpt/50QAzaP+NxiM+9YzqfoccZ2wPbcN+4dOrRIs+ASc\n",
       "qNrfFrKROmGtd92LvZg2shIF6e7cPMExvXyr7tUmOSTCK+1N4uS2lWfMEfYuR9aLGVEWlw5t197/\n",
       "C1IKZhTb9BB51u4pgahCtDMrCyT2OI+fnAJQqtbJeA7Z8qBybbpFVAHEnchQkv1MrXL+01osE8Lk\n",
       "aUe9KsXzOx3UvUFzXefeO6IKB070ehdOTZKVEeD5mLiCm3YbUS4FysyqIY3QaJKgvnYPtSkNrq2m\n",
       "YAqzAgb+sD8V51dAHubcxaxZxoWvd9CvdRcDF8CYzI5keM2D+jcGP0xSbugPKzbf0SH6WJMZU1WE\n",
       "mA3iVCeLkPIXd/XrGVFUBRD8Y7mTJmcAfzeLN3M4Y2HDMbtTxQ/hs1ZAlowaq3pEJv+BAED+J6P5\n",
       "VIzhPyhJI1GMeDnPI5LssWe3a3z/oFePOIDTkv/EeEmifrhKhYAzBYkaBtShRacBXFyGMpZqNbwv\n",
       "yDb+A+34MU73idFUGuV3vaY/69JEynkUR1k0OBlWSUkKmmIcFHsDYGnbBYj/VIaR/fcC+SrYYWg9\n",
       "g9FPOQrG/nqAROq7NmvcJklW90Xpe2IspxA8r6d7hfeo6vpHqo884sy1cJD24JVIAAAGgEGbIEmo\n",
       "QWiZTBTw3/6nhADW2ogmJ5kUfaT5sQTVpSgCi01H7UbekdT4LxxAwybQeyeWCcgbWbYkeOsOD9ZG\n",
       "nEVbsRTdnN9J6LnvNn8KIcPm9yTdg8IFQ6zBeReG8FNU5VHprQm/vo4Ovy/lnmhC5xn68efwH+VY\n",
       "pV9oEiFI1n1Y1ZEGd1g2i3VjMK9gm9pEDWAT/O6qf/hymaxSDGXZLo8nSSUJ46UR0cjesku0JSso\n",
       "x0tfpuJ0Wis+g7ae41bN7gQn+rmAorx0ptJxAxiViD1Lpo50hGjqpsYcusQv0pbl0LWTdQBeVkzM\n",
       "sg+gTAOYHjY1rWqyKsN112r4u+rIpAAZuBETtlhLVZe3EdYb45uqZcjy6Vb5YilZdEMDVKWIu8QA\n",
       "V4ohvs+IaUMeiu1nhfVfcKr2k+wPQxvKNPI9428mJx6xBsyNKHFHZO5zCohNOIAAeFrPvvs51Mqa\n",
       "E+246fgqfWNL7VVPw5g/r0K7Q4tJV4HLLO95m+wr1770UQrSAZk2kX47q7ptyCSCZYBL0DNAYPCb\n",
       "9FRHBe4WHfu5QUvjbAP+o6M7spEMAOyry3vOo0jD5gAShAkcRiMLQKRmA6UdGglqgrY9TJnP9qVD\n",
       "+jRX97AKeCQsldhNtpv72rRj8JWcQop6jzEfdb/x6Qw6HqWzhVt8V0nJsx0gSFrzujN6cHmxZRxO\n",
       "IbQ1CTCnEg3Lp+hoAuBDx9ByiczI+MQ6MpgrCKkEweqA6vDOcNdYYhM53XAJFsjuSBMdu9E5gi1+\n",
       "DC6/fMdGwbsZnqTGwIVDVQCAamBxr4oEeKSl73FhdM6f7BDsdJaqqIa8JYP/J+s7/Fk2KaHceKda\n",
       "nZ3P54F5sqWXTmjsfaQHtWCPLlXvG4+6ute26ApVqPgBCt9hDU8rArJONKgSZg815OtE6Y4Ov86T\n",
       "xHU1Fzfl2JW+Qu/boea6kQtCLOe/VzYZo1GRIcXA1XH1xqyJ9rzf+YBaBNYd5UYNAlh/3zkhWzk2\n",
       "ZAGNC/ecjsyLwCFY4ZcZvwidcFj3Aw8k2WOsJWXe7MXNmGzzv/7U5lf0tFz041VfHKhIOeULZSph\n",
       "7NLpT8thfqh/Azyb7H9USAoxj39okV30eFvtH65zmVBjgsPTM58YT4VtT1mQ9MJDgx2+SWzcOFyE\n",
       "cGL/LpSwLVpZorvpWvLDZwVGcNnQK7qgImgUBHWQ2uPmwZTFFbUJUiexMEmpRGDKf0EkkRpprifE\n",
       "SBsQJ/jijlXdmhHFmwJws/kL4HNd9+D9h/NsrL0QkPssvPoG5eMHcq+j5gYC6tLerNOpHI2sGaGc\n",
       "4y93DEmJMVWzdVVpK2d362bfsovO6KZc6HdaZpq81zW2dXNQ6Kf/mUeQYg+3e36UBL830GpPfARF\n",
       "HxaOpHRr3qm3Jy5mWaSukmNiBxOUPUKANfIPXow1pT0nJToayhhantnpZIaPPwClGcYpPb5FZU7l\n",
       "xe1OErNvg0uAUcjkk0oD4iB51m158VHmqBaAqnO5U+rOtXxRzCyP3bZ9w0glV0DuzXaGEX3oYHiJ\n",
       "8zibYzfY7pC6O/UmmlQut2A9vO7OOTBxjLWKYBc9aej3sKd0Y7npfwCxVTIYEOvl0AGjbctvRFMc\n",
       "GrqQWcyds6OZGcLY06sVHnMpcqDa9mc/AqAhHoRezLk4Z0lIFnDm89ztrEvtrOylsVzNUCx4YbKj\n",
       "nUC/Nwm3gNR8hbMe61/KRv+o4hvrCwGYI1eO26+wMYGL4mwN/eXRe5aexqnrOqytmsXQDMADYymS\n",
       "EebLTPl0mSbnK4pQwKh0xH+D69KVffIAN4FiNwvQjyRbnw+nLiq9wARswsNMuJpzaCLYNAXPFgsj\n",
       "Xs9JehJJjXnyLyuB2WsxVS2Nn1SQSuIMxhthyVaIEYSlmbbdsIT36Mxc8WzgN6y8ogy78yjanL0j\n",
       "zxAIppZARDmOmKXxZaXHW/+JPRzBHxHcHb8A+aVO5WTarHq5vFMqiJze3nr2SBdxQhEdUC6tvPsZ\n",
       "C4xizJ3ZT60mX0eEcTcAfSLcWQ9owYo/8pkWQjRMo02XY/SYj0VoCuqpAsXsXyMZig8ZB77+2r83\n",
       "VUCDtWOGf6xgp1OT+WML5ZDdFaLxPWaLwuHHPsDqRNMk2r1VPDghywqijzFq2NDG4wIS6GuscRcZ\n",
       "gmptgcFy4Zd1yNSxVQ+VT5jC/CSJbMiNYLZBjQ+98ILQ4V3cGOluNTyQtsNDvW+Zg90P2/P70c+4\n",
       "bVpPNd/gAAACNgGfX2pCvwIfYc0bBMqVKLW1CFrmHD2Y7UIELsiACJFMnaklxczOz5rtqwVvl7Aq\n",
       "BhQy5qwTk8ZOI7QyGuoSo3E8aLU2MjlSJ9/gn2fLet2LJASJnsHL5lO7quttxSMEG2yQ9V2QAaiN\n",
       "xFS2dYCd0pkBenHkFAinI+PXORAu1Juf/f7We24yAWa2W68Kthkoq1Wh+F3DesW2OWjLeg9PjjNX\n",
       "SBI1N/xywUUdQArwrK9KlbZnRwY5O6dB5dfATMAtp2ch/54DaUcsHHrKZErcJhYVHtaPE9j715SL\n",
       "OwbA7AgyladZaytiiEHXk461hy2N0y4+hO3PTNyKRrHOA9YoEizVXoZbFeBNTy9VP1Wdxiogb27k\n",
       "4aC8vDdskzieeVIfX/nxhIcMZ9COGlEgqk3PFqbndUneECvmafBfc8ZM7excko31UPKGLi9I1i6R\n",
       "drx7AUCu0R4Juvgu9q1Ts67twiLN+2bkxIJKr0MzHsXEFsSOTHSldb6ohTTpAEODvtGESszvr/eW\n",
       "JuTHRN22h6UezRyNZB64DtgxrwmNE3M326/JfE12KQmHNwNWCLZXrXTshel4Toc8OS1804hTR/RE\n",
       "bkcyeurG0grekRKE9k9pYGsepyzay+rmQy+1GyDzV7H7i7JaYzFitGs/vVHoHN849La3IASekxrF\n",
       "mLYEHP/6xJ+AHcKWN0YfDLQGu+I4VH+h34IwElCmCpM3jw3TeshP4mKop+geYCjmJFbCn/AjZhk1\n",
       "fdTe1nxBAAAHsUGbQ0nhClJlMCG//qeEANufS8cBHU9SSAFqxRQ9rooNyXtdxiBCijMQVMrU5eSP\n",
       "mFsSlt3WeyODjd6Z9PZJ+x0xysoJd8SPv9XYol1VKTThPDnaJjRnSLfdLQllGIAJ61tRkZfkdRBq\n",
       "3HKlMQTUkifWP+wVTD0xsWjRQiCa7zrq9nutiqgdQXKtNt/wvt45ZTZuC95nk+Qx2pZRPGKe9ibR\n",
       "zms1YCrZ/qbzjnHQLl5Mf1d4RimuonzgJ010lgzICaNtaQm24O7kO6OOWGpsY1BUyCu4VYqA66Gd\n",
       "nw/iOgpWwW+jP5x5luZSjaR5yekGvBdxfwFFwQvu1g0ylF7SHlEpDF6KA4bU9OMwTXYwGDPKt719\n",
       "+735Or++97pQ3v+NC/VihQAZD92ps15ExvQ2llAdqhLRwZ4UGfEVSnHmhK/Sm9W/b/ygZOia+Kgi\n",
       "q5W9hM7z38oR+pzOyR5A0iM9F4f0KdHeDwCeF05eTyxxOy1Zz8a4/1wpYGNd2GcciNbqw79+6q34\n",
       "H0B8GEW708tPNOExujB/nKo14/bQv2irEn99X5/i24gFfEmwpDJEAdWa6LK7v9HNJdSHhmTdM+V8\n",
       "yR2kVnCA0YC5gXLTY/ALGFDFpugCoAXYfRjiunlkI00cIN3Kgypk1ucKtTJmsK32oGvbRYcLWaqg\n",
       "vBUKVoKzRbSwSfsYxSNCuv4AOqb3ua63W3nOq69qsZSrvMEptTj7OHd9twLCp9DFqN5nd11h+I/M\n",
       "/FK9PJfP130fKNjUhzQNXiIckRIOxzbu/Z8RgDDDLH+vEhKc6Av3ENz+jCC6JS+NlqVOxPmVYn+m\n",
       "R66IpS5RnFMg8HGJhKv9WD8aPrDQH/RvbU5AlYqhzQDIe5UUlH7ISDklGnGuHm9ONny7S6DUhLzK\n",
       "uTJgGQyksrZKjeTl2+lYoSkiKXxkCG+LN5yRN4td8KNXfShHddkvSVz7yq91mdxJzs7DohcJWUxE\n",
       "u7x80v/7llRb4qXsWqCqISD+B3mRkVjMR0yrWQ31kY0w2Eazq4ZzB+UJfbWFOKrXgY+EHz0ikvuc\n",
       "MBIKoR4TAr9qzqmuf3kQVqyeYEFYf+r+R7XylLl+cBKG583Bfyy6GLqK2/pIuGYot0HU7gMWV9gE\n",
       "DmsMor+9dc+uE6ACYXPZHJlg0bjqeloX6Rxu+ryP86Wk0pInXTdr+mBB279x/0fliOOdKuKbx7V4\n",
       "cB5I+hYMnVBWPMI0zRq55VttuCQ2aO2UTN5yY25aI2U4aZ57I1NWPT5MsqXUwkRC0yKwZD5nfsdj\n",
       "w87RWffSZCFBkYubaQxBJ4zbzxPGACyNDT3FoBz3P3eVTkIAKQd9DYloMKxWIi1tetQd0NJJ97Tc\n",
       "qlEIkEYR9xoUx9LXBgL1KLlvGY0fJ82zJGU4jsLvcALvZmudjCu+CXa7rGCSBspxnJN1Tfk0E7fl\n",
       "jEenGiAMLNUSePV5DOH7og8mVMTFhlvuagnRf6Cv3pBr2GxErpjlZIJgI/w6OONAILHZdp8Cun8A\n",
       "JC1Dp35be8zWZ2DhwMJl6Qpz9w1pYIwkE86psIDiv0ahMAi/n2OaOn8Os9pC+KyRRxOjWMtWlyTn\n",
       "PqDS62AJc/CQ1PNpv8EawlYXFSPJwmrhRJf91KdwgRbuRTkxIUBz3AcChQrXP3nklaMHbqK2Rp6p\n",
       "kd1tSQVNbRaVKYHZmdNi8jabvEmXbIqeGfB+o2UizDz5gd1zivIniS6D6OFbT2NfGMDsbxUl1+f7\n",
       "ZbwddpGAlYlP1Qs/Vzjz7jTyYA3UJWIzFLcTgAKZHrX1pIrSHOpWm3/S855lzdYBdEI/FQRQGCHU\n",
       "FqSkcvqNCTdudNQMBN1uYQ16pqCxFVeSRCcVZ6ZOGGEUdCR7hY0/Yg7KLJga5VIZhoU4g7jHimNO\n",
       "s0fWAD0RypxuadacosLC9SkEi2h3aKflkYrWgdWXgLkqBhkt3nC4V1Sl4lRnO17KnyemlkYFq0Kc\n",
       "iOeIPgGwGjHZbSsPylyrM8Vhlw+sdiBjBKv4p6n78OJ9YXtujDlqhCJp1dwjL7xxuJcyDDM7o7rH\n",
       "tx4Z2BELiF1nilj7ORbdvIfHMioCZIPgEEAQlVGSgxsP4VyoFlWcKw0Im47+iIPsqZ6Mzy5hFzo5\n",
       "QK5bWg9Ynofk8wogvp1EELezllx8aJ4pIZ8Ar/oapJV2EUJ+ITvOIWqHh0Dyc7IHlmj6nRug+dQz\n",
       "qHjUYYFM9XzI0zKo8Z49vlTw1feAsyV+VUKe7bRlv7Vpcu1JOCY1ANoSiTzwVUhQRHUFtq1NbtgL\n",
       "ueB2lmU1zcGAY7bRj4lcw95qyhrsCW+gwwvUl5GefDEf5jrGEjscvLEROlKvDWsfm6cCCs0bEubp\n",
       "Nesjq0PdjXTgwvDW7AwtjIfRHJyL6kS23/kTqUDQrs1q5h9z/xclt1v/isxhPN02sqw58BRQxpc5\n",
       "fvi29p2HmcEU/E0oH75nd4PTYDrEbuFlDMjWR5rjmP+IjdBXDrztMspJe1QbXUZhVfo3sykFkfSY\n",
       "y/5HxmnC5jMcN60ViK/RUOpi8oG6PiMAHO1mlJdD92XZArOax63AZ6IDVFaD5h+KwXLwF8JElAgW\n",
       "P748tge5qaJJjH+vFlMOeo+oSBQ5f8tVnQNC/7Tg5u7SnL1dz3CVw6IAAAJmQZ9hRTRMK/8CHyZN\n",
       "Axa1Y3c34SYRUGWjRTJHUq9qDKGzgZKfZStGu7N73arpy3cyaUsG1ACSrCsq3XV8a3+buY261zvY\n",
       "wNqqVuvr9IdSMX/rD1jQZRhVj2OK8KhKxicOcXM7c9X6MAUW8nlV0mX8fPpwa1BQOfpsUYfvGiR5\n",
       "Y6DPejjXcAcjNDPW3MjhGXX0KzBUPUC6iJPEojKLKKVXjtzF8rWAqzv4aOyJoFRXzWGlJBOcEoUY\n",
       "CGxkO1TITsR5DXzyuILivk/zcm0fkwf6+XonrzxR6Fh5JIZ7v7Qk5iHH9X8Kp9FJBP4HWBQ1DfVA\n",
       "VfnjEtP4RhPKU3YTsmkipMOqdcuZXcObFWpqaFr0cJ6ga6AloezyTKta9Nqkd0ZO+rlUBGY2b3+R\n",
       "vyKXL+v4/NGNfm35dHEksJeVX/99dHGsdmngiQUseDWlH/i2VHOtINQIriQIiYgiBalFqKinGEWP\n",
       "UcIhrDkC4uLZPF8PFLSADn+fqWuqIJgHt04KWVerfr33fL2+SsY/P79oY/m0v2RAkhdICqSt8ch2\n",
       "oiZpsQl4Wr3UOZZH9udPtN5HNP9lxQG53ouAImGWfFYVNyO8W+ZG4ehnU0nA67GB2cKN2o5HQEfv\n",
       "GInXPhGZg5C3utcVbuMd1b08oLxgfOUss5F2pYJrXPcSbpshn5nMPf3Akhvoq+e9TaeIe2eD9fwg\n",
       "JfY/oz3K7QO6K0JoZc5x2DDvXmnDy8Rr/THNZPyicAsAIMEHSEyCz6d5zIOSpiIKFCEDwoddHabR\n",
       "unwEo3qEzUpeUEk/+AR97pJ8OtG0zZT1Bj4SYlvJI+EAAAHdAZ+CakK/AIa8i8Bv5fC9FmtYf9HA\n",
       "pACxCpaNIdlmz7U74pnzc+3x5DiCtt0fWzwhmRME+25UQ9cdDkVMhEmCTpvBN+zW+B5uGyX/fNrD\n",
       "/OLslTlNhZK4FYZ6M3uUTTB4do6QlAtgRdOa4XO9GvpJrMY4CFeuRw3RSfX4gyUQ2F7Ptcvv24wt\n",
       "Qo/X1y/rjbsuqkZXwxYpEEeouauwb4/bvfeg0T6epJk2UaqCUOdz8JYWgBhUYBHTywNxHQwKLkRA\n",
       "UsE0m7ei9ibqJKaevUJUaCWnQL10scyXLKg982dgvEXXp6vZ2gWheaia0sGgMI3m4sakX9io+bFB\n",
       "rScrf45Uu7b3Eti4/k65lsGqA0fba5615TUNQtmZZtOIyef5AYPI5eltVlT+OqfxZ4rLWF6KjQgx\n",
       "DAEf86XhOuj2afchOzgPc/EGN5NL8kGM1XkF+tvNzHqLMRLvAnBFo+EQViW3T4gWtoZyLxjj41kl\n",
       "qAeQ0c+C+lOTzAtfM6h1R3zPZhc+Se6Ma6Sten3QY3CeQXjIXczKeRpt3mEx745X+lcCymAYqKDe\n",
       "UAt57F/TpmVCqr+l3xkIzMfbQUsPIg4EIQ+PHvGxfy8Owbf6ky1ba2+j+ImInC1kSVWTX23XtJgQ\n",
       "AAAFUkGbhUmoQWiZTBTw3/6nhADMv/jzd8wBpiFyPLvbu7A6QjONp2seAJP3gXO9qDLCcwJn1MIQ\n",
       "7IDytKnLvpldx9c0SEQlhCe0U10lladp6KBb4YG9SUfNg1+kB/p8Sk4Z+8FH6uZNukXIAehi5Gpf\n",
       "KiKPxBJAEFa3grhxpsHNXlT7jTbgmbsy/J483Dg+CZRmNh2z2itBK7GzRv2RNv1utnX3eeixucdp\n",
       "ZEke/xZ4k+U5KTwMQC3QM9Vkq66d00YFhhIhm7l54+A1TWyAX3s5PV9sJxz+GjK4IrOOpa9ajiR4\n",
       "VWDvmmAYKyg5IaQOw2shLTJ6u4/bFrV0bTjrdsEIccdwUaS2vdzq0hcL11TZqZU9WNRGkgXjnvQB\n",
       "DhvskXyqLlADDoCrdUTQHzNDkKzsyI6zZbUOOjSEJV3KcPgTCV/iQfiNwwJ9Q3+1EX71HqjFml/p\n",
       "iCix/G8O0N5PcKrHQseS7Q0u1XdIcJzUBjx3GGUXyw/dP3oNBgStTmZaUBmS2Uk63Xmm3rh8CzTX\n",
       "gPn1cK/tY1icnV9mzwKQ1TwoMFthBO8mbjgg2UQDpas3759NoxdMLgX8EFL2YSH7dKA5PHJp1x/K\n",
       "+svgxVF3+wUI1bOPGUBQTUQIU6BszFHe4YDnjjYHw3f2L78HiszuPRveySWQgHiIB0KltEJByKyC\n",
       "7T8hDigSRbuxamaMYkuh6jdNkKSYKpQMfdg+iqSe5YKpGqMmtWYVpC6T2wWpbpw4H8fTCQRHPiuU\n",
       "pTCNIbZdz1ovdZGWNawy7Cqak9X4NTDzoK1YaTxY9DEwILly8N537Rn6XmVT227bWR+O1AcgD2qx\n",
       "EVwJUKK+MYvUyG6bmgpt6cdnktpjrJWob8ejj2N9+FJap9G0TmEF74AhJrx2zk8Tz471pavxLw6y\n",
       "WoplX2QmcaQmWGR2JbBqjwQCbI5HRffwMAgwj49e+B891AQGBDWGZhjuiMY8IIDu8Hlj/+SWmGic\n",
       "KLKbG0XTZecxra9l+GTk+8WONig0rqZYrdXa7kvW9Vl8W0LdNybh2cz0IZLCwidUFkvAgAuqRJLj\n",
       "5IgRMy2P9EfLvKJ3COpqVl7ECkWYvTGpTO3j6EB0ocRKD6OIgF0VEVKV+vb95E+JuvqoWksL4Tom\n",
       "SjlIaHdyDwBJBGj9ElzUhnpQleqkBXH4/CZVEVGZtNLQbxjyTa6OJWATP+oAAxheX8YU7ukvbqhP\n",
       "8PuVqt3SX606Dg/w1tDBSFY48j9j2VUG7Lp2Spr+2ZPDKcZTwdJwfUps+0o84k0xPsV7cqG1S5hL\n",
       "qbf2nhMUiXXeMpV1oamwoobQOfDg52exC1q4f2P0NzFq1YfEZzf44U3mUe8evtjq4aZonchPCDtL\n",
       "0LW/203RwWY5IdAqO/e/W5poR3E8TezfziwujUOlVoBiSFaR8ShRbWXgMrXp7dHw4gyFikhoa2ay\n",
       "Zy0Ue3TYVJ1oGN2HCRxbJnwn66mnDHd83McG3Zajl0BfqxluWBRr1Ndsv35D9FtvZ8rOygSDNQ13\n",
       "cyF8F9CoPSJbdC/JLh6jmMaz6WGakoDbCw4u/6GZbSQLopsb1AIN5qihbDN115aIvIcU0wBw2dGh\n",
       "Vrd6mxbct5ienyZl7kRw6p0+6H0j24JGRW2ZjFDUCuXXRQ5b0mgfKP6XdHO2/MdXUK1I34uDob3g\n",
       "F4ygk1DhQ92jwO4GpIMY2iJVvLeIuL0kTQGW1cKgI+vX+tRK2670Cr7FrZjFeElErFA1ziyAMLJR\n",
       "PJvpI/KvNIxwZXgogH+jRMeu/g93TTc2CXTnRLG86tpMJrZJlmChRVUw6KArDClxnqg8AZboVQAA\n",
       "AaUBn6RqQr8CH2HNGwTTS4Hb5Fnb1Dfvko/N5RBBHBqW1bHZds9vKfKdPOyZTeUwuSV5KRH1l0sR\n",
       "AQAluS8L4QbJV+rDvMu3r0XA4KX1Glxl1pnApsJH7AdtPj47EOL7eG04liibmxlccT3mcs9eT+6K\n",
       "thYtjjvgcosClY/CN9GGQH0ZxOVeGBaBvaVzn2laMHwkntXLF8/g6AT7URAzHiynDl/sDFwRDiZq\n",
       "XgWRD5ODSYdXQ6QX+XNiMJOYha2YJ81+IEkGKc/qpxzpJVL/Pe2Tfq2LX3CPd2C77HD9qAFitmqy\n",
       "EEzjeDdpQme1gONXSLAWqvdQVp/nDMdctNYORbtAR8oRNMwa9LFIFwEk8e/YS/BhOpHf2fXqkgLH\n",
       "L8OLtI3C4y/kIxT1HPkXflrAi+djp6s07zX9ltqoDwD7iyDH6bVynlfiZgl7gYVHBZD7gWYF4a9l\n",
       "xgj35azbZqfG6RfyJHu8/XtAS107eLA++6mYbpKC6eKSJGSzOkpRIHBQPqu/DODFkrvreg3VuYxV\n",
       "t9Ps3jSaP8laYLhOjcZKTi2aIGrFrIvpAAAEc0GbpknhClJlMCHf/qmWAFtoz2QAwgCEyVXksC9K\n",
       "BO4vIYn9KUNXQ+HRNhML1kFCUqAMRvAwzuI+KeVkcJR0jXDZPoDzneWQ+r8y0Zat3ZvVzKtyA+Qj\n",
       "aacRwWJ/9q7C5k7gT3KbwkBen2qChtjwZZ8QG3bVhlrfEvqDXRsklZLiJNSDD/EOigWntn1kq1r5\n",
       "sFl9g3jShLEFi1rS48mCqCr2csxsKQ8/FSLJZY4tFHUst0g4fi2X3y113yRQB2kgfdJnwqLPopGA\n",
       "A+phczpNYdI+cxTvNSZC08UUTx3Acgn9wggSvJ7+lY/1hrboDV78dN1wN7fHPejdyQ4pa6hLy3Zp\n",
       "u196s9git/9zrQv9OY4NSBI2O9bHZkGMjn9BRRU5e4yTT4fTvcPgJdd5Dlm4t1v42tIvj5PvkvcT\n",
       "IGbfLfV3QUAWPADzYgbJWAm/ft56rm6vo7UDQLM3kZRyHSrA7dSFQgRC2R18cl4C1TcHAimGtZ8N\n",
       "rXJzz/w0oAkOEny1uoTFdMCW9YRJRUSCuqBAi76WS9ulgtehWg6y4fL/QfV/Hl4BCI5UmLlD02zk\n",
       "QamUpFSWbcbyLDCdf3J5W0hemd5qjvyce51VH7cy3QO+u81paE/fZsWkYGnq8ahtL7lHl9YRw0UA\n",
       "JpfxXaItKUKt5ivejLKF6uEcSKWICAOfZp8CtKxiYJSEyekQmbooi4ADmn1cDDThfyeMdiSPg0S5\n",
       "7FpvPE2FgchYHoTJZOZ9fkfYfepJo38fKSQiupAEBOcVxaauNdG1JZtgTlKzoCYxCZm2jkBq/Qni\n",
       "/0PrkUWGcbKw6bFgx/f922ReNH/da3+zidlHmwU07+mlJgFqP4h16J4VWb1/+ALAPTUL62nlEd9M\n",
       "ohfc3rNQ0j9sFSvS4pt8+sHABWp3u5W2bgBux3Pb1wsj+M43sYtRjBasvBCl0mmXwcWB2Y1K2AQM\n",
       "W7tDiY1wMKa+sdkxGXm9ivftHVCRABuvbSr+GdesCCz6qcQSIvqbUByeTb2HZ3sqob0AEjV47ezW\n",
       "3v7mAOb6hy18gi90N2VkeuthJkK2o1hJV5Rrn0LbTcz4VcmPIV/VSbabEx9qu64cXpmVDnw+sn/6\n",
       "vF/WTaqIGXVdrzQzSo3hYXHkS1nt2kvX8KV6AbHwtfYI3c0wvxOc5AJ4yabApFDw8/wX2x7C9lVh\n",
       "iwL+VKgQjgddP2ISP+mnhURtqS2+Kpy0bCqmjwVBi/vNZKOfAD2daRa3zSxULssSAZSSXICuxyOu\n",
       "Drv2pXDE+AyoJR1tqjnOHnSPQwF/j22kCtiU2u1Vd5c3YS3/4h/cb4Lj4SQ/xj51n8XhXbZSUPaK\n",
       "0DAcIy8QSVH8z3Agm8x8bUzuRaaTYFr3BGUvCtrtvF9m/3QBan3WNDDrJ/rKbkSUqUMO3pcom87c\n",
       "RouuaxFp952b42WnnRLXLlSSOB6REYRji1HzWqrifhLoGhS+2n+/IvHf5RZUew8Bq1QuYerUzEVj\n",
       "hruQ8n7L6yQtyDA7hfM2q0tiwa3He0rjdhqxAAAGlkGbyUnhDomUwId//qmWAG8k19ACmozETmZH\n",
       "y9avB3WufAjJhOYA0fYncJTCZAcU8k1NWZtd4dnQqFUTeshKnMZl0YcLkx7a6hrNFO7X5Z+pms/T\n",
       "AA6Vu0TBuk1qCQsu8tvozQCGUVMa0IqpsbxSNJEF7rOu4IKvAn3U2SSN+ntBNGHAyUVZX2CAC/bj\n",
       "oZbfm/3Xmyb7gkFDoJnya9lXMyicIEoT2jt5yG+YLGnce9ZNqYA1xsyjSM5h9aIeLaIh7807ipIs\n",
       "xXPu3Gagy0sLrrORbBJx4A1UF/aZJrHWrnWlSptVSsr8Z/itFPXgL/vRgT0apqAEFqLfRumOy+83\n",
       "8uHVhCyGWobyYy1jp0pf2KdsZFzNyytcYJgfPu3w/nuV5T47j1v9siUX76XUUp0sL1pLashD5pxZ\n",
       "BaWs7ev+lAaMOX3FYPw4ejkyC3S0V8AZK9KViqR40/79fOs+hHmfnVCnTfzHCJmKRmveGrmp/Vex\n",
       "wZE8zpjhdVjBhAJaj4vLPTNuydvxwtRZe53sMuudreK3kdTfh3CPmkEtc8i+OGVQS2XmktuySyld\n",
       "HnfXFLGFfWK/kLwrsaMHEGZbhbjM75iY7AABU+CQuHKztg1wXqljOZ18/S6EKLZdUjkiwU6z3TiQ\n",
       "99Yb4rMVixUflN9PdjIUuE0oIiPPgVQftQl9c7oxM1nPO5YxaagzKfGwnv9gISC5cXHL4A53I5rA\n",
       "RRxim3+QDLzhYnV37z0iT5hSNSVlKK0qKnX9TPjbMZq6/i/H4CvgqDZsL9zgwTIxwDFonLEVbqMD\n",
       "IGOsslTr0yrd5sUfLL7FSjQaJqfRWjNIvq6DQH3L8gnYWh+cvmrEfZRtIEfkL00irmjMngVDSAzA\n",
       "O951GfJOiH0F/Q2G7bTUXfumnjycDL5542bh7aIRUF260M/xuE+y40Q+A0IKtLblrDC1297TN+OK\n",
       "eSwTsX3rq2+gJpJeffby9RhoFEMXcATQ5Fp7QjQuFme9/gsy6p9SLNSEF/h4K++WabjIB42nKp4D\n",
       "Vbulu+0Rz4+YK2ObbfLasl0oLItH6Nzx3sjBMQyTeMHbxNY5Z+niRRqNzygFc9JCFMbc9GxOwNy4\n",
       "hgrRMuUHpCmdYnr5lW3SDzldq0MVYfp97wX4fSA/VWfD1elRyTIjtaGx897KHa189I923s0Q6Mke\n",
       "T4w5xKKM2MoLnU/RTg1lOA/79awb055I8TE+OAUNzrYwAz4KuDS5sfWHDWEeAWrHpf5IZSBXBDF0\n",
       "s5dvJQNooQid9P3lT5FiJ/L5FwgyoHSTZqKDM3f27CNW2ZjNGCtYmM8filulESqv0VwdtJR9amnm\n",
       "PdPWwopjwnx3DWMmfb1cyX2FaloFMLdGOcPhO1HC29vS54J4uUx8CPUin/AMd3kMf9e4eoWG2YkE\n",
       "/TY+wHqJfM4ea+PK9yTy+tqMnhcEP8IXcFRzEpCRVLU2rh2RqDwpkDT+9y4PRFvEZnwG+aqeAVju\n",
       "28rXUKe1He9RtbiYqhAh4N+jIdCmDwv6AP1BBq2YOheNOVCX/gpUIAN1eyVfhKSdIj9xRvSpYgir\n",
       "Z1NyybbZE4Nw/tGVuPwh7plfnZeJ+Hx2hDYZk9ybxowov76vWzM1F+N0METQL3kMHSMnU2rj1k3W\n",
       "7lAC4HOk83ltADxUNcR3ur5gy5/XxM+X99rc7t1d/PVpuVnnr9Cku+CyLvnjPg1cMmHQRwDCWWSk\n",
       "QMDNBsJfyw4baG26d++9EPVIwGYR7oNc4cWC3SNLP8mE2jF4mWINqYx6RIK28v6TktyLtUA6w8Lp\n",
       "o6RJLqBdfgBkMkuSIT0eeGL+bfNNKL/6ln7BEd0B0YCa4jkkG+oWrmj3Nq/tY3HTlxltDVY0/myJ\n",
       "JVLO6FNRYi+O2QFbF9/02IU8VvsL0X/CmNsXOww7pRc68kXtlGsjVWWmH947j+ZkkfYzPOKIKdx0\n",
       "lX1M9nqTncEVESvOp/546gC9HjpQZvRrKN6b904rE1KjrMYWMP2SfqrdJ29vtPg302t38GZHCaQ9\n",
       "01K06zJvvpLi3ucRsrkwGAiII85JkcImvwFbp7t8FUgKGA+y96rCpCnCGlg8PghMki33I9+NQWfr\n",
       "s6kyKoyrsZqgtmLX/uQqPZ+Ezh48sYMkJSWV/k+yrn4XuPWNBvRGe7TqbT8kQYmmdDrb+kwm4lpP\n",
       "Uy4l4fzyhYp+lzVwE6o+SoMyZbRhrgZ+IV4jJAXN0ZqRls0RD6HCvQoT94i+un+N0u16pvMrnVlk\n",
       "Jq6U7hA5YQAAAhZBn+dFETwr/wIfJk0DFrWUGvmfKstnNG1ALxw/MAAVScMONOCNNtTVAF5eK7gb\n",
       "fMDujRSKvM/AFAzCv6v6VpKDCRIGLUHXoNODn3eLbEg5SkU1nOkjPXCTJA6gAT1ds/sYRJKbNtkF\n",
       "TGCJuBhGXI9wvV5/sh2Gb0PUlq1OLyQXKiiXfTlvsz1jZwlQB3giEf7tzDPJo0DcwIz/gWyalu78\n",
       "ugJArOYkvrj5/kJe7UIa1hUieg0qB5Tjin9TowSdpNU9jsPS4Nf8yK4Nc8R1E7EtSi63H8gt9n7j\n",
       "ZmGybsVk/f3KwPyAfoHUCAKqhk7/ZhADZ1hqq1zKcozY2DlhYV4WqDqCk5kAT+0gfoMUoK3+AlgN\n",
       "P+cvmc5Ktmj6F23bxTbVCdaIi9NwERm/fInxlm4FdjtvxP40/zKWLDHomRAVXNGNn3JItVu03loQ\n",
       "rXRNEaOceJQ9/lel8ehFEIr/lU50Lpth3ScmE9ta1vOwEGBef/WBbU2OCu28DCeIfbTKTwzeHyRA\n",
       "9Xym4ZcNs4iSDw7hR0w0xp8l9A8t6dRdJz8AT86RxnmCa0Wut52R/1bdnKSnI9GNB1N+tg93Qax9\n",
       "nGs0ySuoaarVpBIoOTD3QreQ34Pa5rxEOMm/LQoqWv8f8lWJF8/TO56y4xBgO4thd+XFrgTlepEI\n",
       "xj7TdENCffCBcIkM6Ks5N+I/Kki3aOtBXCnIPBtUIZ0AAAE4AZ4IakK/AH8ZVRBGmru9QqwGUt9e\n",
       "0dmAjyicON8dhJjF24xZIj9WopOqA7yiUNDTm7B09wWyZEg3YtgOXQuVX+92ML4RXWNcf9jSAEv3\n",
       "5BOjx8mg7vBowXvsG1VeP/YXg2rkN2booC0QoIzMd94B30lOEaL+NEZDh05suq24TJzrgZYw43TD\n",
       "eTjunCCYgbJ1EG3h2yGBKL/vdVQyERTWNCUUm5Ahs2Wl7os+hocfGmCHvDdeKVeFZOKQu+wepFVM\n",
       "ofhtIVkC07RpXtqbZfW0RvDqz+F3RAD2NBH6+PMDir3MqKyQr4iwk5r1uC87LBygsc8dOfQX50uG\n",
       "qkZEyaWODK86WQHiP47cVKPmJ5B7btUwYlFo0n8DpLxC91rs2kN5WgnFV4YH6ocDqpD+rEJeF/tP\n",
       "OKimoEM2AAACgUGaDUmoQWiZTAhv//6nhADW2ogmJ5jUH/glY9zFADNuawf/JZ4nyTipotmuKCmG\n",
       "GQ8F1TV7iwm0txdQpRg0+sESipldvCgT9bIYtwFwQuf2pPNg+I1olkWKI51qhEmpsO6nDhLNVtFV\n",
       "7dsmehPfgArdcQAc/5tm0faYFzA0wCBAB6parnsfn3nqXpvq/7qbbqYvHWXJs3k6ZJPM4RUZXj7T\n",
       "wFI5IszHXVSxG7wGL0HZpcNVIrg2Bj5VY7mvnRnPyHu9pNeCpAO58Td8BZk1RO4RdSd0OX3emnuZ\n",
       "jjazrRj0ZOIIhIFCDzuX3Fxp6sRW33OBau3I6npIfc9lL2jaC+A7PbelK+8ebz57z9ErDqDegiw9\n",
       "QVjw6ZUB5KHYDRX2FYAbW72+u1g/K0bAwzGgsZBX+uaZbK77LwR0uhN2gjQSn90NB1H1X3lH8iSD\n",
       "4MZvhhCfJ2RRPhXBQXWqU7vpZjemKzJyAm4wsEkhXcYFzIXg011UFn2fA7zo0a1hdHQhowcB1IMj\n",
       "hbeJmwxbiqe/au43Jj6T0rF8P4a5Ks1oZ1kVNFseyFv37x2UAJsW3SB/1Ehl71JaPgPBGCACL5ho\n",
       "CGLr/dm+oFpMjEneiEr6cGWPEb4TUVhzInr/EQ5THj8uFmdRtAOvKHiQyeWWpqXWMsvsgIJ4mRQq\n",
       "s2iPGjX6psNN7KPUMJbO8ykLso+N+YOZ5SZ6wYHhxflX4zvRH7H00IZWs/a+TZj2AAQzfYWMwSu4\n",
       "q9qwk5Zt20WDfv7w+e/LZCpIp6e36z0PMHrlY7uZv+sk45C9MGoAf20XZuAuSmloPmDGeCy+tML3\n",
       "yfpY0ASi6LelW+Sin4eE+g1197ZNbr2FAAABhkGeK0URLC//AZXnTrJ0WplDuQnCA3qp6yt7Q1os\n",
       "BGr8cDnbiU5OuUyiAG3W/ZpUr4MWsLnSW8DXkQRBI7eQ8tOlrjVTKp9DYqtN1AeJKdwBW75LGSos\n",
       "468tkrdeJSjgcvRumKT0UXOfw8ryDobdeje23taDtC35MNDDxbrDnpcqgv4zPjBl6iQJ8bmicKhx\n",
       "lSELQwO8SqZHsnUpFOqdK5BU6zUbNXaK/80Za2YTXsrhAvS1Qqo7Hy28bhtAKDFgpNLRQFpZX7Rz\n",
       "WoohQ2MHNQjznC8UiXlfb0O4KLWa971FC+yqIGfanlPhpI9txGSCBYVXSAkfD/fNl8mF+MhNXMcM\n",
       "uvE7jMOONTaY5ITAlIYe7H4svv9ITwXAL+527yduafm8baI8aNQclBTa/j79i6KnvFSUFx2nvdGw\n",
       "QskPDrHaLvXTOZpwC+XodSC66GNHyNO4ZvNUi+GlS7pZlaBFXfC7sIm7fbbec8M0S8whIORiclkA\n",
       "64xj3LbWLSGchRiXD+xYl+ATMAAAANEBnkp0Qr8AlqWTkfZQKad53icIbG3PY54wjuICSFwlWlGW\n",
       "h29oWEM0ARBU28N0srrESOAFgbm8Ri5NrK54hf7BLgbLMVdc/KUXQrNviHv+v+79SZ2Rf0CLV39J\n",
       "GW7r+tikdNEEDWqZSGIFIJ6/AJ3c2uVYanPoYRNDFcxxsSXQ3siDAgywuv3apc9z2KYQh7b+snGs\n",
       "Xph1Uf4jJhNXzJUkzm9aJvSwDStRf4PXEhCg+7+YF9lwxm6MoUHsfUkgUys2NqExg8tlfckG3DEQ\n",
       "9lo2oAAAARYBnkxqQr8Ao9g0ZdePDLiorvCNpK9AHmn49XfaOstsGmF3pY/mpfba8TtKv3jETKPW\n",
       "BWPiPN7Jqzkjo3OwODJzo621YeIwhYI6BG7aCf7HqZiUJFSEKTNHdJP4ytVBV81gtmP4vQI4Qtms\n",
       "B2jt+XaUwppK5fSho9Uvl5QRzUDBYIezIhBfXPjCleOe/47suzaarkdvwKNyXDxAWUEUCbZoCyv3\n",
       "+8AkBhYaxVjbJW8v8rpLJCbEkUiIvqo0QmvQ5NyWeVVYJ2QeS3WJ1YNml2CVgPD57eh2ztV+CLjZ\n",
       "oFiPJRlKvVJcOdJGF3oqjqlfx7/VkIuMxqcJ9L+Lu358eThHVheisCaYcmuiYhUtt9MpV9Bq1FAG\n",
       "FQAABMZBmk9JqEFsmUwUTDf//qeEANua6UEJeSFxBTE+UmWcmb/q9wBVk5Igmw7ihoFxQeiFKphc\n",
       "KIm5uLrrZIcnwqCbx9KajusRZGo1VKSAojB5o0fOfN3m/n3NwTSlrOaaJ+PadFEgs2St8tY5VxoR\n",
       "OTq5oivDKzi+JFhALIdXoKhFVtckvfBH6dXgI3+gSBnYgfj26Ptti3WjhimbLpIUKVqE0HwbHkRm\n",
       "0drFnozp0NCjZCH9SFKn6VgukgwLn9Zdn7FSLDuNc6XQXRMzGiTWUn+tDsoR3x83twkhneBLK0C0\n",
       "77ZefRaoToI1DFJ0UEXQS+DOm9qsll/NHTLikzyp/8g+PVceX+BCns7bi5WNVfRJQvIEY7rv27CC\n",
       "UqruiKD+Rz+dem22aATJ5NIvWvB87olA210hn645kD2la+SzXqydIDdTSljeqnNYz44cME4vxR6L\n",
       "0MuweympCmR6tHJQ+1JX2CcAU6BymRo8sLkTgElXWE/Bh9y3vX3CpDxyRQRrWAzpYMe5wbKPGkUh\n",
       "KpO4XfAwKZx+f53uq4et1eRguW6pWKE7Diykkj+70H4U+iVQNjCVML5Caa5TKZnGTYJEEH2nJko2\n",
       "Kb1tcZS4q1VJOtNBHo/X29oTTyinKsm4cd9zUDDc+hOJNPabKSYZZcMtfG5FDmGrEHZvUrghm852\n",
       "wrZgxFZBq+a29ozwLcc6LsEEohrpWJmeT9Chkn5vFgdwfedSv0B3SO/tEVzd4sEbxuUCf71n2log\n",
       "5S7rTTgMAaXTlbldzoMvIeuRaCiIBlaWsePsiRuCSaH+eeZxGXNroT/G8YakkJxKxQOpGYKy4DK3\n",
       "u/dNLXY7L0A201+9s1kTF25E2gLaI0mIxqv8exX4Qjq6oCphtG7xepaYccuEb60yiBO7onz4Juut\n",
       "ZFbKWpDqKpQXmBe96wKzqV6VHZvwgXNlHWsJStxR3Wf3/nQiWcEKEdhsNNuayFflidAM/yHPwM/w\n",
       "rMRQ+Kd243yj64WgCmMrfrG6VVi2HHL23rpDN8vG/Ov0+qOsil5OsNw1RBhj/FcwZnyfONpsK27B\n",
       "6ePKyzxr7eJeAUQcq7tCSn3kUnKhVYuIL1Pg79Ahca9auP+srVaucXdJOX0swV0IB8/VutNjEXlT\n",
       "9zs05BUy+tJA/ES/CjFRwM5SwrIfr47rycKa4TheqURuniVPQKuOnrVQGgLXViAHXjlcJHkXPnX6\n",
       "dc/YbQAWvNKf3/1qEnuTQmiLv+zJ+1RZVw6V/VyOlSGj86fx9f0cZxTAl/fIGD0/z3c/9wyEnhKJ\n",
       "1iLMs9e//n95OkcKBceMTHytMuLCxOgdskWNE76FyuzSYAPvKqskgieZ+YBO3Xe/1vqYMoK8TsBb\n",
       "VNqtZfbUZCO+tmIllWBnVhJrSv9r6QgRUlfNZpmsufUuM3sb8LBJ9pNjfC7XteTV9nubnCWZDHWs\n",
       "hCFIOOiEipHFVXS+sNFCLr5WgZ+t4k9YmhZGxVIRcqDHexqmqO3QQyAFKNQWEmQhF0WOlTnDupCZ\n",
       "wXK8CpniE48/G1igob1eisnYlbsxRtgzC0ihtGuMehry3DH1V2n9TyCFS4EAon4B3JLnM6OLyopk\n",
       "+JxSFhEDkHhcNz/nRNDWOlmJdJpphAhwE08J6mXBAAABnAGebmpCvwIfYc0bBDzvOWFzAGixYrXs\n",
       "ZtFz1LTNupf+SV5KKMe1QTH4qi5s+F8b6A+c8b0MEzn8f6+2RrI6+OilXLIA3bXN/dYvdRppuDO6\n",
       "H1NhiHpA5lbOFStr7vkEA+JCtOryrv5i8uYqph2cag111Cqogbwf5P8mQaTAizv742gCPO7NFW4R\n",
       "w3hljCFb7S6gOpMAuJHFWsO6E3IKBka2eUmJR2yMJMGkKJWJBOdhMhdlU3OE0atsL0V5Yyct+UOV\n",
       "H/FEAvudK5pcNiQ0jKY+MmvX3cOqFydAeN21LAkaEck6tySMe5MpHn2xsflBjTsc7Y1Tgd94Y4PM\n",
       "pmcfEXWXf67NHBwSm7DG+9VnuKm9z9J8WwGyc0uw+PXPhbQXixz7akAGG1QHV3q++fyaCt5N5NDr\n",
       "nxPd0KGCq1gD5gILMqIhWp7e2xSNONl3l5HlDjwcQQiJklF1DKweg2wQ8xLsLR0+diXHEP1XVFhv\n",
       "S0PGnnm3VcLLAaDN6rOXBktPZGk0nSNvJNVYKxINTYzi69pABqM4KpavcROmwW8AAAZKQZpzSeEK\n",
       "UmUwIZ/+nhADSrd1DkFq4jT6gCLCPMH5vB/zomkCmHxHqC73donMUeVBc2yOkdFlB5Dv8Ea++ocx\n",
       "9QxpTV6Q8O3ButXPg9IqiYAeBYFSA+NRqnYtJNLJlQC0Et4rZa19X2DT8Klox1+WaaPsLQmW9ysT\n",
       "o5oZ1RR7hXbShuJSrtbspAVyCCFi0BZyQ/5yv6AOcttkoZ2f8h2KL2Qp+mrAbs+9OnUCHOKBl/7e\n",
       "QQ5zv3vOMWVTFM4xEQ5yAVuJS0G55AZb4IgDZ5ze1z2J4NXkuX3xBVf/MAlGRElExFXHltPVz6O0\n",
       "OWDtoWS1z3din5fAhVVG5wa4qDzG2obh6sPyxEcAJs7UHA3jtXP7doTz5y9nkIuo5gqbF5J9O2m3\n",
       "6nc9EDRxPfC/MpGHLHsYodhWq298hQB7kMGPoQIMvH69R+yvxFuv4hHtaatT82+/+rDK64jEHf+J\n",
       "vUC6EoWBJBAV8K8FtXe6jVzqu8zrSRRWCa3oLf0vbXm6f9qySeAIdLMtp1Blb1OGs3Fd8Tindrq2\n",
       "F/JQgaSgJ138baMEUBpk2IuLpRDzgrOSLtmdjApEltFNzZSHg2+JtIJLzPpMEa/ggdZHuOsFhg+m\n",
       "s5MDn3+bucb3AtD7ou91uZpBHS+jZHGrxTsMqoP6Wa7AOG3Z5rsUzZZNOYCVcVWbk7SAWLQUYVRq\n",
       "nNyUbBCmG4iRIfvufXW0135iDt6Pi9jze5MrZ940UiqJy1Ny5n3v/2aVEaKPBm2Sd1VaP0RpWk2u\n",
       "zkhmHqIuK0ipAyOeAXEzkXOhPt7MN2lF+G5sPwU3i9kB/uYv8+sZlG5qhKRIf7UtHkCQHIwWbVGo\n",
       "X70SkfY4FWMk6p5KOT4l6tZUUklEemWSobA/vgeizei76+u3LwonKnliwUvzrYD+v7b8frgvyF0U\n",
       "+cz8XgjltIYY4zhdUU7MLytsLz/ANQhX9KjEPKjAEAdS7g4vl34ZGenvkqhZaqsnlLBtDUL8NDDS\n",
       "6ikLtzsL0zoTweptZ5A/hGlVXqZmyFP9q11E0BTYkhW4VBLzWTGtajCjiyAUeN9kO7qHPXSz63W2\n",
       "c78za7fe1fEs531/PFx2h71PzvCP6mz9+M6gSI4j8nzLnwaBSGIGlEIGsyVp9Yet/NcUrvjAEtBR\n",
       "JVKR2qXHkCdRpjviHzJ9eYHD1DOWXywvOVYt6Ms0/G3t/980bYescvn/Ob7B803Xny81DQ1wsnil\n",
       "rAtiLoV5v9EVEkNVb4dR0IdGyMw2/1+tEZS83XGePql8ow7aYkX5KgQjpBTRWhK8FdInTFwuEbnA\n",
       "ESAk2k4zpawnWSCWYAoBWUDTUEHNlbKfeOnB/UwjKqJGTGB58/IwZSKPv6Ma7Sys6YhayjaeBXSM\n",
       "/S36V5sfSiPD29kXrSlsRdVyX6hrxZ/2PvPzhex07oIYdDFezfmOZOsyZARAm2aMgLwuNJyAerex\n",
       "S7o81yS4hEuSB/rekd2asOw3dW5DbUYltKfeW28gM4eXmycqLL38N+0KfXBrRcfuTFwwDl1dG0Rt\n",
       "EZd5ghF0KOMDrdFDmiC4yFk0Uq7rwhbwx13ikOE3vxhQ//n4aTuAqxQvgElJL2B9aVYqyXMDD8Lz\n",
       "L0dUkUkEG5/ULyvnZw30X+9fMliOzeyvmDy6k8+hpEwS7lwAdUgjObhyJaTrRMfH11lYJu5+G6Oe\n",
       "TnPtfqJT+pUO3DXwzG4oGowefR9f/MdToy0UEZz3kB0tHf9fCMs+nKbnl+uWT/Zgml7gDKlR79Wt\n",
       "i+GDQQnCd0V+oOl1nAAzEnlVWMPu8AxYnEqZ6+OKidZa1LQprPhpgy+2NWbC/4H/E0kuSKpGYqcC\n",
       "6adIwxF2+zFb7ac6DzgUi/Nv9vclz56MRMeIxLmRkXpxXICQ/1Yf0hQccR+vleEE2k0aidXSnKRg\n",
       "uvkPJPl9Y1ZaNCPgTbl2bKNCTshk85YWDAVW8qMGApT78gEbp75/7pzclonVeKvPpGu/GLrVe6n6\n",
       "tDcmbuksTHTejahlKUsPpETcD+h4OnZ/F+PQ0Z6nytPqJ8ubky8OjZII/buKu8A52nrB8US1XWU9\n",
       "fVaVnfK59H21CnOVICFhQRrxpqkNoP/CneK3BBpngqEdibxzi5T4oNnDj5LGV20WyziT+tjM3W05\n",
       "hVaSh5y8yf4AAALYQZ6RRTRML/8BlcXj6r7Vsj/yV6pOBK5W4ACEuRrh3E+GGaCXHsugZsDi/V//\n",
       "ezDBAKYCGYFOFJLpSY6cQKmVNlEyXghQoXFlhaZrrh5kSZqBNp5/fnnsshdekM6bhBOTECbMEb0q\n",
       "ta9w/rXHj1arnHR/cwEYZRGCLAxkPW1XR/aXOEzDlphdQeCIgubyllT4HQZxPN7+yLBedPEpt+aT\n",
       "l089YCo/UzN+pXavD/zTysc60P3U1SNoZjb6AnvFXWJ1/Lxolc02IWm3HJyAywfV/+vYXtJj5zrM\n",
       "FHlNOo+A5vZvdnE9Nw57L4nM9zbR0aeo8gNQMqCSGH3eGagwzehUUL/PqG98xGvhC8NpqOzxHwx/\n",
       "74wXl/eUTCI81T/eDh7X2fXT1p0WrxHpLdu748uCSo4i7C/Ovtac3cUXV8Z4tsZo+KdEx99g6vwZ\n",
       "V3V1E3J16clDoY1ZK6IEhwx13ENhWXwq0dtHsnqx7SLYFtd50zd7nE6pEDXBOWvxrA+QaakFeV9l\n",
       "jDM++priKmm2ObGRqydFYfJI/rt6Kvto1Ic5vacrGjNFLjaXwjyQBZX9A/3gVfUGgLv4Ycx3nNur\n",
       "X4TA4IdxBXxXQk80mDmE6nQvUCckY+nxhoBu+m4BYgMXkCy6kKXNA347KqDSVTvL7mo9No6/3Ea6\n",
       "R58OLJB67g8IfjwjH+uGEljbggKK/8CSVvj4cY6mw+jYJN4tMqNSF1h95Y9OaqiotvFvg35+1+Kw\n",
       "Ox63GV0lqnyK09GoSGhVdl8LjaE2S3jvISkuBL8lLiTeS7Gn8KJEAuLfzGAuUZcVMJDdpFm50eyI\n",
       "gHAPA/Re/PE0pyAZ7CybawjBNZ4PzIHpgxlMrCRM6izwhw6gAqJ/Zz36stRY/r1Yn7sAZrJOCezs\n",
       "e+7/UBkvAWxfCsUASO4hwuxNZaZnPw5ZXP0QpVocpcjDRtt+kzXdi4We7YZChtrhnukfkoMHgoAA\n",
       "AAFXAZ6wdEK/AIa6bMJewZR+nANm0OPhdyusR+TaaPtnoT6Ze9ru+1fuNUOP5XjemBsOSYmsBhRt\n",
       "uJ0k0643DlPKLjYbspQkAHfNGE0brPTUYliMeau1by/PvtAmUdjV7zMIWCDg7RDd9lZQez1WRv77\n",
       "bKi/yNXFtpCvqKGTkDnQaY9J71+JZi7SgWjAzOUwOshbYeDqxjiaB4rt7X/7vMw6bA7+srSj+R+4\n",
       "dF6/bGccMKFgT4y/KIJ2rJR6AhcK6zX9Is4m2lNJbsD3w4g5CsSyGtZfUk7FMgTrLQiGShd5DEB1\n",
       "DV9JwohmJIvjsgHtx8lWqV31ujYhbkz79GsZ8hUi0Xu6FNpA8bmRoZ7M1YrXJvkXUixN4xA42zy+\n",
       "7cVnC9DZsj9q05RGgKZh5Y0virUl1iWrJdfk708IhUl4pTmAWhznnHhHtuUcVfmSVPI3KHD/MYwc\n",
       "1mY50QAAAdIBnrJqQr8AsVhO9R/0VtEnGZA9SGTRgrWZV6vAA9DSARJT8RErpOGIgVOr7zuF35mE\n",
       "jnZXfGGLMN2xwl5SQHFdCj+fFR57+c79K3HM8tHJIjuhgV4M8rHg+riuTCG+7/EsAV9PCbNA9MmB\n",
       "E5rdd1JKxP5LQbJyTNKbZzWJNyDSKiRoNz5ZdetIcc4gQJdaHcEa+mfYaelnaaEqc71fujNR7RTV\n",
       "QngfeRA+mpo6+PuEfvC/nk2kuzXlXI1KawJVffahApatU9VcYgwb5AXIsrVEB7ltHGrPsgRzZxyc\n",
       "OD07+Qbfgp3Kqz4Zb46h+HeCOEws0Lc6dX2UB+ZPOWWvLWw6+hmabo6lnHaPdPcqNaz7bopmSfjD\n",
       "122K/+Q+TVZ2uQ8K8TAUcQhFKTmX4WUascJghjwNV8AFlgaaajgL19lkIx9jU4VcPryYwSq6sH/E\n",
       "4qjtQtfpWKALUEd+VcgxuKt+hAGA3UgkLFL9+qY9sML9w8SoJvlzq+J6r20qfzPrayllBjisel7G\n",
       "hrh3en6FDzqTHo53ktO2Aj5Su1XcJ42a3uwJFd/CP4lClSo53HRyJSQLnRo1EN+aO9dTl4ERvVj9\n",
       "NgKduQCT7II1034jJjlY0aCKAAADiUGatEmoQWiZTAhn//6eEAMONQNkAFb7pn1yg/gbZWezpcT8\n",
       "jYaLPpHl6yCdHxkQYXEC4FVRFRgF1yWvc26qKrIbdjmBYXmMWSdabzYyBBKLRdnmtFXW3hNd83o1\n",
       "Z3HvadhqetPZ8vUIe5+i9q4f0fHLsiG16fhwUnoMXECds1Wk0UbbzwVNVzSnR0JNGXiuGWPLlxRf\n",
       "8+YO7HVtb861zgiMZ/ocyEWisiNIswgSi/pakWmr+/yE0JKDIcAeq/SiI0Azk4/Fu3/udfS3Xv96\n",
       "b/a6b2WKxy92PyxVnuNzbKTd8+1N+1pF+7LFgAJsF1MpdPQkTyXeJJWNq3DZZBb6Ev4SgFUcgn7X\n",
       "AI3Ez7IsFT6cpAkA4nbVMs2YHzKfym6sIwTwDvWcSTQ7d9RGuB2Dju2NtriCYrMTEsOgzfY/Meb1\n",
       "gwkvxIWl7vkzCjTK4vVOamt5sXiLrJ7MZtJRyOqb/+6m1kFtlhTrFMQIFjd0MLpi+LxjzSA674SL\n",
       "Wi7s/1opTvTck6S12q9CIybEOPOGv+J2I9au8jzbYREERiS1/GpGmIk1QQNwVaeNYF2KDFXdTfit\n",
       "bnW0KtZi1wPZ7gplDOBRI1kGXQKai9b99zPUru+dZ8SfyUtbnoukgliyN1d0HeLTchgGbc8jVKTI\n",
       "6LtN4xREAL/pwcqxb5wp/jzyXSCYz+0AaTuStuF5zx9AtMAKiJ/+yHW0Y1l9UAbD3NkYCre0W++B\n",
       "ffX7hHGbZuDk60jhebJ4J5mTz58xuGA0vWcx4E33dshunVgpoAv3oQH28KAr0MfExMODuHAJZsvS\n",
       "G4TZkfNTXG48CZx/RUAOXT05rU58cWCZSW0D5ZvYiIDJr7dRvp9iJuTjw2tjkmYGa2Y9CmeJhepf\n",
       "EnhfDHk6O81suGukm0kF06I1G3mSg7GImEkjAdXXvkMUq2+Xa+t6OoPXas0CW1vx6FfNViqI15Rn\n",
       "dtcVnjQCwDrrC+XSFL0WrimwL1SPkLzBYTL5lxzEg3NqKH/KDKDS5W87DRNa5yiQAnPVyCAweYQ3\n",
       "E29ND4+B61pWbQv8zWn3bjQjJW84ZJke6T8xtdZNqnIG1535cfN4TYAe33Dh3K5IGdYO3kxoLX29\n",
       "vBo0FHpLhy3UNoAVFawOlIDF1JQkk88U5RaMx6Dj4Fevaz84VShzNx8fmPDmt42l2n7y1OpDsxVr\n",
       "9gqpsPgV4FIKQujdEmR8AAAEFUGa1UnhClJlMCG//qeEANeNrXZlroOt2kV4uAKh+tNzQQYDnTXg\n",
       "nNESUSe6gEtFM0IxuTI7CCbDyC8XzUsxuwQccnIFEun40wWfKF+8CgEQ9hnNSYlQpuszfwMJlTvx\n",
       "B9liYCWW+xddignDJJpUuwW3MLcVjQCbpYGgjjepxH9sMbKdxO2sweoNkVy4JJTuMki0WZoCwqFz\n",
       "54UpcYdY9r6WAzUdVZdVGaoIzJeSsCf5pWsne3yVJ+FFa7mHxRAV94PZZ2JHHp6NlgohLA8gBwx6\n",
       "zUf0ULrGjy3YsnbHYk7NSWHhpdpSdpftsfSPc0uUE1BERdNSeT+qKcEdftBb5yZ3ZXzbOFRekioi\n",
       "2GDNMQXfIke90/9+skba8jKYr8WpyQtJsDM3iVyYu8Qu2vmAwWdvnx/RyHWKoXvjqK4oiBd1B6yP\n",
       "nO604dez797Qti1lMxcnQKkIZKYkLsuWPVbCtlGn+z2OsROUft6h5gMZuXj4Tjis4qitJAsYczab\n",
       "D5geqKpr5r5V+FfMuLnutvAp6z1E0hIE063cPq/DEGwyb+9FBCm00T83TIS5hOW6GBkMpJ8I65ic\n",
       "m1I6N7oBNHFWLt97M2wDxHCeocRg+5GlgxJDyBbC14aMyyA4FM8MFjo24g1UmHtK0fU97O8vWZTS\n",
       "4Ou3Xx4H2byaeTsu19jMpYPmEPZydpyRdKFCUwr9wRybX9M/75y5SSWENz7f8vFIovwY0JtPBIar\n",
       "TL4QVAHzqbIMZyF3jXk93GwfUpZL61m6iajtHIv9c9lJxIzAIWNWsuUvN3jl/mar9oAl8amztGia\n",
       "Vxrpq5nMMRyla8ZbUr5324V/+aOFuHIMOhBxho0S8NvhARigFox/fpWd/T6j+9MT9pWUuEXDt10i\n",
       "AIfU+7Qx88wSB6KbhzyLWyFh74ePEtGeL+V2yniZd1/LjHHzIjxj6+NAA4K7cumieNB4DDPsL8+V\n",
       "o3u/nD+XajZrSxTbYPKUYxS/rDo2mFIgPnpp/6CTq/O///9S4Nnydt48spidReq2QPxrDJxR0ll9\n",
       "eAgOd3xV/TrCFe/8yVWBOuOl/QoUs5dQAn4gTd/qhwFNZ9NfNNdmhTuBs3shk0IbVzhngVsQjN5w\n",
       "GVTtQYRCfLGl4bzl3Bt6sJXuTGb8ED7yJlvleHZSD/I0SVR6RWJ1ww0tGNzMiuogi/AAHfj8AK9q\n",
       "59UcWWkDYtduS4OGP+hdaNKGyFmJEpi/jpM7/suhC1sJepfbcnfctl4uyW45F1D1W0rDoM1AUsqP\n",
       "JCKUUqiuAXO+lWxpJzxvaQIyPQ1WZo8TwGS4FfGncH6PWegFFrYHkTsBL/R091zKhWFOrBvnZByy\n",
       "fargRyHLOu44IsmYaO0D3pySZ3r0VymEML8w70RRQubs3YpN5oEAAAVKQZr3SeEOiZTBTRMM//6e\n",
       "EANHF0+SqXwkSMAAV4aq4H+K/VVHTvxtOpcg1ATyOHm9zzIUH3b4HwCaXpRqQTAkT/33JwdoHR5F\n",
       "fp/J8XgKZZlfmlhPBYWG64z+5eKrU1x89Csi1/WLRvLYl14ycO0+5laMQQjNObapVi+DssRxN0Hx\n",
       "MxBVNlkoa0dnlu8QGaYkuJs/MJ/fTK2HCXRYmLcoTofrwZeM8/9AF3Fe8LfF7i4m1mNloEdi/mjA\n",
       "5iD6MNvz+yYTDiwfybt4eCQNm5Z8iAhAfqc+3nqjvWQYOb5eP8M+C6AFPChRx0t5tQYtf/k8Im8G\n",
       "MD8mWzhQcd00zZi5BkJX3/ExfhZupWDoXRKW2aSiZbjGOADiNHilkYebDNISY/yLz5lziTxgRm9u\n",
       "e0hzoIc3ZD4abGORg6PnQFVU9qafOEL+FKn9uxiBtTAxgIPeMrioCW3XrEZoB8yXKdku5l8XXp9k\n",
       "3vD+d+8lddMhZJ3R72TsVmknnIl+r+55kcLAtSR6rB9Z1KTkydgexJUoEzjycAmcijKeUeyxHaso\n",
       "/tHC56i9An8CdsBCZwUQawMlezVQmt25z0jTgKYNcWZ9l3hWtDV2FIBqxlA1FIjsOXuYZRa/Mbo7\n",
       "/JVoCuX8SGvvFlkZgQ1See4vel6Bikim9T2/OlRkmNcnN5EqTAU5Wg3hf2VrDA0G09H6qQPbSte5\n",
       "sA0D5uFoHf6mUodjD+Gs/GuQ4NrWdzrmI9sn0ZE2kYRL5BdapLagh6lcxw4wfkOYMt1AiJPgdqoO\n",
       "GefLdfCRpYdGdGr7TUrLiuKntfnRP/U114sSx3I7YC95DGapmmBcYOLwAJyIclaHKp9okgWdvTfT\n",
       "8gwWNSmj4/KjNUCFVucgBQM0pHnusSvhiZpP3WFJK9d+BHsjJ0hmX6KrJREJESEUlEogrihc7bms\n",
       "+84H1eg7P5Xfk+zzkRYEptTIoro93IJv3iTb62QUjwBTW4vuKItgO/e6CXCY5K6y3N5cDNk6mHkt\n",
       "2AMmREowYhhFHKWzwCtqW76H3DuSXpn1rF1ymYsXFAGSSTHxkxrwEp8aEv6xODLwCIZLJb4j0+4G\n",
       "Jj3RSF5BoduUByeEu4T/lyPFk1VyLEdr61nEor8nt9nZMZP5o3glixasd6FZMx4gBUOs+9njpm7i\n",
       "8g3vqvGi59NKLvne3JGIwVKlQaO9HooXZQxziSE1jcSL2Fb7S4T8YV9tuxeDhSTg5ZulBtzR4PIk\n",
       "05qlwmyc96xLovhz2LVJqts3GVnM1TMZGShStkfIFzi2iceZu+VUxc9dQWd6QGDwCYBUJrRcGjev\n",
       "NjMJcAS9BKN2+QSgjOtG/v+p854Y7rbyRJ5QPUEz+sf0Ui71e7uJ9z46EuLXVrs/NotWqsqVA/4i\n",
       "MNFRx0D9PushdrcOzmI5n08n9eR1SJ2cjwMheX9ghud2uJqLP0VXCVtUx7RJ6TCZNxXdtIh1zM5e\n",
       "+Y96tIvy5eusKESKWEHmTmn9c431zh0yDi60CwFbWTzKfFdvhMn/xGEOaYzlRJ75PvT6XZzVhWWZ\n",
       "uJaD4/ouyEHAEZQzNaa0AfzR9xcrrJiRTOzycpD4D4HOw6iFeSsXdJLGP6NwzdIXxDnVd2E0NVZr\n",
       "jYQF0dUC0scnlAU3eykj054pyZFYSBl/vEXm0lTGjAKaj2nBpWLtkS3EUlwCDfvci3Q4XwDC2Fao\n",
       "YW2TvfUtzqDYmpNOmFZJGsLKkuk5OIKorHz3dQUGDhIYMaCyVpPmQ72/T8rEhw/Ih4CHDFSHHLML\n",
       "aFUSRfmxaoN+HborVI0/OtoxYqyhkKO/i/NfcAAAAj4BnxZqQr8CHojyHEEGsLJJ5n6PQArwaeIt\n",
       "vCASKj7DtvzN5OjldB8XYF7TIPYF0gNMddB5ydhiIXy+pDtdjqAb7D/SlD+Bg5Y7v3cfHoQsGKX3\n",
       "MiLiIdg9sfXdMy5+FzLRPx7KQxD7kmj5zAqV5IEep8erMe0/2scTV1a7+sRQQO2rwhERg46uJDtl\n",
       "NLr8lRMSbuXu0CpCDcBonMLSqO/PBemyluNGJlN2qdrWk8jKg51R1pkIV2qNj9wQxEImmULzlsat\n",
       "UzrWkabUMIFLUhDMuQlI9c03Er77e/gdFI2cQyYO5eLDDvbbLc69xctP82LekUgh1UGkky//NOnQ\n",
       "hJd5EbJJKzcklRWkFcXmiOUQ8dMkrn/JykLGbX5o5tcrIAUbAQAQzFHAa37hJqvjGCwQLX1jRnNo\n",
       "uNinv+sLInRbR7dvVX2+DRzAZxkriKc5TR1hItuWxPUy1TXKyocpClh/mrd5RQgdkxREKO4FEf+I\n",
       "FUVsyz5jTMljbFW9j4CRX5S/pbvrTjE01PBDhdUEjN4ZLC5BtGpHAhU4k/GgklBdYhyYemzra6ei\n",
       "DhEhY+NoQhqThOUMMPJaZf6zospud3a7zd9nHwYwlT2PGOInmYeqmoNwEmztzGW+FwFX/Zhto33h\n",
       "0VP2Z9+kF89v+9FbjsHqVSb0FKutGPX6fonCGOj/mj6qvc7iFvoxkSx0cwRjoXyij5V/5tioCRp5\n",
       "kMQTURXo7XFyZUqDnu7T3+4+ZYdEQqcuVbnu+bi1FYBt3EOJAAAEmkGbGEnhDyZTAhv//qeEAMLa\n",
       "iCYtaqqAARWTGjlATFB6l6dPMiuayPE+/UtDa0ouks34WJR6eNLRJ+w7Qqd3/pn3CBrKL2sY8Q++\n",
       "zunwy0oklrMd29YaZr7boxm6R4fbBg7MsSbBqXAeVX8/ePhPRQwt+UH9GvOm1NcIjYtUEADkbnBD\n",
       "TbS1LdIp7VE2ywqcBLjIqqWiyr1/OVU24dYQGe1Iug28MFd9OYDPdhJWdhibtLB1atJJPZUAFjrn\n",
       "Ii7Ckol3lLIGreuJWG0EpZ227qks1mz8PSw6OCYyQoOr8jCkTlXXmkUtYiTO0LGXolu/I8xQtTvY\n",
       "2slxNcPgUw6gEhPS4QZmLPlY5qgu/tWYkf8/n9WbrQQRJrg4pHkqZCSEBf1QgE3cSlZzLGqm4UXA\n",
       "i/4u4iys22MOeVE1pr8bOO6tKmtcGLp33Xr4GKkgZx68JGRsb7j9+4tn1f3GqX7QqQDmi30Qobx+\n",
       "rt8ldxKkWiLR1rKoF/3Xap1q9TP0NVZ5z4y1Epcqs0UM+UtLOME1rxdJOib533fIpGU36f73sNf4\n",
       "kpIjH7Sfw/X/dQchicUNc5F3ai0k9w9ZXqV5u2siv+yDRz1vF4giZcn9t2XiIkJGNOwDPnGdDsyP\n",
       "XPvHNDDQh4dZYe2sgxOuAqnPKILRTpaf/nsaGHcjOyK4RSgbLuDJq95gw4VavTdJ8+YVaKjyVRlM\n",
       "KJ3TB9p5ot7TbhnY0PnQUnitOemIrkDXZJX1Xn5idk3XdT9ECkYo/YOm66HqxB4I41HqjT1H9Klx\n",
       "X2DTINRfzNJBIcvYDZ5ex0otsYqS8+ABKwcS/uYpuaqmCp37icAihYxmNgVCFsk9bn5rgMKeM9er\n",
       "Lnpfnc++PgkKdj5sdndZQbxLCIFOLSJYB8rzFGM+KLUzivS90onnVFQRE3S5pPKtg3/djLFAOpZZ\n",
       "6bnzzu5p0FzJXVWJ0tibUDPr/H0Xbuj9bORV77z08anR1d3+gmJp7+UQ1uWH0tnZY/SIpfRzqw9t\n",
       "CySdTKz23F5O6Af5EnMIoJ+Wsz7CJo3SMgTSFeCx+TCJoypot1PQ37RLsWx5QQRp2kHzDlrnv4g0\n",
       "AVicJEXb1epFDxkYceZ/slEp8NDB0Ke6YiDilMn4DXQ/Sg9uxywovtQakTxNmvK1GtF5OMLlwfnc\n",
       "zf+XTQVfzfYDNAFeE2hCH1WGAlznPRu7G4vwQRFaQkMRuQJoZ/bTLdfwg6ZTcEQHpkpddtvP2CDC\n",
       "Y5zeIR2XFUUCuNF6slpk8o2QEGbfZiDrxr5c6SggHvqN5tsP4HGCPNunAO/1foEAPRGPSir1Po8c\n",
       "gNxjPewNGt87jQoZMihpuE8XIQfNg4/8MOgV0XiCJ0HO8xZPkbPn1YzBv5kHKHwZsKtYUSRVZvQz\n",
       "9Xdc8KAHW1SW1Dj06OWNvCixid6swurZR6VP6SCyWGaHVS35LO5RZLsI1depipPl2seg0tWD7iuS\n",
       "KQKQ8oXG5pelI8cb9H1a+dSaSky981pzfNYKEUSrZl0B2OjtIqLgGQM7DXLli357KdcFl50L0HYd\n",
       "t9UlJn+XpX/P2QgH11hHlIcZ6ZFBAAAGH0GbOknhDyZTBRE8N//+p4QA1uBaHv2VrO3ODQA4zlgF\n",
       "pSSHkE6Ek7sl3ZiqdPrnSE2kL3b129aayCCktKrWqXiz0DJU3vdq89/p7JbxmQH/+ORIv030uJ4n\n",
       "w2UVh4nALT3MW/ENsITc1xUs0qURVHI5kc6MmqAFwzVnHH0xSjCsZPjX6/YiEqZRWz3upoKCAg4e\n",
       "O23MoWvV9uTK9riiWzcr7qR28mtbvkoVvX6V8AZTAo56oqdow9cVV3aZVRxT12sJOzy9WSDrQvFb\n",
       "soYvbOWVyv0HWcAC1xpHJZtl2034KEzFkNrUX532E+CiqCPQbnejemSuIe9fSL0GGst0d6/ehDql\n",
       "szqbGRS6ARq12LhdXCxzOJL3fefUlRb0H7DgNW3nBRDQn7Vj+l9Q8JN/eQd/ffIMsB4cXdDtboJ8\n",
       "CG9wNroEWOIkaMyP8A0CjQFEbUnTNW6ch36xe36hOTDUuTetyRT+IYjd+P0RkSfP7db/kfKWf8Wb\n",
       "GwVSPmXJyJemfnM/RG1vIf0ROawFv734UnyTlxdyzJe+GwJ7gYp2GhAHfSDPqMC+W0JayNZHgFNj\n",
       "MqHpjmmQdAsMp6EBtKjeNJP6DOA0XVDiJ/CKnwNDLerciQLv9jeGL6Vfke/Pg/lOCr+R6UGSAbCU\n",
       "gXlVwYesKmJ55PjeCh14aIKyEpsXvIzu9y74S+ZpxM+WexViZhuw4bJecjPZNEefU24VpmXxFUKH\n",
       "CcSBKDpbLK8ixmpPyZ6P8/eHuLhAF7X5rIR4VZNPGADTdTrw8mQUATL97hiG7503u49LJx6f8qUG\n",
       "HRI4u2IWGLTnZwrKFwgxe/DOMio+FPdbK7GbbGOcH0jd1vr9sv8SCXSIrDJL60nDccM7eWqG9Gp9\n",
       "QsAdr5Qvv5kGep262C3EP9DD3hjkm+9rvv84SnC2MbOgMxKBUEodx5itoDjAvi/l0nlICqSuyw/0\n",
       "ScFfqMopNikokxIpRiLN9OngBTzn8vjMObP1cK1d8/uqg8Q1ZkgyB5jMx8JwfyBGJ6b09wSyZD4U\n",
       "tFgdqE4xq+RWPq+r3rs8qV88cr86n9cnjZYv/8u/ivQgkPvPxDdmpb0tzyTPVVBaP5DS/RIPNLV1\n",
       "ONllf110ss7kIF7+hROHtkWHoAjRjjmDJPEEx4sTskp831qo+H8dANKRaYuQSOvBFi/xxUxemz+O\n",
       "G8O7CLIxKzJuFsWdXAbFbA9i/+CMKL0aEZLJIKFCccVzmwPvkuhdwZyvJZpGxgtcFIieR+G9dRop\n",
       "UQ9lhWKTtXkC7binJDAaTe8cFNB7ccRcwJcqKbPlUwH5QMbwiwbZnEVCpL1sZkxm8NSHjDmrnNd+\n",
       "LwaiJ6AvthdFWwTs3mBwxyl6+hb0lHJKAlSKFJ0kui1oitNepe0Co1NOmuKPKFkbcBmUwskSwIp4\n",
       "N9/avREFQvVZ1K24MeRfMP/ZcWm45b96O0/pQJw94s+vN8inQzcZRsx05niyReOFhSmT/p7CufMf\n",
       "GxJYjnH+6U+WJgxk338GI9b3Bt6xBe87f0HCwJjleby0YWhUMh5FfPp/xfXs3vK7Y8YihfwKBVi8\n",
       "UjXYkYcVH61yjVWjE/EeD5APrO2oH9WNvFTyvCdG1+uVicRVcbeoaPorY9Z79/49hiAKbvtz6x2E\n",
       "HkjqwtXOvw6IWBqXywreO1+Pk9ekkwlgDgUQlaZLGpLpo1is0IeOQP3gj+qRDIeW4mMrLMgKPiQ+\n",
       "Z2nNH7vwNeyxR/EQu17kTEhKUnBGHlA28XnRXC3EENLHNP8kNy6JXEw9uIl+nL7fXFwqtW5FNY6z\n",
       "G4qoZUM1TN8TLHcUrEwfQvnLphNnBIPiXYTDNuvPSvvsPCNc+KFefsi+eQZF//yJlEe13chBYwfw\n",
       "opDWIQsh5MsEcKCVQZb8q9FianSZnriR2sq8J6LxlbKa3+hwfgSHiED820YNZrBN3HXXeHtmnDUN\n",
       "WBeurW7xkukx5ouM126MNBvRYWu005SPAnea0VwISgJ/v7Hq3jM1TMMkUvs/CSgE+H81zyz04NJB\n",
       "cI5EFfFE4ey11R9DKXS2jMMy2jrN2WahNyPe6MxpRgjPYN9H+KB4OlRZd7jF8/mEDQ7s+UAAAAH1\n",
       "AZ9ZakK/Ah6I8hxBadPo0T6hJR63V6BkDJ+ZRr16gThIKkfrapHvcBFZ/F52iHhgTmo7TZrgBLMw\n",
       "X7wJYjYSwsIs8ChmCIUQoyL43CCF+lN1lfiNA+8lXyUW0YPYAlBuxZNr9VEyTZae3JvB2m1hbUub\n",
       "zBzsU0VrCIJ5dXUS4T58IBc2BIn36FpXb7uvvBVcIrh6ja+Vb8OEXLjV+ugnQAIcg9xwREVzm48f\n",
       "KbpyvX+AacP43oTbGmMGPyXLostrUD0tso42wy24lwpfjoSiv+r7Bq6XzeYzu/PksLFE+Dc3SG4v\n",
       "SOkgfWIO5pkcrNhRngHjWoN7kpfgX7VNrmgG5w3EG241Yrf7nGSO6/e4CoV4iIDUoJTJHUkkVxi3\n",
       "21HZCJ7SyVBcljS3QRmp0VBgemf0nrlnSdmpFvAudAeKvLJZ0r9U1DbF5OAFvK6+ea9+Ump5G1yA\n",
       "r0dIeE1i2mywYRr+4oy8GHnwNhFTAJWoOPZTP/IOaqjdrAJhWLWEscSWfjRafen80mtX5tlOuU/3\n",
       "qR9qUMOqV9nGjFKaPfHqRv3Ahx4WYY+xbddcA6a+B1NE6rNlBpHFZqUJ/ZDxzxf24xkXSd4cwSP5\n",
       "uDxx0yDMyQqqyr/HBcXHDzLhFVEpXYDtwpx+Oe1PoK8KpWTQUWVzp33pJORBAAAEEkGbW0nhDyZT\n",
       "Ahv//qeEANaewFx1+NaYmPdoJY9rDCAAU+P17y7oumJ/rl6OcinT+RkGLfO+mANRpz0YBLxgdL0V\n",
       "z5GC2zGmxTSI7ckTA+pZDA1e0BBr3Z/75Gw9i70Wlz/x3kP2HG/q3aG1jDGymx3z3NCLec+jPbHx\n",
       "AjpfLSSCYiNscV/ORvrAai2/8xKGQ6oG4J5HHwwoS0xRNpxYeW6uDPLMOBKn0PAU0cCMLHQwVC3g\n",
       "pCyz6SGFI3cPGfomJC97TNsdQX6zNdYTe+lh3bFNQzgvqTuKj6eem640SP8oOitMumHHiZInchvJ\n",
       "/xT3/IL1F4mfrEKy8BkYY0nml96uTwFSCbcNiVwbiCdT8+HuZU5/bJhJIgSqUs+LFF9VUj06yWeT\n",
       "WzsxDGEG92GRoDvFT5IFeTvzJ8g/BsLW1uSYwoUqXJNypSESbPzCI2uiSDlGnVTKlNx2pE2fZQ1Q\n",
       "+qEg4z2MadRahoHYyZq3q6SVeV/3ju55k/LkNtHvSo48E0vo2LP9h/id4BKpAT9ikyTBrs5Ya7wX\n",
       "LnWzsPEUg6VDZZ3zhVbKjR7qzGyu+67YJmJloLA8Ct2VA01IU32TgVeBcrwe5+af3xdqZXkc5Mh2\n",
       "LeqeuUgEIotP3695Yx7F/TeFcStqGnAagpMRKN8EP+WYIB+mAIVGVdO5o+3QKf462+aIRCo3ytWL\n",
       "YQJk4ne//9PYwzXfmOPcyTjIMQzLQMSpHqIfP9WsDTXByvZ0elsPzjwql19V06T4eouR5xc7ecpx\n",
       "ZLn3o8JwzyOL9xALv99ag9+AW/wy7RPWbAsuvo9Q1fTWE1hKTmks+oc+Eymw6W0PSiY4YoIZ+dCk\n",
       "ZnrkKuMYTf5074gB/XHzQSDR52v8JlBG+PscIWtWJ1Xnh406YJ0Q6Qz5pfVDqJm2ptHFKFbRwTc7\n",
       "TXKQV4IF3mKGEk3PUjW+Xi/5MclKEcHvktzFUN9fCSoYPuJhoOQVGf7kP8yLacS0hBhyfyPVv4Hv\n",
       "IJc8Z7fWIXsnlRgNslSIkgNJMv4Go11AKn+N4q8y9IP7AP+JvOq/K2Tz7bqKz0v0GNnn5V+lsGBp\n",
       "LCJ3oH9TB15IXgrw95j2b1RaalWRTCwuR6eCqcc5+wqUzo88tIYl0I7oYaLvTpnrAC10VJtWgnKR\n",
       "tERpdm+uYNQkpnAoPrA2I87xVFLPfIXTUmNtayRv/qKK5pGwOwzdZRwT+p4+mVyE8ggpQPpaQcnn\n",
       "i3SAs40ipoWLpEMP9MOh7ILYpOJhY2LmZ+i+1UHMMOin2FJyOTUgNKEuo+0DL39DtEchcwF1U5pm\n",
       "jGfwZ0XGVF0UjSSqDfKgZG0BM2rW5mDFFB99dJPTAiK60kJDE8y5tksYt3F7btSjUPqmbIfkP0Aj\n",
       "3q6sKMoYm3AAAAYLQZt+SeEPJlMCG//+p4QA1rpgO2zKyzuJl0ALaABZqWHBxEW7UOuX8R5d/mwC\n",
       "s0wp/iRW3rcozHwpnNOKN22XXA2J2L2wZLvie9e7HJzYaZQQ5mXmXraCbWriO9mpH/C8wxBemF2x\n",
       "A56tFoud6HCqcoUgxtHx6+LbEdW4crerN0KzXxus6EefckFbF4hFJbgt1V6eXfoa3IY8L7NFqXuO\n",
       "TBABhsVs2s6RkIfWUIr4noFu39+5MSVFFFg984idx4rH56WJrZ42AKOVs98uPFrhyuuaTr02CIaJ\n",
       "zc6QKgttPPW3bCQgSQLbStMdeKMeLyk703l72F2eF0acBv1/tjjRq5+NjiewVcIDhT2R1rv3g5Nz\n",
       "IO2vwpmjQNsfM+5mz4XHyQS5RXKqa48/EZ2PeLb/nBM/KtcwcVFWdUtXrffDTeEl6IcDiZboRlrs\n",
       "RONJiUU6SCXFaT+AGl+0qHWGmSgnXTpTC8pghL1yxWsSxw1NwLop3j+KaNN7wUXKG+Gm7lq9Zld5\n",
       "R2hpkVuYR14qh3Nrq/jdLpP867mYeW3HpQHurNT9/ISNSeg4sHqEcv0OM6dMW52K2WTsqirdEeA5\n",
       "AbU7T0bo2++TT6R+PrtcO2iXAbxihxk6Cj/lNQ0L23dxWO26jA5GU8G0mhfWSTLU3NR7drgxe6q/\n",
       "vwQUX7c4SgPt28Hrbn8WDjbDLuEObadVgI5xxjT2IevlA40ZQruJmL7Y8UBATADjm74oteHrso+O\n",
       "k9uQ/+UsHpcVf1nT849wQ5ZLoTwvQh+Pq2fN2pWSBGYb5FhTioT5eehkgrUKDYRbXsAdHJmlWAR0\n",
       "iGqiaSl3OLHDoztQPU2E+5pm22CI7GmPbmvfclIm31I/JJq6awfKnwDm0W8aiIq/IcGSjORHiiSc\n",
       "Earb7r0LcLFPJSdqhZU3yy3VnAZKd4xQzIHWTb6MEbT8gVGwE005vKLfGS1WLgpdAlesGZspTou1\n",
       "OhQt+unCxbP0BJ8BksEckdO1oNraW9CL+8HxkKq8Hh8l3im5Xg4vx7lhEeZ0EZom054+6qJBIo5o\n",
       "nqC6WesY/rwhPkfh31Suny5u+1Ihu4kp2xCXHDYwyYDY/QI9OUZBF2wTnbCYWtlcKFfWCtWm/9UC\n",
       "NNcIYOZWWtj1L30Fm4xtzzjMRy+kt5wlrI13dvMddL7u3F4HCnSZyXpl18+oEVZPeQOms6cmY0Cn\n",
       "8CtaJzcED1oZU1mH9hJK9YUHfD8ggwGl0mNzGpJl0u8S3j2v7+f8eGSmr41D8QMvhKQ1nPBRnBV+\n",
       "DT6JWxom5Vgvd0hZ51s8yBCLtSVk1NBsUihX7qgNu1jnIwxqYrsDE+BsCTHuCjVjj5KsY+e5UuGt\n",
       "TiIhuLlzSiynIyZWN2vpEcKh0RAOpsJHDWU+X6QouitApIjCvEXq/ukp8ccss5zRi7Z0K8Se/EXD\n",
       "RiopdQZ8lpFqWSL0jyOwM+bD15m9amLzV8LHTbtjW3DWdO2jRgd1HGZvgVVfDGjI/r3VUiyGKOiL\n",
       "eIY1yV9IWIqUyI0PsBwg3Q8bPk6KbLLq39ZqbzfHWS3bdBpNfwMHkTIqbAbZuty+db0o+9xJJ7y6\n",
       "v9bgFheWP9AnUUYU4Q+s4KU1YEkNOfWkZtHVCS5SfB/rUPRf5N+p9R+yCza5uroAGkG0l3tT5irL\n",
       "48OHI4t4Dbeb864+tkGlmk6MOzEmwD1wvzVX5/wBefQG4HoGyeXbC9faoJrtoEfbkqatiUfSEPEY\n",
       "Ygh0WJI8gwEMkP8tlLor0XEPYmmV0b/yO9aNTbXd0JoCcig8QzWhJvGwmW+e11c8sfP3OPyQ6s6o\n",
       "q6YVRICaigT6C7pYmx4oaRTfiVfgLTv/VAu8sMg2VPIniFm5Dll1H9ms+O7EP+d3Bukyx8QPsn30\n",
       "o24bj/j4yrp0P4/Mx2+ud9uLYAFq1rHP85z/mmSmUAc+1T9B5AusvMZ9LZmhVndAWFZAB9JapqJY\n",
       "C4gmFMbWJjpPkO7TncFqpGQ0KYMUNOheBKvy/EDhCD1TeCYRrwsA70SECtrHYZhBKV7ZSLPAP+3V\n",
       "OZDKQr5SrbqJ3Mu9PmisRG73WNEAAAIfQZ+cRRE8K/8CHojyHEFpxsbwiqfIABGBDoDUh5y0f9Fa\n",
       "wRcRQrB3Mka7p96IolSmRZ58bepItVKkeLZFZKJkZZyPBEkdyoLWTbTI2MfK7X3ABbkH6OjzQ3DN\n",
       "fjvWaqM5NP4UPaeDGvVeiK+aQI0l7POODT4TnPVnMlOek0K4diN57tYYGvy+vpEU2vIkeRarFDdr\n",
       "tSiqm2M734zNxV/v8aVoNgFkFxzOxe7p6ScGRWNokp768USUN3PaUlu4C8UILbVxGSgV3lbOiOVI\n",
       "mM8caaBpjWB8TINcFRU/l21fS4XKqZILYu5d/bq0C5MBvQqMRKxiSt/Sikc6XRT6bVCqz9goUzra\n",
       "Gkt8C4Z8kb2+DtZOIt9miqqjnSWTOyj+3MDvEVUC4RjzwEjHEiwftDPSKWalWOm/2Z6Y/zKcnOJP\n",
       "GcgUEjakrF46hemiDeGi7xJv41jKgS5T5Qbnceq0ZbHlOA5JwMwsCBgwRnbDP+sZajOhEYMZw7fj\n",
       "o2lszn/GwftmzTxuJTa5WoHWup6RJbEGoVqUIF7tYLM8u14+NQEN41ZHknbHw1qaI7n2pr3psEox\n",
       "ZwKxVxtg5FDFcv4+fJCgZPq92xAWhQd+Bs6wljLZeR9AZtxcXjIexw4PVPAw1gMq02ofcebw7GtP\n",
       "NMNY7lDq4GXHVO57stEfeDDuDiSvYTM8QNOD1POTh0x6/XmF5b909yeozWC+Vn4sxFMmxv41AAAB\n",
       "tgGfvWpCvwCjxAeTQNgHWWj9AMl633inf1vgrnspv0DK9RC0rnAYVQVg6lr2i5tnDrdGcekBfvik\n",
       "9gA+s+W8B2iXWSKArlAqibvMZAWxFY/hP5p0A/XformSipvwMBbyAghvqn3hPij3Chcgv5sjUwS+\n",
       "vfp+uGM2OeL5U0Dya8lwXTPFhgvasTg2iz/vmdx6Dgjyoei/nqcHK8VyP1/1aVfuBEm+Kf+rwedV\n",
       "Yw8hXNH84S+ENLgfaz+9GBKDk2x4KV713d+UyXaGflUxbfL1PuSxJIFOXAudnOVt4nVBrgRYH13u\n",
       "GgX6q8U7JVFPa7b9K6wkMux2E3apM7l+sO7wJjhsJArQ/4qvEoKTIuS3mZYxdiRBBxo1B8pYXhhW\n",
       "mnrqtNWOni+pVek+OWhdL4S6lX7l1q8by/BcAukMVo3aTRo47gaMBEj6mgCdDUI5jQtMQ0oRjs5m\n",
       "pwbjUIKjbQQsiarI1/3tSbExuqUUbGs/iwlaBiwU+pntQQxSrneIMVQ03Ydg0YP58HQqXVP36fNF\n",
       "RFMa5QdpxDCiddUs2FDf17KjsVBb0UgD9TQcv72VImzaBrIl+wiQ8AAABY1Bm6FJqEFomUwIZ//+\n",
       "nhADRr+Yv74gCDvLQlens9fX0sS+lkxzZDfKeun2zhu7vIAwZeNp2v7srAQ2U4+q76Fe9GzB0QZK\n",
       "nF4mhzsNHACWTmEH08j4nS2njNU6sPip7Tzu45htoSGVNHr6myGAYoe/Yb3xY/2KyuESJpZ/qKt/\n",
       "Mam852pU5edTQW2U7hTpkH4dDWFQE55yedo0rCHlicEvJ39tDSKVnI4HpTlL3clBW5Izk1qR7iDD\n",
       "J+WvuLdNzDTZCkvu4oUiPLZrLCrgrswG1tJ0Q8v1EZHgZ28l+zKU+/zbjNIn4SOPtPFiBhptavUS\n",
       "nMF33BJA18l41AerkhUUL2bqUCW6LiOMiwM8ApDNWnBY7yPoCRB6rilvEUwY92fdq/+FZxZ8dcNQ\n",
       "L1hJE4vEi76HA0lPjzEDpuu2RsZL4X8zdCHHA12E7BSJK0MFEdG52ACltLXGdwOpWJUXhSlzcaGC\n",
       "ApI5noBQSLphacxVHpO3jhHJTzhEFr/rQjZsKwWT4bj0td3+lC0EDe3ildynqU6KR2r7WnCKxAKz\n",
       "+u99kXwLeo4R+Euq6HVwsJBo8CzhM6rEUPtwiOeja29im8lHsJeeYfmEwOZR1a+sVQzKpySSX8T9\n",
       "OsfaoRriBBrkyJveJFelz1Y8HtaXJcUq3Vwbf+jo0dgwbZs71zO11n80xj9w/NGVRF1eT6dAewpB\n",
       "iAeLPzzUs+QD68rOt5d5uPLk/+yrRwZxg9NFflY75HXLP3VcZvCoWeA8WrjOFcQCzyz96OvzUqg/\n",
       "xdz1AOwhlrqhzHS77nVpJgDxvrawgyLmOFH8woI0hHHOw9o5xf3gT0nrxzJA3O/UVLKeQjbGGuEh\n",
       "Y6YFMU40mmp2+fdfo64MHOcwveloI3H9WbqzJ5Z6L/D+9qjuos3jq7cSBY84hmlsPz6agHEgPMDs\n",
       "LXd5/JlT9GlgekFQZGtBTfKMkeBqTZejagyL4QXMCrmVOk/QfmBNYO5BGfckJETKll37MVN3wHhd\n",
       "EIzsz93oNTlEN81BiNXEhhcTPVoN3dF4OnVZMtKRHszw4YQD0Nv5sKcCZdwWI6QlLals1BYajTKX\n",
       "BSTU0UtI6w/I5A6X2ltBrCzc7OsEiza8MZCiakf0eJ94uxxbKrQZWL1j4kRl+WVrffkuFCQ5Ob7c\n",
       "dQQHlVGakjYW81tN5mXh0ksC78LFMRSofvWeKJIWzNxR3BrWNDU7UpT2BQGTyiSYMf2NXwOLooqW\n",
       "hMBt064NxJbrhOpdj49gvJIZjBuxA0BDREnlqgDYjXEbZIJyjmiMgqUyR+WI3SwawfC4dPOjBE/c\n",
       "r8mBGA63P880dUQTp5Vwt7ebhWVDn0oJVG5JneCLragcH2UmU0FOqNjgl3+JUPnhNXkVmzLgg/pq\n",
       "Ry7w0MviT1tr6NCPuAdgqIdN623jPV4zxZhCxsH0Trqxjs3F7QjXZdA86zb99+qFZDuFxjaAju76\n",
       "3JfMHCHvczl12kS+sH/KlHACVmb/bm4Qpp26nRcRH+rGN90msNNagDJMO4KYl0Bbf9Z3jHoy+7ln\n",
       "TBEwkwz/fjWIXEaIsky5HvDbjiGDGjWmf4qZEWOPQnwDnqHiKFE3JLjSexUOeANQg0pYVTODntNc\n",
       "WzxF2ARW7HSKUIjlj4wTdhnJFi8Fs5DoQQs7rdGZpuCATykq6BpsK9aIRTLhukBAc7wvXtMxeS+c\n",
       "UgnJAjANC36CcVTDMXWGTZOK2KMPQO40HbRXCtT7Q8RGXu0bNJ+tkPgsMnteRgI4+tm4W++Okf+b\n",
       "5+cXaBqNC4jumJ/uDIkAcqAxlRbeyubkujk0Q7dBkXiBpmbHnWQ3KFfEwePeV9oVJc3w8ET6R6Q8\n",
       "vBMvbL8LTcDStb5N3dZscn3pmi8Liz3lWAbGXeA+aJzsKKA6opHWQAAAAjVBn99FESwr/wIfYc0b\n",
       "BU9JBAYSqrkvpYsFYcsjxFI8wAK2dcMQc25GM86DhdO4Gvro6ym+YDq4uqBBtAPdfZNZmMtmkuDM\n",
       "ywEyOaVI2BfU12DGSr9lyFBxqJzvfzPg6VzAO0dI6KJsH9sCWbPyTzH4c+BnMYBuyaxTfILdv5Tn\n",
       "ZYWaG3FjUrxHI7SwPp7bea5wgkoj4jq6yfhrQ5mXwhkoussjHV4qP9C+XKJQaMZVTObn/8quKKzd\n",
       "FelLrh5FXlBZlbrgVIHdCBmlMSeMDCR92kIMKgpQvHFB70f6bRRfQQomePOWNROcOAhYWyzTQbk6\n",
       "sbNdpPiEdr52H+o6BOmlYIhkMLukkBBsDsWtZi5vTYvWHDp+a43i0L+bNV9YPFlEb5YjjobnD5ku\n",
       "4RG+rBMjFoo45pM9DoyZ3ZNVF6z7tZWsfIBQjLMzMZs06wAzHnZ1lBDQv0n0qj97jidAaMDGj894\n",
       "HjI9OZmUiqfVXEiPKNgqBoPdzSjLWqRkkKQVMwx4kLk3ndXmb2dt5JfkByapS9l8jGiYjtfQa5kA\n",
       "u/GKoek6d1uh5YAWG1smoc7gb9l2qTor2wYXmRAwOIfnDm3T0CTKyLK7w2lvy19IJl5SUFvxGcyy\n",
       "5Ri8e64JPdaS205zHwf7yDo1f8LPVdXNO3WUnKFVapzF5jA9StrsA+1c5/OVWzLHX0SOCRFSXGdP\n",
       "psnJr/kVaRIlr7Q9NCsZrXwTbxvlR5Gz8gOxB4UV8b71utFZkQuhAAAB1gGf4GpCvwCxD1Oz4CHy\n",
       "2Sc9v3ZJYaTAooJ9AkHnfYIAWVgLCD9lUF98xrSx7Ou2ot7t1HZ8Duqw5g32B3Uypg9f4Cdw3zGJ\n",
       "kLjSNjj8pyx11KK7Nmb+JLvcNlrbwv0CjpoY55RCN0LEa6ecS1ChbtyU4RQRoFwlgnWKO2UVhZ+G\n",
       "yZ/VjtpfMhFivXgG7ZEI4g+L9Q1GOdXM9JHswR/5LM4k1oqSVVJ+0UrNb3Wrcb9jfHIb9yHbAOlt\n",
       "IrI0l34Ybp7wgSPii2iWdZ+Nye3R0Z63n9t83DKwXa9WDvnMvzyUp6IuHpl5+HjPUe1OM4jHTN/J\n",
       "VHLxe6ZGv9raFNMP7p4X5+QsKwo2aTygK4qcK3cO6kiGieusMKgiW2w1FYloU3MxwdxKVhEwQ72/\n",
       "a5zYySUUYQpfHTqaFls0CMQ9catXZzGQdxzau061VaEr/x+fomyoWuuvC8yWblYAq0dnv4atmFCC\n",
       "4ToJt7PJnZPF5Xh/RWoxqkXjvJHvnUIeFFkfCtT7z+j75tBECTW8wNp+BeD4p6HQI6Txv1TTeBJA\n",
       "yaC8V+a6LC9mGEZvmOxye86e7NF4RJup4cKFvKtJZcvx7hccpwLoMkQ7Lk2euEBEJJecd6Z1Kplo\n",
       "AAACUUGb40moQWyZTBRMK//+OEAMzAPtAAbOTSh/NaqWcGbF3RPMwUnYhpj7Oim8OCDEG6Z5y+Xa\n",
       "wt5v+/HxQCEO8xbAbbsgToS+7clMpVxx0mYA4DeOzXm/LCJypQqrcSxaSrpVPXMRdGdG+fE9jR9E\n",
       "tRR0wciysvObBXWfyD5CnIMiJDib2Hx1xU6iilArMfmU/9Cv7dwUG4pP9BPqLvifBT1vF3yPRgQt\n",
       "8Wd/a1tCQhWgTAL9QozxnCBr2MvkBvtqXBnVLw2j3PzwK9GTCnWjlcokGsJNO9/VLP2k14IMdktZ\n",
       "qCXLudLcWWvEGI9P9qcFODv7Ugu71HrfulaF9oeruD4OAzY5Yu+ejCBaLDA/zI3Ly7G1ulvs0QlB\n",
       "+yP4mLW9MbFjBY9NuTCBCyxsDsNuGQweMTclgKYP+78XMoJ6cbkk8nCVrA/xwv4XkkVAyzdR6FQy\n",
       "k0nBOn+PBZZgiPJfoEy8C5YErlNPeH0Hp19PZzvFZtcOzQLZP9i0ae6AMu/xZih5ZYjOiniCJGOP\n",
       "phLnHATTagsPzVh9dD1XWTMcxnwiaoyEeoLddzwUd9reYIN+0SJQ1cN2TcRUZZpwQV6CKspgHaoj\n",
       "nGOV7VgIeocMacgUeGPx7jrL4uQT2mPLeViq59WENhewsnxzAFP2GgLATErrqY4njU1NVI6wmOuN\n",
       "OZZXO/bj7BadTG4MM4FxWrl7rWODyQ6DzB9r7pI1sI9i+8gUE51mjn8kCmrYjRRQNCIMgLx24RHM\n",
       "kuaIFMatutKhCG3+QGB/8jh/5RiZyPt+wUlJAAABJQGeAmpCvwIfYc0bBXiNCYjdARMHnPkM48rD\n",
       "BACXnGmkuMatNU49SeoP99rabCrfzl5oUCAvIUDAJDJhBWoBahS5tWKtPhDkRYVP0n0tw5T03Gy6\n",
       "bvkTlNwBVGvY/axvSKqQirtzgSJzqcNc5WzR981qEo67HSAEnYVfzbCRYyky9FeMtYop5B0hL/mF\n",
       "28u7g/wUslU1rJje5o14RjxI8Gl5VlolgMo5T9YYB/6u2D/4Xy9skr5iMPnTegfpCinUgLNhbFE5\n",
       "e/tXX2/yq51LQhiVBfzV0/OyCEdv3zpvwZ1bQHw7GzV0qrQMH/qT84LBb4/i4KVzntIpq9lxSu8N\n",
       "6fh7I/jG5joGXJtVQZ4xLtiXL1UqHvFETsJDoSN2fUwWa5w94t7pAAAHZm1vb3YAAABsbXZoZAAA\n",
       "AAAAAAAAAAAAAAAAA+gAAA+gAAEAAAEAAAAAAAAAAAAAAAABAAAAAAAAAAAAAAAAAAAAAQAAAAAA\n",
       "AAAAAAAAAAAAQAAAAAAAAAAAAAAAAAAAAAAAAAAAAAAAAAAAAAAAAAIAAAaQdHJhawAAAFx0a2hk\n",
       "AAAAAwAAAAAAAAAAAAAAAQAAAAAAAA+gAAAAAAAAAAAAAAAAAAAAAAABAAAAAAAAAAAAAAAAAAAA\n",
       "AQAAAAAAAAAAAAAAAAAAQAAAAAGwAAABIAAAAAAAJGVkdHMAAAAcZWxzdAAAAAAAAAABAAAPoAAA\n",
       "BAAAAQAAAAAGCG1kaWEAAAAgbWRoZAAAAAAAAAAAAAAAAAAAMgAAAMgAVcQAAAAAAC1oZGxyAAAA\n",
       "AAAAAAB2aWRlAAAAAAAAAAAAAAAAVmlkZW9IYW5kbGVyAAAABbNtaW5mAAAAFHZtaGQAAAABAAAA\n",
       "AAAAAAAAAAAkZGluZgAAABxkcmVmAAAAAAAAAAEAAAAMdXJsIAAAAAEAAAVzc3RibAAAALNzdHNk\n",
       "AAAAAAAAAAEAAACjYXZjMQAAAAAAAAABAAAAAAAAAAAAAAAAAAAAAAGwASAASAAAAEgAAAAAAAAA\n",
       "AQAAAAAAAAAAAAAAAAAAAAAAAAAAAAAAAAAAAAAAAAAAABj//wAAADFhdmNDAWQAFf/hABhnZAAV\n",
       "rNlBsJaEAAADAAQAAAMAyDxYtlgBAAZo6+PLIsAAAAAcdXVpZGtoQPJfJE/FujmlG88DI/MAAAAA\n",
       "AAAAGHN0dHMAAAAAAAAAAQAAAGQAAAIAAAAAFHN0c3MAAAAAAAAAAQAAAAEAAAK4Y3R0cwAAAAAA\n",
       "AABVAAAAAgAABAAAAAABAAAKAAAAAAEAAAQAAAAAAQAAAAAAAAABAAACAAAAAAEAAAYAAAAAAQAA\n",
       "AgAAAAABAAAKAAAAAAEAAAQAAAAAAQAAAAAAAAABAAACAAAAAAEAAAQAAAAAAQAACAAAAAACAAAC\n",
       "AAAAAAEAAAQAAAAAAQAACAAAAAACAAACAAAAAAIAAAQAAAAAAQAABgAAAAABAAACAAAAAAEAAAQA\n",
       "AAAAAQAABgAAAAABAAACAAAAAAEAAAoAAAAAAQAABAAAAAABAAAAAAAAAAEAAAIAAAAAAQAACgAA\n",
       "AAABAAAEAAAAAAEAAAAAAAAAAQAAAgAAAAABAAAIAAAAAAIAAAIAAAAAAQAABAAAAAABAAAIAAAA\n",
       "AAIAAAIAAAAAAQAABAAAAAABAAAGAAAAAAEAAAIAAAAAAgAABAAAAAABAAAGAAAAAAEAAAIAAAAA\n",
       "AQAACAAAAAACAAACAAAAAAEAAAoAAAAAAQAABAAAAAABAAAAAAAAAAEAAAIAAAAAAQAABgAAAAAB\n",
       "AAACAAAAAAIAAAQAAAAAAQAACAAAAAACAAACAAAAAAEAAAYAAAAAAQAAAgAAAAABAAAIAAAAAAIA\n",
       "AAIAAAAAAQAABgAAAAABAAACAAAAAAEAAAQAAAAAAQAACAAAAAACAAACAAAAAAEAAAoAAAAAAQAA\n",
       "BAAAAAABAAAAAAAAAAEAAAIAAAAAAQAABgAAAAABAAACAAAAAAEAAAoAAAAAAQAABAAAAAABAAAA\n",
       "AAAAAAEAAAIAAAAAAgAABAAAAAABAAAGAAAAAAEAAAIAAAAAAQAABAAAAAABAAAGAAAAAAEAAAIA\n",
       "AAAAAQAABAAAAAABAAAIAAAAAAIAAAIAAAAAAQAACAAAAAACAAACAAAAAAEAAAYAAAAAAQAAAgAA\n",
       "AAAcc3RzYwAAAAAAAAABAAAAAQAAAGQAAAABAAABpHN0c3oAAAAAAAAAAAAAAGQAAB4ZAAACqwAA\n",
       "BpIAAAMMAAABfQAAAc4AAAWFAAAB8gAABl0AAANHAAAB4AAAAegAAAQVAAAGuwAAAs4AAAH6AAAE\n",
       "ygAABvoAAAH7AAABwQAABAQAAASoAAAFSAAAAXgAAAMOAAABNAAAALoAAAXhAAACawAAAT8AAAGP\n",
       "AAAGawAAAq4AAAHhAAACHwAABa4AAAKSAAACHwAABQsAAAeCAAACoQAAAccAAARiAAAFjgAAAbwA\n",
       "AARvAAAExQAABWQAAAFrAAAARgAAAZwAAABKAAAFHQAAAoUAAAFbAAABfgAABKwAAAG0AAADsgAA\n",
       "A4UAAAXPAAAClgAAAh4AAAaEAAACOgAAB7UAAAJqAAAB4QAABVYAAAGpAAAEdwAABpoAAAIaAAAB\n",
       "PAAAAoUAAAGKAAAA1QAAARoAAATKAAABoAAABk4AAALcAAABWwAAAdYAAAONAAAEGQAABU4AAAJC\n",
       "AAAEngAABiMAAAH5AAAEFgAABg8AAAIjAAABugAABZEAAAI5AAAB2gAAAlUAAAEpAAAAFHN0Y28A\n",
       "AAAAAAAAAQAAACwAAABidWR0YQAAAFptZXRhAAAAAAAAACFoZGxyAAAAAAAAAABtZGlyYXBwbAAA\n",
       "AAAAAAAAAAAAAC1pbHN0AAAAJal0b28AAAAdZGF0YQAAAAEAAAAATGF2ZjU4LjEyLjEwMA==\n",
       "\">\n",
       "  Your browser does not support the video tag.\n",
       "</video>"
      ],
      "text/plain": [
       "<IPython.core.display.HTML object>"
      ]
     },
     "execution_count": 56,
     "metadata": {},
     "output_type": "execute_result"
    }
   ],
   "source": [
    "# Show the animation\n",
    "HTML(ani.to_html5_video())"
   ]
  },
  {
   "cell_type": "code",
   "execution_count": 57,
   "metadata": {
    "slideshow": {
     "slide_type": "skip"
    }
   },
   "outputs": [],
   "source": [
    "# Save the animation\n",
    "ani.save('PluckMiddle.mp4')"
   ]
  },
  {
   "cell_type": "markdown",
   "metadata": {
    "slideshow": {
     "slide_type": "slide"
    }
   },
   "source": [
    "## Some videos"
   ]
  },
  {
   "cell_type": "markdown",
   "metadata": {},
   "source": [
    "I find them cool and instructive."
   ]
  },
  {
   "cell_type": "markdown",
   "metadata": {
    "slideshow": {
     "slide_type": "skip"
    }
   },
   "source": [
    "### Bowed Violin String in Slow Motion\n",
    "\n",
    "https://youtu.be/6JeyiM0YNo4"
   ]
  },
  {
   "cell_type": "code",
   "execution_count": 58,
   "metadata": {
    "slideshow": {
     "slide_type": "subslide"
    }
   },
   "outputs": [
    {
     "data": {
      "text/html": [
       "<iframe width=\"560\" height=\"315\" src=\"https://www.youtube.com/embed/6JeyiM0YNo4?start=55\" frameborder=\"0\" allowfullscreen></iframe>"
      ],
      "text/plain": [
       "<IPython.core.display.HTML object>"
      ]
     },
     "execution_count": 58,
     "metadata": {},
     "output_type": "execute_result"
    }
   ],
   "source": [
    "from IPython.display import HTML\n",
    "HTML('<iframe width=\"560\" height=\"315\" src=\"https://www.youtube.com/embed/6JeyiM0YNo4?start=55\" frameborder=\"0\" allowfullscreen></iframe>')"
   ]
  },
  {
   "cell_type": "markdown",
   "metadata": {
    "slideshow": {
     "slide_type": "notes"
    }
   },
   "source": [
    "About this video of a violin string, note that:\n",
    "\n",
    "* The oscillation is created by the bow of the violin, sticking-and-slipping (this is actually a real expression) at a frequency that resonates with the oscillation we see.\n",
    "* When the bow is removed, towards the end of the video, you can see that very quickly, the oscillation becomes like a fundamental oscillation, and nothing else, the kink is gone. That's because in reality, there is damping, and the higher the harmonic is, the stronger the damping acts on it. Indeed, as we saw before, the kink is reproduced by very high modes, and those modes oscillate faster. Assuming (and this is actually a conservative assumption) that the damping force on a mode $n$ can be modeled as something like $-b\\dot y$ again, then it proportional to the frequency: $F_{damping} \\propto \\sum -\\omega_n\\alpha_n\\sin(\\omega_n t)\\sin(k_nx)$. Therefore, the higher a mode is, the faster the damping is. After a short period of time, damping has killed all the modes but the fundamental, which is the last harmonic standing (pun intended).\n",
    "* The violin is out-of-tune to visualize a pattern. The string's oscillations are way too large for a functioning violin."
   ]
  },
  {
   "cell_type": "markdown",
   "metadata": {
    "slideshow": {
     "slide_type": "skip"
    }
   },
   "source": [
    "### Chladni Plate\n",
    "\n",
    "https://youtu.be/wvJAgrUBF4w to complement the class demo."
   ]
  },
  {
   "cell_type": "code",
   "execution_count": 59,
   "metadata": {
    "slideshow": {
     "slide_type": "subslide"
    }
   },
   "outputs": [
    {
     "data": {
      "text/html": [
       "<iframe width=\"560\" height=\"315\" src=\"https://www.youtube.com/embed/wvJAgrUBF4w\" frameborder=\"0\" allowfullscreen></iframe>"
      ],
      "text/plain": [
       "<IPython.core.display.HTML object>"
      ]
     },
     "execution_count": 59,
     "metadata": {},
     "output_type": "execute_result"
    }
   ],
   "source": [
    "HTML('<iframe width=\"560\" height=\"315\" src=\"https://www.youtube.com/embed/wvJAgrUBF4w\" frameborder=\"0\" allowfullscreen></iframe>')"
   ]
  },
  {
   "cell_type": "markdown",
   "metadata": {
    "slideshow": {
     "slide_type": "-"
    }
   },
   "source": [
    "For an in-house explanation, see the web page, created by our very own Prof. Stephen Morris: https://www.physics.utoronto.ca/~nonlin/chladni.html"
   ]
  },
  {
   "cell_type": "markdown",
   "metadata": {
    "slideshow": {
     "slide_type": "skip"
    }
   },
   "source": [
    "### Fourier Analysis (and guitar jammin')\n",
    "\n",
    "https://youtu.be/u1Lz8pm2npQ\n",
    "\n",
    "I love it and I hate it: this guy makes me look lame. Goes way beyond what I covered, in a compressed amount of time."
   ]
  },
  {
   "cell_type": "code",
   "execution_count": 60,
   "metadata": {
    "scrolled": true,
    "slideshow": {
     "slide_type": "subslide"
    }
   },
   "outputs": [
    {
     "data": {
      "text/html": [
       "<iframe width=\"560\" height=\"315\" src=\"https://www.youtube.com/embed/u1Lz8pm2npQ\" frameborder=\"0\" allowfullscreen></iframe>"
      ],
      "text/plain": [
       "<IPython.core.display.HTML object>"
      ]
     },
     "execution_count": 60,
     "metadata": {},
     "output_type": "execute_result"
    }
   ],
   "source": [
    "HTML('<iframe width=\"560\" height=\"315\" src=\"https://www.youtube.com/embed/u1Lz8pm2npQ\" frameborder=\"0\" allowfullscreen></iframe>')"
   ]
  },
  {
   "cell_type": "markdown",
   "metadata": {
    "slideshow": {
     "slide_type": "skip"
    }
   },
   "source": [
    "### Ruben's Tubes\n",
    "\n",
    "https://youtu.be/2awbKQ2DLRE\n",
    "\n",
    "The first minute of the video is pretty instructive, but the entire video is like a pyrotechnical version of a Chladni plate."
   ]
  },
  {
   "cell_type": "code",
   "execution_count": 61,
   "metadata": {
    "scrolled": false,
    "slideshow": {
     "slide_type": "subslide"
    }
   },
   "outputs": [
    {
     "data": {
      "text/html": [
       "<iframe width=\"560\" height=\"315\" src=\"https://www.youtube.com/embed/2awbKQ2DLRE\" frameborder=\"0\" allowfullscreen></iframe>"
      ],
      "text/plain": [
       "<IPython.core.display.HTML object>"
      ]
     },
     "execution_count": 61,
     "metadata": {},
     "output_type": "execute_result"
    }
   ],
   "source": [
    "HTML('<iframe width=\"560\" height=\"315\" src=\"https://www.youtube.com/embed/2awbKQ2DLRE\" frameborder=\"0\" allowfullscreen></iframe>')"
   ]
  },
  {
   "cell_type": "markdown",
   "metadata": {
    "slideshow": {
     "slide_type": "skip"
    }
   },
   "source": [
    "### The Walking Water Mystery\n",
    "\n",
    "https://youtu.be/KJDEsAy9RyM\n",
    "\n",
    "The connection with standing waves may not be obvious at first. Jump to 4'15 or 8'14 if you are impatient, but the whole thing is worth a watch. Awesome stuff at 9'30."
   ]
  },
  {
   "cell_type": "code",
   "execution_count": 62,
   "metadata": {
    "slideshow": {
     "slide_type": "subslide"
    }
   },
   "outputs": [
    {
     "data": {
      "text/html": [
       "<iframe width=\"560\" height=\"315\" src=\"https://www.youtube.com/embed/KJDEsAy9RyM\" frameborder=\"0\" allowfullscreen></iframe>"
      ],
      "text/plain": [
       "<IPython.core.display.HTML object>"
      ]
     },
     "execution_count": 62,
     "metadata": {},
     "output_type": "execute_result"
    }
   ],
   "source": [
    "HTML('<iframe width=\"560\" height=\"315\" src=\"https://www.youtube.com/embed/KJDEsAy9RyM\" frameborder=\"0\" allowfullscreen></iframe>')"
   ]
  },
  {
   "cell_type": "markdown",
   "metadata": {
    "slideshow": {
     "slide_type": "skip"
    }
   },
   "source": [
    "*** \n",
    "\n",
    "*End of 4 October lecture, beginning of 7 October lecture.*\n",
    "\n",
    "***"
   ]
  },
  {
   "cell_type": "markdown",
   "metadata": {
    "slideshow": {
     "slide_type": "skip"
    }
   },
   "source": [
    "# Energy of Standing Waves\n",
    "\n",
    "*[King: §§ 6.3 and 6.4.4; skipped parts of the derivations also found in § 5.5]*"
   ]
  },
  {
   "cell_type": "markdown",
   "metadata": {
    "slideshow": {
     "slide_type": "skip"
    }
   },
   "source": [
    "The energy per unit length of the string is (cf. King § 5.5):\n",
    "$$E =  \\frac12 \\mu \\int_0^L \\left[\\left(\\pde{y}t\\right)^2 + v^2\\left(\\pde{y}x\\right)^2 \\right]\\di x,$$\n",
    "where the first part in the integral corresponds to the kinetic energy and the second part corresponds to the potential energy stored when the string moves away from its rest position ad gets stretched or compressed a little."
   ]
  },
  {
   "cell_type": "markdown",
   "metadata": {
    "slideshow": {
     "slide_type": "skip"
    }
   },
   "source": [
    "## Single Mode"
   ]
  },
  {
   "cell_type": "markdown",
   "metadata": {
    "slideshow": {
     "slide_type": "skip"
    }
   },
   "source": [
    "For a single mode, and assuming for simplicity that $V(x) = 0$,\n",
    "$$y(t, x) = y_n(t, x) = A_n \\cos(\\omega_n t)\\sin(k_n x),$$\n",
    "$$\\pde{y}t = -\\omega_n A_n \\sin(\\omega_n t)\\sin(k_n x),\\textrm{ and}$$\n",
    "$$\\pde{y}x = k_n A_n \\cos(\\omega_n t)\\cos(k_n x).$$"
   ]
  },
  {
   "cell_type": "markdown",
   "metadata": {
    "slideshow": {
     "slide_type": "skip"
    }
   },
   "source": [
    "Substituting into the expression for energy,\n",
    "\\begin{align*}\n",
    "    E_n & = \\frac12 \\mu \\int_0^L \\left[\\omega_n^2 A_n^2 \\sin^2(\\omega_n t)\\sin^2(k_n x)  + v^2k_n^2 A_n^2 \\cos^2(\\omega_n t)\\cos^2(k_n x)\\right]\\di x, \\\\\n",
    "        & = \\frac12 \\mu \\omega_n^2 A_n^2 \\left[\\sin^2(\\omega_n t)\\int_0^L \\sin^2(k_n x)\\di x + \\cos^2(\\omega_n t)\\int_0^L\\cos^2(k_n x)\\di x\\right].\n",
    "\\end{align*}"
   ]
  },
  {
   "cell_type": "markdown",
   "metadata": {
    "slideshow": {
     "slide_type": "skip"
    }
   },
   "source": [
    "You can compute (in which case you could use $\\cos^2 + \\sin^2 = 1$), or remember the normalization of the inner product $\\odot$, or convince yourself by drawing $\\cos^2$ and $\\sin^2$, that the two integrals are the same:\n",
    "$$\\int_0^L \\sin^2(k_n x)\\di x = \\int_0^L \\cos^2(k_n x)\\di x = \\frac{L}2.$$"
   ]
  },
  {
   "cell_type": "markdown",
   "metadata": {
    "slideshow": {
     "slide_type": "skip"
    }
   },
   "source": [
    "And because $\\cos^2(\\omega_n t) + \\sin^2(\\omega_n t) = 1$,\n",
    "$$\\boxed{E_n = \\frac14\\mu L\\omega_n^2 A_n^2}.$$"
   ]
  },
  {
   "cell_type": "markdown",
   "metadata": {
    "slideshow": {
     "slide_type": "skip"
    }
   },
   "source": [
    "The expression above may look silly to remember, but there actually is physics in there, it is not so complicated, and I would like you to remember it.\n",
    "The energy of the SHO was already $kA^2/2 = m\\omega_0^2 A^2/2$, and so, if you could remember the energy of the SHO, you can remember this one.\n",
    "\n",
    "* $E_n \\propto m = \\mu L$, the mass of the string. Why not.\n",
    "* $E_n \\propto A_n^2$: quadratic dependence of the energy on the amplitude, a super-duper general statement that you have been needing to remember from the start of this lecture series,\n",
    "* $E_n \\propto \\omega_n^2$: looking straight at it, this looks new. But the energy of the SHO was already proportional to $k = m\\omega_0^2$, so, this is actually not that new. But it is important to remember it this way! \"Everything else being equal, a mode that oscillates twice as fast has four times the energy.\"\n",
    "* Factor 1/4: we all wish it was 1/2, for the sake of remembering better. Oh well. Don't worry though, you don't have to remember it."
   ]
  },
  {
   "cell_type": "markdown",
   "metadata": {
    "slideshow": {
     "slide_type": "skip"
    }
   },
   "source": [
    "If we had different boundary conditions, we may have a combination of $\\sin(k_n x)$ and $\\cos(k_n x)$ in $y_n(t, x)$, but the derivation would be conceptually the same."
   ]
  },
  {
   "cell_type": "markdown",
   "metadata": {
    "slideshow": {
     "slide_type": "skip"
    }
   },
   "source": [
    "## Many modes"
   ]
  },
  {
   "cell_type": "markdown",
   "metadata": {
    "slideshow": {
     "slide_type": "skip"
    }
   },
   "source": [
    "With more than one mode,\n",
    "$$ y(t, x) = \\sum_{n=1}^\\infty A_n \\cos(\\omega_n t + \\phi_n)\\sin(k_n x).$$\n",
    "Let's discard $\\phi_n$, for example by assuming $V(x) = 0$."
   ]
  },
  {
   "cell_type": "markdown",
   "metadata": {
    "slideshow": {
     "slide_type": "skip"
    }
   },
   "source": [
    "\\begin{align*}\n",
    "    \\pde{y}t & = -\\sum_{n=1}^\\infty \\omega_n A_n \\sin(\\omega_n t)\\sin(k_n x),\\textrm{ and}\\\\\n",
    "    \\left(\\pde{y}t\\right)^2 & = \\left[\\sum_{n=1}^\\infty \\omega_n A_n \\sin(\\omega_n t)\\sin(k_n x)\\right]\\left[\\sum_{m=1}^\\infty \\omega_m A_m \\sin(\\omega_m t)\\sin(k_m x)\\right] \\\\\n",
    "                            & = \\sum_{n=1}^\\infty \\left(\\omega_n A_n \\sin(\\omega_n t)\\sin(k_n x)\\right)^2 + 2\\sum_{m=1}^\\infty\\sum_{n=m+1}^\\infty \\omega_m A_m\\omega_n A_n \\sin(\\omega_m t)\\sin(k_m x)\\sin(\\omega_n t)\\sin(k_n x).\n",
    "\\end{align*}"
   ]
  },
  {
   "cell_type": "markdown",
   "metadata": {
    "slideshow": {
     "slide_type": "skip"
    }
   },
   "source": [
    "Notice the $2\\sum_{m=1}^{\\infty}\\sum_{n=m+1}^{\\infty}$ double sum (like I need to remind you of it).\n",
    "The factor 2 is here because each term that has $m\\neq n$ will appear twice, say, the couples $\\{m=1, n=2\\}$ and $\\{m=2, n=1\\}$ each appear once, but lead to the same expression. Might as well just sum them once by starting with $n=m+1$, but make them count twice.\n",
    "We start the second sum at $n=m+1$, not $n=m$, because the $n=m$ case is treated separately, in the first summation."
   ]
  },
  {
   "cell_type": "markdown",
   "metadata": {
    "slideshow": {
     "slide_type": "skip"
    }
   },
   "source": [
    "Before going any further, let us not forget that eventually, we will integrate these sums over $[0, L]$.\n",
    "In particular, the double sum will only contain terms proportional to \n",
    "$$\\int_0^L\\sin(k_m x)\\sin(k_n x) \\di x = 0\\quad \\textrm{because}\\quad n\\neq m.$$\n",
    "Therefore, \n",
    "$$ \\int_0^L \\left(\\pde{y}t\\right)^2 \\di x = \\sum_{n=1}^\\infty \\int_0^L \\left[\\omega_n A_n \\sin(\\omega_n t)\\sin(k_n x)\\right]^2 \\di x = \\sum_{n=1}^\\infty \\int_0^L \\left(\\pde{y_n}{t}\\right)^2 \\di x. $$\n"
   ]
  },
  {
   "cell_type": "markdown",
   "metadata": {
    "slideshow": {
     "slide_type": "skip"
    }
   },
   "source": [
    "A very similar derivation leads to\n",
    "$$ \\int_0^L\\left(\\pde{y}x\\right)^2\\di x = \\sum_{n=1}^\\infty\\int_0^L \\left(\\pde{y_n}{x}\\right)^2 \\di x, $$\n",
    "and therefore,\n",
    "$$\\boxed{E = \\sum_{n=1}^\\infty E_n} = \\frac{1}{4}\\mu L \\sum_{n=1}^\\infty \\omega_n^2 A_n^2.$$\n",
    "\n",
    "If you look back on your lectures on Fourier series, there should be a piece about Parseval's theorem. You may realize that the framed expression above is actually an application of it."
   ]
  },
  {
   "cell_type": "markdown",
   "metadata": {
    "slideshow": {
     "slide_type": "skip"
    }
   },
   "source": [
    "Just like for coupled oscillators, **each mode has its own energy, it does not communicate it to any other mode, and the total energy is the sum of the energy of each mode.** Remember it!"
   ]
  },
  {
   "cell_type": "markdown",
   "metadata": {
    "slideshow": {
     "slide_type": "skip"
    }
   },
   "source": [
    "## Power Spectra"
   ]
  },
  {
   "cell_type": "markdown",
   "metadata": {
    "slideshow": {
     "slide_type": "skip"
    }
   },
   "source": [
    "Power spectra are plots of $E_n$ vs. $\\omega_n$. The result is a bar plot like the amplitude spectra I showed before. \n",
    "The most visually striking differences would be that all values would be positive, and the bars heights would fall off more rapidly as $n$ increases, because $E_n \\propto A_n^2\\omega_n^2$ instead of $A_n$.\n",
    "Power spectra are much more widely used that amplitude spectra."
   ]
  }
 ],
 "metadata": {
  "anaconda-cloud": {},
  "celltoolbar": "Slideshow",
  "kernelspec": {
   "display_name": "Python [default]",
   "language": "python",
   "name": "python3"
  },
  "language_info": {
   "codemirror_mode": {
    "name": "ipython",
    "version": 3
   },
   "file_extension": ".py",
   "mimetype": "text/x-python",
   "name": "python",
   "nbconvert_exporter": "python",
   "pygments_lexer": "ipython3",
   "version": "3.5.6"
  }
 },
 "nbformat": 4,
 "nbformat_minor": 1
}
