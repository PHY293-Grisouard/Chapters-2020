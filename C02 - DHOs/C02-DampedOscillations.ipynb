{
 "cells": [
  {
   "cell_type": "raw",
   "metadata": {
    "raw_mimetype": "text/latex",
    "scrolled": true,
    "slideshow": {
     "slide_type": "skip"
    }
   },
   "source": [
    "\\newcommand{\\rads}{~rad.s$^{-1}$}\n",
    "\\newcommand{\\BV}{Brunt-V\\\"ais\\\"al\\\"a{} }\n",
    "\\newcommand{\\bnabla}{\\boldsymbol{\\nabla}}\n",
    "\\newcommand{\\eexp}[1]{\\textrm{e}^{#1}}\n",
    "\\newcommand{\\glm}[1]{\\overline{#1}^L}\n",
    "\\newcommand{\\di}[0]{\\textrm{d}}\n",
    "\\newcommand{\\bs}[1]{\\boldsymbol{#1}}\n",
    "\\newcommand{\\ode}[2]{\\frac{\\di {#1}}{\\di {#2}}}\n",
    "\\newcommand{\\oden}[3]{\\frac{\\di^{#1} {#2}}{\\di {#3}^{#1}}}\n",
    "\\newcommand{\\odel}[2]{\\di {#1}/\\di {#2}}\n",
    "\\newcommand{\\odeln}[3]{\\di^{#1} {#2}/\\di {#3}^{#1}}\n",
    "\\newcommand{\\pde}[2]{\\frac{\\partial {#1}}{\\partial {#2}}}\n",
    "\\newcommand{\\pden}[3]{\\frac{\\partial^{#1} {#2}}{\\partial {#3}^{#1}}}\n",
    "\\newcommand{\\pdel}[2]{\\partial_{#2} {#1}}\n",
    "\\newcommand{\\pdenl}[3]{\\partial^{#1}_{#3} {#2}}\n",
    "\\newcommand{\\divr}[1]{\\vec\\nabla \\cdot {#1}}\n",
    "\\newcommand{\\divrb}[1]{\\boldsymbol{\\nabla} \\cdot {#1}}\n",
    "\\newcommand{\\grad}[1]{\\vec \\nabla {#1}}\n",
    "\\newcommand{\\gradb}[1]{\\boldsymbol\\nabla {#1}}\n",
    "\\newcommand{\\curl}[1]{\\vec\\nabla \\times {#1}}\n",
    "\\newcommand{\\curlb}[1]{\\boldsymbol{\\nabla}\\times\\boldsymbol{#1}}\n",
    "\\newcommand{\\lapl}[0]{\\vec\\nabla^2}\n",
    "\\newcommand{\\laplb}[0]{\\boldsymbol{\\nabla}^2}\n",
    "\\newcommand{\\cplxi}[0]{\\mathrm i}\n",
    "\\newcommand{\\unit}[1]{\\mathbf{\\hat{#1}}}\n",
    "\\newcommand{\\red}[1]{\\textcolor{red}{#1}}\n",
    "\\newcommand{\\blue}[1]{\\textcolor{blue}{#1}}\n",
    "\\newcommand{\\mage}[1]{\\textcolor{magenta}{#1}}"
   ]
  },
  {
   "cell_type": "raw",
   "metadata": {
    "raw_mimetype": "text/latex",
    "slideshow": {
     "slide_type": "skip"
    }
   },
   "source": [
    "\\DefineVerbatimEnvironment{Verbatim}{Verbatim}{fontsize=\\scriptsize}"
   ]
  },
  {
   "cell_type": "markdown",
   "metadata": {
    "slideshow": {
     "slide_type": "skip"
    }
   },
   "source": [
    "$\\newcommand{\\rads}{~rad.s$^{-1}$}$\n",
    "$\\newcommand{\\bnabla}{\\boldsymbol{\\nabla}}$\n",
    "$\\newcommand{\\eexp}[1]{\\text{e}^{#1}}$\n",
    "$\\newcommand{\\glm}[1]{\\overline{#1}^L}$\n",
    "$\\newcommand{\\di}[0]{\\textrm{d}}$\n",
    "$\\newcommand{\\bs}[1]{\\boldsymbol{#1}}$\n",
    "$\\newcommand{\\ode}[2]{\\frac{\\di {#1}}{\\di {#2}}}$\n",
    "$\\newcommand{\\oden}[3]{\\frac{\\di^{#1} {#2}}{\\di {#3}^{#1}}}$\n",
    "$\\newcommand{\\odel}[2]{\\di {#1}/\\di {#2}}$\n",
    "$\\newcommand{\\odeln}[3]{\\di^{#1} {#2}/\\di {#3}^{#1}}$\n",
    "$\\newcommand{\\pde}[2]{\\frac{\\partial {#1}}{\\partial {#2}}}$\n",
    "$\\newcommand{\\pden}[3]{\\frac{\\partial^{#1} {#2}}{\\partial {#3}^{#1}}}$\n",
    "$\\newcommand{\\pdel}[2]{\\partial_{#2} {#1}}$\n",
    "$\\newcommand{\\pdenl}[3]{\\partial^{#1}_{#3} {#2}}$\n",
    "$\\newcommand{\\mde}[1]{\\frac{\\textrm{D} {#1}}{\\textrm{D} t}}$\n",
    "$\\newcommand{\\mdel}[1]{\\textrm{D}_t {#1}}$\n",
    "$\\newcommand{\\divr}[1]{\\vec\\nabla \\cdot {#1}}$\n",
    "$\\newcommand{\\divrb}[1]{\\boldsymbol{\\nabla} \\cdot {#1}}$\n",
    "$\\newcommand{\\grad}[1]{\\vec \\nabla {#1}}$\n",
    "$\\newcommand{\\gradb}[1]{\\boldsymbol\\nabla {#1}}$\n",
    "$\\newcommand{\\curl}[1]{\\vec\\nabla \\times {#1}}$\n",
    "$\\newcommand{\\curlb}[1]{\\boldsymbol{\\nabla}\\times\\boldsymbol{#1}}$\n",
    "$\\newcommand{\\lapl}[0]{\\vec\\nabla^2}$\n",
    "$\\newcommand{\\laplb}[0]{\\boldsymbol{\\nabla}^2}$\n",
    "$\\newcommand{\\cplxi}[0]{\\mathrm i}$\n",
    "$\\newcommand{\\unit}[1]{\\mathbf{\\hat{#1}}}$\n",
    "$\\newcommand{\\thrfor}[0]{\\quad\\Rightarrow\\quad}$\n",
    "$\\newcommand{\\red}[1]{\\textcolor{red}{#1}}$\n",
    "$\\newcommand{\\blue}[1]{\\textcolor{blue}{#1}}$\n",
    "$\\newcommand{\\mage}[1]{\\textcolor{magenta}{#1}}$"
   ]
  },
  {
   "cell_type": "code",
   "execution_count": 3,
   "metadata": {
    "slideshow": {
     "slide_type": "skip"
    }
   },
   "outputs": [],
   "source": [
    "from IPython.display import Image, display, YouTubeVideo"
   ]
  },
  {
   "cell_type": "markdown",
   "metadata": {
    "slideshow": {
     "slide_type": "skip"
    }
   },
   "source": [
    "*[King § 2]*\n",
    "\n",
    "In the previous chapter, we introduced the importance of second-order ODEs in the description of simple oscillators. \n",
    "But our oscillations went on forever, which of course is not realistic: the mass attached to the spring eventually comes to rest, and electrical oscillations eventually come to a stop because there is always some electric resistance in any circuit.\n",
    "\n",
    "This is because almost every physical system contains dissipative processes, which slowly leak energy out to the wider world (often in the form of heat).\n",
    "Fortunately for us, many of these processes are proportional to the velocity (or its equivalent).\n",
    "This has the advantage of being mathematically relatively simple, and that they do not change the second-order nature of the ODE we need to solve.\n",
    "\n",
    "Again, the physics of how the dissipation processes are measured is contained in the additional coefficient. It is usually very hard to predict theoretically, and often can only be measured.\n",
    "In the context of this class again, we do not worry about the physics: we assume that we know the coefficients, and solve the behaviour of the system based on it."
   ]
  },
  {
   "cell_type": "markdown",
   "metadata": {
    "slideshow": {
     "slide_type": "skip"
    }
   },
   "source": [
    "# Expectations"
   ]
  },
  {
   "cell_type": "markdown",
   "metadata": {
    "slideshow": {
     "slide_type": "slide"
    }
   },
   "source": [
    "## Remember:\n",
    "\n",
    "* the generic form of the DHO, $\\ddot x + \\gamma \\dot x + \\omega_0^2x = 0$,\n",
    "* the definitions of $\\omega_0^2$ and $\\gamma$ for the mass-spring system, and what they represent physically (oscillations and damping),\n",
    "* the three regimes, and how $\\omega_0^2 - \\gamma^2/4$ determines the regime.\n",
    "* for a lightly-damped oscillator, the expression of the (pseudo-)period of oscillation, i.e., $\\omega_d^2 = \\omega_0^2 - \\gamma^2/4$,\n",
    "* the general shape of the oscillations for underdamped, overdamped and critically damped oscillators, and the various features that are present on it (envelope, pseudo-period, logarithmic decrement),\n",
    "* that the mechanical energy in an underdamped oscillator decays exponentially, with e-folding time scale $1/\\gamma$,\n",
    "* that the critically-damped oscillator is the one for which the decay is the quickest,\n",
    "* the definition of the quality factor $Q = \\omega_0/\\gamma$, and\n",
    "* that $Q$ is a measure of how many times an underdamped oscillator oscillates before dying, or of the relative energy loss per radian of oscillation."
   ]
  },
  {
   "cell_type": "markdown",
   "metadata": {
    "slideshow": {
     "slide_type": "subslide"
    }
   },
   "source": [
    "## Understand:\n",
    "\n",
    "* the three terms entering Newton's 2nd law for a damped oscillator, and how to cast it in the generic form $\\ddot x + \\gamma \\dot x + \\omega_0^2x = 0$,\n",
    "* how the three cases of oscillators are derived, and the connection between complex exponentials and oscillations vs. real exponentials and exponential decay (*understand* it, don't *re-derive* it),\n",
    "* that damping removes energy from the system,\n",
    "* how the expressions for the evolution of the various energies are derived, and\n",
    "* that all damped linear harmonic oscillators behave the same way."
   ]
  },
  {
   "cell_type": "markdown",
   "metadata": {
    "slideshow": {
     "slide_type": "fragment"
    }
   },
   "source": [
    "## Apply\n",
    "\n",
    "See worked examples, tutorials and problem sets."
   ]
  },
  {
   "cell_type": "markdown",
   "metadata": {},
   "source": [
    "# Let's warm up\n",
    "\n",
    "The mass+spring system of the previous chapter was not very dissipative. But had I waited 20 minutes or so, we would have seen the mass gradually come to rest. This is the sign of a \"high-Q\" oscillator, a notion you should be familiar with by the end of this chapter.\n",
    "\n",
    "To lower the Q-factor and see the mass come to rest due to friction within a reasonable amount of time, we can simply increase the friction by plunging a similar mass in water. \n",
    "This is the video below (Jupyter) or at https://youtu.be/LxMMEMv5fhg."
   ]
  },
  {
   "cell_type": "code",
   "execution_count": 4,
   "metadata": {},
   "outputs": [
    {
     "data": {
      "image/jpeg": "[encoded data removed]",
      "text/html": [
       "\n",
       "        <iframe\n",
       "            width=\"800\"\n",
       "            height=\"300\"\n",
       "            src=\"https://www.youtube.com/embed/LxMMEMv5fhg\"\n",
       "            frameborder=\"0\"\n",
       "            allowfullscreen\n",
       "        ></iframe>\n",
       "        "
      ],
      "text/plain": [
       "<IPython.lib.display.YouTubeVideo at 0x7faaee73cee0>"
      ]
     },
     "execution_count": 4,
     "metadata": {},
     "output_type": "execute_result"
    }
   ],
   "source": [
    "YouTubeVideo('LxMMEMv5fhg', width=800, height=300)"
   ]
  },
  {
   "cell_type": "markdown",
   "metadata": {
    "slideshow": {
     "slide_type": "skip"
    }
   },
   "source": [
    "Before I dig into the math, you should watch the following video of the two things that can happen when oscillators are damped (that is, a lot of damping and a little damping), and how the situation that is in-between, i.e., neither very damped nor weakly damped, is worth consideration by itself (it is the one that stops first).\n",
    "I will quantify all of my statements later, but before I do, watch the video so that you at least know what I want to get at.\n",
    "\n",
    "For those of you who only use the pdf, the video is on YouTube:\n",
    "https://www.youtube.com/embed/99ZE2RGwqSM"
   ]
  },
  {
   "cell_type": "code",
   "execution_count": 5,
   "metadata": {},
   "outputs": [
    {
     "data": {
      "image/jpeg": "[encoded data removed]",
      "text/html": [
       "\n",
       "        <iframe\n",
       "            width=\"800\"\n",
       "            height=\"300\"\n",
       "            src=\"https://www.youtube.com/embed/99ZE2RGwqSM\"\n",
       "            frameborder=\"0\"\n",
       "            allowfullscreen\n",
       "        ></iframe>\n",
       "        "
      ],
      "text/plain": [
       "<IPython.lib.display.YouTubeVideo at 0x7faaee800b50>"
      ]
     },
     "execution_count": 5,
     "metadata": {},
     "output_type": "execute_result"
    }
   ],
   "source": [
    "YouTubeVideo('99ZE2RGwqSM', width=800, height=300)"
   ]
  },
  {
   "cell_type": "markdown",
   "metadata": {
    "slideshow": {
     "slide_type": "slide"
    }
   },
   "source": [
    "## Equations of Motion\n",
    "\n",
    "Back to our favourite oscillator (fig. 1): the spring-mass system.\n",
    "\n",
    "![Fig. 1: Spring-mass system, again](SpringMass.png)"
   ]
  },
  {
   "cell_type": "markdown",
   "metadata": {
    "slideshow": {
     "slide_type": "skip"
    }
   },
   "source": [
    "Now, on top of the force of the spring on the mass, we assume a more realistic case in which the mass is feeling some friction proportional to its velocity:\n",
    "$$ F_d = -bv = -b\\dot x, $$\n",
    "where the subscript $d$ stands for \"damping\", and $b$ is in kg.s$^{-1}$.\n",
    "The negative sign indicates that the force acts on the direction, opposite to that of the motion, and the proportionality is the simplest mathematical form one could think of.\n",
    "\n",
    "*Note: this is a linear approximation again.*\n",
    "*For example, for a car on a highway (therefore not oscillating, but the force would have the same expression), the frictional force would be proportional to $v^2$.*\n",
    "*This would be a lot more difficult to handle, mathematically speaking.*\n",
    "*And again, this approximation is sufficient to describe a lot of physical systems.*"
   ]
  },
  {
   "cell_type": "markdown",
   "metadata": {
    "slideshow": {
     "slide_type": "skip"
    }
   },
   "source": [
    "The new equation of motion (EOM) is $m \\ddot x = -kx - b \\dot x$, or, dividing by $m$, \n",
    "$$\\boxed{\\ddot x + \\gamma \\dot x + \\omega_0^2 x = 0},\\quad\\textrm{with } \\gamma = b/m,\\ \\omega_0^2 = k/m.\\qquad (1)$$\n",
    "* $\\gamma$ is often called the *damping factor*, in s$^{-1}$.\n",
    "* The angular frequency $\\omega_0$ is now called the *natural (angular) frequency* of the oscillator, i.e., the frequency of the system if there was no damping. This is a hint that there could be more than one frequency."
   ]
  },
  {
   "cell_type": "markdown",
   "metadata": {
    "slideshow": {
     "slide_type": "skip"
    }
   },
   "source": [
    "## General Solutions"
   ]
  },
  {
   "cell_type": "markdown",
   "metadata": {
    "slideshow": {
     "slide_type": "skip"
    }
   },
   "source": [
    "The equation above is still a homogeneous second-order ODE: the general form of the solution will still be the same, and there will be two coefficients to solve for, for which we will need two initial conditions.\n",
    "\n",
    "The form of the solution is slightly more complicated for the DHO than for the SHO, but we will see that there is a way to make the connection.\n",
    "For now, let us just *try* a solution: \n",
    "$$x = a\\exp(rt),\\quad \\textrm{with } (a, r) \\in \\mathbb C^2.$$\n",
    "\"$r$\" stands for *root*: we are looking for the root(s) of the ODE.\n",
    "\n",
    "Why should $r\\in\\mathbb C$?\n",
    "You will see it in your ODE class, if you haven't already.\n",
    "As an indication, recall that for $\\theta \\in \\mathbb R$,\n",
    "$$\\exp(i\\theta) = \\cos\\theta + i\\sin\\theta.$$\n",
    "So, if you split the root into its real and imaginary parts, i.e., $rt = r_r t + i\\theta t$ with $(r_r, \\theta) \\in \\mathbb R^2$, then \n",
    "$$\\exp(r t) = \\left[\\cos(\\theta t) + i \\sin(\\theta t)\\right]\\exp(r_r t).$$\n",
    "Hopefully, we are starting to see a connection: the real or imaginary part of $\\exp(r)$ is an oscillation, multiplying an exponential decay in the case of $r_r < 0$ (exponential growth for $r_r>0$, but why would friction cause more motion?).\n",
    "\n",
    "We don't know yet if this is the right solution, but let's just say that it could work."
   ]
  },
  {
   "cell_type": "markdown",
   "metadata": {
    "slideshow": {
     "slide_type": "skip"
    }
   },
   "source": [
    "Because we want to plug in the trial solution $a\\exp(rt)$ into equation (1), we need the derivatives:\n",
    "$$ \\dot x(t) = ar\\exp(rt) = rx(t) \\quad\\textrm{and}\\quad \\ddot x = ar^2\\exp(rt) = r^2x(t). $$"
   ]
  },
  {
   "cell_type": "markdown",
   "metadata": {
    "slideshow": {
     "slide_type": "skip"
    }
   },
   "source": [
    "We can now plug in:\n",
    "$$ \\ddot x + \\gamma \\dot x + \\omega_0^2 x = r^2 x(t) + \\gamma r x(t) + \\omega_0^2 x(t) =  0$$\n",
    "Because we know that $x(t)$ it is not zero except at specific instants, and that we need a solution that works at every instant, we need the factor of $x(t)$ to be zero, i.e.,\n",
    "$$r^2 + \\gamma r + \\omega_0^2 = 0$$"
   ]
  },
  {
   "cell_type": "markdown",
   "metadata": {
    "slideshow": {
     "slide_type": "skip"
    }
   },
   "source": [
    "The equation is a good ol' second-order polynomial, which is solved in the same way, whether the variable is real or complex. \n",
    "Starting with its discriminant, which is \n",
    "$$\\Delta = \\gamma^2 - 4\\omega_0^2.$$\n",
    "This quantity will be important later."
   ]
  },
  {
   "cell_type": "markdown",
   "metadata": {
    "slideshow": {
     "slide_type": "skip"
    }
   },
   "source": [
    "The roots are therefore\n",
    "$$r_p = -\\frac\\gamma2 + \\sqrt{\\frac{\\gamma^2}4 -\\omega_0^2}\\quad \\textrm{and}\\quad r_m = -\\frac\\gamma2 - \\sqrt{\\frac{\\gamma^2}4 -\\omega_0^2}.\\qquad (2)$$\n",
    "There are two possible roots, and because the ODE is linear, any linear combination of them is also a solution of the original equation (*check if you are not sure!*).\n",
    "The most general solution is therefore\n",
    "$$x(t) = a_p\\exp(r_p t) + a_m\\exp(r_mt).\\qquad (3)$$\n",
    "\n",
    "\n",
    "But careful, the above expression does not work when $\\omega^2 = \\gamma^2/4$, are we are about to see!"
   ]
  },
  {
   "cell_type": "markdown",
   "metadata": {
    "slideshow": {
     "slide_type": "skip"
    }
   },
   "source": [
    "# Damping: Weak or Strong?"
   ]
  },
  {
   "cell_type": "markdown",
   "metadata": {
    "slideshow": {
     "slide_type": "skip"
    }
   },
   "source": [
    "## Preliminary Considerations"
   ]
  },
  {
   "cell_type": "markdown",
   "metadata": {
    "slideshow": {
     "slide_type": "skip"
    }
   },
   "source": [
    "Looking at equation (2) in detail, we realize that there are three cases to consider:\n",
    "\n",
    "1. if $\\gamma^2/4 < \\omega_0^2$ ($\\Delta < 0$), then inside the square root is negative, the square root is purely imaginary, and $r_{p,m}$ have a real and an imaginary part. As we are about to see, solutions oscillate, on top of decaying exponentially. This case is called \"underdamped\", or \"light damping\", because the dissipation ($\\gamma$) is small enough that oscillations ($\\omega_0$) can happen.\n",
    "\n",
    "2. if $\\gamma^2/4 > \\omega_0^2$ ($\\Delta >0$), then inside the square root is positive, the square root is real, and both $r_{p,m}$ are real. The solutions are decaying exponentially. This case is called \"overdamped\" or \"heavy damping\", because the dissipation ($\\gamma$) is so strong that the oscillation ($\\omega_0$) cannot happen even once.\n",
    "\n",
    "3. if $\\gamma^2/4 = \\omega_0^2$ ($\\Delta = 0$), $r_p = r_m = -\\gamma/2$. The solution I wrote at the end of the previous section is not even valid anymore, the actual solution being $x(t) = (A + B t)\\exp(-\\gamma t/2)$, with $A$ and $B$ TBD. This case is called \"critical damping\"\n",
    "\n",
    "Let us investigate these three cases in more detail."
   ]
  },
  {
   "cell_type": "markdown",
   "metadata": {
    "slideshow": {
     "slide_type": "skip"
    }
   },
   "source": [
    "## Light Damping ($\\omega_0^2 > \\gamma^2/4$)\n",
    "\n",
    "### Solution\n",
    "\n",
    "Let $$ \\omega_d^2 = \\omega_0^2 - \\frac{\\gamma^2}4 >0 \\quad\\textrm{and}\\quad T_d = \\frac{2\\pi}{\\omega_d}. $$\n",
    "Therefore, $$r_{p, m} = -\\frac\\gamma2 \\pm \\cplxi\\omega_d,\\quad \\textrm{and} $$\n",
    "$$ x(t) = \\exp\\left(- \\frac{\\gamma t}2\\right)\\left(a_p\\eexp{\\cplxi\\omega_d t} + a_m\\eexp{-\\cplxi\\omega_d t}\\right),$$\n",
    "with $(a_p, a_m) \\in \\mathbb C^2$."
   ]
  },
  {
   "cell_type": "markdown",
   "metadata": {
    "slideshow": {
     "slide_type": "skip"
    }
   },
   "source": [
    "At this point, the problem is more complicated than with the SHO, because we have four unknown (the real and imaginary parts of $a_p$ and $a_m$).\n",
    "But we should also have four pieces of information: the initial position, the initial velocity, and --- and this is going to be weird --- *the knowledge that $x\\in \\mathbb R$*, and *the knowledge that $v\\in \\mathbb R$*. \n",
    "\n",
    "These last two pieces of information help, not so much in *computing two out of four unknown*, but rather in knowing that *you only need to compute two unknown*.\n",
    "Indeed, recall that $\\exp(i\\theta) = \\cos\\theta + i\\sin\\theta$, as well as the existence of trigonometric identities such as $\\cos(a+b) = \\cos a \\cos b - \\sin a \\sin b$ (you only need to know that they exist).\n",
    "Using a polar decomposition for $a_p = |a_p|\\exp(i\\phi_p)$ and same for $a_m$, and using all these identities I just recalled, it is relatively easy to imagine that the position $x(t)$ could be re-written in the form of\n",
    "$$ x(t) = \\exp\\left(- \\frac{\\gamma t}2\\right)\\left(A\\cos(\\omega_d t + \\phi) + i A'\\cos(\\omega_d t + \\phi')\\right), $$\n",
    "with $A$, $\\phi$, $A'$ and $\\phi'$ being real numbers, and also horrible combinations of $|a_p|$, $\\phi_p$, etc.\n",
    "But then, if we know that $x\\in \\mathbb R$, then $A' = 0$, and $\\phi'$ becomes irrelevant.\n",
    "Note that we could do the same thing with $v$.\n",
    "\n",
    "So, we now know that those complex exponentials are unnecessarily complicated, which in fact, what we really need is to solve for\n",
    "$$ x(t) = A_0\\eexp{- \\gamma t/2}\\cos(\\omega_d t +\\phi).$$"
   ]
  },
  {
   "cell_type": "markdown",
   "metadata": {
    "slideshow": {
     "slide_type": "skip"
    }
   },
   "source": [
    "***\n",
    "\n",
    "*Note: Here are longer explanations, but before I mention them, let me reassure you: I went quicky over it during the lecture, not because it is so obvious that I don't need to spend some (virtual) chalk on it, but because you shouldn't worry about what is essentially a detail.*\n",
    "\n",
    "First explanation is in the ending of this video (I adjusted the time already) https://youtu.be/5sL6EesIZ7Q?t=220.\n",
    "\n",
    "What follows is another explanation of the same thing, perhaps with more detail, if that itch is not scratched.\n",
    "\n",
    "So, let us see how we would do if we were to solve the problem with initial conditions.\n",
    "We would need to define $a_p = |a_p|\\eexp{i\\phi_p}$ and $a_m = |a_m|\\eexp{i\\phi_m}$.\n",
    "So far we have\n",
    "$$a_p\\eexp{\\cplxi\\omega_d t} + a_m\\eexp{-\\cplxi\\omega_d t} = |a_p|\\eexp{\\cplxi(\\omega_d t +\\phi_p)} + |a_m|\\eexp{\\cplxi(\\phi_m - \\omega_d t)}$$\n",
    "\n",
    "Then, remember that $\\eexp{i\\theta} = \\cos\\theta + \\cplxi\\sin\\theta$.\n",
    "The real part of the expression above is therefore\n",
    "$$ |a_p|\\cos(\\omega_d t +\\phi_p) + |a_m|\\cos(\\omega_d t - \\phi_m), $$\n",
    "and its imaginary part is\n",
    "$$ |a_p|\\sin(\\omega_d t +\\phi_p) - |a_m|\\sin(\\omega_d t - \\phi_m). $$\n",
    "\n",
    "What a mess, and this is just for the position $x(t)$: it needs to be done again for the velocity $v(t)$.\n",
    "\n",
    "We now have four unknown ($|a_p|, |a_m|, \\phi_p, \\phi_m$), and four equations:\n",
    "$$\\textrm{Re}[x(t=0)] = x_0 = \\textrm{Re}(a_p + a_m) = |a_p|\\cos\\phi_p + |a_m|\\cos\\phi_m, $$\n",
    "$$\\textrm{Im}[x(t=0)] = 0 = \\textrm{Im}(a_p + a_m) = |a_p|\\sin\\phi_p - |a_m|\\sin\\phi_m, $$\n",
    "$$\\textrm{Re}[v(t=0)] = v_0 = \\textrm{Re}(r_p a_p + r_m a_m) = \\textrm{something that looks like what is above}, $$\n",
    "$$\\textrm{Im}[v(t=0)] = 0 = \\textrm{Im}(r_p a_p + r_m a_m) = \\textrm{more of the same but different}. $$\n",
    "\n",
    "We kept complex numbers around, adding two unknowns, and in response, we had to add two equations to make sure that the imaginary parts would be zero.\n",
    "\n",
    "And then, assuming that we managed to solve the system, what would the real parts looks like? A bunch of sines and cosines with phases in them, which we would expand using the formulae $\\cos(a+b) = \\cos a\\cos b - \\sin a \\sin b$ and  $\\sin(a+b) = \\sin a\\cos b + \\cos a \\sin b$. \n",
    "The next step would be to regroup all the $\\sin(\\omega_dt)$ together, the $\\cos(\\omega_d t)$ together, and we would find an expression of the type\n",
    "$$ x_0 = A_1 \\cos(\\omega_dt) + A_2 \\sin(\\omega_d t), $$\n",
    "where $A_1$ and $A_2$ would be very long expressions of $|a_p|$, $|a_m|$, $\\phi_p$ and $\\phi_m$. \n",
    "And finally, the expression above can also be written as $A\\cos(\\omega_d t + \\phi)$.\n",
    "\n",
    "The point that I want to make is that a lot of the damage was self-inflicted: it was completely predictable, based on these considerations, that the solution was going to take the form $A\\cos(\\omega_dt + \\phi)$, and that the imaginary parts were going to disappear because the solutions had to be real.\n",
    "\n",
    "Perhaps one last objection you could raise is that King's book starts directly with $A \\cos(\\omega t + \\phi)$. \n",
    "Why not do the same?\n",
    "That is because:\n",
    "\n",
    "1. at some point, I would need to compute $v(t) = \\dot x(t)$, which turns out to be a little complicated if sines and cosines are used;\n",
    "2. this approach allows for a similar treatment between the underdamped and overdamped cases (King has to re-boot his derivation, and you lose the connection between real and complex exponentials),\n",
    "3. eventually, you should be comfortable with the notion of switching between real and complex exponentials.\n",
    "\n",
    "*Let me re-iterate though: whether you are now convinced or not, you will not be tested on such technical points.\n",
    "It will make you a better engineer and scientist if you understand it, and it will make your life easier in the classes that come after this one, but you will not loose points if you don't.*\n",
    "\n",
    "Back to our regular business.\n",
    "\n",
    "***"
   ]
  },
  {
   "cell_type": "markdown",
   "metadata": {
    "slideshow": {
     "slide_type": "skip"
    }
   },
   "source": [
    "The velocity is $$ v(t) = \\dot x(t) = A_0\\eexp{- \\gamma t/2}\\left[-\\omega_d\\sin(\\omega_d t + \\phi) - \\frac{\\gamma}{2}\\cos(\\omega_dt +\\phi)\\right].$$"
   ]
  },
  {
   "cell_type": "markdown",
   "metadata": {
    "slideshow": {
     "slide_type": "skip"
    }
   },
   "source": [
    "Like in the previous chapter, we have two coefficients to solve for, and we need two initial conditions to solve it.\n",
    "\n",
    "***\n",
    "\n",
    "The specific derivation of $A_0$ and $\\phi$ that follows doesn't really matter, and I didn't cover it in class, but I need it for plotting purposes (fig. 2).\n",
    "Using the initial conditions I used before:\n",
    "\n",
    "* $x(t=0) = x_0 = A_0\\cos\\phi$, and\n",
    "* $v(t=0) = 0 = -A_0\\left[\\omega_d\\sin\\phi + \\frac{\\gamma}{2}\\cos\\phi\\right]\\ \\Rightarrow\\ \\tan\\phi = -\\frac\\gamma{2\\omega_d}$.\n",
    "\n",
    "On the $[0, 2\\pi]$ circle, $\\phi$ is the angle for which $\\cos\\phi$ and $x_0$ have the same sign, because $A_0>0$ by definition.\n",
    "\n",
    "***"
   ]
  },
  {
   "cell_type": "code",
   "execution_count": 6,
   "metadata": {
    "slideshow": {
     "slide_type": "skip"
    }
   },
   "outputs": [],
   "source": [
    "# let's plot\n",
    "# This cell is for parameters that I do not intend to change across this chapter.\n",
    "from numpy import cos, sin, exp, sqrt, linspace, pi, sign, arctan\n",
    "import matplotlib.pyplot as plt\n",
    "from matplotlib import interactive\n",
    "interactive(False)\n",
    "\n",
    "x0 = 4e-2  # initial position [m]\n",
    "v0 = 0.  # initial velocity [m/s]\n",
    "k = 180.  # spring stiffness [N/m]\n",
    "m = 0.8  # mass [kg]\n",
    "b_under = 1.  # damping parameter [kg/s]\n",
    "b_over = 1.5*2*sqrt(k*m)  # [kg/s]; this makes sure that the discriminant is >0"
   ]
  },
  {
   "cell_type": "code",
   "execution_count": 7,
   "metadata": {
    "slideshow": {
     "slide_type": "skip"
    }
   },
   "outputs": [],
   "source": [
    "def plot_LDHO(k, m, b, x0):\n",
    "    \"\"\" Function that computes and plots the position\n",
    "    INPUT:\n",
    "    k: spring stiffness [N/m, kg/(s**2)]\n",
    "    m: mass [kg]\n",
    "    b: damping  parameter [N*s/m, kg/s]\n",
    "    x0: initial position [m]\n",
    "    OUTPUT: plot of the energies\"\"\"\n",
    "    \n",
    "    if b >= 2*sqrt(k*m):\n",
    "        raise ValueError('plot_LDHO only works for underdamped oscillators')\n",
    "    \n",
    "    t_end = 3.  # [s] final time for plot\n",
    "    \n",
    "    omega_0 = sqrt(k/m)  # natural frequency of the oscillation [rad/s]\n",
    "    t = linspace(0., t_end, 1024)  # time array, from 0 to 0.6 s, 1024 points\n",
    "\n",
    "    ftsz = 13  # font size on plots\n",
    "\n",
    "    # derived quantities\n",
    "    gamma = b/m  #  damping coefficient [1/s]\n",
    "    omega_d = sqrt(omega_0**2 - gamma**2/4)\n",
    "    phi = arctan(-0.5*gamma/omega_d)\n",
    "    if sign(cos(arctan(phi))) == -sign(x0):  # make sure the correct phase is chosen\n",
    "        phi += pi  # if not, augment phi by pi to find the other phase\n",
    "    A0 = x0/cos(phi)\n",
    "\n",
    "    T_d = 2*pi/omega_d  # period of oscillation [s]    \n",
    "\n",
    "    x = A0*exp(-0.5*gamma*t)*cos(omega_d*t + phi)  # position [m]\n",
    "    envelope = A0*exp(-0.5*gamma*t)\n",
    "    v = A0*exp(-0.5*b_under/m*t)*(-omega_d*sin(omega_d*t + phi)\n",
    "                                        - 0.5*b_under/m*cos(omega_d*t + phi))\n",
    "    v_approx = -A0*exp(-0.5*b_under/m*t)*omega_0*sin(omega_d*t + phi)\n",
    "\n",
    "    fig = plt.figure(dpi=100)\n",
    "    ax1 = fig.gca()\n",
    "    ax1.plot(t, x, 'b', label='$x(t)$')  # plotting the position x\n",
    "    ax1.plot(t, envelope, 'r--', label='$A_0e^{-\\gamma t/2}$')  # plotting the envelope\n",
    "    ax1.plot(t, -envelope, 'r-.', label='$-A_0e^{-\\gamma t/2}$')\n",
    "    ax1.set_xlabel('time [s]', fontsize=ftsz) \n",
    "    ax1.set_ylabel(r'position $x$ [m]', fontsize=ftsz)\n",
    "\n",
    "    # annotation to highlight the period\n",
    "    for nn in range(3, 5):\n",
    "        ax1.axvline(nn*T_d, color='k', linestyle='-.')  # the t=nT mark\n",
    "    ax1.annotate(s='', xy=(3*T_d, 3.5e-2), xytext=(4*T_d, 3.5e-2),\n",
    "                 arrowprops=dict(arrowstyle='<|-|>'))  # the double arrow\n",
    "    ax1.text(3.5*T_d, 4.4e-2, r'$T_d = 2\\pi/\\omega_d$',\n",
    "             verticalalignment='center', horizontalalignment='center',\n",
    "             backgroundcolor='w', fontsize=ftsz)\n",
    "\n",
    "    # annotations to highlight the logarithmic decay\n",
    "    ax1.annotate(s='', xy=(3*T_d, 0.), xytext=(3*T_d, A0*exp(-0.5*gamma*3*T_d)),\n",
    "                 arrowprops=dict(arrowstyle='<|-'))  # the double arrow\n",
    "    ax1.text(3*T_d, 1.1*A0*exp(-0.5*gamma*3*T_d), '$A_n$',\n",
    "             verticalalignment='bottom', horizontalalignment='left', fontsize=ftsz)\n",
    "\n",
    "    ax1.annotate(s='', xy=(4*T_d, 0.), xytext=(4*T_d, A0*exp(-0.5*gamma*4*T_d)),\n",
    "                 arrowprops=dict(arrowstyle='<|-'))  # the double arrow\n",
    "    ax1.text(4*T_d, A0*exp(-0.5*gamma*4*T_d), '$A_{n+1}$',\n",
    "             verticalalignment='bottom', horizontalalignment='left', fontsize=ftsz)\n",
    "\n",
    "    ax1.grid()\n",
    "    ax1.axhline(0., color='k')  # draw the zero-axis as horizontal line\n",
    "    \n",
    "    ax1.set_xlim(0, t_end)\n",
    "\n",
    "    plt.legend()\n",
    "    plt.show()\n",
    "    \n",
    "    return x, v, v_approx"
   ]
  },
  {
   "cell_type": "code",
   "execution_count": 8,
   "metadata": {
    "scrolled": false,
    "slideshow": {
     "slide_type": "skip"
    }
   },
   "outputs": [
    {
     "data": {
      "image/png": "[encoded data removed]",
      "text/plain": [
       "<Figure size 600x400 with 1 Axes>"
      ]
     },
     "metadata": {
      "needs_background": "light"
     },
     "output_type": "display_data"
    }
   ],
   "source": [
    "x_under, v_under, v_under_approx = plot_LDHO(k, m, b_under, x0)  # for pdf export"
   ]
  },
  {
   "cell_type": "code",
   "execution_count": 9,
   "metadata": {
    "slideshow": {
     "slide_type": "skip"
    }
   },
   "outputs": [],
   "source": [
    "from ipywidgets import interact, FloatSlider, fixed"
   ]
  },
  {
   "cell_type": "code",
   "execution_count": 10,
   "metadata": {
    "slideshow": {
     "slide_type": "subslide"
    }
   },
   "outputs": [
    {
     "data": {
      "application/vnd.jupyter.widget-view+json": {
       "model_id": "0df7b11749da423cb4f9e89e34f99c00",
       "version_major": 2,
       "version_minor": 0
      },
      "text/plain": [
       "interactive(children=(FloatSlider(value=180.0, description='k', max=300.0, step=20.0), FloatSlider(value=0.8, …"
      ]
     },
     "metadata": {},
     "output_type": "display_data"
    },
    {
     "data": {
      "text/plain": [
       "<function __main__.plot_LDHO(k, m, b, x0)>"
      ]
     },
     "execution_count": 10,
     "metadata": {},
     "output_type": "execute_result"
    }
   ],
   "source": [
    "interact(plot_LDHO, k=FloatSlider(min=0., max=300., step=20, value=k),\n",
    "         m=FloatSlider(min=0., max=2., step=0.2, value=m),\n",
    "         b=FloatSlider(min=0., max=5., step=0.2, value=b_under), x0=fixed(x0))"
   ]
  },
  {
   "cell_type": "markdown",
   "metadata": {
    "slideshow": {
     "slide_type": "skip"
    }
   },
   "source": [
    "The behaviour is that of a (co)sine oscillation of (*pseudo*-)period $T_d = 2\\pi/\\omega_d$ (*not* $T_0 = 2\\pi/\\omega_0$), like for the SHO, multiplied by an exponential envelope that makes the waves decay.\n",
    "\n",
    "*Note: I call $T_d$ the pseudo-period, King calls it simply the period. Some of us prefer to refer to periods when systems are perfectly periodic. Here, the decay breaks the periodicity, and I prefer to talk about pseudo-periods.*"
   ]
  },
  {
   "cell_type": "markdown",
   "metadata": {
    "slideshow": {
     "slide_type": "skip"
    }
   },
   "source": [
    "A quantity that is often used is the *logarithmic decay* or *logarithmic decrement*. \n",
    "Let $A_n = A_0\\exp(-\\gamma n T_d/2)$ one local maximum, and $A_{n+1} = A_0\\exp(-\\gamma (n+1) T_d/2)$ the next local maximum, one (pseudo-)period later (see fig. above).\n",
    "Their ratio is \n",
    "$$ \\frac{A_{n}}{A_{n+1}} = \\exp\\left(\\frac{\\gamma T_d}2\\right)\\textrm{, which does not depend on time nor }n.$$\n",
    "$$ \\Rightarrow \\quad \\ln\\left(\\frac{A_{n}}{A_{n+1}}\\right) = \\frac{\\gamma T_d}2$$\n",
    "The logarithmic decrement is $\\gamma T_d/2$, and the tricky thing is to remember that the numerator corresponds to the preceding maximum.\n",
    "I find it confusing because $A_n/A_{n+1} > 1$ or $\\gamma T_d/2 > 0$, which is weird for something that decreases.\n",
    "It makes sense because if a value goes down, the decrement is positive, while the increment would be negative.\n",
    "It is just a matter of semantics."
   ]
  },
  {
   "cell_type": "markdown",
   "metadata": {
    "slideshow": {
     "slide_type": "skip"
    }
   },
   "source": [
    "### Connection with the SHO"
   ]
  },
  {
   "cell_type": "markdown",
   "metadata": {
    "slideshow": {
     "slide_type": "skip"
    }
   },
   "source": [
    "Now, here is the connection with the SHO problem, because $\\cos\\theta = (\\eexp{\\cplxi\\theta} + \\eexp{-\\cplxi\\theta})/2$ and $\\sin\\theta = (\\eexp{\\cplxi\\theta} - \\eexp{-\\cplxi\\theta})/2$.\n",
    "The \"roots\" of the SHO were simply $\\pm\\cplxi\\omega t$, with $\\omega_0 = \\omega_d = \\omega$. Therefore, it was a particular case of our current case. Indeed, $\\tan\\phi \\propto \\gamma =0 \\Rightarrow \\phi = 0$, implying that $A_0 = A = x_0$.\n",
    "\n",
    "And allow me to drill this one more time: it is still a second-order ODE, for which we need two initial conditions in order to find a solution."
   ]
  },
  {
   "cell_type": "markdown",
   "metadata": {
    "slideshow": {
     "slide_type": "skip"
    }
   },
   "source": [
    "## Heavy damping ($\\omega_0^2 < \\gamma^2/4$)"
   ]
  },
  {
   "cell_type": "markdown",
   "metadata": {
    "slideshow": {
     "slide_type": "skip"
    }
   },
   "source": [
    "A heavily damped oscillator ($\\Delta = \\gamma^2 - 4\\omega_0^2 >0$) is not even an oscillator: it just crashes down to its initial position exponentially.\n",
    "If we now define \n",
    "$$ \\alpha = \\frac{\\sqrt{\\Delta}}2 = \\sqrt{\\frac{\\gamma^2}4  - \\omega_0^2}\\quad\\textrm{then} \\quad r_{p,m} = -\\frac{\\gamma}2 \\pm \\alpha,$$\n",
    "where I used the notations of equations (2) and (3).\n",
    "\n",
    "The general solution is now \n",
    "$$ x(t) = a_p \\exp\\left[\\left(\\alpha - \\frac\\gamma2\\right)t\\right] + a_m \\exp\\left[-\\left(\\alpha + \\frac\\gamma2\\right)t\\right]. $$\n",
    "Note that these two exponentials are always decaying, even $\\exp[(\\alpha - \\gamma/2)t]$.\n",
    "Indeed, \n",
    "$$ \\alpha^2 = \\frac{\\gamma^2}4 - \\omega_0^2 < \\frac{\\gamma^2}4 \\quad \\Rightarrow \\quad \\alpha < \\frac{\\gamma} 2$$"
   ]
  },
  {
   "cell_type": "markdown",
   "metadata": {
    "slideshow": {
     "slide_type": "skip"
    }
   },
   "source": [
    "Once again, and for every second-order ODE, we have two coefficients to solve for, and we need two initial conditions to solve it.\n",
    "\n",
    "***\n",
    "\n",
    "And once again, the specific derivation of $a_p$ and $a_m$ that follows doesn't really matter, and I didn't cover it in class, but I need it for plotting purposes.\n",
    "Using the most general initial conditions:\n",
    "\n",
    "* $x(t=0) = x_0 = a_p + a_m$, and\n",
    "* $v(t=0) = v_0 = r_p a_p + r_m a_m$,\n",
    "\n",
    "which is a $2\\times 2$ linear system of equations (the two unknown being $a_p$ and $a_m$), we find that their solution is\n",
    "$$a_p = \\frac{v_0-r_mx_0}{r_p - r_m}\\quad \\textrm{and}\\quad a_m = \\frac{r_px_0 - v_0}{r_p - r_m}. $$ \n",
    "\n",
    "*(Do not memorize these!)*\n",
    "\n",
    "***\n",
    "\n",
    "Below (fig. 3), we plot for $x_0 = 4$ cm and $v_0 = 0$, just like for the other examples."
   ]
  },
  {
   "cell_type": "code",
   "execution_count": 11,
   "metadata": {
    "slideshow": {
     "slide_type": "skip"
    }
   },
   "outputs": [],
   "source": [
    "# let's plot\n",
    "def plot_HDHO(k, m, b, x0, v0):\n",
    "    # derived quantities\n",
    "    gamma = b/m  #  damping coefficient [1/s]\n",
    "    omega_0 = sqrt(k/m)\n",
    "    t = linspace(0., 3., 1024)\n",
    "    \n",
    "    alpha = sqrt(0.25*gamma**2 - omega_0**2)\n",
    "    r_p = alpha - 0.5*gamma\n",
    "    r_m = -alpha - 0.5*gamma\n",
    "    a_p = (r_m*x0 - v0)/(r_m - r_p)\n",
    "    a_m = (v0 - r_p*x0)/(r_m - r_p)\n",
    "\n",
    "    x_p = a_p*exp(r_p*t)  # the first exponential\n",
    "    x_m = a_m*exp(r_m*t)  # the second exponential\n",
    "    x = x_p + x_m  # position [m]\n",
    "    v = r_p*x_p + r_m*x_m\n",
    "\n",
    "    ftsz = 13\n",
    "    fig = plt.figure(dpi=100)\n",
    "    ax1 = fig.gca()\n",
    "    ax1.plot(t, x_p, 'r--', label='$a_pe^{r_p t}$')  # plotting the 1st exponential\n",
    "    ax1.plot(t, x_m, 'r-.', label='$a_me^{r_m t}$')  # plotting the 2nd exponential\n",
    "    ax1.plot(t, x, 'b', label='$x(t)$')  # plotting the position x\n",
    "    ax1.set_xlabel('time [s]', fontsize=ftsz) \n",
    "    ax1.set_ylabel(r'position $x$ [m]', color='b', fontsize=ftsz)\n",
    "    ax1.tick_params('y', colors='b')  # color for y-axis is blue\n",
    "\n",
    "    ax1.grid()\n",
    "    ax1.axhline(0., color='k')  # draw the zero-axis as horizontal line\n",
    "    ax1.set_xlim(0., 3.)\n",
    "\n",
    "    plt.legend()\n",
    "    plt.show()\n",
    "    \n",
    "    return x, v"
   ]
  },
  {
   "cell_type": "code",
   "execution_count": 12,
   "metadata": {
    "slideshow": {
     "slide_type": "skip"
    }
   },
   "outputs": [
    {
     "data": {
      "image/png": "[encoded data removed]",
      "text/plain": [
       "<Figure size 600x400 with 1 Axes>"
      ]
     },
     "metadata": {
      "needs_background": "light"
     },
     "output_type": "display_data"
    }
   ],
   "source": [
    "x_over, v_over = plot_HDHO(k, m, b_over, x0, v0)  # for pdf export"
   ]
  },
  {
   "cell_type": "code",
   "execution_count": 14,
   "metadata": {
    "scrolled": false,
    "slideshow": {
     "slide_type": "subslide"
    }
   },
   "outputs": [
    {
     "data": {
      "application/vnd.jupyter.widget-view+json": {
       "model_id": "7b46808fb2ca448d8be5ddd7ad42f89d",
       "version_major": 2,
       "version_minor": 0
      },
      "text/plain": [
       "interactive(children=(FloatSlider(value=180.0, description='k', max=300.0, step=20.0), FloatSlider(value=0.8, …"
      ]
     },
     "metadata": {},
     "output_type": "display_data"
    },
    {
     "data": {
      "text/plain": [
       "<function __main__.plot_HDHO(k, m, b, x0, v0)>"
      ]
     },
     "execution_count": 14,
     "metadata": {},
     "output_type": "execute_result"
    }
   ],
   "source": [
    "interact(plot_HDHO, k=FloatSlider(min=0., max=300., step=20, value=k),\n",
    "         m=FloatSlider(min=0., max=2., step=0.2, value=m),\n",
    "         b=FloatSlider(min=40., max=60., step=0.5, value=b_over),\n",
    "         x0=FloatSlider(min=-0.1, max=0.1, step=1e-2, value=x0),\n",
    "         v0=FloatSlider(min=-1., max=1., step=0.1, value=v0))"
   ]
  },
  {
   "cell_type": "markdown",
   "metadata": {
    "slideshow": {
     "slide_type": "skip"
    }
   },
   "source": [
    "So, we only have some kind of exponential decay, or more correctly, the sum of two exponential decays.\n",
    "The most daring of you might try different initial conditions with the Jupyter notebook (try, e.g., $v_0 > 0$ and $x_0 = 0$), but at least, I want you to remember the general shape of the curve above."
   ]
  },
  {
   "cell_type": "markdown",
   "metadata": {
    "slideshow": {
     "slide_type": "skip"
    }
   },
   "source": [
    "## Critical damping ($\\omega_0^2 = \\gamma^2/4$)\n",
    "\n",
    "This case can feel weird: what a coincidence it would be to have both quantities equal!\n",
    "As a natural scientist, I am actually inclined to discard it, because yes, coincidences are uninteresting when they occur naturally.\n",
    "But if I were an engineer, I should not ignore this case: humans build stuff, and can make this coincidence happen.\n",
    "In the end of this sub-section, I will show everyday applications. \n",
    "But for now, let's dive in."
   ]
  },
  {
   "cell_type": "markdown",
   "metadata": {
    "slideshow": {
     "slide_type": "skip"
    }
   },
   "source": [
    "First of all, equation (3) does not work here with $a_p$ and $a_m$ being constant coefficients.\n",
    "Indeed, $\\omega^2_0 - \\gamma^2/4 = 0$ means that $r_p = r_m = -\\gamma/2$. \n",
    "In that case, equation (3) becomes \n",
    "$$ x(t) = (a_p + a_m)\\exp(-\\gamma t/2) $$\n",
    "and if $a_p$ and $a_m$ are constant, the velocity is $v(t) = -\\gamma x(t)/2$.\n",
    "This is a problem: what if we have $x_0 \\neq 0$ and $v_0 = 0$, like in most of our previous examples?\n",
    "It is an *overprescribed* or *overconstrained* problem, in which there is more independent information than there are degrees of freedom to accommodate for it.\n",
    "In short, it is impossible unless $x(t) = 0$ at all times, and then, who cares?"
   ]
  },
  {
   "cell_type": "markdown",
   "metadata": {
    "slideshow": {
     "slide_type": "skip"
    }
   },
   "source": [
    "You might see the reason why in your ODE class, but for now, let's just accept the fact that in this very particular case, the general solution is:\n",
    "$$ x(t) = (A + Bt)\\exp(-\\gamma t / 2).$$\n",
    "You do want to check for yourself that the solution above is a solution.\n",
    "It has two degrees of freedom, and a good math course would tell you that the space of solutions to a 2nd-order ODE is two-dimensional.\n",
    "Therefore, if this is **one** solution, it is **the** solution, by virtue of the existence-and-uniqueness of the solutions.\n",
    "\n",
    "The velocity is\n",
    "$$v(t) = (B - \\gamma A/2 - \\gamma Bt/2)\\exp(-\\gamma t / 2). $$\n",
    "with $A$ and $B$ TBD.\n",
    "Two initial conditions, two unknowns: yay!"
   ]
  },
  {
   "cell_type": "markdown",
   "metadata": {
    "slideshow": {
     "slide_type": "subslide"
    }
   },
   "source": [
    "![GoT wisdom](itisKnown.gif)"
   ]
  },
  {
   "cell_type": "markdown",
   "metadata": {
    "slideshow": {
     "slide_type": "skip"
    }
   },
   "source": [
    "***\n",
    "\n",
    "And for the last time, I need what follows for plotting purposes.\n",
    "Using the most general initial conditions:\n",
    "\n",
    "* $x(t=0) = x_0 = A$, and\n",
    "* $v(t=0) = v_0 = B - \\gamma A/2 = B - \\gamma x_0/2 \\quad\\Rightarrow \\quad B = v_0 + \\gamma x_0/2$.\n",
    "\n",
    "*(Do not learn this!)*\n",
    "\n",
    "***\n",
    "\n",
    "Below (fig. 4), we plot for $x_0 = 4$ cm and $v_0 = 0$, just like for the other examples."
   ]
  },
  {
   "cell_type": "code",
   "execution_count": 21,
   "metadata": {
    "slideshow": {
     "slide_type": "skip"
    }
   },
   "outputs": [
    {
     "data": {
      "image/png": "[encoded data removed]",
      "text/plain": [
       "<Figure size 600x400 with 1 Axes>"
      ]
     },
     "metadata": {
      "needs_background": "light"
     },
     "output_type": "display_data"
    }
   ],
   "source": [
    "# let's plot\n",
    "# I will use the same coefficients except for the damping\n",
    "b_crit = 2*sqrt(k*m)  # [kg/s]; this makes sure that the discriminant is 0\n",
    "\n",
    "# derived quantities\n",
    "gamma_crit = b_crit/m  #  damping coefficient [1/s]\n",
    "t = linspace(0., 3., 1024)\n",
    "r_c = -0.5*gamma_crit\n",
    "A = x0\n",
    "B = v0 + 0.5*gamma_crit*x0\n",
    "\n",
    "x_crit = (A + B*t)*exp(-0.5*gamma_crit*t)  # position [m]\n",
    "\n",
    "ftsz = 13\n",
    "fig = plt.figure(dpi=100)\n",
    "ax1 = fig.gca()\n",
    "ax1.plot(t, x_crit, 'b', label='$x(t)$')  # position x\n",
    "ax1.set_xlabel('time [s]', fontsize=ftsz) \n",
    "ax1.set_ylabel(r'position $x$ [m]', color='b', fontsize=ftsz)\n",
    "ax1.tick_params('y', colors='b')  # color for y-axis is blue\n",
    "\n",
    "ax1.grid()\n",
    "ax1.axhline(0., color='k')  # draw the zero-axis as horizontal line\n",
    "ax1.set_xlim(0., 3.)\n",
    "plt.show()"
   ]
  },
  {
   "cell_type": "markdown",
   "metadata": {
    "slideshow": {
     "slide_type": "skip"
    }
   },
   "source": [
    "Back to the everyday application I promised.\n",
    "Notice how the decay is faster than the previous, overdamped oscillator.\n",
    "In fact, the critically-damped oscillator is the one that decays the fastest without oscillating."
   ]
  },
  {
   "cell_type": "markdown",
   "metadata": {
    "slideshow": {
     "slide_type": "skip"
    }
   },
   "source": [
    "Indeed, in the overdamped case, there are two exponentials.\n",
    "And because $r_m < -\\gamma/2$, $\\eexp{r_m t}$ always decays more slowly than $\\eexp{r_p t}$, and the slowest sets the pace (as is hopefully visible in the figure of the overdamped oscillator above). In other words, we need to compare the decay of the critically damped oscillator with the decay of $\\eexp{r_m t}$.\n",
    "\n",
    "For the critically damped oscillator, the slowest term to decay is $t\\eexp{-\\gamma t /2}$, because it decays slower than $\\eexp{-\\gamma t /2}$. But even the decay of $t\\eexp{-\\gamma t/2}$ is faster than an overdamped oscillator which decays as $\\eexp{r_m t}$.\n",
    "\n",
    "*More math, but the reason is that if $\\beta_1 > \\beta_2 >0$, even $t\\eexp{-\\beta_1 t}$ decays faster than $\\eexp{-\\beta_2 t}$. The general mathematical result is that if $\\beta_1 > \\beta_2 >0$, let $P_n$ a polynomial of order $n$. \n",
    "Then, $P_n(t)\\eexp{-\\beta_1 t}$ decays faster than $\\eexp{-\\beta_2 t}$, i.e., $$\\forall n \\in \\mathbb N,\\quad \\lim_{t\\to \\infty} P_n(t)\\eexp{(\\beta_2 - \\beta_1)t} = 0.$$I do not know at which point you will learn this calculus result, or if you already did, but it is true. Just accept this fact for this class.*"
   ]
  },
  {
   "cell_type": "markdown",
   "metadata": {
    "slideshow": {
     "slide_type": "subslide"
    }
   },
   "source": [
    "![More GoT wisdom](itisKnown.gif)"
   ]
  },
  {
   "cell_type": "markdown",
   "metadata": {
    "slideshow": {
     "slide_type": "subslide"
    }
   },
   "source": [
    "This property can be desirable, a famous example being a car suspension system, pictured in King's fig. 2.3 (reproduced here, fig. 5).\n",
    "\n",
    "![Fig. 5: King 2.3: Suspension](Suspension.png)"
   ]
  },
  {
   "cell_type": "markdown",
   "metadata": {
    "slideshow": {
     "slide_type": "skip"
    }
   },
   "source": [
    "If the spring was too stiff or the shock absorber too soft, shocks would turn into oscillations and passengers would bounce up and down.\n",
    "On the other hand, if the spring was not very stiff or the shock absorber too hard to move, shocks would also be transmitted to the car: the car might fly a little, fall hard on the ground, and so on.\n",
    "A car maker wants the shock to be smoothed (not too stiff a spring, not too soft an absorber), but also that the energy doesn't linger in the car for too long (stiff enough a spring, soft enough an absorber): it is looking for critical damping to be achieved for the mass of a car + standard load."
   ]
  },
  {
   "cell_type": "markdown",
   "metadata": {
    "slideshow": {
     "slide_type": "skip"
    }
   },
   "source": [
    "Other possible applications:\n",
    "\n",
    "* needle on a meter (don't want to wait for too long for the meter to reach value, but don't want it to oscillate around the value either),\n",
    "* shock absorber + spring for a door that is meant to close automatically (don't want the cold winter wind to gush in for too long, but don't want the door to slam against the frame either)."
   ]
  },
  {
   "cell_type": "markdown",
   "metadata": {
    "slideshow": {
     "slide_type": "skip"
    }
   },
   "source": [
    "## Summary\n",
    "\n",
    "I invite you to re-watch the YouTube video I showed towards the beginning of this chapter (pendulum whose oscillation is being damped by a magnet), in order to revisit what the three regimes mean.\n",
    "\n",
    "I also invite you to play with the tool by following this link: \n",
    "\n",
    "https://faraday.physics.utoronto.ca/GeneralInterest/Harrison/Flash/ClassMechanics/DampedSHM/DampedSHM.html\n",
    "\n",
    "Below (fig. 6) I plot the three cases that we have seen so far. Note that the values of all parameters but $b$ (or $\\gamma$) are kept constant. \n",
    "$b$ (or $\\gamma$) is the only parameter that we vary across all cases."
   ]
  },
  {
   "cell_type": "code",
   "execution_count": 22,
   "metadata": {
    "slideshow": {
     "slide_type": "skip"
    }
   },
   "outputs": [],
   "source": [
    "# let's plot\n",
    "# I will use the same parmeters except for the damping\n",
    "fig = plt.figure(dpi=100)\n",
    "ax1 = fig.gca()\n",
    "ax1.plot(t, x_crit, 'b', label='critical')  # plotting the position x\n",
    "ax1.plot(t, x_over, 'r--', label='overdamped')  # plotting the position x\n",
    "ax1.plot(t, x_under, 'g-.', label='underdamped')  # plotting the position x\n",
    "ax1.set_xlabel('time [s]', fontsize=ftsz) \n",
    "ax1.set_ylabel('position $x$ [m]', color='b', fontsize=ftsz)\n",
    "ax1.tick_params('y', colors='b')  # color for y-axis is blue\n",
    "\n",
    "ax1.grid()\n",
    "ax1.axhline(0., color='k')  # draw the zero-axis as horizontal line\n",
    "\n",
    "plt.tight_layout()\n",
    "ax1.set_xlim(0., 3.)\n",
    "\n",
    "plt.legend()\n",
    "plt.savefig('DampedOscillations.png')\n",
    "plt.close()"
   ]
  },
  {
   "cell_type": "markdown",
   "metadata": {
    "slideshow": {
     "slide_type": "subslide"
    }
   },
   "source": [
    "![Fig. 6: Damped oscillations, a summary](DampedOscillations.png)"
   ]
  },
  {
   "cell_type": "markdown",
   "metadata": {
    "slideshow": {
     "slide_type": "skip"
    }
   },
   "source": [
    "Note above how the transition from under- to overdamped happens, and how an overdamped oscillator takes too long to land."
   ]
  },
  {
   "cell_type": "markdown",
   "metadata": {
    "slideshow": {
     "slide_type": "skip"
    }
   },
   "source": [
    "1. $\\gamma^2/4 < \\omega_0^2$: light damping, or underdamped oscillator. Damped oscillations.\n",
    "\n",
    "2. $\\gamma^2/4 > \\omega_0^2$: heavy damping, or overdamped oscillator. Exponential decay to equilibrium position.\n",
    "\n",
    "3. $\\gamma^2/4 = \\omega_0^2$: critical damping. Quickest return to equilibrium position without overshoot."
   ]
  },
  {
   "cell_type": "markdown",
   "metadata": {
    "slideshow": {
     "slide_type": "skip"
    }
   },
   "source": [
    "# Energy\n",
    "\n",
    "## General Considerations\n",
    "\n",
    "Whether the mass moves or is held in place, the friction does not represent an energy reservoir like KE or PE do: it merely removes mechanical energy from the system.\n",
    "Therefore, the energy of the system has the same expression:\n",
    "$$ E = K + U = \\frac12 m v^2 + \\frac12 kx^2.$$"
   ]
  },
  {
   "cell_type": "markdown",
   "metadata": {
    "slideshow": {
     "slide_type": "skip"
    }
   },
   "source": [
    "What the existence of friction/damping change is the *time evolution* of the mechanical energy: it decays.\n",
    "Note that I am not violating the conservation of total energy of a closed system.\n",
    "This is because damping allows to exchange energy with other types of energy reservoirs.\n",
    "For example, friction can create heat. \n",
    "The energy is still present in the system, but it is in the form of *internal energy*, not mechanical energy.\n",
    "The energy could also be exchanged with the outside, for example in the form of vibrations (mechanical vibrations or sound waves). But in any case, the *total energy of the closed system*, which may include the entire universe if need be, stays constant. On the other hand, the system we are considering in this lecture (mass+spring) is *not* closed.\n",
    "\n",
    "In the SHO, $E$ was constant because without any damping, the SHO is effectively a closed system, a system that cannot exchange energy with other reservoirs of energy, be they internal or external."
   ]
  },
  {
   "cell_type": "markdown",
   "metadata": {
    "slideshow": {
     "slide_type": "skip"
    }
   },
   "source": [
    "The damping does not represent an energy reservoir, but is does represent a leak, or a drain, of energy:\n",
    "\n",
    "$$ \\ode{E}t = \\ode{}{t}\\left(\\frac12 m v^2 +\\frac12k x^2\\right) = mv\\dot v + kx\\dot x = (ma + kx)v, $$\n",
    "and because $ma = -kx - bv$, \n",
    "$$ \\boxed{\\ode{E}t =  -bv^2}. $$\n",
    "The mechanical energy loss is directly attributable to the damping.\n",
    "Notice how the damping rate depends on the *square* of the linear quantities, here, $v^2$.\n",
    "This is a reminder of the quadratic dependence of energy quantities versus linear quantities (\"double the amplitude, quadruple the energy\")."
   ]
  },
  {
   "cell_type": "markdown",
   "metadata": {
    "slideshow": {
     "slide_type": "skip"
    }
   },
   "source": [
    "## Underdamped Harmonic Oscillator ($\\omega_0^2 > \\gamma^2/4$)\n",
    "\n",
    "The potential energy is\n",
    "$$ U = \\frac12 k x^2 =  \\frac12 k A_0^2 \\cos^2(\\omega_d t + \\phi) \\eexp{-\\gamma t}  $$"
   ]
  },
  {
   "cell_type": "markdown",
   "metadata": {
    "slideshow": {
     "slide_type": "skip"
    }
   },
   "source": [
    "The kinetic energy is\n",
    "\\begin{align*}\n",
    "    K & = \\frac12 m A_0^2 \\eexp{- \\gamma t}\\left[-\\omega_d\\sin(\\omega_d t + \\phi) - \\frac{\\gamma}{2}\\cos(\\omega_dt +\\phi)\\right]^2 \\\\\n",
    "      & = \\frac12 m A_0^2 \\omega_d^2 \\eexp{- \\gamma t}\\left[\\sin(\\omega_d t + \\phi) + \\frac{\\gamma}{2\\omega_d}\\cos(\\omega_dt +\\phi)\\right]^2 \\\\\n",
    "      & \\approx \\frac12 m A_0^2 \\omega_0^2 \\eexp{- \\gamma t}\\sin^2(\\omega_d t + \\phi),\n",
    "\\end{align*}\n",
    "where the last bit of approximation is valid when $\\omega_0 \\gg \\gamma/2 \\Rightarrow \\gamma/(2\\omega_d) \\approx \\gamma/(2\\omega_0) \\ll 1$."
   ]
  },
  {
   "cell_type": "markdown",
   "metadata": {
    "slideshow": {
     "slide_type": "skip"
    }
   },
   "source": [
    "The mechanical energy is therefore (under the $\\gamma/(2\\omega_0) \\ll 1$, $\\omega_d \\approx \\omega_0$ approximation):\n",
    "$$ E = K + U \\approx \\frac12 A_0^2 \\eexp{- \\gamma t}\\left[m\\omega_0^2 \\sin^2(\\omega_d t + \\phi) + k \\cos^2(\\omega_d t + \\phi)\\right], $$\n",
    "$$\\textrm{Recall that } m\\omega_0^2 = k \\textrm{ and } \\cos^2 + \\sin^2 = 1\\quad \\Rightarrow\\quad \\boxed{E = \\frac12 k A_0^2 \\eexp{- \\gamma t}}.$$"
   ]
  },
  {
   "cell_type": "markdown",
   "metadata": {
    "slideshow": {
     "slide_type": "skip"
    }
   },
   "source": [
    "The point to remember is that  **for a lightly damped oscillator, the mechanical energy decays exponentially.**\n",
    "The e-folding decay time scale $1/\\gamma$ is also called the *lifetime* of the oscillation."
   ]
  },
  {
   "cell_type": "markdown",
   "metadata": {
    "slideshow": {
     "slide_type": "skip"
    }
   },
   "source": [
    "*Remarks:*\n",
    "\n",
    "* *We only ask you to remember this $\\gamma/(2\\omega_0) \\ll 1$ limiting behaviour. Below, I plot the unapproximated version of $K$ and $E$ for your information, not because you have to remember it.*\n",
    "* *Above, I made a few approximations in a row, which can be dangerous business if we are not careful. The proper way to do it would be to define $\\varepsilon = \\gamma/(2\\omega_0)$, to Taylor-expand each term, and to collect all the leading-order terms. Such mathematical refinery is a bit too technical for what is required of you in this class.*"
   ]
  },
  {
   "cell_type": "code",
   "execution_count": 23,
   "metadata": {
    "slideshow": {
     "slide_type": "skip"
    }
   },
   "outputs": [],
   "source": [
    "# let's plot, with the previous numerical values for the underdamped oscillator\n",
    "\n",
    "K_under = 0.5*m*v_under**2\n",
    "K_under_approx = 0.5*m*v_under_approx**2\n",
    "\n",
    "U_under = 0.5*k*x_under**2\n",
    "\n",
    "E_under = K_under + U_under\n",
    "E_under_approx = K_under_approx + U_under\n",
    "\n",
    "fig = plt.figure(dpi=100)\n",
    "ax1 = fig.gca()\n",
    "ax1.plot(t, K_under, 'b-.', label='$K(t)$')  # unapproximated kinetic energy\n",
    "ax1.plot(t, K_under_approx, 'b', label='$K(t)$, approx.')  # approximated kinetic energy\n",
    "ax1.plot(t, U_under, 'g--', label='$U(t)$')  # potential energy\n",
    "ax1.plot(t, E_under, 'r-.', label='$E(t)$')  # unapproximated mechanical energy\n",
    "ax1.plot(t, E_under_approx, 'r', label='$E(t)$, approx.')  # approximated mechanical energy\n",
    "ax1.set_xlim([0., 3.])\n",
    "ax1.set_xlabel('time [s]', fontsize=ftsz) \n",
    "ax1.set_ylabel('Energies [J]', fontsize=ftsz)\n",
    "\n",
    "ax1.grid()\n",
    "ax1.axhline(0., color='k')  # draw the zero-axis as horizontal line\n",
    "\n",
    "plt.tight_layout()\n",
    "ax1.set_xlim(0., 3.)\n",
    "\n",
    "plt.legend()\n",
    "plt.savefig('LightlyDampedEnergy.png')\n",
    "plt.close()"
   ]
  },
  {
   "cell_type": "markdown",
   "metadata": {
    "slideshow": {
     "slide_type": "slide"
    }
   },
   "source": [
    "![Fig. 7: Energy of lightly damped oscillations](LightlyDampedEnergy.png)"
   ]
  },
  {
   "cell_type": "code",
   "execution_count": 24,
   "metadata": {
    "slideshow": {
     "slide_type": "skip"
    }
   },
   "outputs": [
    {
     "name": "stdout",
     "output_type": "stream",
     "text": [
      "gamma/(2*omega0) = 4.2e-02\n",
      "Q = 1.2e+01\n",
      "1/gamma = 8.0e-01 s\n"
     ]
    }
   ],
   "source": [
    "print('gamma/(2*omega0) = {0:.1e}'.format(0.5*b_under/m/sqrt(k/m)))\n",
    "print('Q = {0:.1e}'.format(sqrt(k/m)/(b_under/m)))\n",
    "print('1/gamma = {0:.1e} s'.format((b_under/m)**-1))"
   ]
  },
  {
   "cell_type": "markdown",
   "metadata": {
    "slideshow": {
     "slide_type": "skip"
    }
   },
   "source": [
    "As you can see above (fig. 7), it is hard to distinguish the curves with or without the $\\gamma/(2\\omega) \\ll 1$ approximation, meaning that even for an e-folding decay scale of a few pseudo-oscillation periods (here, $\\gamma/(2\\omega) \\approx 0.042$), the approximation is a good one."
   ]
  },
  {
   "cell_type": "markdown",
   "metadata": {
    "slideshow": {
     "slide_type": "skip"
    }
   },
   "source": [
    "## Over- and Critically damped oscillators"
   ]
  },
  {
   "cell_type": "markdown",
   "metadata": {
    "slideshow": {
     "slide_type": "skip"
    }
   },
   "source": [
    "There isn't much to say about these cases: their energy just decays, and because of the quadratic dependence of the energy on the amplitude, they decay twice as fast as the envelope of the oscillations.\n",
    "\n",
    "I will just plot all three cases in one plot."
   ]
  },
  {
   "cell_type": "code",
   "execution_count": 25,
   "metadata": {
    "slideshow": {
     "slide_type": "skip"
    }
   },
   "outputs": [],
   "source": [
    "# let's plot, with the previous numerical values fir the underdamped oscillator\n",
    "# Energies for the critical case\n",
    "v_crit = (B - 0.5*gamma_crit*A - 0.5*gamma_crit*B*t)*exp(-0.5*gamma_crit*t)\n",
    "# above: velocity in critical case\n",
    "K_crit = 0.5*m*v_crit**2  # kinetic\n",
    "U_crit = 0.5*k*x_crit**2  # potential\n",
    "E_crit = K_crit + U_crit  # mechanical\n",
    "\n",
    "# Energies for the overdamped case\n",
    "K_over = 0.5*m*v_over**2  # kinetic\n",
    "U_over = 0.5*k*x_over**2  # potential\n",
    "E_over = K_over + U_over  # mechanical\n",
    "\n",
    "# plot\n",
    "fig = plt.figure(dpi=100)\n",
    "ax1 = fig.gca()\n",
    "ax1.plot(t, E_under_approx, 'g-.', label='underdamped, approx.')\n",
    "ax1.plot(t, E_over, 'r--', label='overdamped')\n",
    "ax1.plot(t, E_crit, 'b', label='critical')\n",
    "ax1.set_xlabel('time [s]', fontsize=ftsz) \n",
    "ax1.set_ylabel('Energies [J]', fontsize=ftsz)\n",
    "\n",
    "ax1.grid()\n",
    "ax1.axhline(0., color='k')  # draw the zero-axis as horizontal line\n",
    "ax1.set_xlim(0., 3.)\n",
    "\n",
    "plt.tight_layout()\n",
    "\n",
    "plt.legend()\n",
    "plt.savefig('DampedEnergy.png')\n",
    "plt.close()"
   ]
  },
  {
   "cell_type": "markdown",
   "metadata": {
    "slideshow": {
     "slide_type": "subslide"
    }
   },
   "source": [
    "![Fig. 8: Energy of damped oscillations](DampedEnergy.png)"
   ]
  },
  {
   "cell_type": "markdown",
   "metadata": {
    "slideshow": {
     "slide_type": "skip"
    }
   },
   "source": [
    "The critical case is the one for which the energy decays the fastest on figure 8, and in all cases (all other things being equal) as well.\n",
    "In some engineering problems like the ones I was mentioning before, removing energy as fast as possible is a desirable quality."
   ]
  },
  {
   "cell_type": "markdown",
   "metadata": {
    "slideshow": {
     "slide_type": "skip"
    }
   },
   "source": [
    "# Quality factor ('$Q$-value') of an oscillator\n",
    "\n",
    "## Definition\n",
    "\n",
    "In many other engineering cases, we want a system to require as little driving as possible, for energy saving purposes for example.\n",
    "If that is indeed what one wants, the damping has to be as weak as possible.\n",
    "In this case, the *quality* of the system will therefore be measured by the ratio\n",
    "$$ Q = \\frac{\\textrm{tendency to oscillate}}{\\textrm{tendency to damp}}. $$\n",
    "Now, there is no fool-proof definition of what these \"tendencies\" are.\n",
    "But in the lightly damped oscillator (the only one, the $Q$-factor applies to), oscillations last longer when $\\gamma \\ll 2\\omega_0$.\n",
    "Therefore, a high \"quality\" (as defined by those for whom this is a quality...) is achieved when\n",
    "$$ \\boxed{Q = \\frac{\\omega_0}\\gamma}. $$\n",
    "\n",
    "With this definition, the pseudo-angular frequency can be written $$\\omega_d^2 = \\omega_0^2\\left(1 - \\frac1{4Q^2}\\right).$$\n",
    "\n",
    "$Q$ is called the *quality factor*, $Q$*-factor* or $Q$*-value* of the oscillator.\n",
    "In the case I used throughout this set of notes, $Q \\approx 12$."
   ]
  },
  {
   "cell_type": "markdown",
   "metadata": {
    "slideshow": {
     "slide_type": "skip"
    }
   },
   "source": [
    "It can be thought of as a measure of the number of oscillations (in radians) an oscillator can achieve within one lifetime.\n",
    "Indeed, define $\\tau = 1/\\gamma$ as the lifetime, and $n = \\tau/T_0$ the number of natural cycles achieved in one lifetime; then $\\boxed{Q = 2\\pi n}$."
   ]
  },
  {
   "cell_type": "markdown",
   "metadata": {
    "slideshow": {
     "slide_type": "skip"
    }
   },
   "source": [
    "You can verify it on the figures of lightly damped oscillations in this chapter: we have $\\gamma^{-1} = \\tau \\approx 0.8$ s, during which you see the oscillator perform almost two full cycles.\n",
    "$2\\pi \\approx 6$, 2 cycles $\\times$ 2$\\pi \\approx 12\\approx Q$.\n",
    "\n",
    "It works because $Q$ is high enough to say that $T_0 \\approx T_d$.\n",
    "For most practical matters, this is the case."
   ]
  },
  {
   "cell_type": "markdown",
   "metadata": {
    "slideshow": {
     "slide_type": "slide"
    }
   },
   "source": [
    "Fig. 2.7 of King (reproduced here, fig. 9) shows a few examples of oscillators with different $b$ parameters, and their corresponding $Q$ values.\n",
    "\n",
    "![Fig. 9: (King 2.7) Q-values](Q-valuz.png)"
   ]
  },
  {
   "cell_type": "markdown",
   "metadata": {
    "slideshow": {
     "slide_type": "skip"
    }
   },
   "source": [
    "## Energetic interpretation\n",
    "\n",
    "The quality factor also has an interpretation of how vigorously the damping removes mechanical energy from the system.\n",
    "Indeed, let $E_n = E_0\\exp(-\\gamma t)$ be the mechanical energy in the system at a given time $t$.\n",
    "One pseudo-period later, the mechanical energy will be $E_{n+1} = E_0\\exp(-\\gamma(t+T_d))$."
   ]
  },
  {
   "cell_type": "markdown",
   "metadata": {
    "slideshow": {
     "slide_type": "skip"
    }
   },
   "source": [
    "The mechanical energy lost in the system during a pseudo-period, relative to how much energy there was at the beginning of the pseudo-period, is therefore equal to\n",
    "$$ \\frac{E_{n} - E_{n+1}}{E_n} = \\frac{\\exp(-\\gamma t) - \\exp(-\\gamma(t+T_d))}{\\exp(-\\gamma t)} = 1 - \\exp(-\\gamma T_d).$$\n",
    "\n",
    "Recall that if $\\varepsilon \\ll 1$, then $\\exp(\\varepsilon) = 1 + \\varepsilon + O(\\varepsilon^2) \\approx 1 + \\varepsilon$ (Taylor expansion).\n",
    "Therefore, for a very lightly damped oscillator ($\\gamma \\ll \\omega_0$, $Q \\gg 1$), \n",
    "$$ \\frac{E_{n} - E_{n+1}}{E_n} \\approx \\gamma T_d \\approx \\frac{2\\pi}{Q}.$$\n",
    "\n",
    "This was the relative energy loss *during one (pseudo-)cycle*.\n",
    "The relative energy loss *during one (pseudo-)radian* is therefore $1/Q$.\n",
    "In other words, a possible interpretation of $Q$ is\n",
    "$$ Q  = \\frac{\\textrm{energy stored in the oscillator}}{\\textrm{energy dissipated one radian later}}. $$"
   ]
  },
  {
   "cell_type": "markdown",
   "metadata": {
    "slideshow": {
     "slide_type": "subslide"
    }
   },
   "source": [
    "## Some values\n",
    "\n",
    "Taken from King's Table 2.1.\n",
    "\n",
    "| Oscillatory system | Typical value of Q |\n",
    "| :-: | :-: |\n",
    "| Paper weight suspended on a rubber band | 10 |\n",
    "| Clock pendulum | 75 |\n",
    "| Electrical LRC circuit | 200 |\n",
    "| Plucked violin string | 1,000 |\n",
    "| Microwave cavity oscillator | 10,000 |\n",
    "| Quartz crystal | 1,000,000 |"
   ]
  },
  {
   "cell_type": "markdown",
   "metadata": {
    "slideshow": {
     "slide_type": "slide"
    }
   },
   "source": [
    "# Damped Electrical Oscillations: the LRC circuit\n",
    "\n",
    "See Fig. 2.8 of King attached (fig. 10): we add a resistor (resistance $R$) in series to the circuit we saw in the first chapter, which adds damping to the system.\n",
    "\n",
    "![Fig. 10 (King 2.8) The LRC circuit](LRC.png)"
   ]
  },
  {
   "cell_type": "markdown",
   "metadata": {
    "slideshow": {
     "slide_type": "skip"
    }
   },
   "source": [
    "Like in the chapter on SHOs, we will draw an analogy between the spring+mass system and the LRC circuit by simply deriving the equation for the DHO, and the rest will follow.\n",
    "\n",
    "Recall that the equivalent of Newton's second law to derive the equation for an electric circuit is Kirchhoff's law, i.e., all voltages sum up to zero.\n",
    "Here are the voltages of each component at any instant:\n",
    "\n",
    "* capacitor: $V_C = q/C$,\n",
    "* inductor: $V_L = L\\dot I = L\\ddot q$, and\n",
    "* resistor: $V_R = RI = R\\dot q$.\n",
    "\n",
    "Therefore, because the equivalent of $\\dot x$ is $\\dot q$ here, the equivalent of $b$ is now $R$."
   ]
  },
  {
   "cell_type": "markdown",
   "metadata": {
    "slideshow": {
     "slide_type": "skip"
    }
   },
   "source": [
    "Kirchhoff's law is now\n",
    "$$ L\\ddot q + R\\dot q + q/C = 0 \\quad \\Rightarrow \\quad \\ddot q + \\gamma\\dot q + \\omega_0^2 q = 0, $$\n",
    "after division by $L$ and with $\\gamma = R/L$ and $\\omega_0^2 = 1/LC$."
   ]
  },
  {
   "cell_type": "markdown",
   "metadata": {
    "slideshow": {
     "slide_type": "slide"
    }
   },
   "source": [
    "We can now complete the table, which I started in Chapter 1 on SHOs:\n",
    "\n",
    "| Mass + spring + damping | LRC circuit |\n",
    "| :---------------------: | :---------------------: |\n",
    "| $x$                 | $q$         |\n",
    "| $v$                 | $I$         |\n",
    "| $m$                 | $L$         |\n",
    "| $k$                 | $1/C$       |\n",
    "| $\\omega_0^2=k/m$    | $\\omega_0^2=1/(LC)$ |\n",
    "| KE $K=mv^2/2$       | Magnetic energy $LI^2/2$ |\n",
    "| PE $U=kA^2/2$       | Electrostatic energy $CV_C^2/2$ |\n",
    "| $b$                 | $R$         |\n",
    "| $\\gamma=b/m$        | $\\gamma=R/L$ |\n",
    "| $\\omega_d^2=\\frac1m\\left(k-\\frac{b^2}{4m}\\right)$ | $\\omega_d^2=\\frac1L\\left(\\frac1C-\\frac{R^2}{4L}\\right)$ |\n",
    "| $Q=\\frac{\\sqrt{km}}b$ | $Q=\\frac1R\\sqrt{\\frac{L}{C}}$ |"
   ]
  },
  {
   "cell_type": "markdown",
   "metadata": {
    "slideshow": {
     "slide_type": "skip"
    }
   },
   "source": [
    "Equations are generic, the physics is in the parameters."
   ]
  }
 ],
 "metadata": {
  "anaconda-cloud": {},
  "celltoolbar": "Slideshow",
  "kernelspec": {
   "display_name": "Python 3",
   "language": "python",
   "name": "python3"
  },
  "language_info": {
   "codemirror_mode": {
    "name": "ipython",
    "version": 3
   },
   "file_extension": ".py",
   "mimetype": "text/x-python",
   "name": "python",
   "nbconvert_exporter": "python",
   "pygments_lexer": "ipython3",
   "version": "3.8.3"
  }
 },
 "nbformat": 4,
 "nbformat_minor": 1
}
