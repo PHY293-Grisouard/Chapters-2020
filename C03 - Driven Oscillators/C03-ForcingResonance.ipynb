{
 "cells": [
  {
   "cell_type": "raw",
   "metadata": {
    "raw_mimetype": "text/latex",
    "scrolled": true,
    "slideshow": {
     "slide_type": "skip"
    }
   },
   "source": [
    "\\newcommand{\\rads}{~rad.s$^{-1}$}\n",
    "\\newcommand{\\bnabla}{\\boldsymbol{\\nabla}}\n",
    "\\newcommand{\\eexp}[1]{\\textrm{e}^{#1}}\n",
    "\\newcommand{\\glm}[1]{\\overline{#1}^L}\n",
    "\\newcommand{\\di}[0]{\\textrm{d}}\n",
    "\\newcommand{\\bs}[1]{\\boldsymbol{#1}}\n",
    "\\newcommand{\\ode}[2]{\\frac{\\di {#1}}{\\di {#2}}}\n",
    "\\newcommand{\\oden}[3]{\\frac{\\di^{#1} {#2}}{\\di {#3}^{#1}}}\n",
    "\\newcommand{\\odel}[2]{\\di {#1}/\\di {#2}}\n",
    "\\newcommand{\\odeln}[3]{\\di^{#1} {#2}/\\di {#3}^{#1}}\n",
    "\\newcommand{\\pde}[2]{\\frac{\\partial {#1}}{\\partial {#2}}}\n",
    "\\newcommand{\\pden}[3]{\\frac{\\partial^{#1} {#2}}{\\partial {#3}^{#1}}}\n",
    "\\newcommand{\\pdel}[2]{\\partial_{#2} {#1}}\n",
    "\\newcommand{\\pdenl}[3]{\\partial^{#1}_{#3} {#2}}\n",
    "\\newcommand{\\divr}[1]{\\vec\\nabla \\cdot {#1}}\n",
    "\\newcommand{\\divrb}[1]{\\boldsymbol{\\nabla} \\cdot {#1}}\n",
    "\\newcommand{\\grad}[1]{\\vec \\nabla {#1}}\n",
    "\\newcommand{\\gradb}[1]{\\boldsymbol\\nabla {#1}}\n",
    "\\newcommand{\\curl}[1]{\\vec\\nabla \\times {#1}}\n",
    "\\newcommand{\\curlb}[1]{\\boldsymbol{\\nabla}\\times\\boldsymbol{#1}}\n",
    "\\newcommand{\\lapl}[0]{\\vec\\nabla^2}\n",
    "\\newcommand{\\laplb}[0]{\\boldsymbol{\\nabla}^2}\n",
    "\\newcommand{\\cplxi}[0]{\\mathrm i}\n",
    "\\newcommand{\\unit}[1]{\\mathbf{\\hat{#1}}}\n",
    "\\newcommand{\\thrfor}[0]{\\quad\\Rightarrow\\quad}\n",
    "\\newcommand{\\red}[1]{\\textcolor{red}{#1}}\n",
    "\\newcommand{\\blue}[1]{\\textcolor{blue}{#1}}\n",
    "\\newcommand{\\mage}[1]{\\textcolor{magenta}{#1}}"
   ]
  },
  {
   "cell_type": "raw",
   "metadata": {
    "raw_mimetype": "text/latex",
    "slideshow": {
     "slide_type": "skip"
    }
   },
   "source": [
    "\\DefineVerbatimEnvironment{Verbatim}{Verbatim}{fontsize=\\scriptsize}"
   ]
  },
  {
   "cell_type": "markdown",
   "metadata": {
    "slideshow": {
     "slide_type": "skip"
    }
   },
   "source": [
    "$\\newcommand{\\rads}{~rad.s$^{-1}$}$\n",
    "$\\newcommand{\\bnabla}{\\boldsymbol{\\nabla}}$\n",
    "$\\newcommand{\\eexp}[1]{\\textrm{e}^{#1}}$\n",
    "$\\newcommand{\\glm}[1]{\\overline{#1}^L}$\n",
    "$\\newcommand{\\di}[0]{\\textrm{d}}$\n",
    "$\\newcommand{\\bs}[1]{\\boldsymbol{#1}}$\n",
    "$\\newcommand{\\ode}[2]{\\frac{\\di {#1}}{\\di {#2}}}$\n",
    "$\\newcommand{\\oden}[3]{\\frac{\\di^{#1} {#2}}{\\di {#3}^{#1}}}$\n",
    "$\\newcommand{\\odel}[2]{\\di {#1}/\\di {#2}}$\n",
    "$\\newcommand{\\odeln}[3]{\\di^{#1} {#2}/\\di {#3}^{#1}}$\n",
    "$\\newcommand{\\pde}[2]{\\frac{\\partial {#1}}{\\partial {#2}}}$\n",
    "$\\newcommand{\\pden}[3]{\\frac{\\partial^{#1} {#2}}{\\partial {#3}^{#1}}}$\n",
    "$\\newcommand{\\pdel}[2]{\\partial_{#2} {#1}}$\n",
    "$\\newcommand{\\pdenl}[3]{\\partial^{#1}_{#3} {#2}}$\n",
    "$\\newcommand{\\mde}[1]{\\frac{\\textrm{D} {#1}}{\\textrm{D} t}}$\n",
    "$\\newcommand{\\mdel}[1]{\\textrm{D}_t {#1}}$\n",
    "$\\newcommand{\\divr}[1]{\\vec\\nabla \\cdot {#1}}$\n",
    "$\\newcommand{\\divrb}[1]{\\boldsymbol{\\nabla} \\cdot {#1}}$\n",
    "$\\newcommand{\\grad}[1]{\\vec \\nabla {#1}}$\n",
    "$\\newcommand{\\gradb}[1]{\\boldsymbol\\nabla {#1}}$\n",
    "$\\newcommand{\\curl}[1]{\\vec\\nabla \\times {#1}}$\n",
    "$\\newcommand{\\curlb}[1]{\\boldsymbol{\\nabla}\\times\\boldsymbol{#1}}$\n",
    "$\\newcommand{\\lapl}[0]{\\vec\\nabla^2}$\n",
    "$\\newcommand{\\laplb}[0]{\\boldsymbol{\\nabla}^2}$\n",
    "$\\newcommand{\\cplxi}[0]{\\mathrm i}$\n",
    "$\\newcommand{\\unit}[1]{\\mathbf{\\hat{#1}}}$\n",
    "$\\newcommand{\\thrfor}[0]{\\quad\\Rightarrow\\quad}$\n",
    "$\\newcommand{\\red}[1]{\\textcolor{red}{#1}}$\n",
    "$\\newcommand{\\blue}[1]{\\textcolor{blue}{#1}}$\n",
    "$\\newcommand{\\mage}[1]{\\textcolor{magenta}{#1}}$"
   ]
  },
  {
   "cell_type": "code",
   "execution_count": 38,
   "metadata": {
    "raw_mimetype": "text/x-python",
    "slideshow": {
     "slide_type": "skip"
    }
   },
   "outputs": [],
   "source": [
    "from IPython.display import Image, display"
   ]
  },
  {
   "cell_type": "markdown",
   "metadata": {
    "slideshow": {
     "slide_type": "skip"
    }
   },
   "source": [
    "*[Book: chapter 3]*"
   ]
  },
  {
   "cell_type": "markdown",
   "metadata": {
    "slideshow": {
     "slide_type": "skip"
    }
   },
   "source": [
    "# Expectations"
   ]
  },
  {
   "cell_type": "markdown",
   "metadata": {
    "slideshow": {
     "slide_type": "slide"
    }
   },
   "source": [
    "## Remember:\n",
    "\n",
    "* If an oscillator is driven at frequency $\\omega$, then the oscillator also oscillates at frequency $\\omega$, no matter what its value of $\\omega_0$ and $\\gamma$ are.\n",
    "* If the oscillator is driven at $\\omega \\approx \\omega_0$, then the oscillator resonates, i.e., it amplifies the oscillations of the driver.\n",
    "* At resonance, the amplitude of the oscillations is approximately equal to the amplitude of the forcing multiplied by $Q$: $A \\approx QA_f$,\n",
    "* When $\\omega < \\omega_0$, driving and oscillator oscillate in phase (think of the spring that is barely stretched or compressed), when $\\omega > \\omega_0$, driver and oscillator are in phase opposition, and when $\\omega \\approx \\omega_0$, the oscillator lags the driver by a quarter cycle ($\\pi/2$).\n",
    "* The resonance frequency is exactly $\\omega_0$ because it is where the peak in velocity response and power absorption are both located.\n",
    "* The full width at half height, how to recognize it in a power curve, and that $\\omega_{fwhh} \\approx \\gamma$.\n",
    "* The trade-off between the amplification that is proportional to $Q$, and the FWHH, which goes as $1/Q$ (recall: $\\omega_{fwhh} \\approx \\gamma = \\omega_0/Q$)."
   ]
  },
  {
   "cell_type": "markdown",
   "metadata": {
    "slideshow": {
     "slide_type": "subslide"
    }
   },
   "source": [
    "## Understand:\n",
    "\n",
    "* Testing for $x = A \\cos(\\omega t - \\delta)$ was validated by finding expressions for $A$ and $\\delta$ that would satisfy the nonhomogeneous ODE.\n",
    "* How we use the rule that $$ A\\cos(\\omega t) + B\\sin(\\omega t) = C \\cos(\\omega t) \\thrfor A = C\\quad \\textrm{and}\\quad B = 0$$\n",
    "to obtain the curves for $A(\\omega)$ and $\\delta(\\omega)$.\n",
    "* The connection between the transient and forced responses being superposed, and the mathematical result that the solution to a nonhomogeneous ODE is the sum of the complementary and particular solutions."
   ]
  },
  {
   "cell_type": "markdown",
   "metadata": {
    "slideshow": {
     "slide_type": "subslide"
    }
   },
   "source": [
    "## Apply\n",
    "\n",
    "* See worked examples, tutorials and problem sets."
   ]
  },
  {
   "cell_type": "markdown",
   "metadata": {
    "slideshow": {
     "slide_type": "skip"
    }
   },
   "source": [
    "# General considerations"
   ]
  },
  {
   "cell_type": "markdown",
   "metadata": {
    "slideshow": {
     "slide_type": "skip"
    }
   },
   "source": [
    "So far, we have seen *free* oscillations of damped and undamped oscillators. \n",
    "This was a necessary first step, because such oscillations described the *free* behaviour of the system.\n",
    "We now turn to what happens when oscillations are *forced*, or *driven*: we impose a forcing on the oscillator, and in the context of this class, this forcing is sinusoidal, with a very well-defined frequency.\n",
    "\n",
    "You have an intuitive knowledge of what is about to happen already. \n",
    "Imagine yourself on a swing.\n",
    "Sitting on the swing, you back up to get your first impulse, and let yourself swing.\n",
    "If you don't make any move, your trajectory should be well described as a DHO, with a frequency $\\omega_d$.\n",
    "Now, move your legs, in order for your trajectory to rise higher and higher up.\n",
    "Intuitively, you kick your legs with a frequency that roughly matches $\\omega_d$ or $\\omega_0$ (you probably aren't precise enough to tell the difference).\n",
    "And again, intuitively, you know that you have to kick your legs back-and-forth **in sync** with what the free oscillation would be if you weren't. \n",
    "You also know that there is a particular moment in the cycle at which you need to kick your legs: intuitively, you know that your forcing has to have a certain **phase shift** with respect to your position or velocity.\n",
    "The forcing you are imparting on the {you+swing+damping} system is *resonant*.\n",
    "\n",
    "Intuitively still, you know that if you were kicking your legs very fast, say, every two seconds or so, the swing would oscillate at that frequency, but you would not go very far.\n",
    "In that case, your forcing would be *off-resonant*.\n",
    "\n",
    "Drawing a graph of how high you go vs. the frequency of your legs, you know that there is a resonant frequency somewhere ($\\nu \\approx 0.2$ Hz or so) where your amplitude will be maximum, and that if you kick too fast or too slow, your amplitude will be tiny.\n",
    "And fortunately for swing makers, you also know intuitively that you don't have to be extremely precise in the timing of your kicks every $T_d$.\n",
    "It means that the peak around the resonance has some width."
   ]
  },
  {
   "cell_type": "markdown",
   "metadata": {
    "slideshow": {
     "slide_type": "skip"
    }
   },
   "source": [
    "At some point, no matter how high you kick, your amplitude will stop growing and you won't loop around the swing. \n",
    "At that point, the simple harmonic oscillator model, damped or not, will have stopped being valid a few kicks ago, because of non-linear effects.\n",
    "This is the typical behaviour of a forced linear harmonic oscillator: force too fast or too slow, and the oscillator will respond at the forcing frequency, although weakly so.\n",
    "Force at the frequency that it would oscillate at if left alone, and the amplitude of the oscillator will grow until the linear model stops being valid.\n",
    "Finally, with strong enough dissipation, the amplitude of the oscillations will remain finite, even at resonance, because of energy being removed from the system fast enough."
   ]
  },
  {
   "cell_type": "markdown",
   "metadata": {
    "slideshow": {
     "slide_type": "skip"
    }
   },
   "source": [
    "I just summarized in a few paragraphs what I am about to describe in this chapter.\n",
    "Examples of straight-out resonant phenomena abound: bow on a violin string, brass instruments, pendulum clock, resonant tides in the Bay of Fundy between Nova Scotia and New Brunswick, that funny Tacoma bridge that went resonant in the 40's, your washing machine that shakes at a very particular angular speed during spin-up and slow-up phases...\n",
    "More importantly perhaps, many systems, some industrial, some natural, some physical, some electronic, contain all sorts of vibrations, some desirable, some not. \n",
    "Each of these vibration modes can be described as a DHO, and mapping which one will resonate and grow, controllably or not, under which circumstances, is an essential step to understand or design a system."
   ]
  },
  {
   "cell_type": "markdown",
   "metadata": {
    "slideshow": {
     "slide_type": "skip"
    }
   },
   "source": [
    "# Forced, undamped oscillator\n",
    "\n",
    "In a first time, we add some forcing to the undamped SHO, mostly for simplicity.\n",
    "We will re-introduce damping later."
   ]
  },
  {
   "cell_type": "markdown",
   "metadata": {
    "slideshow": {
     "slide_type": "slide"
    }
   },
   "source": [
    "![Fig. 1: DHO in resonance, driven at frequency $\\omega = omega_0$, with $\\omega_0 =1$ \\rads, $\\gamma = 0.02$ s$^{-1}$. (By Jkrieger [CC BY-SA 3.0 (https://creativecommons.org/licenses/by-sa/3.0)], from Wikimedia Commons)](Spring_resonance_simple.gif)"
   ]
  },
  {
   "cell_type": "markdown",
   "metadata": {
    "slideshow": {
     "slide_type": "skip"
    }
   },
   "source": [
    "## Setup\n",
    "\n",
    "Let's go back to our original SHO: a spring attached to a mass, without friction.\n",
    "But this time, we attach the system to a little engine that can instead of a wall.\n",
    "The engine oscillates harmonically along $x$, with frequency $\\omega$ and applying a force of amplitude $F_0$ to the mass:\n",
    "$$ \\boxed{\\ddot x + \\omega_0^2 x = F_0'\\cos(\\omega t),} $$\n",
    "with $\\omega_0^2 = k/m$ and $F_0' = F_0/m$, and $\\omega$ is called the *driving frequency*, or *forcing frequency*.\n",
    "Contrary to $\\omega_0$, the driving frequency is not a property of the system, it is imposed by the operator (you)."
   ]
  },
  {
   "cell_type": "markdown",
   "metadata": {
    "slideshow": {
     "slide_type": "skip"
    }
   },
   "source": [
    "*Note: attaching the spring to a moving wall is not the same as applying a force to a mass, you might say.*\n",
    "*No, but because the spring is stretched and compressed due to the motion of the wall, the force of the spring acting on the mass is:*\n",
    "$$ F_{spring\\to mass} = -k[x - \\xi(t)] = -k[x - A_f\\cos(\\omega t)], $$\n",
    "*where $\\xi = A_f\\cos(\\omega t)$ is the position of the moving wall and $x$ is still the position of the mass.*\n",
    "*Defining $F_0 = kA_f$ and $F_0' = \\omega_0^2 A_f$ yields the framed equation above.*"
   ]
  },
  {
   "cell_type": "markdown",
   "metadata": {
    "slideshow": {
     "slide_type": "skip"
    }
   },
   "source": [
    "## Solutions\n",
    "\n",
    "### General Approach\n",
    "\n",
    "The equation to be solved is a inhomogeneous ODE.\n",
    "Such equations are solved by finding the solution of the homogeneous equation (the complementary solution), find one particular solution of the full problem, and add them to find the final solution."
   ]
  },
  {
   "cell_type": "markdown",
   "metadata": {
    "slideshow": {
     "slide_type": "skip"
    }
   },
   "source": [
    "We will actually focus on the particular solution and ignore the complementary solution.\n",
    "Why?\n",
    "We already solved for the latter in chapter 1 on SHOs.\n",
    "It is something like $A\\cos(\\omega_0 t + \\phi)$, oscillating for ever and ever.\n",
    "It means that if, at $t=0$, the mass is in motion, or away from its rest position, or if switching the driving on creates such an oscillation, then there will be a simple harmonic motion of frequency $\\omega_0$ superposed on whatever motion is induced by the forcing.\n",
    "We can keep in mind that the full solution would need to be augmented by the complementary solution, if we were to care about it. But really, we don't."
   ]
  },
  {
   "cell_type": "markdown",
   "metadata": {
    "slideshow": {
     "slide_type": "skip"
    }
   },
   "source": [
    "What is a particular solution of the forced problem then?\n",
    "If I wanted to use a systematic approach, I could try a solution of the from $\\eexp{rt}$ again, and after a few lines of calculation, find the roots.\n",
    "\n",
    "But maybe we can shortcut this procedure by imagining what would happen in the quasi-static limit of $\\omega \\ll \\omega_0$.\n",
    "In this limit, the wall moves so slowly that the {spring+mass} system can follow the motion without the spring stretching or compressing.\n",
    "Then, the position of the mass will just be a translation away from the position of the wall: $x(t) = \\xi(t) = A_f\\cos(\\omega t)$."
   ]
  },
  {
   "cell_type": "markdown",
   "metadata": {
    "slideshow": {
     "slide_type": "skip"
    }
   },
   "source": [
    "So, why not just try:\n",
    "$$ x(t) = A(\\omega)\\cos(\\omega t - \\delta(\\omega))? $$\n",
    "After all, from the example above, it seems that there is a good chance that the frequency of motion is the same as the frequency of forcing.\n",
    "Based on considerations laid out at the beginning of this chapter, it seems that the amplitude might vary with frequency (resonance), and it seems that the phase shift between forcing and motion, i.e. $\\delta(\\omega)$, is also important, and might depend on frequency.\n",
    "\n",
    "To check whether this form of the solution is valid, we have to check whether there is a $A(\\omega)$ and a $\\delta(\\omega)$ that statisfy the equations of motion. $A$ and $\\delta$ are therefore the unknowns we solve for.\n",
    "\n",
    "And remember, we are just in the trial business.\n",
    "If it didn't work, we would try something else. "
   ]
  },
  {
   "cell_type": "markdown",
   "metadata": {
    "slideshow": {
     "slide_type": "skip"
    }
   },
   "source": [
    "$$v(t) = \\dot x = -\\omega A(\\omega) \\sin(\\omega t - \\delta(\\omega))\\textrm{, and} $$\n",
    "$$\\ddot x(t) = \\dot v = -\\omega^2 A(\\omega) \\cos(\\omega t - \\delta(\\omega)). $$\n",
    "\n",
    "Plugging into the original equation of motion yields\n",
    "$$-\\omega^2 A(\\omega) \\cos(\\omega t - \\delta(\\omega)) + \\omega^2_0 A(\\omega) \\cos(\\omega t  - \\delta(\\omega)) = \\omega_0^2 A_f \\cos(\\omega t). $$\n",
    "$$\\Rightarrow \\quad A(\\omega) \\cos(\\omega t  - \\delta(\\omega)) = \\frac{\\omega_0^2}{\\omega^2_0 - \\omega^2} A_f \\cos(\\omega t). $$"
   ]
  },
  {
   "cell_type": "markdown",
   "metadata": {
    "slideshow": {
     "slide_type": "skip"
    }
   },
   "source": [
    "Recalling that $\\cos(a-b) = \\cos a\\cos b + \\sin a \\sin b$, we can expand the left-hand side to obtain (allow me to not explicitly write the $\\omega$-dependence of $A$ and $\\delta$ for now)\n",
    "$$ A \\left[\\cos(\\omega t)\\cos\\delta + \\sin(\\omega t)\\sin\\delta\\right] = \\frac{\\omega_0^2}{\\omega^2_0 - \\omega^2} A_f\\cos(\\omega t). $$"
   ]
  },
  {
   "cell_type": "markdown",
   "metadata": {
    "slideshow": {
     "slide_type": "skip"
    }
   },
   "source": [
    "In order for the LHS and RHS to beat in phase, we need the coefficient of $\\sin(\\omega t)$ to be zero, i.e.,\n",
    "$$ A\\sin\\delta = 0\\thrfor \\delta = 0 \\ \\textrm{or} \\ \\pi.$$"
   ]
  },
  {
   "cell_type": "markdown",
   "metadata": {
    "slideshow": {
     "slide_type": "subslide"
    }
   },
   "source": [
    "***\n",
    "\n",
    "*End of 09/16 lecture, beginning of 09/17 lecture.*\n",
    "\n",
    "***"
   ]
  },
  {
   "cell_type": "markdown",
   "metadata": {
    "slideshow": {
     "slide_type": "skip"
    }
   },
   "source": [
    "### If $\\delta = 0$,\n",
    "then $\\cos\\delta = 1$, and equating the LHS and RHS coefficients of the $\\cos(\\omega t)$ terms,\n",
    "$$ A(\\omega) = \\frac{\\omega_0^2}{\\omega^2_0 - \\omega^2} A_f. $$\n",
    "The amplitude is a positive quantity by definition.\n",
    "Therefore, $\\omega_0 > \\omega$: the $\\delta = 0$ case and the expression above is valid for a forcing frequency that is lower than the natural frequency.\n",
    "\n",
    "Which is compatible with our thought experiment of a very slow oscillation:\n",
    "$$ \\omega/\\omega_0 \\to 0 \\thrfor \\delta = 0\\quad \\textrm{and} \\quad A/A_f \\to 1. $$\n",
    "That is, $x(t) \\to \\xi(t)$, the case of a moving wall so slow the spring does not compress nor stretch."
   ]
  },
  {
   "cell_type": "markdown",
   "metadata": {
    "slideshow": {
     "slide_type": "skip"
    }
   },
   "source": [
    "### If $\\delta = \\pi$,\n",
    "then $\\cos\\delta = -1$, and equating the LHS and RHS coefficients of the $\\cos(\\omega t)$ terms,\n",
    "$$ A(\\omega) = -\\frac{\\omega_0^2}{\\omega^2_0 - \\omega^2} A_f. $$\n",
    "The amplitude is still a positive quantity by definition.\n",
    "Therefore, $\\omega_0 < \\omega$: the $\\delta = \\pi$ case and the expression above is valid for a forcing frequency that is higher than the natural frequency.\n",
    "\n",
    "In this case, the wall and the mass oscillate at the same frequency, but in opposition of phase.\n",
    "We also have\n",
    "$$\\lim_{\\omega/\\omega_0 \\to +\\infty}\\left(\\frac{A(\\omega)}{A_f}\\right) = 0.$$\n",
    "\n",
    "And what if $\\omega = \\omega_0$, the resonant case? At first sight, $A \\to \\infty$, which is better visualized on a plot (see fig. 2)."
   ]
  },
  {
   "cell_type": "markdown",
   "metadata": {
    "slideshow": {
     "slide_type": "skip"
    }
   },
   "source": [
    "### Plot\n",
    "\n",
    "(see fig. 2)"
   ]
  },
  {
   "cell_type": "code",
   "execution_count": 39,
   "metadata": {
    "slideshow": {
     "slide_type": "skip"
    }
   },
   "outputs": [],
   "source": [
    "# This cell is for parameters that I do not intend to change across this chapter.\n",
    "from numpy import cos, sin, exp, sqrt, linspace, pi, sign, arctan, ones, arange\n",
    "import matplotlib.pyplot as plt\n",
    "\n",
    "class ps:  # a class for the fundamental parameters\n",
    "    k = 180.  # spring stiffness [N/m]\n",
    "    m = 0.8  # mass [kg]\n",
    "    A_f = 1e-3  # amplitude of wall motion [m]\n",
    "    omega_0 = sqrt(k/m)  # natural frequency of the oscillation [rad/s]\n",
    "    \n",
    "    T_0 = 2*pi/omega_0  # natural period [s]\n",
    "    t = linspace(0, 6*T_0, 1024)  # the time array"
   ]
  },
  {
   "cell_type": "code",
   "execution_count": 40,
   "metadata": {
    "slideshow": {
     "slide_type": "skip"
    }
   },
   "outputs": [],
   "source": [
    "omega_array = linspace(0.01*ps.omega_0, 3*ps.omega_0, 1028)  # array of angular frequencies\n",
    "omega_low = omega_array[ps.omega_0 > omega_array]  # same but just for omega < omega0\n",
    "omega_high = omega_array[ps.omega_0 < omega_array]  # same but just for omega > omega0\n",
    "\n",
    "A_low = ps.A_f*ps.omega_0**2/(ps.omega_0**2 - omega_low**2)\n",
    "A_high = ps.A_f*ps.omega_0**2/(omega_high**2 - ps.omega_0**2)\n",
    "\n",
    "delta_low = 0.*omega_low\n",
    "delta_high = pi*ones(omega_high.shape)  # an array of same shape as omega_high,\n",
    "# in which all elements are pi.\n",
    "\n",
    "ftsz = 13  # font size on plots\n",
    "\n",
    "plt.figure()\n",
    "\n",
    "# the sub-plot for the amplitude\n",
    "plt.subplot(211)  \n",
    "ax1 = plt.gca()\n",
    "ax1.plot(omega_low/ps.omega_0, A_low/ps.A_f, 'b')  # amplitude for omega < omega_0\n",
    "ax1.plot(omega_high/ps.omega_0, A_high/ps.A_f, 'b')  # amplitude for omega > omega_0\n",
    "ax1.axvline(1., color='k', linestyle='--')  # the omega = omega_0 mark\n",
    "ax1.set_xlabel('$\\omega/\\omega_0$]', fontsize=ftsz) \n",
    "ax1.set_ylabel(r'$A(\\omega)/A_{\\!f}$', fontsize=ftsz)\n",
    "ax1.set_ylim([0, 10.])\n",
    "ax1.set_yticks([1., 5., 10.])\n",
    "ax1.grid()\n",
    "\n",
    "# the sub-plot for the phase\n",
    "plt.subplot(212)  \n",
    "ax2 = plt.gca()\n",
    "ax2.plot(omega_low/ps.omega_0, delta_low, 'r')  # phase for omega < omega_0\n",
    "ax2.plot(omega_high/ps.omega_0, delta_high, 'r')  # phase for omega > omega_0\n",
    "ax2.axvline(1., color='k', linestyle='--')  # omega = omega_0 mark\n",
    "ax2.set_xlabel('$\\omega/\\omega_0$', fontsize=ftsz) \n",
    "ax2.set_ylabel(r'$\\delta(\\omega)$ [rad]', fontsize=ftsz)\n",
    "ax2.set_ylim([-0.1*pi, 1.1*pi])\n",
    "ax2.set_yticks([0., pi])\n",
    "ax2.set_yticklabels(['$0$', '$\\pi$'], fontsize=ftsz)\n",
    "ax2.annotate(s='$\\omega=\\omega_0$', xy=(1., 0.5*pi), xytext=(1.15, 0.6*pi),\n",
    "             arrowprops=dict(arrowstyle='->'), fontsize=ftsz)\n",
    "ax2.text(0.1, pi/10., '$F$, $x$ in phase', fontsize=ftsz, color='r')\n",
    "ax2.text(1.75, pi*0.85, '$F$, $x$ out of phase', fontsize=ftsz, color='r')\n",
    "ax2.grid()\n",
    "\n",
    "plt.savefig(\"ResonanceSHO.png\", dpi=100)\n",
    "plt.close()"
   ]
  },
  {
   "cell_type": "markdown",
   "metadata": {
    "slideshow": {
     "slide_type": "subslide"
    }
   },
   "source": [
    "![Fig. 2: Resonance Curves for a simple harmonic oscillator](ResonanceSHO.png)"
   ]
  },
  {
   "cell_type": "markdown",
   "metadata": {
    "slideshow": {
     "slide_type": "subslide"
    }
   },
   "source": [
    "## The $\\omega = \\omega_0$ case\n",
    "\n",
    "As expected, there is a divergence to infinity of the amplitude as $\\omega$ approaches $\\omega_0$ from either side.\n",
    "When $\\omega = \\omega_0$, the expression $x(t) = A(\\omega)\\cos(\\omega t - \\delta(\\omega))$ ceases to be a solution of the original equation of motion.\n",
    "There is actually a mathematical solution for this case, *which you are not required to know*, but I find it instructive to plot it. Indeed, you can check that\n",
    "$$ x(t) = \\frac12 A_f\\omega_0 t \\cos\\left(\\omega_0 t - \\frac\\pi2\\right)$$\n",
    "is a solution of $\\ddot x + \\omega_0^2 x = \\omega_0^2 A_f\\cos(\\omega_0 t)$."
   ]
  },
  {
   "cell_type": "markdown",
   "metadata": {
    "slideshow": {
     "slide_type": "fragment"
    }
   },
   "source": [
    "![More GoT wisdom](itisKnown.gif)"
   ]
  },
  {
   "cell_type": "code",
   "execution_count": 41,
   "metadata": {
    "slideshow": {
     "slide_type": "skip"
    }
   },
   "outputs": [],
   "source": [
    "# derived quantities\n",
    "\n",
    "xi = ps.A_f*cos(ps.omega_0*ps.t)\n",
    "x = ps.A_f*ps.omega_0*ps.t*cos(ps.omega_0*ps.t - 0.5*pi)/2.\n",
    "envelope = ps.A_f*ps.omega_0*ps.t/2.\n",
    "\n",
    "fig = plt.figure()\n",
    "ax1 = fig.gca()\n",
    "ax1.plot(ps.t, xi, 'r--', label=r'$\\xi(t)$')  # wall position xi\n",
    "ax1.plot(ps.t, x, 'b', label='$x(t)$')  # mass position x\n",
    "ax1.plot(ps.t, envelope, 'b-.', label='$\\pm A_{\\!f} \\omega_0 t/2$')  # envelope\n",
    "ax1.plot(ps.t, -envelope, 'b-.')  # envelope\n",
    "ax1.set_xlabel('time [s]', fontsize=ftsz) \n",
    "ax1.set_ylabel(r'[m]', fontsize=ftsz)\n",
    "ax1.set_xlim([0., ps.t.max()])\n",
    "\n",
    "# annotation to highlight the period\n",
    "ax1.axvline((3-1/8.)*ps.T_0, color='k', linestyle='-.')  # the t=2T+pi/4 mark\n",
    "ax1.axvline((4-1/8.)*ps.T_0, color='k', linestyle='-.')  # the t=nT mark\n",
    "ax1.annotate(s='', xy=((3-1/8.)*ps.T_0, 2.e-2), xytext=((4-1/8.)*ps.T_0, 2.e-2),\n",
    "             arrowprops=dict(arrowstyle='<|-|>'))  # the double arrow\n",
    "ax1.text((3-1/8.+0.5)*ps.T_0, 2.4e-2, r'$T_0 = 2\\pi/\\omega_0$',\n",
    "         verticalalignment='center', horizontalalignment='center',\n",
    "         backgroundcolor='w', fontsize=ftsz)\n",
    "\n",
    "ax1.grid()\n",
    "ax1.axhline(0., color='k')  # draw the zero-axis as horizontal line\n",
    "\n",
    "plt.legend(loc='lower left')\n",
    "\n",
    "plt.savefig(\"SHO_at_resonance.png\", dpi=150)\n",
    "plt.close()"
   ]
  },
  {
   "cell_type": "markdown",
   "metadata": {
    "scrolled": false,
    "slideshow": {
     "slide_type": "subslide"
    }
   },
   "source": [
    "![Fig. 3: Oscillation of a resonating SHO](SHO_at_resonance.png)"
   ]
  },
  {
   "cell_type": "markdown",
   "metadata": {
    "slideshow": {
     "slide_type": "skip"
    }
   },
   "source": [
    "We see how multiplying $\\cos(\\omega_0 t - \\pi/4)$ by $t$ makes the oscillations diverge, the envelope of the oscillations growing steadily with time (see fig. 3).\n",
    "\n",
    "In reality, one of these two things will eventually happen:\n",
    "\n",
    "1. the linear model ceases to be valid.\n",
    "For example, on a swing (the pendulum oscillator), the angle ceases to be small, $\\sin\\theta \\not\\approx \\theta$, and the SHO equation ceases to be a good description of reality.\n",
    "What happens physically is that when the swing is approximately horizontal, you are \"floating\" for longer than it takes you to kick: you may kick one way or another, conservation of momentum and angular momentum mean that you stay in place and rotate a little, without imparting a force on the swing. This is a non-linear saturation case. In an LC circuit, the oscillations are limited by the power supply, etc.\n",
    "Again, this class is not about non-linear effects, and we will not investigate any of this any further.\n",
    "2. damping kicks in then the amplitude gets sufficiently high, but early enough in the time evolution that the linear model is still valid.\n",
    "We are then talking about a forced, damped harmonic oscillator, which we investigate next."
   ]
  },
  {
   "cell_type": "markdown",
   "metadata": {
    "slideshow": {
     "slide_type": "skip"
    }
   },
   "source": [
    "# Forced, damped oscillator"
   ]
  },
  {
   "cell_type": "markdown",
   "metadata": {
    "slideshow": {
     "slide_type": "skip"
    }
   },
   "source": [
    "## Amplitude and Phase \n",
    "\n",
    "The addition of damping to the EOM is rather trivial, and we can directly write\n",
    "$$ \\ddot x +\\gamma \\dot x +\\omega_0^2x = A_f\\omega_0^2\\cos(\\omega t). $$ \n",
    "\n",
    "Once again, we will focus on the particular solution, for the same reasons as before.\n",
    "This is even more justified because with damping, the complementary solution would eventually die.\n",
    "We might come back to it if we have time."
   ]
  },
  {
   "cell_type": "markdown",
   "metadata": {
    "slideshow": {
     "slide_type": "skip"
    }
   },
   "source": [
    "It worked so well last time, let's try\n",
    "$$ x(t) = A(\\omega)\\cos(\\omega t - \\delta(\\omega)). $$\n",
    "With damping, the position was more like $A\\eexp{-\\gamma t/2}\\cos(\\omega_d t +\\phi)$, so why not try to multiply by a decaying exponential?\n",
    "Because the decay was due to removal of energy from the system.\n",
    "Here, by driving the forcing, we always add a bit of energy, and we can expect that when steady state is reached, the forcing adds energy into the system as fast as the damping removes it.\n",
    "\n",
    "But again, we are just trying.\n",
    "If it doesn't work, we can always try other solutions..."
   ]
  },
  {
   "cell_type": "markdown",
   "metadata": {
    "slideshow": {
     "slide_type": "skip"
    }
   },
   "source": [
    "We need the derivatives, which we actually already computed in the previous section about the undamped driven oscillator.\n",
    "We can directly plug in the new equation (I again omit the $\\omega$-dependence of $A$ and $\\delta$):\n",
    "$$-\\omega^2 A \\cos(\\omega t - \\delta) - \\gamma \\omega A \\sin(\\omega t - \\delta) + \\omega^2_0A\\cos(\\omega t  - \\delta) = \\omega_0^2 A_f \\cos(\\omega t). $$\n",
    "\\begin{equation}\n",
    "    \\Rightarrow \\quad \\left[(\\omega^2_0 - \\omega^2) \\cos(\\omega t  - \\delta)  - \\gamma \\omega \\sin(\\omega t - \\delta)\\right] A = \\omega_0^2 A_f \\cos(\\omega t).\n",
    "    \\label{eq:1}\n",
    "\\end{equation}"
   ]
  },
  {
   "cell_type": "markdown",
   "metadata": {
    "slideshow": {
     "slide_type": "slide"
    }
   },
   "source": [
    "That is one fat equation.\n",
    "Here is a cop out, but you are certainly not expected to do it yourself.\n",
    "Just understand that what I am looking for is to manipulate the equations so that: \n",
    "$$ A_1 \\cos(\\omega t - \\delta) + B_1 \\sin(\\omega t - \\delta) = A_2\\cos(\\omega t) + B_2\\sin(\\omega t) = C \\cos(\\omega t)$$\n",
    "$$ \\thrfor A_2 = C\\quad \\textrm{and}\\quad B_2 = 0,$$\n",
    "and hoping that the $A_2 = C$ and $B_2 = 0$ hold some valuable information.\n",
    "I feel compelled to do the derivation, but again, don't worry about this pythonic derivation.\n",
    "The important results are framed, you can just skip to them."
   ]
  },
  {
   "cell_type": "code",
   "execution_count": 42,
   "metadata": {
    "slideshow": {
     "slide_type": "subslide"
    }
   },
   "outputs": [],
   "source": [
    "# expand all the cos(a+b) and sin(a+b)'s\n",
    "import sympy as sp  # symbolic math package\n",
    "sp.init_printing()  # pretty display of results "
   ]
  },
  {
   "cell_type": "markdown",
   "metadata": {
    "slideshow": {
     "slide_type": "fragment"
    }
   },
   "source": [
    "The expression below is the same as the left-hand side of eqn. (1):"
   ]
  },
  {
   "cell_type": "code",
   "execution_count": 43,
   "metadata": {
    "slideshow": {
     "slide_type": "-"
    }
   },
   "outputs": [
    {
     "data": {
      "image/png": "[encoded data removed]",
      "text/latex": [
       "$$A \\left(\\gamma \\omega \\sin{\\left (\\delta - \\omega t \\right )} + \\left(- \\omega^{2} + \\omega_{0}^{2}\\right) \\cos{\\left (\\delta - \\omega t \\right )}\\right)$$"
      ],
      "text/plain": [
       "  ⎛                   ⎛   2     2⎞             ⎞\n",
       "A⋅⎝γ⋅ω⋅sin(δ - ω⋅t) + ⎝- ω  + ω₀ ⎠⋅cos(δ - ω⋅t)⎠"
      ]
     },
     "execution_count": 43,
     "metadata": {},
     "output_type": "execute_result"
    }
   ],
   "source": [
    "omega_0, omega, delta = sp.symbols('omega_0, omega, delta', real=True)\n",
    "t, gamma, A = sp.symbols('t, gamma, A', positive=True)\n",
    "original_LHS = A*((omega_0**2 - omega**2)*sp.cos(omega*t - delta)\n",
    "                  - gamma*omega*sp.sin(omega*t - delta))\n",
    "original_LHS"
   ]
  },
  {
   "cell_type": "markdown",
   "metadata": {
    "slideshow": {
     "slide_type": "fragment"
    }
   },
   "source": [
    "We want to trigonometrically expand that expression."
   ]
  },
  {
   "cell_type": "code",
   "execution_count": 44,
   "metadata": {
    "slideshow": {
     "slide_type": "subslide"
    }
   },
   "outputs": [
    {
     "data": {
      "image/png": "[encoded data removed]",
      "text/latex": [
       "$$A \\left(\\gamma \\omega \\left(\\sin{\\left (\\delta \\right )} \\cos{\\left (\\omega t \\right )} - \\sin{\\left (\\omega t \\right )} \\cos{\\left (\\delta \\right )}\\right) + \\left(- \\omega^{2} + \\omega_{0}^{2}\\right) \\left(\\sin{\\left (\\delta \\right )} \\sin{\\left (\\omega t \\right )} + \\cos{\\left (\\delta \\right )} \\cos{\\left (\\omega t \\right )}\\right)\\right)$$"
      ],
      "text/plain": [
       "  ⎛                                          ⎛   2     2⎞                     \n",
       "A⋅⎝γ⋅ω⋅(sin(δ)⋅cos(ω⋅t) - sin(ω⋅t)⋅cos(δ)) + ⎝- ω  + ω₀ ⎠⋅(sin(δ)⋅sin(ω⋅t) + c\n",
       "\n",
       "               ⎞\n",
       "os(δ)⋅cos(ω⋅t))⎠"
      ]
     },
     "execution_count": 44,
     "metadata": {},
     "output_type": "execute_result"
    }
   ],
   "source": [
    "intermediate_stuff = sp.expand_trig(original_LHS)\n",
    "intermediate_stuff"
   ]
  },
  {
   "cell_type": "markdown",
   "metadata": {
    "slideshow": {
     "slide_type": "fragment"
    }
   },
   "source": [
    "This is still a smidge too intense. Let me isolate the coefficient for $\\sin(\\omega t)$ by sustituting $\\cos(\\omega t)$ with $0$:"
   ]
  },
  {
   "cell_type": "code",
   "execution_count": 45,
   "metadata": {
    "slideshow": {
     "slide_type": "-"
    }
   },
   "outputs": [
    {
     "data": {
      "image/png": "[encoded data removed]",
      "text/latex": [
       "$$- A \\left(\\gamma \\omega \\cos{\\left (\\delta \\right )} + \\omega^{2} \\sin{\\left (\\delta \\right )} - \\omega_{0}^{2} \\sin{\\left (\\delta \\right )}\\right) \\sin{\\left (\\omega t \\right )}$$"
      ],
      "text/plain": [
       "   ⎛              2            2       ⎞         \n",
       "-A⋅⎝γ⋅ω⋅cos(δ) + ω ⋅sin(δ) - ω₀ ⋅sin(δ)⎠⋅sin(ω⋅t)"
      ]
     },
     "execution_count": 45,
     "metadata": {},
     "output_type": "execute_result"
    }
   ],
   "source": [
    "# coefficient for sin(omega*t):\n",
    "sp.factor(intermediate_stuff.subs(sp.cos(omega*t), 0))"
   ]
  },
  {
   "cell_type": "markdown",
   "metadata": {
    "slideshow": {
     "slide_type": "subslide"
    }
   },
   "source": [
    "Like for the undamped oscillator, the coefficient of $\\sin(\\omega t)$ has to be zero:\n",
    "$$ B_2 = A\\left(\\gamma \\omega \\cos\\delta - (\\omega_{0}^{2} - \\omega^{2}) \\sin\\delta\\right) = 0 \\thrfor  \\boxed{\\tan[\\delta(\\omega)] = \\frac{\\gamma \\omega }{\\omega_{0}^{2} - \\omega^{2}}.} $$"
   ]
  },
  {
   "cell_type": "markdown",
   "metadata": {
    "slideshow": {
     "slide_type": "slide"
    }
   },
   "source": [
    "As for the coefficient of $\\cos(\\omega t)$, we need to equate $A_2$ and $C$:"
   ]
  },
  {
   "cell_type": "code",
   "execution_count": 46,
   "metadata": {
    "slideshow": {
     "slide_type": "-"
    }
   },
   "outputs": [
    {
     "data": {
      "image/png": "[encoded data removed]",
      "text/latex": [
       "$$- A \\left(- \\gamma \\omega \\sin{\\left (\\delta \\right )} + \\omega^{2} \\cos{\\left (\\delta \\right )} - \\omega_{0}^{2} \\cos{\\left (\\delta \\right )}\\right) \\cos{\\left (\\omega t \\right )}$$"
      ],
      "text/plain": [
       "   ⎛               2            2       ⎞         \n",
       "-A⋅⎝-γ⋅ω⋅sin(δ) + ω ⋅cos(δ) - ω₀ ⋅cos(δ)⎠⋅cos(ω⋅t)"
      ]
     },
     "execution_count": 46,
     "metadata": {},
     "output_type": "execute_result"
    }
   ],
   "source": [
    "sp.factor(intermediate_stuff.subs(sp.sin(omega*t), 0))"
   ]
  },
  {
   "cell_type": "markdown",
   "metadata": {
    "slideshow": {
     "slide_type": "fragment"
    }
   },
   "source": [
    "$$\\Rightarrow\\quad A_2 = \\left(\\gamma \\omega  \\sin\\delta + (\\omega_{0}^{2} - \\omega ^{2}) \\cos\\delta\\right)A = \\omega^2_0 A_f. \\qquad (2)\n",
    "$$\n",
    "\n",
    "We can cast the expression above without $\\delta$ with expressions for $\\sin\\delta$ and $\\cos\\delta$ later."
   ]
  },
  {
   "cell_type": "markdown",
   "metadata": {
    "slideshow": {
     "slide_type": "subslide"
    }
   },
   "source": [
    "Recall the geometric definition of $\\tan\\delta = \\omega \\gamma/(\\omega_0^2 - \\omega^2)$: you have to imagine a right triangle, and $\\tan\\delta$ is the ratio of the lengths of the two sides around the right angle, as pictured in King 3.4 (reproduced in Fig. 4)."
   ]
  },
  {
   "cell_type": "markdown",
   "metadata": {
    "slideshow": {
     "slide_type": "-"
    }
   },
   "source": [
    "![Fig. 4: King 3.4](Triangle.png)"
   ]
  },
  {
   "cell_type": "markdown",
   "metadata": {
    "slideshow": {
     "slide_type": "subslide"
    }
   },
   "source": [
    "Then, $\\sin\\delta$ ($\\cos\\delta$) is equal to the far side (closer side) length divided by the length of the hypothenuse, i.e. (with Pythagorean theorem):\n",
    "$$ \\sin\\delta = \\frac{\\gamma \\omega}{\\sqrt{(\\omega_0^2 - \\omega^2)^2 + \\gamma^2\\omega^2}},\\quad\n",
    "\\cos\\delta = \\frac{\\omega_0^2 - \\omega^2}{\\sqrt{(\\omega_0^2 - \\omega^2)^2 + \\gamma^2\\omega^2}}. $$"
   ]
  },
  {
   "cell_type": "code",
   "execution_count": 47,
   "metadata": {
    "slideshow": {
     "slide_type": "subslide"
    }
   },
   "outputs": [
    {
     "name": "stdout",
     "output_type": "stream",
     "text": [
      "The LHS becomes:\n"
     ]
    },
    {
     "data": {
      "image/png": "[encoded data removed]",
      "text/latex": [
       "$$A \\sqrt{\\gamma^{2} \\omega^{2} + \\omega^{4} - 2 \\omega^{2} \\omega_{0}^{2} + \\omega_{0}^{4}} \\cos{\\left (\\omega t \\right )}$$"
      ],
      "text/plain": [
       "     _____________________________         \n",
       "    ╱  2  2    4      2   2     4          \n",
       "A⋅╲╱  γ ⋅ω  + ω  - 2⋅ω ⋅ω₀  + ω₀  ⋅cos(ω⋅t)"
      ]
     },
     "execution_count": 47,
     "metadata": {},
     "output_type": "execute_result"
    }
   ],
   "source": [
    "far_side = gamma*omega\n",
    "close_side = omega_0**2 - omega**2\n",
    "hypothenuse = sp.sqrt(far_side**2 + close_side**2)\n",
    "sind = far_side/hypothenuse\n",
    "cosd = close_side/hypothenuse\n",
    "print(\"The LHS becomes:\")\n",
    "sp.factor(intermediate_stuff.subs(sp.sin(omega*t), 0).subs(sp.sin(delta), sind).subs(sp.cos(delta), cosd))"
   ]
  },
  {
   "cell_type": "markdown",
   "metadata": {
    "slideshow": {
     "slide_type": "-"
    }
   },
   "source": [
    "which we can plug back into eqn. (2) to obtain\n",
    "$$A\\sqrt{\\gamma^{2} \\omega^{2} + (\\omega_{0}^{2} - \\omega^{2})^2} = \\omega^2_0 A_f \\thrfor \\boxed{A(\\omega) = \\frac{\\omega^2_0}{\\sqrt{\\gamma^{2} \\omega^{2} + (\\omega_{0}^{2} - \\omega^{2})^2}}A_f}.$$\n",
    "\n",
    "*Note: as for every long expression, you are not required to memorize $A(\\omega)$ and $\\delta(\\omega)$.*\n",
    "*Understand where they come from, and remember the general shape of the curves they plot.*"
   ]
  },
  {
   "cell_type": "markdown",
   "metadata": {
    "slideshow": {
     "slide_type": "skip"
    }
   },
   "source": [
    "## Varying the Forcing Frequency"
   ]
  },
  {
   "cell_type": "markdown",
   "metadata": {
    "slideshow": {
     "slide_type": "subslide"
    }
   },
   "source": [
    "\n",
    "| Feature | $A(\\omega)/A_f$ | $\\tan[\\delta(\\omega)]$ | $\\delta(\\omega)$ |\n",
    "| :----------------: | :----------------: | :----------------: | :----------------: |\n",
    "| Expression | $\\frac{\\omega^2_0}{\\sqrt{\\gamma^{2} \\omega^{2} + (\\omega_{0}^{2} - \\omega^{2})^2}}$ | $\\frac{\\gamma \\omega }{\\omega_{0}^{2} - \\omega^{2}}$ | $\\arctan\\left(\\dots\\right)$ |\n",
    "| Non-dimensional ($\\varpi = \\omega/\\omega_0$) | $\\frac{1}{\\sqrt{\\varpi^{2}/Q^2 + (1 - \\varpi^{2})^2}}$ | $\\frac1Q\\frac{\\varpi }{1 - \\varpi^{2}}$ | $\\arctan\\left(\\dots\\right)$ |\n",
    "| $\\lim_{\\omega \\to 0}$ | 1 | 0 | 0 |\n",
    "| $\\lim_{\\omega \\to \\infty}$ | 0 | 0$_-$ | $\\pi$ |\n",
    "| $\\omega = \\omega_0$ | $\\frac{\\omega_0}{\\gamma} = Q$ | $+\\infty$ | $\\pi/2$ |\n",
    "\n",
    "*Note: the table above is a good example of what would be featured on a formula sheet, provided by myself (NG) for a test.*"
   ]
  },
  {
   "cell_type": "markdown",
   "metadata": {
    "slideshow": {
     "slide_type": "skip"
    }
   },
   "source": [
    "The notation $0_-$ is my own way to say that zero is approached from the negative side when $\\omega \\to +\\infty$. Namely, that the angle $\\delta$ gets closer and closer to $\\pi$.\n",
    "\n",
    "There is a few more things to say about it, but this discussion might be more comfortable if we plot the results (see fig. 5)."
   ]
  },
  {
   "cell_type": "code",
   "execution_count": 48,
   "metadata": {
    "slideshow": {
     "slide_type": "skip"
    }
   },
   "outputs": [],
   "source": [
    "# we re-use all the quantities of the undamped case, but introduce damping\n",
    "Q = 12  # quality factor (lightly damped oscillator)\n",
    "gamma = ps.omega_0/Q\n",
    "Amax = Q/sqrt(1 - 0.25/Q**2)\n",
    "\n",
    "A = ps.A_f*ps.omega_0**2/sqrt((gamma*omega_array)**2 \n",
    "                              + (ps.omega_0**2 - omega_array**2)**2)\n",
    "delta = arctan(gamma*omega_array/(ps.omega_0**2 - omega_array**2))\n",
    "delta[delta<0] += pi  # arctan only outputs results in [-pi/2, pi/2]; need to add some phase\n",
    "\n",
    "plt.figure()\n",
    "\n",
    "# the sub-plot for the amplitude\n",
    "plt.subplot(211)  \n",
    "ax1 = plt.gca()\n",
    "ax1.plot(omega_array/ps.omega_0, A/ps.A_f, 'b')  # plotting the non-dimensional amplitude\n",
    "ax1.axvline(1., color='k', linestyle='--')  # the omega = omega_0 mark\n",
    "ax1.plot([0.45, 0.95], [Amax, Amax], 'b--')\n",
    "ax1.text(0.43, Amax, '$A_{max}$', fontsize=ftsz, color='b', ha='right')\n",
    "ax1.set_xlabel('$\\omega/\\omega_0$', fontsize=ftsz) \n",
    "ax1.set_ylabel(r'$A(\\omega)/A_{\\!f}$', fontsize=ftsz)\n",
    "ax1.set_yticks([1., 5., 10.])\n",
    "ax1.grid()\n",
    "\n",
    "# the sub-plot for the phase\n",
    "plt.subplot(212)  \n",
    "ax2 = plt.gca()\n",
    "ax2.plot(omega_array/ps.omega_0, delta, 'r')  # plotting the phase\n",
    "ax2.axvline(1., color='k', linestyle='--')  # the omega = omega_0 mark\n",
    "ax2.set_xlabel('$\\omega/\\omega_0$', fontsize=ftsz) \n",
    "ax2.set_ylabel(r'$\\delta(\\omega)$ [rad]', fontsize=ftsz)\n",
    "ax2.set_ylim([-0.1*pi, 1.1*pi])\n",
    "ax2.set_yticks([0., 0.5*pi, pi])\n",
    "ax2.set_yticklabels(['$0$', r'$\\frac{\\pi}{2}$', '$\\pi$'], fontsize=ftsz)\n",
    "ax2.annotate(s='$\\omega=\\omega_0$', xy=(1., 0.5*pi), xytext=(1.15, 0.6*pi),\n",
    "             arrowprops=dict(arrowstyle='->'), fontsize=ftsz)\n",
    "ax2.text(0.01, pi/10., '$F$, $x$ in phase', fontsize=ftsz, color='r')\n",
    "ax2.text(2., pi*0.84, '$F$, $x$ out of phase', fontsize=ftsz, color='r')\n",
    "ax2.text(0.45, pi*0.55, '$x$ lags $F$', fontsize=ftsz, color='r')\n",
    "ax2.grid()\n",
    "\n",
    "plt.savefig(\"ResonanceDHO.png\", dpi=100)\n",
    "plt.close()"
   ]
  },
  {
   "cell_type": "markdown",
   "metadata": {
    "slideshow": {
     "slide_type": "subslide"
    }
   },
   "source": [
    "![Fig. 5: Resonance curves for a damped harmonic oscillator](ResonanceDHO.png)"
   ]
  },
  {
   "cell_type": "markdown",
   "metadata": {
    "slideshow": {
     "slide_type": "skip"
    }
   },
   "source": [
    "From the figure, it looks as if the maximum amplitude, i.e., resonance, happens for $\\omega = \\omega_0$.\n",
    "A closer inspection of $A(\\omega)$ reveals that it is not the case.\n",
    "The numerator of $A(\\omega)$ is a constant.\n",
    "We can therefore find the maximum of $A(\\omega)$ by finding the minimum of its denominator.\n",
    "And because the denominator is a square root that is always positive, it is even more simple to find the minimum of the denominator squared:\n",
    "$$\\ode{\\left[\\gamma^{2} \\omega^{2} + (\\omega_{0}^{2} - \\omega^{2})^2\\right]}\\omega = 2\\omega\\left(\\gamma^2 - 2( \\omega_0^2 - \\omega^2)\\right).$$\n",
    "The quantity above is zero if $\\omega=0$ (uninteresting) or \n",
    "$$\\omega^2 =\\omega_{max}^2 = \\omega_0^2 - \\frac{\\gamma^2}2 = \\omega^2_0\\left[1-\\frac1{2Q^2}\\right].$$"
   ]
  },
  {
   "cell_type": "markdown",
   "metadata": {
    "slideshow": {
     "slide_type": "skip"
    }
   },
   "source": [
    "The maximum amplitude is found when $\\omega = \\omega_{max}$, "
   ]
  },
  {
   "cell_type": "markdown",
   "metadata": {
    "slideshow": {
     "slide_type": "skip"
    }
   },
   "source": [
    "$$ A(\\omega_{max}) = A_{max} = \\frac{Q}{\\sqrt{1 - 1/(4Q^2)}}A_f. \\qquad (3) $$\n",
    "*(I will let you do the intermediate steps.)*"
   ]
  },
  {
   "cell_type": "markdown",
   "metadata": {
    "slideshow": {
     "slide_type": "skip"
    }
   },
   "source": [
    "In the $Q\\to\\infty$ (damping $\\to 0$) limit, $\\omega_{max} = \\omega_0$ and $A_{max} = QA_f$.\n",
    "But in any case, $\\omega_{max} < \\omega_0$."
   ]
  },
  {
   "cell_type": "markdown",
   "metadata": {
    "slideshow": {
     "slide_type": "skip"
    }
   },
   "source": [
    "In the case of a lightly-damped oscillator, $\\omega_d > \\omega_{max}$.\n",
    "You would be excused to have intuited that $\\omega_{max} = \\omega_d$, the pseudo-frequency of the oscillations.\n",
    "After all, my qualitative explanation of resonance at the beginning of the chapter implied that resonance happens when the forcing \"kicks\" in sync with the free oscillations, which you would think happens every $T_d$.\n",
    "As it turns out, it is not exactly the case.\n",
    "Nonetheless, the plots above are for $Q=12$, which is not that big a quality factor, and yet, it is very hard to distinguish $\\omega_0$ from $\\omega_{max}$ and presumably from $\\omega_d$."
   ]
  },
  {
   "cell_type": "markdown",
   "metadata": {
    "slideshow": {
     "slide_type": "skip"
    }
   },
   "source": [
    "Besides, when $Q$ is not big, damping is so strong that resonances are not very pronounced.\n",
    "Therefore, **for all practical purposes,** $\\bs{\\omega_{max} \\approx \\omega_0}$ **and** $\\bs{A_{max} \\approx QA_f = F_0 Q/k}$."
   ]
  },
  {
   "cell_type": "markdown",
   "metadata": {
    "slideshow": {
     "slide_type": "skip"
    }
   },
   "source": [
    "***\n",
    "\n",
    "*Suggested practice: King p. 57, worked example. The worked example on p. 58 seems a bit silly to me.*\n",
    "\n",
    "***"
   ]
  },
  {
   "cell_type": "markdown",
   "metadata": {
    "slideshow": {
     "slide_type": "skip"
    }
   },
   "source": [
    "## Varying the damping or $Q$\n",
    "\n",
    "See figs. 6a and 6b for plots of the amplitude and phase when $Q$ varies."
   ]
  },
  {
   "cell_type": "code",
   "execution_count": 49,
   "metadata": {
    "slideshow": {
     "slide_type": "skip"
    }
   },
   "outputs": [],
   "source": [
    "# we re-use all the quantities of the undamped case, but introduce damping\n",
    "# we now vary the damping\n",
    "\n",
    "fa = plt.figure()  # the figure for the amplitude\n",
    "ax1 = plt.gca()\n",
    "\n",
    "fp = plt.figure()  # the figure for the phase\n",
    "ax2 = plt.gca()\n",
    "\n",
    "list_of_Qs = [.25, .5, 1., 2., 8.]\n",
    "\n",
    "ax1.plot(omega_low/ps.omega_0, A_low/ps.A_f,\n",
    "         'g-.', linewidth=3, label=r'$Q\\ \\to\\ \\infty$')\n",
    "ax1.plot(omega_high/ps.omega_0, A_high/ps.A_f,\n",
    "         'g-.', linewidth=3)\n",
    "\n",
    "ax2.plot(omega_low/ps.omega_0, delta_low,\n",
    "         'g-.', linewidth=3, label=r'$Q\\ \\to\\ \\infty$')\n",
    "ax2.plot(omega_high/ps.omega_0, delta_high,\n",
    "         'g-.', linewidth=3)\n",
    "\n",
    "lnwt = 0.5\n",
    "for Q in list_of_Qs:\n",
    "    gamma = ps.omega_0/Q\n",
    "\n",
    "    A = ps.omega_0**2/sqrt((gamma*omega_array)**2\n",
    "                           + (ps.omega_0**2 - omega_array**2)**2)\n",
    "    delta = arctan(gamma*omega_array/(ps.omega_0**2 - omega_array**2))\n",
    "    delta[delta<0] += pi\n",
    "    \n",
    "    if Q == 0.5:\n",
    "        lstl = '--'  # a dashed curve for the critical case\n",
    "    else:\n",
    "        lstl = '-'\n",
    "\n",
    "    ax1.plot(omega_array/ps.omega_0, A, 'b', linewidth=lnwt, linestyle=lstl,\n",
    "            label='$Q = {0:.2f}$'.format(Q))  # non-dimensional amplitude\n",
    "    ax2.plot(omega_array/ps.omega_0, delta, 'r', linewidth=lnwt, linestyle=lstl,\n",
    "            label='$Q = {0:.2f}$'.format(Q))  # phase\n",
    "    lnwt += 0.5\n",
    "\n",
    "Q_array = linspace(sqrt(0.5)+0.001, 10., 512)  # an array of Q's to plot A_max = f(omega_res)\n",
    "omega_max = ps.omega_0*sqrt(1 - 0.5/Q_array**2)\n",
    "A_max = Q_array/sqrt(1 - 0.25/Q_array**2)\n",
    "\n",
    "ax1.plot(omega_max/ps.omega_0, A_max, 'k-.', linewidth=2.,\n",
    "         label='$A_{max} = f(\\omega_{max})$')\n",
    "\n",
    "ax1.set_xlabel('$\\omega/\\omega_0$', fontsize=ftsz) \n",
    "ax1.set_ylabel(r'$A(\\omega)/A_{\\!f}$', fontsize=ftsz)\n",
    "ax1.set_ylim([0, 8.5])\n",
    "ax1.set_yticks([1., 4., 8.])\n",
    "ax1.legend()\n",
    "ax1.grid()\n",
    "\n",
    "fa.savefig(\"varyingQ_ampl.png\", dpi=100)\n",
    "plt.close(fa)\n",
    "\n",
    "ax2.set_xlabel('$\\omega/\\omega_0$', fontsize=ftsz) \n",
    "ax2.set_ylabel(r'$\\delta(\\omega)$ [rad]', fontsize=ftsz)\n",
    "ax2.set_ylim([-0.1*pi, 1.1*pi])\n",
    "ax2.set_yticks([0., 0.5*pi, pi])\n",
    "ax2.set_yticklabels(['$0$', r'$\\frac{\\pi}{2}$', '$\\pi$'], fontsize=ftsz)\n",
    "ax2.grid()\n",
    "ax2.legend(loc='lower right')\n",
    "\n",
    "fp.savefig(\"varyingQ_phase.png\", dpi=100)\n",
    "plt.close(fp)"
   ]
  },
  {
   "cell_type": "markdown",
   "metadata": {
    "slideshow": {
     "slide_type": "slide"
    }
   },
   "source": [
    "![Fig. 6a: Amplitude resonance curve for a DHO](varyingQ_ampl.png)\n",
    "\n",
    "![Fig. 6b: Phase resonance curve for a DHO](varyingQ_phase.png)"
   ]
  },
  {
   "cell_type": "markdown",
   "metadata": {
    "slideshow": {
     "slide_type": "skip"
    }
   },
   "source": [
    "# Transient Response\n",
    "\n",
    "The solution we computed was valid after the oscillations had time to establish themselves.\n",
    "Initially though, there is always a transient phase, during which multiple forms of motion coexist."
   ]
  },
  {
   "cell_type": "markdown",
   "metadata": {
    "slideshow": {
     "slide_type": "skip"
    }
   },
   "source": [
    "That is, \n",
    "\n",
    "* if the system is driven as $\\ddot x +\\gamma \\dot x + \\omega_0^2 x = A_f\\cos(\\omega t)$, with $x_{forced} = A_{forced} \\cos(\\omega t - \\delta)$ the solution of the equation above as we computed in the previous section, and\n",
    "* if $x_{free} = A_{free}\\eexp{-\\gamma t /2}\\cos(\\omega_d t + \\phi)$ is the solution of the free problem (+initial conditions), i.e., $\\ddot x_{free} +\\gamma \\dot x_{free} + \\omega_0^2 x_{free} = 0$, then\n",
    "* $\\boldsymbol{x = x_{free} + x_{forced}}$ **is also a solution of** $\\boldsymbol{\\ddot x +\\gamma \\dot x + \\omega_0^2 x = A_f\\cos(\\omega t)}$,\n",
    "as you can fairly easily check by just plugging in the above solution into the full equation of the forced problem."
   ]
  },
  {
   "cell_type": "markdown",
   "metadata": {
    "slideshow": {
     "slide_type": "skip"
    }
   },
   "source": [
    "You might notice, either now or in the future if you have not covered it in your ODE class, a direct connection with the statement that the general solution of a nonhomogeneous ODE is the sum of the general solution of the homogeneous problem plus a particular solution of the nonhomogeneous problem."
   ]
  },
  {
   "cell_type": "markdown",
   "metadata": {
    "slideshow": {
     "slide_type": "skip"
    }
   },
   "source": [
    "What does it mean physically?\n",
    "It means that, for example, if an engine is started from 0 to 100% instantly (*step response*, cf. control theory), there will be an initial vibration on top of the regular engine frequency, which will linger until dissipation removes it.\n",
    "\n",
    "Also, because $\\omega_d \\neq \\omega$ in general, the two oscillations might look in phase at some time, and out-of-phase at other times, creating a \"beating\" phenomenon, which we will talk more about when we talk about coupled oscillators. \n",
    "It was visible in the class demo actually, in which I had to wait for a while every time I would change the frequency.\n",
    "I also plot an example here (fig. 7)."
   ]
  },
  {
   "cell_type": "code",
   "execution_count": 50,
   "metadata": {
    "slideshow": {
     "slide_type": "skip"
    }
   },
   "outputs": [],
   "source": [
    "# Let's plot an example\n",
    "Q = 20.\n",
    "gamma = ps.omega_0/Q\n",
    "omega_d = ps.omega_0*sqrt(1. - 0.25/Q**2)\n",
    "omega = ps.omega_0*1.2\n",
    "t = linspace(0, 15., 1024)\n",
    "\n",
    "Amp = ps.omega_0**2/sqrt((gamma*omega)**2 + (ps.omega_0**2 - omega**2)**2)\n",
    "delta = arctan(gamma*omega/(ps.omega_0**2 - omega**2))\n",
    "if delta<0:  # arctan only outputs results in [-pi/2, pi/2]; need to add some phase\n",
    "    delta += pi\n",
    "x_forced = Amp*cos(omega*t - delta)\n",
    "\n",
    "x_free = Amp*exp(-0.5*gamma*t)*cos(omega_d*t)  # I set both amplitudes to the same\n",
    "\n",
    "x_tot = x_free + x_forced\n",
    "xmax = max(x_tot)\n",
    "\n",
    "x_tot /= xmax\n",
    "x_forced /= xmax\n",
    "x_free /= xmax\n",
    "\n",
    "plt.figure()\n",
    "\n",
    "plt.subplot(311)\n",
    "ax1 = plt.gca()\n",
    "ax1.plot(t, x_free)\n",
    "ax1.set_title('All distances are divided by $\\max(x)$')\n",
    "ax1.set_ylabel('$x_{free}$', fontsize=ftsz)\n",
    "ax1.set_ylim([-1., 1.])\n",
    "ax1.grid()\n",
    "\n",
    "plt.subplot(312)\n",
    "ax1 = plt.gca()\n",
    "ax1.plot(t, x_forced)\n",
    "ax1.set_ylabel('$x_{forced}$', fontsize=ftsz)\n",
    "ax1.set_ylim([-1., 1.])\n",
    "ax1.grid()\n",
    "\n",
    "plt.subplot(313)\n",
    "ax1 = plt.gca()\n",
    "ax1.plot(t, x_tot)\n",
    "ax1.set_ylabel('$x$', fontsize=ftsz)\n",
    "ax1.set_xlabel('$t$ [s]', fontsize=ftsz)\n",
    "ax1.grid()\n",
    "\n",
    "plt.tight_layout()\n",
    "\n",
    "plt.savefig('Transient.png', dpi=100)\n",
    "plt.close()"
   ]
  },
  {
   "cell_type": "markdown",
   "metadata": {
    "slideshow": {
     "slide_type": "slide"
    }
   },
   "source": [
    "![Fig. 7: transient](Transient.png)"
   ]
  },
  {
   "cell_type": "markdown",
   "metadata": {
    "slideshow": {
     "slide_type": "skip"
    }
   },
   "source": [
    "***\n",
    "\n",
    "*End of 09/17 lecture, beginning of 09/20 lecture.*\n",
    "\n",
    "***"
   ]
  },
  {
   "cell_type": "markdown",
   "metadata": {
    "slideshow": {
     "slide_type": "skip"
    }
   },
   "source": [
    "# Power Absorbed by Damping During Forced Oscillations"
   ]
  },
  {
   "cell_type": "markdown",
   "metadata": {
    "slideshow": {
     "slide_type": "skip"
    }
   },
   "source": [
    "## Derivation\n",
    "\n",
    "As the operator of an oscillating device, you may want to know how much power you need to supply to the device to sustain a given oscillation.\n",
    "When the regime is stationary, i.e., when the transient has subsided and the oscillations have a steady amplitude, then you are supplying as much power to the system as the system dissipates power.\n",
    "Therefore, as paradoxical as it may sound, knowing how much the system dissipates under a given oscillatory regime tell us directly how much power we need to supply to that oscillation.\n",
    "\n",
    "This can also be useful, for example to test the limits of a device:\n",
    "if one knows that all this damping is just friction, i.e., mechanical energy is turned into heat, then we can convert this heat into temperature, and keep overheating in check.\n",
    "\n",
    "With damping, we just saw that even at resonance, the amplitude is always finite.\n",
    "We also saw in the last chapter that damping removed mechanical energy from the system, following $\\dot E = \\vec F_{damping}\\cdot \\vec v = -bv^2$."
   ]
  },
  {
   "cell_type": "markdown",
   "metadata": {
    "slideshow": {
     "slide_type": "skip"
    }
   },
   "source": [
    "Off-resonance, dissipation is not needed to explain why stationary oscillating forcing does not mean that the amplitudes will grow forever.\n",
    "It is just the consequence of the forcing, working *with* the motion during parts of the cycle (it provides the oscillator with energy), and *against* it during some other parts (it takes energy back)."
   ]
  },
  {
   "cell_type": "markdown",
   "metadata": {
    "slideshow": {
     "slide_type": "skip"
    }
   },
   "source": [
    "During stationary oscillations (that is, after the transient phase has subsided), at resonance, damping provides the energy sink necessary to keep the oscillations to a finite amplitude. \n",
    "Let us compute how much energy is absorbed by damping, not just at resonance, but at any frequency."
   ]
  },
  {
   "cell_type": "markdown",
   "metadata": {
    "slideshow": {
     "slide_type": "skip"
    }
   },
   "source": [
    "Power is usually of the form $\\vec F \\cdot \\vec v$, therefore, we'll need the velocity response:\n",
    "$$ v(t) = \\dot x(t) = -\\omega A(\\omega)\\sin(\\omega t - \\delta) = -V(\\omega)\\sin(\\omega t - \\delta),$$\n",
    "with\n",
    "$$ V(\\omega) = \\frac{\\omega^2_0 \\omega}{\\sqrt{\\gamma^{2} \\omega^{2} + (\\omega_{0}^{2} - \\omega^{2})^2}}A_f, $$\n",
    "the amplitude of the velocity response (recall that an amplitude should be defined positive, although ultimately, people do what they want)."
   ]
  },
  {
   "cell_type": "markdown",
   "metadata": {
    "slideshow": {
     "slide_type": "skip"
    }
   },
   "source": [
    "The rate of energy loss due to damping is $-\\dot E(\\omega, t) = P(\\omega, t) = bv^2 = bV^2(\\omega)\\sin^2\\left( \\omega t -\\delta \\right)$.\n",
    "\n",
    "*Note: again, the minus sign is for accounting purposes: $\\dot E$ is the energy gain per second, and a negative gain corresponds to an energy loss. $-\\dot E = P(\\omega, t)$ is the energy loss per second, positive when the system loses energy...*"
   ]
  },
  {
   "cell_type": "markdown",
   "metadata": {
    "slideshow": {
     "slide_type": "skip"
    }
   },
   "source": [
    "This quantity varies over time, which makes sense: friction doesn't act when the mass is at rest, or resistor doesn't resist when the current is zero."
   ]
  },
  {
   "cell_type": "markdown",
   "metadata": {
    "slideshow": {
     "slide_type": "skip"
    }
   },
   "source": [
    "Nonetheless, it is not necessarily useful to have this much information about the time evolution, and very often, we just want to know the *average* power drain (the one billed by your energy company), which can be defined as the average over one cycle.\n",
    "I will denote such an average quantity with a bar, and define it mathematically as\n",
    "$$ \\overline P(\\omega) = \\frac1T\\int_{t_0}^{t_0+T}P(\\omega, t)\\di t, \\quad \\textrm{with} \\quad T = \\frac{2\\pi}{\\omega}.$$"
   ]
  },
  {
   "cell_type": "markdown",
   "metadata": {
    "slideshow": {
     "slide_type": "skip"
    }
   },
   "source": [
    "In our case, the only time-dependent piece of $P(t)$ is $\\sin(\\omega t - \\delta)$. \n",
    "With the change of variable $\\omega t \\to y$, $\\di t \\to \\di y/\\omega$, we have\n",
    "$$ \\int_{t_0}^{t_0+T} \\sin^2(\\omega t - \\delta)\\di t = \\frac1\\omega \\int_{\\omega t_0}^{\\omega t_0 + 2\\pi} \\sin^2(y -\\delta)\\di y = \\frac\\pi\\omega = \\frac T2.$$\n",
    "In the calculation above, I used  the fact that for $\\sin$, shifting either the lower integration bound ($\\omega t_0$) or the phase ($\\delta$) does not change the integral over a full period."
   ]
  },
  {
   "cell_type": "markdown",
   "metadata": {
    "slideshow": {
     "slide_type": "skip"
    }
   },
   "source": [
    "Therefore, "
   ]
  },
  {
   "cell_type": "markdown",
   "metadata": {
    "slideshow": {
     "slide_type": "skip"
    }
   },
   "source": [
    "\\begin{align*}\n",
    "    \\overline P(\\omega) & = \\frac b2\\frac{\\omega^4_0 \\omega^2}{\\gamma^{2} \\omega^{2} + (\\omega_{0}^{2} - \\omega^{2})^2}A_f^2  = \\frac{\\gamma m}2\\frac{\\omega^2}{\\gamma^{2} \\omega^{2} + (\\omega_{0}^{2} - \\omega^{2})^2}\\frac{F_0^2}{m^2} \\\\\n",
    "                        & = \\frac{F_0^2}{2 m}\\frac{\\gamma }{\\gamma^{2} + (\\omega_{0}^{2}/\\omega - \\omega)^2} \\hspace{8cm} (4)\n",
    "\\end{align*}"
   ]
  },
  {
   "cell_type": "markdown",
   "metadata": {
    "slideshow": {
     "slide_type": "skip"
    }
   },
   "source": [
    "after division of numerator and denominator by $\\omega^2$.\n",
    "\n",
    "Like for the amplitude of the position, $\\lim_{\\omega \\to \\infty} \\overline P(\\omega) = 0$.\n",
    "But unlike $A(\\omega)$, $\\lim_{\\omega \\to 0} \\overline P(\\omega) = 0$ as well: when the driving is super slow, friction does not work."
   ]
  },
  {
   "cell_type": "markdown",
   "metadata": {
    "slideshow": {
     "slide_type": "skip"
    }
   },
   "source": [
    "And guess for which frequency does the maximum absorption by friction happen?\n",
    "It is actually complicated, because whenever such a question arises, the answer is usually near $\\omega_0$, but not quite, and never in the same way.\n",
    "But here, hooray! The answer is exactly what we expect.\n",
    "Indeed, $\\max(\\overline P(\\omega))$ happens when the denominator is minimum, i.e., when $\\omega = \\omega_0$. \n",
    "\n",
    "**Friction absorbs the most energy when** $\\bs{\\omega = \\omega_0}$ **exactly. (!!!)**\n",
    "\n",
    "No approximation this time.\n",
    "At this frequency, the power absorbed is \n",
    "$$\\overline P_{max} = \\frac{F_0^2}{2\\gamma m} = \\frac{F_0^2}{2 b}.$$"
   ]
  },
  {
   "cell_type": "markdown",
   "metadata": {
    "slideshow": {
     "slide_type": "skip"
    }
   },
   "source": [
    "For this reason, and because $\\omega_0$ is much simpler to remember than $\\omega_{max}$ or $\\omega_d$, **the natural frequency** $\\bs{\\omega_0}$ **is the one that is called the resonance frequency.**"
   ]
  },
  {
   "cell_type": "code",
   "execution_count": 51,
   "metadata": {
    "slideshow": {
     "slide_type": "skip"
    }
   },
   "outputs": [],
   "source": [
    "# Let's plot!\n",
    "# we re-use all the quantities of A(omega)\n",
    "Q = 12  # quality factor (lightly damped oscillator)\n",
    "gamma = ps.omega_0/Q\n",
    "b = ps.m*gamma\n",
    "F0 = ps.omega_0**2*ps.A_f**2\n",
    "Pmax = 0.5 * F0**2 / b\n",
    "\n",
    "# Note: I divide P by A_f**2 directly\n",
    "P = 0.5*F0**2/ps.m * gamma/(gamma**2 + (ps.omega_0**2/omega_array - omega_array)**2)\n",
    "\n",
    "plt.figure()\n",
    "ax1 = plt.gca()\n",
    "\n",
    "# plotting the power curve\n",
    "ax1.plot(omega_array, P, 'b')  # plotting the non-dimensional power\n",
    "ax1.axvline(1.*ps.omega_0, color='k', linestyle='--')  # the omega = omega_0 mark\n",
    "ax1.text(0.98*ps.omega_0, 1.02*Pmax, '$\\overline{P} = \\overline{P}_{max}$',\n",
    "         fontsize=ftsz, color='b', ha='right')\n",
    "ax1.axhline(0.5*Pmax, color='k', linestyle='--')  # the P = Pmax/2 mark\n",
    "ax1.text(0.8*ps.omega_0, 0.52*Pmax, '$\\overline{P} = \\overline{P}_{max}/2$',\n",
    "         fontsize=ftsz, color='b', ha='right')\n",
    "ax1.set_xlabel('$\\omega$', fontsize=ftsz) \n",
    "ax1.set_ylabel(r'$\\overline{P}\\,(\\omega)$ [W]', fontsize=ftsz)\n",
    "ax1.set_yticks([0., .5*Pmax, Pmax])\n",
    "ax1.set_xticks([om*ps.omega_0 for om in arange(0.1, 3., 0.1)])\n",
    "ax1.set_xticklabels([\"${0:.1f}\\omega_0$\".format(om) for om in arange(0.1, 3., 0.1)])\n",
    "ax1.set_ylim([0., 1.1*Pmax])\n",
    "ax1.set_xlim([0.6*ps.omega_0, 1.4*ps.omega_0])\n",
    "ax1.grid()\n",
    "\n",
    "# plotting the full width at half height\n",
    "ax1.annotate(s='$\\omega_{fwhh} = \\gamma$',\n",
    "             xy=((1-0.5/Q)*ps.omega_0, 0.5*Pmax), xytext=((1+0.69/Q)*ps.omega_0, 0.5*Pmax),\n",
    "             arrowprops=dict(arrowstyle='<|-|>', color='r'),\n",
    "             backgroundcolor='w', ha='left', va='center', \n",
    "             fontsize=ftsz, color='r')\n",
    "\n",
    "plt.tight_layout()\n",
    "\n",
    "plt.savefig('PowerDHO.png', dpi=100)\n",
    "plt.close()"
   ]
  },
  {
   "cell_type": "markdown",
   "metadata": {
    "scrolled": false,
    "slideshow": {
     "slide_type": "subslide"
    }
   },
   "source": [
    "![Fig. 8: Power curve for a driven DHO.](PowerDHO.png)"
   ]
  },
  {
   "cell_type": "markdown",
   "metadata": {
    "slideshow": {
     "slide_type": "skip"
    }
   },
   "source": [
    "**Recall that a power has the units of W (Watts), J.s**$^{\\bs{-1}}$ **(Joules per second) or kg.m**$^{\\bs{2}}$**.s**$^{\\bs{-1}}$ **(SI base units), which are all the same.**"
   ]
  },
  {
   "cell_type": "markdown",
   "metadata": {
    "slideshow": {
     "slide_type": "skip"
    }
   },
   "source": [
    "Another important parameter to characterize the resonance is the full width at half height of the curve, $\\omega_{fwhh}$, which is best described graphically, as shown above (fig. 8).\n",
    "\n",
    "There is no easy analytical expression for $\\omega_{fwhh}$ if the full expression of $\\overline P(\\omega)$ is retained.\n",
    "Instead, we can find an approximate form if $\\omega \\approx \\omega_0$.\n",
    "Around this frequency, most of the variations of $\\overline P(\\omega)$ are due to the $(\\omega_0^2 - \\omega^2)^2$ term in eqn. (4).\n",
    "It means that we can approximate the expression of $\\overline P$ by doing the following two things to eqn. (4):\n",
    "\n",
    "* replace $\\omega$ by $\\omega_0$ almost everywhere,\n",
    "* except in the $(\\omega_0^2 - \\omega^2)^2$ term. In this term, we approximate $\\omega^2 - \\omega_0^2 = (\\omega - \\omega_0)(\\omega + \\omega_0) \\approx 2\\omega_0\\Delta\\omega,$ with $\\Delta\\omega = \\omega - \\omega_0 \\ll 2\\omega_0$."
   ]
  },
  {
   "cell_type": "markdown",
   "metadata": {
    "slideshow": {
     "slide_type": "skip"
    }
   },
   "source": [
    "The result is\n",
    "$$ \\overline P(\\omega) \\approx \\frac{F_0^2}{2 \\gamma m}\\frac{1}{1 + \\frac{4(\\Delta\\omega)^2}{\\gamma^2}} = \\frac{ \\overline P_{max} }{1 + \\frac{4(\\Delta\\omega)^2}{\\gamma^2}}. $$"
   ]
  },
  {
   "cell_type": "markdown",
   "metadata": {
    "slideshow": {
     "slide_type": "skip"
    }
   },
   "source": [
    "It is now much easier to find an approximate expression for $\\omega_{fwhh}$.\n",
    "When $\\overline P/\\overline P_{max} = 1/2$, then $(\\Delta\\omega)_{fwhh}^2 \\approx \\gamma^2/4$.\n",
    "Square-root and double that and you get\n",
    "$$ \\boxed{\\omega_{fwhh} = 2\\Delta\\omega_{fwhh} \\approx \\gamma = \\omega_0/Q.} $$"
   ]
  },
  {
   "cell_type": "markdown",
   "metadata": {
    "slideshow": {
     "slide_type": "skip"
    }
   },
   "source": [
    "What is means is that if friction ($\\gamma$) decreases, the power resonance curve becomes narrower (see fig. 9).\n",
    "That is, with a high-$Q$ oscillator, it is much easier to \"miss\" resonance when adjusting the frequency. But when resonance is attained, the system dissipates a lot more power than in a high-damping case.\n",
    "In this case, less damping means more energy dissipation (but only for $\\omega \\approx \\omega_0$)."
   ]
  },
  {
   "cell_type": "code",
   "execution_count": 52,
   "metadata": {
    "slideshow": {
     "slide_type": "skip"
    }
   },
   "outputs": [],
   "source": [
    "# we re-use everything\n",
    "\n",
    "plt.figure()  # the figure for the amplitude\n",
    "ax1 = plt.gca()\n",
    "\n",
    "list_of_Qs = [.5, 1., 2., 4., 8.]\n",
    "\n",
    "lnwt = 0.5\n",
    "for Q in list_of_Qs:\n",
    "    gamma = ps.omega_0/Q\n",
    "    P = 0.5*F0**2/ps.m * gamma/(gamma**2 + (ps.omega_0**2/omega_array - omega_array)**2)\n",
    "    ax1.plot(omega_array/ps.omega_0, P, 'b', linewidth=lnwt,\n",
    "            label='$Q = {0:.2f}$'.format(Q))  # non-dimensional amplitude\n",
    "    lnwt += 0.5\n",
    "\n",
    "ax1.set_title('$\\omega_0$ kept constant, $\\gamma$ varied.')\n",
    "ax1.set_xlabel('$\\omega/\\omega_0$', fontsize=ftsz) \n",
    "ax1.set_ylabel(r'$\\overline{P}\\,(\\omega)$ [W]', fontsize=ftsz)\n",
    "ax1.legend()\n",
    "ax1.grid()\n",
    "\n",
    "plt.savefig('PowerDHO_Q.png', dpi=100)\n",
    "plt.close()"
   ]
  },
  {
   "cell_type": "markdown",
   "metadata": {
    "scrolled": false,
    "slideshow": {
     "slide_type": "subslide"
    }
   },
   "source": [
    "![Fig. 9: Power curves for driven DHOs with different $Q$](PowerDHO_Q.png)"
   ]
  },
  {
   "cell_type": "markdown",
   "metadata": {
    "slideshow": {
     "slide_type": "skip"
    }
   },
   "source": [
    "Which brings us to a third interpretation of the quality factor $Q$, which is\n",
    "$$ \\boxed{Q = \\frac{\\omega_0}{\\gamma} \\approx \\frac{\\omega_0}{\\omega_{fwhh}} = \\frac{\\textrm{resonance frequency}}{\\textrm{full width at half-height of power curve}}.} $$"
   ]
  },
  {
   "cell_type": "markdown",
   "metadata": {
    "slideshow": {
     "slide_type": "skip"
    }
   },
   "source": [
    "## Applications"
   ]
  },
  {
   "cell_type": "markdown",
   "metadata": {
    "slideshow": {
     "slide_type": "skip"
    }
   },
   "source": [
    "### Spectra of Astrophysical bodies\n",
    "\n",
    "Atoms and molecules resonate at certain frequencies, i.e., those that make their electrons jump levels. Atoms gorge themselves of the EM waves with which they resonate, and absorb so much power that the light of astrophysical bodies carries the signature of these resonances. This is how the chemical composition of the atmosphere of astrophysical bodies gets determined (see figs. 10 and 11)."
   ]
  },
  {
   "cell_type": "markdown",
   "metadata": {
    "slideshow": {
     "slide_type": "slide"
    }
   },
   "source": [
    "![Fig. 10: The visible color spectrum, from 380 nm to 710 nm. The black lines are Fraunhofer lines, and correspond to frequencies that resonate with the molecules, present in the Sun's atmosphere. By Fraunhofer_lines.jpg: nl:Gebruiker:MaureenV Spectrum-sRGB.svg: Phrood Fraunhofer_lines_DE.svg: *Fraunhofer_lines.jpg: Saperaud 19:26, 5. Jul. 2005 derivative work: Cepheiden (talk) derivative work: Cepheiden [Public domain], via Wikimedia Commons](768px-Fraunhofer_lines.png)"
   ]
  },
  {
   "cell_type": "markdown",
   "metadata": {
    "slideshow": {
     "slide_type": "subslide"
    }
   },
   "source": [
    "![Fig. 11: Same as Fig. 1, coded in light intensity. Each dip is like an inverted power resonance curve. By Spectrum of blue sky.png : Remember the dot Derivative work : Eric Bajart (Spectrum of blue sky.png) [CC BY-SA 4.0-3.0-2.5-2.0-1.0 (http://creativecommons.org/licenses/by-sa/4.0-3.0-2.5-2.0-1.0)], via Wikimedia Commons](800px-Spectrum_of_blue_sky.png)"
   ]
  },
  {
   "cell_type": "markdown",
   "metadata": {
    "slideshow": {
     "slide_type": "skip"
    }
   },
   "source": [
    "***\n",
    "\n",
    "**Worked example: King p. 64.**\n",
    "\n",
    "***"
   ]
  },
  {
   "cell_type": "markdown",
   "metadata": {
    "slideshow": {
     "slide_type": "skip"
    }
   },
   "source": [
    "### The LCR Circuit\n",
    "\n",
    "Whenever one wants to amplify a signal at a certain frequency, one wants to create a system with a resonance frequency that matches said frequency. If $Q$ is high enough, then the signal will be amplified by a factor $Q$. Indeed, take eqn. (3). For $Q\\gg 1$, $A_{max} \\approx Q A_f$.\n",
    "One typical example is radio reception, which is realized with an LRC circuit (see next section)."
   ]
  },
  {
   "cell_type": "markdown",
   "metadata": {
    "collapsed": true,
    "slideshow": {
     "slide_type": "slide"
    }
   },
   "source": [
    "Recall that \n",
    "\\begin{align*}\n",
    "    k & \\leftrightarrow 1/C, \\\\\n",
    "    m & \\leftrightarrow L, \\\\\n",
    "    b & \\leftrightarrow R, \\\\\n",
    "    \\omega_0^2 = \\frac km & \\leftrightarrow \\omega_0^2 = \\frac1{LC}, \\\\\n",
    "    \\gamma = \\frac bm & \\leftrightarrow \\gamma = \\frac RL, \\\\\n",
    "    Q = \\frac{\\omega_0}\\gamma = \\frac{\\sqrt{km}}b & \\leftrightarrow Q = \\frac{\\omega_0}\\gamma = \\frac1R\\sqrt{\\frac LC}. \\\\\n",
    "\\end{align*}"
   ]
  },
  {
   "cell_type": "markdown",
   "metadata": {
    "slideshow": {
     "slide_type": "skip"
    }
   },
   "source": [
    "Applying this correspondence to the results we found for the mass+spring system, we have\n",
    "\n",
    "\\begin{align*}\n",
    "    \\ddot x +\\gamma \\dot x + \\omega_0^2 x = \\omega_0^2 A_f\\cos(\\omega t) & \\leftrightarrow \\ddot q + \\gamma \\dot q + \\omega_0^2 q = V_0'\\cos(\\omega t), \\\\\n",
    "    x(t) = \\frac{\\omega^2_0 A_f\\cos(\\omega t)}{\\sqrt{\\gamma^{2} \\omega^{2} + (\\omega_{0}^{2} - \\omega^{2})^2}} & \\leftrightarrow q(t) = \\frac{V_0\\cos(\\omega t)}{L\\sqrt{\\gamma^{2} \\omega^{2} + (\\omega_{0}^{2} - \\omega^{2})^2}}\n",
    "\\end{align*}\n",
    "with $F_0' = F_0/m$ and $V_0' = V_0/L$, $V_0$ being the amplitude of the voltage applied "
   ]
  },
  {
   "cell_type": "markdown",
   "metadata": {
    "slideshow": {
     "slide_type": "skip"
    }
   },
   "source": [
    "For an LRC circuit, we can retrieve the amplified signal by measuring the voltage across the capacitor:\n",
    "$$ V_C = \\frac{q}{C} = \\frac{V_0\\cos(\\omega t)}{LC \\sqrt{\\gamma^{2} \\omega^{2} + (\\omega_{0}^{2} - \\omega^{2})^2}} = \\frac{\\omega_0^2 V_0 \\cos(\\omega t)}{\\sqrt{\\gamma^{2} \\omega^{2} + (\\omega_{0}^{2} - \\omega^{2})^2}} $$ "
   ]
  },
  {
   "cell_type": "markdown",
   "metadata": {
    "slideshow": {
     "slide_type": "skip"
    }
   },
   "source": [
    "At resonance, $\\omega = \\omega_0$, then \n",
    "$$ V_C(\\omega=\\omega_0) = \\frac{\\omega_0^2 V_0 \\cos(\\omega_0 t)}{\\sqrt{\\gamma^{2} \\omega_0^{2}}} = \\frac{\\omega_0 }{\\gamma}V_0 \\cos(\\omega_0 t) = QV_0\\cos(\\omega_0 t). $$"
   ]
  },
  {
   "cell_type": "markdown",
   "metadata": {
    "slideshow": {
     "slide_type": "skip"
    }
   },
   "source": [
    "For a radio signal, the generator is in fact radio waves, passing through the antenna, then being amplified by a factor $Q$ by the LCR circuit.\n",
    "After which I am sure that some additional circuitery amplifies the signal some more."
   ]
  },
  {
   "cell_type": "markdown",
   "metadata": {
    "slideshow": {
     "slide_type": "skip"
    }
   },
   "source": [
    "It is important for a receiver to *not* have a $Q$ as high as possible. \n",
    "A really large $Q$ means more amplification, but also less room for error: having some width means that the amplification will happen even if the receiver is not set perfectly on $\\omega = \\omega_0$."
   ]
  },
  {
   "cell_type": "markdown",
   "metadata": {
    "slideshow": {
     "slide_type": "skip"
    }
   },
   "source": [
    "Perhaps more crucially, radio signals are not perfect sine functions, otherwise, there would be no extra information being carried.\n",
    "The two main radio broadcasting methods are AM (amplitude modulation) and FM (frequency modulation), where a carrier wave, oscillating at $\\omega$, gets its amplitude tweaked (AM) or frequency tweaked (FM). \n",
    "Both methods imply that the frequency constantly shifts, or develops additional frequencies that are close to $\\omega_0$ but not quite.\n",
    "A receiver needs to be able to catch these extra frequencies, and therefore to have some width.\n",
    "Apparently, a typical value for $Q$ is 200.\n",
    "See fig. 12 for an illustration."
   ]
  },
  {
   "cell_type": "markdown",
   "metadata": {
    "raw_mimetype": "text/html",
    "slideshow": {
     "slide_type": "subslide"
    }
   },
   "source": [
    "![Fig. 12: Signal to be carried (top), AM signal (bottom) and FM signal (bottom). By Berserkerus (Own work) [CC BY-SA 2.5 (http://creativecommons.org/licenses/by-sa/2.5)], via Wikimedia Commons](Amfm3-en-de.gif)"
   ]
  }
 ],
 "metadata": {
  "anaconda-cloud": {},
  "celltoolbar": "Slideshow",
  "kernelspec": {
   "display_name": "Python [default]",
   "language": "python",
   "name": "python3"
  },
  "language_info": {
   "codemirror_mode": {
    "name": "ipython",
    "version": 3
   },
   "file_extension": ".py",
   "mimetype": "text/x-python",
   "name": "python",
   "nbconvert_exporter": "python",
   "pygments_lexer": "ipython3",
   "version": "3.5.6"
  }
 },
 "nbformat": 4,
 "nbformat_minor": 1
}
